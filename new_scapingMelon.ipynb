{
 "cells": [
  {
   "cell_type": "code",
   "execution_count": 1,
   "metadata": {},
   "outputs": [],
   "source": [
    "from bs4 import BeautifulSoup\n",
    "from selenium import webdriver\n",
    "import requests\n",
    "\n",
    "import numpy as np\n",
    "import pandas as pd\n",
    "import time\n",
    "import re \n",
    "\n",
    "from IPython.display import Image\n",
    "\n",
    "#Word cloud\n",
    "# from wordcloud import WordCloud\n",
    "import matplotlib.pyplot as plt\n",
    "from PIL import Image # 만약 \"No module named 'PIL'\" 에러가 발생하면 [ pip install Pillow==5.4.1 ] 로 라이브러리를 설치해줍니다.\n",
    "from nltk.corpus import stopwords"
   ]
  },
  {
   "cell_type": "markdown",
   "metadata": {},
   "source": [
    "1-1) SongID 크롤링\n"
   ]
  },
  {
   "cell_type": "code",
   "execution_count": 2,
   "metadata": {},
   "outputs": [],
   "source": [
    "# 노래 고유 번호(song id) 가져오기 \n",
    "def get_songid(chrome_path, gnrcode):\n",
    "    driver = webdriver.Chrome(executable_path=chrome_path) \n",
    "    \n",
    "    # 노래 고유번호\n",
    "    song_id = []\n",
    "    \n",
    "    # url의 startindex 변경 -> Page 변경 (10페이지, 장르당 500곡)\n",
    "    for start_idx in range(1,102,50): # 1,452,50\n",
    "        songlist_url = 'https://www.melon.com/genre/song_list.htm?gnrCode=' + gnrcode \\\n",
    "        + '&dtlGnrCode=#params%5BgnrCode%5D=' + gnrcode \\\n",
    "        + '&params%5BdtlGnrCode%5D=&params%5BorderBy%5D=POP&params%5BsteadyYn%5D=N&po=pageObj' \\\n",
    "        + '&startIndex=' + str(start_idx)\n",
    "\n",
    "        print(songlist_url)\n",
    "\n",
    "        driver.get(songlist_url)\n",
    "        time.sleep(3)\n",
    "        web = driver.page_source\n",
    "        source = BeautifulSoup(web,'html.parser')\n",
    "\n",
    "        # 노래 고유번호인 Songid를 추출\n",
    "        for song_info in source.find_all('div',{'class':'ellipsis rank01'}):\n",
    "            # print('크롤링 중입니다 : ', song_info.find('a')['title'][:-2])\n",
    "            id = song_info.find('a')['href']\n",
    "            id = re.findall(\"\\d+\", id)[-1]  \n",
    "            song_id.append(id)\n",
    "        print('****다음 페이지로 넘어갑니다****')\n",
    "\n",
    "    # 하나의 장르 크롤링 완료\n",
    "    print(\"---------------------------------------------------\")\n",
    "    print(\"장르 랩 크롤링 완료되었습니다\")\n",
    "\n",
    "    driver.close()\n",
    "    driver.quit()\n",
    "    \n",
    "    return song_id"
   ]
  },
  {
   "cell_type": "code",
   "execution_count": 3,
   "metadata": {},
   "outputs": [],
   "source": [
    "def songid_to_info(songlist):\n",
    "    #변수 담을 리스트들 생성\n",
    "    titles = []\n",
    "    artists = []\n",
    "    dates = []\n",
    "    genres = []\n",
    "    lyrics = []\n",
    "\n",
    "    #곡 정보 받아오기\n",
    "    idx=0\n",
    "    for songid in songlist:\n",
    "        url = \"https://www.melon.com/song/detail.htm?songId=\"+ songid\n",
    "        \n",
    "        # print(url)\n",
    "\n",
    "        headers = {'User-Agent':'Mozilla/5.0 (Windows NT 6.3; Win64; x64) AppleWebKit/537.36 (KHTML, like Gecko) Chrome/63.0.3239.132 Safari/537.36'}\n",
    "        web = requests.get(url,headers=headers).content\n",
    "        web_page = BeautifulSoup(web, 'html.parser')\n",
    "        \n",
    "        # print(web_page)\n",
    "\n",
    "        #노래 제목 줄바꿈 제거\n",
    "        title = web_page.find('div',{'class':'song_name'}).get_text().strip().split('\\t')[-1]\n",
    "        if title:\n",
    "            #title = title.split('(')[0].strip() # (feat.) 등 제거\n",
    "            titles.append(title)\n",
    "        else:\n",
    "            titles.append(' ')\n",
    "        \n",
    "        #가수명\n",
    "        artist = web_page.find('a',{'class':'artist_name'})['title']\n",
    "        if artist:\n",
    "            artists.append(artist)\n",
    "        else:\n",
    "            artists.append(' ')\n",
    "            \n",
    "        #곡 발매일, 장르\n",
    "        date_genre = web_page.find('dl',{'class':'list'}).get_text()\n",
    "        if date_genre:\n",
    "            date = date_genre.split('\\n')[4]\n",
    "            genre = date_genre.split('\\n')[6]\n",
    "            dates.append(date)\n",
    "            genres.append(genre)\n",
    "        else:\n",
    "            dates.append(' ')\n",
    "            genres.append(' ')\n",
    "\n",
    "        #가사\n",
    "        try: \n",
    "            lyric = web_page.find('div',{'class':'lyric'}).get_text().strip()\n",
    "            if lyrics:\n",
    "                lyrics.append(lyric)\n",
    "            else:\n",
    "                lyrics.append(' ')\n",
    "        except: # 성인인증이 필요한 경우 스크래핑 불가 -> 가사 생략\n",
    "            print('----{} : 성인인증이 필요한 가사입니다----'.format(title))\n",
    "            lyrics.append(' ')\n",
    "            \n",
    "\n",
    "        idx += 1 #다음곡으로 넘어가기\n",
    "        if idx%100 ==0:\n",
    "            print(idx, '번째곡 크롤링 완료 :', title)\n",
    "\n",
    "    info_dict = {'Title':titles, \n",
    "                 'Artist':artists, \n",
    "                 'Date':dates, \n",
    "                 'Genre':genres, \n",
    "                 'Lyric':lyrics}\n",
    "    print(len(titles), len(artists), len(dates), len(genres), len(lyrics))\n",
    "    df_song_info = pd.DataFrame(info_dict)\n",
    "    return df_song_info"
   ]
  },
  {
   "cell_type": "code",
   "execution_count": 4,
   "metadata": {},
   "outputs": [],
   "source": [
    "# 개인 크롬 path 삽입 \n",
    "chrome_path = '/opt/homebrew/bin/chromedriver'\n",
    "\n",
    "# 맡은 장르 적어주세요 \n",
    "genre_name = '발라드'"
   ]
  },
  {
   "cell_type": "code",
   "execution_count": 5,
   "metadata": {},
   "outputs": [
    {
     "name": "stderr",
     "output_type": "stream",
     "text": [
      "/var/folders/rz/3h16f8bd5s36k1xv36vgkl1m0000gn/T/ipykernel_74049/2719708897.py:3: DeprecationWarning: executable_path has been deprecated, please pass in a Service object\n",
      "  driver = webdriver.Chrome(executable_path=chrome_path)\n"
     ]
    },
    {
     "name": "stdout",
     "output_type": "stream",
     "text": [
      "https://www.melon.com/genre/song_list.htm?gnrCode=GN0100&dtlGnrCode=#params%5BgnrCode%5D=GN0100&params%5BdtlGnrCode%5D=&params%5BorderBy%5D=POP&params%5BsteadyYn%5D=N&po=pageObj&startIndex=1\n",
      "****다음 페이지로 넘어갑니다****\n",
      "https://www.melon.com/genre/song_list.htm?gnrCode=GN0100&dtlGnrCode=#params%5BgnrCode%5D=GN0100&params%5BdtlGnrCode%5D=&params%5BorderBy%5D=POP&params%5BsteadyYn%5D=N&po=pageObj&startIndex=51\n",
      "****다음 페이지로 넘어갑니다****\n",
      "https://www.melon.com/genre/song_list.htm?gnrCode=GN0100&dtlGnrCode=#params%5BgnrCode%5D=GN0100&params%5BdtlGnrCode%5D=&params%5BorderBy%5D=POP&params%5BsteadyYn%5D=N&po=pageObj&startIndex=101\n",
      "****다음 페이지로 넘어갑니다****\n",
      "---------------------------------------------------\n",
      "장르 랩 크롤링 완료되었습니다\n"
     ]
    },
    {
     "ename": "AttributeError",
     "evalue": "'NoneType' object has no attribute 'get_text'",
     "output_type": "error",
     "traceback": [
      "\u001b[0;31m---------------------------------------------------------------------------\u001b[0m",
      "\u001b[0;31mAttributeError\u001b[0m                            Traceback (most recent call last)",
      "\u001b[1;32m/Users/seunguk/Documents/seunguk_test/newscapingMelon.ipynb Cell 6'\u001b[0m in \u001b[0;36m<cell line: 9>\u001b[0;34m()\u001b[0m\n\u001b[1;32m      <a href='vscode-notebook-cell:/Users/seunguk/Documents/seunguk_test/newscapingMelon.ipynb#ch0000005?line=5'>6</a>\u001b[0m song_id \u001b[39m=\u001b[39m get_songid(chrome_path, gnr_info[genre_name])\n\u001b[1;32m      <a href='vscode-notebook-cell:/Users/seunguk/Documents/seunguk_test/newscapingMelon.ipynb#ch0000005?line=7'>8</a>\u001b[0m \u001b[39m# 노래 정보 가져오기 \u001b[39;00m\n\u001b[0;32m----> <a href='vscode-notebook-cell:/Users/seunguk/Documents/seunguk_test/newscapingMelon.ipynb#ch0000005?line=8'>9</a>\u001b[0m df_genre_songid_to_info \u001b[39m=\u001b[39m songid_to_info(song_id)\n",
      "\u001b[1;32m/Users/seunguk/Documents/seunguk_test/newscapingMelon.ipynb Cell 4'\u001b[0m in \u001b[0;36msongid_to_info\u001b[0;34m(songlist)\u001b[0m\n\u001b[1;32m     <a href='vscode-notebook-cell:/Users/seunguk/Documents/seunguk_test/newscapingMelon.ipynb#ch0000003?line=17'>18</a>\u001b[0m web_page \u001b[39m=\u001b[39m BeautifulSoup(web, \u001b[39m'\u001b[39m\u001b[39mhtml.parser\u001b[39m\u001b[39m'\u001b[39m)\n\u001b[1;32m     <a href='vscode-notebook-cell:/Users/seunguk/Documents/seunguk_test/newscapingMelon.ipynb#ch0000003?line=19'>20</a>\u001b[0m \u001b[39m# print(web_page)\u001b[39;00m\n\u001b[1;32m     <a href='vscode-notebook-cell:/Users/seunguk/Documents/seunguk_test/newscapingMelon.ipynb#ch0000003?line=20'>21</a>\u001b[0m \n\u001b[1;32m     <a href='vscode-notebook-cell:/Users/seunguk/Documents/seunguk_test/newscapingMelon.ipynb#ch0000003?line=21'>22</a>\u001b[0m \u001b[39m#노래 제목 줄바꿈 제거\u001b[39;00m\n\u001b[0;32m---> <a href='vscode-notebook-cell:/Users/seunguk/Documents/seunguk_test/newscapingMelon.ipynb#ch0000003?line=22'>23</a>\u001b[0m title \u001b[39m=\u001b[39m web_page\u001b[39m.\u001b[39;49mfind(\u001b[39m'\u001b[39;49m\u001b[39mdiv\u001b[39;49m\u001b[39m'\u001b[39;49m,{\u001b[39m'\u001b[39;49m\u001b[39mclass\u001b[39;49m\u001b[39m'\u001b[39;49m:\u001b[39m'\u001b[39;49m\u001b[39msong_name\u001b[39;49m\u001b[39m'\u001b[39;49m})\u001b[39m.\u001b[39;49mget_text()\u001b[39m.\u001b[39mstrip()\u001b[39m.\u001b[39msplit(\u001b[39m'\u001b[39m\u001b[39m\\t\u001b[39;00m\u001b[39m'\u001b[39m)[\u001b[39m-\u001b[39m\u001b[39m1\u001b[39m]\n\u001b[1;32m     <a href='vscode-notebook-cell:/Users/seunguk/Documents/seunguk_test/newscapingMelon.ipynb#ch0000003?line=23'>24</a>\u001b[0m \u001b[39mif\u001b[39;00m title:\n\u001b[1;32m     <a href='vscode-notebook-cell:/Users/seunguk/Documents/seunguk_test/newscapingMelon.ipynb#ch0000003?line=24'>25</a>\u001b[0m     \u001b[39m#title = title.split('(')[0].strip() # (feat.) 등 제거\u001b[39;00m\n\u001b[1;32m     <a href='vscode-notebook-cell:/Users/seunguk/Documents/seunguk_test/newscapingMelon.ipynb#ch0000003?line=25'>26</a>\u001b[0m     titles\u001b[39m.\u001b[39mappend(title)\n",
      "\u001b[0;31mAttributeError\u001b[0m: 'NoneType' object has no attribute 'get_text'"
     ]
    }
   ],
   "source": [
    "# 장르와 장르 id 매칭 \n",
    "gnr_info = {'발라드':'GN0100', '댄스':'GN0200', '랩/힙합':'GN0300', 'R&B/Soul':'GN0400',\n",
    "           '인디음악':'GN0500', '록/메탈':'GN0600', '트로트':'GN0700','포크/블루스':'GN0800'}\n",
    "\n",
    "# song_id 가져오기 \n",
    "song_id = get_songid(chrome_path, gnr_info[genre_name])\n",
    "\n",
    "# 노래 정보 가져오기 \n",
    "df_genre_songid_to_info = songid_to_info(song_id)\n",
    "\n",
    "# # 엑셀 반환 \n",
    "# filename = \"{0}_500songs.xlsx\".format(genre_name) \n",
    "# df_genre_songid_to_info.to_excel(filename, index=False, encoding='utf-8')"
   ]
  },
  {
   "cell_type": "code",
   "execution_count": null,
   "metadata": {},
   "outputs": [],
   "source": [
    "df_genre_songid_to_info"
   ]
  },
  {
   "cell_type": "code",
   "execution_count": null,
   "metadata": {},
   "outputs": [],
   "source": [
    "df_genre_songid_to_info.Lyric.iloc[1]"
   ]
  },
  {
   "cell_type": "code",
   "execution_count": null,
   "metadata": {},
   "outputs": [],
   "source": [
    "test = \"      안녕하세요 \\t\\t      그런데요\\t\\t 아니요       \"\n",
    "test2 = \"\\t\\t dkdldljdah \\t\\t\""
   ]
  },
  {
   "cell_type": "code",
   "execution_count": null,
   "metadata": {},
   "outputs": [],
   "source": [
    "test.strip()"
   ]
  },
  {
   "cell_type": "code",
   "execution_count": null,
   "metadata": {},
   "outputs": [],
   "source": [
    "test.strip().split('\\t')"
   ]
  },
  {
   "cell_type": "code",
   "execution_count": null,
   "metadata": {},
   "outputs": [],
   "source": [
    "test.strip().split('\\t')[-1]"
   ]
  },
  {
   "cell_type": "code",
   "execution_count": null,
   "metadata": {},
   "outputs": [],
   "source": []
  }
 ],
 "metadata": {
  "interpreter": {
   "hash": "766ec0f0f499bb43cc89274c2b0098b93484f36b6fb087dcfa295499c8fc9698"
  },
  "kernelspec": {
   "display_name": "Python 3.8.13 ('likelion')",
   "language": "python",
   "name": "python3"
  },
  "language_info": {
   "codemirror_mode": {
    "name": "ipython",
    "version": 3
   },
   "file_extension": ".py",
   "mimetype": "text/x-python",
   "name": "python",
   "nbconvert_exporter": "python",
   "pygments_lexer": "ipython3",
   "version": "3.8.13"
  },
  "orig_nbformat": 4
 },
 "nbformat": 4,
 "nbformat_minor": 2
}
