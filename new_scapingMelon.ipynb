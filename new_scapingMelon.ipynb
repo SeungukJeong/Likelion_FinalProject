{
 "cells": [
  {
   "cell_type": "code",
   "execution_count": 1,
   "metadata": {},
   "outputs": [],
   "source": [
    "from bs4 import BeautifulSoup\n",
    "from selenium import webdriver\n",
    "import requests\n",
    "\n",
    "import numpy as np\n",
    "import pandas as pd\n",
    "import time\n",
    "import re \n",
    "\n",
    "from IPython.display import Image\n",
    "\n",
    "#Word cloud\n",
    "# from wordcloud import WordCloud\n",
    "import matplotlib.pyplot as plt\n",
    "from PIL import Image # 만약 \"No module named 'PIL'\" 에러가 발생하면 [ pip install Pillow==5.4.1 ] 로 라이브러리를 설치해줍니다.\n",
    "from nltk.corpus import stopwords"
   ]
  },
  {
   "cell_type": "markdown",
   "metadata": {},
   "source": [
    "하나만 테스트로 뽑아보기"
   ]
  },
  {
   "cell_type": "code",
   "execution_count": 2,
   "metadata": {},
   "outputs": [],
   "source": [
    "songid = 7896508\n",
    "url = \"https://www.melon.com/song/detail.htm?songId=\"+ str(songid)\n",
    "\n",
    "headers = {'User-Agent':'Mozilla/5.0 (Windows NT 6.3; Win64; x64) AppleWebKit/537.36 (KHTML, like Gecko) Chrome/63.0.3239.132 Safari/537.36'}\n",
    "\n",
    "web = requests.get(url,headers=headers).content\n",
    "web_page = BeautifulSoup(web, 'html.parser')"
   ]
  },
  {
   "cell_type": "code",
   "execution_count": 3,
   "metadata": {},
   "outputs": [
    {
     "ename": "AttributeError",
     "evalue": "'NoneType' object has no attribute 'get_text'",
     "output_type": "error",
     "traceback": [
      "\u001b[0;31m---------------------------------------------------------------------------\u001b[0m",
      "\u001b[0;31mAttributeError\u001b[0m                            Traceback (most recent call last)",
      "\u001b[1;32m/Users/seunguk/Documents/seunguk_test/new_scapingMelon.ipynb Cell 4'\u001b[0m in \u001b[0;36m<cell line: 2>\u001b[0;34m()\u001b[0m\n\u001b[1;32m      <a href='vscode-notebook-cell:/Users/seunguk/Documents/seunguk_test/new_scapingMelon.ipynb#ch0000015?line=0'>1</a>\u001b[0m \u001b[39m# 제목\u001b[39;00m\n\u001b[0;32m----> <a href='vscode-notebook-cell:/Users/seunguk/Documents/seunguk_test/new_scapingMelon.ipynb#ch0000015?line=1'>2</a>\u001b[0m title \u001b[39m=\u001b[39m web_page\u001b[39m.\u001b[39;49mfind(\u001b[39m'\u001b[39;49m\u001b[39mdiv\u001b[39;49m\u001b[39m'\u001b[39;49m,{\u001b[39m'\u001b[39;49m\u001b[39mclass\u001b[39;49m\u001b[39m'\u001b[39;49m:\u001b[39m'\u001b[39;49m\u001b[39msong_name\u001b[39;49m\u001b[39m'\u001b[39;49m})\u001b[39m.\u001b[39;49mget_text()\u001b[39m.\u001b[39mstrip() \n\u001b[1;32m      <a href='vscode-notebook-cell:/Users/seunguk/Documents/seunguk_test/new_scapingMelon.ipynb#ch0000015?line=2'>3</a>\u001b[0m title \u001b[39m=\u001b[39m title\u001b[39m.\u001b[39msplit(\u001b[39m'\u001b[39m\u001b[39m\\t\u001b[39;00m\u001b[39m'\u001b[39m)[\u001b[39m-\u001b[39m\u001b[39m1\u001b[39m] \n\u001b[1;32m      <a href='vscode-notebook-cell:/Users/seunguk/Documents/seunguk_test/new_scapingMelon.ipynb#ch0000015?line=3'>4</a>\u001b[0m \u001b[39m# 가수명\u001b[39;00m\n",
      "\u001b[0;31mAttributeError\u001b[0m: 'NoneType' object has no attribute 'get_text'"
     ]
    }
   ],
   "source": [
    "# 제목\n",
    "title = web_page.find('div',{'class':'song_name'}).get_text().strip() \n",
    "title = title.split('\\t')[-1] \n",
    "# 가수명\n",
    "artist = web_page.find('a',{'class':'artist_name'})['title'] \n",
    "# 발매일, 장르\n",
    "date_genre = web_page.find('dl',{'class':'list'}).get_text() \n",
    "date = date_genre.split('\\n')[4] \n",
    "genre = date_genre.split('\\n')[6] \n",
    "#가사\n",
    "lyric = web_page.find('div',{'class':'lyric'}).get_text().strip() \n",
    "# get_text() 제거하면 br태그 같이 나옴\n",
    "lyric_2 = web_page.find('div',{'class':'lyric'}) #.get_text()#.strip() \n",
    "# get_text() 제거하면 br태그 같이 나옴\n",
    "\n",
    "print(title, artist, date, genre)\n",
    "print()\n",
    "print(lyric) \n",
    "print(type(lyric))\n",
    "print()\n",
    "print(lyric_2) \n",
    "print(type(lyric_2))\n"
   ]
  },
  {
   "cell_type": "markdown",
   "metadata": {},
   "source": [
    "1-1) SongID 크롤링\n"
   ]
  },
  {
   "cell_type": "code",
   "execution_count": null,
   "metadata": {},
   "outputs": [],
   "source": [
    "# 노래 고유 번호(song id) 가져오기 \n",
    "def get_songid(chrome_path, gnrcode):\n",
    "    driver = webdriver.Chrome(executable_path=chrome_path) \n",
    "    \n",
    "    # 노래 고유번호\n",
    "    song_id = []\n",
    "    \n",
    "    # url의 startindex 변경 -> Page 변경 (10페이지, 장르당 500곡)\n",
    "    for start_idx in range(1, 452,50): # 1,452,50\n",
    "        songlist_url = 'https://www.melon.com/genre/song_list.htm?gnrCode=' + gnrcode \\\n",
    "        + '&dtlGnrCode=#params%5BgnrCode%5D=' + gnrcode \\\n",
    "        + '&params%5BdtlGnrCode%5D=&params%5BorderBy%5D=POP&params%5BsteadyYn%5D=N&po=pageObj' \\\n",
    "        + '&startIndex=' + str(start_idx)\n",
    "\n",
    "        print(songlist_url)\n",
    "\n",
    "        driver.get(songlist_url)\n",
    "        time.sleep(3)\n",
    "        web = driver.page_source\n",
    "        source = BeautifulSoup(web,'html.parser')\n",
    "\n",
    "        # 노래 고유번호인 Songid를 추출\n",
    "        for song_info in source.find_all('div',{'class':'ellipsis rank01'}):\n",
    "            # print('크롤링 중입니다 : ', song_info.find('a')['title'][:-2])\n",
    "            id = song_info.find('a')['href']\n",
    "            id = re.findall(\"\\d+\", id)[-1]  \n",
    "            song_id.append(id)\n",
    "        print('****다음 페이지로 넘어갑니다****')\n",
    "\n",
    "    # 하나의 장르 크롤링 완료\n",
    "    print(\"---------------------------------------------------\")\n",
    "    print(\"장르 랩 크롤링 완료되었습니다\")\n",
    "\n",
    "    driver.close()\n",
    "    driver.quit()\n",
    "    \n",
    "    return song_id"
   ]
  },
  {
   "cell_type": "code",
   "execution_count": null,
   "metadata": {},
   "outputs": [],
   "source": [
    "def songid_to_info(songlist):\n",
    "    #변수 담을 리스트들 생성\n",
    "    titles = []\n",
    "    artists = []\n",
    "    dates = []\n",
    "    genres = []\n",
    "    lyrics = []\n",
    "    lyrics_ver2 = []\n",
    "    #곡 정보 받아오기\n",
    "    idx=0\n",
    "    for songid in songlist:\n",
    "        url = \"https://www.melon.com/song/detail.htm?songId=\"+ songid\n",
    "        \n",
    "        # print(url)\n",
    "\n",
    "        headers = {'User-Agent':'Mozilla/5.0 (Windows NT 6.3; Win64; x64) AppleWebKit/537.36 (KHTML, like Gecko) Chrome/63.0.3239.132 Safari/537.36'}\n",
    "        web = requests.get(url,headers=headers).content\n",
    "        web_page = BeautifulSoup(web, 'html.parser')\n",
    "        \n",
    "        # print(web_page)\n",
    "\n",
    "        #노래 제목 줄바꿈 제거\n",
    "        title = web_page.find('div',{'class':'song_name'}).get_text().strip().split('\\t')[-1]\n",
    "        if title:\n",
    "            #title = title.split('(')[0].strip() # (feat.) 등 제거\n",
    "            titles.append(title)\n",
    "        else:\n",
    "            titles.append(' ')\n",
    "        \n",
    "        #가수명\n",
    "        artist = web_page.find('a',{'class':'artist_name'})['title']\n",
    "        if artist:\n",
    "            artists.append(artist)\n",
    "        else:\n",
    "            artists.append(' ')\n",
    "            \n",
    "        #곡 발매일, 장르\n",
    "        date_genre = web_page.find('dl',{'class':'list'}).get_text()\n",
    "        if date_genre:\n",
    "            date = date_genre.split('\\n')[4]\n",
    "            genre = date_genre.split('\\n')[6]\n",
    "            dates.append(date)\n",
    "            genres.append(genre)\n",
    "        else:\n",
    "            dates.append(' ')\n",
    "            genres.append(' ')\n",
    "\n",
    "        #가사\n",
    "        try: \n",
    "            lyric = web_page.find('div',{'class':'lyric'}).get_text().strip()\n",
    "            if lyrics:\n",
    "                lyrics.append(lyric)\n",
    "            else:\n",
    "                lyrics.append(' ')\n",
    "        except: # 성인인증이 필요한 경우 스크래핑 불가 -> 가사 생략\n",
    "            print('----{} : 성인인증이 필요한 가사입니다----'.format(title))\n",
    "            lyrics.append(' ')\n",
    "\n",
    "        #가사 ver2\n",
    "        try: \n",
    "            lyric_2 = web_page.find('div',{'class':'lyric'}) #.get_text().strip()\n",
    "            if lyrics_ver2:\n",
    "                lyrics_ver2.append(lyric_2)\n",
    "            else:\n",
    "                lyrics_ver2.append(' ')\n",
    "        except: # 성인인증이 필요한 경우 스크래핑 불가 -> 가사 생략\n",
    "            print('----{} : 성인인증이 필요한 가사입니다----'.format(title))\n",
    "            lyrics_ver2.append(' ')\n",
    "             \n",
    "\n",
    "        idx += 1 #다음곡으로 넘어가기\n",
    "        if idx%100 ==0:\n",
    "            print(idx, '번째곡 크롤링 완료 :', title)\n",
    "\n",
    "    info_dict = {'Title':titles, \n",
    "                 'Artist':artists, \n",
    "                 'Date':dates, \n",
    "                 'Genre':genres, \n",
    "                 'Lyric':lyrics,\n",
    "                 'Lyric_ver2': lyrics_ver2}\n",
    "    print(len(titles), len(artists), len(dates), len(genres), len(lyrics), len(lyrics_ver2))\n",
    "    df_song_info = pd.DataFrame(info_dict)\n",
    "    return df_song_info"
   ]
  },
  {
   "cell_type": "code",
   "execution_count": null,
   "metadata": {},
   "outputs": [],
   "source": [
    "# 개인 크롬 path 삽입 \n",
    "chrome_path = '/opt/homebrew/bin/chromedriver'\n",
    "\n",
    "# 맡은 장르 적어주세요 \n",
    "genre_name = '댄스'"
   ]
  },
  {
   "cell_type": "code",
   "execution_count": null,
   "metadata": {},
   "outputs": [
    {
     "name": "stderr",
     "output_type": "stream",
     "text": [
      "/var/folders/rz/3h16f8bd5s36k1xv36vgkl1m0000gn/T/ipykernel_10179/399682017.py:3: DeprecationWarning: executable_path has been deprecated, please pass in a Service object\n",
      "  driver = webdriver.Chrome(executable_path=chrome_path)\n"
     ]
    },
    {
     "name": "stdout",
     "output_type": "stream",
     "text": [
      "https://www.melon.com/genre/song_list.htm?gnrCode=GN0200&dtlGnrCode=#params%5BgnrCode%5D=GN0200&params%5BdtlGnrCode%5D=&params%5BorderBy%5D=POP&params%5BsteadyYn%5D=N&po=pageObj&startIndex=1\n",
      "****다음 페이지로 넘어갑니다****\n",
      "https://www.melon.com/genre/song_list.htm?gnrCode=GN0200&dtlGnrCode=#params%5BgnrCode%5D=GN0200&params%5BdtlGnrCode%5D=&params%5BorderBy%5D=POP&params%5BsteadyYn%5D=N&po=pageObj&startIndex=51\n",
      "****다음 페이지로 넘어갑니다****\n",
      "https://www.melon.com/genre/song_list.htm?gnrCode=GN0200&dtlGnrCode=#params%5BgnrCode%5D=GN0200&params%5BdtlGnrCode%5D=&params%5BorderBy%5D=POP&params%5BsteadyYn%5D=N&po=pageObj&startIndex=101\n",
      "****다음 페이지로 넘어갑니다****\n",
      "https://www.melon.com/genre/song_list.htm?gnrCode=GN0200&dtlGnrCode=#params%5BgnrCode%5D=GN0200&params%5BdtlGnrCode%5D=&params%5BorderBy%5D=POP&params%5BsteadyYn%5D=N&po=pageObj&startIndex=151\n",
      "****다음 페이지로 넘어갑니다****\n",
      "https://www.melon.com/genre/song_list.htm?gnrCode=GN0200&dtlGnrCode=#params%5BgnrCode%5D=GN0200&params%5BdtlGnrCode%5D=&params%5BorderBy%5D=POP&params%5BsteadyYn%5D=N&po=pageObj&startIndex=201\n",
      "****다음 페이지로 넘어갑니다****\n",
      "https://www.melon.com/genre/song_list.htm?gnrCode=GN0200&dtlGnrCode=#params%5BgnrCode%5D=GN0200&params%5BdtlGnrCode%5D=&params%5BorderBy%5D=POP&params%5BsteadyYn%5D=N&po=pageObj&startIndex=251\n",
      "****다음 페이지로 넘어갑니다****\n",
      "https://www.melon.com/genre/song_list.htm?gnrCode=GN0200&dtlGnrCode=#params%5BgnrCode%5D=GN0200&params%5BdtlGnrCode%5D=&params%5BorderBy%5D=POP&params%5BsteadyYn%5D=N&po=pageObj&startIndex=301\n",
      "****다음 페이지로 넘어갑니다****\n",
      "https://www.melon.com/genre/song_list.htm?gnrCode=GN0200&dtlGnrCode=#params%5BgnrCode%5D=GN0200&params%5BdtlGnrCode%5D=&params%5BorderBy%5D=POP&params%5BsteadyYn%5D=N&po=pageObj&startIndex=351\n",
      "****다음 페이지로 넘어갑니다****\n",
      "https://www.melon.com/genre/song_list.htm?gnrCode=GN0200&dtlGnrCode=#params%5BgnrCode%5D=GN0200&params%5BdtlGnrCode%5D=&params%5BorderBy%5D=POP&params%5BsteadyYn%5D=N&po=pageObj&startIndex=401\n",
      "****다음 페이지로 넘어갑니다****\n",
      "https://www.melon.com/genre/song_list.htm?gnrCode=GN0200&dtlGnrCode=#params%5BgnrCode%5D=GN0200&params%5BdtlGnrCode%5D=&params%5BorderBy%5D=POP&params%5BsteadyYn%5D=N&po=pageObj&startIndex=451\n",
      "****다음 페이지로 넘어갑니다****\n",
      "---------------------------------------------------\n",
      "장르 랩 크롤링 완료되었습니다\n",
      "100 번째곡 크롤링 완료 : ROYAL\n",
      "200 번째곡 크롤링 완료 : YESTERDAY\n",
      "300 번째곡 크롤링 완료 : 귀를 기울이면 (LOVE WHISPER)\n"
     ]
    },
    {
     "ename": "AttributeError",
     "evalue": "'NoneType' object has no attribute 'get_text'",
     "output_type": "error",
     "traceback": [
      "\u001b[0;31m---------------------------------------------------------------------------\u001b[0m",
      "\u001b[0;31mAttributeError\u001b[0m                            Traceback (most recent call last)",
      "\u001b[1;32m/Users/seunguk/Documents/seunguk_test/new_scapingMelon.ipynb Cell 9'\u001b[0m in \u001b[0;36m<cell line: 9>\u001b[0;34m()\u001b[0m\n\u001b[1;32m      <a href='vscode-notebook-cell:/Users/seunguk/Documents/seunguk_test/new_scapingMelon.ipynb#ch0000005?line=5'>6</a>\u001b[0m song_id \u001b[39m=\u001b[39m get_songid(chrome_path, gnr_info[genre_name])\n\u001b[1;32m      <a href='vscode-notebook-cell:/Users/seunguk/Documents/seunguk_test/new_scapingMelon.ipynb#ch0000005?line=7'>8</a>\u001b[0m \u001b[39m# 노래 정보 가져오기 \u001b[39;00m\n\u001b[0;32m----> <a href='vscode-notebook-cell:/Users/seunguk/Documents/seunguk_test/new_scapingMelon.ipynb#ch0000005?line=8'>9</a>\u001b[0m df_genre_songid_to_info \u001b[39m=\u001b[39m songid_to_info(song_id)\n\u001b[1;32m     <a href='vscode-notebook-cell:/Users/seunguk/Documents/seunguk_test/new_scapingMelon.ipynb#ch0000005?line=10'>11</a>\u001b[0m \u001b[39m# 엑셀 반환 \u001b[39;00m\n\u001b[1;32m     <a href='vscode-notebook-cell:/Users/seunguk/Documents/seunguk_test/new_scapingMelon.ipynb#ch0000005?line=11'>12</a>\u001b[0m filename \u001b[39m=\u001b[39m \u001b[39m\"\u001b[39m\u001b[39m{0}\u001b[39;00m\u001b[39m_500songs.xlsx\u001b[39m\u001b[39m\"\u001b[39m\u001b[39m.\u001b[39mformat(genre_name) \n",
      "\u001b[1;32m/Users/seunguk/Documents/seunguk_test/new_scapingMelon.ipynb Cell 7'\u001b[0m in \u001b[0;36msongid_to_info\u001b[0;34m(songlist)\u001b[0m\n\u001b[1;32m     <a href='vscode-notebook-cell:/Users/seunguk/Documents/seunguk_test/new_scapingMelon.ipynb#ch0000003?line=17'>18</a>\u001b[0m web_page \u001b[39m=\u001b[39m BeautifulSoup(web, \u001b[39m'\u001b[39m\u001b[39mhtml.parser\u001b[39m\u001b[39m'\u001b[39m)\n\u001b[1;32m     <a href='vscode-notebook-cell:/Users/seunguk/Documents/seunguk_test/new_scapingMelon.ipynb#ch0000003?line=19'>20</a>\u001b[0m \u001b[39m# print(web_page)\u001b[39;00m\n\u001b[1;32m     <a href='vscode-notebook-cell:/Users/seunguk/Documents/seunguk_test/new_scapingMelon.ipynb#ch0000003?line=20'>21</a>\u001b[0m \n\u001b[1;32m     <a href='vscode-notebook-cell:/Users/seunguk/Documents/seunguk_test/new_scapingMelon.ipynb#ch0000003?line=21'>22</a>\u001b[0m \u001b[39m#노래 제목 줄바꿈 제거\u001b[39;00m\n\u001b[0;32m---> <a href='vscode-notebook-cell:/Users/seunguk/Documents/seunguk_test/new_scapingMelon.ipynb#ch0000003?line=22'>23</a>\u001b[0m title \u001b[39m=\u001b[39m web_page\u001b[39m.\u001b[39;49mfind(\u001b[39m'\u001b[39;49m\u001b[39mdiv\u001b[39;49m\u001b[39m'\u001b[39;49m,{\u001b[39m'\u001b[39;49m\u001b[39mclass\u001b[39;49m\u001b[39m'\u001b[39;49m:\u001b[39m'\u001b[39;49m\u001b[39msong_name\u001b[39;49m\u001b[39m'\u001b[39;49m})\u001b[39m.\u001b[39;49mget_text()\u001b[39m.\u001b[39mstrip()\u001b[39m.\u001b[39msplit(\u001b[39m'\u001b[39m\u001b[39m\\t\u001b[39;00m\u001b[39m'\u001b[39m)[\u001b[39m-\u001b[39m\u001b[39m1\u001b[39m]\n\u001b[1;32m     <a href='vscode-notebook-cell:/Users/seunguk/Documents/seunguk_test/new_scapingMelon.ipynb#ch0000003?line=23'>24</a>\u001b[0m \u001b[39mif\u001b[39;00m title:\n\u001b[1;32m     <a href='vscode-notebook-cell:/Users/seunguk/Documents/seunguk_test/new_scapingMelon.ipynb#ch0000003?line=24'>25</a>\u001b[0m     \u001b[39m#title = title.split('(')[0].strip() # (feat.) 등 제거\u001b[39;00m\n\u001b[1;32m     <a href='vscode-notebook-cell:/Users/seunguk/Documents/seunguk_test/new_scapingMelon.ipynb#ch0000003?line=25'>26</a>\u001b[0m     titles\u001b[39m.\u001b[39mappend(title)\n",
      "\u001b[0;31mAttributeError\u001b[0m: 'NoneType' object has no attribute 'get_text'"
     ]
    }
   ],
   "source": [
    "# 장르와 장르 id 매칭 \n",
    "gnr_info = {'발라드':'GN0100', '댄스':'GN0200', '랩/힙합':'GN0300', 'R&B/Soul':'GN0400',\n",
    "           '인디음악':'GN0500', '록/메탈':'GN0600', '트로트':'GN0700','포크/블루스':'GN0800'}\n",
    "\n",
    "# song_id 가져오기 \n",
    "song_id = get_songid(chrome_path, gnr_info[genre_name])\n",
    "\n",
    "# 노래 정보 가져오기 \n",
    "df_genre_songid_to_info = songid_to_info(song_id)\n",
    "\n",
    "# 엑셀 반환 \n",
    "filename = \"{0}_500songs.xlsx\".format(genre_name) \n",
    "df_genre_songid_to_info.to_excel(filename, index=False, encoding='utf-8')"
   ]
  },
  {
   "cell_type": "code",
   "execution_count": null,
   "metadata": {},
   "outputs": [
    {
     "ename": "NameError",
     "evalue": "name 'df_genre_songid_to_info' is not defined",
     "output_type": "error",
     "traceback": [
      "\u001b[0;31m---------------------------------------------------------------------------\u001b[0m",
      "\u001b[0;31mNameError\u001b[0m                                 Traceback (most recent call last)",
      "\u001b[1;32m/Users/seunguk/Documents/seunguk_test/new_scapingMelon.ipynb Cell 10'\u001b[0m in \u001b[0;36m<cell line: 1>\u001b[0;34m()\u001b[0m\n\u001b[0;32m----> <a href='vscode-notebook-cell:/Users/seunguk/Documents/seunguk_test/new_scapingMelon.ipynb#ch0000006?line=0'>1</a>\u001b[0m df_genre_songid_to_info\n",
      "\u001b[0;31mNameError\u001b[0m: name 'df_genre_songid_to_info' is not defined"
     ]
    }
   ],
   "source": [
    "df_genre_songid_to_info"
   ]
  },
  {
   "cell_type": "code",
   "execution_count": null,
   "metadata": {},
   "outputs": [
    {
     "data": {
      "text/plain": [
       "'우리 다시 만날래예쁘게 빛나던모든 추억들이너무 그리워너의 품에 안길래이 밤이 새도록네게 말할 거야너를 좋아한다고안녕 그대야요즘 어떻게 지내가로수길 걷다가생각이 나서행복해 보이는 사람들 속에우리 둘만 없어서어색했었어늘 집에 갈 땐항상 뒤돌아보면날 보며 웃어주던네가 생각났어우리 다시 만날래예쁘게 빛나던모든 추억들이너무 그리워너의 품에 안길래이 밤이 새도록네게 말할 거야너를 좋아한다고토요일마다 가던한강공원에이어폰 하나씩나눠끼고서벚꽃엔딩같이 듣고 있으면부러울 게 없었어너만 있으면널 사랑할 때내가 너무 그리워날 보며 웃어주던네가 보고 싶어우리 다시 만날래예쁘게 빛나던모든 추억들이너무 그리워너의 품에 안길래이 밤이 새도록네게 말할 거야너를 좋아한다고같이 별 보러 갈래널 다시 만나면네 옆에 기대서잠들고 싶어너의 품에 안길래이 밤이 새도록내 곁에 있어줘내겐 너뿐이라고'"
      ]
     },
     "execution_count": 9,
     "metadata": {},
     "output_type": "execute_result"
    }
   ],
   "source": [
    "df_genre_songid_to_info.Lyric.iloc[1]"
   ]
  },
  {
   "cell_type": "code",
   "execution_count": null,
   "metadata": {},
   "outputs": [
    {
     "data": {
      "text/plain": [
       "<div class=\"lyric\" id=\"d_video_summary\"><!-- height:auto; 로 변경시, 확장됨 -->\n",
       "\t\t\t\t\t\t\t우리 다시 만날래<br/>예쁘게 빛나던<br/>모든 추억들이<br/>너무 그리워<br/>너의 품에 안길래<br/>이 밤이 새도록<br/>네게 말할 거야<br/>너를 좋아한다고<br/>안녕 그대야<br/>요즘 어떻게 지내<br/>가로수길 걷다가<br/>생각이 나서<br/>행복해 보이는 사람들 속에<br/>우리 둘만 없어서<br/>어색했었어<br/>늘 집에 갈 땐<br/>항상 뒤돌아보면<br/>날 보며 웃어주던<br/>네가 생각났어<br/>우리 다시 만날래<br/>예쁘게 빛나던<br/>모든 추억들이<br/>너무 그리워<br/>너의 품에 안길래<br/>이 밤이 새도록<br/>네게 말할 거야<br/>너를 좋아한다고<br/>토요일마다 가던<br/>한강공원에<br/>이어폰 하나씩<br/>나눠끼고서<br/>벚꽃엔딩같이 듣고 있으면<br/>부러울 게 없었어<br/>너만 있으면<br/>널 사랑할 때<br/>내가 너무 그리워<br/>날 보며 웃어주던<br/>네가 보고 싶어<br/>우리 다시 만날래<br/>예쁘게 빛나던<br/>모든 추억들이<br/>너무 그리워<br/>너의 품에 안길래<br/>이 밤이 새도록<br/>네게 말할 거야<br/>너를 좋아한다고<br/>같이 별 보러 갈래<br/>널 다시 만나면<br/>네 옆에 기대서<br/>잠들고 싶어<br/>너의 품에 안길래<br/>이 밤이 새도록<br/>내 곁에 있어줘<br/>내겐 너뿐이라고<br/>\n",
       "</div>"
      ]
     },
     "execution_count": 10,
     "metadata": {},
     "output_type": "execute_result"
    }
   ],
   "source": [
    "df_genre_songid_to_info.Lyric_ver2.iloc[1]"
   ]
  },
  {
   "cell_type": "code",
   "execution_count": null,
   "metadata": {},
   "outputs": [],
   "source": [
    "test = \"      안녕하세요 \\t\\t      그런데요\\t\\t 아니요       \"\n",
    "test2 = \"\\t\\t dkdldljdah \\t\\t\""
   ]
  },
  {
   "cell_type": "code",
   "execution_count": null,
   "metadata": {},
   "outputs": [
    {
     "data": {
      "text/plain": [
       "'안녕하세요 \\t\\t      그런데요\\t\\t 아니요'"
      ]
     },
     "execution_count": 12,
     "metadata": {},
     "output_type": "execute_result"
    }
   ],
   "source": [
    "test.strip()"
   ]
  },
  {
   "cell_type": "code",
   "execution_count": null,
   "metadata": {},
   "outputs": [
    {
     "data": {
      "text/plain": [
       "['안녕하세요 ', '', '      그런데요', '', ' 아니요']"
      ]
     },
     "execution_count": 13,
     "metadata": {},
     "output_type": "execute_result"
    }
   ],
   "source": [
    "test.strip().split('\\t')"
   ]
  },
  {
   "cell_type": "code",
   "execution_count": null,
   "metadata": {},
   "outputs": [
    {
     "data": {
      "text/plain": [
       "' 아니요'"
      ]
     },
     "execution_count": 14,
     "metadata": {},
     "output_type": "execute_result"
    }
   ],
   "source": [
    "test.strip().split('\\t')[-1]"
   ]
  },
  {
   "cell_type": "code",
   "execution_count": null,
   "metadata": {},
   "outputs": [],
   "source": []
  }
 ],
 "metadata": {
  "interpreter": {
   "hash": "766ec0f0f499bb43cc89274c2b0098b93484f36b6fb087dcfa295499c8fc9698"
  },
  "kernelspec": {
   "display_name": "Python 3.8.13 ('likelion')",
   "language": "python",
   "name": "python3"
  },
  "language_info": {
   "codemirror_mode": {
    "name": "ipython",
    "version": 3
   },
   "file_extension": ".py",
   "mimetype": "text/x-python",
   "name": "python",
   "nbconvert_exporter": "python",
   "pygments_lexer": "ipython3",
   "version": "3.8.13"
  },
  "orig_nbformat": 4
 },
 "nbformat": 4,
 "nbformat_minor": 2
}
