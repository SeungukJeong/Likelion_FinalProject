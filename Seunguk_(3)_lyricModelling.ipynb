{
  "nbformat": 4,
  "nbformat_minor": 0,
  "metadata": {
    "colab": {
      "name": "Seunguk_(3)_lyricModelling.ipynb",
      "provenance": [],
      "collapsed_sections": [],
      "mount_file_id": "1jCp4ul4t1aM0jmbl4X6kauP7yt8HBIu8",
      "authorship_tag": "ABX9TyM8cIQqGRNY1forT1QBRaws",
      "include_colab_link": true
    },
    "kernelspec": {
      "name": "python3",
      "display_name": "Python 3"
    },
    "language_info": {
      "name": "python"
    },
    "accelerator": "TPU",
    "widgets": {
      "application/vnd.jupyter.widget-state+json": {
        "9b3daa7213904e5283fd449f6ad269f7": {
          "model_module": "@jupyter-widgets/controls",
          "model_name": "HBoxModel",
          "model_module_version": "1.5.0",
          "state": {
            "_dom_classes": [],
            "_model_module": "@jupyter-widgets/controls",
            "_model_module_version": "1.5.0",
            "_model_name": "HBoxModel",
            "_view_count": null,
            "_view_module": "@jupyter-widgets/controls",
            "_view_module_version": "1.5.0",
            "_view_name": "HBoxView",
            "box_style": "",
            "children": [
              "IPY_MODEL_167ea28cb41e43258ff749c4c7b7f1ce",
              "IPY_MODEL_9c7ccfa1276d445d8e70524fdca34018",
              "IPY_MODEL_7bc906fde2954ffca1c3b4b2d8fb680e"
            ],
            "layout": "IPY_MODEL_ea45fa8c21514b998b87c7d2e8dd25ef"
          }
        },
        "167ea28cb41e43258ff749c4c7b7f1ce": {
          "model_module": "@jupyter-widgets/controls",
          "model_name": "HTMLModel",
          "model_module_version": "1.5.0",
          "state": {
            "_dom_classes": [],
            "_model_module": "@jupyter-widgets/controls",
            "_model_module_version": "1.5.0",
            "_model_name": "HTMLModel",
            "_view_count": null,
            "_view_module": "@jupyter-widgets/controls",
            "_view_module_version": "1.5.0",
            "_view_name": "HTMLView",
            "description": "",
            "description_tooltip": null,
            "layout": "IPY_MODEL_463504cb7de244b18c84ad3342199b06",
            "placeholder": "​",
            "style": "IPY_MODEL_371c02739fa1447a9866188c5af43b4c",
            "value": "Downloading: 100%"
          }
        },
        "9c7ccfa1276d445d8e70524fdca34018": {
          "model_module": "@jupyter-widgets/controls",
          "model_name": "FloatProgressModel",
          "model_module_version": "1.5.0",
          "state": {
            "_dom_classes": [],
            "_model_module": "@jupyter-widgets/controls",
            "_model_module_version": "1.5.0",
            "_model_name": "FloatProgressModel",
            "_view_count": null,
            "_view_module": "@jupyter-widgets/controls",
            "_view_module_version": "1.5.0",
            "_view_name": "ProgressView",
            "bar_style": "success",
            "description": "",
            "description_tooltip": null,
            "layout": "IPY_MODEL_e26c1b771e7746d9980e4dafe8bcaf18",
            "max": 371391,
            "min": 0,
            "orientation": "horizontal",
            "style": "IPY_MODEL_483b138c5af74991825a7b98b5b556f9",
            "value": 371391
          }
        },
        "7bc906fde2954ffca1c3b4b2d8fb680e": {
          "model_module": "@jupyter-widgets/controls",
          "model_name": "HTMLModel",
          "model_module_version": "1.5.0",
          "state": {
            "_dom_classes": [],
            "_model_module": "@jupyter-widgets/controls",
            "_model_module_version": "1.5.0",
            "_model_name": "HTMLModel",
            "_view_count": null,
            "_view_module": "@jupyter-widgets/controls",
            "_view_module_version": "1.5.0",
            "_view_name": "HTMLView",
            "description": "",
            "description_tooltip": null,
            "layout": "IPY_MODEL_42afc0dd73124be9b0327f1d801af727",
            "placeholder": "​",
            "style": "IPY_MODEL_ec54a62ee47d473c91d2288056615f68",
            "value": " 371k/371k [00:00&lt;00:00, 1.33MB/s]"
          }
        },
        "ea45fa8c21514b998b87c7d2e8dd25ef": {
          "model_module": "@jupyter-widgets/base",
          "model_name": "LayoutModel",
          "model_module_version": "1.2.0",
          "state": {
            "_model_module": "@jupyter-widgets/base",
            "_model_module_version": "1.2.0",
            "_model_name": "LayoutModel",
            "_view_count": null,
            "_view_module": "@jupyter-widgets/base",
            "_view_module_version": "1.2.0",
            "_view_name": "LayoutView",
            "align_content": null,
            "align_items": null,
            "align_self": null,
            "border": null,
            "bottom": null,
            "display": null,
            "flex": null,
            "flex_flow": null,
            "grid_area": null,
            "grid_auto_columns": null,
            "grid_auto_flow": null,
            "grid_auto_rows": null,
            "grid_column": null,
            "grid_gap": null,
            "grid_row": null,
            "grid_template_areas": null,
            "grid_template_columns": null,
            "grid_template_rows": null,
            "height": null,
            "justify_content": null,
            "justify_items": null,
            "left": null,
            "margin": null,
            "max_height": null,
            "max_width": null,
            "min_height": null,
            "min_width": null,
            "object_fit": null,
            "object_position": null,
            "order": null,
            "overflow": null,
            "overflow_x": null,
            "overflow_y": null,
            "padding": null,
            "right": null,
            "top": null,
            "visibility": null,
            "width": null
          }
        },
        "463504cb7de244b18c84ad3342199b06": {
          "model_module": "@jupyter-widgets/base",
          "model_name": "LayoutModel",
          "model_module_version": "1.2.0",
          "state": {
            "_model_module": "@jupyter-widgets/base",
            "_model_module_version": "1.2.0",
            "_model_name": "LayoutModel",
            "_view_count": null,
            "_view_module": "@jupyter-widgets/base",
            "_view_module_version": "1.2.0",
            "_view_name": "LayoutView",
            "align_content": null,
            "align_items": null,
            "align_self": null,
            "border": null,
            "bottom": null,
            "display": null,
            "flex": null,
            "flex_flow": null,
            "grid_area": null,
            "grid_auto_columns": null,
            "grid_auto_flow": null,
            "grid_auto_rows": null,
            "grid_column": null,
            "grid_gap": null,
            "grid_row": null,
            "grid_template_areas": null,
            "grid_template_columns": null,
            "grid_template_rows": null,
            "height": null,
            "justify_content": null,
            "justify_items": null,
            "left": null,
            "margin": null,
            "max_height": null,
            "max_width": null,
            "min_height": null,
            "min_width": null,
            "object_fit": null,
            "object_position": null,
            "order": null,
            "overflow": null,
            "overflow_x": null,
            "overflow_y": null,
            "padding": null,
            "right": null,
            "top": null,
            "visibility": null,
            "width": null
          }
        },
        "371c02739fa1447a9866188c5af43b4c": {
          "model_module": "@jupyter-widgets/controls",
          "model_name": "DescriptionStyleModel",
          "model_module_version": "1.5.0",
          "state": {
            "_model_module": "@jupyter-widgets/controls",
            "_model_module_version": "1.5.0",
            "_model_name": "DescriptionStyleModel",
            "_view_count": null,
            "_view_module": "@jupyter-widgets/base",
            "_view_module_version": "1.2.0",
            "_view_name": "StyleView",
            "description_width": ""
          }
        },
        "e26c1b771e7746d9980e4dafe8bcaf18": {
          "model_module": "@jupyter-widgets/base",
          "model_name": "LayoutModel",
          "model_module_version": "1.2.0",
          "state": {
            "_model_module": "@jupyter-widgets/base",
            "_model_module_version": "1.2.0",
            "_model_name": "LayoutModel",
            "_view_count": null,
            "_view_module": "@jupyter-widgets/base",
            "_view_module_version": "1.2.0",
            "_view_name": "LayoutView",
            "align_content": null,
            "align_items": null,
            "align_self": null,
            "border": null,
            "bottom": null,
            "display": null,
            "flex": null,
            "flex_flow": null,
            "grid_area": null,
            "grid_auto_columns": null,
            "grid_auto_flow": null,
            "grid_auto_rows": null,
            "grid_column": null,
            "grid_gap": null,
            "grid_row": null,
            "grid_template_areas": null,
            "grid_template_columns": null,
            "grid_template_rows": null,
            "height": null,
            "justify_content": null,
            "justify_items": null,
            "left": null,
            "margin": null,
            "max_height": null,
            "max_width": null,
            "min_height": null,
            "min_width": null,
            "object_fit": null,
            "object_position": null,
            "order": null,
            "overflow": null,
            "overflow_x": null,
            "overflow_y": null,
            "padding": null,
            "right": null,
            "top": null,
            "visibility": null,
            "width": null
          }
        },
        "483b138c5af74991825a7b98b5b556f9": {
          "model_module": "@jupyter-widgets/controls",
          "model_name": "ProgressStyleModel",
          "model_module_version": "1.5.0",
          "state": {
            "_model_module": "@jupyter-widgets/controls",
            "_model_module_version": "1.5.0",
            "_model_name": "ProgressStyleModel",
            "_view_count": null,
            "_view_module": "@jupyter-widgets/base",
            "_view_module_version": "1.2.0",
            "_view_name": "StyleView",
            "bar_color": null,
            "description_width": ""
          }
        },
        "42afc0dd73124be9b0327f1d801af727": {
          "model_module": "@jupyter-widgets/base",
          "model_name": "LayoutModel",
          "model_module_version": "1.2.0",
          "state": {
            "_model_module": "@jupyter-widgets/base",
            "_model_module_version": "1.2.0",
            "_model_name": "LayoutModel",
            "_view_count": null,
            "_view_module": "@jupyter-widgets/base",
            "_view_module_version": "1.2.0",
            "_view_name": "LayoutView",
            "align_content": null,
            "align_items": null,
            "align_self": null,
            "border": null,
            "bottom": null,
            "display": null,
            "flex": null,
            "flex_flow": null,
            "grid_area": null,
            "grid_auto_columns": null,
            "grid_auto_flow": null,
            "grid_auto_rows": null,
            "grid_column": null,
            "grid_gap": null,
            "grid_row": null,
            "grid_template_areas": null,
            "grid_template_columns": null,
            "grid_template_rows": null,
            "height": null,
            "justify_content": null,
            "justify_items": null,
            "left": null,
            "margin": null,
            "max_height": null,
            "max_width": null,
            "min_height": null,
            "min_width": null,
            "object_fit": null,
            "object_position": null,
            "order": null,
            "overflow": null,
            "overflow_x": null,
            "overflow_y": null,
            "padding": null,
            "right": null,
            "top": null,
            "visibility": null,
            "width": null
          }
        },
        "ec54a62ee47d473c91d2288056615f68": {
          "model_module": "@jupyter-widgets/controls",
          "model_name": "DescriptionStyleModel",
          "model_module_version": "1.5.0",
          "state": {
            "_model_module": "@jupyter-widgets/controls",
            "_model_module_version": "1.5.0",
            "_model_name": "DescriptionStyleModel",
            "_view_count": null,
            "_view_module": "@jupyter-widgets/base",
            "_view_module_version": "1.2.0",
            "_view_name": "StyleView",
            "description_width": ""
          }
        },
        "a9f53008418641c786163fa0cebd1677": {
          "model_module": "@jupyter-widgets/controls",
          "model_name": "HBoxModel",
          "model_module_version": "1.5.0",
          "state": {
            "_dom_classes": [],
            "_model_module": "@jupyter-widgets/controls",
            "_model_module_version": "1.5.0",
            "_model_name": "HBoxModel",
            "_view_count": null,
            "_view_module": "@jupyter-widgets/controls",
            "_view_module_version": "1.5.0",
            "_view_name": "HBoxView",
            "box_style": "",
            "children": [
              "IPY_MODEL_4ff28f6c5f7649fd9e8ea9b39fef093c",
              "IPY_MODEL_6643b3100d0847f3acc78bb22b9e4b24",
              "IPY_MODEL_05b6707a5468469caf59f81dc4730c46"
            ],
            "layout": "IPY_MODEL_0248e9dbb3084bae9fb03fc301cd2a32"
          }
        },
        "4ff28f6c5f7649fd9e8ea9b39fef093c": {
          "model_module": "@jupyter-widgets/controls",
          "model_name": "HTMLModel",
          "model_module_version": "1.5.0",
          "state": {
            "_dom_classes": [],
            "_model_module": "@jupyter-widgets/controls",
            "_model_module_version": "1.5.0",
            "_model_name": "HTMLModel",
            "_view_count": null,
            "_view_module": "@jupyter-widgets/controls",
            "_view_module_version": "1.5.0",
            "_view_name": "HTMLView",
            "description": "",
            "description_tooltip": null,
            "layout": "IPY_MODEL_9e8583f7f6b64bf09bb6342db49fbf74",
            "placeholder": "​",
            "style": "IPY_MODEL_f58f06804d174ca9b3a2198c916d830d",
            "value": "Downloading: 100%"
          }
        },
        "6643b3100d0847f3acc78bb22b9e4b24": {
          "model_module": "@jupyter-widgets/controls",
          "model_name": "FloatProgressModel",
          "model_module_version": "1.5.0",
          "state": {
            "_dom_classes": [],
            "_model_module": "@jupyter-widgets/controls",
            "_model_module_version": "1.5.0",
            "_model_name": "FloatProgressModel",
            "_view_count": null,
            "_view_module": "@jupyter-widgets/controls",
            "_view_module_version": "1.5.0",
            "_view_name": "ProgressView",
            "bar_style": "success",
            "description": "",
            "description_tooltip": null,
            "layout": "IPY_MODEL_d064691db78f4edcbfcd61445d3d26d8",
            "max": 77779,
            "min": 0,
            "orientation": "horizontal",
            "style": "IPY_MODEL_0f4907a2cd7e4d8b95c5fd8e3ef85276",
            "value": 77779
          }
        },
        "05b6707a5468469caf59f81dc4730c46": {
          "model_module": "@jupyter-widgets/controls",
          "model_name": "HTMLModel",
          "model_module_version": "1.5.0",
          "state": {
            "_dom_classes": [],
            "_model_module": "@jupyter-widgets/controls",
            "_model_module_version": "1.5.0",
            "_model_name": "HTMLModel",
            "_view_count": null,
            "_view_module": "@jupyter-widgets/controls",
            "_view_module_version": "1.5.0",
            "_view_name": "HTMLView",
            "description": "",
            "description_tooltip": null,
            "layout": "IPY_MODEL_a013a0c9bdd64700a570a1d9d2c64ede",
            "placeholder": "​",
            "style": "IPY_MODEL_922646892a8e4734907b67a8b800440b",
            "value": " 77.8k/77.8k [00:00&lt;00:00, 1.32MB/s]"
          }
        },
        "0248e9dbb3084bae9fb03fc301cd2a32": {
          "model_module": "@jupyter-widgets/base",
          "model_name": "LayoutModel",
          "model_module_version": "1.2.0",
          "state": {
            "_model_module": "@jupyter-widgets/base",
            "_model_module_version": "1.2.0",
            "_model_name": "LayoutModel",
            "_view_count": null,
            "_view_module": "@jupyter-widgets/base",
            "_view_module_version": "1.2.0",
            "_view_name": "LayoutView",
            "align_content": null,
            "align_items": null,
            "align_self": null,
            "border": null,
            "bottom": null,
            "display": null,
            "flex": null,
            "flex_flow": null,
            "grid_area": null,
            "grid_auto_columns": null,
            "grid_auto_flow": null,
            "grid_auto_rows": null,
            "grid_column": null,
            "grid_gap": null,
            "grid_row": null,
            "grid_template_areas": null,
            "grid_template_columns": null,
            "grid_template_rows": null,
            "height": null,
            "justify_content": null,
            "justify_items": null,
            "left": null,
            "margin": null,
            "max_height": null,
            "max_width": null,
            "min_height": null,
            "min_width": null,
            "object_fit": null,
            "object_position": null,
            "order": null,
            "overflow": null,
            "overflow_x": null,
            "overflow_y": null,
            "padding": null,
            "right": null,
            "top": null,
            "visibility": null,
            "width": null
          }
        },
        "9e8583f7f6b64bf09bb6342db49fbf74": {
          "model_module": "@jupyter-widgets/base",
          "model_name": "LayoutModel",
          "model_module_version": "1.2.0",
          "state": {
            "_model_module": "@jupyter-widgets/base",
            "_model_module_version": "1.2.0",
            "_model_name": "LayoutModel",
            "_view_count": null,
            "_view_module": "@jupyter-widgets/base",
            "_view_module_version": "1.2.0",
            "_view_name": "LayoutView",
            "align_content": null,
            "align_items": null,
            "align_self": null,
            "border": null,
            "bottom": null,
            "display": null,
            "flex": null,
            "flex_flow": null,
            "grid_area": null,
            "grid_auto_columns": null,
            "grid_auto_flow": null,
            "grid_auto_rows": null,
            "grid_column": null,
            "grid_gap": null,
            "grid_row": null,
            "grid_template_areas": null,
            "grid_template_columns": null,
            "grid_template_rows": null,
            "height": null,
            "justify_content": null,
            "justify_items": null,
            "left": null,
            "margin": null,
            "max_height": null,
            "max_width": null,
            "min_height": null,
            "min_width": null,
            "object_fit": null,
            "object_position": null,
            "order": null,
            "overflow": null,
            "overflow_x": null,
            "overflow_y": null,
            "padding": null,
            "right": null,
            "top": null,
            "visibility": null,
            "width": null
          }
        },
        "f58f06804d174ca9b3a2198c916d830d": {
          "model_module": "@jupyter-widgets/controls",
          "model_name": "DescriptionStyleModel",
          "model_module_version": "1.5.0",
          "state": {
            "_model_module": "@jupyter-widgets/controls",
            "_model_module_version": "1.5.0",
            "_model_name": "DescriptionStyleModel",
            "_view_count": null,
            "_view_module": "@jupyter-widgets/base",
            "_view_module_version": "1.2.0",
            "_view_name": "StyleView",
            "description_width": ""
          }
        },
        "d064691db78f4edcbfcd61445d3d26d8": {
          "model_module": "@jupyter-widgets/base",
          "model_name": "LayoutModel",
          "model_module_version": "1.2.0",
          "state": {
            "_model_module": "@jupyter-widgets/base",
            "_model_module_version": "1.2.0",
            "_model_name": "LayoutModel",
            "_view_count": null,
            "_view_module": "@jupyter-widgets/base",
            "_view_module_version": "1.2.0",
            "_view_name": "LayoutView",
            "align_content": null,
            "align_items": null,
            "align_self": null,
            "border": null,
            "bottom": null,
            "display": null,
            "flex": null,
            "flex_flow": null,
            "grid_area": null,
            "grid_auto_columns": null,
            "grid_auto_flow": null,
            "grid_auto_rows": null,
            "grid_column": null,
            "grid_gap": null,
            "grid_row": null,
            "grid_template_areas": null,
            "grid_template_columns": null,
            "grid_template_rows": null,
            "height": null,
            "justify_content": null,
            "justify_items": null,
            "left": null,
            "margin": null,
            "max_height": null,
            "max_width": null,
            "min_height": null,
            "min_width": null,
            "object_fit": null,
            "object_position": null,
            "order": null,
            "overflow": null,
            "overflow_x": null,
            "overflow_y": null,
            "padding": null,
            "right": null,
            "top": null,
            "visibility": null,
            "width": null
          }
        },
        "0f4907a2cd7e4d8b95c5fd8e3ef85276": {
          "model_module": "@jupyter-widgets/controls",
          "model_name": "ProgressStyleModel",
          "model_module_version": "1.5.0",
          "state": {
            "_model_module": "@jupyter-widgets/controls",
            "_model_module_version": "1.5.0",
            "_model_name": "ProgressStyleModel",
            "_view_count": null,
            "_view_module": "@jupyter-widgets/base",
            "_view_module_version": "1.2.0",
            "_view_name": "StyleView",
            "bar_color": null,
            "description_width": ""
          }
        },
        "a013a0c9bdd64700a570a1d9d2c64ede": {
          "model_module": "@jupyter-widgets/base",
          "model_name": "LayoutModel",
          "model_module_version": "1.2.0",
          "state": {
            "_model_module": "@jupyter-widgets/base",
            "_model_module_version": "1.2.0",
            "_model_name": "LayoutModel",
            "_view_count": null,
            "_view_module": "@jupyter-widgets/base",
            "_view_module_version": "1.2.0",
            "_view_name": "LayoutView",
            "align_content": null,
            "align_items": null,
            "align_self": null,
            "border": null,
            "bottom": null,
            "display": null,
            "flex": null,
            "flex_flow": null,
            "grid_area": null,
            "grid_auto_columns": null,
            "grid_auto_flow": null,
            "grid_auto_rows": null,
            "grid_column": null,
            "grid_gap": null,
            "grid_row": null,
            "grid_template_areas": null,
            "grid_template_columns": null,
            "grid_template_rows": null,
            "height": null,
            "justify_content": null,
            "justify_items": null,
            "left": null,
            "margin": null,
            "max_height": null,
            "max_width": null,
            "min_height": null,
            "min_width": null,
            "object_fit": null,
            "object_position": null,
            "order": null,
            "overflow": null,
            "overflow_x": null,
            "overflow_y": null,
            "padding": null,
            "right": null,
            "top": null,
            "visibility": null,
            "width": null
          }
        },
        "922646892a8e4734907b67a8b800440b": {
          "model_module": "@jupyter-widgets/controls",
          "model_name": "DescriptionStyleModel",
          "model_module_version": "1.5.0",
          "state": {
            "_model_module": "@jupyter-widgets/controls",
            "_model_module_version": "1.5.0",
            "_model_name": "DescriptionStyleModel",
            "_view_count": null,
            "_view_module": "@jupyter-widgets/base",
            "_view_module_version": "1.2.0",
            "_view_name": "StyleView",
            "description_width": ""
          }
        },
        "6ef24d7eb7074b6e9fb5c3fe2f77f51e": {
          "model_module": "@jupyter-widgets/controls",
          "model_name": "HBoxModel",
          "model_module_version": "1.5.0",
          "state": {
            "_dom_classes": [],
            "_model_module": "@jupyter-widgets/controls",
            "_model_module_version": "1.5.0",
            "_model_name": "HBoxModel",
            "_view_count": null,
            "_view_module": "@jupyter-widgets/controls",
            "_view_module_version": "1.5.0",
            "_view_name": "HBoxView",
            "box_style": "",
            "children": [
              "IPY_MODEL_d0176ff9f0334066886a22624a7e7ca4",
              "IPY_MODEL_fd36ab14a1d24b429b463dc687c45801",
              "IPY_MODEL_68271fa0f9d348f096a8a735a0026378"
            ],
            "layout": "IPY_MODEL_f0ffd4ae6f714575978aaf62470ceece"
          }
        },
        "d0176ff9f0334066886a22624a7e7ca4": {
          "model_module": "@jupyter-widgets/controls",
          "model_name": "HTMLModel",
          "model_module_version": "1.5.0",
          "state": {
            "_dom_classes": [],
            "_model_module": "@jupyter-widgets/controls",
            "_model_module_version": "1.5.0",
            "_model_name": "HTMLModel",
            "_view_count": null,
            "_view_module": "@jupyter-widgets/controls",
            "_view_module_version": "1.5.0",
            "_view_name": "HTMLView",
            "description": "",
            "description_tooltip": null,
            "layout": "IPY_MODEL_4648a3ba09bf4d6dbeeebbba44862ada",
            "placeholder": "​",
            "style": "IPY_MODEL_d6519cd1459d49bdaf98ad298b3f70a1",
            "value": "Downloading: 100%"
          }
        },
        "fd36ab14a1d24b429b463dc687c45801": {
          "model_module": "@jupyter-widgets/controls",
          "model_name": "FloatProgressModel",
          "model_module_version": "1.5.0",
          "state": {
            "_dom_classes": [],
            "_model_module": "@jupyter-widgets/controls",
            "_model_module_version": "1.5.0",
            "_model_name": "FloatProgressModel",
            "_view_count": null,
            "_view_module": "@jupyter-widgets/controls",
            "_view_module_version": "1.5.0",
            "_view_name": "ProgressView",
            "bar_style": "success",
            "description": "",
            "description_tooltip": null,
            "layout": "IPY_MODEL_90fc89a35f4e4088aac094623dbd7d2f",
            "max": 51,
            "min": 0,
            "orientation": "horizontal",
            "style": "IPY_MODEL_ceb905e963d0481698f4c6cbd05cfba8",
            "value": 51
          }
        },
        "68271fa0f9d348f096a8a735a0026378": {
          "model_module": "@jupyter-widgets/controls",
          "model_name": "HTMLModel",
          "model_module_version": "1.5.0",
          "state": {
            "_dom_classes": [],
            "_model_module": "@jupyter-widgets/controls",
            "_model_module_version": "1.5.0",
            "_model_name": "HTMLModel",
            "_view_count": null,
            "_view_module": "@jupyter-widgets/controls",
            "_view_module_version": "1.5.0",
            "_view_name": "HTMLView",
            "description": "",
            "description_tooltip": null,
            "layout": "IPY_MODEL_61dee55cc3a64d86aaa5468b99f63e5f",
            "placeholder": "​",
            "style": "IPY_MODEL_87f38e4eb3a94ed1a330ff5bfd9a0bc3",
            "value": " 51.0/51.0 [00:00&lt;00:00, 862B/s]"
          }
        },
        "f0ffd4ae6f714575978aaf62470ceece": {
          "model_module": "@jupyter-widgets/base",
          "model_name": "LayoutModel",
          "model_module_version": "1.2.0",
          "state": {
            "_model_module": "@jupyter-widgets/base",
            "_model_module_version": "1.2.0",
            "_model_name": "LayoutModel",
            "_view_count": null,
            "_view_module": "@jupyter-widgets/base",
            "_view_module_version": "1.2.0",
            "_view_name": "LayoutView",
            "align_content": null,
            "align_items": null,
            "align_self": null,
            "border": null,
            "bottom": null,
            "display": null,
            "flex": null,
            "flex_flow": null,
            "grid_area": null,
            "grid_auto_columns": null,
            "grid_auto_flow": null,
            "grid_auto_rows": null,
            "grid_column": null,
            "grid_gap": null,
            "grid_row": null,
            "grid_template_areas": null,
            "grid_template_columns": null,
            "grid_template_rows": null,
            "height": null,
            "justify_content": null,
            "justify_items": null,
            "left": null,
            "margin": null,
            "max_height": null,
            "max_width": null,
            "min_height": null,
            "min_width": null,
            "object_fit": null,
            "object_position": null,
            "order": null,
            "overflow": null,
            "overflow_x": null,
            "overflow_y": null,
            "padding": null,
            "right": null,
            "top": null,
            "visibility": null,
            "width": null
          }
        },
        "4648a3ba09bf4d6dbeeebbba44862ada": {
          "model_module": "@jupyter-widgets/base",
          "model_name": "LayoutModel",
          "model_module_version": "1.2.0",
          "state": {
            "_model_module": "@jupyter-widgets/base",
            "_model_module_version": "1.2.0",
            "_model_name": "LayoutModel",
            "_view_count": null,
            "_view_module": "@jupyter-widgets/base",
            "_view_module_version": "1.2.0",
            "_view_name": "LayoutView",
            "align_content": null,
            "align_items": null,
            "align_self": null,
            "border": null,
            "bottom": null,
            "display": null,
            "flex": null,
            "flex_flow": null,
            "grid_area": null,
            "grid_auto_columns": null,
            "grid_auto_flow": null,
            "grid_auto_rows": null,
            "grid_column": null,
            "grid_gap": null,
            "grid_row": null,
            "grid_template_areas": null,
            "grid_template_columns": null,
            "grid_template_rows": null,
            "height": null,
            "justify_content": null,
            "justify_items": null,
            "left": null,
            "margin": null,
            "max_height": null,
            "max_width": null,
            "min_height": null,
            "min_width": null,
            "object_fit": null,
            "object_position": null,
            "order": null,
            "overflow": null,
            "overflow_x": null,
            "overflow_y": null,
            "padding": null,
            "right": null,
            "top": null,
            "visibility": null,
            "width": null
          }
        },
        "d6519cd1459d49bdaf98ad298b3f70a1": {
          "model_module": "@jupyter-widgets/controls",
          "model_name": "DescriptionStyleModel",
          "model_module_version": "1.5.0",
          "state": {
            "_model_module": "@jupyter-widgets/controls",
            "_model_module_version": "1.5.0",
            "_model_name": "DescriptionStyleModel",
            "_view_count": null,
            "_view_module": "@jupyter-widgets/base",
            "_view_module_version": "1.2.0",
            "_view_name": "StyleView",
            "description_width": ""
          }
        },
        "90fc89a35f4e4088aac094623dbd7d2f": {
          "model_module": "@jupyter-widgets/base",
          "model_name": "LayoutModel",
          "model_module_version": "1.2.0",
          "state": {
            "_model_module": "@jupyter-widgets/base",
            "_model_module_version": "1.2.0",
            "_model_name": "LayoutModel",
            "_view_count": null,
            "_view_module": "@jupyter-widgets/base",
            "_view_module_version": "1.2.0",
            "_view_name": "LayoutView",
            "align_content": null,
            "align_items": null,
            "align_self": null,
            "border": null,
            "bottom": null,
            "display": null,
            "flex": null,
            "flex_flow": null,
            "grid_area": null,
            "grid_auto_columns": null,
            "grid_auto_flow": null,
            "grid_auto_rows": null,
            "grid_column": null,
            "grid_gap": null,
            "grid_row": null,
            "grid_template_areas": null,
            "grid_template_columns": null,
            "grid_template_rows": null,
            "height": null,
            "justify_content": null,
            "justify_items": null,
            "left": null,
            "margin": null,
            "max_height": null,
            "max_width": null,
            "min_height": null,
            "min_width": null,
            "object_fit": null,
            "object_position": null,
            "order": null,
            "overflow": null,
            "overflow_x": null,
            "overflow_y": null,
            "padding": null,
            "right": null,
            "top": null,
            "visibility": null,
            "width": null
          }
        },
        "ceb905e963d0481698f4c6cbd05cfba8": {
          "model_module": "@jupyter-widgets/controls",
          "model_name": "ProgressStyleModel",
          "model_module_version": "1.5.0",
          "state": {
            "_model_module": "@jupyter-widgets/controls",
            "_model_module_version": "1.5.0",
            "_model_name": "ProgressStyleModel",
            "_view_count": null,
            "_view_module": "@jupyter-widgets/base",
            "_view_module_version": "1.2.0",
            "_view_name": "StyleView",
            "bar_color": null,
            "description_width": ""
          }
        },
        "61dee55cc3a64d86aaa5468b99f63e5f": {
          "model_module": "@jupyter-widgets/base",
          "model_name": "LayoutModel",
          "model_module_version": "1.2.0",
          "state": {
            "_model_module": "@jupyter-widgets/base",
            "_model_module_version": "1.2.0",
            "_model_name": "LayoutModel",
            "_view_count": null,
            "_view_module": "@jupyter-widgets/base",
            "_view_module_version": "1.2.0",
            "_view_name": "LayoutView",
            "align_content": null,
            "align_items": null,
            "align_self": null,
            "border": null,
            "bottom": null,
            "display": null,
            "flex": null,
            "flex_flow": null,
            "grid_area": null,
            "grid_auto_columns": null,
            "grid_auto_flow": null,
            "grid_auto_rows": null,
            "grid_column": null,
            "grid_gap": null,
            "grid_row": null,
            "grid_template_areas": null,
            "grid_template_columns": null,
            "grid_template_rows": null,
            "height": null,
            "justify_content": null,
            "justify_items": null,
            "left": null,
            "margin": null,
            "max_height": null,
            "max_width": null,
            "min_height": null,
            "min_width": null,
            "object_fit": null,
            "object_position": null,
            "order": null,
            "overflow": null,
            "overflow_x": null,
            "overflow_y": null,
            "padding": null,
            "right": null,
            "top": null,
            "visibility": null,
            "width": null
          }
        },
        "87f38e4eb3a94ed1a330ff5bfd9a0bc3": {
          "model_module": "@jupyter-widgets/controls",
          "model_name": "DescriptionStyleModel",
          "model_module_version": "1.5.0",
          "state": {
            "_model_module": "@jupyter-widgets/controls",
            "_model_module_version": "1.5.0",
            "_model_name": "DescriptionStyleModel",
            "_view_count": null,
            "_view_module": "@jupyter-widgets/base",
            "_view_module_version": "1.2.0",
            "_view_name": "StyleView",
            "description_width": ""
          }
        },
        "55c75cebfbc7496a882deb417a5015aa": {
          "model_module": "@jupyter-widgets/controls",
          "model_name": "HBoxModel",
          "model_module_version": "1.5.0",
          "state": {
            "_dom_classes": [],
            "_model_module": "@jupyter-widgets/controls",
            "_model_module_version": "1.5.0",
            "_model_name": "HBoxModel",
            "_view_count": null,
            "_view_module": "@jupyter-widgets/controls",
            "_view_module_version": "1.5.0",
            "_view_name": "HBoxView",
            "box_style": "",
            "children": [
              "IPY_MODEL_e8c4fa1591694a75b9cfbc6bcb877a11",
              "IPY_MODEL_ccbf696c05704d6ca553cce04bc49d30",
              "IPY_MODEL_167acf1decf74c4a860975c579622011"
            ],
            "layout": "IPY_MODEL_ab2ebcf7a5a84955b3c4791d31025f2b"
          }
        },
        "e8c4fa1591694a75b9cfbc6bcb877a11": {
          "model_module": "@jupyter-widgets/controls",
          "model_name": "HTMLModel",
          "model_module_version": "1.5.0",
          "state": {
            "_dom_classes": [],
            "_model_module": "@jupyter-widgets/controls",
            "_model_module_version": "1.5.0",
            "_model_name": "HTMLModel",
            "_view_count": null,
            "_view_module": "@jupyter-widgets/controls",
            "_view_module_version": "1.5.0",
            "_view_name": "HTMLView",
            "description": "",
            "description_tooltip": null,
            "layout": "IPY_MODEL_1406904164dc40c488af7eb89d3aa881",
            "placeholder": "​",
            "style": "IPY_MODEL_2d01a9c09d9149a0adbd135c053811d6",
            "value": "Downloading: 100%"
          }
        },
        "ccbf696c05704d6ca553cce04bc49d30": {
          "model_module": "@jupyter-widgets/controls",
          "model_name": "FloatProgressModel",
          "model_module_version": "1.5.0",
          "state": {
            "_dom_classes": [],
            "_model_module": "@jupyter-widgets/controls",
            "_model_module_version": "1.5.0",
            "_model_name": "FloatProgressModel",
            "_view_count": null,
            "_view_module": "@jupyter-widgets/controls",
            "_view_module_version": "1.5.0",
            "_view_name": "ProgressView",
            "bar_style": "success",
            "description": "",
            "description_tooltip": null,
            "layout": "IPY_MODEL_4a3c1ae8515f4e31aa1359715228910b",
            "max": 426,
            "min": 0,
            "orientation": "horizontal",
            "style": "IPY_MODEL_7085bd184ef84eec88b62e42ea7f798b",
            "value": 426
          }
        },
        "167acf1decf74c4a860975c579622011": {
          "model_module": "@jupyter-widgets/controls",
          "model_name": "HTMLModel",
          "model_module_version": "1.5.0",
          "state": {
            "_dom_classes": [],
            "_model_module": "@jupyter-widgets/controls",
            "_model_module_version": "1.5.0",
            "_model_name": "HTMLModel",
            "_view_count": null,
            "_view_module": "@jupyter-widgets/controls",
            "_view_module_version": "1.5.0",
            "_view_name": "HTMLView",
            "description": "",
            "description_tooltip": null,
            "layout": "IPY_MODEL_c1e91dd65b354b5fab6f410b95f4f165",
            "placeholder": "​",
            "style": "IPY_MODEL_c5958e251f074034b6793cb44e8e6700",
            "value": " 426/426 [00:00&lt;00:00, 10.9kB/s]"
          }
        },
        "ab2ebcf7a5a84955b3c4791d31025f2b": {
          "model_module": "@jupyter-widgets/base",
          "model_name": "LayoutModel",
          "model_module_version": "1.2.0",
          "state": {
            "_model_module": "@jupyter-widgets/base",
            "_model_module_version": "1.2.0",
            "_model_name": "LayoutModel",
            "_view_count": null,
            "_view_module": "@jupyter-widgets/base",
            "_view_module_version": "1.2.0",
            "_view_name": "LayoutView",
            "align_content": null,
            "align_items": null,
            "align_self": null,
            "border": null,
            "bottom": null,
            "display": null,
            "flex": null,
            "flex_flow": null,
            "grid_area": null,
            "grid_auto_columns": null,
            "grid_auto_flow": null,
            "grid_auto_rows": null,
            "grid_column": null,
            "grid_gap": null,
            "grid_row": null,
            "grid_template_areas": null,
            "grid_template_columns": null,
            "grid_template_rows": null,
            "height": null,
            "justify_content": null,
            "justify_items": null,
            "left": null,
            "margin": null,
            "max_height": null,
            "max_width": null,
            "min_height": null,
            "min_width": null,
            "object_fit": null,
            "object_position": null,
            "order": null,
            "overflow": null,
            "overflow_x": null,
            "overflow_y": null,
            "padding": null,
            "right": null,
            "top": null,
            "visibility": null,
            "width": null
          }
        },
        "1406904164dc40c488af7eb89d3aa881": {
          "model_module": "@jupyter-widgets/base",
          "model_name": "LayoutModel",
          "model_module_version": "1.2.0",
          "state": {
            "_model_module": "@jupyter-widgets/base",
            "_model_module_version": "1.2.0",
            "_model_name": "LayoutModel",
            "_view_count": null,
            "_view_module": "@jupyter-widgets/base",
            "_view_module_version": "1.2.0",
            "_view_name": "LayoutView",
            "align_content": null,
            "align_items": null,
            "align_self": null,
            "border": null,
            "bottom": null,
            "display": null,
            "flex": null,
            "flex_flow": null,
            "grid_area": null,
            "grid_auto_columns": null,
            "grid_auto_flow": null,
            "grid_auto_rows": null,
            "grid_column": null,
            "grid_gap": null,
            "grid_row": null,
            "grid_template_areas": null,
            "grid_template_columns": null,
            "grid_template_rows": null,
            "height": null,
            "justify_content": null,
            "justify_items": null,
            "left": null,
            "margin": null,
            "max_height": null,
            "max_width": null,
            "min_height": null,
            "min_width": null,
            "object_fit": null,
            "object_position": null,
            "order": null,
            "overflow": null,
            "overflow_x": null,
            "overflow_y": null,
            "padding": null,
            "right": null,
            "top": null,
            "visibility": null,
            "width": null
          }
        },
        "2d01a9c09d9149a0adbd135c053811d6": {
          "model_module": "@jupyter-widgets/controls",
          "model_name": "DescriptionStyleModel",
          "model_module_version": "1.5.0",
          "state": {
            "_model_module": "@jupyter-widgets/controls",
            "_model_module_version": "1.5.0",
            "_model_name": "DescriptionStyleModel",
            "_view_count": null,
            "_view_module": "@jupyter-widgets/base",
            "_view_module_version": "1.2.0",
            "_view_name": "StyleView",
            "description_width": ""
          }
        },
        "4a3c1ae8515f4e31aa1359715228910b": {
          "model_module": "@jupyter-widgets/base",
          "model_name": "LayoutModel",
          "model_module_version": "1.2.0",
          "state": {
            "_model_module": "@jupyter-widgets/base",
            "_model_module_version": "1.2.0",
            "_model_name": "LayoutModel",
            "_view_count": null,
            "_view_module": "@jupyter-widgets/base",
            "_view_module_version": "1.2.0",
            "_view_name": "LayoutView",
            "align_content": null,
            "align_items": null,
            "align_self": null,
            "border": null,
            "bottom": null,
            "display": null,
            "flex": null,
            "flex_flow": null,
            "grid_area": null,
            "grid_auto_columns": null,
            "grid_auto_flow": null,
            "grid_auto_rows": null,
            "grid_column": null,
            "grid_gap": null,
            "grid_row": null,
            "grid_template_areas": null,
            "grid_template_columns": null,
            "grid_template_rows": null,
            "height": null,
            "justify_content": null,
            "justify_items": null,
            "left": null,
            "margin": null,
            "max_height": null,
            "max_width": null,
            "min_height": null,
            "min_width": null,
            "object_fit": null,
            "object_position": null,
            "order": null,
            "overflow": null,
            "overflow_x": null,
            "overflow_y": null,
            "padding": null,
            "right": null,
            "top": null,
            "visibility": null,
            "width": null
          }
        },
        "7085bd184ef84eec88b62e42ea7f798b": {
          "model_module": "@jupyter-widgets/controls",
          "model_name": "ProgressStyleModel",
          "model_module_version": "1.5.0",
          "state": {
            "_model_module": "@jupyter-widgets/controls",
            "_model_module_version": "1.5.0",
            "_model_name": "ProgressStyleModel",
            "_view_count": null,
            "_view_module": "@jupyter-widgets/base",
            "_view_module_version": "1.2.0",
            "_view_name": "StyleView",
            "bar_color": null,
            "description_width": ""
          }
        },
        "c1e91dd65b354b5fab6f410b95f4f165": {
          "model_module": "@jupyter-widgets/base",
          "model_name": "LayoutModel",
          "model_module_version": "1.2.0",
          "state": {
            "_model_module": "@jupyter-widgets/base",
            "_model_module_version": "1.2.0",
            "_model_name": "LayoutModel",
            "_view_count": null,
            "_view_module": "@jupyter-widgets/base",
            "_view_module_version": "1.2.0",
            "_view_name": "LayoutView",
            "align_content": null,
            "align_items": null,
            "align_self": null,
            "border": null,
            "bottom": null,
            "display": null,
            "flex": null,
            "flex_flow": null,
            "grid_area": null,
            "grid_auto_columns": null,
            "grid_auto_flow": null,
            "grid_auto_rows": null,
            "grid_column": null,
            "grid_gap": null,
            "grid_row": null,
            "grid_template_areas": null,
            "grid_template_columns": null,
            "grid_template_rows": null,
            "height": null,
            "justify_content": null,
            "justify_items": null,
            "left": null,
            "margin": null,
            "max_height": null,
            "max_width": null,
            "min_height": null,
            "min_width": null,
            "object_fit": null,
            "object_position": null,
            "order": null,
            "overflow": null,
            "overflow_x": null,
            "overflow_y": null,
            "padding": null,
            "right": null,
            "top": null,
            "visibility": null,
            "width": null
          }
        },
        "c5958e251f074034b6793cb44e8e6700": {
          "model_module": "@jupyter-widgets/controls",
          "model_name": "DescriptionStyleModel",
          "model_module_version": "1.5.0",
          "state": {
            "_model_module": "@jupyter-widgets/controls",
            "_model_module_version": "1.5.0",
            "_model_name": "DescriptionStyleModel",
            "_view_count": null,
            "_view_module": "@jupyter-widgets/base",
            "_view_module_version": "1.2.0",
            "_view_name": "StyleView",
            "description_width": ""
          }
        },
        "61e0f426d2a8471e9b41ed112aecebaf": {
          "model_module": "@jupyter-widgets/controls",
          "model_name": "HBoxModel",
          "model_module_version": "1.5.0",
          "state": {
            "_dom_classes": [],
            "_model_module": "@jupyter-widgets/controls",
            "_model_module_version": "1.5.0",
            "_model_name": "HBoxModel",
            "_view_count": null,
            "_view_module": "@jupyter-widgets/controls",
            "_view_module_version": "1.5.0",
            "_view_name": "HBoxView",
            "box_style": "",
            "children": [
              "IPY_MODEL_c6d8a5f636944676bc34cb0e7142f127",
              "IPY_MODEL_300ffa5d1f9142fda1ccc1b11f88424b",
              "IPY_MODEL_930f8861463b45a3b3b6e58f6d212cbb"
            ],
            "layout": "IPY_MODEL_f7122ccb0b41410b8b2299680d181f37"
          }
        },
        "c6d8a5f636944676bc34cb0e7142f127": {
          "model_module": "@jupyter-widgets/controls",
          "model_name": "HTMLModel",
          "model_module_version": "1.5.0",
          "state": {
            "_dom_classes": [],
            "_model_module": "@jupyter-widgets/controls",
            "_model_module_version": "1.5.0",
            "_model_name": "HTMLModel",
            "_view_count": null,
            "_view_module": "@jupyter-widgets/controls",
            "_view_module_version": "1.5.0",
            "_view_name": "HTMLView",
            "description": "",
            "description_tooltip": null,
            "layout": "IPY_MODEL_6cfc9965ddef4d468bf79c79a5582a25",
            "placeholder": "​",
            "style": "IPY_MODEL_9945bcc3d86e461ab2cc04af7208a710",
            "value": "Downloading: 100%"
          }
        },
        "300ffa5d1f9142fda1ccc1b11f88424b": {
          "model_module": "@jupyter-widgets/controls",
          "model_name": "FloatProgressModel",
          "model_module_version": "1.5.0",
          "state": {
            "_dom_classes": [],
            "_model_module": "@jupyter-widgets/controls",
            "_model_module_version": "1.5.0",
            "_model_name": "FloatProgressModel",
            "_view_count": null,
            "_view_module": "@jupyter-widgets/controls",
            "_view_module_version": "1.5.0",
            "_view_name": "ProgressView",
            "bar_style": "success",
            "description": "",
            "description_tooltip": null,
            "layout": "IPY_MODEL_b66ac5cad9294f7584793a3100f51987",
            "max": 368792146,
            "min": 0,
            "orientation": "horizontal",
            "style": "IPY_MODEL_131486cd97144fbaa6e9527b945bc338",
            "value": 368792146
          }
        },
        "930f8861463b45a3b3b6e58f6d212cbb": {
          "model_module": "@jupyter-widgets/controls",
          "model_name": "HTMLModel",
          "model_module_version": "1.5.0",
          "state": {
            "_dom_classes": [],
            "_model_module": "@jupyter-widgets/controls",
            "_model_module_version": "1.5.0",
            "_model_name": "HTMLModel",
            "_view_count": null,
            "_view_module": "@jupyter-widgets/controls",
            "_view_module_version": "1.5.0",
            "_view_name": "HTMLView",
            "description": "",
            "description_tooltip": null,
            "layout": "IPY_MODEL_e0591379ba18432a93f51106623d118e",
            "placeholder": "​",
            "style": "IPY_MODEL_b5611fd799fd4e5fa98b281ecc4d0609",
            "value": " 369M/369M [00:07&lt;00:00, 54.0MB/s]"
          }
        },
        "f7122ccb0b41410b8b2299680d181f37": {
          "model_module": "@jupyter-widgets/base",
          "model_name": "LayoutModel",
          "model_module_version": "1.2.0",
          "state": {
            "_model_module": "@jupyter-widgets/base",
            "_model_module_version": "1.2.0",
            "_model_name": "LayoutModel",
            "_view_count": null,
            "_view_module": "@jupyter-widgets/base",
            "_view_module_version": "1.2.0",
            "_view_name": "LayoutView",
            "align_content": null,
            "align_items": null,
            "align_self": null,
            "border": null,
            "bottom": null,
            "display": null,
            "flex": null,
            "flex_flow": null,
            "grid_area": null,
            "grid_auto_columns": null,
            "grid_auto_flow": null,
            "grid_auto_rows": null,
            "grid_column": null,
            "grid_gap": null,
            "grid_row": null,
            "grid_template_areas": null,
            "grid_template_columns": null,
            "grid_template_rows": null,
            "height": null,
            "justify_content": null,
            "justify_items": null,
            "left": null,
            "margin": null,
            "max_height": null,
            "max_width": null,
            "min_height": null,
            "min_width": null,
            "object_fit": null,
            "object_position": null,
            "order": null,
            "overflow": null,
            "overflow_x": null,
            "overflow_y": null,
            "padding": null,
            "right": null,
            "top": null,
            "visibility": null,
            "width": null
          }
        },
        "6cfc9965ddef4d468bf79c79a5582a25": {
          "model_module": "@jupyter-widgets/base",
          "model_name": "LayoutModel",
          "model_module_version": "1.2.0",
          "state": {
            "_model_module": "@jupyter-widgets/base",
            "_model_module_version": "1.2.0",
            "_model_name": "LayoutModel",
            "_view_count": null,
            "_view_module": "@jupyter-widgets/base",
            "_view_module_version": "1.2.0",
            "_view_name": "LayoutView",
            "align_content": null,
            "align_items": null,
            "align_self": null,
            "border": null,
            "bottom": null,
            "display": null,
            "flex": null,
            "flex_flow": null,
            "grid_area": null,
            "grid_auto_columns": null,
            "grid_auto_flow": null,
            "grid_auto_rows": null,
            "grid_column": null,
            "grid_gap": null,
            "grid_row": null,
            "grid_template_areas": null,
            "grid_template_columns": null,
            "grid_template_rows": null,
            "height": null,
            "justify_content": null,
            "justify_items": null,
            "left": null,
            "margin": null,
            "max_height": null,
            "max_width": null,
            "min_height": null,
            "min_width": null,
            "object_fit": null,
            "object_position": null,
            "order": null,
            "overflow": null,
            "overflow_x": null,
            "overflow_y": null,
            "padding": null,
            "right": null,
            "top": null,
            "visibility": null,
            "width": null
          }
        },
        "9945bcc3d86e461ab2cc04af7208a710": {
          "model_module": "@jupyter-widgets/controls",
          "model_name": "DescriptionStyleModel",
          "model_module_version": "1.5.0",
          "state": {
            "_model_module": "@jupyter-widgets/controls",
            "_model_module_version": "1.5.0",
            "_model_name": "DescriptionStyleModel",
            "_view_count": null,
            "_view_module": "@jupyter-widgets/base",
            "_view_module_version": "1.2.0",
            "_view_name": "StyleView",
            "description_width": ""
          }
        },
        "b66ac5cad9294f7584793a3100f51987": {
          "model_module": "@jupyter-widgets/base",
          "model_name": "LayoutModel",
          "model_module_version": "1.2.0",
          "state": {
            "_model_module": "@jupyter-widgets/base",
            "_model_module_version": "1.2.0",
            "_model_name": "LayoutModel",
            "_view_count": null,
            "_view_module": "@jupyter-widgets/base",
            "_view_module_version": "1.2.0",
            "_view_name": "LayoutView",
            "align_content": null,
            "align_items": null,
            "align_self": null,
            "border": null,
            "bottom": null,
            "display": null,
            "flex": null,
            "flex_flow": null,
            "grid_area": null,
            "grid_auto_columns": null,
            "grid_auto_flow": null,
            "grid_auto_rows": null,
            "grid_column": null,
            "grid_gap": null,
            "grid_row": null,
            "grid_template_areas": null,
            "grid_template_columns": null,
            "grid_template_rows": null,
            "height": null,
            "justify_content": null,
            "justify_items": null,
            "left": null,
            "margin": null,
            "max_height": null,
            "max_width": null,
            "min_height": null,
            "min_width": null,
            "object_fit": null,
            "object_position": null,
            "order": null,
            "overflow": null,
            "overflow_x": null,
            "overflow_y": null,
            "padding": null,
            "right": null,
            "top": null,
            "visibility": null,
            "width": null
          }
        },
        "131486cd97144fbaa6e9527b945bc338": {
          "model_module": "@jupyter-widgets/controls",
          "model_name": "ProgressStyleModel",
          "model_module_version": "1.5.0",
          "state": {
            "_model_module": "@jupyter-widgets/controls",
            "_model_module_version": "1.5.0",
            "_model_name": "ProgressStyleModel",
            "_view_count": null,
            "_view_module": "@jupyter-widgets/base",
            "_view_module_version": "1.2.0",
            "_view_name": "StyleView",
            "bar_color": null,
            "description_width": ""
          }
        },
        "e0591379ba18432a93f51106623d118e": {
          "model_module": "@jupyter-widgets/base",
          "model_name": "LayoutModel",
          "model_module_version": "1.2.0",
          "state": {
            "_model_module": "@jupyter-widgets/base",
            "_model_module_version": "1.2.0",
            "_model_name": "LayoutModel",
            "_view_count": null,
            "_view_module": "@jupyter-widgets/base",
            "_view_module_version": "1.2.0",
            "_view_name": "LayoutView",
            "align_content": null,
            "align_items": null,
            "align_self": null,
            "border": null,
            "bottom": null,
            "display": null,
            "flex": null,
            "flex_flow": null,
            "grid_area": null,
            "grid_auto_columns": null,
            "grid_auto_flow": null,
            "grid_auto_rows": null,
            "grid_column": null,
            "grid_gap": null,
            "grid_row": null,
            "grid_template_areas": null,
            "grid_template_columns": null,
            "grid_template_rows": null,
            "height": null,
            "justify_content": null,
            "justify_items": null,
            "left": null,
            "margin": null,
            "max_height": null,
            "max_width": null,
            "min_height": null,
            "min_width": null,
            "object_fit": null,
            "object_position": null,
            "order": null,
            "overflow": null,
            "overflow_x": null,
            "overflow_y": null,
            "padding": null,
            "right": null,
            "top": null,
            "visibility": null,
            "width": null
          }
        },
        "b5611fd799fd4e5fa98b281ecc4d0609": {
          "model_module": "@jupyter-widgets/controls",
          "model_name": "DescriptionStyleModel",
          "model_module_version": "1.5.0",
          "state": {
            "_model_module": "@jupyter-widgets/controls",
            "_model_module_version": "1.5.0",
            "_model_name": "DescriptionStyleModel",
            "_view_count": null,
            "_view_module": "@jupyter-widgets/base",
            "_view_module_version": "1.2.0",
            "_view_name": "StyleView",
            "description_width": ""
          }
        }
      }
    }
  },
  "cells": [
    {
      "cell_type": "markdown",
      "metadata": {
        "id": "view-in-github",
        "colab_type": "text"
      },
      "source": [
        "<a href=\"https://colab.research.google.com/github/sihyeon3523/Six_of_cells/blob/modeling/Seunguk_(3)_lyricModelling.ipynb\" target=\"_parent\"><img src=\"https://colab.research.google.com/assets/colab-badge.svg\" alt=\"Open In Colab\"/></a>"
      ]
    },
    {
      "cell_type": "markdown",
      "source": [
        "<br>\n",
        "<br>\n",
        "\n",
        "# 0. Install & import libraries "
      ],
      "metadata": {
        "id": "gX_jZ07Dynfm"
      }
    },
    {
      "cell_type": "code",
      "source": [
        "from IPython.display import clear_output \n",
        "\n",
        "!pip install transformers==4.8.2\n",
        "!pip install sentencepiece==0.1.96\n",
        "!pip install tensorflow_addons\n",
        "\n",
        "clear_output()\n",
        "\n",
        "import sklearn\n",
        "import tensorflow\n",
        "import transformers\n",
        "import tensorflow_addons\n",
        "\n",
        "print(sklearn.__version__) # 1.0.2 \n",
        "print(tensorflow.__version__) # 2.8.0  \n",
        "print(transformers.__version__) # 4.8.2  \n",
        "print(tensorflow_addons.__version__) # 0.16.1 \n",
        "\n",
        "import sentencepiece\n",
        "\n",
        "import pandas as pd\n",
        "import numpy as np\n",
        "\n",
        "import os\n",
        "import re\n",
        "import pickle \n",
        "import dill # for saving a function as a file(.pkl)\n",
        "import logging # for changing the tf's logging level\n",
        "import urllib.request\n",
        "from tqdm import tqdm\n",
        "\n",
        "from sklearn import model_selection\n",
        "from sklearn.metrics import accuracy_score\n",
        "\n",
        "import tensorflow as tf\n",
        "import tensorflow_addons as tfa # for using Rectified-Adam optimizer (instead of Adam optimizer) \n",
        "from tensorflow.keras import layers, initializers, losses, optimizers, metrics, callbacks \n",
        "\n",
        "import transformers\n",
        "from transformers import TFBertModel # BertTokenizer 제외\n",
        "\n",
        "import sentencepiece as spm\n",
        "import ast  # str list to list"
      ],
      "metadata": {
        "id": "WYMLcxGyy6R4",
        "colab": {
          "base_uri": "https://localhost:8080/"
        },
        "outputId": "7d8c6321-d496-45e7-e910-2a0198a07481"
      },
      "execution_count": 6,
      "outputs": [
        {
          "output_type": "stream",
          "name": "stdout",
          "text": [
            "1.0.2\n",
            "2.8.0\n",
            "4.8.2\n",
            "0.17.0\n"
          ]
        }
      ]
    },
    {
      "cell_type": "code",
      "source": [
        "# Random seed 고정\n",
        "tf.random.set_seed(1234)\n",
        "np.random.seed(1234)\n",
        "\n",
        "# Transformers logging level 변경 (WARNING -> ERROR) @ https://huggingface.co/transformers/main_classes/logging.html\n",
        "transformers.logging.set_verbosity(transformers.logging.ERROR)\n",
        "\n",
        "# Tensorflow logging level 변경 \n",
        "tf.get_logger().setLevel(logging.ERROR)"
      ],
      "metadata": {
        "id": "ZP1nP5NXBT8W"
      },
      "execution_count": 7,
      "outputs": []
    },
    {
      "cell_type": "code",
      "source": [
        "#KoBERT 불러오기\n",
        "!git clone https://github.com/monologg/KoBERT-Transformers.git\n",
        "!mv KoBERT-Transformers/kobert_transformers/tokenization_kobert.py /content\n",
        "clear_output() # clear the output\n",
        "\n",
        "#토크나이저 생성\n",
        "from tokenization_kobert import KoBertTokenizer \n",
        "\n",
        "tokenizer = KoBertTokenizer.from_pretrained('monologg/kobert')"
      ],
      "metadata": {
        "id": "du0ZRI16BagI",
        "colab": {
          "base_uri": "https://localhost:8080/",
          "height": 113,
          "referenced_widgets": [
            "9b3daa7213904e5283fd449f6ad269f7",
            "167ea28cb41e43258ff749c4c7b7f1ce",
            "9c7ccfa1276d445d8e70524fdca34018",
            "7bc906fde2954ffca1c3b4b2d8fb680e",
            "ea45fa8c21514b998b87c7d2e8dd25ef",
            "463504cb7de244b18c84ad3342199b06",
            "371c02739fa1447a9866188c5af43b4c",
            "e26c1b771e7746d9980e4dafe8bcaf18",
            "483b138c5af74991825a7b98b5b556f9",
            "42afc0dd73124be9b0327f1d801af727",
            "ec54a62ee47d473c91d2288056615f68",
            "a9f53008418641c786163fa0cebd1677",
            "4ff28f6c5f7649fd9e8ea9b39fef093c",
            "6643b3100d0847f3acc78bb22b9e4b24",
            "05b6707a5468469caf59f81dc4730c46",
            "0248e9dbb3084bae9fb03fc301cd2a32",
            "9e8583f7f6b64bf09bb6342db49fbf74",
            "f58f06804d174ca9b3a2198c916d830d",
            "d064691db78f4edcbfcd61445d3d26d8",
            "0f4907a2cd7e4d8b95c5fd8e3ef85276",
            "a013a0c9bdd64700a570a1d9d2c64ede",
            "922646892a8e4734907b67a8b800440b",
            "6ef24d7eb7074b6e9fb5c3fe2f77f51e",
            "d0176ff9f0334066886a22624a7e7ca4",
            "fd36ab14a1d24b429b463dc687c45801",
            "68271fa0f9d348f096a8a735a0026378",
            "f0ffd4ae6f714575978aaf62470ceece",
            "4648a3ba09bf4d6dbeeebbba44862ada",
            "d6519cd1459d49bdaf98ad298b3f70a1",
            "90fc89a35f4e4088aac094623dbd7d2f",
            "ceb905e963d0481698f4c6cbd05cfba8",
            "61dee55cc3a64d86aaa5468b99f63e5f",
            "87f38e4eb3a94ed1a330ff5bfd9a0bc3"
          ]
        },
        "outputId": "550179c2-be6a-45d3-ae0a-5f51b1446fa5"
      },
      "execution_count": 8,
      "outputs": [
        {
          "output_type": "display_data",
          "data": {
            "text/plain": [
              "Downloading:   0%|          | 0.00/371k [00:00<?, ?B/s]"
            ],
            "application/vnd.jupyter.widget-view+json": {
              "version_major": 2,
              "version_minor": 0,
              "model_id": "9b3daa7213904e5283fd449f6ad269f7"
            }
          },
          "metadata": {}
        },
        {
          "output_type": "display_data",
          "data": {
            "text/plain": [
              "Downloading:   0%|          | 0.00/77.8k [00:00<?, ?B/s]"
            ],
            "application/vnd.jupyter.widget-view+json": {
              "version_major": 2,
              "version_minor": 0,
              "model_id": "a9f53008418641c786163fa0cebd1677"
            }
          },
          "metadata": {}
        },
        {
          "output_type": "display_data",
          "data": {
            "text/plain": [
              "Downloading:   0%|          | 0.00/51.0 [00:00<?, ?B/s]"
            ],
            "application/vnd.jupyter.widget-view+json": {
              "version_major": 2,
              "version_minor": 0,
              "model_id": "6ef24d7eb7074b6e9fb5c3fe2f77f51e"
            }
          },
          "metadata": {}
        }
      ]
    },
    {
      "cell_type": "markdown",
      "source": [
        "# Import Google Drive "
      ],
      "metadata": {
        "id": "X6qL5EKSBowl"
      }
    },
    {
      "cell_type": "code",
      "source": [
        "from google.colab import drive\n",
        "drive.mount('/content/drive')"
      ],
      "metadata": {
        "id": "pEPEnIFu94xb",
        "colab": {
          "base_uri": "https://localhost:8080/"
        },
        "outputId": "792b2c3c-6fba-4c3b-e3ef-7dd32ecb4851"
      },
      "execution_count": 9,
      "outputs": [
        {
          "output_type": "stream",
          "name": "stdout",
          "text": [
            "Drive already mounted at /content/drive; to attempt to forcibly remount, call drive.mount(\"/content/drive\", force_remount=True).\n"
          ]
        }
      ]
    },
    {
      "cell_type": "code",
      "source": [
        "os.getcwd()"
      ],
      "metadata": {
        "id": "DFlih56_7FbR",
        "colab": {
          "base_uri": "https://localhost:8080/",
          "height": 35
        },
        "outputId": "a39605a0-cf5e-4860-b0c8-f2845784454c"
      },
      "execution_count": 10,
      "outputs": [
        {
          "output_type": "execute_result",
          "data": {
            "text/plain": [
              "'/content'"
            ],
            "application/vnd.google.colaboratory.intrinsic+json": {
              "type": "string"
            }
          },
          "metadata": {},
          "execution_count": 10
        }
      ]
    },
    {
      "cell_type": "code",
      "source": [
        "# 경로만 바꾸면 됨!\n",
        "path = '/content/drive/MyDrive/likelion/proj_fin_seunguk'# google drive project path\n",
        "data_path = 'colab_data/temp_data/' # model data path\n",
        "checkpoint_path = 'colab_data/temp_data/saved_models/' # saved model path\n",
        "\n",
        "os.chdir(path)"
      ],
      "metadata": {
        "id": "EaiTyc8n5Oev"
      },
      "execution_count": 11,
      "outputs": []
    },
    {
      "cell_type": "markdown",
      "source": [
        "# 1. Load the Data"
      ],
      "metadata": {
        "id": "35DqagFHBmlm"
      }
    },
    {
      "cell_type": "code",
      "source": [
        "df_allsongs_original = pd.read_csv('df_allsongs.csv', lineterminator='\\n')"
      ],
      "metadata": {
        "id": "tA1axB-LzH_N"
      },
      "execution_count": 12,
      "outputs": []
    },
    {
      "cell_type": "code",
      "source": [
        "df_allsongs_original.head(3)"
      ],
      "metadata": {
        "id": "dYC3vZoJzMyR",
        "colab": {
          "base_uri": "https://localhost:8080/",
          "height": 257
        },
        "outputId": "a30a0b15-3037-404e-bd2e-c56ff3b3e8e3"
      },
      "execution_count": 13,
      "outputs": [
        {
          "output_type": "execute_result",
          "data": {
            "text/plain": [
              "   Unnamed: 0      Title      Artist        Date       Genre  \\\n",
              "0           0     나의 X에게          경서  2022.04.24         발라드   \n",
              "1           1       취중고백  김민석 (멜로망스)  2021.12.19         발라드   \n",
              "2           2  사랑은 늘 도망가         임영웅  2021.10.11  발라드, 국내드라마   \n",
              "\n",
              "                                               Lyric  \\\n",
              "0  우리 다시 만날래예쁘게 빛나던모든 추억들이너무 그리워너의 품에 안길래이 밤이 새도록...   \n",
              "1  뭐하고 있었니 늦었지만잠시 나올래너의 집 골목에 있는놀이터에 앉아 있어친구들 만나서...   \n",
              "2  눈물이 난다 이 길을 걸으면그 사람 손길이 자꾸 생각이 난다붙잡지 못하고 가슴만 떨...   \n",
              "\n",
              "                                          Lyric_ver2  \\\n",
              "0  <div class=\"lyric\" id=\"d_video_summary\"><!-- h...   \n",
              "1  <div class=\"lyric\" id=\"d_video_summary\"><!-- h...   \n",
              "2  <div class=\"lyric\" id=\"d_video_summary\"><!-- h...   \n",
              "\n",
              "                               preprocess_Lyric_ver2  \\\n",
              "0  우리 다시 만날래 예쁘게 빛나던 모든 추억들이 너무 그리워 너의 품에 안길래 이 밤...   \n",
              "1  뭐하고 있었니 늦었지만 잠시 나올래 너의 집 골목에 있는 놀이터에 앉아 있어 친구들...   \n",
              "2  눈물이 난다 이 길을 걸으면 그 사람 손길이 자꾸 생각이 난다 붙잡지 못하고 가슴만...   \n",
              "\n",
              "                               preprocess_Lyric_ver3  \n",
              "0  ['우리 다시 만날래', '예쁘게 빛나던', '모든 추억들이', '너무 그리워', ...  \n",
              "1  ['뭐하고 있었니 늦었지만', '잠시 나올래', '너의 집 골목에 있는', '놀이터...  \n",
              "2  ['눈물이 난다 이 길을 걸으면', '그 사람 손길이 자꾸 생각이 난다', '붙잡지...  "
            ],
            "text/html": [
              "\n",
              "  <div id=\"df-645870b5-4cb2-4864-bff9-04e6e26b71a8\">\n",
              "    <div class=\"colab-df-container\">\n",
              "      <div>\n",
              "<style scoped>\n",
              "    .dataframe tbody tr th:only-of-type {\n",
              "        vertical-align: middle;\n",
              "    }\n",
              "\n",
              "    .dataframe tbody tr th {\n",
              "        vertical-align: top;\n",
              "    }\n",
              "\n",
              "    .dataframe thead th {\n",
              "        text-align: right;\n",
              "    }\n",
              "</style>\n",
              "<table border=\"1\" class=\"dataframe\">\n",
              "  <thead>\n",
              "    <tr style=\"text-align: right;\">\n",
              "      <th></th>\n",
              "      <th>Unnamed: 0</th>\n",
              "      <th>Title</th>\n",
              "      <th>Artist</th>\n",
              "      <th>Date</th>\n",
              "      <th>Genre</th>\n",
              "      <th>Lyric</th>\n",
              "      <th>Lyric_ver2</th>\n",
              "      <th>preprocess_Lyric_ver2</th>\n",
              "      <th>preprocess_Lyric_ver3</th>\n",
              "    </tr>\n",
              "  </thead>\n",
              "  <tbody>\n",
              "    <tr>\n",
              "      <th>0</th>\n",
              "      <td>0</td>\n",
              "      <td>나의 X에게</td>\n",
              "      <td>경서</td>\n",
              "      <td>2022.04.24</td>\n",
              "      <td>발라드</td>\n",
              "      <td>우리 다시 만날래예쁘게 빛나던모든 추억들이너무 그리워너의 품에 안길래이 밤이 새도록...</td>\n",
              "      <td>&lt;div class=\"lyric\" id=\"d_video_summary\"&gt;&lt;!-- h...</td>\n",
              "      <td>우리 다시 만날래 예쁘게 빛나던 모든 추억들이 너무 그리워 너의 품에 안길래 이 밤...</td>\n",
              "      <td>['우리 다시 만날래', '예쁘게 빛나던', '모든 추억들이', '너무 그리워', ...</td>\n",
              "    </tr>\n",
              "    <tr>\n",
              "      <th>1</th>\n",
              "      <td>1</td>\n",
              "      <td>취중고백</td>\n",
              "      <td>김민석 (멜로망스)</td>\n",
              "      <td>2021.12.19</td>\n",
              "      <td>발라드</td>\n",
              "      <td>뭐하고 있었니 늦었지만잠시 나올래너의 집 골목에 있는놀이터에 앉아 있어친구들 만나서...</td>\n",
              "      <td>&lt;div class=\"lyric\" id=\"d_video_summary\"&gt;&lt;!-- h...</td>\n",
              "      <td>뭐하고 있었니 늦었지만 잠시 나올래 너의 집 골목에 있는 놀이터에 앉아 있어 친구들...</td>\n",
              "      <td>['뭐하고 있었니 늦었지만', '잠시 나올래', '너의 집 골목에 있는', '놀이터...</td>\n",
              "    </tr>\n",
              "    <tr>\n",
              "      <th>2</th>\n",
              "      <td>2</td>\n",
              "      <td>사랑은 늘 도망가</td>\n",
              "      <td>임영웅</td>\n",
              "      <td>2021.10.11</td>\n",
              "      <td>발라드, 국내드라마</td>\n",
              "      <td>눈물이 난다 이 길을 걸으면그 사람 손길이 자꾸 생각이 난다붙잡지 못하고 가슴만 떨...</td>\n",
              "      <td>&lt;div class=\"lyric\" id=\"d_video_summary\"&gt;&lt;!-- h...</td>\n",
              "      <td>눈물이 난다 이 길을 걸으면 그 사람 손길이 자꾸 생각이 난다 붙잡지 못하고 가슴만...</td>\n",
              "      <td>['눈물이 난다 이 길을 걸으면', '그 사람 손길이 자꾸 생각이 난다', '붙잡지...</td>\n",
              "    </tr>\n",
              "  </tbody>\n",
              "</table>\n",
              "</div>\n",
              "      <button class=\"colab-df-convert\" onclick=\"convertToInteractive('df-645870b5-4cb2-4864-bff9-04e6e26b71a8')\"\n",
              "              title=\"Convert this dataframe to an interactive table.\"\n",
              "              style=\"display:none;\">\n",
              "        \n",
              "  <svg xmlns=\"http://www.w3.org/2000/svg\" height=\"24px\"viewBox=\"0 0 24 24\"\n",
              "       width=\"24px\">\n",
              "    <path d=\"M0 0h24v24H0V0z\" fill=\"none\"/>\n",
              "    <path d=\"M18.56 5.44l.94 2.06.94-2.06 2.06-.94-2.06-.94-.94-2.06-.94 2.06-2.06.94zm-11 1L8.5 8.5l.94-2.06 2.06-.94-2.06-.94L8.5 2.5l-.94 2.06-2.06.94zm10 10l.94 2.06.94-2.06 2.06-.94-2.06-.94-.94-2.06-.94 2.06-2.06.94z\"/><path d=\"M17.41 7.96l-1.37-1.37c-.4-.4-.92-.59-1.43-.59-.52 0-1.04.2-1.43.59L10.3 9.45l-7.72 7.72c-.78.78-.78 2.05 0 2.83L4 21.41c.39.39.9.59 1.41.59.51 0 1.02-.2 1.41-.59l7.78-7.78 2.81-2.81c.8-.78.8-2.07 0-2.86zM5.41 20L4 18.59l7.72-7.72 1.47 1.35L5.41 20z\"/>\n",
              "  </svg>\n",
              "      </button>\n",
              "      \n",
              "  <style>\n",
              "    .colab-df-container {\n",
              "      display:flex;\n",
              "      flex-wrap:wrap;\n",
              "      gap: 12px;\n",
              "    }\n",
              "\n",
              "    .colab-df-convert {\n",
              "      background-color: #E8F0FE;\n",
              "      border: none;\n",
              "      border-radius: 50%;\n",
              "      cursor: pointer;\n",
              "      display: none;\n",
              "      fill: #1967D2;\n",
              "      height: 32px;\n",
              "      padding: 0 0 0 0;\n",
              "      width: 32px;\n",
              "    }\n",
              "\n",
              "    .colab-df-convert:hover {\n",
              "      background-color: #E2EBFA;\n",
              "      box-shadow: 0px 1px 2px rgba(60, 64, 67, 0.3), 0px 1px 3px 1px rgba(60, 64, 67, 0.15);\n",
              "      fill: #174EA6;\n",
              "    }\n",
              "\n",
              "    [theme=dark] .colab-df-convert {\n",
              "      background-color: #3B4455;\n",
              "      fill: #D2E3FC;\n",
              "    }\n",
              "\n",
              "    [theme=dark] .colab-df-convert:hover {\n",
              "      background-color: #434B5C;\n",
              "      box-shadow: 0px 1px 3px 1px rgba(0, 0, 0, 0.15);\n",
              "      filter: drop-shadow(0px 1px 2px rgba(0, 0, 0, 0.3));\n",
              "      fill: #FFFFFF;\n",
              "    }\n",
              "  </style>\n",
              "\n",
              "      <script>\n",
              "        const buttonEl =\n",
              "          document.querySelector('#df-645870b5-4cb2-4864-bff9-04e6e26b71a8 button.colab-df-convert');\n",
              "        buttonEl.style.display =\n",
              "          google.colab.kernel.accessAllowed ? 'block' : 'none';\n",
              "\n",
              "        async function convertToInteractive(key) {\n",
              "          const element = document.querySelector('#df-645870b5-4cb2-4864-bff9-04e6e26b71a8');\n",
              "          const dataTable =\n",
              "            await google.colab.kernel.invokeFunction('convertToInteractive',\n",
              "                                                     [key], {});\n",
              "          if (!dataTable) return;\n",
              "\n",
              "          const docLinkHtml = 'Like what you see? Visit the ' +\n",
              "            '<a target=\"_blank\" href=https://colab.research.google.com/notebooks/data_table.ipynb>data table notebook</a>'\n",
              "            + ' to learn more about interactive tables.';\n",
              "          element.innerHTML = '';\n",
              "          dataTable['output_type'] = 'display_data';\n",
              "          await google.colab.output.renderOutput(dataTable, element);\n",
              "          const docLink = document.createElement('div');\n",
              "          docLink.innerHTML = docLinkHtml;\n",
              "          element.appendChild(docLink);\n",
              "        }\n",
              "      </script>\n",
              "    </div>\n",
              "  </div>\n",
              "  "
            ]
          },
          "metadata": {},
          "execution_count": 13
        }
      ]
    },
    {
      "cell_type": "code",
      "source": [
        "df_allsongs = df_allsongs_original[[\"Title\", \"Artist\", \"Date\", \"Genre\", \"preprocess_Lyric_ver3\"]]\n",
        "df_allsongs"
      ],
      "metadata": {
        "id": "vzWVzsGt0-hw",
        "colab": {
          "base_uri": "https://localhost:8080/",
          "height": 424
        },
        "outputId": "5fda8af2-e2d9-46a5-a612-e8e6b52b0932"
      },
      "execution_count": 14,
      "outputs": [
        {
          "output_type": "execute_result",
          "data": {
            "text/plain": [
              "              Title         Artist        Date       Genre  \\\n",
              "0            나의 X에게             경서  2022.04.24         발라드   \n",
              "1              취중고백     김민석 (멜로망스)  2021.12.19         발라드   \n",
              "2         사랑은 늘 도망가            임영웅  2021.10.11  발라드, 국내드라마   \n",
              "3            듣고 싶을까  MSG워너비(M.O.M)  2022.02.26         발라드   \n",
              "4     다정히 내 이름을 부르면           경서예지  2021.05.19         발라드   \n",
              "...             ...            ...         ...         ...   \n",
              "3604             애수            진시몬  2004.10.01    성인가요/트로트   \n",
              "3605     단장의 미아리 고개            송가인  2020.12.26    성인가요/트로트   \n",
              "3606      어머님 사랑합니다            송가인  2021.05.27    성인가요/트로트   \n",
              "3607         영동 부르스            송가인  2021.06.13    성인가요/트로트   \n",
              "3608      일소일소 일노일노            임영웅  2020.04.17    성인가요/트로트   \n",
              "\n",
              "                                  preprocess_Lyric_ver3  \n",
              "0     ['우리 다시 만날래', '예쁘게 빛나던', '모든 추억들이', '너무 그리워', ...  \n",
              "1     ['뭐하고 있었니 늦었지만', '잠시 나올래', '너의 집 골목에 있는', '놀이터...  \n",
              "2     ['눈물이 난다 이 길을 걸으면', '그 사람 손길이 자꾸 생각이 난다', '붙잡지...  \n",
              "3     ['우리 함께 듣던 그 노랠 듣고 싶을까', '듣고 나서 잠시 날 생각은 할까', ...  \n",
              "4     ['끝없이 별빛이 내리던 밤', '기분 좋은 바람이', '두 빰을 스치고', '새벽...  \n",
              "...                                                 ...  \n",
              "3604  ['아직도 모르겠어 난 정말 ', '', '꿈이라 생각해야 하는지 ', '', '너...  \n",
              "3605  ['미아리 눈물고개', '임이 넘던 이별 고개', '화약 연기 앞을 가려', '눈 ...  \n",
              "3606  ['꽃다운 열아홉에', '연지 찍고 시집와서', '손발이 터지도록', '고생하신 어...  \n",
              "3607  ['헤어지기 싫어서 애태우던 그 날 밤', '피눈물에 얼룩진 그대의 모습', '어차...  \n",
              "3608  ['세상사 스무고개 길', '좋은 날만 있을까', '이왕이라면 웃으며 살자', '말...  \n",
              "\n",
              "[3609 rows x 5 columns]"
            ],
            "text/html": [
              "\n",
              "  <div id=\"df-0fac8d23-9747-4c8f-93b9-adad3aec1a8c\">\n",
              "    <div class=\"colab-df-container\">\n",
              "      <div>\n",
              "<style scoped>\n",
              "    .dataframe tbody tr th:only-of-type {\n",
              "        vertical-align: middle;\n",
              "    }\n",
              "\n",
              "    .dataframe tbody tr th {\n",
              "        vertical-align: top;\n",
              "    }\n",
              "\n",
              "    .dataframe thead th {\n",
              "        text-align: right;\n",
              "    }\n",
              "</style>\n",
              "<table border=\"1\" class=\"dataframe\">\n",
              "  <thead>\n",
              "    <tr style=\"text-align: right;\">\n",
              "      <th></th>\n",
              "      <th>Title</th>\n",
              "      <th>Artist</th>\n",
              "      <th>Date</th>\n",
              "      <th>Genre</th>\n",
              "      <th>preprocess_Lyric_ver3</th>\n",
              "    </tr>\n",
              "  </thead>\n",
              "  <tbody>\n",
              "    <tr>\n",
              "      <th>0</th>\n",
              "      <td>나의 X에게</td>\n",
              "      <td>경서</td>\n",
              "      <td>2022.04.24</td>\n",
              "      <td>발라드</td>\n",
              "      <td>['우리 다시 만날래', '예쁘게 빛나던', '모든 추억들이', '너무 그리워', ...</td>\n",
              "    </tr>\n",
              "    <tr>\n",
              "      <th>1</th>\n",
              "      <td>취중고백</td>\n",
              "      <td>김민석 (멜로망스)</td>\n",
              "      <td>2021.12.19</td>\n",
              "      <td>발라드</td>\n",
              "      <td>['뭐하고 있었니 늦었지만', '잠시 나올래', '너의 집 골목에 있는', '놀이터...</td>\n",
              "    </tr>\n",
              "    <tr>\n",
              "      <th>2</th>\n",
              "      <td>사랑은 늘 도망가</td>\n",
              "      <td>임영웅</td>\n",
              "      <td>2021.10.11</td>\n",
              "      <td>발라드, 국내드라마</td>\n",
              "      <td>['눈물이 난다 이 길을 걸으면', '그 사람 손길이 자꾸 생각이 난다', '붙잡지...</td>\n",
              "    </tr>\n",
              "    <tr>\n",
              "      <th>3</th>\n",
              "      <td>듣고 싶을까</td>\n",
              "      <td>MSG워너비(M.O.M)</td>\n",
              "      <td>2022.02.26</td>\n",
              "      <td>발라드</td>\n",
              "      <td>['우리 함께 듣던 그 노랠 듣고 싶을까', '듣고 나서 잠시 날 생각은 할까', ...</td>\n",
              "    </tr>\n",
              "    <tr>\n",
              "      <th>4</th>\n",
              "      <td>다정히 내 이름을 부르면</td>\n",
              "      <td>경서예지</td>\n",
              "      <td>2021.05.19</td>\n",
              "      <td>발라드</td>\n",
              "      <td>['끝없이 별빛이 내리던 밤', '기분 좋은 바람이', '두 빰을 스치고', '새벽...</td>\n",
              "    </tr>\n",
              "    <tr>\n",
              "      <th>...</th>\n",
              "      <td>...</td>\n",
              "      <td>...</td>\n",
              "      <td>...</td>\n",
              "      <td>...</td>\n",
              "      <td>...</td>\n",
              "    </tr>\n",
              "    <tr>\n",
              "      <th>3604</th>\n",
              "      <td>애수</td>\n",
              "      <td>진시몬</td>\n",
              "      <td>2004.10.01</td>\n",
              "      <td>성인가요/트로트</td>\n",
              "      <td>['아직도 모르겠어 난 정말 ', '', '꿈이라 생각해야 하는지 ', '', '너...</td>\n",
              "    </tr>\n",
              "    <tr>\n",
              "      <th>3605</th>\n",
              "      <td>단장의 미아리 고개</td>\n",
              "      <td>송가인</td>\n",
              "      <td>2020.12.26</td>\n",
              "      <td>성인가요/트로트</td>\n",
              "      <td>['미아리 눈물고개', '임이 넘던 이별 고개', '화약 연기 앞을 가려', '눈 ...</td>\n",
              "    </tr>\n",
              "    <tr>\n",
              "      <th>3606</th>\n",
              "      <td>어머님 사랑합니다</td>\n",
              "      <td>송가인</td>\n",
              "      <td>2021.05.27</td>\n",
              "      <td>성인가요/트로트</td>\n",
              "      <td>['꽃다운 열아홉에', '연지 찍고 시집와서', '손발이 터지도록', '고생하신 어...</td>\n",
              "    </tr>\n",
              "    <tr>\n",
              "      <th>3607</th>\n",
              "      <td>영동 부르스</td>\n",
              "      <td>송가인</td>\n",
              "      <td>2021.06.13</td>\n",
              "      <td>성인가요/트로트</td>\n",
              "      <td>['헤어지기 싫어서 애태우던 그 날 밤', '피눈물에 얼룩진 그대의 모습', '어차...</td>\n",
              "    </tr>\n",
              "    <tr>\n",
              "      <th>3608</th>\n",
              "      <td>일소일소 일노일노</td>\n",
              "      <td>임영웅</td>\n",
              "      <td>2020.04.17</td>\n",
              "      <td>성인가요/트로트</td>\n",
              "      <td>['세상사 스무고개 길', '좋은 날만 있을까', '이왕이라면 웃으며 살자', '말...</td>\n",
              "    </tr>\n",
              "  </tbody>\n",
              "</table>\n",
              "<p>3609 rows × 5 columns</p>\n",
              "</div>\n",
              "      <button class=\"colab-df-convert\" onclick=\"convertToInteractive('df-0fac8d23-9747-4c8f-93b9-adad3aec1a8c')\"\n",
              "              title=\"Convert this dataframe to an interactive table.\"\n",
              "              style=\"display:none;\">\n",
              "        \n",
              "  <svg xmlns=\"http://www.w3.org/2000/svg\" height=\"24px\"viewBox=\"0 0 24 24\"\n",
              "       width=\"24px\">\n",
              "    <path d=\"M0 0h24v24H0V0z\" fill=\"none\"/>\n",
              "    <path d=\"M18.56 5.44l.94 2.06.94-2.06 2.06-.94-2.06-.94-.94-2.06-.94 2.06-2.06.94zm-11 1L8.5 8.5l.94-2.06 2.06-.94-2.06-.94L8.5 2.5l-.94 2.06-2.06.94zm10 10l.94 2.06.94-2.06 2.06-.94-2.06-.94-.94-2.06-.94 2.06-2.06.94z\"/><path d=\"M17.41 7.96l-1.37-1.37c-.4-.4-.92-.59-1.43-.59-.52 0-1.04.2-1.43.59L10.3 9.45l-7.72 7.72c-.78.78-.78 2.05 0 2.83L4 21.41c.39.39.9.59 1.41.59.51 0 1.02-.2 1.41-.59l7.78-7.78 2.81-2.81c.8-.78.8-2.07 0-2.86zM5.41 20L4 18.59l7.72-7.72 1.47 1.35L5.41 20z\"/>\n",
              "  </svg>\n",
              "      </button>\n",
              "      \n",
              "  <style>\n",
              "    .colab-df-container {\n",
              "      display:flex;\n",
              "      flex-wrap:wrap;\n",
              "      gap: 12px;\n",
              "    }\n",
              "\n",
              "    .colab-df-convert {\n",
              "      background-color: #E8F0FE;\n",
              "      border: none;\n",
              "      border-radius: 50%;\n",
              "      cursor: pointer;\n",
              "      display: none;\n",
              "      fill: #1967D2;\n",
              "      height: 32px;\n",
              "      padding: 0 0 0 0;\n",
              "      width: 32px;\n",
              "    }\n",
              "\n",
              "    .colab-df-convert:hover {\n",
              "      background-color: #E2EBFA;\n",
              "      box-shadow: 0px 1px 2px rgba(60, 64, 67, 0.3), 0px 1px 3px 1px rgba(60, 64, 67, 0.15);\n",
              "      fill: #174EA6;\n",
              "    }\n",
              "\n",
              "    [theme=dark] .colab-df-convert {\n",
              "      background-color: #3B4455;\n",
              "      fill: #D2E3FC;\n",
              "    }\n",
              "\n",
              "    [theme=dark] .colab-df-convert:hover {\n",
              "      background-color: #434B5C;\n",
              "      box-shadow: 0px 1px 3px 1px rgba(0, 0, 0, 0.15);\n",
              "      filter: drop-shadow(0px 1px 2px rgba(0, 0, 0, 0.3));\n",
              "      fill: #FFFFFF;\n",
              "    }\n",
              "  </style>\n",
              "\n",
              "      <script>\n",
              "        const buttonEl =\n",
              "          document.querySelector('#df-0fac8d23-9747-4c8f-93b9-adad3aec1a8c button.colab-df-convert');\n",
              "        buttonEl.style.display =\n",
              "          google.colab.kernel.accessAllowed ? 'block' : 'none';\n",
              "\n",
              "        async function convertToInteractive(key) {\n",
              "          const element = document.querySelector('#df-0fac8d23-9747-4c8f-93b9-adad3aec1a8c');\n",
              "          const dataTable =\n",
              "            await google.colab.kernel.invokeFunction('convertToInteractive',\n",
              "                                                     [key], {});\n",
              "          if (!dataTable) return;\n",
              "\n",
              "          const docLinkHtml = 'Like what you see? Visit the ' +\n",
              "            '<a target=\"_blank\" href=https://colab.research.google.com/notebooks/data_table.ipynb>data table notebook</a>'\n",
              "            + ' to learn more about interactive tables.';\n",
              "          element.innerHTML = '';\n",
              "          dataTable['output_type'] = 'display_data';\n",
              "          await google.colab.output.renderOutput(dataTable, element);\n",
              "          const docLink = document.createElement('div');\n",
              "          docLink.innerHTML = docLinkHtml;\n",
              "          element.appendChild(docLink);\n",
              "        }\n",
              "      </script>\n",
              "    </div>\n",
              "  </div>\n",
              "  "
            ]
          },
          "metadata": {},
          "execution_count": 14
        }
      ]
    },
    {
      "cell_type": "code",
      "source": [
        "print(df_allsongs.info())\n",
        "print(df_allsongs.describe())"
      ],
      "metadata": {
        "id": "VcmkX5k9Hjgw",
        "colab": {
          "base_uri": "https://localhost:8080/"
        },
        "outputId": "f782d500-3b45-4ed9-8ce4-d4878f9a611b"
      },
      "execution_count": 15,
      "outputs": [
        {
          "output_type": "stream",
          "name": "stdout",
          "text": [
            "<class 'pandas.core.frame.DataFrame'>\n",
            "RangeIndex: 3609 entries, 0 to 3608\n",
            "Data columns (total 5 columns):\n",
            " #   Column                 Non-Null Count  Dtype \n",
            "---  ------                 --------------  ----- \n",
            " 0   Title                  3609 non-null   object\n",
            " 1   Artist                 3609 non-null   object\n",
            " 2   Date                   3609 non-null   object\n",
            " 3   Genre                  3609 non-null   object\n",
            " 4   preprocess_Lyric_ver3  3609 non-null   object\n",
            "dtypes: object(5)\n",
            "memory usage: 141.1+ KB\n",
            "None\n",
            "       Title Artist        Date Genre  \\\n",
            "count   3609   3609        3609  3609   \n",
            "unique  3358    947        2042    41   \n",
            "top       고백    임영웅  2022.05.20    댄스   \n",
            "freq      10     90          19   486   \n",
            "\n",
            "                                    preprocess_Lyric_ver3  \n",
            "count                                                3609  \n",
            "unique                                               3609  \n",
            "top     ['우리 다시 만날래', '예쁘게 빛나던', '모든 추억들이', '너무 그리워', ...  \n",
            "freq                                                    1  \n"
          ]
        }
      ]
    },
    {
      "cell_type": "code",
      "source": [
        "df_allsongs.preprocess_Lyric_ver3.iloc[12]"
      ],
      "metadata": {
        "id": "CIv6nQUhhFwG",
        "colab": {
          "base_uri": "https://localhost:8080/",
          "height": 104
        },
        "outputId": "2eaf5b73-493f-4d33-ae59-a2770fd8d1f1"
      },
      "execution_count": 16,
      "outputs": [
        {
          "output_type": "execute_result",
          "data": {
            "text/plain": [
              "\"['느낌이 오잖아 ', '떨리고 있잖아', '언제까지 눈치만 볼 거니', '네 맘을 말해봐 ', '딴청 피우지 말란 말이야', '네 맘 가는 그대로 ', '지금 내 손을 잡아', '어서 내 손을 잡아', '우연히 고개를 돌릴 때 마다', '눈이 마주치는 건', '며칠 밤 내내 꿈속에 나타나', '밤새 나를 괴롭히는 건', '그 많은 빈자리 중에서 하필', '내 옆자릴 고르는 건', '나도 모르게 어느새 실없는 웃음', '흘리고 있다는 건', '그럼 말 다했지 뭐', '우리 얘기 좀 할까', '느낌이 오잖아 떨리고 있잖아', '언제까지 눈치만 볼 거니', '네 맘을 말해봐 ', '딴청 피우지 말란 말이야', '네 맘 가는 그대로 ', '지금 내 손을 잡아', '핸드폰 진동에 ', '심장이 덜컥내려 앉는다는 건', '오 나도 모르게 ', '어느새 짓궂은 네 말투', '자꾸 듣고 싶은걸', '어떡해', '저기 멀리 걸어온다', '눈이 마주친다', '언제까지 넌 모른척 할거니', '사랑이 온거야 너와 나 말이야', '네가 좋아 정말 못 견딜 만큼', '그거면 된거야 ', '더는 생각하지 말란 말이야', '네 맘 가는 그대로', '느낌이 오잖아 떨리고 있잖아', '언제까지 눈치만 볼 거니', '네 맘을 말해봐 ', '딴청 피우지 말란 말이야', '네 맘 가는 그대로 ', '지금 내 손을 잡아', '그냥 내 손을 잡아', '지금 내 손을 잡아', ' ', '']\""
            ],
            "application/vnd.google.colaboratory.intrinsic+json": {
              "type": "string"
            }
          },
          "metadata": {},
          "execution_count": 16
        }
      ]
    },
    {
      "cell_type": "markdown",
      "source": [
        "# Load saved Model\n"
      ],
      "metadata": {
        "id": "5AH_bjFE_DlY"
      }
    },
    {
      "cell_type": "code",
      "source": [
        "# 1) Load the Model-builder (function)\n",
        "with open(data_path + 'model_BERTfunction_v1.pkl', 'rb') as f:\n",
        "    create_model = dill.loads(pickle.load(f)) # use dill to pickle a python function\n",
        "\n",
        "# 2) Load the Bert-tokenizer \n",
        "with open(data_path + 'tokenizer-bert.pkl', 'rb') as f:\n",
        "    tokenizer = pickle.load(f) \n",
        "\n",
        "\n",
        "# 3) Create the model & load the Model-weights (from checkpoint file)\n",
        "resolver = tf.distribute.cluster_resolver.TPUClusterResolver(tpu='grpc://' + os.environ['COLAB_TPU_ADDR'])\n",
        "tf.config.experimental_connect_to_cluster(resolver)\n",
        "tf.tpu.experimental.initialize_tpu_system(resolver)\n",
        "strategy = tf.distribute.TPUStrategy(resolver) # Obsolete : tf.distribute.experimental.TPUStrategy()\n",
        "\n",
        "with strategy.scope(): \n",
        "    model = create_model(max_length=300) \n",
        "\n",
        "model.load_weights(filepath=checkpoint_path + 'best_bert_weights.h5')"
      ],
      "metadata": {
        "id": "IqkTwemez5n3",
        "colab": {
          "base_uri": "https://localhost:8080/",
          "height": 98,
          "referenced_widgets": [
            "55c75cebfbc7496a882deb417a5015aa",
            "e8c4fa1591694a75b9cfbc6bcb877a11",
            "ccbf696c05704d6ca553cce04bc49d30",
            "167acf1decf74c4a860975c579622011",
            "ab2ebcf7a5a84955b3c4791d31025f2b",
            "1406904164dc40c488af7eb89d3aa881",
            "2d01a9c09d9149a0adbd135c053811d6",
            "4a3c1ae8515f4e31aa1359715228910b",
            "7085bd184ef84eec88b62e42ea7f798b",
            "c1e91dd65b354b5fab6f410b95f4f165",
            "c5958e251f074034b6793cb44e8e6700",
            "61e0f426d2a8471e9b41ed112aecebaf",
            "c6d8a5f636944676bc34cb0e7142f127",
            "300ffa5d1f9142fda1ccc1b11f88424b",
            "930f8861463b45a3b3b6e58f6d212cbb",
            "f7122ccb0b41410b8b2299680d181f37",
            "6cfc9965ddef4d468bf79c79a5582a25",
            "9945bcc3d86e461ab2cc04af7208a710",
            "b66ac5cad9294f7584793a3100f51987",
            "131486cd97144fbaa6e9527b945bc338",
            "e0591379ba18432a93f51106623d118e",
            "b5611fd799fd4e5fa98b281ecc4d0609"
          ]
        },
        "outputId": "0a6f8a28-5c9b-4563-c4c5-374e0f1a56b7"
      },
      "execution_count": 17,
      "outputs": [
        {
          "output_type": "stream",
          "name": "stderr",
          "text": [
            "INFO:absl:Entering into master device scope: /job:worker/replica:0/task:0/device:CPU:0\n"
          ]
        },
        {
          "output_type": "display_data",
          "data": {
            "text/plain": [
              "Downloading:   0%|          | 0.00/426 [00:00<?, ?B/s]"
            ],
            "application/vnd.jupyter.widget-view+json": {
              "version_major": 2,
              "version_minor": 0,
              "model_id": "55c75cebfbc7496a882deb417a5015aa"
            }
          },
          "metadata": {}
        },
        {
          "output_type": "display_data",
          "data": {
            "text/plain": [
              "Downloading:   0%|          | 0.00/369M [00:00<?, ?B/s]"
            ],
            "application/vnd.jupyter.widget-view+json": {
              "version_major": 2,
              "version_minor": 0,
              "model_id": "61e0f426d2a8471e9b41ed112aecebaf"
            }
          },
          "metadata": {}
        }
      ]
    },
    {
      "cell_type": "markdown",
      "source": [
        "# Classifier as a function"
      ],
      "metadata": {
        "id": "yYz-CbvMAJ1Z"
      }
    },
    {
      "cell_type": "code",
      "source": [
        "def predict_sentiment_element(sentence, tokenizer, model):\n",
        "    \"\"\"\n",
        "    가사 내 문장 별 확률 값 추출\n",
        "    \"\"\"    \n",
        "    SEQ_LEN = 300 \n",
        "\n",
        "    # Tokenizing / Tokens to sequence numbers / Padding\n",
        "    encoded_dict = tokenizer.encode_plus(text=re.sub(\"[^\\s0-9a-zA-Zㄱ-ㅎㅏ-ㅣ가-힣]\", \"\", sentence), # 특수문자 제거\n",
        "                                         padding='max_length', \n",
        "                                         truncation = True,\n",
        "                                         max_length=SEQ_LEN) \n",
        "    \n",
        "    token_ids = np.array(encoded_dict['input_ids']).reshape(1, -1) \n",
        "    token_masks = np.array(encoded_dict['attention_mask']).reshape(1, -1)\n",
        "    token_segments = np.array(encoded_dict['token_type_ids']).reshape(1, -1)\n",
        "    \n",
        "    new_inputs = (token_ids, token_masks, token_segments)\n",
        "\n",
        "    # Prediction\n",
        "    pred = model.predict(new_inputs) \n",
        "    all_pred_proba = np.round(pred * 100, 2)\n",
        "    \n",
        "    #top_pred_proba = np.round(np.max(pred) * 100, 2) \n",
        "    #pred_class = ['분노혐오','놀람공포','슬픔','행복'][np.argmax(pred, axis=1)[0]] # 수정하면 4개 클래스 다 나올듯! \n",
        "    #print(\"{}% 확률로 {} 텍스트입니다.\".format(top_pred_proba, pred_class))\n",
        "\n",
        "    return all_pred_proba "
      ],
      "metadata": {
        "id": "rldmfWAZAHK3"
      },
      "execution_count": 37,
      "outputs": []
    },
    {
      "cell_type": "code",
      "source": [
        "def predict_sentiment_lyrics(lyrics):\n",
        "    \"\"\"\n",
        "    가사의 감성 확률 값 추출, 문장별 감성 확률의 정규화 평균  \n",
        "    가사내 문장 단위로 predict_sentiment_element 함수 적용   \n",
        "    마지막 원소 '' 빈칸임. <br/> 태그 기준으로 split해서 나옴, 빈칸인 element 제거\n",
        "    \"\"\"\n",
        "    lyrics = ast.literal_eval(lyrics) # str list to list\n",
        "    lyrics = list(filter(lambda x: x != '', lyrics))\n",
        "\n",
        "    print(len(lyrics)) \n",
        "    print(lyrics)\n",
        "\n",
        "\n",
        "    for i in range(len(lyrics)):\n",
        "        \n",
        "        if lyrics[i] != '':\n",
        "            all_pred_proba = predict_sentiment_element(lyrics[i], tokenizer, model)\n",
        "            anger = all_pred_proba[0][0]\n",
        "            scary = all_pred_proba[0][1]\n",
        "            sad = all_pred_proba[0][2]\n",
        "            happy = all_pred_proba[0][3]\n",
        "            #print(i, lyrics[i], all_pred_proba) \n",
        "\n",
        "        anger += anger \n",
        "        scary += scary\n",
        "        sad  += sad\n",
        "        happy += happy\n",
        "\n",
        "    total_array = np.ndarray.round( (np.array([(anger, scary, sad, happy)]) / (anger + scary + sad + happy)), 2)\n",
        "    top_pred_prob = total_array[0][np.argmax(total_array, axis=1)[0]]\n",
        "    top_pred_class = ['분노혐오','놀람공포','슬픔','행복'][np.argmax(total_array, axis=1)[0]]\n",
        "\n",
        "    return total_array, top_pred_class, top_pred_prob"
      ],
      "metadata": {
        "id": "vWzsRiH1-Qqf"
      },
      "execution_count": 81,
      "outputs": []
    },
    {
      "cell_type": "code",
      "source": [
        "test_list = df_allsongs.preprocess_Lyric_ver3.iloc[35]\n",
        "total_array, top_pred_class, top_pred_prob = predict_sentiment_lyrics(test_list)"
      ],
      "metadata": {
        "colab": {
          "base_uri": "https://localhost:8080/"
        },
        "id": "sva5V55xCHnq",
        "outputId": "f59e6540-0587-42bb-84aa-7f985a313b63"
      },
      "execution_count": 82,
      "outputs": [
        {
          "output_type": "stream",
          "name": "stdout",
          "text": [
            "34\n",
            "['때 이른 봄 몇 송이 꺾어다', '너의 방 문 앞에 두었어', '긴 잠 실컷 자고 나오면', '그때쯤엔 예쁘게 피어 있겠다', '별 띄운 여름 한 컵 따라다', '너의 머리맡에 두었어', '금세 다 녹아버릴 텐데', '너는 아직 혼자 쉬고 싶은가 봐', '너 없이 보는 첫 봄이 여름이', '괜히 왜 이렇게 예쁘니', '다 가기 전에 널 보여줘야 하는데', '음 꼭 봐야 하는데', '내게 기대어 조각잠을 자던', '그 모습 그대로 잠들었구나', '무슨 꿈을 꾸니', '깨어나면 이야기해 줄 거지', '언제나의 아침처럼 음', '빼곡한 가을 한 장 접어다', '너의 우체통에 넣었어', '가장 좋았던 문장 아래 밑줄 그어', '나 만나면 읽어줄래', '새하얀 겨울 한 숨 속에다', '나의 혼잣말을 담았어', '줄곧 잘 참아내다가도', '가끔은 철없이 보고 싶어', '새삼 차가운 연말의 공기가', '뼈 틈 사이사이 시려와', '움츠려 있을 너의 그 마른 어깨를 ', '꼭 안아줘야 하는데', '내게 기대어 조각잠을 자던', '그 모습 그대로 잠들었구나', '무슨 꿈을 꾸니', '깨어나면 이야기해 줄 거지', '언제나의 아침처럼 음']\n"
          ]
        }
      ]
    },
    {
      "cell_type": "code",
      "source": [
        "print(total_array) \n",
        "print(top_pred_class)  \n",
        "print(top_pred_prob)  "
      ],
      "metadata": {
        "colab": {
          "base_uri": "https://localhost:8080/"
        },
        "id": "XmKPbJ4YCJKF",
        "outputId": "f2697747-177b-4880-ebd2-c2168fa952bf"
      },
      "execution_count": 83,
      "outputs": [
        {
          "output_type": "stream",
          "name": "stdout",
          "text": [
            "[[0.02 0.03 0.22 0.73]]\n",
            "행복\n",
            "0.73\n"
          ]
        }
      ]
    },
    {
      "cell_type": "markdown",
      "source": [
        "#### TEST temporary"
      ],
      "metadata": {
        "id": "gfhNeSNP2hYT"
      }
    },
    {
      "cell_type": "markdown",
      "source": [
        "preprocess_Lyric_ver3에 적용 <br> \n",
        "\n",
        "list가 str 형태로 row에 저장되었기 때문에 ast library로 다시 list로 바꿔주어야한다.<br>\n",
        "(str list to list)"
      ],
      "metadata": {
        "id": "rWzyg_PK-Mbb"
      }
    },
    {
      "cell_type": "code",
      "source": [
        "temp_list = df_allsongs.preprocess_Lyric_ver3.iloc[0]\n",
        "print(type(temp_list))\n",
        "temp_list"
      ],
      "metadata": {
        "id": "CrHuHg912f6T",
        "colab": {
          "base_uri": "https://localhost:8080/",
          "height": 139
        },
        "outputId": "056235a4-6297-4265-eae9-3a6ff3fac97c"
      },
      "execution_count": 48,
      "outputs": [
        {
          "output_type": "stream",
          "name": "stdout",
          "text": [
            "<class 'str'>\n"
          ]
        },
        {
          "output_type": "execute_result",
          "data": {
            "text/plain": [
              "\"['우리 다시 만날래', '예쁘게 빛나던', '모든 추억들이', '너무 그리워', '너의 품에 안길래', '이 밤이 새도록', '네게 말할 거야', '너를 좋아한다고', '안녕 그대야', '요즘 어떻게 지내', '가로수길 걷다가', '생각이 나서', '행복해 보이는 사람들 속에', '우리 둘만 없어서', '어색했었어', '늘 집에 갈 땐', '항상 뒤돌아보면', '날 보며 웃어주던', '네가 생각났어', '우리 다시 만날래', '예쁘게 빛나던', '모든 추억들이', '너무 그리워', '너의 품에 안길래', '이 밤이 새도록', '네게 말할 거야', '너를 좋아한다고', '토요일마다 가던', '한강공원에', '이어폰 하나씩', '나눠끼고서', '벚꽃엔딩같이 듣고 있으면', '부러울 게 없었어', '너만 있으면', '널 사랑할 때', '내가 너무 그리워', '날 보며 웃어주던', '네가 보고 싶어', '우리 다시 만날래', '예쁘게 빛나던', '모든 추억들이', '너무 그리워', '너의 품에 안길래', '이 밤이 새도록', '네게 말할 거야', '너를 좋아한다고', '같이 별 보러 갈래', '널 다시 만나면', '네 옆에 기대서', '잠들고 싶어', '너의 품에 안길래', '이 밤이 새도록', '내 곁에 있어줘', '내겐 너뿐이라고', '']\""
            ],
            "application/vnd.google.colaboratory.intrinsic+json": {
              "type": "string"
            }
          },
          "metadata": {},
          "execution_count": 48
        }
      ]
    },
    {
      "cell_type": "code",
      "source": [
        "import ast  \n",
        "\n",
        "temp_list_2 = ast.literal_eval(temp_list) \n",
        "print(type(temp_list_2)) \n",
        "print(temp_list_2)\n",
        "\n",
        "## str list to list\n",
        "## sentence = ast.literal_eval(sentence)"
      ],
      "metadata": {
        "id": "owQngh5w9dYf",
        "colab": {
          "base_uri": "https://localhost:8080/"
        },
        "outputId": "9e49b671-8140-4fd3-d4fc-cbd8dd7a00f1"
      },
      "execution_count": 49,
      "outputs": [
        {
          "output_type": "stream",
          "name": "stdout",
          "text": [
            "<class 'list'>\n",
            "['우리 다시 만날래', '예쁘게 빛나던', '모든 추억들이', '너무 그리워', '너의 품에 안길래', '이 밤이 새도록', '네게 말할 거야', '너를 좋아한다고', '안녕 그대야', '요즘 어떻게 지내', '가로수길 걷다가', '생각이 나서', '행복해 보이는 사람들 속에', '우리 둘만 없어서', '어색했었어', '늘 집에 갈 땐', '항상 뒤돌아보면', '날 보며 웃어주던', '네가 생각났어', '우리 다시 만날래', '예쁘게 빛나던', '모든 추억들이', '너무 그리워', '너의 품에 안길래', '이 밤이 새도록', '네게 말할 거야', '너를 좋아한다고', '토요일마다 가던', '한강공원에', '이어폰 하나씩', '나눠끼고서', '벚꽃엔딩같이 듣고 있으면', '부러울 게 없었어', '너만 있으면', '널 사랑할 때', '내가 너무 그리워', '날 보며 웃어주던', '네가 보고 싶어', '우리 다시 만날래', '예쁘게 빛나던', '모든 추억들이', '너무 그리워', '너의 품에 안길래', '이 밤이 새도록', '네게 말할 거야', '너를 좋아한다고', '같이 별 보러 갈래', '널 다시 만나면', '네 옆에 기대서', '잠들고 싶어', '너의 품에 안길래', '이 밤이 새도록', '내 곁에 있어줘', '내겐 너뿐이라고', '']\n"
          ]
        }
      ]
    },
    {
      "cell_type": "code",
      "source": [
        "print(len(temp_list_2))\n",
        "print(temp_list_2[1])\n",
        "all_pred_proba = predict_sentiment_element(temp_list_2[1], tokenizer, model)\n",
        "print()\n",
        "print(all_pred_proba)"
      ],
      "metadata": {
        "id": "uo8rAk4u-Bz9",
        "colab": {
          "base_uri": "https://localhost:8080/"
        },
        "outputId": "56543334-3839-42ce-c769-e81bc177dbf1"
      },
      "execution_count": 50,
      "outputs": [
        {
          "output_type": "stream",
          "name": "stdout",
          "text": [
            "55\n",
            "예쁘게 빛나던\n",
            "\n",
            "[[ 0.4   0.37  0.5  98.72]]\n"
          ]
        }
      ]
    },
    {
      "cell_type": "code",
      "source": [
        "anger = all_pred_proba[0][0]\n",
        "scary = all_pred_proba[0][1]\n",
        "sad = all_pred_proba[0][2]\n",
        "happy = all_pred_proba[0][3]\n",
        "\n",
        "total = np.ndarray.round( (np.array([(anger, scary, sad, happy)]) / (anger + scary + sad + happy)), 2)\n",
        "\n",
        "top_pred_prob = total[0][np.argmax(total, axis=1)[0]]"
      ],
      "metadata": {
        "id": "Bqj7_ThWMwKy"
      },
      "execution_count": 42,
      "outputs": []
    },
    {
      "cell_type": "code",
      "source": [
        "print(total)\n",
        "print(top_pred_prob)  "
      ],
      "metadata": {
        "id": "GPyd2l0czmEp",
        "colab": {
          "base_uri": "https://localhost:8080/"
        },
        "outputId": "18fa8e8a-e41a-4076-e150-fa829edff832"
      },
      "execution_count": 43,
      "outputs": [
        {
          "output_type": "stream",
          "name": "stdout",
          "text": [
            "[[0.   0.   0.01 0.99]]\n",
            "0.99\n"
          ]
        }
      ]
    },
    {
      "cell_type": "code",
      "source": [
        "test_list = df_allsongs.preprocess_Lyric_ver3.iloc[35]\n",
        "total_array, top_pred_class, top_pred_prob = predict_sentiment_lyrics(test_list)"
      ],
      "metadata": {
        "colab": {
          "base_uri": "https://localhost:8080/"
        },
        "id": "7qGwTKt68PGi",
        "outputId": "5bd04bf5-b8dc-4ec3-eca3-586ca690b524"
      },
      "execution_count": 59,
      "outputs": [
        {
          "output_type": "stream",
          "name": "stdout",
          "text": [
            "40\n",
            "['때 이른 봄 몇 송이 꺾어다', '너의 방 문 앞에 두었어', '긴 잠 실컷 자고 나오면', '그때쯤엔 예쁘게 피어 있겠다', '', '별 띄운 여름 한 컵 따라다', '너의 머리맡에 두었어', '금세 다 녹아버릴 텐데', '너는 아직 혼자 쉬고 싶은가 봐', '', '너 없이 보는 첫 봄이 여름이', '괜히 왜 이렇게 예쁘니', '다 가기 전에 널 보여줘야 하는데', '음 꼭 봐야 하는데', '', '내게 기대어 조각잠을 자던', '그 모습 그대로 잠들었구나', '무슨 꿈을 꾸니', '깨어나면 이야기해 줄 거지', '언제나의 아침처럼 음', '', '빼곡한 가을 한 장 접어다', '너의 우체통에 넣었어', '가장 좋았던 문장 아래 밑줄 그어', '나 만나면 읽어줄래', '', '새하얀 겨울 한 숨 속에다', '나의 혼잣말을 담았어', '줄곧 잘 참아내다가도', '가끔은 철없이 보고 싶어', '', '새삼 차가운 연말의 공기가', '뼈 틈 사이사이 시려와', '움츠려 있을 너의 그 마른 어깨를 ', '꼭 안아줘야 하는데', '', '내게 기대어 조각잠을 자던', '그 모습 그대로 잠들었구나', '무슨 꿈을 꾸니', '깨어나면 이야기해 줄 거지']\n"
          ]
        }
      ]
    },
    {
      "cell_type": "code",
      "source": [
        "print(total_array) \n",
        "print(top_pred_class)  \n",
        "print(top_pred_prob)  "
      ],
      "metadata": {
        "colab": {
          "base_uri": "https://localhost:8080/"
        },
        "id": "462-5G4C8srV",
        "outputId": "7cc3609d-5b4d-4d13-b7e3-42ec27c8e1e1"
      },
      "execution_count": 60,
      "outputs": [
        {
          "output_type": "stream",
          "name": "stdout",
          "text": [
            "[[0.28 0.1  0.52 0.11]]\n",
            "슬픔\n",
            "0.52\n"
          ]
        }
      ]
    },
    {
      "cell_type": "markdown",
      "source": [
        "# Apply model"
      ],
      "metadata": {
        "id": "-MrmcLPG2od2"
      }
    },
    {
      "cell_type": "code",
      "source": [
        "Emotion = []\n",
        "Probability = []\n",
        "분노혐오 = []\n",
        "놀람공포 = []\n",
        "슬픔 = []\n",
        "행복 = []\n",
        "\n",
        "\n",
        "for row in tqdm(df_allsongs.iterrows()):\n",
        "\n",
        "        total_array, top_pred_class, top_pred_prob = predict_sentiment_lyrics(row[1][-1])\n",
        "        #break\n",
        "        Emotion.append(top_pred_class)\n",
        "        Probability.append(top_pred_prob)\n",
        "        분노혐오.append(total_array[0][0])\n",
        "        놀람공포.append(total_array[0][1])\n",
        "        슬픔.append(total_array[0][2])\n",
        "        행복.append(total_array[0][3])"
      ],
      "metadata": {
        "id": "jYYaHQ1bI0v6",
        "colab": {
          "base_uri": "https://localhost:8080/"
        },
        "outputId": "0a91d3b2-87b2-43e5-f68c-687e7829d5e2"
      },
      "execution_count": null,
      "outputs": [
        {
          "output_type": "stream",
          "name": "stderr",
          "text": [
            "\r0it [00:00, ?it/s]"
          ]
        },
        {
          "output_type": "stream",
          "name": "stdout",
          "text": [
            "54\n",
            "['우리 다시 만날래', '예쁘게 빛나던', '모든 추억들이', '너무 그리워', '너의 품에 안길래', '이 밤이 새도록', '네게 말할 거야', '너를 좋아한다고', '안녕 그대야', '요즘 어떻게 지내', '가로수길 걷다가', '생각이 나서', '행복해 보이는 사람들 속에', '우리 둘만 없어서', '어색했었어', '늘 집에 갈 땐', '항상 뒤돌아보면', '날 보며 웃어주던', '네가 생각났어', '우리 다시 만날래', '예쁘게 빛나던', '모든 추억들이', '너무 그리워', '너의 품에 안길래', '이 밤이 새도록', '네게 말할 거야', '너를 좋아한다고', '토요일마다 가던', '한강공원에', '이어폰 하나씩', '나눠끼고서', '벚꽃엔딩같이 듣고 있으면', '부러울 게 없었어', '너만 있으면', '널 사랑할 때', '내가 너무 그리워', '날 보며 웃어주던', '네가 보고 싶어', '우리 다시 만날래', '예쁘게 빛나던', '모든 추억들이', '너무 그리워', '너의 품에 안길래', '이 밤이 새도록', '네게 말할 거야', '너를 좋아한다고', '같이 별 보러 갈래', '널 다시 만나면', '네 옆에 기대서', '잠들고 싶어', '너의 품에 안길래', '이 밤이 새도록', '내 곁에 있어줘', '내겐 너뿐이라고']\n"
          ]
        },
        {
          "output_type": "stream",
          "name": "stderr",
          "text": [
            "\r1it [00:31, 31.55s/it]"
          ]
        },
        {
          "output_type": "stream",
          "name": "stdout",
          "text": [
            "40\n",
            "['뭐하고 있었니 늦었지만', '잠시 나올래', '너의 집 골목에 있는', '놀이터에 앉아 있어', '친구들 만나서 오랜만에', '술을 좀 했는데', '자꾸만 니 얼굴 떠올라', '무작정 달려왔어', '이 맘 모르겠니', '요즘 난 미친 사람처럼', '너만 생각해', '대책없이 네가 점점 좋아져', '아냐 안 취했어 진짜야', '널 정말 사랑해', '눈물이 날만큼 원하고 있어', '정말로 몰랐니', '가끔 전화해 장난치듯', '주말엔 뭐할거냐며', '너의 관심 끌던 나를', '그리고 한번씩 누나 주려 샀는데', '너 그냥 준다고', '생색 낸 선물도 너 때문에 산거야', '이 맘 모르겠니', '요즘 난 미친 사람처럼', '너만 생각해', '대책없이 네가 점점 좋아져', '아냐 안 취했어 진짜야', '널 정말 사랑해', '진심이야 믿어줘', '갑자기 이런 말 놀랐다면 미안해', '부담이 되는게 당연해', '이해해 널', '하지만 내 고백도 이해해 주겠니 oh', '지금 당장 대답하진마', '나와 일주일만 사귀어줄래', '후회없이 잘 해주고 싶은데', '그 후에도 니가 싫다면', '나 그때 포기할게', '귀찮게 안할게 혼자 아플게', '진심이야 너를 사랑하고 있어']\n"
          ]
        },
        {
          "output_type": "stream",
          "name": "stderr",
          "text": [
            "\r2it [01:01, 30.69s/it]"
          ]
        },
        {
          "output_type": "stream",
          "name": "stdout",
          "text": [
            "34\n",
            "['눈물이 난다 이 길을 걸으면', '그 사람 손길이 자꾸 생각이 난다', '붙잡지 못하고 가슴만 떨었지', '내 아름답던 사람아', '사랑이란 게 참 쓰린 거더라', '잡으려 할수록 더 멀어지더라', '이별이란 게 참 쉬운 거더라', '내 잊지 못할 사람아', '사랑아 왜 도망가', '수줍은 아이처럼', '행여 놓아버릴까 봐', '꼭 움켜쥐지만', '그리움이 쫓아 사랑은 늘 도망가', '잠시 쉬어가면 좋을 텐데', '바람이 분다 옷깃을 세워도', '차가운 이별의 눈물이 차올라', '잊지 못해서 가슴에 사무친', '내 소중했던 사람아', '사랑아 왜 도망가', '수줍은 아이처럼', '행여 놓아버릴까 봐', '꼭 움켜쥐지만', '그리움이 쫓아 사랑은 늘 도망가', '잠시 쉬어가면 좋을 텐데', '기다림도 애태움도 다 버려야 하는데', '무얼 찾아 이 길을 서성일까', '무얼 찾아 여기 있나', '사랑아 왜 도망가', '수줍은 아이처럼', '행여 놓아버릴까 봐', '꼭 움켜쥐지만', '그리움이 쫓아 사랑은 늘 도망가', '잠시 쉬어가면 좋을 텐데', '잠시 쉬어가면 좋을 텐데']\n"
          ]
        },
        {
          "output_type": "stream",
          "name": "stderr",
          "text": [
            "\r3it [01:25, 27.54s/it]"
          ]
        },
        {
          "output_type": "stream",
          "name": "stdout",
          "text": [
            "31\n",
            "['우리 함께 듣던 그 노랠 듣고 싶을까', '듣고 나서 잠시 날 생각은 할까', '아주 혹시라도 넌 내가 보고 싶을까', '난 왜 니 목소리가 듣고 싶을까', '뻔하디 뻔한 노랫말 여서 미안해', '미안해도 부디 넌 꼭 들어줬음 해', '후회도 미련도 없는 척 떠났지만', '이게 내 진심인 걸 꼭 알아줬음 해', '우리 함께 듣던 그 노랠 듣고 싶을까', '듣고 나서 잠시 날 생각은 할까', '아주 혹시라도 넌 내가 보고 싶을까', '못난 내 목소리가 듣고 싶을까', '말없이 다 전해지는 건 없지 난 말해 지금', '몇 년째 나의 favorite one', 'You the only one yeah', 'Yes I know 무엇도 달라질 건 없지만', '이게 내 진심인 걸 꼭 알아줬음 해', '우리 함께 듣던 그 노랠 듣고 싶을까', '듣고 나서 잠시 날 생각은 할까', '아주 혹시라도 넌 내가 보고 싶을까', '난 왜 니 목소리가 듣고 싶을까', 'Are you okay not today', '천천히 대답해도 돼 i just stay', '넌 내 목소리가 듣고 싶을까', '누굴 만나 봐도 다시는 못할 것 같아', '그립고 또 그립다 우리 그 사랑', 'Woo', 'I’m missing U', 'Never forget U', 'Never forget U', 'Oh no baby']\n"
          ]
        },
        {
          "output_type": "stream",
          "name": "stderr",
          "text": [
            "\r4it [01:44, 24.04s/it]"
          ]
        },
        {
          "output_type": "stream",
          "name": "stdout",
          "text": [
            "56\n",
            "['끝없이 별빛이 내리던 밤', '기분 좋은 바람이', '두 빰을 스치고', '새벽 바다 한곳을 보는', '아름다운 너와 나', '그림을 그려갔어', '모래 위 떨린 손끝으로', '날 향해 웃어주는 입술', '끝 모양과 저 달보다', '사랑스러운 두 눈을 가진 네가', '다정히 내 이름을', '부르면 내 마음이', '녹아내려 언제나', '나 하날 위해 준비된', '선물 같아 널 안으면', '잠들지 않는 바다 위를', '너와 함께 걷는 거 같아', '하늘 아래 너와 나', '남은 내 모든 날을 너에게', '다 줘도 안 아까워', '이제서야 내가', '사랑에 눈을 뜬 건 가봐', '경험하지 못했고', '믿기지 않는 일만', '일어나고 있는 거 아니', '5월에 피는 봄꽃 처럼', '내 사랑도 피어나', '부는 바람에 살며시 실어 보내', '다정히 내 이름을', '부르면 내 마음이', '녹아내려 언제나', '나 하날 위해 준비된', '선물 같아 널 안으면', '잠들지 않는 바다 위를', '너와 함께 걷는 거 같아', '하늘 아래 너와 나', '설레는 지금이', '꿈이 아닌 걸 알잖아', '난 더 바랄 게 없어', '먼 훗날 내 생애', '아주 작은 소리로', '귓가에 말할 거야', '내 곁에 머물러줘서', '마음 다해 고맙다고', '어떤 말로도 표현 못 할', '내 인생의 전부였다고', '이 순간 너를 꼭 안고', '고백할게 언제나', '우리 모든 날들과', '별빛 아래 우리 그림자', '제일로 특별하다고', '길고 긴 겨울 끝을 지나', '너의 앞에 서있는 지금', '선명한 목소리로', '널 사랑한다고', '말할게']\n"
          ]
        },
        {
          "output_type": "stream",
          "name": "stderr",
          "text": [
            "\r5it [02:16, 26.93s/it]"
          ]
        },
        {
          "output_type": "stream",
          "name": "stdout",
          "text": [
            "30\n",
            "['잊지는 말아요 함께 했던 날들', '눈물이 날 때면', '그대 뒤를 돌아보면 돼요', '아프지 말아요 쓸쓸한 마음에', '힘든 일이 참 많았죠 그대에겐', '내가 곁에 있을게요', '그댈 위해 노래할게요', '잊지 말아요', '그댈 위해 약속할게요', '언젠가 우리 시간 지나면', '알게 되겠죠', '그땐 웃을 수 있죠 나 약속할게요', '그땐 미소 짓겠죠', '작은 행복까지 모두', '외롭고 지칠 때 손잡아 줄게요', '슬픔이 짙어질 때면 위로해 줄', '그 한 사람이 될게요', '그대 부디 울지 말아요', '슬퍼 말아요', '그대에게 빛이 될게요', '언젠가 우리 시간 지나면', '알게 되겠죠', '그땐 웃을 수 있죠 나 약속할게요', '폭풍 속에 혼자 남아 헤매도 오', '길이 되어 지킬게요 그대', '그댈 위해 노래할게요', '잊지 말아요', '그댈 위해 약속할게요', '어두운 길을 밝게 비추는', '그대의 빛이 될게요']\n"
          ]
        },
        {
          "output_type": "stream",
          "name": "stderr",
          "text": [
            "\r6it [02:33, 23.65s/it]"
          ]
        },
        {
          "output_type": "stream",
          "name": "stdout",
          "text": [
            "40\n",
            "['너를 위해 해 줄 것이 하나 없어서', '보낼 수밖에 없었고', '네가 없이 사는 법을 알지 못해서', '순간순간을 울었다', '후회로 가득한 한숨 자락이', '시린 바람처럼', '가슴 치는 날 그 언젠가', '우리 만날 수 있을까', '다시 만날 수 있을까', '그리 좋던 예전처럼 그때처럼', '되돌아갈 수 있을까', '다시 우리가 만나면', '무엇을 해야만 할까', '서로를 품에 안고서', '하염없이 눈물만 흘려볼까', '붙잡을 마음이야 없었겠냐마는', '그때 난 부끄러웠다', '떳떳하게 일어나 널 다시 찾아갈', '뜨거운 꿈만 꾸었다', '둘이 함께 했던 순간순간이', '시린 폭포처럼', '쏟아지는 날 그 언젠가', '우리 만날 수 있을까', '다시 만날 수 있을까', '그리 좋던 예전처럼 그때처럼', '되돌아갈 수 있을까', '다시 우리가 만나면', '무엇을 해야만 할까', '서로를 품에 안고서', '하염없이 눈물만 흘려볼까', '그리운 마음이 서럽게 흘러넘쳐', '너에게 닿을 때', '우리 만날 수 있을까', '다시 만날 수 있을까', '그리 좋던 예전처럼 그때처럼', '되돌아갈 수 있을까', '다시 우리가 만나면', '무엇을 해야만 할까', '서로를 품에 안고서', '하염없이 눈물만 흘려볼까']\n"
          ]
        },
        {
          "output_type": "stream",
          "name": "stderr",
          "text": [
            "\r7it [02:56, 23.34s/it]"
          ]
        },
        {
          "output_type": "stream",
          "name": "stdout",
          "text": [
            "34\n",
            "['둘이 손잡고 걸을 때', '마주 보며 또 웃을 때', '사랑한다 말하지 않아도 알아', '널 만나러 가는 길에', '내 입가에 늘 환한 미소만이', '흐르고 있어', '사랑해 너를 사랑해', '눈물 나도록 사랑해', '저기 밤하늘의 별보다', '보석보다 네가 더 소중해', '얼마나 내가 얼마나 너를 사랑하는지', '내 모든 걸 너에게 줄게', '속상하고 힘이 들 때', '열이 나고 아파할 때', '옆에서 늘 힘이 돼준 사람 너야', '집에 돌아오는 길에', '내 귓가엔 늘 너의 음성만이', '흐르고 있어', '사랑해 너를 사랑해', '눈물 나도록 사랑해', '저기 밤하늘의 별보다', '보석보다 네가 더 소중해', '얼마나 내가 얼마나 너를 사랑하는지', '내 모든 걸 너에게 줄게', '세월 지나 많이 변했을 때', '미운 나의 손을 잡아줄 사람', '먼 훗날 아주 먼 훗날', '우리 눈 감는 그날에', '나를 사랑해 준 너에게 고맙다고', '후회는 없다고', '사랑해 나만의 사랑', '다시 태어난대도', '내 사랑은 너 하나뿐야', '영원히 너를 사랑해']\n"
          ]
        },
        {
          "output_type": "stream",
          "name": "stderr",
          "text": [
            "\r8it [03:15, 22.12s/it]"
          ]
        },
        {
          "output_type": "stream",
          "name": "stdout",
          "text": [
            "21\n",
            "['나도 한때는 그이의 손을 잡고', '내가 온 세상 주인공이 된 듯', '꽃송이의 꽃잎 하나하나까지', '모두 날 위해 피어났지', '올림픽대로 뚝섬 유원지', '서촌 골목골목 예쁜 식당', '나를 휘청거리게 만든', '주옥같은 대사들', '다시 누군가 사랑할 수 있을까', '예쁘다는 말 들을 수 있을까', '하루 단 하루만 기회가 온다면', '죽을힘을 다해 빛나리', '언제부턴가 급격하게', '단조로 바뀌던 배경음악', '조명이 꺼진 세트장에', '혼자 남겨진 나는', '단역을 맡은 그냥 평범한 여자', '꽃도 하늘도 한강도 거짓말', '나의 드라마는 또 이렇게 끝나', '나왔는지조차 모르게', '끝났는지조차 모르게']\n"
          ]
        },
        {
          "output_type": "stream",
          "name": "stderr",
          "text": [
            "\r9it [03:27, 19.05s/it]"
          ]
        },
        {
          "output_type": "stream",
          "name": "stdout",
          "text": [
            "37\n",
            "['사랑이었다 별거 없던 내 하루에', '빛이 돼준 단한 사람', '나보다 나를 더 아껴 주던 너를', '그땐 왜 몰랐을까', '행복이었다 다시는 없을 것 같던', '잠시나마 행복했었다', '다른 사람 곁에 있는 널', '생각해 본 적 없지만', '이젠 너를 보내줘야 할 것 같아', '내가 아니라도', '눈부시게 사랑받았을 너라서', '그 소중한 시간을 나와 함께해 줘서', '고마웠어', '예쁘고 아름다웠던 너의 그날에', '함께했던 그 모든 순간이 행복했어', '내 전부였다 무엇도 바꿀 수 없던', '우리라서 행복했었다', '다른 누구라도', '나보다 더 좋은 사람 만나서', '이젠 나를 잊고 행복하게 살아', '내가 아니라도', '눈부시게 사랑받았을 너라서', '그 소중한 시간을 나와 함께해 줘서', '고마웠어', '예쁘고 아름다웠던 너의 그날에', '함께했던 그 모든 순간이 행복했어', '어두웠던 내 하루에', '빛이 되어주던 그날들을', '어떻게 잊고 살아', '과분했던 너라는 사람을 만나', '누구보다 사랑했었다', '내가 아니었다면', '눈부시게 사랑받았을 너란 걸', '이 세상에 누구보다 더 잘 알아서', '미안했어 너와 함께한 날들이', '더 말할 게 있을까', '행복한 기억만 가져갈게']\n"
          ]
        },
        {
          "output_type": "stream",
          "name": "stderr",
          "text": [
            "\r10it [03:49, 19.75s/it]"
          ]
        },
        {
          "output_type": "stream",
          "name": "stdout",
          "text": [
            "30\n",
            "['이윽고 내가 한눈에', '너를 알아봤을 때', '모든 건 분명 달라지고 있었어', '내 세상은 널 알기 전과 후로 나뉘어', '니가 숨 쉬면 따스한 바람이 불어와', '니가 웃으면 눈부신 햇살이 비춰', '거기 있어줘서 그게 너라서', '가끔 내 어깨에 가만히 기대주어서', '나는 있잖아 정말 빈틈없이 행복해', '너를 따라서 시간은 흐르고 멈춰', '물끄러미 너를 들여다 보곤 해', '그것 말고는 아무것도 할 수 없어서', '너의 모든 순간 그게', '나였으면 좋겠다', '생각만 해도 가슴이 차올라', '나는 온통 너로', '보고 있으면 왠지 꿈처럼 아득한 것', '몇 광년 동안 날 향해 날아온 별빛 ', '또 지금의 너', '거기 있어줘서 그게 너라서', '가끔 나에게 조용하게 안겨주어서', '나는 있잖아 정말 남김없이 고마워', '너를 따라서 시간은 흐르고 멈춰', '물끄러미 너를 들여다보곤 해', '너를 보는 게 나에게는 사랑이니까', '너의 모든 순간 그게', '나였으면 좋겠다', '생각만 해도 가슴이 차올라', '나는 온통 너로', '니 모든 순간 나였으면']\n"
          ]
        },
        {
          "output_type": "stream",
          "name": "stderr",
          "text": [
            "\r11it [04:06, 18.91s/it]"
          ]
        },
        {
          "output_type": "stream",
          "name": "stdout",
          "text": [
            "46\n",
            "['흐르는 저 하늘을 물어 채는 범처럼', '태산에 날아들어 숨어드는 새처럼', '동산을 뛰고 뛰어가는 강아지처럼', '온 산에 풍물 막을 내리네', '바람은 지친 끝에 밤에 몸을 뉘이네', '별빛은 아뜩하니 은하수를 내리네', '차가운 밤하늘에 세상이 젖어 가네', '그리워 홀로 타령을 하자', '흘러가라 사랑사랑아', '덧없이 피고 떨어지는 꽃송아', '애닯구나 가락가락아', '눈물에 떨어진 별을 헤네', '푸른 달아 오랜 고운 내 달아', '비친 내 손에 내려다오', '은색 소매 내 곁에 두른 채로', '한 번만 타는 입을 축여다오', '푸른 달아 다시 없을 내 달아', '뻗은 손끝에 닿아다오', '달빛만이 흘러 바다가 되고', '지쳐 전하지 못하는 수월가', '고요한 바다 위로 내 노래가 떠 간다', '소리도 부끄러워 숨죽이고 떠 간다', '달빛에 젖은 몸을 내놓고서 떠 간다', '한낮이 비쳐 오를 때까지', '달아 달아 애달픈 달아', '피었다 이내 숨어 버릴 허상아', '시리구나 세월세월아', '나날을 헤면서 현을 뜯네', '푸른 달아 오랜 고운 내 달아', '비친 내 손에 내려다오', '은색 소매 내 곁에 두른 채로', '한 번만 타는 입을 축여다오', '푸른 달아 다시 없을 내 달아', '뻗은 손끝에 닿아다오', '달빛만이 흘러 바다가 되고', '지쳐 전하지 못하는 수월가', '서로 가자 굽이굽이 쳐 가자', '하늘에 닿을 너머까지', '밤아 가라 훠이훠이 가거라', '산 위에 걸린 저 달은 태평가', '서로 가자 굽이굽이 쳐 가자', '새벽에 닿을 너머까지', '달빛만이 흘러 바다가 되고', '지쳐 전하지 못하는 수월가', '하늘을 보며 그리는 풍류가', '손으로 잡을 수 없는 수월가']\n"
          ]
        },
        {
          "output_type": "stream",
          "name": "stderr",
          "text": [
            "\r12it [04:32, 21.16s/it]"
          ]
        },
        {
          "output_type": "stream",
          "name": "stdout",
          "text": [
            "47\n",
            "['느낌이 오잖아 ', '떨리고 있잖아', '언제까지 눈치만 볼 거니', '네 맘을 말해봐 ', '딴청 피우지 말란 말이야', '네 맘 가는 그대로 ', '지금 내 손을 잡아', '어서 내 손을 잡아', '우연히 고개를 돌릴 때 마다', '눈이 마주치는 건', '며칠 밤 내내 꿈속에 나타나', '밤새 나를 괴롭히는 건', '그 많은 빈자리 중에서 하필', '내 옆자릴 고르는 건', '나도 모르게 어느새 실없는 웃음', '흘리고 있다는 건', '그럼 말 다했지 뭐', '우리 얘기 좀 할까', '느낌이 오잖아 떨리고 있잖아', '언제까지 눈치만 볼 거니', '네 맘을 말해봐 ', '딴청 피우지 말란 말이야', '네 맘 가는 그대로 ', '지금 내 손을 잡아', '핸드폰 진동에 ', '심장이 덜컥내려 앉는다는 건', '오 나도 모르게 ', '어느새 짓궂은 네 말투', '자꾸 듣고 싶은걸', '어떡해', '저기 멀리 걸어온다', '눈이 마주친다', '언제까지 넌 모른척 할거니', '사랑이 온거야 너와 나 말이야', '네가 좋아 정말 못 견딜 만큼', '그거면 된거야 ', '더는 생각하지 말란 말이야', '네 맘 가는 그대로', '느낌이 오잖아 떨리고 있잖아', '언제까지 눈치만 볼 거니', '네 맘을 말해봐 ', '딴청 피우지 말란 말이야', '네 맘 가는 그대로 ', '지금 내 손을 잡아', '그냥 내 손을 잡아', '지금 내 손을 잡아', ' ']\n"
          ]
        },
        {
          "output_type": "stream",
          "name": "stderr",
          "text": [
            "\r13it [04:59, 22.98s/it]"
          ]
        },
        {
          "output_type": "stream",
          "name": "stdout",
          "text": [
            "41\n",
            "['코끝을 간지럽히는 살랑 부는 바람이', '눈 감으면 어디든', '네 곁에 데려가 주길', '어느새 내 맘이 춤을 추네', '한없이 예쁜 날이야', '꿈꾸던 시간이', '마치 오늘인 것만 같아', '맘이 두근거리다 심장이 쿵 떨어져', '후 살며시 네가 불어와', '눈부신 하늘이 되어 다 물들어가요', '유난히 달콤한 햇살 팡파레를 울려요', '한껏 들뜬 발걸음으로 반겨줘요', '따스한 그대의 품속으로', '바쁘게 달려가 힘껏 안겨볼래요', '시작될 거야 너와 내 이야기', '샤라랄 라라랄 라라랄 꽃눈이 내려요', '옷장 가득히 싱그러운 설렘이 하나둘', '아껴 둔 마음 꺼내 입고서', '널 만나러 가요', '살며시 네가 불어와', '눈부신 하늘이 되어 다 물들어가요', '유난히 달콤한 햇살 팡파레를 울려요', '한껏 들뜬 발걸음으로 반겨줘요', '따스한 그대의 품속으로', '바쁘게 달려가 힘껏 안겨볼래요', '시작될 거야 너와 내 이야기', '때론 빗방울 떨어져', '잠시 우리 옷깃을 적셔', '찡그린 날도 있겠지만', '상상만 해도 찬란한 꿈을 꾸는 거야', '하늘에 꽃눈이 내려 여기저기 날려요', '머리가 어지러울 만큼 행복해요', '웅크렸던 만큼', '소중히 내가 지켜 갈게요', '그대와 함께하는 사랑스런 날이야', '유난히 달콤한 햇살 팡파레를 울려요', '한껏 들뜬 발걸음으로 반겨줘요', '따스한 그대의 품속으로', '바쁘게 달려가 힘껏 안겨볼래요', '시작될 거야 너와 내 이야기', '샤라랄 라라랄 라라랄 꽃눈이 내려요']\n"
          ]
        },
        {
          "output_type": "stream",
          "name": "stderr",
          "text": [
            "\r14it [05:23, 23.18s/it]"
          ]
        },
        {
          "output_type": "stream",
          "name": "stdout",
          "text": [
            "40\n",
            "['내가 너라면 다 알아볼 텐데', '널 위할 사람 찾아낼 텐데', '지난 오랜 시간 너의 그 곁을', '지켜온 나라는 걸', '내가 너였다면 참 행복할 텐데', '한 사람을 다 가졌으니까', '둔한 바보도 눈치챌 그 사랑을', '너만 왜 모르니', '너를 바라만 바라만 본다', '외쳐 네 이름만 부른다', '보고 싶은 맘에 너를 향한 그 발걸음', '네 곁을 맴도는데', '오늘도 그리고 그리워하다', '애써 참았던 눈물이 흘러', '그저 멀리서만 바라보다', '또 소리쳐 네가 보고 싶다', '네가 나라면 더 참 아팠을 텐데', '슬픈 역할은 내가 맡을게', '웃는 모습만 보이며 살아가 줘', '내가 볼 수 있게', '너를 바라만 바라만 본다', '외쳐 네 이름만 부른다', '보고 싶은 맘에 너를 향한 그 발걸음', '네 곁을 맴도는데', '오늘도 그리고 그리워하다', '애써 참았던 눈물이 흘러', '그저 멀리서만 바라보다 또 소리쳐', '네가 보고 싶다', '한 걸음 더 다가갈까', '더 가까이 네게 갈까 OH', '어제보다 더 내일 더 널 사랑해', 'I’ll make you love me someday', '혼자 바라고 바라만 보다', '울컥 그리움이 솟는다', '바보 같은 맘에 하지 못한 그 한마디', '널 사랑한다는 말', '얼마나 그리고 그리워해야', '내 맘 너의 곁에 닿게 될까', '매일 하루 종일 너의 생각에 사무쳐', '너무 보고 싶다']\n"
          ]
        }
      ]
    },
    {
      "cell_type": "code",
      "source": [
        "df_allsongs['Emotion'] = Emotion\n",
        "df_allsongs['Proba'] = Probability\n",
        "df_allsongs['분노혐오'] = 분노혐오\n",
        "df_allsongs['놀람공포'] = 놀람공포\n",
        "df_allsongs['슬픔'] = 슬픔\n",
        "df_allsongs['행복'] = 행복"
      ],
      "metadata": {
        "id": "qMBNrBv-KO9u"
      },
      "execution_count": null,
      "outputs": []
    },
    {
      "cell_type": "code",
      "source": [
        "df_allsongs['Emotion'].value_counts()"
      ],
      "metadata": {
        "id": "0tHP3YDqKgpy"
      },
      "execution_count": null,
      "outputs": []
    },
    {
      "cell_type": "code",
      "source": [
        "df_allsongs"
      ],
      "metadata": {
        "id": "79dMUIMVhNro"
      },
      "execution_count": null,
      "outputs": []
    },
    {
      "cell_type": "code",
      "source": [
        "df_allsongs.to_csv('songtagged_may27.csv')"
      ],
      "metadata": {
        "id": "WUbaWH4IUtqx"
      },
      "execution_count": null,
      "outputs": []
    }
  ]
}