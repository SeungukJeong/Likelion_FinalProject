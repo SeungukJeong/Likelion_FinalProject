{
  "nbformat": 4,
  "nbformat_minor": 0,
  "metadata": {
    "colab": {
      "name": "Seunguk_(3)_lyricModelling.ipynb",
      "provenance": [],
      "collapsed_sections": [],
      "mount_file_id": "1jCp4ul4t1aM0jmbl4X6kauP7yt8HBIu8",
      "authorship_tag": "ABX9TyM8cIQqGRNY1forT1QBRaws",
      "include_colab_link": true
    },
    "kernelspec": {
      "name": "python3",
      "display_name": "Python 3"
    },
    "language_info": {
      "name": "python"
    },
    "accelerator": "TPU",
    "widgets": {
      "application/vnd.jupyter.widget-state+json": {
        "9b3daa7213904e5283fd449f6ad269f7": {
          "model_module": "@jupyter-widgets/controls",
          "model_name": "HBoxModel",
          "model_module_version": "1.5.0",
          "state": {
            "_dom_classes": [],
            "_model_module": "@jupyter-widgets/controls",
            "_model_module_version": "1.5.0",
            "_model_name": "HBoxModel",
            "_view_count": null,
            "_view_module": "@jupyter-widgets/controls",
            "_view_module_version": "1.5.0",
            "_view_name": "HBoxView",
            "box_style": "",
            "children": [
              "IPY_MODEL_167ea28cb41e43258ff749c4c7b7f1ce",
              "IPY_MODEL_9c7ccfa1276d445d8e70524fdca34018",
              "IPY_MODEL_7bc906fde2954ffca1c3b4b2d8fb680e"
            ],
            "layout": "IPY_MODEL_ea45fa8c21514b998b87c7d2e8dd25ef"
          }
        },
        "167ea28cb41e43258ff749c4c7b7f1ce": {
          "model_module": "@jupyter-widgets/controls",
          "model_name": "HTMLModel",
          "model_module_version": "1.5.0",
          "state": {
            "_dom_classes": [],
            "_model_module": "@jupyter-widgets/controls",
            "_model_module_version": "1.5.0",
            "_model_name": "HTMLModel",
            "_view_count": null,
            "_view_module": "@jupyter-widgets/controls",
            "_view_module_version": "1.5.0",
            "_view_name": "HTMLView",
            "description": "",
            "description_tooltip": null,
            "layout": "IPY_MODEL_463504cb7de244b18c84ad3342199b06",
            "placeholder": "​",
            "style": "IPY_MODEL_371c02739fa1447a9866188c5af43b4c",
            "value": "Downloading: 100%"
          }
        },
        "9c7ccfa1276d445d8e70524fdca34018": {
          "model_module": "@jupyter-widgets/controls",
          "model_name": "FloatProgressModel",
          "model_module_version": "1.5.0",
          "state": {
            "_dom_classes": [],
            "_model_module": "@jupyter-widgets/controls",
            "_model_module_version": "1.5.0",
            "_model_name": "FloatProgressModel",
            "_view_count": null,
            "_view_module": "@jupyter-widgets/controls",
            "_view_module_version": "1.5.0",
            "_view_name": "ProgressView",
            "bar_style": "success",
            "description": "",
            "description_tooltip": null,
            "layout": "IPY_MODEL_e26c1b771e7746d9980e4dafe8bcaf18",
            "max": 371391,
            "min": 0,
            "orientation": "horizontal",
            "style": "IPY_MODEL_483b138c5af74991825a7b98b5b556f9",
            "value": 371391
          }
        },
        "7bc906fde2954ffca1c3b4b2d8fb680e": {
          "model_module": "@jupyter-widgets/controls",
          "model_name": "HTMLModel",
          "model_module_version": "1.5.0",
          "state": {
            "_dom_classes": [],
            "_model_module": "@jupyter-widgets/controls",
            "_model_module_version": "1.5.0",
            "_model_name": "HTMLModel",
            "_view_count": null,
            "_view_module": "@jupyter-widgets/controls",
            "_view_module_version": "1.5.0",
            "_view_name": "HTMLView",
            "description": "",
            "description_tooltip": null,
            "layout": "IPY_MODEL_42afc0dd73124be9b0327f1d801af727",
            "placeholder": "​",
            "style": "IPY_MODEL_ec54a62ee47d473c91d2288056615f68",
            "value": " 371k/371k [00:00&lt;00:00, 1.33MB/s]"
          }
        },
        "ea45fa8c21514b998b87c7d2e8dd25ef": {
          "model_module": "@jupyter-widgets/base",
          "model_name": "LayoutModel",
          "model_module_version": "1.2.0",
          "state": {
            "_model_module": "@jupyter-widgets/base",
            "_model_module_version": "1.2.0",
            "_model_name": "LayoutModel",
            "_view_count": null,
            "_view_module": "@jupyter-widgets/base",
            "_view_module_version": "1.2.0",
            "_view_name": "LayoutView",
            "align_content": null,
            "align_items": null,
            "align_self": null,
            "border": null,
            "bottom": null,
            "display": null,
            "flex": null,
            "flex_flow": null,
            "grid_area": null,
            "grid_auto_columns": null,
            "grid_auto_flow": null,
            "grid_auto_rows": null,
            "grid_column": null,
            "grid_gap": null,
            "grid_row": null,
            "grid_template_areas": null,
            "grid_template_columns": null,
            "grid_template_rows": null,
            "height": null,
            "justify_content": null,
            "justify_items": null,
            "left": null,
            "margin": null,
            "max_height": null,
            "max_width": null,
            "min_height": null,
            "min_width": null,
            "object_fit": null,
            "object_position": null,
            "order": null,
            "overflow": null,
            "overflow_x": null,
            "overflow_y": null,
            "padding": null,
            "right": null,
            "top": null,
            "visibility": null,
            "width": null
          }
        },
        "463504cb7de244b18c84ad3342199b06": {
          "model_module": "@jupyter-widgets/base",
          "model_name": "LayoutModel",
          "model_module_version": "1.2.0",
          "state": {
            "_model_module": "@jupyter-widgets/base",
            "_model_module_version": "1.2.0",
            "_model_name": "LayoutModel",
            "_view_count": null,
            "_view_module": "@jupyter-widgets/base",
            "_view_module_version": "1.2.0",
            "_view_name": "LayoutView",
            "align_content": null,
            "align_items": null,
            "align_self": null,
            "border": null,
            "bottom": null,
            "display": null,
            "flex": null,
            "flex_flow": null,
            "grid_area": null,
            "grid_auto_columns": null,
            "grid_auto_flow": null,
            "grid_auto_rows": null,
            "grid_column": null,
            "grid_gap": null,
            "grid_row": null,
            "grid_template_areas": null,
            "grid_template_columns": null,
            "grid_template_rows": null,
            "height": null,
            "justify_content": null,
            "justify_items": null,
            "left": null,
            "margin": null,
            "max_height": null,
            "max_width": null,
            "min_height": null,
            "min_width": null,
            "object_fit": null,
            "object_position": null,
            "order": null,
            "overflow": null,
            "overflow_x": null,
            "overflow_y": null,
            "padding": null,
            "right": null,
            "top": null,
            "visibility": null,
            "width": null
          }
        },
        "371c02739fa1447a9866188c5af43b4c": {
          "model_module": "@jupyter-widgets/controls",
          "model_name": "DescriptionStyleModel",
          "model_module_version": "1.5.0",
          "state": {
            "_model_module": "@jupyter-widgets/controls",
            "_model_module_version": "1.5.0",
            "_model_name": "DescriptionStyleModel",
            "_view_count": null,
            "_view_module": "@jupyter-widgets/base",
            "_view_module_version": "1.2.0",
            "_view_name": "StyleView",
            "description_width": ""
          }
        },
        "e26c1b771e7746d9980e4dafe8bcaf18": {
          "model_module": "@jupyter-widgets/base",
          "model_name": "LayoutModel",
          "model_module_version": "1.2.0",
          "state": {
            "_model_module": "@jupyter-widgets/base",
            "_model_module_version": "1.2.0",
            "_model_name": "LayoutModel",
            "_view_count": null,
            "_view_module": "@jupyter-widgets/base",
            "_view_module_version": "1.2.0",
            "_view_name": "LayoutView",
            "align_content": null,
            "align_items": null,
            "align_self": null,
            "border": null,
            "bottom": null,
            "display": null,
            "flex": null,
            "flex_flow": null,
            "grid_area": null,
            "grid_auto_columns": null,
            "grid_auto_flow": null,
            "grid_auto_rows": null,
            "grid_column": null,
            "grid_gap": null,
            "grid_row": null,
            "grid_template_areas": null,
            "grid_template_columns": null,
            "grid_template_rows": null,
            "height": null,
            "justify_content": null,
            "justify_items": null,
            "left": null,
            "margin": null,
            "max_height": null,
            "max_width": null,
            "min_height": null,
            "min_width": null,
            "object_fit": null,
            "object_position": null,
            "order": null,
            "overflow": null,
            "overflow_x": null,
            "overflow_y": null,
            "padding": null,
            "right": null,
            "top": null,
            "visibility": null,
            "width": null
          }
        },
        "483b138c5af74991825a7b98b5b556f9": {
          "model_module": "@jupyter-widgets/controls",
          "model_name": "ProgressStyleModel",
          "model_module_version": "1.5.0",
          "state": {
            "_model_module": "@jupyter-widgets/controls",
            "_model_module_version": "1.5.0",
            "_model_name": "ProgressStyleModel",
            "_view_count": null,
            "_view_module": "@jupyter-widgets/base",
            "_view_module_version": "1.2.0",
            "_view_name": "StyleView",
            "bar_color": null,
            "description_width": ""
          }
        },
        "42afc0dd73124be9b0327f1d801af727": {
          "model_module": "@jupyter-widgets/base",
          "model_name": "LayoutModel",
          "model_module_version": "1.2.0",
          "state": {
            "_model_module": "@jupyter-widgets/base",
            "_model_module_version": "1.2.0",
            "_model_name": "LayoutModel",
            "_view_count": null,
            "_view_module": "@jupyter-widgets/base",
            "_view_module_version": "1.2.0",
            "_view_name": "LayoutView",
            "align_content": null,
            "align_items": null,
            "align_self": null,
            "border": null,
            "bottom": null,
            "display": null,
            "flex": null,
            "flex_flow": null,
            "grid_area": null,
            "grid_auto_columns": null,
            "grid_auto_flow": null,
            "grid_auto_rows": null,
            "grid_column": null,
            "grid_gap": null,
            "grid_row": null,
            "grid_template_areas": null,
            "grid_template_columns": null,
            "grid_template_rows": null,
            "height": null,
            "justify_content": null,
            "justify_items": null,
            "left": null,
            "margin": null,
            "max_height": null,
            "max_width": null,
            "min_height": null,
            "min_width": null,
            "object_fit": null,
            "object_position": null,
            "order": null,
            "overflow": null,
            "overflow_x": null,
            "overflow_y": null,
            "padding": null,
            "right": null,
            "top": null,
            "visibility": null,
            "width": null
          }
        },
        "ec54a62ee47d473c91d2288056615f68": {
          "model_module": "@jupyter-widgets/controls",
          "model_name": "DescriptionStyleModel",
          "model_module_version": "1.5.0",
          "state": {
            "_model_module": "@jupyter-widgets/controls",
            "_model_module_version": "1.5.0",
            "_model_name": "DescriptionStyleModel",
            "_view_count": null,
            "_view_module": "@jupyter-widgets/base",
            "_view_module_version": "1.2.0",
            "_view_name": "StyleView",
            "description_width": ""
          }
        },
        "a9f53008418641c786163fa0cebd1677": {
          "model_module": "@jupyter-widgets/controls",
          "model_name": "HBoxModel",
          "model_module_version": "1.5.0",
          "state": {
            "_dom_classes": [],
            "_model_module": "@jupyter-widgets/controls",
            "_model_module_version": "1.5.0",
            "_model_name": "HBoxModel",
            "_view_count": null,
            "_view_module": "@jupyter-widgets/controls",
            "_view_module_version": "1.5.0",
            "_view_name": "HBoxView",
            "box_style": "",
            "children": [
              "IPY_MODEL_4ff28f6c5f7649fd9e8ea9b39fef093c",
              "IPY_MODEL_6643b3100d0847f3acc78bb22b9e4b24",
              "IPY_MODEL_05b6707a5468469caf59f81dc4730c46"
            ],
            "layout": "IPY_MODEL_0248e9dbb3084bae9fb03fc301cd2a32"
          }
        },
        "4ff28f6c5f7649fd9e8ea9b39fef093c": {
          "model_module": "@jupyter-widgets/controls",
          "model_name": "HTMLModel",
          "model_module_version": "1.5.0",
          "state": {
            "_dom_classes": [],
            "_model_module": "@jupyter-widgets/controls",
            "_model_module_version": "1.5.0",
            "_model_name": "HTMLModel",
            "_view_count": null,
            "_view_module": "@jupyter-widgets/controls",
            "_view_module_version": "1.5.0",
            "_view_name": "HTMLView",
            "description": "",
            "description_tooltip": null,
            "layout": "IPY_MODEL_9e8583f7f6b64bf09bb6342db49fbf74",
            "placeholder": "​",
            "style": "IPY_MODEL_f58f06804d174ca9b3a2198c916d830d",
            "value": "Downloading: 100%"
          }
        },
        "6643b3100d0847f3acc78bb22b9e4b24": {
          "model_module": "@jupyter-widgets/controls",
          "model_name": "FloatProgressModel",
          "model_module_version": "1.5.0",
          "state": {
            "_dom_classes": [],
            "_model_module": "@jupyter-widgets/controls",
            "_model_module_version": "1.5.0",
            "_model_name": "FloatProgressModel",
            "_view_count": null,
            "_view_module": "@jupyter-widgets/controls",
            "_view_module_version": "1.5.0",
            "_view_name": "ProgressView",
            "bar_style": "success",
            "description": "",
            "description_tooltip": null,
            "layout": "IPY_MODEL_d064691db78f4edcbfcd61445d3d26d8",
            "max": 77779,
            "min": 0,
            "orientation": "horizontal",
            "style": "IPY_MODEL_0f4907a2cd7e4d8b95c5fd8e3ef85276",
            "value": 77779
          }
        },
        "05b6707a5468469caf59f81dc4730c46": {
          "model_module": "@jupyter-widgets/controls",
          "model_name": "HTMLModel",
          "model_module_version": "1.5.0",
          "state": {
            "_dom_classes": [],
            "_model_module": "@jupyter-widgets/controls",
            "_model_module_version": "1.5.0",
            "_model_name": "HTMLModel",
            "_view_count": null,
            "_view_module": "@jupyter-widgets/controls",
            "_view_module_version": "1.5.0",
            "_view_name": "HTMLView",
            "description": "",
            "description_tooltip": null,
            "layout": "IPY_MODEL_a013a0c9bdd64700a570a1d9d2c64ede",
            "placeholder": "​",
            "style": "IPY_MODEL_922646892a8e4734907b67a8b800440b",
            "value": " 77.8k/77.8k [00:00&lt;00:00, 1.32MB/s]"
          }
        },
        "0248e9dbb3084bae9fb03fc301cd2a32": {
          "model_module": "@jupyter-widgets/base",
          "model_name": "LayoutModel",
          "model_module_version": "1.2.0",
          "state": {
            "_model_module": "@jupyter-widgets/base",
            "_model_module_version": "1.2.0",
            "_model_name": "LayoutModel",
            "_view_count": null,
            "_view_module": "@jupyter-widgets/base",
            "_view_module_version": "1.2.0",
            "_view_name": "LayoutView",
            "align_content": null,
            "align_items": null,
            "align_self": null,
            "border": null,
            "bottom": null,
            "display": null,
            "flex": null,
            "flex_flow": null,
            "grid_area": null,
            "grid_auto_columns": null,
            "grid_auto_flow": null,
            "grid_auto_rows": null,
            "grid_column": null,
            "grid_gap": null,
            "grid_row": null,
            "grid_template_areas": null,
            "grid_template_columns": null,
            "grid_template_rows": null,
            "height": null,
            "justify_content": null,
            "justify_items": null,
            "left": null,
            "margin": null,
            "max_height": null,
            "max_width": null,
            "min_height": null,
            "min_width": null,
            "object_fit": null,
            "object_position": null,
            "order": null,
            "overflow": null,
            "overflow_x": null,
            "overflow_y": null,
            "padding": null,
            "right": null,
            "top": null,
            "visibility": null,
            "width": null
          }
        },
        "9e8583f7f6b64bf09bb6342db49fbf74": {
          "model_module": "@jupyter-widgets/base",
          "model_name": "LayoutModel",
          "model_module_version": "1.2.0",
          "state": {
            "_model_module": "@jupyter-widgets/base",
            "_model_module_version": "1.2.0",
            "_model_name": "LayoutModel",
            "_view_count": null,
            "_view_module": "@jupyter-widgets/base",
            "_view_module_version": "1.2.0",
            "_view_name": "LayoutView",
            "align_content": null,
            "align_items": null,
            "align_self": null,
            "border": null,
            "bottom": null,
            "display": null,
            "flex": null,
            "flex_flow": null,
            "grid_area": null,
            "grid_auto_columns": null,
            "grid_auto_flow": null,
            "grid_auto_rows": null,
            "grid_column": null,
            "grid_gap": null,
            "grid_row": null,
            "grid_template_areas": null,
            "grid_template_columns": null,
            "grid_template_rows": null,
            "height": null,
            "justify_content": null,
            "justify_items": null,
            "left": null,
            "margin": null,
            "max_height": null,
            "max_width": null,
            "min_height": null,
            "min_width": null,
            "object_fit": null,
            "object_position": null,
            "order": null,
            "overflow": null,
            "overflow_x": null,
            "overflow_y": null,
            "padding": null,
            "right": null,
            "top": null,
            "visibility": null,
            "width": null
          }
        },
        "f58f06804d174ca9b3a2198c916d830d": {
          "model_module": "@jupyter-widgets/controls",
          "model_name": "DescriptionStyleModel",
          "model_module_version": "1.5.0",
          "state": {
            "_model_module": "@jupyter-widgets/controls",
            "_model_module_version": "1.5.0",
            "_model_name": "DescriptionStyleModel",
            "_view_count": null,
            "_view_module": "@jupyter-widgets/base",
            "_view_module_version": "1.2.0",
            "_view_name": "StyleView",
            "description_width": ""
          }
        },
        "d064691db78f4edcbfcd61445d3d26d8": {
          "model_module": "@jupyter-widgets/base",
          "model_name": "LayoutModel",
          "model_module_version": "1.2.0",
          "state": {
            "_model_module": "@jupyter-widgets/base",
            "_model_module_version": "1.2.0",
            "_model_name": "LayoutModel",
            "_view_count": null,
            "_view_module": "@jupyter-widgets/base",
            "_view_module_version": "1.2.0",
            "_view_name": "LayoutView",
            "align_content": null,
            "align_items": null,
            "align_self": null,
            "border": null,
            "bottom": null,
            "display": null,
            "flex": null,
            "flex_flow": null,
            "grid_area": null,
            "grid_auto_columns": null,
            "grid_auto_flow": null,
            "grid_auto_rows": null,
            "grid_column": null,
            "grid_gap": null,
            "grid_row": null,
            "grid_template_areas": null,
            "grid_template_columns": null,
            "grid_template_rows": null,
            "height": null,
            "justify_content": null,
            "justify_items": null,
            "left": null,
            "margin": null,
            "max_height": null,
            "max_width": null,
            "min_height": null,
            "min_width": null,
            "object_fit": null,
            "object_position": null,
            "order": null,
            "overflow": null,
            "overflow_x": null,
            "overflow_y": null,
            "padding": null,
            "right": null,
            "top": null,
            "visibility": null,
            "width": null
          }
        },
        "0f4907a2cd7e4d8b95c5fd8e3ef85276": {
          "model_module": "@jupyter-widgets/controls",
          "model_name": "ProgressStyleModel",
          "model_module_version": "1.5.0",
          "state": {
            "_model_module": "@jupyter-widgets/controls",
            "_model_module_version": "1.5.0",
            "_model_name": "ProgressStyleModel",
            "_view_count": null,
            "_view_module": "@jupyter-widgets/base",
            "_view_module_version": "1.2.0",
            "_view_name": "StyleView",
            "bar_color": null,
            "description_width": ""
          }
        },
        "a013a0c9bdd64700a570a1d9d2c64ede": {
          "model_module": "@jupyter-widgets/base",
          "model_name": "LayoutModel",
          "model_module_version": "1.2.0",
          "state": {
            "_model_module": "@jupyter-widgets/base",
            "_model_module_version": "1.2.0",
            "_model_name": "LayoutModel",
            "_view_count": null,
            "_view_module": "@jupyter-widgets/base",
            "_view_module_version": "1.2.0",
            "_view_name": "LayoutView",
            "align_content": null,
            "align_items": null,
            "align_self": null,
            "border": null,
            "bottom": null,
            "display": null,
            "flex": null,
            "flex_flow": null,
            "grid_area": null,
            "grid_auto_columns": null,
            "grid_auto_flow": null,
            "grid_auto_rows": null,
            "grid_column": null,
            "grid_gap": null,
            "grid_row": null,
            "grid_template_areas": null,
            "grid_template_columns": null,
            "grid_template_rows": null,
            "height": null,
            "justify_content": null,
            "justify_items": null,
            "left": null,
            "margin": null,
            "max_height": null,
            "max_width": null,
            "min_height": null,
            "min_width": null,
            "object_fit": null,
            "object_position": null,
            "order": null,
            "overflow": null,
            "overflow_x": null,
            "overflow_y": null,
            "padding": null,
            "right": null,
            "top": null,
            "visibility": null,
            "width": null
          }
        },
        "922646892a8e4734907b67a8b800440b": {
          "model_module": "@jupyter-widgets/controls",
          "model_name": "DescriptionStyleModel",
          "model_module_version": "1.5.0",
          "state": {
            "_model_module": "@jupyter-widgets/controls",
            "_model_module_version": "1.5.0",
            "_model_name": "DescriptionStyleModel",
            "_view_count": null,
            "_view_module": "@jupyter-widgets/base",
            "_view_module_version": "1.2.0",
            "_view_name": "StyleView",
            "description_width": ""
          }
        },
        "6ef24d7eb7074b6e9fb5c3fe2f77f51e": {
          "model_module": "@jupyter-widgets/controls",
          "model_name": "HBoxModel",
          "model_module_version": "1.5.0",
          "state": {
            "_dom_classes": [],
            "_model_module": "@jupyter-widgets/controls",
            "_model_module_version": "1.5.0",
            "_model_name": "HBoxModel",
            "_view_count": null,
            "_view_module": "@jupyter-widgets/controls",
            "_view_module_version": "1.5.0",
            "_view_name": "HBoxView",
            "box_style": "",
            "children": [
              "IPY_MODEL_d0176ff9f0334066886a22624a7e7ca4",
              "IPY_MODEL_fd36ab14a1d24b429b463dc687c45801",
              "IPY_MODEL_68271fa0f9d348f096a8a735a0026378"
            ],
            "layout": "IPY_MODEL_f0ffd4ae6f714575978aaf62470ceece"
          }
        },
        "d0176ff9f0334066886a22624a7e7ca4": {
          "model_module": "@jupyter-widgets/controls",
          "model_name": "HTMLModel",
          "model_module_version": "1.5.0",
          "state": {
            "_dom_classes": [],
            "_model_module": "@jupyter-widgets/controls",
            "_model_module_version": "1.5.0",
            "_model_name": "HTMLModel",
            "_view_count": null,
            "_view_module": "@jupyter-widgets/controls",
            "_view_module_version": "1.5.0",
            "_view_name": "HTMLView",
            "description": "",
            "description_tooltip": null,
            "layout": "IPY_MODEL_4648a3ba09bf4d6dbeeebbba44862ada",
            "placeholder": "​",
            "style": "IPY_MODEL_d6519cd1459d49bdaf98ad298b3f70a1",
            "value": "Downloading: 100%"
          }
        },
        "fd36ab14a1d24b429b463dc687c45801": {
          "model_module": "@jupyter-widgets/controls",
          "model_name": "FloatProgressModel",
          "model_module_version": "1.5.0",
          "state": {
            "_dom_classes": [],
            "_model_module": "@jupyter-widgets/controls",
            "_model_module_version": "1.5.0",
            "_model_name": "FloatProgressModel",
            "_view_count": null,
            "_view_module": "@jupyter-widgets/controls",
            "_view_module_version": "1.5.0",
            "_view_name": "ProgressView",
            "bar_style": "success",
            "description": "",
            "description_tooltip": null,
            "layout": "IPY_MODEL_90fc89a35f4e4088aac094623dbd7d2f",
            "max": 51,
            "min": 0,
            "orientation": "horizontal",
            "style": "IPY_MODEL_ceb905e963d0481698f4c6cbd05cfba8",
            "value": 51
          }
        },
        "68271fa0f9d348f096a8a735a0026378": {
          "model_module": "@jupyter-widgets/controls",
          "model_name": "HTMLModel",
          "model_module_version": "1.5.0",
          "state": {
            "_dom_classes": [],
            "_model_module": "@jupyter-widgets/controls",
            "_model_module_version": "1.5.0",
            "_model_name": "HTMLModel",
            "_view_count": null,
            "_view_module": "@jupyter-widgets/controls",
            "_view_module_version": "1.5.0",
            "_view_name": "HTMLView",
            "description": "",
            "description_tooltip": null,
            "layout": "IPY_MODEL_61dee55cc3a64d86aaa5468b99f63e5f",
            "placeholder": "​",
            "style": "IPY_MODEL_87f38e4eb3a94ed1a330ff5bfd9a0bc3",
            "value": " 51.0/51.0 [00:00&lt;00:00, 862B/s]"
          }
        },
        "f0ffd4ae6f714575978aaf62470ceece": {
          "model_module": "@jupyter-widgets/base",
          "model_name": "LayoutModel",
          "model_module_version": "1.2.0",
          "state": {
            "_model_module": "@jupyter-widgets/base",
            "_model_module_version": "1.2.0",
            "_model_name": "LayoutModel",
            "_view_count": null,
            "_view_module": "@jupyter-widgets/base",
            "_view_module_version": "1.2.0",
            "_view_name": "LayoutView",
            "align_content": null,
            "align_items": null,
            "align_self": null,
            "border": null,
            "bottom": null,
            "display": null,
            "flex": null,
            "flex_flow": null,
            "grid_area": null,
            "grid_auto_columns": null,
            "grid_auto_flow": null,
            "grid_auto_rows": null,
            "grid_column": null,
            "grid_gap": null,
            "grid_row": null,
            "grid_template_areas": null,
            "grid_template_columns": null,
            "grid_template_rows": null,
            "height": null,
            "justify_content": null,
            "justify_items": null,
            "left": null,
            "margin": null,
            "max_height": null,
            "max_width": null,
            "min_height": null,
            "min_width": null,
            "object_fit": null,
            "object_position": null,
            "order": null,
            "overflow": null,
            "overflow_x": null,
            "overflow_y": null,
            "padding": null,
            "right": null,
            "top": null,
            "visibility": null,
            "width": null
          }
        },
        "4648a3ba09bf4d6dbeeebbba44862ada": {
          "model_module": "@jupyter-widgets/base",
          "model_name": "LayoutModel",
          "model_module_version": "1.2.0",
          "state": {
            "_model_module": "@jupyter-widgets/base",
            "_model_module_version": "1.2.0",
            "_model_name": "LayoutModel",
            "_view_count": null,
            "_view_module": "@jupyter-widgets/base",
            "_view_module_version": "1.2.0",
            "_view_name": "LayoutView",
            "align_content": null,
            "align_items": null,
            "align_self": null,
            "border": null,
            "bottom": null,
            "display": null,
            "flex": null,
            "flex_flow": null,
            "grid_area": null,
            "grid_auto_columns": null,
            "grid_auto_flow": null,
            "grid_auto_rows": null,
            "grid_column": null,
            "grid_gap": null,
            "grid_row": null,
            "grid_template_areas": null,
            "grid_template_columns": null,
            "grid_template_rows": null,
            "height": null,
            "justify_content": null,
            "justify_items": null,
            "left": null,
            "margin": null,
            "max_height": null,
            "max_width": null,
            "min_height": null,
            "min_width": null,
            "object_fit": null,
            "object_position": null,
            "order": null,
            "overflow": null,
            "overflow_x": null,
            "overflow_y": null,
            "padding": null,
            "right": null,
            "top": null,
            "visibility": null,
            "width": null
          }
        },
        "d6519cd1459d49bdaf98ad298b3f70a1": {
          "model_module": "@jupyter-widgets/controls",
          "model_name": "DescriptionStyleModel",
          "model_module_version": "1.5.0",
          "state": {
            "_model_module": "@jupyter-widgets/controls",
            "_model_module_version": "1.5.0",
            "_model_name": "DescriptionStyleModel",
            "_view_count": null,
            "_view_module": "@jupyter-widgets/base",
            "_view_module_version": "1.2.0",
            "_view_name": "StyleView",
            "description_width": ""
          }
        },
        "90fc89a35f4e4088aac094623dbd7d2f": {
          "model_module": "@jupyter-widgets/base",
          "model_name": "LayoutModel",
          "model_module_version": "1.2.0",
          "state": {
            "_model_module": "@jupyter-widgets/base",
            "_model_module_version": "1.2.0",
            "_model_name": "LayoutModel",
            "_view_count": null,
            "_view_module": "@jupyter-widgets/base",
            "_view_module_version": "1.2.0",
            "_view_name": "LayoutView",
            "align_content": null,
            "align_items": null,
            "align_self": null,
            "border": null,
            "bottom": null,
            "display": null,
            "flex": null,
            "flex_flow": null,
            "grid_area": null,
            "grid_auto_columns": null,
            "grid_auto_flow": null,
            "grid_auto_rows": null,
            "grid_column": null,
            "grid_gap": null,
            "grid_row": null,
            "grid_template_areas": null,
            "grid_template_columns": null,
            "grid_template_rows": null,
            "height": null,
            "justify_content": null,
            "justify_items": null,
            "left": null,
            "margin": null,
            "max_height": null,
            "max_width": null,
            "min_height": null,
            "min_width": null,
            "object_fit": null,
            "object_position": null,
            "order": null,
            "overflow": null,
            "overflow_x": null,
            "overflow_y": null,
            "padding": null,
            "right": null,
            "top": null,
            "visibility": null,
            "width": null
          }
        },
        "ceb905e963d0481698f4c6cbd05cfba8": {
          "model_module": "@jupyter-widgets/controls",
          "model_name": "ProgressStyleModel",
          "model_module_version": "1.5.0",
          "state": {
            "_model_module": "@jupyter-widgets/controls",
            "_model_module_version": "1.5.0",
            "_model_name": "ProgressStyleModel",
            "_view_count": null,
            "_view_module": "@jupyter-widgets/base",
            "_view_module_version": "1.2.0",
            "_view_name": "StyleView",
            "bar_color": null,
            "description_width": ""
          }
        },
        "61dee55cc3a64d86aaa5468b99f63e5f": {
          "model_module": "@jupyter-widgets/base",
          "model_name": "LayoutModel",
          "model_module_version": "1.2.0",
          "state": {
            "_model_module": "@jupyter-widgets/base",
            "_model_module_version": "1.2.0",
            "_model_name": "LayoutModel",
            "_view_count": null,
            "_view_module": "@jupyter-widgets/base",
            "_view_module_version": "1.2.0",
            "_view_name": "LayoutView",
            "align_content": null,
            "align_items": null,
            "align_self": null,
            "border": null,
            "bottom": null,
            "display": null,
            "flex": null,
            "flex_flow": null,
            "grid_area": null,
            "grid_auto_columns": null,
            "grid_auto_flow": null,
            "grid_auto_rows": null,
            "grid_column": null,
            "grid_gap": null,
            "grid_row": null,
            "grid_template_areas": null,
            "grid_template_columns": null,
            "grid_template_rows": null,
            "height": null,
            "justify_content": null,
            "justify_items": null,
            "left": null,
            "margin": null,
            "max_height": null,
            "max_width": null,
            "min_height": null,
            "min_width": null,
            "object_fit": null,
            "object_position": null,
            "order": null,
            "overflow": null,
            "overflow_x": null,
            "overflow_y": null,
            "padding": null,
            "right": null,
            "top": null,
            "visibility": null,
            "width": null
          }
        },
        "87f38e4eb3a94ed1a330ff5bfd9a0bc3": {
          "model_module": "@jupyter-widgets/controls",
          "model_name": "DescriptionStyleModel",
          "model_module_version": "1.5.0",
          "state": {
            "_model_module": "@jupyter-widgets/controls",
            "_model_module_version": "1.5.0",
            "_model_name": "DescriptionStyleModel",
            "_view_count": null,
            "_view_module": "@jupyter-widgets/base",
            "_view_module_version": "1.2.0",
            "_view_name": "StyleView",
            "description_width": ""
          }
        },
        "55c75cebfbc7496a882deb417a5015aa": {
          "model_module": "@jupyter-widgets/controls",
          "model_name": "HBoxModel",
          "model_module_version": "1.5.0",
          "state": {
            "_dom_classes": [],
            "_model_module": "@jupyter-widgets/controls",
            "_model_module_version": "1.5.0",
            "_model_name": "HBoxModel",
            "_view_count": null,
            "_view_module": "@jupyter-widgets/controls",
            "_view_module_version": "1.5.0",
            "_view_name": "HBoxView",
            "box_style": "",
            "children": [
              "IPY_MODEL_e8c4fa1591694a75b9cfbc6bcb877a11",
              "IPY_MODEL_ccbf696c05704d6ca553cce04bc49d30",
              "IPY_MODEL_167acf1decf74c4a860975c579622011"
            ],
            "layout": "IPY_MODEL_ab2ebcf7a5a84955b3c4791d31025f2b"
          }
        },
        "e8c4fa1591694a75b9cfbc6bcb877a11": {
          "model_module": "@jupyter-widgets/controls",
          "model_name": "HTMLModel",
          "model_module_version": "1.5.0",
          "state": {
            "_dom_classes": [],
            "_model_module": "@jupyter-widgets/controls",
            "_model_module_version": "1.5.0",
            "_model_name": "HTMLModel",
            "_view_count": null,
            "_view_module": "@jupyter-widgets/controls",
            "_view_module_version": "1.5.0",
            "_view_name": "HTMLView",
            "description": "",
            "description_tooltip": null,
            "layout": "IPY_MODEL_1406904164dc40c488af7eb89d3aa881",
            "placeholder": "​",
            "style": "IPY_MODEL_2d01a9c09d9149a0adbd135c053811d6",
            "value": "Downloading: 100%"
          }
        },
        "ccbf696c05704d6ca553cce04bc49d30": {
          "model_module": "@jupyter-widgets/controls",
          "model_name": "FloatProgressModel",
          "model_module_version": "1.5.0",
          "state": {
            "_dom_classes": [],
            "_model_module": "@jupyter-widgets/controls",
            "_model_module_version": "1.5.0",
            "_model_name": "FloatProgressModel",
            "_view_count": null,
            "_view_module": "@jupyter-widgets/controls",
            "_view_module_version": "1.5.0",
            "_view_name": "ProgressView",
            "bar_style": "success",
            "description": "",
            "description_tooltip": null,
            "layout": "IPY_MODEL_4a3c1ae8515f4e31aa1359715228910b",
            "max": 426,
            "min": 0,
            "orientation": "horizontal",
            "style": "IPY_MODEL_7085bd184ef84eec88b62e42ea7f798b",
            "value": 426
          }
        },
        "167acf1decf74c4a860975c579622011": {
          "model_module": "@jupyter-widgets/controls",
          "model_name": "HTMLModel",
          "model_module_version": "1.5.0",
          "state": {
            "_dom_classes": [],
            "_model_module": "@jupyter-widgets/controls",
            "_model_module_version": "1.5.0",
            "_model_name": "HTMLModel",
            "_view_count": null,
            "_view_module": "@jupyter-widgets/controls",
            "_view_module_version": "1.5.0",
            "_view_name": "HTMLView",
            "description": "",
            "description_tooltip": null,
            "layout": "IPY_MODEL_c1e91dd65b354b5fab6f410b95f4f165",
            "placeholder": "​",
            "style": "IPY_MODEL_c5958e251f074034b6793cb44e8e6700",
            "value": " 426/426 [00:00&lt;00:00, 10.9kB/s]"
          }
        },
        "ab2ebcf7a5a84955b3c4791d31025f2b": {
          "model_module": "@jupyter-widgets/base",
          "model_name": "LayoutModel",
          "model_module_version": "1.2.0",
          "state": {
            "_model_module": "@jupyter-widgets/base",
            "_model_module_version": "1.2.0",
            "_model_name": "LayoutModel",
            "_view_count": null,
            "_view_module": "@jupyter-widgets/base",
            "_view_module_version": "1.2.0",
            "_view_name": "LayoutView",
            "align_content": null,
            "align_items": null,
            "align_self": null,
            "border": null,
            "bottom": null,
            "display": null,
            "flex": null,
            "flex_flow": null,
            "grid_area": null,
            "grid_auto_columns": null,
            "grid_auto_flow": null,
            "grid_auto_rows": null,
            "grid_column": null,
            "grid_gap": null,
            "grid_row": null,
            "grid_template_areas": null,
            "grid_template_columns": null,
            "grid_template_rows": null,
            "height": null,
            "justify_content": null,
            "justify_items": null,
            "left": null,
            "margin": null,
            "max_height": null,
            "max_width": null,
            "min_height": null,
            "min_width": null,
            "object_fit": null,
            "object_position": null,
            "order": null,
            "overflow": null,
            "overflow_x": null,
            "overflow_y": null,
            "padding": null,
            "right": null,
            "top": null,
            "visibility": null,
            "width": null
          }
        },
        "1406904164dc40c488af7eb89d3aa881": {
          "model_module": "@jupyter-widgets/base",
          "model_name": "LayoutModel",
          "model_module_version": "1.2.0",
          "state": {
            "_model_module": "@jupyter-widgets/base",
            "_model_module_version": "1.2.0",
            "_model_name": "LayoutModel",
            "_view_count": null,
            "_view_module": "@jupyter-widgets/base",
            "_view_module_version": "1.2.0",
            "_view_name": "LayoutView",
            "align_content": null,
            "align_items": null,
            "align_self": null,
            "border": null,
            "bottom": null,
            "display": null,
            "flex": null,
            "flex_flow": null,
            "grid_area": null,
            "grid_auto_columns": null,
            "grid_auto_flow": null,
            "grid_auto_rows": null,
            "grid_column": null,
            "grid_gap": null,
            "grid_row": null,
            "grid_template_areas": null,
            "grid_template_columns": null,
            "grid_template_rows": null,
            "height": null,
            "justify_content": null,
            "justify_items": null,
            "left": null,
            "margin": null,
            "max_height": null,
            "max_width": null,
            "min_height": null,
            "min_width": null,
            "object_fit": null,
            "object_position": null,
            "order": null,
            "overflow": null,
            "overflow_x": null,
            "overflow_y": null,
            "padding": null,
            "right": null,
            "top": null,
            "visibility": null,
            "width": null
          }
        },
        "2d01a9c09d9149a0adbd135c053811d6": {
          "model_module": "@jupyter-widgets/controls",
          "model_name": "DescriptionStyleModel",
          "model_module_version": "1.5.0",
          "state": {
            "_model_module": "@jupyter-widgets/controls",
            "_model_module_version": "1.5.0",
            "_model_name": "DescriptionStyleModel",
            "_view_count": null,
            "_view_module": "@jupyter-widgets/base",
            "_view_module_version": "1.2.0",
            "_view_name": "StyleView",
            "description_width": ""
          }
        },
        "4a3c1ae8515f4e31aa1359715228910b": {
          "model_module": "@jupyter-widgets/base",
          "model_name": "LayoutModel",
          "model_module_version": "1.2.0",
          "state": {
            "_model_module": "@jupyter-widgets/base",
            "_model_module_version": "1.2.0",
            "_model_name": "LayoutModel",
            "_view_count": null,
            "_view_module": "@jupyter-widgets/base",
            "_view_module_version": "1.2.0",
            "_view_name": "LayoutView",
            "align_content": null,
            "align_items": null,
            "align_self": null,
            "border": null,
            "bottom": null,
            "display": null,
            "flex": null,
            "flex_flow": null,
            "grid_area": null,
            "grid_auto_columns": null,
            "grid_auto_flow": null,
            "grid_auto_rows": null,
            "grid_column": null,
            "grid_gap": null,
            "grid_row": null,
            "grid_template_areas": null,
            "grid_template_columns": null,
            "grid_template_rows": null,
            "height": null,
            "justify_content": null,
            "justify_items": null,
            "left": null,
            "margin": null,
            "max_height": null,
            "max_width": null,
            "min_height": null,
            "min_width": null,
            "object_fit": null,
            "object_position": null,
            "order": null,
            "overflow": null,
            "overflow_x": null,
            "overflow_y": null,
            "padding": null,
            "right": null,
            "top": null,
            "visibility": null,
            "width": null
          }
        },
        "7085bd184ef84eec88b62e42ea7f798b": {
          "model_module": "@jupyter-widgets/controls",
          "model_name": "ProgressStyleModel",
          "model_module_version": "1.5.0",
          "state": {
            "_model_module": "@jupyter-widgets/controls",
            "_model_module_version": "1.5.0",
            "_model_name": "ProgressStyleModel",
            "_view_count": null,
            "_view_module": "@jupyter-widgets/base",
            "_view_module_version": "1.2.0",
            "_view_name": "StyleView",
            "bar_color": null,
            "description_width": ""
          }
        },
        "c1e91dd65b354b5fab6f410b95f4f165": {
          "model_module": "@jupyter-widgets/base",
          "model_name": "LayoutModel",
          "model_module_version": "1.2.0",
          "state": {
            "_model_module": "@jupyter-widgets/base",
            "_model_module_version": "1.2.0",
            "_model_name": "LayoutModel",
            "_view_count": null,
            "_view_module": "@jupyter-widgets/base",
            "_view_module_version": "1.2.0",
            "_view_name": "LayoutView",
            "align_content": null,
            "align_items": null,
            "align_self": null,
            "border": null,
            "bottom": null,
            "display": null,
            "flex": null,
            "flex_flow": null,
            "grid_area": null,
            "grid_auto_columns": null,
            "grid_auto_flow": null,
            "grid_auto_rows": null,
            "grid_column": null,
            "grid_gap": null,
            "grid_row": null,
            "grid_template_areas": null,
            "grid_template_columns": null,
            "grid_template_rows": null,
            "height": null,
            "justify_content": null,
            "justify_items": null,
            "left": null,
            "margin": null,
            "max_height": null,
            "max_width": null,
            "min_height": null,
            "min_width": null,
            "object_fit": null,
            "object_position": null,
            "order": null,
            "overflow": null,
            "overflow_x": null,
            "overflow_y": null,
            "padding": null,
            "right": null,
            "top": null,
            "visibility": null,
            "width": null
          }
        },
        "c5958e251f074034b6793cb44e8e6700": {
          "model_module": "@jupyter-widgets/controls",
          "model_name": "DescriptionStyleModel",
          "model_module_version": "1.5.0",
          "state": {
            "_model_module": "@jupyter-widgets/controls",
            "_model_module_version": "1.5.0",
            "_model_name": "DescriptionStyleModel",
            "_view_count": null,
            "_view_module": "@jupyter-widgets/base",
            "_view_module_version": "1.2.0",
            "_view_name": "StyleView",
            "description_width": ""
          }
        },
        "61e0f426d2a8471e9b41ed112aecebaf": {
          "model_module": "@jupyter-widgets/controls",
          "model_name": "HBoxModel",
          "model_module_version": "1.5.0",
          "state": {
            "_dom_classes": [],
            "_model_module": "@jupyter-widgets/controls",
            "_model_module_version": "1.5.0",
            "_model_name": "HBoxModel",
            "_view_count": null,
            "_view_module": "@jupyter-widgets/controls",
            "_view_module_version": "1.5.0",
            "_view_name": "HBoxView",
            "box_style": "",
            "children": [
              "IPY_MODEL_c6d8a5f636944676bc34cb0e7142f127",
              "IPY_MODEL_300ffa5d1f9142fda1ccc1b11f88424b",
              "IPY_MODEL_930f8861463b45a3b3b6e58f6d212cbb"
            ],
            "layout": "IPY_MODEL_f7122ccb0b41410b8b2299680d181f37"
          }
        },
        "c6d8a5f636944676bc34cb0e7142f127": {
          "model_module": "@jupyter-widgets/controls",
          "model_name": "HTMLModel",
          "model_module_version": "1.5.0",
          "state": {
            "_dom_classes": [],
            "_model_module": "@jupyter-widgets/controls",
            "_model_module_version": "1.5.0",
            "_model_name": "HTMLModel",
            "_view_count": null,
            "_view_module": "@jupyter-widgets/controls",
            "_view_module_version": "1.5.0",
            "_view_name": "HTMLView",
            "description": "",
            "description_tooltip": null,
            "layout": "IPY_MODEL_6cfc9965ddef4d468bf79c79a5582a25",
            "placeholder": "​",
            "style": "IPY_MODEL_9945bcc3d86e461ab2cc04af7208a710",
            "value": "Downloading: 100%"
          }
        },
        "300ffa5d1f9142fda1ccc1b11f88424b": {
          "model_module": "@jupyter-widgets/controls",
          "model_name": "FloatProgressModel",
          "model_module_version": "1.5.0",
          "state": {
            "_dom_classes": [],
            "_model_module": "@jupyter-widgets/controls",
            "_model_module_version": "1.5.0",
            "_model_name": "FloatProgressModel",
            "_view_count": null,
            "_view_module": "@jupyter-widgets/controls",
            "_view_module_version": "1.5.0",
            "_view_name": "ProgressView",
            "bar_style": "success",
            "description": "",
            "description_tooltip": null,
            "layout": "IPY_MODEL_b66ac5cad9294f7584793a3100f51987",
            "max": 368792146,
            "min": 0,
            "orientation": "horizontal",
            "style": "IPY_MODEL_131486cd97144fbaa6e9527b945bc338",
            "value": 368792146
          }
        },
        "930f8861463b45a3b3b6e58f6d212cbb": {
          "model_module": "@jupyter-widgets/controls",
          "model_name": "HTMLModel",
          "model_module_version": "1.5.0",
          "state": {
            "_dom_classes": [],
            "_model_module": "@jupyter-widgets/controls",
            "_model_module_version": "1.5.0",
            "_model_name": "HTMLModel",
            "_view_count": null,
            "_view_module": "@jupyter-widgets/controls",
            "_view_module_version": "1.5.0",
            "_view_name": "HTMLView",
            "description": "",
            "description_tooltip": null,
            "layout": "IPY_MODEL_e0591379ba18432a93f51106623d118e",
            "placeholder": "​",
            "style": "IPY_MODEL_b5611fd799fd4e5fa98b281ecc4d0609",
            "value": " 369M/369M [00:07&lt;00:00, 54.0MB/s]"
          }
        },
        "f7122ccb0b41410b8b2299680d181f37": {
          "model_module": "@jupyter-widgets/base",
          "model_name": "LayoutModel",
          "model_module_version": "1.2.0",
          "state": {
            "_model_module": "@jupyter-widgets/base",
            "_model_module_version": "1.2.0",
            "_model_name": "LayoutModel",
            "_view_count": null,
            "_view_module": "@jupyter-widgets/base",
            "_view_module_version": "1.2.0",
            "_view_name": "LayoutView",
            "align_content": null,
            "align_items": null,
            "align_self": null,
            "border": null,
            "bottom": null,
            "display": null,
            "flex": null,
            "flex_flow": null,
            "grid_area": null,
            "grid_auto_columns": null,
            "grid_auto_flow": null,
            "grid_auto_rows": null,
            "grid_column": null,
            "grid_gap": null,
            "grid_row": null,
            "grid_template_areas": null,
            "grid_template_columns": null,
            "grid_template_rows": null,
            "height": null,
            "justify_content": null,
            "justify_items": null,
            "left": null,
            "margin": null,
            "max_height": null,
            "max_width": null,
            "min_height": null,
            "min_width": null,
            "object_fit": null,
            "object_position": null,
            "order": null,
            "overflow": null,
            "overflow_x": null,
            "overflow_y": null,
            "padding": null,
            "right": null,
            "top": null,
            "visibility": null,
            "width": null
          }
        },
        "6cfc9965ddef4d468bf79c79a5582a25": {
          "model_module": "@jupyter-widgets/base",
          "model_name": "LayoutModel",
          "model_module_version": "1.2.0",
          "state": {
            "_model_module": "@jupyter-widgets/base",
            "_model_module_version": "1.2.0",
            "_model_name": "LayoutModel",
            "_view_count": null,
            "_view_module": "@jupyter-widgets/base",
            "_view_module_version": "1.2.0",
            "_view_name": "LayoutView",
            "align_content": null,
            "align_items": null,
            "align_self": null,
            "border": null,
            "bottom": null,
            "display": null,
            "flex": null,
            "flex_flow": null,
            "grid_area": null,
            "grid_auto_columns": null,
            "grid_auto_flow": null,
            "grid_auto_rows": null,
            "grid_column": null,
            "grid_gap": null,
            "grid_row": null,
            "grid_template_areas": null,
            "grid_template_columns": null,
            "grid_template_rows": null,
            "height": null,
            "justify_content": null,
            "justify_items": null,
            "left": null,
            "margin": null,
            "max_height": null,
            "max_width": null,
            "min_height": null,
            "min_width": null,
            "object_fit": null,
            "object_position": null,
            "order": null,
            "overflow": null,
            "overflow_x": null,
            "overflow_y": null,
            "padding": null,
            "right": null,
            "top": null,
            "visibility": null,
            "width": null
          }
        },
        "9945bcc3d86e461ab2cc04af7208a710": {
          "model_module": "@jupyter-widgets/controls",
          "model_name": "DescriptionStyleModel",
          "model_module_version": "1.5.0",
          "state": {
            "_model_module": "@jupyter-widgets/controls",
            "_model_module_version": "1.5.0",
            "_model_name": "DescriptionStyleModel",
            "_view_count": null,
            "_view_module": "@jupyter-widgets/base",
            "_view_module_version": "1.2.0",
            "_view_name": "StyleView",
            "description_width": ""
          }
        },
        "b66ac5cad9294f7584793a3100f51987": {
          "model_module": "@jupyter-widgets/base",
          "model_name": "LayoutModel",
          "model_module_version": "1.2.0",
          "state": {
            "_model_module": "@jupyter-widgets/base",
            "_model_module_version": "1.2.0",
            "_model_name": "LayoutModel",
            "_view_count": null,
            "_view_module": "@jupyter-widgets/base",
            "_view_module_version": "1.2.0",
            "_view_name": "LayoutView",
            "align_content": null,
            "align_items": null,
            "align_self": null,
            "border": null,
            "bottom": null,
            "display": null,
            "flex": null,
            "flex_flow": null,
            "grid_area": null,
            "grid_auto_columns": null,
            "grid_auto_flow": null,
            "grid_auto_rows": null,
            "grid_column": null,
            "grid_gap": null,
            "grid_row": null,
            "grid_template_areas": null,
            "grid_template_columns": null,
            "grid_template_rows": null,
            "height": null,
            "justify_content": null,
            "justify_items": null,
            "left": null,
            "margin": null,
            "max_height": null,
            "max_width": null,
            "min_height": null,
            "min_width": null,
            "object_fit": null,
            "object_position": null,
            "order": null,
            "overflow": null,
            "overflow_x": null,
            "overflow_y": null,
            "padding": null,
            "right": null,
            "top": null,
            "visibility": null,
            "width": null
          }
        },
        "131486cd97144fbaa6e9527b945bc338": {
          "model_module": "@jupyter-widgets/controls",
          "model_name": "ProgressStyleModel",
          "model_module_version": "1.5.0",
          "state": {
            "_model_module": "@jupyter-widgets/controls",
            "_model_module_version": "1.5.0",
            "_model_name": "ProgressStyleModel",
            "_view_count": null,
            "_view_module": "@jupyter-widgets/base",
            "_view_module_version": "1.2.0",
            "_view_name": "StyleView",
            "bar_color": null,
            "description_width": ""
          }
        },
        "e0591379ba18432a93f51106623d118e": {
          "model_module": "@jupyter-widgets/base",
          "model_name": "LayoutModel",
          "model_module_version": "1.2.0",
          "state": {
            "_model_module": "@jupyter-widgets/base",
            "_model_module_version": "1.2.0",
            "_model_name": "LayoutModel",
            "_view_count": null,
            "_view_module": "@jupyter-widgets/base",
            "_view_module_version": "1.2.0",
            "_view_name": "LayoutView",
            "align_content": null,
            "align_items": null,
            "align_self": null,
            "border": null,
            "bottom": null,
            "display": null,
            "flex": null,
            "flex_flow": null,
            "grid_area": null,
            "grid_auto_columns": null,
            "grid_auto_flow": null,
            "grid_auto_rows": null,
            "grid_column": null,
            "grid_gap": null,
            "grid_row": null,
            "grid_template_areas": null,
            "grid_template_columns": null,
            "grid_template_rows": null,
            "height": null,
            "justify_content": null,
            "justify_items": null,
            "left": null,
            "margin": null,
            "max_height": null,
            "max_width": null,
            "min_height": null,
            "min_width": null,
            "object_fit": null,
            "object_position": null,
            "order": null,
            "overflow": null,
            "overflow_x": null,
            "overflow_y": null,
            "padding": null,
            "right": null,
            "top": null,
            "visibility": null,
            "width": null
          }
        },
        "b5611fd799fd4e5fa98b281ecc4d0609": {
          "model_module": "@jupyter-widgets/controls",
          "model_name": "DescriptionStyleModel",
          "model_module_version": "1.5.0",
          "state": {
            "_model_module": "@jupyter-widgets/controls",
            "_model_module_version": "1.5.0",
            "_model_name": "DescriptionStyleModel",
            "_view_count": null,
            "_view_module": "@jupyter-widgets/base",
            "_view_module_version": "1.2.0",
            "_view_name": "StyleView",
            "description_width": ""
          }
        }
      }
    }
  },
  "cells": [
    {
      "cell_type": "markdown",
      "metadata": {
        "id": "view-in-github",
        "colab_type": "text"
      },
      "source": [
        "<a href=\"https://colab.research.google.com/github/sihyeon3523/Six_of_cells/blob/modeling/Seunguk_(3)_lyricModelling.ipynb\" target=\"_parent\"><img src=\"https://colab.research.google.com/assets/colab-badge.svg\" alt=\"Open In Colab\"/></a>"
      ]
    },
    {
      "cell_type": "markdown",
      "source": [
        "<br>\n",
        "<br>\n",
        "\n",
        "# 0. Install & import libraries "
      ],
      "metadata": {
        "id": "gX_jZ07Dynfm"
      }
    },
    {
      "cell_type": "code",
      "source": [
        "from IPython.display import clear_output \n",
        "\n",
        "!pip install transformers==4.8.2\n",
        "!pip install sentencepiece==0.1.96\n",
        "!pip install tensorflow_addons\n",
        "\n",
        "clear_output()\n",
        "\n",
        "import sklearn\n",
        "import tensorflow\n",
        "import transformers\n",
        "import tensorflow_addons\n",
        "\n",
        "print(sklearn.__version__) # 1.0.2 \n",
        "print(tensorflow.__version__) # 2.8.0  \n",
        "print(transformers.__version__) # 4.8.2  \n",
        "print(tensorflow_addons.__version__) # 0.16.1 \n",
        "\n",
        "import sentencepiece\n",
        "\n",
        "import pandas as pd\n",
        "import numpy as np\n",
        "\n",
        "import os\n",
        "import re\n",
        "import pickle \n",
        "import dill # for saving a function as a file(.pkl)\n",
        "import logging # for changing the tf's logging level\n",
        "import urllib.request\n",
        "from tqdm import tqdm\n",
        "\n",
        "from sklearn import model_selection\n",
        "from sklearn.metrics import accuracy_score\n",
        "\n",
        "import tensorflow as tf\n",
        "import tensorflow_addons as tfa # for using Rectified-Adam optimizer (instead of Adam optimizer) \n",
        "from tensorflow.keras import layers, initializers, losses, optimizers, metrics, callbacks \n",
        "\n",
        "import transformers\n",
        "from transformers import TFBertModel # BertTokenizer 제외\n",
        "\n",
        "import sentencepiece as spm\n",
        "import ast  # str list to list"
      ],
      "metadata": {
        "id": "WYMLcxGyy6R4",
        "colab": {
          "base_uri": "https://localhost:8080/"
        },
        "outputId": "7d8c6321-d496-45e7-e910-2a0198a07481"
      },
      "execution_count": 6,
      "outputs": [
        {
          "output_type": "stream",
          "name": "stdout",
          "text": [
            "1.0.2\n",
            "2.8.0\n",
            "4.8.2\n",
            "0.17.0\n"
          ]
        }
      ]
    },
    {
      "cell_type": "code",
      "source": [
        "# Random seed 고정\n",
        "tf.random.set_seed(1234)\n",
        "np.random.seed(1234)\n",
        "\n",
        "# Transformers logging level 변경 (WARNING -> ERROR) @ https://huggingface.co/transformers/main_classes/logging.html\n",
        "transformers.logging.set_verbosity(transformers.logging.ERROR)\n",
        "\n",
        "# Tensorflow logging level 변경 \n",
        "tf.get_logger().setLevel(logging.ERROR)"
      ],
      "metadata": {
        "id": "ZP1nP5NXBT8W"
      },
      "execution_count": 7,
      "outputs": []
    },
    {
      "cell_type": "code",
      "source": [
        "#KoBERT 불러오기\n",
        "!git clone https://github.com/monologg/KoBERT-Transformers.git\n",
        "!mv KoBERT-Transformers/kobert_transformers/tokenization_kobert.py /content\n",
        "clear_output() # clear the output\n",
        "\n",
        "#토크나이저 생성\n",
        "from tokenization_kobert import KoBertTokenizer \n",
        "\n",
        "tokenizer = KoBertTokenizer.from_pretrained('monologg/kobert')"
      ],
      "metadata": {
        "id": "du0ZRI16BagI",
        "colab": {
          "base_uri": "https://localhost:8080/",
          "height": 113,
          "referenced_widgets": [
            "9b3daa7213904e5283fd449f6ad269f7",
            "167ea28cb41e43258ff749c4c7b7f1ce",
            "9c7ccfa1276d445d8e70524fdca34018",
            "7bc906fde2954ffca1c3b4b2d8fb680e",
            "ea45fa8c21514b998b87c7d2e8dd25ef",
            "463504cb7de244b18c84ad3342199b06",
            "371c02739fa1447a9866188c5af43b4c",
            "e26c1b771e7746d9980e4dafe8bcaf18",
            "483b138c5af74991825a7b98b5b556f9",
            "42afc0dd73124be9b0327f1d801af727",
            "ec54a62ee47d473c91d2288056615f68",
            "a9f53008418641c786163fa0cebd1677",
            "4ff28f6c5f7649fd9e8ea9b39fef093c",
            "6643b3100d0847f3acc78bb22b9e4b24",
            "05b6707a5468469caf59f81dc4730c46",
            "0248e9dbb3084bae9fb03fc301cd2a32",
            "9e8583f7f6b64bf09bb6342db49fbf74",
            "f58f06804d174ca9b3a2198c916d830d",
            "d064691db78f4edcbfcd61445d3d26d8",
            "0f4907a2cd7e4d8b95c5fd8e3ef85276",
            "a013a0c9bdd64700a570a1d9d2c64ede",
            "922646892a8e4734907b67a8b800440b",
            "6ef24d7eb7074b6e9fb5c3fe2f77f51e",
            "d0176ff9f0334066886a22624a7e7ca4",
            "fd36ab14a1d24b429b463dc687c45801",
            "68271fa0f9d348f096a8a735a0026378",
            "f0ffd4ae6f714575978aaf62470ceece",
            "4648a3ba09bf4d6dbeeebbba44862ada",
            "d6519cd1459d49bdaf98ad298b3f70a1",
            "90fc89a35f4e4088aac094623dbd7d2f",
            "ceb905e963d0481698f4c6cbd05cfba8",
            "61dee55cc3a64d86aaa5468b99f63e5f",
            "87f38e4eb3a94ed1a330ff5bfd9a0bc3"
          ]
        },
        "outputId": "550179c2-be6a-45d3-ae0a-5f51b1446fa5"
      },
      "execution_count": 8,
      "outputs": [
        {
          "output_type": "display_data",
          "data": {
            "text/plain": [
              "Downloading:   0%|          | 0.00/371k [00:00<?, ?B/s]"
            ],
            "application/vnd.jupyter.widget-view+json": {
              "version_major": 2,
              "version_minor": 0,
              "model_id": "9b3daa7213904e5283fd449f6ad269f7"
            }
          },
          "metadata": {}
        },
        {
          "output_type": "display_data",
          "data": {
            "text/plain": [
              "Downloading:   0%|          | 0.00/77.8k [00:00<?, ?B/s]"
            ],
            "application/vnd.jupyter.widget-view+json": {
              "version_major": 2,
              "version_minor": 0,
              "model_id": "a9f53008418641c786163fa0cebd1677"
            }
          },
          "metadata": {}
        },
        {
          "output_type": "display_data",
          "data": {
            "text/plain": [
              "Downloading:   0%|          | 0.00/51.0 [00:00<?, ?B/s]"
            ],
            "application/vnd.jupyter.widget-view+json": {
              "version_major": 2,
              "version_minor": 0,
              "model_id": "6ef24d7eb7074b6e9fb5c3fe2f77f51e"
            }
          },
          "metadata": {}
        }
      ]
    },
    {
      "cell_type": "markdown",
      "source": [
        "# Import Google Drive "
      ],
      "metadata": {
        "id": "X6qL5EKSBowl"
      }
    },
    {
      "cell_type": "code",
      "source": [
        "from google.colab import drive\n",
        "drive.mount('/content/drive')"
      ],
      "metadata": {
        "id": "pEPEnIFu94xb",
        "colab": {
          "base_uri": "https://localhost:8080/"
        },
        "outputId": "792b2c3c-6fba-4c3b-e3ef-7dd32ecb4851"
      },
      "execution_count": 9,
      "outputs": [
        {
          "output_type": "stream",
          "name": "stdout",
          "text": [
            "Drive already mounted at /content/drive; to attempt to forcibly remount, call drive.mount(\"/content/drive\", force_remount=True).\n"
          ]
        }
      ]
    },
    {
      "cell_type": "code",
      "source": [
        "os.getcwd()"
      ],
      "metadata": {
        "id": "DFlih56_7FbR",
        "colab": {
          "base_uri": "https://localhost:8080/",
          "height": 35
        },
        "outputId": "a39605a0-cf5e-4860-b0c8-f2845784454c"
      },
      "execution_count": 10,
      "outputs": [
        {
          "output_type": "execute_result",
          "data": {
            "text/plain": [
              "'/content'"
            ],
            "application/vnd.google.colaboratory.intrinsic+json": {
              "type": "string"
            }
          },
          "metadata": {},
          "execution_count": 10
        }
      ]
    },
    {
      "cell_type": "code",
      "source": [
        "# 경로만 바꾸면 됨!\n",
        "path = '/content/drive/MyDrive/likelion/proj_fin_seunguk'# google drive project path\n",
        "data_path = 'colab_data/temp_data/' # model data path\n",
        "checkpoint_path = 'colab_data/temp_data/saved_models/' # saved model path\n",
        "\n",
        "os.chdir(path)"
      ],
      "metadata": {
        "id": "EaiTyc8n5Oev"
      },
      "execution_count": 11,
      "outputs": []
    },
    {
      "cell_type": "markdown",
      "source": [
        "# 1. Load the Data"
      ],
      "metadata": {
        "id": "35DqagFHBmlm"
      }
    },
    {
      "cell_type": "code",
      "source": [
        "df_allsongs_original = pd.read_csv('df_allsongs.csv', lineterminator='\\n')"
      ],
      "metadata": {
        "id": "tA1axB-LzH_N"
      },
      "execution_count": 12,
      "outputs": []
    },
    {
      "cell_type": "code",
      "source": [
        "df_allsongs_original.head(3)"
      ],
      "metadata": {
        "id": "dYC3vZoJzMyR",
        "colab": {
          "base_uri": "https://localhost:8080/",
          "height": 832
        },
        "outputId": "a30a0b15-3037-404e-bd2e-c56ff3b3e8e3"
      },
      "execution_count": 13,
      "outputs": [
        {
          "output_type": "execute_result",
          "data": {
            "text/plain": [
              "   Unnamed: 0      Title      Artist        Date       Genre  \\\n",
              "0           0     나의 X에게          경서  2022.04.24         발라드   \n",
              "1           1       취중고백  김민석 (멜로망스)  2021.12.19         발라드   \n",
              "2           2  사랑은 늘 도망가         임영웅  2021.10.11  발라드, 국내드라마   \n",
              "\n",
              "                                               Lyric  \\\n",
              "0  우리 다시 만날래예쁘게 빛나던모든 추억들이너무 그리워너의 품에 안길래이 밤이 새도록...   \n",
              "1  뭐하고 있었니 늦었지만잠시 나올래너의 집 골목에 있는놀이터에 앉아 있어친구들 만나서...   \n",
              "2  눈물이 난다 이 길을 걸으면그 사람 손길이 자꾸 생각이 난다붙잡지 못하고 가슴만 떨...   \n",
              "\n",
              "                                          Lyric_ver2  \\\n",
              "0  <div class=\"lyric\" id=\"d_video_summary\"><!-- h...   \n",
              "1  <div class=\"lyric\" id=\"d_video_summary\"><!-- h...   \n",
              "2  <div class=\"lyric\" id=\"d_video_summary\"><!-- h...   \n",
              "\n",
              "                               preprocess_Lyric_ver2  \\\n",
              "0  우리 다시 만날래 예쁘게 빛나던 모든 추억들이 너무 그리워 너의 품에 안길래 이 밤...   \n",
              "1  뭐하고 있었니 늦었지만 잠시 나올래 너의 집 골목에 있는 놀이터에 앉아 있어 친구들...   \n",
              "2  눈물이 난다 이 길을 걸으면 그 사람 손길이 자꾸 생각이 난다 붙잡지 못하고 가슴만...   \n",
              "\n",
              "                               preprocess_Lyric_ver3  \n",
              "0  ['우리 다시 만날래', '예쁘게 빛나던', '모든 추억들이', '너무 그리워', ...  \n",
              "1  ['뭐하고 있었니 늦었지만', '잠시 나올래', '너의 집 골목에 있는', '놀이터...  \n",
              "2  ['눈물이 난다 이 길을 걸으면', '그 사람 손길이 자꾸 생각이 난다', '붙잡지...  "
            ],
            "text/html": [
              "\n",
              "  <div id=\"df-645870b5-4cb2-4864-bff9-04e6e26b71a8\">\n",
              "    <div class=\"colab-df-container\">\n",
              "      <div>\n",
              "<style scoped>\n",
              "    .dataframe tbody tr th:only-of-type {\n",
              "        vertical-align: middle;\n",
              "    }\n",
              "\n",
              "    .dataframe tbody tr th {\n",
              "        vertical-align: top;\n",
              "    }\n",
              "\n",
              "    .dataframe thead th {\n",
              "        text-align: right;\n",
              "    }\n",
              "</style>\n",
              "<table border=\"1\" class=\"dataframe\">\n",
              "  <thead>\n",
              "    <tr style=\"text-align: right;\">\n",
              "      <th></th>\n",
              "      <th>Unnamed: 0</th>\n",
              "      <th>Title</th>\n",
              "      <th>Artist</th>\n",
              "      <th>Date</th>\n",
              "      <th>Genre</th>\n",
              "      <th>Lyric</th>\n",
              "      <th>Lyric_ver2</th>\n",
              "      <th>preprocess_Lyric_ver2</th>\n",
              "      <th>preprocess_Lyric_ver3</th>\n",
              "    </tr>\n",
              "  </thead>\n",
              "  <tbody>\n",
              "    <tr>\n",
              "      <th>0</th>\n",
              "      <td>0</td>\n",
              "      <td>나의 X에게</td>\n",
              "      <td>경서</td>\n",
              "      <td>2022.04.24</td>\n",
              "      <td>발라드</td>\n",
              "      <td>우리 다시 만날래예쁘게 빛나던모든 추억들이너무 그리워너의 품에 안길래이 밤이 새도록...</td>\n",
              "      <td>&lt;div class=\"lyric\" id=\"d_video_summary\"&gt;&lt;!-- h...</td>\n",
              "      <td>우리 다시 만날래 예쁘게 빛나던 모든 추억들이 너무 그리워 너의 품에 안길래 이 밤...</td>\n",
              "      <td>['우리 다시 만날래', '예쁘게 빛나던', '모든 추억들이', '너무 그리워', ...</td>\n",
              "    </tr>\n",
              "    <tr>\n",
              "      <th>1</th>\n",
              "      <td>1</td>\n",
              "      <td>취중고백</td>\n",
              "      <td>김민석 (멜로망스)</td>\n",
              "      <td>2021.12.19</td>\n",
              "      <td>발라드</td>\n",
              "      <td>뭐하고 있었니 늦었지만잠시 나올래너의 집 골목에 있는놀이터에 앉아 있어친구들 만나서...</td>\n",
              "      <td>&lt;div class=\"lyric\" id=\"d_video_summary\"&gt;&lt;!-- h...</td>\n",
              "      <td>뭐하고 있었니 늦었지만 잠시 나올래 너의 집 골목에 있는 놀이터에 앉아 있어 친구들...</td>\n",
              "      <td>['뭐하고 있었니 늦었지만', '잠시 나올래', '너의 집 골목에 있는', '놀이터...</td>\n",
              "    </tr>\n",
              "    <tr>\n",
              "      <th>2</th>\n",
              "      <td>2</td>\n",
              "      <td>사랑은 늘 도망가</td>\n",
              "      <td>임영웅</td>\n",
              "      <td>2021.10.11</td>\n",
              "      <td>발라드, 국내드라마</td>\n",
              "      <td>눈물이 난다 이 길을 걸으면그 사람 손길이 자꾸 생각이 난다붙잡지 못하고 가슴만 떨...</td>\n",
              "      <td>&lt;div class=\"lyric\" id=\"d_video_summary\"&gt;&lt;!-- h...</td>\n",
              "      <td>눈물이 난다 이 길을 걸으면 그 사람 손길이 자꾸 생각이 난다 붙잡지 못하고 가슴만...</td>\n",
              "      <td>['눈물이 난다 이 길을 걸으면', '그 사람 손길이 자꾸 생각이 난다', '붙잡지...</td>\n",
              "    </tr>\n",
              "  </tbody>\n",
              "</table>\n",
              "</div>\n",
              "      <button class=\"colab-df-convert\" onclick=\"convertToInteractive('df-645870b5-4cb2-4864-bff9-04e6e26b71a8')\"\n",
              "              title=\"Convert this dataframe to an interactive table.\"\n",
              "              style=\"display:none;\">\n",
              "        \n",
              "  <svg xmlns=\"http://www.w3.org/2000/svg\" height=\"24px\"viewBox=\"0 0 24 24\"\n",
              "       width=\"24px\">\n",
              "    <path d=\"M0 0h24v24H0V0z\" fill=\"none\"/>\n",
              "    <path d=\"M18.56 5.44l.94 2.06.94-2.06 2.06-.94-2.06-.94-.94-2.06-.94 2.06-2.06.94zm-11 1L8.5 8.5l.94-2.06 2.06-.94-2.06-.94L8.5 2.5l-.94 2.06-2.06.94zm10 10l.94 2.06.94-2.06 2.06-.94-2.06-.94-.94-2.06-.94 2.06-2.06.94z\"/><path d=\"M17.41 7.96l-1.37-1.37c-.4-.4-.92-.59-1.43-.59-.52 0-1.04.2-1.43.59L10.3 9.45l-7.72 7.72c-.78.78-.78 2.05 0 2.83L4 21.41c.39.39.9.59 1.41.59.51 0 1.02-.2 1.41-.59l7.78-7.78 2.81-2.81c.8-.78.8-2.07 0-2.86zM5.41 20L4 18.59l7.72-7.72 1.47 1.35L5.41 20z\"/>\n",
              "  </svg>\n",
              "      </button>\n",
              "      \n",
              "  <style>\n",
              "    .colab-df-container {\n",
              "      display:flex;\n",
              "      flex-wrap:wrap;\n",
              "      gap: 12px;\n",
              "    }\n",
              "\n",
              "    .colab-df-convert {\n",
              "      background-color: #E8F0FE;\n",
              "      border: none;\n",
              "      border-radius: 50%;\n",
              "      cursor: pointer;\n",
              "      display: none;\n",
              "      fill: #1967D2;\n",
              "      height: 32px;\n",
              "      padding: 0 0 0 0;\n",
              "      width: 32px;\n",
              "    }\n",
              "\n",
              "    .colab-df-convert:hover {\n",
              "      background-color: #E2EBFA;\n",
              "      box-shadow: 0px 1px 2px rgba(60, 64, 67, 0.3), 0px 1px 3px 1px rgba(60, 64, 67, 0.15);\n",
              "      fill: #174EA6;\n",
              "    }\n",
              "\n",
              "    [theme=dark] .colab-df-convert {\n",
              "      background-color: #3B4455;\n",
              "      fill: #D2E3FC;\n",
              "    }\n",
              "\n",
              "    [theme=dark] .colab-df-convert:hover {\n",
              "      background-color: #434B5C;\n",
              "      box-shadow: 0px 1px 3px 1px rgba(0, 0, 0, 0.15);\n",
              "      filter: drop-shadow(0px 1px 2px rgba(0, 0, 0, 0.3));\n",
              "      fill: #FFFFFF;\n",
              "    }\n",
              "  </style>\n",
              "\n",
              "      <script>\n",
              "        const buttonEl =\n",
              "          document.querySelector('#df-645870b5-4cb2-4864-bff9-04e6e26b71a8 button.colab-df-convert');\n",
              "        buttonEl.style.display =\n",
              "          google.colab.kernel.accessAllowed ? 'block' : 'none';\n",
              "\n",
              "        async function convertToInteractive(key) {\n",
              "          const element = document.querySelector('#df-645870b5-4cb2-4864-bff9-04e6e26b71a8');\n",
              "          const dataTable =\n",
              "            await google.colab.kernel.invokeFunction('convertToInteractive',\n",
              "                                                     [key], {});\n",
              "          if (!dataTable) return;\n",
              "\n",
              "          const docLinkHtml = 'Like what you see? Visit the ' +\n",
              "            '<a target=\"_blank\" href=https://colab.research.google.com/notebooks/data_table.ipynb>data table notebook</a>'\n",
              "            + ' to learn more about interactive tables.';\n",
              "          element.innerHTML = '';\n",
              "          dataTable['output_type'] = 'display_data';\n",
              "          await google.colab.output.renderOutput(dataTable, element);\n",
              "          const docLink = document.createElement('div');\n",
              "          docLink.innerHTML = docLinkHtml;\n",
              "          element.appendChild(docLink);\n",
              "        }\n",
              "      </script>\n",
              "    </div>\n",
              "  </div>\n",
              "  "
            ]
          },
          "metadata": {},
          "execution_count": 13
        }
      ]
    },
    {
      "cell_type": "code",
      "source": [
        "df_allsongs = df_allsongs_original[[\"Title\", \"Artist\", \"Date\", \"Genre\", \"preprocess_Lyric_ver3\"]]\n",
        "df_allsongs"
      ],
      "metadata": {
        "id": "vzWVzsGt0-hw",
        "colab": {
          "base_uri": "https://localhost:8080/",
          "height": 537
        },
        "outputId": "5fda8af2-e2d9-46a5-a612-e8e6b52b0932"
      },
      "execution_count": 14,
      "outputs": [
        {
          "output_type": "execute_result",
          "data": {
            "text/plain": [
              "              Title         Artist        Date       Genre  \\\n",
              "0            나의 X에게             경서  2022.04.24         발라드   \n",
              "1              취중고백     김민석 (멜로망스)  2021.12.19         발라드   \n",
              "2         사랑은 늘 도망가            임영웅  2021.10.11  발라드, 국내드라마   \n",
              "3            듣고 싶을까  MSG워너비(M.O.M)  2022.02.26         발라드   \n",
              "4     다정히 내 이름을 부르면           경서예지  2021.05.19         발라드   \n",
              "...             ...            ...         ...         ...   \n",
              "3604             애수            진시몬  2004.10.01    성인가요/트로트   \n",
              "3605     단장의 미아리 고개            송가인  2020.12.26    성인가요/트로트   \n",
              "3606      어머님 사랑합니다            송가인  2021.05.27    성인가요/트로트   \n",
              "3607         영동 부르스            송가인  2021.06.13    성인가요/트로트   \n",
              "3608      일소일소 일노일노            임영웅  2020.04.17    성인가요/트로트   \n",
              "\n",
              "                                  preprocess_Lyric_ver3  \n",
              "0     ['우리 다시 만날래', '예쁘게 빛나던', '모든 추억들이', '너무 그리워', ...  \n",
              "1     ['뭐하고 있었니 늦었지만', '잠시 나올래', '너의 집 골목에 있는', '놀이터...  \n",
              "2     ['눈물이 난다 이 길을 걸으면', '그 사람 손길이 자꾸 생각이 난다', '붙잡지...  \n",
              "3     ['우리 함께 듣던 그 노랠 듣고 싶을까', '듣고 나서 잠시 날 생각은 할까', ...  \n",
              "4     ['끝없이 별빛이 내리던 밤', '기분 좋은 바람이', '두 빰을 스치고', '새벽...  \n",
              "...                                                 ...  \n",
              "3604  ['아직도 모르겠어 난 정말 ', '', '꿈이라 생각해야 하는지 ', '', '너...  \n",
              "3605  ['미아리 눈물고개', '임이 넘던 이별 고개', '화약 연기 앞을 가려', '눈 ...  \n",
              "3606  ['꽃다운 열아홉에', '연지 찍고 시집와서', '손발이 터지도록', '고생하신 어...  \n",
              "3607  ['헤어지기 싫어서 애태우던 그 날 밤', '피눈물에 얼룩진 그대의 모습', '어차...  \n",
              "3608  ['세상사 스무고개 길', '좋은 날만 있을까', '이왕이라면 웃으며 살자', '말...  \n",
              "\n",
              "[3609 rows x 5 columns]"
            ],
            "text/html": [
              "\n",
              "  <div id=\"df-0fac8d23-9747-4c8f-93b9-adad3aec1a8c\">\n",
              "    <div class=\"colab-df-container\">\n",
              "      <div>\n",
              "<style scoped>\n",
              "    .dataframe tbody tr th:only-of-type {\n",
              "        vertical-align: middle;\n",
              "    }\n",
              "\n",
              "    .dataframe tbody tr th {\n",
              "        vertical-align: top;\n",
              "    }\n",
              "\n",
              "    .dataframe thead th {\n",
              "        text-align: right;\n",
              "    }\n",
              "</style>\n",
              "<table border=\"1\" class=\"dataframe\">\n",
              "  <thead>\n",
              "    <tr style=\"text-align: right;\">\n",
              "      <th></th>\n",
              "      <th>Title</th>\n",
              "      <th>Artist</th>\n",
              "      <th>Date</th>\n",
              "      <th>Genre</th>\n",
              "      <th>preprocess_Lyric_ver3</th>\n",
              "    </tr>\n",
              "  </thead>\n",
              "  <tbody>\n",
              "    <tr>\n",
              "      <th>0</th>\n",
              "      <td>나의 X에게</td>\n",
              "      <td>경서</td>\n",
              "      <td>2022.04.24</td>\n",
              "      <td>발라드</td>\n",
              "      <td>['우리 다시 만날래', '예쁘게 빛나던', '모든 추억들이', '너무 그리워', ...</td>\n",
              "    </tr>\n",
              "    <tr>\n",
              "      <th>1</th>\n",
              "      <td>취중고백</td>\n",
              "      <td>김민석 (멜로망스)</td>\n",
              "      <td>2021.12.19</td>\n",
              "      <td>발라드</td>\n",
              "      <td>['뭐하고 있었니 늦었지만', '잠시 나올래', '너의 집 골목에 있는', '놀이터...</td>\n",
              "    </tr>\n",
              "    <tr>\n",
              "      <th>2</th>\n",
              "      <td>사랑은 늘 도망가</td>\n",
              "      <td>임영웅</td>\n",
              "      <td>2021.10.11</td>\n",
              "      <td>발라드, 국내드라마</td>\n",
              "      <td>['눈물이 난다 이 길을 걸으면', '그 사람 손길이 자꾸 생각이 난다', '붙잡지...</td>\n",
              "    </tr>\n",
              "    <tr>\n",
              "      <th>3</th>\n",
              "      <td>듣고 싶을까</td>\n",
              "      <td>MSG워너비(M.O.M)</td>\n",
              "      <td>2022.02.26</td>\n",
              "      <td>발라드</td>\n",
              "      <td>['우리 함께 듣던 그 노랠 듣고 싶을까', '듣고 나서 잠시 날 생각은 할까', ...</td>\n",
              "    </tr>\n",
              "    <tr>\n",
              "      <th>4</th>\n",
              "      <td>다정히 내 이름을 부르면</td>\n",
              "      <td>경서예지</td>\n",
              "      <td>2021.05.19</td>\n",
              "      <td>발라드</td>\n",
              "      <td>['끝없이 별빛이 내리던 밤', '기분 좋은 바람이', '두 빰을 스치고', '새벽...</td>\n",
              "    </tr>\n",
              "    <tr>\n",
              "      <th>...</th>\n",
              "      <td>...</td>\n",
              "      <td>...</td>\n",
              "      <td>...</td>\n",
              "      <td>...</td>\n",
              "      <td>...</td>\n",
              "    </tr>\n",
              "    <tr>\n",
              "      <th>3604</th>\n",
              "      <td>애수</td>\n",
              "      <td>진시몬</td>\n",
              "      <td>2004.10.01</td>\n",
              "      <td>성인가요/트로트</td>\n",
              "      <td>['아직도 모르겠어 난 정말 ', '', '꿈이라 생각해야 하는지 ', '', '너...</td>\n",
              "    </tr>\n",
              "    <tr>\n",
              "      <th>3605</th>\n",
              "      <td>단장의 미아리 고개</td>\n",
              "      <td>송가인</td>\n",
              "      <td>2020.12.26</td>\n",
              "      <td>성인가요/트로트</td>\n",
              "      <td>['미아리 눈물고개', '임이 넘던 이별 고개', '화약 연기 앞을 가려', '눈 ...</td>\n",
              "    </tr>\n",
              "    <tr>\n",
              "      <th>3606</th>\n",
              "      <td>어머님 사랑합니다</td>\n",
              "      <td>송가인</td>\n",
              "      <td>2021.05.27</td>\n",
              "      <td>성인가요/트로트</td>\n",
              "      <td>['꽃다운 열아홉에', '연지 찍고 시집와서', '손발이 터지도록', '고생하신 어...</td>\n",
              "    </tr>\n",
              "    <tr>\n",
              "      <th>3607</th>\n",
              "      <td>영동 부르스</td>\n",
              "      <td>송가인</td>\n",
              "      <td>2021.06.13</td>\n",
              "      <td>성인가요/트로트</td>\n",
              "      <td>['헤어지기 싫어서 애태우던 그 날 밤', '피눈물에 얼룩진 그대의 모습', '어차...</td>\n",
              "    </tr>\n",
              "    <tr>\n",
              "      <th>3608</th>\n",
              "      <td>일소일소 일노일노</td>\n",
              "      <td>임영웅</td>\n",
              "      <td>2020.04.17</td>\n",
              "      <td>성인가요/트로트</td>\n",
              "      <td>['세상사 스무고개 길', '좋은 날만 있을까', '이왕이라면 웃으며 살자', '말...</td>\n",
              "    </tr>\n",
              "  </tbody>\n",
              "</table>\n",
              "<p>3609 rows × 5 columns</p>\n",
              "</div>\n",
              "      <button class=\"colab-df-convert\" onclick=\"convertToInteractive('df-0fac8d23-9747-4c8f-93b9-adad3aec1a8c')\"\n",
              "              title=\"Convert this dataframe to an interactive table.\"\n",
              "              style=\"display:none;\">\n",
              "        \n",
              "  <svg xmlns=\"http://www.w3.org/2000/svg\" height=\"24px\"viewBox=\"0 0 24 24\"\n",
              "       width=\"24px\">\n",
              "    <path d=\"M0 0h24v24H0V0z\" fill=\"none\"/>\n",
              "    <path d=\"M18.56 5.44l.94 2.06.94-2.06 2.06-.94-2.06-.94-.94-2.06-.94 2.06-2.06.94zm-11 1L8.5 8.5l.94-2.06 2.06-.94-2.06-.94L8.5 2.5l-.94 2.06-2.06.94zm10 10l.94 2.06.94-2.06 2.06-.94-2.06-.94-.94-2.06-.94 2.06-2.06.94z\"/><path d=\"M17.41 7.96l-1.37-1.37c-.4-.4-.92-.59-1.43-.59-.52 0-1.04.2-1.43.59L10.3 9.45l-7.72 7.72c-.78.78-.78 2.05 0 2.83L4 21.41c.39.39.9.59 1.41.59.51 0 1.02-.2 1.41-.59l7.78-7.78 2.81-2.81c.8-.78.8-2.07 0-2.86zM5.41 20L4 18.59l7.72-7.72 1.47 1.35L5.41 20z\"/>\n",
              "  </svg>\n",
              "      </button>\n",
              "      \n",
              "  <style>\n",
              "    .colab-df-container {\n",
              "      display:flex;\n",
              "      flex-wrap:wrap;\n",
              "      gap: 12px;\n",
              "    }\n",
              "\n",
              "    .colab-df-convert {\n",
              "      background-color: #E8F0FE;\n",
              "      border: none;\n",
              "      border-radius: 50%;\n",
              "      cursor: pointer;\n",
              "      display: none;\n",
              "      fill: #1967D2;\n",
              "      height: 32px;\n",
              "      padding: 0 0 0 0;\n",
              "      width: 32px;\n",
              "    }\n",
              "\n",
              "    .colab-df-convert:hover {\n",
              "      background-color: #E2EBFA;\n",
              "      box-shadow: 0px 1px 2px rgba(60, 64, 67, 0.3), 0px 1px 3px 1px rgba(60, 64, 67, 0.15);\n",
              "      fill: #174EA6;\n",
              "    }\n",
              "\n",
              "    [theme=dark] .colab-df-convert {\n",
              "      background-color: #3B4455;\n",
              "      fill: #D2E3FC;\n",
              "    }\n",
              "\n",
              "    [theme=dark] .colab-df-convert:hover {\n",
              "      background-color: #434B5C;\n",
              "      box-shadow: 0px 1px 3px 1px rgba(0, 0, 0, 0.15);\n",
              "      filter: drop-shadow(0px 1px 2px rgba(0, 0, 0, 0.3));\n",
              "      fill: #FFFFFF;\n",
              "    }\n",
              "  </style>\n",
              "\n",
              "      <script>\n",
              "        const buttonEl =\n",
              "          document.querySelector('#df-0fac8d23-9747-4c8f-93b9-adad3aec1a8c button.colab-df-convert');\n",
              "        buttonEl.style.display =\n",
              "          google.colab.kernel.accessAllowed ? 'block' : 'none';\n",
              "\n",
              "        async function convertToInteractive(key) {\n",
              "          const element = document.querySelector('#df-0fac8d23-9747-4c8f-93b9-adad3aec1a8c');\n",
              "          const dataTable =\n",
              "            await google.colab.kernel.invokeFunction('convertToInteractive',\n",
              "                                                     [key], {});\n",
              "          if (!dataTable) return;\n",
              "\n",
              "          const docLinkHtml = 'Like what you see? Visit the ' +\n",
              "            '<a target=\"_blank\" href=https://colab.research.google.com/notebooks/data_table.ipynb>data table notebook</a>'\n",
              "            + ' to learn more about interactive tables.';\n",
              "          element.innerHTML = '';\n",
              "          dataTable['output_type'] = 'display_data';\n",
              "          await google.colab.output.renderOutput(dataTable, element);\n",
              "          const docLink = document.createElement('div');\n",
              "          docLink.innerHTML = docLinkHtml;\n",
              "          element.appendChild(docLink);\n",
              "        }\n",
              "      </script>\n",
              "    </div>\n",
              "  </div>\n",
              "  "
            ]
          },
          "metadata": {},
          "execution_count": 14
        }
      ]
    },
    {
      "cell_type": "code",
      "source": [
        "print(df_allsongs.info())\n",
        "print(df_allsongs.describe())"
      ],
      "metadata": {
        "id": "VcmkX5k9Hjgw",
        "colab": {
          "base_uri": "https://localhost:8080/"
        },
        "outputId": "f782d500-3b45-4ed9-8ce4-d4878f9a611b"
      },
      "execution_count": 15,
      "outputs": [
        {
          "output_type": "stream",
          "name": "stdout",
          "text": [
            "<class 'pandas.core.frame.DataFrame'>\n",
            "RangeIndex: 3609 entries, 0 to 3608\n",
            "Data columns (total 5 columns):\n",
            " #   Column                 Non-Null Count  Dtype \n",
            "---  ------                 --------------  ----- \n",
            " 0   Title                  3609 non-null   object\n",
            " 1   Artist                 3609 non-null   object\n",
            " 2   Date                   3609 non-null   object\n",
            " 3   Genre                  3609 non-null   object\n",
            " 4   preprocess_Lyric_ver3  3609 non-null   object\n",
            "dtypes: object(5)\n",
            "memory usage: 141.1+ KB\n",
            "None\n",
            "       Title Artist        Date Genre  \\\n",
            "count   3609   3609        3609  3609   \n",
            "unique  3358    947        2042    41   \n",
            "top       고백    임영웅  2022.05.20    댄스   \n",
            "freq      10     90          19   486   \n",
            "\n",
            "                                    preprocess_Lyric_ver3  \n",
            "count                                                3609  \n",
            "unique                                               3609  \n",
            "top     ['우리 다시 만날래', '예쁘게 빛나던', '모든 추억들이', '너무 그리워', ...  \n",
            "freq                                                    1  \n"
          ]
        }
      ]
    },
    {
      "cell_type": "code",
      "source": [
        "df_allsongs.preprocess_Lyric_ver3.iloc[12]"
      ],
      "metadata": {
        "id": "CIv6nQUhhFwG",
        "colab": {
          "base_uri": "https://localhost:8080/",
          "height": 157
        },
        "outputId": "2eaf5b73-493f-4d33-ae59-a2770fd8d1f1"
      },
      "execution_count": 16,
      "outputs": [
        {
          "output_type": "execute_result",
          "data": {
            "text/plain": [
              "\"['느낌이 오잖아 ', '떨리고 있잖아', '언제까지 눈치만 볼 거니', '네 맘을 말해봐 ', '딴청 피우지 말란 말이야', '네 맘 가는 그대로 ', '지금 내 손을 잡아', '어서 내 손을 잡아', '우연히 고개를 돌릴 때 마다', '눈이 마주치는 건', '며칠 밤 내내 꿈속에 나타나', '밤새 나를 괴롭히는 건', '그 많은 빈자리 중에서 하필', '내 옆자릴 고르는 건', '나도 모르게 어느새 실없는 웃음', '흘리고 있다는 건', '그럼 말 다했지 뭐', '우리 얘기 좀 할까', '느낌이 오잖아 떨리고 있잖아', '언제까지 눈치만 볼 거니', '네 맘을 말해봐 ', '딴청 피우지 말란 말이야', '네 맘 가는 그대로 ', '지금 내 손을 잡아', '핸드폰 진동에 ', '심장이 덜컥내려 앉는다는 건', '오 나도 모르게 ', '어느새 짓궂은 네 말투', '자꾸 듣고 싶은걸', '어떡해', '저기 멀리 걸어온다', '눈이 마주친다', '언제까지 넌 모른척 할거니', '사랑이 온거야 너와 나 말이야', '네가 좋아 정말 못 견딜 만큼', '그거면 된거야 ', '더는 생각하지 말란 말이야', '네 맘 가는 그대로', '느낌이 오잖아 떨리고 있잖아', '언제까지 눈치만 볼 거니', '네 맘을 말해봐 ', '딴청 피우지 말란 말이야', '네 맘 가는 그대로 ', '지금 내 손을 잡아', '그냥 내 손을 잡아', '지금 내 손을 잡아', ' ', '']\""
            ],
            "application/vnd.google.colaboratory.intrinsic+json": {
              "type": "string"
            }
          },
          "metadata": {},
          "execution_count": 16
        }
      ]
    },
    {
      "cell_type": "markdown",
      "source": [
        "# Load saved Model\n"
      ],
      "metadata": {
        "id": "5AH_bjFE_DlY"
      }
    },
    {
      "cell_type": "code",
      "source": [
        "# 1) Load the Model-builder (function)\n",
        "with open(data_path + 'model_BERTfunction_v1.pkl', 'rb') as f:\n",
        "    create_model = dill.loads(pickle.load(f)) # use dill to pickle a python function\n",
        "\n",
        "# 2) Load the Bert-tokenizer \n",
        "with open(data_path + 'tokenizer-bert.pkl', 'rb') as f:\n",
        "    tokenizer = pickle.load(f) \n",
        "\n",
        "\n",
        "# 3) Create the model & load the Model-weights (from checkpoint file)\n",
        "resolver = tf.distribute.cluster_resolver.TPUClusterResolver(tpu='grpc://' + os.environ['COLAB_TPU_ADDR'])\n",
        "tf.config.experimental_connect_to_cluster(resolver)\n",
        "tf.tpu.experimental.initialize_tpu_system(resolver)\n",
        "strategy = tf.distribute.TPUStrategy(resolver) # Obsolete : tf.distribute.experimental.TPUStrategy()\n",
        "\n",
        "with strategy.scope(): \n",
        "    model = create_model(max_length=300) \n",
        "\n",
        "model.load_weights(filepath=checkpoint_path + 'best_bert_weights.h5')"
      ],
      "metadata": {
        "id": "IqkTwemez5n3",
        "colab": {
          "base_uri": "https://localhost:8080/",
          "height": 98,
          "referenced_widgets": [
            "55c75cebfbc7496a882deb417a5015aa",
            "e8c4fa1591694a75b9cfbc6bcb877a11",
            "ccbf696c05704d6ca553cce04bc49d30",
            "167acf1decf74c4a860975c579622011",
            "ab2ebcf7a5a84955b3c4791d31025f2b",
            "1406904164dc40c488af7eb89d3aa881",
            "2d01a9c09d9149a0adbd135c053811d6",
            "4a3c1ae8515f4e31aa1359715228910b",
            "7085bd184ef84eec88b62e42ea7f798b",
            "c1e91dd65b354b5fab6f410b95f4f165",
            "c5958e251f074034b6793cb44e8e6700",
            "61e0f426d2a8471e9b41ed112aecebaf",
            "c6d8a5f636944676bc34cb0e7142f127",
            "300ffa5d1f9142fda1ccc1b11f88424b",
            "930f8861463b45a3b3b6e58f6d212cbb",
            "f7122ccb0b41410b8b2299680d181f37",
            "6cfc9965ddef4d468bf79c79a5582a25",
            "9945bcc3d86e461ab2cc04af7208a710",
            "b66ac5cad9294f7584793a3100f51987",
            "131486cd97144fbaa6e9527b945bc338",
            "e0591379ba18432a93f51106623d118e",
            "b5611fd799fd4e5fa98b281ecc4d0609"
          ]
        },
        "outputId": "0a6f8a28-5c9b-4563-c4c5-374e0f1a56b7"
      },
      "execution_count": 17,
      "outputs": [
        {
          "output_type": "stream",
          "name": "stderr",
          "text": [
            "INFO:absl:Entering into master device scope: /job:worker/replica:0/task:0/device:CPU:0\n"
          ]
        },
        {
          "output_type": "display_data",
          "data": {
            "text/plain": [
              "Downloading:   0%|          | 0.00/426 [00:00<?, ?B/s]"
            ],
            "application/vnd.jupyter.widget-view+json": {
              "version_major": 2,
              "version_minor": 0,
              "model_id": "55c75cebfbc7496a882deb417a5015aa"
            }
          },
          "metadata": {}
        },
        {
          "output_type": "display_data",
          "data": {
            "text/plain": [
              "Downloading:   0%|          | 0.00/369M [00:00<?, ?B/s]"
            ],
            "application/vnd.jupyter.widget-view+json": {
              "version_major": 2,
              "version_minor": 0,
              "model_id": "61e0f426d2a8471e9b41ed112aecebaf"
            }
          },
          "metadata": {}
        }
      ]
    },
    {
      "cell_type": "markdown",
      "source": [
        "# Classifier as a function"
      ],
      "metadata": {
        "id": "yYz-CbvMAJ1Z"
      }
    },
    {
      "cell_type": "code",
      "source": [
        "def predict_sentiment_element(sentence, tokenizer, model):\n",
        "    \"\"\"\n",
        "    가사 내 문장 별 확률 값 추출\n",
        "    \"\"\"    \n",
        "    SEQ_LEN = 300 \n",
        "\n",
        "    # Tokenizing / Tokens to sequence numbers / Padding\n",
        "    encoded_dict = tokenizer.encode_plus(text=re.sub(\"[^\\s0-9a-zA-Zㄱ-ㅎㅏ-ㅣ가-힣]\", \"\", sentence), # 특수문자 제거\n",
        "                                         padding='max_length', \n",
        "                                         truncation = True,\n",
        "                                         max_length=SEQ_LEN) \n",
        "    \n",
        "    token_ids = np.array(encoded_dict['input_ids']).reshape(1, -1) \n",
        "    token_masks = np.array(encoded_dict['attention_mask']).reshape(1, -1)\n",
        "    token_segments = np.array(encoded_dict['token_type_ids']).reshape(1, -1)\n",
        "    \n",
        "    new_inputs = (token_ids, token_masks, token_segments)\n",
        "\n",
        "    # Prediction\n",
        "    pred = model.predict(new_inputs) \n",
        "    all_pred_proba = np.round(pred * 100, 2)\n",
        "    \n",
        "    #top_pred_proba = np.round(np.max(pred) * 100, 2) \n",
        "    #pred_class = ['분노혐오','놀람공포','슬픔','행복'][np.argmax(pred, axis=1)[0]] # 수정하면 4개 클래스 다 나올듯! \n",
        "    #print(\"{}% 확률로 {} 텍스트입니다.\".format(top_pred_proba, pred_class))\n",
        "\n",
        "    return all_pred_proba "
      ],
      "metadata": {
        "id": "rldmfWAZAHK3"
      },
      "execution_count": 37,
      "outputs": []
    },
    {
      "cell_type": "code",
      "source": [
        "def predict_sentiment_lyrics(lyrics):\n",
        "    \"\"\"\n",
        "    가사의 감성 확률 값 추출, 문장별 감성 확률의 정규화 평균  \n",
        "    가사내 문장 단위로 predict_sentiment_element 함수 적용   \n",
        "    마지막 원소 '' 빈칸임. <br/> 태그 기준으로 split해서 나옴, 빈칸인 element 제거\n",
        "    \"\"\"\n",
        "    lyrics = ast.literal_eval(lyrics) # str list to list\n",
        "    lyrics = list(filter(lambda x: x != '', lyrics))\n",
        "\n",
        "    print(len(lyrics)) \n",
        "    print(lyrics)\n",
        "\n",
        "\n",
        "    for i in range(len(lyrics)):\n",
        "        \n",
        "        if lyrics[i] != '':\n",
        "            all_pred_proba = predict_sentiment_element(lyrics[i], tokenizer, model)\n",
        "            anger = all_pred_proba[0][0]\n",
        "            scary = all_pred_proba[0][1]\n",
        "            sad = all_pred_proba[0][2]\n",
        "            happy = all_pred_proba[0][3]\n",
        "            #print(i, lyrics[i], all_pred_proba) \n",
        "\n",
        "        anger += anger \n",
        "        scary += scary\n",
        "        sad  += sad\n",
        "        happy += happy\n",
        "\n",
        "    total_array = np.ndarray.round( (np.array([(anger, scary, sad, happy)]) / (anger + scary + sad + happy)), 2)\n",
        "    top_pred_prob = total_array[0][np.argmax(total_array, axis=1)[0]]\n",
        "    top_pred_class = ['분노혐오','놀람공포','슬픔','행복'][np.argmax(total_array, axis=1)[0]]\n",
        "\n",
        "    return total_array, top_pred_class, top_pred_prob"
      ],
      "metadata": {
        "id": "vWzsRiH1-Qqf"
      },
      "execution_count": 81,
      "outputs": []
    },
    {
      "cell_type": "code",
      "source": [
        "test_list = df_allsongs.preprocess_Lyric_ver3.iloc[35]\n",
        "total_array, top_pred_class, top_pred_prob = predict_sentiment_lyrics(test_list)"
      ],
      "metadata": {
        "colab": {
          "base_uri": "https://localhost:8080/"
        },
        "id": "sva5V55xCHnq",
        "outputId": "f59e6540-0587-42bb-84aa-7f985a313b63"
      },
      "execution_count": 82,
      "outputs": [
        {
          "output_type": "stream",
          "name": "stdout",
          "text": [
            "34\n",
            "['때 이른 봄 몇 송이 꺾어다', '너의 방 문 앞에 두었어', '긴 잠 실컷 자고 나오면', '그때쯤엔 예쁘게 피어 있겠다', '별 띄운 여름 한 컵 따라다', '너의 머리맡에 두었어', '금세 다 녹아버릴 텐데', '너는 아직 혼자 쉬고 싶은가 봐', '너 없이 보는 첫 봄이 여름이', '괜히 왜 이렇게 예쁘니', '다 가기 전에 널 보여줘야 하는데', '음 꼭 봐야 하는데', '내게 기대어 조각잠을 자던', '그 모습 그대로 잠들었구나', '무슨 꿈을 꾸니', '깨어나면 이야기해 줄 거지', '언제나의 아침처럼 음', '빼곡한 가을 한 장 접어다', '너의 우체통에 넣었어', '가장 좋았던 문장 아래 밑줄 그어', '나 만나면 읽어줄래', '새하얀 겨울 한 숨 속에다', '나의 혼잣말을 담았어', '줄곧 잘 참아내다가도', '가끔은 철없이 보고 싶어', '새삼 차가운 연말의 공기가', '뼈 틈 사이사이 시려와', '움츠려 있을 너의 그 마른 어깨를 ', '꼭 안아줘야 하는데', '내게 기대어 조각잠을 자던', '그 모습 그대로 잠들었구나', '무슨 꿈을 꾸니', '깨어나면 이야기해 줄 거지', '언제나의 아침처럼 음']\n"
          ]
        }
      ]
    },
    {
      "cell_type": "code",
      "source": [
        "print(total_array) \n",
        "print(top_pred_class)  \n",
        "print(top_pred_prob)  "
      ],
      "metadata": {
        "colab": {
          "base_uri": "https://localhost:8080/"
        },
        "id": "XmKPbJ4YCJKF",
        "outputId": "f2697747-177b-4880-ebd2-c2168fa952bf"
      },
      "execution_count": 83,
      "outputs": [
        {
          "output_type": "stream",
          "name": "stdout",
          "text": [
            "[[0.02 0.03 0.22 0.73]]\n",
            "행복\n",
            "0.73\n"
          ]
        }
      ]
    },
    {
      "cell_type": "markdown",
      "source": [
        "#### TEST temporary"
      ],
      "metadata": {
        "id": "gfhNeSNP2hYT"
      }
    },
    {
      "cell_type": "markdown",
      "source": [
        "preprocess_Lyric_ver3에 적용 <br> \n",
        "\n",
        "list가 str 형태로 row에 저장되었기 때문에 ast library로 다시 list로 바꿔주어야한다.<br>\n",
        "(str list to list)"
      ],
      "metadata": {
        "id": "rWzyg_PK-Mbb"
      }
    },
    {
      "cell_type": "code",
      "source": [
        "temp_list = df_allsongs.preprocess_Lyric_ver3.iloc[0]\n",
        "print(type(temp_list))\n",
        "temp_list"
      ],
      "metadata": {
        "id": "CrHuHg912f6T",
        "colab": {
          "base_uri": "https://localhost:8080/",
          "height": 139
        },
        "outputId": "056235a4-6297-4265-eae9-3a6ff3fac97c"
      },
      "execution_count": 48,
      "outputs": [
        {
          "output_type": "stream",
          "name": "stdout",
          "text": [
            "<class 'str'>\n"
          ]
        },
        {
          "output_type": "execute_result",
          "data": {
            "text/plain": [
              "\"['우리 다시 만날래', '예쁘게 빛나던', '모든 추억들이', '너무 그리워', '너의 품에 안길래', '이 밤이 새도록', '네게 말할 거야', '너를 좋아한다고', '안녕 그대야', '요즘 어떻게 지내', '가로수길 걷다가', '생각이 나서', '행복해 보이는 사람들 속에', '우리 둘만 없어서', '어색했었어', '늘 집에 갈 땐', '항상 뒤돌아보면', '날 보며 웃어주던', '네가 생각났어', '우리 다시 만날래', '예쁘게 빛나던', '모든 추억들이', '너무 그리워', '너의 품에 안길래', '이 밤이 새도록', '네게 말할 거야', '너를 좋아한다고', '토요일마다 가던', '한강공원에', '이어폰 하나씩', '나눠끼고서', '벚꽃엔딩같이 듣고 있으면', '부러울 게 없었어', '너만 있으면', '널 사랑할 때', '내가 너무 그리워', '날 보며 웃어주던', '네가 보고 싶어', '우리 다시 만날래', '예쁘게 빛나던', '모든 추억들이', '너무 그리워', '너의 품에 안길래', '이 밤이 새도록', '네게 말할 거야', '너를 좋아한다고', '같이 별 보러 갈래', '널 다시 만나면', '네 옆에 기대서', '잠들고 싶어', '너의 품에 안길래', '이 밤이 새도록', '내 곁에 있어줘', '내겐 너뿐이라고', '']\""
            ],
            "application/vnd.google.colaboratory.intrinsic+json": {
              "type": "string"
            }
          },
          "metadata": {},
          "execution_count": 48
        }
      ]
    },
    {
      "cell_type": "code",
      "source": [
        "import ast  \n",
        "\n",
        "temp_list_2 = ast.literal_eval(temp_list) \n",
        "print(type(temp_list_2)) \n",
        "print(temp_list_2)\n",
        "\n",
        "## str list to list\n",
        "## sentence = ast.literal_eval(sentence)"
      ],
      "metadata": {
        "id": "owQngh5w9dYf",
        "colab": {
          "base_uri": "https://localhost:8080/"
        },
        "outputId": "9e49b671-8140-4fd3-d4fc-cbd8dd7a00f1"
      },
      "execution_count": 49,
      "outputs": [
        {
          "output_type": "stream",
          "name": "stdout",
          "text": [
            "<class 'list'>\n",
            "['우리 다시 만날래', '예쁘게 빛나던', '모든 추억들이', '너무 그리워', '너의 품에 안길래', '이 밤이 새도록', '네게 말할 거야', '너를 좋아한다고', '안녕 그대야', '요즘 어떻게 지내', '가로수길 걷다가', '생각이 나서', '행복해 보이는 사람들 속에', '우리 둘만 없어서', '어색했었어', '늘 집에 갈 땐', '항상 뒤돌아보면', '날 보며 웃어주던', '네가 생각났어', '우리 다시 만날래', '예쁘게 빛나던', '모든 추억들이', '너무 그리워', '너의 품에 안길래', '이 밤이 새도록', '네게 말할 거야', '너를 좋아한다고', '토요일마다 가던', '한강공원에', '이어폰 하나씩', '나눠끼고서', '벚꽃엔딩같이 듣고 있으면', '부러울 게 없었어', '너만 있으면', '널 사랑할 때', '내가 너무 그리워', '날 보며 웃어주던', '네가 보고 싶어', '우리 다시 만날래', '예쁘게 빛나던', '모든 추억들이', '너무 그리워', '너의 품에 안길래', '이 밤이 새도록', '네게 말할 거야', '너를 좋아한다고', '같이 별 보러 갈래', '널 다시 만나면', '네 옆에 기대서', '잠들고 싶어', '너의 품에 안길래', '이 밤이 새도록', '내 곁에 있어줘', '내겐 너뿐이라고', '']\n"
          ]
        }
      ]
    },
    {
      "cell_type": "code",
      "source": [
        "print(len(temp_list_2))\n",
        "print(temp_list_2[1])\n",
        "all_pred_proba = predict_sentiment_element(temp_list_2[1], tokenizer, model)\n",
        "print()\n",
        "print(all_pred_proba)"
      ],
      "metadata": {
        "id": "uo8rAk4u-Bz9",
        "colab": {
          "base_uri": "https://localhost:8080/"
        },
        "outputId": "56543334-3839-42ce-c769-e81bc177dbf1"
      },
      "execution_count": 50,
      "outputs": [
        {
          "output_type": "stream",
          "name": "stdout",
          "text": [
            "55\n",
            "예쁘게 빛나던\n",
            "\n",
            "[[ 0.4   0.37  0.5  98.72]]\n"
          ]
        }
      ]
    },
    {
      "cell_type": "code",
      "source": [
        "anger = all_pred_proba[0][0]\n",
        "scary = all_pred_proba[0][1]\n",
        "sad = all_pred_proba[0][2]\n",
        "happy = all_pred_proba[0][3]\n",
        "\n",
        "total = np.ndarray.round( (np.array([(anger, scary, sad, happy)]) / (anger + scary + sad + happy)), 2)\n",
        "\n",
        "top_pred_prob = total[0][np.argmax(total, axis=1)[0]]"
      ],
      "metadata": {
        "id": "Bqj7_ThWMwKy"
      },
      "execution_count": 42,
      "outputs": []
    },
    {
      "cell_type": "code",
      "source": [
        "print(total)\n",
        "print(top_pred_prob)  "
      ],
      "metadata": {
        "id": "GPyd2l0czmEp",
        "colab": {
          "base_uri": "https://localhost:8080/"
        },
        "outputId": "18fa8e8a-e41a-4076-e150-fa829edff832"
      },
      "execution_count": 43,
      "outputs": [
        {
          "output_type": "stream",
          "name": "stdout",
          "text": [
            "[[0.   0.   0.01 0.99]]\n",
            "0.99\n"
          ]
        }
      ]
    },
    {
      "cell_type": "code",
      "source": [
        "test_list = df_allsongs.preprocess_Lyric_ver3.iloc[35]\n",
        "total_array, top_pred_class, top_pred_prob = predict_sentiment_lyrics(test_list)"
      ],
      "metadata": {
        "colab": {
          "base_uri": "https://localhost:8080/"
        },
        "id": "7qGwTKt68PGi",
        "outputId": "5bd04bf5-b8dc-4ec3-eca3-586ca690b524"
      },
      "execution_count": 59,
      "outputs": [
        {
          "output_type": "stream",
          "name": "stdout",
          "text": [
            "40\n",
            "['때 이른 봄 몇 송이 꺾어다', '너의 방 문 앞에 두었어', '긴 잠 실컷 자고 나오면', '그때쯤엔 예쁘게 피어 있겠다', '', '별 띄운 여름 한 컵 따라다', '너의 머리맡에 두었어', '금세 다 녹아버릴 텐데', '너는 아직 혼자 쉬고 싶은가 봐', '', '너 없이 보는 첫 봄이 여름이', '괜히 왜 이렇게 예쁘니', '다 가기 전에 널 보여줘야 하는데', '음 꼭 봐야 하는데', '', '내게 기대어 조각잠을 자던', '그 모습 그대로 잠들었구나', '무슨 꿈을 꾸니', '깨어나면 이야기해 줄 거지', '언제나의 아침처럼 음', '', '빼곡한 가을 한 장 접어다', '너의 우체통에 넣었어', '가장 좋았던 문장 아래 밑줄 그어', '나 만나면 읽어줄래', '', '새하얀 겨울 한 숨 속에다', '나의 혼잣말을 담았어', '줄곧 잘 참아내다가도', '가끔은 철없이 보고 싶어', '', '새삼 차가운 연말의 공기가', '뼈 틈 사이사이 시려와', '움츠려 있을 너의 그 마른 어깨를 ', '꼭 안아줘야 하는데', '', '내게 기대어 조각잠을 자던', '그 모습 그대로 잠들었구나', '무슨 꿈을 꾸니', '깨어나면 이야기해 줄 거지']\n"
          ]
        }
      ]
    },
    {
      "cell_type": "code",
      "source": [
        "print(total_array) \n",
        "print(top_pred_class)  \n",
        "print(top_pred_prob)  "
      ],
      "metadata": {
        "colab": {
          "base_uri": "https://localhost:8080/"
        },
        "id": "462-5G4C8srV",
        "outputId": "7cc3609d-5b4d-4d13-b7e3-42ec27c8e1e1"
      },
      "execution_count": 60,
      "outputs": [
        {
          "output_type": "stream",
          "name": "stdout",
          "text": [
            "[[0.28 0.1  0.52 0.11]]\n",
            "슬픔\n",
            "0.52\n"
          ]
        }
      ]
    },
    {
      "cell_type": "markdown",
      "source": [
        "# Apply model"
      ],
      "metadata": {
        "id": "-MrmcLPG2od2"
      }
    },
    {
      "cell_type": "code",
      "source": [
        "Emotion = []\n",
        "Probability = []\n",
        "분노혐오 = []\n",
        "놀람공포 = []\n",
        "슬픔 = []\n",
        "행복 = []\n",
        "\n",
        "\n",
        "for row in tqdm(df_allsongs.iterrows()):\n",
        "\n",
        "        total_array, top_pred_class, top_pred_prob = predict_sentiment_lyrics(row[1][-1])\n",
        "        #break\n",
        "        Emotion.append(top_pred_class)\n",
        "        Probability.append(top_pred_prob)\n",
        "        분노혐오.append(total_array[0][0])\n",
        "        놀람공포.append(total_array[0][1])\n",
        "        슬픔.append(total_array[0][2])\n",
        "        행복.append(total_array[0][3])"
      ],
      "metadata": {
        "id": "jYYaHQ1bI0v6",
        "colab": {
          "base_uri": "https://localhost:8080/"
        },
        "outputId": "0a91d3b2-87b2-43e5-f68c-687e7829d5e2"
      },
      "execution_count": null,
      "outputs": [
        {
          "output_type": "stream",
          "name": "stderr",
          "text": [
            "\r0it [00:00, ?it/s]"
          ]
        },
        {
          "output_type": "stream",
          "name": "stdout",
          "text": [
            "54\n",
            "['우리 다시 만날래', '예쁘게 빛나던', '모든 추억들이', '너무 그리워', '너의 품에 안길래', '이 밤이 새도록', '네게 말할 거야', '너를 좋아한다고', '안녕 그대야', '요즘 어떻게 지내', '가로수길 걷다가', '생각이 나서', '행복해 보이는 사람들 속에', '우리 둘만 없어서', '어색했었어', '늘 집에 갈 땐', '항상 뒤돌아보면', '날 보며 웃어주던', '네가 생각났어', '우리 다시 만날래', '예쁘게 빛나던', '모든 추억들이', '너무 그리워', '너의 품에 안길래', '이 밤이 새도록', '네게 말할 거야', '너를 좋아한다고', '토요일마다 가던', '한강공원에', '이어폰 하나씩', '나눠끼고서', '벚꽃엔딩같이 듣고 있으면', '부러울 게 없었어', '너만 있으면', '널 사랑할 때', '내가 너무 그리워', '날 보며 웃어주던', '네가 보고 싶어', '우리 다시 만날래', '예쁘게 빛나던', '모든 추억들이', '너무 그리워', '너의 품에 안길래', '이 밤이 새도록', '네게 말할 거야', '너를 좋아한다고', '같이 별 보러 갈래', '널 다시 만나면', '네 옆에 기대서', '잠들고 싶어', '너의 품에 안길래', '이 밤이 새도록', '내 곁에 있어줘', '내겐 너뿐이라고']\n"
          ]
        },
        {
          "output_type": "stream",
          "name": "stderr",
          "text": [
            "\r1it [00:31, 31.55s/it]"
          ]
        },
        {
          "output_type": "stream",
          "name": "stdout",
          "text": [
            "40\n",
            "['뭐하고 있었니 늦었지만', '잠시 나올래', '너의 집 골목에 있는', '놀이터에 앉아 있어', '친구들 만나서 오랜만에', '술을 좀 했는데', '자꾸만 니 얼굴 떠올라', '무작정 달려왔어', '이 맘 모르겠니', '요즘 난 미친 사람처럼', '너만 생각해', '대책없이 네가 점점 좋아져', '아냐 안 취했어 진짜야', '널 정말 사랑해', '눈물이 날만큼 원하고 있어', '정말로 몰랐니', '가끔 전화해 장난치듯', '주말엔 뭐할거냐며', '너의 관심 끌던 나를', '그리고 한번씩 누나 주려 샀는데', '너 그냥 준다고', '생색 낸 선물도 너 때문에 산거야', '이 맘 모르겠니', '요즘 난 미친 사람처럼', '너만 생각해', '대책없이 네가 점점 좋아져', '아냐 안 취했어 진짜야', '널 정말 사랑해', '진심이야 믿어줘', '갑자기 이런 말 놀랐다면 미안해', '부담이 되는게 당연해', '이해해 널', '하지만 내 고백도 이해해 주겠니 oh', '지금 당장 대답하진마', '나와 일주일만 사귀어줄래', '후회없이 잘 해주고 싶은데', '그 후에도 니가 싫다면', '나 그때 포기할게', '귀찮게 안할게 혼자 아플게', '진심이야 너를 사랑하고 있어']\n"
          ]
        },
        {
          "output_type": "stream",
          "name": "stderr",
          "text": [
            "\r2it [01:01, 30.69s/it]"
          ]
        },
        {
          "output_type": "stream",
          "name": "stdout",
          "text": [
            "34\n",
            "['눈물이 난다 이 길을 걸으면', '그 사람 손길이 자꾸 생각이 난다', '붙잡지 못하고 가슴만 떨었지', '내 아름답던 사람아', '사랑이란 게 참 쓰린 거더라', '잡으려 할수록 더 멀어지더라', '이별이란 게 참 쉬운 거더라', '내 잊지 못할 사람아', '사랑아 왜 도망가', '수줍은 아이처럼', '행여 놓아버릴까 봐', '꼭 움켜쥐지만', '그리움이 쫓아 사랑은 늘 도망가', '잠시 쉬어가면 좋을 텐데', '바람이 분다 옷깃을 세워도', '차가운 이별의 눈물이 차올라', '잊지 못해서 가슴에 사무친', '내 소중했던 사람아', '사랑아 왜 도망가', '수줍은 아이처럼', '행여 놓아버릴까 봐', '꼭 움켜쥐지만', '그리움이 쫓아 사랑은 늘 도망가', '잠시 쉬어가면 좋을 텐데', '기다림도 애태움도 다 버려야 하는데', '무얼 찾아 이 길을 서성일까', '무얼 찾아 여기 있나', '사랑아 왜 도망가', '수줍은 아이처럼', '행여 놓아버릴까 봐', '꼭 움켜쥐지만', '그리움이 쫓아 사랑은 늘 도망가', '잠시 쉬어가면 좋을 텐데', '잠시 쉬어가면 좋을 텐데']\n"
          ]
        },
        {
          "output_type": "stream",
          "name": "stderr",
          "text": [
            "\r3it [01:25, 27.54s/it]"
          ]
        },
        {
          "output_type": "stream",
          "name": "stdout",
          "text": [
            "31\n",
            "['우리 함께 듣던 그 노랠 듣고 싶을까', '듣고 나서 잠시 날 생각은 할까', '아주 혹시라도 넌 내가 보고 싶을까', '난 왜 니 목소리가 듣고 싶을까', '뻔하디 뻔한 노랫말 여서 미안해', '미안해도 부디 넌 꼭 들어줬음 해', '후회도 미련도 없는 척 떠났지만', '이게 내 진심인 걸 꼭 알아줬음 해', '우리 함께 듣던 그 노랠 듣고 싶을까', '듣고 나서 잠시 날 생각은 할까', '아주 혹시라도 넌 내가 보고 싶을까', '못난 내 목소리가 듣고 싶을까', '말없이 다 전해지는 건 없지 난 말해 지금', '몇 년째 나의 favorite one', 'You the only one yeah', 'Yes I know 무엇도 달라질 건 없지만', '이게 내 진심인 걸 꼭 알아줬음 해', '우리 함께 듣던 그 노랠 듣고 싶을까', '듣고 나서 잠시 날 생각은 할까', '아주 혹시라도 넌 내가 보고 싶을까', '난 왜 니 목소리가 듣고 싶을까', 'Are you okay not today', '천천히 대답해도 돼 i just stay', '넌 내 목소리가 듣고 싶을까', '누굴 만나 봐도 다시는 못할 것 같아', '그립고 또 그립다 우리 그 사랑', 'Woo', 'I’m missing U', 'Never forget U', 'Never forget U', 'Oh no baby']\n"
          ]
        },
        {
          "output_type": "stream",
          "name": "stderr",
          "text": [
            "\r4it [01:44, 24.04s/it]"
          ]
        },
        {
          "output_type": "stream",
          "name": "stdout",
          "text": [
            "56\n",
            "['끝없이 별빛이 내리던 밤', '기분 좋은 바람이', '두 빰을 스치고', '새벽 바다 한곳을 보는', '아름다운 너와 나', '그림을 그려갔어', '모래 위 떨린 손끝으로', '날 향해 웃어주는 입술', '끝 모양과 저 달보다', '사랑스러운 두 눈을 가진 네가', '다정히 내 이름을', '부르면 내 마음이', '녹아내려 언제나', '나 하날 위해 준비된', '선물 같아 널 안으면', '잠들지 않는 바다 위를', '너와 함께 걷는 거 같아', '하늘 아래 너와 나', '남은 내 모든 날을 너에게', '다 줘도 안 아까워', '이제서야 내가', '사랑에 눈을 뜬 건 가봐', '경험하지 못했고', '믿기지 않는 일만', '일어나고 있는 거 아니', '5월에 피는 봄꽃 처럼', '내 사랑도 피어나', '부는 바람에 살며시 실어 보내', '다정히 내 이름을', '부르면 내 마음이', '녹아내려 언제나', '나 하날 위해 준비된', '선물 같아 널 안으면', '잠들지 않는 바다 위를', '너와 함께 걷는 거 같아', '하늘 아래 너와 나', '설레는 지금이', '꿈이 아닌 걸 알잖아', '난 더 바랄 게 없어', '먼 훗날 내 생애', '아주 작은 소리로', '귓가에 말할 거야', '내 곁에 머물러줘서', '마음 다해 고맙다고', '어떤 말로도 표현 못 할', '내 인생의 전부였다고', '이 순간 너를 꼭 안고', '고백할게 언제나', '우리 모든 날들과', '별빛 아래 우리 그림자', '제일로 특별하다고', '길고 긴 겨울 끝을 지나', '너의 앞에 서있는 지금', '선명한 목소리로', '널 사랑한다고', '말할게']\n"
          ]
        },
        {
          "output_type": "stream",
          "name": "stderr",
          "text": [
            "\r5it [02:16, 26.93s/it]"
          ]
        },
        {
          "output_type": "stream",
          "name": "stdout",
          "text": [
            "30\n",
            "['잊지는 말아요 함께 했던 날들', '눈물이 날 때면', '그대 뒤를 돌아보면 돼요', '아프지 말아요 쓸쓸한 마음에', '힘든 일이 참 많았죠 그대에겐', '내가 곁에 있을게요', '그댈 위해 노래할게요', '잊지 말아요', '그댈 위해 약속할게요', '언젠가 우리 시간 지나면', '알게 되겠죠', '그땐 웃을 수 있죠 나 약속할게요', '그땐 미소 짓겠죠', '작은 행복까지 모두', '외롭고 지칠 때 손잡아 줄게요', '슬픔이 짙어질 때면 위로해 줄', '그 한 사람이 될게요', '그대 부디 울지 말아요', '슬퍼 말아요', '그대에게 빛이 될게요', '언젠가 우리 시간 지나면', '알게 되겠죠', '그땐 웃을 수 있죠 나 약속할게요', '폭풍 속에 혼자 남아 헤매도 오', '길이 되어 지킬게요 그대', '그댈 위해 노래할게요', '잊지 말아요', '그댈 위해 약속할게요', '어두운 길을 밝게 비추는', '그대의 빛이 될게요']\n"
          ]
        },
        {
          "output_type": "stream",
          "name": "stderr",
          "text": [
            "\r6it [02:33, 23.65s/it]"
          ]
        },
        {
          "output_type": "stream",
          "name": "stdout",
          "text": [
            "40\n",
            "['너를 위해 해 줄 것이 하나 없어서', '보낼 수밖에 없었고', '네가 없이 사는 법을 알지 못해서', '순간순간을 울었다', '후회로 가득한 한숨 자락이', '시린 바람처럼', '가슴 치는 날 그 언젠가', '우리 만날 수 있을까', '다시 만날 수 있을까', '그리 좋던 예전처럼 그때처럼', '되돌아갈 수 있을까', '다시 우리가 만나면', '무엇을 해야만 할까', '서로를 품에 안고서', '하염없이 눈물만 흘려볼까', '붙잡을 마음이야 없었겠냐마는', '그때 난 부끄러웠다', '떳떳하게 일어나 널 다시 찾아갈', '뜨거운 꿈만 꾸었다', '둘이 함께 했던 순간순간이', '시린 폭포처럼', '쏟아지는 날 그 언젠가', '우리 만날 수 있을까', '다시 만날 수 있을까', '그리 좋던 예전처럼 그때처럼', '되돌아갈 수 있을까', '다시 우리가 만나면', '무엇을 해야만 할까', '서로를 품에 안고서', '하염없이 눈물만 흘려볼까', '그리운 마음이 서럽게 흘러넘쳐', '너에게 닿을 때', '우리 만날 수 있을까', '다시 만날 수 있을까', '그리 좋던 예전처럼 그때처럼', '되돌아갈 수 있을까', '다시 우리가 만나면', '무엇을 해야만 할까', '서로를 품에 안고서', '하염없이 눈물만 흘려볼까']\n"
          ]
        },
        {
          "output_type": "stream",
          "name": "stderr",
          "text": [
            "\r7it [02:56, 23.34s/it]"
          ]
        },
        {
          "output_type": "stream",
          "name": "stdout",
          "text": [
            "34\n",
            "['둘이 손잡고 걸을 때', '마주 보며 또 웃을 때', '사랑한다 말하지 않아도 알아', '널 만나러 가는 길에', '내 입가에 늘 환한 미소만이', '흐르고 있어', '사랑해 너를 사랑해', '눈물 나도록 사랑해', '저기 밤하늘의 별보다', '보석보다 네가 더 소중해', '얼마나 내가 얼마나 너를 사랑하는지', '내 모든 걸 너에게 줄게', '속상하고 힘이 들 때', '열이 나고 아파할 때', '옆에서 늘 힘이 돼준 사람 너야', '집에 돌아오는 길에', '내 귓가엔 늘 너의 음성만이', '흐르고 있어', '사랑해 너를 사랑해', '눈물 나도록 사랑해', '저기 밤하늘의 별보다', '보석보다 네가 더 소중해', '얼마나 내가 얼마나 너를 사랑하는지', '내 모든 걸 너에게 줄게', '세월 지나 많이 변했을 때', '미운 나의 손을 잡아줄 사람', '먼 훗날 아주 먼 훗날', '우리 눈 감는 그날에', '나를 사랑해 준 너에게 고맙다고', '후회는 없다고', '사랑해 나만의 사랑', '다시 태어난대도', '내 사랑은 너 하나뿐야', '영원히 너를 사랑해']\n"
          ]
        },
        {
          "output_type": "stream",
          "name": "stderr",
          "text": [
            "\r8it [03:15, 22.12s/it]"
          ]
        },
        {
          "output_type": "stream",
          "name": "stdout",
          "text": [
            "21\n",
            "['나도 한때는 그이의 손을 잡고', '내가 온 세상 주인공이 된 듯', '꽃송이의 꽃잎 하나하나까지', '모두 날 위해 피어났지', '올림픽대로 뚝섬 유원지', '서촌 골목골목 예쁜 식당', '나를 휘청거리게 만든', '주옥같은 대사들', '다시 누군가 사랑할 수 있을까', '예쁘다는 말 들을 수 있을까', '하루 단 하루만 기회가 온다면', '죽을힘을 다해 빛나리', '언제부턴가 급격하게', '단조로 바뀌던 배경음악', '조명이 꺼진 세트장에', '혼자 남겨진 나는', '단역을 맡은 그냥 평범한 여자', '꽃도 하늘도 한강도 거짓말', '나의 드라마는 또 이렇게 끝나', '나왔는지조차 모르게', '끝났는지조차 모르게']\n"
          ]
        },
        {
          "output_type": "stream",
          "name": "stderr",
          "text": [
            "\r9it [03:27, 19.05s/it]"
          ]
        },
        {
          "output_type": "stream",
          "name": "stdout",
          "text": [
            "37\n",
            "['사랑이었다 별거 없던 내 하루에', '빛이 돼준 단한 사람', '나보다 나를 더 아껴 주던 너를', '그땐 왜 몰랐을까', '행복이었다 다시는 없을 것 같던', '잠시나마 행복했었다', '다른 사람 곁에 있는 널', '생각해 본 적 없지만', '이젠 너를 보내줘야 할 것 같아', '내가 아니라도', '눈부시게 사랑받았을 너라서', '그 소중한 시간을 나와 함께해 줘서', '고마웠어', '예쁘고 아름다웠던 너의 그날에', '함께했던 그 모든 순간이 행복했어', '내 전부였다 무엇도 바꿀 수 없던', '우리라서 행복했었다', '다른 누구라도', '나보다 더 좋은 사람 만나서', '이젠 나를 잊고 행복하게 살아', '내가 아니라도', '눈부시게 사랑받았을 너라서', '그 소중한 시간을 나와 함께해 줘서', '고마웠어', '예쁘고 아름다웠던 너의 그날에', '함께했던 그 모든 순간이 행복했어', '어두웠던 내 하루에', '빛이 되어주던 그날들을', '어떻게 잊고 살아', '과분했던 너라는 사람을 만나', '누구보다 사랑했었다', '내가 아니었다면', '눈부시게 사랑받았을 너란 걸', '이 세상에 누구보다 더 잘 알아서', '미안했어 너와 함께한 날들이', '더 말할 게 있을까', '행복한 기억만 가져갈게']\n"
          ]
        },
        {
          "output_type": "stream",
          "name": "stderr",
          "text": [
            "\r10it [03:49, 19.75s/it]"
          ]
        },
        {
          "output_type": "stream",
          "name": "stdout",
          "text": [
            "30\n",
            "['이윽고 내가 한눈에', '너를 알아봤을 때', '모든 건 분명 달라지고 있었어', '내 세상은 널 알기 전과 후로 나뉘어', '니가 숨 쉬면 따스한 바람이 불어와', '니가 웃으면 눈부신 햇살이 비춰', '거기 있어줘서 그게 너라서', '가끔 내 어깨에 가만히 기대주어서', '나는 있잖아 정말 빈틈없이 행복해', '너를 따라서 시간은 흐르고 멈춰', '물끄러미 너를 들여다 보곤 해', '그것 말고는 아무것도 할 수 없어서', '너의 모든 순간 그게', '나였으면 좋겠다', '생각만 해도 가슴이 차올라', '나는 온통 너로', '보고 있으면 왠지 꿈처럼 아득한 것', '몇 광년 동안 날 향해 날아온 별빛 ', '또 지금의 너', '거기 있어줘서 그게 너라서', '가끔 나에게 조용하게 안겨주어서', '나는 있잖아 정말 남김없이 고마워', '너를 따라서 시간은 흐르고 멈춰', '물끄러미 너를 들여다보곤 해', '너를 보는 게 나에게는 사랑이니까', '너의 모든 순간 그게', '나였으면 좋겠다', '생각만 해도 가슴이 차올라', '나는 온통 너로', '니 모든 순간 나였으면']\n"
          ]
        },
        {
          "output_type": "stream",
          "name": "stderr",
          "text": [
            "\r11it [04:06, 18.91s/it]"
          ]
        },
        {
          "output_type": "stream",
          "name": "stdout",
          "text": [
            "46\n",
            "['흐르는 저 하늘을 물어 채는 범처럼', '태산에 날아들어 숨어드는 새처럼', '동산을 뛰고 뛰어가는 강아지처럼', '온 산에 풍물 막을 내리네', '바람은 지친 끝에 밤에 몸을 뉘이네', '별빛은 아뜩하니 은하수를 내리네', '차가운 밤하늘에 세상이 젖어 가네', '그리워 홀로 타령을 하자', '흘러가라 사랑사랑아', '덧없이 피고 떨어지는 꽃송아', '애닯구나 가락가락아', '눈물에 떨어진 별을 헤네', '푸른 달아 오랜 고운 내 달아', '비친 내 손에 내려다오', '은색 소매 내 곁에 두른 채로', '한 번만 타는 입을 축여다오', '푸른 달아 다시 없을 내 달아', '뻗은 손끝에 닿아다오', '달빛만이 흘러 바다가 되고', '지쳐 전하지 못하는 수월가', '고요한 바다 위로 내 노래가 떠 간다', '소리도 부끄러워 숨죽이고 떠 간다', '달빛에 젖은 몸을 내놓고서 떠 간다', '한낮이 비쳐 오를 때까지', '달아 달아 애달픈 달아', '피었다 이내 숨어 버릴 허상아', '시리구나 세월세월아', '나날을 헤면서 현을 뜯네', '푸른 달아 오랜 고운 내 달아', '비친 내 손에 내려다오', '은색 소매 내 곁에 두른 채로', '한 번만 타는 입을 축여다오', '푸른 달아 다시 없을 내 달아', '뻗은 손끝에 닿아다오', '달빛만이 흘러 바다가 되고', '지쳐 전하지 못하는 수월가', '서로 가자 굽이굽이 쳐 가자', '하늘에 닿을 너머까지', '밤아 가라 훠이훠이 가거라', '산 위에 걸린 저 달은 태평가', '서로 가자 굽이굽이 쳐 가자', '새벽에 닿을 너머까지', '달빛만이 흘러 바다가 되고', '지쳐 전하지 못하는 수월가', '하늘을 보며 그리는 풍류가', '손으로 잡을 수 없는 수월가']\n"
          ]
        },
        {
          "output_type": "stream",
          "name": "stderr",
          "text": [
            "\r12it [04:32, 21.16s/it]"
          ]
        },
        {
          "output_type": "stream",
          "name": "stdout",
          "text": [
            "47\n",
            "['느낌이 오잖아 ', '떨리고 있잖아', '언제까지 눈치만 볼 거니', '네 맘을 말해봐 ', '딴청 피우지 말란 말이야', '네 맘 가는 그대로 ', '지금 내 손을 잡아', '어서 내 손을 잡아', '우연히 고개를 돌릴 때 마다', '눈이 마주치는 건', '며칠 밤 내내 꿈속에 나타나', '밤새 나를 괴롭히는 건', '그 많은 빈자리 중에서 하필', '내 옆자릴 고르는 건', '나도 모르게 어느새 실없는 웃음', '흘리고 있다는 건', '그럼 말 다했지 뭐', '우리 얘기 좀 할까', '느낌이 오잖아 떨리고 있잖아', '언제까지 눈치만 볼 거니', '네 맘을 말해봐 ', '딴청 피우지 말란 말이야', '네 맘 가는 그대로 ', '지금 내 손을 잡아', '핸드폰 진동에 ', '심장이 덜컥내려 앉는다는 건', '오 나도 모르게 ', '어느새 짓궂은 네 말투', '자꾸 듣고 싶은걸', '어떡해', '저기 멀리 걸어온다', '눈이 마주친다', '언제까지 넌 모른척 할거니', '사랑이 온거야 너와 나 말이야', '네가 좋아 정말 못 견딜 만큼', '그거면 된거야 ', '더는 생각하지 말란 말이야', '네 맘 가는 그대로', '느낌이 오잖아 떨리고 있잖아', '언제까지 눈치만 볼 거니', '네 맘을 말해봐 ', '딴청 피우지 말란 말이야', '네 맘 가는 그대로 ', '지금 내 손을 잡아', '그냥 내 손을 잡아', '지금 내 손을 잡아', ' ']\n"
          ]
        },
        {
          "output_type": "stream",
          "name": "stderr",
          "text": [
            "\r13it [04:59, 22.98s/it]"
          ]
        },
        {
          "output_type": "stream",
          "name": "stdout",
          "text": [
            "41\n",
            "['코끝을 간지럽히는 살랑 부는 바람이', '눈 감으면 어디든', '네 곁에 데려가 주길', '어느새 내 맘이 춤을 추네', '한없이 예쁜 날이야', '꿈꾸던 시간이', '마치 오늘인 것만 같아', '맘이 두근거리다 심장이 쿵 떨어져', '후 살며시 네가 불어와', '눈부신 하늘이 되어 다 물들어가요', '유난히 달콤한 햇살 팡파레를 울려요', '한껏 들뜬 발걸음으로 반겨줘요', '따스한 그대의 품속으로', '바쁘게 달려가 힘껏 안겨볼래요', '시작될 거야 너와 내 이야기', '샤라랄 라라랄 라라랄 꽃눈이 내려요', '옷장 가득히 싱그러운 설렘이 하나둘', '아껴 둔 마음 꺼내 입고서', '널 만나러 가요', '살며시 네가 불어와', '눈부신 하늘이 되어 다 물들어가요', '유난히 달콤한 햇살 팡파레를 울려요', '한껏 들뜬 발걸음으로 반겨줘요', '따스한 그대의 품속으로', '바쁘게 달려가 힘껏 안겨볼래요', '시작될 거야 너와 내 이야기', '때론 빗방울 떨어져', '잠시 우리 옷깃을 적셔', '찡그린 날도 있겠지만', '상상만 해도 찬란한 꿈을 꾸는 거야', '하늘에 꽃눈이 내려 여기저기 날려요', '머리가 어지러울 만큼 행복해요', '웅크렸던 만큼', '소중히 내가 지켜 갈게요', '그대와 함께하는 사랑스런 날이야', '유난히 달콤한 햇살 팡파레를 울려요', '한껏 들뜬 발걸음으로 반겨줘요', '따스한 그대의 품속으로', '바쁘게 달려가 힘껏 안겨볼래요', '시작될 거야 너와 내 이야기', '샤라랄 라라랄 라라랄 꽃눈이 내려요']\n"
          ]
        },
        {
          "output_type": "stream",
          "name": "stderr",
          "text": [
            "\r14it [05:23, 23.18s/it]"
          ]
        },
        {
          "output_type": "stream",
          "name": "stdout",
          "text": [
            "40\n",
            "['내가 너라면 다 알아볼 텐데', '널 위할 사람 찾아낼 텐데', '지난 오랜 시간 너의 그 곁을', '지켜온 나라는 걸', '내가 너였다면 참 행복할 텐데', '한 사람을 다 가졌으니까', '둔한 바보도 눈치챌 그 사랑을', '너만 왜 모르니', '너를 바라만 바라만 본다', '외쳐 네 이름만 부른다', '보고 싶은 맘에 너를 향한 그 발걸음', '네 곁을 맴도는데', '오늘도 그리고 그리워하다', '애써 참았던 눈물이 흘러', '그저 멀리서만 바라보다', '또 소리쳐 네가 보고 싶다', '네가 나라면 더 참 아팠을 텐데', '슬픈 역할은 내가 맡을게', '웃는 모습만 보이며 살아가 줘', '내가 볼 수 있게', '너를 바라만 바라만 본다', '외쳐 네 이름만 부른다', '보고 싶은 맘에 너를 향한 그 발걸음', '네 곁을 맴도는데', '오늘도 그리고 그리워하다', '애써 참았던 눈물이 흘러', '그저 멀리서만 바라보다 또 소리쳐', '네가 보고 싶다', '한 걸음 더 다가갈까', '더 가까이 네게 갈까 OH', '어제보다 더 내일 더 널 사랑해', 'I’ll make you love me someday', '혼자 바라고 바라만 보다', '울컥 그리움이 솟는다', '바보 같은 맘에 하지 못한 그 한마디', '널 사랑한다는 말', '얼마나 그리고 그리워해야', '내 맘 너의 곁에 닿게 될까', '매일 하루 종일 너의 생각에 사무쳐', '너무 보고 싶다']\n"
          ]
        },
        {
          "output_type": "stream",
          "name": "stderr",
          "text": [
            "\r15it [05:46, 23.11s/it]"
          ]
        },
        {
          "output_type": "stream",
          "name": "stdout",
          "text": [
            "66\n",
            "['한 달 좀 덜 된 기억들', '주머니에 넣은 채', '걷고 있어 몇 시간을', '혹시 몰라 네가 좋아했던', '코트를 입은 채', '나온 번화가 그때 마침', '찬바람 막아줄', '네가 이젠 없으니까', '추울 때 따스히', '안아줄 이가 없으니까', '친구들이 불러도', '나갈 수 없어 난', '창문 너머', '그저 바라봐 그때 마침', '눈이 오잖아', '우리 처음 만난 그 밤에도', '한참 동안 눈이 왔잖아', '지금 내가 생각나지', '않을 리가 없잖아', '눈이 오잖아', '그때 내가 밤하늘 내린', '하얀 눈 예쁘다 했잖아', '그랬잖아', '지금 눈이 오잖아', 'Uh 눈이 오잖아', '이 말 핑계인 걸 알지만', '생각에 잠기곤 해', '거릴 거니는 내', '곁에 아무도 없을 때', '더 크게 들리네', 'Oh 눈 내리는 소리', '이제 인정하자', '수많은 끝도 끝났어', '찬란한 그때의', '우린 이젠 없으니까', '돌아온 계절', '남아있는 건 없으니까', '추억을 지우는 게', '내 이별의 숙제', '창문 너머', '그저 바라봐 그때 마침', '눈이 오잖아', '우리 처음 만난 그 밤에도', '한참 동안 눈이 왔잖아', '지금 내가 생각나지', '않을 리가 없잖아', '눈이 오잖아', '그때 내가 밤하늘 내린', '하얀 눈 예쁘다 했잖아', '그랬잖아', '지금 눈이 오잖아', '마지막 안녕이 남은 거리에서 혼자', '너와의 약속들을 되뇌었어', '함께여야 할 너 없는 이 겨울의', '첫눈이 오잖아', '눈이 오지만', '우리 처음 만난 그 밤에도', '내렸던 그 눈이 오지만', '주머니 속 챙겨 나온 기억', '버려야만 해', '눈이 오지만', '우린 이대로의 모습으로', '남아있는 게 맞지만', '그래도', '지금', '그 눈이 오잖아']\n"
          ]
        },
        {
          "output_type": "stream",
          "name": "stderr",
          "text": [
            "\r16it [06:23, 27.48s/it]"
          ]
        },
        {
          "output_type": "stream",
          "name": "stdout",
          "text": [
            "26\n",
            "['어쩌면 너도 나와 같은 꿈 꿀까', '매일 마주 보며 눈뜨는 하루', '늦은 밤 헤어지긴 너무 아쉬워', '널 많이 사랑하나 봐', '유난히 날씨가 좋은 날', '넌 나를 설레이게 해', '영화 속에서만 보던 일들이', '요즘 내 일상인 듯해', '어쩌면 너도 나와 같은 꿈 꿀까', '매일 마주 보며 눈뜨는 하루', '늦은 밤 헤어지긴 너무 아쉬워', '널 많이 사랑하나 봐', '오늘 너에게 고백하겠어', '취해서 하는 말이 아냐', '참아온 진심인 거야', '하루 종일 아무것도 안 해도', '너랑 있는 게 젤 좋아', '달빛도 하늘 아래 우리를 비추고', '온 세상이 모두 잠든 것 같아', '늦은 밤 헤어지긴 너무 아쉬워', '널 많이 사랑하나 봐', '네가 살아가는 순간에', '그 모든 순간에 내가 있음 해', '고마워 내 인생에 나타나줘서', '이렇게 날 안아줘서', '오늘 너에게 고백하겠어']\n"
          ]
        },
        {
          "output_type": "stream",
          "name": "stderr",
          "text": [
            "\r17it [06:39, 23.78s/it]"
          ]
        },
        {
          "output_type": "stream",
          "name": "stdout",
          "text": [
            "45\n",
            "['밤하늘의 별을 따서 너에게 줄래 ', '너는 내가 사랑하니까 ', '더 소중하니까 ', '오직 너 아니면 안 된다고 ', '외치고 싶어 그저 ', '내 곁에만 있어줘 ', '떠나지 말아줘 ', '참 많이 어색했었죠 널 처음 만난 날 ', '멀리서 좋아하다가 들킨 사람처럼 ', '숨이 가득 차올라서 ', '아무 말 하지 못했는데 ', '너는 말 없이 웃으며 내 손 잡아줬죠 ', '밤하늘의 별을 따서 너에게 줄래 ', '너는 내가 사랑하니까 ', '더 소중하니까 ', '오직 너 아니면 안 된다고 ', '외치고 싶어 ', '그저 내 곁에만 있어줘 ', '떠나지 말아줘 ', '널 좋아하는 내 마음이 표현이 안 돼 ', '꿈이 아니면 좋겠어 자꾸 웃음 나와 ', '내 모든 걸 다 준대도 ', '너에겐 아깝질 않아 ', '이 순간이 영원하길 난 정말 행복해 ', '밤하늘의 별을 따서 너에게 줄래 ', '너는 내가 사랑하니까 ', '더 소중하니까 ', '오직 너 아니면 안 된다고 ', '외치고 싶어 ', '그저 내 곁에만 있어줘 ', '떠나지 말아줘 ', '그저 내 곁에만 있어줘 ', '떠나지 말아줘 ', '많고 많은 사람 중에 ', '너를 만나서 행복하고 싶어 ', '두 번 다시 울지 않을래 ', '오직 내 눈에는 너만 보여 ', '나를 아껴줘 이제부터 ', '혼자가 아니야 우린 함께니까 ', '나나나 난난 난난나 ', '나나나 난난 난난나 ', '나 나나나 난난 난난나 나나난나 ', '나나나 난난 난난나', '나나나 난난 난난나', '나 나나나 난난 난난나 나나난나']\n"
          ]
        },
        {
          "output_type": "stream",
          "name": "stderr",
          "text": [
            "\r18it [07:04, 24.38s/it]"
          ]
        },
        {
          "output_type": "stream",
          "name": "stdout",
          "text": [
            "38\n",
            "['달이 차고 내 마음도 차고', '이대로 담아 두기엔', '너무 안타까워', '너를 향해 가는데', '달은 내게 오라 손짓하고', '귓속에 얘길 하네', '지금 이 순간이', '바로 그 순간이야', '제일 마음에 드는 옷을 입고', '노란 꽃 한 송이를 손에 들고', '널 바라 보다 그만', '나도 모르게 웃어버렸네', '이게 아닌데', '내 마음은 이게 아닌데', '널 위해 준비한 오백 가지', '멋진 말이 남았는데', '사랑한다는', '그 흔한 말이 아니야', '그 보단 더욱더 로맨틱하고', '달콤한 말을 준비했단 말야', '숨이 차고 밤 공기도 차고', '두 눈을 감아야만', '네 모습이 보여', '걸을 수가 없는데', '구름 위를 걷는다는 말이', '과장이 아니란 걸 알게 됐어', '널 알게 된 후부터 나의 모든 건', '다 달라졌어', '이게 아닌데', '내 마음은 이게 아닌데', '널 위해 준비한 오백 가지', '멋진 말이 남았는데', '사랑한다는 그 흔한 말이 아니야', '그 보단 더욱더 로맨틱하고', '달콤한 말을 준비했단 말야', '나를 봐줘요 내 말을 들어봐 줘요', '아무리 생각을 하고 또 해도', '믿어지지 않을 만큼 사랑해']\n"
          ]
        },
        {
          "output_type": "stream",
          "name": "stderr",
          "text": [
            "\r19it [07:26, 23.68s/it]"
          ]
        },
        {
          "output_type": "stream",
          "name": "stdout",
          "text": [
            "45\n",
            "['너는 참 못됐다', '나 없이도 잘 지내더라', '언제쯤 나도 널 잊을 수 있을까', '눈을 감아도 눈물이 흐르고', '어딜 가도 너만 보여', '어느새 니가 없는', '긴 하루가 지나간다', '다른 사람을 또 만나봐도', '니가 아님 안 되겠어', '울다가 또 웃다가 미친 것처럼', '또 보고 싶다', '상처 같은 널 잊어보려고', '아무리 애를 써도', '너만 보고 싶다', '니가 없인 아무것도 못 해', '니가 없는 나는 아무것도 아냐', '나도 참 못됐다', '자꾸만 또 힘이 들더라', '예전처럼 돌아갈 수가 있을까', '눈을 감아도 니가 떠오르고', '어딜 가도 너만 보여', '자주 걷던 그 길 끝 저 너머', '그댄 보일까요', '다른 사람을 또 만나봐도', '니가 아님 안 되겠어', '울다가 또 웃다가 미친 것처럼', '또 보고 싶다', '상처 같은 널 잊어보려고', '아무리 애를 써도', '너만 보고 싶다', '니가 없인 아무것도 못 해', '니가 없는 나는 아무것도 아냐', '그때로 돌아가 너를', '다시 한번만 안아볼 수 있다면', '나 말할 거야 사랑한다고 보고픈', '나의 사랑아 내게 다시 와주라', '다른 사람을 또 만나봐도', '니가 아님 안 되겠어', '울다가 또 웃다가 미친 것처럼', '또 보고 싶다', '상처같은 널 잊어보려고', '아무리 애를 써도', '너만 보고 싶다', '니가 없인 아무것도 못 해', '니가 없는 나는 아무것도 아냐']\n"
          ]
        },
        {
          "output_type": "stream",
          "name": "stderr",
          "text": [
            "\r20it [07:52, 24.37s/it]"
          ]
        },
        {
          "output_type": "stream",
          "name": "stdout",
          "text": [
            "37\n",
            "['I wanna be with you', 'And I wanna stay with you', 'Just like the stars shining bright', 'You’re glowing once more', 'Right here beside you I’m still', 'Walking wherever you go', 'You will live forever in me', 'Breathing deeply within me', 'Just take it all', 'I`m nothing without your love', 'I promise', 'I’ll never leave your love', 'My heart is beating ‘cause of you', 'Forever and ever and ever', 'Only you can take my heart', 'Dear my love love love', 'I wanna stay with you', '추억은 늘 여기 마음이란 방에', '너와의 얘기들로 가득 차 있어', '언제부터였는지 나도 잘 모르지만', '너에게 말하고 싶어', '나의 모든 얘기를', 'Just take it all', 'I`m nothing without your love', 'I promise', 'I’ll never leave your love', 'My heart is beating ‘cause of you', 'Forever and ever and ever', 'Only you can take my heart', 'Dear my love love love', 'I wanna stay', 'Tore my heart', 'Now I’m in the dark', 'Will we meet in our dreams', 'Breaking my heart', 'Here we are apart', 'I wanna stay near you']\n"
          ]
        },
        {
          "output_type": "stream",
          "name": "stderr",
          "text": [
            "\r21it [08:13, 23.32s/it]"
          ]
        },
        {
          "output_type": "stream",
          "name": "stdout",
          "text": [
            "47\n",
            "['하루가 가는 소릴 들어', '너 없는 세상 속에', '달이 저물고 해가 뜨는 서러움', '한날도 한시도 못 살 것 같더니', '그저 이렇게 그리워하며 살아', '어디서부터 잊어갈까', '오늘도 기억 속에', '니가 찾아와 하루 종일 떠들어', '니 말투 니 표정 너무 분명해서', '마치 지금도 내 곁에', '니가 사는 것만 같아', '사랑인걸 사랑인걸', '지워봐도 사랑인걸', '아무리 비워내도', '내 안에는 너만 살아', '너 하나만 너 하나만', '기억하고 원하는 걸', '보고픈 너의 사진을', '꺼내어 보다 잠들어', '어디서부터 잊어갈까', '오늘도 기억 속에', '니가 찾아와 하루 종일 떠들어', '니 말투 니 표정 너무 분명해서', '마치 지금도 내 곁에', '니가 사는 것만 같아', '사랑인걸 사랑인걸', '지워봐도 사랑인걸', '아무리 비워내도', '내 안에는 너만 살아', '너 하나만 너 하나만', '기억하고 원하는 걸', '보고픈 너의 사진을', '꺼내어 보다 잠들어', '잠결에 흐르던 눈물이', '곧 말라가듯 조금씩 흐려지겠지', '손 내밀면 닿을 듯', '아직은 눈에 선한 니 얼굴', '사랑해 사랑해 잊으면 안 돼', '너만 보고 너만 알고', '너만 위해 살았던 난', '마음 둘 곳을 몰라', '하루가 일 년 같아', '아무것도 아무 일도', '아무 말도 못하는 난', '그래도 사랑을 믿어', '그래도 사랑을 믿어', '오늘도 사랑을 믿어']\n"
          ]
        },
        {
          "output_type": "stream",
          "name": "stderr",
          "text": [
            "\r22it [08:41, 24.52s/it]"
          ]
        },
        {
          "output_type": "stream",
          "name": "stdout",
          "text": [
            "29\n",
            "['네가 없이 웃을 수 있을까', '생각만 해도 눈물이나', '힘든 시간 날 지켜준 사람', '이제는 내가 그댈 지킬 테니', '너의 품은 항상 따뜻했어', '고단했던 나의 하루에', '유일한 휴식처', '나는 너 하나로 충분해', '긴 말 안 해도 눈빛으로 다 아니깐', '한 송이의 꽃이 피고 지는', '모든 날 모든 순간 함께해', '햇살처럼 빛나고 있었지', '나를 보는 네 눈빛은', '꿈이라고 해도 좋을 만큼', '그 모든 순간은 눈부셨다', '불안했던 나의 고된 삶에', '한줄기 빛처럼 다가와', '날 웃게 해준 너', '나는 너 하나로 충분해', '긴 말 안 해도 눈빛으로 다 아니깐', '한 송이의 꽃이 피고 지는', '모든 날 모든 순간 함께해', '알 수 없는 미래지만', '네 품속에 있는 지금 순간 순간이', '영원 했으면 해', '갈게 바람이 좋은 날에', '햇살 눈부신 어떤 날에 너에게로', '처음 내게 왔던 그날처럼', '모든 날 모든 순간 함께해']\n"
          ]
        },
        {
          "output_type": "stream",
          "name": "stderr",
          "text": [
            "\r23it [08:58, 22.32s/it]"
          ]
        },
        {
          "output_type": "stream",
          "name": "stdout",
          "text": [
            "36\n",
            "['하루 종일 집에 누워서', '전화기만 보고 있잖아', '내 머릿속은', '네 생각들로만 짜여져 있어', '날 찾지 않아도', '좋아하지 않아도', '이제는 느낄 수 있어', '바라보지 않아도', '다른 사람에게 마음을 줘도', '이제는 견딜 수 있어', '어두운 방 안에서', '혼자 있는 나 그리고 하', '네가 불러주지 않아도', '난 괜찮아 난 괜찮아', '날 찾지 않아도', '좋아하지 않아도', '이제는 느낄 수 있어', '바라보지 않아도', '다른 사람에게 마음을 줘도', '이제는 견딜 수 있어', '어두운 방 안에서', '혼자 있는 나 그리고 하', '네가 불러주지 않아도', '난 괜찮아 난 괜찮아', '언젠가는 다시', '돌아와 주길 와 주길', '언젠가는 꼭 다시 볼 수 있기를', '볼 수 있기를', '어두운 방 안에서', '혼자 있는 나 그리고 하', '네가 불러주지 않아도', '난 괜찮아 난 괜찮아', '어두운 방 안에서', '혼자 있는 나 그리고 하', '네가 불러주지 않아도', '난 괜찮아 난 괜찮아']\n"
          ]
        },
        {
          "output_type": "stream",
          "name": "stderr",
          "text": [
            "\r24it [09:19, 21.88s/it]"
          ]
        },
        {
          "output_type": "stream",
          "name": "stdout",
          "text": [
            "37\n",
            "['네가 떠올라 얼어붙었던', '내게 손 내밀어 준 널', '맞이할 준비를 해', '기분 좋게 내린 햇살을 보고', '반가운 마음으로 문을 열고 나가고서', '맞이해본 따사로운 오늘은', '다가와 준 봄날을 기대하게 해', '나는 알지 못할 여기저기서', '즐거움에 부푼 꽃들은 준비하고', '그들만의 노랫소리들로', '너와 나의 눈을 또 즐겁게 하겠지', '네가 떠올라 얼어붙었던', '내게 손 내밀어주고', '나를 덮어주던', '네가 없이는 의미 없어서', '내게 봄이 돼줬던 널', '맞이할 준비를 해', '기분 좋게 감싸 안는 공기에', '나 혼자 남몰래 위로 받는 것 같아', '나를 안아줬던 너의 손을', '맞잡은 채 즐겁게 나 춤을 추고파', '네가 떠올라 얼어붙었던', '내게 손 내밀어주고', '나를 덮어주던', '네가 없이는 의미 없어서', '내게 봄이 돼줬던 널', '맞이할 준비를 해', '아름다운 축제 노래들조차', '너 없이는 결국 주인공 없는', '초라한 무대일 뿐이야', '울려 퍼지는 꽃들의 노래', '함께 손을 잡은 채로', '나와 춤을 춰줘', '결국 너 없인 아무 의미 없어질', '다가오는 노래를', '너로 완성시켜줘', '그렇게 날 반겨줘']\n"
          ]
        },
        {
          "output_type": "stream",
          "name": "stderr",
          "text": [
            "\r25it [09:40, 21.71s/it]"
          ]
        },
        {
          "output_type": "stream",
          "name": "stdout",
          "text": [
            "26\n",
            "['하얀 머리 뽑아 달라며', '한 개 백 원이라던', '그 시절 다 지나가고', '이젠 흰 눈만 남았네', '그렇게도 힘이 드냐며', '나를 위로하시다', '어느새 잠들어버린', '주름만 남은 내 아버지', '세상이 아무리 힘들어도', '당신 있으면 견딜 것 같아', '오래오래 날 지키며', '그냥 곁에만 있어 주세요', '활짝 웃는 모습이 어린애 같아 보여도', '아프다 말도 못 하는 사람', '이제는 내가 지켜줄게', '어린아이로 돌아가 버린', '사랑하는 내 아버지', '오래오래 날 지키며', '그냥 곁에만 있어 주세요', '활짝 웃는 모습이', '어린애 같아 보여도', '아프다 말도 못 하는 사람', '이제는 내가 지켜줄게', '어린아이로 돌아가 버린', '사랑하는 내 아버지', '사랑해요 내 아버지']\n"
          ]
        },
        {
          "output_type": "stream",
          "name": "stderr",
          "text": [
            "\r26it [09:55, 19.67s/it]"
          ]
        },
        {
          "output_type": "stream",
          "name": "stdout",
          "text": [
            "34\n",
            "['일부러 몇 발자국 물러나', '내가 없이 혼자 걷는 널 바라본다', '옆자리 허전한 너의 풍경', '흑백 거리 가운데 넌 뒤돌아본다', '그때 알게 되었어', '난 널 떠날 수 없단 걸', '우리 사이에 그 어떤 힘든 일도', '이별보단 버틸 수 있는 것들이었죠', '어떻게 이별까지 사랑하겠어', '널 사랑하는 거지', '사랑이라는 이유로', '서로를 포기하고', '찢어질 것같이 아파할 수 없어 난', '두세 번 더 길을 돌아갈까', '적막 짙은 도로 위에 걸음을 포갠다', '아무 말 없는 대화 나누며', '주마등이 길을 비춘 먼 곳을 본다', '그때 알게 되었어', '난 더 갈 수 없단 걸', '한 발 한 발 이별에 가까워질수록', '너와 맞잡은 손이 사라지는 것 같죠', '어떻게 이별까지 사랑하겠어', '널 사랑하는 거지', '사랑이라는 이유로', '서로를 포기하고', '찢어질 것같이 아파할 수 없어 난', '어떻게 내가 어떻게 너를', '이후에 우리 바다처럼 깊은 사랑이', '다 마를 때까지', '기다리는 게 이별일 텐데', '어떻게 내가 어떻게 너를', '이후에 우리 바다처럼 깊은 사랑이', '다 마를 때까지', '기다리는 게 이별일 텐데']\n"
          ]
        },
        {
          "output_type": "stream",
          "name": "stderr",
          "text": [
            "\r27it [10:15, 19.70s/it]"
          ]
        },
        {
          "output_type": "stream",
          "name": "stdout",
          "text": [
            "61\n",
            "['Trust the warmth inside', 'Can you feel my love alive', '어제처럼', '오늘도 아무 일 없는 듯이', '그리고', \"Please don't tell me why\", '이렇게 돌아서지만', '나를 떠나가는 이유를', '난 묻진 않을게요', '내게 이런 말 하기가', '쉽진 않았을 거야', '생각해 봤어', '얼마나 어려웠을지', '다만', '슬픈 내 눈물에', '돌아설 수 없어', '멈출 사랑으로', '안을까 봐', '난 너무나 두려울 뿐이죠', 'So baby', 'Trust the warmth inside', 'Can you feel my love alive', '어제처럼', '오늘도 아무 일 없는 듯이', '그리고', \"Please don't tell me why\", '이렇게 돌아서지만', '나를 떠나가는 이유를', '난 묻진 않을게요', '네겐 너무나 부족한', '나를 알고 있기에', '다짐해 왔어', '언젠가 이별이 오면', '그땐', '떠난 내 마음이', '미안하지 않게', '좋은 추억으로', '간직하게', '널 웃으며 보내준다고', 'Faith is all we need', 'It was love that set us free', '처음처럼', '이별은 아무런 얘기 없이', '하지만', 'Love forever lives', '다시는 볼 수 없어도', '나의 가슴속엔 언제나', '그대 영원하겠죠', '언젠가 내 모습 또다시', '처음처럼 그립다면', '그냥 돌아오면 돼', \"Don't you know I love you\", 'Faith is all we need', 'It was love that set us free', '처음처럼', '이별은 아무런 얘기 없이', '하지만', 'Love forever lives', '다시는 볼 수 없어도', '나의 가슴속엔 언제나', '그대 영원하겠죠']\n"
          ]
        },
        {
          "output_type": "stream",
          "name": "stderr",
          "text": [
            "\r28it [10:50, 24.45s/it]"
          ]
        },
        {
          "output_type": "stream",
          "name": "stdout",
          "text": [
            "45\n",
            "['어린 햇살 아래서', '뛰어놀곤 했었던', '가쁜 숨결', '굽이진 골목 지나', '길을 따라가보면', '같은 기억', '어른이란 시간은', '아직 어색하게도', '나를 채워', '많은 게 변했다 해', '여긴 그대로인걸', 'You’ll feel the same', '땀에 젖어 놀았던', '우리는 너와 난 이젠', '돌아갈 순 없지만', '낡아진 서랍 속에서', '작았던 서롤 기억해', 'When I’m far from home', 'Always 떠올라 난 아직도', '반짝이던 네 두 눈', '마주 보던 그림자', '마주 보던 우리는', '여기 still same', '시간은 언제나 날', '울리는 존재지만', '놓질 못해', '많은 게 더 지날 땐', '여긴 또 하나의', 'Our home', '그땐 우린 어딜까', '낡아진 서랍 속에서', '작았던 서롤 기억해', 'When I’m far from home', 'Always 떠올라 난 아직도', '반짝이던 네 두 눈', '혼자서 숨겼던', '널 향한 마음은', '알게 하진 않을 거야', '널 볼 수 있다면 그걸로 충분해', '담을게 두 눈에 언제든 항상', '낡아진 서랍 속에서', '작았던 서롤 기억해', 'When I’m far from home', 'Always 떠올라 난 아직도', '반짝이던 네 두 눈']\n"
          ]
        },
        {
          "output_type": "stream",
          "name": "stderr",
          "text": [
            "\r29it [11:16, 24.98s/it]"
          ]
        },
        {
          "output_type": "stream",
          "name": "stdout",
          "text": [
            "46\n",
            "['우연히 너를 만나서', '너의 옆자리에 앉아', '그렇게 우린 친해졌어', '짧은 시간에 그렇게', '가까워질 수 있다는 게', '그게 참 신기했어', '소소한 일상부터', '어린 시절 얘기까지도', '그리 똑같진 않아도', '말이 참 잘 통해서', '더 짧았던 거야', '너의 번호를 누르고', '설레임을 가득 채우다', '너의 번호를 지우며', '좋았던 시간을 덜어내', '그때 난 왜 몰랐을까', '이뤄질 수 없는', '짧은 시간 속의', '우린 여기까지인가 봐', '어쩌다 먼 훗날에', '그때 우리 약속 기억날까', '아쉬움만 가득했던', '그때 난 왜 그랬을까', '너의 번호를 누르고', '설레임을 가득 채우다', '너의 번호를 지우며', '좋았던 시간을 덜어내', '그때 난 왜 몰랐을까', '이뤄질 수 없는', '짧은 시간 속의', '우린 여기까지인가 봐', '아무 일 없이 살다 보면', '모두 잊혀질 거라', '또 맘을 속이고 달래도', '자꾸만 그때 네가 생각나', '또 너를 부르게 돼', '너의 번호를 누르고', '설레임을 가득 채우다', '너의 번호를 지우며', '좋았던 시간을 덜어내', '그때 난 왜 몰랐을까', '이뤄질 수 없는', '짧은 시간 속의', '스쳐 가버린', '그때 그 시절 속의', '우린 여기까지인가 봐']\n"
          ]
        },
        {
          "output_type": "stream",
          "name": "stderr",
          "text": [
            "\r30it [11:43, 25.49s/it]"
          ]
        },
        {
          "output_type": "stream",
          "name": "stdout",
          "text": [
            "23\n",
            "['꿈처럼 지나간 시간', '나는 무얼 찾고 싶었나', '지도도 없이 걸어온 삶을', '후회하진 않으리', '떠난 어제는 떠날 오늘로', '남겨지기도 하지', '나의 친구여 나의 형제여', '내 이름 불러주오', '미안하다 나의 인생아', '앞만 보며 살아왔구나', '찬란한 순간이여 영원하라', '내일은 처음 가는 길', '언제나처럼 또 두려워', '버들강아지 활짝 웃는 날', '후회하지 않으리', '비가 내리면 노래하리', '눈이 내려도 좋아', '나의 친구여 나의 형제여', '내 이름 불러 주오', '미안하다 나의 인생아', '앞만 보며 살아왔구나', '찬란한 순간이여 영원하라', '영원한 순간이여 찬란하라']\n"
          ]
        },
        {
          "output_type": "stream",
          "name": "stderr",
          "text": [
            "\r31it [11:56, 21.78s/it]"
          ]
        },
        {
          "output_type": "stream",
          "name": "stdout",
          "text": [
            "55\n",
            "['OhohOh', 'OhohOh', 'OhohOh', 'Yeah', 'You 내가 쓰러질 때', '절대 흔들림 없이 강한 눈빛으로', '몇 번이고 날 일으켜 줘', 'And You 나 힘에 겨울 때', '슬픔의 벼랑 끝까지 또 어김없이', '찾아와 두 손 잡은 그대에게', '난 해준 게 없는데 초라한 나지만', '오늘 그댈 위해 이 노래 불러요', 'Tonight 그대의 두 눈에 그 미소 뒤에', '날 위해 감춰왔던 아픔이 보여요', 'You and I together', 'it just feels alright', '이별이란 말은 never', '그 누가 뭐라 해도 난 그댈 지킬게', 'You and I together 내 두 손을 놓지 마', '안녕이란 말은 never', '내게 이 세상은 오직 너와 나기에', '그 많은 사람처럼', '우리 사랑 역시 조금씩 변하겠죠', '하지만 제발 슬퍼 말아요', '오랜 친한 친구처럼', '나만을 믿을 수 있게 기댈 수 있게', 'I promise you that', 'I’m be right here baby', '난 해준 게 없는데 초라한 나지만', '오늘 그댈 위해 이 노래 불러요', 'Tonight 그대의 두 눈에 그 미소 뒤에', '날 위해 감춰왔던 아픔이 보여요', 'You and I together', 'it just feels alright feels alright', '이별이란 말은 never', '그 누가 뭐라 해도 난 그댈 지킬게', 'You and I together', '내 두 손을 놓지 마 안녕이란 말은 never', '내게 이 세상은 오직 너와 나기에', '외로운 밤이 찾아올 땐', '나 살며시 눈을 감아요', '그대의 숨결이 날 안을 때', '무엇도 두렵지 않죠', '이 세상 그 어떤 누구도', '그대를 대신할 수 없죠', 'You‘re the only one in', 'I’ll be there for you baby', 'You and I together', 'it just feels alright feels alright', '이별이란 말은 never', '그 누가 뭐라 해도 난 그댈 지킬게', 'You and I together', '내 두 손을 놓지 마', '안녕이란 말은 never', '내게 이 세상은 오직 너와 나기에']\n"
          ]
        },
        {
          "output_type": "stream",
          "name": "stderr",
          "text": [
            "\r32it [12:29, 24.97s/it]"
          ]
        },
        {
          "output_type": "stream",
          "name": "stdout",
          "text": [
            "48\n",
            "['In this moment', 'I see you', 'It always comes around', 'As I believed', 'When the rain stops', 'You shine on me', 'Your light’s the only thing', 'that keeps the cold out', 'Moon in the summer night', 'Whispering of the stars', 'They’re singing like', 'Christmas trees for us', 'So I’ll tell you', 'A Million tiny things that', 'You have never known', 'It all gets tangled up inside', 'And I’ll tell you', 'A Million little reasons', 'I’m falling for your eyes', 'I just want to be where you are', 'It’s such a strange thing to do', 'Sometimes I don’t understand you', 'But It always brings me back', 'To where you are', '혹시 아니', '너에겐 나만 아는 모습이 있어', '한여름밤 오는 첫눈같이', '믿기지 않는 기적 같은 놀라운 순간 넌', '언젠가 또', '불어온 바람에', '마음이 날아다녀도', '기다릴게', 'So I’ll tell you', 'A Million tiny things that', 'You have never known', 'It all gets tangled up inside', 'And I’ll tell you', 'A Million little reasons', 'I’m falling for your eyes', 'I just want to be where you are', 'Tell you', 'A Million tiny things that', 'You have never known', 'It all gets tangled up inside', 'Tell you', 'A Million little reasons', 'I’m falling for your eyes', 'I just want to be where you are']\n"
          ]
        },
        {
          "output_type": "stream",
          "name": "stderr",
          "text": [
            "\r33it [12:57, 26.12s/it]"
          ]
        },
        {
          "output_type": "stream",
          "name": "stdout",
          "text": [
            "31\n",
            "[\"Don't walk away I'm falling down\", \"Don't walk away I'm falling down\", '깊어져만 가는', '밤하늘 별빛은 여전히', '그 자리 그대를 기다리죠', '한참을 말하지 않아도', '그대 두 눈 들여다보면', '나는 알아요 그대를 느끼죠', '햇살 안은 밤하늘 수평선 멀리', '그대의 별 되어 늘 그대를 지킬게요', '내 생에 가장 아름다운 시간들', '나 그댈 위해 간직해온', '짙은 숨결 그대에게', '닿기를 바래요', \"Don't walk away I'm falling down\", \"Don't walk away I'm falling down\", '점점 멀어지는', '한동안 그대 외로이', '힘없이 지나간 나날들', '나는 아파요 그대를 느끼죠', '햇살 안은 밤하늘 수평선 멀리', '그대의 별 되어 늘 그대를 지킬게요', '내 생에 가장 아름다운 시간들', '나 그댈 위해 간직해온', '짙은 숨결 전해지길', '바래요 오직 나 그대가', '내 맘 흐르는 하늘을 바라봐줘요', '한걸음 다가와 멀어지진 말아줘요', '하루하루 같은 이곳에 남겨져', '나 그대에게 머물게요', '내 생에 가장 아름다운 그대와 영원히']\n"
          ]
        },
        {
          "output_type": "stream",
          "name": "stderr",
          "text": [
            "\r34it [13:16, 23.76s/it]"
          ]
        },
        {
          "output_type": "stream",
          "name": "stdout",
          "text": [
            "35\n",
            "['어느 차가운 밤', '너를 첨 본 그날처럼', '가슴에 내려앉았지', '귓가에 울리던', '마지막 너의 인사에', '따뜻한 목소리 잔잔히 맴도네', '바람이 불던 날', '걸었던 그 거리에선', '따뜻한 기억이 남아', '너에게 부족한', '나란 걸 알고 있기에', '초라한 눈물에 너를 흘려 보내', '안녕 나의 사랑 그대여', '돌아온다던 그댈', '이렇게 기다리고 있어', '시간이 더 지난 뒤에도 기억한다면', '그대와 함께 행복하고 싶어', '그대와 함께 행복하고 싶어', '가로등 밑에서', '나눴던 우리 사랑은', '빛나는 기억이었지', '말없이 눈물이', '내 맘에 흘러내릴 때', '너와의 기억도 지워졌으면 해', '안녕 나의 사랑 그대여', '돌아온다던 그댈', '이렇게 기다리고 있어', '시간이 더 지난 뒤에도 기억한다면', '그대와 함께 행복하고 싶어', '시간이 지나서 언젠가 우리', '환하게 미소 지을 수 있을 그날들로', '오', '영원한 나의 사랑', '오', '언제까지나 너를 기다릴게']\n"
          ]
        },
        {
          "output_type": "stream",
          "name": "stderr",
          "text": [
            "\r35it [13:36, 22.67s/it]"
          ]
        },
        {
          "output_type": "stream",
          "name": "stdout",
          "text": [
            "34\n",
            "['때 이른 봄 몇 송이 꺾어다', '너의 방 문 앞에 두었어', '긴 잠 실컷 자고 나오면', '그때쯤엔 예쁘게 피어 있겠다', '별 띄운 여름 한 컵 따라다', '너의 머리맡에 두었어', '금세 다 녹아버릴 텐데', '너는 아직 혼자 쉬고 싶은가 봐', '너 없이 보는 첫 봄이 여름이', '괜히 왜 이렇게 예쁘니', '다 가기 전에 널 보여줘야 하는데', '음 꼭 봐야 하는데', '내게 기대어 조각잠을 자던', '그 모습 그대로 잠들었구나', '무슨 꿈을 꾸니', '깨어나면 이야기해 줄 거지', '언제나의 아침처럼 음', '빼곡한 가을 한 장 접어다', '너의 우체통에 넣었어', '가장 좋았던 문장 아래 밑줄 그어', '나 만나면 읽어줄래', '새하얀 겨울 한 숨 속에다', '나의 혼잣말을 담았어', '줄곧 잘 참아내다가도', '가끔은 철없이 보고 싶어', '새삼 차가운 연말의 공기가', '뼈 틈 사이사이 시려와', '움츠려 있을 너의 그 마른 어깨를 ', '꼭 안아줘야 하는데', '내게 기대어 조각잠을 자던', '그 모습 그대로 잠들었구나', '무슨 꿈을 꾸니', '깨어나면 이야기해 줄 거지', '언제나의 아침처럼 음']\n"
          ]
        },
        {
          "output_type": "stream",
          "name": "stderr",
          "text": [
            "\r36it [13:56, 21.85s/it]"
          ]
        },
        {
          "output_type": "stream",
          "name": "stdout",
          "text": [
            "34\n",
            "['아득한 시간 속에 아직', '우리 사랑이 남아있을까', '멀어지던 그날의 너를 따라 걸어도', '텅 빈 거리엔 미움만', '너의 흔적을 마주칠 때마다', '익숙함 속에 떠나보내던', '소중했던 모든 날들은', '후회로 남아', '이렇게 또 내게 다가오나 봐', '멍하니 혼자 남아', '나도 모르게 널 그리워하다', '떠오르는 네 생각에 하루를 살아', '선명했던 우리의', '추억은 만남보다 이별에 남아', '여전히 너를 사랑하게 하나 봐', '그날처럼', '저녁 빛에 밤이 물들면', '길게 늘어진 그림자처럼', '흩어질 듯 더 커져가는 너의 모습은', '아직도 내 안에 가득한가 봐', '멍하니 혼자 남아', '나도 모르게 널 그리워하다', '떠오르는 네 생각에 하루를 살아', '선명했던 우리의', '추억은 만남보다 이별에 남아', '여전히 너를', '사랑하고 있나 봐 바보처럼', '흩날리는 기억의 모든 순간마다 너를', '매일 이렇게 불러본다', '꼭 한 번쯤 너에게 해주고 싶었던 말', '너무 사랑했다고', '다시는 너를 떠나지 않겠다고', '여전히 너를 사랑하고 있다고', '그날 보다']\n"
          ]
        },
        {
          "output_type": "stream",
          "name": "stderr",
          "text": [
            "\r37it [14:16, 21.29s/it]"
          ]
        },
        {
          "output_type": "stream",
          "name": "stdout",
          "text": [
            "42\n",
            "['언제부턴가 불쑥', '내 습관이 돼버린 너', '혹시나 이런 맘이', '어쩌면 부담일까', '널 주저했어', '언제부턴가 점점', '내 하루에 스며든 너', '아침을 깨우는 네 생각에', '어느샌가 거리엔', '어둠이 젖어 들고', '취기를 빌려', '오늘 너에게 고백할 거야', '하루하루 네가 좋다고', '괜히 어색할까', '혼자 애만 태우다', '끝끝내 망설여왔던 순간', '알잖아 나 무뚝뚝하고', '말도 없는 걸', '서툰 표현이 쑥스러워서 괜히', '쓰다 지울 문자만 바라보다', '멋쩍은 쓴웃음만', '언제부턴가 가끔', '너와 마주칠 때마다', '한참을 머뭇거린', '어설픈 손 인사만', '오늘 밤도 후회로 잦아들고', '취기를 빌려', '오늘 너에게 고백할 거야', '하루하루 보고 싶다고', '괜히 어색할까 혼자 애만 태우다', '수없이 연습해왔던 그 말', '알잖아 나 무뚝뚝하고', '말도 없는 걸', '서툰 표현이 쑥스러워서 괜히', '쓰다 지울 문자만 바라보다', '멋쩍은 쓴웃음만', '첫눈을 빌려', '오늘은 꼭 고백할 거야', '작은 너를 품에 안고서', '눈을 마주하고', '너무 사랑한다고', '함께 하고 싶다고']\n"
          ]
        },
        {
          "output_type": "stream",
          "name": "stderr",
          "text": [
            "\r38it [14:40, 22.23s/it]"
          ]
        },
        {
          "output_type": "stream",
          "name": "stdout",
          "text": [
            "50\n",
            "['Ah ah ah ah ah ah', 'Ah ah ah ah ah ah', '키만 훌쩍 커버린', '어른아이 같아', '진심이 없는 네 말에', '감당하지 못 할', '감정을 택했잖아', '그래 Too late', '상처를 되돌리기엔', '늦어버렸어', '미쳤다 해도 뭐 어때', 'Ah ah ah ah', 'Cause I can’t control myself', 'Ah ah ah ah', '네 앞에선 모든 게', '잘 통제가 안 돼', '다 터질 것만 같아', 'Cause I can’t control myself', '반복되는 Bad days', '비참해 바닥난 감정', '헛돌기만 해 헐거운 반지처럼', '상관없어 사랑이 다 이럴 텐데', '미쳤다 해도 뭐 어때', 'Ah ah ah ah', 'Cause I can’t control myself', 'Ah ah ah ah', '네 앞에선 모든 게', '잘 통제가 안 돼', '다 터질 것만 같아', 'Cause I can’t control myself', 'Ah ha ha ha', 'Feels like heaven feels like hell', 'Ah ha ha ha', '그마저도 I don’t care', 'Ah 난 또다시 네게', '되돌아갈 텐데', '미쳤다 해도 뭐 어때', 'Ah ah ah ah', 'Cause I can’t control myself', 'Ah ah ah ah', '네 앞에선 모든 게', '잘 통제가 안 돼', '다 터질 것만 같아', 'Cause I can’t control myself', 'Ah ah ah ah', 'Ah ah ah ah', '네 앞에선 모든 게', '잘 통제가 안 돼', '다 터질 것만 같아', 'Cause I can’t control myself']\n"
          ]
        },
        {
          "output_type": "stream",
          "name": "stderr",
          "text": [
            "\r39it [15:09, 24.30s/it]"
          ]
        },
        {
          "output_type": "stream",
          "name": "stdout",
          "text": [
            "36\n",
            "['참 웃기지 한순간에 남이 되는 게', '꿈처럼 아무 일도 없었던 것 같아', '우리가 가까웠던 만큼', '다시 멀어져야 한다는 게', '너무 이상해 믿을 수가 없나 봐', '안녕이란 말이 참 우습지', '우릴 시작하게 한 인사가', '이젠 우리의 끝을 알려주는', '말이 되었어', '담담히 헤어지는 법', '그런 건 잘 모르겠는데', '내일부터 노력해볼게', '그러니까 오늘까지만 나를 잊지 마', '도망치듯 돌아서던 너의 모습에', '한동안 아무 말 없이 서있었어 난', '벌써 넌 생각보다 훨씬', '내게 멀어지고 있었나 봐', '이미 늦은 걸 나만 몰랐나 봐', '안녕이란 말이 참 우습지', '우릴 시작하게 한 인사가', '이젠 우리의 끝을 알려주는', '말이 되었어', '담담히 헤어지는 법', '그런 건 잘 모르겠는데', '내일부터 노력해볼게', '그러니까 오늘까지만 나를 잊지 마', '수많은 내 기억들이', '조금은 날 힘들게 만들어도', '널 지워볼게 널 잊어내볼게', '안녕이란 말이 참 우습지', '그 한마디로 정말 끝인 거니', '못해준 기억 밖엔 없는데', '담담히 헤어지는 거', '어차피 난 못할 것 같아', '내일부터 노력해볼게', '그러니까 오늘까지만 나를 잊지 마']\n"
          ]
        },
        {
          "output_type": "stream",
          "name": "stderr",
          "text": [
            "\r40it [15:30, 23.19s/it]"
          ]
        },
        {
          "output_type": "stream",
          "name": "stdout",
          "text": [
            "57\n",
            "['길었던 겨우내 줄곧 품이 좀 남는', '밤색 코트', '그 속에 나를 쏙 감추고 걸음을', '재촉해 걸었어', '그런데 사람들 말이 너만 아직도', '왜 그러니', '그제서야 둘러보니 어느새 봄이', '손 잡고 걸을 사람 하나 없는 내게', '달콤한 봄바람이 너무해', '나만 빼고 다 사랑에 빠져', '봄노래를 부르고', '꽃잎이 피어나 눈 앞에 살랑거려도', '난 다른 얘기가 듣고 싶어', '한바탕 휩쓸고 지나가버릴', '오오 봄 사랑 벚꽃 말고', '봄 사랑 벚꽃 말고', '봄 사랑 벚꽃 말고', '봄 사랑 벚꽃 말고', '손에 닿지도 않을 말로', '날 꿈틀거리게 하지 말어', '맘 먹고 밖에 나가도', '막상 뭐 별 거 있나', '손 잡고 걸을 사람 하나 없는 내게', '오 사랑노래들이 너무해', '나만 빼고 다 사랑에 빠져', '봄노래를 부르고', '꽃잎이 피어나 눈 앞에 살랑거려도', '난 다른 얘기가 듣고 싶어', '한바탕 휩쓸고 지나가버릴', '오오 봄 사랑 벚꽃 말고', '남들보다 절실한 사랑 노래 가사를', '불러 봐', '수많은 연인들 가운데 왜 나는', '혼자만', '똑같은 거리와 어제와 같은 옷차림', '난 제자린데 왜 세상은 변한 것만', '같지', '누군가와 봄길을 거닐고 할 필욘', '없지만', '누구나 한번쯤은 머물고 싶은 그런', '기억을', '만들고 싶어 떨어지는 벚꽃잎도', '엔딩이 아닌 봄의 시작이듯', '사실은 요즘 옛날 생각이 나', '걷기만 해도 그리워지니까', '다시 느낄 수 있나 궁금해지지만', 'Then you know what', '나만 빼고 다 사랑에 빠져', '봄노래를 부르고', '꽃잎이 피어나 눈 앞에 살랑거려도', '난 다른 얘기가 듣고 싶어', '한바탕 휩쓸고 지나가버릴', '오오 봄 사랑 벚꽃 말고', '봄 사랑 벚꽃 말고', '봄 사랑 벚꽃 말고', '봄 사랑 벚꽃 말고', '봄 사랑 벚꽃 말고']\n"
          ]
        },
        {
          "output_type": "stream",
          "name": "stderr",
          "text": [
            "\r41it [16:03, 26.23s/it]"
          ]
        },
        {
          "output_type": "stream",
          "name": "stdout",
          "text": [
            "31\n",
            "['빛이 들어오면 자연스레 뜨던 눈', '그렇게 너의 눈빛을 보곤', '사랑에 눈을 떴어', '항상 알고 있던 것들도 어딘가', '새롭게 바뀐 것 같아', '남의 얘기 같던 설레는 일들이', '내게 일어나고 있어', '나에게만 준비된 선물 같아', '자그마한 모든 게 커져만 가', '항상 평범했던 일상도', '특별해지는 이 순간', '별생각 없이 지나치던 것들이', '이제는 마냥 내겐 예뻐 보이고', '내 맘을 설레게 해', '항상 어두웠던 것들도 어딘가', '빛나고 있는 것 같아', '남의 얘기 같던 설레는 일들이', '내게 일어나고 있어', '나에게만 준비된 선물 같아', '자그마한 모든 게 커져만 가', '항상 평범했던 일상도', '특별해지는 이 순간', '너를 알게 된 뒤 보이는', '모든 것들이 너무 예뻐 보여', '그렇게 신난 아이처럼', '순수한 사람이 된 것 같아', '나에게만 준비된 선물 같아', '자그마한 모든 게 커져만 가', '항상 평범했던 일상도', '특별해지는 이 순간', '깊은 사랑에 빠진 순간']\n"
          ]
        },
        {
          "output_type": "stream",
          "name": "stderr",
          "text": [
            "\r42it [16:21, 23.66s/it]"
          ]
        },
        {
          "output_type": "stream",
          "name": "stdout",
          "text": [
            "46\n",
            "['우연히 너를 만나서', '너의 옆자리에 앉아', '그렇게 우린 친해졌어', '짧은 시간에 그렇게', '가까워질 수 있다는게', '그게 참 신기했어', '소소한 일상부터', '어린 시절 얘기 까지도', '그리 똑같진 않아도', '말이 참 잘 통해서', '더 짧았던 거야', '너의 번호를 누르고', '설레임을 가득 채우다', '너의 번호를 지우며', '좋았던 시간을 덜어내', '그때 난 왜 몰랐을까', '이뤄질 수 없는', '짧은 시간속의', '우린 여기 까지인 가봐', '어쩌다 먼 훗날에', '그때 우리 약속 기억 날까', '아쉬움만 가득했던', '그때 난 왜 그랬을까', '너의 번호를 누르고', '설레임을 가득 채우다', '너의 번호를 지우며', '좋았던 시간을 덜어내', '그때 난 왜 몰랐을까', '이뤄질 수 없는', '짧은 시간속의', '우린 여기까지인 가봐', '아무일 없이 살다보면', '모두 잊혀질거라', '또 맘을 속이고 달래도', '자꾸만 그 때 니가 생각나', '또 너를 부르게 돼', '너의 번호를 누르고', '설레임을 가득 채우다', '너의 번호를 지우며', '좋았던 시간을 덜어내', '그때 난 왜 몰랐을까', '이뤄질 수 없는', '짧은 시간속의', '스쳐가버린', '그 때 그 시절 속의', '우린 여기까지인 가봐']\n"
          ]
        },
        {
          "output_type": "stream",
          "name": "stderr",
          "text": [
            "\r43it [16:48, 24.64s/it]"
          ]
        },
        {
          "output_type": "stream",
          "name": "stdout",
          "text": [
            "40\n",
            "['Maybe If I', 'Woke up in the morning', 'Hearing your voice', 'Maybe If I was with you', '어쩌면 우리 어려웠던 날들', '함께 보냈었다면', '혹시 우린 어땠을까', 'The distance between you and me', 'It never seems to disappear', '얼어붙은 나의 말들과 너', '만약에 우리 우연히', '다시 또 만난다면', '만약에 내가 널 위해', '조금 달라진다면', '우리가 헤어져야만 했던 이유도', 'I would try try try', '안아줄 수 있을까', '조금은 다른', '기억의 조각들', '하지만 꼭 닮은', '그리움의 마음들은', 'Only if you', 'If you come', 'The distance between you and me', 'It never seems to disappear', '멈춰버린 우리 추억과 너', '만약에 우리 우연히', '다시 또 만난다면', '만약에 내가 널 위해', '조금 달라진다면', '우리가 헤어져야만 했던 이유도', 'I would try try try', '안아줄 수 있을까', '눈을 뜨면 혹시 니가 서 있을까', '어느 날 상상도 했어', '한 번도 내게 해주지 않았던 말', '그저 너니까 좋은 거라고 oh', 'Tell me whenever', 'I’ll be wherever you are', 'Only if you come']\n"
          ]
        },
        {
          "output_type": "stream",
          "name": "stderr",
          "text": [
            "\r44it [17:11, 24.32s/it]"
          ]
        },
        {
          "output_type": "stream",
          "name": "stdout",
          "text": [
            "40\n",
            "['왜 내게 잘해줬나요', '가볍게 내 맘 모른척할 거면서', '사랑에 빠지게 만들고', '사랑까지는 왜 아니라고 해', '내 맘이 내 맘이 아닌 건', '그대 때문이에요', '함부로 다정했던 그대를', '미워하려고 해도', '그대보다', '더 좋은 사람은 많아도', '더 좋은 사랑은 없단 걸', '왜 그걸 알게 해서', '잘 지내다 체한 듯', '가슴이 또 아파오잖아', '이별마저 다정하면 어떡해', '정신없이 바쁜가 봐', '잠깐 핸드폰 확인도 못할 만큼', '힘들 땐 기대라 말하고', '힘든 순간엔 항상 내 곁에 없죠', '내 맘이 내 맘이 아닌 건', '그대 때문이에요', '함부로 다정했던 그대를', '미워하려고 해도', '그대보다', '더 좋은 사람은 많아도', '더 좋은 사랑은 없단 걸', '왜 그걸 알게 해서', '잘 지내다 체한 듯', '가슴이 또 아파오잖아', '이별마저 다정하면 어떡해', '아무리 생각해 봐도', '좋은 기억밖에 없어', '날 아프게 한 게', '이별뿐이라서', '그대 없이 하루를 이렇게 살아요', '바쁜 와중에도', '빼곡히 나 그대 생각이나', '다시 나랑 사귈거 아니면 잘해주지마', '다른 사랑 하지 못하잖아', '이별마저 다정하면 어떡해']\n"
          ]
        },
        {
          "output_type": "stream",
          "name": "stderr",
          "text": [
            "\r45it [17:35, 23.98s/it]"
          ]
        },
        {
          "output_type": "stream",
          "name": "stdout",
          "text": [
            "27\n",
            "['푸른 바다 저 너머에', '내가 찾고 싶은 게 있을까', '우린 항상 왜', '서로를 놓치고 나서야 후회할까', '저무는 저 태양 속에', '내가 갖고 싶은 게 있을까', '나는 항상 왜', '이미 행복할 너를 그리워할까', '사라지지 마 이렇게', '어린 나를 기억할게', '긴 시간이 흘러도', '우리의 세상 안에 머물게', '흩어지는 구름 속에', '내가 잊고 있던 게 있을까', '너는 항상 왜', '조각으로 남아 떠나지 못할까', '우리 거리는 멀어져', '다시 좁히려고 해도', '난 여전히 제자리', '다가설 수가 없어 너에게', '이미 내가 잃어버린 시간을', '붙잡고 놓지 못해', '언젠가 나를 찾는 날 웃어야 할 텐데', '다시 만날 수 있기를', '너를 위해 기다릴게', '긴 시간이 흘러도', '우리의 세상 안에 머물게']\n"
          ]
        },
        {
          "output_type": "stream",
          "name": "stderr",
          "text": [
            "\r46it [17:51, 21.57s/it]"
          ]
        },
        {
          "output_type": "stream",
          "name": "stdout",
          "text": [
            "35\n",
            "['그렇게 대단한 운명까진', '바란적 없다 생각했는데', '그대 하나 떠나간 내 하룬 이제', '운명이 아님 채울 수 없소', '별처럼 수 많은 사람들', '그 중에 그대를 만나', '꿈을 꾸듯 서롤 알아보고', '주는 것 만으로 벅찼던', '내가 또 사랑을 받고', '그 모든 건 기적이었음을', '그렇게 어른이 되었다고', '자신한 내가 어제같은데', '그대라는 인연을 놓지 못하는', '내 모습 어린아이가 됐소', '별처럼 수 많은 사람들', '그 중에 그대를 만나', '꿈을 꾸듯 서롤 알아보고', '주는 것 만으로 벅찼던', '내가 또 사랑을 받고', '그 모든건 기적이었음을', '나를 꽃처럼 불러주던', '그대 입술에 핀 내 이름', '이제 수많은 이름들', '그 중에 하나되고', '오 그대의 이유였던', '나의 모든 것도 그저 그렇게', '별처럼 수 많은 사람들', '그 중에 서로를 만나', '사랑하고 다시 멀어지고', '억겁의 시간이 지나도', '어쩌면 또다시 만나', '우리 사랑 운명이었다면', '내가 너의', '별처럼 수 많은 사람 중에', '내가 너의 기적이었다면']\n"
          ]
        },
        {
          "output_type": "stream",
          "name": "stderr",
          "text": [
            "\r47it [18:11, 21.35s/it]"
          ]
        },
        {
          "output_type": "stream",
          "name": "stdout",
          "text": [
            "41\n",
            "['높은 언덕 나무처럼', '너의 기억은 내게', '쉬었다가는 편한 그늘이었어', '어느덧 내가', '어른이 다 되어버린 지금', '아직도 내 안에 다 자라지 못한', '머물러 남아있는 기억', 'You 언제나 늘 같은', '나의 가장 자릴', '떠난 적 없는', '너에 대한 기억', '어느 언덕 나무처럼', '너의 기억은 내게', '쉬었다가는 그늘이었고', '마주 닿으면', '쓰라리는 상처 같은 이름', '떼어낼 수도 없는', '떨어지지 않는 딱지 같아', '누군가 나에게 물어보면 항상', '같은 대답 내 가장 좋았던 날', '늘 한 켠이 아렸던', '마치 어딘가에 두고 온듯한', '잊을 수 없는 기억', '어느 언덕 나무처럼', '너의 기억은 내게', '쉬었다가는 그늘이었고', '마주 닿으면', '쓰라리는 상처 같은 이름', '떼어낼 수도 없는', '미워할 수 없는', '너의 이름이 내게 들리면', '또다시 내 하룬 너에게', '치여 살 것 같아서', '두려워', '높은 언덕 홀로 있는', '구름나무 같은', '네게 기대고 싶어', '마주 닿으면', '쓰라리는 상처 같은 이름', '떼어 낼 수도 없는', '떨어지지 않는 딱지 같아']\n"
          ]
        },
        {
          "output_type": "stream",
          "name": "stderr",
          "text": [
            "\r48it [18:35, 22.09s/it]"
          ]
        },
        {
          "output_type": "stream",
          "name": "stdout",
          "text": [
            "39\n",
            "['비 내리는 거릴 좋아했었죠', '우산 없이 나와 함께 걸었죠', '다시 내리는 비에 그대 생각나', '눈물 날 것 같은데', '둘이 걷다 보면 나를 위해서', '습관처럼 왼쪽편에 세웠죠', '내 여자라서 내가 지켜야 한다고', '버릇처럼 말했죠', '좋은 사람 꼭 만날 거라 했는데', '그 약속 지키지 못할 것 같아', '내겐 그대가 하나뿐이라', '다른 사랑 못 할 것 같아요', '이제는 나를 찾아오지 말라고', '가슴에 멍드는 말을 하고서', '지나가는 발소리', '그대이기를 원하고 또 원하죠', '가끔 그대 어깨 기대 잠들면', '아무 말도 없이 안아주었죠', '고마웠다고 이젠 말할 수 있는데', '그댄 어디 있나요', '좋은 사람 꼭 만날 거라 했는데', '그 약속 지키지 못할 것 같아', '내겐 그대가 하나뿐이라', '다른 사랑 못 할 것 같아요', '이제는 나를 찾아오지 말라고', '가슴에 멍드는 말을 하고서', '지나가는 발소리', '그대이기를 원하고 또 원하죠', '보고파 소리쳐봐도 그리워 불러도', '닿을 수가 없는 그댄가 봐', '이젠 나를 잊었나 봐', '그대가 못난 바보라고 할까 봐', '내 사랑 너무나 아낀 것 같아', '괜한 자존심 하나 때문에', '사랑한다는 말도 못 했어요', '못 잊어 그립다는 말도 못 하고', '그대가 나를 또 찾지 않을까', '지나가는 발소리', '그대이기를 원하고 또 원하죠']\n"
          ]
        },
        {
          "output_type": "stream",
          "name": "stderr",
          "text": [
            "\r49it [18:58, 22.38s/it]"
          ]
        },
        {
          "output_type": "stream",
          "name": "stdout",
          "text": [
            "31\n",
            "['늘 똑같은 일로 싸우다 지친 우리', '끝날 때 됐나 봐', '너답지 않던 모습 더는', '지켜보기 힘들었어', '다시 주워 담기 힘든 말들', '쏟아내고 집에 돌아왔어', '그날에 나는 맘이 편했을까', '다신 안 보겠단 각오로', '니가 못한 숙제 한 거잖아', '나는 사랑이 필요해', '이만큼 아프면 충분해', '니가 핀 담배만큼 난 울었어', '니가 가장 듣기 싫어했던', '얘기들만 뱉어내고 왔어', '그날에 나는 맘이 편했을까', '다신 안 보겠단 각오로', '니가 못한 숙제 한 거잖아', '나는 사랑이 필요해', '이만큼 아프면 충분해', '니가 핀 담배만큼 난 울었어', '상처받았다고 말하지 말아줘', '나를 더욱더 사랑해줬더라면', '아니 처음부터 만나지 말았다면', '행복했을까', '정말 널 미워해서 이랬을까', '이렇게까지 해서라도', '우릴 되돌리고 싶었는데', '나를 떠나는 이유가', '너는 필요했던 거니까', '내가 그 이유를 만들어줄게 ', '미안한 마음들 갖지 않도록']\n"
          ]
        },
        {
          "output_type": "stream",
          "name": "stderr",
          "text": [
            "\r50it [19:17, 21.16s/it]"
          ]
        },
        {
          "output_type": "stream",
          "name": "stdout",
          "text": [
            "24\n",
            "['눈빛만으로 알 수가 있지', '어떤 세상을 살아왔는지', '처음 내민 너의 따뜻한 손길에', '내 마음이 전부 녹아내', '우린 서로 앞을 주저하고', '현실 속에 무너져 가던', '이런 나를 잊어가게 해', \"I'm telling the truth\", '너에게 가는 중', '이젠 나를 봐줘', '내가 다가갈게 천천히', '아주 천천히', '손짓만으로 알 수가 있지', '너가 얼마나 착한 애인지', '우리가 지나왔던 시간들이', '이제야 날 버티게 해', '우린 서로 앞을 주저하고', '현실 속에 무너져 가던', '이런 나를 잊어가게 해', \"I'm telling the truth\", '너에게 가는 중', '이젠 나를 봐줘', '내가 다가갈게 천천히', '아주 천천히']\n"
          ]
        },
        {
          "output_type": "stream",
          "name": "stderr",
          "text": [
            "\r51it [19:31, 19.05s/it]"
          ]
        },
        {
          "output_type": "stream",
          "name": "stdout",
          "text": [
            "33\n",
            "['한 사람을 너무 사랑했던 거죠', '얼마나 나를', '아프게 할지도 모르고', '기뻐했죠', '이 세상에 그댈 가진 사람', '나 하나 뿐이라며', '흰 눈이 내리던 어느 날', '그 고운 입술로 날 사랑한다고', '안녕이란 말을 하고', '그대가 내 곁을 떠나갔죠', '몰랐었죠 우리 헤어진다는건', '정말 그대가', '내 사랑인줄 알았는데', '좋아했죠', '그대 나와 같은 생각하고', '있을거라 믿었죠', '흰 눈이 내리던 어느 날', '그 고운 입술로 날 사랑한다고', '안녕이란 말을 하고', '그대가 내 곁을 떠나갔죠', '하얀 눈위에 멀어져 가는', '그대가 남겨둔 발자국 세며', '멍하니 바보처럼', '떠나가는 뒷모습 보면서 울었죠', '흰 눈이 내리던 어느 날', '그 고운 입술로 날 사랑한다고', '안녕이란 말을 하고', '그대가 내 곁을 떠나갔죠', '흰 눈이 내리던 어느 날', '그 고운 입술로 날 사랑한다고', '안녕이란 말을 하고', '그대가 내 곁을 떠나갔죠', '내 곁을 떠나갔죠']\n"
          ]
        },
        {
          "output_type": "stream",
          "name": "stderr",
          "text": [
            "\r52it [19:50, 19.13s/it]"
          ]
        },
        {
          "output_type": "stream",
          "name": "stdout",
          "text": [
            "23\n",
            "['어느 하루의 햇살처럼', '따뜻한 봄이 내게 오듯', '그대 나에게 온 그날이 생각나', '그때가 문득 생각나', '슬퍼서 아파서 미워서 그리워서', '그 언젠가 꿈속에 그대 찾아와 줄 건가요', '여전히 그대를 기다리는 슬픈 나를', '기억해 줘요', '계절을 따라 지나가듯', '오늘도 나는 이곳에서', '오늘 하루도 그댈 생각하면서', '글썽이는 날 알까요', '슬퍼서 아파서 미워서 그리워서', '그 언젠가 꿈속에 그대 찾아와 줄 건가요', '여전히 그대를 기다리는 슬픈 나를', '기억해 줘', '추억이 참 많아서', '더욱 그리운 걸까', '그대 이름을 혼자 되뇌어본다', '바람이 불어와 눈물을 마르게 해', '내 마음이 닿을 때까지 멈추지 않겠지만', '언젠가 우리가 다시 만날 그날 위해', '기다릴게요']\n"
          ]
        },
        {
          "output_type": "stream",
          "name": "stderr",
          "text": [
            "\r53it [20:03, 17.37s/it]"
          ]
        },
        {
          "output_type": "stream",
          "name": "stdout",
          "text": [
            "40\n",
            "['너를 위해 해줬었던 말들은', '부담을 줬고', '네가 내게 해줬던 위로에', '나 상처 입었죠', '사랑이란 모든 것', '주는 거라 너는 말했고', '난 서로의 삶을 지키자 했었죠', '이번 문제만 넘어가면', '전보다 더 나아질 거라', '생각했는데 같은 곳을 맴돌고 있었죠', '이제는 안될 것 같아', '더 이상 힘들 것 같아', '날 지워가며 사랑하는 게', '좀 더 내게 맞는 사람 찾아', '만나는 날 사랑해보려 노력할 것 같아', '익숙해져만 가는', '서로의 불편함 속에서', '이별의 시간은 다가오고 있었죠', '사랑하니까 괜찮다고', '이 정도면 충분하다고', '우린 이겨낼 수 있다고', '믿고 있었던 건', '내 욕심이었죠', '이제는 안될 것 같아', '더 이상 힘들 것 같아', '날 지워가며 사랑하는 게', '좀 더 내게 맞는 사람 찾아', '만나는 날 사랑해보려 노력할 것 같아', '내가 원하는 사람과', '사랑에 빠지게 되는 날', '그 날을 기다렸는데', '이젠 내게 맞는 사람과', '사랑하려 노력하는 게', '조금 더 편할 것 같아', '그게 덜 아플 것 같아', '날 지켜가며 사랑하는 게', '좀 더 편하게 지낼 수 있는', '그런 사랑하게 되는 게', '뜨겁게 사랑했던 날보다', '이젠 내게 더 편할 것 같아']\n"
          ]
        },
        {
          "output_type": "stream",
          "name": "stderr",
          "text": [
            "\r54it [20:27, 19.19s/it]"
          ]
        },
        {
          "output_type": "stream",
          "name": "stdout",
          "text": [
            "53\n",
            "['겨울에 하는 이별은', '기억이 눈처럼 녹을까', '가을에 하는 이별은', '추억에 물들어버릴까', '여름에 보내주기엔 눈물이', '비처럼 쏟아질까 봐', '많이 사랑했지만 많이 그립겠지만', '너무 아프고 아프고 아픈 이 계절에', '벚꽃이 피면 우리 그만 헤어져', '벚꽃이 피면 우리 그만 헤어져', '흩날리는 추억이', '아름다워도 아른거려도', '가슴 아파도 이제', '벚꽃이 지면 그때 나를 잊어줘', '저 떨어지는 꽃잎처럼 잊어줘', '봄바람에 바람에 바람에', '너를 보낼게 너를', '눈부시게 아름다워도 아른거려도', '가슴 아파도 이제', '벚꽃이 피면 헤어져', '계절은 돌아오지만', '우리는 멀어지겠지', '꽃은 다시 피겠지만', '추억은 시들어가겠지', '하얗게 물든 거리에', '너와 난 더는 어울리지 않아', '믿기 힘들겠지만 이해 못하겠지만', '너무 아프고 아프고 아픈 이 계절에', '벚꽃이 피면 우리 그만 헤어져', '벚꽃이 피면 우리 그만 헤어져', '흩날리는 추억이', '아름다워도 아른거려도', '가슴 아파도 이제', '벚꽃이 지면 그때 나를 잊어줘', '저 떨어지는 꽃잎처럼 잊어줘', '봄바람에 바람에 바람에', '너를 보낼게 너를', '눈부시게 아름다워도 아른거려도', '가슴 아파도 이제', '벚꽃이 피면 헤어져', '너를 안아봐도 따뜻하지 않아', '너를 예전만큼 사랑하지 않아', '날 미워해도 괜찮아', '난 봄이 오면 네가 생각나겠지', '벚꽃이 피면 다시 생각나겠지', '너와 나의 계절이', '그리워져도 외로워져도', '보고 싶어도 이제', '짧게 피고 지는 이 봄처럼 사라질 그 말', '사랑해 사랑해 사랑해 너를 미안해 너무', '눈부시게 아름다워도 아른거려도', '가슴 아파도 이제', '벚꽃이 피면 헤어져']\n"
          ]
        },
        {
          "output_type": "stream",
          "name": "stderr",
          "text": [
            "\r55it [20:58, 22.72s/it]"
          ]
        },
        {
          "output_type": "stream",
          "name": "stdout",
          "text": [
            "48\n",
            "['유난히도 참 맑았어', '마치 준비된 것처럼', '설명할 수 없는 감정', '그날부터', 'woo someday', '그대 옆에 서 있는 그런', '사람이 되고 싶었어요', 'you are my everything', 'my everything', '별처럼 빛나요', '어쩌면 기다려 왔던', '사랑인 걸까 기도했죠', 'my everything', 'my everything', '시간이 지나도', '우리가 걸어갈 이 길 끝에', '나무가 되어줄게', '그대의 쉴 곳이 되어', '지켜줄게 아껴줄게', '환하게 웃어보아요', '지금부터', 'woo all day', '나는 그대가 되죠 이젠', '운명이라는 이름으로', 'you are my everything', 'my everything', '별처럼 빛나요', '어쩌면 기다려 왔던', '사랑인 걸까 기도했죠', 'my everything', 'my everything', '시간이 지나도', '우리가 걸어갈 이 길 끝에', '나무가 되어줄게', '노을이 내리는 밤에', '영원할 우릴 약속해', '나의 마음을 모두', '전해주고 싶어', '그대가 있기에', '내 하루가', '별처럼 빛나요', '나에게 남은 평생을', '허락해 줘서 고마워요', '그대보다', '내 사랑을', '더 많이 줄게요', '우리가 걸어갈 이 길 끝에', '나무가 되어줄게']\n"
          ]
        },
        {
          "output_type": "stream",
          "name": "stderr",
          "text": [
            "\r56it [21:26, 24.34s/it]"
          ]
        },
        {
          "output_type": "stream",
          "name": "stdout",
          "text": [
            "37\n",
            "['하루 종일 집에 누워서', '전화기만 보고 있잖아', '내 머릿속은', '네 생각들로만 짜여져 있어 ', '날 찾지 않아도 좋아하지 않아도', '이제는 느낄 수 있어 ', '바라보지 않아도', '다른 사람에게 마음을 줘도 ', '이제는 견딜 수 있어 ', '어두운 방안에서 혼자 있는 나', '그리고 하', '네가 불러주지 않아도', '난 괜찮아 난 괜찮아 ', '이 방안에서 너와 함께한 추억들', '자꾸만 생각이 나서 ', '마음이 힘들어 다 알고 있어', '끝이라는걸 ', '날 찾지 않아도 좋아하지 않아도', '이제는 느낄 수 있어 ', '바라보지 않아도', '다른 사람에게 마음을 줘도 ', '이제는 견딜 수 있어 ', '어두운 방안에서 혼자 있는 나', '그리고 하', '네가 불러주지 않아도', '난 괜찮아 난 괜찮아 ', '언젠가는 다시 돌아와주길 와주길', '언젠가는 꼭 다시', '볼 수 있기를 볼 수 있기를 ', '어두운 방안에서 혼자 있는 나', '그리고 하', '네가 불러주지 않아도', '난 괜찮아 난 괜찮아', '어두운 방안에서 혼자 있는 나', '그리고 하', '네가 불러주지 않아도', '난 괜찮아 난 괜찮아']\n"
          ]
        },
        {
          "output_type": "stream",
          "name": "stderr",
          "text": [
            "\r57it [21:47, 23.55s/it]"
          ]
        },
        {
          "output_type": "stream",
          "name": "stdout",
          "text": [
            "37\n",
            "['영원할 것 같던 우리', '서로 당연했던 우리', '그래서 지금을 믿을 수 없나봐', '언제 어디서부턴지', '그때로 돌릴 수 있다면', '왜 이렇게 된 건지', '왜 이제와서야', '난 이별을 탓하고 있는지', '지나간 시간에 갇혀', '너를 기다리니', '너 떠나고서야', '떠나고야 또 바보 같은 난', '널 그리워하는지', '아무런 이유도 없이', '서로 멀어졌던 우리', '익숙한 시간이 지겨웠었나 봐', '이미 알았던 이별이', '이렇게 아플지 몰랐어', '대체 왜 이렇게 된 거니', '왜 이제와서야', '난 이별을 탓하고 있는지', '지나간 시간에 갇혀', '너를 기다리니', '너 떠나고서야', '떠나고야 또 바보 같은 난', '널 그리워하는지', '서툴렀었던 그날의 나', '한번만 기회를 준다면', '돌아가 널 다시 내게로', '되돌리고 싶어', '한 번만이라도', '너 함께한 그때로 간다면', '더이상 아프지 않게', '아파하지 않게', '너 떠나고서야', '떠나고야 또 바보 같은 난', '이별을 탓하는지']\n"
          ]
        },
        {
          "output_type": "stream",
          "name": "stderr",
          "text": [
            "\r58it [22:09, 22.96s/it]"
          ]
        },
        {
          "output_type": "stream",
          "name": "stdout",
          "text": [
            "86\n",
            "['우연히 내게 오나봐 ', '봄 향기가 보여 ', '너도 같이 오나봐 ', '저 멀리서 니 향기가 ', '설레는 코끝에 나의 입술에 ', '괜찮은 느낌 이 떨림 ', '나도 몰래 우연히 봄 ', '어 어느새 ', '겨울 지나 봄이야 ', '여전히 난 너 ', '앞에선 돌이야 ', '난 아직 이게 ', '믿기지가 않지만 ', '내 왼손은 ', '지금까지도 너의 향기가 ', '미묘하게 흘렀던 분위기에 ', '아직까지 난 가까스로 숨 쉬네 ', '무대 위완 다르게 니 눈을 피해 ', '고개를 돌렸던 ', '내 모습에 한숨 쉬네 ', '오랜만에 느껴지는 ', '이 떨림이 날 단순하게 만들어 ', '딱 너만 아는 거리지 ', '다 고쳤다고 생각했던 버벅임이 ', '또 도져서 준비했던 ', '말을 잊어버리지 ', '난 주워 담지 못할 ', '말은 절대 안 해 ', '원하는 걸 말해봐 ', '널 위해서만 할게 ', '너 빼곤 다 ', '색칠할 수 있어 까맣게 ', '천천히 갈게 조금 더 가깝게 ', '우연히 내게 오나봐 ', '봄 향기가 보여 ', '너도 같이 오나봐 ', '저 멀리서 니 향기가 ', '설레는 코끝에 나의 입술에 ', '괜찮은 느낌 이 떨림 ', '나도 몰래 우연히 봄 ', '우연히 봄 ', '어 아직까지 향기가 짙네 ', '발걸음이 가벼워 ', '집에 가는 길엔 ', '더 가까워질 너와 나를 ', '상상하는 내 모습이 ', '오글거려 몸서리치네 ', '어 어 머릿속이 ', '하얘지기 때문에 ', '하루 종일 날씨 ', '얘기만 반복하게 돼 ', '오로지 난 너 하나 때문에 ', '다른 것들에겐 무감각하게 돼 ', '정적이 만드는 긴장감은 ', '오히려 설레어 ', '나를 미소 짓게 만들어 ', '모른 척 하려 했던 ', '니 옆의 남자들은 ', '흐릿했던 내 눈 앞에 ', '불을 키게 만들어 ', '겨울은 유난히도 추웠고 ', '다시 돌아온 ', '그토록 기다렸던 봄 ', '움직이지 못하도록 ', '잡고 있고 싶어 ', '날 더 느낄 수 있게 ', '안고 있고 싶어 ', '우연히 내게 오나봐', '봄 향기가 보여', '너도 같이 오나봐', '저 멀리서 니 향기가', '설레는 코끝에 나의 입술에', '괜찮은 느낌 이 떨림', '나도 몰래 우연히 봄', 'I love u so I love u', '너무 쉬운 걸', '그래도 나 참고 있을게', '난 여자이니까', '하루 더 기다려', '바보야 내게 말해봐', '니 마음도 보여', '갖고 싶다고 해봐', '더 이상은 감추지 마', '어느새 내 앞에 이젠 내 앞에', '괜찮은 느낌 이 떨림', '나도 몰래 우연히 봄']\n"
          ]
        },
        {
          "output_type": "stream",
          "name": "stderr",
          "text": [
            "\r59it [23:00, 31.34s/it]"
          ]
        },
        {
          "output_type": "stream",
          "name": "stdout",
          "text": [
            "53\n",
            "['어두운 불빛아래 촛불 하나', '와인 잔에 담긴 약속하나', '항상 너의 곁에서 널 지켜줄거야', '날 믿어준 너였잖아', '나 바라는 건 오직 하나', '영원한 행복을 꿈꾸지만', '화려하지 않아도 꿈같진 않아도', '너만 있어주면 돼', '걱정 마 I believe', '언제나 I believe', '이 순간을 잊지 않을게', '내 품에 I believe', '안긴 너의 미소가', '영원히 빛을 잃어 가지 않게', 'Cause your love is so sweet', 'You are my everything', '첫날 밤에 단 꿈에 젖어', '하는 말이 아냐 난 변하지 않아', '오직 너만 바라볼거야 oh', 'You’re light of my life', 'You are the one in my life', '내 모든걸 다 잃는대도 ', '후회하지 않아', '오직 너를 위한', '변하지 않는 사랑으로', '나 바라는 건 오직 하나', '영원한 행복을 꿈꾸지만', '화려하지 않아도 꿈같진 않아도', '너만 있어주면 돼', '약속해 I believe', '힘들 땐 I believe', '너의 그늘이 되어줄게', '내품에 I believe', '안긴 너의 미소가', '영원히 빛을 잃어 가지 않게', 'Cause your love is so sweet', 'You are my everything', '첫날 밤에 단 꿈에 젖어', '하는 말이 아냐 난 변하지 않아', '오직 너만 바라볼거야 oh', 'You’re light of my life', 'You are the one in my life', '내 모든걸 다 잃는대도 ', '후회하지 않아', '오직 너를 위한', '변하지 않는 사랑으로', 'You’re light of my life', 'You are the one in my life', '내 모든걸 다 잃는대도 ', '후회하지 않아', '오직 너를 위한', '변하지 않는 사랑으로', 'All I ever want is your love']\n"
          ]
        },
        {
          "output_type": "stream",
          "name": "stderr",
          "text": [
            "\r60it [23:31, 31.19s/it]"
          ]
        },
        {
          "output_type": "stream",
          "name": "stdout",
          "text": [
            "44\n",
            "['차가워진 눈빛을 바라보며', '이별의 말을 전해 들어요', '아무 의미 없던 노래 가사가', '아프게 귓가에 맴돌아요', '다시 겨울이 시작되듯이', '흩어지는 눈 사이로', '그대 내 맘에 쌓여만 가네', '떠나지 말라는', '그런 말도 하지 못하고', '고개를 떨구던 뒷모습만', '그대 내게 오지 말아요', '두 번 다시 이런 사랑 하지 마요', '그댈 추억하기보단 기다리는 게', '부서진 내 맘이 더 아파와', '다시 누군가를 만나서', '결국 우리 사랑 지워내도', '행복했던 것만 기억에 남아', '나를 천천히 잊어 주기를', '아무것도 마음대로 안 돼요', '아픔은 그저 나를 따라와', '밤새도록 커져 버린 그리움', '언제쯤 익숙해져 가나요', '많은 날들이 떠오르네요', '우리가 나눴던 날들', '애써 감추고 돌아서네요', '떠나지 말라는', '그런 말도 하지 못하고', '고개를 떨구던 뒷모습만', '그대 내게 오지 말아요', '두 번 다시 이런 사랑 하지 마요', '그댈 추억하기보단 기다리는 게', '부서진 내 맘이 더 아파와', '다시 누군가를 만나서', '결국 우리 사랑 지워내도', '행복했던 것만 기억에 남아', '나를 천천히 잊어 주기를', '부를 수도 없이 멀어진 그대가', '지나치는 바람에도 목이 메어와', '어디에도 그대가 살아서', '우린 사랑하면 안 돼요', '다가갈수록 미워지니까', '행복했던 것만 기억에 남아', '나를 천천히 잊어 가기를', '사랑했던']\n"
          ]
        },
        {
          "output_type": "stream",
          "name": "stderr",
          "text": [
            "\r61it [23:57, 29.62s/it]"
          ]
        },
        {
          "output_type": "stream",
          "name": "stdout",
          "text": [
            "27\n",
            "['이 밤 그날의 반딧불을', '당신의 창 가까이 보낼게요', '음 사랑한다는 말이에요', '나 우리의 첫 입맞춤을 떠올려', '그럼 언제든 눈을 감고', '음 가장 먼 곳으로 가요', '난 파도가 머물던', '모래 위에 적힌 글씨처럼', '그대가 멀리 사라져 버릴 것 같아', '늘 그리워 그리워', '여기 내 마음속에', '모든 말을 다 꺼내어 줄 순 없지만', '사랑한다는 말이에요', '어떻게 나에게', '그대란 행운이 온 걸까', '지금 우리 함께 있다면 아', '얼마나 좋을까요', '난 파도가 머물던', '모래 위에 적힌 글씨처럼', '그대가 멀리 사라져 버릴 것 같아', '또 그리워 더 그리워', '나의 일기장 안에', '모든 말을 다 꺼내어 줄 순 없지만', '사랑한다는 말', '이 밤 그날의 반딧불을 당신의', '창 가까이 띄울게요', '음 좋은 꿈 이길 바라요']\n"
          ]
        },
        {
          "output_type": "stream",
          "name": "stderr",
          "text": [
            "\r62it [24:13, 25.60s/it]"
          ]
        },
        {
          "output_type": "stream",
          "name": "stdout",
          "text": [
            "59\n",
            "['세상이 어두워지고', '조용히 비가 내리면', '여전히 그대로', '오늘도 어김없이 난', '벗어나질 못하네', '너의 생각 안에서', '이제 끝이라는 걸 알지만', '미련이란 걸 알지만', '이제 아닐 걸 알지만', '그까짓 자존심에', '널 잡지 못했던 내가', '조금 아쉬울 뿐이니까', '비가 오는 날엔 나를 찾아와', '밤을 새워 괴롭히다', '비가 그쳐가면 너도 따라서', '서서히 조금씩 그쳐가겠지', '취했나 봐', '그만 마셔야 될 것 같애', '비가 떨어지니까', '나도 떨어질 것 같애', '뭐 네가 보고 싶다거나', '그런 건 아냐', '다만 우리가 가진 시간이 좀', '날카로울 뿐', '참 좋아했었던 이런 날이면', '아직 너무 생생한', '기억을 꺼내놓고', '추억이란 덫에', '일부러 발을 들여놔', '벗어나려고 발버둥조차', '치지 않아', '이제 너를 다 지워냈지만', '모두 다 비워냈지만', '또다시 비가 내리면', '힘들게 숨겨놨던', '너의 모든 기억들이', '다시 돌아와 널 찾나 봐', '비가 오는 날엔 나를 찾아와', '밤을 새워 괴롭히다', '비가 그쳐가면 너도 따라서', '서서히 조금씩 그쳐가겠지', '너에게로', '이젠 돌아갈 길은 없지만', '지금 행복한 너를 보며', '난 그래도 웃어볼게', '널 잡을 수 있었던', '힘이 내겐 없었으니까', '어차피 끝나버린 걸 이제 와', '어쩌겠어', '뒤늦게 후회나 하는 거지', '덜 떨어진 애처럼', '비는 항상 오니까', '계속 반복되겠지', '그치고 나면 그제서야', '나도 그치겠지', '비는 항상 오니까', '계속 반복되겠지', '그치고 나면 그제서야', '나도 그치겠지']\n"
          ]
        },
        {
          "output_type": "stream",
          "name": "stderr",
          "text": [
            "\r63it [24:47, 28.27s/it]"
          ]
        },
        {
          "output_type": "stream",
          "name": "stdout",
          "text": [
            "40\n",
            "['요즘 내 일상은', '아무 의미 없이', '돌아가는 초침 소리', '들어보는 일', '나만 다른 세상에 있는 것 같아', '창문 밖은 벌써 하얀 눈이 녹아', '꽃이 필 준비를 하나 봐', '잊을 수 있을까', '우리의 지난 날들을', '이 계절이 오면', '네 생각 날 것 같은데', '하얀 겨울이 가고 봄이 올 때', '난 울었어', '이 계절에 난 남아 있나 봐', '아직', '길고 긴 시간을', '보내도 난 아직', '헤어지던 겨울 끝에', '머물고 있나 봐', '처음으로 다 되돌릴 수 있다면', '맘과 다른 말들 모두 주워 담아', '꽃이 피길 기다리겠지', '잊을 수 있을까', '우리의 지난 날들을', '이 계절이 오면', '네 생각 날 것 같은데', '하얀 겨울이 가고 봄이 올 때', '난 울었어', '이 계절에 난 남아 있나 봐', '서러워 이젠 서러워져', '아무리 밀어내도', '나아지지가 않아', '지워지지 않아', '이젠 보내줄까', '너를 잊을 수 있을까', '얼마나 더 해야', '괜찮아질 수 있을까', '벚꽃 비가 내려도', '겨울 끝에 혼자 남아', '이 계절에서 널 기다리고 있어']\n"
          ]
        },
        {
          "output_type": "stream",
          "name": "stderr",
          "text": [
            "\r64it [25:11, 26.90s/it]"
          ]
        },
        {
          "output_type": "stream",
          "name": "stdout",
          "text": [
            "26\n",
            "['오래되었어 그때 너의 웃음', '너의 목소리 잊혀진거 같아', '시간의 위로 그 말의 의미를 이젠 알아', '아픈 니 얘기도 적당히 할 수 있어', '그런데 이게 뭐랄까 난 난 술 한잔하면서', '괜찮은 듯 얘기하며 널 털어냈는데', '집으로 돌아오면서 ', '한 번 더 떠오른 기억에', '걸음을 멈춰 서서 이렇게 울고 있어 ', '자연스럽게 발걸음을 돌려', '나 바래다주던 익숙한 길을 가', '밤이 깊어져서 아무것도 보이지 않아도', '손을 흔들면서 인사하던 널 봤어 ', '그런데 이게 뭐랄까 난 난 술 한잔하면서', '괜찮은 듯 얘기하며 널 털어냈는데', '집으로 돌아오면서 ', '한 번 더 떠오른 기억에', '걸음을 멈춰 서서 이렇게 울고 있어', '아무도 없어서 참 다행이야', '나 이렇게 편안히 너를 부를 수 있는 걸', '외로운 위로겠지만 ', '그래서 이젠 뭘 할까 난 난 널 생각했어도', '괜찮은 듯 얘기하며 다 지워냈는데', '집으로 돌아오면서 ', '한 번 더 떠오른 추억에', '걸음을 멈춰 서서 또다시 울고 있어']\n"
          ]
        },
        {
          "output_type": "stream",
          "name": "stderr",
          "text": [
            "\r65it [25:26, 23.39s/it]"
          ]
        },
        {
          "output_type": "stream",
          "name": "stdout",
          "text": [
            "43\n",
            "['어쩜 살아가다 보면', '한 번은 날 찾을지 몰라', '난 그 기대 하나로', '오늘도 힘겹게 버틴 걸', '난 참 기억력도 좋지 않은데', '왜 너에 관한 건', '그 사소한 추억들까지도 생각이 나는지', '너를 잊을 순 없지만 붙잡고 싶지만', '이별 앞에서 할 수 있는 건', '좋은 기억이라도 남도록', '편히 보내주는 일', '혼자 남아도 괜찮아 가도 괜찮아', '세상에 제일 자신있는 건', '내가 언제나 그래왔듯이', '너를 기다리는 일', \"I don't wanna say goodbye\", '어쩜 살아가다보면', '한 번은 날 찾을지 몰라', '난 그 기대 하나로', '오늘도 힘겹게 버틴 걸', '부디 하루 빨리 좋은 사람과', '행복하길 바래', '그래야만 내 마음 속에서', '널 보낼 것 같아', '너를 잊을 순 없지만 붙잡고 싶지만', '이별 앞에서 할 수 있는 건', '좋은 기억이라도 남도록', '편히 보내주는 일', '이젠 멀어져 가지만 잠시였지만', '태어나 처음 잘한 듯한 건', '내겐 아무리 생각해봐도', '너를 사랑했던 일', '서로가 하나씩 이별의 선물을', '나눠간 거잖아', '난 마음을 준 대신', '넌 내게 추억을 준 거야', '다시 또 나를 살아가게 할 거야', 'Never Ending Never Falling', 'Never Mind My Girl', '날 아프게 했지만 울게 했지만', '이것 하나만큼은 고마워', '눈 감는 그날 내가 가져갈', '추억 만들어줘서']\n"
          ]
        },
        {
          "output_type": "stream",
          "name": "stderr",
          "text": [
            "\r66it [25:52, 23.94s/it]"
          ]
        },
        {
          "output_type": "stream",
          "name": "stdout",
          "text": [
            "50\n",
            "['몇 번인가 이별을 경험하고서', '널 만났지', '그래서 더 시작이 두려웠는지 몰라', '하지만 누군갈 알게 되고', '사랑하게 되는 건', '네가 마지막이라면', '얼마나 좋을까 나처럼', '바쁜 하루 중에도', '잠시 네 목소리 들으면', '함께 있는 것처럼 너도 느껴지는지', '매일 밤 집으로 돌아갈 때', '그곳에 네가 있다면', '힘든 하루 지친 네 마음이', '내 품에 안겨 쉴 텐데', '지금처럼만 날 사랑해 줘', '난 너만 변하지 않는다면', '내 모든 걸 가질 사람은 너뿐이야', '난 흔들리지 않아', '넌 가끔은 자신이 없는 미래를', '미안해 하지만', '잊지 말아 줘 사랑해', '너와 함께라면 이젠 행복한 나를', '바쁜 하루 중에도', '잠시 네 목소리 들으면', '함께 있는 것처럼 너도 느껴지는지', '매일 밤 집으로 돌아갈 때', '그곳에 네가 있다면', '힘든 하루 지친 네 마음이', '내 품에 안겨 쉴텐데', '지금처럼만 날 사랑해줘', '난 너만 변하지 않는다면', '내 모든 걸 가질 사람은 너뿐이야', '난 흔들리지 않아', '넌 가끔은 자신이 없는 미래를', '미안해 하지만', '잊지 말아 줘 사랑해', '너와 함께라면 이젠 행복한 나를', '난 많은 기대들로 세상이', '정해 놓은 사랑을 버리고 버리고', '네 마음처럼 난 늘 같은 자리에', '또 하나의 네가 되고 싶어', '소중한 널 위해', '지금처럼만 사랑해줘', '항상 너만 변하지 않으면', '내 전부를 가질 사람은 너뿐이야', '난 흔들리지 않아', '자신 없는 미래 넌 미안해하고 있니', '넌 이제 혼자가 아니야 이젠', '잊지마 너와 함께라면', '언제나 행복한 나를']\n"
          ]
        },
        {
          "output_type": "stream",
          "name": "stderr",
          "text": [
            "\r67it [26:21, 25.69s/it]"
          ]
        },
        {
          "output_type": "stream",
          "name": "stdout",
          "text": [
            "53\n",
            "['당신은 날 설레게 만들어', '조용한 내 마음 자꾸만 춤추게 해', '얼마나 얼마나 날 떨리게 하는지', '당신이 이 밤을 항상 잠 못 들게 해', '매일 같은 밤 너를 생각하면서', '유치한 노랠 들으며', '심장이 춤을 추면서', '오오 난 너를 기다리면서', '유치한 노랠 부르며', '심장이 춤을 추면서 워', '나를 떨리게 하나요', '그대 왜 나를 설레게 하나요 자꾸만', '오늘도 잠 못 이루는 이 밤', '아름다운 그대', '나를 아프게 하나요', '웃는 그대 왜 자꾸 설레게 하나요', '하염없이', '오늘 밤 잠이 오질 않네요', '보고 싶은 그대여', '당신이 날 힘들게 만들어', '갑자기 내 마음 자꾸만 멍들게 해', '얼마나 얼마나 잠 못 들게 하는지', '고요한 내 마음 항상 시끄럽게 해', '매일 같은 밤 너를 생각하면서', '유치한 노랠 들으며', '심장이 춤을 추면서', '워 난 너를 기다리면서', '유치한 노랠 부르며', '심장이 춤을 추면서 워', '나를 떨리게 하나요', '그대 왜 나를 설레게 하나요 자꾸만', '오늘도 잠 못 이루는 이 밤', '아름다운 그대', '나를 아프게 하나요', '웃는 그대 왜 자꾸 설레게 하나요', '하염없이', '오늘 밤 잠이 오질 않네요', '보고 싶은 그대여', '매일 밤 너를 생각하면서', '유치한 노랠 들으며', '심장이 춤을 추면서', '워오 난 너를 기다리면서', '유치한 노랠 부르며', '심장이 춤을 추면서 워', '나를 떨리게 하나요', '그대 왜 나를 설레게 하나요 자꾸만', '오늘도 잠 못 이루는 이 밤', '아름다운 그대여', '나를 아프게 하나요', '웃는 그대 왜 자꾸 설레게 하나요', '하염없이', '오늘 밤 잠이 오질 않네요', '보고 싶은 그대여']\n"
          ]
        },
        {
          "output_type": "stream",
          "name": "stderr",
          "text": [
            "\r68it [26:54, 27.64s/it]"
          ]
        },
        {
          "output_type": "stream",
          "name": "stdout",
          "text": [
            "24\n",
            "['너와 함께 하고 싶은 일들을', '상상하는 게', '요즘 내 일상이 되고', '너의 즐거워하는 모습을 보고 있으면', '자연스레 따라 웃고 있는 걸', '너의 행동에 설레어하고 뒤척이다가', '지새운 밤이 많아지는데', '이건 누가 봐도 사랑일 텐데', '종일 함께면 질릴 텐데', '나 돌아서도 온통 너인 건', '아무래도 사랑인가 봐', '점점 너와 하고 싶은 일들 생각하면서', '하룰 보낸 날이 많아지는데', '이건 누가 봐도 사랑일 텐데', '종일 함께면 질릴 텐데', '나 돌아서도 온통 너인 건', '아무래도 사랑인가 봐', '너의 행복해하는 모습을 보고 있으면', '나도 모르게 따라 웃는데', '이 정도면 알아줄 만하잖아', '너도 용기 낼만 하잖아', '나만 이런 게 아니라면', '우리 만나볼 만하잖아', '아무래도 사랑인가 봐']\n"
          ]
        },
        {
          "output_type": "stream",
          "name": "stderr",
          "text": [
            "\r69it [27:08, 23.54s/it]"
          ]
        },
        {
          "output_type": "stream",
          "name": "stdout",
          "text": [
            "36\n",
            "['그러나 시간이 지나도', '아물지 않는 일들이 있지', '내가 날 온전히 사랑하지 못해서 ', '맘이 가난한 밤이야', '거울 속에 마주친 얼굴이 어색해서', '습관처럼 조용히 눈을 감아', '밤이 되면 서둘러 내일로 가고 싶어', '수많은 소원 아래 매일 다른 꿈을 꾸던', '아이는 그렇게 오랜 시간', '겨우 내가 되려고 아팠던 걸까', '쌓이는 하루만큼 더 멀어져 ', '우리는 화해할 수 없을 것 같아', '나아지지 않을 것 같아', '어린 날 내 맘엔 영원히', '가물지 않는 바다가 있었지', '이제는 흔적만이 남아 희미한 그곳엔', '설렘으로 차오르던 나의 숨소리와', '머리 위로 선선히 부는 바람', '파도가 되어 어디로든 달려가고 싶어', '작은 두려움 아래 천천히 두 눈을 뜨면', '세상은 그렇게 모든 순간', '내게로 와 눈부신 선물이 되고', '숱하게 의심하던 나는 그제야', '나에게 대답할 수 있을 것 같아', '선 너머에 기억이', '나를 부르고 있어', '아주 오랜 시간 동안', '잊고 있던 목소리에', '물결을 거슬러 나 돌아가', '내 안의 바다가 태어난 곳으로', '휩쓸려 길을 잃어도 자유로와', '더이상 날 가두는 어둠에 눈 감지 않아', '두 번 다시 날 모른 척 하지 않아', '그럼에도 여전히 가끔은', '삶에게 지는 날들도 있겠지', '또다시 헤매일지라도 돌아오는 길을 알아']\n"
          ]
        },
        {
          "output_type": "stream",
          "name": "stderr",
          "text": [
            "\r70it [27:29, 22.87s/it]"
          ]
        },
        {
          "output_type": "stream",
          "name": "stdout",
          "text": [
            "39\n",
            "['있잖아 좀 늦은 거 아는데', '해야 하는 말이 꼭 생겼어', '아직 거기 서있다면', '잠깐만 내 얘길 들어줄래', '두드리고 계속 두드렸던', '너를 왜 몰랐을까', '닫힌 내 마음 앞에 앉아', '날 기다린 것도 말야', '지금 나 하나도 괜찮지가 않아', '지금 널 이대로 그냥 잃어버릴까봐', '널 보던 내 눈도', '널 떠올리면 웃고 있던 내 입술도', '사랑이더라', '알잖아 보기엔 참 쉬운데', '내가 하면 얘기가 다른 거', '겨우 내 맘을 알았고', '내겐 아직 많이 어려운데', '근데 말야 나는 하고 싶어', '너랑 그 연애란 거', '사실 난 엄청 신경 쓰여', '너에 대한 모든 게 다', '지금 나 하나도 괜찮지가 않아', '지금 널 이대로 그냥 잃어버릴까봐', '널 보던 내 눈도', '널 떠올리면 웃고 있던 내 입술도', '사랑이더라', '딴 생각은 안 할 거야', '이 감정에만 이젠 솔직할게', '날 헷갈리게 만들던', '그 이유를 좀 알 것 같아', '궁금해 넌 어때 어서 대답해봐', '어떻게 생각해 지금 고백하는 거야', '널 사랑한다고', '가슴 벅차게 사랑하고 있다고', '나 요즘에 너 땜에 괜찮지가 않아', '지금 널 이대로 그냥 잃어버릴까봐', '널 보던 내 눈도', '널 떠올리며 웃고 있던 내 입술도', '사랑이더라']\n"
          ]
        },
        {
          "output_type": "stream",
          "name": "stderr",
          "text": [
            "\r71it [27:52, 22.90s/it]"
          ]
        },
        {
          "output_type": "stream",
          "name": "stdout",
          "text": [
            "43\n",
            "['너를 만난 그 이후로', '사소한 변화들에 행복해져', '눈이 부시게 빛 나는 아침', '너를 떠올리며 눈 뜨는 하루', '식탁 위에 마주 앉아', '너의 하루는 어땠는지 묻거나', '나의 하루도 썩 괜찮았어', '웃으며 대답해 주고 싶어', '별것 아닌 일에 맘이 통할 때면', '익숙해진 서로가 놀라웠어', '널 사랑해', '평온한 지금처럼만', '영원하고 싶다고', '너를 바라보다 생각했어', '너를 만나 참 행복했어', '나 이토록 사랑할 수 있었던 건', '아직 어리고 모자란 내 맘', '따뜻한 이해로 다 안아줘서', '무심한 말투에 서로 아플 때면', '차가워진 사이가', '견딜 수 없어 미안해', '불안한 지금이라도', '영원하고 싶다고', '너를 바라보다 생각했어', '너를 만나 참 행복했어', '나 이토록 사랑할 수 있었던 건', '아직 어리고 모자란 내 맘', '따뜻한 이해로 다 안아줘서', '뜨거웠던 여름 지나', '그리워질 빗소리에', '하나 둘 수줍어 또 얼굴 붉히면', '생각이 많아진', '너의 눈에 입 맞출 테니', '우리 함께 걸어가기로 해', '나를 만나 너도 행복하니', '못 해준 게 더 많아서 미안해', '이기적이고 불안한 내가', '너에게만은 잘하고 싶었어', '오랫동안 나 기다려온', '완벽한 사랑을 찾은 것 같아', '날 잡아줘서 힘이 돼줘서 ', '소중한 배려로 날 안아줘서', '너를 만나']\n"
          ]
        },
        {
          "output_type": "stream",
          "name": "stderr",
          "text": [
            "\r72it [28:18, 23.85s/it]"
          ]
        },
        {
          "output_type": "stream",
          "name": "stdout",
          "text": [
            "48\n",
            "['점점 지쳐가', '곁에 있는 게', '너를 바라보는 게', '견디기 힘들어 1초도 난 싫어', '사랑하지 않아', '행복하지가 않아', '네 모든 게 다', '난 점점 지쳐가', '말로만 사랑을 말하고', '의미 없는 하룰 보내', '같이 있어도 외로워', 'I’m not missing you', 'I can’t love you anymore', '미안해 사실 이런 말조차도 싫어', '점점 지쳐가', '곁에 있는 게', '너를 바라보는 게', '견디기 힘들어 1초도 난 싫어', '사랑하지 않아', '행복하지가 않아', '네 모든 게 다', '난 점점 지쳐가', '기다림이 길어지고', '이젠 작은 기대조차도 안 가질래', '네가 하는 모든 말들이', '전부 핑계로 들려 뻔한 거짓말들이', '어느새 나보다 중요한 게 늘었고', '소중히 여기던 나와의 약속은 늘 늦고', '우선이었던 나는 어느덧 마지막', 'So I hate you', '점점 지쳐가', '곁에 있는 게', '너를 바라보는 게', '견디기 힘들어 1초도 난 싫어', '사랑하지 않아', '행복하지가 않아', '네 모든 게 다', '지겨워', '이미 끝난 너를 붙잡고', '억지로 사랑해도', '아무리 노력해 봐도', '이러는 내가 불쌍해', 'Baby', '이제 그만 나를 놓아줘', '많이 아플지라도', '이제는 헤어져야 해', '좋은 기억마저 잃고 싶지가 않아', '여기까지야 그만 끝내자']\n"
          ]
        },
        {
          "output_type": "stream",
          "name": "stderr",
          "text": [
            "\r73it [28:46, 25.17s/it]"
          ]
        },
        {
          "output_type": "stream",
          "name": "stdout",
          "text": [
            "47\n",
            "['당신에게 드릴 게 없어서', '나의 마음을 드려요', '그대에게 받은 게 많아서', '표현을 다 할 수가 없어요', '나지막한 인사에', '수많은 내 마음 고이 담아', '그대에게로 건네면', '내 마음 조금 알까요', '어떤 이유로 만나', '나와 사랑을 하고', '어떤 이유로 내게 와', '함께 있어준 당신', '부디 행복한 날도', '살다 지치는 날도', '모두 그대의 곁에 내가', '있어줄 수 있길', '어떤 소식 보다 더', '애타게 기다려지는 그대', '엇갈리지 않게 여기', '기다릴게요', '눌러 적은 편지에', '수많은 그리움 고이 담아', '그대 내게로 올 때면', '그 손에 쥐어줄게요', '어떤 이유로 만나', '나와 사랑을 하고', '어떤 이유로 내게 와', '함께 있어준 당신', '부디 행복한 날도', '살다 지치는 날도', '모두 그대의 곁에 내가', '있어줄 수 있길', '네 번의 모든 계절들과', '열두 달의 시간을 너와', '숨이 차게 매일', '사랑하며 함께 할게', '어떤 이유로 만나', '우리 사랑을 했던', '지금 이 순간처럼', '매일 바라보며', '애써주기를', '부디 행복한 날도', '살다 지치는 날도', '모두 그대의 곁에 내가', '있어줄 수 있길', '부디 ', '추억만 남지 않길 너완']\n"
          ]
        },
        {
          "output_type": "stream",
          "name": "stderr",
          "text": [
            "\r74it [29:14, 25.95s/it]"
          ]
        },
        {
          "output_type": "stream",
          "name": "stdout",
          "text": [
            "28\n",
            "['처음 널 만나는 날', '노란 세 송이 장미를 들고', '룰루랄라 신촌을 향하는', '내 가슴은 마냥 두근두근', '생머리 휘날리며', '나를 향해 손을 흔드는 너', '머리에서 발 끝까지', '나를 사로잡네 이야에로', '니가 좋아 너무 좋아', '내 모든걸 주고 싶어', '너에게만은 내 마음', '난 꾸미고 싶지 않아', '언제까지 너와 함께 있을 거야 예', '룰루랄라 신촌을 누비는', '내 마음은 마냥 이야에로', '여보세요 나의 천사', '어떻게 내 마음을 훔쳤나요', '괜찮아요 나의 천사 가져간', '내 마음을 고이 간직해줘요', '니가 좋아 너무 좋아', '내 모든걸 주고 싶어', '너에게만은 내 마음', '난 꾸미고 싶지 않아', '니가 좋아 너무 좋아', '내 모든걸 주고 싶어', '너에게만은 내 마음', '난 꾸미고 싶지 않아', '언제까지 너와 함께 있을 거야 음']\n"
          ]
        },
        {
          "output_type": "stream",
          "name": "stderr",
          "text": [
            "\r75it [29:30, 23.03s/it]"
          ]
        },
        {
          "output_type": "stream",
          "name": "stdout",
          "text": [
            "23\n",
            "['구름에 빛은 흐려지고', '창가에 요란히 내리는', '빗물 소리만큼 시린 기억들이', '내 마음 붙잡고 있는데', '갈수록 짙어져 간 그리움에 잠겨', '시간을 거슬러 갈 순 없나요', '그때처럼만 그대 날 안아주면', '괜찮을 텐데 이젠', '젖어든 빗길을 따라가', '함께한 추억을 돌아봐', '흐려진 빗물에 떠오른 그대가', '내 눈물 속에서 차올라와', '갈수록 짙어져 간 그리움에 잠겨', '시간을 거슬러 갈 순 없나요', '그때처럼만 그대 날 안아주면', '괜찮을 텐데 이젠', '흩어져 가', '나와 있어주던 그 시간도', '그 모습도', '다시 그때처럼만 그대를 안아서', '시간을 거슬러 갈 순 없나요', '한 번이라도 마지막일지라도', '괜찮을 텐데']\n"
          ]
        },
        {
          "output_type": "stream",
          "name": "stderr",
          "text": [
            "\r76it [29:44, 20.33s/it]"
          ]
        },
        {
          "output_type": "stream",
          "name": "stdout",
          "text": [
            "27\n",
            "['많은 시간이 지나도 ', '난 너를 못 잊는 것은 ', '그건 아마도 ', '부정할 수 없는 사실인걸 ', '어쩜 나를 떠난 그대는 ', '마치 아무 일도 없던 사람처럼 ', '웃을 수 있는지 ', '두 번 다시 너를 찾지 않을 게 ', '널 생각하는 마음도 ', '네 사진도 ', '잊지 못하는 나를 보네 ', '웃고 있는 네 옆에 그 사람은 ', '내가 아닌 다른 사람 일 거라는 ', '생각이 난 더 아픈 거야 ', '그댄 어떤가요 ', '네모 속 그대 모습은 ', '누구보다 행복한 사진들뿐인데 ', '한 번쯤은 생각하는지 ', '날 사랑했던 그대에게 ', '나는 별거 아닌 일인지 ', '두 번 다시 너를 찾지 않을 게 ', '널 생각하는 마음도 ', '네 사진도 ', '잊지 못하는 나를 보네 ', '웃고 있는 네 옆에 그 사람은 ', '내가 아닌 다른 사람 일 거라는 ', '생각이 난 더 아픈 거야 ']\n"
          ]
        },
        {
          "output_type": "stream",
          "name": "stderr",
          "text": [
            "\r77it [30:00, 18.99s/it]"
          ]
        },
        {
          "output_type": "stream",
          "name": "stdout",
          "text": [
            "50\n",
            "['그땐 우리 둘 다 철없이', '어리기만 했나 봐', '태어나 처음 설레는', '너를 만나서 세상에 부러울 거', '하나 없이 좋았어', '매일 너만 기다렸어', '행복한 시간뿐이었어', '너에게 받은 만큼', '잘해주지 못해서 미안해', '사실 나는 니가 보고 싶어', '겉으로는 티 안 나게', '사람들과 웃곤 해도', '정말 많이 그리워', '상처 줬던 말과 행동들', '전부 미안해 후회돼', '아직 니 생각뿐이야', '그땐 나도 너무 어려서', '사랑을 몰랐나 봐', '태어나 처음 설레는', '너를 만나서 세상에 부러울 거', '하나 없이 좋았어', '나도 너만 기다렸어', '꿈같던 시간뿐이었어', '너에게 사랑 주는 게', '그렇게 좋았었어', '사실 나도 많이 보고 싶어', '겉으로는 티 안 나게', '사람들과 어울려도', '정말 니가 그리워', '상처 줬던 말과 행동들', '전부 미안해 후회돼', '모두 되돌리고 싶어', '더 잘해주고 아껴줬다면', '내 곁에 있을까', '헤어지기 전으로 돌아간다면', '좀 더 노력하고 애쓸 텐데', '이렇게 아플 걸 알면', '절대 놓지 않을 텐데', '정말 잘해줄 텐데', '혹시 너도 그리웠다면', '조금 니 맘도 내 맘과', '같은 마음뿐이라면', '당장 달려가 널 안고서', '말하고 싶어 아직은', '널 지우지 못한다고', '널 보내기는 싫다고', '후회하기는 싫다고', '돌아와 줄래', '나에겐 너뿐이라고', '내겐']\n"
          ]
        },
        {
          "output_type": "stream",
          "name": "stderr",
          "text": [
            "\r78it [30:30, 22.20s/it]"
          ]
        },
        {
          "output_type": "stream",
          "name": "stdout",
          "text": [
            "35\n",
            "['널 품기 전 알지 못했다', '내 머문 세상 이토록 찬란한 것을', '작은 숨결로 닿은 사람', '겁 없이 나를 불러준 사랑', '몹시도 좋았다', '너를 지켜보고 설레고', '우습게 질투도 했던', '평범한 모든 순간들이', '캄캄한 영원', '그 오랜 기다림 속으로', '햇살처럼 니가 내렸다', '널 놓기 전 알지 못했다', '내 머문 세상 이토록 쓸쓸한 것을', '고운 꽃이 피고 진 이 곳', '다시는 없을 너라는 계절', '욕심이 생겼다', '너와 함께 살고 늙어가', '주름진 손을 맞잡고', '내 삶은 따뜻했었다고', '단 한번 축복', '그 짧은 마주침이 지나', '빗물처럼 너는 울었다', '한번쯤은 행복하고 싶었던 바람', '너까지 울게 만들었을까', '모두 잊고 살아가라', '내가 널 찾을 테니', '니 숨결 다시 나를 부를 때', '잊지 않겠다', '너를 지켜보고 설레고', '우습게 질투도 했던', '니가 준 모든 순간들을', '언젠가 만날', '우리 가장 행복할 그날', '첫눈처럼 내가 가겠다', '너에게 내가 가겠다']\n"
          ]
        },
        {
          "output_type": "stream",
          "name": "stderr",
          "text": [
            "\r79it [30:51, 21.82s/it]"
          ]
        },
        {
          "output_type": "stream",
          "name": "stdout",
          "text": [
            "35\n",
            "['오늘도 내 기억을 따라 헤매다', '이 길 끝에서 서성이는 나', '다신 볼 수도 없는 네가 나를 붙잡아', '나는 또 이 길을 묻는다', '널 보고 싶다고', '또 안고 싶다고', '저 하늘 보며 기도하는 날', '네가 아니면 안돼', '너 없인 난 안돼', '나 이렇게 하루 한달을 또 일년을', '나 아파도 좋아', '내 맘 다쳐도 좋아 난', '그래 난 너 하나만 사랑하니까', '나 두 번 다시는', '보낼 수 없다고', '나 너를 잊고 살 순 없다고', '네가 아니면 안돼', '너 없인 난 안돼', '나 이렇게 하루 한달을 또 일년을', '나 아파도 좋아', '내 맘 다쳐도 좋아 난', '그래 난 너 하나만 사랑하니까', '내 멍든 가슴이', '널 찾아 오라고', '소리쳐 부른다', '넌 어디 있는 거니', '나의 목소리 들리지 않니', '나에게는', '나 다시 살아도', '몇 번을 태어나도', '하루도 네가 없이 살 수 없는 나', '내가 지켜줄 사람', '내가 사랑할 사람 난', '그래 난 너 하나면 충분하니까', '너 하나만 사랑하니까']\n"
          ]
        },
        {
          "output_type": "stream",
          "name": "stderr",
          "text": [
            "\r80it [31:11, 21.52s/it]"
          ]
        },
        {
          "output_type": "stream",
          "name": "stdout",
          "text": [
            "32\n",
            "['잊지 마 잊지 마', '우리 헤어질 때 힘들던 그날의 인사를', '울지 마 울지 마', '부디 행복해 줘 나의 사랑 안녕', '사랑해 사랑해 내가 더 사랑해', '이제 두 번 다시', '너에게 해줄 수 없는 말', '너만 너만 너만', '사랑했던 나의 전부였었던 ', '널 아프게 해서', '미안해 미안해 다시 돌아갈 수 없지만', '난 너만 난 너만 난 너만 ', '많이 사랑했었다 ', '하지 마 하지 마 추억도 하지 마', '아픈 내 가슴아 ', '미워해 미워해 이젠 널 미워해', '너를 잊으려면', '이럴 수밖에 없으니까', '너만 너만 너만', '사랑했던 나의 전부였었던 ', '널 아프게 해서', '미안해 미안해 다시 돌아갈 수 없지만 ', '난 너만 난 너만 난 너만 ', '너는 내 가슴에 문신처럼 새겨져', '지우려 해봐도', '지울 수 없는 내 사랑아', '너만 너만 너만', '기다린다 너무 아픈 사랑아', '많이 보고 싶다 ', '미안해 미안해 난 아직 너를 사랑해', '난 너만 난 너만 난 너만 ', '기다린다']\n"
          ]
        },
        {
          "output_type": "stream",
          "name": "stderr",
          "text": [
            "\r81it [31:30, 20.76s/it]"
          ]
        },
        {
          "output_type": "stream",
          "name": "stdout",
          "text": [
            "38\n",
            "['나 그댈 위해 시 한 편을 쓰겠어', '나 그대에게 못다 한 얘기 많아', '차마 그때 하지 못 했었던', '오래된 내 마음일지라도', '받아주길 바래요', '사랑한다고', '그댈 향해', '말을 건넬 수 있다면', '떠오르는 말 단 한마디지만', '종이 위에 덧없는 꾸밈을 더해', '볼품없는 솜씨로 시 한 편을 쓰겠어', '사랑해요', '이 말도 부족해요', '내 마음 다 담을 수 없죠', '나 그댈 위해 시 한 편을 쓰겠어', '나 그대에게 못다 한 얘기 많아', '차마 그때 하지 못 했었던', '오래된 내 마음일지라도', '받아주길 바래요', '사랑한다고', '라라라라라라', '사랑해요', '이 말도 부족해요', '내 마음 다 담을 수 없죠', '그대도 나와 같은 마음이라면', '그대도 나를 아직 사랑한다면', '부디 가던 길 잠시 멈추고', '다시 한번만 돌아 봐줘요', '기다리는 나를요', '사랑해요', '이미 늦어버린 마음이라', '더 이상은 보잘것없어도', '알아주길 바래요', '사랑한다고', '라라라라라라', '너무 멀리 돌아온 듯해', '라라라라라라', '그댄 어디쯤에 있나요']\n"
          ]
        },
        {
          "output_type": "stream",
          "name": "stderr",
          "text": [
            "\r82it [31:53, 21.20s/it]"
          ]
        },
        {
          "output_type": "stream",
          "name": "stdout",
          "text": [
            "31\n",
            "['아무말도 아무것도', '여전히 넌 여기 없고', '널 원하고 널 원해도 난 외롭고', '꽃이 피고 진 그 자리', '끝을 몰랐었던 맘이', '깨질 것만 같던 그때 우리 음', '시든 꽃에 물을 주듯', '싫은 표정조차 없는', '결국엔 부서진 여기 우리 음', '다 잊었니 말없이 다 잊었니', '사랑한단 말로 날 가둬둔 채로', '넌 잊었니 난 잊지 못하나봐', '바보처럼 기다려 난 오늘도', '어쩌다 이렇게 됐지', '너무 예뻤잖아 둘이', '매일 설레였지 그때 우린 음', '시든 꽃에 물을 주듯', '싫은 표정조차 없는', '결국엔 부서진 여기 우리', '다 잊었니 말없이 다 잊었니', '사랑한단 말로 날 가둬둔 채로', '넌 잊었니 난 잊지 못하나봐', '바보처럼 기다린', '바보처럼 빈 자릴 붙잡는 나', '차라리 다 끝났다고 말해줘', '이기적인 그 침묵에 또 나만', '바보처럼 미련한', '내가 미워', '아무말도 아무것도', '여전히 넌 여기 없고', '널 원하고 널 원해도 난 지쳐가']\n"
          ]
        },
        {
          "output_type": "stream",
          "name": "stderr",
          "text": [
            "\r83it [32:11, 20.44s/it]"
          ]
        },
        {
          "output_type": "stream",
          "name": "stdout",
          "text": [
            "42\n",
            "['햇살은 우릴 위해 내리고 ', '바람도 서롤 감싸게 했죠 ', '우리 웃음속에 계절은 오고 ', '또 갔죠 ', '바람에 흔들리는 머릿결 ', '내게 불어오는 그대 향기 ', '예쁜 두눈도 웃음 소리도 ', '모두가 내 것이었죠', '이런 사랑 이런 행복 쉽다 ', '했었죠 이런 웃음 ', '이런 축복 내게 쉽게 올리 없죠 ', '눈물 조차 울음조차 닦지 ', '못한 나 ', '정말로 울면 내가 그댈 보내 ', '준 것 같아서 ', '그대 떠나가는 그 순간도 ', '나를 걱정했었나요 ', '무엇도 해줄 수 없는 내 맘', '앞에서 ', '그대 나를 떠나 간다해도 ', '난 그댈 보낸적 없죠 ', '여전히 그댄 나를 살게 하는 ', '이율테니 ', '이런 사랑 이런 행복 쉽다 했었죠 ', '이런 웃음 이런 축복 내게 ', '쉽게 올리 없죠 ', '눈물 조차 울음 조차 닦지 못한 나 ', '정말로 울면 내가 그댈 보내 ', '준 것 같아서 ', '그대 떠나가는 그 순간도 ', '나를 걱정했었나요 ', '무엇도 해줄 수 없는 내 맘앞에서 ', '그대 나를 떠나 간다해도 난 ', '그댈 보낸적 없죠 ', '기다림으로 다시 시작일테니 ', '얼마나 사랑했는지 얼마나 ', '또 울었는지 ', '그대여 한순간 조차 잊지 말아요 ', '거기 떠나간 그곳에서 날', '기억하며 기다려요', '하루씩 그대에게 다가가는 ', '나 일테니 ']\n"
          ]
        },
        {
          "output_type": "stream",
          "name": "stderr",
          "text": [
            "\r84it [32:36, 21.86s/it]"
          ]
        },
        {
          "output_type": "stream",
          "name": "stdout",
          "text": [
            "52\n",
            "['우리 이제 헤어지기로해 ', '너도 알잖아 ', '우린 충분했다는걸', '이별이 무서워 ', '자꾸 피해보지만 ', '이젠 정말 끝인걸', '우리 사랑이 우리 추억이 ', '이젠 끝나가지만 ', '함께한 기억은 ', '내가 다 가져갈게', '끝이란걸 알지만 ', '끝이라고 안할게 ', '내눈에 비친 네 모습이 ', '날 나쁘게 만들어', '나 이제 너와 서툰이별을 하려해 ', '많이 아프겠지만 ', '이제 정말 헤어지려해 ', '가끔 혼자 견디기 힘들어 ', '나도 몰래 널 부르게되면 ', '그냥 지나쳐줘 ', '서툰이별이라서 ', '그래', '혹시 그때의 서로를 ', '조금더 이해했더라면 ', '우린 조금은 달라졌을까', '이제와서 이러는 내가 ', '너무 이기적인가봐 ', '내눈에 비친 네 모습이 ', '날 나쁘게 만들어', '나 이제 너와 서툰이별을 하려해 ', '많이 아프겠지만 ', '이제 정말 헤어지려해 ', '가끔 혼자 견디기 힘들어 ', '나도 몰래 널 부르게되면 ', '그냥 지나쳐줘 ', '서툰이별이라서 ', '그래', '우리의 최선은 여기까지인거같아 ', '수고많았어 ', '이젠 널 보낼게 ', '같은 추억속에 ', '우리를 ', '이젠 보내줘야해 ', '애써 그냥 웃으며 ', '아무렇지 않게 널 보낼게', '우리 이제 정말 이별을 하려해 ', '많이 아프겠지만 ', '많이 힘들겠지만 ', '혹시 우리가 다시 만나게 ', '되는 날이 다가오면 ', '그땐 꼭 안아줘 ', '많이 보고싶었다고 말해줘']\n"
          ]
        },
        {
          "output_type": "stream",
          "name": "stderr",
          "text": [
            "\r85it [33:07, 24.59s/it]"
          ]
        },
        {
          "output_type": "stream",
          "name": "stdout",
          "text": [
            "80\n",
            "['영원할 줄 알았던 사랑도 저물고', '이젠 그 흔한 친구마저 떠나가네요', '나이가 들어서 나', '어른이 되나 봐요', '왜 이렇게 불안할까', '사람들은 오늘도 과거에 머물고', '세상은 나 없이도 잘 돌아가네요', '아직은 어려서 나', '철이 안 드나 봐요', '왜 이렇게 바보 같을까', '아무것도 없이', '그저 행복해하던 때가', '엊그제 같은데', '그래 너무 멀리 와버렸어 난 ', '기억이 안 나', '모든 게 처음이라', '서툴고 설레이기만 해', '그 시절 기억들이', '아직도 꿈만 같은데 난 ', '지금 어디로 가는지', '나는 이 노랠 부르며', '너에게 돌아갈 거야', '아름다웠던 그댈', '다시 볼 수 있다면', '너와 이 노랠 들으며', '마지막 춤을 출 거야', '이 순간을 기억해 언제까지라도', 'Just one last dance', '희미한 불빛이 되어 별들 사이로', '너 또한 이 별이 되어 손짓하네요', '혼자가 되어서 나', '외로워 보이나요', '왜 이렇게 눈물이 날까', '아무것도 없이', '그저 행복해하던 때가', '엊그제 같은데', '그래 너무 멀리 와버렸어 난 ', '기억이 안 나', '모든 게 처음이라', '서툴고 설레이기만 해', '그 시절 기억들이', '아직도 꿈만 같은데 난 ', '지금 어디에 있는지', '나는 이 노랠 부르며', '너에게 돌아갈 거야', '아름다웠던 그댈', '다시 볼 수 있다면', '너와 이 노랠 들으며', '마지막 춤을 출 거야', '이 순간을 기억해 언제까지라도', 'Just one last dance', '음악은 계속해서 흐르고', '여기 너를 기다리고 있는', '나에게 기회를 줘', '제발 단 한 번만 ', '부디 약속할게 ', '그리 길지는 않을 테니', '나는 이 노랠 부르며', '나는 이 노랠 부르며', '너에게 돌아갈 거야', '아름다웠던 그댈 ', '다시 볼 수 있다면', '너와 이 노랠 들으며', '마지막 춤을 출 거야', '이 순간을 기억해 언제까지라도', 'Just one last dance', '너와 손을 잡고', '춤을 추던 어젯밤', '찬란히 빛이 나는', '아름다운 One last smile', '빨주노초 알 수 없던 황홀경', '내가 보고 느끼던', '세상과는 안 어울려', '너와 손을 잡고', '춤을 추던 어젯밤', '찬란히 빛이 나는', '아름다운 One last smile', '빨주노초 알 수 없던 황홀경', '내가 보고 느끼던', '세상과는 안 어울려']\n"
          ]
        },
        {
          "output_type": "stream",
          "name": "stderr",
          "text": [
            "\r86it [33:55, 31.49s/it]"
          ]
        },
        {
          "output_type": "stream",
          "name": "stdout",
          "text": [
            "45\n",
            "['이젠 내가 편하니', '작은 설렘조차 욕심이겠지', '항상 곁에 있어서', '계속 함께 있을 줄 알았나 봐', '음 반복되는 시간에 지쳐가', '더 이상 함께 웃을 일도 없어', '봄처럼 따뜻했던', '그때가 좋았어', '너 하나로 충분했던', '그때가 좋았어', '헤어지고 나서야', '깨닫게 됐어', '참 좋았구나', '참 예뻤구나 우리', '지난날에 그때가 참 좋았어', '그때 그때', '그때 그때 음', '이미 너도 다 알잖아', '돌이킬 수 없이 멀리 왔다는 거', '억지로 더 노력해도', '안되는 건 어쩔 수가 없더라', '음 우리 언제 이렇게 됐을까', '더는 너를 만날 자신이 없어', '봄처럼 따뜻했던', '그때가 좋았어', '행복해서 눈물 나던', '그때가 좋았어', '헤어지고 나서야', '깨닫게 됐어', '참 좋았구나', '참 예뻤구나 우리', '지난날에 그때가 참 좋았어', '가진 것도 없고 초라했어도', '서로만으로 충분했으니까 우린', '너라서 좋았어', '행복했어', '사랑이 전부였던', '그때가 좋았어', '그때 알았더라면', '더 사랑할 걸', '더 안아줄 걸', '후회가 돼', '사랑했던 우리가 참 그리워', '그때 그때', '그때 그때 음']\n"
          ]
        },
        {
          "output_type": "stream",
          "name": "stderr",
          "text": [
            "\r87it [34:22, 30.21s/it]"
          ]
        },
        {
          "output_type": "stream",
          "name": "stdout",
          "text": [
            "40\n",
            "['고단한 하루 끝에 떨구는 눈물', '난 어디를 향해 가는 걸까', '아플 만큼 아팠다 생각했는데', '아직도 한참 남은 건가 봐', '이 넓은 세상에 혼자인 것처럼', '아무도 내 맘을 보려 하지 않고', '아무도', '눈을 감아 보면', '내게 보이는 내 모습', '지치지 말고', '잠시 멈추라고', '갤 것 같지 않던', '짙은 나의 어둠은', '나를 버리면', '모두 갤 거라고', '웃는 사람들 틈에 이방인처럼', '혼자만 모든 걸 잃은 표정', '정신 없이 한참을 뛰었던 걸까', '이제는 너무 멀어진 꿈들', '이 오랜 슬픔이 그치기는 할까', '언젠가 한 번쯤 ', '따스한 햇살이 내릴까', '나는 내가 되고', '별은 영원히 빛나고', '잠들지 않는', '꿈을 꾸고 있어', '바보 같은 나는', '내가 될 수 없단 걸', '눈을 뜨고야', '그걸 알게 됐죠', '나는 내가 되고', '별은 영원히 빛나고', '잠들지 않는', '꿈을 꾸고 있어', '바보 같은 나는', '내가 될 수 없단 걸', '눈을 뜨고야', '그걸 알게 됐죠', '어떤 날 어떤 시간 어떤 곳에서', '나의 작은 세상은 웃어줄까']\n"
          ]
        },
        {
          "output_type": "stream",
          "name": "stderr",
          "text": [
            "\r88it [34:47, 28.56s/it]"
          ]
        },
        {
          "output_type": "stream",
          "name": "stdout",
          "text": [
            "33\n",
            "['소중한 건 금방 달아날 것만 같아', '너를 지우면 그게 나이긴 한 걸까', '나의 어제이고 오늘인 너는 아파', '눈 감으면 네 생각이 나', '사랑했던 모든 날이 좋았어', '어쩌려고 내가 너를 놓았을까', '나의 세상 나의 시간 잊지 말아요', '늘 그리워서', '눈이 부시게 너로 반짝이던', '가득 빛나던 밤', '영원할 줄 알았던 우리의 그때를', '사랑이 아니었다 말하지 마요', '덜컥 네 생각에 참아왔던 마음이', '손쓸 틈 없이 쏟아져 내려 오늘도', '구름 낀 하늘', '비가 올 것만 같아서 난', '하염없이 네 생각이 나', '바보처럼 아껴왔던 마음이', '지칠 만큼 오늘따라 조금 벅차', '나의 세상 나의 시간 잊지 말아요', '늘 그리워서', '눈이 부시게 너로 반짝이던', '가득 빛나던 밤', '영원할 줄 알았던 우리의 그때를', '사랑이 아니었다 말하지 마요', '내일의 너에게 난 어떻게 그려질까', '점점 선명해질까 아님 잊혀져갈까', '손 내밀면 닿을 것 같은', '그때의 기억 늘 그리워서', '모든 시간이 너로 가득했어', '아련한 꿈처럼', '소중하고 또 애틋한 우리의 그때를', '사랑이 아니었다 말하지 말아요']\n"
          ]
        },
        {
          "output_type": "stream",
          "name": "stderr",
          "text": [
            "\r89it [35:08, 26.42s/it]"
          ]
        },
        {
          "output_type": "stream",
          "name": "stdout",
          "text": [
            "55\n",
            "['니가 없는 거리에는', '내가 할일이 없어서', '마냥 걷다 걷다보면', '추억을 가끔 마주치지', '떠오르는 너의 모습', '내 살아나는', '그리움 한번에', '참 잊기 힘든 사람이란걸', '또 한번 느껴지는 하루', '어디쯤에 머무는지', '또 어떻게 살아가는지', '걷다보면 누가', '말해줄 것 같아', '이 거리가 익숙했던', '우리 발걸음이 나란했던', '그리운 날들', '오늘밤 나를 찾아온다', '널 그리는 널 부르는 내 하루는', '애태워도 마주친', '추억이 반가워', '날 부르는 목소리에 돌아보면', '텅빈 거리 어느새', '수많은 니모습만 가득해', '막다른길 다다라서', '낯익은 벽 기대보며', '가로등 속 환히 비춰지는', '고백하는 니가 보여', '떠오르는 그때모습', '내 살아나는 설레임', '한번에 참 잊기 힘든', '순간이란 걸', '또 한번 느껴지는 하루', '아직 나를 생각할지', '또 그녀도 나를 찾을지', '걷다보면 누가 말해줄 것 같아', '이 거리가 익숙했던', '우리 발걸음이 나란했던', '그리운 날들', '오늘밤 나를 찾아온다', '널 그리는 널 부르는 내 하루는', '애태워도 마주친', '추억이 반가워', '날 부르는 목소리에 돌아보면', '텅빈 거리 어느새', '수 많은 니 모습만 가득', '부풀은 내 가슴이', '밤 하늘에 외쳐본다', '이 거리는 널 기다린다고', '널 그리는 널 부르는 내 하루는', '애태워도 마주친', '추억이 반가워', '날 부르는 목소리에 돌아보며', '텅빈거리 어느새', '수 많은 니 모습만 가득해', ' ']\n"
          ]
        }
      ]
    },
    {
      "cell_type": "code",
      "source": [
        "df_allsongs['Emotion'] = Emotion\n",
        "df_allsongs['Proba'] = Probability\n",
        "df_allsongs['분노혐오'] = 분노혐오\n",
        "df_allsongs['놀람공포'] = 놀람공포\n",
        "df_allsongs['슬픔'] = 슬픔\n",
        "df_allsongs['행복'] = 행복"
      ],
      "metadata": {
        "id": "qMBNrBv-KO9u"
      },
      "execution_count": null,
      "outputs": []
    },
    {
      "cell_type": "code",
      "source": [
        "df_allsongs['Emotion'].value_counts()"
      ],
      "metadata": {
        "id": "0tHP3YDqKgpy"
      },
      "execution_count": null,
      "outputs": []
    },
    {
      "cell_type": "code",
      "source": [
        "df_allsongs"
      ],
      "metadata": {
        "id": "79dMUIMVhNro"
      },
      "execution_count": null,
      "outputs": []
    },
    {
      "cell_type": "code",
      "source": [
        "df_allsongs.to_csv('songtagged_may27.csv')"
      ],
      "metadata": {
        "id": "WUbaWH4IUtqx"
      },
      "execution_count": null,
      "outputs": []
    }
  ]
}