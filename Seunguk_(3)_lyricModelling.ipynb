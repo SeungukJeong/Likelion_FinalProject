{
  "nbformat": 4,
  "nbformat_minor": 0,
  "metadata": {
    "colab": {
      "name": "Seunguk_(3)_lyricModelling.ipynb",
      "provenance": [],
      "collapsed_sections": [],
      "mount_file_id": "1jCp4ul4t1aM0jmbl4X6kauP7yt8HBIu8",
      "authorship_tag": "ABX9TyP6OGxEdQEpJaWSSmsWasCj",
      "include_colab_link": true
    },
    "kernelspec": {
      "name": "python3",
      "display_name": "Python 3"
    },
    "language_info": {
      "name": "python"
    },
    "accelerator": "TPU"
  },
  "cells": [
    {
      "cell_type": "markdown",
      "metadata": {
        "id": "view-in-github",
        "colab_type": "text"
      },
      "source": [
        "<a href=\"https://colab.research.google.com/github/sihyeon3523/Six_of_cells/blob/modeling/Seunguk_(3)_lyricModelling.ipynb\" target=\"_parent\"><img src=\"https://colab.research.google.com/assets/colab-badge.svg\" alt=\"Open In Colab\"/></a>"
      ]
    },
    {
      "cell_type": "markdown",
      "source": [
        "<br>\n",
        "<br>\n",
        "\n",
        "# 0. Install & import libraries "
      ],
      "metadata": {
        "id": "gX_jZ07Dynfm"
      }
    },
    {
      "cell_type": "code",
      "source": [
        "from IPython.display import clear_output \n",
        "\n",
        "!pip install transformers==4.8.2\n",
        "!pip install sentencepiece==0.1.96\n",
        "!pip install tensorflow_addons\n",
        "\n",
        "clear_output()\n",
        "\n",
        "import sklearn\n",
        "import tensorflow\n",
        "import transformers\n",
        "import tensorflow_addons\n",
        "\n",
        "print(sklearn.__version__) # 1.0.2\n",
        "print(tensorflow.__version__) # 2.8.0\n",
        "print(transformers.__version__) # 4.8.2\n",
        "print(tensorflow_addons.__version__) # 0.16.1\n",
        "\n",
        "import sentencepiece\n",
        "\n",
        "import pandas as pd\n",
        "import numpy as np\n",
        "\n",
        "import os\n",
        "import re\n",
        "import pickle \n",
        "import dill # for saving a function as a file(.pkl)\n",
        "import logging # for changing the tf's logging level\n",
        "import urllib.request\n",
        "from tqdm import tqdm\n",
        "\n",
        "from sklearn import model_selection\n",
        "from sklearn.metrics import accuracy_score\n",
        "\n",
        "import tensorflow as tf\n",
        "import tensorflow_addons as tfa # for using Rectified-Adam optimizer (instead of Adam optimizer) \n",
        "from tensorflow.keras import layers, initializers, losses, optimizers, metrics, callbacks \n",
        "\n",
        "import transformers\n",
        "from transformers import TFBertModel # BertTokenizer 제외\n",
        "\n",
        "import sentencepiece as spm\n",
        "import ast  # str list to list"
      ],
      "metadata": {
        "id": "WYMLcxGyy6R4",
        "colab": {
          "base_uri": "https://localhost:8080/"
        },
        "outputId": "5a469a89-08c2-4a2e-fb88-887b9934b21c"
      },
      "execution_count": 1,
      "outputs": [
        {
          "output_type": "stream",
          "name": "stdout",
          "text": [
            "1.0.2\n",
            "2.8.0\n",
            "4.8.2\n",
            "0.17.0\n"
          ]
        }
      ]
    },
    {
      "cell_type": "code",
      "source": [
        "# Random seed 고정\n",
        "tf.random.set_seed(1234)\n",
        "np.random.seed(1234)\n",
        "\n",
        "# Transformers logging level 변경 (WARNING -> ERROR) @ https://huggingface.co/transformers/main_classes/logging.html\n",
        "transformers.logging.set_verbosity(transformers.logging.ERROR)\n",
        "\n",
        "# Tensorflow logging level 변경 \n",
        "tf.get_logger().setLevel(logging.ERROR)"
      ],
      "metadata": {
        "id": "ZP1nP5NXBT8W"
      },
      "execution_count": 2,
      "outputs": []
    },
    {
      "cell_type": "code",
      "source": [
        "#KoBERT 불러오기\n",
        "!git clone https://github.com/monologg/KoBERT-Transformers.git\n",
        "!mv KoBERT-Transformers/kobert_transformers/tokenization_kobert.py /content\n",
        "clear_output() # clear the output\n",
        "\n",
        "#토크나이저 생성\n",
        "from tokenization_kobert import KoBertTokenizer \n",
        "\n",
        "tokenizer = KoBertTokenizer.from_pretrained('monologg/kobert')"
      ],
      "metadata": {
        "id": "du0ZRI16BagI"
      },
      "execution_count": 3,
      "outputs": []
    },
    {
      "cell_type": "markdown",
      "source": [
        "# Import Google Drive "
      ],
      "metadata": {
        "id": "X6qL5EKSBowl"
      }
    },
    {
      "cell_type": "code",
      "source": [
        "from google.colab import drive\n",
        "drive.mount('/content/drive')"
      ],
      "metadata": {
        "colab": {
          "base_uri": "https://localhost:8080/"
        },
        "id": "pEPEnIFu94xb",
        "outputId": "beaf3024-4df0-466e-b031-eb61b10198eb"
      },
      "execution_count": 4,
      "outputs": [
        {
          "output_type": "stream",
          "name": "stdout",
          "text": [
            "Drive already mounted at /content/drive; to attempt to forcibly remount, call drive.mount(\"/content/drive\", force_remount=True).\n"
          ]
        }
      ]
    },
    {
      "cell_type": "code",
      "source": [
        "os.getcwd()"
      ],
      "metadata": {
        "colab": {
          "base_uri": "https://localhost:8080/",
          "height": 35
        },
        "id": "DFlih56_7FbR",
        "outputId": "67a0791b-931c-4d0c-f85b-e2fda6c6091c"
      },
      "execution_count": 5,
      "outputs": [
        {
          "output_type": "execute_result",
          "data": {
            "text/plain": [
              "'/content'"
            ],
            "application/vnd.google.colaboratory.intrinsic+json": {
              "type": "string"
            }
          },
          "metadata": {},
          "execution_count": 5
        }
      ]
    },
    {
      "cell_type": "code",
      "source": [
        "# 경로만 바꾸면 됨!\n",
        "path = '/content/drive/MyDrive/likelion/proj_fin_seunguk'# google drive project path\n",
        "data_path = 'colab_data/temp_data/' # model data path\n",
        "checkpoint_path = 'colab_data/temp_data/saved_models/' # saved model path\n",
        "\n",
        "os.chdir(path)"
      ],
      "metadata": {
        "id": "EaiTyc8n5Oev"
      },
      "execution_count": 6,
      "outputs": []
    },
    {
      "cell_type": "markdown",
      "source": [
        "# 1. Load the Data"
      ],
      "metadata": {
        "id": "35DqagFHBmlm"
      }
    },
    {
      "cell_type": "code",
      "source": [
        "df_allsongs_original = pd.read_csv('df_allsongs.csv', lineterminator='\\n')"
      ],
      "metadata": {
        "id": "tA1axB-LzH_N"
      },
      "execution_count": 7,
      "outputs": []
    },
    {
      "cell_type": "code",
      "source": [
        "df_allsongs_original.head(3)"
      ],
      "metadata": {
        "colab": {
          "base_uri": "https://localhost:8080/",
          "height": 413
        },
        "id": "dYC3vZoJzMyR",
        "outputId": "d8d1ce89-00ad-4dc0-e74a-8264448f739f"
      },
      "execution_count": 8,
      "outputs": [
        {
          "output_type": "execute_result",
          "data": {
            "text/plain": [
              "   Unnamed: 0      Title      Artist        Date       Genre  \\\n",
              "0           0     나의 X에게          경서  2022.04.24         발라드   \n",
              "1           1       취중고백  김민석 (멜로망스)  2021.12.19         발라드   \n",
              "2           2  사랑은 늘 도망가         임영웅  2021.10.11  발라드, 국내드라마   \n",
              "\n",
              "                                               Lyric  \\\n",
              "0  우리 다시 만날래예쁘게 빛나던모든 추억들이너무 그리워너의 품에 안길래이 밤이 새도록...   \n",
              "1  뭐하고 있었니 늦었지만잠시 나올래너의 집 골목에 있는놀이터에 앉아 있어친구들 만나서...   \n",
              "2  눈물이 난다 이 길을 걸으면그 사람 손길이 자꾸 생각이 난다붙잡지 못하고 가슴만 떨...   \n",
              "\n",
              "                                          Lyric_ver2  \\\n",
              "0  <div class=\"lyric\" id=\"d_video_summary\"><!-- h...   \n",
              "1  <div class=\"lyric\" id=\"d_video_summary\"><!-- h...   \n",
              "2  <div class=\"lyric\" id=\"d_video_summary\"><!-- h...   \n",
              "\n",
              "                               preprocess_Lyric_ver2  \\\n",
              "0  우리 다시 만날래 예쁘게 빛나던 모든 추억들이 너무 그리워 너의 품에 안길래 이 밤...   \n",
              "1  뭐하고 있었니 늦었지만 잠시 나올래 너의 집 골목에 있는 놀이터에 앉아 있어 친구들...   \n",
              "2  눈물이 난다 이 길을 걸으면 그 사람 손길이 자꾸 생각이 난다 붙잡지 못하고 가슴만...   \n",
              "\n",
              "                               preprocess_Lyric_ver3  \n",
              "0  ['우리 다시 만날래', '예쁘게 빛나던', '모든 추억들이', '너무 그리워', ...  \n",
              "1  ['뭐하고 있었니 늦었지만', '잠시 나올래', '너의 집 골목에 있는', '놀이터...  \n",
              "2  ['눈물이 난다 이 길을 걸으면', '그 사람 손길이 자꾸 생각이 난다', '붙잡지...  "
            ],
            "text/html": [
              "\n",
              "  <div id=\"df-0d2697c0-3b0f-4ff7-b843-eecb565835f8\">\n",
              "    <div class=\"colab-df-container\">\n",
              "      <div>\n",
              "<style scoped>\n",
              "    .dataframe tbody tr th:only-of-type {\n",
              "        vertical-align: middle;\n",
              "    }\n",
              "\n",
              "    .dataframe tbody tr th {\n",
              "        vertical-align: top;\n",
              "    }\n",
              "\n",
              "    .dataframe thead th {\n",
              "        text-align: right;\n",
              "    }\n",
              "</style>\n",
              "<table border=\"1\" class=\"dataframe\">\n",
              "  <thead>\n",
              "    <tr style=\"text-align: right;\">\n",
              "      <th></th>\n",
              "      <th>Unnamed: 0</th>\n",
              "      <th>Title</th>\n",
              "      <th>Artist</th>\n",
              "      <th>Date</th>\n",
              "      <th>Genre</th>\n",
              "      <th>Lyric</th>\n",
              "      <th>Lyric_ver2</th>\n",
              "      <th>preprocess_Lyric_ver2</th>\n",
              "      <th>preprocess_Lyric_ver3</th>\n",
              "    </tr>\n",
              "  </thead>\n",
              "  <tbody>\n",
              "    <tr>\n",
              "      <th>0</th>\n",
              "      <td>0</td>\n",
              "      <td>나의 X에게</td>\n",
              "      <td>경서</td>\n",
              "      <td>2022.04.24</td>\n",
              "      <td>발라드</td>\n",
              "      <td>우리 다시 만날래예쁘게 빛나던모든 추억들이너무 그리워너의 품에 안길래이 밤이 새도록...</td>\n",
              "      <td>&lt;div class=\"lyric\" id=\"d_video_summary\"&gt;&lt;!-- h...</td>\n",
              "      <td>우리 다시 만날래 예쁘게 빛나던 모든 추억들이 너무 그리워 너의 품에 안길래 이 밤...</td>\n",
              "      <td>['우리 다시 만날래', '예쁘게 빛나던', '모든 추억들이', '너무 그리워', ...</td>\n",
              "    </tr>\n",
              "    <tr>\n",
              "      <th>1</th>\n",
              "      <td>1</td>\n",
              "      <td>취중고백</td>\n",
              "      <td>김민석 (멜로망스)</td>\n",
              "      <td>2021.12.19</td>\n",
              "      <td>발라드</td>\n",
              "      <td>뭐하고 있었니 늦었지만잠시 나올래너의 집 골목에 있는놀이터에 앉아 있어친구들 만나서...</td>\n",
              "      <td>&lt;div class=\"lyric\" id=\"d_video_summary\"&gt;&lt;!-- h...</td>\n",
              "      <td>뭐하고 있었니 늦었지만 잠시 나올래 너의 집 골목에 있는 놀이터에 앉아 있어 친구들...</td>\n",
              "      <td>['뭐하고 있었니 늦었지만', '잠시 나올래', '너의 집 골목에 있는', '놀이터...</td>\n",
              "    </tr>\n",
              "    <tr>\n",
              "      <th>2</th>\n",
              "      <td>2</td>\n",
              "      <td>사랑은 늘 도망가</td>\n",
              "      <td>임영웅</td>\n",
              "      <td>2021.10.11</td>\n",
              "      <td>발라드, 국내드라마</td>\n",
              "      <td>눈물이 난다 이 길을 걸으면그 사람 손길이 자꾸 생각이 난다붙잡지 못하고 가슴만 떨...</td>\n",
              "      <td>&lt;div class=\"lyric\" id=\"d_video_summary\"&gt;&lt;!-- h...</td>\n",
              "      <td>눈물이 난다 이 길을 걸으면 그 사람 손길이 자꾸 생각이 난다 붙잡지 못하고 가슴만...</td>\n",
              "      <td>['눈물이 난다 이 길을 걸으면', '그 사람 손길이 자꾸 생각이 난다', '붙잡지...</td>\n",
              "    </tr>\n",
              "  </tbody>\n",
              "</table>\n",
              "</div>\n",
              "      <button class=\"colab-df-convert\" onclick=\"convertToInteractive('df-0d2697c0-3b0f-4ff7-b843-eecb565835f8')\"\n",
              "              title=\"Convert this dataframe to an interactive table.\"\n",
              "              style=\"display:none;\">\n",
              "        \n",
              "  <svg xmlns=\"http://www.w3.org/2000/svg\" height=\"24px\"viewBox=\"0 0 24 24\"\n",
              "       width=\"24px\">\n",
              "    <path d=\"M0 0h24v24H0V0z\" fill=\"none\"/>\n",
              "    <path d=\"M18.56 5.44l.94 2.06.94-2.06 2.06-.94-2.06-.94-.94-2.06-.94 2.06-2.06.94zm-11 1L8.5 8.5l.94-2.06 2.06-.94-2.06-.94L8.5 2.5l-.94 2.06-2.06.94zm10 10l.94 2.06.94-2.06 2.06-.94-2.06-.94-.94-2.06-.94 2.06-2.06.94z\"/><path d=\"M17.41 7.96l-1.37-1.37c-.4-.4-.92-.59-1.43-.59-.52 0-1.04.2-1.43.59L10.3 9.45l-7.72 7.72c-.78.78-.78 2.05 0 2.83L4 21.41c.39.39.9.59 1.41.59.51 0 1.02-.2 1.41-.59l7.78-7.78 2.81-2.81c.8-.78.8-2.07 0-2.86zM5.41 20L4 18.59l7.72-7.72 1.47 1.35L5.41 20z\"/>\n",
              "  </svg>\n",
              "      </button>\n",
              "      \n",
              "  <style>\n",
              "    .colab-df-container {\n",
              "      display:flex;\n",
              "      flex-wrap:wrap;\n",
              "      gap: 12px;\n",
              "    }\n",
              "\n",
              "    .colab-df-convert {\n",
              "      background-color: #E8F0FE;\n",
              "      border: none;\n",
              "      border-radius: 50%;\n",
              "      cursor: pointer;\n",
              "      display: none;\n",
              "      fill: #1967D2;\n",
              "      height: 32px;\n",
              "      padding: 0 0 0 0;\n",
              "      width: 32px;\n",
              "    }\n",
              "\n",
              "    .colab-df-convert:hover {\n",
              "      background-color: #E2EBFA;\n",
              "      box-shadow: 0px 1px 2px rgba(60, 64, 67, 0.3), 0px 1px 3px 1px rgba(60, 64, 67, 0.15);\n",
              "      fill: #174EA6;\n",
              "    }\n",
              "\n",
              "    [theme=dark] .colab-df-convert {\n",
              "      background-color: #3B4455;\n",
              "      fill: #D2E3FC;\n",
              "    }\n",
              "\n",
              "    [theme=dark] .colab-df-convert:hover {\n",
              "      background-color: #434B5C;\n",
              "      box-shadow: 0px 1px 3px 1px rgba(0, 0, 0, 0.15);\n",
              "      filter: drop-shadow(0px 1px 2px rgba(0, 0, 0, 0.3));\n",
              "      fill: #FFFFFF;\n",
              "    }\n",
              "  </style>\n",
              "\n",
              "      <script>\n",
              "        const buttonEl =\n",
              "          document.querySelector('#df-0d2697c0-3b0f-4ff7-b843-eecb565835f8 button.colab-df-convert');\n",
              "        buttonEl.style.display =\n",
              "          google.colab.kernel.accessAllowed ? 'block' : 'none';\n",
              "\n",
              "        async function convertToInteractive(key) {\n",
              "          const element = document.querySelector('#df-0d2697c0-3b0f-4ff7-b843-eecb565835f8');\n",
              "          const dataTable =\n",
              "            await google.colab.kernel.invokeFunction('convertToInteractive',\n",
              "                                                     [key], {});\n",
              "          if (!dataTable) return;\n",
              "\n",
              "          const docLinkHtml = 'Like what you see? Visit the ' +\n",
              "            '<a target=\"_blank\" href=https://colab.research.google.com/notebooks/data_table.ipynb>data table notebook</a>'\n",
              "            + ' to learn more about interactive tables.';\n",
              "          element.innerHTML = '';\n",
              "          dataTable['output_type'] = 'display_data';\n",
              "          await google.colab.output.renderOutput(dataTable, element);\n",
              "          const docLink = document.createElement('div');\n",
              "          docLink.innerHTML = docLinkHtml;\n",
              "          element.appendChild(docLink);\n",
              "        }\n",
              "      </script>\n",
              "    </div>\n",
              "  </div>\n",
              "  "
            ]
          },
          "metadata": {},
          "execution_count": 8
        }
      ]
    },
    {
      "cell_type": "code",
      "source": [
        "df_allsongs = df_allsongs_original[[\"Title\", \"Artist\", \"Date\", \"Genre\", \"preprocess_Lyric_ver3\"]]\n",
        "df_allsongs"
      ],
      "metadata": {
        "colab": {
          "base_uri": "https://localhost:8080/",
          "height": 424
        },
        "id": "vzWVzsGt0-hw",
        "outputId": "fe99f0d0-25be-4c9d-afa2-5cc49ca0277c"
      },
      "execution_count": 9,
      "outputs": [
        {
          "output_type": "execute_result",
          "data": {
            "text/plain": [
              "              Title         Artist        Date       Genre  \\\n",
              "0            나의 X에게             경서  2022.04.24         발라드   \n",
              "1              취중고백     김민석 (멜로망스)  2021.12.19         발라드   \n",
              "2         사랑은 늘 도망가            임영웅  2021.10.11  발라드, 국내드라마   \n",
              "3            듣고 싶을까  MSG워너비(M.O.M)  2022.02.26         발라드   \n",
              "4     다정히 내 이름을 부르면           경서예지  2021.05.19         발라드   \n",
              "...             ...            ...         ...         ...   \n",
              "3604             애수            진시몬  2004.10.01    성인가요/트로트   \n",
              "3605     단장의 미아리 고개            송가인  2020.12.26    성인가요/트로트   \n",
              "3606      어머님 사랑합니다            송가인  2021.05.27    성인가요/트로트   \n",
              "3607         영동 부르스            송가인  2021.06.13    성인가요/트로트   \n",
              "3608      일소일소 일노일노            임영웅  2020.04.17    성인가요/트로트   \n",
              "\n",
              "                                  preprocess_Lyric_ver3  \n",
              "0     ['우리 다시 만날래', '예쁘게 빛나던', '모든 추억들이', '너무 그리워', ...  \n",
              "1     ['뭐하고 있었니 늦었지만', '잠시 나올래', '너의 집 골목에 있는', '놀이터...  \n",
              "2     ['눈물이 난다 이 길을 걸으면', '그 사람 손길이 자꾸 생각이 난다', '붙잡지...  \n",
              "3     ['우리 함께 듣던 그 노랠 듣고 싶을까', '듣고 나서 잠시 날 생각은 할까', ...  \n",
              "4     ['끝없이 별빛이 내리던 밤', '기분 좋은 바람이', '두 빰을 스치고', '새벽...  \n",
              "...                                                 ...  \n",
              "3604  ['아직도 모르겠어 난 정말 ', '', '꿈이라 생각해야 하는지 ', '', '너...  \n",
              "3605  ['미아리 눈물고개', '임이 넘던 이별 고개', '화약 연기 앞을 가려', '눈 ...  \n",
              "3606  ['꽃다운 열아홉에', '연지 찍고 시집와서', '손발이 터지도록', '고생하신 어...  \n",
              "3607  ['헤어지기 싫어서 애태우던 그 날 밤', '피눈물에 얼룩진 그대의 모습', '어차...  \n",
              "3608  ['세상사 스무고개 길', '좋은 날만 있을까', '이왕이라면 웃으며 살자', '말...  \n",
              "\n",
              "[3609 rows x 5 columns]"
            ],
            "text/html": [
              "\n",
              "  <div id=\"df-aaab5d78-b413-4c90-8626-d65247c3c308\">\n",
              "    <div class=\"colab-df-container\">\n",
              "      <div>\n",
              "<style scoped>\n",
              "    .dataframe tbody tr th:only-of-type {\n",
              "        vertical-align: middle;\n",
              "    }\n",
              "\n",
              "    .dataframe tbody tr th {\n",
              "        vertical-align: top;\n",
              "    }\n",
              "\n",
              "    .dataframe thead th {\n",
              "        text-align: right;\n",
              "    }\n",
              "</style>\n",
              "<table border=\"1\" class=\"dataframe\">\n",
              "  <thead>\n",
              "    <tr style=\"text-align: right;\">\n",
              "      <th></th>\n",
              "      <th>Title</th>\n",
              "      <th>Artist</th>\n",
              "      <th>Date</th>\n",
              "      <th>Genre</th>\n",
              "      <th>preprocess_Lyric_ver3</th>\n",
              "    </tr>\n",
              "  </thead>\n",
              "  <tbody>\n",
              "    <tr>\n",
              "      <th>0</th>\n",
              "      <td>나의 X에게</td>\n",
              "      <td>경서</td>\n",
              "      <td>2022.04.24</td>\n",
              "      <td>발라드</td>\n",
              "      <td>['우리 다시 만날래', '예쁘게 빛나던', '모든 추억들이', '너무 그리워', ...</td>\n",
              "    </tr>\n",
              "    <tr>\n",
              "      <th>1</th>\n",
              "      <td>취중고백</td>\n",
              "      <td>김민석 (멜로망스)</td>\n",
              "      <td>2021.12.19</td>\n",
              "      <td>발라드</td>\n",
              "      <td>['뭐하고 있었니 늦었지만', '잠시 나올래', '너의 집 골목에 있는', '놀이터...</td>\n",
              "    </tr>\n",
              "    <tr>\n",
              "      <th>2</th>\n",
              "      <td>사랑은 늘 도망가</td>\n",
              "      <td>임영웅</td>\n",
              "      <td>2021.10.11</td>\n",
              "      <td>발라드, 국내드라마</td>\n",
              "      <td>['눈물이 난다 이 길을 걸으면', '그 사람 손길이 자꾸 생각이 난다', '붙잡지...</td>\n",
              "    </tr>\n",
              "    <tr>\n",
              "      <th>3</th>\n",
              "      <td>듣고 싶을까</td>\n",
              "      <td>MSG워너비(M.O.M)</td>\n",
              "      <td>2022.02.26</td>\n",
              "      <td>발라드</td>\n",
              "      <td>['우리 함께 듣던 그 노랠 듣고 싶을까', '듣고 나서 잠시 날 생각은 할까', ...</td>\n",
              "    </tr>\n",
              "    <tr>\n",
              "      <th>4</th>\n",
              "      <td>다정히 내 이름을 부르면</td>\n",
              "      <td>경서예지</td>\n",
              "      <td>2021.05.19</td>\n",
              "      <td>발라드</td>\n",
              "      <td>['끝없이 별빛이 내리던 밤', '기분 좋은 바람이', '두 빰을 스치고', '새벽...</td>\n",
              "    </tr>\n",
              "    <tr>\n",
              "      <th>...</th>\n",
              "      <td>...</td>\n",
              "      <td>...</td>\n",
              "      <td>...</td>\n",
              "      <td>...</td>\n",
              "      <td>...</td>\n",
              "    </tr>\n",
              "    <tr>\n",
              "      <th>3604</th>\n",
              "      <td>애수</td>\n",
              "      <td>진시몬</td>\n",
              "      <td>2004.10.01</td>\n",
              "      <td>성인가요/트로트</td>\n",
              "      <td>['아직도 모르겠어 난 정말 ', '', '꿈이라 생각해야 하는지 ', '', '너...</td>\n",
              "    </tr>\n",
              "    <tr>\n",
              "      <th>3605</th>\n",
              "      <td>단장의 미아리 고개</td>\n",
              "      <td>송가인</td>\n",
              "      <td>2020.12.26</td>\n",
              "      <td>성인가요/트로트</td>\n",
              "      <td>['미아리 눈물고개', '임이 넘던 이별 고개', '화약 연기 앞을 가려', '눈 ...</td>\n",
              "    </tr>\n",
              "    <tr>\n",
              "      <th>3606</th>\n",
              "      <td>어머님 사랑합니다</td>\n",
              "      <td>송가인</td>\n",
              "      <td>2021.05.27</td>\n",
              "      <td>성인가요/트로트</td>\n",
              "      <td>['꽃다운 열아홉에', '연지 찍고 시집와서', '손발이 터지도록', '고생하신 어...</td>\n",
              "    </tr>\n",
              "    <tr>\n",
              "      <th>3607</th>\n",
              "      <td>영동 부르스</td>\n",
              "      <td>송가인</td>\n",
              "      <td>2021.06.13</td>\n",
              "      <td>성인가요/트로트</td>\n",
              "      <td>['헤어지기 싫어서 애태우던 그 날 밤', '피눈물에 얼룩진 그대의 모습', '어차...</td>\n",
              "    </tr>\n",
              "    <tr>\n",
              "      <th>3608</th>\n",
              "      <td>일소일소 일노일노</td>\n",
              "      <td>임영웅</td>\n",
              "      <td>2020.04.17</td>\n",
              "      <td>성인가요/트로트</td>\n",
              "      <td>['세상사 스무고개 길', '좋은 날만 있을까', '이왕이라면 웃으며 살자', '말...</td>\n",
              "    </tr>\n",
              "  </tbody>\n",
              "</table>\n",
              "<p>3609 rows × 5 columns</p>\n",
              "</div>\n",
              "      <button class=\"colab-df-convert\" onclick=\"convertToInteractive('df-aaab5d78-b413-4c90-8626-d65247c3c308')\"\n",
              "              title=\"Convert this dataframe to an interactive table.\"\n",
              "              style=\"display:none;\">\n",
              "        \n",
              "  <svg xmlns=\"http://www.w3.org/2000/svg\" height=\"24px\"viewBox=\"0 0 24 24\"\n",
              "       width=\"24px\">\n",
              "    <path d=\"M0 0h24v24H0V0z\" fill=\"none\"/>\n",
              "    <path d=\"M18.56 5.44l.94 2.06.94-2.06 2.06-.94-2.06-.94-.94-2.06-.94 2.06-2.06.94zm-11 1L8.5 8.5l.94-2.06 2.06-.94-2.06-.94L8.5 2.5l-.94 2.06-2.06.94zm10 10l.94 2.06.94-2.06 2.06-.94-2.06-.94-.94-2.06-.94 2.06-2.06.94z\"/><path d=\"M17.41 7.96l-1.37-1.37c-.4-.4-.92-.59-1.43-.59-.52 0-1.04.2-1.43.59L10.3 9.45l-7.72 7.72c-.78.78-.78 2.05 0 2.83L4 21.41c.39.39.9.59 1.41.59.51 0 1.02-.2 1.41-.59l7.78-7.78 2.81-2.81c.8-.78.8-2.07 0-2.86zM5.41 20L4 18.59l7.72-7.72 1.47 1.35L5.41 20z\"/>\n",
              "  </svg>\n",
              "      </button>\n",
              "      \n",
              "  <style>\n",
              "    .colab-df-container {\n",
              "      display:flex;\n",
              "      flex-wrap:wrap;\n",
              "      gap: 12px;\n",
              "    }\n",
              "\n",
              "    .colab-df-convert {\n",
              "      background-color: #E8F0FE;\n",
              "      border: none;\n",
              "      border-radius: 50%;\n",
              "      cursor: pointer;\n",
              "      display: none;\n",
              "      fill: #1967D2;\n",
              "      height: 32px;\n",
              "      padding: 0 0 0 0;\n",
              "      width: 32px;\n",
              "    }\n",
              "\n",
              "    .colab-df-convert:hover {\n",
              "      background-color: #E2EBFA;\n",
              "      box-shadow: 0px 1px 2px rgba(60, 64, 67, 0.3), 0px 1px 3px 1px rgba(60, 64, 67, 0.15);\n",
              "      fill: #174EA6;\n",
              "    }\n",
              "\n",
              "    [theme=dark] .colab-df-convert {\n",
              "      background-color: #3B4455;\n",
              "      fill: #D2E3FC;\n",
              "    }\n",
              "\n",
              "    [theme=dark] .colab-df-convert:hover {\n",
              "      background-color: #434B5C;\n",
              "      box-shadow: 0px 1px 3px 1px rgba(0, 0, 0, 0.15);\n",
              "      filter: drop-shadow(0px 1px 2px rgba(0, 0, 0, 0.3));\n",
              "      fill: #FFFFFF;\n",
              "    }\n",
              "  </style>\n",
              "\n",
              "      <script>\n",
              "        const buttonEl =\n",
              "          document.querySelector('#df-aaab5d78-b413-4c90-8626-d65247c3c308 button.colab-df-convert');\n",
              "        buttonEl.style.display =\n",
              "          google.colab.kernel.accessAllowed ? 'block' : 'none';\n",
              "\n",
              "        async function convertToInteractive(key) {\n",
              "          const element = document.querySelector('#df-aaab5d78-b413-4c90-8626-d65247c3c308');\n",
              "          const dataTable =\n",
              "            await google.colab.kernel.invokeFunction('convertToInteractive',\n",
              "                                                     [key], {});\n",
              "          if (!dataTable) return;\n",
              "\n",
              "          const docLinkHtml = 'Like what you see? Visit the ' +\n",
              "            '<a target=\"_blank\" href=https://colab.research.google.com/notebooks/data_table.ipynb>data table notebook</a>'\n",
              "            + ' to learn more about interactive tables.';\n",
              "          element.innerHTML = '';\n",
              "          dataTable['output_type'] = 'display_data';\n",
              "          await google.colab.output.renderOutput(dataTable, element);\n",
              "          const docLink = document.createElement('div');\n",
              "          docLink.innerHTML = docLinkHtml;\n",
              "          element.appendChild(docLink);\n",
              "        }\n",
              "      </script>\n",
              "    </div>\n",
              "  </div>\n",
              "  "
            ]
          },
          "metadata": {},
          "execution_count": 9
        }
      ]
    },
    {
      "cell_type": "code",
      "source": [
        "print(df_allsongs.info())\n",
        "print(df_allsongs.describe())"
      ],
      "metadata": {
        "colab": {
          "base_uri": "https://localhost:8080/"
        },
        "id": "VcmkX5k9Hjgw",
        "outputId": "6c3c48ef-d088-434f-8479-596003beb73f"
      },
      "execution_count": 10,
      "outputs": [
        {
          "output_type": "stream",
          "name": "stdout",
          "text": [
            "<class 'pandas.core.frame.DataFrame'>\n",
            "RangeIndex: 3609 entries, 0 to 3608\n",
            "Data columns (total 5 columns):\n",
            " #   Column                 Non-Null Count  Dtype \n",
            "---  ------                 --------------  ----- \n",
            " 0   Title                  3609 non-null   object\n",
            " 1   Artist                 3609 non-null   object\n",
            " 2   Date                   3609 non-null   object\n",
            " 3   Genre                  3609 non-null   object\n",
            " 4   preprocess_Lyric_ver3  3609 non-null   object\n",
            "dtypes: object(5)\n",
            "memory usage: 141.1+ KB\n",
            "None\n",
            "       Title Artist        Date Genre  \\\n",
            "count   3609   3609        3609  3609   \n",
            "unique  3358    947        2042    41   \n",
            "top       고백    임영웅  2022.05.20    댄스   \n",
            "freq      10     90          19   486   \n",
            "\n",
            "                                    preprocess_Lyric_ver3  \n",
            "count                                                3609  \n",
            "unique                                               3609  \n",
            "top     ['우리 다시 만날래', '예쁘게 빛나던', '모든 추억들이', '너무 그리워', ...  \n",
            "freq                                                    1  \n"
          ]
        }
      ]
    },
    {
      "cell_type": "code",
      "source": [
        "df_allsongs.preprocess_Lyric_ver3.iloc[12]"
      ],
      "metadata": {
        "colab": {
          "base_uri": "https://localhost:8080/",
          "height": 139
        },
        "id": "CIv6nQUhhFwG",
        "outputId": "ca47ee9a-8860-418f-fa95-b4412e996981"
      },
      "execution_count": 11,
      "outputs": [
        {
          "output_type": "execute_result",
          "data": {
            "text/plain": [
              "\"['느낌이 오잖아 ', '떨리고 있잖아', '언제까지 눈치만 볼 거니', '네 맘을 말해봐 ', '딴청 피우지 말란 말이야', '네 맘 가는 그대로 ', '지금 내 손을 잡아', '어서 내 손을 잡아', '우연히 고개를 돌릴 때 마다', '눈이 마주치는 건', '며칠 밤 내내 꿈속에 나타나', '밤새 나를 괴롭히는 건', '그 많은 빈자리 중에서 하필', '내 옆자릴 고르는 건', '나도 모르게 어느새 실없는 웃음', '흘리고 있다는 건', '그럼 말 다했지 뭐', '우리 얘기 좀 할까', '느낌이 오잖아 떨리고 있잖아', '언제까지 눈치만 볼 거니', '네 맘을 말해봐 ', '딴청 피우지 말란 말이야', '네 맘 가는 그대로 ', '지금 내 손을 잡아', '핸드폰 진동에 ', '심장이 덜컥내려 앉는다는 건', '오 나도 모르게 ', '어느새 짓궂은 네 말투', '자꾸 듣고 싶은걸', '어떡해', '저기 멀리 걸어온다', '눈이 마주친다', '언제까지 넌 모른척 할거니', '사랑이 온거야 너와 나 말이야', '네가 좋아 정말 못 견딜 만큼', '그거면 된거야 ', '더는 생각하지 말란 말이야', '네 맘 가는 그대로', '느낌이 오잖아 떨리고 있잖아', '언제까지 눈치만 볼 거니', '네 맘을 말해봐 ', '딴청 피우지 말란 말이야', '네 맘 가는 그대로 ', '지금 내 손을 잡아', '그냥 내 손을 잡아', '지금 내 손을 잡아', ' ', '']\""
            ],
            "application/vnd.google.colaboratory.intrinsic+json": {
              "type": "string"
            }
          },
          "metadata": {},
          "execution_count": 11
        }
      ]
    },
    {
      "cell_type": "markdown",
      "source": [
        "Load saved Model\n"
      ],
      "metadata": {
        "id": "5AH_bjFE_DlY"
      }
    },
    {
      "cell_type": "code",
      "source": [
        "# 1) Load the Model-builder (function)\n",
        "with open(data_path + 'model_BERTfunction_v1.pkl', 'rb') as f:\n",
        "    create_model = dill.loads(pickle.load(f)) # use dill to pickle a python function\n",
        "\n",
        "# 2) Load the Bert-tokenizer \n",
        "with open(data_path + 'tokenizer-bert.pkl', 'rb') as f:\n",
        "    tokenizer = pickle.load(f) \n",
        "\n",
        "\n",
        "# 3) Create the model & load the Model-weights (from checkpoint file)\n",
        "resolver = tf.distribute.cluster_resolver.TPUClusterResolver(tpu='grpc://' + os.environ['COLAB_TPU_ADDR'])\n",
        "tf.config.experimental_connect_to_cluster(resolver)\n",
        "tf.tpu.experimental.initialize_tpu_system(resolver)\n",
        "strategy = tf.distribute.TPUStrategy(resolver) # Obsolete : tf.distribute.experimental.TPUStrategy()\n",
        "\n",
        "with strategy.scope(): \n",
        "    model = create_model(max_length=300) \n",
        "\n",
        "model.load_weights(filepath=checkpoint_path + 'best_bert_weights.h5')"
      ],
      "metadata": {
        "id": "IqkTwemez5n3",
        "colab": {
          "base_uri": "https://localhost:8080/"
        },
        "outputId": "67feb96e-2e3f-4c1b-e6cf-e213948353b5"
      },
      "execution_count": 12,
      "outputs": [
        {
          "output_type": "stream",
          "name": "stderr",
          "text": [
            "INFO:absl:Entering into master device scope: /job:worker/replica:0/task:0/device:CPU:0\n"
          ]
        }
      ]
    },
    {
      "cell_type": "markdown",
      "source": [
        "# Classifier as a function"
      ],
      "metadata": {
        "id": "yYz-CbvMAJ1Z"
      }
    },
    {
      "cell_type": "code",
      "source": [
        "def predict_sentiment(sentence, tokenizer, model):\n",
        "    \"\"\"\n",
        "    가사 내 문장 별 확률 값 추출\n",
        "    \"\"\"    \n",
        "    SEQ_LEN = 300 \n",
        "\n",
        "    # Tokenizing / Tokens to sequence numbers / Padding\n",
        "    encoded_dict = tokenizer.encode_plus(text=re.sub(\"[^\\s0-9a-zA-Zㄱ-ㅎㅏ-ㅣ가-힣]\", \"\", sentence), # 특수문자 제거\n",
        "                                         padding='max_length', \n",
        "                                         truncation = True,\n",
        "                                         max_length=SEQ_LEN) \n",
        "    \n",
        "    token_ids = np.array(encoded_dict['input_ids']).reshape(1, -1) \n",
        "    token_masks = np.array(encoded_dict['attention_mask']).reshape(1, -1)\n",
        "    token_segments = np.array(encoded_dict['token_type_ids']).reshape(1, -1)\n",
        "    \n",
        "    new_inputs = (token_ids, token_masks, token_segments)\n",
        "\n",
        "    # Prediction\n",
        "    pred = model.predict(new_inputs) \n",
        "    all_pred_proba = np.round(pred * 100, 2)\n",
        "    \n",
        "    #top_pred_proba = np.round(np.max(pred) * 100, 2) \n",
        "    #pred_class = ['분노혐오','놀람공포','슬픔','행복'][np.argmax(pred, axis=1)[0]] # 수정하면 4개 클래스 다 나올듯! \n",
        "    #print(\"{}% 확률로 {} 텍스트입니다.\".format(top_pred_proba, pred_class))\n",
        "\n",
        "    return all_pred_proba "
      ],
      "metadata": {
        "id": "rldmfWAZAHK3"
      },
      "execution_count": 13,
      "outputs": []
    },
    {
      "cell_type": "code",
      "source": [
        "# def total_sentiment(lyrics):\n"
      ],
      "metadata": {
        "id": "cL2_C50bU7_h"
      },
      "execution_count": 14,
      "outputs": []
    },
    {
      "cell_type": "markdown",
      "source": [
        "#### TEST temporary"
      ],
      "metadata": {
        "id": "gfhNeSNP2hYT"
      }
    },
    {
      "cell_type": "markdown",
      "source": [
        "preprocess_Lyric_ver3에 적용 <br> \n",
        "\n",
        "list가 str 형태로 row에 저장되었기 때문에 ast library로 다시 list로 바꿔주어야한다.<br>\n",
        "(str list to list)"
      ],
      "metadata": {
        "id": "rWzyg_PK-Mbb"
      }
    },
    {
      "cell_type": "code",
      "source": [
        "temp_list = df_allsongs.preprocess_Lyric_ver3.iloc[0]\n",
        "print(type(temp_list))\n",
        "temp_list"
      ],
      "metadata": {
        "colab": {
          "base_uri": "https://localhost:8080/",
          "height": 139
        },
        "id": "CrHuHg912f6T",
        "outputId": "0ef92897-5fef-4fe3-f85f-ce54e5ccaa33"
      },
      "execution_count": 15,
      "outputs": [
        {
          "output_type": "stream",
          "name": "stdout",
          "text": [
            "<class 'str'>\n"
          ]
        },
        {
          "output_type": "execute_result",
          "data": {
            "text/plain": [
              "\"['우리 다시 만날래', '예쁘게 빛나던', '모든 추억들이', '너무 그리워', '너의 품에 안길래', '이 밤이 새도록', '네게 말할 거야', '너를 좋아한다고', '안녕 그대야', '요즘 어떻게 지내', '가로수길 걷다가', '생각이 나서', '행복해 보이는 사람들 속에', '우리 둘만 없어서', '어색했었어', '늘 집에 갈 땐', '항상 뒤돌아보면', '날 보며 웃어주던', '네가 생각났어', '우리 다시 만날래', '예쁘게 빛나던', '모든 추억들이', '너무 그리워', '너의 품에 안길래', '이 밤이 새도록', '네게 말할 거야', '너를 좋아한다고', '토요일마다 가던', '한강공원에', '이어폰 하나씩', '나눠끼고서', '벚꽃엔딩같이 듣고 있으면', '부러울 게 없었어', '너만 있으면', '널 사랑할 때', '내가 너무 그리워', '날 보며 웃어주던', '네가 보고 싶어', '우리 다시 만날래', '예쁘게 빛나던', '모든 추억들이', '너무 그리워', '너의 품에 안길래', '이 밤이 새도록', '네게 말할 거야', '너를 좋아한다고', '같이 별 보러 갈래', '널 다시 만나면', '네 옆에 기대서', '잠들고 싶어', '너의 품에 안길래', '이 밤이 새도록', '내 곁에 있어줘', '내겐 너뿐이라고', '']\""
            ],
            "application/vnd.google.colaboratory.intrinsic+json": {
              "type": "string"
            }
          },
          "metadata": {},
          "execution_count": 15
        }
      ]
    },
    {
      "cell_type": "code",
      "source": [
        "import ast  \n",
        "\n",
        "temp_list_2 = ast.literal_eval(temp_list) \n",
        "print(type(temp_list_2)) \n",
        "print(temp_list_2)\n",
        "\n",
        "## str list to list\n",
        "## sentence = ast.literal_eval(sentence)"
      ],
      "metadata": {
        "colab": {
          "base_uri": "https://localhost:8080/"
        },
        "id": "owQngh5w9dYf",
        "outputId": "dad8ac42-ce4d-49a1-97ec-e407f2a9bf6d"
      },
      "execution_count": 16,
      "outputs": [
        {
          "output_type": "stream",
          "name": "stdout",
          "text": [
            "<class 'list'>\n",
            "['우리 다시 만날래', '예쁘게 빛나던', '모든 추억들이', '너무 그리워', '너의 품에 안길래', '이 밤이 새도록', '네게 말할 거야', '너를 좋아한다고', '안녕 그대야', '요즘 어떻게 지내', '가로수길 걷다가', '생각이 나서', '행복해 보이는 사람들 속에', '우리 둘만 없어서', '어색했었어', '늘 집에 갈 땐', '항상 뒤돌아보면', '날 보며 웃어주던', '네가 생각났어', '우리 다시 만날래', '예쁘게 빛나던', '모든 추억들이', '너무 그리워', '너의 품에 안길래', '이 밤이 새도록', '네게 말할 거야', '너를 좋아한다고', '토요일마다 가던', '한강공원에', '이어폰 하나씩', '나눠끼고서', '벚꽃엔딩같이 듣고 있으면', '부러울 게 없었어', '너만 있으면', '널 사랑할 때', '내가 너무 그리워', '날 보며 웃어주던', '네가 보고 싶어', '우리 다시 만날래', '예쁘게 빛나던', '모든 추억들이', '너무 그리워', '너의 품에 안길래', '이 밤이 새도록', '네게 말할 거야', '너를 좋아한다고', '같이 별 보러 갈래', '널 다시 만나면', '네 옆에 기대서', '잠들고 싶어', '너의 품에 안길래', '이 밤이 새도록', '내 곁에 있어줘', '내겐 너뿐이라고', '']\n"
          ]
        }
      ]
    },
    {
      "cell_type": "code",
      "source": [
        "print(len(temp_list_2))\n",
        "print(temp_list_2[1])\n",
        "all_pred_proba = predict_sentiment(temp_list_2[1], tokenizer, model)\n",
        "print()\n",
        "print(all_pred_proba)"
      ],
      "metadata": {
        "colab": {
          "base_uri": "https://localhost:8080/"
        },
        "id": "uo8rAk4u-Bz9",
        "outputId": "f52287d6-4116-4f01-b50f-4d0d3d6497fd"
      },
      "execution_count": 17,
      "outputs": [
        {
          "output_type": "stream",
          "name": "stdout",
          "text": [
            "55\n",
            "예쁘게 빛나던\n"
          ]
        },
        {
          "output_type": "stream",
          "name": "stderr",
          "text": [
            "INFO:absl:TPU has inputs with dynamic shapes: [<tf.Tensor 'Const:0' shape=() dtype=int32>, <tf.Tensor 'cond/Identity:0' shape=(None, 300) dtype=int64>, <tf.Tensor 'cond/Identity_8:0' shape=(None, 300) dtype=int64>, <tf.Tensor 'cond/Identity_16:0' shape=(None, 300) dtype=int64>]\n"
          ]
        },
        {
          "output_type": "stream",
          "name": "stdout",
          "text": [
            "\n",
            "[[ 0.4   0.37  0.5  98.72]]\n"
          ]
        }
      ]
    },
    {
      "cell_type": "code",
      "source": [
        "anger = all_pred_proba[0][0]\n",
        "scary = all_pred_proba[0][1]\n",
        "sad = all_pred_proba[0][2]\n",
        "happy = all_pred_proba[0][3]\n",
        "\n",
        "total = np.ndarray.round( (np.array([(anger, scary, sad, happy)]) / (anger + scary + sad + happy)), 2)\n",
        "\n",
        "top_pred_prob = total[0][np.argmax(total, axis=1)[0]]"
      ],
      "metadata": {
        "id": "Bqj7_ThWMwKy"
      },
      "execution_count": 28,
      "outputs": []
    },
    {
      "cell_type": "code",
      "source": [
        "print(total)\n",
        "print(top_pred_prob)  "
      ],
      "metadata": {
        "colab": {
          "base_uri": "https://localhost:8080/"
        },
        "id": "GPyd2l0czmEp",
        "outputId": "ebf2cd32-74be-4083-f660-3a9eef557b39"
      },
      "execution_count": 29,
      "outputs": [
        {
          "output_type": "stream",
          "name": "stdout",
          "text": [
            "[[0.   0.   0.01 0.99]]\n",
            "0.99\n"
          ]
        }
      ]
    },
    {
      "cell_type": "code",
      "source": [
        "temp_list_2 = df_allsongs.preprocess_Lyric_ver3.iloc[12]\n",
        "temp_list_2 = ast.literal_eval(temp_list_2) \n",
        "print(len(temp_list_2))\n",
        "print(temp_list_2[-1])\n",
        "print(temp_list_2)"
      ],
      "metadata": {
        "colab": {
          "base_uri": "https://localhost:8080/"
        },
        "id": "3SbVMCv1_vg5",
        "outputId": "8e3f616c-3fd2-4b33-d9da-7adbb8ae1b91"
      },
      "execution_count": 30,
      "outputs": [
        {
          "output_type": "stream",
          "name": "stdout",
          "text": [
            "48\n",
            "\n",
            "['느낌이 오잖아 ', '떨리고 있잖아', '언제까지 눈치만 볼 거니', '네 맘을 말해봐 ', '딴청 피우지 말란 말이야', '네 맘 가는 그대로 ', '지금 내 손을 잡아', '어서 내 손을 잡아', '우연히 고개를 돌릴 때 마다', '눈이 마주치는 건', '며칠 밤 내내 꿈속에 나타나', '밤새 나를 괴롭히는 건', '그 많은 빈자리 중에서 하필', '내 옆자릴 고르는 건', '나도 모르게 어느새 실없는 웃음', '흘리고 있다는 건', '그럼 말 다했지 뭐', '우리 얘기 좀 할까', '느낌이 오잖아 떨리고 있잖아', '언제까지 눈치만 볼 거니', '네 맘을 말해봐 ', '딴청 피우지 말란 말이야', '네 맘 가는 그대로 ', '지금 내 손을 잡아', '핸드폰 진동에 ', '심장이 덜컥내려 앉는다는 건', '오 나도 모르게 ', '어느새 짓궂은 네 말투', '자꾸 듣고 싶은걸', '어떡해', '저기 멀리 걸어온다', '눈이 마주친다', '언제까지 넌 모른척 할거니', '사랑이 온거야 너와 나 말이야', '네가 좋아 정말 못 견딜 만큼', '그거면 된거야 ', '더는 생각하지 말란 말이야', '네 맘 가는 그대로', '느낌이 오잖아 떨리고 있잖아', '언제까지 눈치만 볼 거니', '네 맘을 말해봐 ', '딴청 피우지 말란 말이야', '네 맘 가는 그대로 ', '지금 내 손을 잡아', '그냥 내 손을 잡아', '지금 내 손을 잡아', ' ', '']\n"
          ]
        }
      ]
    },
    {
      "cell_type": "code",
      "source": [
        "# 마지막 원소 '' 빈칸임. <br/> 태그 기준으로 split해서 나옴, 빈칸인 element 제거\n",
        "# 가사내 문장 단위로 predict_sentiment 함수 적용 \n",
        "# 앞으로 temp_list_2 자리에 row 넣으면 됨\n",
        "\n",
        "print(len(temp_list_2)) \n",
        "for i in range(len(temp_list_2)):\n",
        "    \n",
        "    # 빈칸 제거\n",
        "    if temp_list_2[i] == '':\n",
        "        del temp_list_2[i]  \n",
        "\n",
        "    elif temp_list_2[i] != '':\n",
        "        all_pred_proba = predict_sentiment(temp_list_2[i], tokenizer, model)\n",
        "        anger = all_pred_proba[0][0]\n",
        "        scary = all_pred_proba[0][1]\n",
        "        sad = all_pred_proba[0][2]\n",
        "        happy = all_pred_proba[0][3]\n",
        "        #print(i, temp_list_2[i], all_pred_proba) \n",
        "\n",
        "    anger += anger \n",
        "    scary += scary\n",
        "    sad  += sad\n",
        "    happy += happy\n",
        "\n",
        "total = np.ndarray.round( (np.array([(anger, scary, sad, happy)]) / (anger + scary + sad + happy)), 2)\n",
        "top_pred_prob = total[0][np.argmax(total, axis=1)[0]]\n",
        "top_pred_class = ['분노혐오','놀람공포','슬픔','행복'][np.argmax(total, axis=1)[0]]\n",
        "\n",
        "print(total)\n",
        "print(top_pred_class) \n",
        "print(top_pred_prob)\n",
        "print(len(temp_list_2))"
      ],
      "metadata": {
        "colab": {
          "base_uri": "https://localhost:8080/"
        },
        "id": "VQqjq3ZZShwp",
        "outputId": "4381c62a-aa55-4894-daa2-6e51feadb452"
      },
      "execution_count": 33,
      "outputs": [
        {
          "output_type": "stream",
          "name": "stdout",
          "text": [
            "47\n",
            "[[0.04 0.91 0.05 0.  ]]\n",
            "놀람공포\n",
            "0.91\n",
            "47\n"
          ]
        }
      ]
    },
    {
      "cell_type": "markdown",
      "source": [
        "# Apply model"
      ],
      "metadata": {
        "id": "-MrmcLPG2od2"
      }
    },
    {
      "cell_type": "code",
      "source": [
        "# Emotion = []\n",
        "# Probability = []\n",
        "# 분노혐오 = []\n",
        "# 놀람공포 = []\n",
        "# 슬픔 = []\n",
        "# 행복 = []\n",
        "\n",
        "\n",
        "# for row in tqdm(df_allsongs.iterrows()):\n",
        "\n",
        "#         pred_class, top_pred_proba, all_pred_proba = predict_sentiment(row[1][-1], tokenizer, model)\n",
        "#         #break\n",
        "#         Emotion.append(pred_class)\n",
        "#         Probability.append(top_pred_proba)\n",
        "#         분노혐오.append(all_pred_proba[0][0])\n",
        "#         놀람공포.append(all_pred_proba[0][1])\n",
        "#         슬픔.append(all_pred_proba[0][2])\n",
        "#         행복.append(all_pred_proba[0][3])"
      ],
      "metadata": {
        "id": "jYYaHQ1bI0v6"
      },
      "execution_count": null,
      "outputs": []
    },
    {
      "cell_type": "code",
      "source": [
        "# df_allsongs['Emotion'] = Emotion\n",
        "# df_allsongs['Proba'] = Probability\n",
        "# df_allsongs['분노혐오'] = 분노혐오\n",
        "# df_allsongs['놀람공포'] = 놀람공포\n",
        "# df_allsongs['슬픔'] = 슬픔\n",
        "# df_allsongs['행복'] = 행복"
      ],
      "metadata": {
        "id": "qMBNrBv-KO9u"
      },
      "execution_count": null,
      "outputs": []
    },
    {
      "cell_type": "code",
      "source": [
        "# df_allsongs['Emotion'].value_counts()"
      ],
      "metadata": {
        "id": "0tHP3YDqKgpy"
      },
      "execution_count": null,
      "outputs": []
    },
    {
      "cell_type": "code",
      "source": [
        "# df_allsongs"
      ],
      "metadata": {
        "id": "79dMUIMVhNro"
      },
      "execution_count": null,
      "outputs": []
    },
    {
      "cell_type": "code",
      "source": [
        "# df_allsongs.to_csv('songtagged_1.csv')"
      ],
      "metadata": {
        "id": "WUbaWH4IUtqx"
      },
      "execution_count": null,
      "outputs": []
    }
  ]
}