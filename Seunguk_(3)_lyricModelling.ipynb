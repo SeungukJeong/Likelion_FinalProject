{
  "nbformat": 4,
  "nbformat_minor": 0,
  "metadata": {
    "colab": {
      "name": "Seunguk_(3)_lyricModelling.ipynb",
      "provenance": [],
      "collapsed_sections": [
        "gfhNeSNP2hYT"
      ],
      "mount_file_id": "1jCp4ul4t1aM0jmbl4X6kauP7yt8HBIu8",
      "authorship_tag": "ABX9TyMZcIzDE0bWFWXKoySo96cF",
      "include_colab_link": true
    },
    "kernelspec": {
      "name": "python3",
      "display_name": "Python 3"
    },
    "language_info": {
      "name": "python"
    },
    "accelerator": "TPU",
    "widgets": {
      "application/vnd.jupyter.widget-state+json": {
        "9b3daa7213904e5283fd449f6ad269f7": {
          "model_module": "@jupyter-widgets/controls",
          "model_name": "HBoxModel",
          "model_module_version": "1.5.0",
          "state": {
            "_dom_classes": [],
            "_model_module": "@jupyter-widgets/controls",
            "_model_module_version": "1.5.0",
            "_model_name": "HBoxModel",
            "_view_count": null,
            "_view_module": "@jupyter-widgets/controls",
            "_view_module_version": "1.5.0",
            "_view_name": "HBoxView",
            "box_style": "",
            "children": [
              "IPY_MODEL_167ea28cb41e43258ff749c4c7b7f1ce",
              "IPY_MODEL_9c7ccfa1276d445d8e70524fdca34018",
              "IPY_MODEL_7bc906fde2954ffca1c3b4b2d8fb680e"
            ],
            "layout": "IPY_MODEL_ea45fa8c21514b998b87c7d2e8dd25ef"
          }
        },
        "167ea28cb41e43258ff749c4c7b7f1ce": {
          "model_module": "@jupyter-widgets/controls",
          "model_name": "HTMLModel",
          "model_module_version": "1.5.0",
          "state": {
            "_dom_classes": [],
            "_model_module": "@jupyter-widgets/controls",
            "_model_module_version": "1.5.0",
            "_model_name": "HTMLModel",
            "_view_count": null,
            "_view_module": "@jupyter-widgets/controls",
            "_view_module_version": "1.5.0",
            "_view_name": "HTMLView",
            "description": "",
            "description_tooltip": null,
            "layout": "IPY_MODEL_463504cb7de244b18c84ad3342199b06",
            "placeholder": "​",
            "style": "IPY_MODEL_371c02739fa1447a9866188c5af43b4c",
            "value": "Downloading: 100%"
          }
        },
        "9c7ccfa1276d445d8e70524fdca34018": {
          "model_module": "@jupyter-widgets/controls",
          "model_name": "FloatProgressModel",
          "model_module_version": "1.5.0",
          "state": {
            "_dom_classes": [],
            "_model_module": "@jupyter-widgets/controls",
            "_model_module_version": "1.5.0",
            "_model_name": "FloatProgressModel",
            "_view_count": null,
            "_view_module": "@jupyter-widgets/controls",
            "_view_module_version": "1.5.0",
            "_view_name": "ProgressView",
            "bar_style": "success",
            "description": "",
            "description_tooltip": null,
            "layout": "IPY_MODEL_e26c1b771e7746d9980e4dafe8bcaf18",
            "max": 371391,
            "min": 0,
            "orientation": "horizontal",
            "style": "IPY_MODEL_483b138c5af74991825a7b98b5b556f9",
            "value": 371391
          }
        },
        "7bc906fde2954ffca1c3b4b2d8fb680e": {
          "model_module": "@jupyter-widgets/controls",
          "model_name": "HTMLModel",
          "model_module_version": "1.5.0",
          "state": {
            "_dom_classes": [],
            "_model_module": "@jupyter-widgets/controls",
            "_model_module_version": "1.5.0",
            "_model_name": "HTMLModel",
            "_view_count": null,
            "_view_module": "@jupyter-widgets/controls",
            "_view_module_version": "1.5.0",
            "_view_name": "HTMLView",
            "description": "",
            "description_tooltip": null,
            "layout": "IPY_MODEL_42afc0dd73124be9b0327f1d801af727",
            "placeholder": "​",
            "style": "IPY_MODEL_ec54a62ee47d473c91d2288056615f68",
            "value": " 371k/371k [00:00&lt;00:00, 1.33MB/s]"
          }
        },
        "ea45fa8c21514b998b87c7d2e8dd25ef": {
          "model_module": "@jupyter-widgets/base",
          "model_name": "LayoutModel",
          "model_module_version": "1.2.0",
          "state": {
            "_model_module": "@jupyter-widgets/base",
            "_model_module_version": "1.2.0",
            "_model_name": "LayoutModel",
            "_view_count": null,
            "_view_module": "@jupyter-widgets/base",
            "_view_module_version": "1.2.0",
            "_view_name": "LayoutView",
            "align_content": null,
            "align_items": null,
            "align_self": null,
            "border": null,
            "bottom": null,
            "display": null,
            "flex": null,
            "flex_flow": null,
            "grid_area": null,
            "grid_auto_columns": null,
            "grid_auto_flow": null,
            "grid_auto_rows": null,
            "grid_column": null,
            "grid_gap": null,
            "grid_row": null,
            "grid_template_areas": null,
            "grid_template_columns": null,
            "grid_template_rows": null,
            "height": null,
            "justify_content": null,
            "justify_items": null,
            "left": null,
            "margin": null,
            "max_height": null,
            "max_width": null,
            "min_height": null,
            "min_width": null,
            "object_fit": null,
            "object_position": null,
            "order": null,
            "overflow": null,
            "overflow_x": null,
            "overflow_y": null,
            "padding": null,
            "right": null,
            "top": null,
            "visibility": null,
            "width": null
          }
        },
        "463504cb7de244b18c84ad3342199b06": {
          "model_module": "@jupyter-widgets/base",
          "model_name": "LayoutModel",
          "model_module_version": "1.2.0",
          "state": {
            "_model_module": "@jupyter-widgets/base",
            "_model_module_version": "1.2.0",
            "_model_name": "LayoutModel",
            "_view_count": null,
            "_view_module": "@jupyter-widgets/base",
            "_view_module_version": "1.2.0",
            "_view_name": "LayoutView",
            "align_content": null,
            "align_items": null,
            "align_self": null,
            "border": null,
            "bottom": null,
            "display": null,
            "flex": null,
            "flex_flow": null,
            "grid_area": null,
            "grid_auto_columns": null,
            "grid_auto_flow": null,
            "grid_auto_rows": null,
            "grid_column": null,
            "grid_gap": null,
            "grid_row": null,
            "grid_template_areas": null,
            "grid_template_columns": null,
            "grid_template_rows": null,
            "height": null,
            "justify_content": null,
            "justify_items": null,
            "left": null,
            "margin": null,
            "max_height": null,
            "max_width": null,
            "min_height": null,
            "min_width": null,
            "object_fit": null,
            "object_position": null,
            "order": null,
            "overflow": null,
            "overflow_x": null,
            "overflow_y": null,
            "padding": null,
            "right": null,
            "top": null,
            "visibility": null,
            "width": null
          }
        },
        "371c02739fa1447a9866188c5af43b4c": {
          "model_module": "@jupyter-widgets/controls",
          "model_name": "DescriptionStyleModel",
          "model_module_version": "1.5.0",
          "state": {
            "_model_module": "@jupyter-widgets/controls",
            "_model_module_version": "1.5.0",
            "_model_name": "DescriptionStyleModel",
            "_view_count": null,
            "_view_module": "@jupyter-widgets/base",
            "_view_module_version": "1.2.0",
            "_view_name": "StyleView",
            "description_width": ""
          }
        },
        "e26c1b771e7746d9980e4dafe8bcaf18": {
          "model_module": "@jupyter-widgets/base",
          "model_name": "LayoutModel",
          "model_module_version": "1.2.0",
          "state": {
            "_model_module": "@jupyter-widgets/base",
            "_model_module_version": "1.2.0",
            "_model_name": "LayoutModel",
            "_view_count": null,
            "_view_module": "@jupyter-widgets/base",
            "_view_module_version": "1.2.0",
            "_view_name": "LayoutView",
            "align_content": null,
            "align_items": null,
            "align_self": null,
            "border": null,
            "bottom": null,
            "display": null,
            "flex": null,
            "flex_flow": null,
            "grid_area": null,
            "grid_auto_columns": null,
            "grid_auto_flow": null,
            "grid_auto_rows": null,
            "grid_column": null,
            "grid_gap": null,
            "grid_row": null,
            "grid_template_areas": null,
            "grid_template_columns": null,
            "grid_template_rows": null,
            "height": null,
            "justify_content": null,
            "justify_items": null,
            "left": null,
            "margin": null,
            "max_height": null,
            "max_width": null,
            "min_height": null,
            "min_width": null,
            "object_fit": null,
            "object_position": null,
            "order": null,
            "overflow": null,
            "overflow_x": null,
            "overflow_y": null,
            "padding": null,
            "right": null,
            "top": null,
            "visibility": null,
            "width": null
          }
        },
        "483b138c5af74991825a7b98b5b556f9": {
          "model_module": "@jupyter-widgets/controls",
          "model_name": "ProgressStyleModel",
          "model_module_version": "1.5.0",
          "state": {
            "_model_module": "@jupyter-widgets/controls",
            "_model_module_version": "1.5.0",
            "_model_name": "ProgressStyleModel",
            "_view_count": null,
            "_view_module": "@jupyter-widgets/base",
            "_view_module_version": "1.2.0",
            "_view_name": "StyleView",
            "bar_color": null,
            "description_width": ""
          }
        },
        "42afc0dd73124be9b0327f1d801af727": {
          "model_module": "@jupyter-widgets/base",
          "model_name": "LayoutModel",
          "model_module_version": "1.2.0",
          "state": {
            "_model_module": "@jupyter-widgets/base",
            "_model_module_version": "1.2.0",
            "_model_name": "LayoutModel",
            "_view_count": null,
            "_view_module": "@jupyter-widgets/base",
            "_view_module_version": "1.2.0",
            "_view_name": "LayoutView",
            "align_content": null,
            "align_items": null,
            "align_self": null,
            "border": null,
            "bottom": null,
            "display": null,
            "flex": null,
            "flex_flow": null,
            "grid_area": null,
            "grid_auto_columns": null,
            "grid_auto_flow": null,
            "grid_auto_rows": null,
            "grid_column": null,
            "grid_gap": null,
            "grid_row": null,
            "grid_template_areas": null,
            "grid_template_columns": null,
            "grid_template_rows": null,
            "height": null,
            "justify_content": null,
            "justify_items": null,
            "left": null,
            "margin": null,
            "max_height": null,
            "max_width": null,
            "min_height": null,
            "min_width": null,
            "object_fit": null,
            "object_position": null,
            "order": null,
            "overflow": null,
            "overflow_x": null,
            "overflow_y": null,
            "padding": null,
            "right": null,
            "top": null,
            "visibility": null,
            "width": null
          }
        },
        "ec54a62ee47d473c91d2288056615f68": {
          "model_module": "@jupyter-widgets/controls",
          "model_name": "DescriptionStyleModel",
          "model_module_version": "1.5.0",
          "state": {
            "_model_module": "@jupyter-widgets/controls",
            "_model_module_version": "1.5.0",
            "_model_name": "DescriptionStyleModel",
            "_view_count": null,
            "_view_module": "@jupyter-widgets/base",
            "_view_module_version": "1.2.0",
            "_view_name": "StyleView",
            "description_width": ""
          }
        },
        "a9f53008418641c786163fa0cebd1677": {
          "model_module": "@jupyter-widgets/controls",
          "model_name": "HBoxModel",
          "model_module_version": "1.5.0",
          "state": {
            "_dom_classes": [],
            "_model_module": "@jupyter-widgets/controls",
            "_model_module_version": "1.5.0",
            "_model_name": "HBoxModel",
            "_view_count": null,
            "_view_module": "@jupyter-widgets/controls",
            "_view_module_version": "1.5.0",
            "_view_name": "HBoxView",
            "box_style": "",
            "children": [
              "IPY_MODEL_4ff28f6c5f7649fd9e8ea9b39fef093c",
              "IPY_MODEL_6643b3100d0847f3acc78bb22b9e4b24",
              "IPY_MODEL_05b6707a5468469caf59f81dc4730c46"
            ],
            "layout": "IPY_MODEL_0248e9dbb3084bae9fb03fc301cd2a32"
          }
        },
        "4ff28f6c5f7649fd9e8ea9b39fef093c": {
          "model_module": "@jupyter-widgets/controls",
          "model_name": "HTMLModel",
          "model_module_version": "1.5.0",
          "state": {
            "_dom_classes": [],
            "_model_module": "@jupyter-widgets/controls",
            "_model_module_version": "1.5.0",
            "_model_name": "HTMLModel",
            "_view_count": null,
            "_view_module": "@jupyter-widgets/controls",
            "_view_module_version": "1.5.0",
            "_view_name": "HTMLView",
            "description": "",
            "description_tooltip": null,
            "layout": "IPY_MODEL_9e8583f7f6b64bf09bb6342db49fbf74",
            "placeholder": "​",
            "style": "IPY_MODEL_f58f06804d174ca9b3a2198c916d830d",
            "value": "Downloading: 100%"
          }
        },
        "6643b3100d0847f3acc78bb22b9e4b24": {
          "model_module": "@jupyter-widgets/controls",
          "model_name": "FloatProgressModel",
          "model_module_version": "1.5.0",
          "state": {
            "_dom_classes": [],
            "_model_module": "@jupyter-widgets/controls",
            "_model_module_version": "1.5.0",
            "_model_name": "FloatProgressModel",
            "_view_count": null,
            "_view_module": "@jupyter-widgets/controls",
            "_view_module_version": "1.5.0",
            "_view_name": "ProgressView",
            "bar_style": "success",
            "description": "",
            "description_tooltip": null,
            "layout": "IPY_MODEL_d064691db78f4edcbfcd61445d3d26d8",
            "max": 77779,
            "min": 0,
            "orientation": "horizontal",
            "style": "IPY_MODEL_0f4907a2cd7e4d8b95c5fd8e3ef85276",
            "value": 77779
          }
        },
        "05b6707a5468469caf59f81dc4730c46": {
          "model_module": "@jupyter-widgets/controls",
          "model_name": "HTMLModel",
          "model_module_version": "1.5.0",
          "state": {
            "_dom_classes": [],
            "_model_module": "@jupyter-widgets/controls",
            "_model_module_version": "1.5.0",
            "_model_name": "HTMLModel",
            "_view_count": null,
            "_view_module": "@jupyter-widgets/controls",
            "_view_module_version": "1.5.0",
            "_view_name": "HTMLView",
            "description": "",
            "description_tooltip": null,
            "layout": "IPY_MODEL_a013a0c9bdd64700a570a1d9d2c64ede",
            "placeholder": "​",
            "style": "IPY_MODEL_922646892a8e4734907b67a8b800440b",
            "value": " 77.8k/77.8k [00:00&lt;00:00, 1.32MB/s]"
          }
        },
        "0248e9dbb3084bae9fb03fc301cd2a32": {
          "model_module": "@jupyter-widgets/base",
          "model_name": "LayoutModel",
          "model_module_version": "1.2.0",
          "state": {
            "_model_module": "@jupyter-widgets/base",
            "_model_module_version": "1.2.0",
            "_model_name": "LayoutModel",
            "_view_count": null,
            "_view_module": "@jupyter-widgets/base",
            "_view_module_version": "1.2.0",
            "_view_name": "LayoutView",
            "align_content": null,
            "align_items": null,
            "align_self": null,
            "border": null,
            "bottom": null,
            "display": null,
            "flex": null,
            "flex_flow": null,
            "grid_area": null,
            "grid_auto_columns": null,
            "grid_auto_flow": null,
            "grid_auto_rows": null,
            "grid_column": null,
            "grid_gap": null,
            "grid_row": null,
            "grid_template_areas": null,
            "grid_template_columns": null,
            "grid_template_rows": null,
            "height": null,
            "justify_content": null,
            "justify_items": null,
            "left": null,
            "margin": null,
            "max_height": null,
            "max_width": null,
            "min_height": null,
            "min_width": null,
            "object_fit": null,
            "object_position": null,
            "order": null,
            "overflow": null,
            "overflow_x": null,
            "overflow_y": null,
            "padding": null,
            "right": null,
            "top": null,
            "visibility": null,
            "width": null
          }
        },
        "9e8583f7f6b64bf09bb6342db49fbf74": {
          "model_module": "@jupyter-widgets/base",
          "model_name": "LayoutModel",
          "model_module_version": "1.2.0",
          "state": {
            "_model_module": "@jupyter-widgets/base",
            "_model_module_version": "1.2.0",
            "_model_name": "LayoutModel",
            "_view_count": null,
            "_view_module": "@jupyter-widgets/base",
            "_view_module_version": "1.2.0",
            "_view_name": "LayoutView",
            "align_content": null,
            "align_items": null,
            "align_self": null,
            "border": null,
            "bottom": null,
            "display": null,
            "flex": null,
            "flex_flow": null,
            "grid_area": null,
            "grid_auto_columns": null,
            "grid_auto_flow": null,
            "grid_auto_rows": null,
            "grid_column": null,
            "grid_gap": null,
            "grid_row": null,
            "grid_template_areas": null,
            "grid_template_columns": null,
            "grid_template_rows": null,
            "height": null,
            "justify_content": null,
            "justify_items": null,
            "left": null,
            "margin": null,
            "max_height": null,
            "max_width": null,
            "min_height": null,
            "min_width": null,
            "object_fit": null,
            "object_position": null,
            "order": null,
            "overflow": null,
            "overflow_x": null,
            "overflow_y": null,
            "padding": null,
            "right": null,
            "top": null,
            "visibility": null,
            "width": null
          }
        },
        "f58f06804d174ca9b3a2198c916d830d": {
          "model_module": "@jupyter-widgets/controls",
          "model_name": "DescriptionStyleModel",
          "model_module_version": "1.5.0",
          "state": {
            "_model_module": "@jupyter-widgets/controls",
            "_model_module_version": "1.5.0",
            "_model_name": "DescriptionStyleModel",
            "_view_count": null,
            "_view_module": "@jupyter-widgets/base",
            "_view_module_version": "1.2.0",
            "_view_name": "StyleView",
            "description_width": ""
          }
        },
        "d064691db78f4edcbfcd61445d3d26d8": {
          "model_module": "@jupyter-widgets/base",
          "model_name": "LayoutModel",
          "model_module_version": "1.2.0",
          "state": {
            "_model_module": "@jupyter-widgets/base",
            "_model_module_version": "1.2.0",
            "_model_name": "LayoutModel",
            "_view_count": null,
            "_view_module": "@jupyter-widgets/base",
            "_view_module_version": "1.2.0",
            "_view_name": "LayoutView",
            "align_content": null,
            "align_items": null,
            "align_self": null,
            "border": null,
            "bottom": null,
            "display": null,
            "flex": null,
            "flex_flow": null,
            "grid_area": null,
            "grid_auto_columns": null,
            "grid_auto_flow": null,
            "grid_auto_rows": null,
            "grid_column": null,
            "grid_gap": null,
            "grid_row": null,
            "grid_template_areas": null,
            "grid_template_columns": null,
            "grid_template_rows": null,
            "height": null,
            "justify_content": null,
            "justify_items": null,
            "left": null,
            "margin": null,
            "max_height": null,
            "max_width": null,
            "min_height": null,
            "min_width": null,
            "object_fit": null,
            "object_position": null,
            "order": null,
            "overflow": null,
            "overflow_x": null,
            "overflow_y": null,
            "padding": null,
            "right": null,
            "top": null,
            "visibility": null,
            "width": null
          }
        },
        "0f4907a2cd7e4d8b95c5fd8e3ef85276": {
          "model_module": "@jupyter-widgets/controls",
          "model_name": "ProgressStyleModel",
          "model_module_version": "1.5.0",
          "state": {
            "_model_module": "@jupyter-widgets/controls",
            "_model_module_version": "1.5.0",
            "_model_name": "ProgressStyleModel",
            "_view_count": null,
            "_view_module": "@jupyter-widgets/base",
            "_view_module_version": "1.2.0",
            "_view_name": "StyleView",
            "bar_color": null,
            "description_width": ""
          }
        },
        "a013a0c9bdd64700a570a1d9d2c64ede": {
          "model_module": "@jupyter-widgets/base",
          "model_name": "LayoutModel",
          "model_module_version": "1.2.0",
          "state": {
            "_model_module": "@jupyter-widgets/base",
            "_model_module_version": "1.2.0",
            "_model_name": "LayoutModel",
            "_view_count": null,
            "_view_module": "@jupyter-widgets/base",
            "_view_module_version": "1.2.0",
            "_view_name": "LayoutView",
            "align_content": null,
            "align_items": null,
            "align_self": null,
            "border": null,
            "bottom": null,
            "display": null,
            "flex": null,
            "flex_flow": null,
            "grid_area": null,
            "grid_auto_columns": null,
            "grid_auto_flow": null,
            "grid_auto_rows": null,
            "grid_column": null,
            "grid_gap": null,
            "grid_row": null,
            "grid_template_areas": null,
            "grid_template_columns": null,
            "grid_template_rows": null,
            "height": null,
            "justify_content": null,
            "justify_items": null,
            "left": null,
            "margin": null,
            "max_height": null,
            "max_width": null,
            "min_height": null,
            "min_width": null,
            "object_fit": null,
            "object_position": null,
            "order": null,
            "overflow": null,
            "overflow_x": null,
            "overflow_y": null,
            "padding": null,
            "right": null,
            "top": null,
            "visibility": null,
            "width": null
          }
        },
        "922646892a8e4734907b67a8b800440b": {
          "model_module": "@jupyter-widgets/controls",
          "model_name": "DescriptionStyleModel",
          "model_module_version": "1.5.0",
          "state": {
            "_model_module": "@jupyter-widgets/controls",
            "_model_module_version": "1.5.0",
            "_model_name": "DescriptionStyleModel",
            "_view_count": null,
            "_view_module": "@jupyter-widgets/base",
            "_view_module_version": "1.2.0",
            "_view_name": "StyleView",
            "description_width": ""
          }
        },
        "6ef24d7eb7074b6e9fb5c3fe2f77f51e": {
          "model_module": "@jupyter-widgets/controls",
          "model_name": "HBoxModel",
          "model_module_version": "1.5.0",
          "state": {
            "_dom_classes": [],
            "_model_module": "@jupyter-widgets/controls",
            "_model_module_version": "1.5.0",
            "_model_name": "HBoxModel",
            "_view_count": null,
            "_view_module": "@jupyter-widgets/controls",
            "_view_module_version": "1.5.0",
            "_view_name": "HBoxView",
            "box_style": "",
            "children": [
              "IPY_MODEL_d0176ff9f0334066886a22624a7e7ca4",
              "IPY_MODEL_fd36ab14a1d24b429b463dc687c45801",
              "IPY_MODEL_68271fa0f9d348f096a8a735a0026378"
            ],
            "layout": "IPY_MODEL_f0ffd4ae6f714575978aaf62470ceece"
          }
        },
        "d0176ff9f0334066886a22624a7e7ca4": {
          "model_module": "@jupyter-widgets/controls",
          "model_name": "HTMLModel",
          "model_module_version": "1.5.0",
          "state": {
            "_dom_classes": [],
            "_model_module": "@jupyter-widgets/controls",
            "_model_module_version": "1.5.0",
            "_model_name": "HTMLModel",
            "_view_count": null,
            "_view_module": "@jupyter-widgets/controls",
            "_view_module_version": "1.5.0",
            "_view_name": "HTMLView",
            "description": "",
            "description_tooltip": null,
            "layout": "IPY_MODEL_4648a3ba09bf4d6dbeeebbba44862ada",
            "placeholder": "​",
            "style": "IPY_MODEL_d6519cd1459d49bdaf98ad298b3f70a1",
            "value": "Downloading: 100%"
          }
        },
        "fd36ab14a1d24b429b463dc687c45801": {
          "model_module": "@jupyter-widgets/controls",
          "model_name": "FloatProgressModel",
          "model_module_version": "1.5.0",
          "state": {
            "_dom_classes": [],
            "_model_module": "@jupyter-widgets/controls",
            "_model_module_version": "1.5.0",
            "_model_name": "FloatProgressModel",
            "_view_count": null,
            "_view_module": "@jupyter-widgets/controls",
            "_view_module_version": "1.5.0",
            "_view_name": "ProgressView",
            "bar_style": "success",
            "description": "",
            "description_tooltip": null,
            "layout": "IPY_MODEL_90fc89a35f4e4088aac094623dbd7d2f",
            "max": 51,
            "min": 0,
            "orientation": "horizontal",
            "style": "IPY_MODEL_ceb905e963d0481698f4c6cbd05cfba8",
            "value": 51
          }
        },
        "68271fa0f9d348f096a8a735a0026378": {
          "model_module": "@jupyter-widgets/controls",
          "model_name": "HTMLModel",
          "model_module_version": "1.5.0",
          "state": {
            "_dom_classes": [],
            "_model_module": "@jupyter-widgets/controls",
            "_model_module_version": "1.5.0",
            "_model_name": "HTMLModel",
            "_view_count": null,
            "_view_module": "@jupyter-widgets/controls",
            "_view_module_version": "1.5.0",
            "_view_name": "HTMLView",
            "description": "",
            "description_tooltip": null,
            "layout": "IPY_MODEL_61dee55cc3a64d86aaa5468b99f63e5f",
            "placeholder": "​",
            "style": "IPY_MODEL_87f38e4eb3a94ed1a330ff5bfd9a0bc3",
            "value": " 51.0/51.0 [00:00&lt;00:00, 862B/s]"
          }
        },
        "f0ffd4ae6f714575978aaf62470ceece": {
          "model_module": "@jupyter-widgets/base",
          "model_name": "LayoutModel",
          "model_module_version": "1.2.0",
          "state": {
            "_model_module": "@jupyter-widgets/base",
            "_model_module_version": "1.2.0",
            "_model_name": "LayoutModel",
            "_view_count": null,
            "_view_module": "@jupyter-widgets/base",
            "_view_module_version": "1.2.0",
            "_view_name": "LayoutView",
            "align_content": null,
            "align_items": null,
            "align_self": null,
            "border": null,
            "bottom": null,
            "display": null,
            "flex": null,
            "flex_flow": null,
            "grid_area": null,
            "grid_auto_columns": null,
            "grid_auto_flow": null,
            "grid_auto_rows": null,
            "grid_column": null,
            "grid_gap": null,
            "grid_row": null,
            "grid_template_areas": null,
            "grid_template_columns": null,
            "grid_template_rows": null,
            "height": null,
            "justify_content": null,
            "justify_items": null,
            "left": null,
            "margin": null,
            "max_height": null,
            "max_width": null,
            "min_height": null,
            "min_width": null,
            "object_fit": null,
            "object_position": null,
            "order": null,
            "overflow": null,
            "overflow_x": null,
            "overflow_y": null,
            "padding": null,
            "right": null,
            "top": null,
            "visibility": null,
            "width": null
          }
        },
        "4648a3ba09bf4d6dbeeebbba44862ada": {
          "model_module": "@jupyter-widgets/base",
          "model_name": "LayoutModel",
          "model_module_version": "1.2.0",
          "state": {
            "_model_module": "@jupyter-widgets/base",
            "_model_module_version": "1.2.0",
            "_model_name": "LayoutModel",
            "_view_count": null,
            "_view_module": "@jupyter-widgets/base",
            "_view_module_version": "1.2.0",
            "_view_name": "LayoutView",
            "align_content": null,
            "align_items": null,
            "align_self": null,
            "border": null,
            "bottom": null,
            "display": null,
            "flex": null,
            "flex_flow": null,
            "grid_area": null,
            "grid_auto_columns": null,
            "grid_auto_flow": null,
            "grid_auto_rows": null,
            "grid_column": null,
            "grid_gap": null,
            "grid_row": null,
            "grid_template_areas": null,
            "grid_template_columns": null,
            "grid_template_rows": null,
            "height": null,
            "justify_content": null,
            "justify_items": null,
            "left": null,
            "margin": null,
            "max_height": null,
            "max_width": null,
            "min_height": null,
            "min_width": null,
            "object_fit": null,
            "object_position": null,
            "order": null,
            "overflow": null,
            "overflow_x": null,
            "overflow_y": null,
            "padding": null,
            "right": null,
            "top": null,
            "visibility": null,
            "width": null
          }
        },
        "d6519cd1459d49bdaf98ad298b3f70a1": {
          "model_module": "@jupyter-widgets/controls",
          "model_name": "DescriptionStyleModel",
          "model_module_version": "1.5.0",
          "state": {
            "_model_module": "@jupyter-widgets/controls",
            "_model_module_version": "1.5.0",
            "_model_name": "DescriptionStyleModel",
            "_view_count": null,
            "_view_module": "@jupyter-widgets/base",
            "_view_module_version": "1.2.0",
            "_view_name": "StyleView",
            "description_width": ""
          }
        },
        "90fc89a35f4e4088aac094623dbd7d2f": {
          "model_module": "@jupyter-widgets/base",
          "model_name": "LayoutModel",
          "model_module_version": "1.2.0",
          "state": {
            "_model_module": "@jupyter-widgets/base",
            "_model_module_version": "1.2.0",
            "_model_name": "LayoutModel",
            "_view_count": null,
            "_view_module": "@jupyter-widgets/base",
            "_view_module_version": "1.2.0",
            "_view_name": "LayoutView",
            "align_content": null,
            "align_items": null,
            "align_self": null,
            "border": null,
            "bottom": null,
            "display": null,
            "flex": null,
            "flex_flow": null,
            "grid_area": null,
            "grid_auto_columns": null,
            "grid_auto_flow": null,
            "grid_auto_rows": null,
            "grid_column": null,
            "grid_gap": null,
            "grid_row": null,
            "grid_template_areas": null,
            "grid_template_columns": null,
            "grid_template_rows": null,
            "height": null,
            "justify_content": null,
            "justify_items": null,
            "left": null,
            "margin": null,
            "max_height": null,
            "max_width": null,
            "min_height": null,
            "min_width": null,
            "object_fit": null,
            "object_position": null,
            "order": null,
            "overflow": null,
            "overflow_x": null,
            "overflow_y": null,
            "padding": null,
            "right": null,
            "top": null,
            "visibility": null,
            "width": null
          }
        },
        "ceb905e963d0481698f4c6cbd05cfba8": {
          "model_module": "@jupyter-widgets/controls",
          "model_name": "ProgressStyleModel",
          "model_module_version": "1.5.0",
          "state": {
            "_model_module": "@jupyter-widgets/controls",
            "_model_module_version": "1.5.0",
            "_model_name": "ProgressStyleModel",
            "_view_count": null,
            "_view_module": "@jupyter-widgets/base",
            "_view_module_version": "1.2.0",
            "_view_name": "StyleView",
            "bar_color": null,
            "description_width": ""
          }
        },
        "61dee55cc3a64d86aaa5468b99f63e5f": {
          "model_module": "@jupyter-widgets/base",
          "model_name": "LayoutModel",
          "model_module_version": "1.2.0",
          "state": {
            "_model_module": "@jupyter-widgets/base",
            "_model_module_version": "1.2.0",
            "_model_name": "LayoutModel",
            "_view_count": null,
            "_view_module": "@jupyter-widgets/base",
            "_view_module_version": "1.2.0",
            "_view_name": "LayoutView",
            "align_content": null,
            "align_items": null,
            "align_self": null,
            "border": null,
            "bottom": null,
            "display": null,
            "flex": null,
            "flex_flow": null,
            "grid_area": null,
            "grid_auto_columns": null,
            "grid_auto_flow": null,
            "grid_auto_rows": null,
            "grid_column": null,
            "grid_gap": null,
            "grid_row": null,
            "grid_template_areas": null,
            "grid_template_columns": null,
            "grid_template_rows": null,
            "height": null,
            "justify_content": null,
            "justify_items": null,
            "left": null,
            "margin": null,
            "max_height": null,
            "max_width": null,
            "min_height": null,
            "min_width": null,
            "object_fit": null,
            "object_position": null,
            "order": null,
            "overflow": null,
            "overflow_x": null,
            "overflow_y": null,
            "padding": null,
            "right": null,
            "top": null,
            "visibility": null,
            "width": null
          }
        },
        "87f38e4eb3a94ed1a330ff5bfd9a0bc3": {
          "model_module": "@jupyter-widgets/controls",
          "model_name": "DescriptionStyleModel",
          "model_module_version": "1.5.0",
          "state": {
            "_model_module": "@jupyter-widgets/controls",
            "_model_module_version": "1.5.0",
            "_model_name": "DescriptionStyleModel",
            "_view_count": null,
            "_view_module": "@jupyter-widgets/base",
            "_view_module_version": "1.2.0",
            "_view_name": "StyleView",
            "description_width": ""
          }
        },
        "55c75cebfbc7496a882deb417a5015aa": {
          "model_module": "@jupyter-widgets/controls",
          "model_name": "HBoxModel",
          "model_module_version": "1.5.0",
          "state": {
            "_dom_classes": [],
            "_model_module": "@jupyter-widgets/controls",
            "_model_module_version": "1.5.0",
            "_model_name": "HBoxModel",
            "_view_count": null,
            "_view_module": "@jupyter-widgets/controls",
            "_view_module_version": "1.5.0",
            "_view_name": "HBoxView",
            "box_style": "",
            "children": [
              "IPY_MODEL_e8c4fa1591694a75b9cfbc6bcb877a11",
              "IPY_MODEL_ccbf696c05704d6ca553cce04bc49d30",
              "IPY_MODEL_167acf1decf74c4a860975c579622011"
            ],
            "layout": "IPY_MODEL_ab2ebcf7a5a84955b3c4791d31025f2b"
          }
        },
        "e8c4fa1591694a75b9cfbc6bcb877a11": {
          "model_module": "@jupyter-widgets/controls",
          "model_name": "HTMLModel",
          "model_module_version": "1.5.0",
          "state": {
            "_dom_classes": [],
            "_model_module": "@jupyter-widgets/controls",
            "_model_module_version": "1.5.0",
            "_model_name": "HTMLModel",
            "_view_count": null,
            "_view_module": "@jupyter-widgets/controls",
            "_view_module_version": "1.5.0",
            "_view_name": "HTMLView",
            "description": "",
            "description_tooltip": null,
            "layout": "IPY_MODEL_1406904164dc40c488af7eb89d3aa881",
            "placeholder": "​",
            "style": "IPY_MODEL_2d01a9c09d9149a0adbd135c053811d6",
            "value": "Downloading: 100%"
          }
        },
        "ccbf696c05704d6ca553cce04bc49d30": {
          "model_module": "@jupyter-widgets/controls",
          "model_name": "FloatProgressModel",
          "model_module_version": "1.5.0",
          "state": {
            "_dom_classes": [],
            "_model_module": "@jupyter-widgets/controls",
            "_model_module_version": "1.5.0",
            "_model_name": "FloatProgressModel",
            "_view_count": null,
            "_view_module": "@jupyter-widgets/controls",
            "_view_module_version": "1.5.0",
            "_view_name": "ProgressView",
            "bar_style": "success",
            "description": "",
            "description_tooltip": null,
            "layout": "IPY_MODEL_4a3c1ae8515f4e31aa1359715228910b",
            "max": 426,
            "min": 0,
            "orientation": "horizontal",
            "style": "IPY_MODEL_7085bd184ef84eec88b62e42ea7f798b",
            "value": 426
          }
        },
        "167acf1decf74c4a860975c579622011": {
          "model_module": "@jupyter-widgets/controls",
          "model_name": "HTMLModel",
          "model_module_version": "1.5.0",
          "state": {
            "_dom_classes": [],
            "_model_module": "@jupyter-widgets/controls",
            "_model_module_version": "1.5.0",
            "_model_name": "HTMLModel",
            "_view_count": null,
            "_view_module": "@jupyter-widgets/controls",
            "_view_module_version": "1.5.0",
            "_view_name": "HTMLView",
            "description": "",
            "description_tooltip": null,
            "layout": "IPY_MODEL_c1e91dd65b354b5fab6f410b95f4f165",
            "placeholder": "​",
            "style": "IPY_MODEL_c5958e251f074034b6793cb44e8e6700",
            "value": " 426/426 [00:00&lt;00:00, 10.9kB/s]"
          }
        },
        "ab2ebcf7a5a84955b3c4791d31025f2b": {
          "model_module": "@jupyter-widgets/base",
          "model_name": "LayoutModel",
          "model_module_version": "1.2.0",
          "state": {
            "_model_module": "@jupyter-widgets/base",
            "_model_module_version": "1.2.0",
            "_model_name": "LayoutModel",
            "_view_count": null,
            "_view_module": "@jupyter-widgets/base",
            "_view_module_version": "1.2.0",
            "_view_name": "LayoutView",
            "align_content": null,
            "align_items": null,
            "align_self": null,
            "border": null,
            "bottom": null,
            "display": null,
            "flex": null,
            "flex_flow": null,
            "grid_area": null,
            "grid_auto_columns": null,
            "grid_auto_flow": null,
            "grid_auto_rows": null,
            "grid_column": null,
            "grid_gap": null,
            "grid_row": null,
            "grid_template_areas": null,
            "grid_template_columns": null,
            "grid_template_rows": null,
            "height": null,
            "justify_content": null,
            "justify_items": null,
            "left": null,
            "margin": null,
            "max_height": null,
            "max_width": null,
            "min_height": null,
            "min_width": null,
            "object_fit": null,
            "object_position": null,
            "order": null,
            "overflow": null,
            "overflow_x": null,
            "overflow_y": null,
            "padding": null,
            "right": null,
            "top": null,
            "visibility": null,
            "width": null
          }
        },
        "1406904164dc40c488af7eb89d3aa881": {
          "model_module": "@jupyter-widgets/base",
          "model_name": "LayoutModel",
          "model_module_version": "1.2.0",
          "state": {
            "_model_module": "@jupyter-widgets/base",
            "_model_module_version": "1.2.0",
            "_model_name": "LayoutModel",
            "_view_count": null,
            "_view_module": "@jupyter-widgets/base",
            "_view_module_version": "1.2.0",
            "_view_name": "LayoutView",
            "align_content": null,
            "align_items": null,
            "align_self": null,
            "border": null,
            "bottom": null,
            "display": null,
            "flex": null,
            "flex_flow": null,
            "grid_area": null,
            "grid_auto_columns": null,
            "grid_auto_flow": null,
            "grid_auto_rows": null,
            "grid_column": null,
            "grid_gap": null,
            "grid_row": null,
            "grid_template_areas": null,
            "grid_template_columns": null,
            "grid_template_rows": null,
            "height": null,
            "justify_content": null,
            "justify_items": null,
            "left": null,
            "margin": null,
            "max_height": null,
            "max_width": null,
            "min_height": null,
            "min_width": null,
            "object_fit": null,
            "object_position": null,
            "order": null,
            "overflow": null,
            "overflow_x": null,
            "overflow_y": null,
            "padding": null,
            "right": null,
            "top": null,
            "visibility": null,
            "width": null
          }
        },
        "2d01a9c09d9149a0adbd135c053811d6": {
          "model_module": "@jupyter-widgets/controls",
          "model_name": "DescriptionStyleModel",
          "model_module_version": "1.5.0",
          "state": {
            "_model_module": "@jupyter-widgets/controls",
            "_model_module_version": "1.5.0",
            "_model_name": "DescriptionStyleModel",
            "_view_count": null,
            "_view_module": "@jupyter-widgets/base",
            "_view_module_version": "1.2.0",
            "_view_name": "StyleView",
            "description_width": ""
          }
        },
        "4a3c1ae8515f4e31aa1359715228910b": {
          "model_module": "@jupyter-widgets/base",
          "model_name": "LayoutModel",
          "model_module_version": "1.2.0",
          "state": {
            "_model_module": "@jupyter-widgets/base",
            "_model_module_version": "1.2.0",
            "_model_name": "LayoutModel",
            "_view_count": null,
            "_view_module": "@jupyter-widgets/base",
            "_view_module_version": "1.2.0",
            "_view_name": "LayoutView",
            "align_content": null,
            "align_items": null,
            "align_self": null,
            "border": null,
            "bottom": null,
            "display": null,
            "flex": null,
            "flex_flow": null,
            "grid_area": null,
            "grid_auto_columns": null,
            "grid_auto_flow": null,
            "grid_auto_rows": null,
            "grid_column": null,
            "grid_gap": null,
            "grid_row": null,
            "grid_template_areas": null,
            "grid_template_columns": null,
            "grid_template_rows": null,
            "height": null,
            "justify_content": null,
            "justify_items": null,
            "left": null,
            "margin": null,
            "max_height": null,
            "max_width": null,
            "min_height": null,
            "min_width": null,
            "object_fit": null,
            "object_position": null,
            "order": null,
            "overflow": null,
            "overflow_x": null,
            "overflow_y": null,
            "padding": null,
            "right": null,
            "top": null,
            "visibility": null,
            "width": null
          }
        },
        "7085bd184ef84eec88b62e42ea7f798b": {
          "model_module": "@jupyter-widgets/controls",
          "model_name": "ProgressStyleModel",
          "model_module_version": "1.5.0",
          "state": {
            "_model_module": "@jupyter-widgets/controls",
            "_model_module_version": "1.5.0",
            "_model_name": "ProgressStyleModel",
            "_view_count": null,
            "_view_module": "@jupyter-widgets/base",
            "_view_module_version": "1.2.0",
            "_view_name": "StyleView",
            "bar_color": null,
            "description_width": ""
          }
        },
        "c1e91dd65b354b5fab6f410b95f4f165": {
          "model_module": "@jupyter-widgets/base",
          "model_name": "LayoutModel",
          "model_module_version": "1.2.0",
          "state": {
            "_model_module": "@jupyter-widgets/base",
            "_model_module_version": "1.2.0",
            "_model_name": "LayoutModel",
            "_view_count": null,
            "_view_module": "@jupyter-widgets/base",
            "_view_module_version": "1.2.0",
            "_view_name": "LayoutView",
            "align_content": null,
            "align_items": null,
            "align_self": null,
            "border": null,
            "bottom": null,
            "display": null,
            "flex": null,
            "flex_flow": null,
            "grid_area": null,
            "grid_auto_columns": null,
            "grid_auto_flow": null,
            "grid_auto_rows": null,
            "grid_column": null,
            "grid_gap": null,
            "grid_row": null,
            "grid_template_areas": null,
            "grid_template_columns": null,
            "grid_template_rows": null,
            "height": null,
            "justify_content": null,
            "justify_items": null,
            "left": null,
            "margin": null,
            "max_height": null,
            "max_width": null,
            "min_height": null,
            "min_width": null,
            "object_fit": null,
            "object_position": null,
            "order": null,
            "overflow": null,
            "overflow_x": null,
            "overflow_y": null,
            "padding": null,
            "right": null,
            "top": null,
            "visibility": null,
            "width": null
          }
        },
        "c5958e251f074034b6793cb44e8e6700": {
          "model_module": "@jupyter-widgets/controls",
          "model_name": "DescriptionStyleModel",
          "model_module_version": "1.5.0",
          "state": {
            "_model_module": "@jupyter-widgets/controls",
            "_model_module_version": "1.5.0",
            "_model_name": "DescriptionStyleModel",
            "_view_count": null,
            "_view_module": "@jupyter-widgets/base",
            "_view_module_version": "1.2.0",
            "_view_name": "StyleView",
            "description_width": ""
          }
        },
        "61e0f426d2a8471e9b41ed112aecebaf": {
          "model_module": "@jupyter-widgets/controls",
          "model_name": "HBoxModel",
          "model_module_version": "1.5.0",
          "state": {
            "_dom_classes": [],
            "_model_module": "@jupyter-widgets/controls",
            "_model_module_version": "1.5.0",
            "_model_name": "HBoxModel",
            "_view_count": null,
            "_view_module": "@jupyter-widgets/controls",
            "_view_module_version": "1.5.0",
            "_view_name": "HBoxView",
            "box_style": "",
            "children": [
              "IPY_MODEL_c6d8a5f636944676bc34cb0e7142f127",
              "IPY_MODEL_300ffa5d1f9142fda1ccc1b11f88424b",
              "IPY_MODEL_930f8861463b45a3b3b6e58f6d212cbb"
            ],
            "layout": "IPY_MODEL_f7122ccb0b41410b8b2299680d181f37"
          }
        },
        "c6d8a5f636944676bc34cb0e7142f127": {
          "model_module": "@jupyter-widgets/controls",
          "model_name": "HTMLModel",
          "model_module_version": "1.5.0",
          "state": {
            "_dom_classes": [],
            "_model_module": "@jupyter-widgets/controls",
            "_model_module_version": "1.5.0",
            "_model_name": "HTMLModel",
            "_view_count": null,
            "_view_module": "@jupyter-widgets/controls",
            "_view_module_version": "1.5.0",
            "_view_name": "HTMLView",
            "description": "",
            "description_tooltip": null,
            "layout": "IPY_MODEL_6cfc9965ddef4d468bf79c79a5582a25",
            "placeholder": "​",
            "style": "IPY_MODEL_9945bcc3d86e461ab2cc04af7208a710",
            "value": "Downloading: 100%"
          }
        },
        "300ffa5d1f9142fda1ccc1b11f88424b": {
          "model_module": "@jupyter-widgets/controls",
          "model_name": "FloatProgressModel",
          "model_module_version": "1.5.0",
          "state": {
            "_dom_classes": [],
            "_model_module": "@jupyter-widgets/controls",
            "_model_module_version": "1.5.0",
            "_model_name": "FloatProgressModel",
            "_view_count": null,
            "_view_module": "@jupyter-widgets/controls",
            "_view_module_version": "1.5.0",
            "_view_name": "ProgressView",
            "bar_style": "success",
            "description": "",
            "description_tooltip": null,
            "layout": "IPY_MODEL_b66ac5cad9294f7584793a3100f51987",
            "max": 368792146,
            "min": 0,
            "orientation": "horizontal",
            "style": "IPY_MODEL_131486cd97144fbaa6e9527b945bc338",
            "value": 368792146
          }
        },
        "930f8861463b45a3b3b6e58f6d212cbb": {
          "model_module": "@jupyter-widgets/controls",
          "model_name": "HTMLModel",
          "model_module_version": "1.5.0",
          "state": {
            "_dom_classes": [],
            "_model_module": "@jupyter-widgets/controls",
            "_model_module_version": "1.5.0",
            "_model_name": "HTMLModel",
            "_view_count": null,
            "_view_module": "@jupyter-widgets/controls",
            "_view_module_version": "1.5.0",
            "_view_name": "HTMLView",
            "description": "",
            "description_tooltip": null,
            "layout": "IPY_MODEL_e0591379ba18432a93f51106623d118e",
            "placeholder": "​",
            "style": "IPY_MODEL_b5611fd799fd4e5fa98b281ecc4d0609",
            "value": " 369M/369M [00:07&lt;00:00, 54.0MB/s]"
          }
        },
        "f7122ccb0b41410b8b2299680d181f37": {
          "model_module": "@jupyter-widgets/base",
          "model_name": "LayoutModel",
          "model_module_version": "1.2.0",
          "state": {
            "_model_module": "@jupyter-widgets/base",
            "_model_module_version": "1.2.0",
            "_model_name": "LayoutModel",
            "_view_count": null,
            "_view_module": "@jupyter-widgets/base",
            "_view_module_version": "1.2.0",
            "_view_name": "LayoutView",
            "align_content": null,
            "align_items": null,
            "align_self": null,
            "border": null,
            "bottom": null,
            "display": null,
            "flex": null,
            "flex_flow": null,
            "grid_area": null,
            "grid_auto_columns": null,
            "grid_auto_flow": null,
            "grid_auto_rows": null,
            "grid_column": null,
            "grid_gap": null,
            "grid_row": null,
            "grid_template_areas": null,
            "grid_template_columns": null,
            "grid_template_rows": null,
            "height": null,
            "justify_content": null,
            "justify_items": null,
            "left": null,
            "margin": null,
            "max_height": null,
            "max_width": null,
            "min_height": null,
            "min_width": null,
            "object_fit": null,
            "object_position": null,
            "order": null,
            "overflow": null,
            "overflow_x": null,
            "overflow_y": null,
            "padding": null,
            "right": null,
            "top": null,
            "visibility": null,
            "width": null
          }
        },
        "6cfc9965ddef4d468bf79c79a5582a25": {
          "model_module": "@jupyter-widgets/base",
          "model_name": "LayoutModel",
          "model_module_version": "1.2.0",
          "state": {
            "_model_module": "@jupyter-widgets/base",
            "_model_module_version": "1.2.0",
            "_model_name": "LayoutModel",
            "_view_count": null,
            "_view_module": "@jupyter-widgets/base",
            "_view_module_version": "1.2.0",
            "_view_name": "LayoutView",
            "align_content": null,
            "align_items": null,
            "align_self": null,
            "border": null,
            "bottom": null,
            "display": null,
            "flex": null,
            "flex_flow": null,
            "grid_area": null,
            "grid_auto_columns": null,
            "grid_auto_flow": null,
            "grid_auto_rows": null,
            "grid_column": null,
            "grid_gap": null,
            "grid_row": null,
            "grid_template_areas": null,
            "grid_template_columns": null,
            "grid_template_rows": null,
            "height": null,
            "justify_content": null,
            "justify_items": null,
            "left": null,
            "margin": null,
            "max_height": null,
            "max_width": null,
            "min_height": null,
            "min_width": null,
            "object_fit": null,
            "object_position": null,
            "order": null,
            "overflow": null,
            "overflow_x": null,
            "overflow_y": null,
            "padding": null,
            "right": null,
            "top": null,
            "visibility": null,
            "width": null
          }
        },
        "9945bcc3d86e461ab2cc04af7208a710": {
          "model_module": "@jupyter-widgets/controls",
          "model_name": "DescriptionStyleModel",
          "model_module_version": "1.5.0",
          "state": {
            "_model_module": "@jupyter-widgets/controls",
            "_model_module_version": "1.5.0",
            "_model_name": "DescriptionStyleModel",
            "_view_count": null,
            "_view_module": "@jupyter-widgets/base",
            "_view_module_version": "1.2.0",
            "_view_name": "StyleView",
            "description_width": ""
          }
        },
        "b66ac5cad9294f7584793a3100f51987": {
          "model_module": "@jupyter-widgets/base",
          "model_name": "LayoutModel",
          "model_module_version": "1.2.0",
          "state": {
            "_model_module": "@jupyter-widgets/base",
            "_model_module_version": "1.2.0",
            "_model_name": "LayoutModel",
            "_view_count": null,
            "_view_module": "@jupyter-widgets/base",
            "_view_module_version": "1.2.0",
            "_view_name": "LayoutView",
            "align_content": null,
            "align_items": null,
            "align_self": null,
            "border": null,
            "bottom": null,
            "display": null,
            "flex": null,
            "flex_flow": null,
            "grid_area": null,
            "grid_auto_columns": null,
            "grid_auto_flow": null,
            "grid_auto_rows": null,
            "grid_column": null,
            "grid_gap": null,
            "grid_row": null,
            "grid_template_areas": null,
            "grid_template_columns": null,
            "grid_template_rows": null,
            "height": null,
            "justify_content": null,
            "justify_items": null,
            "left": null,
            "margin": null,
            "max_height": null,
            "max_width": null,
            "min_height": null,
            "min_width": null,
            "object_fit": null,
            "object_position": null,
            "order": null,
            "overflow": null,
            "overflow_x": null,
            "overflow_y": null,
            "padding": null,
            "right": null,
            "top": null,
            "visibility": null,
            "width": null
          }
        },
        "131486cd97144fbaa6e9527b945bc338": {
          "model_module": "@jupyter-widgets/controls",
          "model_name": "ProgressStyleModel",
          "model_module_version": "1.5.0",
          "state": {
            "_model_module": "@jupyter-widgets/controls",
            "_model_module_version": "1.5.0",
            "_model_name": "ProgressStyleModel",
            "_view_count": null,
            "_view_module": "@jupyter-widgets/base",
            "_view_module_version": "1.2.0",
            "_view_name": "StyleView",
            "bar_color": null,
            "description_width": ""
          }
        },
        "e0591379ba18432a93f51106623d118e": {
          "model_module": "@jupyter-widgets/base",
          "model_name": "LayoutModel",
          "model_module_version": "1.2.0",
          "state": {
            "_model_module": "@jupyter-widgets/base",
            "_model_module_version": "1.2.0",
            "_model_name": "LayoutModel",
            "_view_count": null,
            "_view_module": "@jupyter-widgets/base",
            "_view_module_version": "1.2.0",
            "_view_name": "LayoutView",
            "align_content": null,
            "align_items": null,
            "align_self": null,
            "border": null,
            "bottom": null,
            "display": null,
            "flex": null,
            "flex_flow": null,
            "grid_area": null,
            "grid_auto_columns": null,
            "grid_auto_flow": null,
            "grid_auto_rows": null,
            "grid_column": null,
            "grid_gap": null,
            "grid_row": null,
            "grid_template_areas": null,
            "grid_template_columns": null,
            "grid_template_rows": null,
            "height": null,
            "justify_content": null,
            "justify_items": null,
            "left": null,
            "margin": null,
            "max_height": null,
            "max_width": null,
            "min_height": null,
            "min_width": null,
            "object_fit": null,
            "object_position": null,
            "order": null,
            "overflow": null,
            "overflow_x": null,
            "overflow_y": null,
            "padding": null,
            "right": null,
            "top": null,
            "visibility": null,
            "width": null
          }
        },
        "b5611fd799fd4e5fa98b281ecc4d0609": {
          "model_module": "@jupyter-widgets/controls",
          "model_name": "DescriptionStyleModel",
          "model_module_version": "1.5.0",
          "state": {
            "_model_module": "@jupyter-widgets/controls",
            "_model_module_version": "1.5.0",
            "_model_name": "DescriptionStyleModel",
            "_view_count": null,
            "_view_module": "@jupyter-widgets/base",
            "_view_module_version": "1.2.0",
            "_view_name": "StyleView",
            "description_width": ""
          }
        }
      }
    }
  },
  "cells": [
    {
      "cell_type": "markdown",
      "metadata": {
        "id": "view-in-github",
        "colab_type": "text"
      },
      "source": [
        "<a href=\"https://colab.research.google.com/github/sihyeon3523/Six_of_cells/blob/modeling/Seunguk_(3)_lyricModelling.ipynb\" target=\"_parent\"><img src=\"https://colab.research.google.com/assets/colab-badge.svg\" alt=\"Open In Colab\"/></a>"
      ]
    },
    {
      "cell_type": "markdown",
      "source": [
        "<br>\n",
        "<br>\n",
        "\n",
        "# 0. Install & import libraries "
      ],
      "metadata": {
        "id": "gX_jZ07Dynfm"
      }
    },
    {
      "cell_type": "code",
      "source": [
        "from IPython.display import clear_output \n",
        "\n",
        "!pip install transformers==4.8.2\n",
        "!pip install sentencepiece==0.1.96\n",
        "!pip install tensorflow_addons\n",
        "\n",
        "clear_output()\n",
        "\n",
        "import sklearn\n",
        "import tensorflow\n",
        "import transformers\n",
        "import tensorflow_addons\n",
        "\n",
        "print(sklearn.__version__) # 1.0.2 \n",
        "print(tensorflow.__version__) # 2.8.0  \n",
        "print(transformers.__version__) # 4.8.2  \n",
        "print(tensorflow_addons.__version__) # 0.16.1 \n",
        "\n",
        "import sentencepiece\n",
        "\n",
        "import pandas as pd\n",
        "import numpy as np\n",
        "\n",
        "import os\n",
        "import re\n",
        "import pickle \n",
        "import dill # for saving a function as a file(.pkl)\n",
        "import logging # for changing the tf's logging level\n",
        "import urllib.request\n",
        "from tqdm import tqdm\n",
        "\n",
        "from sklearn import model_selection\n",
        "from sklearn.metrics import accuracy_score\n",
        "\n",
        "import tensorflow as tf\n",
        "import tensorflow_addons as tfa # for using Rectified-Adam optimizer (instead of Adam optimizer) \n",
        "from tensorflow.keras import layers, initializers, losses, optimizers, metrics, callbacks \n",
        "\n",
        "import transformers\n",
        "from transformers import TFBertModel # BertTokenizer 제외\n",
        "\n",
        "import sentencepiece as spm\n",
        "import ast  # str list to list"
      ],
      "metadata": {
        "id": "WYMLcxGyy6R4",
        "colab": {
          "base_uri": "https://localhost:8080/"
        },
        "outputId": "7d8c6321-d496-45e7-e910-2a0198a07481"
      },
      "execution_count": 6,
      "outputs": [
        {
          "output_type": "stream",
          "name": "stdout",
          "text": [
            "1.0.2\n",
            "2.8.0\n",
            "4.8.2\n",
            "0.17.0\n"
          ]
        }
      ]
    },
    {
      "cell_type": "code",
      "source": [
        "# Random seed 고정\n",
        "tf.random.set_seed(1234)\n",
        "np.random.seed(1234)\n",
        "\n",
        "# Transformers logging level 변경 (WARNING -> ERROR) @ https://huggingface.co/transformers/main_classes/logging.html\n",
        "transformers.logging.set_verbosity(transformers.logging.ERROR)\n",
        "\n",
        "# Tensorflow logging level 변경 \n",
        "tf.get_logger().setLevel(logging.ERROR)"
      ],
      "metadata": {
        "id": "ZP1nP5NXBT8W"
      },
      "execution_count": 7,
      "outputs": []
    },
    {
      "cell_type": "code",
      "source": [
        "#KoBERT 불러오기\n",
        "!git clone https://github.com/monologg/KoBERT-Transformers.git\n",
        "!mv KoBERT-Transformers/kobert_transformers/tokenization_kobert.py /content\n",
        "clear_output() # clear the output\n",
        "\n",
        "#토크나이저 생성\n",
        "from tokenization_kobert import KoBertTokenizer \n",
        "\n",
        "tokenizer = KoBertTokenizer.from_pretrained('monologg/kobert')"
      ],
      "metadata": {
        "id": "du0ZRI16BagI",
        "colab": {
          "base_uri": "https://localhost:8080/",
          "height": 113,
          "referenced_widgets": [
            "9b3daa7213904e5283fd449f6ad269f7",
            "167ea28cb41e43258ff749c4c7b7f1ce",
            "9c7ccfa1276d445d8e70524fdca34018",
            "7bc906fde2954ffca1c3b4b2d8fb680e",
            "ea45fa8c21514b998b87c7d2e8dd25ef",
            "463504cb7de244b18c84ad3342199b06",
            "371c02739fa1447a9866188c5af43b4c",
            "e26c1b771e7746d9980e4dafe8bcaf18",
            "483b138c5af74991825a7b98b5b556f9",
            "42afc0dd73124be9b0327f1d801af727",
            "ec54a62ee47d473c91d2288056615f68",
            "a9f53008418641c786163fa0cebd1677",
            "4ff28f6c5f7649fd9e8ea9b39fef093c",
            "6643b3100d0847f3acc78bb22b9e4b24",
            "05b6707a5468469caf59f81dc4730c46",
            "0248e9dbb3084bae9fb03fc301cd2a32",
            "9e8583f7f6b64bf09bb6342db49fbf74",
            "f58f06804d174ca9b3a2198c916d830d",
            "d064691db78f4edcbfcd61445d3d26d8",
            "0f4907a2cd7e4d8b95c5fd8e3ef85276",
            "a013a0c9bdd64700a570a1d9d2c64ede",
            "922646892a8e4734907b67a8b800440b",
            "6ef24d7eb7074b6e9fb5c3fe2f77f51e",
            "d0176ff9f0334066886a22624a7e7ca4",
            "fd36ab14a1d24b429b463dc687c45801",
            "68271fa0f9d348f096a8a735a0026378",
            "f0ffd4ae6f714575978aaf62470ceece",
            "4648a3ba09bf4d6dbeeebbba44862ada",
            "d6519cd1459d49bdaf98ad298b3f70a1",
            "90fc89a35f4e4088aac094623dbd7d2f",
            "ceb905e963d0481698f4c6cbd05cfba8",
            "61dee55cc3a64d86aaa5468b99f63e5f",
            "87f38e4eb3a94ed1a330ff5bfd9a0bc3"
          ]
        },
        "outputId": "550179c2-be6a-45d3-ae0a-5f51b1446fa5"
      },
      "execution_count": 8,
      "outputs": [
        {
          "output_type": "display_data",
          "data": {
            "text/plain": [
              "Downloading:   0%|          | 0.00/371k [00:00<?, ?B/s]"
            ],
            "application/vnd.jupyter.widget-view+json": {
              "version_major": 2,
              "version_minor": 0,
              "model_id": "9b3daa7213904e5283fd449f6ad269f7"
            }
          },
          "metadata": {}
        },
        {
          "output_type": "display_data",
          "data": {
            "text/plain": [
              "Downloading:   0%|          | 0.00/77.8k [00:00<?, ?B/s]"
            ],
            "application/vnd.jupyter.widget-view+json": {
              "version_major": 2,
              "version_minor": 0,
              "model_id": "a9f53008418641c786163fa0cebd1677"
            }
          },
          "metadata": {}
        },
        {
          "output_type": "display_data",
          "data": {
            "text/plain": [
              "Downloading:   0%|          | 0.00/51.0 [00:00<?, ?B/s]"
            ],
            "application/vnd.jupyter.widget-view+json": {
              "version_major": 2,
              "version_minor": 0,
              "model_id": "6ef24d7eb7074b6e9fb5c3fe2f77f51e"
            }
          },
          "metadata": {}
        }
      ]
    },
    {
      "cell_type": "markdown",
      "source": [
        "# Import Google Drive "
      ],
      "metadata": {
        "id": "X6qL5EKSBowl"
      }
    },
    {
      "cell_type": "code",
      "source": [
        "from google.colab import drive\n",
        "drive.mount('/content/drive')"
      ],
      "metadata": {
        "id": "pEPEnIFu94xb",
        "colab": {
          "base_uri": "https://localhost:8080/"
        },
        "outputId": "792b2c3c-6fba-4c3b-e3ef-7dd32ecb4851"
      },
      "execution_count": 9,
      "outputs": [
        {
          "output_type": "stream",
          "name": "stdout",
          "text": [
            "Drive already mounted at /content/drive; to attempt to forcibly remount, call drive.mount(\"/content/drive\", force_remount=True).\n"
          ]
        }
      ]
    },
    {
      "cell_type": "code",
      "source": [
        "os.getcwd()"
      ],
      "metadata": {
        "id": "DFlih56_7FbR",
        "colab": {
          "base_uri": "https://localhost:8080/",
          "height": 35
        },
        "outputId": "a39605a0-cf5e-4860-b0c8-f2845784454c"
      },
      "execution_count": 10,
      "outputs": [
        {
          "output_type": "execute_result",
          "data": {
            "text/plain": [
              "'/content'"
            ],
            "application/vnd.google.colaboratory.intrinsic+json": {
              "type": "string"
            }
          },
          "metadata": {},
          "execution_count": 10
        }
      ]
    },
    {
      "cell_type": "code",
      "source": [
        "# 경로만 바꾸면 됨!\n",
        "path = '/content/drive/MyDrive/likelion/proj_fin_seunguk'# google drive project path\n",
        "data_path = 'colab_data/temp_data/' # model data path\n",
        "checkpoint_path = 'colab_data/temp_data/saved_models/' # saved model path\n",
        "\n",
        "os.chdir(path)"
      ],
      "metadata": {
        "id": "EaiTyc8n5Oev"
      },
      "execution_count": 11,
      "outputs": []
    },
    {
      "cell_type": "markdown",
      "source": [
        "# 1. Load the Data"
      ],
      "metadata": {
        "id": "35DqagFHBmlm"
      }
    },
    {
      "cell_type": "code",
      "source": [
        "df_allsongs_original = pd.read_csv('df_allsongs.csv', lineterminator='\\n')"
      ],
      "metadata": {
        "id": "tA1axB-LzH_N"
      },
      "execution_count": 12,
      "outputs": []
    },
    {
      "cell_type": "code",
      "source": [
        "df_allsongs_original.head(3)"
      ],
      "metadata": {
        "id": "dYC3vZoJzMyR",
        "colab": {
          "base_uri": "https://localhost:8080/",
          "height": 465
        },
        "outputId": "a30a0b15-3037-404e-bd2e-c56ff3b3e8e3"
      },
      "execution_count": 13,
      "outputs": [
        {
          "output_type": "execute_result",
          "data": {
            "text/plain": [
              "   Unnamed: 0      Title      Artist        Date       Genre  \\\n",
              "0           0     나의 X에게          경서  2022.04.24         발라드   \n",
              "1           1       취중고백  김민석 (멜로망스)  2021.12.19         발라드   \n",
              "2           2  사랑은 늘 도망가         임영웅  2021.10.11  발라드, 국내드라마   \n",
              "\n",
              "                                               Lyric  \\\n",
              "0  우리 다시 만날래예쁘게 빛나던모든 추억들이너무 그리워너의 품에 안길래이 밤이 새도록...   \n",
              "1  뭐하고 있었니 늦었지만잠시 나올래너의 집 골목에 있는놀이터에 앉아 있어친구들 만나서...   \n",
              "2  눈물이 난다 이 길을 걸으면그 사람 손길이 자꾸 생각이 난다붙잡지 못하고 가슴만 떨...   \n",
              "\n",
              "                                          Lyric_ver2  \\\n",
              "0  <div class=\"lyric\" id=\"d_video_summary\"><!-- h...   \n",
              "1  <div class=\"lyric\" id=\"d_video_summary\"><!-- h...   \n",
              "2  <div class=\"lyric\" id=\"d_video_summary\"><!-- h...   \n",
              "\n",
              "                               preprocess_Lyric_ver2  \\\n",
              "0  우리 다시 만날래 예쁘게 빛나던 모든 추억들이 너무 그리워 너의 품에 안길래 이 밤...   \n",
              "1  뭐하고 있었니 늦었지만 잠시 나올래 너의 집 골목에 있는 놀이터에 앉아 있어 친구들...   \n",
              "2  눈물이 난다 이 길을 걸으면 그 사람 손길이 자꾸 생각이 난다 붙잡지 못하고 가슴만...   \n",
              "\n",
              "                               preprocess_Lyric_ver3  \n",
              "0  ['우리 다시 만날래', '예쁘게 빛나던', '모든 추억들이', '너무 그리워', ...  \n",
              "1  ['뭐하고 있었니 늦었지만', '잠시 나올래', '너의 집 골목에 있는', '놀이터...  \n",
              "2  ['눈물이 난다 이 길을 걸으면', '그 사람 손길이 자꾸 생각이 난다', '붙잡지...  "
            ],
            "text/html": [
              "\n",
              "  <div id=\"df-645870b5-4cb2-4864-bff9-04e6e26b71a8\">\n",
              "    <div class=\"colab-df-container\">\n",
              "      <div>\n",
              "<style scoped>\n",
              "    .dataframe tbody tr th:only-of-type {\n",
              "        vertical-align: middle;\n",
              "    }\n",
              "\n",
              "    .dataframe tbody tr th {\n",
              "        vertical-align: top;\n",
              "    }\n",
              "\n",
              "    .dataframe thead th {\n",
              "        text-align: right;\n",
              "    }\n",
              "</style>\n",
              "<table border=\"1\" class=\"dataframe\">\n",
              "  <thead>\n",
              "    <tr style=\"text-align: right;\">\n",
              "      <th></th>\n",
              "      <th>Unnamed: 0</th>\n",
              "      <th>Title</th>\n",
              "      <th>Artist</th>\n",
              "      <th>Date</th>\n",
              "      <th>Genre</th>\n",
              "      <th>Lyric</th>\n",
              "      <th>Lyric_ver2</th>\n",
              "      <th>preprocess_Lyric_ver2</th>\n",
              "      <th>preprocess_Lyric_ver3</th>\n",
              "    </tr>\n",
              "  </thead>\n",
              "  <tbody>\n",
              "    <tr>\n",
              "      <th>0</th>\n",
              "      <td>0</td>\n",
              "      <td>나의 X에게</td>\n",
              "      <td>경서</td>\n",
              "      <td>2022.04.24</td>\n",
              "      <td>발라드</td>\n",
              "      <td>우리 다시 만날래예쁘게 빛나던모든 추억들이너무 그리워너의 품에 안길래이 밤이 새도록...</td>\n",
              "      <td>&lt;div class=\"lyric\" id=\"d_video_summary\"&gt;&lt;!-- h...</td>\n",
              "      <td>우리 다시 만날래 예쁘게 빛나던 모든 추억들이 너무 그리워 너의 품에 안길래 이 밤...</td>\n",
              "      <td>['우리 다시 만날래', '예쁘게 빛나던', '모든 추억들이', '너무 그리워', ...</td>\n",
              "    </tr>\n",
              "    <tr>\n",
              "      <th>1</th>\n",
              "      <td>1</td>\n",
              "      <td>취중고백</td>\n",
              "      <td>김민석 (멜로망스)</td>\n",
              "      <td>2021.12.19</td>\n",
              "      <td>발라드</td>\n",
              "      <td>뭐하고 있었니 늦었지만잠시 나올래너의 집 골목에 있는놀이터에 앉아 있어친구들 만나서...</td>\n",
              "      <td>&lt;div class=\"lyric\" id=\"d_video_summary\"&gt;&lt;!-- h...</td>\n",
              "      <td>뭐하고 있었니 늦었지만 잠시 나올래 너의 집 골목에 있는 놀이터에 앉아 있어 친구들...</td>\n",
              "      <td>['뭐하고 있었니 늦었지만', '잠시 나올래', '너의 집 골목에 있는', '놀이터...</td>\n",
              "    </tr>\n",
              "    <tr>\n",
              "      <th>2</th>\n",
              "      <td>2</td>\n",
              "      <td>사랑은 늘 도망가</td>\n",
              "      <td>임영웅</td>\n",
              "      <td>2021.10.11</td>\n",
              "      <td>발라드, 국내드라마</td>\n",
              "      <td>눈물이 난다 이 길을 걸으면그 사람 손길이 자꾸 생각이 난다붙잡지 못하고 가슴만 떨...</td>\n",
              "      <td>&lt;div class=\"lyric\" id=\"d_video_summary\"&gt;&lt;!-- h...</td>\n",
              "      <td>눈물이 난다 이 길을 걸으면 그 사람 손길이 자꾸 생각이 난다 붙잡지 못하고 가슴만...</td>\n",
              "      <td>['눈물이 난다 이 길을 걸으면', '그 사람 손길이 자꾸 생각이 난다', '붙잡지...</td>\n",
              "    </tr>\n",
              "  </tbody>\n",
              "</table>\n",
              "</div>\n",
              "      <button class=\"colab-df-convert\" onclick=\"convertToInteractive('df-645870b5-4cb2-4864-bff9-04e6e26b71a8')\"\n",
              "              title=\"Convert this dataframe to an interactive table.\"\n",
              "              style=\"display:none;\">\n",
              "        \n",
              "  <svg xmlns=\"http://www.w3.org/2000/svg\" height=\"24px\"viewBox=\"0 0 24 24\"\n",
              "       width=\"24px\">\n",
              "    <path d=\"M0 0h24v24H0V0z\" fill=\"none\"/>\n",
              "    <path d=\"M18.56 5.44l.94 2.06.94-2.06 2.06-.94-2.06-.94-.94-2.06-.94 2.06-2.06.94zm-11 1L8.5 8.5l.94-2.06 2.06-.94-2.06-.94L8.5 2.5l-.94 2.06-2.06.94zm10 10l.94 2.06.94-2.06 2.06-.94-2.06-.94-.94-2.06-.94 2.06-2.06.94z\"/><path d=\"M17.41 7.96l-1.37-1.37c-.4-.4-.92-.59-1.43-.59-.52 0-1.04.2-1.43.59L10.3 9.45l-7.72 7.72c-.78.78-.78 2.05 0 2.83L4 21.41c.39.39.9.59 1.41.59.51 0 1.02-.2 1.41-.59l7.78-7.78 2.81-2.81c.8-.78.8-2.07 0-2.86zM5.41 20L4 18.59l7.72-7.72 1.47 1.35L5.41 20z\"/>\n",
              "  </svg>\n",
              "      </button>\n",
              "      \n",
              "  <style>\n",
              "    .colab-df-container {\n",
              "      display:flex;\n",
              "      flex-wrap:wrap;\n",
              "      gap: 12px;\n",
              "    }\n",
              "\n",
              "    .colab-df-convert {\n",
              "      background-color: #E8F0FE;\n",
              "      border: none;\n",
              "      border-radius: 50%;\n",
              "      cursor: pointer;\n",
              "      display: none;\n",
              "      fill: #1967D2;\n",
              "      height: 32px;\n",
              "      padding: 0 0 0 0;\n",
              "      width: 32px;\n",
              "    }\n",
              "\n",
              "    .colab-df-convert:hover {\n",
              "      background-color: #E2EBFA;\n",
              "      box-shadow: 0px 1px 2px rgba(60, 64, 67, 0.3), 0px 1px 3px 1px rgba(60, 64, 67, 0.15);\n",
              "      fill: #174EA6;\n",
              "    }\n",
              "\n",
              "    [theme=dark] .colab-df-convert {\n",
              "      background-color: #3B4455;\n",
              "      fill: #D2E3FC;\n",
              "    }\n",
              "\n",
              "    [theme=dark] .colab-df-convert:hover {\n",
              "      background-color: #434B5C;\n",
              "      box-shadow: 0px 1px 3px 1px rgba(0, 0, 0, 0.15);\n",
              "      filter: drop-shadow(0px 1px 2px rgba(0, 0, 0, 0.3));\n",
              "      fill: #FFFFFF;\n",
              "    }\n",
              "  </style>\n",
              "\n",
              "      <script>\n",
              "        const buttonEl =\n",
              "          document.querySelector('#df-645870b5-4cb2-4864-bff9-04e6e26b71a8 button.colab-df-convert');\n",
              "        buttonEl.style.display =\n",
              "          google.colab.kernel.accessAllowed ? 'block' : 'none';\n",
              "\n",
              "        async function convertToInteractive(key) {\n",
              "          const element = document.querySelector('#df-645870b5-4cb2-4864-bff9-04e6e26b71a8');\n",
              "          const dataTable =\n",
              "            await google.colab.kernel.invokeFunction('convertToInteractive',\n",
              "                                                     [key], {});\n",
              "          if (!dataTable) return;\n",
              "\n",
              "          const docLinkHtml = 'Like what you see? Visit the ' +\n",
              "            '<a target=\"_blank\" href=https://colab.research.google.com/notebooks/data_table.ipynb>data table notebook</a>'\n",
              "            + ' to learn more about interactive tables.';\n",
              "          element.innerHTML = '';\n",
              "          dataTable['output_type'] = 'display_data';\n",
              "          await google.colab.output.renderOutput(dataTable, element);\n",
              "          const docLink = document.createElement('div');\n",
              "          docLink.innerHTML = docLinkHtml;\n",
              "          element.appendChild(docLink);\n",
              "        }\n",
              "      </script>\n",
              "    </div>\n",
              "  </div>\n",
              "  "
            ]
          },
          "metadata": {},
          "execution_count": 13
        }
      ]
    },
    {
      "cell_type": "code",
      "source": [
        "df_allsongs = df_allsongs_original[[\"Title\", \"Artist\", \"Date\", \"Genre\", \"preprocess_Lyric_ver3\"]]\n",
        "df_allsongs"
      ],
      "metadata": {
        "id": "vzWVzsGt0-hw",
        "colab": {
          "base_uri": "https://localhost:8080/",
          "height": 424
        },
        "outputId": "5fda8af2-e2d9-46a5-a612-e8e6b52b0932"
      },
      "execution_count": 14,
      "outputs": [
        {
          "output_type": "execute_result",
          "data": {
            "text/plain": [
              "              Title         Artist        Date       Genre  \\\n",
              "0            나의 X에게             경서  2022.04.24         발라드   \n",
              "1              취중고백     김민석 (멜로망스)  2021.12.19         발라드   \n",
              "2         사랑은 늘 도망가            임영웅  2021.10.11  발라드, 국내드라마   \n",
              "3            듣고 싶을까  MSG워너비(M.O.M)  2022.02.26         발라드   \n",
              "4     다정히 내 이름을 부르면           경서예지  2021.05.19         발라드   \n",
              "...             ...            ...         ...         ...   \n",
              "3604             애수            진시몬  2004.10.01    성인가요/트로트   \n",
              "3605     단장의 미아리 고개            송가인  2020.12.26    성인가요/트로트   \n",
              "3606      어머님 사랑합니다            송가인  2021.05.27    성인가요/트로트   \n",
              "3607         영동 부르스            송가인  2021.06.13    성인가요/트로트   \n",
              "3608      일소일소 일노일노            임영웅  2020.04.17    성인가요/트로트   \n",
              "\n",
              "                                  preprocess_Lyric_ver3  \n",
              "0     ['우리 다시 만날래', '예쁘게 빛나던', '모든 추억들이', '너무 그리워', ...  \n",
              "1     ['뭐하고 있었니 늦었지만', '잠시 나올래', '너의 집 골목에 있는', '놀이터...  \n",
              "2     ['눈물이 난다 이 길을 걸으면', '그 사람 손길이 자꾸 생각이 난다', '붙잡지...  \n",
              "3     ['우리 함께 듣던 그 노랠 듣고 싶을까', '듣고 나서 잠시 날 생각은 할까', ...  \n",
              "4     ['끝없이 별빛이 내리던 밤', '기분 좋은 바람이', '두 빰을 스치고', '새벽...  \n",
              "...                                                 ...  \n",
              "3604  ['아직도 모르겠어 난 정말 ', '', '꿈이라 생각해야 하는지 ', '', '너...  \n",
              "3605  ['미아리 눈물고개', '임이 넘던 이별 고개', '화약 연기 앞을 가려', '눈 ...  \n",
              "3606  ['꽃다운 열아홉에', '연지 찍고 시집와서', '손발이 터지도록', '고생하신 어...  \n",
              "3607  ['헤어지기 싫어서 애태우던 그 날 밤', '피눈물에 얼룩진 그대의 모습', '어차...  \n",
              "3608  ['세상사 스무고개 길', '좋은 날만 있을까', '이왕이라면 웃으며 살자', '말...  \n",
              "\n",
              "[3609 rows x 5 columns]"
            ],
            "text/html": [
              "\n",
              "  <div id=\"df-0fac8d23-9747-4c8f-93b9-adad3aec1a8c\">\n",
              "    <div class=\"colab-df-container\">\n",
              "      <div>\n",
              "<style scoped>\n",
              "    .dataframe tbody tr th:only-of-type {\n",
              "        vertical-align: middle;\n",
              "    }\n",
              "\n",
              "    .dataframe tbody tr th {\n",
              "        vertical-align: top;\n",
              "    }\n",
              "\n",
              "    .dataframe thead th {\n",
              "        text-align: right;\n",
              "    }\n",
              "</style>\n",
              "<table border=\"1\" class=\"dataframe\">\n",
              "  <thead>\n",
              "    <tr style=\"text-align: right;\">\n",
              "      <th></th>\n",
              "      <th>Title</th>\n",
              "      <th>Artist</th>\n",
              "      <th>Date</th>\n",
              "      <th>Genre</th>\n",
              "      <th>preprocess_Lyric_ver3</th>\n",
              "    </tr>\n",
              "  </thead>\n",
              "  <tbody>\n",
              "    <tr>\n",
              "      <th>0</th>\n",
              "      <td>나의 X에게</td>\n",
              "      <td>경서</td>\n",
              "      <td>2022.04.24</td>\n",
              "      <td>발라드</td>\n",
              "      <td>['우리 다시 만날래', '예쁘게 빛나던', '모든 추억들이', '너무 그리워', ...</td>\n",
              "    </tr>\n",
              "    <tr>\n",
              "      <th>1</th>\n",
              "      <td>취중고백</td>\n",
              "      <td>김민석 (멜로망스)</td>\n",
              "      <td>2021.12.19</td>\n",
              "      <td>발라드</td>\n",
              "      <td>['뭐하고 있었니 늦었지만', '잠시 나올래', '너의 집 골목에 있는', '놀이터...</td>\n",
              "    </tr>\n",
              "    <tr>\n",
              "      <th>2</th>\n",
              "      <td>사랑은 늘 도망가</td>\n",
              "      <td>임영웅</td>\n",
              "      <td>2021.10.11</td>\n",
              "      <td>발라드, 국내드라마</td>\n",
              "      <td>['눈물이 난다 이 길을 걸으면', '그 사람 손길이 자꾸 생각이 난다', '붙잡지...</td>\n",
              "    </tr>\n",
              "    <tr>\n",
              "      <th>3</th>\n",
              "      <td>듣고 싶을까</td>\n",
              "      <td>MSG워너비(M.O.M)</td>\n",
              "      <td>2022.02.26</td>\n",
              "      <td>발라드</td>\n",
              "      <td>['우리 함께 듣던 그 노랠 듣고 싶을까', '듣고 나서 잠시 날 생각은 할까', ...</td>\n",
              "    </tr>\n",
              "    <tr>\n",
              "      <th>4</th>\n",
              "      <td>다정히 내 이름을 부르면</td>\n",
              "      <td>경서예지</td>\n",
              "      <td>2021.05.19</td>\n",
              "      <td>발라드</td>\n",
              "      <td>['끝없이 별빛이 내리던 밤', '기분 좋은 바람이', '두 빰을 스치고', '새벽...</td>\n",
              "    </tr>\n",
              "    <tr>\n",
              "      <th>...</th>\n",
              "      <td>...</td>\n",
              "      <td>...</td>\n",
              "      <td>...</td>\n",
              "      <td>...</td>\n",
              "      <td>...</td>\n",
              "    </tr>\n",
              "    <tr>\n",
              "      <th>3604</th>\n",
              "      <td>애수</td>\n",
              "      <td>진시몬</td>\n",
              "      <td>2004.10.01</td>\n",
              "      <td>성인가요/트로트</td>\n",
              "      <td>['아직도 모르겠어 난 정말 ', '', '꿈이라 생각해야 하는지 ', '', '너...</td>\n",
              "    </tr>\n",
              "    <tr>\n",
              "      <th>3605</th>\n",
              "      <td>단장의 미아리 고개</td>\n",
              "      <td>송가인</td>\n",
              "      <td>2020.12.26</td>\n",
              "      <td>성인가요/트로트</td>\n",
              "      <td>['미아리 눈물고개', '임이 넘던 이별 고개', '화약 연기 앞을 가려', '눈 ...</td>\n",
              "    </tr>\n",
              "    <tr>\n",
              "      <th>3606</th>\n",
              "      <td>어머님 사랑합니다</td>\n",
              "      <td>송가인</td>\n",
              "      <td>2021.05.27</td>\n",
              "      <td>성인가요/트로트</td>\n",
              "      <td>['꽃다운 열아홉에', '연지 찍고 시집와서', '손발이 터지도록', '고생하신 어...</td>\n",
              "    </tr>\n",
              "    <tr>\n",
              "      <th>3607</th>\n",
              "      <td>영동 부르스</td>\n",
              "      <td>송가인</td>\n",
              "      <td>2021.06.13</td>\n",
              "      <td>성인가요/트로트</td>\n",
              "      <td>['헤어지기 싫어서 애태우던 그 날 밤', '피눈물에 얼룩진 그대의 모습', '어차...</td>\n",
              "    </tr>\n",
              "    <tr>\n",
              "      <th>3608</th>\n",
              "      <td>일소일소 일노일노</td>\n",
              "      <td>임영웅</td>\n",
              "      <td>2020.04.17</td>\n",
              "      <td>성인가요/트로트</td>\n",
              "      <td>['세상사 스무고개 길', '좋은 날만 있을까', '이왕이라면 웃으며 살자', '말...</td>\n",
              "    </tr>\n",
              "  </tbody>\n",
              "</table>\n",
              "<p>3609 rows × 5 columns</p>\n",
              "</div>\n",
              "      <button class=\"colab-df-convert\" onclick=\"convertToInteractive('df-0fac8d23-9747-4c8f-93b9-adad3aec1a8c')\"\n",
              "              title=\"Convert this dataframe to an interactive table.\"\n",
              "              style=\"display:none;\">\n",
              "        \n",
              "  <svg xmlns=\"http://www.w3.org/2000/svg\" height=\"24px\"viewBox=\"0 0 24 24\"\n",
              "       width=\"24px\">\n",
              "    <path d=\"M0 0h24v24H0V0z\" fill=\"none\"/>\n",
              "    <path d=\"M18.56 5.44l.94 2.06.94-2.06 2.06-.94-2.06-.94-.94-2.06-.94 2.06-2.06.94zm-11 1L8.5 8.5l.94-2.06 2.06-.94-2.06-.94L8.5 2.5l-.94 2.06-2.06.94zm10 10l.94 2.06.94-2.06 2.06-.94-2.06-.94-.94-2.06-.94 2.06-2.06.94z\"/><path d=\"M17.41 7.96l-1.37-1.37c-.4-.4-.92-.59-1.43-.59-.52 0-1.04.2-1.43.59L10.3 9.45l-7.72 7.72c-.78.78-.78 2.05 0 2.83L4 21.41c.39.39.9.59 1.41.59.51 0 1.02-.2 1.41-.59l7.78-7.78 2.81-2.81c.8-.78.8-2.07 0-2.86zM5.41 20L4 18.59l7.72-7.72 1.47 1.35L5.41 20z\"/>\n",
              "  </svg>\n",
              "      </button>\n",
              "      \n",
              "  <style>\n",
              "    .colab-df-container {\n",
              "      display:flex;\n",
              "      flex-wrap:wrap;\n",
              "      gap: 12px;\n",
              "    }\n",
              "\n",
              "    .colab-df-convert {\n",
              "      background-color: #E8F0FE;\n",
              "      border: none;\n",
              "      border-radius: 50%;\n",
              "      cursor: pointer;\n",
              "      display: none;\n",
              "      fill: #1967D2;\n",
              "      height: 32px;\n",
              "      padding: 0 0 0 0;\n",
              "      width: 32px;\n",
              "    }\n",
              "\n",
              "    .colab-df-convert:hover {\n",
              "      background-color: #E2EBFA;\n",
              "      box-shadow: 0px 1px 2px rgba(60, 64, 67, 0.3), 0px 1px 3px 1px rgba(60, 64, 67, 0.15);\n",
              "      fill: #174EA6;\n",
              "    }\n",
              "\n",
              "    [theme=dark] .colab-df-convert {\n",
              "      background-color: #3B4455;\n",
              "      fill: #D2E3FC;\n",
              "    }\n",
              "\n",
              "    [theme=dark] .colab-df-convert:hover {\n",
              "      background-color: #434B5C;\n",
              "      box-shadow: 0px 1px 3px 1px rgba(0, 0, 0, 0.15);\n",
              "      filter: drop-shadow(0px 1px 2px rgba(0, 0, 0, 0.3));\n",
              "      fill: #FFFFFF;\n",
              "    }\n",
              "  </style>\n",
              "\n",
              "      <script>\n",
              "        const buttonEl =\n",
              "          document.querySelector('#df-0fac8d23-9747-4c8f-93b9-adad3aec1a8c button.colab-df-convert');\n",
              "        buttonEl.style.display =\n",
              "          google.colab.kernel.accessAllowed ? 'block' : 'none';\n",
              "\n",
              "        async function convertToInteractive(key) {\n",
              "          const element = document.querySelector('#df-0fac8d23-9747-4c8f-93b9-adad3aec1a8c');\n",
              "          const dataTable =\n",
              "            await google.colab.kernel.invokeFunction('convertToInteractive',\n",
              "                                                     [key], {});\n",
              "          if (!dataTable) return;\n",
              "\n",
              "          const docLinkHtml = 'Like what you see? Visit the ' +\n",
              "            '<a target=\"_blank\" href=https://colab.research.google.com/notebooks/data_table.ipynb>data table notebook</a>'\n",
              "            + ' to learn more about interactive tables.';\n",
              "          element.innerHTML = '';\n",
              "          dataTable['output_type'] = 'display_data';\n",
              "          await google.colab.output.renderOutput(dataTable, element);\n",
              "          const docLink = document.createElement('div');\n",
              "          docLink.innerHTML = docLinkHtml;\n",
              "          element.appendChild(docLink);\n",
              "        }\n",
              "      </script>\n",
              "    </div>\n",
              "  </div>\n",
              "  "
            ]
          },
          "metadata": {},
          "execution_count": 14
        }
      ]
    },
    {
      "cell_type": "code",
      "source": [
        "print(df_allsongs.info())\n",
        "print(df_allsongs.describe())"
      ],
      "metadata": {
        "id": "VcmkX5k9Hjgw",
        "colab": {
          "base_uri": "https://localhost:8080/"
        },
        "outputId": "f782d500-3b45-4ed9-8ce4-d4878f9a611b"
      },
      "execution_count": 15,
      "outputs": [
        {
          "output_type": "stream",
          "name": "stdout",
          "text": [
            "<class 'pandas.core.frame.DataFrame'>\n",
            "RangeIndex: 3609 entries, 0 to 3608\n",
            "Data columns (total 5 columns):\n",
            " #   Column                 Non-Null Count  Dtype \n",
            "---  ------                 --------------  ----- \n",
            " 0   Title                  3609 non-null   object\n",
            " 1   Artist                 3609 non-null   object\n",
            " 2   Date                   3609 non-null   object\n",
            " 3   Genre                  3609 non-null   object\n",
            " 4   preprocess_Lyric_ver3  3609 non-null   object\n",
            "dtypes: object(5)\n",
            "memory usage: 141.1+ KB\n",
            "None\n",
            "       Title Artist        Date Genre  \\\n",
            "count   3609   3609        3609  3609   \n",
            "unique  3358    947        2042    41   \n",
            "top       고백    임영웅  2022.05.20    댄스   \n",
            "freq      10     90          19   486   \n",
            "\n",
            "                                    preprocess_Lyric_ver3  \n",
            "count                                                3609  \n",
            "unique                                               3609  \n",
            "top     ['우리 다시 만날래', '예쁘게 빛나던', '모든 추억들이', '너무 그리워', ...  \n",
            "freq                                                    1  \n"
          ]
        }
      ]
    },
    {
      "cell_type": "code",
      "source": [
        "df_allsongs.preprocess_Lyric_ver3.iloc[12]"
      ],
      "metadata": {
        "id": "CIv6nQUhhFwG",
        "colab": {
          "base_uri": "https://localhost:8080/",
          "height": 140
        },
        "outputId": "2eaf5b73-493f-4d33-ae59-a2770fd8d1f1"
      },
      "execution_count": 16,
      "outputs": [
        {
          "output_type": "execute_result",
          "data": {
            "text/plain": [
              "\"['느낌이 오잖아 ', '떨리고 있잖아', '언제까지 눈치만 볼 거니', '네 맘을 말해봐 ', '딴청 피우지 말란 말이야', '네 맘 가는 그대로 ', '지금 내 손을 잡아', '어서 내 손을 잡아', '우연히 고개를 돌릴 때 마다', '눈이 마주치는 건', '며칠 밤 내내 꿈속에 나타나', '밤새 나를 괴롭히는 건', '그 많은 빈자리 중에서 하필', '내 옆자릴 고르는 건', '나도 모르게 어느새 실없는 웃음', '흘리고 있다는 건', '그럼 말 다했지 뭐', '우리 얘기 좀 할까', '느낌이 오잖아 떨리고 있잖아', '언제까지 눈치만 볼 거니', '네 맘을 말해봐 ', '딴청 피우지 말란 말이야', '네 맘 가는 그대로 ', '지금 내 손을 잡아', '핸드폰 진동에 ', '심장이 덜컥내려 앉는다는 건', '오 나도 모르게 ', '어느새 짓궂은 네 말투', '자꾸 듣고 싶은걸', '어떡해', '저기 멀리 걸어온다', '눈이 마주친다', '언제까지 넌 모른척 할거니', '사랑이 온거야 너와 나 말이야', '네가 좋아 정말 못 견딜 만큼', '그거면 된거야 ', '더는 생각하지 말란 말이야', '네 맘 가는 그대로', '느낌이 오잖아 떨리고 있잖아', '언제까지 눈치만 볼 거니', '네 맘을 말해봐 ', '딴청 피우지 말란 말이야', '네 맘 가는 그대로 ', '지금 내 손을 잡아', '그냥 내 손을 잡아', '지금 내 손을 잡아', ' ', '']\""
            ],
            "application/vnd.google.colaboratory.intrinsic+json": {
              "type": "string"
            }
          },
          "metadata": {},
          "execution_count": 16
        }
      ]
    },
    {
      "cell_type": "markdown",
      "source": [
        "# Load saved Model\n"
      ],
      "metadata": {
        "id": "5AH_bjFE_DlY"
      }
    },
    {
      "cell_type": "code",
      "source": [
        "# 1) Load the Model-builder (function)\n",
        "with open(data_path + 'model_BERTfunction_v1.pkl', 'rb') as f:\n",
        "    create_model = dill.loads(pickle.load(f)) # use dill to pickle a python function\n",
        "\n",
        "# 2) Load the Bert-tokenizer \n",
        "with open(data_path + 'tokenizer-bert.pkl', 'rb') as f:\n",
        "    tokenizer = pickle.load(f) \n",
        "\n",
        "\n",
        "# 3) Create the model & load the Model-weights (from checkpoint file)\n",
        "resolver = tf.distribute.cluster_resolver.TPUClusterResolver(tpu='grpc://' + os.environ['COLAB_TPU_ADDR'])\n",
        "tf.config.experimental_connect_to_cluster(resolver)\n",
        "tf.tpu.experimental.initialize_tpu_system(resolver)\n",
        "strategy = tf.distribute.TPUStrategy(resolver) # Obsolete : tf.distribute.experimental.TPUStrategy()\n",
        "\n",
        "with strategy.scope(): \n",
        "    model = create_model(max_length=300) \n",
        "\n",
        "model.load_weights(filepath=checkpoint_path + 'best_bert_weights.h5')"
      ],
      "metadata": {
        "id": "IqkTwemez5n3",
        "colab": {
          "base_uri": "https://localhost:8080/",
          "height": 98,
          "referenced_widgets": [
            "55c75cebfbc7496a882deb417a5015aa",
            "e8c4fa1591694a75b9cfbc6bcb877a11",
            "ccbf696c05704d6ca553cce04bc49d30",
            "167acf1decf74c4a860975c579622011",
            "ab2ebcf7a5a84955b3c4791d31025f2b",
            "1406904164dc40c488af7eb89d3aa881",
            "2d01a9c09d9149a0adbd135c053811d6",
            "4a3c1ae8515f4e31aa1359715228910b",
            "7085bd184ef84eec88b62e42ea7f798b",
            "c1e91dd65b354b5fab6f410b95f4f165",
            "c5958e251f074034b6793cb44e8e6700",
            "61e0f426d2a8471e9b41ed112aecebaf",
            "c6d8a5f636944676bc34cb0e7142f127",
            "300ffa5d1f9142fda1ccc1b11f88424b",
            "930f8861463b45a3b3b6e58f6d212cbb",
            "f7122ccb0b41410b8b2299680d181f37",
            "6cfc9965ddef4d468bf79c79a5582a25",
            "9945bcc3d86e461ab2cc04af7208a710",
            "b66ac5cad9294f7584793a3100f51987",
            "131486cd97144fbaa6e9527b945bc338",
            "e0591379ba18432a93f51106623d118e",
            "b5611fd799fd4e5fa98b281ecc4d0609"
          ]
        },
        "outputId": "0a6f8a28-5c9b-4563-c4c5-374e0f1a56b7"
      },
      "execution_count": 17,
      "outputs": [
        {
          "output_type": "stream",
          "name": "stderr",
          "text": [
            "INFO:absl:Entering into master device scope: /job:worker/replica:0/task:0/device:CPU:0\n"
          ]
        },
        {
          "output_type": "display_data",
          "data": {
            "text/plain": [
              "Downloading:   0%|          | 0.00/426 [00:00<?, ?B/s]"
            ],
            "application/vnd.jupyter.widget-view+json": {
              "version_major": 2,
              "version_minor": 0,
              "model_id": "55c75cebfbc7496a882deb417a5015aa"
            }
          },
          "metadata": {}
        },
        {
          "output_type": "display_data",
          "data": {
            "text/plain": [
              "Downloading:   0%|          | 0.00/369M [00:00<?, ?B/s]"
            ],
            "application/vnd.jupyter.widget-view+json": {
              "version_major": 2,
              "version_minor": 0,
              "model_id": "61e0f426d2a8471e9b41ed112aecebaf"
            }
          },
          "metadata": {}
        }
      ]
    },
    {
      "cell_type": "markdown",
      "source": [
        "# Classifier as a function"
      ],
      "metadata": {
        "id": "yYz-CbvMAJ1Z"
      }
    },
    {
      "cell_type": "code",
      "source": [
        "def predict_sentiment_element(sentence, tokenizer, model):\n",
        "    \"\"\"\n",
        "    가사 내 문장 별 확률 값 추출\n",
        "    \"\"\"    \n",
        "    SEQ_LEN = 300 \n",
        "\n",
        "    # Tokenizing / Tokens to sequence numbers / Padding\n",
        "    encoded_dict = tokenizer.encode_plus(text=re.sub(\"[^\\s0-9a-zA-Zㄱ-ㅎㅏ-ㅣ가-힣]\", \"\", sentence), # 특수문자 제거\n",
        "                                         padding='max_length', \n",
        "                                         truncation = True,\n",
        "                                         max_length=SEQ_LEN) \n",
        "    \n",
        "    token_ids = np.array(encoded_dict['input_ids']).reshape(1, -1) \n",
        "    token_masks = np.array(encoded_dict['attention_mask']).reshape(1, -1)\n",
        "    token_segments = np.array(encoded_dict['token_type_ids']).reshape(1, -1)\n",
        "    \n",
        "    new_inputs = (token_ids, token_masks, token_segments)\n",
        "\n",
        "    # Prediction\n",
        "    pred = model.predict(new_inputs) \n",
        "    all_pred_proba = np.round(pred * 100, 2)\n",
        "    \n",
        "    #top_pred_proba = np.round(np.max(pred) * 100, 2) \n",
        "    #pred_class = ['분노혐오','놀람공포','슬픔','행복'][np.argmax(pred, axis=1)[0]] # 수정하면 4개 클래스 다 나올듯! \n",
        "    #print(\"{}% 확률로 {} 텍스트입니다.\".format(top_pred_proba, pred_class))\n",
        "\n",
        "    return all_pred_proba "
      ],
      "metadata": {
        "id": "rldmfWAZAHK3"
      },
      "execution_count": 37,
      "outputs": []
    },
    {
      "cell_type": "code",
      "source": [
        "def predict_sentiment_lyrics(lyrics):\n",
        "    \"\"\"\n",
        "    가사의 감성 확률 값 추출, 문장별 감성 확률의 정규화 평균  \n",
        "    가사내 문장 단위로 predict_sentiment_element 함수 적용   \n",
        "    마지막 원소 '' 빈칸임. <br/> 태그 기준으로 split해서 나옴, 빈칸인 element 제거\n",
        "    \"\"\"\n",
        "    lyrics = ast.literal_eval(lyrics) # str list to list\n",
        "    lyrics = list(filter(lambda x: x != '', lyrics))\n",
        "\n",
        "    print(len(lyrics)) \n",
        "    print(lyrics)\n",
        "\n",
        "\n",
        "    for i in range(len(lyrics)):\n",
        "        \n",
        "        if lyrics[i] != '':\n",
        "            all_pred_proba = predict_sentiment_element(lyrics[i], tokenizer, model)\n",
        "            anger = all_pred_proba[0][0]\n",
        "            scary = all_pred_proba[0][1]\n",
        "            sad = all_pred_proba[0][2]\n",
        "            happy = all_pred_proba[0][3]\n",
        "            #print(i, lyrics[i], all_pred_proba) \n",
        "\n",
        "        anger += anger \n",
        "        scary += scary\n",
        "        sad  += sad\n",
        "        happy += happy\n",
        "\n",
        "    total_array = np.ndarray.round( (np.array([(anger, scary, sad, happy)]) / (anger + scary + sad + happy)), 2)\n",
        "    top_pred_prob = total_array[0][np.argmax(total_array, axis=1)[0]]\n",
        "    top_pred_class = ['분노혐오','놀람공포','슬픔','행복'][np.argmax(total_array, axis=1)[0]]\n",
        "\n",
        "    return total_array, top_pred_class, top_pred_prob"
      ],
      "metadata": {
        "id": "vWzsRiH1-Qqf"
      },
      "execution_count": 81,
      "outputs": []
    },
    {
      "cell_type": "code",
      "source": [
        "test_list = df_allsongs.preprocess_Lyric_ver3.iloc[35]\n",
        "total_array, top_pred_class, top_pred_prob = predict_sentiment_lyrics(test_list)"
      ],
      "metadata": {
        "colab": {
          "base_uri": "https://localhost:8080/"
        },
        "id": "sva5V55xCHnq",
        "outputId": "f59e6540-0587-42bb-84aa-7f985a313b63"
      },
      "execution_count": 82,
      "outputs": [
        {
          "output_type": "stream",
          "name": "stdout",
          "text": [
            "34\n",
            "['때 이른 봄 몇 송이 꺾어다', '너의 방 문 앞에 두었어', '긴 잠 실컷 자고 나오면', '그때쯤엔 예쁘게 피어 있겠다', '별 띄운 여름 한 컵 따라다', '너의 머리맡에 두었어', '금세 다 녹아버릴 텐데', '너는 아직 혼자 쉬고 싶은가 봐', '너 없이 보는 첫 봄이 여름이', '괜히 왜 이렇게 예쁘니', '다 가기 전에 널 보여줘야 하는데', '음 꼭 봐야 하는데', '내게 기대어 조각잠을 자던', '그 모습 그대로 잠들었구나', '무슨 꿈을 꾸니', '깨어나면 이야기해 줄 거지', '언제나의 아침처럼 음', '빼곡한 가을 한 장 접어다', '너의 우체통에 넣었어', '가장 좋았던 문장 아래 밑줄 그어', '나 만나면 읽어줄래', '새하얀 겨울 한 숨 속에다', '나의 혼잣말을 담았어', '줄곧 잘 참아내다가도', '가끔은 철없이 보고 싶어', '새삼 차가운 연말의 공기가', '뼈 틈 사이사이 시려와', '움츠려 있을 너의 그 마른 어깨를 ', '꼭 안아줘야 하는데', '내게 기대어 조각잠을 자던', '그 모습 그대로 잠들었구나', '무슨 꿈을 꾸니', '깨어나면 이야기해 줄 거지', '언제나의 아침처럼 음']\n"
          ]
        }
      ]
    },
    {
      "cell_type": "code",
      "source": [
        "print(total_array) \n",
        "print(top_pred_class)  \n",
        "print(top_pred_prob)  "
      ],
      "metadata": {
        "colab": {
          "base_uri": "https://localhost:8080/"
        },
        "id": "XmKPbJ4YCJKF",
        "outputId": "f2697747-177b-4880-ebd2-c2168fa952bf"
      },
      "execution_count": 83,
      "outputs": [
        {
          "output_type": "stream",
          "name": "stdout",
          "text": [
            "[[0.02 0.03 0.22 0.73]]\n",
            "행복\n",
            "0.73\n"
          ]
        }
      ]
    },
    {
      "cell_type": "markdown",
      "source": [
        "#### TEST temporary"
      ],
      "metadata": {
        "id": "gfhNeSNP2hYT"
      }
    },
    {
      "cell_type": "markdown",
      "source": [
        "preprocess_Lyric_ver3에 적용 <br> \n",
        "\n",
        "list가 str 형태로 row에 저장되었기 때문에 ast library로 다시 list로 바꿔주어야한다.<br>\n",
        "(str list to list)"
      ],
      "metadata": {
        "id": "rWzyg_PK-Mbb"
      }
    },
    {
      "cell_type": "code",
      "source": [
        "temp_list = df_allsongs.preprocess_Lyric_ver3.iloc[0]\n",
        "print(type(temp_list))\n",
        "temp_list"
      ],
      "metadata": {
        "id": "CrHuHg912f6T",
        "colab": {
          "base_uri": "https://localhost:8080/",
          "height": 0
        },
        "outputId": "056235a4-6297-4265-eae9-3a6ff3fac97c"
      },
      "execution_count": 48,
      "outputs": [
        {
          "output_type": "stream",
          "name": "stdout",
          "text": [
            "<class 'str'>\n"
          ]
        },
        {
          "output_type": "execute_result",
          "data": {
            "text/plain": [
              "\"['우리 다시 만날래', '예쁘게 빛나던', '모든 추억들이', '너무 그리워', '너의 품에 안길래', '이 밤이 새도록', '네게 말할 거야', '너를 좋아한다고', '안녕 그대야', '요즘 어떻게 지내', '가로수길 걷다가', '생각이 나서', '행복해 보이는 사람들 속에', '우리 둘만 없어서', '어색했었어', '늘 집에 갈 땐', '항상 뒤돌아보면', '날 보며 웃어주던', '네가 생각났어', '우리 다시 만날래', '예쁘게 빛나던', '모든 추억들이', '너무 그리워', '너의 품에 안길래', '이 밤이 새도록', '네게 말할 거야', '너를 좋아한다고', '토요일마다 가던', '한강공원에', '이어폰 하나씩', '나눠끼고서', '벚꽃엔딩같이 듣고 있으면', '부러울 게 없었어', '너만 있으면', '널 사랑할 때', '내가 너무 그리워', '날 보며 웃어주던', '네가 보고 싶어', '우리 다시 만날래', '예쁘게 빛나던', '모든 추억들이', '너무 그리워', '너의 품에 안길래', '이 밤이 새도록', '네게 말할 거야', '너를 좋아한다고', '같이 별 보러 갈래', '널 다시 만나면', '네 옆에 기대서', '잠들고 싶어', '너의 품에 안길래', '이 밤이 새도록', '내 곁에 있어줘', '내겐 너뿐이라고', '']\""
            ],
            "application/vnd.google.colaboratory.intrinsic+json": {
              "type": "string"
            }
          },
          "metadata": {},
          "execution_count": 48
        }
      ]
    },
    {
      "cell_type": "code",
      "source": [
        "import ast  \n",
        "\n",
        "temp_list_2 = ast.literal_eval(temp_list) \n",
        "print(type(temp_list_2)) \n",
        "print(temp_list_2)\n",
        "\n",
        "## str list to list\n",
        "## sentence = ast.literal_eval(sentence)"
      ],
      "metadata": {
        "id": "owQngh5w9dYf",
        "colab": {
          "base_uri": "https://localhost:8080/"
        },
        "outputId": "9e49b671-8140-4fd3-d4fc-cbd8dd7a00f1"
      },
      "execution_count": 49,
      "outputs": [
        {
          "output_type": "stream",
          "name": "stdout",
          "text": [
            "<class 'list'>\n",
            "['우리 다시 만날래', '예쁘게 빛나던', '모든 추억들이', '너무 그리워', '너의 품에 안길래', '이 밤이 새도록', '네게 말할 거야', '너를 좋아한다고', '안녕 그대야', '요즘 어떻게 지내', '가로수길 걷다가', '생각이 나서', '행복해 보이는 사람들 속에', '우리 둘만 없어서', '어색했었어', '늘 집에 갈 땐', '항상 뒤돌아보면', '날 보며 웃어주던', '네가 생각났어', '우리 다시 만날래', '예쁘게 빛나던', '모든 추억들이', '너무 그리워', '너의 품에 안길래', '이 밤이 새도록', '네게 말할 거야', '너를 좋아한다고', '토요일마다 가던', '한강공원에', '이어폰 하나씩', '나눠끼고서', '벚꽃엔딩같이 듣고 있으면', '부러울 게 없었어', '너만 있으면', '널 사랑할 때', '내가 너무 그리워', '날 보며 웃어주던', '네가 보고 싶어', '우리 다시 만날래', '예쁘게 빛나던', '모든 추억들이', '너무 그리워', '너의 품에 안길래', '이 밤이 새도록', '네게 말할 거야', '너를 좋아한다고', '같이 별 보러 갈래', '널 다시 만나면', '네 옆에 기대서', '잠들고 싶어', '너의 품에 안길래', '이 밤이 새도록', '내 곁에 있어줘', '내겐 너뿐이라고', '']\n"
          ]
        }
      ]
    },
    {
      "cell_type": "code",
      "source": [
        "print(len(temp_list_2))\n",
        "print(temp_list_2[1])\n",
        "all_pred_proba = predict_sentiment_element(temp_list_2[1], tokenizer, model)\n",
        "print()\n",
        "print(all_pred_proba)"
      ],
      "metadata": {
        "id": "uo8rAk4u-Bz9",
        "colab": {
          "base_uri": "https://localhost:8080/"
        },
        "outputId": "56543334-3839-42ce-c769-e81bc177dbf1"
      },
      "execution_count": 50,
      "outputs": [
        {
          "output_type": "stream",
          "name": "stdout",
          "text": [
            "55\n",
            "예쁘게 빛나던\n",
            "\n",
            "[[ 0.4   0.37  0.5  98.72]]\n"
          ]
        }
      ]
    },
    {
      "cell_type": "code",
      "source": [
        "anger = all_pred_proba[0][0]\n",
        "scary = all_pred_proba[0][1]\n",
        "sad = all_pred_proba[0][2]\n",
        "happy = all_pred_proba[0][3]\n",
        "\n",
        "total = np.ndarray.round( (np.array([(anger, scary, sad, happy)]) / (anger + scary + sad + happy)), 2)\n",
        "\n",
        "top_pred_prob = total[0][np.argmax(total, axis=1)[0]]"
      ],
      "metadata": {
        "id": "Bqj7_ThWMwKy"
      },
      "execution_count": 42,
      "outputs": []
    },
    {
      "cell_type": "code",
      "source": [
        "print(total)\n",
        "print(top_pred_prob)  "
      ],
      "metadata": {
        "id": "GPyd2l0czmEp",
        "colab": {
          "base_uri": "https://localhost:8080/"
        },
        "outputId": "18fa8e8a-e41a-4076-e150-fa829edff832"
      },
      "execution_count": 43,
      "outputs": [
        {
          "output_type": "stream",
          "name": "stdout",
          "text": [
            "[[0.   0.   0.01 0.99]]\n",
            "0.99\n"
          ]
        }
      ]
    },
    {
      "cell_type": "code",
      "source": [
        "test_list = df_allsongs.preprocess_Lyric_ver3.iloc[35]\n",
        "total_array, top_pred_class, top_pred_prob = predict_sentiment_lyrics(test_list)"
      ],
      "metadata": {
        "colab": {
          "base_uri": "https://localhost:8080/"
        },
        "id": "7qGwTKt68PGi",
        "outputId": "5bd04bf5-b8dc-4ec3-eca3-586ca690b524"
      },
      "execution_count": 59,
      "outputs": [
        {
          "output_type": "stream",
          "name": "stdout",
          "text": [
            "40\n",
            "['때 이른 봄 몇 송이 꺾어다', '너의 방 문 앞에 두었어', '긴 잠 실컷 자고 나오면', '그때쯤엔 예쁘게 피어 있겠다', '', '별 띄운 여름 한 컵 따라다', '너의 머리맡에 두었어', '금세 다 녹아버릴 텐데', '너는 아직 혼자 쉬고 싶은가 봐', '', '너 없이 보는 첫 봄이 여름이', '괜히 왜 이렇게 예쁘니', '다 가기 전에 널 보여줘야 하는데', '음 꼭 봐야 하는데', '', '내게 기대어 조각잠을 자던', '그 모습 그대로 잠들었구나', '무슨 꿈을 꾸니', '깨어나면 이야기해 줄 거지', '언제나의 아침처럼 음', '', '빼곡한 가을 한 장 접어다', '너의 우체통에 넣었어', '가장 좋았던 문장 아래 밑줄 그어', '나 만나면 읽어줄래', '', '새하얀 겨울 한 숨 속에다', '나의 혼잣말을 담았어', '줄곧 잘 참아내다가도', '가끔은 철없이 보고 싶어', '', '새삼 차가운 연말의 공기가', '뼈 틈 사이사이 시려와', '움츠려 있을 너의 그 마른 어깨를 ', '꼭 안아줘야 하는데', '', '내게 기대어 조각잠을 자던', '그 모습 그대로 잠들었구나', '무슨 꿈을 꾸니', '깨어나면 이야기해 줄 거지']\n"
          ]
        }
      ]
    },
    {
      "cell_type": "code",
      "source": [
        "print(total_array) \n",
        "print(top_pred_class)  \n",
        "print(top_pred_prob)  "
      ],
      "metadata": {
        "colab": {
          "base_uri": "https://localhost:8080/"
        },
        "id": "462-5G4C8srV",
        "outputId": "7cc3609d-5b4d-4d13-b7e3-42ec27c8e1e1"
      },
      "execution_count": 60,
      "outputs": [
        {
          "output_type": "stream",
          "name": "stdout",
          "text": [
            "[[0.28 0.1  0.52 0.11]]\n",
            "슬픔\n",
            "0.52\n"
          ]
        }
      ]
    },
    {
      "cell_type": "markdown",
      "source": [
        "# Apply model"
      ],
      "metadata": {
        "id": "-MrmcLPG2od2"
      }
    },
    {
      "cell_type": "code",
      "source": [
        "Emotion = []\n",
        "Probability = []\n",
        "분노혐오 = []\n",
        "놀람공포 = []\n",
        "슬픔 = []\n",
        "행복 = []\n",
        "\n",
        "\n",
        "for row in tqdm(df_allsongs.iterrows()):\n",
        "\n",
        "        total_array, top_pred_class, top_pred_prob = predict_sentiment_lyrics(row[1][-1])\n",
        "        #break\n",
        "        Emotion.append(top_pred_class)\n",
        "        Probability.append(top_pred_prob)\n",
        "        분노혐오.append(total_array[0][0])\n",
        "        놀람공포.append(total_array[0][1])\n",
        "        슬픔.append(total_array[0][2])\n",
        "        행복.append(total_array[0][3]) \n",
        "        "
      ],
      "metadata": {
        "id": "jYYaHQ1bI0v6",
        "colab": {
          "base_uri": "https://localhost:8080/"
        },
        "outputId": "0a91d3b2-87b2-43e5-f68c-687e7829d5e2"
      },
      "execution_count": null,
      "outputs": [
        {
          "output_type": "stream",
          "name": "stderr",
          "text": [
            "\r0it [00:00, ?it/s]"
          ]
        },
        {
          "output_type": "stream",
          "name": "stdout",
          "text": [
            "54\n",
            "['우리 다시 만날래', '예쁘게 빛나던', '모든 추억들이', '너무 그리워', '너의 품에 안길래', '이 밤이 새도록', '네게 말할 거야', '너를 좋아한다고', '안녕 그대야', '요즘 어떻게 지내', '가로수길 걷다가', '생각이 나서', '행복해 보이는 사람들 속에', '우리 둘만 없어서', '어색했었어', '늘 집에 갈 땐', '항상 뒤돌아보면', '날 보며 웃어주던', '네가 생각났어', '우리 다시 만날래', '예쁘게 빛나던', '모든 추억들이', '너무 그리워', '너의 품에 안길래', '이 밤이 새도록', '네게 말할 거야', '너를 좋아한다고', '토요일마다 가던', '한강공원에', '이어폰 하나씩', '나눠끼고서', '벚꽃엔딩같이 듣고 있으면', '부러울 게 없었어', '너만 있으면', '널 사랑할 때', '내가 너무 그리워', '날 보며 웃어주던', '네가 보고 싶어', '우리 다시 만날래', '예쁘게 빛나던', '모든 추억들이', '너무 그리워', '너의 품에 안길래', '이 밤이 새도록', '네게 말할 거야', '너를 좋아한다고', '같이 별 보러 갈래', '널 다시 만나면', '네 옆에 기대서', '잠들고 싶어', '너의 품에 안길래', '이 밤이 새도록', '내 곁에 있어줘', '내겐 너뿐이라고']\n"
          ]
        },
        {
          "output_type": "stream",
          "name": "stderr",
          "text": [
            "\r1it [00:31, 31.55s/it]"
          ]
        },
        {
          "output_type": "stream",
          "name": "stdout",
          "text": [
            "40\n",
            "['뭐하고 있었니 늦었지만', '잠시 나올래', '너의 집 골목에 있는', '놀이터에 앉아 있어', '친구들 만나서 오랜만에', '술을 좀 했는데', '자꾸만 니 얼굴 떠올라', '무작정 달려왔어', '이 맘 모르겠니', '요즘 난 미친 사람처럼', '너만 생각해', '대책없이 네가 점점 좋아져', '아냐 안 취했어 진짜야', '널 정말 사랑해', '눈물이 날만큼 원하고 있어', '정말로 몰랐니', '가끔 전화해 장난치듯', '주말엔 뭐할거냐며', '너의 관심 끌던 나를', '그리고 한번씩 누나 주려 샀는데', '너 그냥 준다고', '생색 낸 선물도 너 때문에 산거야', '이 맘 모르겠니', '요즘 난 미친 사람처럼', '너만 생각해', '대책없이 네가 점점 좋아져', '아냐 안 취했어 진짜야', '널 정말 사랑해', '진심이야 믿어줘', '갑자기 이런 말 놀랐다면 미안해', '부담이 되는게 당연해', '이해해 널', '하지만 내 고백도 이해해 주겠니 oh', '지금 당장 대답하진마', '나와 일주일만 사귀어줄래', '후회없이 잘 해주고 싶은데', '그 후에도 니가 싫다면', '나 그때 포기할게', '귀찮게 안할게 혼자 아플게', '진심이야 너를 사랑하고 있어']\n"
          ]
        },
        {
          "output_type": "stream",
          "name": "stderr",
          "text": [
            "\r2it [01:01, 30.69s/it]"
          ]
        },
        {
          "output_type": "stream",
          "name": "stdout",
          "text": [
            "34\n",
            "['눈물이 난다 이 길을 걸으면', '그 사람 손길이 자꾸 생각이 난다', '붙잡지 못하고 가슴만 떨었지', '내 아름답던 사람아', '사랑이란 게 참 쓰린 거더라', '잡으려 할수록 더 멀어지더라', '이별이란 게 참 쉬운 거더라', '내 잊지 못할 사람아', '사랑아 왜 도망가', '수줍은 아이처럼', '행여 놓아버릴까 봐', '꼭 움켜쥐지만', '그리움이 쫓아 사랑은 늘 도망가', '잠시 쉬어가면 좋을 텐데', '바람이 분다 옷깃을 세워도', '차가운 이별의 눈물이 차올라', '잊지 못해서 가슴에 사무친', '내 소중했던 사람아', '사랑아 왜 도망가', '수줍은 아이처럼', '행여 놓아버릴까 봐', '꼭 움켜쥐지만', '그리움이 쫓아 사랑은 늘 도망가', '잠시 쉬어가면 좋을 텐데', '기다림도 애태움도 다 버려야 하는데', '무얼 찾아 이 길을 서성일까', '무얼 찾아 여기 있나', '사랑아 왜 도망가', '수줍은 아이처럼', '행여 놓아버릴까 봐', '꼭 움켜쥐지만', '그리움이 쫓아 사랑은 늘 도망가', '잠시 쉬어가면 좋을 텐데', '잠시 쉬어가면 좋을 텐데']\n"
          ]
        },
        {
          "output_type": "stream",
          "name": "stderr",
          "text": [
            "\r3it [01:25, 27.54s/it]"
          ]
        },
        {
          "output_type": "stream",
          "name": "stdout",
          "text": [
            "31\n",
            "['우리 함께 듣던 그 노랠 듣고 싶을까', '듣고 나서 잠시 날 생각은 할까', '아주 혹시라도 넌 내가 보고 싶을까', '난 왜 니 목소리가 듣고 싶을까', '뻔하디 뻔한 노랫말 여서 미안해', '미안해도 부디 넌 꼭 들어줬음 해', '후회도 미련도 없는 척 떠났지만', '이게 내 진심인 걸 꼭 알아줬음 해', '우리 함께 듣던 그 노랠 듣고 싶을까', '듣고 나서 잠시 날 생각은 할까', '아주 혹시라도 넌 내가 보고 싶을까', '못난 내 목소리가 듣고 싶을까', '말없이 다 전해지는 건 없지 난 말해 지금', '몇 년째 나의 favorite one', 'You the only one yeah', 'Yes I know 무엇도 달라질 건 없지만', '이게 내 진심인 걸 꼭 알아줬음 해', '우리 함께 듣던 그 노랠 듣고 싶을까', '듣고 나서 잠시 날 생각은 할까', '아주 혹시라도 넌 내가 보고 싶을까', '난 왜 니 목소리가 듣고 싶을까', 'Are you okay not today', '천천히 대답해도 돼 i just stay', '넌 내 목소리가 듣고 싶을까', '누굴 만나 봐도 다시는 못할 것 같아', '그립고 또 그립다 우리 그 사랑', 'Woo', 'I’m missing U', 'Never forget U', 'Never forget U', 'Oh no baby']\n"
          ]
        },
        {
          "output_type": "stream",
          "name": "stderr",
          "text": [
            "\r4it [01:44, 24.04s/it]"
          ]
        },
        {
          "output_type": "stream",
          "name": "stdout",
          "text": [
            "56\n",
            "['끝없이 별빛이 내리던 밤', '기분 좋은 바람이', '두 빰을 스치고', '새벽 바다 한곳을 보는', '아름다운 너와 나', '그림을 그려갔어', '모래 위 떨린 손끝으로', '날 향해 웃어주는 입술', '끝 모양과 저 달보다', '사랑스러운 두 눈을 가진 네가', '다정히 내 이름을', '부르면 내 마음이', '녹아내려 언제나', '나 하날 위해 준비된', '선물 같아 널 안으면', '잠들지 않는 바다 위를', '너와 함께 걷는 거 같아', '하늘 아래 너와 나', '남은 내 모든 날을 너에게', '다 줘도 안 아까워', '이제서야 내가', '사랑에 눈을 뜬 건 가봐', '경험하지 못했고', '믿기지 않는 일만', '일어나고 있는 거 아니', '5월에 피는 봄꽃 처럼', '내 사랑도 피어나', '부는 바람에 살며시 실어 보내', '다정히 내 이름을', '부르면 내 마음이', '녹아내려 언제나', '나 하날 위해 준비된', '선물 같아 널 안으면', '잠들지 않는 바다 위를', '너와 함께 걷는 거 같아', '하늘 아래 너와 나', '설레는 지금이', '꿈이 아닌 걸 알잖아', '난 더 바랄 게 없어', '먼 훗날 내 생애', '아주 작은 소리로', '귓가에 말할 거야', '내 곁에 머물러줘서', '마음 다해 고맙다고', '어떤 말로도 표현 못 할', '내 인생의 전부였다고', '이 순간 너를 꼭 안고', '고백할게 언제나', '우리 모든 날들과', '별빛 아래 우리 그림자', '제일로 특별하다고', '길고 긴 겨울 끝을 지나', '너의 앞에 서있는 지금', '선명한 목소리로', '널 사랑한다고', '말할게']\n"
          ]
        },
        {
          "output_type": "stream",
          "name": "stderr",
          "text": [
            "\r5it [02:16, 26.93s/it]"
          ]
        },
        {
          "output_type": "stream",
          "name": "stdout",
          "text": [
            "30\n",
            "['잊지는 말아요 함께 했던 날들', '눈물이 날 때면', '그대 뒤를 돌아보면 돼요', '아프지 말아요 쓸쓸한 마음에', '힘든 일이 참 많았죠 그대에겐', '내가 곁에 있을게요', '그댈 위해 노래할게요', '잊지 말아요', '그댈 위해 약속할게요', '언젠가 우리 시간 지나면', '알게 되겠죠', '그땐 웃을 수 있죠 나 약속할게요', '그땐 미소 짓겠죠', '작은 행복까지 모두', '외롭고 지칠 때 손잡아 줄게요', '슬픔이 짙어질 때면 위로해 줄', '그 한 사람이 될게요', '그대 부디 울지 말아요', '슬퍼 말아요', '그대에게 빛이 될게요', '언젠가 우리 시간 지나면', '알게 되겠죠', '그땐 웃을 수 있죠 나 약속할게요', '폭풍 속에 혼자 남아 헤매도 오', '길이 되어 지킬게요 그대', '그댈 위해 노래할게요', '잊지 말아요', '그댈 위해 약속할게요', '어두운 길을 밝게 비추는', '그대의 빛이 될게요']\n"
          ]
        },
        {
          "output_type": "stream",
          "name": "stderr",
          "text": [
            "\r6it [02:33, 23.65s/it]"
          ]
        },
        {
          "output_type": "stream",
          "name": "stdout",
          "text": [
            "40\n",
            "['너를 위해 해 줄 것이 하나 없어서', '보낼 수밖에 없었고', '네가 없이 사는 법을 알지 못해서', '순간순간을 울었다', '후회로 가득한 한숨 자락이', '시린 바람처럼', '가슴 치는 날 그 언젠가', '우리 만날 수 있을까', '다시 만날 수 있을까', '그리 좋던 예전처럼 그때처럼', '되돌아갈 수 있을까', '다시 우리가 만나면', '무엇을 해야만 할까', '서로를 품에 안고서', '하염없이 눈물만 흘려볼까', '붙잡을 마음이야 없었겠냐마는', '그때 난 부끄러웠다', '떳떳하게 일어나 널 다시 찾아갈', '뜨거운 꿈만 꾸었다', '둘이 함께 했던 순간순간이', '시린 폭포처럼', '쏟아지는 날 그 언젠가', '우리 만날 수 있을까', '다시 만날 수 있을까', '그리 좋던 예전처럼 그때처럼', '되돌아갈 수 있을까', '다시 우리가 만나면', '무엇을 해야만 할까', '서로를 품에 안고서', '하염없이 눈물만 흘려볼까', '그리운 마음이 서럽게 흘러넘쳐', '너에게 닿을 때', '우리 만날 수 있을까', '다시 만날 수 있을까', '그리 좋던 예전처럼 그때처럼', '되돌아갈 수 있을까', '다시 우리가 만나면', '무엇을 해야만 할까', '서로를 품에 안고서', '하염없이 눈물만 흘려볼까']\n"
          ]
        },
        {
          "output_type": "stream",
          "name": "stderr",
          "text": [
            "\r7it [02:56, 23.34s/it]"
          ]
        },
        {
          "output_type": "stream",
          "name": "stdout",
          "text": [
            "34\n",
            "['둘이 손잡고 걸을 때', '마주 보며 또 웃을 때', '사랑한다 말하지 않아도 알아', '널 만나러 가는 길에', '내 입가에 늘 환한 미소만이', '흐르고 있어', '사랑해 너를 사랑해', '눈물 나도록 사랑해', '저기 밤하늘의 별보다', '보석보다 네가 더 소중해', '얼마나 내가 얼마나 너를 사랑하는지', '내 모든 걸 너에게 줄게', '속상하고 힘이 들 때', '열이 나고 아파할 때', '옆에서 늘 힘이 돼준 사람 너야', '집에 돌아오는 길에', '내 귓가엔 늘 너의 음성만이', '흐르고 있어', '사랑해 너를 사랑해', '눈물 나도록 사랑해', '저기 밤하늘의 별보다', '보석보다 네가 더 소중해', '얼마나 내가 얼마나 너를 사랑하는지', '내 모든 걸 너에게 줄게', '세월 지나 많이 변했을 때', '미운 나의 손을 잡아줄 사람', '먼 훗날 아주 먼 훗날', '우리 눈 감는 그날에', '나를 사랑해 준 너에게 고맙다고', '후회는 없다고', '사랑해 나만의 사랑', '다시 태어난대도', '내 사랑은 너 하나뿐야', '영원히 너를 사랑해']\n"
          ]
        },
        {
          "output_type": "stream",
          "name": "stderr",
          "text": [
            "\r8it [03:15, 22.12s/it]"
          ]
        },
        {
          "output_type": "stream",
          "name": "stdout",
          "text": [
            "21\n",
            "['나도 한때는 그이의 손을 잡고', '내가 온 세상 주인공이 된 듯', '꽃송이의 꽃잎 하나하나까지', '모두 날 위해 피어났지', '올림픽대로 뚝섬 유원지', '서촌 골목골목 예쁜 식당', '나를 휘청거리게 만든', '주옥같은 대사들', '다시 누군가 사랑할 수 있을까', '예쁘다는 말 들을 수 있을까', '하루 단 하루만 기회가 온다면', '죽을힘을 다해 빛나리', '언제부턴가 급격하게', '단조로 바뀌던 배경음악', '조명이 꺼진 세트장에', '혼자 남겨진 나는', '단역을 맡은 그냥 평범한 여자', '꽃도 하늘도 한강도 거짓말', '나의 드라마는 또 이렇게 끝나', '나왔는지조차 모르게', '끝났는지조차 모르게']\n"
          ]
        },
        {
          "output_type": "stream",
          "name": "stderr",
          "text": [
            "\r9it [03:27, 19.05s/it]"
          ]
        },
        {
          "output_type": "stream",
          "name": "stdout",
          "text": [
            "37\n",
            "['사랑이었다 별거 없던 내 하루에', '빛이 돼준 단한 사람', '나보다 나를 더 아껴 주던 너를', '그땐 왜 몰랐을까', '행복이었다 다시는 없을 것 같던', '잠시나마 행복했었다', '다른 사람 곁에 있는 널', '생각해 본 적 없지만', '이젠 너를 보내줘야 할 것 같아', '내가 아니라도', '눈부시게 사랑받았을 너라서', '그 소중한 시간을 나와 함께해 줘서', '고마웠어', '예쁘고 아름다웠던 너의 그날에', '함께했던 그 모든 순간이 행복했어', '내 전부였다 무엇도 바꿀 수 없던', '우리라서 행복했었다', '다른 누구라도', '나보다 더 좋은 사람 만나서', '이젠 나를 잊고 행복하게 살아', '내가 아니라도', '눈부시게 사랑받았을 너라서', '그 소중한 시간을 나와 함께해 줘서', '고마웠어', '예쁘고 아름다웠던 너의 그날에', '함께했던 그 모든 순간이 행복했어', '어두웠던 내 하루에', '빛이 되어주던 그날들을', '어떻게 잊고 살아', '과분했던 너라는 사람을 만나', '누구보다 사랑했었다', '내가 아니었다면', '눈부시게 사랑받았을 너란 걸', '이 세상에 누구보다 더 잘 알아서', '미안했어 너와 함께한 날들이', '더 말할 게 있을까', '행복한 기억만 가져갈게']\n"
          ]
        },
        {
          "output_type": "stream",
          "name": "stderr",
          "text": [
            "\r10it [03:49, 19.75s/it]"
          ]
        },
        {
          "output_type": "stream",
          "name": "stdout",
          "text": [
            "30\n",
            "['이윽고 내가 한눈에', '너를 알아봤을 때', '모든 건 분명 달라지고 있었어', '내 세상은 널 알기 전과 후로 나뉘어', '니가 숨 쉬면 따스한 바람이 불어와', '니가 웃으면 눈부신 햇살이 비춰', '거기 있어줘서 그게 너라서', '가끔 내 어깨에 가만히 기대주어서', '나는 있잖아 정말 빈틈없이 행복해', '너를 따라서 시간은 흐르고 멈춰', '물끄러미 너를 들여다 보곤 해', '그것 말고는 아무것도 할 수 없어서', '너의 모든 순간 그게', '나였으면 좋겠다', '생각만 해도 가슴이 차올라', '나는 온통 너로', '보고 있으면 왠지 꿈처럼 아득한 것', '몇 광년 동안 날 향해 날아온 별빛 ', '또 지금의 너', '거기 있어줘서 그게 너라서', '가끔 나에게 조용하게 안겨주어서', '나는 있잖아 정말 남김없이 고마워', '너를 따라서 시간은 흐르고 멈춰', '물끄러미 너를 들여다보곤 해', '너를 보는 게 나에게는 사랑이니까', '너의 모든 순간 그게', '나였으면 좋겠다', '생각만 해도 가슴이 차올라', '나는 온통 너로', '니 모든 순간 나였으면']\n"
          ]
        },
        {
          "output_type": "stream",
          "name": "stderr",
          "text": [
            "\r11it [04:06, 18.91s/it]"
          ]
        },
        {
          "output_type": "stream",
          "name": "stdout",
          "text": [
            "46\n",
            "['흐르는 저 하늘을 물어 채는 범처럼', '태산에 날아들어 숨어드는 새처럼', '동산을 뛰고 뛰어가는 강아지처럼', '온 산에 풍물 막을 내리네', '바람은 지친 끝에 밤에 몸을 뉘이네', '별빛은 아뜩하니 은하수를 내리네', '차가운 밤하늘에 세상이 젖어 가네', '그리워 홀로 타령을 하자', '흘러가라 사랑사랑아', '덧없이 피고 떨어지는 꽃송아', '애닯구나 가락가락아', '눈물에 떨어진 별을 헤네', '푸른 달아 오랜 고운 내 달아', '비친 내 손에 내려다오', '은색 소매 내 곁에 두른 채로', '한 번만 타는 입을 축여다오', '푸른 달아 다시 없을 내 달아', '뻗은 손끝에 닿아다오', '달빛만이 흘러 바다가 되고', '지쳐 전하지 못하는 수월가', '고요한 바다 위로 내 노래가 떠 간다', '소리도 부끄러워 숨죽이고 떠 간다', '달빛에 젖은 몸을 내놓고서 떠 간다', '한낮이 비쳐 오를 때까지', '달아 달아 애달픈 달아', '피었다 이내 숨어 버릴 허상아', '시리구나 세월세월아', '나날을 헤면서 현을 뜯네', '푸른 달아 오랜 고운 내 달아', '비친 내 손에 내려다오', '은색 소매 내 곁에 두른 채로', '한 번만 타는 입을 축여다오', '푸른 달아 다시 없을 내 달아', '뻗은 손끝에 닿아다오', '달빛만이 흘러 바다가 되고', '지쳐 전하지 못하는 수월가', '서로 가자 굽이굽이 쳐 가자', '하늘에 닿을 너머까지', '밤아 가라 훠이훠이 가거라', '산 위에 걸린 저 달은 태평가', '서로 가자 굽이굽이 쳐 가자', '새벽에 닿을 너머까지', '달빛만이 흘러 바다가 되고', '지쳐 전하지 못하는 수월가', '하늘을 보며 그리는 풍류가', '손으로 잡을 수 없는 수월가']\n"
          ]
        },
        {
          "output_type": "stream",
          "name": "stderr",
          "text": [
            "\r12it [04:32, 21.16s/it]"
          ]
        },
        {
          "output_type": "stream",
          "name": "stdout",
          "text": [
            "47\n",
            "['느낌이 오잖아 ', '떨리고 있잖아', '언제까지 눈치만 볼 거니', '네 맘을 말해봐 ', '딴청 피우지 말란 말이야', '네 맘 가는 그대로 ', '지금 내 손을 잡아', '어서 내 손을 잡아', '우연히 고개를 돌릴 때 마다', '눈이 마주치는 건', '며칠 밤 내내 꿈속에 나타나', '밤새 나를 괴롭히는 건', '그 많은 빈자리 중에서 하필', '내 옆자릴 고르는 건', '나도 모르게 어느새 실없는 웃음', '흘리고 있다는 건', '그럼 말 다했지 뭐', '우리 얘기 좀 할까', '느낌이 오잖아 떨리고 있잖아', '언제까지 눈치만 볼 거니', '네 맘을 말해봐 ', '딴청 피우지 말란 말이야', '네 맘 가는 그대로 ', '지금 내 손을 잡아', '핸드폰 진동에 ', '심장이 덜컥내려 앉는다는 건', '오 나도 모르게 ', '어느새 짓궂은 네 말투', '자꾸 듣고 싶은걸', '어떡해', '저기 멀리 걸어온다', '눈이 마주친다', '언제까지 넌 모른척 할거니', '사랑이 온거야 너와 나 말이야', '네가 좋아 정말 못 견딜 만큼', '그거면 된거야 ', '더는 생각하지 말란 말이야', '네 맘 가는 그대로', '느낌이 오잖아 떨리고 있잖아', '언제까지 눈치만 볼 거니', '네 맘을 말해봐 ', '딴청 피우지 말란 말이야', '네 맘 가는 그대로 ', '지금 내 손을 잡아', '그냥 내 손을 잡아', '지금 내 손을 잡아', ' ']\n"
          ]
        },
        {
          "output_type": "stream",
          "name": "stderr",
          "text": [
            "\r13it [04:59, 22.98s/it]"
          ]
        },
        {
          "output_type": "stream",
          "name": "stdout",
          "text": [
            "41\n",
            "['코끝을 간지럽히는 살랑 부는 바람이', '눈 감으면 어디든', '네 곁에 데려가 주길', '어느새 내 맘이 춤을 추네', '한없이 예쁜 날이야', '꿈꾸던 시간이', '마치 오늘인 것만 같아', '맘이 두근거리다 심장이 쿵 떨어져', '후 살며시 네가 불어와', '눈부신 하늘이 되어 다 물들어가요', '유난히 달콤한 햇살 팡파레를 울려요', '한껏 들뜬 발걸음으로 반겨줘요', '따스한 그대의 품속으로', '바쁘게 달려가 힘껏 안겨볼래요', '시작될 거야 너와 내 이야기', '샤라랄 라라랄 라라랄 꽃눈이 내려요', '옷장 가득히 싱그러운 설렘이 하나둘', '아껴 둔 마음 꺼내 입고서', '널 만나러 가요', '살며시 네가 불어와', '눈부신 하늘이 되어 다 물들어가요', '유난히 달콤한 햇살 팡파레를 울려요', '한껏 들뜬 발걸음으로 반겨줘요', '따스한 그대의 품속으로', '바쁘게 달려가 힘껏 안겨볼래요', '시작될 거야 너와 내 이야기', '때론 빗방울 떨어져', '잠시 우리 옷깃을 적셔', '찡그린 날도 있겠지만', '상상만 해도 찬란한 꿈을 꾸는 거야', '하늘에 꽃눈이 내려 여기저기 날려요', '머리가 어지러울 만큼 행복해요', '웅크렸던 만큼', '소중히 내가 지켜 갈게요', '그대와 함께하는 사랑스런 날이야', '유난히 달콤한 햇살 팡파레를 울려요', '한껏 들뜬 발걸음으로 반겨줘요', '따스한 그대의 품속으로', '바쁘게 달려가 힘껏 안겨볼래요', '시작될 거야 너와 내 이야기', '샤라랄 라라랄 라라랄 꽃눈이 내려요']\n"
          ]
        },
        {
          "output_type": "stream",
          "name": "stderr",
          "text": [
            "\r14it [05:23, 23.18s/it]"
          ]
        },
        {
          "output_type": "stream",
          "name": "stdout",
          "text": [
            "40\n",
            "['내가 너라면 다 알아볼 텐데', '널 위할 사람 찾아낼 텐데', '지난 오랜 시간 너의 그 곁을', '지켜온 나라는 걸', '내가 너였다면 참 행복할 텐데', '한 사람을 다 가졌으니까', '둔한 바보도 눈치챌 그 사랑을', '너만 왜 모르니', '너를 바라만 바라만 본다', '외쳐 네 이름만 부른다', '보고 싶은 맘에 너를 향한 그 발걸음', '네 곁을 맴도는데', '오늘도 그리고 그리워하다', '애써 참았던 눈물이 흘러', '그저 멀리서만 바라보다', '또 소리쳐 네가 보고 싶다', '네가 나라면 더 참 아팠을 텐데', '슬픈 역할은 내가 맡을게', '웃는 모습만 보이며 살아가 줘', '내가 볼 수 있게', '너를 바라만 바라만 본다', '외쳐 네 이름만 부른다', '보고 싶은 맘에 너를 향한 그 발걸음', '네 곁을 맴도는데', '오늘도 그리고 그리워하다', '애써 참았던 눈물이 흘러', '그저 멀리서만 바라보다 또 소리쳐', '네가 보고 싶다', '한 걸음 더 다가갈까', '더 가까이 네게 갈까 OH', '어제보다 더 내일 더 널 사랑해', 'I’ll make you love me someday', '혼자 바라고 바라만 보다', '울컥 그리움이 솟는다', '바보 같은 맘에 하지 못한 그 한마디', '널 사랑한다는 말', '얼마나 그리고 그리워해야', '내 맘 너의 곁에 닿게 될까', '매일 하루 종일 너의 생각에 사무쳐', '너무 보고 싶다']\n"
          ]
        },
        {
          "output_type": "stream",
          "name": "stderr",
          "text": [
            "\r15it [05:46, 23.11s/it]"
          ]
        },
        {
          "output_type": "stream",
          "name": "stdout",
          "text": [
            "66\n",
            "['한 달 좀 덜 된 기억들', '주머니에 넣은 채', '걷고 있어 몇 시간을', '혹시 몰라 네가 좋아했던', '코트를 입은 채', '나온 번화가 그때 마침', '찬바람 막아줄', '네가 이젠 없으니까', '추울 때 따스히', '안아줄 이가 없으니까', '친구들이 불러도', '나갈 수 없어 난', '창문 너머', '그저 바라봐 그때 마침', '눈이 오잖아', '우리 처음 만난 그 밤에도', '한참 동안 눈이 왔잖아', '지금 내가 생각나지', '않을 리가 없잖아', '눈이 오잖아', '그때 내가 밤하늘 내린', '하얀 눈 예쁘다 했잖아', '그랬잖아', '지금 눈이 오잖아', 'Uh 눈이 오잖아', '이 말 핑계인 걸 알지만', '생각에 잠기곤 해', '거릴 거니는 내', '곁에 아무도 없을 때', '더 크게 들리네', 'Oh 눈 내리는 소리', '이제 인정하자', '수많은 끝도 끝났어', '찬란한 그때의', '우린 이젠 없으니까', '돌아온 계절', '남아있는 건 없으니까', '추억을 지우는 게', '내 이별의 숙제', '창문 너머', '그저 바라봐 그때 마침', '눈이 오잖아', '우리 처음 만난 그 밤에도', '한참 동안 눈이 왔잖아', '지금 내가 생각나지', '않을 리가 없잖아', '눈이 오잖아', '그때 내가 밤하늘 내린', '하얀 눈 예쁘다 했잖아', '그랬잖아', '지금 눈이 오잖아', '마지막 안녕이 남은 거리에서 혼자', '너와의 약속들을 되뇌었어', '함께여야 할 너 없는 이 겨울의', '첫눈이 오잖아', '눈이 오지만', '우리 처음 만난 그 밤에도', '내렸던 그 눈이 오지만', '주머니 속 챙겨 나온 기억', '버려야만 해', '눈이 오지만', '우린 이대로의 모습으로', '남아있는 게 맞지만', '그래도', '지금', '그 눈이 오잖아']\n"
          ]
        },
        {
          "output_type": "stream",
          "name": "stderr",
          "text": [
            "\r16it [06:23, 27.48s/it]"
          ]
        },
        {
          "output_type": "stream",
          "name": "stdout",
          "text": [
            "26\n",
            "['어쩌면 너도 나와 같은 꿈 꿀까', '매일 마주 보며 눈뜨는 하루', '늦은 밤 헤어지긴 너무 아쉬워', '널 많이 사랑하나 봐', '유난히 날씨가 좋은 날', '넌 나를 설레이게 해', '영화 속에서만 보던 일들이', '요즘 내 일상인 듯해', '어쩌면 너도 나와 같은 꿈 꿀까', '매일 마주 보며 눈뜨는 하루', '늦은 밤 헤어지긴 너무 아쉬워', '널 많이 사랑하나 봐', '오늘 너에게 고백하겠어', '취해서 하는 말이 아냐', '참아온 진심인 거야', '하루 종일 아무것도 안 해도', '너랑 있는 게 젤 좋아', '달빛도 하늘 아래 우리를 비추고', '온 세상이 모두 잠든 것 같아', '늦은 밤 헤어지긴 너무 아쉬워', '널 많이 사랑하나 봐', '네가 살아가는 순간에', '그 모든 순간에 내가 있음 해', '고마워 내 인생에 나타나줘서', '이렇게 날 안아줘서', '오늘 너에게 고백하겠어']\n"
          ]
        },
        {
          "output_type": "stream",
          "name": "stderr",
          "text": [
            "\r17it [06:39, 23.78s/it]"
          ]
        },
        {
          "output_type": "stream",
          "name": "stdout",
          "text": [
            "45\n",
            "['밤하늘의 별을 따서 너에게 줄래 ', '너는 내가 사랑하니까 ', '더 소중하니까 ', '오직 너 아니면 안 된다고 ', '외치고 싶어 그저 ', '내 곁에만 있어줘 ', '떠나지 말아줘 ', '참 많이 어색했었죠 널 처음 만난 날 ', '멀리서 좋아하다가 들킨 사람처럼 ', '숨이 가득 차올라서 ', '아무 말 하지 못했는데 ', '너는 말 없이 웃으며 내 손 잡아줬죠 ', '밤하늘의 별을 따서 너에게 줄래 ', '너는 내가 사랑하니까 ', '더 소중하니까 ', '오직 너 아니면 안 된다고 ', '외치고 싶어 ', '그저 내 곁에만 있어줘 ', '떠나지 말아줘 ', '널 좋아하는 내 마음이 표현이 안 돼 ', '꿈이 아니면 좋겠어 자꾸 웃음 나와 ', '내 모든 걸 다 준대도 ', '너에겐 아깝질 않아 ', '이 순간이 영원하길 난 정말 행복해 ', '밤하늘의 별을 따서 너에게 줄래 ', '너는 내가 사랑하니까 ', '더 소중하니까 ', '오직 너 아니면 안 된다고 ', '외치고 싶어 ', '그저 내 곁에만 있어줘 ', '떠나지 말아줘 ', '그저 내 곁에만 있어줘 ', '떠나지 말아줘 ', '많고 많은 사람 중에 ', '너를 만나서 행복하고 싶어 ', '두 번 다시 울지 않을래 ', '오직 내 눈에는 너만 보여 ', '나를 아껴줘 이제부터 ', '혼자가 아니야 우린 함께니까 ', '나나나 난난 난난나 ', '나나나 난난 난난나 ', '나 나나나 난난 난난나 나나난나 ', '나나나 난난 난난나', '나나나 난난 난난나', '나 나나나 난난 난난나 나나난나']\n"
          ]
        },
        {
          "output_type": "stream",
          "name": "stderr",
          "text": [
            "\r18it [07:04, 24.38s/it]"
          ]
        },
        {
          "output_type": "stream",
          "name": "stdout",
          "text": [
            "38\n",
            "['달이 차고 내 마음도 차고', '이대로 담아 두기엔', '너무 안타까워', '너를 향해 가는데', '달은 내게 오라 손짓하고', '귓속에 얘길 하네', '지금 이 순간이', '바로 그 순간이야', '제일 마음에 드는 옷을 입고', '노란 꽃 한 송이를 손에 들고', '널 바라 보다 그만', '나도 모르게 웃어버렸네', '이게 아닌데', '내 마음은 이게 아닌데', '널 위해 준비한 오백 가지', '멋진 말이 남았는데', '사랑한다는', '그 흔한 말이 아니야', '그 보단 더욱더 로맨틱하고', '달콤한 말을 준비했단 말야', '숨이 차고 밤 공기도 차고', '두 눈을 감아야만', '네 모습이 보여', '걸을 수가 없는데', '구름 위를 걷는다는 말이', '과장이 아니란 걸 알게 됐어', '널 알게 된 후부터 나의 모든 건', '다 달라졌어', '이게 아닌데', '내 마음은 이게 아닌데', '널 위해 준비한 오백 가지', '멋진 말이 남았는데', '사랑한다는 그 흔한 말이 아니야', '그 보단 더욱더 로맨틱하고', '달콤한 말을 준비했단 말야', '나를 봐줘요 내 말을 들어봐 줘요', '아무리 생각을 하고 또 해도', '믿어지지 않을 만큼 사랑해']\n"
          ]
        },
        {
          "output_type": "stream",
          "name": "stderr",
          "text": [
            "\r19it [07:26, 23.68s/it]"
          ]
        },
        {
          "output_type": "stream",
          "name": "stdout",
          "text": [
            "45\n",
            "['너는 참 못됐다', '나 없이도 잘 지내더라', '언제쯤 나도 널 잊을 수 있을까', '눈을 감아도 눈물이 흐르고', '어딜 가도 너만 보여', '어느새 니가 없는', '긴 하루가 지나간다', '다른 사람을 또 만나봐도', '니가 아님 안 되겠어', '울다가 또 웃다가 미친 것처럼', '또 보고 싶다', '상처 같은 널 잊어보려고', '아무리 애를 써도', '너만 보고 싶다', '니가 없인 아무것도 못 해', '니가 없는 나는 아무것도 아냐', '나도 참 못됐다', '자꾸만 또 힘이 들더라', '예전처럼 돌아갈 수가 있을까', '눈을 감아도 니가 떠오르고', '어딜 가도 너만 보여', '자주 걷던 그 길 끝 저 너머', '그댄 보일까요', '다른 사람을 또 만나봐도', '니가 아님 안 되겠어', '울다가 또 웃다가 미친 것처럼', '또 보고 싶다', '상처 같은 널 잊어보려고', '아무리 애를 써도', '너만 보고 싶다', '니가 없인 아무것도 못 해', '니가 없는 나는 아무것도 아냐', '그때로 돌아가 너를', '다시 한번만 안아볼 수 있다면', '나 말할 거야 사랑한다고 보고픈', '나의 사랑아 내게 다시 와주라', '다른 사람을 또 만나봐도', '니가 아님 안 되겠어', '울다가 또 웃다가 미친 것처럼', '또 보고 싶다', '상처같은 널 잊어보려고', '아무리 애를 써도', '너만 보고 싶다', '니가 없인 아무것도 못 해', '니가 없는 나는 아무것도 아냐']\n"
          ]
        },
        {
          "output_type": "stream",
          "name": "stderr",
          "text": [
            "\r20it [07:52, 24.37s/it]"
          ]
        },
        {
          "output_type": "stream",
          "name": "stdout",
          "text": [
            "37\n",
            "['I wanna be with you', 'And I wanna stay with you', 'Just like the stars shining bright', 'You’re glowing once more', 'Right here beside you I’m still', 'Walking wherever you go', 'You will live forever in me', 'Breathing deeply within me', 'Just take it all', 'I`m nothing without your love', 'I promise', 'I’ll never leave your love', 'My heart is beating ‘cause of you', 'Forever and ever and ever', 'Only you can take my heart', 'Dear my love love love', 'I wanna stay with you', '추억은 늘 여기 마음이란 방에', '너와의 얘기들로 가득 차 있어', '언제부터였는지 나도 잘 모르지만', '너에게 말하고 싶어', '나의 모든 얘기를', 'Just take it all', 'I`m nothing without your love', 'I promise', 'I’ll never leave your love', 'My heart is beating ‘cause of you', 'Forever and ever and ever', 'Only you can take my heart', 'Dear my love love love', 'I wanna stay', 'Tore my heart', 'Now I’m in the dark', 'Will we meet in our dreams', 'Breaking my heart', 'Here we are apart', 'I wanna stay near you']\n"
          ]
        },
        {
          "output_type": "stream",
          "name": "stderr",
          "text": [
            "\r21it [08:13, 23.32s/it]"
          ]
        },
        {
          "output_type": "stream",
          "name": "stdout",
          "text": [
            "47\n",
            "['하루가 가는 소릴 들어', '너 없는 세상 속에', '달이 저물고 해가 뜨는 서러움', '한날도 한시도 못 살 것 같더니', '그저 이렇게 그리워하며 살아', '어디서부터 잊어갈까', '오늘도 기억 속에', '니가 찾아와 하루 종일 떠들어', '니 말투 니 표정 너무 분명해서', '마치 지금도 내 곁에', '니가 사는 것만 같아', '사랑인걸 사랑인걸', '지워봐도 사랑인걸', '아무리 비워내도', '내 안에는 너만 살아', '너 하나만 너 하나만', '기억하고 원하는 걸', '보고픈 너의 사진을', '꺼내어 보다 잠들어', '어디서부터 잊어갈까', '오늘도 기억 속에', '니가 찾아와 하루 종일 떠들어', '니 말투 니 표정 너무 분명해서', '마치 지금도 내 곁에', '니가 사는 것만 같아', '사랑인걸 사랑인걸', '지워봐도 사랑인걸', '아무리 비워내도', '내 안에는 너만 살아', '너 하나만 너 하나만', '기억하고 원하는 걸', '보고픈 너의 사진을', '꺼내어 보다 잠들어', '잠결에 흐르던 눈물이', '곧 말라가듯 조금씩 흐려지겠지', '손 내밀면 닿을 듯', '아직은 눈에 선한 니 얼굴', '사랑해 사랑해 잊으면 안 돼', '너만 보고 너만 알고', '너만 위해 살았던 난', '마음 둘 곳을 몰라', '하루가 일 년 같아', '아무것도 아무 일도', '아무 말도 못하는 난', '그래도 사랑을 믿어', '그래도 사랑을 믿어', '오늘도 사랑을 믿어']\n"
          ]
        },
        {
          "output_type": "stream",
          "name": "stderr",
          "text": [
            "\r22it [08:41, 24.52s/it]"
          ]
        },
        {
          "output_type": "stream",
          "name": "stdout",
          "text": [
            "29\n",
            "['네가 없이 웃을 수 있을까', '생각만 해도 눈물이나', '힘든 시간 날 지켜준 사람', '이제는 내가 그댈 지킬 테니', '너의 품은 항상 따뜻했어', '고단했던 나의 하루에', '유일한 휴식처', '나는 너 하나로 충분해', '긴 말 안 해도 눈빛으로 다 아니깐', '한 송이의 꽃이 피고 지는', '모든 날 모든 순간 함께해', '햇살처럼 빛나고 있었지', '나를 보는 네 눈빛은', '꿈이라고 해도 좋을 만큼', '그 모든 순간은 눈부셨다', '불안했던 나의 고된 삶에', '한줄기 빛처럼 다가와', '날 웃게 해준 너', '나는 너 하나로 충분해', '긴 말 안 해도 눈빛으로 다 아니깐', '한 송이의 꽃이 피고 지는', '모든 날 모든 순간 함께해', '알 수 없는 미래지만', '네 품속에 있는 지금 순간 순간이', '영원 했으면 해', '갈게 바람이 좋은 날에', '햇살 눈부신 어떤 날에 너에게로', '처음 내게 왔던 그날처럼', '모든 날 모든 순간 함께해']\n"
          ]
        },
        {
          "output_type": "stream",
          "name": "stderr",
          "text": [
            "\r23it [08:58, 22.32s/it]"
          ]
        },
        {
          "output_type": "stream",
          "name": "stdout",
          "text": [
            "36\n",
            "['하루 종일 집에 누워서', '전화기만 보고 있잖아', '내 머릿속은', '네 생각들로만 짜여져 있어', '날 찾지 않아도', '좋아하지 않아도', '이제는 느낄 수 있어', '바라보지 않아도', '다른 사람에게 마음을 줘도', '이제는 견딜 수 있어', '어두운 방 안에서', '혼자 있는 나 그리고 하', '네가 불러주지 않아도', '난 괜찮아 난 괜찮아', '날 찾지 않아도', '좋아하지 않아도', '이제는 느낄 수 있어', '바라보지 않아도', '다른 사람에게 마음을 줘도', '이제는 견딜 수 있어', '어두운 방 안에서', '혼자 있는 나 그리고 하', '네가 불러주지 않아도', '난 괜찮아 난 괜찮아', '언젠가는 다시', '돌아와 주길 와 주길', '언젠가는 꼭 다시 볼 수 있기를', '볼 수 있기를', '어두운 방 안에서', '혼자 있는 나 그리고 하', '네가 불러주지 않아도', '난 괜찮아 난 괜찮아', '어두운 방 안에서', '혼자 있는 나 그리고 하', '네가 불러주지 않아도', '난 괜찮아 난 괜찮아']\n"
          ]
        },
        {
          "output_type": "stream",
          "name": "stderr",
          "text": [
            "\r24it [09:19, 21.88s/it]"
          ]
        },
        {
          "output_type": "stream",
          "name": "stdout",
          "text": [
            "37\n",
            "['네가 떠올라 얼어붙었던', '내게 손 내밀어 준 널', '맞이할 준비를 해', '기분 좋게 내린 햇살을 보고', '반가운 마음으로 문을 열고 나가고서', '맞이해본 따사로운 오늘은', '다가와 준 봄날을 기대하게 해', '나는 알지 못할 여기저기서', '즐거움에 부푼 꽃들은 준비하고', '그들만의 노랫소리들로', '너와 나의 눈을 또 즐겁게 하겠지', '네가 떠올라 얼어붙었던', '내게 손 내밀어주고', '나를 덮어주던', '네가 없이는 의미 없어서', '내게 봄이 돼줬던 널', '맞이할 준비를 해', '기분 좋게 감싸 안는 공기에', '나 혼자 남몰래 위로 받는 것 같아', '나를 안아줬던 너의 손을', '맞잡은 채 즐겁게 나 춤을 추고파', '네가 떠올라 얼어붙었던', '내게 손 내밀어주고', '나를 덮어주던', '네가 없이는 의미 없어서', '내게 봄이 돼줬던 널', '맞이할 준비를 해', '아름다운 축제 노래들조차', '너 없이는 결국 주인공 없는', '초라한 무대일 뿐이야', '울려 퍼지는 꽃들의 노래', '함께 손을 잡은 채로', '나와 춤을 춰줘', '결국 너 없인 아무 의미 없어질', '다가오는 노래를', '너로 완성시켜줘', '그렇게 날 반겨줘']\n"
          ]
        },
        {
          "output_type": "stream",
          "name": "stderr",
          "text": [
            "\r25it [09:40, 21.71s/it]"
          ]
        },
        {
          "output_type": "stream",
          "name": "stdout",
          "text": [
            "26\n",
            "['하얀 머리 뽑아 달라며', '한 개 백 원이라던', '그 시절 다 지나가고', '이젠 흰 눈만 남았네', '그렇게도 힘이 드냐며', '나를 위로하시다', '어느새 잠들어버린', '주름만 남은 내 아버지', '세상이 아무리 힘들어도', '당신 있으면 견딜 것 같아', '오래오래 날 지키며', '그냥 곁에만 있어 주세요', '활짝 웃는 모습이 어린애 같아 보여도', '아프다 말도 못 하는 사람', '이제는 내가 지켜줄게', '어린아이로 돌아가 버린', '사랑하는 내 아버지', '오래오래 날 지키며', '그냥 곁에만 있어 주세요', '활짝 웃는 모습이', '어린애 같아 보여도', '아프다 말도 못 하는 사람', '이제는 내가 지켜줄게', '어린아이로 돌아가 버린', '사랑하는 내 아버지', '사랑해요 내 아버지']\n"
          ]
        },
        {
          "output_type": "stream",
          "name": "stderr",
          "text": [
            "\r26it [09:55, 19.67s/it]"
          ]
        },
        {
          "output_type": "stream",
          "name": "stdout",
          "text": [
            "34\n",
            "['일부러 몇 발자국 물러나', '내가 없이 혼자 걷는 널 바라본다', '옆자리 허전한 너의 풍경', '흑백 거리 가운데 넌 뒤돌아본다', '그때 알게 되었어', '난 널 떠날 수 없단 걸', '우리 사이에 그 어떤 힘든 일도', '이별보단 버틸 수 있는 것들이었죠', '어떻게 이별까지 사랑하겠어', '널 사랑하는 거지', '사랑이라는 이유로', '서로를 포기하고', '찢어질 것같이 아파할 수 없어 난', '두세 번 더 길을 돌아갈까', '적막 짙은 도로 위에 걸음을 포갠다', '아무 말 없는 대화 나누며', '주마등이 길을 비춘 먼 곳을 본다', '그때 알게 되었어', '난 더 갈 수 없단 걸', '한 발 한 발 이별에 가까워질수록', '너와 맞잡은 손이 사라지는 것 같죠', '어떻게 이별까지 사랑하겠어', '널 사랑하는 거지', '사랑이라는 이유로', '서로를 포기하고', '찢어질 것같이 아파할 수 없어 난', '어떻게 내가 어떻게 너를', '이후에 우리 바다처럼 깊은 사랑이', '다 마를 때까지', '기다리는 게 이별일 텐데', '어떻게 내가 어떻게 너를', '이후에 우리 바다처럼 깊은 사랑이', '다 마를 때까지', '기다리는 게 이별일 텐데']\n"
          ]
        },
        {
          "output_type": "stream",
          "name": "stderr",
          "text": [
            "\r27it [10:15, 19.70s/it]"
          ]
        },
        {
          "output_type": "stream",
          "name": "stdout",
          "text": [
            "61\n",
            "['Trust the warmth inside', 'Can you feel my love alive', '어제처럼', '오늘도 아무 일 없는 듯이', '그리고', \"Please don't tell me why\", '이렇게 돌아서지만', '나를 떠나가는 이유를', '난 묻진 않을게요', '내게 이런 말 하기가', '쉽진 않았을 거야', '생각해 봤어', '얼마나 어려웠을지', '다만', '슬픈 내 눈물에', '돌아설 수 없어', '멈출 사랑으로', '안을까 봐', '난 너무나 두려울 뿐이죠', 'So baby', 'Trust the warmth inside', 'Can you feel my love alive', '어제처럼', '오늘도 아무 일 없는 듯이', '그리고', \"Please don't tell me why\", '이렇게 돌아서지만', '나를 떠나가는 이유를', '난 묻진 않을게요', '네겐 너무나 부족한', '나를 알고 있기에', '다짐해 왔어', '언젠가 이별이 오면', '그땐', '떠난 내 마음이', '미안하지 않게', '좋은 추억으로', '간직하게', '널 웃으며 보내준다고', 'Faith is all we need', 'It was love that set us free', '처음처럼', '이별은 아무런 얘기 없이', '하지만', 'Love forever lives', '다시는 볼 수 없어도', '나의 가슴속엔 언제나', '그대 영원하겠죠', '언젠가 내 모습 또다시', '처음처럼 그립다면', '그냥 돌아오면 돼', \"Don't you know I love you\", 'Faith is all we need', 'It was love that set us free', '처음처럼', '이별은 아무런 얘기 없이', '하지만', 'Love forever lives', '다시는 볼 수 없어도', '나의 가슴속엔 언제나', '그대 영원하겠죠']\n"
          ]
        },
        {
          "output_type": "stream",
          "name": "stderr",
          "text": [
            "\r28it [10:50, 24.45s/it]"
          ]
        },
        {
          "output_type": "stream",
          "name": "stdout",
          "text": [
            "45\n",
            "['어린 햇살 아래서', '뛰어놀곤 했었던', '가쁜 숨결', '굽이진 골목 지나', '길을 따라가보면', '같은 기억', '어른이란 시간은', '아직 어색하게도', '나를 채워', '많은 게 변했다 해', '여긴 그대로인걸', 'You’ll feel the same', '땀에 젖어 놀았던', '우리는 너와 난 이젠', '돌아갈 순 없지만', '낡아진 서랍 속에서', '작았던 서롤 기억해', 'When I’m far from home', 'Always 떠올라 난 아직도', '반짝이던 네 두 눈', '마주 보던 그림자', '마주 보던 우리는', '여기 still same', '시간은 언제나 날', '울리는 존재지만', '놓질 못해', '많은 게 더 지날 땐', '여긴 또 하나의', 'Our home', '그땐 우린 어딜까', '낡아진 서랍 속에서', '작았던 서롤 기억해', 'When I’m far from home', 'Always 떠올라 난 아직도', '반짝이던 네 두 눈', '혼자서 숨겼던', '널 향한 마음은', '알게 하진 않을 거야', '널 볼 수 있다면 그걸로 충분해', '담을게 두 눈에 언제든 항상', '낡아진 서랍 속에서', '작았던 서롤 기억해', 'When I’m far from home', 'Always 떠올라 난 아직도', '반짝이던 네 두 눈']\n"
          ]
        },
        {
          "output_type": "stream",
          "name": "stderr",
          "text": [
            "\r29it [11:16, 24.98s/it]"
          ]
        },
        {
          "output_type": "stream",
          "name": "stdout",
          "text": [
            "46\n",
            "['우연히 너를 만나서', '너의 옆자리에 앉아', '그렇게 우린 친해졌어', '짧은 시간에 그렇게', '가까워질 수 있다는 게', '그게 참 신기했어', '소소한 일상부터', '어린 시절 얘기까지도', '그리 똑같진 않아도', '말이 참 잘 통해서', '더 짧았던 거야', '너의 번호를 누르고', '설레임을 가득 채우다', '너의 번호를 지우며', '좋았던 시간을 덜어내', '그때 난 왜 몰랐을까', '이뤄질 수 없는', '짧은 시간 속의', '우린 여기까지인가 봐', '어쩌다 먼 훗날에', '그때 우리 약속 기억날까', '아쉬움만 가득했던', '그때 난 왜 그랬을까', '너의 번호를 누르고', '설레임을 가득 채우다', '너의 번호를 지우며', '좋았던 시간을 덜어내', '그때 난 왜 몰랐을까', '이뤄질 수 없는', '짧은 시간 속의', '우린 여기까지인가 봐', '아무 일 없이 살다 보면', '모두 잊혀질 거라', '또 맘을 속이고 달래도', '자꾸만 그때 네가 생각나', '또 너를 부르게 돼', '너의 번호를 누르고', '설레임을 가득 채우다', '너의 번호를 지우며', '좋았던 시간을 덜어내', '그때 난 왜 몰랐을까', '이뤄질 수 없는', '짧은 시간 속의', '스쳐 가버린', '그때 그 시절 속의', '우린 여기까지인가 봐']\n"
          ]
        },
        {
          "output_type": "stream",
          "name": "stderr",
          "text": [
            "\r30it [11:43, 25.49s/it]"
          ]
        },
        {
          "output_type": "stream",
          "name": "stdout",
          "text": [
            "23\n",
            "['꿈처럼 지나간 시간', '나는 무얼 찾고 싶었나', '지도도 없이 걸어온 삶을', '후회하진 않으리', '떠난 어제는 떠날 오늘로', '남겨지기도 하지', '나의 친구여 나의 형제여', '내 이름 불러주오', '미안하다 나의 인생아', '앞만 보며 살아왔구나', '찬란한 순간이여 영원하라', '내일은 처음 가는 길', '언제나처럼 또 두려워', '버들강아지 활짝 웃는 날', '후회하지 않으리', '비가 내리면 노래하리', '눈이 내려도 좋아', '나의 친구여 나의 형제여', '내 이름 불러 주오', '미안하다 나의 인생아', '앞만 보며 살아왔구나', '찬란한 순간이여 영원하라', '영원한 순간이여 찬란하라']\n"
          ]
        },
        {
          "output_type": "stream",
          "name": "stderr",
          "text": [
            "\r31it [11:56, 21.78s/it]"
          ]
        },
        {
          "output_type": "stream",
          "name": "stdout",
          "text": [
            "55\n",
            "['OhohOh', 'OhohOh', 'OhohOh', 'Yeah', 'You 내가 쓰러질 때', '절대 흔들림 없이 강한 눈빛으로', '몇 번이고 날 일으켜 줘', 'And You 나 힘에 겨울 때', '슬픔의 벼랑 끝까지 또 어김없이', '찾아와 두 손 잡은 그대에게', '난 해준 게 없는데 초라한 나지만', '오늘 그댈 위해 이 노래 불러요', 'Tonight 그대의 두 눈에 그 미소 뒤에', '날 위해 감춰왔던 아픔이 보여요', 'You and I together', 'it just feels alright', '이별이란 말은 never', '그 누가 뭐라 해도 난 그댈 지킬게', 'You and I together 내 두 손을 놓지 마', '안녕이란 말은 never', '내게 이 세상은 오직 너와 나기에', '그 많은 사람처럼', '우리 사랑 역시 조금씩 변하겠죠', '하지만 제발 슬퍼 말아요', '오랜 친한 친구처럼', '나만을 믿을 수 있게 기댈 수 있게', 'I promise you that', 'I’m be right here baby', '난 해준 게 없는데 초라한 나지만', '오늘 그댈 위해 이 노래 불러요', 'Tonight 그대의 두 눈에 그 미소 뒤에', '날 위해 감춰왔던 아픔이 보여요', 'You and I together', 'it just feels alright feels alright', '이별이란 말은 never', '그 누가 뭐라 해도 난 그댈 지킬게', 'You and I together', '내 두 손을 놓지 마 안녕이란 말은 never', '내게 이 세상은 오직 너와 나기에', '외로운 밤이 찾아올 땐', '나 살며시 눈을 감아요', '그대의 숨결이 날 안을 때', '무엇도 두렵지 않죠', '이 세상 그 어떤 누구도', '그대를 대신할 수 없죠', 'You‘re the only one in', 'I’ll be there for you baby', 'You and I together', 'it just feels alright feels alright', '이별이란 말은 never', '그 누가 뭐라 해도 난 그댈 지킬게', 'You and I together', '내 두 손을 놓지 마', '안녕이란 말은 never', '내게 이 세상은 오직 너와 나기에']\n"
          ]
        },
        {
          "output_type": "stream",
          "name": "stderr",
          "text": [
            "\r32it [12:29, 24.97s/it]"
          ]
        },
        {
          "output_type": "stream",
          "name": "stdout",
          "text": [
            "48\n",
            "['In this moment', 'I see you', 'It always comes around', 'As I believed', 'When the rain stops', 'You shine on me', 'Your light’s the only thing', 'that keeps the cold out', 'Moon in the summer night', 'Whispering of the stars', 'They’re singing like', 'Christmas trees for us', 'So I’ll tell you', 'A Million tiny things that', 'You have never known', 'It all gets tangled up inside', 'And I’ll tell you', 'A Million little reasons', 'I’m falling for your eyes', 'I just want to be where you are', 'It’s such a strange thing to do', 'Sometimes I don’t understand you', 'But It always brings me back', 'To where you are', '혹시 아니', '너에겐 나만 아는 모습이 있어', '한여름밤 오는 첫눈같이', '믿기지 않는 기적 같은 놀라운 순간 넌', '언젠가 또', '불어온 바람에', '마음이 날아다녀도', '기다릴게', 'So I’ll tell you', 'A Million tiny things that', 'You have never known', 'It all gets tangled up inside', 'And I’ll tell you', 'A Million little reasons', 'I’m falling for your eyes', 'I just want to be where you are', 'Tell you', 'A Million tiny things that', 'You have never known', 'It all gets tangled up inside', 'Tell you', 'A Million little reasons', 'I’m falling for your eyes', 'I just want to be where you are']\n"
          ]
        },
        {
          "output_type": "stream",
          "name": "stderr",
          "text": [
            "\r33it [12:57, 26.12s/it]"
          ]
        },
        {
          "output_type": "stream",
          "name": "stdout",
          "text": [
            "31\n",
            "[\"Don't walk away I'm falling down\", \"Don't walk away I'm falling down\", '깊어져만 가는', '밤하늘 별빛은 여전히', '그 자리 그대를 기다리죠', '한참을 말하지 않아도', '그대 두 눈 들여다보면', '나는 알아요 그대를 느끼죠', '햇살 안은 밤하늘 수평선 멀리', '그대의 별 되어 늘 그대를 지킬게요', '내 생에 가장 아름다운 시간들', '나 그댈 위해 간직해온', '짙은 숨결 그대에게', '닿기를 바래요', \"Don't walk away I'm falling down\", \"Don't walk away I'm falling down\", '점점 멀어지는', '한동안 그대 외로이', '힘없이 지나간 나날들', '나는 아파요 그대를 느끼죠', '햇살 안은 밤하늘 수평선 멀리', '그대의 별 되어 늘 그대를 지킬게요', '내 생에 가장 아름다운 시간들', '나 그댈 위해 간직해온', '짙은 숨결 전해지길', '바래요 오직 나 그대가', '내 맘 흐르는 하늘을 바라봐줘요', '한걸음 다가와 멀어지진 말아줘요', '하루하루 같은 이곳에 남겨져', '나 그대에게 머물게요', '내 생에 가장 아름다운 그대와 영원히']\n"
          ]
        },
        {
          "output_type": "stream",
          "name": "stderr",
          "text": [
            "\r34it [13:16, 23.76s/it]"
          ]
        },
        {
          "output_type": "stream",
          "name": "stdout",
          "text": [
            "35\n",
            "['어느 차가운 밤', '너를 첨 본 그날처럼', '가슴에 내려앉았지', '귓가에 울리던', '마지막 너의 인사에', '따뜻한 목소리 잔잔히 맴도네', '바람이 불던 날', '걸었던 그 거리에선', '따뜻한 기억이 남아', '너에게 부족한', '나란 걸 알고 있기에', '초라한 눈물에 너를 흘려 보내', '안녕 나의 사랑 그대여', '돌아온다던 그댈', '이렇게 기다리고 있어', '시간이 더 지난 뒤에도 기억한다면', '그대와 함께 행복하고 싶어', '그대와 함께 행복하고 싶어', '가로등 밑에서', '나눴던 우리 사랑은', '빛나는 기억이었지', '말없이 눈물이', '내 맘에 흘러내릴 때', '너와의 기억도 지워졌으면 해', '안녕 나의 사랑 그대여', '돌아온다던 그댈', '이렇게 기다리고 있어', '시간이 더 지난 뒤에도 기억한다면', '그대와 함께 행복하고 싶어', '시간이 지나서 언젠가 우리', '환하게 미소 지을 수 있을 그날들로', '오', '영원한 나의 사랑', '오', '언제까지나 너를 기다릴게']\n"
          ]
        },
        {
          "output_type": "stream",
          "name": "stderr",
          "text": [
            "\r35it [13:36, 22.67s/it]"
          ]
        },
        {
          "output_type": "stream",
          "name": "stdout",
          "text": [
            "34\n",
            "['때 이른 봄 몇 송이 꺾어다', '너의 방 문 앞에 두었어', '긴 잠 실컷 자고 나오면', '그때쯤엔 예쁘게 피어 있겠다', '별 띄운 여름 한 컵 따라다', '너의 머리맡에 두었어', '금세 다 녹아버릴 텐데', '너는 아직 혼자 쉬고 싶은가 봐', '너 없이 보는 첫 봄이 여름이', '괜히 왜 이렇게 예쁘니', '다 가기 전에 널 보여줘야 하는데', '음 꼭 봐야 하는데', '내게 기대어 조각잠을 자던', '그 모습 그대로 잠들었구나', '무슨 꿈을 꾸니', '깨어나면 이야기해 줄 거지', '언제나의 아침처럼 음', '빼곡한 가을 한 장 접어다', '너의 우체통에 넣었어', '가장 좋았던 문장 아래 밑줄 그어', '나 만나면 읽어줄래', '새하얀 겨울 한 숨 속에다', '나의 혼잣말을 담았어', '줄곧 잘 참아내다가도', '가끔은 철없이 보고 싶어', '새삼 차가운 연말의 공기가', '뼈 틈 사이사이 시려와', '움츠려 있을 너의 그 마른 어깨를 ', '꼭 안아줘야 하는데', '내게 기대어 조각잠을 자던', '그 모습 그대로 잠들었구나', '무슨 꿈을 꾸니', '깨어나면 이야기해 줄 거지', '언제나의 아침처럼 음']\n"
          ]
        },
        {
          "output_type": "stream",
          "name": "stderr",
          "text": [
            "\r36it [13:56, 21.85s/it]"
          ]
        },
        {
          "output_type": "stream",
          "name": "stdout",
          "text": [
            "34\n",
            "['아득한 시간 속에 아직', '우리 사랑이 남아있을까', '멀어지던 그날의 너를 따라 걸어도', '텅 빈 거리엔 미움만', '너의 흔적을 마주칠 때마다', '익숙함 속에 떠나보내던', '소중했던 모든 날들은', '후회로 남아', '이렇게 또 내게 다가오나 봐', '멍하니 혼자 남아', '나도 모르게 널 그리워하다', '떠오르는 네 생각에 하루를 살아', '선명했던 우리의', '추억은 만남보다 이별에 남아', '여전히 너를 사랑하게 하나 봐', '그날처럼', '저녁 빛에 밤이 물들면', '길게 늘어진 그림자처럼', '흩어질 듯 더 커져가는 너의 모습은', '아직도 내 안에 가득한가 봐', '멍하니 혼자 남아', '나도 모르게 널 그리워하다', '떠오르는 네 생각에 하루를 살아', '선명했던 우리의', '추억은 만남보다 이별에 남아', '여전히 너를', '사랑하고 있나 봐 바보처럼', '흩날리는 기억의 모든 순간마다 너를', '매일 이렇게 불러본다', '꼭 한 번쯤 너에게 해주고 싶었던 말', '너무 사랑했다고', '다시는 너를 떠나지 않겠다고', '여전히 너를 사랑하고 있다고', '그날 보다']\n"
          ]
        },
        {
          "output_type": "stream",
          "name": "stderr",
          "text": [
            "\r37it [14:16, 21.29s/it]"
          ]
        },
        {
          "output_type": "stream",
          "name": "stdout",
          "text": [
            "42\n",
            "['언제부턴가 불쑥', '내 습관이 돼버린 너', '혹시나 이런 맘이', '어쩌면 부담일까', '널 주저했어', '언제부턴가 점점', '내 하루에 스며든 너', '아침을 깨우는 네 생각에', '어느샌가 거리엔', '어둠이 젖어 들고', '취기를 빌려', '오늘 너에게 고백할 거야', '하루하루 네가 좋다고', '괜히 어색할까', '혼자 애만 태우다', '끝끝내 망설여왔던 순간', '알잖아 나 무뚝뚝하고', '말도 없는 걸', '서툰 표현이 쑥스러워서 괜히', '쓰다 지울 문자만 바라보다', '멋쩍은 쓴웃음만', '언제부턴가 가끔', '너와 마주칠 때마다', '한참을 머뭇거린', '어설픈 손 인사만', '오늘 밤도 후회로 잦아들고', '취기를 빌려', '오늘 너에게 고백할 거야', '하루하루 보고 싶다고', '괜히 어색할까 혼자 애만 태우다', '수없이 연습해왔던 그 말', '알잖아 나 무뚝뚝하고', '말도 없는 걸', '서툰 표현이 쑥스러워서 괜히', '쓰다 지울 문자만 바라보다', '멋쩍은 쓴웃음만', '첫눈을 빌려', '오늘은 꼭 고백할 거야', '작은 너를 품에 안고서', '눈을 마주하고', '너무 사랑한다고', '함께 하고 싶다고']\n"
          ]
        },
        {
          "output_type": "stream",
          "name": "stderr",
          "text": [
            "\r38it [14:40, 22.23s/it]"
          ]
        },
        {
          "output_type": "stream",
          "name": "stdout",
          "text": [
            "50\n",
            "['Ah ah ah ah ah ah', 'Ah ah ah ah ah ah', '키만 훌쩍 커버린', '어른아이 같아', '진심이 없는 네 말에', '감당하지 못 할', '감정을 택했잖아', '그래 Too late', '상처를 되돌리기엔', '늦어버렸어', '미쳤다 해도 뭐 어때', 'Ah ah ah ah', 'Cause I can’t control myself', 'Ah ah ah ah', '네 앞에선 모든 게', '잘 통제가 안 돼', '다 터질 것만 같아', 'Cause I can’t control myself', '반복되는 Bad days', '비참해 바닥난 감정', '헛돌기만 해 헐거운 반지처럼', '상관없어 사랑이 다 이럴 텐데', '미쳤다 해도 뭐 어때', 'Ah ah ah ah', 'Cause I can’t control myself', 'Ah ah ah ah', '네 앞에선 모든 게', '잘 통제가 안 돼', '다 터질 것만 같아', 'Cause I can’t control myself', 'Ah ha ha ha', 'Feels like heaven feels like hell', 'Ah ha ha ha', '그마저도 I don’t care', 'Ah 난 또다시 네게', '되돌아갈 텐데', '미쳤다 해도 뭐 어때', 'Ah ah ah ah', 'Cause I can’t control myself', 'Ah ah ah ah', '네 앞에선 모든 게', '잘 통제가 안 돼', '다 터질 것만 같아', 'Cause I can’t control myself', 'Ah ah ah ah', 'Ah ah ah ah', '네 앞에선 모든 게', '잘 통제가 안 돼', '다 터질 것만 같아', 'Cause I can’t control myself']\n"
          ]
        },
        {
          "output_type": "stream",
          "name": "stderr",
          "text": [
            "\r39it [15:09, 24.30s/it]"
          ]
        },
        {
          "output_type": "stream",
          "name": "stdout",
          "text": [
            "36\n",
            "['참 웃기지 한순간에 남이 되는 게', '꿈처럼 아무 일도 없었던 것 같아', '우리가 가까웠던 만큼', '다시 멀어져야 한다는 게', '너무 이상해 믿을 수가 없나 봐', '안녕이란 말이 참 우습지', '우릴 시작하게 한 인사가', '이젠 우리의 끝을 알려주는', '말이 되었어', '담담히 헤어지는 법', '그런 건 잘 모르겠는데', '내일부터 노력해볼게', '그러니까 오늘까지만 나를 잊지 마', '도망치듯 돌아서던 너의 모습에', '한동안 아무 말 없이 서있었어 난', '벌써 넌 생각보다 훨씬', '내게 멀어지고 있었나 봐', '이미 늦은 걸 나만 몰랐나 봐', '안녕이란 말이 참 우습지', '우릴 시작하게 한 인사가', '이젠 우리의 끝을 알려주는', '말이 되었어', '담담히 헤어지는 법', '그런 건 잘 모르겠는데', '내일부터 노력해볼게', '그러니까 오늘까지만 나를 잊지 마', '수많은 내 기억들이', '조금은 날 힘들게 만들어도', '널 지워볼게 널 잊어내볼게', '안녕이란 말이 참 우습지', '그 한마디로 정말 끝인 거니', '못해준 기억 밖엔 없는데', '담담히 헤어지는 거', '어차피 난 못할 것 같아', '내일부터 노력해볼게', '그러니까 오늘까지만 나를 잊지 마']\n"
          ]
        },
        {
          "output_type": "stream",
          "name": "stderr",
          "text": [
            "\r40it [15:30, 23.19s/it]"
          ]
        },
        {
          "output_type": "stream",
          "name": "stdout",
          "text": [
            "57\n",
            "['길었던 겨우내 줄곧 품이 좀 남는', '밤색 코트', '그 속에 나를 쏙 감추고 걸음을', '재촉해 걸었어', '그런데 사람들 말이 너만 아직도', '왜 그러니', '그제서야 둘러보니 어느새 봄이', '손 잡고 걸을 사람 하나 없는 내게', '달콤한 봄바람이 너무해', '나만 빼고 다 사랑에 빠져', '봄노래를 부르고', '꽃잎이 피어나 눈 앞에 살랑거려도', '난 다른 얘기가 듣고 싶어', '한바탕 휩쓸고 지나가버릴', '오오 봄 사랑 벚꽃 말고', '봄 사랑 벚꽃 말고', '봄 사랑 벚꽃 말고', '봄 사랑 벚꽃 말고', '손에 닿지도 않을 말로', '날 꿈틀거리게 하지 말어', '맘 먹고 밖에 나가도', '막상 뭐 별 거 있나', '손 잡고 걸을 사람 하나 없는 내게', '오 사랑노래들이 너무해', '나만 빼고 다 사랑에 빠져', '봄노래를 부르고', '꽃잎이 피어나 눈 앞에 살랑거려도', '난 다른 얘기가 듣고 싶어', '한바탕 휩쓸고 지나가버릴', '오오 봄 사랑 벚꽃 말고', '남들보다 절실한 사랑 노래 가사를', '불러 봐', '수많은 연인들 가운데 왜 나는', '혼자만', '똑같은 거리와 어제와 같은 옷차림', '난 제자린데 왜 세상은 변한 것만', '같지', '누군가와 봄길을 거닐고 할 필욘', '없지만', '누구나 한번쯤은 머물고 싶은 그런', '기억을', '만들고 싶어 떨어지는 벚꽃잎도', '엔딩이 아닌 봄의 시작이듯', '사실은 요즘 옛날 생각이 나', '걷기만 해도 그리워지니까', '다시 느낄 수 있나 궁금해지지만', 'Then you know what', '나만 빼고 다 사랑에 빠져', '봄노래를 부르고', '꽃잎이 피어나 눈 앞에 살랑거려도', '난 다른 얘기가 듣고 싶어', '한바탕 휩쓸고 지나가버릴', '오오 봄 사랑 벚꽃 말고', '봄 사랑 벚꽃 말고', '봄 사랑 벚꽃 말고', '봄 사랑 벚꽃 말고', '봄 사랑 벚꽃 말고']\n"
          ]
        },
        {
          "output_type": "stream",
          "name": "stderr",
          "text": [
            "\r41it [16:03, 26.23s/it]"
          ]
        },
        {
          "output_type": "stream",
          "name": "stdout",
          "text": [
            "31\n",
            "['빛이 들어오면 자연스레 뜨던 눈', '그렇게 너의 눈빛을 보곤', '사랑에 눈을 떴어', '항상 알고 있던 것들도 어딘가', '새롭게 바뀐 것 같아', '남의 얘기 같던 설레는 일들이', '내게 일어나고 있어', '나에게만 준비된 선물 같아', '자그마한 모든 게 커져만 가', '항상 평범했던 일상도', '특별해지는 이 순간', '별생각 없이 지나치던 것들이', '이제는 마냥 내겐 예뻐 보이고', '내 맘을 설레게 해', '항상 어두웠던 것들도 어딘가', '빛나고 있는 것 같아', '남의 얘기 같던 설레는 일들이', '내게 일어나고 있어', '나에게만 준비된 선물 같아', '자그마한 모든 게 커져만 가', '항상 평범했던 일상도', '특별해지는 이 순간', '너를 알게 된 뒤 보이는', '모든 것들이 너무 예뻐 보여', '그렇게 신난 아이처럼', '순수한 사람이 된 것 같아', '나에게만 준비된 선물 같아', '자그마한 모든 게 커져만 가', '항상 평범했던 일상도', '특별해지는 이 순간', '깊은 사랑에 빠진 순간']\n"
          ]
        },
        {
          "output_type": "stream",
          "name": "stderr",
          "text": [
            "\r42it [16:21, 23.66s/it]"
          ]
        },
        {
          "output_type": "stream",
          "name": "stdout",
          "text": [
            "46\n",
            "['우연히 너를 만나서', '너의 옆자리에 앉아', '그렇게 우린 친해졌어', '짧은 시간에 그렇게', '가까워질 수 있다는게', '그게 참 신기했어', '소소한 일상부터', '어린 시절 얘기 까지도', '그리 똑같진 않아도', '말이 참 잘 통해서', '더 짧았던 거야', '너의 번호를 누르고', '설레임을 가득 채우다', '너의 번호를 지우며', '좋았던 시간을 덜어내', '그때 난 왜 몰랐을까', '이뤄질 수 없는', '짧은 시간속의', '우린 여기 까지인 가봐', '어쩌다 먼 훗날에', '그때 우리 약속 기억 날까', '아쉬움만 가득했던', '그때 난 왜 그랬을까', '너의 번호를 누르고', '설레임을 가득 채우다', '너의 번호를 지우며', '좋았던 시간을 덜어내', '그때 난 왜 몰랐을까', '이뤄질 수 없는', '짧은 시간속의', '우린 여기까지인 가봐', '아무일 없이 살다보면', '모두 잊혀질거라', '또 맘을 속이고 달래도', '자꾸만 그 때 니가 생각나', '또 너를 부르게 돼', '너의 번호를 누르고', '설레임을 가득 채우다', '너의 번호를 지우며', '좋았던 시간을 덜어내', '그때 난 왜 몰랐을까', '이뤄질 수 없는', '짧은 시간속의', '스쳐가버린', '그 때 그 시절 속의', '우린 여기까지인 가봐']\n"
          ]
        },
        {
          "output_type": "stream",
          "name": "stderr",
          "text": [
            "\r43it [16:48, 24.64s/it]"
          ]
        },
        {
          "output_type": "stream",
          "name": "stdout",
          "text": [
            "40\n",
            "['Maybe If I', 'Woke up in the morning', 'Hearing your voice', 'Maybe If I was with you', '어쩌면 우리 어려웠던 날들', '함께 보냈었다면', '혹시 우린 어땠을까', 'The distance between you and me', 'It never seems to disappear', '얼어붙은 나의 말들과 너', '만약에 우리 우연히', '다시 또 만난다면', '만약에 내가 널 위해', '조금 달라진다면', '우리가 헤어져야만 했던 이유도', 'I would try try try', '안아줄 수 있을까', '조금은 다른', '기억의 조각들', '하지만 꼭 닮은', '그리움의 마음들은', 'Only if you', 'If you come', 'The distance between you and me', 'It never seems to disappear', '멈춰버린 우리 추억과 너', '만약에 우리 우연히', '다시 또 만난다면', '만약에 내가 널 위해', '조금 달라진다면', '우리가 헤어져야만 했던 이유도', 'I would try try try', '안아줄 수 있을까', '눈을 뜨면 혹시 니가 서 있을까', '어느 날 상상도 했어', '한 번도 내게 해주지 않았던 말', '그저 너니까 좋은 거라고 oh', 'Tell me whenever', 'I’ll be wherever you are', 'Only if you come']\n"
          ]
        },
        {
          "output_type": "stream",
          "name": "stderr",
          "text": [
            "\r44it [17:11, 24.32s/it]"
          ]
        },
        {
          "output_type": "stream",
          "name": "stdout",
          "text": [
            "40\n",
            "['왜 내게 잘해줬나요', '가볍게 내 맘 모른척할 거면서', '사랑에 빠지게 만들고', '사랑까지는 왜 아니라고 해', '내 맘이 내 맘이 아닌 건', '그대 때문이에요', '함부로 다정했던 그대를', '미워하려고 해도', '그대보다', '더 좋은 사람은 많아도', '더 좋은 사랑은 없단 걸', '왜 그걸 알게 해서', '잘 지내다 체한 듯', '가슴이 또 아파오잖아', '이별마저 다정하면 어떡해', '정신없이 바쁜가 봐', '잠깐 핸드폰 확인도 못할 만큼', '힘들 땐 기대라 말하고', '힘든 순간엔 항상 내 곁에 없죠', '내 맘이 내 맘이 아닌 건', '그대 때문이에요', '함부로 다정했던 그대를', '미워하려고 해도', '그대보다', '더 좋은 사람은 많아도', '더 좋은 사랑은 없단 걸', '왜 그걸 알게 해서', '잘 지내다 체한 듯', '가슴이 또 아파오잖아', '이별마저 다정하면 어떡해', '아무리 생각해 봐도', '좋은 기억밖에 없어', '날 아프게 한 게', '이별뿐이라서', '그대 없이 하루를 이렇게 살아요', '바쁜 와중에도', '빼곡히 나 그대 생각이나', '다시 나랑 사귈거 아니면 잘해주지마', '다른 사랑 하지 못하잖아', '이별마저 다정하면 어떡해']\n"
          ]
        },
        {
          "output_type": "stream",
          "name": "stderr",
          "text": [
            "\r45it [17:35, 23.98s/it]"
          ]
        },
        {
          "output_type": "stream",
          "name": "stdout",
          "text": [
            "27\n",
            "['푸른 바다 저 너머에', '내가 찾고 싶은 게 있을까', '우린 항상 왜', '서로를 놓치고 나서야 후회할까', '저무는 저 태양 속에', '내가 갖고 싶은 게 있을까', '나는 항상 왜', '이미 행복할 너를 그리워할까', '사라지지 마 이렇게', '어린 나를 기억할게', '긴 시간이 흘러도', '우리의 세상 안에 머물게', '흩어지는 구름 속에', '내가 잊고 있던 게 있을까', '너는 항상 왜', '조각으로 남아 떠나지 못할까', '우리 거리는 멀어져', '다시 좁히려고 해도', '난 여전히 제자리', '다가설 수가 없어 너에게', '이미 내가 잃어버린 시간을', '붙잡고 놓지 못해', '언젠가 나를 찾는 날 웃어야 할 텐데', '다시 만날 수 있기를', '너를 위해 기다릴게', '긴 시간이 흘러도', '우리의 세상 안에 머물게']\n"
          ]
        },
        {
          "output_type": "stream",
          "name": "stderr",
          "text": [
            "\r46it [17:51, 21.57s/it]"
          ]
        },
        {
          "output_type": "stream",
          "name": "stdout",
          "text": [
            "35\n",
            "['그렇게 대단한 운명까진', '바란적 없다 생각했는데', '그대 하나 떠나간 내 하룬 이제', '운명이 아님 채울 수 없소', '별처럼 수 많은 사람들', '그 중에 그대를 만나', '꿈을 꾸듯 서롤 알아보고', '주는 것 만으로 벅찼던', '내가 또 사랑을 받고', '그 모든 건 기적이었음을', '그렇게 어른이 되었다고', '자신한 내가 어제같은데', '그대라는 인연을 놓지 못하는', '내 모습 어린아이가 됐소', '별처럼 수 많은 사람들', '그 중에 그대를 만나', '꿈을 꾸듯 서롤 알아보고', '주는 것 만으로 벅찼던', '내가 또 사랑을 받고', '그 모든건 기적이었음을', '나를 꽃처럼 불러주던', '그대 입술에 핀 내 이름', '이제 수많은 이름들', '그 중에 하나되고', '오 그대의 이유였던', '나의 모든 것도 그저 그렇게', '별처럼 수 많은 사람들', '그 중에 서로를 만나', '사랑하고 다시 멀어지고', '억겁의 시간이 지나도', '어쩌면 또다시 만나', '우리 사랑 운명이었다면', '내가 너의', '별처럼 수 많은 사람 중에', '내가 너의 기적이었다면']\n"
          ]
        },
        {
          "output_type": "stream",
          "name": "stderr",
          "text": [
            "\r47it [18:11, 21.35s/it]"
          ]
        },
        {
          "output_type": "stream",
          "name": "stdout",
          "text": [
            "41\n",
            "['높은 언덕 나무처럼', '너의 기억은 내게', '쉬었다가는 편한 그늘이었어', '어느덧 내가', '어른이 다 되어버린 지금', '아직도 내 안에 다 자라지 못한', '머물러 남아있는 기억', 'You 언제나 늘 같은', '나의 가장 자릴', '떠난 적 없는', '너에 대한 기억', '어느 언덕 나무처럼', '너의 기억은 내게', '쉬었다가는 그늘이었고', '마주 닿으면', '쓰라리는 상처 같은 이름', '떼어낼 수도 없는', '떨어지지 않는 딱지 같아', '누군가 나에게 물어보면 항상', '같은 대답 내 가장 좋았던 날', '늘 한 켠이 아렸던', '마치 어딘가에 두고 온듯한', '잊을 수 없는 기억', '어느 언덕 나무처럼', '너의 기억은 내게', '쉬었다가는 그늘이었고', '마주 닿으면', '쓰라리는 상처 같은 이름', '떼어낼 수도 없는', '미워할 수 없는', '너의 이름이 내게 들리면', '또다시 내 하룬 너에게', '치여 살 것 같아서', '두려워', '높은 언덕 홀로 있는', '구름나무 같은', '네게 기대고 싶어', '마주 닿으면', '쓰라리는 상처 같은 이름', '떼어 낼 수도 없는', '떨어지지 않는 딱지 같아']\n"
          ]
        },
        {
          "output_type": "stream",
          "name": "stderr",
          "text": [
            "\r48it [18:35, 22.09s/it]"
          ]
        },
        {
          "output_type": "stream",
          "name": "stdout",
          "text": [
            "39\n",
            "['비 내리는 거릴 좋아했었죠', '우산 없이 나와 함께 걸었죠', '다시 내리는 비에 그대 생각나', '눈물 날 것 같은데', '둘이 걷다 보면 나를 위해서', '습관처럼 왼쪽편에 세웠죠', '내 여자라서 내가 지켜야 한다고', '버릇처럼 말했죠', '좋은 사람 꼭 만날 거라 했는데', '그 약속 지키지 못할 것 같아', '내겐 그대가 하나뿐이라', '다른 사랑 못 할 것 같아요', '이제는 나를 찾아오지 말라고', '가슴에 멍드는 말을 하고서', '지나가는 발소리', '그대이기를 원하고 또 원하죠', '가끔 그대 어깨 기대 잠들면', '아무 말도 없이 안아주었죠', '고마웠다고 이젠 말할 수 있는데', '그댄 어디 있나요', '좋은 사람 꼭 만날 거라 했는데', '그 약속 지키지 못할 것 같아', '내겐 그대가 하나뿐이라', '다른 사랑 못 할 것 같아요', '이제는 나를 찾아오지 말라고', '가슴에 멍드는 말을 하고서', '지나가는 발소리', '그대이기를 원하고 또 원하죠', '보고파 소리쳐봐도 그리워 불러도', '닿을 수가 없는 그댄가 봐', '이젠 나를 잊었나 봐', '그대가 못난 바보라고 할까 봐', '내 사랑 너무나 아낀 것 같아', '괜한 자존심 하나 때문에', '사랑한다는 말도 못 했어요', '못 잊어 그립다는 말도 못 하고', '그대가 나를 또 찾지 않을까', '지나가는 발소리', '그대이기를 원하고 또 원하죠']\n"
          ]
        },
        {
          "output_type": "stream",
          "name": "stderr",
          "text": [
            "\r49it [18:58, 22.38s/it]"
          ]
        },
        {
          "output_type": "stream",
          "name": "stdout",
          "text": [
            "31\n",
            "['늘 똑같은 일로 싸우다 지친 우리', '끝날 때 됐나 봐', '너답지 않던 모습 더는', '지켜보기 힘들었어', '다시 주워 담기 힘든 말들', '쏟아내고 집에 돌아왔어', '그날에 나는 맘이 편했을까', '다신 안 보겠단 각오로', '니가 못한 숙제 한 거잖아', '나는 사랑이 필요해', '이만큼 아프면 충분해', '니가 핀 담배만큼 난 울었어', '니가 가장 듣기 싫어했던', '얘기들만 뱉어내고 왔어', '그날에 나는 맘이 편했을까', '다신 안 보겠단 각오로', '니가 못한 숙제 한 거잖아', '나는 사랑이 필요해', '이만큼 아프면 충분해', '니가 핀 담배만큼 난 울었어', '상처받았다고 말하지 말아줘', '나를 더욱더 사랑해줬더라면', '아니 처음부터 만나지 말았다면', '행복했을까', '정말 널 미워해서 이랬을까', '이렇게까지 해서라도', '우릴 되돌리고 싶었는데', '나를 떠나는 이유가', '너는 필요했던 거니까', '내가 그 이유를 만들어줄게 ', '미안한 마음들 갖지 않도록']\n"
          ]
        },
        {
          "output_type": "stream",
          "name": "stderr",
          "text": [
            "\r50it [19:17, 21.16s/it]"
          ]
        },
        {
          "output_type": "stream",
          "name": "stdout",
          "text": [
            "24\n",
            "['눈빛만으로 알 수가 있지', '어떤 세상을 살아왔는지', '처음 내민 너의 따뜻한 손길에', '내 마음이 전부 녹아내', '우린 서로 앞을 주저하고', '현실 속에 무너져 가던', '이런 나를 잊어가게 해', \"I'm telling the truth\", '너에게 가는 중', '이젠 나를 봐줘', '내가 다가갈게 천천히', '아주 천천히', '손짓만으로 알 수가 있지', '너가 얼마나 착한 애인지', '우리가 지나왔던 시간들이', '이제야 날 버티게 해', '우린 서로 앞을 주저하고', '현실 속에 무너져 가던', '이런 나를 잊어가게 해', \"I'm telling the truth\", '너에게 가는 중', '이젠 나를 봐줘', '내가 다가갈게 천천히', '아주 천천히']\n"
          ]
        },
        {
          "output_type": "stream",
          "name": "stderr",
          "text": [
            "\r51it [19:31, 19.05s/it]"
          ]
        },
        {
          "output_type": "stream",
          "name": "stdout",
          "text": [
            "33\n",
            "['한 사람을 너무 사랑했던 거죠', '얼마나 나를', '아프게 할지도 모르고', '기뻐했죠', '이 세상에 그댈 가진 사람', '나 하나 뿐이라며', '흰 눈이 내리던 어느 날', '그 고운 입술로 날 사랑한다고', '안녕이란 말을 하고', '그대가 내 곁을 떠나갔죠', '몰랐었죠 우리 헤어진다는건', '정말 그대가', '내 사랑인줄 알았는데', '좋아했죠', '그대 나와 같은 생각하고', '있을거라 믿었죠', '흰 눈이 내리던 어느 날', '그 고운 입술로 날 사랑한다고', '안녕이란 말을 하고', '그대가 내 곁을 떠나갔죠', '하얀 눈위에 멀어져 가는', '그대가 남겨둔 발자국 세며', '멍하니 바보처럼', '떠나가는 뒷모습 보면서 울었죠', '흰 눈이 내리던 어느 날', '그 고운 입술로 날 사랑한다고', '안녕이란 말을 하고', '그대가 내 곁을 떠나갔죠', '흰 눈이 내리던 어느 날', '그 고운 입술로 날 사랑한다고', '안녕이란 말을 하고', '그대가 내 곁을 떠나갔죠', '내 곁을 떠나갔죠']\n"
          ]
        },
        {
          "output_type": "stream",
          "name": "stderr",
          "text": [
            "\r52it [19:50, 19.13s/it]"
          ]
        },
        {
          "output_type": "stream",
          "name": "stdout",
          "text": [
            "23\n",
            "['어느 하루의 햇살처럼', '따뜻한 봄이 내게 오듯', '그대 나에게 온 그날이 생각나', '그때가 문득 생각나', '슬퍼서 아파서 미워서 그리워서', '그 언젠가 꿈속에 그대 찾아와 줄 건가요', '여전히 그대를 기다리는 슬픈 나를', '기억해 줘요', '계절을 따라 지나가듯', '오늘도 나는 이곳에서', '오늘 하루도 그댈 생각하면서', '글썽이는 날 알까요', '슬퍼서 아파서 미워서 그리워서', '그 언젠가 꿈속에 그대 찾아와 줄 건가요', '여전히 그대를 기다리는 슬픈 나를', '기억해 줘', '추억이 참 많아서', '더욱 그리운 걸까', '그대 이름을 혼자 되뇌어본다', '바람이 불어와 눈물을 마르게 해', '내 마음이 닿을 때까지 멈추지 않겠지만', '언젠가 우리가 다시 만날 그날 위해', '기다릴게요']\n"
          ]
        },
        {
          "output_type": "stream",
          "name": "stderr",
          "text": [
            "\r53it [20:03, 17.37s/it]"
          ]
        },
        {
          "output_type": "stream",
          "name": "stdout",
          "text": [
            "40\n",
            "['너를 위해 해줬었던 말들은', '부담을 줬고', '네가 내게 해줬던 위로에', '나 상처 입었죠', '사랑이란 모든 것', '주는 거라 너는 말했고', '난 서로의 삶을 지키자 했었죠', '이번 문제만 넘어가면', '전보다 더 나아질 거라', '생각했는데 같은 곳을 맴돌고 있었죠', '이제는 안될 것 같아', '더 이상 힘들 것 같아', '날 지워가며 사랑하는 게', '좀 더 내게 맞는 사람 찾아', '만나는 날 사랑해보려 노력할 것 같아', '익숙해져만 가는', '서로의 불편함 속에서', '이별의 시간은 다가오고 있었죠', '사랑하니까 괜찮다고', '이 정도면 충분하다고', '우린 이겨낼 수 있다고', '믿고 있었던 건', '내 욕심이었죠', '이제는 안될 것 같아', '더 이상 힘들 것 같아', '날 지워가며 사랑하는 게', '좀 더 내게 맞는 사람 찾아', '만나는 날 사랑해보려 노력할 것 같아', '내가 원하는 사람과', '사랑에 빠지게 되는 날', '그 날을 기다렸는데', '이젠 내게 맞는 사람과', '사랑하려 노력하는 게', '조금 더 편할 것 같아', '그게 덜 아플 것 같아', '날 지켜가며 사랑하는 게', '좀 더 편하게 지낼 수 있는', '그런 사랑하게 되는 게', '뜨겁게 사랑했던 날보다', '이젠 내게 더 편할 것 같아']\n"
          ]
        },
        {
          "output_type": "stream",
          "name": "stderr",
          "text": [
            "\r54it [20:27, 19.19s/it]"
          ]
        },
        {
          "output_type": "stream",
          "name": "stdout",
          "text": [
            "53\n",
            "['겨울에 하는 이별은', '기억이 눈처럼 녹을까', '가을에 하는 이별은', '추억에 물들어버릴까', '여름에 보내주기엔 눈물이', '비처럼 쏟아질까 봐', '많이 사랑했지만 많이 그립겠지만', '너무 아프고 아프고 아픈 이 계절에', '벚꽃이 피면 우리 그만 헤어져', '벚꽃이 피면 우리 그만 헤어져', '흩날리는 추억이', '아름다워도 아른거려도', '가슴 아파도 이제', '벚꽃이 지면 그때 나를 잊어줘', '저 떨어지는 꽃잎처럼 잊어줘', '봄바람에 바람에 바람에', '너를 보낼게 너를', '눈부시게 아름다워도 아른거려도', '가슴 아파도 이제', '벚꽃이 피면 헤어져', '계절은 돌아오지만', '우리는 멀어지겠지', '꽃은 다시 피겠지만', '추억은 시들어가겠지', '하얗게 물든 거리에', '너와 난 더는 어울리지 않아', '믿기 힘들겠지만 이해 못하겠지만', '너무 아프고 아프고 아픈 이 계절에', '벚꽃이 피면 우리 그만 헤어져', '벚꽃이 피면 우리 그만 헤어져', '흩날리는 추억이', '아름다워도 아른거려도', '가슴 아파도 이제', '벚꽃이 지면 그때 나를 잊어줘', '저 떨어지는 꽃잎처럼 잊어줘', '봄바람에 바람에 바람에', '너를 보낼게 너를', '눈부시게 아름다워도 아른거려도', '가슴 아파도 이제', '벚꽃이 피면 헤어져', '너를 안아봐도 따뜻하지 않아', '너를 예전만큼 사랑하지 않아', '날 미워해도 괜찮아', '난 봄이 오면 네가 생각나겠지', '벚꽃이 피면 다시 생각나겠지', '너와 나의 계절이', '그리워져도 외로워져도', '보고 싶어도 이제', '짧게 피고 지는 이 봄처럼 사라질 그 말', '사랑해 사랑해 사랑해 너를 미안해 너무', '눈부시게 아름다워도 아른거려도', '가슴 아파도 이제', '벚꽃이 피면 헤어져']\n"
          ]
        },
        {
          "output_type": "stream",
          "name": "stderr",
          "text": [
            "\r55it [20:58, 22.72s/it]"
          ]
        },
        {
          "output_type": "stream",
          "name": "stdout",
          "text": [
            "48\n",
            "['유난히도 참 맑았어', '마치 준비된 것처럼', '설명할 수 없는 감정', '그날부터', 'woo someday', '그대 옆에 서 있는 그런', '사람이 되고 싶었어요', 'you are my everything', 'my everything', '별처럼 빛나요', '어쩌면 기다려 왔던', '사랑인 걸까 기도했죠', 'my everything', 'my everything', '시간이 지나도', '우리가 걸어갈 이 길 끝에', '나무가 되어줄게', '그대의 쉴 곳이 되어', '지켜줄게 아껴줄게', '환하게 웃어보아요', '지금부터', 'woo all day', '나는 그대가 되죠 이젠', '운명이라는 이름으로', 'you are my everything', 'my everything', '별처럼 빛나요', '어쩌면 기다려 왔던', '사랑인 걸까 기도했죠', 'my everything', 'my everything', '시간이 지나도', '우리가 걸어갈 이 길 끝에', '나무가 되어줄게', '노을이 내리는 밤에', '영원할 우릴 약속해', '나의 마음을 모두', '전해주고 싶어', '그대가 있기에', '내 하루가', '별처럼 빛나요', '나에게 남은 평생을', '허락해 줘서 고마워요', '그대보다', '내 사랑을', '더 많이 줄게요', '우리가 걸어갈 이 길 끝에', '나무가 되어줄게']\n"
          ]
        },
        {
          "output_type": "stream",
          "name": "stderr",
          "text": [
            "\r56it [21:26, 24.34s/it]"
          ]
        },
        {
          "output_type": "stream",
          "name": "stdout",
          "text": [
            "37\n",
            "['하루 종일 집에 누워서', '전화기만 보고 있잖아', '내 머릿속은', '네 생각들로만 짜여져 있어 ', '날 찾지 않아도 좋아하지 않아도', '이제는 느낄 수 있어 ', '바라보지 않아도', '다른 사람에게 마음을 줘도 ', '이제는 견딜 수 있어 ', '어두운 방안에서 혼자 있는 나', '그리고 하', '네가 불러주지 않아도', '난 괜찮아 난 괜찮아 ', '이 방안에서 너와 함께한 추억들', '자꾸만 생각이 나서 ', '마음이 힘들어 다 알고 있어', '끝이라는걸 ', '날 찾지 않아도 좋아하지 않아도', '이제는 느낄 수 있어 ', '바라보지 않아도', '다른 사람에게 마음을 줘도 ', '이제는 견딜 수 있어 ', '어두운 방안에서 혼자 있는 나', '그리고 하', '네가 불러주지 않아도', '난 괜찮아 난 괜찮아 ', '언젠가는 다시 돌아와주길 와주길', '언젠가는 꼭 다시', '볼 수 있기를 볼 수 있기를 ', '어두운 방안에서 혼자 있는 나', '그리고 하', '네가 불러주지 않아도', '난 괜찮아 난 괜찮아', '어두운 방안에서 혼자 있는 나', '그리고 하', '네가 불러주지 않아도', '난 괜찮아 난 괜찮아']\n"
          ]
        },
        {
          "output_type": "stream",
          "name": "stderr",
          "text": [
            "\r57it [21:47, 23.55s/it]"
          ]
        },
        {
          "output_type": "stream",
          "name": "stdout",
          "text": [
            "37\n",
            "['영원할 것 같던 우리', '서로 당연했던 우리', '그래서 지금을 믿을 수 없나봐', '언제 어디서부턴지', '그때로 돌릴 수 있다면', '왜 이렇게 된 건지', '왜 이제와서야', '난 이별을 탓하고 있는지', '지나간 시간에 갇혀', '너를 기다리니', '너 떠나고서야', '떠나고야 또 바보 같은 난', '널 그리워하는지', '아무런 이유도 없이', '서로 멀어졌던 우리', '익숙한 시간이 지겨웠었나 봐', '이미 알았던 이별이', '이렇게 아플지 몰랐어', '대체 왜 이렇게 된 거니', '왜 이제와서야', '난 이별을 탓하고 있는지', '지나간 시간에 갇혀', '너를 기다리니', '너 떠나고서야', '떠나고야 또 바보 같은 난', '널 그리워하는지', '서툴렀었던 그날의 나', '한번만 기회를 준다면', '돌아가 널 다시 내게로', '되돌리고 싶어', '한 번만이라도', '너 함께한 그때로 간다면', '더이상 아프지 않게', '아파하지 않게', '너 떠나고서야', '떠나고야 또 바보 같은 난', '이별을 탓하는지']\n"
          ]
        },
        {
          "output_type": "stream",
          "name": "stderr",
          "text": [
            "\r58it [22:09, 22.96s/it]"
          ]
        },
        {
          "output_type": "stream",
          "name": "stdout",
          "text": [
            "86\n",
            "['우연히 내게 오나봐 ', '봄 향기가 보여 ', '너도 같이 오나봐 ', '저 멀리서 니 향기가 ', '설레는 코끝에 나의 입술에 ', '괜찮은 느낌 이 떨림 ', '나도 몰래 우연히 봄 ', '어 어느새 ', '겨울 지나 봄이야 ', '여전히 난 너 ', '앞에선 돌이야 ', '난 아직 이게 ', '믿기지가 않지만 ', '내 왼손은 ', '지금까지도 너의 향기가 ', '미묘하게 흘렀던 분위기에 ', '아직까지 난 가까스로 숨 쉬네 ', '무대 위완 다르게 니 눈을 피해 ', '고개를 돌렸던 ', '내 모습에 한숨 쉬네 ', '오랜만에 느껴지는 ', '이 떨림이 날 단순하게 만들어 ', '딱 너만 아는 거리지 ', '다 고쳤다고 생각했던 버벅임이 ', '또 도져서 준비했던 ', '말을 잊어버리지 ', '난 주워 담지 못할 ', '말은 절대 안 해 ', '원하는 걸 말해봐 ', '널 위해서만 할게 ', '너 빼곤 다 ', '색칠할 수 있어 까맣게 ', '천천히 갈게 조금 더 가깝게 ', '우연히 내게 오나봐 ', '봄 향기가 보여 ', '너도 같이 오나봐 ', '저 멀리서 니 향기가 ', '설레는 코끝에 나의 입술에 ', '괜찮은 느낌 이 떨림 ', '나도 몰래 우연히 봄 ', '우연히 봄 ', '어 아직까지 향기가 짙네 ', '발걸음이 가벼워 ', '집에 가는 길엔 ', '더 가까워질 너와 나를 ', '상상하는 내 모습이 ', '오글거려 몸서리치네 ', '어 어 머릿속이 ', '하얘지기 때문에 ', '하루 종일 날씨 ', '얘기만 반복하게 돼 ', '오로지 난 너 하나 때문에 ', '다른 것들에겐 무감각하게 돼 ', '정적이 만드는 긴장감은 ', '오히려 설레어 ', '나를 미소 짓게 만들어 ', '모른 척 하려 했던 ', '니 옆의 남자들은 ', '흐릿했던 내 눈 앞에 ', '불을 키게 만들어 ', '겨울은 유난히도 추웠고 ', '다시 돌아온 ', '그토록 기다렸던 봄 ', '움직이지 못하도록 ', '잡고 있고 싶어 ', '날 더 느낄 수 있게 ', '안고 있고 싶어 ', '우연히 내게 오나봐', '봄 향기가 보여', '너도 같이 오나봐', '저 멀리서 니 향기가', '설레는 코끝에 나의 입술에', '괜찮은 느낌 이 떨림', '나도 몰래 우연히 봄', 'I love u so I love u', '너무 쉬운 걸', '그래도 나 참고 있을게', '난 여자이니까', '하루 더 기다려', '바보야 내게 말해봐', '니 마음도 보여', '갖고 싶다고 해봐', '더 이상은 감추지 마', '어느새 내 앞에 이젠 내 앞에', '괜찮은 느낌 이 떨림', '나도 몰래 우연히 봄']\n"
          ]
        },
        {
          "output_type": "stream",
          "name": "stderr",
          "text": [
            "\r59it [23:00, 31.34s/it]"
          ]
        },
        {
          "output_type": "stream",
          "name": "stdout",
          "text": [
            "53\n",
            "['어두운 불빛아래 촛불 하나', '와인 잔에 담긴 약속하나', '항상 너의 곁에서 널 지켜줄거야', '날 믿어준 너였잖아', '나 바라는 건 오직 하나', '영원한 행복을 꿈꾸지만', '화려하지 않아도 꿈같진 않아도', '너만 있어주면 돼', '걱정 마 I believe', '언제나 I believe', '이 순간을 잊지 않을게', '내 품에 I believe', '안긴 너의 미소가', '영원히 빛을 잃어 가지 않게', 'Cause your love is so sweet', 'You are my everything', '첫날 밤에 단 꿈에 젖어', '하는 말이 아냐 난 변하지 않아', '오직 너만 바라볼거야 oh', 'You’re light of my life', 'You are the one in my life', '내 모든걸 다 잃는대도 ', '후회하지 않아', '오직 너를 위한', '변하지 않는 사랑으로', '나 바라는 건 오직 하나', '영원한 행복을 꿈꾸지만', '화려하지 않아도 꿈같진 않아도', '너만 있어주면 돼', '약속해 I believe', '힘들 땐 I believe', '너의 그늘이 되어줄게', '내품에 I believe', '안긴 너의 미소가', '영원히 빛을 잃어 가지 않게', 'Cause your love is so sweet', 'You are my everything', '첫날 밤에 단 꿈에 젖어', '하는 말이 아냐 난 변하지 않아', '오직 너만 바라볼거야 oh', 'You’re light of my life', 'You are the one in my life', '내 모든걸 다 잃는대도 ', '후회하지 않아', '오직 너를 위한', '변하지 않는 사랑으로', 'You’re light of my life', 'You are the one in my life', '내 모든걸 다 잃는대도 ', '후회하지 않아', '오직 너를 위한', '변하지 않는 사랑으로', 'All I ever want is your love']\n"
          ]
        },
        {
          "output_type": "stream",
          "name": "stderr",
          "text": [
            "\r60it [23:31, 31.19s/it]"
          ]
        },
        {
          "output_type": "stream",
          "name": "stdout",
          "text": [
            "44\n",
            "['차가워진 눈빛을 바라보며', '이별의 말을 전해 들어요', '아무 의미 없던 노래 가사가', '아프게 귓가에 맴돌아요', '다시 겨울이 시작되듯이', '흩어지는 눈 사이로', '그대 내 맘에 쌓여만 가네', '떠나지 말라는', '그런 말도 하지 못하고', '고개를 떨구던 뒷모습만', '그대 내게 오지 말아요', '두 번 다시 이런 사랑 하지 마요', '그댈 추억하기보단 기다리는 게', '부서진 내 맘이 더 아파와', '다시 누군가를 만나서', '결국 우리 사랑 지워내도', '행복했던 것만 기억에 남아', '나를 천천히 잊어 주기를', '아무것도 마음대로 안 돼요', '아픔은 그저 나를 따라와', '밤새도록 커져 버린 그리움', '언제쯤 익숙해져 가나요', '많은 날들이 떠오르네요', '우리가 나눴던 날들', '애써 감추고 돌아서네요', '떠나지 말라는', '그런 말도 하지 못하고', '고개를 떨구던 뒷모습만', '그대 내게 오지 말아요', '두 번 다시 이런 사랑 하지 마요', '그댈 추억하기보단 기다리는 게', '부서진 내 맘이 더 아파와', '다시 누군가를 만나서', '결국 우리 사랑 지워내도', '행복했던 것만 기억에 남아', '나를 천천히 잊어 주기를', '부를 수도 없이 멀어진 그대가', '지나치는 바람에도 목이 메어와', '어디에도 그대가 살아서', '우린 사랑하면 안 돼요', '다가갈수록 미워지니까', '행복했던 것만 기억에 남아', '나를 천천히 잊어 가기를', '사랑했던']\n"
          ]
        },
        {
          "output_type": "stream",
          "name": "stderr",
          "text": [
            "\r61it [23:57, 29.62s/it]"
          ]
        },
        {
          "output_type": "stream",
          "name": "stdout",
          "text": [
            "27\n",
            "['이 밤 그날의 반딧불을', '당신의 창 가까이 보낼게요', '음 사랑한다는 말이에요', '나 우리의 첫 입맞춤을 떠올려', '그럼 언제든 눈을 감고', '음 가장 먼 곳으로 가요', '난 파도가 머물던', '모래 위에 적힌 글씨처럼', '그대가 멀리 사라져 버릴 것 같아', '늘 그리워 그리워', '여기 내 마음속에', '모든 말을 다 꺼내어 줄 순 없지만', '사랑한다는 말이에요', '어떻게 나에게', '그대란 행운이 온 걸까', '지금 우리 함께 있다면 아', '얼마나 좋을까요', '난 파도가 머물던', '모래 위에 적힌 글씨처럼', '그대가 멀리 사라져 버릴 것 같아', '또 그리워 더 그리워', '나의 일기장 안에', '모든 말을 다 꺼내어 줄 순 없지만', '사랑한다는 말', '이 밤 그날의 반딧불을 당신의', '창 가까이 띄울게요', '음 좋은 꿈 이길 바라요']\n"
          ]
        },
        {
          "output_type": "stream",
          "name": "stderr",
          "text": [
            "\r62it [24:13, 25.60s/it]"
          ]
        },
        {
          "output_type": "stream",
          "name": "stdout",
          "text": [
            "59\n",
            "['세상이 어두워지고', '조용히 비가 내리면', '여전히 그대로', '오늘도 어김없이 난', '벗어나질 못하네', '너의 생각 안에서', '이제 끝이라는 걸 알지만', '미련이란 걸 알지만', '이제 아닐 걸 알지만', '그까짓 자존심에', '널 잡지 못했던 내가', '조금 아쉬울 뿐이니까', '비가 오는 날엔 나를 찾아와', '밤을 새워 괴롭히다', '비가 그쳐가면 너도 따라서', '서서히 조금씩 그쳐가겠지', '취했나 봐', '그만 마셔야 될 것 같애', '비가 떨어지니까', '나도 떨어질 것 같애', '뭐 네가 보고 싶다거나', '그런 건 아냐', '다만 우리가 가진 시간이 좀', '날카로울 뿐', '참 좋아했었던 이런 날이면', '아직 너무 생생한', '기억을 꺼내놓고', '추억이란 덫에', '일부러 발을 들여놔', '벗어나려고 발버둥조차', '치지 않아', '이제 너를 다 지워냈지만', '모두 다 비워냈지만', '또다시 비가 내리면', '힘들게 숨겨놨던', '너의 모든 기억들이', '다시 돌아와 널 찾나 봐', '비가 오는 날엔 나를 찾아와', '밤을 새워 괴롭히다', '비가 그쳐가면 너도 따라서', '서서히 조금씩 그쳐가겠지', '너에게로', '이젠 돌아갈 길은 없지만', '지금 행복한 너를 보며', '난 그래도 웃어볼게', '널 잡을 수 있었던', '힘이 내겐 없었으니까', '어차피 끝나버린 걸 이제 와', '어쩌겠어', '뒤늦게 후회나 하는 거지', '덜 떨어진 애처럼', '비는 항상 오니까', '계속 반복되겠지', '그치고 나면 그제서야', '나도 그치겠지', '비는 항상 오니까', '계속 반복되겠지', '그치고 나면 그제서야', '나도 그치겠지']\n"
          ]
        },
        {
          "output_type": "stream",
          "name": "stderr",
          "text": [
            "\r63it [24:47, 28.27s/it]"
          ]
        },
        {
          "output_type": "stream",
          "name": "stdout",
          "text": [
            "40\n",
            "['요즘 내 일상은', '아무 의미 없이', '돌아가는 초침 소리', '들어보는 일', '나만 다른 세상에 있는 것 같아', '창문 밖은 벌써 하얀 눈이 녹아', '꽃이 필 준비를 하나 봐', '잊을 수 있을까', '우리의 지난 날들을', '이 계절이 오면', '네 생각 날 것 같은데', '하얀 겨울이 가고 봄이 올 때', '난 울었어', '이 계절에 난 남아 있나 봐', '아직', '길고 긴 시간을', '보내도 난 아직', '헤어지던 겨울 끝에', '머물고 있나 봐', '처음으로 다 되돌릴 수 있다면', '맘과 다른 말들 모두 주워 담아', '꽃이 피길 기다리겠지', '잊을 수 있을까', '우리의 지난 날들을', '이 계절이 오면', '네 생각 날 것 같은데', '하얀 겨울이 가고 봄이 올 때', '난 울었어', '이 계절에 난 남아 있나 봐', '서러워 이젠 서러워져', '아무리 밀어내도', '나아지지가 않아', '지워지지 않아', '이젠 보내줄까', '너를 잊을 수 있을까', '얼마나 더 해야', '괜찮아질 수 있을까', '벚꽃 비가 내려도', '겨울 끝에 혼자 남아', '이 계절에서 널 기다리고 있어']\n"
          ]
        },
        {
          "output_type": "stream",
          "name": "stderr",
          "text": [
            "\r64it [25:11, 26.90s/it]"
          ]
        },
        {
          "output_type": "stream",
          "name": "stdout",
          "text": [
            "26\n",
            "['오래되었어 그때 너의 웃음', '너의 목소리 잊혀진거 같아', '시간의 위로 그 말의 의미를 이젠 알아', '아픈 니 얘기도 적당히 할 수 있어', '그런데 이게 뭐랄까 난 난 술 한잔하면서', '괜찮은 듯 얘기하며 널 털어냈는데', '집으로 돌아오면서 ', '한 번 더 떠오른 기억에', '걸음을 멈춰 서서 이렇게 울고 있어 ', '자연스럽게 발걸음을 돌려', '나 바래다주던 익숙한 길을 가', '밤이 깊어져서 아무것도 보이지 않아도', '손을 흔들면서 인사하던 널 봤어 ', '그런데 이게 뭐랄까 난 난 술 한잔하면서', '괜찮은 듯 얘기하며 널 털어냈는데', '집으로 돌아오면서 ', '한 번 더 떠오른 기억에', '걸음을 멈춰 서서 이렇게 울고 있어', '아무도 없어서 참 다행이야', '나 이렇게 편안히 너를 부를 수 있는 걸', '외로운 위로겠지만 ', '그래서 이젠 뭘 할까 난 난 널 생각했어도', '괜찮은 듯 얘기하며 다 지워냈는데', '집으로 돌아오면서 ', '한 번 더 떠오른 추억에', '걸음을 멈춰 서서 또다시 울고 있어']\n"
          ]
        },
        {
          "output_type": "stream",
          "name": "stderr",
          "text": [
            "\r65it [25:26, 23.39s/it]"
          ]
        },
        {
          "output_type": "stream",
          "name": "stdout",
          "text": [
            "43\n",
            "['어쩜 살아가다 보면', '한 번은 날 찾을지 몰라', '난 그 기대 하나로', '오늘도 힘겹게 버틴 걸', '난 참 기억력도 좋지 않은데', '왜 너에 관한 건', '그 사소한 추억들까지도 생각이 나는지', '너를 잊을 순 없지만 붙잡고 싶지만', '이별 앞에서 할 수 있는 건', '좋은 기억이라도 남도록', '편히 보내주는 일', '혼자 남아도 괜찮아 가도 괜찮아', '세상에 제일 자신있는 건', '내가 언제나 그래왔듯이', '너를 기다리는 일', \"I don't wanna say goodbye\", '어쩜 살아가다보면', '한 번은 날 찾을지 몰라', '난 그 기대 하나로', '오늘도 힘겹게 버틴 걸', '부디 하루 빨리 좋은 사람과', '행복하길 바래', '그래야만 내 마음 속에서', '널 보낼 것 같아', '너를 잊을 순 없지만 붙잡고 싶지만', '이별 앞에서 할 수 있는 건', '좋은 기억이라도 남도록', '편히 보내주는 일', '이젠 멀어져 가지만 잠시였지만', '태어나 처음 잘한 듯한 건', '내겐 아무리 생각해봐도', '너를 사랑했던 일', '서로가 하나씩 이별의 선물을', '나눠간 거잖아', '난 마음을 준 대신', '넌 내게 추억을 준 거야', '다시 또 나를 살아가게 할 거야', 'Never Ending Never Falling', 'Never Mind My Girl', '날 아프게 했지만 울게 했지만', '이것 하나만큼은 고마워', '눈 감는 그날 내가 가져갈', '추억 만들어줘서']\n"
          ]
        },
        {
          "output_type": "stream",
          "name": "stderr",
          "text": [
            "\r66it [25:52, 23.94s/it]"
          ]
        },
        {
          "output_type": "stream",
          "name": "stdout",
          "text": [
            "50\n",
            "['몇 번인가 이별을 경험하고서', '널 만났지', '그래서 더 시작이 두려웠는지 몰라', '하지만 누군갈 알게 되고', '사랑하게 되는 건', '네가 마지막이라면', '얼마나 좋을까 나처럼', '바쁜 하루 중에도', '잠시 네 목소리 들으면', '함께 있는 것처럼 너도 느껴지는지', '매일 밤 집으로 돌아갈 때', '그곳에 네가 있다면', '힘든 하루 지친 네 마음이', '내 품에 안겨 쉴 텐데', '지금처럼만 날 사랑해 줘', '난 너만 변하지 않는다면', '내 모든 걸 가질 사람은 너뿐이야', '난 흔들리지 않아', '넌 가끔은 자신이 없는 미래를', '미안해 하지만', '잊지 말아 줘 사랑해', '너와 함께라면 이젠 행복한 나를', '바쁜 하루 중에도', '잠시 네 목소리 들으면', '함께 있는 것처럼 너도 느껴지는지', '매일 밤 집으로 돌아갈 때', '그곳에 네가 있다면', '힘든 하루 지친 네 마음이', '내 품에 안겨 쉴텐데', '지금처럼만 날 사랑해줘', '난 너만 변하지 않는다면', '내 모든 걸 가질 사람은 너뿐이야', '난 흔들리지 않아', '넌 가끔은 자신이 없는 미래를', '미안해 하지만', '잊지 말아 줘 사랑해', '너와 함께라면 이젠 행복한 나를', '난 많은 기대들로 세상이', '정해 놓은 사랑을 버리고 버리고', '네 마음처럼 난 늘 같은 자리에', '또 하나의 네가 되고 싶어', '소중한 널 위해', '지금처럼만 사랑해줘', '항상 너만 변하지 않으면', '내 전부를 가질 사람은 너뿐이야', '난 흔들리지 않아', '자신 없는 미래 넌 미안해하고 있니', '넌 이제 혼자가 아니야 이젠', '잊지마 너와 함께라면', '언제나 행복한 나를']\n"
          ]
        },
        {
          "output_type": "stream",
          "name": "stderr",
          "text": [
            "\r67it [26:21, 25.69s/it]"
          ]
        },
        {
          "output_type": "stream",
          "name": "stdout",
          "text": [
            "53\n",
            "['당신은 날 설레게 만들어', '조용한 내 마음 자꾸만 춤추게 해', '얼마나 얼마나 날 떨리게 하는지', '당신이 이 밤을 항상 잠 못 들게 해', '매일 같은 밤 너를 생각하면서', '유치한 노랠 들으며', '심장이 춤을 추면서', '오오 난 너를 기다리면서', '유치한 노랠 부르며', '심장이 춤을 추면서 워', '나를 떨리게 하나요', '그대 왜 나를 설레게 하나요 자꾸만', '오늘도 잠 못 이루는 이 밤', '아름다운 그대', '나를 아프게 하나요', '웃는 그대 왜 자꾸 설레게 하나요', '하염없이', '오늘 밤 잠이 오질 않네요', '보고 싶은 그대여', '당신이 날 힘들게 만들어', '갑자기 내 마음 자꾸만 멍들게 해', '얼마나 얼마나 잠 못 들게 하는지', '고요한 내 마음 항상 시끄럽게 해', '매일 같은 밤 너를 생각하면서', '유치한 노랠 들으며', '심장이 춤을 추면서', '워 난 너를 기다리면서', '유치한 노랠 부르며', '심장이 춤을 추면서 워', '나를 떨리게 하나요', '그대 왜 나를 설레게 하나요 자꾸만', '오늘도 잠 못 이루는 이 밤', '아름다운 그대', '나를 아프게 하나요', '웃는 그대 왜 자꾸 설레게 하나요', '하염없이', '오늘 밤 잠이 오질 않네요', '보고 싶은 그대여', '매일 밤 너를 생각하면서', '유치한 노랠 들으며', '심장이 춤을 추면서', '워오 난 너를 기다리면서', '유치한 노랠 부르며', '심장이 춤을 추면서 워', '나를 떨리게 하나요', '그대 왜 나를 설레게 하나요 자꾸만', '오늘도 잠 못 이루는 이 밤', '아름다운 그대여', '나를 아프게 하나요', '웃는 그대 왜 자꾸 설레게 하나요', '하염없이', '오늘 밤 잠이 오질 않네요', '보고 싶은 그대여']\n"
          ]
        },
        {
          "output_type": "stream",
          "name": "stderr",
          "text": [
            "\r68it [26:54, 27.64s/it]"
          ]
        },
        {
          "output_type": "stream",
          "name": "stdout",
          "text": [
            "24\n",
            "['너와 함께 하고 싶은 일들을', '상상하는 게', '요즘 내 일상이 되고', '너의 즐거워하는 모습을 보고 있으면', '자연스레 따라 웃고 있는 걸', '너의 행동에 설레어하고 뒤척이다가', '지새운 밤이 많아지는데', '이건 누가 봐도 사랑일 텐데', '종일 함께면 질릴 텐데', '나 돌아서도 온통 너인 건', '아무래도 사랑인가 봐', '점점 너와 하고 싶은 일들 생각하면서', '하룰 보낸 날이 많아지는데', '이건 누가 봐도 사랑일 텐데', '종일 함께면 질릴 텐데', '나 돌아서도 온통 너인 건', '아무래도 사랑인가 봐', '너의 행복해하는 모습을 보고 있으면', '나도 모르게 따라 웃는데', '이 정도면 알아줄 만하잖아', '너도 용기 낼만 하잖아', '나만 이런 게 아니라면', '우리 만나볼 만하잖아', '아무래도 사랑인가 봐']\n"
          ]
        },
        {
          "output_type": "stream",
          "name": "stderr",
          "text": [
            "\r69it [27:08, 23.54s/it]"
          ]
        },
        {
          "output_type": "stream",
          "name": "stdout",
          "text": [
            "36\n",
            "['그러나 시간이 지나도', '아물지 않는 일들이 있지', '내가 날 온전히 사랑하지 못해서 ', '맘이 가난한 밤이야', '거울 속에 마주친 얼굴이 어색해서', '습관처럼 조용히 눈을 감아', '밤이 되면 서둘러 내일로 가고 싶어', '수많은 소원 아래 매일 다른 꿈을 꾸던', '아이는 그렇게 오랜 시간', '겨우 내가 되려고 아팠던 걸까', '쌓이는 하루만큼 더 멀어져 ', '우리는 화해할 수 없을 것 같아', '나아지지 않을 것 같아', '어린 날 내 맘엔 영원히', '가물지 않는 바다가 있었지', '이제는 흔적만이 남아 희미한 그곳엔', '설렘으로 차오르던 나의 숨소리와', '머리 위로 선선히 부는 바람', '파도가 되어 어디로든 달려가고 싶어', '작은 두려움 아래 천천히 두 눈을 뜨면', '세상은 그렇게 모든 순간', '내게로 와 눈부신 선물이 되고', '숱하게 의심하던 나는 그제야', '나에게 대답할 수 있을 것 같아', '선 너머에 기억이', '나를 부르고 있어', '아주 오랜 시간 동안', '잊고 있던 목소리에', '물결을 거슬러 나 돌아가', '내 안의 바다가 태어난 곳으로', '휩쓸려 길을 잃어도 자유로와', '더이상 날 가두는 어둠에 눈 감지 않아', '두 번 다시 날 모른 척 하지 않아', '그럼에도 여전히 가끔은', '삶에게 지는 날들도 있겠지', '또다시 헤매일지라도 돌아오는 길을 알아']\n"
          ]
        },
        {
          "output_type": "stream",
          "name": "stderr",
          "text": [
            "\r70it [27:29, 22.87s/it]"
          ]
        },
        {
          "output_type": "stream",
          "name": "stdout",
          "text": [
            "39\n",
            "['있잖아 좀 늦은 거 아는데', '해야 하는 말이 꼭 생겼어', '아직 거기 서있다면', '잠깐만 내 얘길 들어줄래', '두드리고 계속 두드렸던', '너를 왜 몰랐을까', '닫힌 내 마음 앞에 앉아', '날 기다린 것도 말야', '지금 나 하나도 괜찮지가 않아', '지금 널 이대로 그냥 잃어버릴까봐', '널 보던 내 눈도', '널 떠올리면 웃고 있던 내 입술도', '사랑이더라', '알잖아 보기엔 참 쉬운데', '내가 하면 얘기가 다른 거', '겨우 내 맘을 알았고', '내겐 아직 많이 어려운데', '근데 말야 나는 하고 싶어', '너랑 그 연애란 거', '사실 난 엄청 신경 쓰여', '너에 대한 모든 게 다', '지금 나 하나도 괜찮지가 않아', '지금 널 이대로 그냥 잃어버릴까봐', '널 보던 내 눈도', '널 떠올리면 웃고 있던 내 입술도', '사랑이더라', '딴 생각은 안 할 거야', '이 감정에만 이젠 솔직할게', '날 헷갈리게 만들던', '그 이유를 좀 알 것 같아', '궁금해 넌 어때 어서 대답해봐', '어떻게 생각해 지금 고백하는 거야', '널 사랑한다고', '가슴 벅차게 사랑하고 있다고', '나 요즘에 너 땜에 괜찮지가 않아', '지금 널 이대로 그냥 잃어버릴까봐', '널 보던 내 눈도', '널 떠올리며 웃고 있던 내 입술도', '사랑이더라']\n"
          ]
        },
        {
          "output_type": "stream",
          "name": "stderr",
          "text": [
            "\r71it [27:52, 22.90s/it]"
          ]
        },
        {
          "output_type": "stream",
          "name": "stdout",
          "text": [
            "43\n",
            "['너를 만난 그 이후로', '사소한 변화들에 행복해져', '눈이 부시게 빛 나는 아침', '너를 떠올리며 눈 뜨는 하루', '식탁 위에 마주 앉아', '너의 하루는 어땠는지 묻거나', '나의 하루도 썩 괜찮았어', '웃으며 대답해 주고 싶어', '별것 아닌 일에 맘이 통할 때면', '익숙해진 서로가 놀라웠어', '널 사랑해', '평온한 지금처럼만', '영원하고 싶다고', '너를 바라보다 생각했어', '너를 만나 참 행복했어', '나 이토록 사랑할 수 있었던 건', '아직 어리고 모자란 내 맘', '따뜻한 이해로 다 안아줘서', '무심한 말투에 서로 아플 때면', '차가워진 사이가', '견딜 수 없어 미안해', '불안한 지금이라도', '영원하고 싶다고', '너를 바라보다 생각했어', '너를 만나 참 행복했어', '나 이토록 사랑할 수 있었던 건', '아직 어리고 모자란 내 맘', '따뜻한 이해로 다 안아줘서', '뜨거웠던 여름 지나', '그리워질 빗소리에', '하나 둘 수줍어 또 얼굴 붉히면', '생각이 많아진', '너의 눈에 입 맞출 테니', '우리 함께 걸어가기로 해', '나를 만나 너도 행복하니', '못 해준 게 더 많아서 미안해', '이기적이고 불안한 내가', '너에게만은 잘하고 싶었어', '오랫동안 나 기다려온', '완벽한 사랑을 찾은 것 같아', '날 잡아줘서 힘이 돼줘서 ', '소중한 배려로 날 안아줘서', '너를 만나']\n"
          ]
        },
        {
          "output_type": "stream",
          "name": "stderr",
          "text": [
            "\r72it [28:18, 23.85s/it]"
          ]
        },
        {
          "output_type": "stream",
          "name": "stdout",
          "text": [
            "48\n",
            "['점점 지쳐가', '곁에 있는 게', '너를 바라보는 게', '견디기 힘들어 1초도 난 싫어', '사랑하지 않아', '행복하지가 않아', '네 모든 게 다', '난 점점 지쳐가', '말로만 사랑을 말하고', '의미 없는 하룰 보내', '같이 있어도 외로워', 'I’m not missing you', 'I can’t love you anymore', '미안해 사실 이런 말조차도 싫어', '점점 지쳐가', '곁에 있는 게', '너를 바라보는 게', '견디기 힘들어 1초도 난 싫어', '사랑하지 않아', '행복하지가 않아', '네 모든 게 다', '난 점점 지쳐가', '기다림이 길어지고', '이젠 작은 기대조차도 안 가질래', '네가 하는 모든 말들이', '전부 핑계로 들려 뻔한 거짓말들이', '어느새 나보다 중요한 게 늘었고', '소중히 여기던 나와의 약속은 늘 늦고', '우선이었던 나는 어느덧 마지막', 'So I hate you', '점점 지쳐가', '곁에 있는 게', '너를 바라보는 게', '견디기 힘들어 1초도 난 싫어', '사랑하지 않아', '행복하지가 않아', '네 모든 게 다', '지겨워', '이미 끝난 너를 붙잡고', '억지로 사랑해도', '아무리 노력해 봐도', '이러는 내가 불쌍해', 'Baby', '이제 그만 나를 놓아줘', '많이 아플지라도', '이제는 헤어져야 해', '좋은 기억마저 잃고 싶지가 않아', '여기까지야 그만 끝내자']\n"
          ]
        },
        {
          "output_type": "stream",
          "name": "stderr",
          "text": [
            "\r73it [28:46, 25.17s/it]"
          ]
        },
        {
          "output_type": "stream",
          "name": "stdout",
          "text": [
            "47\n",
            "['당신에게 드릴 게 없어서', '나의 마음을 드려요', '그대에게 받은 게 많아서', '표현을 다 할 수가 없어요', '나지막한 인사에', '수많은 내 마음 고이 담아', '그대에게로 건네면', '내 마음 조금 알까요', '어떤 이유로 만나', '나와 사랑을 하고', '어떤 이유로 내게 와', '함께 있어준 당신', '부디 행복한 날도', '살다 지치는 날도', '모두 그대의 곁에 내가', '있어줄 수 있길', '어떤 소식 보다 더', '애타게 기다려지는 그대', '엇갈리지 않게 여기', '기다릴게요', '눌러 적은 편지에', '수많은 그리움 고이 담아', '그대 내게로 올 때면', '그 손에 쥐어줄게요', '어떤 이유로 만나', '나와 사랑을 하고', '어떤 이유로 내게 와', '함께 있어준 당신', '부디 행복한 날도', '살다 지치는 날도', '모두 그대의 곁에 내가', '있어줄 수 있길', '네 번의 모든 계절들과', '열두 달의 시간을 너와', '숨이 차게 매일', '사랑하며 함께 할게', '어떤 이유로 만나', '우리 사랑을 했던', '지금 이 순간처럼', '매일 바라보며', '애써주기를', '부디 행복한 날도', '살다 지치는 날도', '모두 그대의 곁에 내가', '있어줄 수 있길', '부디 ', '추억만 남지 않길 너완']\n"
          ]
        },
        {
          "output_type": "stream",
          "name": "stderr",
          "text": [
            "\r74it [29:14, 25.95s/it]"
          ]
        },
        {
          "output_type": "stream",
          "name": "stdout",
          "text": [
            "28\n",
            "['처음 널 만나는 날', '노란 세 송이 장미를 들고', '룰루랄라 신촌을 향하는', '내 가슴은 마냥 두근두근', '생머리 휘날리며', '나를 향해 손을 흔드는 너', '머리에서 발 끝까지', '나를 사로잡네 이야에로', '니가 좋아 너무 좋아', '내 모든걸 주고 싶어', '너에게만은 내 마음', '난 꾸미고 싶지 않아', '언제까지 너와 함께 있을 거야 예', '룰루랄라 신촌을 누비는', '내 마음은 마냥 이야에로', '여보세요 나의 천사', '어떻게 내 마음을 훔쳤나요', '괜찮아요 나의 천사 가져간', '내 마음을 고이 간직해줘요', '니가 좋아 너무 좋아', '내 모든걸 주고 싶어', '너에게만은 내 마음', '난 꾸미고 싶지 않아', '니가 좋아 너무 좋아', '내 모든걸 주고 싶어', '너에게만은 내 마음', '난 꾸미고 싶지 않아', '언제까지 너와 함께 있을 거야 음']\n"
          ]
        },
        {
          "output_type": "stream",
          "name": "stderr",
          "text": [
            "\r75it [29:30, 23.03s/it]"
          ]
        },
        {
          "output_type": "stream",
          "name": "stdout",
          "text": [
            "23\n",
            "['구름에 빛은 흐려지고', '창가에 요란히 내리는', '빗물 소리만큼 시린 기억들이', '내 마음 붙잡고 있는데', '갈수록 짙어져 간 그리움에 잠겨', '시간을 거슬러 갈 순 없나요', '그때처럼만 그대 날 안아주면', '괜찮을 텐데 이젠', '젖어든 빗길을 따라가', '함께한 추억을 돌아봐', '흐려진 빗물에 떠오른 그대가', '내 눈물 속에서 차올라와', '갈수록 짙어져 간 그리움에 잠겨', '시간을 거슬러 갈 순 없나요', '그때처럼만 그대 날 안아주면', '괜찮을 텐데 이젠', '흩어져 가', '나와 있어주던 그 시간도', '그 모습도', '다시 그때처럼만 그대를 안아서', '시간을 거슬러 갈 순 없나요', '한 번이라도 마지막일지라도', '괜찮을 텐데']\n"
          ]
        },
        {
          "output_type": "stream",
          "name": "stderr",
          "text": [
            "\r76it [29:44, 20.33s/it]"
          ]
        },
        {
          "output_type": "stream",
          "name": "stdout",
          "text": [
            "27\n",
            "['많은 시간이 지나도 ', '난 너를 못 잊는 것은 ', '그건 아마도 ', '부정할 수 없는 사실인걸 ', '어쩜 나를 떠난 그대는 ', '마치 아무 일도 없던 사람처럼 ', '웃을 수 있는지 ', '두 번 다시 너를 찾지 않을 게 ', '널 생각하는 마음도 ', '네 사진도 ', '잊지 못하는 나를 보네 ', '웃고 있는 네 옆에 그 사람은 ', '내가 아닌 다른 사람 일 거라는 ', '생각이 난 더 아픈 거야 ', '그댄 어떤가요 ', '네모 속 그대 모습은 ', '누구보다 행복한 사진들뿐인데 ', '한 번쯤은 생각하는지 ', '날 사랑했던 그대에게 ', '나는 별거 아닌 일인지 ', '두 번 다시 너를 찾지 않을 게 ', '널 생각하는 마음도 ', '네 사진도 ', '잊지 못하는 나를 보네 ', '웃고 있는 네 옆에 그 사람은 ', '내가 아닌 다른 사람 일 거라는 ', '생각이 난 더 아픈 거야 ']\n"
          ]
        },
        {
          "output_type": "stream",
          "name": "stderr",
          "text": [
            "\r77it [30:00, 18.99s/it]"
          ]
        },
        {
          "output_type": "stream",
          "name": "stdout",
          "text": [
            "50\n",
            "['그땐 우리 둘 다 철없이', '어리기만 했나 봐', '태어나 처음 설레는', '너를 만나서 세상에 부러울 거', '하나 없이 좋았어', '매일 너만 기다렸어', '행복한 시간뿐이었어', '너에게 받은 만큼', '잘해주지 못해서 미안해', '사실 나는 니가 보고 싶어', '겉으로는 티 안 나게', '사람들과 웃곤 해도', '정말 많이 그리워', '상처 줬던 말과 행동들', '전부 미안해 후회돼', '아직 니 생각뿐이야', '그땐 나도 너무 어려서', '사랑을 몰랐나 봐', '태어나 처음 설레는', '너를 만나서 세상에 부러울 거', '하나 없이 좋았어', '나도 너만 기다렸어', '꿈같던 시간뿐이었어', '너에게 사랑 주는 게', '그렇게 좋았었어', '사실 나도 많이 보고 싶어', '겉으로는 티 안 나게', '사람들과 어울려도', '정말 니가 그리워', '상처 줬던 말과 행동들', '전부 미안해 후회돼', '모두 되돌리고 싶어', '더 잘해주고 아껴줬다면', '내 곁에 있을까', '헤어지기 전으로 돌아간다면', '좀 더 노력하고 애쓸 텐데', '이렇게 아플 걸 알면', '절대 놓지 않을 텐데', '정말 잘해줄 텐데', '혹시 너도 그리웠다면', '조금 니 맘도 내 맘과', '같은 마음뿐이라면', '당장 달려가 널 안고서', '말하고 싶어 아직은', '널 지우지 못한다고', '널 보내기는 싫다고', '후회하기는 싫다고', '돌아와 줄래', '나에겐 너뿐이라고', '내겐']\n"
          ]
        },
        {
          "output_type": "stream",
          "name": "stderr",
          "text": [
            "\r78it [30:30, 22.20s/it]"
          ]
        },
        {
          "output_type": "stream",
          "name": "stdout",
          "text": [
            "35\n",
            "['널 품기 전 알지 못했다', '내 머문 세상 이토록 찬란한 것을', '작은 숨결로 닿은 사람', '겁 없이 나를 불러준 사랑', '몹시도 좋았다', '너를 지켜보고 설레고', '우습게 질투도 했던', '평범한 모든 순간들이', '캄캄한 영원', '그 오랜 기다림 속으로', '햇살처럼 니가 내렸다', '널 놓기 전 알지 못했다', '내 머문 세상 이토록 쓸쓸한 것을', '고운 꽃이 피고 진 이 곳', '다시는 없을 너라는 계절', '욕심이 생겼다', '너와 함께 살고 늙어가', '주름진 손을 맞잡고', '내 삶은 따뜻했었다고', '단 한번 축복', '그 짧은 마주침이 지나', '빗물처럼 너는 울었다', '한번쯤은 행복하고 싶었던 바람', '너까지 울게 만들었을까', '모두 잊고 살아가라', '내가 널 찾을 테니', '니 숨결 다시 나를 부를 때', '잊지 않겠다', '너를 지켜보고 설레고', '우습게 질투도 했던', '니가 준 모든 순간들을', '언젠가 만날', '우리 가장 행복할 그날', '첫눈처럼 내가 가겠다', '너에게 내가 가겠다']\n"
          ]
        },
        {
          "output_type": "stream",
          "name": "stderr",
          "text": [
            "\r79it [30:51, 21.82s/it]"
          ]
        },
        {
          "output_type": "stream",
          "name": "stdout",
          "text": [
            "35\n",
            "['오늘도 내 기억을 따라 헤매다', '이 길 끝에서 서성이는 나', '다신 볼 수도 없는 네가 나를 붙잡아', '나는 또 이 길을 묻는다', '널 보고 싶다고', '또 안고 싶다고', '저 하늘 보며 기도하는 날', '네가 아니면 안돼', '너 없인 난 안돼', '나 이렇게 하루 한달을 또 일년을', '나 아파도 좋아', '내 맘 다쳐도 좋아 난', '그래 난 너 하나만 사랑하니까', '나 두 번 다시는', '보낼 수 없다고', '나 너를 잊고 살 순 없다고', '네가 아니면 안돼', '너 없인 난 안돼', '나 이렇게 하루 한달을 또 일년을', '나 아파도 좋아', '내 맘 다쳐도 좋아 난', '그래 난 너 하나만 사랑하니까', '내 멍든 가슴이', '널 찾아 오라고', '소리쳐 부른다', '넌 어디 있는 거니', '나의 목소리 들리지 않니', '나에게는', '나 다시 살아도', '몇 번을 태어나도', '하루도 네가 없이 살 수 없는 나', '내가 지켜줄 사람', '내가 사랑할 사람 난', '그래 난 너 하나면 충분하니까', '너 하나만 사랑하니까']\n"
          ]
        },
        {
          "output_type": "stream",
          "name": "stderr",
          "text": [
            "\r80it [31:11, 21.52s/it]"
          ]
        },
        {
          "output_type": "stream",
          "name": "stdout",
          "text": [
            "32\n",
            "['잊지 마 잊지 마', '우리 헤어질 때 힘들던 그날의 인사를', '울지 마 울지 마', '부디 행복해 줘 나의 사랑 안녕', '사랑해 사랑해 내가 더 사랑해', '이제 두 번 다시', '너에게 해줄 수 없는 말', '너만 너만 너만', '사랑했던 나의 전부였었던 ', '널 아프게 해서', '미안해 미안해 다시 돌아갈 수 없지만', '난 너만 난 너만 난 너만 ', '많이 사랑했었다 ', '하지 마 하지 마 추억도 하지 마', '아픈 내 가슴아 ', '미워해 미워해 이젠 널 미워해', '너를 잊으려면', '이럴 수밖에 없으니까', '너만 너만 너만', '사랑했던 나의 전부였었던 ', '널 아프게 해서', '미안해 미안해 다시 돌아갈 수 없지만 ', '난 너만 난 너만 난 너만 ', '너는 내 가슴에 문신처럼 새겨져', '지우려 해봐도', '지울 수 없는 내 사랑아', '너만 너만 너만', '기다린다 너무 아픈 사랑아', '많이 보고 싶다 ', '미안해 미안해 난 아직 너를 사랑해', '난 너만 난 너만 난 너만 ', '기다린다']\n"
          ]
        },
        {
          "output_type": "stream",
          "name": "stderr",
          "text": [
            "\r81it [31:30, 20.76s/it]"
          ]
        },
        {
          "output_type": "stream",
          "name": "stdout",
          "text": [
            "38\n",
            "['나 그댈 위해 시 한 편을 쓰겠어', '나 그대에게 못다 한 얘기 많아', '차마 그때 하지 못 했었던', '오래된 내 마음일지라도', '받아주길 바래요', '사랑한다고', '그댈 향해', '말을 건넬 수 있다면', '떠오르는 말 단 한마디지만', '종이 위에 덧없는 꾸밈을 더해', '볼품없는 솜씨로 시 한 편을 쓰겠어', '사랑해요', '이 말도 부족해요', '내 마음 다 담을 수 없죠', '나 그댈 위해 시 한 편을 쓰겠어', '나 그대에게 못다 한 얘기 많아', '차마 그때 하지 못 했었던', '오래된 내 마음일지라도', '받아주길 바래요', '사랑한다고', '라라라라라라', '사랑해요', '이 말도 부족해요', '내 마음 다 담을 수 없죠', '그대도 나와 같은 마음이라면', '그대도 나를 아직 사랑한다면', '부디 가던 길 잠시 멈추고', '다시 한번만 돌아 봐줘요', '기다리는 나를요', '사랑해요', '이미 늦어버린 마음이라', '더 이상은 보잘것없어도', '알아주길 바래요', '사랑한다고', '라라라라라라', '너무 멀리 돌아온 듯해', '라라라라라라', '그댄 어디쯤에 있나요']\n"
          ]
        },
        {
          "output_type": "stream",
          "name": "stderr",
          "text": [
            "\r82it [31:53, 21.20s/it]"
          ]
        },
        {
          "output_type": "stream",
          "name": "stdout",
          "text": [
            "31\n",
            "['아무말도 아무것도', '여전히 넌 여기 없고', '널 원하고 널 원해도 난 외롭고', '꽃이 피고 진 그 자리', '끝을 몰랐었던 맘이', '깨질 것만 같던 그때 우리 음', '시든 꽃에 물을 주듯', '싫은 표정조차 없는', '결국엔 부서진 여기 우리 음', '다 잊었니 말없이 다 잊었니', '사랑한단 말로 날 가둬둔 채로', '넌 잊었니 난 잊지 못하나봐', '바보처럼 기다려 난 오늘도', '어쩌다 이렇게 됐지', '너무 예뻤잖아 둘이', '매일 설레였지 그때 우린 음', '시든 꽃에 물을 주듯', '싫은 표정조차 없는', '결국엔 부서진 여기 우리', '다 잊었니 말없이 다 잊었니', '사랑한단 말로 날 가둬둔 채로', '넌 잊었니 난 잊지 못하나봐', '바보처럼 기다린', '바보처럼 빈 자릴 붙잡는 나', '차라리 다 끝났다고 말해줘', '이기적인 그 침묵에 또 나만', '바보처럼 미련한', '내가 미워', '아무말도 아무것도', '여전히 넌 여기 없고', '널 원하고 널 원해도 난 지쳐가']\n"
          ]
        },
        {
          "output_type": "stream",
          "name": "stderr",
          "text": [
            "\r83it [32:11, 20.44s/it]"
          ]
        },
        {
          "output_type": "stream",
          "name": "stdout",
          "text": [
            "42\n",
            "['햇살은 우릴 위해 내리고 ', '바람도 서롤 감싸게 했죠 ', '우리 웃음속에 계절은 오고 ', '또 갔죠 ', '바람에 흔들리는 머릿결 ', '내게 불어오는 그대 향기 ', '예쁜 두눈도 웃음 소리도 ', '모두가 내 것이었죠', '이런 사랑 이런 행복 쉽다 ', '했었죠 이런 웃음 ', '이런 축복 내게 쉽게 올리 없죠 ', '눈물 조차 울음조차 닦지 ', '못한 나 ', '정말로 울면 내가 그댈 보내 ', '준 것 같아서 ', '그대 떠나가는 그 순간도 ', '나를 걱정했었나요 ', '무엇도 해줄 수 없는 내 맘', '앞에서 ', '그대 나를 떠나 간다해도 ', '난 그댈 보낸적 없죠 ', '여전히 그댄 나를 살게 하는 ', '이율테니 ', '이런 사랑 이런 행복 쉽다 했었죠 ', '이런 웃음 이런 축복 내게 ', '쉽게 올리 없죠 ', '눈물 조차 울음 조차 닦지 못한 나 ', '정말로 울면 내가 그댈 보내 ', '준 것 같아서 ', '그대 떠나가는 그 순간도 ', '나를 걱정했었나요 ', '무엇도 해줄 수 없는 내 맘앞에서 ', '그대 나를 떠나 간다해도 난 ', '그댈 보낸적 없죠 ', '기다림으로 다시 시작일테니 ', '얼마나 사랑했는지 얼마나 ', '또 울었는지 ', '그대여 한순간 조차 잊지 말아요 ', '거기 떠나간 그곳에서 날', '기억하며 기다려요', '하루씩 그대에게 다가가는 ', '나 일테니 ']\n"
          ]
        },
        {
          "output_type": "stream",
          "name": "stderr",
          "text": [
            "\r84it [32:36, 21.86s/it]"
          ]
        },
        {
          "output_type": "stream",
          "name": "stdout",
          "text": [
            "52\n",
            "['우리 이제 헤어지기로해 ', '너도 알잖아 ', '우린 충분했다는걸', '이별이 무서워 ', '자꾸 피해보지만 ', '이젠 정말 끝인걸', '우리 사랑이 우리 추억이 ', '이젠 끝나가지만 ', '함께한 기억은 ', '내가 다 가져갈게', '끝이란걸 알지만 ', '끝이라고 안할게 ', '내눈에 비친 네 모습이 ', '날 나쁘게 만들어', '나 이제 너와 서툰이별을 하려해 ', '많이 아프겠지만 ', '이제 정말 헤어지려해 ', '가끔 혼자 견디기 힘들어 ', '나도 몰래 널 부르게되면 ', '그냥 지나쳐줘 ', '서툰이별이라서 ', '그래', '혹시 그때의 서로를 ', '조금더 이해했더라면 ', '우린 조금은 달라졌을까', '이제와서 이러는 내가 ', '너무 이기적인가봐 ', '내눈에 비친 네 모습이 ', '날 나쁘게 만들어', '나 이제 너와 서툰이별을 하려해 ', '많이 아프겠지만 ', '이제 정말 헤어지려해 ', '가끔 혼자 견디기 힘들어 ', '나도 몰래 널 부르게되면 ', '그냥 지나쳐줘 ', '서툰이별이라서 ', '그래', '우리의 최선은 여기까지인거같아 ', '수고많았어 ', '이젠 널 보낼게 ', '같은 추억속에 ', '우리를 ', '이젠 보내줘야해 ', '애써 그냥 웃으며 ', '아무렇지 않게 널 보낼게', '우리 이제 정말 이별을 하려해 ', '많이 아프겠지만 ', '많이 힘들겠지만 ', '혹시 우리가 다시 만나게 ', '되는 날이 다가오면 ', '그땐 꼭 안아줘 ', '많이 보고싶었다고 말해줘']\n"
          ]
        },
        {
          "output_type": "stream",
          "name": "stderr",
          "text": [
            "\r85it [33:07, 24.59s/it]"
          ]
        },
        {
          "output_type": "stream",
          "name": "stdout",
          "text": [
            "80\n",
            "['영원할 줄 알았던 사랑도 저물고', '이젠 그 흔한 친구마저 떠나가네요', '나이가 들어서 나', '어른이 되나 봐요', '왜 이렇게 불안할까', '사람들은 오늘도 과거에 머물고', '세상은 나 없이도 잘 돌아가네요', '아직은 어려서 나', '철이 안 드나 봐요', '왜 이렇게 바보 같을까', '아무것도 없이', '그저 행복해하던 때가', '엊그제 같은데', '그래 너무 멀리 와버렸어 난 ', '기억이 안 나', '모든 게 처음이라', '서툴고 설레이기만 해', '그 시절 기억들이', '아직도 꿈만 같은데 난 ', '지금 어디로 가는지', '나는 이 노랠 부르며', '너에게 돌아갈 거야', '아름다웠던 그댈', '다시 볼 수 있다면', '너와 이 노랠 들으며', '마지막 춤을 출 거야', '이 순간을 기억해 언제까지라도', 'Just one last dance', '희미한 불빛이 되어 별들 사이로', '너 또한 이 별이 되어 손짓하네요', '혼자가 되어서 나', '외로워 보이나요', '왜 이렇게 눈물이 날까', '아무것도 없이', '그저 행복해하던 때가', '엊그제 같은데', '그래 너무 멀리 와버렸어 난 ', '기억이 안 나', '모든 게 처음이라', '서툴고 설레이기만 해', '그 시절 기억들이', '아직도 꿈만 같은데 난 ', '지금 어디에 있는지', '나는 이 노랠 부르며', '너에게 돌아갈 거야', '아름다웠던 그댈', '다시 볼 수 있다면', '너와 이 노랠 들으며', '마지막 춤을 출 거야', '이 순간을 기억해 언제까지라도', 'Just one last dance', '음악은 계속해서 흐르고', '여기 너를 기다리고 있는', '나에게 기회를 줘', '제발 단 한 번만 ', '부디 약속할게 ', '그리 길지는 않을 테니', '나는 이 노랠 부르며', '나는 이 노랠 부르며', '너에게 돌아갈 거야', '아름다웠던 그댈 ', '다시 볼 수 있다면', '너와 이 노랠 들으며', '마지막 춤을 출 거야', '이 순간을 기억해 언제까지라도', 'Just one last dance', '너와 손을 잡고', '춤을 추던 어젯밤', '찬란히 빛이 나는', '아름다운 One last smile', '빨주노초 알 수 없던 황홀경', '내가 보고 느끼던', '세상과는 안 어울려', '너와 손을 잡고', '춤을 추던 어젯밤', '찬란히 빛이 나는', '아름다운 One last smile', '빨주노초 알 수 없던 황홀경', '내가 보고 느끼던', '세상과는 안 어울려']\n"
          ]
        },
        {
          "output_type": "stream",
          "name": "stderr",
          "text": [
            "\r86it [33:55, 31.49s/it]"
          ]
        },
        {
          "output_type": "stream",
          "name": "stdout",
          "text": [
            "45\n",
            "['이젠 내가 편하니', '작은 설렘조차 욕심이겠지', '항상 곁에 있어서', '계속 함께 있을 줄 알았나 봐', '음 반복되는 시간에 지쳐가', '더 이상 함께 웃을 일도 없어', '봄처럼 따뜻했던', '그때가 좋았어', '너 하나로 충분했던', '그때가 좋았어', '헤어지고 나서야', '깨닫게 됐어', '참 좋았구나', '참 예뻤구나 우리', '지난날에 그때가 참 좋았어', '그때 그때', '그때 그때 음', '이미 너도 다 알잖아', '돌이킬 수 없이 멀리 왔다는 거', '억지로 더 노력해도', '안되는 건 어쩔 수가 없더라', '음 우리 언제 이렇게 됐을까', '더는 너를 만날 자신이 없어', '봄처럼 따뜻했던', '그때가 좋았어', '행복해서 눈물 나던', '그때가 좋았어', '헤어지고 나서야', '깨닫게 됐어', '참 좋았구나', '참 예뻤구나 우리', '지난날에 그때가 참 좋았어', '가진 것도 없고 초라했어도', '서로만으로 충분했으니까 우린', '너라서 좋았어', '행복했어', '사랑이 전부였던', '그때가 좋았어', '그때 알았더라면', '더 사랑할 걸', '더 안아줄 걸', '후회가 돼', '사랑했던 우리가 참 그리워', '그때 그때', '그때 그때 음']\n"
          ]
        },
        {
          "output_type": "stream",
          "name": "stderr",
          "text": [
            "\r87it [34:22, 30.21s/it]"
          ]
        },
        {
          "output_type": "stream",
          "name": "stdout",
          "text": [
            "40\n",
            "['고단한 하루 끝에 떨구는 눈물', '난 어디를 향해 가는 걸까', '아플 만큼 아팠다 생각했는데', '아직도 한참 남은 건가 봐', '이 넓은 세상에 혼자인 것처럼', '아무도 내 맘을 보려 하지 않고', '아무도', '눈을 감아 보면', '내게 보이는 내 모습', '지치지 말고', '잠시 멈추라고', '갤 것 같지 않던', '짙은 나의 어둠은', '나를 버리면', '모두 갤 거라고', '웃는 사람들 틈에 이방인처럼', '혼자만 모든 걸 잃은 표정', '정신 없이 한참을 뛰었던 걸까', '이제는 너무 멀어진 꿈들', '이 오랜 슬픔이 그치기는 할까', '언젠가 한 번쯤 ', '따스한 햇살이 내릴까', '나는 내가 되고', '별은 영원히 빛나고', '잠들지 않는', '꿈을 꾸고 있어', '바보 같은 나는', '내가 될 수 없단 걸', '눈을 뜨고야', '그걸 알게 됐죠', '나는 내가 되고', '별은 영원히 빛나고', '잠들지 않는', '꿈을 꾸고 있어', '바보 같은 나는', '내가 될 수 없단 걸', '눈을 뜨고야', '그걸 알게 됐죠', '어떤 날 어떤 시간 어떤 곳에서', '나의 작은 세상은 웃어줄까']\n"
          ]
        },
        {
          "output_type": "stream",
          "name": "stderr",
          "text": [
            "\r88it [34:47, 28.56s/it]"
          ]
        },
        {
          "output_type": "stream",
          "name": "stdout",
          "text": [
            "33\n",
            "['소중한 건 금방 달아날 것만 같아', '너를 지우면 그게 나이긴 한 걸까', '나의 어제이고 오늘인 너는 아파', '눈 감으면 네 생각이 나', '사랑했던 모든 날이 좋았어', '어쩌려고 내가 너를 놓았을까', '나의 세상 나의 시간 잊지 말아요', '늘 그리워서', '눈이 부시게 너로 반짝이던', '가득 빛나던 밤', '영원할 줄 알았던 우리의 그때를', '사랑이 아니었다 말하지 마요', '덜컥 네 생각에 참아왔던 마음이', '손쓸 틈 없이 쏟아져 내려 오늘도', '구름 낀 하늘', '비가 올 것만 같아서 난', '하염없이 네 생각이 나', '바보처럼 아껴왔던 마음이', '지칠 만큼 오늘따라 조금 벅차', '나의 세상 나의 시간 잊지 말아요', '늘 그리워서', '눈이 부시게 너로 반짝이던', '가득 빛나던 밤', '영원할 줄 알았던 우리의 그때를', '사랑이 아니었다 말하지 마요', '내일의 너에게 난 어떻게 그려질까', '점점 선명해질까 아님 잊혀져갈까', '손 내밀면 닿을 것 같은', '그때의 기억 늘 그리워서', '모든 시간이 너로 가득했어', '아련한 꿈처럼', '소중하고 또 애틋한 우리의 그때를', '사랑이 아니었다 말하지 말아요']\n"
          ]
        },
        {
          "output_type": "stream",
          "name": "stderr",
          "text": [
            "\r89it [35:08, 26.42s/it]"
          ]
        },
        {
          "output_type": "stream",
          "name": "stdout",
          "text": [
            "55\n",
            "['니가 없는 거리에는', '내가 할일이 없어서', '마냥 걷다 걷다보면', '추억을 가끔 마주치지', '떠오르는 너의 모습', '내 살아나는', '그리움 한번에', '참 잊기 힘든 사람이란걸', '또 한번 느껴지는 하루', '어디쯤에 머무는지', '또 어떻게 살아가는지', '걷다보면 누가', '말해줄 것 같아', '이 거리가 익숙했던', '우리 발걸음이 나란했던', '그리운 날들', '오늘밤 나를 찾아온다', '널 그리는 널 부르는 내 하루는', '애태워도 마주친', '추억이 반가워', '날 부르는 목소리에 돌아보면', '텅빈 거리 어느새', '수많은 니모습만 가득해', '막다른길 다다라서', '낯익은 벽 기대보며', '가로등 속 환히 비춰지는', '고백하는 니가 보여', '떠오르는 그때모습', '내 살아나는 설레임', '한번에 참 잊기 힘든', '순간이란 걸', '또 한번 느껴지는 하루', '아직 나를 생각할지', '또 그녀도 나를 찾을지', '걷다보면 누가 말해줄 것 같아', '이 거리가 익숙했던', '우리 발걸음이 나란했던', '그리운 날들', '오늘밤 나를 찾아온다', '널 그리는 널 부르는 내 하루는', '애태워도 마주친', '추억이 반가워', '날 부르는 목소리에 돌아보면', '텅빈 거리 어느새', '수 많은 니 모습만 가득', '부풀은 내 가슴이', '밤 하늘에 외쳐본다', '이 거리는 널 기다린다고', '널 그리는 널 부르는 내 하루는', '애태워도 마주친', '추억이 반가워', '날 부르는 목소리에 돌아보며', '텅빈거리 어느새', '수 많은 니 모습만 가득해', ' ']\n"
          ]
        },
        {
          "output_type": "stream",
          "name": "stderr",
          "text": [
            "\r90it [35:42, 28.73s/it]"
          ]
        },
        {
          "output_type": "stream",
          "name": "stdout",
          "text": [
            "46\n",
            "['숨을 쉬는 너무나도', '당연한 것들 마저도 힘이 들고', '잠이 드는 하루에 끝이 오는', '그 순간마저 멀게만 느껴지는', '그런 날들이 요즘 내겐', '하루가 멀다 하고 매일을 날 아프게 해', '난 너를 보내고', '내 전부인 널 떠나보내고', '다 져버린 꽃처럼', '부서져 흩어진 유리처럼', \"I don't have tomorrow\", '한없이 약해빠진 나라서', '지금 내 모습은 어쩔 수가 없는', '너무나도 약해빠진 나라서', '외로워지는 그런날엔', '잠시 네게 기대 한없이 울고싶은데', '다시 돌아올거라고', '금방 지나갈거라고', '아무 말하지마 다 알고있어 난', '하루 빨리 잊어볼게', '그런 날들이 요즘 내겐', '하루가 멀다 하고 매일을 날 아프게 해', '난 너를 보내고', '내 전부인 널 떠나보내고', '다 져버린 꽃처럼', '부서져 흩어진 유리처럼', \"I don't have tomorrow\", '한없이 약해빠진 나라서', '지금 내 모습은 어쩔 수가 없는', '너무나도 약해빠진 나라서', '한없이 약해', '내겐 너없는 날이', '저물어가면', '다시 그리워지면', '그 어두운 밤이', '달빛에 기대 내게 닿으면', '이 맘이 전해 진다면', '난 너를 보내고', '내 전부인 널 떠나보내고', '너를보내고', '다 져버린 꽃처럼', '부서져 흩어진 유리처럼', \"I don't have tomorrow\", '한없이 약해빠진 나라서', '지금 내 모습은 어쩔 수가 없는', '너무나도 약해빠진 나라서']\n"
          ]
        },
        {
          "output_type": "stream",
          "name": "stderr",
          "text": [
            "\r91it [36:11, 28.54s/it]"
          ]
        },
        {
          "output_type": "stream",
          "name": "stdout",
          "text": [
            "47\n",
            "['가을밤이 찾아와', '그대를 비추고', '또 나를 감싸네', '눈을 감을 때마다', '향기로운 네 맘이', '내게 전해지네', '너는 무슨 생각해', '나란히 누워서', '저 별을 바라볼 때면', '나와 같은 마음인지는 몰라도', '너와 함께 있는', '이 순간이 난 소중해', '나랑 같이 걸을래', '혹시 내일은 뭐해', '네가 부담되지 않는 날에', '산책이라도 할래', '그냥 날이 좋길래', '너와 걷고 싶어져서', '내일 많이 바쁘지 않으면', '혹시 나랑 같이 걸을래', '많이 어색한가 봐', '자꾸 딴 델 보고', '널 닮은 별만 바라봐', '싱그럽게 불어오는 바람에', '너와 함께 있는 이 순간이 난 소중해', '나랑 같이 걸을래', '혹시 내일은 뭐해', '네가 부담되지 않는 날에', '산책이라도 할래', '그냥 날이 좋길래', '너와 걷고 싶어져서', '내일 많이 바쁘지 않으면', '혹시 나랑 같이 걸을래', '힘들어 보일 땐', '내가 더 아파오고', '속상한 마음만 커져', '내가 곁에 있을게 항상', '너의 편이 되어줄게', '저 하늘의 별처럼', '나랑 같이 걸을래', '혹시 내일은 뭐해', '네가 부담되지 않는 날에', '산책이라도 할래', '그냥 날이 좋길래', '너와 걷고 싶어져서', '내일 많이 바쁘지 않으면', '혹시 나랑 같이 걸을래']\n"
          ]
        },
        {
          "output_type": "stream",
          "name": "stderr",
          "text": [
            "\r92it [36:39, 28.56s/it]"
          ]
        },
        {
          "output_type": "stream",
          "name": "stdout",
          "text": [
            "54\n",
            "['왜 너에겐 ', '그렇게 어려운지  ', '애를 쓰는 나를 ', '제대로 봐주는 게 ', '너 하나에 이토록 ', '아플 수 있음에 ', '놀라곤 해 ', '고단했던 하루 ', '나는 꿈을 꿔도 아파 ', '너였다면 어떨 것 같아  ', '이런 미친 날들이 ', '네 하루가 되면 말야 ', '너도 나만큼 혼자 ', '부서져 본다면 알게 될까 ', '가슴이 터질 듯 ', '날 가득 채운 통증과  ', '얼마나 너를 ', '원하고 있는지 ', '내가 너라면 ', '그냥 날 사랑할 텐데 ', '내 가슴은 한없이 바닥까지  ', '나를 둘러싸는 ', '모든 게 두려워져 ', '다 사랑에 빠지면 ', '행복한 거라니 ', '누가 그래 ', '뒷모습만 보는 ', '그런 사랑하는 내게 ', '너였다면 어떨 것 같아  ', '이런 미친 날들이 ', '네 하루가 되면 말야 ', '너도 나만큼 혼자 ', '부서져 본다면 알게 될까 ', '가슴이 터질 듯 ', '날 가득 채운 통증과  ', '얼마나 너를 원하고 있는지 ', '내가 너라면', '그냥 날 사랑할텐데', '이미 너는 내게', '대답한 걸 알아 ', '대답 없는 대답의 의미', '다 알면서도', '난 모르는 척 맴도는데', '요즘 나는 어떤 줄 아니 ', '편히 잠을 잘 수도', '뭘 삼켜낼 수도 없어', '널 바라보다 점점 망가져', '가는 날 알긴 할까', '죽을 것 같아도', '넌 내게 올 리 없대도 ', '딴 곳만 보는', '너란 걸 알아도', '그런 너를 난', '놓을 순 없을 것 같아']\n"
          ]
        },
        {
          "output_type": "stream",
          "name": "stderr",
          "text": [
            "\r93it [37:12, 29.87s/it]"
          ]
        },
        {
          "output_type": "stream",
          "name": "stdout",
          "text": [
            "55\n",
            "['그림 같은 집이 뭐 별거겠어요', '어느 곳이든 그대가 있다면', '그게 그림이죠', '빛나는 하루가 뭐 별거겠어요', '어떤 하루던 그대 함께라면', '뭐가 필요하죠', '나 그대가 있지만', '힘든 세상이 아니라', '힘든 세상 이지만 곁에', '그대가 있음을 깨닫고', '또 감사해요 또 기도해요', '내 곁에서 변치 않고', '영원하길 기도 드리죠', '무려 우리 함께 눈뜨는 아침과', '매일 그댈 만나 돌아오는 집 앞', '나 만의 그대 나의 그대', '내겐 사치라는걸', '과분한 입맞춤에 취해', '잠이 드는 일', '그래 사치 그댄 사치 내겐 사치', '행복이란 말이 뭐 별거겠어요', '그저 그대의 잠꼬대 마저 날', '기쁘게 하는데', '사랑이란 말이 뭐 별거겠어요', '그저 이렇게 보고만 있어도', '입에서 맴돌죠', '나 그대가 있지만', '거친 세상이 아니라', '거친 세상 이지만', '내겐 그대가 있음을 깨닫고', '또 다짐하죠 또 약속하죠', '그대 곁에 변치않고', '영원하길 약속할게요', '무려 우리 함께 눈뜨는 아침과', '매일 그댈 만나 돌아오는 집 앞', '나 만의 그대 나의 그대', '내겐 사치 라는걸', '과분한 입맞춤에 취해', '잠이 드는 일', '그래 사치 그댄 사치 내겐 사치', '내가 상상하고', '꿈꾸던 사람 그대', '정말 사랑하고 있다고', '나 말 할 수 있어서', '믿을 수 없어', '정말 믿을 수 없어', '내가 어떻게 내가 감히', '사랑할 수 있는지 말야', '무려 우리 함께 잠드는 이 밤과', '매일 나를 위해 차려진 이 식탁', '나 만의 그대 나의 그대', '내겐 사치 라는걸', '과분한 입맞춤에 취해', '잠에 드는 일', '그래 사치 그댄 사치 내겐 사치']\n"
          ]
        },
        {
          "output_type": "stream",
          "name": "stderr",
          "text": [
            "\r94it [37:46, 30.97s/it]"
          ]
        },
        {
          "output_type": "stream",
          "name": "stdout",
          "text": [
            "31\n",
            "['안녕 이라는 말을해', '짧은 시간을 뒤로 한채로', '여전히 아프겠지만', '하룻밤 자고 나면 사라지는 꿈처럼', '너를 oh 잊게될까 두려워져', '무심히 널 떠올리게 되면', '불안해지는 맘 어떻게 해야하니', '안녕 이제는 안녕', '이 말 도저히 할 수가 없어', '너로 가득찬 내 마음', '겨우 내가 할 수 있는 일', '너를 사랑하는 거', '다시 널 만날 수 있길', '아주 오래 전부터 정해진 연일지도 ', '너밖에 모를 내가 되었던 그때가 ', '두려워져 널 안고 있으면', '자꾸 욕심이나 어쩔 수 없는걸', '안녕 이제는 안녕', '이 말 도저히 할 수가 없어', '너로 가득찬 내 마음', '겨우 내가 할 수 있는 일', '너를 사랑하는 거', '다시 널 만날 수 있길', '굳게 닫힌 저 문이 열리면', '그때는 널 다시 볼 수 있을까', '잠시 스치듯 만나', '운명처럼 날 꽃 피우게 해', '매일 널 꿈꾸겠지만', '가득 채울 그리움만큼', '바라는 건 단 하나', '계속 내 곁에 있어줘']\n"
          ]
        },
        {
          "output_type": "stream",
          "name": "stderr",
          "text": [
            "\r95it [38:05, 27.48s/it]"
          ]
        },
        {
          "output_type": "stream",
          "name": "stdout",
          "text": [
            "37\n",
            "['사계절이 와 그리고 또 떠나', '내 겨울을 주고 또 여름도 주었던', '온 세상이던 널 보낼래', '정말 너를 사랑했을까', '언제야 봄이던가', '맞아 그땐 한참 서로가', '셰익스피어의 연극 같은', '마지막이 될 사랑 마주한 듯', '둘밖에 안 보였나 봐', '다른 걸 좀 보고파', 'I gave you the world', '너만이 전부라', '내 겨울을 주고 또 여름도 주었지', '뜨겁고 차갑던 그 계절에', '정말 너를 사랑했을까', '내가 너를 사랑했을까', '서로를 그리워했고', '서로를 지겨워하지', '그 긴 낮과 밤들이', '낡아 녹슬기 전에', '우리 다시 반짝이자', '또 계절이 바뀌잖아', 'I gave you the world', '너만이 전부라', '내 겨울을 주고 또 여름도 주었지', '뜨겁고 차갑던 그 계절에', '정말 너를 사랑했을까', '내가 너를 사랑했을까', '가도 돼 뒤돌아볼 때쯤엔 난 없어', '우리 꽤 괜찮았어', '그거면 된 거야 떠날 때', '사계절이 와 그리고 또 떠나', '내 겨울을 주고 또 여름도 주었던', '온 세상이던 널 보낼래', '정말 너를 사랑했을까', '내가 너를 사랑했을까', '내가 너를 사랑했을까']\n"
          ]
        },
        {
          "output_type": "stream",
          "name": "stderr",
          "text": [
            "\r96it [38:28, 26.05s/it]"
          ]
        },
        {
          "output_type": "stream",
          "name": "stdout",
          "text": [
            "37\n",
            "['왜 이제 왔나요 더 야윈 그대', '나만큼 힘들었나요', '두번 살게 하네요 그대 내 삶을', '난 모든걸 버리려 했죠', '왜 나를 떠나요 아플거면서', '사랑이 여기 있는데', '다신 그러지 마요 내가 죽어요', '그댄 나의 숨이니까요', '나 그댈 잃는다는 건', '내 삶이라는 것 살아도 지옥인거죠', '그댄 나의 전부 그댄 나의 운명', '헤어질 수 없어요', '영원보다 먼 곳에 우리 사랑 가져가요', '눈물 없는 세상 나의 사랑 하나로만', '그대 살게 할게요', '그대와 나 영원히 행복할 그 곳', 'Heaven', '울어도 되나요 그대 앞에서', '고마워 눈물이 나요', '기다렸던 날들이 너무 아파서', '그대 다시 미워지네요', '사랑을 버린다는건 모든걸 잃는것', '상처만 남기잖아요', '그댄 나의 전부 그댄 나의 운명', '헤어질 수 없어요', '영원보다 먼 곳에 우리 사랑 가져가요', '눈물 없는 세상 나의 사랑 하나로만', '그대 살게 할게요', '그대와 나 영원히 행복할 그 곳', 'Heaven', '그댄 나의 전부 그댄 나의 운명', '헤어질 수 없어요', '영원보다 먼 곳에 우리 사랑 가져가요', '눈물 없는 세상 나의 사랑 하나로만', '그대 살게 할게요', '그대와 나 영원히 행복할 그 곳', 'Heaven']\n"
          ]
        },
        {
          "output_type": "stream",
          "name": "stderr",
          "text": [
            "\r97it [38:51, 25.13s/it]"
          ]
        },
        {
          "output_type": "stream",
          "name": "stdout",
          "text": [
            "39\n",
            "['비 내리는 midnight midnight', '잠은 오지 않고 너와', '기억 속을 걷다가', 'Fall in the moon', '기울어진 달처럼 사라진 꿈들이', '귓가에 맴돌아', '또 나를 흔들어', 'yeah yeah', '미련 없이 널 보내고', '왜 미련하게 널 잊지 못하는데', '나 홀로 남겨진 이 멜로디', '기억 속에서 아득히 살아남아 있어', '가슴이 찢어질 듯 아파', '날 미치게 만들어', '너의 목소리만 들려온다', '이 별에 남겨진 우리 둘의 멜로디', '이 길의 끝에', '널 다시 사랑할 수 있을까', '너 없는 나는 빛을 잃었어', '떨어지는 눈물에 달빛이 잠기고', '작은 추억들마저 지쳐가고 있어', 'Oh yeah', '너의 기억들 모두 사라져', '져 ohh wah', '나 홀로 남겨진 이 멜로디', '기억 속에서 아득히 살아남아 있어', '가슴이 찢어질 듯 아파', '날 미치게 만들어', '니가 없는 난 빛을 잃었어', '나 홀로 남아 부르고 있어', '이름도 없는 지금 우리 노래를', '우리를 닮아간 그 melody', '이별에 남겨진 우리 둘의 멜로디', '흘러가는 이 시간 끝', '너를 볼 수 있을까', '이 노래만 불러', '비가 그치면 끝날 멜로디', '한낱 꿈처럼 다 사라지겠지', '어둠 넘어 달빛 속에']\n"
          ]
        },
        {
          "output_type": "stream",
          "name": "stderr",
          "text": [
            "\r98it [39:15, 24.87s/it]"
          ]
        },
        {
          "output_type": "stream",
          "name": "stdout",
          "text": [
            "44\n",
            "['분명 나는 꿈을 꾼 거다', '눈 떠보니 이별이더라', '휴대폰을 확인해 봤더니', '다시 봐도 이별이더라', '헛웃음만 흘러나왔고', '두 다리는 풀려 버렸고', '문득 스친 네 얼굴 생각나 눈물이', '하염없이 쏟아지는데', '대체 무슨 짓을 한 건데', '엎질러진 물에', '난 젖은 채로 꼼짝 못하고', '그 수많은 이별 뒤에도', '넌 분명히 사랑이었다 정말', '내 옆에 있었잖아 늘 여기 있었잖아', '네가 날 떠나가면 그냥 가버리면', '이런 식이면 나 곤란한데', '눈 떠보니 이별이더라', '이건 절대 현실이 아니야', '눈 감으면 꿈이 될 거야', '애써 부정해봐도 이별이 맞잖아', '눈물마저 말라버리고', '네 이름만 중얼거리고', '움직이지 못하고', '웅크린 채 너만 외치고', '그 수많은 이별 뒤에도', '넌 분명히 사랑이었다 정말', '내 옆에 있었잖아 늘 여기 있었잖아', '네가 날 떠나가면 그냥 가버리면', '이런 식이면 나 곤란한데', '꿈만 같던 사랑도', '다 이별하면 현실이야', '알람 하나 없이 깨어나', '한 번만 더 기회를 줘', '다시 하면 잘할 텐데', '내가 바보 같아 화가 나', '참을 수가 없다', '그 수많은 이별 뒤에도', '당연하게 이별이 온다 정말', '가슴을 찢어 놔도 네가 날 짓밟아도', '나 아닌 딴 사람과 평생 사랑해도', '나는 너 아니면 곤란한데', '평생 나는 너 아니면 안 되는데', '평생 나는 너 아니면 안 되는데', '눈 떠보니 이별이더라']\n"
          ]
        },
        {
          "output_type": "stream",
          "name": "stderr",
          "text": [
            "\r99it [39:42, 25.47s/it]"
          ]
        },
        {
          "output_type": "stream",
          "name": "stdout",
          "text": [
            "54\n",
            "['이런 말 하기까지가 참 어려워서', '그대를 보낼 준비가', '되질 않아서', '아프고 또 아파서', '이젠 무뎌진 걸까', '나의 욕심인가 봐', '서운한 말을 하는 게', '너무 미안했어', '그토록 바라고 또', '바랬던 서롤 볼 수 없을까 봐', '그랬나 봐 내가', '헤어지고 나서야 궁금해진 말', '우리 왜 헤어져야 해', '혹시 내가 잘못 한 게 있다면', '한 번 더 내게 기회를 준다면', '내가 더 노력할게', '네가 싫어하던 행동도', '다신 하지 않을게', '돌아와 나를 꼭 안아줘', '마음이 변한 거라면', '솔직했음 해', '내가 좀 구차해지면', '다 잊혀질까', '널 다시 외면하고', '지낼 수 있을까', '원래 없었던 것처럼 나 정말', '나는 헤어지기 싫어', '네가 너무 보고파', '네가 자꾸 생각나', '내게 돌아와 줘', '그때 널 붙잡지 못했던', '나를 용서한다면', '돌아와 나를 꼭 안아줘', '많이 사랑하나 봐', '비참해진 나지만', '이렇게라도 해서 널', '다시 만날 수 있게 되면', '너무 밉다고 그냥 네게 안겨서', '왜 이제서야 돌아왔냐고', '울고불고 소리칠 텐데', '나는 헤어지기 싫어', '하고 싶은 말이 많은데', '혼자 두고 가지 말라고', '네 손을 붙잡아도', '끝을 혼자 정해버리고', '왜 날 두고 떠나가', '다신 보지도 않을 사람처럼', '아직 헤어지기 싫어', '네가 아직 좋아서', '찢어질 듯 아파와', '그런 말 하지 마', '내가 잘못 한 게 있다면', '내가 미안하다고', '제발 날 떠나지 말아 줘']\n"
          ]
        },
        {
          "output_type": "stream",
          "name": "stderr",
          "text": [
            "\r100it [40:15, 27.77s/it]"
          ]
        },
        {
          "output_type": "stream",
          "name": "stdout",
          "text": [
            "45\n",
            "['아직 남았을까', '못 잊을 이유가 남아 있을까', '나만 왜 이렇게', '바보같이 혼자 널 기다릴까 음', '애꿎은 바람들은', '말도 안 되는 네 말을', '또 믿고 싶게 해', '달라질 게 없는데 끝인 걸 아는데', '생각이 나 그 모든 게', '나 어쩌면 너에게 하고 싶은 말은', '긴 밤을 지새도', '아직 너를 많이 사랑한다고', '이 아픈 시간이 어서 지나가기를', '조금만 더 버텨볼게', '네가 없는 하루가 버겁긴 하지만', '보고 싶은 마음 꾹 참고', '하루에 하나씩 잊어볼게 그래 볼게', '매일 이런 다짐을 해 습관처럼', '생각보다 길어진', '그리움이 익숙해져 가는 날들에', '제법 웃기도 하다 또 괜찮다가도', '생각이 나 네 모든 게', '나 어쩌면 너에게 하고 싶은 말은', '긴 밤을 지새도', '아직 너를 많이 사랑한다고', '이 아픈 시간이 어서 지나가기를', '조금만 더 버텨볼게', '네가 없는 하루가 버겁긴 하지만', '보고 싶은 마음 꾹 참고', '하루에 하나씩 잊어볼게 그래 볼게', '매일 이런 다짐을 해 습관처럼', '괜찮은 척 비워낸 척해봐도', '사실 많이 힘들어서', '당장이라도 네게 가고 싶어', '지금은 아니어도', '끝내 내 손잡아 줘 oh', '너에게 못했던 내 마지막 말은', '언젠가 한 번쯤 나를', '떠올리다 그리워지면', '언제든 돌아와 난 여기 있을 거야', '아무 일 없던 것처럼', '너 없는 하루가 어렵긴 하지만', '이 정도쯤은 꾹 참고', '하루에 하나씩 기억할게 그래 볼게', '사랑을 시작하던 그때처럼']\n"
          ]
        },
        {
          "output_type": "stream",
          "name": "stderr",
          "text": [
            "\r101it [40:42, 27.63s/it]"
          ]
        },
        {
          "output_type": "stream",
          "name": "stdout",
          "text": [
            "41\n",
            "['오늘만 같이 있게 해 줘', '마지막이란 게 누구보다 싫은 걸 알잖아', '한 번만 나를 꼭 안아줘', '그러면 너도 다시 따뜻해 질까', '네 계절을 다 사랑하는 건 쉽지 않았지만', '우리가 그려온 시간들은 내겐 전부였어', '너는 내 세상이었어', '그 무엇과도 바꿀 수 없는', '그 세상이 무너지면', '어떻게 살아갈 수 있겠어', '아름다웠던 순간들이', '사라져가는 걸 보면서', '나는 한참을 울고 있었던 것만 같아', '참 오래도 널 만나 왔는데', '우리의 시간은 언제부터 멈춰져있는지', '사랑한단 그 흔한 말조차도', '아직도 너에겐 어려운 일일까', '네 계절을 다', '사랑하는 건 쉽지 않았지만', '우리가 그려온 시간들은 내겐 전부였어', '너는 내 세상이었어', '그 무엇과도 바꿀 수 없는', '그 세상이 무너지면', '어떻게 살아갈 수 있겠어', '아름다웠던 순간들이', '사라져가는 걸 보면서', '나는 한참을 울고 있었던 것만 같아', '아름답던 밤 하늘이', '내게 웃어 주었던 네 눈빛이', '회색빛으로 칠해져 눈앞이 자꾸 흐려져 ', '뒤돌아 걸어가는', '그 길에 아득했던 우리 추억이', '한순간 사라져 다 흩어져', '너는 내 세상이었어', '그 무엇과도 바꿀 수 없는', '그 세상이 무너지면', '어떻게 살아갈 수 있겠어', '아름다웠던 순간들이', '사라져가는 걸 보면서', '나는 한참을 울고 있었던 것만 같아', '널 기다리고 있을 것 같아']\n"
          ]
        },
        {
          "output_type": "stream",
          "name": "stderr",
          "text": [
            "\r102it [41:07, 26.91s/it]"
          ]
        },
        {
          "output_type": "stream",
          "name": "stdout",
          "text": [
            "84\n",
            "['니 눈앞에 왔잖아 ', '내가 여기 있잖아 ', '너의 입술로 말을 해줘', 'say yes say yes', '나도 모르게 ', '너에게 가고 있나봐 ', '부는 바람에 내 맘 전할래', 'love is true', '간지럽게만 느껴지던 눈 빛이', '이제는 익숙 하단듯이 웃음 짓지', '그 쪽으로 걸어가기만 하면 돼', '라고 친구들은', '계속해서 날 부추기지만', '아직은 무거운 구두의 뒷 굽', '차라리 벗어버리고', '싶은 이 밤의 끝', '손을 내밀어 줬으면 해', '맨발로 너에게', '뛰어갈 수 있게 끔', '복잡하기만한 하루에', '매 시간 머리를', '굴리지만 난', '지금에서야 깨달은 건데', '결국 다 버려지고', '너만 남아', '지난 봄에는', '널 우연히 봤고', '더 이상은 우연이', '아니였으면 해', '스치기만 했던', '너의 손을 잡고', '어떤 길이라도', '같이 걸었으면 해', '니 눈앞에 왔잖아 ', '내가 여기 있잖아 ', '너의 입술로 말을 해줘', 'say yes say yes', '나도 모르게 ', '너에게 가고 있나봐 ', '부는 바람에 내 맘 전할래', 'love is true', 'i need u', 'baby 너에게 하고 픈 말 ', '내가 못다한 말 ', 'baby baby baby boy', 'love is true', '어디든 갈 수 있어', '이건 거짓말이 아니야', '이제부터는 나의 옆이', '제일 편한 자리야', '입술을 오므리고', '내는 소리와 같이', '내 이름을', '불러줬음 좋겠어', '내가 뒤로 떨어져서', '걷더라도 단지', '이 목소리를', '들어줬음 좋겠어', '니 눈앞에 왔잖아 ', '내가 여기 있잖아 ', '너의 입술로 말을 해줘', 'say yes say yes', '나도 모르게 ', '너에게 가고 있나봐 ', '부는 바람에 내 맘 전할래', 'love is true', '내가 바라는 단 한가지 ', '니가 내곁에 있어주는 것 ', '니가 날 보며 웃어주는것도', '내 얘길 들어주는것도 ', '난 그걸로도 충분한데 you', '너를 보며 웃잖아 ', '두 눈이 말하잖아 ', '너도 이렇게 대답해줘', 'say yes say yes', '너라서 좋아 ', '니가 날 울려도 좋아 ', '너는 나의 모든 전부니까', 'love is true', 'i need u', 'baby 너에게 하고 픈 말 ', '내가 못다한 말 ', 'baby baby baby boy', 'love is true ']\n"
          ]
        },
        {
          "output_type": "stream",
          "name": "stderr",
          "text": [
            "\r103it [41:59, 34.14s/it]"
          ]
        },
        {
          "output_type": "stream",
          "name": "stdout",
          "text": [
            "40\n",
            "['하고 싶은 말을 하나씩', '써 내려가다가', '문득 보고 싶은 맘이', '창밖에 막 차오를 때', '너의 밤이 궁금해 조금씩', '무작정 너에게', '맘이 타는 줄도 몰라', '뜨겁게 나 가고 있어', '햇살이 좋은 그런 어떤 날', '별빛이 내린 오늘 같은 밤', 'Oh 난 사실은 말이야', '너와 같은 하늘 아래서', '손을 잡는다거나 같이 걷는다거나', 'Oh 난 사실은 말이야', '너와 같은 곳을 보면서', '발 맞추고 싶나 봐', '너를 정말 많이 사랑하나 봐', '너의 하늘 어딘가에', '내 맘을 따다가', '바람 따라 새겨놓고', '달빛처럼 빛나게 해', '너와 마주 앉아', '밤하늘을 보며', '꿈을 꾸고 있나 봐', '이런 게 사랑인가 봐', 'Oh 난 사실은 말이야', '너와 같은 하늘 아래서', '손을 잡는다거나 같이 걷는다거나', 'Oh 난 사실은 말이야', '너와 같은 곳을 보면서', '발 맞추고 싶나 봐', '너를 정말 많이 사랑해', 'Oh 난 사실은 말이야', '너를 보고 싶었었나 봐', '너와 손을 잡고서', '같이 길을 걸으며', 'Oh 난 사실은 말이야', '너와 같은 곳을 보면서', '발 맞추고 싶나 봐', '너를 많이 사랑하게 됐나 봐']\n"
          ]
        },
        {
          "output_type": "stream",
          "name": "stderr",
          "text": [
            "\r104it [42:23, 31.15s/it]"
          ]
        },
        {
          "output_type": "stream",
          "name": "stdout",
          "text": [
            "42\n",
            "['하루만 더 우리 이별을', '늦춘다면 어땠을까', '그럴 일 없다는 걸 나는 알면서도', '아직 널 보낼 수가 없나봐', '한번만 나 이렇게 널 불러볼게', '오늘까지만 그리워할게', '끝이 보이지않아 내 사랑은', '가슴깊이 이별을 남기고', '새까맣게 흉터가 되어도', '또 다시 너를 그리워해', '내 전부인 널', '단 하루만 더 너를 사랑할게', '단 한순간도 못 잊어', '너 없는 세상이', '너무나 아파서 무너져가', '다시 돌아와줘', '시간에 기대어 애써봐도', '이별은 왜 계속 선명해질까', '잘 지내란 인사 못할 것 같아', '오늘까지만 눈물 흘릴게 oh', '혼자 남은 내 맘을 이해해줘', '네 흔적이 그대로 남아서', '내 입술이 추억을 부르고', '여전히 너를 사랑한다', '내 전부인 널', '단 하루만 더 너를 사랑할게', '단 한순간도 못 잊어', '너 없는 세상이', '너무나 아파서 무너져가', '다시 돌아와줘', '시간에 기대어 애써봐도', '이별은 왜 계속 선명해질까', '우리의 이별 끝에', '아직도 서있어', '지금도 네게 하고 픈 말', '뜨겁게 널 사랑한다고', '단 한순간도 못 보내', '너 없는 세상이', '너무나 아파 목이 메어와', '정말 끝난거니', '참 행복했었던 그때 우린', '추억마저 사라지고 있잖아']\n"
          ]
        },
        {
          "output_type": "stream",
          "name": "stderr",
          "text": [
            "\r105it [42:48, 29.54s/it]"
          ]
        },
        {
          "output_type": "stream",
          "name": "stdout",
          "text": [
            "38\n",
            "['그대는 참 아름다워요', '밤 하늘의 별빛보다 빛나요', '지친 나의 마음을 따뜻하게 감싸줄', '그대 품이 나의 집이죠', '세찬 바람 앞에서', '꺼질듯한 내 사랑도', '잘 참고서 이겨내줬어요', '정말 눈물나도록 고마운 맘 아나요', '그대 내곁에 살아줘서', '사랑해요 사랑해요', '내가 그대에게 부족한걸 알지만', '세월을 걷다보면 지칠때도 있지만 ', '그대의 쉴곳이 되리라', '사랑해요 고마운 내 사랑', '평생 그대만을 위해 부를 이노래', '사랑 노래 함께 불러요', '둘이서 라라라', '그대 쳐진 어깨가 내맘을 아프게해요', '잘 해준것도 없는 나라서', '그대의 고운 손이 세월에 변했어요', '못지켜줘서 미안해요', '사랑해요 사랑해요', '내가 그대에게 부족한걸 알지만', '세월을 걷다보면 지칠때도 있지만', '그대의 쉴곳이 되리라', '사랑해요 고마운 내 사랑', '평생 그대만을 위해 부를 이노래', '사랑노래 함께 불러요', '둘이서 라라라', '고마워요 고마워요', '그대 자신보다 나를 아껴준 사랑', '세상이 등 돌려도 누가 뭐라고 해도', '내가 그대 지켜줄게요', '사랑해요 소중한 내사랑', '평생 그대만을 위해 부를 이노래', '사랑노래 함께 불러요', '둘이서 라라라', '그대 품이 나의 집이죠 영원히 라라라']\n"
          ]
        },
        {
          "output_type": "stream",
          "name": "stderr",
          "text": [
            "\r106it [43:12, 27.67s/it]"
          ]
        },
        {
          "output_type": "stream",
          "name": "stdout",
          "text": [
            "30\n",
            "['환상속에 있어 다가설 수 없는 ', '나에게 너를 보여줘 ', '조금만 다가서도 멀어지는 ', '나의 사랑 나의 꿈 ', '너에게 나를 맞춰가고 있다 말하지마 ', '나에게 너를 초대할 뿐이야 ', '신비로운 너의 모습 나에게는 사랑인걸 ', '조금씩 다가오는 널 느낄수록 ', '신비로운 너의 모습 나에게는 사랑인걸 ', '조금씩 멈춰지는 시간 속에 널 ', '어둠속에 빛처럼 My Love ', '다가설 수 없는 너를 내게 보여줘 ', '어둠 속의 한줄기 빛처럼 느껴 My Love', '사랑하는 너를 모두 느낄 수 있어 ', '어둠 속의 빛처럼 ', '너에게 나를 맞춰가고 있다 말하지마 ', '나에게 너를 초대할 뿐이야 ', '신비로운 너의 모습 나에게는 사랑인걸 ', '조금씩 다가오는 널 느낄수록 ', '신비로운 너의 모습 나에게는 사랑인걸 ', '조금씩 멈춰지는 시간 속에 널 ', '어둠속에 빛처럼 My Love ', '다가설 수 없는 너를 내게 보여줘 ', '어둠 속의 한줄기 빛처럼 느껴 My Love', '너를 기다리는 나의 아름다웠던 ', '시간속에 널 그리워 My Love ', '사랑하고 싶은 너를 내게 보여줘', '어둠속의 한줄기 빛처럼 느껴 My Love', '사랑하는 너를 모두 느낄 수 있어 ', '슬픈 나의 사랑을']\n"
          ]
        },
        {
          "output_type": "stream",
          "name": "stderr",
          "text": [
            "\r107it [43:30, 24.80s/it]"
          ]
        },
        {
          "output_type": "stream",
          "name": "stdout",
          "text": [
            "30\n",
            "['원합니다 내가 살기 위해서', '내가 이렇게도 가슴이 뛰는 건', '그대가 내 마음에 다녀 갔었나 봐', '우리 사랑은 또 스쳐가지만', '세상에서 가장 그리운 사람', '내가 어느새 그대 이름을 불러', '원합니다 내가 살기 위해서', '그 사랑이 아파도 기다릴게 여기서', '사랑이란 멀리 있어도', '언젠간 만날 테니까', '네가 없으면', '죽을 것 같아서 살기 위해서', '왜 이유 없이 눈물이 났는지', '그렇게 가슴 아파야 했는지', '지금 달려가 꼭 말해주고 싶어', '원합니다 내가 살기 위해서', '그 사랑이 아파도 기다릴게 여기서', '사랑이란 멀리 있어도', '언젠간 만날 테니까', '네가 없으면', '죽을 것 같아서 널 사랑해서', '두 번 다신 못 보게 될까 봐', '연기처럼 네가 사라질까 봐', '난 두려워', '원합니다 내가 살기 위해서', '날 살게 해준 사람 바로 그대입니다', '눈물마저 고맙습니다', '그대가 준 것이니까', '그리움 조차 나는 행복해서', '살기 위해서 널 사랑해']\n"
          ]
        },
        {
          "output_type": "stream",
          "name": "stderr",
          "text": [
            "\r108it [43:50, 23.31s/it]"
          ]
        },
        {
          "output_type": "stream",
          "name": "stdout",
          "text": [
            "42\n",
            "['한참 바라만 보네요', '바뀌지 않을걸', '이미 알고 있지만', '많이 아파서', '마음이 아파서', '바보같이', '그대를 보아요', '정말 슬프긴 한가요', '이런 말도 더', '할 자신이 없는데', '그때 사랑하지 않는다 말할 때', '그냥 그만할 걸 그랬었나 봐요', '널 사랑할 자신이 이제 없어요', '오랜 우리의 연애의 끝은 이래요', '헤어지자는 말도', '먼저 꺼내야 하는', '찢어질듯한 나의 맘을 그댄 알까요', '아마 모르겠죠', '언제부터였었나요', '사랑하는 척을', '하기 힘들었을 텐데', '얼마나 기다려왔을까요', '하루도 같이 있기 힘들었을 텐데', '정말', '널 사랑할 자신이 이제 없어요', '오랜 우리의 연애의 끝은 이래요', '헤어지자는 말도', '먼저 꺼내야 하는', '찢어질듯한 나의 맘을 그댄 알까요', '아마 모르겠죠', '함께 나눴던 추억을 다 지울게요', '더는', '사랑하지 않을게요', '어차피 알고 있었지만', '너무 빨리 온 것 같아요', '나는 정말 자신 없는데', '내가 그댈 정말 잊을 순 있을까요', '오늘은 우리가 처음 만난 날인데', '기억도 못 하겠죠', '늘 그래왔으니까', '혼자 사랑한 나의 맘을 그댄 알까요', '아마 모르겠죠']\n"
          ]
        },
        {
          "output_type": "stream",
          "name": "stderr",
          "text": [
            "\r109it [44:15, 24.03s/it]"
          ]
        },
        {
          "output_type": "stream",
          "name": "stdout",
          "text": [
            "50\n",
            "['너와 헤어지고 많이 후회를 했어', '그땐 내가 너무 어렸었나 봐', '사랑을 조금만 더 알았더라면', '너를 그냥 놓지 않았을 텐데', '벌써 좋은 사람 만나', '잘 지낸다 들었어', '솔직히 나만큼 너도', '힘들어할 줄 알았는데', '넌 정말 다 잊었니', '미련도 없을 만큼', '기억도 안 날 만큼', '너의 그 사람이 잘해주나 봐', '그런 너를 잊지 못하고', '아직 헤어 나오지를 못해', '너의 소식 들려오는 그날엔', '또 무너져 내렸어', '우리가 뭐 때문에 헤어졌는지', '돌아보니 아무것도 아니었어', '그때 널 조금만 더 이해했더라면', '지금 우린 마주하고 있을까', '얼마나 시간이 흘러야', '내 맘이 무뎌질까', '많은 밤을 지새워봐도', '지워지지 않아', '넌 정말 다 잊었니', '미련도 없을 만큼', '기억도 안 날 만큼', '너의 그 사람이 잘해주나 봐', '그런 너를 잊지 못하고', '아직 헤어 나오지를 못해', '너의 소식 들려오는 그날엔', '또 무너져 내렸어', '너와 소중했던 추억이 많아서', '더욱 힘든 건가 봐', '아직 못 잊는 건가 봐', '한 번만 생각해줘', '실수라도 한 번만', '미워도 다시 한번', '우리 사랑이 고작 그 정도였니', '이런 내가 미련하겠지', '네겐 그저 스친 인연인데', '나만 혼자 유난 떠는 것 같아', '행복한 걸 알지만', '다 잊지는 말아줘', '정말 사랑했고 서로 애틋했던', '그런 우리였잖아', '다신 사랑 못 할지 몰라', '내겐 니가 전부였으니까', '여전히 난 이렇게 너무 힘들어', '니 소식이 들리면']\n"
          ]
        },
        {
          "output_type": "stream",
          "name": "stderr",
          "text": [
            "\r110it [44:46, 25.99s/it]"
          ]
        },
        {
          "output_type": "stream",
          "name": "stdout",
          "text": [
            "49\n",
            "['Baby you ', '나의 사랑 그대 ', '널 보면 너 함께 있으면 ', '어둠은 사라져 시간은 멈춰서 ', '이 공간엔 너와 나 둘만 ', '남겨져 Love was always painful ', '널 알기 전 사실 나 두렵던 ', '사랑이란 감정 날 울리던 함정 ', '그렇게만 생각했는데 ', '내 안에 빛이 되어줘 ', '나의 맘을 알아줘 ', '내 세상에 밝은 별이 되어줘 ', '후회하지 않을게 ', '너의 이유 되어 줄게 ', '처음부터 너와 나인 것처럼 ', '가슴이 멎은 것처럼 ', '아련해지는 걸 ', '내 하루는 이미 너 하나인 걸 ', '사랑한단 이유로 ', '상처 주진 않을게 ', '처음부터 너와 나인 것처럼 ', 'Love you ', '지금도 I was thinking about you ', '잠들기 전 그저 널 생각해 ', '사랑이란 감정 스며들어 점점 ', '이렇게 네 생각나는데 ', '내 안에 빛이 되어줘 ', '나의 맘을 알아줘 ', '내 세상에 밝은 별이 되어줘 ', '후회하지 않을게 ', '너의 이유 되어 줄게 ', '처음부터 너와 나인 것처럼 ', 'Love you ', '나만 너를 모른 채 ', '살아온 것만 같아 ', '우리 마치 오래 전 ', '이미 시작된 사랑인 것만 같아 ', '가슴이 멎은 것처럼 ', '아련해지는 걸 ', '내 하루는 이미 너 하나인 걸 ', '사랑한단 이유로 ', '상처 주진 않을게 ', '처음부터 너와 나인 것처럼 ', '나만의 빛이 되어줘', '내 세상에 밝은 별이 되어줘', '후회하지 않을게', '너의 이유 되어 줄게', '처음부터 너와 나인 것처럼', 'Love you']\n"
          ]
        },
        {
          "output_type": "stream",
          "name": "stderr",
          "text": [
            "\r111it [45:17, 27.35s/it]"
          ]
        },
        {
          "output_type": "stream",
          "name": "stdout",
          "text": [
            "27\n",
            "['언제부터인지 그대를 보면', '운명이라고 느꼈던 걸까', '밤하늘의 별이 빛난 것처럼', '오랫동안 내 곁에 있어요', '그대라는 시가 난 떠오를 때마다', '외워두고 싶어 그댈 기억할 수 있게', '슬픈 밤이 오면 내가 그대를 지켜줄게', '내 마음 들려오나요', '잊지 말아요', '지나가는 계절 속에 내 마음은', '변하지 않는단 걸 아나요', '그저 바라보는 눈빛 그 하나로', '세상을 다 가진 것 같은데', '그대라는 시가 난 떠오를 때마다', '외워두고 싶어 그댈 기억할 수 있게', '슬픈 밤이 오면 내가 그대를 지켜줄게', '내 마음 들려오나요', '잊지 말아요', '꽃이 피고 지는 날이 와도', '이것 하나만 기억해줘요', '그댈 향한 마음을', '언젠가는 우리', '멀어질지 몰라도', '나는 그대라면 기다릴 수 있을 텐데', '시간이 흘러도 내가 이곳에 서 있을게', '그대 망설이지 말아요', '그때가 오면']\n"
          ]
        },
        {
          "output_type": "stream",
          "name": "stderr",
          "text": [
            "\r112it [45:33, 24.04s/it]"
          ]
        },
        {
          "output_type": "stream",
          "name": "stdout",
          "text": [
            "43\n",
            "['벌써 넌 내가 편하니', '웃으며 인사할 만큼', '까맣게 나를 잊었니', '네 곁에 있는 사람 소개할 만큼', '견디긴 너무 힘든데', '자꾸만 울고 싶은데', '내 옆이 아닌 자리에', '너를 보고 있는 게', '왜 그게 행복한 걸까', '친구라도 될 걸 그랬어', '모두 다 잊고서', '다른 사람 만나는', '널 보아도 슬프지 않게', '그저 바라보고 있었어', '한참 동안 네 옆에 그 사람까지도', '잠시라도 더 보려고', '다시 혹시라도 널 보게 되면', '그땐 모르는 척 해볼게', '웃어도 볼 게 지금의 너처럼', '눈 감지 말고 보낼 걸', '가는 널 꼭 지켜볼 걸', '차가운 너의 걸음에', '마지막 내 눈물도', '묻혀서 보내버릴 걸', '너무 모진 너의 모습이', '미워져 버려서 다른 사람 만나는', '널 보아도 슬프지 않게', '그저 바라보고 있었어', '한참 동안 네 옆에 그 사람까지도', '잠시라도 더 보려고', '다시 혹시라도 널 보게 되면', '그땐 모르는 척 해볼게', '웃어도 볼 게 지금의 너처럼', '차라리 잘 된 것 같아', '다시 널 또 한 번', '미워할 수 있을 테니', '혹시 아직 너도 나처럼', '편해지지 못하고', '아파만 하는 거니', '애써 너도 참는 거니', '혹시 네가 다시 돌아올까 봐', '나의 곁은 아직 그대로', '비워져 있어 너의 자리라서']\n"
          ]
        },
        {
          "output_type": "stream",
          "name": "stderr",
          "text": [
            "\r113it [46:01, 25.29s/it]"
          ]
        },
        {
          "output_type": "stream",
          "name": "stdout",
          "text": [
            "45\n",
            "['이제 괜찮니 너무 힘들었잖아', '우리 그 마무리가 고작 이별뿐인 건데 ', '우린 참 어려웠어', '잘 지낸다고 전해 들었어 가끔', '벌써 참 좋은 사람', '만나 잘 지내고 있어', '굳이 내게 전하더라', '잘했어 넌 못 참았을 거야', '그 허전함을 견뎌 내기엔', '좋으니 사랑해서 사랑을 시작할 때', '니가 얼마나 예쁜지 모르지', '그 모습을 아직도 못 잊어', '헤어 나오지 못해', '니 소식 들린 날은 더', '좋으니 그 사람 솔직히 견디기 버거워', '니가 조금 더 힘들면 좋겠어', '진짜 조금 내 십 분의 일 만이라도', '아프다 행복해 줘', '억울한가 봐 나만 힘든 것 같아', '나만 무너진 건가', '고작 사랑 한번 따위 ', '나만 유난 떠는 건지', '복잡해 분명 행복 바랬어', '이렇게 빨리 보고 싶을 줄', '좋으니 사랑해서 사랑을 시작할 때', '니가 얼마나 예쁜지 모르지', '그 모습을 아직도 못 잊어', '헤어 나오지 못해', '니 소식 들린 날은 더', '좋으니 그 사람 솔직히 견디기 버거워', '너도 조금 더 힘들면 좋겠어', '진짜 조금 내 십 분의 일 만이라도', '아프다 행복해 줘', '혹시 잠시라도 내가 떠오르면', '걘 잘 지내 물어 봐줘', '잘 지내라고 답할 걸 모두 다', '내가 잘 사는 줄 다 아니까 ', '그 알량한 자존심 때문에 ', '너무 잘 사는 척', '후련한 척 살아가', '좋아 정말 좋으니', '딱 잊기 좋은 추억 정도니', '난 딱 알맞게 사랑하지 못한', '뒤끝 있는 너의 예전 남자친구일 뿐', '스쳤던 그저 그런 사랑']\n"
          ]
        },
        {
          "output_type": "stream",
          "name": "stderr",
          "text": [
            "\r114it [46:33, 27.38s/it]"
          ]
        },
        {
          "output_type": "stream",
          "name": "stdout",
          "text": [
            "28\n",
            "['나의 두 눈에 제일 먼저 그대를 담고', '가장 예쁜 말들로 그댈 미소 짓게 하고', '바람이 차가운 오늘 밤', '집에 돌아가는 길', '또 그대 생각이 나요', '늦은 이 밤 그대 괜찮다면', '잠시 나와줄래요', '이 밤을 보내기엔 아쉽잖아요', '잠시라도 그댈 보고 싶은 내 맘을', '이 밤을 빌려 말해요', '유난히도 오늘 그대가 더 예뻐 보이고', '웃음 짓던 그대 표정 자꾸 아른거려서', '바람이 차가운 오늘 밤', '집에 돌아가는 길', '또 그대 생각이 나요', '늦은 이 밤 그대 괜찮다면', '잠시 나와줄래요', '이 밤을 보내기엔 아쉽잖아요', '잠시라도 그댈 보고 싶은 내 맘을', '이 밤을 빌려 말해요', '별거 아닌 말들이라도', '그대와 함께라면', '더 바랄 게 없어요', '늦은 이 밤 그대 괜찮다면', '잠시 나와줄래요', '이 밤을 보내기엔 아쉽잖아요', '잠시라도 그댈 보고 싶은 내 맘을', '이 밤을 빌려 말해요']\n"
          ]
        },
        {
          "output_type": "stream",
          "name": "stderr",
          "text": [
            "\r115it [46:50, 24.19s/it]"
          ]
        },
        {
          "output_type": "stream",
          "name": "stdout",
          "text": [
            "16\n",
            "['내가 널 떠났어야 했는데 왜 떠나야 하는지도 아는데 ', '어떤 아무 말도 아무것도 줄 게 없는 내 곁에서 늘 조용히 손을 잡아준 그대 ', '제발 나를 떠나 부디 너를 찾아 이젠 놔도 되는 너의 나를 ', '분명 다시 돌아갈 수 있으니 더 늦기 전에 어서 나를 떠나가 ', '왜 일찍 널 보낼 수 없었을까 살면서 너와 내가 죽어도 너와 내가 아닌 것을 ', '누군가 그에겐 소중한 너인데 내 그늘에 가려 사랑받지 못해서 미안해 ', '그만큼 받았으니 된 거야 내 생엔 없을 것 같던 그 사랑 ', '어떤 아무 말도 아무것도 줄 게 없는 나일 텐데 또 그렇게 날 안아주는 그대 ', '제발 나를 떠나 부디 너를 찾아 이젠 놔도 되는 너의 나를 ', '분명 다시 돌이킬 수 있으니 더 늦기 전에 어서 나를 떠나가 ', '더 일찍 널 보낼 수 없었을까 혹시나 너와 내가 영원한 너와 내가 맞을까 봐 ', '누군가 그에겐 소중한 너인데 내가 되고 싶어 염치없이 지금까지 널 잡은 거야 ', '떠나고 나면 우린 다 잃는 걸까 아냐 그저 제자리인 거야 ', '우리 헤어지면 잠시 아파 정말 잠시일 거야 세상도 잘했다고 말할 거야 ', '왜 일찍 널 보낼 수 없었을까 살면서 너와 내가 죽어도 너와 내가 아닌 것을 ', '누군가 그에겐 소중한 너인데 내 그늘에 가려 사랑받지 못해서 미안해']\n"
          ]
        },
        {
          "output_type": "stream",
          "name": "stderr",
          "text": [
            "\r116it [47:00, 19.87s/it]"
          ]
        },
        {
          "output_type": "stream",
          "name": "stdout",
          "text": [
            "36\n",
            "['떠나거든 내 소식이 들려오면', '이제는 모른다고 해줘 ', '언제나 내 맘속에서 ', '커져만 갔던 너를 ', '조금씩 나도 지우려 해 ', '사랑해 라고 말하고 싶었지만', '늘 미안하다고만 했던 나', '잊고 잊혀지고 지우고', '처음 만난 그때가 그리워진 사람', '다시 못 올 몇 번의 그 계절', '떠나버린 너의 모습을 ', '지우고 버리고 비워도', '어느 새 가득 차버린 내사랑', '안 된다고 사랑하면 안 된다고 ', '하지만 우린 함께했지 ', '언제나 내 마음이라 ', '사랑하던 맘이라 ', '그리 아파할 줄 몰랐어', '미안해 라고 안아주고 싶지만', '점이 돼버린 그 뒷모습', '잊고 잊혀지고 지우고', '처음 만난 그때가 그리워진 사람', '다시 못 올 몇 번의 그 계절', '떠나버린 너의 모습을 ', '지우고 버리고 비워도', '어느 새 가득 차버린 내사랑', '모든 게 나 때문인데 ', '왜 네가 더 힘들어', '네가 왜 내 맘을 위로해 ', '왜 ', '잊고 잊혀지고 지우고', '처음 만난 그때가 그리워진 사람', '다시 못 올 몇 번의 그 계절', '떠나버린 너의 모습을 ', '지우고 버리고 비워도', '어느 새 가득 차버린 내사랑']\n"
          ]
        },
        {
          "output_type": "stream",
          "name": "stderr",
          "text": [
            "\r117it [47:21, 20.39s/it]"
          ]
        },
        {
          "output_type": "stream",
          "name": "stdout",
          "text": [
            "55\n",
            "['그때의 우리 사랑', '뜨겁고 치열했는데', '끝나보니 남는건 미움뿐', '몇번의 계절을 더', '보내야 괜찮아 질까', '미련이 듬뿍 남은 하루를 보내', '친구들과 통화에', '우연히 들은 니 소식', '다른 사랑을 시작해', '잘 지낸다고', '한땐 소중했었고', '많이 사랑했었던', '우리둘은 이젠 남이 됐고', '모르는 사람이야', '넌 완벽히 잊었나봐', '이렇게 넌 잘사는데', '괜한 걱정을 했나봐', '나만 힘든가봐', '너도 내 소식을', '전해 들었으면 좋겠어', '아직은 좀 힘들어 한다는', '미안한 마음갖고', '가끔씩 날 생각해줘', '그래야 내 맘이 좀', '편할거 같아', '니옆에 다른 사람', '있다는게 참 낯설어', '뭔지 모를 서운함은', '이기적인 거니', '한땐 소중했었고', '많이 사랑했었던', '우리둘은 이젠 남이 됐고', '모르는 사람이야', '넌 완벽히 잊었나봐', '이렇게 넌 잘사는데', '나만 끝을 미뤘나봐', '나만 그랬나봐', '솔직한 맘을 말하면', '좋은 사랑 안했으면 해', '가슴아프게 지내길 바랬어', '너는 행복하겠지', '많이 설레이겠지', '나 없이도 웃는 니 모습에', '이제야 실감이나', '넌 완벽히 떠났나봐', '확실히 날 떠났나봐', '난 니가 너무 미워져', '행복하지 말아줘', '잘지내지 말아줘', '좋은 사람 만나 다행이란', '말은 거짓말이야', '네 소식 들은 그날밤', '펑펑 울다가 밤을 샜어', '늦어버린걸 알지만', '어쩔수 없나봐']\n"
          ]
        },
        {
          "output_type": "stream",
          "name": "stderr",
          "text": [
            "\r118it [47:55, 24.25s/it]"
          ]
        },
        {
          "output_type": "stream",
          "name": "stdout",
          "text": [
            "42\n",
            "['어떻게 난 해야 해 ', '니가 떠난다고 말하면 ', '난 혼자 남겨지는 게 ', '더 두려울 텐데 ', '이유를 말해준다면 ', '조금 편할 것 같아 ', '아주 작은 손짓조차도 ', '내겐 소중한 ', '너를 잊을 수 없는 ', '슬픈 기억 속으로 보내 ', '잠 못 이루겠지', 'YOU 비가 오는 거리에 ', '혼자 버려진 채로 ', '서 있는 날 생각해 봤니 ', '혼자 있는 밤이면 ', '니가 잠이 들던 자리엔 ', '슬피 우는 나의 눈물로 ', '모두 젖어 들 거야', '모두가 말했었어 ', '둘이 잘 어울린다고 ', '그럴 땐 넌 내 품에 기대어왔어 ', '이젠 눈을 감으면 ', '꿈속에서 널 만나 ', '긴 밤을 지내다 ', '널 아침이 되면 ', '난 잠에서 깨어 ', '다시 보내고 난 후 ', '아파 눈물 흘리겠지 ', 'YOU 비가 오는 거리에 ', '혼자 버려진 채로 ', '서 있는 날 생각해 봤니  ', '혼자 있는 밤이면 ', '니가 잠이 들던 자리에 ', '슬피 우는 나의 눈물로 ', '모두 젖어 들 거야 ', 'YOU 비가 오는 거리에 ', '혼자 버려진 채로 ', '서 있는 날 생각해봤니  ', '혼자 있는 밤이면 ', '니가 잠이 들던 자리에 ', '슬피 우는 나의 눈물로 ', '모두 젖어 들 거야 ']\n"
          ]
        },
        {
          "output_type": "stream",
          "name": "stderr",
          "text": [
            "\r119it [48:22, 25.23s/it]"
          ]
        },
        {
          "output_type": "stream",
          "name": "stdout",
          "text": [
            "37\n",
            "['사랑에 연습이 있었다면 ', '우리는 달라졌을까 ', '내가 널 만난 시간 혹은 그 장소 ', '상황이 달랐었다면 ', '우린 맺어졌을까 ', '하필 넌 ', '왜 내가 그렇게 철없던 시절에 ', '나타나서 그렇게 예뻤니 ', '너처럼 좋은 여자가 ', '왜 날 만나서 그런 ', '과분한 사랑 내게 줬는지', '우리 다시 그때로 돌아가자는게 ', '그게 미친말인가 ', '정신나간 소린가 ', '나는 더 잘 할 수 있고 ', '다신 울리지 않을 ', '자신있는데 그게 왜 말이 안돼 ', '시간이 너무 흘러 알게되었는데 ', '너를 울리지 않고 아껴주는법 ', '세월은 왜 철없는 날 ', '기다려주지 않고 ', '흘러갔는지 야속해 ', '지금 너 만나는 그에게도 ', '내게 그랬던 것처럼 ', '예쁘게 웃어주니 ', '너처럼 좋은 여자의 ', '사랑 받는 그 남자 너무 부러워 ', '넌 행복하니', '니옆에 지금 그 남자가 있는게 ', '우리 다시 맺어질수가 없는 이윤가 ', '나는 더 잘 할 수 있고', '다신 울리지 않을', '자신있는데 그게 왜 말이 안돼', '시간이 너무 흘러 알게 되었는데', '너를 울리지 않고 아껴주는 법', '세월은 왜 널 잊는 법을', '알려주지 않고 흘러갔는지']\n"
          ]
        },
        {
          "output_type": "stream",
          "name": "stderr",
          "text": [
            "\r120it [48:44, 24.31s/it]"
          ]
        },
        {
          "output_type": "stream",
          "name": "stdout",
          "text": [
            "36\n",
            "['너의 마음속 내 모습들', '언젠가 얘기해줬을 때', '듣고 있는 날엔 어느새', '날 위한 이야긴 듯해', '너의 마음이 아니면 ', '들을 수 없을 내 얘기들', '네 안에 그려진 내 모습이 ', '그저 고마울 뿐이야', '너를 위한 이야기로 있어줄게', '언제나 네 옆에서 힘이 돼줄게', '항상 너만의 예쁜 이야기로 ', '네 옆에 남아 있을게', '우리가 나눈 시간 위에', '그린 서로의 모습들이', '앞으로의 우리에 대해', '믿을 수 있게 하는 듯해', '너의 마음이 아니면 ', '볼 수 없었을 내 모습들', '너도 몰랐었던 네 모습을 ', '너에게 들려줄게', '너를 위한 이야기로 있어줄게', '언제나 네 옆에서 힘이 돼줄게', '항상 너만의 예쁜 이야기로', '네 옆에 남아 있을게', '서로의 마음속에 그려 왔었던', '우리라는 그림들을', '서로 나누고 있었을 때 ', '지킬 수 있을 미래가 돼', '항상 너만의 예쁜 이야기로 ', '네 옆에 남아있을게', '너를 위한 이야기로 있어줄게', '언제나 네 옆에서 힘이 돼줄게', '항상 너만의 예쁜 이야기로 ', '네 옆에 남아 있을게', '널 향한 맘을 나 항상', '지킬게']\n"
          ]
        },
        {
          "output_type": "stream",
          "name": "stderr",
          "text": [
            "\r121it [49:07, 23.72s/it]"
          ]
        },
        {
          "output_type": "stream",
          "name": "stdout",
          "text": [
            "38\n",
            "['왜 이렇게 우린 지쳤을까', '왜 이렇게 다 변했을까', '그래 네가 맞아', '노력해도 안돼', '이제는 나도 정말 모르겠어', '알잖아 우린', '돌아갈 수 없단 걸', '반복됐던 이별', '상처만 남은 우리', '헤어져도 그런 표정은 하지 마', '내가 더 슬퍼지니까', '힘들어도', '널 지우고 지우고 지울게', '안돼 아파도 여기까지야', '각자의 자리에서', '전부다 잊고 행복하자', '이젠 놓아주자', '네가 내 전부였던 건 맞아 하지만', '미련 갖지 말자', '할 만큼 했으니까', '헤어져도 그런 표정은 하지 마', '내가 더 슬퍼지니까', '힘들어도', '널 지우고 지우고 지울게', '안돼 아파도 여기까지야', '각자의 자리에서', '전부다 잊고 행복하자', '이젠 놓아주자', '서로 실망하고', '서로 미워했던 날들', '우리 조금만 이해했었다면', '이제 그만 잡은 손을 놓아줄게', '힘들겠지만 태연하게', '널 지우고 지우고 지울게', '사실 발이 떨어지지 않아', '많이 걱정되니까', '그립겠지만', '안녕 우린 헤어져야만 해']\n"
          ]
        },
        {
          "output_type": "stream",
          "name": "stderr",
          "text": [
            "\r122it [49:33, 24.38s/it]"
          ]
        },
        {
          "output_type": "stream",
          "name": "stdout",
          "text": [
            "32\n",
            "[\"Don't walk away I'm falling down\", \"Don't walk away I'm falling down\", '깊어져만 가는', '밤하늘 별빛은 여전히', '그 자리 그대를 기다리죠', '한참을 말하지 않아도', '그대 두 눈 들여다보면', '나는 알아요 그대를 느끼죠', '햇살 안은 밤하늘 수평선 멀리', '그대의 별 되어 늘 그대를 지킬게요', '내 생에 가장 아름다운 시간들', '나 그댈 위해 간직해온', '짙은 숨결 그대에게', '닿기를 바래요', \"Don't walk away I'm falling down\", \"Don't walk away I'm falling down\", '점점 멀어지는', '한동안 그대 외로이', '힘없이 지나간 나날들', '나는 아파요 그대를 느끼죠', '햇살 안은 밤하늘 수평선 멀리', '그대의 별 되어 늘 그대를 지킬게요', '내 생에 가장 아름다운 시간들', '나 그댈 위해 간직해온', '짙은 숨결 전해지길', '바래요 오직 나 그대가', '내 맘 흐르는 하늘을 바라봐줘요', '한걸음 다가와 멀어지진 말아줘요', '하루하루 같은 이곳에 남겨져', '나 그대에게 머물게요', '내 생에 가장 아름다운', '그대와 영원히']\n"
          ]
        },
        {
          "output_type": "stream",
          "name": "stderr",
          "text": [
            "\r123it [49:55, 23.76s/it]"
          ]
        },
        {
          "output_type": "stream",
          "name": "stdout",
          "text": [
            "25\n",
            "['조금 늦은 저녁 길', '나를 앞서 걷는 사람들', '행복할까', '느린 걸음 때문에', '내겐 늦는 걸까', '안 오려는 걸까', '눈 감아보면 들리는 맘', '샘내듯 갖고 싶던 다른 내일', '또 하루만 또 하루만', '미뤄놓은 약속', '긴 밤은 나무라듯', '잠을 청해', '소란스런 사랑도', '무덤덤한 잦은 이별도', '알게 될까', '나의 꿈이 게을러 겨우 한 뼘 자란', '갖고 싶단 욕심', '저 쏟아지는 햇살 위로', '눈부신 나의 꿈도 피어나길', '또 미루고 또 미루다 지쳐버린 날들', '오늘은 어제보다 행복하길', '저 쏟아지는 햇살위로', '눈부신 나의 꿈도 피어나길', '또 미루고 또 미루다 지쳐버린 날들', '오늘은 어제보다 행복하길']\n"
          ]
        },
        {
          "output_type": "stream",
          "name": "stderr",
          "text": [
            "\r124it [50:12, 21.74s/it]"
          ]
        },
        {
          "output_type": "stream",
          "name": "stdout",
          "text": [
            "49\n",
            "['어쩌다 그댈 사랑하게 된 거죠', '어떻게 이렇게 아플 수 있죠 ', '한번 누구도 이처럼 원한 적 없죠 ', '그립다고 천 번쯤', '말해보면 닿을까요 ', '울어보고 떼쓰면 그댄 내 맘 알까요 ', '그 이름 만 번쯤 미워해볼까요 ', '서운한 일들만 손꼽을까요 ', '이미 사랑은 너무 커져 있는데', '그댄 내가 아니니 ', '내 맘 같을 수 없겠죠 ', '그래요 내가 더 많이 좋아한 거죠', '아홉 번 내 마음 다쳐도', '한번 웃는 게 좋아', '그대 곁이면 행복한 나라서 ', '싫은 표정 한번 조차도 ', '편히 지은 적 없죠', '그대 말이면 뭐든 다 할 듯 했었죠', '천년 같은 긴 기다림도', '그댈 보는 게 좋아', '하루 한 달을 그렇게 일년을', '오지 않을 그댈 알면서', '또 하염없이 뒤척이며 ', '기다리다 기다리다 잠들죠', '나 언제쯤 그댈 편하게 볼까요 ', '언제쯤 이 욕심 다 버릴까요 ', '그대 모든 게 알고 싶은 나인데', '언제부터 내 안에', '숨은 듯이 살았나요', '꺼낼 수 조차 없는 깊은 가시가 되어', '아홉 번 내 마음 다쳐도', '한번 웃는 게 좋아', '그대 곁이면 행복한 나라서', '싫은 표정 한번 조차도 ', '편히 지은 적 없죠', '그대 말이면 뭐든 다 할 듯 했었죠', '천년 같은 긴 기다림도', '그댈 보는 게 좋아', '하루 한 달을 그렇게 일년을', '오지 않을 그댈 알면서', '또 하염없이 뒤척이며', '기다리다 기다리다 잠들죠', '그댈 위해 아끼고 싶어', '누구도 줄 수 없죠', '나는 그대만 그대가 아니면', '혼자인 게 더 편한 나라', '또 어제처럼 이곳에서', '기다리고 기다리는', '나예요']\n"
          ]
        },
        {
          "output_type": "stream",
          "name": "stderr",
          "text": [
            "\r125it [50:44, 24.97s/it]"
          ]
        },
        {
          "output_type": "stream",
          "name": "stdout",
          "text": [
            "40\n",
            "['하얗게 피어난 얼음 꽃 하나가', '달가운 바람에 얼굴을 내밀어', '아무 말 못했던 이름도 몰랐던', '지나간 날들에 눈물이 흘러', '차가운 바람에 숨어 있다', '한줄기 햇살에 몸 녹이다', '그렇게 너는 또 한번 내게 온다', '좋았던 기억만', '그리운 마음만', '니가 떠나간 그 길 위에', '이렇게 남아 서있다 ', '잊혀질 만큼만', '괜찮을 만큼만', '눈물 머금고 ', '기다린 떨림 끝에 ', '다시 나를 피우리라', '사랑은 피고 또 지는 ', '타버리는 불꽃', '빗물에 젖을까 두 눈을 감는다', '어리고 작았던 나의 맘에', '눈부시게 빛나던 추억 속에', '그렇게 너를 또 한번 불러본다', '좋았던 기억만', '그리운 마음만', '니가 떠나간 그 길 위에', '이렇게 남아 서있다 ', '잊혀질 만큼만', '괜찮을 만큼만', '눈물 머금고 기다린 떨림 끝에', '다시 나는 ', '메말라가는땅 위에', '온몸이 타 들어가고', '내 손끝에 남은', '너의 향기 흩어져 날아가', '멀어져 가는 너의 손을', '붙잡지 못해 아프다', '살아갈 만큼만', '미워했던 만큼만', '먼 훗날 너를 데려다 줄 ', '그 봄이 오면 그날에 나 피우리라']\n"
          ]
        },
        {
          "output_type": "stream",
          "name": "stderr",
          "text": [
            "\r126it [51:08, 24.68s/it]"
          ]
        },
        {
          "output_type": "stream",
          "name": "stdout",
          "text": [
            "33\n",
            "['어느새 어둠이 내린 거리에', '깊이 숨겨 두었던 너의 기억', '나도 모르게 꺼내어 놓았어', '우리 같은 시간에 함께했던', '애써 담아 두었던 얘기들이', '내게 걸어와 손을 흔들어', '사실 또 아무렇지 않은 척해봐도', '내 어려운 맘들을 들킬까 봐', '흔들린 눈빛을 애써 감추며', '널 마주하고', '또 난 늘 아무 말도 전하지 못하고', '왜 그리 모진 모습들로 너를', '그렇게 보내고', '그렇게 아파하며 너를 생각해', '여전히 그대로인 너의 모습', '하지만 많이 낯선 너의 표정', '가슴 깊이 머금은 수많은 얘기들', '두손 두발 다 들 만큼 싸웠던 때도', '등을 지며 너에게 돌아서던 때도', '기겁하며 너에게 도망치던 때도', '기다렸어 뒤돌아서서', '사실 또 아무렇지 않은 척해봐도', '내 어려운 맘들을 들킬까 봐', '흔들린 눈빛을 애써 감추며', '널 마주하고', '또 난 늘 아무 말도 전하지 못하고', '왜 그리 모진 모습들로 너를', '그렇게 보내고', '그렇게 아파하며 너를', '사실 난 아무렇지 않은척했지만', '내 맘속에 남겨진 얘기들을', '자꾸만 그려봐', '아직도 못 보내는 너를 이렇게']\n"
          ]
        },
        {
          "output_type": "stream",
          "name": "stderr",
          "text": [
            "\r127it [51:29, 23.29s/it]"
          ]
        },
        {
          "output_type": "stream",
          "name": "stdout",
          "text": [
            "28\n",
            "['다시 태어난다면 다시 사랑한다면 ', '그때는 우리 이러지 말아요 ', '조금 덜 만나고 조금 덜 기대하며 ', '많은 약속 않기로 해요 ', '다시 이별이 와도 서로 큰 아픔 없이 ', '돌아설 수 있을 만큼 ', '버려도 되는 가벼운 추억만 ', '서로의 가슴에 만들기로 해요 ', '이젠 알아요 너무 깊은 사랑은 ', '외려 슬픈 마지막을 가져 온다는 걸 ', '그대여 빌게요 다음 번의 사랑은 ', '우리 같지 않길 부디 아픔이 없이 ', '나', '꼭 나보다 더 행복해져야만 해 ', '많은 시간이 흘러 서로 잊고 지내도 ', '지난 날을 회상하며 ', '그 때도 이건 사랑이었다고 ', '말할 수 있다면 그걸로 된 거죠 ', '이젠 알아요 너무 깊은 사랑은 ', '외려 슬픈 마지막을 가져 온다는 걸 ', '그대여 빌게요 다음 번의 사랑은 ', '우리 같지 않길 부디 아픔이 없이 ', '이젠 알아요 영원할 줄 알았던 ', '그대와의 사랑마저 날 속였다는 게 ', '그보다 슬픈 건 나 없이 그대가 ', '행복하게 지낼 먼 훗날의 모습 ', '나', '내 마음을 하늘만은 알기를']\n"
          ]
        },
        {
          "output_type": "stream",
          "name": "stderr",
          "text": [
            "\r128it [51:46, 21.44s/it]"
          ]
        },
        {
          "output_type": "stream",
          "name": "stdout",
          "text": [
            "30\n",
            "['지금 곁에서 딴 생각에 잠겨 ', '걷고 있는 그대 ', '설레는 마음에 몰래 ', '그대 모습 바라보면서 ', '내 안에 담아요 ', '사랑이겠죠 ', '또 다른 말로는 설명 할 수 없죠 ', '함께 걷는 이 길 ', '다시 추억으로 끝나지않게 ', '꼭 오늘처럼 지켜갈게요 ', '사랑한다는 그 말 아껴둘 걸 그랬죠 ', '이젠 어떻게 내 맘 표현해야 하나 ', '모든 것이 변해가도 ', '이 맘으로 그대 사랑할게요 ', '망설였나요', '날 받아주기가 아직 힘든가요', '그댈 떠난 사람', '그만 잊으려고 애쓰지마요', '나 그때까지 기다릴테니', '사랑한다는 그 말 아껴둘 걸 그랬죠', '이젠 어떻게 내 맘 표현해야 하나', '모든 것이 변해가도', '이 맘으로 그대 사랑할게요', '눈물이 또 남아있다면 모두 흘려버려요', '이 좋은 하늘 아래 우리만 남도록', '사랑할 수 있나요 내가 다가간만큼', '이젠 내게 와줘요 내게 기댄 마음', '사랑이 아니라해도 괜찮아요', '그댈 볼 수 있으니', '괜찮아요 내가 사랑할테니']\n"
          ]
        },
        {
          "output_type": "stream",
          "name": "stderr",
          "text": [
            "\r129it [52:04, 20.51s/it]"
          ]
        },
        {
          "output_type": "stream",
          "name": "stdout",
          "text": [
            "39\n",
            "['월요일엔 아마 바쁘지 않을까 ', '화요일도 성급해 보이지 안 그래 ', '수요일은 뭔가 어정쩡한 느낌 ', '목요일은 그냥 내가 왠지 싫어 ', '우 이번 주 금요일 ', '우 금요일에 시간 어때요 ', '주말까지 기다리긴 힘들어 ', '시간아 달려라 시계를  ', '더 보채고 싶지만  ', 'mind control ', '일분 일초가 달콤해 ', '이 남자 도대체 뭐야 ', '사랑에 빠지지 않곤 못 배기겠어 ', '온 종일 내 맘은 저기  ', '시계바늘 위에 올라타 ', '한 칸씩 그대에게 더 가까이 ', '우 이번 주 금요일 ', '우 금요일에 시간 어때요 ', '딱히 보고 싶은 영화는 없지만 ', '딱히 먹고 싶은 메뉴는 없지만 ', '주말까지 기다리긴 힘들어 ', '시간아 달려라 시계를  ', '더 보채고 싶지만  ', 'mind control ', '일분 일초가 달콤해 ', '이 남자 도대체 뭐야 ', '사랑에 빠지지 않곤  ', '못 배기겠어 ', '온 종일 내 맘은 저기  ', '시계바늘 위에 올라타 ', '한 칸씩 그대에게 더 가까이 ', '나 뭔가에 홀린 것 같아 ', '이 여잔 도대체 뭐야 ', '사랑해주지 않고는 못 배기겠어 ', '돌아오는 이번 주  ', '금요일에 만나요 ', '그 날 내 맘을 더 가져가줘요', '더 가까이 더 가까이 와요  ', '더 가까이 ']\n"
          ]
        },
        {
          "output_type": "stream",
          "name": "stderr",
          "text": [
            "\r130it [52:28, 21.48s/it]"
          ]
        },
        {
          "output_type": "stream",
          "name": "stdout",
          "text": [
            "39\n",
            "['비 내리는 거릴 좋아했었죠', '우산 없이 나와 함께 걸었죠', '다시 내리는 비에 그대 생각나', '눈물 날 것 같은데', '둘이 걷다보면 나를 위해서', '습관처럼 왼쪽 편에 세웠죠', '내 여자라서 내가 지켜야 한다고', '버릇처럼 말했죠', '좋은 사람 꼭 만날 거라 했는데', '그 약속 지키지 못할 것 같아', '내겐 그대가 하나뿐이라', '다른 사랑 못할 것 같아요', '이제는 나를 찾아오지 말라고', '가슴에 멍드는 말을 하고서', '지나가는 발소리 그대이기를', '원하고 또 원하죠', '가끔 그대 어깨 기대 잠들면', '아무 말도 없이 안아주었죠', '고마웠다고 이젠 말할 수 있는데', '그댄 어디 있나요', '좋은 사람 꼭 만날 거라 했는데', '그 약속 지키지 못할 것 같아', '내겐 그대가 하나뿐이라', '다른 사랑 못할 것 같아요', '이제는 나를 찾아오지 말라고', '가슴에 멍드는 말을 하고서', '지나가는 발소리 그대이기를', '원하고 또 원하죠', '보고파 소리 쳐봐도 그리워 불러도', '닿을 수가 없는 그댄가 봐', '이젠 나를 잊었나봐', '그대가 못난 바보라고 할까봐', '내 사랑 너무나 아낀 것 같아', '괜한 자존심 하나 때문에', '사랑한단 말도 못했어요', '못 잊어 그립다는 말도 못하고', '그대가 나를 또 찾지 않을까', '지나가는 발소리 그대이기를', '원하고 또 원하죠']\n"
          ]
        },
        {
          "output_type": "stream",
          "name": "stderr",
          "text": [
            "\r131it [52:51, 21.98s/it]"
          ]
        },
        {
          "output_type": "stream",
          "name": "stdout",
          "text": [
            "29\n",
            "['길었던 오늘 하루는', '가엾게도 나만 남아서', '한참 고개를 들어서', '가슴 깊이 숨을 쉰다', '오랫동안', '너로 인해 하나부터 열까지', '잘해보고 싶었던 걸까', '그런 날이 있잖아', '유난히 지치는 그런 하루 말이야 음', '말 한마디가 네 앞에 설 때면', '왜 이렇게도 안 떠오르는지', '괜히 옷깃에 묻은 별거 아닌 먼지를', '툭툭 털고 애써 웃곤 했어', '이렇게 널 가만히 떠올리면', '얼어붙었던 마음들이', '천천히 다 녹아져', '언제 힘들었는지도 모르게 말야 음', '말 한마디가 네 앞에 설 때면', '왜 이렇게도 안 떠오르는지', '괜히 옷깃에 묻은 별거 아닌 먼지를', '툭툭 털고 또 애써 웃어', '쉽게 말할 수 없던 나의 얘기를', '지금 너에게 조심스럽게 꺼내고 싶어', '네가 알게 해줬어 분홍빛의 하늘을', '너무 많이 고마워', '유난히 지친 그런 날이었어', '한참동안을 목 놓아 울다가', '나를 달래 주듯이 환히 웃는 널 보며', '툭툭 털고 마냥 웃고 있어']\n"
          ]
        },
        {
          "output_type": "stream",
          "name": "stderr",
          "text": [
            "\r132it [53:09, 20.77s/it]"
          ]
        },
        {
          "output_type": "stream",
          "name": "stdout",
          "text": [
            "32\n",
            "['길었던 하루 그림잔', '아직도 아픔을 서성일까', '말없이 기다려 보면', '쓰러질 듯 내게 와 안기는데', '마음에 얹힌 슬픈 기억은', '쏟아낸 눈물로는 지울 수 없어', '어디서부터 지워야 할까', '허탈한 웃음만이', '가슴에 박힌 선명한 기억', '나를 비웃듯 스쳐 가는 얼굴들', '잡힐 듯 멀리 손을 뻗으면', '달아나듯 조각난 나의 꿈들만', '두 갈래 길을 만난 듯', '멍하니 한참을 바라보다', '무언가 나를 이끌던', '목소리에 한참을 돌아보면', '지나온 모든 순간은 어린', '슬픔만 간직한 채 커버렸구나', '혼자서 잠들었을 그 밤도', '아픔을 간직한 채', '시간은 벌써 나를 키우고', '세상 앞으로 이젠 나가 보라고', '어제의 나는 내게 묻겠지', '웃을 만큼 행복해진 것 같냐고', '아직 허기진 소망이', '가득 메워질 때까지', '시간은 벌써 나를 키우고', '세상 앞으로 이젠 나가 보라고', '어제의 나는 내게 묻겠지', '웃을 만큼 행복해진 것 같냐고', '아주 먼 훗날 그때 그 아인', '꿈꿔왔던 모든 걸 가진 거냐고']\n"
          ]
        },
        {
          "output_type": "stream",
          "name": "stderr",
          "text": [
            "\r133it [53:28, 20.43s/it]"
          ]
        },
        {
          "output_type": "stream",
          "name": "stdout",
          "text": [
            "48\n",
            "['가끔 니가 보고 싶어', '널 생각하지 않아도', '자꾸 내 꿈속에 나와', '너무나 힘들게 해', '일년이란 시간 동안', '널 잊은 줄 알았는데', '또 다시 니가 내게 나타나', '밤이 되면 니 생각에', '매일 잠들지 못해', '그저 너란 사람', '내겐 옛 사랑일 뿐인데', '잊혀질 듯 하다가도', '또 내 꿈속에 나타나', '자꾸 내 마음을 흔드는 너인데', '꿈속에 너를 사랑하나 봐', '아직 사랑했나 봐', '아직도 너의 그 모습에', '난 또 설레였나봐', '너 다시 돌아오면', '그렇게 다시 내게 와준다면', '그때처럼 날 사랑해줘', '헤어지던 그 날부터', '매일 눈물만 흘렸어', '다시 너를 잡아볼까', '생각도 했었어', '혹시 날 그리워할까', '날 생각하긴 한 걸까', '아직도 너를 잊지 못한 나인데', '꿈속에 너를 사랑하나 봐', '아직 사랑했나 봐', '아직도 너의 그 모습에', '난 또 설레였나봐', '너 다시 돌아오면', '그렇게 다시 내게 와준다면', '그때처럼 날 사랑해줘', '이젠 꿈에서 조차', '너를 보고 싶지 않아', '내 머릿속에서 니가 떠났으면', '더 이상 너 하나만 바라보며', '살아 갈 수 없어', '꿈속에 널 이젠 놓아주려 해', '꿈속에 너를 사랑하나 봐', '아직 사랑했나 봐', '아직도 너의 그 모습에', '난 또 설레였나봐', '너 다시 돌아오면', '그렇게 다시 내게 와준다면', '그때처럼 날 사랑해줘']\n"
          ]
        },
        {
          "output_type": "stream",
          "name": "stderr",
          "text": [
            "\r134it [53:57, 23.00s/it]"
          ]
        },
        {
          "output_type": "stream",
          "name": "stdout",
          "text": [
            "40\n",
            "['이별을 말하고 넌 괜찮은 거니', '여전히 내 하루는 온통 네 생각에', '뜬 눈으로 밤을 지새고', '난 두려워 시간이 쌓여갈수록', '내가 잊혀질까 봐 우리 시간마저', '모두 무너질까 봐', '나도 모르게 너무 보고 싶어서', '네 집 앞을 찾아가', '너도 나만큼은 아닐지라도', '보고 싶었다고', '말해줘 지금 나 너의 집 앞에 있어', '우리의 시간을 되돌려줘', '아무 일도 없던 것처럼 날 안아줘', '끝이라는 게 난 너무나 두려워서', '다가가지도 못하고', '한참 서성이다 말도 못하고', '다시 돌아가는 나', '하루가 가고 또 하루가 지나도', '갈수록 커져만 가', '맘에 없는 거짓말이라도', '날 사랑한다고', '말해줘 지금 나 너의 집 앞에 있어', '우리의 시간을 되돌려줘', '아무 일도 없던 것처럼 날 안아줘', '끝이라는 게 난 너무나 두려워서', '다가가지도 못하고', '한참 서성이면 우리 한 번은', '단 한 번쯤은 마주치진 않을까', '당장이라도 전활 걸어', '네 목소리 듣고 싶은데', '내가 더 싫어지게 될까 봐', '작은 감정마저 그렇게 사라질까 봐', '마음이란 게 말처럼 되질 않잖아', '보다 조금만 널 사랑했더라면', '스치는 바람처럼 스쳐 지나갈 텐데', '끝이라는 게 난 너무나 두려워서', '다가가지도 못하고', '한참 서성이다 혹시 마주치게 된다면', '나처럼 아픈 시간 속에 살았기를', '오늘도 난 돌아서지만']\n"
          ]
        },
        {
          "output_type": "stream",
          "name": "stderr",
          "text": [
            "\r135it [54:21, 23.30s/it]"
          ]
        },
        {
          "output_type": "stream",
          "name": "stdout",
          "text": [
            "53\n",
            "['항상 난 든든해요', '참 오래도 지났는데', '당연하게도', '나의 뒤엔 항상 그대가 서있는걸', '까만 내 맘속에 마치', '햇살처럼 스며들어', '환히 비추고', '웃게만 해주는', '그대가 참 고마워', '가만히 생각하면', '잘해준 거 없는데', '그저 난 받기만 했었잖아', '내 가슴에 넘쳐 흐르는 그대 에너지', '힘이 나게 해 저기 별처럼', '나를 비춰주는', '나를 아껴주는 널 사랑해', '이제야 깨달아', '얼마나 감사한 건지', '소중한 그댈 아껴야만 해', '아낌없이 네게', '더 예쁜 내 맘', '모두 다 줄게', '매 순간 벅차올라', '내 곁에 널 볼 때 마다', '아픈 날에는', '달려와 안아준', '그댄 내게 감동이야', '습관처럼 귀찮은 철부지 투정들도', '언제나 받아주는 그대라', '사랑해', '내 가슴에 넘쳐 흐르는 그대 에너지', '힘이 나게 해 저기 별처럼', '나를 비춰주는', '나를 아껴주는 널 사랑해', '이제야 깨달아', '얼마나 감사한 건지', '소중한 그댈 아껴야만 해', '아낌없이 네게', '더 예쁜 내 맘', '모두 다 줄게', '긴 밤이 새도록 난 네 생각만해', '어떤 말이면 내 마음을 전부 다', '표현하고', '행복을 찾아서 전할 수 있을까', 'I swear to you', '따스히 안아줘', '곁을 지켜줘 아프지 않게', '우리 생애 마지막 그날에도 맹세할게', '오직 내게는 너뿐이라고', '다시 태어나도', '너만을 위해 살아갈 거야', '영원히 널 지켜주는', '내 마음을 줄게']\n"
          ]
        },
        {
          "output_type": "stream",
          "name": "stderr",
          "text": [
            "\r136it [54:53, 25.89s/it]"
          ]
        },
        {
          "output_type": "stream",
          "name": "stdout",
          "text": [
            "43\n",
            "['그대와 자주 가던 그 술집에', '혼자 널 생각하며 소주 한잔해', '그대가 좋아하던 김치찌개를', '가만히 바라보다 눈물 한잔해', '그 사람 왔었나요', '아니 소식이라도', '그녀에게 전해줘요', '늘 지금처럼 기다린다고', '포장마차 그때 그 자리에서', '네가 있던 그곳에 서서', '날 사랑한다 말했잖아', '영원할 거라고 말했잖아', '포장마차 그때 그 자리에서', '돌아오라는 말을 다시', '되뇌이고 되뇌어도', '네가 돌아오지 않을 걸 알잖아', '그 사람 왔었다면', '혹시 혼자였나요', '그녀에게 전해줘요', '나 그때처럼 기다린다고', '포장마차 그때 그 자리에서', '네가 있던 그곳에 서서', '날 사랑한다 말했잖아', '영원할 거라고 말했잖아', '포장마차 그때 그 자리에서', '돌아오라는 말을 다시', '되뇌이고 되뇌어도', '네가 돌아오지 않을 걸 알잖아', '다 잊으려고 노력해봐도', '그게 잘 안되나봐', '습관처럼 아니 예전처럼 우리', '두 번 다시 돌아갈 수 없나요', '내가 싫은 건가요', '날 사랑한다 말했잖아', '영원할 거라고 말했잖아', '포장마차 그때 그 자리에서', '네가 있던 그곳에 서서', '날 사랑한다 말했잖아', '영원할 거라고 말했잖아', '그댈 다시 부르고 또 불러도', '아무 말 없는 너를 다시', '되뇌이고 되뇌어도', '네가 돌아오지 않을 걸 알잖아']\n"
          ]
        },
        {
          "output_type": "stream",
          "name": "stderr",
          "text": [
            "\r137it [55:20, 25.99s/it]"
          ]
        },
        {
          "output_type": "stream",
          "name": "stdout",
          "text": [
            "45\n",
            "['얼마나 한참을 서있었는지', '멀리 너의 모습 보면서', '그 모습 사라질 때까지', '나의 발걸음은', '움직일 수조차 없었지', '내가 어떤 사랑받았었는지', '내가 어떤 아픔 줬는지', '이제야 널 보낸 후에야', '돌아선 후에야', '다시 후회하고 있잖아', '떠나간 다른 사람 때문에', '비틀거리던 나를', '힘들게 지켜주던 널', '바라보지 않았지', '그렇게 사랑이 온 지 몰랐어', '기대어 울기만 했잖아', '그런 내 눈물이', '너의 가슴으로 흘러', '아파하는 널 나는 밀어냈었지', '사랑은 떠난 후에야 아는지', '곁에 두고서 헤맨 건지', '이제야 알겠어', '너에게 기대어 울던', '그 순간들이', '가장 행복했었던 나를', '내가 어떤 사랑받았었는지', '내가 어떤 아픔 줬는지', '이제야 널 보낸 후에야', '돌아선 후에야', '다시 후회하고 있잖아', '떠나간 다른 사람 때문에', '비틀거리던 나를', '힘들게 지켜주던 널', '바라보지 않았지', '그렇게 사랑이 온 지 몰랐어', '기대어 울기만 했잖아', '그런 내 눈물이', '너의 가슴으로 흘러', '아파하는 널 나는 밀어냈었지', '사랑은 떠난 후에야 아는지', '곁에 두고서 헤맨 건지', '이제야 알겠어', '너에게 기대어 울던', '그 순간들이', '가장 행복했었던 나를']\n"
          ]
        },
        {
          "output_type": "stream",
          "name": "stderr",
          "text": [
            "\r138it [55:47, 26.43s/it]"
          ]
        },
        {
          "output_type": "stream",
          "name": "stdout",
          "text": [
            "55\n",
            "['어느새 흐려진 수많은 날들이', '문득 생각이 나죠', '그때 즐겨 듣던 노랠', '하나씩 꺼내 보죠', '그래 그랬었지 우리', '그리워하다가 운 노래', '내 맘은 여전해 아직 너야', '괜찮다고 위로된 노래', 'I believe in you, I believe in you', '아직 너의 소리가 들려', '함께 들었었던 추억이 담긴 노래', '같이 불렀었던 노래 멜로디', '가슴속에 늘 간직할게', '시간이 멈추는 날까지', '계속 부를래 목이 터지도록', '널 부를게', '설레었다', '널 처음 본 순간부터', '눈이 부셔 어찌나 빛이 나던지', '숨기지 못했던 떨림', '첫 느낌에 행복이란 단어를 만났다', '어느새 넌 나의 노래가 돼', '수많은 것들이 변한다 해도', '내일도 모레도 널 부를래', '하루 온종일 노래할게', '언제나처럼 넘치도록', '설렌다', '너 없인 안 된다던 노래', '해를 몇 번을 넘겨도 우리', '아름답고 아팠던 노래', 'Yeah love then pain beautiful pain', '아직 너의 미소가 보여', '함께 들었었던 추억이 담긴 노래', '같이 불렀었던 노래 멜로디', '가슴속에 늘 간직할게', '시간이 멈추는 날까지', '계속 부를래 목이 터지도록', '널 부를게', 'Yeah 너를 위해서 난 노랠 계속 부를게 (Yeah)', '다시 만나는 날까지 멈추지 않을래 (Yeah)', '우리의 추억 여기선 안 멈춰', '노래로 계속해서 이어져', 'As long as we keep singing', 'There’s no end to our songs hey', '지친 하루의 끝에', '너를 안아줄 이 노래', '기억해 너를 위한 목소리', '함께 들었었던 추억이 담긴 노래', '사랑이 담긴 노래', '같이 불렀었던 노래 멜로디', '가슴속에 늘 간직할게', '시간이 멈추는 날까지', '계속 부를래 (계속 부를래)', '목이 터지도록', '널 부를게']\n"
          ]
        },
        {
          "output_type": "stream",
          "name": "stderr",
          "text": [
            "\r139it [56:21, 28.56s/it]"
          ]
        },
        {
          "output_type": "stream",
          "name": "stdout",
          "text": [
            "54\n",
            "['너와 나 단 둘이서 떠나가는 여행 ', '너를 향한 내 마음 절대 안 변해 ', '보고 또 봐도 또 다시 나 반해 ', '꿈만 같애 우리 둘이 함께 ', '우린 서로 아무말도 없이 ', '이렇다 할 행선지도 없이 ', '빡빡한 저 세상 등지고 ', '너와 내가 나침반과 지도 ', '하지 못했었던 말 ', '한땐 다시 안본다 했었나 ', '허나 지금 우리 둘만 이 차속에 ', '어느덧 훌쩍 지나버린 고개 ', '비와 바람도 세상과 사람도 ', '우릴 막지 말라 우린 지금 빨라 ', '우릴 갈라 놨던 속세 탈출하는 찰라 ', '우린 지금 아주 빨라 ', '난 너와 같은 차를 타고 ', '난 너와 같은 곳을 보고 ', '난 너와 같이 같은 곳으로 ', '그 곳은 천국 일거야 ', '정신없이 달려온 곳 동해안 ', '저 시원한 바다 소리가 곧 내맘 ', '너 때문에 잠 못자고 꼬박 샌 밤 ', '손발을 다 합쳐도 못 샌다 ', '말이 필요없는 거야 같이 있는거야 ', '이제서야 밝히지만 내 주인은 너야 ', '기분 좋아 둘이 장도 봐 ', '밥은 내가 할게 쌀만 담궈 놔 ', '피곤한지 너는 잠깐 자고 ', '그 사이 나는 몰래 요리책을 파고 ', '드디어 오붓하게 저녁식사를 하고 ', '여기가 바로 지상 낙원 ', '비와 바람도 세상과 사람도 ', '우릴 막지 말라 우린 이제 달라 ', '나홀로 애태웠던 예전과는 달라 ', '우린 이제 많이 달라 ', '난 너와 같이 마주 하고 ', '난 너와 같이 살아 숨쉬고 ', '난 너와 같이 같은 곳에서 ', '여기가 천국인거야 oh', '너로 인해 힘들었던 나의 어제가 ', '술안주로 변해버린 오늘이구나 ', '내 여자구나 이제 안 보낸다 절대 ', '안겨봐 내 품에 포근해 소중해 ', '나중에 다시 돌아가더라도 ', '오늘 하루 곱씹으며 행복하게 살어 ', '나중에 다시 돌아가더라도 ', '오늘 하루 곱씹으며 나를 잊지 말어 ', '난 너와 같이 마주 하고 ', '난 너와 같이 살아 숨쉬고 ', '난 너와 같이 같은 곳에서 ', '여기가 천국인거야 oh', 'This is what my life is all about ', 'it is all about you ']\n"
          ]
        },
        {
          "output_type": "stream",
          "name": "stderr",
          "text": [
            "\r140it [56:53, 29.79s/it]"
          ]
        },
        {
          "output_type": "stream",
          "name": "stdout",
          "text": [
            "45\n",
            "['It’s 11:11', '오늘이 한 칸이 채 안 남은 그런 시간', '우리 소원을 빌며 웃던 그 시간', '별 게 다 널 떠오르게 하지', '네 맘 끝자락처럼 차가운 바람', '창을 열면 온통 네가 불어와', '이 시간이 전부 지나고 나면', '이별이 끝나 있을까 Yeah ', '널 다 잊었을까', '모든 게 자릴 찾아서 떠나가고', '넌 내 모든 걸 갖고서 떠나도', '내 맘은 시계 속의 두 바늘처럼', '같은 곳을 두고 맴돌기만 해', 'Na na na na na na na na', 'na na na na na oh', 'Na na na na na na na na', 'I believe I will be over you', '달력 안에 있는 ', '오래 전에 약속했던 몇 월의 며칠 ', '너에겐 다 잊혀져 있었다면 ', '내가 지워야지 뭐', '지나고 나면 별 거 아니겠지 뭐', '모든 게 자릴 찾아서 떠나가고', '넌 내 모든 걸 갖고서 떠나도', '내 맘은 시계 속의 두 바늘처럼', '같은 곳을 두고 맴돌기만 해', 'Na na na na na na na na', 'na na na na na oh', 'Na na na na na na na na', 'I believe I will be over you', '계절 틈에 잠시 피는 낯선 꽃처럼', '하루 틈에 걸려 있는 새벽 별처럼', '이 모든 건 언젠가는 다 지나가고 말겠지', '모든 게 자릴 찾아서 돌아오고', '내가 아무 일 없는 듯이 웃게 되면', '너의 이름 한 번쯤 부르는 게', '지금처럼 아프지 않을 거야', 'Na na na na na na na na', 'na na na na na oh', 'Na na na na na na na na', 'I believe I will be over you', 'Na na na na na na na na', 'na na na na na oh', 'Na na na na na na na na', 'I believe I will be over you']\n"
          ]
        },
        {
          "output_type": "stream",
          "name": "stderr",
          "text": [
            "\r141it [57:21, 29.03s/it]"
          ]
        },
        {
          "output_type": "stream",
          "name": "stdout",
          "text": [
            "24\n",
            "['세상이 어두워져', '빛을 잃은 듯해', '오늘도 난 생각해', '하루만 잘 지내자', '꿈을 잃은 지 오래', '일상이 늘 똑같아', '혼자서 걷다 보면', '어디쯤인지', 'But Here We are 언제부터인지', '내가 점점 너의 모습 따라 머무르네', '너의 표정 자꾸만 내게 보여', '이런 마음 무엇인지 몰라', '하루가 고단해', '어울려 지내지만', '지쳤어 용기 있는', '내가 돼야 해', 'So Here We are 언제부터인지', '웃는 모습 생각 하며 나도 미소 지어', '너의 슬픔 자꾸만 맘에 걸려', '어떻게든 웃게 할게', 'Take My hand 나를 일으켜줘', '어떤 해답도 그 무엇도 줄 수는 없지만', '힘을 내자 서로를 바라보며 우', '겁이 나지만 함께해 우리']\n"
          ]
        },
        {
          "output_type": "stream",
          "name": "stderr",
          "text": [
            "\r142it [57:35, 24.78s/it]"
          ]
        },
        {
          "output_type": "stream",
          "name": "stdout",
          "text": [
            "28\n",
            "['나를 사랑하는 법은 어렵지 않아요', '지금 모습 그대로 나를 꼭 안아주세요', '우리 나중에는 어떻게 될진 몰라도', '정해지지 않아서 그게 나는 좋아요 ', '남들이 뭐라는 게 뭐가 중요해요', '서로가 없음 죽겠는데 뭐를 고민해요', '우리 함께 더 사랑해도 되잖아요', '네가 다른 사람이 좋아지면 ', '내가 너 없는 게 익숙해지면 ', '그때가 오면 그때가 되면 ', '그때 헤어지면 돼', '너를 사랑하는 법도 어렵지 않아요 ', '한 번 더 웃어주고 조금 더 아껴주면', '우리 사랑하는 법도 어렵지 않아요', '매일 처음 만난 눈빛으로 ', '서로를 바라봐 주면', '남들이 뭐라는 게 뭐가 중요해요', '서로가 없음 죽겠는데 뭐를 고민해요', '우리 함께 더 사랑해도 되잖아요', '네가 다른 사람이 좋아지면 ', '내가 너 없는 게 익숙해지면 ', '그때가 오면 그때가 되면 그때 ', '그때 그때 ', '네가 원하든 말든 널 잡을 거고 ', '내가 더 이상 지쳐 걷지 못할 때 ', '그때가 오면 그때가 되면', '그때 헤어지면 돼 ', '그때 헤어지면 돼']\n"
          ]
        },
        {
          "output_type": "stream",
          "name": "stderr",
          "text": [
            "\r143it [57:53, 22.61s/it]"
          ]
        },
        {
          "output_type": "stream",
          "name": "stdout",
          "text": [
            "44\n",
            "['강변북로', '괜히 생각나는밤 뭐해', '헤어지던 그 순간에도', '널 바래다 주던', '강변북로', '니가 좋아했던 노래', '처음 잡은 두손', '마지막 흘렸던 눈물까지', '왜 다 생각나는지', '강변북로를 지나서', '니가 있던 그곳에 왜 니가없어', '난 왜 내곁에 없는 니가', '또 생각나는지', '강변북로를 지나서', '아무리 달려봐도 니가 없는곳에', '지금 너에게 가고싶다', '나 혼자남은 강변북로', '네가없는', '우리 좋아했던', '신촌역을 지나치다', '너의 집 골목길 입맞추던', '그때 생각나는지', '강변북로를 지나서', '니가 있던 그곳에 왜 니가없어', '난 왜 내곁에 없는 니가', '또 생각나는지', '강변북로를 지나서', '아무리 달려봐도 니가 없는곳에', '지금 너에게 가고싶다', '나 혼자남은 강변북로를', '계속 달리면 니가 있을까', '매달리면 받아줄까', '이 마포대교를 지나', '아무리 달리고 달려도 왜', '왜 니가없어 날 떠나지마', '너없인 안될것같아', '그때로 돌아간다면', '차라리 널 몰랐던 난 어땠을까', '이젠 내곁에 없는 너를', '다 지워야겠지', '강변북로를 지나서', '아무리 불러봐도 소리쳐도 니가없어', '지금 너에게 가고싶다', '나 혼자남은 강변북로']\n"
          ]
        },
        {
          "output_type": "stream",
          "name": "stderr",
          "text": [
            "\r144it [58:20, 23.93s/it]"
          ]
        },
        {
          "output_type": "stream",
          "name": "stdout",
          "text": [
            "34\n",
            "['빛이 나는 spoon 내게는 남 얘기 ', '누군가의 꿈 이미 다 가진 ', '그들의 삶 속엔 없는 game over ', ' ', '원하면 뭐든 지킬 수 있겠지', '나완 다르니 그게 한 평의 방이 됐든', '꿈이 됐든 사랑이든 oh ', \"I can't be a lover\", '이 세계의 charge ', 'A bit too much ', 'I might lose again, 이 game ', 'I’ll never be a trust fund baby, no ', '그 삶이 내 거면 왜 안 되는 걸까?', '빈 wallet 그보다 더 비어버린 마음의 이름은 ', 'Lover with no $ dollar sign', 'I’ll never be a trust fund baby, no', \"I wish everything's a lie\", '훔친 hunnit bands ', '더 비참해질 뿐 주인은 못 돼', '패배자를 위한 낙원 따윈', '구원 따윈 물론 없어 ', ' ', \"Yeah, I know I know I'm not like them \", '더하고 곱해봐도 잘 안돼', '그 어떤 수도 0인 내겐 ', \"I'm nothing 살 수 없는 걸 \", 'I’ll never be a trust fund baby, no ', '그 삶이 내 거면 왜 안 되는 걸까?', '빈 wallet 그보다 더 비어버린 마음의 이름은 ', 'Lover with no $ dollar sign', 'I’ll never be a trust fund baby, no', \"I wish everything's a lie\", 'I’ll never be a trust fund baby, no', \"I wish everything's a lie\"]\n"
          ]
        },
        {
          "output_type": "stream",
          "name": "stderr",
          "text": [
            "\r145it [58:40, 22.90s/it]"
          ]
        },
        {
          "output_type": "stream",
          "name": "stdout",
          "text": [
            "38\n",
            "['내가 망가지면 니가 나를 볼까 봐', '나를 혹시나 걱정해줄까 봐', '몸에 안 좋은 거 하러 왔어', '시끄럽고 졸립다', '그래 이제 집에 가야지', '지금 뭐 해', '밤에는 바람이 점점 차가운데', '따뜻이 좀 입고 다녀 멋 부리지 말고', '지금 이 순간', '하고 싶은 말이 많은데', '내가 가진 언어로 표현 못 해 알잖아', '내가 좀 서툴지', '술 한잔했어 너무 보고 싶어서', '니가 싫어하는', '담배도 피고 술도 했어', '술이 깨면 내가 또 미워질까 봐', '마시다 보니 조금 취했어', '어디야 지금 뭐 해 빨리 와', '너 올 것 같아 여기서 나 기다리는데', 'Xiyehn아', '오늘따라 니가 보고 싶어서', '그래 내가 좀 못났지 미안해', '지금 뭐 해', '의식은 점점 희미해가는데', '니 얼굴은 더 또렷하게 생각이 나네', '지금 이 순간 하고 싶은 말이 많은데', '나란 놈이 그렇지 뭐 또', '못해 말도 못 하는 내가 싫어', '술 한잔했어 너무 보고 싶어서', '니가 싫어하는', '담배도 피고 술도 했어', '술이 깨면 내가 또 미워질까 봐', '마시다 보니 조금 취했어', '어디야 지금 뭐 해 빨리 와', '너 올 것 같아 여기서 나 기다리는데', 'Xiyehn아', '오늘따라 니가 보고 싶구나', '또 보고 싶어서 미안해']\n"
          ]
        },
        {
          "output_type": "stream",
          "name": "stderr",
          "text": [
            "\r146it [59:04, 23.16s/it]"
          ]
        },
        {
          "output_type": "stream",
          "name": "stdout",
          "text": [
            "42\n",
            "['나만 원한다 했던 말도', '지켜준다던 약속들도', '아무렇지 않은 표정으로', '버리고 있잖아', '너만 바라본 많은 날들', '물거품이 돼버린 오늘', '또 아무렇지 않게 웃고있을 너잖아', '정말 좋았잖아 행복 했었잖아', '가슴아픈 그런 일들도', '견뎌냈던 우리잖아', '제발 그러지마라 아직 사랑하는 날', '너도 알고 있잖아', '매일밤 울며 전화하는 날', '낯설만큼 차가운 니 목소릴 들어도', '바보처럼 난 너를 못잊어 이렇게', '알면서도 시작한 만남', '그녀에게 미안한 맘만', '하루하루 지날수록 커진', '내 헛된 욕심들', '많이 부담스러웠겠지', '니 자릴 찾으려 했겠지', '난 알고 있었어', '닫혀진 너의 마음을', '정말 좋았잖아 행복 했었잖아', '가슴아픈 그런 일들도', '견뎌냈던 우리잖아', '제발 그러지마라 아직 사랑하는 날', '너도 알고 있잖아', '매일밤 울며 전화하는 날', '낯설만큼 차가운 니 목소릴 들어도', '바보처럼 난 니가 행복하길 바래', '다시 나에게 너라는 기회가 온다면', '놓치지 않을텐데 니 손 꼭 잡을텐데', '니가 원했던 만큼', '많이 원했던 만큼', '잘해주지 못한 날', '미안해 용서해 이해해줘', '끝까지 이기적인거', '이것도 이해해줄래', '바보같은 날 마지막까지', '이렇게 마지막 까지 미안해', ' ']\n"
          ]
        },
        {
          "output_type": "stream",
          "name": "stderr",
          "text": [
            "\r147it [59:30, 24.07s/it]"
          ]
        },
        {
          "output_type": "stream",
          "name": "stdout",
          "text": [
            "40\n",
            "['살아도 사는 게 아니래', '너 없는 하늘에', '창 없는 감옥 같아서', '웃어도 웃는 게 아니래', '초라해 보이고', '우는 것 같아 보인대', '사랑해도 말 못 했던 나', '내색조차 할 수 없던 나', '나 잠이 드는 순간조차', '그리웠었지', '살다가 살다가 살다가 너 힘들 때', '나로 인한 슬픔으로', '후련할 때까지', '울다가 울다가 울다가 너 지칠 때', '정 힘들면 단 한 번만 기억하겠니', '살다가', '웃어도 웃는 게 아니래', '초라해 보이고', '우는 것 같아 보인대', '사랑해도 말 못 했던 나', '내색조차 할 수 없던 나', '나 잠이 드는 순간조차', '그리웠었지', '살다가 살다가 살다가 너 힘들 때', '나로 인한 슬픔으로', '후련할 때까지', '울다가 울다가 울다가 너 지칠 때', '정 힘들면 단 한 번만 기억하겠니', '우린 마지못해 웃는 거겠지', '우린 마지못해 살아가겠지', '내 곁에 있어도 나의 곁에 있어도', '눈물나니까', '살다가 살다가 살다가 너 힘들 때', '나로 인한 슬픔으로', '후련할 때까지', '태워도 태워도 태워도 남았다면', '남김없이 태워도 돼', '후련할 때까지', '나 살다가', '나 살다가']\n"
          ]
        },
        {
          "output_type": "stream",
          "name": "stderr",
          "text": [
            "\r148it [59:55, 24.12s/it]"
          ]
        },
        {
          "output_type": "stream",
          "name": "stdout",
          "text": [
            "37\n",
            "['어떤 말로 표현해야', '그대 알 수 있을까요', '어떤 맘을 담아내야만', '그대에게 전해질까', '하루 종일 눈에 아른거려서', '똑같은 매일을 보내고 있다고', '나의 맘이 부담이 돼', '그대가 달아날까 봐', '함께 있는 지금만으로도', '충분하다 생각했지만', '점점 커지는', '그댈 향한 마음에', '이젠 말을 하고 싶죠', '그댈 사랑하고 있어요', '꽤 오래전부터', '그대를 처음 본 후 지금까지', '내 마음이 한순간 네게 움찔했죠', '그때부터 나의', '세상은 달라졌죠', '그댄 아마 모르겠죠', '나의 이런 마음들을', '요동치는 소리까지도', '꼭 숨겼으니까', '난 아직도 많이 겁이 나지만', '이제는 용기 내볼게요', '그댈 사랑하고 있어요', '꽤 오래전부터', '그대를 처음 본 후 지금까지', '내 마음이 한순간 네게 움찔했죠', '그때부터 나의 세상은 달라졌죠', '곁에 있는 지금도 행복해', '여태껏 아껴뒀던 말', '그댈 사랑하고 있어요', '꽤 오래전부터', '혹시 그대도 나와 같길 기도하며', '내 마음이 한순간 네게 움찔했죠', '그때부터 나의 세상은 달라졌죠']\n"
          ]
        },
        {
          "output_type": "stream",
          "name": "stderr",
          "text": [
            "\r149it [1:00:17, 23.73s/it]"
          ]
        },
        {
          "output_type": "stream",
          "name": "stdout",
          "text": [
            "47\n",
            "['어떻게 보면 참', '전쟁 같았다 우리', '행복한 나날의', '수만큼 아프게 했던', '날들도 많았고', '울렸던 날도 많았어', '길었던 시간을 지켜줬던', '너야', '너를 너무 사랑해서', '그게 멀어지게 한 걸까', '어리숙한 내 잘못인가', '사랑이 식었다고', '솔직히 말해도 돼', '가슴 뛰는 설렘이', '네게', '온 거라고 나보다', '좋은 사람이', '너에게 생긴 거라고', '다른 핑계겠지', '우린 안 맞는다고', '질리게 들었어', '네 맘이 떠나간 후로', '혹시나 우리가', '괜찮은 시절에 만나', '잘해줬다면은', '우리 조금은 다를까', '너를 너무 사랑해서', '그게 멀어지게 한 걸까', '철이 없는 내 욕심인가', '사랑이 식었다고', '솔직히 말해도 돼', '가슴 뛰는 설렘이', '네게', '온 거라고 나보다', '좋은 사람이', '너에게 생긴 거라고', '아침이 까맣도록 취해', '잊으려 날 망가뜨려도', '남아 있는 너', '나보다 더 어디 가', '좋아서 떠난 거니', '인정하려 해봐도', '미워', '내가 좀 더 잘나서', '성공할 때쯤', '네 앞에 서 볼게', '그때 넌 홀로이기를']\n"
          ]
        },
        {
          "output_type": "stream",
          "name": "stderr",
          "text": [
            "\r150it [1:00:47, 25.34s/it]"
          ]
        },
        {
          "output_type": "stream",
          "name": "stdout",
          "text": [
            "32\n",
            "['이제는 밥을 먹어도 ', '눈물없이는 삼키지 못해 ', '억지로 먹고 먹어도 속이 늘 허전해 ', '노랠 들어도 흥얼대지도 못해 ', '영화를 봐도 내가 뭘 본건지 기억 못해 ', '밥도 잘 먹지 못해 ', '니가 생각날까봐 ', '니 생각에 체할까봐 ', '니가 떠난후로 오늘도 눈물로 하루를 먹고 살아 ', '버스도 타지못해 누가 날 욕할까봐 ', '우는 날 놀려댈까봐 ', '아무것도 못해 너없이 나혼자 살지못해 ', '이제는 술을 마셔도 눈물없이는 마시질못해 ', '아무리 병을 비워도 너만 더 생각해 ', '살아서 뭐해 넌 내곁에 없는데 ', '혼자 뭘 어째 아무것도 할 수 없는 난데 ', '밥도 잘 먹지 못해 니가 생각날까봐 ', '니생각에 체할까봐 니가 떠난후로 ', '오늘도 눈물로 하루를 먹고 살아 ', '버스도 타지못해 누가 날 욕할까봐 ', '우는 날 놀려댈까봐 아무것도 못해 ', '너없인 나 혼자 살지못해 ', '너없이 웃는 것도 난 못해 ', '너없이 걷는것도 난 못해 ', '아무것도 아무것도 못해 ', '내겐 니 사랑이 필요해 ', '혼자 살아서 뭐해 니가 더 잘알잖아 ', '너없이 나 안되잖아 ', '너밖에 몰라서 너없이 밥조차 먹지못하는 난데 ', '차마 죽지도 못해 니가 돌아올까봐 ', '언젠간 날 찾을 까봐 아무것도 못해 ', '오늘도 내일도 너만 원해 ']\n"
          ]
        },
        {
          "output_type": "stream",
          "name": "stderr",
          "text": [
            "\r151it [1:01:06, 23.67s/it]"
          ]
        },
        {
          "output_type": "stream",
          "name": "stdout",
          "text": [
            "47\n",
            "['내가 미안해 ', '이렇게 아플 줄도 모르고 ', '너에게 모질게도 대했던 바보야', '후회에 맘을 담아 봤자', '이미 끝난 걸 ', '이제 다시는', '너를 볼 수 없잖아', '거짓말이라도 ', '해서 널 보고싶어', '줄게 남아있다고 ', '억지를 부리곤', '한번 더 너를 보고싶어 ', '나 많이 구차하지만', '네 맘을 돌릴 수 있다면', '다시 날 사랑하게 할 수 있다면', '내가 그대를 기다릴게요', '어제는 하루 종일 펑펑 울었어 ', '아직까지도 너의 온기가', '내 맘을 감싸 안아서 ', '내 맘을 왜 몰라주냐며 ', '슬프게 울고 있던 너를 ', '그저 바라보기만 했었던 나야 ', '거짓말이라도 ', '해서 널 보고싶어', '줄게 남아있다고 ', '억지를 부리곤', '한번 더 너를 보고싶어 ', '나 많이 구차하지만', '네 맘을 돌릴 수 있다면', '다시 날 사랑하게 할 수 있다면', '내가 그대를 기다릴게요', '나를 버리지마', '내가 잘못했어', '잠시 동안 내가 미쳤었나봐', '가슴이 찢어질 듯이 아파 ', '제발 가지마', '내게 잘 지내라고 말하지마 ', '거짓말이었어', '확인받고 싶어서 ', '사랑받고 싶어서', '네 맘을 찢어놓고', '이기적인 사랑을 했었나봐', '내가 미친게 맞아', '이제 와서 후회가 돼', '그렇게 잘해줬던 너였는데 ', '내가 그대를 놓친 거에요', '나 같은 사람 만나지마요']\n"
          ]
        },
        {
          "output_type": "stream",
          "name": "stderr",
          "text": [
            "\r152it [1:01:35, 25.26s/it]"
          ]
        },
        {
          "output_type": "stream",
          "name": "stdout",
          "text": [
            "45\n",
            "['어제 너는 나를 버렸어', '나는 아무 변명하지 못하고', '얌전하게 집에 돌아와', '너무 피곤해 잠이 들었어', '눈이 떠지자마자 정신이 없지', '지각은 말이 안 돼 출근해야지', '시간이 모자라', '널 생각하고 아파하기엔', '내가 너무 바빠', '눈물이 맺혔을지도', '아닌가 졸린건지도', '어쩌면 널 좋아하지 않았었나봐', '연락을 기다릴지도', '아닌가 귀찮을지도', '어쩌면 널 사랑하진 않았었나봐', '이제 나는 너를 잊었어', '생각해 보니 오늘 하루 종일', '네 생각이 나질 않았고', '왠지 웃으며 잠이 들었어', '이별이 항상 지독할 필요는 없지', '우리도 각자 가던 길을 가야지', '못다 한 마음도', '전하지 못한 말도 많았지만', '내가 너무 바빠', '눈물이 맺혔을지도', '아닌가 졸린건지도', '어쩌면 널 좋아하지 않았었나봐', '연락을 기다릴지도', '아닌가 귀찮을지도', '어쩌면 널 사랑하진 않았었나봐', '아냐 그랬을 리가 없지', '너 없인 살 수 없었던', '꿈같은 날들이 있었지', '나를 안아주던 숨결도', '빛이 나던 그 입술도', '시간을 되돌려 갈 수 있다 해도', '이젠 너무 바빠', '눈물은 말랐을지도', '이대로 괜찮을지도', '어쩌면 널 기다리지 않을건가봐', '마음이 죽은걸지도', '차갑게 굳어질지도', '어쩌면 널 사랑하지 않을건가봐', '이제 나는 너를 잊었어', '아쉬울게 하나도 없어']\n"
          ]
        },
        {
          "output_type": "stream",
          "name": "stderr",
          "text": [
            "\r153it [1:02:03, 25.91s/it]"
          ]
        },
        {
          "output_type": "stream",
          "name": "stdout",
          "text": [
            "31\n",
            "['가을 우체국 앞에서', '그대를 기다리다', '노오란 은행잎들이', '바람에 날려가고', '지나는 사람들 같이', '저 멀리 가는걸 보내', '세상에 아름다운 것들이', '얼마나 오래 남을까', '한여름 소나기 쏟아져도', '굳세게 버틴 꽃들과', '지난 겨울 눈보라에도', '우뚝 서있는 나무들같이', '하늘아래 모든 것이', '저 홀로 설 수 있을까', '가을 우체국 앞에서', '그대를 기다리다', '우연한 생각에 빠져', '날 저물도록 몰랐네', '세상에 아름다운 것들이', '얼마나 오래 남을까', '한여름 소나기 쏟아져도', '굳세게 버틴 꽃들과', '지난 겨울 눈보라에도', '우뚝 서있는 나무들같이', '하늘아래 모든 것이', '저 홀로 설 수 있을까', '가을 우체국 앞에서', '그대를 기다리다', '우연한 생각에 빠져', '날 저물도록 몰랐네', '날 저물도록 몰랐네']\n"
          ]
        },
        {
          "output_type": "stream",
          "name": "stderr",
          "text": [
            "\r154it [1:02:22, 23.81s/it]"
          ]
        },
        {
          "output_type": "stream",
          "name": "stdout",
          "text": [
            "28\n",
            "['후회 하고 있어요 ', '우리 다투던 그 날 ', '괜한 자존심 때문에 ', '끝내자고 말을 해버린거야 ', '금방 볼 줄 알았어 ', '날 찾길 바래왔어 ', '허나 며칠이 지나도 ', '아무 소식조차 없어 ', '항상 내게 너무 잘해줘서', '쉽게 생각했나봐 ', '이젠 알아 내 고집때문에 ', '힘들었던 너를 ', '이 바보야 진짜 아니야 ', '아직도 나를 그렇게 몰라 ', '너를 가진 사람 나밖엔 없는데  ', '제발 나를 떠나가지마 ', '언제라도 내 편이 돼준 너 ', '고마운 줄 모르고 ', '철없이 나 멋대로한 거 ', '용서할 수 없니 ', '이 바보야 진짜 아니야 ', '아직도 나를 그렇게 몰라 ', '너를 가진 사람 나 밖엔 없는데  ', '제발 떠나가지마 ', '너 하나만 사랑하는데 ', '이대로 나를 두고 가지마 ', '나를 버리지마 그냥 날 안아줘 ', '다시 사랑하게 돌아와 ']\n"
          ]
        },
        {
          "output_type": "stream",
          "name": "stderr",
          "text": [
            "\r155it [1:02:39, 21.86s/it]"
          ]
        },
        {
          "output_type": "stream",
          "name": "stdout",
          "text": [
            "43\n",
            "['따스한 바람이 불어오는 날엔', '포근한 미소로 나를 또 반겨주던', '그대란 사람 설레는 이 맘', '이렇게 난 너에게 빠졌나 봐', '무심한 듯 곁을 지켜주던 그대', '느껴본 적 없는 이런 설렘이', '누군가를 짝사랑하는 마음인가 봐', '그냥 아쉬움만 남는걸', '이렇게 좋아해 본 적이 없어요', '눈만 뜨면 그대가 참 보고 싶어요', '오늘은 그대 내 곁에서', '그저 머물러줘요', '그리고 내 손잡아 주세요', '꼭 안아 주세요', '나를 데려다주던 그날 밤', '문득 내게 건넨 그 한마디에', '괜스레 얼굴이 붉어지고', '조심스럽게 oh oh oh', '그대에게 oh oh oh', '사랑스러운 그대 귓가에', '속삭여줄게요', '사실 그대와 있던 모든 순간은', '내게는 소중하고 너무나 고마워서', '정말 아름다워요', '조심스럽게 oh oh oh', '그대에게 oh oh oh', '사랑스러운 그대 귓가에 고백해볼게요', '이렇게 좋아해 본 적이 없어요', '눈만 뜨면 그대가 참 보고 싶어요', '오늘은 그대 내 곁에서', '그저 머물러줘요', '그리고 내 손잡아 주세요', '꼭 안아 주세요', '부담스럽지 않게 다가가 볼게요', '부디 날 미워하지 말아요', '그저 매일 이렇게 날 보며 웃어줘요', '더는 바랄 게 하나 없죠', '이렇게 좋아해 본 적이 없어요', '눈만 뜨면 그대가 참 보고 싶어요', '오늘은 그대 내 곁에서', '그저 머물러줘요', '그리고 내 손잡아 주세요', '꼭 안아 주세요']\n"
          ]
        },
        {
          "output_type": "stream",
          "name": "stderr",
          "text": [
            "\r156it [1:03:05, 23.19s/it]"
          ]
        },
        {
          "output_type": "stream",
          "name": "stdout",
          "text": [
            "41\n",
            "['시간을 되돌리면', '기억도 지워질까', '해볼 수도 없는 말들을', '내뱉는 걸 알아', '널 힘들게 했고', '눈물로 살게 했던', '미안한 마음에 그런 거야', '하지만 난 말야', '너의 밖에선 살 수 없어', '내겐 너 하나로', '물든 시간만이 흘러갈 뿐이야', '사랑해요 고마워요', '따뜻하게 나를 안아줘', '이 사랑 땜에 나는 살 수 있어 ', '사랑은 그런가봐', '무슨 말을 해봐도', '채워지지 않은 것 같은', '마음이 드나봐', '내 욕심이라고', '다시 생각을 해봐도', '그 마음 쉽게 사라지지 않아', '알잖아 난 말야', '너의 밖에선 살 수 없어', '내겐 너 하나로', '물든 시간만이 흘러갈 뿐이야', '사랑해요 고마워요', '따뜻하게 나를 안아줘', '이 사랑 땜에 나는 살 수 있어 ', '돌아가도 다시 견딜 수 있을까', '너무 힘들던 시간들', '흔들리지 않은 너를 볼 때면', '떨리는 내 입술이', '두루루 두루루', '알잖아 난 말야', '너의 밖에선 살 수 없어', '내겐 너 하나로', '물든 시간만이 흘러갈 뿐이야', '사랑해요 고마워요', '따뜻하게 나를 안아줘', '이 사랑 땜에 나는 살 수 있어 ', '사랑 땜에 나는 살 수 있어 ']\n"
          ]
        },
        {
          "output_type": "stream",
          "name": "stderr",
          "text": [
            "\r157it [1:03:31, 23.86s/it]"
          ]
        },
        {
          "output_type": "stream",
          "name": "stdout",
          "text": [
            "40\n",
            "['바람을 타고 날아오르는', '새들은 걱정 없이', '아름다운 태양 속으로', '음표가 되어 나네', '향기 나는 연필로 쓴 일기처럼', '숨겨두었던 마음', '기댈 수 있는 어깨가 있어', '비가 와도 젖지 않아', '어제의 일들은 잊어', '누구나 조금씩은 틀려', '완벽한 사람은 없어', '실수투성이고 외로운 나를 봐', '난 다시 태어난 것만 같아', '그대를 만나고부터', '그대 나의 초라한 마음을', '받아준 순간부터 랄라라릴라', '하루하루 조금씩 나아질 거야', '그대가 지켜보니', '힘을 내야지 행복해져야지', '뒤뜰에 핀 꽃들처럼', '점심을 함께 먹어야지', '새로 연 그 가게에서', '새 샴푸를 사러 가야지', '아침 하늘빛의 민트향이면 어떨까', '난 다시 꿈을 꾸게 되었어', '그대를 만나고부터', '그대 나의 초라한', '마음을 받아준 순간부터 랄라라릴라', '월요일도 화요일도 봄에도', '겨울에도 해가 질 무렵에도', '비둘기를 안은 아이같이', '행복해줘 나를 위해서', '난 다시 태어난 것만 같아', '그대를 만나고부터', '그대 나의 초라한 마음을', '받아준 순간부터 랄라라릴라', '난 다시 꿈을 꾸게 되었어', '그대를 만나고부터', '그대 나의 초라한 마음을', '받아준 순간부터 랄라라릴라']\n"
          ]
        },
        {
          "output_type": "stream",
          "name": "stderr",
          "text": [
            "\r158it [1:03:55, 24.04s/it]"
          ]
        },
        {
          "output_type": "stream",
          "name": "stdout",
          "text": [
            "50\n",
            "['My life is incomplete', 'It’s Missing you', '오늘도 하루를 보내 다를 게 없이', '하나도 안 어색해 혼자 있는 게', '너 없인 안될 것 같던 내가 이렇게 살아', '근데 좀 허전해 난 여전히 거기 있나 봐', '후련하게 다 털어내 다 다', '지난 일에 마음 쓰는 게 ', 'It’s alright', '답이 잘 보이는가 싶다가도', '어느새 날 가두는 감옥이 돼', '시간은 앞으로만 가는 걸 어째', '그 동안 난 아무것도 이룬 것이 없네', '아직도 내 마음속엔 너 Oh oh', '너를 그리워하다 하루가 다 지났어', '너를 그리워하다 일 년이 가버렸어', '난 그냥 그렇게 살아', '너를 그리워하다 그리워하다', '다 괜찮을 거라 되뇌어 봐도', '내 하루에 끝엔 또 너로 남아', '너 없인 안될 것 같던 내가 이렇게 살아', '사실 좀 허전해 넌 여전히 여기 있나 봐', '내 마음은 여전해 아직 너를 원해', '몇 년이 지나도 난 아직 널 그리워해', '난 아직 기억해 우리 처음 봤을 때', '네 옷차림과 머리 스타일도 ', '다 정확하게', 'I pray for you every night and day', 'I hope that someday soon ', 'I can see you once again', '아직도 내 마음속엔 너 Oh oh', '너를 그리워하다 하루가 다 지났어', '너를 그리워하다 일 년이 가버렸어', '난 그냥 그렇게 살아', '너를 그리워하다 그리워하다', '잠에서 깨어 헝클어진 머리처럼 ', '내 일상도', '꽤나 엉망이 돼버렸어 책임져', '아무렇지 않은 척 ', '드리워진 표정도 내 모든 곳에', '스며든 네 흔적도 다 책임져 아직도 난', '잊을 수 없나 봐 다시 돌아와 줘', '또다시 같은 엔딩이라 해도 너', '너를 그리워하다 하루가 다 지났어', '너를 그리워하다 일 년이 가버렸어', '너를 잊으려 하다 하루가 지나가도', '너를 지우려 하다 일 년이 가버려도', '난 그냥 그렇게 살아', '너를 그리워하다 그리워하다', '그리워하다 그리워하다']\n"
          ]
        },
        {
          "output_type": "stream",
          "name": "stderr",
          "text": [
            "\r159it [1:04:26, 26.08s/it]"
          ]
        },
        {
          "output_type": "stream",
          "name": "stdout",
          "text": [
            "33\n",
            "['흐르는 물결이', '내 발목에 감겨 나가면 ', '깊은 곳에 숨겨둔 아픈 기억', '모두 살아나고', '어디에 기대 살아갈까 ', '나를 스쳐가는 ', '그 모든 것들이 상처인데', '그댈 그린 밤들이', '내게 욕심이란 걸 맘 아프게 알아 ', '나를 택한 운명이', '행여 그댈 맴돌아 붙잡지 못하게 ', '이제 그대 곁에서 떠나가 ', '내뱉는 숨마다', '가시 돋친 고통이어서 ', '깊은 곳에 숨겨둔 사랑 또한', '그저 지워 내고', '어디에 기대 살아갈까 ', '나를 스쳐가는 ', '그 모든 것들이 상처인데', '그댈 그린 밤들이', '내게 사치라는 걸 맘 아프게 알아 ', '나를 택한 운명이', '행여 그댈 맴돌아 붙잡지 못하게 ', '이제 그대 곁에서 떠나가', '언젠가 그대 곁에 ', '다시 돌아갈 수 있다면', '그때가 언제라도 ', '나를 잊지 않았다면 ', '그댈 그린 날들이', '내게 마지막 남은 기쁨이었단 걸 ', '내가 택한 운명이', '다른 무엇이 아닌 그대뿐이라는 걸', '이제 그대 곁에서 영원히']\n"
          ]
        },
        {
          "output_type": "stream",
          "name": "stderr",
          "text": [
            "\r160it [1:04:46, 24.36s/it]"
          ]
        },
        {
          "output_type": "stream",
          "name": "stdout",
          "text": [
            "44\n",
            "['넌 어땠는지 아직 여름이 남아', '왠지 난 조금 지쳤던 하루', '광화문 가로수 은행잎 물들 때', '그제야 고갤 들었었나 봐', '눈이 부시게 반짝이던 우리 둘은', '이미 남이 되었잖아', '네 품 안에서 세상이 내 것이었던', '철없던 시절은 안녕', '오늘 바보처럼 그 자리에 서 있는', '거야', '비가 내리면 흠뻑 젖으며', '오지 않는 너를 기다려', '나는 행복했어', '그 손 잡고 걷던 기억에 또 뒤돌아', '봐', '네가 서 있을까 봐', '난 모르겠어 세상 살아가는 게', '늘 다른 누굴 찾는 일 인지', '커피 향 가득한 이 길 찾아오며', '그제야 조금 웃었던 나야', '처음이었어 그토록 날 떨리게 한', '사람은 너 뿐이잖아', '누구보다 더 사랑스럽던 네가 왜', '내게서 떠나갔는지', '오늘 바보처럼 그 자리에 서 있는', '거야', '비가 내리면 흠뻑 젖으며', '오지 않는 너를 기다려', '나는 행복했어', '그 손 잡고 걷던 기억에 또 뒤돌아', '봐', '네가 서 있을까 봐', '그 자리에서 매일 알아가', '조금씩 변해가는 내 모습은', '먼 훗날엔 그저 웃어줘', '난 행복해', '오늘 여긴 그 때처럼 아름다우니', '괜히 바보처럼 이 자리에 서 있는', '거야', '비가 내리면 흠뻑 젖으며', '오지 않는 너를 기다려', '나는 행복했어', '광화문 이 길을 다시 한번 뒤돌아 봐', '네가 서 있을까 봐']\n"
          ]
        },
        {
          "output_type": "stream",
          "name": "stderr",
          "text": [
            "\r161it [1:05:13, 25.07s/it]"
          ]
        },
        {
          "output_type": "stream",
          "name": "stdout",
          "text": [
            "42\n",
            "['만약에 내가 간다면', '내가 다가간다면', '넌 어떻게 생각할까', '용길 낼 수 없고', '만약에 니가 간다면', '니가 떠나간다면', '널 어떻게 보내야 할지', '자꾸 겁이 나는 걸', '내가 바보 같아서', '바라볼 수 밖에만', '없는 건 아마도', '외면할지도 모를', '니 마음과 또 그래서', '더 멀어질 사이가 될까봐', '정말 바보 같아서', '사랑한다 하지', '못하는 건 아마도', '만남 뒤에 기다리는 아픔에', '슬픈 나날들이', '두려워서인가봐', '만약에 니가 온다면', '니가 다가온다면', '난 어떻게 해야만 할지', '정말 알 수 없는 걸', '내가 바보 같아서', '바라볼 수 밖에만', '없는 건 아마도', '외면할지도 모를', '니 마음과 또 그래서', '더 멀어질 사이가 될까봐', '정말 바보같아서', '사랑한다 하지', '못하는 건 아마도', '만남 뒤에 기다리는 아픔에', '슬픈 나날들이', '두려워서인가봐', '내가 바보 같아서', '사랑한다 하지 못하는 건 아마도', '만남 뒤에 기다리는 아픔에', '슬픈 나날들이', '두려워서인가봐', ' ']\n"
          ]
        },
        {
          "output_type": "stream",
          "name": "stderr",
          "text": [
            "\r162it [1:05:39, 25.38s/it]"
          ]
        },
        {
          "output_type": "stream",
          "name": "stdout",
          "text": [
            "36\n",
            "['술이 한 잔 생각나는 밤 같이', '있는 것 같아요 ', '그 좋았던 시절들 이젠 모두 ', '한숨만 되네요 ', '떠나는 그대 얼굴이 혹시 ', '울지나 않을까 ', '나 먼저 돌아섰죠 그때부터 ', '그리워요 ', '사람이 변하는 걸요 다시 ', '전보다 그댈 원해요 ', '이렇게 취할때면 꺼져버린 ', '전화를 붙잡고 ', '여보세요 나야 거기 잘 지내니 ', '여보세요 왜 말 안하니 ', '울고 있니 내가 오랜만이라서 ', '사랑하는 사람이라서 ', '그대 소중한 마음 밀쳐낸 ', '이기적인 그때의 나에게 ', '그대를 다시 불러오라고 ', '미친듯이 외쳤어 ', '떠나는 그대 얼굴이 마치 ', '처음과 같아서 ', '나 눈물이 났어요 그때부터 ', '그리워요 ', '사람이 변하는 걸요 다시 ', '전보다 그댈 원해요 ', '이렇게 취할때면 바뀌어버린 ', '전화번홀 누르고  ', '여보세요 나야 거기 잘 지내니 ', '오랜만이야 내 사랑아 ', '그대를 다시 불러오라고 ', '미친듯이 울었어 우 ', '여보세요 나야 정말 미안해 ', '이기적인 그때의 나에게 ', '그대를 다시 불러오라고 ', '미친듯이 외쳤어 ']\n"
          ]
        },
        {
          "output_type": "stream",
          "name": "stderr",
          "text": [
            "\r163it [1:06:01, 24.35s/it]"
          ]
        },
        {
          "output_type": "stream",
          "name": "stdout",
          "text": [
            "44\n",
            "['꽃 잎이 내 맘을 흔들고 ', '꽃 잎이 내 눈을 적시고 ', '아름다운 기억 ', '푸른 하늘만 ', '바라본다', '꼬마야 약해지지마 ', '슬픔을 혼자 안고 살지는 마 ', '아빠야 어디를 가야 ', '당신의 마음처럼 살 수 있을까 ', '가장 큰 별이 보이는 우리 동네 ', '따뜻한 햇살 꽃이 피는 봄에', '그댈 위로해요 그댈 사랑해요 ', '그대만의 노래로 ', '뚜루뚜뚜두 두두두', '뚜루뚜뚜두 두두두', '뚜루뚜뚜두 두두두', '하늘바라기 하늘만 멍하니 ', '가장 큰 하늘이 있잖아', '그대가 내 하늘이잖아', '후회 없는 삶들', '가난했던 추억', '난 행복했다', '아빠야 약해지지마 ', '빗속을 걸어도 난 감사하니깐 ', '아빠야 어디를 가야 ', '당신의 마음처럼 살 수 있을까 ', '가장 큰 별이 보이는 우리 동네 ', '따뜻한 햇살 꽃이 피는 봄에', '그댈 위로해요 그댈 사랑해요 ', '그대만의 노래로 ', '따뜻한 바람이 부는 봄 내음', '그대와 이 길을 함께 걷네 ', '아련한 내 맘이 겨우 닿는 곳에', '익숙한 골목 뒤에 숨어있다가', '그대 오기만 오기만', '기다린 그때가 자꾸만 떠올라', '가장 큰 별이 보이는 우리 동네 ', '따뜻한 햇살 꽃이 피는 봄에', '그댈 위로해요 그댈 사랑해요 ', '그대만의 노래로 ', '뚜루뚜뚜두 두두두', '뚜루뚜뚜두 두두두', '뚜루뚜뚜두 두두두', '하늘바라기 하늘만 멍하니']\n"
          ]
        },
        {
          "output_type": "stream",
          "name": "stderr",
          "text": [
            "\r164it [1:06:28, 25.22s/it]"
          ]
        },
        {
          "output_type": "stream",
          "name": "stdout",
          "text": [
            "50\n",
            "['니 생각에 꽤 즐겁고 ', '니 생각에 퍽 외로워 ', '이상한 일이야  ', '누굴 좋아한단 건 ', '아무 일도 없는 저녁 ', '집 앞을 걷다  ', '밤 공기가 좋아서 ', '뜬금없이 이렇게  ', '니가 보고 싶어', '참 묘한 일이야 사랑은 ', '좋아서 그립고  ', '그리워서 외로워져 ', '이게 다 무슨 일일까 ', '내 맘이 내 맘이 아닌걸 ', '이제와 어떡해  ', '모든 시간 모든 공간 ', '내 주위엔 온통  ', '너뿐인 것 같아 묘해 ', '보고 싶어 신기하고 ', '신기해서 보고 싶고 ', '그러다 한 순간  ', '미친 듯 불안하고 ', '아무렇지도 않은데 ', '햇살에 울컥  ', '눈물이 날 것 같고 ', '그러다가 니 전화  ', '한 통에 다 낫고 ', '참 묘한 일이야 사랑은 ', '아파서 고맙고  ', '고마워서 대견해져 ', '이게 다 무슨 일일까 ', '이 길이 그 길이 아닌걸 ', '모르고 떠나온  ', '여행처럼 낯설지만 ', '그래서 한번 더  ', '가보고 싶어져 너와 ', '이렇게 너를 바라볼 때 ', '뭐랄까 나는  ', '행복한 채로 두려워져  ', '참 묘한 일이야 사랑은', '좋아서 그립고 ', '그리워서 외로워져', '이게 다 무슨 일일까', '내 맘이 내 맘이 아닌걸', '이제와 어떡해 ', '모든 시간 모든 공간', '내 주위엔 온통 ', '너뿐인 것 같아 묘해', '그래서 한번 더 ', '가보고 싶어져 너와']\n"
          ]
        },
        {
          "output_type": "stream",
          "name": "stderr",
          "text": [
            "\r165it [1:06:59, 26.90s/it]"
          ]
        },
        {
          "output_type": "stream",
          "name": "stdout",
          "text": [
            "38\n",
            "['어디로 갈지 모르잖아요', '그대 서둘러 내게 와 줘요', '노을 진 밤하늘을', '둘이서 보고 싶어요', '지난날들 수 놓으며', '미련 남았던 것은', '내 맘에 내 맘에 주세요', '그대의 고운 손에 사랑을 드릴게요', '길 잃은 둘이서 떠나요', '더 이상 헤매지 말아요', '정처 없이 가는 곳이라도', '같은 별을 보며 걸어가요', '어디든 행복할 거예요', '그대여 그대여', '그대 내 맘에 와 줘요', '두 눈을 잠시 감아 보아요', '좀 더 조용히 그댈 느껴요', '싸늘한 겨울에도', '따스한 계절 같아요', '그댄 내게 꽃이라서', '다시 돌릴 수 없는', '지나간 시간은 버리고', '내 마음 한구석에 그대 자리로 와요', '길 잃은 둘이서 떠나요', '더 이상 헤매지 말아요', '정처 없이 가는 곳이라도', '같은 별을 보며 걸어가요', '어디든 행복할 거예요', '내게 와 줘요', '무슨 짓을 해도 사랑스러', '멈춰 있던 나를', '숨을 쉬게 하는 그대여 내게 와요', '살아갈 날이 더 많아요', '우리가 함께할 모든 날', '봄을 지나 여름 가을에도', '추운 겨울바람 불어와도', '언제나 행복할 거예요', '그대여 그대여 그대 내 맘에 와 줘요']\n"
          ]
        },
        {
          "output_type": "stream",
          "name": "stderr",
          "text": [
            "\r166it [1:07:23, 25.85s/it]"
          ]
        },
        {
          "output_type": "stream",
          "name": "stdout",
          "text": [
            "30\n",
            "['널 처음 사진으로 본 그날', '구십구년 일월 삼십일일', '그날 이후 지금 이 순간까지', '나 하나만 기다려준 너를', '오늘도 습관 같은 내 전화', '따스히 받아 주는 너에게', '세상 가장 행복한 사람으로', '만들어 준 너를 너무 사랑해', '사랑하게 될 줄 알았어', '우리 처음 만난 그날에', '시간 속에 희미해지는 사랑에', '그대가 흔들린대도', '그땐 내가 잡을게요 그대처럼', '너무 편한 사이가 싫어서', '너무 오랜 사랑 힘들어서', '아픈 눈물 흘리는 널 돌아선', '못된 내 마음도 기다려준 너를', '사랑하게 될 줄 알았어', '우리 처음 만난 그날에', '시간 속에 희미해지는 사랑에', '그대가 흔들린대도', '그땐 내가 잡을게요 그대처럼', '얼마나 힘들었을까 못난 내 눈물도', '따스히 감싸준 너를', '오 사랑하게 될 줄 알았어', '우리 처음 만난 그날에', '시간 속에 희미해지는 사랑에', '그대가 흔들린대도 내가 잡을게요', '아무 걱정 마요 내 손을 잡아요', '처음 그날처럼 우리']\n"
          ]
        },
        {
          "output_type": "stream",
          "name": "stderr",
          "text": [
            "\r167it [1:07:41, 23.68s/it]"
          ]
        },
        {
          "output_type": "stream",
          "name": "stdout",
          "text": [
            "26\n",
            "['잘 지내 보여 너는 ', '아무 일 없는 듯 참 분주해 보여', '딱히 신경 쓸 것도 ', '걱정해 줄 일도 없는 사람처럼', '잠깐 동안 편했어', '힘들게 하던 니가 없어서', '떠나 보니 좀 어때 생각처럼 넌 편해 ', '너를 놓치고 매일 후회하며 지냈어', '나만 그랬나 봐 ', '축 처진 어깨를 활짝 피라며 ', '날 토닥이고 갔어', '네 유별난 사랑을 문제 삼았던 ', '나를 용서해 ', '떠나 보니 좀 어때 생각처럼 넌 편해 ', '너를 놓치고 매일 후회하며 지냈어 ', '나만 그랬나 봐 ', '축 처진 어깨를 활짝 피라며 ', '날 토닥이고 갔어', '위태로운 우리 ', '너는 지켜내려 붙잡고 있었어', '되려 화를 내고 너를 지치게 하고 ', '니가 다 문제라며 미친 소릴 했어', '너 없이 나는 안돼 이렇게 널 못 보내', '나는 아직도 못 해준 게 너무 많은데', '이렇게 외쳐도 굳어진 네 맘을 ', '돌릴 수 없는 내가 너무 밉다']\n"
          ]
        },
        {
          "output_type": "stream",
          "name": "stderr",
          "text": [
            "\r168it [1:07:57, 21.26s/it]"
          ]
        },
        {
          "output_type": "stream",
          "name": "stdout",
          "text": [
            "49\n",
            "['인정하기 싫지만', '오늘 참 예쁘다', '너의 옆에 그 사람도', '좋아 보여', '긴장이 됐는지', '입술 깨무는 게', '여전히 내가 기억한', '넌 그대로구나', '널 축하해 주려', '모여든 많은 사람을 보니', '그제서야 난 실감이 나', '네가 좋아하던 이 노래를', '너를 보내는 순간에', '부를 줄은 몰랐어', '나와 결혼해줘', '너만 생각한 우리얘기가', '오늘따라 왜 이렇게 아픈지', '넌 모를 거야', '나를 알아보는', '너의 친구들은', '이런 내 맘을 아는지', '날 피해 가더라', '축하해 잘 살아', '이런 말들을 해야 하는데', '왜 좋은 말이 안 나올까', '네가 좋아하던 이 노래를', '너를 보내는 순간에', '부를 줄은 몰랐어', '나와 결혼해줘', '너만 생각한 우리 얘기가', '오늘따라 왜 이렇게 아플까', '여기 많은 사람들 앞에', 'Oh 널 축하해야 하는 내가 싫어서', '저 문으로 나가고 나면 끝인걸', '미안해 오늘같이 기쁜 날', '축하는 못 할 거 같아', '네 옆에 그 사람 나였다면', '이제 와 소용없지만', '미치도록 후회해', '너를 위한 노래', '그 마지막 끝에 하고 싶은 말', '네 자리는 바로 여기 내 옆에', '여기 있잖아', '왜 그런 슬픈 눈으로', '왜 나를 바라보는데', '이건 아닐 거야', '거짓말이라 얘기 좀 해줘', '저 문으로 걸어나가기 전에', '날 붙잡아줘']\n"
          ]
        },
        {
          "output_type": "stream",
          "name": "stderr",
          "text": [
            "\r169it [1:08:27, 23.99s/it]"
          ]
        },
        {
          "output_type": "stream",
          "name": "stdout",
          "text": [
            "56\n",
            "['하루가 가는 소릴 들어', '너없는 세상속에', '달이 저물고', '해가뜨는 서러움', '한날도 한시도', '못살것 같더니 ', '그저 이렇게', '그리워하며 살아', '어디서부터 잊어갈까', '오늘도 기억속에', '니가 찾아와', '하루종일 떠들어', '니말투 니표정', '너무 분명해서', '마치 지금도 내곁에 ', '니가 사는 것 만 같아', '사랑인걸 사랑인걸', '지워봐도 사랑인걸', '아무리 밀어내도', '내안에는 너만살아', '너하나만 너하나만', '기억하고 원하는걸', '보고픈 너의 사진을', '꺼내어 보다 잠들어', '어디서부터 잊어갈까', '오늘도 기억속에 ', '니가 찾아와', '하루종일 떠들어', '니말투 니표정', '너무 분명해서', '마치 지금도 내곁에', '니가 사는 것 만 같아', '사랑인걸 사랑인걸', '지워봐도 사랑인걸', '아무리 밀어내도', '내안에는 너만 살아', '너하나만 너하나만', '기억하고 원하는걸', '보고픈 너의 사진을', '꺼내어 보다 잠들어', '잠결에 흐르던', '눈물이 곧 말라가듯', '조금씩 흐려지겠지', '손내밀면 닿을 듯', '아직은 눈에 선한 니얼굴', '사랑해 사랑해', '잊으면 안돼', '너만보고 너만알고', '너만위해 살았던 날', '마음둘 곳을 몰라', '하루가 일년같아', '아무것도 아무일도', '아무말도 못하는 나', '그래도 사랑을 믿어', '그래도 사랑을 믿어', '오늘도 사랑을 믿어']\n"
          ]
        },
        {
          "output_type": "stream",
          "name": "stderr",
          "text": [
            "\r170it [1:09:02, 27.29s/it]"
          ]
        },
        {
          "output_type": "stream",
          "name": "stdout",
          "text": [
            "49\n",
            "['찢어진 종잇조각에 ', '담아낸 나의 진심에', \"선명해져 somethin' bout you\", 'Yeah 나를 많이 닮은 듯 다른', '넌 혹시 나와 같을까 지금', '괜한 기대를 해', '하루 한 달 일 년쯤 되면', '서로 다른 일상을 살아가', '나는 아니야', '쉽지 않을 것 같아', '여전하게도 넌 내 하루하루를 채우고', '아직은 아니야', '바보처럼 되뇌는 나', '입가에 맴도는 말을 삼킬 수 없어', 'It’s not fine', 'Ah- Ah- Ah- Ah- ', 'It’s not fine', '머릴 질끈 묶은 채', '어지러운 방을 정리해', \"찾고 있어 somethin' new\", '가끔 이렇게 감당할 수 없는', '뭐라도 해야 할 것만 같은 기분에', '괜히 움직이곤 해', '하루 한 달 일 년 그 쯤이면', '웃으며 추억할 거라 했지만', '나는 아니야', '쉽지 않을 것 같아', '여전하게도 넌 내 하루하루를 채우고', '아직은 아니야', '바보처럼 되뇌는 나', '입가에 맴도는 말을 삼킬 수 없어', 'It’s not fine', 'Ah- Ah- Ah- Ah- ', 'It’s not fine', '의미 없는 농담 주고받는 대화', '사람들 틈에 난 아무렇지 않아 보여', '무딘 척 웃음을 지어 보이며', '너란 그늘을 애써 외면해보지만', '우리 마지막', '그 순간이 자꾸 떠올라', '잘 지내란 말이 전부였던 담담한 이별', '아직은 아니야', '바보처럼 되뇌는 그 말', '입가에 맴도는 말을 삼킬 수 없어 ', 'It’s not fine', 'Ah- Ah- Ah- ', 'It’s not fine', 'Ah- Ah- Ah- ', 'It’s not fine']\n"
          ]
        },
        {
          "output_type": "stream",
          "name": "stderr",
          "text": [
            "\r171it [1:09:33, 28.47s/it]"
          ]
        },
        {
          "output_type": "stream",
          "name": "stdout",
          "text": [
            "28\n",
            "['많이 어렸었나 봐', '같은 시간 속에 영원할 것 같던 우리', '항상 웃어주던 너라서', '생각해본 적 없던 이별이라서', '더 아파', '조금 지나면 괜찮을 줄 알았어', '어제까지만 아프길 바랬어', '가끔 돌이켜 생각해 보면', '주변 사람들 모두', '참 예쁘다 말해주던 우리였는데', '어떻게 내가 널 잊고 살아', '고작 이별이라는 게 쉬울 줄 알았어', '잘해준 기억보다 더 받은 추억이 많아서', '아직은 안 되나 봐', '오늘도 난 여전히 너야', '시간 지나면 괜찮을 줄 알았어', '좋은 추억들로 남기를 바랬어', '지금 돌이켜 생각해 보면', '왜 그땐 몰랐을까', '네 맘 하나 눈치 못 챈 내가 미워서', '어떻게 내가 널 잊고 살아', '고작 이별이라는 게 쉬울 줄 알았어', '잘해준 기억보다 더 받은 추억이 많아서', '아직은 안 되나 봐', '어떻게 내가 널 지우고 살아', '사랑이라는 게 쉬울 줄 알았어', '잘해준 기억보다 받은 추억이 더 많아서', '오늘도 난 여전히 너야']\n"
          ]
        },
        {
          "output_type": "stream",
          "name": "stderr",
          "text": [
            "\r172it [1:09:50, 25.06s/it]"
          ]
        },
        {
          "output_type": "stream",
          "name": "stdout",
          "text": [
            "35\n",
            "['편해지고 변해가고', '자연스러운 그런 과정', '시도 때도 없이 다투면서', '불안해진 마음', '더는 멀어지기 싫은데', '말 못 했던 얘기들을', '말해봐도 너의 한숨뿐', '쌓여왔던 오해가 깊어져', '나도 지쳤는데', '너는 아무 말이 없었어', '사랑은 지날수록 더욱 선명하게 남아', '우리의 감정이 모자라서 그랬었나 봐', '이별은 떠나볼수록', '다시 깨닫게 해줘서', '아름다웠던 우리가 그리운데', '문득 지금 생각이 나', '무슨 이유인지 모르겠어', '아마도 널 사랑한 기억이', '감싸고 있나 봐', '너는 또 아무 말 없지만', '사랑은 지날수록 더욱 선명하게 남아', '우리의 감정이 모자라서 그랬었나 봐', '이별은 떠나볼수록', '다시 깨닫게 해줘서', '아름다웠던 우리가 그리운데', '끝난 인연을 난 왜 이러는지', '가끔 한 번씩은 마주쳐줄래', '그렇게 해줘 그렇게 하면', '아주 조금은 괜찮을 거 같아', '사랑은 지날수록 더욱 흩어지지 않아', '좋았던 시간이 가득해서', '그런 건가 봐', '이별의 시린 날들은', '다시 깨닫게 해줘서', '아름다웠던 그때가 그리운데']\n"
          ]
        },
        {
          "output_type": "stream",
          "name": "stderr",
          "text": [
            "\r173it [1:10:12, 24.06s/it]"
          ]
        },
        {
          "output_type": "stream",
          "name": "stdout",
          "text": [
            "32\n",
            "['잠깐 기다려줄래 ', '지금 데리러 갈게 ', '왜 자꾸 울기만 하니 ', '말해 말해 어디에 있니 ', '니가 사랑하는 사람이 ', '너를 두고 간 거니 ', '집으로 데려다 줄게 ', '가자 가자 바람이 차가우니까 ', '너를 울리는 그 사람이 ', '뭐가 그렇게 좋으니 ', '너는 모르지 너만 모르지 ', '너를 사랑하는 내 맘을 ', '걸음이 느린 내가 ', '먼저 가지 못해서 ', '내 자릴 뺏긴 아픈 사랑을 ', '너의 웃는 모습이 ', '누구 보다 예쁜지 ', '그 사람 알기나 하니 ', '정말 정말 알고도 너를 울리니 ', '이름 모르는 당신에게 ', '부탁 하나만 하는데 ', '사랑해줘요 사랑해줘요 ', '내가 사랑하는 그녀를 ', '당신이 나 대신에 가진 ', '나의 그녀를 ', '함부로 다룰 생각하면 안 돼요  ', '사랑해줘요 ', '내 마음도 몰라주는 그녀를 ', '그녀가 사랑하는 사람 ', '당신이니까 ', '나 보다 많이 사랑해줘요 ', '다시는 울리지는 말아요 ']\n"
          ]
        },
        {
          "output_type": "stream",
          "name": "stderr",
          "text": [
            "\r174it [1:10:32, 22.82s/it]"
          ]
        },
        {
          "output_type": "stream",
          "name": "stdout",
          "text": [
            "49\n",
            "['다 끝이라고', '우리 다신 마주하지 말자', '내게 모질게도', '대했던 그대에게', '처음으로 내뱉은 말', '아직 사랑하는데', '더는 내 곁에 없단 걸 알아', '너 먼저 떠나고', '혼자 남겨진 나는', '오늘도 한숨만 내쉬며 걷는다', '사랑이란 멜로는 없어', '그렇게 사랑했던 우리가 남이 되는 게', '돌아오지 않을 네 뒷모습을 보며', '아직 너를 사랑한다고', '말하지 못했어', '사랑이란 멜로는 없어', '혹시 네가 다시 돌아오면', '고백할게', '거짓말이라고 보고 싶었다고', '우연히라도 마주치길', '바래왔었다고', '오늘 하루가 참 길어', '우리 그렇게 헤어지던 날', '애써 웃음을 지었던', '내가 참 바보 같죠', '그때 널 잡았었다면', '지금 달라졌을까', '사랑이란 멜로는 없어', '그렇게 사랑했던 우리가 남이 되는 게', '돌아오지 않을 네 뒷모습을 보며', '아직 너를 사랑한다고', '말하지 못했어', '하루 종일 네 사진을 보고 있으면', '다시 돌아가고 싶어', '너를 품에 안고 싶어', '그날 그대를 놓치지 않았다면', '어땠을까', '사랑이란 멜로는 없어', '사랑이란 멜로는 없어', '그렇게 사랑했던 우리가 남이 되는 게', '돌아오지 않을 네 뒷모습을 보며', '아직 너를 사랑한다고', '말하지 못했어', '사랑이란 멜로는 없어', '혹시 네가 다시 돌아오면', '고백할게', '거짓말이라고 보고 싶었다고', '우연히라도 마주치길', '바래왔었다고']\n"
          ]
        },
        {
          "output_type": "stream",
          "name": "stderr",
          "text": [
            "\r175it [1:11:02, 25.05s/it]"
          ]
        },
        {
          "output_type": "stream",
          "name": "stdout",
          "text": [
            "35\n",
            "['인스타로 몰래 보는 너의 하루들', '누가 봐도 헤어진 티를 내', '팔로우 다 끊고서', '좋아요는 왜 눌렀니', '참 바보 같은 사람이야', '잘 먹지도 못하는 술은', '왜 매일 마시고', '늘 예쁜 얼굴 많이 야위었어', '혼자 있으면 나도 그래', '술이 없으면 못 자고', '많이 괴로워해', '이럴 거면 우리 미친 척하고', '다시 만날까 봐', '다시 시작할까 봐', '친구들 만나는 거', '그렇게 좋아하면서', '집에만 있니 더 우울하게', '혼자 있으면 나도 그래', '누구도 만나기 싫어', '숨고만 싶은데', '이럴 거면 우리 미친 척하고', '다시 만날까 봐', '다시 시작할까 봐', '못 잊을 거야', '너와 추억한 지난날들을', '난 아직까지도 너무나 선명해', '그렇게 선명한 만큼', '지키고픈 우리 기억들이', '잊혀지는 게 정말 많이 두려워', '혼자 있으면 나도 그래', '늘 혼자 센척했지만 많이 두려워해', '이럴 거면 우리 미친 척하고', '다시 만날까 봐', '다시 시작할까 봐', '우리 여기서 끝나면 안 돼']\n"
          ]
        },
        {
          "output_type": "stream",
          "name": "stderr",
          "text": [
            "\r176it [1:11:24, 23.97s/it]"
          ]
        },
        {
          "output_type": "stream",
          "name": "stdout",
          "text": [
            "39\n",
            "['아픔이 좀 더 작아질까', '의미 없는 만남을 하다가', '어느 날 그대가 흘린 눈물', '왠지 나와 같다 느껴서', '이렇게 그대를 지키는가 봐요', '행복하고 싶었던 그대를', '몰랐던 누군갈 또 알아가면서', '분명 행복할 걸 알겠지만', '내가 그대를 만났다는 건', '어쩌면 흘러가는 흔한', '인연이란 것 일지 모르지만', '오늘도 다시 또 다시 사랑해요', '사랑 언제나 이번이 마지막이라며', '처음인 듯 찾아오니까', '어느 날 그대가 숨긴 눈물', '왠지 나와 같다 느껴서', '이렇게 그대를 지키는 가 봐요', '행복하고 싶었던 그대를', '몰랐던 누군갈 또 알아가는 게', '혹시 두렵기도 하겠지만', '내가 그대를 만났다는 건', '어쩌면 흘러가는 흔한', '인연이란 것일지 모르지만', '오늘도 다시 또 다시 사랑해요', '사랑 언제나 이번이 마지막이라며', '처음인 듯 찾아오니까', '절대 우리 작은 다툼조차 하지 마요', '이별 후엔 서운함만', '가슴속에 남으니', '사소한 그 표현이 그 말들이', '언제나 나에겐 참', '고마울 거예요', '내가 그대를 만났다는 건', '어쩌면 흘러가는 흔한', '인연이란 것 일지 모르지만', '오늘도 다시 또 다시 사랑해요', '사랑 언제나 이번이 마지막이라며', '처음인 듯 찾아오니까', '사랑 언제나 이번이 마지막이라며']\n"
          ]
        },
        {
          "output_type": "stream",
          "name": "stderr",
          "text": [
            "\r177it [1:11:48, 23.98s/it]"
          ]
        },
        {
          "output_type": "stream",
          "name": "stdout",
          "text": [
            "54\n",
            "['all for you  ', '벌써 며칠째 전화도 없는 너 ', '얼마 후면 나의 생일이란 걸 아는지 ', '눈치도 없이 시간은 자꾸만 흘러가고 ', '난 미움보다 걱정스런 맘에 ', '무작정 찾아간 너의 골목 어귀에서 ', '생각지 못한 웃으며  ', '반기는 너를 봤어 ', '사실은 말야 나 많이 고민했어 ', '네게 아무것도 해줄 수 없는걸 ', '아주 많이 모자라도 가진 것 없어도 ', '이런 나라도 받아 줄래 ', '너를 위해서 너만을 위해서 ', '난 세상 모든 걸  ', '다 안겨 주지는 못하지만 ', '난 너에게만 이제 약속할게 ', '오직 너를 위한 내가 될게 ', 'Is only for you ', 'just wanna be for you ', '넌 그렇게 지금 모습 그대로  ', '내 곁에 있으면 돼 ', '난 다시 태어나도  ', '영원히 너만 바라볼게', '넌 모르지만 조금은 힘들었어 ', '네게 어울리는 사람이 나인지 ', '그건 내가 아니라도 다른 누구라도 ', '이젠 그런 마음 버릴래 ', '너를 위해서 너만을 위해서 ', '난 세상 모든 걸  ', '다 안겨 주지는 못하지만 ', '난 너에게만 이제 약속할게 ', '오직 너를 위한 내가 될게 ', 'Is only for you  ', 'just wanna be for you ', '넌 그렇게 지금 모습 그대로  ', '내 곁에 있으면 돼 ', '난 다시 태어나도  ', '영원히 너만 바라볼게 ', 'love 내 작은 맘속을 ', 'oh love 네 향기로 채울래 ', '그 속에 영원히 갇혀 버린 데도 ', '난 행복 할 수 있도록 ', '너를 위해서 너를 위해서 ', '너만을 위해서 ', '난 세상 모든 걸  ', '다 안겨 주지는 못하지만 ', '난 너에게만 이제 약속할게 ', '오직 너를 위한 내가 될게 ', 'Is only for you  ', 'just wanna be for you', '넌 그렇게 지금 모습 그대로 ', '내 곁에 있으면 돼', '난 다시 태어나도 ', '영원히 너만 바라볼게']\n"
          ]
        },
        {
          "output_type": "stream",
          "name": "stderr",
          "text": [
            "\r178it [1:12:21, 26.78s/it]"
          ]
        },
        {
          "output_type": "stream",
          "name": "stdout",
          "text": [
            "28\n",
            "['눈이 부시게 웃던 널 기억해 ', '이제는 다시 볼 수 없게 됐지만 ', '끝내 붙잡았던 기억들만 ', '이 겨울을 지나간다 ', '나지막이 들리지 않게 전하는 ', '기다릴게 이 한마디 대신 ', '피고 진다 뜨겁게 시린 우리 사랑 ', '보내지 못한 계절처럼 ', '피어나 단 한 번도 겨울이 없었던 것처럼 ', '피어나 언제라도 사랑스러운 그대로 ', '추억은 지나버린 계절에  ', '그대로 놓아두고서 ', '그래 처음처럼 ', '가슴속에 켜켜이 쌓은 그리움 ', '이 눈물로 흘려내면 그뿐 ', '이 눈물이 그댈 피워낼 수 있다면 ', '그걸로 나는 괜찮은걸 ', '피어나 단 한 번도 겨울이 없었던 것처럼 ', '피어나 언제라도 사랑스러운 그대로 ', '스치듯 그대 곁에 맴도는  ', '이 작은 한마디조차 ', '여기 남겨두고 ', '아픈 기억은 여기 남기고 ', '피어나 우리 처음 만났던 그때 그대처럼 ', '피어나 사랑했던 그대 모습 그대로 ', '추억은 지나버린 계절에  ', '그대로 놓아두고서 ', '마치 처음처럼 ']\n"
          ]
        },
        {
          "output_type": "stream",
          "name": "stderr",
          "text": [
            "\r179it [1:12:38, 23.95s/it]"
          ]
        },
        {
          "output_type": "stream",
          "name": "stdout",
          "text": [
            "31\n",
            "['너의 그 한 마디 말도 그 웃음도 ', '나에겐 커다란 의미 ', '너의 그 작은 눈빛도 ', '쓸쓸한 그 뒷모습도 나에겐 힘겨운 ', '약속 ', '너의 모든 것은 내게로 와 ', '풀리지 않는 수수께끼가 되네 ', '슬픔은 간이역의 코스모스로 피고 ', '스쳐 불어온 넌 향긋한 바람 ', '나 이제 뭉게구름 위에 성을 짓고 ', '널 향해 창을 내리 바람 드는 창을 ', '너의 그 한 마디 말도 그 웃음도 ', '나에겐 커다란 의미 ', '너의 그 작은 눈빛도 ', '쓸쓸한 그 뒷모습도 나에겐 힘겨운 ', '약속 ', '너의 모든 것은 내게로 와 ', '풀리지 않는 수수께끼가 되네 ', '슬픔은 간이역의 코스모스로 피고 ', '스쳐 불어온 넌 향긋한 바람 ', '나 이제 뭉게구름 위에 성을 짓고 ', '널 향해 창을 내리 바람 드는 창을 ', '슬픔은 간이역의 코스모스로 피고 ', '스쳐 불어온 넌 향긋한 바람 ', '나 이제 뭉게구름 위에 성을 짓고 ', '널 향해 창을 내리 바람 드는 창을 ', '너의 그 한 마디 말도 그 웃음도 ', '나에겐 커다란 의미', '너의 그 작은 눈빛도', '쓸쓸한 그 뒷모습도 나에겐 힘겨운', '약속']\n"
          ]
        },
        {
          "output_type": "stream",
          "name": "stderr",
          "text": [
            "\r180it [1:12:57, 22.38s/it]"
          ]
        },
        {
          "output_type": "stream",
          "name": "stdout",
          "text": [
            "55\n",
            "['그림 같은 집이 뭐 별거겠어요 ', '어느 곳이든 그대가 있다면 ', '그게 그림이죠', '빛나는 하루가 뭐 별거겠어요', '어떤 하루던 그대 함께라면 ', '뭐가 필요하죠', '나 그대가 있지만 ', '힘든 세상이 아니라', '힘든 세상 이지만 곁에 ', '그대가 있음을 깨닫고 ', '또 감사해요 또 기도해요 ', '내 곁에서 변치 않고 ', '영원하길 기도 드리죠', '무려 우리 함께 눈뜨는 아침과', '매일 그댈 만나 돌아오는 집 앞', '나 만의 그대 나의 그대 ', '내겐 사치라는걸', '과분한 입맞춤에 취해 ', '잠이 드는 일', '그래 사치 그댄 사치 내겐 사치', '행복이란 말이 뭐 별거겠어요', '그저 그대의 잠꼬대 마저 날', '기쁘게 하는데', '사랑이란 말이 뭐 별거겠어요', '그저 이렇게 보고만 있어도', '입에서 맴돌죠', '나 그대가 있지만 ', '거친 세상이 아니라', '거친 세상 이지만 ', '내겐 그대가 있음을 깨닫고 ', '또 다짐하죠 또 약속하죠 ', '그대 곁에 변치않고 ', '영원하길 약속할게요', '무려 우리 함께 눈뜨는 아침과', '매일 그댈 만나 돌아오는 집 앞', '나 만의 그대 나의 그대 ', '내겐 사치 라는걸', '과분한 입맞춤에 취해 ', '잠이 드는 일', '그래 사치 그댄 사치 내겐 사치', '내가 상상하고 ', '꿈꾸던 사람 그대', '정말 사랑하고 있다고 ', '나 말 할 수 있어서', '믿을 수 없어 ', '정말 믿을 수 없어', '내가 어떻게 내가 감히 ', '사랑할 수 있는지 말야   ', '무려 우리 함께 잠드는 이 밤과', '매일 나를 위해 차려진 이 식탁', '나 만의 그대 나의 그대 ', '내겐 사치 라는걸', '과분한 입맞춤에 취해 ', '잠에 드는 일', '그래 사치 그댄 사치 내겐 사치']\n"
          ]
        },
        {
          "output_type": "stream",
          "name": "stderr",
          "text": [
            "\r181it [1:13:31, 25.85s/it]"
          ]
        },
        {
          "output_type": "stream",
          "name": "stdout",
          "text": [
            "41\n",
            "['떨리는 너의 입술을 ', '난 난 처음 보았지', '무슨 말 하려고 말 하려고 ', '뜸만 들이는지', '슬픈 예감은 다 맞는단 ', '노래 가사처럼', '설마 아니겠지 아닐 거야 ', '아니어야만 돼', '벌써 넌 나를 떠나 니 마음마저 ', '떠나 또 몸마저도 떠나는데', '난 몰라 널 잡을 방법을 좀 ', '누가 내게 말해줘요', '오늘밤 그 말만은 말아요 ', '왜 날 버리고 갔나요', '나 마음이 아파 가슴이 아파 ', '눈물 차올라요', '아직은 안녕 우린 안돼요 ', '넌 그 입을 더 열지마', '안녕이라고 내게 말하지마', '차가운 너의 한마디가 날 주저앉혔지', '세상 무너질 듯 무너진 듯 ', '눈물만 눈물만', '지금 순간이 가면 이 순간이 ', '지나면 영영 우린 이별인데', '사랑해 죽도록 사랑한 날 ', '날 버리지 말아줘요', '오늘밤 그 말만은 말아요 ', '왜 날 버리고 갔나요', '나 마음이 아파 가슴이 아파 ', '눈물 차올라요', '아직은 안녕 우린 안돼요 ', '넌 그 입을 더 열지마', '안녕이라고 내게 말하지마', '이별이 뭔지 나는 몰라요 ', '그냥 서럽고 서러워', '나 사연이 많아 추억이 많아 ', '가슴 찢어져요', '아직은 안녕 우린 안돼요 ', '넌 그 입을 더 열지마', '안녕이라고 내게 말하지마 ', '안녕이라고 내게 말하지마']\n"
          ]
        },
        {
          "output_type": "stream",
          "name": "stderr",
          "text": [
            "\r182it [1:13:56, 25.69s/it]"
          ]
        },
        {
          "output_type": "stream",
          "name": "stdout",
          "text": [
            "31\n",
            "['잘 지내고 있는건지 무슨 일 없는지', '지겹던 너의 잔소리가 너무 그리워서', '그렇게 나 하나밖에 모르던 너인데', '나 없이도 괜찮은지', '하루에 수백번씩 나 후회를 하고', '네가 없다는걸 느끼며 ', '나 매일을 살아', '널 위해 내가 떠나야 하는게 맞지만', '난 널 잊고 살 순 없는가봐', '나를 사랑했던 사람아 ', '이젠 곁에 없지만', '아직 잊지 못하고 너를 잊지 못하고', '그저 한번이라도 다시 볼 수 있다면', '볼 수만 있다면 ', '다시 널 볼 수 있다면', '너무나도 아프고 잊을 수가 없어', '하루에도 몇번씩 하던 ', '너의 그 투정이', '웃으며 내 품에 안겨서 ', '날 보던 모습이', '헤어지던 날 너의 두 눈이', '나를 사랑했던 사람아 ', '이젠 곁에 없지만', '아직 잊지 못하고 너를 잊지 못하고', '그저 한번이라도 다시 볼 수 있다면', '널 볼 수만 있다면', '네가 있어서 ', '나는 항상 웃을 수 있었고', '네가 있기에 내가 가장 행복했었고', '너로 인해 내 삶도 살아볼만했었어', '내가 너무도 사랑했던 사람아']\n"
          ]
        },
        {
          "output_type": "stream",
          "name": "stderr",
          "text": [
            "\r183it [1:14:15, 23.63s/it]"
          ]
        },
        {
          "output_type": "stream",
          "name": "stdout",
          "text": [
            "33\n",
            "['언제나 너의 곁에 있어 줄게', '눈부시게 빛나 모든 날들이', '세상 모두가 변한다 해도', '변함없이 너를 사랑해', '어떤 날은 좋고', '어떤 날은 또 그저 그래', '변덕이 심한 나에게', '모든 걸 맞춰준 너', 'um 있는 그대로의 나를', '좋아해줘서', '그래서 나도 아낌없이', '너를 사랑하나 봐', '언제나 너의 곁에 있어 줄게', '눈부시게 빛나 모든 날들이', '세상 모두가 변한다 해도', '변함없이 너를 사랑해', '너무 행복해서 가끔은 불안하기도 해', '다 사라질까 겁이 나', '다시 혼자될까 봐', 'um 그럴 때마다 꼭', '안아주던 너 눈물이 났어', '네가 주는 마음이 고마워서', '언제나 너의 곁에 있어 줄게', '눈부시게 빛나 모든 날들이', '세상 모두가 변한다 해도', '변함없이 너를 사랑해', '너의 발걸음에', '빛을 비춰줄게', '작은 어둠도 오지 못하게', '내가 함께 해줄게 지금처럼 my love', '영원히 너의 편이 되어줄게', '내가 지켜줄 단 한 사람', '소중한 내 사람']\n"
          ]
        },
        {
          "output_type": "stream",
          "name": "stderr",
          "text": [
            "\r184it [1:14:36, 22.67s/it]"
          ]
        },
        {
          "output_type": "stream",
          "name": "stdout",
          "text": [
            "34\n",
            "['모두 처음이었어 설레어 잠 못 든 것', '내겐 처음이었어 소리 내 울었던 것도', '이미 늦었다는 걸 떠날 만했다는 걸', '내가 초라해진 후에 알았어', '미안한 마음 없이 또 다른 사랑하길', '좋은 사람 만나려 날 스쳐간 것처럼', '부디 너를 보낸 게 잘한 일이 되도록', '더욱 눈부시게 웃어주기를', '우린 어쩌다 헤어진 걸까', '수없이 부른 이름인데', '그토록 간절했었는데', '나는 어쩌다 잊지 못할까', '어른인 척 보냈으면서', '뒤돌아 아이처럼 또 울어', '바쁘다는 핑계로 널 혼자 버려두고', '이해해 줄 거라고 내 멋대로 믿었어', '너와 다투기 싫어 시시한 농담으로', '얼버무린 거 그것도 미안해', '우린 어쩌다 헤어진 걸까', '수없이 부른 이름인데', '그토록 간절했었는데', '나는 어쩌다 잊지 못할까', '어른인 척 보냈으면서', '뒤돌아 아이처럼 또 울어', '매일 너를 숨 가쁘게 했던 내가', '나 이제는 아무것도 못해', '세상을 가지고 싶어 나 욕심부렸나', '너의 자랑이 되고 싶었나', '우린 어쩌다 끝이 난 걸까', '부족한 나를 택해주고', '사소한 것에 웃었는데', '이젠 어쩌다 만나지는 마', '이제는 너를 웃게 하는', '너만큼 좋은 사람을 만나']\n"
          ]
        },
        {
          "output_type": "stream",
          "name": "stderr",
          "text": [
            "\r185it [1:14:57, 22.17s/it]"
          ]
        },
        {
          "output_type": "stream",
          "name": "stdout",
          "text": [
            "32\n",
            "['나는 그대를 뒤로한 채로', '우리 사랑을 놓아요', '차오르는 추억을 헝클어뜨려', '모두 일어나지 않았던 일처럼', '고갤 저어 모르는 꿈이라', '말하고 있네요', '남았는지 모를 마음이', '나를 향해 힘껏 달려도', '어느 끝 멈춰질 그 거리에 그대', '다 찢겨져버린 사이 더 기워봐도', '다시 그때로 우리', '되돌려 놓을 수 없는 그 얘기', '날카롭게 패인 이 상처가 깊어', '나을 수 없으니 떠나가요', '떨궈진 눈물은 가슴에 담아지고', '이제 더는 채울 자리 없이', '넘쳐흐르네요', '그대인지 모를 얼굴이', '나를 향해 웃음 지어도', '손 내밀 수도 없는 거리에 그대', '또 주저앉을 수밖에', '무너진 이 사랑과', '그대의 모든 흔적을', '그리워하는 일만이', '더 할 게 없어서', '무력해져 가는 내가 싫어', '그대를 보내기 싫지만', '다 찢겨져버린 사이 더 기워봐도', '다시 그때로 우릴 되돌려', '놓을 수 없는 그 얘기', '날카롭게 패인 이 상처가 깊어', '나을 수 없으니 떠나가요']\n"
          ]
        },
        {
          "output_type": "stream",
          "name": "stderr",
          "text": [
            "\r186it [1:15:17, 21.54s/it]"
          ]
        },
        {
          "output_type": "stream",
          "name": "stdout",
          "text": [
            "33\n",
            "['참 많은 시간이 흘러가고', '넌 어떻게 사는지 참 궁금해', '날 걱정하는 사람들에게', '다 잊었단 거짓말하는 내가 참 미운 날', '아름다운 이별은 세상에 없다지만', '그때 내가 조금 더 너를 ', '편하게 보내줬다면', '다른 사람 또 만나 행복할 니가 가끔은', '내 생각할 때에 지을 표정이 참 궁금해', '날 보는 네 눈이 좋아서 ', '얼굴 붉히며 딴청 피던 ', '아름답던 그날처럼 ', '좋은 사람 만나 사랑 받고 ', '너도 이젠 웃을 수 있길', '찬란했던 우리 그날처럼', '비어있는 지갑에 음식점을 서성이면', '월급날이라며 손잡아 이끌어주던', '만 원짜리 커플링 고맙다며 펑펑 울던', '과분한 네 사랑 받을 사람 참 부러워', '날 보는 네 눈이 좋아서 ', '얼굴 붉히며 딴청 피던 ', '아름답던 그날처럼 ', '좋은 사람 만나 사랑 받고 ', '너도 이젠 웃을 수 있길', '찬란했던 우리 그날처럼', '문득 들려오는 너의 소식에', '가끔씩은 혼자 울 수 있길', '끝까지 이기적인 내가', '이젠 나 없이도 괜찮다 ', '너에게 듣고 싶던 말', '좋은 사람 만나 미안해 ', '다시 돌아갈 순 없지만', '아름답던 우리 그날']\n"
          ]
        },
        {
          "output_type": "stream",
          "name": "stderr",
          "text": [
            "\r187it [1:15:37, 21.16s/it]"
          ]
        },
        {
          "output_type": "stream",
          "name": "stdout",
          "text": [
            "46\n",
            "['가을밤 떠난 너', '그런 너를 기다리는 나', '그 계절은 다시 돌아', '너를 생각나게 해', '사랑한다고', '기다린다고', '전해달라고 이런 내 맘', '차가운 밤 향기에', '쓸쓸해지는 이 밤', '잘 지내고 있니 넌 바쁜 거 같더라', '가끔 니 소식을 들어 이젠', '아무렇지 않은 척 괜찮다 해도', '사실 혼자 많이 울었어', '음 니가 보고 싶은 밤', '울컥해지는 밤', '잠 못 이루는 밤', '시간만 더디게 가 ', '가을밤 떠난 너', '그런 너를 기다리는 나', '그 계절은 다시 돌아', '너를 생각나게 해', '사랑한다고 기다린다고', '전해달라고 이런 내 맘', '차가운 밤 향기에', '쓸쓸해지는 이 밤', '미안해 이 말 한마디면 충분한데', '뭐가 그리 어렵던지 우리', '그때 내가 얼마나 못났었는지', '정말 지독하게 미웠어', '음 니가 보고 싶어져', '수없이 참아도', '걷잡을 수 없이', '부쩍 커버린 내 맘', '우리가 얼마나 행복하고 좋았었는데', '넌 이 모든 추억들을', '지우고 살 수 있니 ', '사랑한다고 좋아한다고', '못다 한 말들이 많다고', '너에게 줄 마음이 아직 남아있다고', '여전히 나', '기다린다고 ', '한 번만 돌아오라고', '지나간 시간 속에', '아직 멈춰있다고', '가을밤 떠난 너', '이제 홀로 서 있네']\n"
          ]
        },
        {
          "output_type": "stream",
          "name": "stderr",
          "text": [
            "\r188it [1:16:05, 23.31s/it]"
          ]
        },
        {
          "output_type": "stream",
          "name": "stdout",
          "text": [
            "39\n",
            "['이건 비밀이야 ', '아무에게도 고백하지 않았던', '이야기를 들려주면', '큰 눈으로 너는 묻지', 'How wow wow Whatever', '나 실은 말이야', '저기 아득한 미래로부터 날아왔어', '쏟아질 듯이 빼곡한 별들 사이를 지나 ', 'Fly fly fly', '있지 그곳도 사실 바보들 투성이야', '아니 매우 반짝이는 건 오히려 ', 'Now now now', '이 하루 이 지금 우리 ', '눈부셔 아름다워', '이 불꽃놀이는 끝나지 않을 거야 ', 'Ooh Whatever', '흐린 날이면', '거짓말처럼 무섭게 깜깜했지', '새침데기 태양은 뜨겁기는커녕 ', 'peacock ', 'Blue blue blue Whatever', '매일매일', '제멋대로인 바람결을 땋아서 만든', '이 나침반이 가리킨 그곳에서 발견', \"Oh That's you you yes you \", '있지 저런 건 그저 자그만 돌멩이야', '빛이 나는 건 여기 있잖아', 'Life is cool cool cool', '시간은 많아 이대로면 아마 ', '영원히 살 수 있지 않을까', '안녕 나의 주인공 그래 너를 만나러 나', '짜잔 우아하게 등장', '바로 이 하루 이 지금 우리', '눈부셔 아름다워', '나는 확실히 알아 오늘의 불꽃놀이는 ', '끝나지 않을 거야 ', '우우우 우우우', '우우우 우우우', '더 놀라운 건 지금부터야']\n"
          ]
        },
        {
          "output_type": "stream",
          "name": "stderr",
          "text": [
            "\r189it [1:16:29, 23.45s/it]"
          ]
        },
        {
          "output_type": "stream",
          "name": "stdout",
          "text": [
            "41\n",
            "['맞이하고 보내준 수 많은 일 년 중', '그대 내게 떠났던 그 해가 있었죠', '어디에 있을까 잘 지내 지나요', '아팠던 건 잘 보내 줬나요', '날 떠나겠다는 말 참 힘들었어요', '사랑한단 말도 그대가 했기에', '거기서 떠나요 나도 잘 떠났으니', '이제야 그댈 이해하네요', '사랑 누구나 하는', '흔하디 흔한 이야기', '시작의 이유도 헤어짐의 이유도', '그땐 모르기에 그저 치열한 날들', '우린 어떤 사랑을 했었나요', '그 가슴에', '가지 말라는 말 왜 안 했겠어요', '혹시 싫어할까 가슴에 남긴 말', '그대는 그 날로 나를 지워갔겠죠', '이제야 그댈 보고 싶은데', '사랑 누구나 하는', '흔하디 흔한 이야기', '숨마저 못 쉬던 걸을 수조차 없던', '이별이 기다려 모두 가져간 날들', '우린 어떤 이유가 있었나요', '떠나던 날', '익숙함을 핑계 삼아야 했던', '그날이 이제는 그리워질 텐데', '말을 못해서 표현 못해서', '그댈 단 하루라도', '사랑하지 않은 적이 없단 걸', '사랑 누구나 하는', '흔하디 흔한 이야기', '시작의 이유도 헤어짐의 이유도', '그땐 모르기에 그저 치열한 날들', '우린 어떤 사랑을 했었나요', '그 가슴에', '사랑 누구나 하는', '흔하디 흔한 이야기', '숨마저 못 쉬던 걸을 수 조차 없던', '이별이 기다려 모두 가져간 날들', '우린 어떤 이유가 있었나요', '떠나던 날']\n"
          ]
        },
        {
          "output_type": "stream",
          "name": "stderr",
          "text": [
            "\r190it [1:16:55, 24.04s/it]"
          ]
        },
        {
          "output_type": "stream",
          "name": "stdout",
          "text": [
            "33\n",
            "['좋은 사람 있으면 소개시켜줘', '때로는 물처럼 때로는 불처럼', '진심으로 나만을 사랑할 수 있는', '성숙하고 성실한 사람이라면 좋겠어', '좋은 사람 있으면 소개시켜줘', '사랑에도 연습은 있는 거기에', '아주 조그만 일에도 신경을 써주는', '사랑 경험이 많은 사람이라면 좋겠어', '한번쯤은 실연에 울었었던', '눈이 고운 사람 품에 안겨서', '뜨겁게 위로받고 싶어', '혼자임에 지쳤던 내 모든걸', '손이 고운 사람에게 맡긴 채', '외로움을 잊을 수 있다면', '좋은 사람 있으면 소개시켜줘', '만남 그 자체에 연연하기보다', '한번을 만나더라도 그 때 분위기에', '최선을 다하려는 사람이라면 좋겠어', '나에겐 아픈 상처가 있는데', '과거가 없는 사람은 부담스러워', '한번쯤은 실연에 울었었던', '눈이 고운 사람 품에 안겨서', '뜨겁게 위로받고 싶어', '혼자임에 지쳤던 내 모든걸', '손이 고운 사람에게 맡긴 채', '외로움을 잊을 수 있다면', '겨울이라 날씨가 추웠을까', '팔짱끼는 연인들의 모습에', '나의 눈이 왜 시려울까', '한땐 나도 저런 때 있었다며', '새로운 사람이 그리운걸까', '옛사람이 그리워진걸까', '옛사람이 그리워진걸까']\n"
          ]
        },
        {
          "output_type": "stream",
          "name": "stderr",
          "text": [
            "\r191it [1:17:15, 22.96s/it]"
          ]
        },
        {
          "output_type": "stream",
          "name": "stdout",
          "text": [
            "49\n",
            "['마지막 인사를 주고받고', '엉엉 울면서', '서로를 한 번 꽉 안아 보고서', '잘해준 게 하나도 없어', '맘이 아프다며', '서로의 눈물을 닦아 주었어', '시간이 한참 지나고 나서', '괜찮아지면', '그때 친구로 다시 만나서', '서로의 곁에 있어주잔', '말을 남기고서', '마지막으로 한 번 안아봤어', '햇살이 밝아서', '햇살이 아주 따뜻해서', '눈물이 말랐어', '생각보단 아주 빨리', '죽을 것 같아서', '정말 숨도 못 쉬었었어', '근데 햇살이 밝아서', '햇살이 밝아서 괜찮았어', '헤어지기 직전에 그만', '참지를 못하고', '아주 바보 같은 질문을 했어', '우리 혹시 헤어지지 않으면', '안 되냐고', '이제 얘기를 다 끝낸 후인데', '그러자 너도 바보같이', '대답을 못하고', '멍하니 나만 바라보고 있어', '우린 알고 있어서', '너무 잘 알고 있어서', '헤어지기가 너무 두려운 거야', '햇살이 밝아서', '햇살이 아주 따뜻해서', '눈물이 말랐어', '생각보단 아주 빨리', '죽을 것 같아서', '정말 숨도 못 쉬었었어', '근데 햇살이 밝아서', '햇살이 밝아서 괜찮았어', '햇살이 밝아서', '아픔을 잊을 수 있었어', '햇살이 밝아서', '눈물을 멈출 수 있었어', '햇살이 밝아서', '하늘이 너무 고마웠어', '햇살이 밝아서', '햇살이 밝아서 괜찮았어', '괜찮았어']\n"
          ]
        },
        {
          "output_type": "stream",
          "name": "stderr",
          "text": [
            "\r192it [1:17:45, 25.16s/it]"
          ]
        },
        {
          "output_type": "stream",
          "name": "stdout",
          "text": [
            "33\n",
            "['저 달빛에 그려지는', '그대의 미소를 간직해', '그을진 저 노을 속에', '그대 얼굴이 떠올라', '또 찬바람이 불어와', '그대의 맘을 뒤흔들면', '포근한 저 바람 되어', '안아줄게 그댈', '그대는 밤하늘에 놓인', '작은 별 같아요 매일', '밤마다 나를 찾아와', '나의 맘을 흔들어 놓는', '가까운 듯 먼 그대여', '그댈 또 그려보네', '밤하늘 별들이 되어', '밤하늘에 놓인 별들', '그대의 모습과 같아서', '홀로 그댈 생각하며', '오늘도 늦은 잠 이뤄요', '그대는 밤하늘에 놓인', '작은 별 같아요 매일', '밤마다 나를 찾아와', '나의 맘을 흔들어 놓는', '가까운 듯 먼 그대여', '그댈 또 그려보네', '밤하늘 별들이 되어', '매일 꿈속에서도 준비한 말들을', '이젠 해야 할 것 같은데', '말처럼 되질 않아 오늘도', '그대는 밤하늘에 놓인', '작은 별 같아요 매일', '밤마다 나를 찾아와', '나의 맘을 흔들어 놓네']\n"
          ]
        },
        {
          "output_type": "stream",
          "name": "stderr",
          "text": [
            "\r193it [1:18:06, 23.78s/it]"
          ]
        },
        {
          "output_type": "stream",
          "name": "stdout",
          "text": [
            "28\n",
            "['미련하게 아무도 모를 것 같아 ', '태연한 척 지내왔어 너 떠나버린 뒤 ', '다 알았대 어설픈 나의 눈빛을 ', '행복했던 지난 날의 나와 너무 달라서 ', '이별했음을 느낄 수 밖에 ', '너와 나 정말 그때는 좋았었나봐 ', '나 화 낼줄도 몰라 내내 즐거웠대 ', '그래 그랬었지 널 사랑하기에 ', '세상은 나에게 커다란 감동이었어 ', '그 순간을 잃는다면 내가 살아 온 ', '짧은 세월은 너무나 보잘 것 없어 ', '되돌려 보려 해 너를 찾으려 해 ', '너 없이 살아도 멀쩡히 숨은 쉬겠지만 ', '후회와 그리움만으로는 견딜 수 없어 ', '하루도 자신이 없어', '초라했대 어설픈 나의 눈빛은  ', '행복했던 지난 날의 나와 너무 달라서 ', '이별했음을 느낄 수 밖에 ', '너와 나 헤어질줄은 아무도 몰랐대 ', '하루가 너무 짧던 우리의 날들이 ', '그래 그랬었지 널 사랑하기에 ', '세상은 나에게 커다란 감동이었어 ', '그 순간을 잃는다면 내가 살아 온 ', '짧은 세월은 너무나 보잘 것 없어 ', '되돌려 보려 해 너를 찾으려 해 ', '너 없이 살아도 멀쩡히 숨은 쉬겠지만 ', '후회와 그리움만으로는 견딜 수 없어 ', '하루도 자신이 없어 도저히']\n"
          ]
        },
        {
          "output_type": "stream",
          "name": "stderr",
          "text": [
            "\r194it [1:18:23, 21.71s/it]"
          ]
        },
        {
          "output_type": "stream",
          "name": "stdout",
          "text": [
            "19\n",
            "['내가 꿈 찾아 행복 찾아 하루하루 살아가다가 만나버린 괴로웠던 순간들 ', '이 또한 다 지나가리라 피할 수 없다면 즐겨라 ', '퇴근길에 편의점 네 개에 만원인 캔맥주 ', '원플원 과자 두 봉 기다릴 울 냥이 통조림 간식 하나 ', '세상 편한 차림으로 침대 위에 걸터앉아 ', '최신 업뎃 영상 본다 눈 호강에 입 속 가득 찬 단짠의 조화 ', '내가 꿈 찾아 행복 찾아 하루하루 살아가다가 만나버린 괴로웠던 순간들 ', '이 또한 다 지나가리라 즐길 수 있을 거야 너는 ', '좁은 방에 매트 깔고 생전 처음 해 본 요가 ', '체중계에 올라서서 어제와 같은 몸무게에 안도하며 ', '배달 앱에 단골 식당 요리조리 찾아보고 또 조리요리 찾아보고 ', '이런 맛에 살지 내일도 일하러 간다 ', '내가 꿈 찾아 행복 찾아 하루하루 살아가다가 만나버린 괴로웠던 순간들 ', '이 또한 다 지나가리라 즐길 수 있을 거야 너는 ', '인생이 별건가요 똑같아요 열받고 힘들면 한잔하고 꿀잠 자고 그러다 웃고 ', '내가 꿈 찾아 행복 찾아 하루하루 살아가다가 만나버린 괴로웠던 순간들 ', '이 또한 다 지나가리라 즐길 수 있을 거야 너는 ', '내가 꿈 찾아 행복 찾아 하루하루 살아가다 만나버린 고민들 ', '이 또한 다 지나가리라 즐길 수 있을 거야 너는']\n"
          ]
        },
        {
          "output_type": "stream",
          "name": "stderr",
          "text": [
            "\r195it [1:18:35, 18.78s/it]"
          ]
        },
        {
          "output_type": "stream",
          "name": "stdout",
          "text": [
            "32\n",
            "['함께였었던 너 지금 어느 별에 있니', '난 아직도 이별에 있어', '흩어져가는 하늘에 나를 태워 보면', '볼 수 있을까 너 있는 곳에', '혹시 너도 나를 찾고서 있는지', '마치 시간이 멈춘 듯이', '너를 기다리고만 있어', 'oh you’re my star', 'oh you’re my star in the sky', '너의 밤하늘 속에 내가 있다면', '그 수 많은 별들 중에', '한 점이라도 채워지면', '그걸로 좋아 이별이 된대도', '함께였었던 너 지금 어느 별에 있니', '난 아직도 이별에 있어', '환하게 웃어주던', '니 마지막 모습이 그리워', '꿈에서 라도 만날까', '너를 품에 안고 잠들어', 'oh you’re my star', 'oh you’re my star in the sky', '너의 밤하늘 속에 내가 있다면', '그 수 많은 별들 중에', '한 점이라도 채워지면', '그걸로 좋아 이별이 된대도', '너를 잊지 않을게', 'oh you’re my star', 'oh you’re my star in the sky', '너의 밤하늘에도 내가 있다면', '그 수 많은 별들 중에', '한 점이라도 채워지면', '그걸로 좋아 이별이 된대도']\n"
          ]
        },
        {
          "output_type": "stream",
          "name": "stderr",
          "text": [
            "\r196it [1:18:55, 19.11s/it]"
          ]
        },
        {
          "output_type": "stream",
          "name": "stdout",
          "text": [
            "65\n",
            "['행복했어', '너와의 시간들', '아마도', '너는 힘들었겠지', '너의 마음을', '몰랐던 건 아니야', '나도 느꼈었지만', '널 보내는게', '널 떠나보내는게', '아직은 익숙하지가 않아', '그렇게 밖에 할 수 없던', '니가 원망스러워', '왜 말 안했니', '아님 못한거니', '조금도 날', '생각하지 않았니', '좋아한다며', '사랑한다며', '이렇게 끝낼거면서', '왜 그런말을 했니', '널 미워해야만', '하는 거니', '아니면 내 탓을', '해야만 하는 거니', '시간을', '돌릴수만 있다면', '다시 예전으로', '돌아가고 싶은 마음뿐이야', '왜 말 안했니', '아님 못한거니', '조금도 날', '생각하지 않았니', '좋아한다며', '사랑한다며', '이렇게 끝낼거면서', '왜 그런말을 했니', '널 미워해야만', '하는 거니', '아니면 내 탓을', '해야만 하는 거니', '시간을 돌릴수만 있다면', '다시 예전으로', '돌아가고 싶은 마음뿐이야', '그래 더 이상', '묻지 않을게', '내곁을 떠나고 싶다면', '돌아보지 말고 떠나가', '눈물은 흘리지 않을게', '괜히 마음만 약해지니깐', '내게서 멀어진', '니 모습이', '흐릿하게 보여', '눈물이 나나봐', '널 많이', '그리워할것 같아', '참아야만 하겠지', '잊혀질 수 있도록', '다시 사랑같은거', '하지 않을래', '내 마지막 사랑은', '돌아선 너에게', '주고 싶어서', '행복하길 바래', '나보다 좋은 여자', '만나기를']\n"
          ]
        },
        {
          "output_type": "stream",
          "name": "stderr",
          "text": [
            "\r197it [1:19:35, 25.50s/it]"
          ]
        },
        {
          "output_type": "stream",
          "name": "stdout",
          "text": [
            "84\n",
            "['입안에서', '바람 맛이', '달콤한 아침', '새하얀', '이불위로 닿는', '햇살이 좋아', '설레는', '전화 벨소리', '그대 인가요', '설탕 한 스푼 담긴 소리', 'hello hello', '봄이 와', '이 거리 위에', '봄이 와', '나의 가슴속에', '왜 이리 나', '들뜨나 몰라', 'oh', '팝콘 같은 꽃잎이', '저 높이 날아요', '사랑한다 말하면', '난 정말 녹아요', '오늘 같은 바람이 불면', '하루 종일 미치겠어', '그대가', '아른아른 거려서', '향기로운', '봄 바람이', '나풀거리고', '두 볼에 앉은', '햇살마저', '완벽한걸요', '새하얗게 춤을 추는', '꽃잎을 보며', '그대와 둘이', '걷다 보면', 'uh huh', 'ah ha', '봄이 와', '이 거리 위에', '봄이 와', '우리 둘 사이에', '설레임이', '피어 올라요', 'oh', '팝콘 같은 꽃잎이', '저 높이 날아요', '사랑한다 말하면', '난 정말 녹아요', '오늘 같은 바람이 불면', '하루 종일 미치겠어', '그대가', '아른아른 거려서', '꿈에서 봤던', '거리가 여기인가요', '그대와 나란히', '걷는 모든 곳이', '아름다워', '난 있잖아요', '그대를 볼 때마다 놀라', '더 아름다울 수 없는', '그대여', '따사로운 봄빛에', '사랑이', '녹아요', '살랑대는 바람에', '사랑이', '불어요', '오늘 같은 바람이 불면', '제일 먼저', '떠올라요', '그대만', '팝콘 같은', '꽃잎이', '저 높이 날아요', '사랑한다', '말하면', '난 정말 녹아요', '오늘 같은 바람이 불면', '하루 종일 미치겠어', '그대가', '아른아른 거려서', '그대가', '나의 봄이죠']\n"
          ]
        },
        {
          "output_type": "stream",
          "name": "stderr",
          "text": [
            "\r198it [1:20:26, 33.30s/it]"
          ]
        },
        {
          "output_type": "stream",
          "name": "stdout",
          "text": [
            "40\n",
            "['시계가 반대로 돌아가고 있어', 'TV속 영화가 되감아지고 있어', '내렸던 빗물이 올라가고 있어', '잊었던 기억이 돌아오고 있어', '도로 위에 차들이 ', '반대로 달리고', '온 세상의 모든 게 다 ', '거꾸로 움직여', '지금 나는 계속 반대로 ', '뒷걸음질 치며', '그날의 너에게 돌아가고 있어', '운명 같은 만남 너무 아픈 결말', '난 이 소설의 끝을 ', '다시 써보려 해', '내 한 권의 사랑 마지막 장면엔', '니가 있어야 해 ', '그래야 말이 되니까', '한 장씩 한 장씩 뒤로 넘겨 지며', '아팠던 일기가 지워지고 있어', '가루 낸 사진이 모여들고 있어', '버렸던 미련이 돌아오고 있어', '삼켰던 내 눈물이 ', '다시 뱉어지고', '뱉었던 그 모진 말은 ', '다시 삼켜지고', '지금 나는 계속 반대로 ', '뒷걸음질 치며', '그날의 너에게 돌아가고 있어', '운명 같은 만남 너무 아픈 결말', '난 이 소설의 끝을 다시 써보려 해', '내 한 권의 사랑 마지막 장면엔', '니가 있어야 해 그래야 말이 돼', '여기야 우리가 이별한 ', '그 슬픈 페이지', '내 앞에서 니가 서서 울고 있어', '너에게 묻고 싶어 너만 괜찮다면', '난 이 소설의 끝을 다시 써보려 해', '내 한 권의 사랑 마지막 장면엔', '니가 있어야 해 ', '그래야 말이 되니까']\n"
          ]
        },
        {
          "output_type": "stream",
          "name": "stderr",
          "text": [
            "\r199it [1:20:51, 30.74s/it]"
          ]
        },
        {
          "output_type": "stream",
          "name": "stdout",
          "text": [
            "46\n",
            "['비내리는 날엔', '우산이 돼주고', '어둠이 오면 빛이 돼줄게', '추운 겨울이면', '난로가 돼주고', '더운 날엔 바람이 될게', '잠이 들 때까지 머릴 만져줄게', '니가 두려울 때마다 꼭 옆에 ', '있어줄게', '갑작스런 맘에 문득', '떠나고 싶으면', '내일 무슨 일이 있어도 함께 ', '떠나줄게', 'Marry Me', '내 손 잡아줄래요', 'Marry Me', '나와 평생 함께 할래요', '남은 나의 모든 삶', '오직 그대 남자로 살고 싶어요', 'Marry Me darling', '나와 결혼해줄래요', '순간뿐이 아냐 많이 생각했어', '헌데 내 사랑을 줄 수 있는 여잔 ', '너밖에 없어', '차갑고 어두운 험하고', '쓸쓸한 세상 속', '평생의 동반자로 함께', '걸어가고 싶어', 'Marry Me', '내 손 잡아줄래요', 'Marry Me', '나와 평생 함께 할래요', '남은 나의 모든 삶', '오직 그대 남자로 살고 싶어요', 'Marry Me darling', '나와 결혼해줄래요', '내 안에 숨쉬는 아름 다운 그대', '영원히 같은 꿈을 꾼다면 얼마나 ', '좋을까', '믿어요 Marry Me', '그대와 함께 하는 매일이', '내겐 천국이죠', '나와 결혼해줄래요', '비내리는 날엔', '우산이 돼주고', '어둠이 오면 빛이 돼줄게']\n"
          ]
        },
        {
          "output_type": "stream",
          "name": "stderr",
          "text": [
            "\r200it [1:21:20, 30.00s/it]"
          ]
        },
        {
          "output_type": "stream",
          "name": "stdout",
          "text": [
            "56\n",
            "['궁금해서 잠이 안 와', '그때 왜 그랬어', '구차해도 묻고 싶어', '그때 난 뭐였어', '나나나나 나나 나나', '나만 애 탄거니', '나나나나 나나 나나', '난 진심인데 넌', '그랬구나 그랬어', '좋았는데 넌 아니었나 봐', '그랬구나 그때 넌', '그런 줄 모르고 나 혼자', '이럴 거면 바래다주었던 그날 밤', '넌 나를 안아주지 말았어야지', '설렘에 밤잠 설치게 했던 그 말', '그 말도 말았어야지', '그러지는 말지', '비겁하게 숨어버린 너를', '돌아 올 거라고 믿은 내가 바보야', '사랑스럽게 날 보던 네 눈빛에', '빠졌던 내가 바보지', '이럴 줄도 모르고', '이렇게 돼 버린 이상', '그냥 얘기할게', '이미 떠나버린 니 맘', '돌릴 순 없으니', '그랬구나 그랬어', '좋았는데 넌 아니었나 봐', '그랬구나 그때 넌', '네 생각 뿐인데 나 혼자', '이럴 거면 바래다주었던 그날 밤', '넌 나를 안아주지 말았어야지', '설렘에 밤잠 설치게 했던 그 말', '그 말도 말았어야지', '이럴 줄은 몰랐어', '어때 넌 어떻게 하고 싶니', '지금 이 순간의 감정일지', '중간에 금방 에러가 날것인지', 'I don’t know 하지만 내 생각엔', '오래가진 못할 거 같아', '너 아닌 나 때문에', '이 관계는 이어지지 못해', '잠 못 들어 아픈 이 새벽', '잘 지내니 문자 한번쯤은 해주지', '혹시나 하며 올린 우리 얘기에', '좋아요 누르지 말지', '괜히 기대 하게', '바래다주던 그 날 밤처럼', '돌아와서 포근하게 나를 안아줘', '설렘에 밤잠 설치게 했던 말로', '또 두근거리게 해줘', '다시 날 녹여줘', '이럴 거면 귀엽다고 하지 말지', '그러지 말지', '혼잣말만 늘어가네', '전하지도 못할 말만']\n"
          ]
        },
        {
          "output_type": "stream",
          "name": "stderr",
          "text": [
            "\r201it [1:21:54, 31.36s/it]"
          ]
        },
        {
          "output_type": "stream",
          "name": "stdout",
          "text": [
            "32\n",
            "['우린 오래전부터 어쩔 수 없는 거였어', '우주 속을 홀로 떠돌며 많이 외로워하다가', '어느 순간 태양과 달이 겹치게 될 때면', '모든 것을 이해할 수 있을 거야', '하늘에선 비만 내렸어 ', '뼈 속까지 다 젖었어', '얼마 있다 비가 그쳤어 ', '대신 눈이 내리더니', '영화서도 볼 수 없던 눈보라가 불 때', '너는 내가 처음 봤던 눈동자야', '낯익은 거리들이 거울처럼 반짝여도', '니가 건네주는 커피 위에 살얼음이 떠도', '우리 둘은 얼어붙지 않을 거야', '바다 속의 모래까지 녹일 거야', '춤을 추며 절망이랑 싸울 거야', '얼어붙은 아스팔트 도시 위로', '숨이 막힐 거 같이 차가웠던 공기 속에', '너의 체온이 내게 스며들어 오고 있어', '우리 둘은 얼어붙지 않을 거야', '바다 속의 모래까지 녹일 거야', '춤을 추며 절망이랑 싸울 거야', '얼어붙은 아스팔트 도시 위로', '너와 나의 세대가 마지막이면 어떡해', '또 다른 빙하기가 찾아오면 어떡해', '긴 세월에 변하지 않을 그런 사랑은 없겠지만', '그 사랑을 기다려줄 그런 사람을 찾는 거야', '긴 세월에 변하지 않을 그런 사랑은 없겠지만', '그 사랑을 기다려줄 그런 사람을 찾는 거야', '긴 세월에 변하지 않을 그런 사랑은 없겠지만', '그 사랑을 기다려줄 그런 사람을 찾는 거야', '긴 세월에 변하지 않을 그런 사랑은 없겠지만', '그 사랑을 기다려줄 그런 사람을 찾는 거야']\n"
          ]
        },
        {
          "output_type": "stream",
          "name": "stderr",
          "text": [
            "\r202it [1:22:14, 27.87s/it]"
          ]
        },
        {
          "output_type": "stream",
          "name": "stdout",
          "text": [
            "40\n",
            "['살이 좀 빠졌어요', '새 일도 시작하고', '음 그랬어요', '바쁘게 지냈어요', '술은 좀 는 것 같아', '나쁘진 않아', '계절이 바뀔 때 쯤 한번씩', '가슴이 먹먹해 혼자 이 길을 걸었어요', '서면역에서', '술 한잔 했어요', '우리의 추억이 가득한', '지하상가 거리도 ', '전포카페 골목도 그대론데', '그냥 한번 전화해봤어요', '미안해 하지 말아줘', '잘 지내고 있어요 걱정하지 말아요', '그대 나는 괜찮아', '우리가 처음 만난 그 날도', '비가 내렸어 ', '그 때 그 날 밤을 기억해요', '서면역에서', '술 한잔 했어요', '우리의 추억이 가득한', '지하상가 거리도 ', '전포카페 골목도 그대론데', '그냥 한번 전화해봤어요', '미안해 하지 말아줘', '잘 지내고 있어요 걱정하지 말아요', '그대 나는 괜찮아', '아주 많이 잊지는 말아줘요', '한땐 좋았었잖아 예뻤던 우리들', '서면역에서 술 한잔 어때요', '그대도 가끔 내 생각 하나요', '우리의 추억이 가득한', '떠나버린 시간은 담을 수가 없는 걸', '잘아는데', '그냥 한번 전화해봤어요', '미안해 하지 말아줘', '잘 지내고 있어요 걱정하지 말아요', '그대 나는 괜찮아']\n"
          ]
        },
        {
          "output_type": "stream",
          "name": "stderr",
          "text": [
            "\r203it [1:22:38, 26.91s/it]"
          ]
        },
        {
          "output_type": "stream",
          "name": "stdout",
          "text": [
            "43\n",
            "['분명 나는 꿈을 꾼 거다', '눈 떠보니 이별이더라', '휴대폰을 확인해 봤더니', '다시 봐도 이별이더라', '헛웃음만 흘러나왔고', '두 다리는 풀려 버렸고', '문득 스친 네 얼굴 생각나 눈물이', '하염없이 쏟아지는데', '대체 무슨 짓을 한 건데', '엎질러진 물에', '난 젖은 채로 꼼짝 못하고', '그 수많은 이별 뒤에도', '넌 분명히 사랑이었다 정말', '내 옆에 있었잖아 늘 여기 있었잖아', '네가 날 떠나가면 그냥 가버리면', '이런 식이면 나 곤란한데', '눈 떠보니 이별이더라', '이건 절대 현실이 아니야', '눈 감으면 꿈이 될 거야', '애써 부정해봐도 이별이 맞잖아', '눈물마저 말라버리고', '네 이름만 중얼거리고', '움직이지 못하고', '웅크린 채 너만 외치고 ', '그 수많은 이별 뒤에도', '넌 분명히 사랑이었다 정말', '내 옆에 있었잖아 늘 여기 있었잖아', '네가 날 떠나가면 그냥 가버리면', '이런 식이면 나 곤란한데', '꿈만 같던 사랑도', '다 이별하면 현실이야', '알람 하나 없이 깨어나', '한 번만 더 기회를 줘', '다시 하면 잘할 텐데', '내가 바보 같아 화가 나', '참을 수가 없다', '그 수많은 이별 뒤에도', '당연하게 이별이 온다 정말', '가슴을 찢어 놔도 네가 날 짓밟아도', '나 아닌 딴 사람과 평생 사랑해도', '나는 너 아니면 곤란한데', '평생 나는 너 아니면 안 되는데', '눈 떠보니 이별이더라']\n"
          ]
        },
        {
          "output_type": "stream",
          "name": "stderr",
          "text": [
            "\r204it [1:23:05, 26.92s/it]"
          ]
        },
        {
          "output_type": "stream",
          "name": "stdout",
          "text": [
            "30\n",
            "['듣고있나요 나의 이 모든 얘기를', '그댈 향한 내 깊은 진심을', '매일 그리움 속에 그대를 불러보지만', '닿을 수 없는 마음을', '나도 이젠 알 것 같아요', '내 안의 그대를 놓을 수 없네요', '애써도 그게 잘 안돼요', '마음과 반대로 밀어내려 할수록', '이토록 더 아파지네요', '기억하나요 나의 이 모든 얘기를', '그댈 향한 내 깊은 진심을', '매일 그리움 속에 그대를 불러보지만', '닿을 수 없는 마음을', '나도 이젠 알 것 같아요', '스쳐가는 이 계절을 지나', '언젠가는 멀어질 걸 아니까', '더 모질게 그댈 밀어냈어요 너무', '가슴이 미칠 듯 아파도', '듣고 있나요 나의 이 모든 얘기를', '그댈 향한 내 깊은 진심을', '매일 그리움 속에 그대를 불러보지만', '닿을 수 없는 마음을', '나도 이젠 알 것 같아요', '아무 이유 없이 눈물 나는 날에는', '그댈 찾아가고 있네요 이렇게', '기억해줘요 내 모든 날과 그때를', '지울수록 선명해지니까', '가슴 아프겠지만 그대를 보내야 해요', '나를 기억해주세요 나 그대만', '사랑했음을']\n"
          ]
        },
        {
          "output_type": "stream",
          "name": "stderr",
          "text": [
            "\r205it [1:23:24, 24.28s/it]"
          ]
        },
        {
          "output_type": "stream",
          "name": "stdout",
          "text": [
            "36\n",
            "['다툼 마저 그리운 요즘', '기척 없는 새벽 거리 같은 마음', '기억을 잃은 듯한 눈빛과', '진심이 닿은 지 오랜 녹슨 대화', '결국 끝내 파도에 휩쓸린 모래성처럼', '무너져가 흩어져', '아픔의 바다로 흘러가는 우리 사랑', '저 깊이 가라앉고 나면', '다시는 찾을 수 없는 그런', '이별 그 바닥에 버려질 추억', '너무 행복했지만 더는 없어', '널 잊을게 우리의', '마지막 노을을 함께하며 안녕', '모든 밤이 길어진 요즘', '눈을 감고 그때 우릴 느껴 가끔', '시간을 잊은 듯한 그날들', '말없이 서로를 알 수 있던 밤들', '결국 끝내 바람에 떨어진 낙엽들처럼', '무너져가 흩어져', '아픔의 바다로 흘러가는 우리 사랑', '저 깊이 가라앉고 나면', '다시는 찾을 수 없는 그런', '이별 그 바닥에 버려질 추억', '너무 행복했지만 더는 없어', '널 잊을게 우리의', '마지막 노을을 함께하며 안녕', '안녕 안녕 슬픔을 담기도 모자란 말', '오랜 사랑 차갑게 멈추기엔 짧은 그 말', '사라져가 서글픈 과거가 돼버린', '아름다운 모든 순간', '하나도 잊을 수가 없는', '다시는 가질 수 없는 그런', '아픈 이별 끝에 가려진 추억', '많이 힘들겠지만 더는 안돼', '기억할게 서로의 마지막', '노을을 함께하며 안녕']\n"
          ]
        },
        {
          "output_type": "stream",
          "name": "stderr",
          "text": [
            "\r206it [1:23:46, 23.60s/it]"
          ]
        },
        {
          "output_type": "stream",
          "name": "stdout",
          "text": [
            "38\n",
            "['지친 하루가 가고', '달빛 아래 두 사람', '하나의 그림자', '눈 감으면 잡힐 듯', '아련한 행복이 아직 저기 있는데', '상처 입은 마음은', '너의 꿈마저 그늘을 드리워도', '기억해줘 아프도록', '사랑하는 사람이 곁에 있다는 걸', '때로는 이 길이 멀게만 보여도', '서글픈 마음에 눈물이 흘러도', '모든 일이 추억이 될 때까지', '우리 두 사람', '서로의 쉴 곳이 되어주리', '너와 함께 걸을 때', '어디로 가야 할지', '길이 보이지 않을 때', '기억할게 너 하나만으로', '눈이 부시던 그 날의 세상을', '여전히 서툴고 또 부족하지만', '언제까지나 네 곁에 있을게', '캄캄한 밤 길을 잃고 헤매도', '우리 두 사람', '서로의 등불이 되어주리', '먼 훗날 무지개 저 너머에', '우리가 찾던 꿈 거기 없다 해도', '그대와 나 함께 보내는', '지금 이 시간들이', '내겐 그보다 더 소중한 걸', '때로는 이 길이 멀게만 보여도', '서글픈 마음에 눈물이 흘러도', '모든 일이 추억이 될 때까지', '우리 두 사람 서로의 쉴 곳이 되어', '서툴고 또 부족하지만', '언제까지나 곁에 있을게', '모진 바람 또 다시 불어와도', '우리 두 사람', '저 거친 세월을 지나가리']\n"
          ]
        },
        {
          "output_type": "stream",
          "name": "stderr",
          "text": [
            "\r207it [1:24:09, 23.58s/it]"
          ]
        },
        {
          "output_type": "stream",
          "name": "stdout",
          "text": [
            "31\n",
            "['슬픈 예감 앞에 굳게 감아진 두 눈', '지금 고개 들면 넌 떠나갈 텐데', '못난 걸음은 멈춰버리고', '숨소리마저 다 아는 듯', '적막한 두려움 속에', '결국 너를 놓치고 말겠지', '널 그리면서 매일 울며 보내겠지', '겨우 눈을 뜨고서 너를 보내면', '나는 어쩌면 나는 어쩌면', '하루도 못 살 것 같아', '이제 난 하루살이', '하루하루 내일도 잃어버린 채', '너를 사랑했던 오늘만을 살고', '내게 웃어 준 네 얼굴을 그리다', '사라지겠지 어둠 속으로', '너의 뒷모습만 내게 남아', '날 원망하고 매일 취한 채 살겠지', '그렇게도 기다린 봄은 오지만', '나는 어쩌면 여기', '너 없는 겨울에 갇힌 채 살아', '겨우겨우 살아내도', '사랑한 네가 없는데', '여름 장마처럼 울다 보면 올까', '낙엽 되어 내 마음 위로 내릴까', '의미 없겠지 모든 계절의 난', '너의 곁에 머물던 너를 사랑했던', '너를 안았던 나의 마음을 기억해줘', '하루하루 내일도 잃어버린 채', '너를 사랑했던 오늘만을 살고', '내게 웃어 준 네 얼굴을 그리다', '사라지겠지 기억 속으로']\n"
          ]
        },
        {
          "output_type": "stream",
          "name": "stderr",
          "text": [
            "\r208it [1:24:28, 22.26s/it]"
          ]
        },
        {
          "output_type": "stream",
          "name": "stdout",
          "text": [
            "35\n",
            "['햇살이 좋았던 그 날', '그만하자며 말을 하는 너', '전혀 믿어지지가 않아', '지금 이순간 모든 시간이 멈춘 듯', '어떤 말을 해야할지', '어떤 표정 지어야할지', '아무것도 생각나지를 않아', '솔직하게 말해서 나', '헤어질 자신이 없어', '괜찮은 척 웃으며 널', '보내줄 자신이 없어', '네가 없는 내 하루', '하루도 생각한 적 없는데', '나보다 나를 니가 더 잘 알면서', '마지막 인사를 하며', '멀어져가는 너를 보며', '아무것도 할수있는 게 없어', '솔직하게 말해서 나', '헤어질 자신이 없어', '괜찮은 척 웃으며 널', '보내줄 자신이 없어', '네가 없는 내 하루', '하루도 생각한 적 없는데', '나보다 나를 니가 더 잘 알면서', '이별앞에 서 있는 너의 눈에 비춰진', '애써 웃는 내 모습이', '나를 더욱 아프게만해', '솔직하게 말할게 나', '헤어지고 싶지 않아', '너 없이 나 혼자서', '지낼 자신이 난 없어', '네가 없는 내 하루 하루도', '견딜수가 없는데', '나보다 네가 먼저였던 날', '나보다 나를 니가 더 잘 알면서']\n"
          ]
        },
        {
          "output_type": "stream",
          "name": "stderr",
          "text": [
            "\r209it [1:24:50, 22.06s/it]"
          ]
        },
        {
          "output_type": "stream",
          "name": "stdout",
          "text": [
            "33\n",
            "['처음부터 그대였죠', '나에게 다가올 한 사람', '단 한 번의 스침에도', '내 눈빛이 말을 하죠', '바람처럼 스쳐가는', '인연이 아니길 바래요', '바보처럼 먼저 말하지 못했죠', '할 수가 없었죠', 'You Are My Everything', '별처럼 쏟아지는 운명에', '그대라는 사람을 만나고', '멈춰버린 내 가슴속에', '단 하나의 사랑', 'You Are My Everything', '안갯속에 피어나는', '하얗게 물들은 그대 모습', '한순간에 내게 심장이', '멈출 듯 다가와 버렸죠', 'You Are My Everything', '별처럼 쏟아지는 운명에', '그대라는 사람을 만나고', '멈춰버린 내 가슴속에', '단 하나의 사랑', 'You Are My Everything', '시작도 못 했던 나의 사랑을', '이제는 말할 수 있죠', '누구도 가질 수 없는 기적인데', 'You Are My Everything', '뜨거운 내 사랑은 그댄 걸', '계절이 변해도 난 이곳에', '멈춰버린 내 가슴속에', '단 하나의 사랑', 'You Are My Everything']\n"
          ]
        },
        {
          "output_type": "stream",
          "name": "stderr",
          "text": [
            "\r210it [1:25:10, 21.59s/it]"
          ]
        },
        {
          "output_type": "stream",
          "name": "stdout",
          "text": [
            "54\n",
            "['조그만 날갯짓 널 향한 이끌림  ', '나에게 따라오라 손짓한 것 같아서 ', '애절한 눈빛과 무언의 이야기  ', '가슴에 회오리가 몰아치던 그날 밤 ', '오묘한 그대의 모습에 넋을 놓고  ', '하나뿐인 영혼을 뺏기고 ', '그대의 몸짓에 완전히 취해서 ', '숨 쉬는 것조차 잊어버린 나인데 ', '왈츠처럼 사뿐히 앉아 ', '눈을 뗄 수 없어 시선이 자연스레 ', '걸음마다 널 따라가잖아 ', '날 안내해줘 ', 'yeah 그대가 살고 있는 곳에 ', '나도 함께 데려가줘 ', 'oh 세상의 끝이라도 뒤따라갈 테니 ', '부디 내 시야에서 벗어나지 말아줘  ', '아침이 와도 사라지지 말아줘 oh ', '꿈을 꾸는 걸음 ', '그댄 나만의 아름다운 나비 ', 'oh woo-hoo-hoo oh yeah-  ', 'woo-hoo-hoo yeah woo-hoo-hoo ', '어디서 왔는지 어디로 가는지  ', '친절히 여기까지 마중을 와준 너 ', '가파른 오르막 깎아진 절벽도  ', '걱정마 무엇도 두려울 것이 없으니 ', '너는 뽐내 우아한 자태 ', '오 난 몇 번이고 반하고 ', '사랑은 이렇게 나도 모르게 ', '예고도 없이 불시에 찾아와 ', '왈츠처럼 사뿐히 앉아 눈을 뗄 수  ', '없어 시선이 자연스레 걸음마다 ', '널 따라가잖아 oh no ', '날 안내해줘 ', 'yeah 그대가 살고 있는 곳에 ', '나도 함께 데려가줘 ', 'oh 세상의 끝이라도 뒤따라갈 테니 ', '부디 내 시야에서 벗어나지 말아줘  ', '아침이 와도 사라지지 말아줘 oh ', '꿈을 꾸는 걸음 ', '그댄 나만의 아름다운 나비 ', '낯선 곳을 헤맨다 해도 ', '길을 잃어버린대도 누구보다 ', '솔직한 나의 맘을 따를거야 ', '조용히 눈에 띄는 몸짓', '강하고 부드러운 눈빛', '거부할 수 없는 나니까 yeah', '날 데려가줘', 'yeah 그대가 살고 있는 곳에', '나도 함께 데려가줘', 'oh 세상의 끝이라도 따라갈게 oh no', '내 시야에서 벗어나지 말아줘 ', '아침이 와도 사라지지 말아줘 oh', '조그마한 손짓 나의 가슴엔 ', '회오리가 친다']\n"
          ]
        },
        {
          "output_type": "stream",
          "name": "stderr",
          "text": [
            "\r211it [1:25:43, 24.94s/it]"
          ]
        },
        {
          "output_type": "stream",
          "name": "stdout",
          "text": [
            "31\n",
            "['이젠 내가 돌아서려 해 ', '다신 그 사람과 ', '네 앞에서 보이지 않게 ', '이제 너에겐 어떤 바램도 ', '작은 기대조차 할 수 없는 나잖아 ', '하지만 시간이 많이 지난 후에도 ', '나의 숨결 나의 향기 ', '네게 묻어있다면 ', '언제나 힘들던 이룰 수 없던 사랑 ', '너에게도 너무 큰 아픔이었다면 ', '다시 내게 돌아와 ', '너를 떠나보내고 ', '후회하고 있는 내게 ', '함께 할 수 없음이 ', '나에겐 너무도 ', '커다란 아픔인 걸 아니 ', '언제나 힘들던 이룰 수 없던 사랑 ', '너에게도 너무 큰 ', '아픔이었다면 돌아와 줘', '후회 없는 사랑하기 위해 ', '내가 택한 사람은 너뿐야 ', '언젠간 내게 돌아와 줄 너잖아 ', '힘든 시간 다 지나고 ', '오랜 간절함에 되찾은 ', '내 마지막 사랑인 걸', '다시 내게 돌아와 ', '너를 떠나보내고 ', '후회하고 있는 내게 ', '함께 할 수 없음이 ', '나에겐 너무도 ', '커다란 아픔인 걸 아니 ']\n"
          ]
        },
        {
          "output_type": "stream",
          "name": "stderr",
          "text": [
            "\r212it [1:26:02, 23.24s/it]"
          ]
        },
        {
          "output_type": "stream",
          "name": "stdout",
          "text": [
            "33\n",
            "['오늘은 힘이 없어 보여요', '무엇이 그댈 힘들고 지치게 했나요', '혼자라고 느끼지는 말아요', '자기탓이라 생각지도 말아요', '선물 같은 사람아 아름다운 사람', '이젠 다시 울지 말아요', '다음생이 있다면', '당신을 만나서 다시 사랑할래요', '당신과 함께한 그 모든 순간이', '꿈처럼 아름다운데', '난 그대여서 행복한데', '당신을 항상 난 지켜줄게요', '그대만 보는 강아지처럼', '세월이 그댈 변하게 해도', '내 눈엔 처음 본 기억 그대로인 거죠', '세상 가장 아름답고 맑았던', '그 미소 잊혀지지 않으니까요', '이 힘든 세상 당신과 함께한다면', '살아갈만한 곳인 걸요', '다음생이 있다면', '당신을 만나서 다시 사랑할래요', '당신을 알게 된 이 모든 시간이', '꿈처럼 너무 짧은데', '난 그대여서 행복한데', '당신과 함께 난 늙어갈래요', '세월이 우릴 갈라 놓아도', '이 별에 온 것은', '당신을 찾게 된 것은 행운이었죠', '당신의 입술과 당신의 미소를', '닮아갈 수 있다는게', '내 눈에 담는다는게', '그 미소 영원히 지켜줄게요', '이 별을 떠나는 날까지']\n"
          ]
        },
        {
          "output_type": "stream",
          "name": "stderr",
          "text": [
            "\r213it [1:26:23, 22.43s/it]"
          ]
        },
        {
          "output_type": "stream",
          "name": "stdout",
          "text": [
            "43\n",
            "['우리 헤어지면 안되잖아', '우리 이별하긴 이르잖아', '이렇게 날 떠나가면 안돼요', '내가 하지 못한 말들이 ', '아직 너무 많은데', '이대로 날 떠나가지 마세요', '그대이기 때문에 난', '정말 그대였기 때문에 난', '이대로는 이대로는 난 안돼요', '내가 살아가는 이유는 ', '오직 그대뿐이죠 ', '제발 나를 떠나가지 말아요', '그대는 내 사랑 그리운 ', '내 사랑 날 사랑했던 사람', '이제는 만질 수 없지만', '내가 그리운 만큼 그대도 그리운가요', '내가 미칠 듯이 사랑했던 그 사람 ', 'hello ', '사랑했기 때문에 난', '정말 사랑했기 때문에 난', '죽을 만큼 죽을 만큼 힘드네요', '죽지 못해 살아가고 있는 ', '내가 보이나요', '제발 내게 다시 돌아와줘요', '그대는 내사랑 그리운 내사랑 ', '날 사랑했던 사람', '이제는 만질 수 없지만', '내가 그리운 만큼 그대도 그리운가요', '내가 미칠 듯이 사랑했던 그 사람', '겨우 이대로 끝날 거라면', '정말 마지막이라면', '지금 돌아가 ', '그때로 서로 몰랐던 그때로', '너무 늦어버리면 너무 늦어버리면', '내가 살아가는 게 너무 힘이 들어 ', '날 버릴까 봐', '정말 이대로 끝날 거라면', '이게 마지막이라면', '지금 돌아가 그때로 ', '서로 몰랐던 그때로', '너무 늦어버리면 너무 늦어버리면', '내가 살아가는 게 ', '너무 힘이 들어 날 버릴까 봐']\n"
          ]
        },
        {
          "output_type": "stream",
          "name": "stderr",
          "text": [
            "\r214it [1:26:50, 23.76s/it]"
          ]
        },
        {
          "output_type": "stream",
          "name": "stdout",
          "text": [
            "40\n",
            "['어떠니 잘 지냈니 지난 여름', '유난히도 힘에 겹더라 올핸', '새벽녘엔 제법 쌀쌀한 바람이 어느덧', '니가 좋아하던 그 가을이 와', '사랑도 그러게 별수없나 봐', '언제 그랬냐는 듯 계절처럼 변해가', '그리워져 미치도록 사랑한 그날들이', '내 잃어버린 날들이', '참 많이 웃고 울었던 그때', '그 시절의 우리', '니가 떠올라 밤새', '참 아프다 니가 너무 아프다', '너를 닮은 이 시린 가을이 오면', '보고 싶어서 너를 안고 싶어서', '가슴이 너를 앓는다', '어떠니 넌 괜찮니 지금쯤은', '나를 잊고 편안해졌니 이젠', '우습지 잘살길 바라면서도', '막상 날 잊었을 널 떠올리면 서글퍼', '그리워져 미치도록 사랑한 그날들이', '내 잃어버린 날들이', '참 많이 웃고 울었던 그때', '그 시절의 우리', '니가 떠올라 밤새', '참 아프다 니가 너무 아프다', '너를 닮은 이 시린 가을이 오면', '보고 싶어서 너를 안고 싶어서', '가슴이 너를 앓는다', '너라는 계절 안에 살아', '여전히 너를 꿈꾸며', '고마워져 그 날들이', '내 지나버린 날들이', '추억은 짐이 아니라', '살게 하는 힘이란 걸', '가르쳐준 너니까', '또 설렌다 아프도록 설렌다', '너를 닮은 눈부신 가을이 오면', '니가 떠올라 그리움이 차올라', '눈물로 너를 앓는다', '밤새 또 너를 앓는다']\n"
          ]
        },
        {
          "output_type": "stream",
          "name": "stderr",
          "text": [
            "\r215it [1:27:14, 23.91s/it]"
          ]
        },
        {
          "output_type": "stream",
          "name": "stdout",
          "text": [
            "37\n",
            "['안녕 안녕 안녕', '사랑한 그녀가 보내 달라 하네요', '안녕 안녕 안녕 밤하늘 별들아', '그녀 가는 길 비춰주길 Good bye', '하나만 알려주세요', '어디에 살고 있을지', '몇 년쯤이야', '지금의 눈물쯤은 참을 수 있겠죠', '시간이 흘러간 데도', '십 년이 지나간 데도', '그때도 사랑이면 난 어떡합니까', '어디서 그녀를 찾아야 합니까', '안녕 안녕 안녕', '돌아선 그녀가 멀어져만 가네요', '안녕 안녕 안녕 부탁해 빗물아', '그녀 눈물을 씻겨', '하나만 알려주세요', '어디에 살고 있을지', '몇 년쯤이야', '지금의 눈물쯤은 참을 수 있겠죠', '시간이 흘러간 데도', '십 년이 지나간 데도', '그때도 사랑이면 난 어떡합니까', '어디서 그녀를 찾아야 합니까', '들어줘요 내 사랑을', '도와줘요 누구든지', '알고 있다면', '그 누구라도 데려다줘요', 'How do I live', '하나만 전해주세요', '그녀와 마주친다면 적어도 한땐', '그녀의 전부였던 나의 그 이름을', '그녀도 기억한다면', '그녀도 울고 있다면', '그리움 하나라도 꼭 남아있다면', '내가 갈게요 날 기다려줘요', '그녀를 꼭 찾아주세요']\n"
          ]
        },
        {
          "output_type": "stream",
          "name": "stderr",
          "text": [
            "\r216it [1:27:37, 23.57s/it]"
          ]
        },
        {
          "output_type": "stream",
          "name": "stdout",
          "text": [
            "63\n",
            "['세상이 어두워지고', '조용히 비가 내리면', '여전히 그대로', '오늘도 어김없이 난', '벗어나질 못하네', '너의 생각 안에서', '이제 끝이라는 걸 알지만', '미련이란 걸 알지만', '이제 아닐 걸 알지만', '그까짓 자존심에 ', '널 잡지 못했던 내가', '조금 아쉬울 뿐이니까', '비가 오는 날엔 나를 찾아와', '밤을 새워 괴롭히다', '비가 그쳐가면 너도 따라서', '서서히 조금씩 그쳐가겠지', '취했나 봐 ', '그만 마셔야 될 것 같애', '비가 떨어지니까 ', '나도 떨어질 것 같애', '뭐 네가 보고 싶다거나 ', '그런 건 아냐', '다만 우리가 가진 시간이 좀', '날카로울 뿐', '네가 참 좋아했었던 이런 날이면', '아직 너무 생생한 ', '기억을 꺼내놓고', '추억이란 덫에 ', '일부러 발을 들여놔', '벗어나려고 발버둥조차 ', '치지 않아', '이제 너를 다 지워냈지만', '모두 다 비워냈지만', '또다시 비가 내리면', '힘들게 숨겨놨던 ', '너의 모든 기억들이', '다시 돌아와 널 찾나 봐', '비가 오는 날엔 나를 찾아와', '밤을 새워 괴롭히다', '비가 그쳐가면 너도 따라서', '서서히 조금씩 그쳐가겠지', '너에게로', '이젠 돌아갈 길은 없지만', '지금 행복한 너를 보며', '난 그래도 웃어볼게 ', '널 잡을 수 있었던', '힘이 내겐 없었으니까', '비가 오는 날엔 나를 찾아와', '밤을 새워 괴롭히다', '비가 그쳐가면 너도 따라서', '서서히 조금씩 그쳐 가겠지', '어차피 끝나버린 걸 이제 와', '어쩌겠어', '뒤늦게 후회나 하는 거지 ', '덜떨어진 놈처럼', '비는 항상 오니까 ', '계속 반복되겠지', '그치고 나면 그제서야 ', '나도 그치겠지', '비는 항상 오니까 ', '계속 반복되겠지', '그치고 나면 그제서야 ', '나도 그치겠지']\n"
          ]
        },
        {
          "output_type": "stream",
          "name": "stderr",
          "text": [
            "\r217it [1:28:16, 28.28s/it]"
          ]
        },
        {
          "output_type": "stream",
          "name": "stdout",
          "text": [
            "42\n",
            "['텅 빈 회색 빛 거린 참 허전해', '쓸쓸한 기분에 유리창을 열어', '내민 두 손 위로 떨어진 빗방울', '가득 고이는 그리움 나의 맘에 흘러', '왠지 네가 보고픈 밤', '차오르는 눈물', '떠오르는 나의 맘 속', '비가 오면 내리는 기억에', '번지는 아픔에', '흠뻑 쏟아지는 너를 보다', '선명했던 그 시간에 멈춘 채', '추억에 젖은 채', '아름다웠던 너를 그려 in the Rain', '길었던 참 눈이 부셨던 계절도', '사진첩 속에 얼룩져 색이 바래질까', '점점 깊어가는 이 밤', '잊지 못한 약속', '따뜻했던 품도 안녕', '비가 오면 내리는 기억에', '번지는 아픔에', '흠뻑 쏟아지는 너를 보다', '선명했던 그 시간에 멈춘 채', '추억에 젖은 채', '아름다웠던 너를 그려 in the Rain', '흑백뿐인 세상 속', '한줄기의 빛이 돼준 너', 'Rain 비가 되어 다가와', '내 영혼을 환히 밝혀줘', 'Doo doo doo doo doo doo doo', 'Doo doo doo doo doo doo doo', 'Doo doo doo doo doo doo doo', 'Doo doo doo doo doo doo doo', 'Doo doo doo doo doo doo doo', 'Doo doo doo doo doo doo doo', 'Woo Woo Woo who who who ', '우산 아래 나직했던 속삭임 Woo Woo ', '가슴 한 켠에 퍼져 네가 들려', '오늘 하루 내 안부를 묻듯이', '편안한 빗소리', '아련히 물든 기억 너란 빗속에', 'Woo Woo rain Woo', 'Dreaming in the Rain']\n"
          ]
        },
        {
          "output_type": "stream",
          "name": "stderr",
          "text": [
            "\r218it [1:28:41, 27.38s/it]"
          ]
        },
        {
          "output_type": "stream",
          "name": "stdout",
          "text": [
            "38\n",
            "['웃고 떠들던 날들', '두 손을 잡아준 채로', '너의 행복을 빌어주었던', '사소한 기쁨', '그게 우릴 채워줬고', '설레임으로 잠들던 날들', '누구나 다 할 수 있는 일이라', '흔하다 생각하겠지만', 'When I’m thinkin’ bout you', '많은 사람 중 한 사람 내게', '전부가 되었단 말을 이제 알아서', 'When I’m thinkin’ bout you', '흔하다고 생각했던 우리 모습이', '너와 내 전부가 될 거야', '작다고 여긴 뻔하다 얘기했었던', '그 마음들이 때론 모든 걸', '잊게 할 만큼 너무 큰일들이 되고', '어느새 우린 전부가 되었지', '누구나 다 알 수 있는 일이라', '흔하다 생각했겠지만', 'When I’m thinkin’ bout you', '많은 사람 중 한 사람 내게', '전부가 되었단 말을 이제 알아서', 'When I’m thinkin’ bout you', '흔하다고 생각했던 우리 모습이', '너와 내 전부가 될 거야', 'When I’m thinkin’ bout you', '내게 꼭 들어맞는 한 사람', '그 사람이 있단 말을 알 것 같아서', 'When I’m thinkin’ bout you', '흔하다고 생각했던 사랑 이야기가', '이젠 나의 전부야', 'When I’m thinkin’ bout you', '많은 사람 중 한 사람 내게', '전부가 되었단 말을 이제 알아서', 'When I’m thinkin’ bout you', '흔하다고 생각했던 우리 모습이', '너와 내 전부가 될 거야']\n"
          ]
        },
        {
          "output_type": "stream",
          "name": "stderr",
          "text": [
            "\r219it [1:29:05, 26.21s/it]"
          ]
        },
        {
          "output_type": "stream",
          "name": "stdout",
          "text": [
            "27\n",
            "['오늘같이 싱그러운 날', '길거리 차도 별로 다니지 않아 ', '문득 지나가다 거울을 보면 ', '오늘 내 모습은 좀 예뻐 보이네 ', '이따가 널 보면 무슨 말을 할까 ', '날씨가 좋다고 뻔한 ', '말이라도 건네볼까 ', '어색한 장난이라도 용감하게 ', '오늘은 널 웃음 짓게 만들 거야 ', 'I’m in madeleine love ', 'I’m in madeleine love ', 'I’m in madeleine love ', '오늘같이 햇볕 좋은 날엔 ', '매일 걷던 거리도 지겹지 않아 ', '문득 지나가다 거울을 보면 ', '내 얼굴도 이 정도면 잘생겼네 ', '이따가 널 보면 무슨 말을 할까 ', '날씨가 좋다고 ', '공원이라도 좀 걷자 할까 ', '짓궂은 장난이라도 용감하게 ', '오늘은 널 웃음 짓게 만들 거야 ', 'I’m in madeleine love ', 'I’m in madeleine love ', 'I’m in madeleine love ', 'I’m in madeleine love', 'I’m in madeleine love', 'I’m in madeleine love']\n"
          ]
        },
        {
          "output_type": "stream",
          "name": "stderr",
          "text": [
            "\r220it [1:29:22, 23.47s/it]"
          ]
        },
        {
          "output_type": "stream",
          "name": "stdout",
          "text": [
            "43\n",
            "['며칠 밤을 생각해봤어', '이대로 진짜 헤어지는 게 맞는지', '우리 돌아섰던', '날 동안 다 엉망이 됐어', '네가 곁에 없어서', '힘들었겠지 나도 그런 것 같아 꼭', '그렇다고 다들 이렇게', '서로 놓진 않으니까', '그냥 안아달란 말야', '달라진 일상과 너마저', '없는 하루가 상상이 안 돼', '한순간에 처음으로', '돌아갈 수는 없겠지만', '너만 거기 있다면 함께 한다면', '다 상관없어', '안아달란 말야', '이기적이라는 거 알아', '나를 더 이해해주기를 바랬어', '못난 자존심을 앞세워 너의 한숨들을', '모른 척 지나갔어', '이제 와서야 내 맘도 알 것 같다는 너', '힘들었겠다는 그 말에', '불쑥 눈물이 나와서', '그냥 안아달란 말야', '달라진 일상과 너마저 없는 하루가', '상상이 안 돼', '한순간에 처음으로', '돌아갈 수는 없겠지만', '너만 거기 있다면 함께 한다면', '다 상관없어', '안아달란 말야', '잡으려 할수록', '더 멀리 가 버릴까 봐', '가려다 멈췄다 돌아서서 흐르는', '시간만 아까워서 안타까워', '그냥 안아달란 말야', '그냥 꽉 안고서 다른 상황이', '우릴 다시 갈라놓아도', '수많았던 걱정과 불안했던', '내 삶에 너는', '유일한 이유였다고', '전부였다고 다 말하잖아', '알아달란 말야']\n"
          ]
        },
        {
          "output_type": "stream",
          "name": "stderr",
          "text": [
            "\r221it [1:29:48, 24.34s/it]"
          ]
        },
        {
          "output_type": "stream",
          "name": "stdout",
          "text": [
            "42\n",
            "['행복을 줄 수 없었어', '그런데 사랑을 했어', '니곁에 감히 머무른', '내 욕심을 용서치마', '방황이 많이 남았어', '그 끝은 나도 모르는곳', '약하게 태어나서 미안해', '그래서 널 보내려고 해', '언젠가는 돌아갈께', '사랑할 자격 갖춘 나 되어', '너의 곁으로 돌아갈께', '행복을 줄 수 있을 때', '아파도 안녕', '잠시만 안녕', '언제나 위태로운 나', '그런 내가 널 사랑을 했어', '외로운 고독이 두려워', '빨리 못 보내 미안해', '사는게 참 힘들었어', '널 보며 난 견뎠어', '허나 네겐 보여줄 수', '없는 내 삶', '이별로 널 지키려해', '언젠가는 돌아갈께', '흔들리지 않는 나 되어', '늦지않게 돌아갈께', '널 많이 사랑하니까', '아파도 안녕', '슬퍼도 안녕', '언젠가는 돌아갈께', '사랑할 자격 갖춘 나 되어', '너의 곁으로 돌아갈께', '행복을 줄수 있을 때', '아파도 안녕', '널 위해 안녕', '너와 내가 사랑하면', '우리가 정말 사랑한다면', '언젠가는 만날꺼야', '행복을 줄 수 있을 때', '조금만 울자 잠시만 울자', '아파도 안녕', '널 위해 안녕']\n"
          ]
        },
        {
          "output_type": "stream",
          "name": "stderr",
          "text": [
            "\r222it [1:30:15, 24.91s/it]"
          ]
        },
        {
          "output_type": "stream",
          "name": "stdout",
          "text": [
            "61\n",
            "['기어코 떠나버린 사람아', '편안히 가렴', '날으는 그 하늘에 미련 따윈', '던져버리고', '바뀌어버린 하루에', '익숙해져 봐', '내겐 네가 없는 하루만큼', '낯설 테니까', '모두 이별하는 사람들', '그 속에 나 우두커니', '어울리는 게', '우리 정말 헤어졌나 봐', '모르게 바라보았어', '네가 떠난 모습', '너의 가족 멀리서', '손 흔들어주었지', '하늘에 네가 더 가까이 있으니', '기도해 주겠니', '떠올리지 않게 흐느끼지 않게', '무관심한 가슴 가질 수 있게', '도착하면 마지막', '전화 한 번만', '기운찬 목소리로 잘 왔다고', '인사 한 번만', '그저 그것뿐이면 돼', '습관처럼 알고 싶던', '익숙한 너의 안부', '거기까지만', '이별하는 사람들', '그 속에 나 우두커니', '어울리는 게', '정말 헤어졌나 봐', '모르게 바라보았어', '네가 떠난 모습', '너의 가족 멀리서', '손 흔들어 주었지', '하늘에 네가 더 가까이 있으니', '기도해 주겠니', '떠올리지 않게 흐느끼지 않게', '무관심한 가슴 가질 수 있게', '다른 눈의 사람들 속에서', 'yo every night', '외로워져도 서러워도', '나를 찾지 마', '모르게 바라보았어', '네가 떠난 모습', '너의 가족 멀리서 떠나가', '손 흔들어주었지 돌아오지 마', '하늘에 네가 더 가까이 있으니', '기도해 주겠니', '떠올리지 않게 흐느끼지 않게', '무관심한 가슴 가질 수 있게', '모르게 바라보았어', '네가 떠난 모습 마지막 네 모습', '너의 가족 멀리서', '손 흔들어주었지', '나 잊기를 원해 oh 원해', '하늘에 네가 더 가까이 있으니', '기도해 주겠니', '떠올리지 않게 흐느끼지 않게', '무관심한 가슴 가질 수 있게']\n"
          ]
        },
        {
          "output_type": "stream",
          "name": "stderr",
          "text": [
            "\r223it [1:30:52, 28.81s/it]"
          ]
        },
        {
          "output_type": "stream",
          "name": "stdout",
          "text": [
            "40\n",
            "['술 한잔 해요 날씨가 쌀쌀하니까', '따끈따끈 국물에 소주 한잔 어때요', '시간 없다면 내 시간 빌려줄게요', '그대 떠나간 후에 내 시간은 넘쳐요', '눈치 없는 여자라 생각해도 좋아요', '난 그냥 편하게 그대와', '한잔하고 싶을 뿐', '괜찮다면 나와요', '우리의 사랑이 뜨겁던', '우리의 사랑을 키웠던', '그 집에서 먼저 한잔 했어요', '조금 취했나 봐요', '그대가 내 앞에 있는 것 같아', '바보처럼 자꾸 눈물이 나요', '그대 마음이 차갑게 식어갔듯이', '따뜻했던 국물도 점점 식어가네요', '한잔 더 하고 이제 난 일어날래요', '비틀대는 내 모습 보기 싫어질까봐', '오늘따라 그대가 너무 보고 싶어서', '난 그냥 편하게 그대와', '한 잔하고 싶었죠', '괜찮다면 나와요', '우리의 사랑이 뜨겁던', '우리의 사랑을 키웠던', '그 집에서 먼저 한잔 했어요', '조금 취했나 봐요', '그대가 내 앞에 있는 것 같아', '바보처럼 자꾸 눈물이 나요', '술잔 속엔 눈물이', '마음 속엔 그대가 흘러 넘치잖아', '그대 가슴에 안겨', '그대의 가슴에 쓰러져', '그대의 가슴에 무너져', '마음 놓고 울어보고 싶어요', '늦게라도 와줘요', '나 혼자 이렇게 울게 하지마', '우린 항상 같이 있었으니까', '사랑해요 사랑해요', '사랑하기 싫어서 미치겠어', ' ']\n"
          ]
        },
        {
          "output_type": "stream",
          "name": "stderr",
          "text": [
            "\r224it [1:31:17, 27.65s/it]"
          ]
        },
        {
          "output_type": "stream",
          "name": "stdout",
          "text": [
            "40\n",
            "['무슨 말을 할까 ', '어디서부터 어떻게', '고개만 떨구는 나 ', '그런 날 바라보는 너 ', '그 어색한 침묵 ', '널 사랑하지 않아 ', '너도 알고 있겠지만 ', '눈물 흘리는 너의 모습에도 내 마음 ', '아프지가 않아 ', '널 사랑하지 않아 ', '다른 이유는 없어 ', '미안하다는 말도 ', '용서해 달란 말도 ', '하고 싶지 않아 ', '그냥 그게 전부야 ', '이게 내 진심인 거야', '널 사랑하지 않아 ', '널 사랑하지 않아 ', '널 사랑하지 않아 ', '너도 알고 있겠지만 ', '눈물 흘리는 너의 모습에도 내 마음 ', '아프지가 않아', '널 사랑하지 않아 ', '다른 이유는 없어 ', '미안하다는 말도 ', '용서해 달란 말도 ', '하고 싶지 않아', '그냥 그게 전부야 ', '이게 내 진심인 거야 ', '널 사랑하지 않아 ', '널 사랑하지 않아 ', '널 사랑하지 않아 ', '다른 이유는 없어 ', '미안하다는 말도 ', '용서해 달란 말도 ', '하고 싶지 않아 ', '그냥 그게 전부야 ', '이게 내 진심인 거야 ', '널 사랑하지 않아 ', '널 사랑하지 않아 ']\n"
          ]
        },
        {
          "output_type": "stream",
          "name": "stderr",
          "text": [
            "\r225it [1:31:42, 26.84s/it]"
          ]
        },
        {
          "output_type": "stream",
          "name": "stdout",
          "text": [
            "41\n",
            "['it`s a beautiful life', '난 너의 곁에 있을게', 'it`s a beautiful life', '너의 뒤에 서 있을게', 'beautiful love', '하늘아래 너와 있다면', '숨쉬는 것만으로도 좋아', 'it`s a beautiful life', 'beautiful day', '너의 기억에서 내가 살텐데', 'beautiful life beautiful day', '내 곁에서 머물러줘', 'beautiful my love', 'beautiful your heart', 'it`s a beautiful life', 'it`s a beautiful life', 'it`s a beautiful life', '언제나 널 지켜줄게', 'it`s a beautiful life', '내게 기댈수가 있게', 'beautiful love', '너의 눈물 너의 미소도', '곁에서 함께 할 수 있도록', 'it`s a beautiful life', 'beautiful day', '미치도록 널 사랑했었던 날', 'beautiful life beautiful day', '너를 잃고 싶지 않아', 'beautiful my love', 'beautiful your heart', 'it`s a beautiful life', '세상에 너와 닮은 추억이', '또 덩그러니 내게 남겨져있어', '너와의 기억 너와의 추억', 'it`s a sorrowful life', 'sorrowful day', '슬픔을 이기지 못하는 내게', 'sorrowful life sorrowful day', '내 곁에서 떠나지마', '추억속에 내가 살지 않도록', 'it`s a beautiful life']\n"
          ]
        },
        {
          "output_type": "stream",
          "name": "stderr",
          "text": [
            "\r226it [1:32:08, 26.51s/it]"
          ]
        },
        {
          "output_type": "stream",
          "name": "stdout",
          "text": [
            "47\n",
            "['어떤 날에든 저녁 하늘은', '못 올려보는 습관이 있어', '온 세상이 날 떠나는듯한', '이상한 그 기분이 싫어', '멀리 떨어지는 저 해는', '내일 다시 올텐데', '나를 비춰줬던 햇살은', '아닐 것 같아', '니가 가도 사랑은 다시 오고', '소란스런 이별을 겪어봐도', '이렇게 너는 너는 너는', '자꾸 맘에 걸려', '가끔씩은 좋아서 웃긴 하고', '더 가끔씩은 행복의 맛을 봐도', '아직도 너는 너는 너는', 'Deep in me', '누군가에게 맘을 줄 때면', '반을 남기는 습관이 있어', '다 줘버리면 떠날 것 같은', '이상한 그 예감이 싫어', '반쯤 아껴둔 이 맘', '누구 줄 수 조차 없는데', '반쯤 고장나버린 나를', '들키긴 싫어', '니가 가도 사랑은 다시 오고', '소란스런 이별을 겪어봐도', '이렇게 너는 너는 너는', '자꾸 맘에 걸려', '가끔씩은 좋아서 웃긴 하고', '더 가끔씩은 행복의 맛을 봐도', '아직도 너는 너는 너는', 'Deep in me', '너의 맘은 어디쯤일까', '나를 맴돈 적은 있을까', '나처럼 아주 가끔', '시간이라는 게', '다 지우지는 못 하나봐', '아직도 네 이름은', '편히 말하질 못해', '니가 아닌 누군가 나를 안고', '내가 아닌 누군가 너를 안고', '이렇게 오래 오래 오래', '나날들이 가도', '하지 못한 말들이 입에 남아', '다 주지 못한 사랑이 맘에 남아', '어쩌면 너는 너는 너는', 'Still in me']\n"
          ]
        },
        {
          "output_type": "stream",
          "name": "stderr",
          "text": [
            "\r227it [1:32:37, 27.27s/it]"
          ]
        },
        {
          "output_type": "stream",
          "name": "stdout",
          "text": [
            "29\n",
            "['인스타로 몰래 보는 너의 하루들', '누가 봐도 헤어진 티를 내', '팔로우 다 끊고서 좋아요는 왜 눌렀니', '참 바보 같은 사람이야', '잘 먹지도 못하는 술은 왜 매일 마시고', '늘 예쁜 얼굴 많이 야위었어', '혼자 있으면 나도 그래', '술이 없으면 못 자고 많이 괴로워해', '이럴 거면 우리 미친 척하고', '다시 만날까 봐', '다시 시작할까 봐', '친구들 만나는 거 그렇게 좋아하면서', '집에만 있니 더 우울하게', '혼자 있으면 나도 그래', '누구도 만나기 싫어 숨고만 싶은데', '이럴 거면 우리 미친 척하고', '다시 만날까 봐', '다시 시작할까 봐', '못 잊을 거야 너와 추억한 지난날들을', '난 아직까지도 너무나 선명해', '그렇게 선명한 만큼 지키고픈', '우리 기억들이', '잊혀지는 게 정말 많이 두려워', '혼자 있으면 나도 그래', '늘 혼자 센척했지만 많이 두려워해', '이럴 거면 우리 미친 척하고', '다시 만날까 봐', '다시 시작할까 봐', '우리 여기서 끝나면 안 돼']\n"
          ]
        },
        {
          "output_type": "stream",
          "name": "stderr",
          "text": [
            "\r228it [1:32:55, 24.57s/it]"
          ]
        },
        {
          "output_type": "stream",
          "name": "stdout",
          "text": [
            "31\n",
            "['행복하다고 말했잖아', '나와 함께 그려갈', '날들을 꿈꿨다며', '더 사랑하지 못해 미안하다는', '믿기 힘든 그 말은 난 못 듣겠어', '오직 너만이', '날 웃게 할 텐데', '혼자서 어쩌란 말야', '불어와 텅 빈 이 가슴에', '시린 너와의 기억이', '난 아무것도 못하고 서 있잖아', '널 한 번 더 잡아야 했어', '이렇게 아플 줄 알았다면', '나 너를 놓지 않았을 거야', '짧았던 시간', '세상을 다 줬던', '네가 참 보고 싶어', '불어와 텅 빈 이 가슴에', '시린 너와의 기억이', '난 아무것도 못하고 서 있잖아', '널 한 번 더 잡아야 했어', '이렇게 아플 줄 알았다면', '나 너를 놓지 않았을 거야', '우리 함께 했었던 추억도', '나 혼자 지우면 되니까', '괜찮아 살다가 한 번쯤', '나 같은 사랑 한다면', '그땐 너도 내 마음을 알 테니까', '다 주고도 불안했었던', '꼭 너여야만 했던 시간들', '알아준다면 그걸로 됐어']\n"
          ]
        },
        {
          "output_type": "stream",
          "name": "stderr",
          "text": [
            "\r229it [1:33:16, 23.43s/it]"
          ]
        },
        {
          "output_type": "stream",
          "name": "stdout",
          "text": [
            "70\n",
            "['황홀한 너의 두 눈을 보면', '그 눈에 비친 나는 행복해', '웃고만 있네 파도 소리도 들려와', '나의 맘이 녹아', '이건 마치 영화 속 한 장면', '너와 꿈꿔 왔던 바로 그 장면', '난 벌써 가슴이 터질 거 같아', '어떤 말로도 표현이 안되는', '너무 소중한 이 공간 이 느낌', '우린 Timeless You Are So Lovely', '간직하고 싶어 내 안에', '전부 다 새겨 두고 싶어', '지금 이 순간', '넌 빛으로 다가와', '나를 비춰', '깜깜했던 내 맘에', '길을 열어 준 너', '내 소원이 뭐냐면', '너의 반이 되었으면 해', '약속할 수 있어', '끝없는 밤하늘에', '별들보다 은하수 개수보다', '널 사랑하겠어', '하얀 별 저 바다만큼', '마음 다해 오직 너만을 아껴줄게', '망설이던 내 맘에', '다가와준 네게 반해', '어두운 밤', '넌 나의 Star', '가장 밝게 빛나', '날 불러주는 너의 목소리', '꿈처럼 내 맘 벅차오르네', '나 되어줄게 별 어두울 땐 너의 곁', '365 지켜 난 조건 없이 너의 편', '내 심장은 엄청 지금 이 순간 요동쳐', '너의 사랑을 난 느껴', '지금 이 순간', '넌 빛으로 다가와', '나를 비춰', '깜깜했던 내 맘에', '길을 열어 준 너', '내 소원이 뭐냐면', '너의 반이 되었으면 해', '약속할 수 있어', '끝없는 밤 하늘에', '별들보다 은하수 개수보다', '널 사랑하겠어', '하얀 별 저 바다만큼', '마음 다해 오직 너만을 아껴줄게', '바람에 실려서 전해져오는 느낌들이', '내 모든 걸 채우면', '어떤 말로 표현 못 할', '행복을 느껴', '같이 있어도 자꾸만', '쏟아지는 니 생각에 웃음이 나', '흩날리는 미소가 내 마음을 가득', '새하얗게 물들이고', 'Everyday Everynight', '오늘도 내일도 항상', '고백할게 변함없이', '보여줄게 내 마음 진심을 더해', '언제나 너의 옆에', '하늘을 수놓은 우리 둘의 이야기', '어쩌면 내게', '다시는 없을 니가', '더욱 소중해져', '저 우주 저 별들처럼', '어두운 밤 함께 걸어갈', '내가 되길', '약속할게']\n"
          ]
        },
        {
          "output_type": "stream",
          "name": "stderr",
          "text": [
            "\r230it [1:34:01, 29.90s/it]"
          ]
        },
        {
          "output_type": "stream",
          "name": "stdout",
          "text": [
            "62\n",
            "['Please stay alive', '어디서부터 잘못됐나', '전혀 기억이 나질 않아', '작은 방안에 나의 몸을 숨긴 채 속삭이네', '어둠이 유일한 내 벗 (내 벗)', '구원을 바라는 내 손', '내가 이상한 걸까', '피로 물든 방', '누구든 제발 날 구해줘', 'Hide in the moonlight', '그래 기적 따윈 없어', '내 바람들은 그저', 'Hide in the moonlight', '그리 거창한 게 전혀 아닌데 ', '그게 어렵네', '잠들지 못하는 새벽 끝엔', '눈뜬 채 악몽을 헤맨듯해', '기적 따윈 없어', '라고 말한 난데', '기적처럼 와준', '그 한마디', '넌 나의 운명 ', '이따위 말로 설명할 순 없어', '이 지친 나를 구한 구원', '이 말이 설명하기가 쉬울까', '나를 살린 그 한마디', ' ', '많은 밤이 지나도 너의 곁에 나 있을게', 'Oh yeah (그 한마디)', '나의 발에 피 나도 너의 곁에 나 있음에', 'Please, you stay alive', 'Please, you stay alive', '(Please, you stay alive) ', '그림잔 커져가지만', '괜찮아 너란 큰 빛 덕분이니', '내 삶의 이윤 네가 전부이니', '넌 언제든 그저 그렇게 웃어줘', '나와 너무나 닮은 너', '너와 너무나 닮은 나', '가끔씩 이유 없이 겁나', '이 감정은 뭘까', '끝이 날지 모르지만', '끝나지 않는 이 악몽 끝에', '너라는 존잰 날 일으켜 매일', '기적처럼 와준', '기적과도 닮은', '기적과도 같은', '그 한마디', '넌 나의 운명 ', '이따위 말로 설명할 순 없어', '이 지친 나를 구한 구원', '이 말이 설명하기가 쉬울까', '나를 살린 그 한마디', ' ', '많은 밤이 지나도 너의 곁에 나 있을게', 'Oh yeah (그 한마디) ', '나의 발에 피 나도 너의 곁에 나 있음에', 'Please, you stay alive', '넌 나의 구원 ', '이따위 말로 설명할 순 없어', 'Please, you stay alive', 'Please, you stay alive']\n"
          ]
        },
        {
          "output_type": "stream",
          "name": "stderr",
          "text": [
            "\r231it [1:34:40, 32.57s/it]"
          ]
        },
        {
          "output_type": "stream",
          "name": "stdout",
          "text": [
            "70\n",
            "['난 지금 네게 가고 있는 길이야', '봄의 끝보다 훨씬 빠르게', '할 말이 있는 걸 말하지 않으면', '평생을 후회하며 살 것 같아', '아마도 살 것 같아 너랑 숨 쉬면', '정신 못 차리겠어 눈이 감기고', 'I just want you to know', 'I’m the real one', 'that you’re looking for', '걱정은 불안함 안에 가둬', '건너편에 다 놔두고', '이제부터 우리 사진 주워 담아', '네 손아귀 안에', '아기자기 걸어 둘 거야', '어디든지 보이게 해줘', '나 없인 안 된다 해줘', '너 없인 안 된다 난 너여야 한다', '아무리 생각해도 난 결국 너야', '후회하긴 싫다 너를 사랑한다', 'Cuz u r the only one', '나는 너뿐이라는 걸', 'Hah ah ah ah ah ah ah', 'Let’s get it on let’s get it on', 'Hah ah ah ah ah ah', 'Why don’t you be my girl', 'Hah ah ah ah ah ah ah', 'Let’s get it on let’s get it on', 'Cuz u r the only one for me', '아직도 네게 가고 있는 길이야', '여름밤 공기보다 뜨겁게', '그리워했던 널 붙잡지 못하면', '평생을 후회하며 살 것 같아', '네가 너무 보고 싶어서', 'Yeah yeah yeah', 'Girl I swear this ain’t', 'no booty call nah nah nah', '그냥 생각나서', '하는 것도 아니야 Nope', '드디어 정신 차렸어', '너 없인 안 된다는 걸', 'Now I know now I know', '다시 시작해 볼', '생각 있으면 처음처럼', '만날 생각이 있으면 Lemme know', 'Let’s give it a go', '너 없인 안 된다 난 너여야 한다', '아무리 생각해도 난 결국 너야', '후회하긴 싫다 너를 사랑한다', 'Cuz u r the only one for me', '나의 여름 널 어떻게 하겠니', '해를 몇 번을 넘겨도 You and me', '너를 사랑해 사랑해', '또 말하고 말해도', '오직 너여야만 I can live', '우리 뜨겁게 잡은 손 꽉 잡아 더', '여름밤의 Love 꽉 안아 더', '두근두근 우린 구름 구름 위', '이대로 우리 둘 2', '너 없인 안 된다 난 너여야 한다', '아무리 생각해도 난 결국 너야', '후회하긴 싫다 너를 사랑한다', 'Cuz u r the only one', '나는 너뿐이라는 걸', 'Hah ah ah ah ah ah ah', 'Let’s get it on let’s get it on', 'Hah ah ah ah ah ah', 'Why don’t you be my girl', 'Hah ah ah ah ah ah ah', 'Let’s get it on let’s get it on', 'Cuz u r the only one for me']\n"
          ]
        },
        {
          "output_type": "stream",
          "name": "stderr",
          "text": [
            "\r232it [1:35:24, 36.08s/it]"
          ]
        },
        {
          "output_type": "stream",
          "name": "stdout",
          "text": [
            "31\n",
            "['아직 이별 중인 나에겐 ', '끝이 아닌 것만 같아서 ', '다른 사랑 중인 너지만 ', '나는 아직 너와 열애 중', '나도 너만큼만 헤어지고 싶어', '아니 너보다 더 행복하고 싶어', '너는 어떻게 날 잊었는지 가르쳐줘', '아직 이별 중인 나에게', '난 아직 열애 중', '누구보다 뜨겁게 사랑해 열애 중', '헤어져도 헤어진 적 없어', '언젠가 내가 너와 이별할 수 있을까', '너만 모르게 나는 아직 너와 열애 중', '매일 이별하고 있지만', '아직 너를 기다리는 중', '나도 너만큼만 못돼지고 싶어', '아니 너보다 더 나빠지고 싶어', '너는 어떻게 날 잊었는지 가르쳐줘', '아직 이별 중인 나에게', '난 아직 열애 중', '누구보다 뜨겁게 사랑해 열애 중', '헤어져도 헤어진 적 없어', '언젠가 내가 너와 이별할 수 있을까', '아무도 모르게 여기서 널 멈추면', '정말 이별이 될까 봐', '그게 마지막이 될까 봐', '널 후회하는 중', '누구보다 너를 많이 원망하는 중', '미워해도 미워한 적 없어', '언젠가 내가 너를 잊고 살 수 있을까', '너만 모르게 나는 아직 너와 열애 중']\n"
          ]
        },
        {
          "output_type": "stream",
          "name": "stderr",
          "text": [
            "\r233it [1:35:44, 31.04s/it]"
          ]
        },
        {
          "output_type": "stream",
          "name": "stdout",
          "text": [
            "58\n",
            "['거북아 그 속도론 멀리 못 도망가', '게다가 그 길은 더 멀고 험하잖아', '상처가 아물고 다 나으면 떠나가', '진심이야 그럼', '그 때 보내 줄 테니까', '숨지마 차라리 내 맘을 훔치지마', '거짓말 느리고 느린 너의 걸음마', '내 가슴 깊이 하는 말', '내게로 와요', '마음을 둘 곳도 없고', '더 갈 곳도 없는', '슬픈 거북이 한 마리', '상처가 많아 너 혼자서', '매일 외롭게 숨는 거니', '너를 지킬 수 없고', '더 사랑도 없는', '내 가슴 아픈 이야기', '조금 늦어도 좋아', '한 걸음 한 걸음 천천히', '하루만 더 지나면', '괜찮아 질거야', '자꾸만 주문처럼', '외우는 혼잣말', '거북아 널 볼 때면', '내 모습 같아', '눈물 나 미친 듯이', '계속 흘러나와', '새싹이 나겠지 꽃이 보이겠지', '내 눈물의 사랑은', '씨앗을 꼭 품겠지', '내 가슴 깊이 하는 말', '내게로 와요', '마음을 둘 곳도 없고', '더 갈 곳도 없는', '슬픈 거북이 한 마리', '상처가 많아 너 혼자서', '매일 외롭게 숨는 거니', '너를 지킬 수 없고', '더 사랑도 없는', '내 가슴 아픈 이야기', '조금 늦어도 좋아', '한 걸음 한 걸음 천천히', '나보다 느린 네 발걸음에', '맞춰 걸으며', '더 이상 너 혼자 울지 않도록', \"you're always be my\", 'always be my love', '마음을 둘 곳도 없고', '더 갈 곳도 없는', '슬픈 거북이 한 마리', '제발 날 떠나지마', '상처가 많아 너 혼자서', '매일 외롭게 숨는 거니', '너를 지킬 수 없고', '더 사랑도 없는', '내 가슴 아픈 이야기', '조금 늦어도 좋아', '한 걸음 한 걸음 천천히']\n"
          ]
        },
        {
          "output_type": "stream",
          "name": "stderr",
          "text": [
            "\r234it [1:36:20, 32.64s/it]"
          ]
        },
        {
          "output_type": "stream",
          "name": "stdout",
          "text": [
            "31\n",
            "['인사 하네요 근심없게', '나 아름다운 방식으로', '무딘 목소리와', '어설픈 자국들', '날 화려하게 장식해줘요', '그대 춤을 추는 나무 같아요', '그 안에 투박한 음악은 나예요 ', '네 곁에만 움츠린', '두려움들도', '애틋한 그림이 되겠죠', '그럼 돼요', '웃어 줄래요 사진처럼', '수줍은 맘이 다 녹아내리게', '무력한 걸음과', '혼잡한 TV 속', '세상없이 또 울기도 해요', '그대 춤을 추는 나무 같아요', '그 안에 투박한 음악은 나예요 ', '네 곁에만 움츠린', '두려움들도', '애틋한 그림이 되겠죠', '그럼 돼요', '밤새 모아둔 아스라이 쌓인 ', '고운 마음도 다 가져가세요', '언제든 꺼내 볼 수 있죠', '그대 춤을 추는 나무 같아요', '그 안에 투박한 음악은 나예요 ', '네 곁에만 움츠린', '두려움들도', '애틋한 그림이 되겠죠', '그럼 돼요']\n"
          ]
        },
        {
          "output_type": "stream",
          "name": "stderr",
          "text": [
            "\r235it [1:36:40, 28.76s/it]"
          ]
        },
        {
          "output_type": "stream",
          "name": "stdout",
          "text": [
            "61\n",
            "['조그만 날갯짓 널 향한 이끌림', '나에게 따라오라 손짓한 것 같아서', '애절한 눈빛과 무언의 이야기', '가슴에 회오리가 몰아치던 그날 밤', '오묘한 그대의 모습에 넋을 놓고', '하나뿐인 영혼을 뺏기고', '그대의 몸짓에 완전히 취해서', '숨 쉬는 것조차 잊어버린 나인데', '왈츠처럼 사뿐히 앉아', '눈을 뗄 수 없어', '시선이 자연스레', '걸음마다 널 따라가잖아', '날 안내해줘 Yeah', '그대가 살고 있는 곳에', '나도 함께 데려가 줘 Oh', 'Yeah 세상의 끝이라도 뒤따라갈 테니', '부디 내 시야에서 벗어나지 말아줘', '아침이 와도 사라지지 말아줘 Oh', '꿈을 꾸는 걸음', '그댄 나만의 아름다운 나비', 'Oh Woo hoo hoo', 'Oh Yeah yeah', 'Woo hoo hoo', 'Yeah', 'Woo hoo hoo', 'Woo Yeah yeah', '어디서 왔는지 어디로 가는지', '친절히 여기까지 마중을 와준 너', '가파른 오르막 깎아진 절벽도', '걱정 마 무엇도 두려울 것이 없으니', '너는 뽐내 우아한 자태', 'Oh 난 몇 번이고 반하고', '사랑은 이렇게 나도 모르게', '예고도 없이 불시에 찾아와', '왈츠처럼 사뿐히 앉아', '눈을 뗄 수 없어', '시선이 자연스레 걸음마다', '널 따라가잖아', '날 안내해줘 Yeah', '그대가 살고 있는 곳에', '나도 함께 데려가 줘 Oh', 'Yeah 세상의 끝이라도 뒤따라갈 테니', '부디 내 시야에서 벗어나지 말아줘', '아침이 와도 사라지지 말아줘 Oh', '꿈을 꾸는 걸음', '그댄 나만의 아름다운 나비', '낯선 곳을 헤맨다 해도', '길을 잃어버린 대도', '누구보다 솔직한', '나의 맘을 따를 거야', '조용히 눈에 띄는 몸짓', '강하고 부드러운 눈빛', '거부할 수 없는 나니까 Woah', '날 데려가 줘', '그대가 살고 있는 곳에', '나도 함께 데려가줘 Oh', '세상의 끝이라도 따라갈 게 Ah', '내 시야에서 벗어나지 말아줘', '아침이 와도 사라지지 말아줘 Oh', '조그마한 손짓', '나의 가슴엔 회오리가 친다']\n"
          ]
        },
        {
          "output_type": "stream",
          "name": "stderr",
          "text": [
            "\r236it [1:37:20, 32.40s/it]"
          ]
        },
        {
          "output_type": "stream",
          "name": "stdout",
          "text": [
            "39\n",
            "['나 지금 할 말이 있어서', '그댈 기다리다 멍하니 서성이죠', '뭘 모르는 그런 나이는', '이미 오래전에 지나버렸어도', '자꾸 떨리는 건 설명할 수 없어요', '긴 하루 끝에 지친 어깨를 안아주는', '그대의 목소리라는 걸 알까요', '혹시 그대 맘도 나와 같을까요', '나를 아는 사람 중에', '그렇게 웃어주는', '사람이 있을까요 그대뿐이죠', '그대는 어떤가요', '내가 아는 사람 중에', '그렇게 사랑스런', '사람이 있을까요 그대뿐이죠', '사랑을 시작해요 이렇게', '다 지나버린 내 어린 시절 그때처럼', '두근거리는 소리가 들리나요', '혹시 그대 맘도 나와 같을까요', '나를 아는 사람 중에', '그렇게 웃어주는', '사람이 있을까요 그대뿐이죠', '그대는 어떤가요', '내가 아는 사람 중에', '그렇게 사랑스런', '사람이 있을까요 그대뿐이죠', '사랑을 시작해요', '난 세상에서 어느샌가 어른이 되고', '더 남은 위로가 내겐 없었죠', '남은 위로가 내겐 없었죠', '나를 바라보는 그대가 없다면', '나만 아는 그대의 눈', '그렇게 아름다운', '미소가 있을까요 당신뿐이죠', '그대는 어떤가요', '나를 아는 사람 중에', '그렇게 말해주는', '사람이 있을까요 그대뿐이죠', '사랑을 시작해요 영원히']\n"
          ]
        },
        {
          "output_type": "stream",
          "name": "stderr",
          "text": [
            "\r237it [1:37:46, 30.34s/it]"
          ]
        },
        {
          "output_type": "stream",
          "name": "stdout",
          "text": [
            "44\n",
            "['나의 마음이 움직여', '그냥 길을 따라 걸어가도', '다시 여기 너의 앞에', '두려웠던 나의 맘에', '하얀 눈이 내려와', \"So I'm still\", 'I’m here and I’ll be there', '따듯한 어깨에 기대어', '이렇게 다시 너를 느껴', 'I’m still and I’m here', '이렇게라도 널 담을게', '우리 서로 밀어내더라도', '그 때문에 더 깊이 새겨져', '여기 또 거기', '다른 하늘이라도', '너의 맘을 기억해', \"and I'm still I'm here\", '흔들렸던 나의 맘에', '네가 다시 다가와', \"So I'm still\", 'I’m here and I’ll be there', '얼어붙은 이 길을 지나', '이렇게 다시 너를 만나', \"I'm still and I'm here\", '다시 널 놓치지 않을래', '계속 네가 나를 밀어내도', '혹시 나의 눈에 사라져도', '여기 나 여기', '곁에 늘 서 있을게', '나의 맘이 움직여', \"and I'm still I'm here\", '난 너의 기억이 다 지워질까 봐', '마음에 새겨도', '너를 볼 수 없게 될까 봐', '시간이 난 두려워', '다시 너를 찾아봐 또 이렇게', \"I'm still and I'm here\", '다시 널 놓치지 않을래', '세상 어느 곳에 있더라도', '어디라도 내가 찾아갈게', '여기 나 여기', '곁에 늘 서 있을게', '나의 맘이 움직여', \"and I'm still I'm here\"]\n"
          ]
        },
        {
          "output_type": "stream",
          "name": "stderr",
          "text": [
            "\r238it [1:38:15, 29.96s/it]"
          ]
        },
        {
          "output_type": "stream",
          "name": "stdout",
          "text": [
            "28\n",
            "['멀리 배웅하던 길', '여전히 나는 그곳에 서서', '그대가 사랑한', '이 계절의 오고 감을 봅니다', '아무 노력 말아요', '버거울 땐 언제든', '나의 이름을 잊어요', '꽃잎이 번지면', '당신께도 새로운 봄이 오겠죠', '시간이 걸려도', '그대 반드시 행복해지세요', '그 다음 말은 이젠', '내가 해줄 수 없어서', '마음속에만 둘게요', '꽃잎이 번지면', '그럼에도 새로운 봄이 오겠죠', '한참이 걸려도', '그대 반드시 행복해지세요', '끝 눈이 와요', '혹시 그대 보고 있나요', '슬퍼지도록 시리던', '우리의 그 계절이 가요', '마지막으로 날', '떠올려 준다면 안 되나요', '다시 한 번 더 같은 마음이고 싶어', '우릴 보내기 전에', '몹시 사랑한 날들', '영원히 나는 이 자리에서']\n"
          ]
        },
        {
          "output_type": "stream",
          "name": "stderr",
          "text": [
            "\r239it [1:38:34, 26.62s/it]"
          ]
        },
        {
          "output_type": "stream",
          "name": "stdout",
          "text": [
            "33\n",
            "['방 문을 잠궈', '주저앉아 두 눈을 가려', '도망칠 수 없이', '멀리 와버린 것 같아 나', '소중했던 거 내가', '꿈처럼 바랬던 것들도', '놓아줄게 포기할 수 있을 것만 같아 나', '하늘에 빛나는 별이 된다면', '가끔은 날 기억해 주는', '사람이 있을까요', '내게도 한 번쯤 가장 빛나던 순간들을', '떠올려보며 잠들 수 없는', '밤을 지새워요', '한참을 걸어', '주저앉아 노을을 보며', '되돌릴 수 없이', '멀리 와버린 것 같아 나', '사랑했던 거 버릴 수 없어', '꼭 안았던 것들도', '놓아줄게 포기할 수 있을 것만 같아 나', '하늘에 빛나는 별이 된다면', '가끔은 날 기억해 주는', '사람이 있을까요', '내게도 한 번쯤 가장 빛나던 순간들을', '떠올려보며 잠들 수 없는', '밤을 지새워요', '내게 하루만 더 시간이 있다면', '그때 마지막으로', '난 잠시 뒤돌아보려 해요', '흐릿해져 잘 안 보이지만', '나는 괜찮아요', '별처럼 오랜 시간만큼', '빛이 날 테니까요']\n"
          ]
        },
        {
          "output_type": "stream",
          "name": "stderr",
          "text": [
            "\r240it [1:38:55, 24.95s/it]"
          ]
        },
        {
          "output_type": "stream",
          "name": "stdout",
          "text": [
            "41\n",
            "['이곳의 밤은 원래 항상 건조한가요', '창밖엔 비가 오는데 나는 목이 말라요', '나를 외롭게 만드는 저 불빛이', '처음부터 싫었던 건 아니지만', '밤새도록 빛나면 나는 잠들 수가 없는데', 'Are you alone', '우린 지금 연락해야 해', '서로의 안부를 챙겨주며', '복잡한 얘기를 들어주면 돼', '어떻게든', '우린 지금 연결되어야 해', '누가 먼저라고 못하게', '똑같이 잠이 들게 돼', 'are you still alone', '아침을 기다리는 게 차라리 나을걸요', '이곳의 밤은 유난히 느리게 흘러가요', '새벽은 깊어질수록 더 반짝여', '그대 두 눈 꼭 감고 기다리지', '말고 나랑 놀아요', '딱히 재밌을 건 없지만', 'Are you alone', '우린 지금 연락해야 해', '서로의 안부를 챙겨주며', '복잡한 얘기를 들어주면 돼', '어떻게든 우린 지금 연결되어야 해', '누가 먼저라고 못하게', '똑같이 잠이 들게 돼', 'are you still', '하나둘씩 잠이 드나요', '우리만 빼고 이 도시는', '아니길 바라지만 역시', '내일도 오늘처럼', 'Are you alone', '우린 매일 연락해야 해', '이 밤은 점점 더 우리에게', '차갑고 주눅들게 하는데', '어떻게든', '우린 서로 안아줘야 해', '조금 더 귀찮게 굴어도 돼', '가깝게 볼 순 없어도', 'are you still alone']\n"
          ]
        },
        {
          "output_type": "stream",
          "name": "stderr",
          "text": [
            "\r241it [1:39:23, 25.93s/it]"
          ]
        },
        {
          "output_type": "stream",
          "name": "stdout",
          "text": [
            "35\n",
            "['꿈에서도 그리운 목소리는', '이름 불러도 대답을 하지 않아', '글썽이는 그 메아리만 돌아와', '그 소리를 나 혼자서 들어', '깨어질 듯이 차가워도', '이번에는 결코 놓지 않을게', '아득히 멀어진 그날의 두 손을', '끝없이 길었던', '짙고 어두운 밤 사이로', '조용히 사라진 네 소원을 알아', '오래 기다릴게', '반드시 너를 찾을게', '보이지 않도록 멀어도', '가자 이 새벽이 끝나는 곳으로', '어김없이 내 앞에 선 그 아이는', '고개 숙여도 기어이 울지 않아', '안쓰러워 손을 뻗으면 달아나', '텅 빈 허공을 나 혼자 껴안아', '에어질 듯이 아파와도 ', '이번에는 결코 잊지 않을게', '한참을 외로이 기다린 그 말을', '끝없이 길었던', '짙고 어두운 밤 사이로', '영원히 사라진 네 소원을 알아', '오래 기다릴게', '반드시 너를 찾을게', '보이지 않도록 멀어도', '가자 이 새벽이 끝나는 곳', '수없이 잃었던', '춥고 모진 날 사이로', '조용히 잊혀진 네 이름을 알아', '멈추지 않을게', '몇 번이라도 외칠게', '믿을 수 없도록 멀어도', '가자 이 새벽이 끝나는 곳으로']\n"
          ]
        },
        {
          "output_type": "stream",
          "name": "stderr",
          "text": [
            "\r242it [1:39:47, 25.23s/it]"
          ]
        },
        {
          "output_type": "stream",
          "name": "stdout",
          "text": [
            "46\n",
            "['계절은 돌고 돌아 돌아오는데', '사랑은 돌고 돌아 떠나버리고', '추억을 돌고 돌아 멈춰 서있는', '다시 그 계절이 왔나 봐', '나 가을 타나 봐', '니가 그리워진 이 밤', '나 혼자 널 기다리나 봐', '나 가을 타나 봐', '니가 불어오는 이 밤', '나 혼자서 가을 타나 봐', \"Baby I'm lonely lonely\", 'lonely lonely', '추억은 Falling falling', 'falling falling', '아무리 멀리 멀리 떠나 보내도', '돌아오는 난 가을 타나 봐', '내 곁을 스쳐가는 많은 사람들', '뭘 해도 채워지지 않는 시간들', '아무리 잊어봐도 짙어져 가는', '외로운 계절이 왔나 봐', '나 가을 타나 봐', '니가 그리워진 이 밤', '나 혼자 널 기다리나 봐', '나 가을 타나 봐', '니가 불어오는 이 밤', '나 혼자서 가을 타나 봐', \"Baby I'm lonely lonely\", 'lonely lonely', '추억은 Falling falling', 'falling falling', '아무리 멀리 멀리 떠나 보내도', '돌아오는 난 가을 타나 봐', \"You're always breathing\", 'in my mind', '가슴 한구석이 시려와', \"Baby I'm missing you every night\", '니가 그리워', '나 외로웠나 봐', '니가 없는 이 거리에', '나 혼자 널 서성이나 봐', '참 보고 싶나 봐 너를 보내놓고', '아직 나 혼자 널 사랑하나 봐', '아직인가 봐 사랑하나 봐', '니가 날 떠나가던 시린', '이 계절이 돌아오면 가을 타나 봐', '그리운가 봐 가을 타나 봐']\n"
          ]
        },
        {
          "output_type": "stream",
          "name": "stderr",
          "text": [
            "\r243it [1:40:17, 26.77s/it]"
          ]
        },
        {
          "output_type": "stream",
          "name": "stdout",
          "text": [
            "44\n",
            "['소란한 내 맘을 누군가 볼까봐', '애써 웃는 척 해', '사실 나는 누구보다 아픈 중인데', '많은 날이 지나면', '덤덤하게 잊혀지겠지', '다시 또 살아가면서', '누군갈 사랑하면서 그렇게', '이별하러 가는 길', '참 맑기도 하다', '널 떼러 가는 길', '아무 예고 없이', '갑자기 맞이할 이별에', '많이 힘들지 몰라 미안해', '다신 사랑 안 한단 거짓말', '뒤로 우는 널 남긴 채', '나 차갑게 떠난다', '우리 이제는 안녕 안녕', '차라리 나를 미워해', '화도 못 내는 네게', '너무 쉽게 던진 말', '그 말 그게 참 가슴에 남아', '미안하단 말 못한 게 후회돼', '이별하러 가는 길', '참 맑기도 하다', '널 떼러 가는 길', '아무 예고 없이', '갑자기 맞이할 이별에', '많이 힘들지 몰라 미안해', '다신 사랑 안 한단 거짓말', '뒤로 우는 널 남긴 채', '나 차갑게 떠난다', '우리 이제는 안녕 안녕', '다 잊어줘 보란듯이', '더 잘 살아가줘', '차마 하지 못한 말', '붙잡아달란 말', '우리 사랑한 그 만큼', '그 만큼 아파 미치도록', '그리울 사랑아', '이게 나란 남자야', '못 되고 비겁해', '널 울게 만들고', '또 니 행복을 빌어', '우리 이제는 안녕 안녕 안녕']\n"
          ]
        },
        {
          "output_type": "stream",
          "name": "stderr",
          "text": [
            "\r244it [1:40:47, 27.64s/it]"
          ]
        },
        {
          "output_type": "stream",
          "name": "stdout",
          "text": [
            "43\n",
            "['그대 예쁜 목소리로', '자장가를 불러줘요', '오늘 밤도 그대 내 꿈 속에', '나와 함께 살아요', '아이같은 그 미소로', '나를 보며 웃어주네요', '나는 그대라서 참 행복합니다', '내가 힘들때나 많이 아플때', '내 눈물을 고이 닦아주던', '그대란 사람', '어찌 말을 해야 할까요', '첫번째 그대의 마음', '나무처럼 나를 쉬게해', '두번째 그대의 미소', '햇살처럼 나를 밝게 비추고', '세번째 그대의 손길', '내가 힘들때마다 품에 안아준', '그댈 사랑합니다', '내가 슬플 때나 외로워 할 때', '내 곁을 따스히 지켜주던', '그대란 사람', '어찌 말을 해야 할까요', '네번째 그대의 온도', '내 가슴을 따스하게 해', '다섯째 그대의 눈물', '더 열심히 나를 살아가게 해', '여섯째 그대의 기도', '쳐진 어깨를 피게 만들어 주는', '그댈 사랑합니다', '그대여 더 이상 눈물은', '이젠 흘리지 말아요', '영원토록 그대를 지킬게요', '사랑하는 그댈 보면', '바라만 봐도 난 행복해', '일곱번째 그대 표정', '시무룩한 나를 웃게해', '여덟째 그대 목소리', '내게 힘을 주는 그대이니까', '아홉번째 그대 걸음', '못난 날 매일마다 찾아와 주네', '열번짼 그대란 선물', '그대라서 난 정말 행복합니다', ' ']\n"
          ]
        },
        {
          "output_type": "stream",
          "name": "stderr",
          "text": [
            "\r245it [1:41:16, 28.13s/it]"
          ]
        },
        {
          "output_type": "stream",
          "name": "stdout",
          "text": [
            "28\n",
            "['한적한 밤 산책하다 보면', '어김없이 생각나는 얼굴', '반짝이는 별을 모아 그리는 그런 사람', '좁다란 길 향기를 채우는', '가로등 빛 물든 진달래꽃', '이 향기를 그와 함께 맡으면 참 좋겠네', '보고 싶어라 그리운 그 얼굴', '물로 그린 그림처럼 사라지네', '보고 싶어라', '오늘도 그 사람을 떠올리려', '산책을 하네', '대기는 차갑게 감싸고', '생생하게 생각나는 그때', '안타까운 빛나던 시절 뒤로하고 가던', '보고 싶어라 그리운 그 얼굴', '물로 그린 그림처럼 사라지네', '보고 싶어라', '오늘도 그 사람을 떠올리려', '산책을 하네', '따뜻한 손 그리고 그 감촉', '내가 쏙 들어앉아 있던 그 눈동자', '그 마음 아무것도 바라지 않고', '사랑을 주던 그가 보고 싶어지네', '그리운 그 얼굴 물로 그린 그림처럼 사라지네', '보고 싶어라', '오늘도 그 사람을 떠올리려 산책을 하네', '오늘도 산책을 하네', '오늘도 산책을 하네']\n"
          ]
        },
        {
          "output_type": "stream",
          "name": "stderr",
          "text": [
            "\r246it [1:41:35, 25.42s/it]"
          ]
        },
        {
          "output_type": "stream",
          "name": "stdout",
          "text": [
            "42\n",
            "['다 알고 있어', '네가 만났던 사람', '난 한 번도 이길 수 없었어', '성격도 안 맞고', '싸운 기억뿐이라며', '욕하면서 왜 못 잊는 거야', '그 사람이 다 아물 만큼', '이젠 내가 두 배로 잘 할 테니까', '그만 아파도 돼', '괜찮아 반만', '난 더도 말고 반만', '딱 그 사람의 반만', '사랑해주면 돼', '미안하지 않아도 돼', '아직 네 눈에 보이는 그 사람을', '다 모른 척해 줄 테니까', '넌 그냥 내게 와주면 돼', '가끔 내 앞에서', '받지 않는 전화쯤은', '얼마든지 참아줄 수 있어', '그 사람이 가끔 보여도', '내 옆에만 있어주면 괜찮아', '이젠 행복해도 돼', '괜찮아 반만', '난 더도 말고 반만', '딱 그 사람의 반만', '사랑해주면 돼', '미안하지 않아도 돼', '아직 네 눈에 보이는 그 사람을', '다 모른 척해 줄 테니까', '하루만', '한 시간만', '아니 일 분만', '나로 가득 채울 순 없는 걸까', '이제 넌 나만', '사랑하면 돼 나만', '제발 울지 마', '다 알아 네 잘못이 아니야', '몇 년이 가도 괜찮아', '너의 눈에 나만 보일 그날까지', '얼마든 기다릴 테니까', '가끔 그 사람 생각해도 돼']\n"
          ]
        },
        {
          "output_type": "stream",
          "name": "stderr",
          "text": [
            "\r247it [1:42:03, 26.15s/it]"
          ]
        },
        {
          "output_type": "stream",
          "name": "stdout",
          "text": [
            "62\n",
            "['왜 이리도 이 세상엔 ', '이별이 많은지', '왜 사랑이 힘든 건지 난 ', '궁금했었죠', '난 이제 또 다시 묻고 있죠 ', '어떻게 견디는지', '이 많은 슬픔 끝나긴 하는지', '괜찮아요 다 그렇듯 이러다 ', '말겠죠', '이 가슴도 이 눈물도 다 ', '가라 앉겠죠', '더 안을수록 부서져 버릴 ', '우리를 알고 있죠', '보내는 일이 사랑이라는 걸', '사랑해 사랑해 말해줄 시간이 ', '아직도 많을 줄 알았죠', '언젠가 누군가 그대를 가져갈 ', '그 사람', '벌써부터 나 부러워지네요', '행복하지마요 행복하려면 ', '사랑한 날 잊어야 하잖아', '가시가 박힌듯 숨쉴때마다 ', '눈물이 흘러와', '사는게 사는 것이 아니죠', '사랑하지마요 내가 아니면 ', '누구와도 영원할 수 없어', '그대를 그곳에 두고 온 것 ', '그것만 기억하면 찾을 수 있죠', '잠시 멈춰있는 사랑인 거죠 ', '괜찮아요 웃어요', '하루에도 나 몇번씩 ', '마음이 바뀌죠', '또 버리고 주워담고 ', '오늘도 그래요', '꼭 좋은 사람 만날 거라고 ', '말하는 나였지만', '나의 가슴은 그댈 잡고 있죠', '사랑해 사랑해 나에게 말해줄 ', '그대의 목소리', '이제 들을 수 없겠죠', '조금만 잠시만 머물다 ', '올 것을 그대의', '곁에 있는 그사람도 아나요', '행복하지마요 행복 하려면 ', '사랑한 날 잊어야 하잖아', '가시가 박힌듯 숨쉴때마다 ', '눈물이 흘러와', '사는게 사는 것이 아니죠', '사랑하지마요 내가 아니면 ', '누구와도 영원할 수 없어', '그대를 그곳에 두고 온 것 ', '그것만 기억하면 찾을 수 있죠', '잠시 멈춰있는 사랑인거죠 ', '괜찮아요 웃어요', '사랑하지마요 내가 아니면 ', '누구와도 영원할 수 없어', '그대를 그곳에 두고 온 것 ', '그것만 기억하면 찾을 수 있죠', '잠시 멈춰있는 사랑인거죠 ', '괜찮아요 웃어요', '이 눈물도 이 아픔도 우', '괜찮죠']\n"
          ]
        },
        {
          "output_type": "stream",
          "name": "stderr",
          "text": [
            "\r248it [1:42:46, 31.17s/it]"
          ]
        },
        {
          "output_type": "stream",
          "name": "stdout",
          "text": [
            "34\n",
            "['나만 홀로 느낀 황홀함일까 ', '그저 바라보는 시선이 무거워 ', '맴도는 발걸음', '여전히 네가 보고 싶어', 'i need your mind', 'I remember', '차가웠던 그 날', '자꾸 떨리는', '내 가슴이 혼자 울까봐', '눈을뜨면 희미해져버릴', '꿈처럼 놔줘', '그게 아니면 곁에있어줘', '무거워진 어깰 내게 보이며', '미워하지도 못하게 막아선 너', '따갑게 스치는', '새벽에 네가 보고 싶어', 'i need your mind', 'I remember', '차가웠던 그 날', '자꾸 떨리는', '내 가슴이 혼자 울까봐', '눈을뜨면 희미해져버릴', '꿈처럼 놔줘', '그게 아니면 곁에있어줘', '울어서 좋을게 없는데', '깊게 새긴 흔적이 서러워', '혹시 몰라 그대가올까 봐', 'I remember', '슬퍼보였던 날', '자꾸 떨리는', '내 어깨를 네가 볼까봐', '눈을뜨면 희미해져버릴', '꿈처럼 놔줘', '그게 아니면 곁에있어줘 지금']\n"
          ]
        },
        {
          "output_type": "stream",
          "name": "stderr",
          "text": [
            "\r249it [1:43:09, 28.88s/it]"
          ]
        },
        {
          "output_type": "stream",
          "name": "stdout",
          "text": [
            "47\n",
            "['늦게 다니지좀 마', '술은 멀리좀 해봐', '열살짜리 애처럼 말을 안듣니', '정말 웃음만 나와', '누가 누굴보고 아이라 하는지', '정말 웃음만 나와', '싫은 얘기 하게 되는 내 맘을 몰라', '좋은 얘기만 나누고 싶은 내맘을 몰라', '그만할까 그만하자', '하나부터 열까지 다 널 위한 소리', '내 말 듣지 않는 너에게는 뻔한 잔소리', '그만하자 그만하자', '사랑하기만해도 시간 없는데', '머리 아닌 가슴으로 하는 이야기', '니가 싫다 해도 안 할수가 없는 이야기', '그만하자 그만하자', '나의 잔소리가 들려', '밥은 제 때 먹는지', '여잔 멀리 하는지', '온 종일을 네 옆에 있고 싶은데', '내가 그 맘인거야', '주머니속에 널 넣고 다니면', '정말 행복할텐데', '둘이 아니면 안되는 우리 이야기', '누가 듣는다면 놀려대고 웃을 이야기', '그만할까 그만하자', '하나부터 열까지 다 널 위한 소리', '내 말 듣지 않는 너에게는 뻔한 잔소리', '그만하자 그만하자', '사랑하기만해도 시간 없는데', '머리 아닌 가슴으로 하는 이야기', '니가 싫다 해도 안 할수가 없는 이야기', '그만하자 그만하자', '나의 잔소리가 들려', '눈에 힘을 주고 겁을 줘봐도', '내겐 그저 귀여운 얼굴', '이럴래 자꾸 더는 못 참고', '정말 화낼지 몰라', '사랑하다 말거라면 안 할 이야기', '누구보다 너를 생각하는 마음의 소리', '화가 나도 소리 쳐도', '너의 잔소리마저 난 달콤한데', '사랑해야 할 수 있는 그런 이야기', '내 말 듣지 않는 너에게는 뻔한 잔소리', '그만하자 그만하자', '이런 내 맘을 믿어줘', ' ']\n"
          ]
        },
        {
          "output_type": "stream",
          "name": "stderr",
          "text": [
            "\r250it [1:43:41, 29.70s/it]"
          ]
        },
        {
          "output_type": "stream",
          "name": "stdout",
          "text": [
            "23\n",
            "['그대 보내고 멀리', '가을 새와 작별하듯', '그대 떠나 보내고', '돌아와 술잔 앞에 앉으면', '눈물 나누나', '그대 보내고 아주', '지는 별빛 바라볼 때', '눈에 흘러내리는', '못다 한 말들 그 아픈 사랑', '지울 수 있을까', '지울 수 있을까', '어느 하루 비라도 추억처럼', '흩날리는 거리에서', '쓸쓸한 사람 되어 고개 숙이면', '그대 목소리', '너무 아픈 사랑은', '사랑이 아니었음을', '너무 아픈 사랑은', '사랑이 아니었음을', '너무 아픈 사랑은', '사랑이 아니었음을', '너무 아픈 사랑은', '사랑이 아니었음을']\n"
          ]
        },
        {
          "output_type": "stream",
          "name": "stderr",
          "text": [
            "\r251it [1:43:57, 25.62s/it]"
          ]
        },
        {
          "output_type": "stream",
          "name": "stdout",
          "text": [
            "37\n",
            "['새하얀 머플러에 얼굴을 묻고', '붉어진 눈을 깜빡이며 널 기다렸어', '무슨 얘길 하고 픈지 그 말', '알 것도 같은데 모르겠어', '어색한 눈인사에 목이 메이고', '한 발 물러 선', '우리 둘 공간에 눈물 터지고', '화가 나서 소리치듯 가란 내 말에', '벌써 넌 아주 멀리 달아나 버렸어', '오늘 헤어졌어요 우리 헤어졌어요', '내 맘 알 것 같다면', '옆에서 같이 울어줘요', '나는 안되나봐요 역시 아닌가봐요', '얼마나 더 울어야 제대로 사랑 할까요', '귓가엔 심장소리 그대 울리고', '지운 니 번호 지울수록', '더욱 또렷 해지고', '언제부터 어디부터 멀어진 건지', '분명히 어제까진 날 사랑 했는데', '오늘 헤어졌어요 우리 헤어졌어요', '내 맘 알 것 같다면', '옆에서 같이 울어줘요', '나는 안되나봐요 역시 아닌가봐요', '얼마나 더 울어야 제대로 사랑 할까요', '참 좋았어 너무 좋아서 더 아프죠', '사랑에 또 속은 내가 미워', '그냥 나오지 말 걸 그냥 아프다 할 걸', '우리 사랑한 기억', '그게 널 붙잡아 줄 텐데', '너는 내일을 살고 나는 오늘을 살아', '아무도 아무것도 날 웃게할 수는 없어', '오늘 헤어졌어요 우리 헤어졌어요', '내 맘 알 것 같다면', '옆에서 같이 울어줘요', '나는 안되나봐요 역시 아닌가봐요', '얼마나 더 울어야 제대로 사랑 할까요', ' ']\n"
          ]
        },
        {
          "output_type": "stream",
          "name": "stderr",
          "text": [
            "\r252it [1:44:21, 25.12s/it]"
          ]
        },
        {
          "output_type": "stream",
          "name": "stdout",
          "text": [
            "33\n",
            "['혹시 니가 다시 돌아올까봐 ', '다른 사랑 절대 못해 ', '남잘 울렸으면 책임져야지 ', '니가 뭘 알아 남자의 마음을 ', '모든걸 다 주니까', '떠난다는 그 여자 ', '내 전부를 다 가져간 그 여자 ', '한때는 내가 정말', '사랑했던 그 여자 ', '다 믿었었어 바보같이 ', '여자는 다 똑같나봐 ', '혹시 니가 다시 돌아올까봐 ', '다른 사랑 절대 못해 ', '여잘 울렸으면 책임져야지 ', '니가 뭘 알아 여자의 마음을 ', '모든걸 다 주니까', '떠난다는 그 남자 ', '내 전부를 다 가져간 그 남자 ', '한때는 내가 정말', '사랑했던 그 남자 ', '다 믿었었어 바보같이 ', '남자는 다 똑같나봐 ', '우린 미치도록 사랑했었지 ', '우린 미치도록 사랑했었지', '모든걸 다 주니까', '떠난다는 그 남자 ', '내 마음하나 몰라주는 그 남자 ', '한때는 내가 정말', '사랑했던 그 남자 ', '다 믿었었어 바보같이 ', '그땐 사랑이 이별인줄 모르고 ', '그런줄도 모르고', '다 믿었었어 우리둘이']\n"
          ]
        },
        {
          "output_type": "stream",
          "name": "stderr",
          "text": [
            "\r253it [1:44:44, 24.38s/it]"
          ]
        },
        {
          "output_type": "stream",
          "name": "stdout",
          "text": [
            "42\n",
            "['가장 높은 음으로', '불러본 너의 이름', '어쩌면 닿을 것 같아', '가장 아픈 봄에도', '기어이 꽃이 피면', '나는 그게 네 잔소리 같아', '이젠 긴 시간 속을', '천천히 걸어 서두르기 싫어서', '작고 사소한 일로', '환하게 웃다가도', '누가 울어도 이상하지 않은 밤', '난 너를 몰래 떠올려', '비가 내리면 눈물이', '보이지 않는 것처럼', '꺼내 먹을 만큼의', '행복한 기억들을', '주머니에 넣으면', '전부 쓰기는커녕', '남겨온 날이 있어', '그건 좋은 날이지', '지난 기억으로만', '울고 웃는 게 왠지 아쉬운 거야', '마음 안의 시계를', '지금에 맞추지만', '누가 울어도 이상하지 않은 밤', '난 너를 몰래 떠올려', '비가 내리면 눈물이', '보이지 않는 것처럼', '그리워하면 어디든 있는 너', '늘 나와 걷는 넌', '제일 밝은 곳으로만 이끌어', '크게 웃어도 어색하지 않은 밤', '긴 꿈을 깨지 않는 밤', '끝내 잊어도 이상하지 않은 날', '널 보내줄 수 있겠지', '그때까진 피하지 않아', '그리움은 슬픔이 아냐', '다른 시간일 뿐이야', 'So let the memories go on', 'And let the days go on and on', 'So let me remember', '오늘 같은 밤이면']\n"
          ]
        },
        {
          "output_type": "stream",
          "name": "stderr",
          "text": [
            "\r254it [1:45:12, 25.59s/it]"
          ]
        },
        {
          "output_type": "stream",
          "name": "stdout",
          "text": [
            "28\n",
            "['내가 손을 잡을게', '너는 힘을 빼도 돼', '그저 복사꽃 핀 거릴 걷자', '너의 마음이 녹아', '우리 밤을 합치면', '무너진 달을 세워놓자', '가끔 너의 모습은', '봄날의 낮과 밤 같아', '따스하다가도 차갑곤 해', '또 넌 맑은 하늘에', '내리는 소나기 같아', '넌 대체 내게 뭐를 원해', '그대여 난', '솔직히 좀 싫어', '그대는 내가 없더라도', '아무렇지 않은 게', '넌', '나의 모든 하루를 바꿔', '난 그렇게 또', '두 눈을 감고 마네', '그대여 난', '솔직히 좀 싫어', '그대는 내가 없더라도', '아무렇지 않은 게', '넌', '나의 모든 하루를 바꿔', '난 그렇게 또', '두 눈을 감고 마네']\n"
          ]
        },
        {
          "output_type": "stream",
          "name": "stderr",
          "text": [
            "\r255it [1:45:31, 23.71s/it]"
          ]
        },
        {
          "output_type": "stream",
          "name": "stdout",
          "text": [
            "58\n",
            "['널 사랑해 너보다 값진 건 없어', '널 사랑해 세상누구보다 더', '저 하늘에 빛을 따라가다 만난', '오직 나를 위한 한사람', '톡톡 튀는 우리들의 bubble love', 'kiss 처럼 입술모여 부는 bubble gum', '행여나 혹시 그댄 내맘 알까', '얼굴만 봐도 뭘 안먹어도 배불러', '1 step 2 step in 한걸음 더', '니맘을 열어줘 조금만 더', '니 목소리만 들어도 난 너무 좋아', '끊지말고 통화하자 5분만 더', 'this sweet bubble love', '너무 새콤달콤해', '투명한 니맘처럼 너무 깔끔해', 'crystal clear 널향해 달려', 'up in the air 날려 날려', \"don't be afraid blow it away\", '걱정거리들 모두 밀어내', '너와나의 약속 서로를 위로해', '마치 엄마 약손 바로 치료돼', '널 사랑해 너보다 값진 건 없어', '널 사랑해 세상누구보다 더', '저 하늘에 빛을 따라가다 만난', '오직 나를 위한 한사람', '세상은 정글 험한 가시덤불', '그 사이 날 막아주는 튼튼한 건물', '내 몸과 마음의 치유효과를 높이는', '그대는 지상 최대의 내게준 선물', '널 위해 살아갈께 i will never stop', \"눈물조차도 i'll never make it drop\", '모든걸 담을 사랑의 물방울 커져가는', 'bubble love never let it pop', '길거리를 걷다가도 아침밥을 먹다가도', '피곤해서 졸다가도 니 생각만 나', '방송을 하다가도 가사를 쓰다가도', '노래를 부를때도 니 생각만 나', '쓰라린 내게도 이젠 봄이 왔으니', '저 물방울처럼 투명해지리', '빛은 어둠속에 밝게 빛나니', '그대는 내곁에 더 밝게 빛나리', '널 사랑해 너보다 값진 건 없어', '널 사랑해 세상누구보다 더', '저 하늘에 빛을 따라가다 만난', '오직 나를 위한 한사람', \"붕붕 뜨게 i be keepin' it up\", '계속 배워가고 있어 사랑 지키는 법', '내 사랑은 투명한 bubble bubble love', '내 사랑은 투명한 bubble bubble love', \"붕붕 뜨게 i be keepin' it up\", '계속 배워가고 있어 사랑 지키는 법', '내 사랑은 투명한 bubble bubble love', '내 사랑은 투명한 bubble bubble love', '내 입가에 미소가 떠나질 않아', '너 때문에 난 너무나 행복해', '저하늘에 빛을 따라가다 만난', '오직 나를 위한 한사람', ' ']\n"
          ]
        },
        {
          "output_type": "stream",
          "name": "stderr",
          "text": [
            "\r256it [1:46:10, 28.24s/it]"
          ]
        },
        {
          "output_type": "stream",
          "name": "stdout",
          "text": [
            "32\n",
            "['미소짓던 그 표정이', '시도 때도 없던 입맞춤이', '주고받던 연락들이', '아쉬움 가득한 헤어짐이', '없어서 쌓여서', '너의 모든 게', '더는 남아있질 않아', '어쩔 수 없는 걸 알면서도', '놓을 수 없는 걸 아쉬움에', '더는 너를 불러봐도', '어떤 감정도 느껴지질 않아', '그저 남아 있을 뿐인걸', '차가워진 그 표정이', '시도 때도 없는 다툼들이', '주고받던 상처들이', '가끔은 미안한 마음들이', '긴 시간 쌓여서', '너의 모든 게', '더는 남아있질 않아', '어쩔 수 없는 걸 알면서도', '놓을 수 없는 걸 아쉬움에', '더는 너를 불러봐도', '어떤 감정도 느껴지질 않아', '그저 남아 있을 뿐인걸', '매일 그리던 네 모습도', '더는 그려지지 않아', '더는 널 원하지 않아', '어쩔 수 없는 이 마지막도', '놓을 수 없는 네 모습조차', '더는 내겐 의미도 없어', '미뤄왔던 일처럼 느껴져', '이젠 말해야 할 것 같아']\n"
          ]
        },
        {
          "output_type": "stream",
          "name": "stderr",
          "text": [
            "\r257it [1:46:32, 26.24s/it]"
          ]
        },
        {
          "output_type": "stream",
          "name": "stdout",
          "text": [
            "38\n",
            "['오늘 하루 쉴 숨이 ', '오늘 하루 쉴 곳이 ', '오늘만큼 이렇게 또 한번 살아가', '침대 밑에 놓아둔 ', '지난 밤에 꾼 꿈이 ', '지친 맘을 덮으며 ', '눈을 감는다 괜찮아 ', '남들과는 조금은 다른 모양 속에 ', '나 홀로 잠들어 ', '다시 오는 아침에 ', '눈을 뜨면 웃고프다', '오늘 같은 밤 ', '이대로 머물러도 될 꿈이라면 ', '바랄 수 없는걸 바라도 된다면 ', '두렵지 않다면 너처럼 ', '오늘 같은 날 ', '마른 줄 알았던 ', '오래된 눈물이 흐르면 ', '잠들지 않는 ', '내 작은 가슴이 숨을 쉰다 ', '끝도 없이 먼 하늘 ', '날아가는 새처럼 ', '뒤돌아 보지 않을래 ', '이 길 너머 어딘가 봄이 ', '힘없이 멈춰있던 ', '세상에 비가 내리고 ', '다시 자라난 오늘 ', '그 하루를 살아', '오늘 같은 밤 ', '이대로 머물러도 될 꿈이라면 ', '바랄 수 없는걸 바라도 된다면 ', '두렵지 않다면 너처럼 ', '오늘 같은 날 ', '마른 줄 알았던', '오래된 눈물이 흐르면', '잠들지 않는', '이 어린 가슴이 숨을 쉰다', '고단했던 내 하루가 숨을 쉰다']\n"
          ]
        },
        {
          "output_type": "stream",
          "name": "stderr",
          "text": [
            "\r258it [1:46:58, 26.30s/it]"
          ]
        },
        {
          "output_type": "stream",
          "name": "stdout",
          "text": [
            "37\n",
            "['술이 한 잔 생각나는 밤', '같이 있는 것 같아요', '그 좋았던 시절들 이젠 모두', '한숨만 되네요', '떠나는 그대 얼굴이 혹시', '울지나 않을까', '나 먼저 돌아섰죠 그때부터', '그리워요', '사람이 변하는 걸요', '다시 전보다 그댈 원해요', '이렇게 취할 때면 꺼져버린', '전화를 붙잡고', '여보세요 나야 거기 잘 지내니', '여보세요 왜 말 안 하니', '울고 있니 내가 오랜만이라서', '사랑하는 사람이라서', '그대 소중한 마음 밀쳐낸', '이기적인 그때의 나에게', '그대를 다시 불러오라고', '미친 듯이 외쳤어', '떠나는 그대 얼굴이 마치', '처음과 같아서', '나 눈물이 났어요 그때부터', '그리워요', '사람이 변하는 걸요 다시', '전보다 그댈 원해요', '이렇게 취할 때면 바뀌어버린', '전화번홀 누르고', '여보세요 나야 거기 잘 지내니', '오랜만이야 내 사랑아', '그대를 다시 불러오라고', '미친 듯이 울었어', '여보세요 나야 정말 미안해', '이기적인 그때의 나에게', '그대를 다시 불러오라고', '미친 듯이 외쳤어', '미친 듯이 울었어']\n"
          ]
        },
        {
          "output_type": "stream",
          "name": "stderr",
          "text": [
            "\r259it [1:47:23, 25.81s/it]"
          ]
        },
        {
          "output_type": "stream",
          "name": "stdout",
          "text": [
            "37\n",
            "['너무나 사랑한게 죄였나봐', '떠날까봐 널 가뒀으니', '내게만 보여줬던 니 모습은', '혼자 숨겨두고 싶었어', '달콤한 독이 되어 퍼져버린', '너에 대한 내 미련들이', '가녀린 내 사랑을 헤쳐갔어', '내게서 널 뺏어간거야', '이젠 보낼게 널 놓아줄게 ', '내가 없는게 더 행복한 너라면', '못난 내사랑도 못된 미련도', '난 혼자 남아 지워갈게', '차츰 넌 향기 없는 꽃이 되어', '원망하듯 시들어갔어', '미안해 내 사랑이 서툴러서', '너를 다치게 했었나봐', '이젠 보낼게 널 놓아줄게 ', '내가 없는게 더 행복한 너라면', '못난 내사랑도 못된 미련도', '난 혼자 남아 지워갈게', '행복해도돼 꼭 그래야해', '그것만 믿고 널 보내는 나니까', '마지막 인사로 이 말만 해줘', '조금은 사랑했었다고', '아픈 가슴을 치며 그리워져도', '널 찾지는 않을거야', '마지막 인사로 이 말만 해줘', '조금은 사랑했었다고', '이젠 보낼게 널 놓아줄게', '내가 없는게 더 행복한 너라면', '못난 내사랑도 못된 미련도', '난 혼자남아 지워갈게', '행복해도돼 꼭 그래야해', '그것만 믿고 널 보내는 나니까', '마지막 인사로 이 말만 해줘', '조금은 사랑했었다고', '나 혼자 남아 지워갈게']\n"
          ]
        },
        {
          "output_type": "stream",
          "name": "stderr",
          "text": [
            "\r260it [1:47:48, 25.67s/it]"
          ]
        },
        {
          "output_type": "stream",
          "name": "stdout",
          "text": [
            "25\n",
            "['she is everything to me', '지친 나를 감싸 안아줄 그대', '나를 반겨줄 천사 같은 이름', 'woo she', 'she 그 미소 위로 닻을 내리고', '내 하루가 쉬어가고', 'she 어떨까요 그대 없는 나는', 'all of my life is you', '빰빰빰 빰 빰', '빰빰빰 빰 빰', '무지개가 떨어진 곳을 알아', '내일은 꼭 함께 가자는 그녀', '내 손을 감싸 쥐는 용감한 여전사여', 'woo she', 'she 그 미소 위로 닻을 내리고', '내 하루가 쉬어가고', 'she 어떨까요 그대 없는 나는', 'all of my life', 'all of my life is you', 'she 어떤 밤에는 그대와 나는', '길을 잃고 헤매겠지', 'she 걸음 맞춰서 걷다가 보면', 'all of my life is you', '빰빰빰 빰 빰', '빰빰빰 빰 빰']\n"
          ]
        },
        {
          "output_type": "stream",
          "name": "stderr",
          "text": [
            "\r261it [1:48:05, 23.02s/it]"
          ]
        },
        {
          "output_type": "stream",
          "name": "stdout",
          "text": [
            "38\n",
            "['밤하늘의 별을 따서 너에게 줄래', '너는 내가 사랑하니까 더 소중하니까', '오직 너 아니면 안된다고 외치고 싶어', '그저 내 곁에만 있어줘 떠나지 말아줘', '너의 집 앞에서 한참동안 기다린거야', '네가 오는 길에 혹시나 마주칠까봐', '널 만나게 되면 어떤 얘길 먼저', '꺼낼까 우연히 널 만난 것 처럼', '보여야 할 텐데 첫눈에 반해 널', '사랑했어 어떻게 표현할지도 몰라', '눈치도 없이 나의 심장만 두근거려', '밤하늘의 별을 따서 너에게 줄래', '너는 내가 사랑하니까 더 소중하니까', '오직 너 아니면 안된다고 외치고 싶어', '그저 내 곁에만 있어줘 떠나지 말아줘', '골목을 돌아서 네가 걸어 오는게 보여', '준비한 선물과 편질 전해줘야 하는데', '용기를 낸 순간 네 곁으로 다가갔지만', '안녕이란 말만 하고서 지나쳐버렸네', '첫눈에 반해 널 사랑했어 어떻게', '표현할지 몰라 눈치 없이', '나의 심장만 두근거려', '밤하늘의 별을 따서 너에게 줄래', '너는 내가 사랑하니까 더 소중하니까', '오직 너 아니면 안된다고 외치고 싶어', '그저 내 곁에만 있어줘 떠나지 말아줘', '바보처럼 돌아서던 내 모습 뒤로', '내 이름을 부르는 목소리 바로', '너 였어  나와 함께하고 싶다는', '그 말을 전하고 그렇게 우리의', '사랑은 시작됐던 거야', '난나나나 난나 나나나 랄라라라', '랄라 라라라  나나나나 난나', '나나나 라라랄라', '난나나나 난나 나나나 랄라라라', '랄라 라라라  나나나나 난나', '나나나 라라랄라', ' ']\n"
          ]
        },
        {
          "output_type": "stream",
          "name": "stderr",
          "text": [
            "\r262it [1:48:32, 24.04s/it]"
          ]
        },
        {
          "output_type": "stream",
          "name": "stdout",
          "text": [
            "47\n",
            "['모든 시간이 다 멈춘 것 같아', '나는 오늘도 그댈 바라봐요', '차가운 눈물처럼', '흘러가지 말아요', '내 가슴은 그댈 찾고 있죠', '슬픔이 슬픔을 참아보고', '눈물이 눈물을 밀어내고', '기다리고 기다리면', '그대 내게 와줄까요', '내가 여기 서 있는데', '나보다 더 소중한', '내게 단 한 사람', '그대만 보아요', '처음처럼 항상 그 자리에', '사랑이라서', '난 오직 그대라서', '어디라도 언제라도', '지켜줄게요 내 곁에 있어요', '기억 속에 갇혀 난 기다리죠', '나는 여기서 그댈 바라봐요', '차가운 계절 지나', '여기 머물러줘요', '내 맘은 항상 이 자리예요', '슬픔이 슬픔을 참아보고', '눈물이 눈물을 밀어내도', '기다리고 기다리면', '그대 내게 와줄까요', '내가 여기 서 있는데', '나보다 더 소중한', '내게 단 한 사람', '그대만 보아요', '처음처럼 항상 그 자리에', '사랑이라서', '난 오직 그대라서', '어디라도 언제라도', '지켜줄게요 내 곁에 있어요', '눈물로 하루를 보내도', '내 가슴은 너만 찾아요', '그대 없인 나도 없는 거겠죠', '세상 그 누구보다', '소중한 그 사람', '어디에 있나요', '운명처럼 너에게 닿기를', '사랑이라서', '난 오직 너라서', '네가 없인 살 수 없어', '따뜻하게 나를 꼭 안아줘']\n"
          ]
        },
        {
          "output_type": "stream",
          "name": "stderr",
          "text": [
            "\r263it [1:49:03, 26.22s/it]"
          ]
        },
        {
          "output_type": "stream",
          "name": "stdout",
          "text": [
            "48\n",
            "['어떻게 전할까', '널 향한 내 진심', '말로는 부족해', '나 이렇게 노래해', '겁이 많고 불안한 내가', '너를 만나서 행복을 알게 됐어', '기억나 우리 둘', '처음 만난 그 날', '많이 어색하고', '낯설기만 했던 날', '그러다 우연이 계속되고', '그렇게 사랑하게 되고', '그래서 행복하고', '하루의 시작은', '너와 눈을 마주보며 미소 짓는 일', '어느새 닮아 있는 너와 나', '괜스레 눈물이 나', '너라는 사람이', '내게 선물해준 모든 순간순간이', '벅차도록 너무 소중해서', '사랑을 알게 해줘서', '정말 고마워', '나를 웃게 하고', '울리기도 하고', '표현이 서툴던', '내가 많이 변했어', '누군가를 기다리는 일이', '이렇게 설레는 일인지', '이조차도 행복해', '하루의 시작은', '너와 눈을 마주 보며 미소 짓는 일', '어느새 닮아 있는 너와 나', '괜스레 눈물이 나', '너라는 사람이', '내게 선물해준 모든 순간순간이', '벅차도록 너무 소중해서', '사랑을 알게 해줘서', '정말 고마워', '밤에 울다 잠이 깼을 때', '말없이 기대고 싶을 때', '문득 보고 플 때 그냥 꼭 안아줘', '널 향한 내 고백', '이게 내 진심이야', '내 모든 맘을 다 바쳐 노래해', '내가 할 수 있는 모든 걸 담아', '널 위해 부르는 거야', '나의 전부를', '진심이 담긴 노래']\n"
          ]
        },
        {
          "output_type": "stream",
          "name": "stderr",
          "text": [
            "\r264it [1:49:35, 28.07s/it]"
          ]
        },
        {
          "output_type": "stream",
          "name": "stdout",
          "text": [
            "32\n",
            "['까만 안경을 써요', '아주 까만 밤인데 말이죠  ', '앞이 보이지 않아도 ', '괜찮아요 나는 울고 싶을 뿐이죠 ', '한 여자가 떠나요', '너무나 사랑했었죠 ', '그래요 내 여자에요', '내 가슴 속에서 울고 있는 여자 ', '사랑해요 나도 울고 있어요 오 난', '보고 싶어서 만나고 싶어서', '차라리 죽고만 싶어요 ', '미안해요 잘해주지 못한 나지만', '이별까지도 사랑할거에요', '행복한 사람이 되어주세요', '제발요 ', '한 여자가 떠나요', '너무나 사랑했었죠 ', '그래요 내 여자에요', '내 가슴 속에서 울고 있는 여자 ', '사랑해요 나도 울고 있어요 오 난', '보고 싶어서 만나고 싶어서', '차라리 죽고만 싶어요 ', '미안해요 잘해주지 못한 나지만', '이별까지도 사랑할거에요', '행복한 사람이 되어주세요 ', '사랑해요 나도 울고 있어요 난', '보고 싶어서 만나고 싶어서', '차라리 죽고만 싶어요 ', '미안해요 잘해주지 못한 나지만', '이별까지도 사랑할거에요', '행복한 사람이 되어주세요', '제발요 ']\n"
          ]
        },
        {
          "output_type": "stream",
          "name": "stderr",
          "text": [
            "\r265it [1:49:57, 26.14s/it]"
          ]
        },
        {
          "output_type": "stream",
          "name": "stdout",
          "text": [
            "40\n",
            "['이젠 누군갈 만나는 게 난', '아직은 힘이 들것 같아', '다시는 믿고 싶지 않아', '왜 난 사랑을 하면 할수록', '뭐 그리도 어려운 건지', '홀로 남겨질 내게 또 미안해', '날 사랑한다며', '절대 안 떠나겠다며', '너를 많이 사랑했는데', '모든 걸 함께 했었는데', '이별은 나 혼자인 거야', '왜 이런 거냐고', '잠시 내가 미워진 거라면', '기다릴 수 있어 네가 돌아올 때까지', '날 놓지 말아 줘', '애써 날 위해주는 척하는', '너의 그 뻔한 표정에서', '네 맘의 끝을 봤어', '착각이길 바랐어', '이러지 말아 줘', '맘이 찢어질 것 같아', '너를 많이 사랑했는데', '모든 걸 함께 했었는데', '이별은 나 혼자인 거야', '왜 이런 거냐고', '잠시 내가 싫어진 거라면', '기다릴 수 있어 네가 돌아올 때까지', '날 놓지 말아 줘', '나만을 바라보겠단 너를 믿고', '네게 모든 걸 주고 사랑했었어', '그래 내가 널 보내야겠지', '내가 부족한 탓일까', '정말 많이 사랑했는데', '네 품에 안기고 싶은데', '다시 널 기다리는 내가', '참 비참해 보여', '다시 내게 돌아와 준다면', '나 울지 않을게', '그땐 내 곁에 있어줘', '날 놓지 말아 줘']\n"
          ]
        },
        {
          "output_type": "stream",
          "name": "stderr",
          "text": [
            "\r266it [1:50:24, 26.33s/it]"
          ]
        },
        {
          "output_type": "stream",
          "name": "stdout",
          "text": [
            "75\n",
            "['I Need You', '가만히 눈을 감고 있어도 ', '자꾸 생각나죠', '그댄 내게 마치', '뜬 구름 같은걸', '사랑이란 말로 아직 ', '부족한가요 ', '내 맘이 위험한가요', '그댄 내게 전부가 됐네요', '같은 길을 걷고', '같은 꿈을 꾸고', '나 혼자만 몰래 ', '상상을 하고 oh', '그대 곁에 잠든 ', '마치 연인 같은', '그대와 내 모습 ', 'baby I love you', 'I need you ', '수줍은 나의 고백', '오랫동안 몰래', '숨겨왔던 노래', 'I need you ', '참 순진했던 고백', '너도 좋다면 ', '가까이 다가와', 'I need you', '울리지도 않는 전화기를 ', '자꾸 보게되죠', '그댄 내게 기분 좋은 ', '기대 같은걸', '하루만 더 기다리면 ', '답이 올까요', '차라리 고백할까요', '한걸음만 더 다가와줘요', '같은 길을 걷고 같은 ', '꿈을 꾸고', '나 혼자만 몰래 ', '상상을 하고 oh', '그대 곁에 잠든 ', '마치 연인 같은', '그대와 내 모습 ', 'baby I love you', 'I need you ', '수줍은 나의 고백', '오랫동안 몰래', '숨겨왔던 노래', 'I need you ', '참 순진했던 고백', '너도 좋다면 ', '가까이 다가와', 'I need you', 'oh I need you ', 'only you', '그댄 나의 전부 인걸요', 'Im missing you', 'Im in love with you', '오늘도 내일도 ', 'I need you ', '수줍은 나의 고백', '오랫동안 몰래', '숨겨왔던 노래', 'I need you ', '참 순진했던 고백', '너도 좋다면 ', '가까이 다가와', 'I need you', 'I need you ', '수줍은 나의 고백', '오랫동안 몰래', '숨겨왔던 노래', 'I need you ', '참 순진했던 고백', '너도 좋다면 ', '가까이 다가와', 'I need you']\n"
          ]
        },
        {
          "output_type": "stream",
          "name": "stderr",
          "text": [
            "\r267it [1:51:15, 33.86s/it]"
          ]
        },
        {
          "output_type": "stream",
          "name": "stdout",
          "text": [
            "68\n",
            "['미쳤다고 하겠지 내 지금 사랑이', '어떤 건지 듣는 사람들은', '사랑이란 반드시 한 사람과 하는', '거라면서 나를 욕하겠지', '하지만 난 한 사람을 가볍게', '사랑하지 않아 이해 못하겠지', '두 사람을 미친 듯이 온 마음 다', '바쳐서 사랑해', '나도 내 맘을 모르겠어', '내 두사랑은 한 사랑보다 깊어', '난 두 사람 중 한 사람도 곁에서', '보낼 수 없는데 이러면 안 되는데', '누구에게도 털어 놓을 수 없어', '없어 정말이야', '나 두 사람을 사랑해 목숨 바쳐', '나 두 사람을 사랑하면 안 되는걸', '너무 잘 알면서 너무 잘 알면서', '둘 중 누구도 보낼 수가 없어', '없어 정말이야', '이해할 수 있어', '처음 봤을 땐', '그냥 지나치는 사람쯤', '두 번짼 풍선처럼', '네 맘에서 점점 커지고', '그러다 너도 모르는 사이 어느새', '이젠 한 가슴에 살게 된', '전혀 다른 두사랑', '익숙함과 새로움 둘 사이 ', '둘 다 상처주기 싫어', '꽤나 힘들었겠어', '괜찮아 맘 가는 대로 해 ', '그 맘이 진심이라면', '넌 좀 더 이기적이어도 돼', '내 두사랑은 한 사랑보다 깊어', '난 두 사람 중 한 사람도 곁에서', '보낼 수 없는데', '이러면 안 되는데', '누구에게도 털어 놓을 수 없어', '없어 정말이야', '나 두 사람을 사랑해 목숨 바쳐', '나 두 사람을 사랑하면 안 되는걸', '너무 잘 알면서 너무 잘 알면서', '둘 중 누구도 보낼 수가 없어', '없어 정말이야', '스스로가 밉고 이해할 수 없어도', '사람 마음이란 게', '가끔씩 그럴 수 있지', '나쁜 건 나쁜 쪽이', '되기 싫은 너의 맘', '상처주지 않는 법 따위 없다고', '애매하고 못된 헷갈리고 서툰', '그런 맘이라 생각되면', '잠시 두면 돼', '괜찮아 맘 가는 대로 해 ', '그 맘이 진심이라면', '넌 좀 더 이기적이어도 돼', '이 두 사람은 너무 날 사랑해서', '난 두 사람 중 한 사람도 아프게', '할 수가 없는데 이러면 안 되는데', '누구에게도 털어 놓을 수 없어', '없어 정말이야', '나는 사랑이 아닌 사랑들을 해요', '이걸 어쩌지 이걸 어쩌지', '어쩌면 좋지', '어떡하죠', '그 어떤 사랑보다 정말 깊은 걸요', '대체 누가 날', '대체 누가 날 이해해줄지']\n"
          ]
        },
        {
          "output_type": "stream",
          "name": "stderr",
          "text": [
            "\r268it [1:52:02, 37.71s/it]"
          ]
        },
        {
          "output_type": "stream",
          "name": "stdout",
          "text": [
            "31\n",
            "['내가 이렇게 아픈데 ', '그댄 어떨까요', '원래 떠나는 사람이 ', '더 힘든 법인데', '아무 말하지 말아요 ', '그대 마음 알아요', '간신히 참고 있는 날 ', '울게 하지 마요', '이별은 시간을 멈추게 하니까', '모든걸 빼앗고 추억만 주니까', '아무리 웃어 보려고 ', '안간힘 써 봐도', '밥 먹다가도 울겠지만', '그대 오직 그대만이', '내 첫사랑 내 끝사랑', '지금부터 달라질 수 없는 ', '한 가지', '그대만이 영원한 내 사랑', '그대도 나처럼 잘못했었다면', '그 곁에 머물기 수월했을까요', '사랑해 떠난다는 말', '과분하다는 말', '코웃음 치던 나였지만', '그대 오직 그대만이', '내 첫사랑 내 끝사랑', '지금부터 그대 ', '나를 잊고 살아도', '그대만이 영원한 내 사랑', '나는 다시는 사랑을', '못할 것 같아요', '그대가 아니면']\n"
          ]
        },
        {
          "output_type": "stream",
          "name": "stderr",
          "text": [
            "\r269it [1:52:24, 32.92s/it]"
          ]
        },
        {
          "output_type": "stream",
          "name": "stdout",
          "text": [
            "25\n",
            "['널 사랑했던 모든 순간이', '내겐 얼마나 소중한지 넌 알까', '좀 더 안아줬더라면 사랑한다고 더', '말했다면 우리 달라졌을까', '서투른 끝이 후회돼서', '더 보고 싶고 미안하고 그래', '넌 지금 어딨니 혹시 듣고 있니', '듣고 있다면 날 떠올려줄래', '다시 예전처럼 너의 손을 잡고 걷고 싶어', '우리 사랑했었던 그때처럼 말야', '시간이 가면 잊혀진단 말', '다 거짓말 같아', '넌 지금 어딨니 혹시 듣고 있니', '듣고 있다면 날 떠올려줄래', '다시 예전처럼 너의 손을 잡고 걷고 싶어', '우리 사랑했었던 그때처럼', '헤어지던 날 넌 고갤 숙인 채', '가지 말라고 했어', '날 붙잡던 너에게 난 맘에도 없는', '못된 말만 했었어', '언젠가 시간이 지나서', '우릴 떠올렸을 때 아프지 않게', '좋은 기억만 남기고 웃었으면 좋겠어', '너를 너무 사랑했어', '네가 너무 보고 싶어']\n"
          ]
        },
        {
          "output_type": "stream",
          "name": "stderr",
          "text": [
            "\r270it [1:52:42, 28.46s/it]"
          ]
        },
        {
          "output_type": "stream",
          "name": "stdout",
          "text": [
            "30\n",
            "['먼 곳에 지는 저 별은', '누군가 품었던 슬픈 꿈', '붙잡으려 손을 뻗어 봐도', '부서져 사라지는 꿈', '하지만 너와 걸을 때', '내게 불러준 멜로디', '괜찮다고 이런 내 모습 그대로', '충분하다고', 'Just like stardust we’re scattered', 'pieces in the Universe', '옛 별들의 노래', '지친 마음도 애달픈 꿈도', '그 무엇도 너의 탓이 아니야', '너의 눈물을 봤을 때', '들려주고 싶던 그 노래', '늘 그랬듯이 그 어떤 슬픔도', '지나갈 거라고', 'Just like stardust we’re scattered', 'pieces in the Universe', '옛 별들의 노래', '아픈 추억도 떠난 사람도', '그 무엇도 너의 탓이 아니야', '너는 날 다시 꿈꾸게 하는 걸', '나 왠지 두렵기도 하지만', '넌 내게 이미 너무도 커다란 위로', 'Stardust love song', '저 먼 훗날 간절한 꿈들은 이뤄지고', '나의 별도 언젠가 지고 나면', '다 지고 나면', '함께 그 추억을 주으러 가자']\n"
          ]
        },
        {
          "output_type": "stream",
          "name": "stderr",
          "text": [
            "\r271it [1:53:01, 25.83s/it]"
          ]
        },
        {
          "output_type": "stream",
          "name": "stdout",
          "text": [
            "40\n",
            "['위로받고 싶은 날 내겐 말해도 돼', '위로받고 싶은 날 내겐 기대도 돼', '비에 섞인 음악 소리에', '혼자 젖은 새벽 감성에', '때론 너무 지치고 때론 너무 지쳐서', '가끔 아주 가끔', '혼술하고 싶은 밤 전화해', '혼자 있고 싶은 밤 전화해', '참았던 눈물에 울컥해도 괜찮아', '가끔 아주 가끔', '혼술하고 싶은 밤 전화해', '잠이 오지 않는 이 밤에', '한 번쯤 소리 내 울컥해도 괜찮아', '가끔 아주 가끔', '웃고 싶지 않은 날 그냥 그래도 돼', '도망치고 싶은 날 그래 떠나도 돼', '비에 섞인 눈물 소리에', '젖어 드는 슬픈 감정에', '때론 너무 지치고 때론 너무 지쳐서', '가끔 아주 가끔', '혼술하고 싶은 밤 전화해', '혼자 있고 싶은 밤 전화해', '참았던 눈물에 울컥해도 괜찮아', '가끔 아주 가끔', '혼술하고 싶은 밤 전화해', '잠이 오지 않는 이 밤에', '한 번쯤 소리 내 울컥해도 괜찮아', '가끔 아주 가끔', '전부 이해할 수 없지만 내게 말해', '참았던 눈물이 왈칵 쏟아질까 봐', '미치게 답답해 울컥하는 마음에', '가끔 기대도 돼 내게', '혼술하고 싶은 밤 외로워', '혼자라는 생각에 서러워', '말없이 눈물로 소리쳐도 괜찮아', '그래 울어도 돼', '혼술하고 싶은 밤 외로워', '잠이 오지 않는 이 밤에', '한 번쯤 소리 내 울컥해도 괜찮아', '가끔 아주 가끔']\n"
          ]
        },
        {
          "output_type": "stream",
          "name": "stderr",
          "text": [
            "\r272it [1:53:28, 26.11s/it]"
          ]
        },
        {
          "output_type": "stream",
          "name": "stdout",
          "text": [
            "43\n",
            "['왜 그땐 몰랐을까 영화를 볼 때마다', '왜 그땐 몰랐을까', '늘 멜로만 고집한 너', '말하지 말하지 몰랐던 나', '미안해 미안해 미안해', '왜 그땐 몰랐을까 샤워를 할 때마다', '왜 그땐 몰랐을까 한참을 걸리던 너', '빨개진 너의 두 눈이 생각이나', '미안해 미안해 미안해', '한 번도 나는', '너의 환하게 웃는 얼굴 본 적 없는데', '사람들 내게 말해', '너랑 있을 때마다 항상 웃었대', '너무 사랑해 사랑해 사랑해', '너만 사랑해 늦었단 걸 알지만', '그러지마 하지마 가지마', '여전히 예쁘다 넌', '왜 그땐 몰랐을까 따뜻한 네 품속을', '왜 그땐 몰랐을까 안기면 잠들던 나', '먼저 잠든 나 깰까 봐 소리 없이', '울다가 웃다가 울다가', '이별하고서 네가 다른 사람을', '빨리 만났었는데', '사람들 내게 말해', '네 생각에 도저히 살 수 없었대', '너무 사랑해 사랑해 사랑해', '너만 사랑해 늦었단 걸 알지만', '널 다시 만날 수 있다면', '널 내 품에 안을래', '사랑했다 아니 사랑한다 여전히', '너를 붙잡고', '흘러넘쳐 참아 온 눈물이', '처음 만났던 순간 마지막 그 순간', '널 사랑한다고', '매일 밤늦게까지', '혼자 소파에 앉아 영화를 보던 게', '사람들 내게 말해', '멜로를 틀어 놓고 펑펑 울었대', '너무 사랑해 사랑해 사랑해', '너만 사랑해 늦었단걸 알지만', '그러지마 하지마 가지마', '다시 사랑하자', '다시 사랑하자 우리']\n"
          ]
        },
        {
          "output_type": "stream",
          "name": "stderr",
          "text": [
            "\r273it [1:53:58, 27.17s/it]"
          ]
        },
        {
          "output_type": "stream",
          "name": "stdout",
          "text": [
            "52\n",
            "['그리워서 한 잔', '생각나서 한 잔', '내 눈물 섞어 한 잔', '또 한 잔 마시다', '우리 옛 추억에 취해', '독한 네 사랑에 취해', '너의 전화 번홀 누르게 돼', '아마 받지 않겠지만', '미안해', '술이 문제야 문제', '자꾸 너를 떠올리게 해', '술이 문제야 문제', '자꾸 네가 생각나게 해', '정말 미친 듯이 보고 싶어 한 잔', '정말 미친 듯이 그리워서 한 잔', '한 잔 두 잔 기울이면', '너의 기억 모두 끊어질까 봐', '술 한잔했어요', '잊어보려 한 잔', '지워보려 한 잔', '내 눈물 섞어 한 잔', '또 한 잔 마시다', '흐릿한 얼굴에 취해', '희미한 기억에 취해', '다시 전화 번홀 누르게 돼', '절대 받지 않겠지만', '미안해', '술이 문제야 문제', '자꾸 너를 떠올리게 해', '술이 문제야 문제', '자꾸 네가 생각나게 해', '정말 미친 듯이 보고 싶어 한 잔', '정말 미친 듯이 그리워서 한 잔', '한 잔 두 잔 기울이면', '너의 기억 모두 끊어질까 봐', '나 맨정신에 살 수 없어서', '술 한잔했어요', '나 제정신에 살 수 없어서', '술 한잔했어요', '딱 한 잔만 딱 한 잔만', '딱 한 잔만 더 마시면', '너 돌아올까 봐', '미안해', '다 내가 문제야 문제', '바보같이 널 또 기다려', '아니야 내가 문제야 문제', '아직까지 너만 사랑해', '정말 보고 싶은 너를 위해 한 잔', '정말 사랑했던 우릴 위해 한 잔', '한 잔 두 잔 기울이면', '너의 기억 모두 끊어질까 봐', '술 한잔했어요']\n"
          ]
        },
        {
          "output_type": "stream",
          "name": "stderr",
          "text": [
            "\r274it [1:54:33, 29.71s/it]"
          ]
        },
        {
          "output_type": "stream",
          "name": "stdout",
          "text": [
            "33\n",
            "['언젠가 그대에게 준', '눈부신 꽃다발', '그 빛도 향기도', '머지않아 슬프게 시들고', '꽃보다 예쁜 지금 그대도', '힘없이 지겠지만', '그때엔 꽃과 다른', '우리만의 정이', '숨을 쉴거야', '사랑하는 나의 사람아', '말없이 약속할게', '그대 눈물이 마를때까지', '내가 지켜준다고', '멀고 먼 훗날 지금을 회상하며', '작은 입맞춤을 할 수 있다면', '이 넓은 세상위에', '그 길고 긴 시간속에', '그 수많은 사람들중에', '오직 그대만을 사랑해', '사랑하는 나의 사람아', '말없이 약속할게', '그대 눈물이 마를때까지', '내가 지켜 준다고', '멀고 먼 훗날 지금을 회상하며', '작은 입맞춤을 할 수 있다면', '이 넓은 세상위에', '그 길고 긴 시간 속에', '그 수많은 사람들중에', '오직 그대만을 사랑해', '이 넓은 세상위에', '그 길고긴 시간 속에', '그 수많은 사람들중에', '그댈 만난걸 감사해']\n"
          ]
        },
        {
          "output_type": "stream",
          "name": "stderr",
          "text": [
            "\r275it [1:54:56, 27.63s/it]"
          ]
        },
        {
          "output_type": "stream",
          "name": "stdout",
          "text": [
            "38\n",
            "['오늘 하루는 어땠니', '꽤 오랜 시간이 지났는데', '아직도 익숙지 못해', '어쩌면 가끔은 네 생각이', '떠오를까 봐 겁나', '결국엔 너도 그랬잖아', '끝이 어두워', '우리의 사랑이', '후회로 남겨졌다고', '울지 않을게', '난 너 없이도 잘 살아', '괜히 허전한 마음에', '그냥 울컥했어', '아니 사실 말이야 난', '그때가 너무나 그리워서', '너와 함께한 그 순간이', '결국엔 너도 똑같잖아', '너도 아팠잖아', '우리의 이별이', '후회로 남겨졌다고', '울지 않을게', '난 너 없이도 잘 살아', '괜히 허전한 마음에', '그냥 울컥했어', '아니 사실 말이야 난', '그때가 너무나 그리워서', '너와 함께한 그 순간이', '많이 보고 싶었던', '그 하루하루를', '이제는 날 위해', '살아가려 해', '다시 되돌릴 수 없는 시간이지만', '반짝이던 그 시간들', '고마웠어 네가', '어느 곳에 있어도', '잘 지냈으면 하는 맘이라', '널 미워하지도 않고', '널 잊은 채로 난 살게']\n"
          ]
        },
        {
          "output_type": "stream",
          "name": "stderr",
          "text": [
            "\r276it [1:55:22, 27.06s/it]"
          ]
        },
        {
          "output_type": "stream",
          "name": "stdout",
          "text": [
            "57\n",
            "['여름 냄새 벌써 이 거리에', '날 비웃듯 시간은 흐르네', '눈부신 햇살 얼굴을 가리면', '빨갛게 손끝은 물들어가', '몰래 동그라미 그려놨던', '달력 위숫자 어느덧 내일', '제일 맘에 드는 옷 펼쳐놓고서', '넌 어떤 표정일까 나 생각해', '해맑은 아이 같은', '그대의 눈동자 그 미소가', '자꾸 밟혀서 눈에 선해', '한숨만 웃음만', '그대 힘겨운 하루의 끝', '이젠 누가 지킬까', '누가 위로할까', '내 턱끝까지 숨이 차올라', '내 머리 위로 바람이 불어온다', '온 힘을 다해 나는 달려간다', '이게 마지막 선물이', '될지도 몰라', '눈물이 흘러 아니 내 얼굴', '가득히 흐르는 땀방울', '늘 그랬듯이 아무렇지 않게', '웃으며 안녕', '나의 사랑 그대 미안해', '하루에도 몇 번씩 나눴던', '잘잤어 보고싶다는 인사', '그리울 때면 꺼내볼 수 있게', '하나하나 내 마음에 담곤해', '해맑은 아이 같은', '그대의 눈동자 그 미소가', '자꾸 밟혀서 눈에 선해', '한숨만 웃음만', '그대 힘겨운 하루의 끝', '이젠 누가 지킬까', '누가 위로할까', '내 턱끝까지 숨이 차올라', '내 머리 위로 바람이 불어온다', '온 힘을 다해 나는 달려간다', '이게 마지막 선물이', '될지도 몰라', '어떻게 어떻게 그대없는', '내일 아침은 난 겁이 나요', '수많은 밤들 견딜 수 있을까', '웃으며 안녕', '길 건너 멀리 니가 보인다', '지루했나봐 발끝만 바라보네', '온 힘을 다해 나는 달려간다', '이제 마지막 인사가', '될지도 몰라', '눈물이 흘러 아니 내 얼굴', '가득히 흐르는 땀방울', '나 없을 때 아프면 안돼요', '바보처럼 자꾸', '괜찮을거야 잘 지내요', '그대 안녕', ' ']\n"
          ]
        },
        {
          "output_type": "stream",
          "name": "stderr",
          "text": [
            "\r277it [1:56:01, 30.55s/it]"
          ]
        },
        {
          "output_type": "stream",
          "name": "stdout",
          "text": [
            "38\n",
            "['흐린 새벽에 무심히 핸드폰 속', '가만히 들여다보면', '너와 함께한 추억 아직 남아서', '괜스레 또 그리워져가', '이따금씩 네가 자꾸 생각날 때면', '아쉬움이 번져 선명한', '그때 나로 돌아가', '널 붙잡고 내 맘 또 기억 속의 너에게', '말을 꺼내 그때 너는 왜 그랬어', '혼자 사랑하고 미워해 난 오늘도', '어떤 날엔 네가 내게 와', '다시 날 안아줄 것 같아', '우리 사랑했던 날은', '멀어져만 가고 있지만', '넌 어떠니 가끔 내가', '그리워지지는 않니', '우리 그땐 좋았었는데', '이렇게 결국엔 남보다', '못한 사이 되나 봐', '안되는 건 억지로 해도 안된다는 걸', '헤어지고 이제서야 깨달았어', '혼자 사랑하고 미워해 난 오늘도', '어떤 날엔 네가 내게 와', '다시 날 안아줄 것 같아', '우리 사랑했던 날은', '멀어져만 가고 있지만', '넌 어떠니 가끔 내가 그리워지진 않니', '너와 나 좋은 기억만', '괜찮은 일들만 자꾸 생각이 나서', '한걸음 또 한 걸음도', '너를 보낼 수가 없어', '나를 사랑한다던 너는 이제 없어', '보내야 하는데 왜', '자꾸 내 맘이 더 슬퍼져', '너를 사랑한다며 이제 와 다시', '붙잡아 봐도', '매일같이 반복해도', '이별이란 말만 커져']\n"
          ]
        },
        {
          "output_type": "stream",
          "name": "stderr",
          "text": [
            "\r278it [1:56:26, 29.03s/it]"
          ]
        },
        {
          "output_type": "stream",
          "name": "stdout",
          "text": [
            "37\n",
            "['사실은 고민했었어 네가 떠날까 봐', '내 맘은 불안했었어 내 나름대로', '나 많이 생각했어 네가 날 외면할까 봐', '내게 부담 가질까 봐 난 두려웠었나 봐', \"Don't say goodbye\", '난 네게 부족하지만 참 많이 부족하지만', '세상을 다 뒤져도 나 같은 남자', '없다는 걸 아니', '조금은 어색하지만 많이 부족하겠지만', '시간이 흐른 뒤엔', '날 바라보면서 웃을 거야', '이런 말 하기까지가 참 오래 걸렸어', '참기 힘들었어 이런 내 맘을 보여주면', '너의 표정이 어떻게 변할지 난 궁금해', '이렇게 두려워하는', '이런 내 바보 같은 모습을', '난 네게 부족하지만 참 많이 부족하지만', '세상을 다 뒤져도 나 같은 남자', '없다는 걸 아니', '조금은 어색하지만 많이 부족하겠지만', '시간이 흐른 뒤엔', '날 바라보면서 웃을 거야', '세월이 흘러가도 난 변하지 않겠다고', '너의 작은 실수라도', '따뜻하게 안아주겠다고', '이런 말 하는 남자들도 많이 봤겠지만', '눈을 뜨면 볼 수 있는', '눈 감아도 느낄 수 있는', '내 사랑을', '난 네게 부족하지만 참 많이 부족하지만', '세상을 다 뒤져도 나 같은 남자', '없다는 걸 아니', '조금은 어색하지만 많이 부족하겠지만', '시간이 흐른 뒤엔', '날 바라보면서 웃을 거야', 'You`re My Angel My Soul', '나와 결혼해 줘요']\n"
          ]
        },
        {
          "output_type": "stream",
          "name": "stderr",
          "text": [
            "\r279it [1:56:52, 27.99s/it]"
          ]
        },
        {
          "output_type": "stream",
          "name": "stdout",
          "text": [
            "40\n",
            "['늘 바라만 보네요', '하루가 지나가고 ', '또 하루가 지나도', '그대 숨소리 그대 웃음소리', '아직도 나를 흔들죠', '또 눈물이 흐르죠', '아픈 내 맘 모른채 ', '그댄 웃고 있네요', '바보같은 나 철없는 못난 나를', '한번쯤 그대 돌아봐 줄 수 없는지', '알고있죠 내 바램들을', '그대에겐 아무런 의미없단 걸', '나였으면 그대 사랑하는 사람', '나였으면 수없이 많은 날을 ', '나 기도해왔죠', '푸르른 나무처럼 ', '말없이 빛난 별처럼', '또 바라만 보고있는 나를 ', '그댄 알고 있나요', '늘 나 오늘까지만', '혼자 연습해왔던 사랑의 고백들도', '슬픈 뒷모습 그저 오늘까지만', '이런 내맘을 모른채 살아 갈테죠', '기다림이 잊혀짐보다', '쉽다는걸 슬프게 잘 알고 있죠', '나였으면 그대 사랑하는 사람', '나였으면 수없이 많은 날을 ', '나 기도해왔죠', '푸르른 나무처럼 ', '말없이 빛난 별처럼', '또 바라만 보고있는 나를 ', '그댄 알고 있나요', '묻고싶죠 그댄 잘 지내는 가요', '함께하는 그 사람이 ', '그대에게 잘해주나요', '바보같은 걱정도 ', '부질없단걸 알지만', '눈물없이 꼭 한번은 ', '말하고 싶었죠', '사랑한다고']\n"
          ]
        },
        {
          "output_type": "stream",
          "name": "stderr",
          "text": [
            "\r280it [1:57:19, 27.87s/it]"
          ]
        },
        {
          "output_type": "stream",
          "name": "stdout",
          "text": [
            "22\n",
            "['왜 그리 내게 차가운가요', '사랑이 그렇게 쉽게', '변하는 거였나요', '내가 뭔가 잘못했나요', '그랬다면 미안합니다', '그대는 내가 불쌍한가요', '어떻게라도 그대 곁에', '남아있고 싶은 게', '내 맘이라면 알아줄래요', '그렇다면 대답해줘요', '그대가 숨겨왔던 아픈 상처들 다 ', '내게 옮겨주세요', '지치지 않고 슬퍼할 수 있게 나를', '좀 더 가까이 둬요', '사실 난 지금 기다린 만큼 더', '기다릴 수 있지만', '왠지 난 지금 이순간이 우리의', '마지막일 것 같아', '사실 난 지금 기다린 만큼 더', '기다릴 수 있지만', '왠지 난 지금 이순간이 우리의', '마지막일 것 같아']\n"
          ]
        },
        {
          "output_type": "stream",
          "name": "stderr",
          "text": [
            "\r281it [1:57:35, 24.16s/it]"
          ]
        },
        {
          "output_type": "stream",
          "name": "stdout",
          "text": [
            "48\n",
            "['언제였던건지 기억나진 않아 ', '자꾸 내 머리가', '너로 어지럽던 시작 ', '한 두번씩 떠오르던 생각 ', '자꾸 늘어가서', '조금 당황스러운 이 마음 ', '별일이 아닐 수 있다고', '사소한 마음 이라고 ', '내가 내게 자꾸 ', '내게 자꾸 ', '말을 하는게 어색한걸 ', '사랑인가요', '그대 나와 같다면 시작인가요 ', '맘이 자꾸 그댈 사랑한대요 ', '온 세상이 듣도록 소리치네요 ', '왜 이제야 들리죠 우', '서롤 만나기 위해', '이제야 사랑 찾았다고 ', '지금 내 마음을 설명하려 해도 ', '니가 내가 되어', '맘을 느끼는 방법 뿐인데 ', '이미 난 니안에 있는 걸 ', '내 안에 니가 있듯이 ', '우린 서로에게 서로에게', '이미 길들여진지 몰라 ', '사랑인가요', '그대 나와 같다면 시작인가요 ', '맘이 자꾸 그댈 사랑한대요 ', '온 세상이 듣도록 소리치네요 ', '왜 이제야 들리죠 우', '서롤 만나기 위해', '이제야 사랑 찾았다고 ', '생각해보면', '생각해보면', '많은 순간속에 ', '얼마나 많은 설레임 있었는지 ', '조금 늦은 그 만큼', '난 더 잘해 줄께요', '함께 할께요', '추억이 될 기억만 선물할께요', '다신 내곁에서 떠나지 마요', '짧은 순간조차도 불안한 걸요', '내게 머물러줘요 우', '그댈 이렇게 많이', '그토록 많이', '사랑하고 있어요', '그대 하나만', '이미']\n"
          ]
        },
        {
          "output_type": "stream",
          "name": "stderr",
          "text": [
            "\r282it [1:58:07, 26.54s/it]"
          ]
        },
        {
          "output_type": "stream",
          "name": "stdout",
          "text": [
            "30\n",
            "['멀어져 가는 오후를 바라보다', '스쳐 지나가 버린 그때 생각이나', '기억 모퉁이에 적혀 있던 네가', '지금 여기에 있다', '이젠 멈춰버린 화면 속에서', '내게 여름처럼 웃고 있는 너', '어쩌면 이번이 마지막', 'Goodbye', '오래 머물러 주어서 고마워', '이 말이 뭐라고 그렇게 어려웠을까', '이제 Goodbye', '우린 다른 꿈을 찾고 있던 거야', '아주 어린 날 놀던 숨바꼭질처럼', '해가 저물도록 혼자 남은 내가', '지금 여기에 있다', '이미 멈춰버린 화면 속에서', '내게 여름처럼 웃고 있는 너', '어쩌면 이번이 마지막', 'Goodbye', '오래 머물러 주어서 고마워', '이 말이 뭐라고 이렇게 힘들었을까', '손에 꼭 쥐었던', '너와의 Goodbye', '끝내 참지 못한 눈물이 나', '어쩌면 오늘이 마지막', 'Goodbye', '함께 했던 모든 날이 좋았어', '이 말이 뭐라고 그렇게 어려웠을까', '이제 Goodbye', 'Goodbye']\n"
          ]
        },
        {
          "output_type": "stream",
          "name": "stderr",
          "text": [
            "\r283it [1:58:28, 24.93s/it]"
          ]
        },
        {
          "output_type": "stream",
          "name": "stdout",
          "text": [
            "62\n",
            "['아프다고 말하면 ', '정말 아플 것 같아서 ', '슬프다고 말하면 ', '눈물이 날 것 같아서 ', '그냥 웃지 그냥 웃지 그냥 웃지 ', '그런데 사람들이 왜 우냐고 물어 ', '매일을 울다가 웃다가 ', '울다가 웃는걸 반복해 ', '나 왜 이러는데 ', '술이 술인지 밥인지도 모르는 채 ', '살아 이 정도 아픔은 ', '통과 의례인 듯 해 ', '멍하니 종이에 나도 몰래 ', '니 이름만 적어 하루 왼 종일 ', '종이가 시커매지고서야 펜을 놔 ', '너 그리워 또 핸드폰을 들었다 놔 ', '눈물이 또 찾아와 너와의 이별이란 ', '나는 심장이 없어 나는 심장이 없어 ', '그래서 아픈 걸 느낄리 없어 ', '매일 혼잣말을 해 내게 주문을 걸어 ', '그래도 자꾸 눈물이 나는 걸 ', '아프다고 말하면 ', '정말 아플 것 같아서 ', '슬프다고 말하면 ', '눈물이 날 것 같아서 ', '그냥 웃지 그냥 웃지 그냥 웃지 ', '그런데 사람들이 왜 우냐고 물어 ', '이렇게 웃는데 ', '니가 떠나고부터 ', '난 바보가 된 것 같어 ', \"i can't do 아무것도 \", '죽어라 방구석에 박혀 살어 ', '너 없인 할 일도 없는데 ', '하룬 길어 너무 길어 ', '근데 뭐 그리 바뻐 널 외롭게 했어 ', '니가 쇼핑 가자 그럴 때 ', '친구와 술 한잔 마시는 건 그렇게 ', '쉬운데 왜 너한텐 못했을까 ', '언제나 제일 느린 게 후회랬는데 ', '정말 바본지 끝까지 ', '너와의 끈을 놓지 못해 ', '나는 심장이 없어 나는 심장이 없어 ', '오늘도 뻔한 거짓말을 해 ', '가슴이 너무 아픈데', '이렇게 보채는데', '어떻게 웃을 수가 있겠어', '아프다고 말하면', '정말 아플 것 같아서', '슬프다고 말하면', '눈물이 날 것 같아서', '그냥 웃지 그냥 웃지 그냥 웃지', '그런데 사람들이 왜 우냐고 물어', '이렇게 웃는데', '웃자 TV속 연예인들처럼', '웃자 너의 미니홈피 제목처럼', '웃자 행복했던 내 어제처럼', '나는 심장이 없어', '아플 수가 난 없어', '나는 심장이 없어', '아플 수가 난 없어', '그냥 웃자 그냥 웃자 그냥 웃자', '제발 좀 눈물아 이제는 멈춰줘']\n"
          ]
        },
        {
          "output_type": "stream",
          "name": "stderr",
          "text": [
            "\r284it [1:59:12, 30.58s/it]"
          ]
        },
        {
          "output_type": "stream",
          "name": "stdout",
          "text": [
            "31\n",
            "['한참을 내 옆에서 지켜주던', '무던한 사람', '가끔 네 욕을 해도 내 편이 돼주는 ', '착한 사람', '새 사랑을 시작하는 게', '아직 겁나는데', '이런 나라도 좋대', '오늘 고백하는 그 남잘 보고', '난 니가 생각나서 눈물을 참다가', '내 답을 기다리는 그 눈에', '괜히 죄를 짓는 것 같아서', '아무 말도 못했어', '이젠 나도 행복해도 돼', '듣지 못할 답을', '왜 너에게 묻는건지', '오늘 고백하는 그 남잘 보고', '난 니가 생각나서 눈물을 참다가', '내 답을 기다리는 그 눈에', '괜히 죄를 짓는 것 같아서', '고개만 끄덕였어', '나 괜찮은거지', '사랑해도 되지', '니가 못해준', '그때보다 더 예쁜사랑', '전부 해 줄 사람을 만났어', '오늘같이 기뻐해야 하는날', '왜 혼자 미안하고 눈물이 나야해', '말 없이 나를 안아주는 그품에', '이제 너를 보내야 할까봐', '미안해 이제 안녕', '미안해 정말 안녕']\n"
          ]
        },
        {
          "output_type": "stream",
          "name": "stderr",
          "text": [
            "\r285it [1:59:34, 27.98s/it]"
          ]
        },
        {
          "output_type": "stream",
          "name": "stdout",
          "text": [
            "30\n",
            "['어떤 말로 표현해야 이 감정을 알까', '어떻게 널 바라봐야 나의 마음을 알까', '너와 같이 계절을 겪고 너와 거리를 걷고', '아주 천천히 너를 알아가는 이 시간 속에', '네가 어디 있다 해도', '너를 사랑하고 있어', '서두르지 않을게 난', '네 뒤에 서 너를 지켜줄게', 'I will be with you', '너에게 다가갈게', 'I will be with you', '난 언제나 my love for you', '너와 같은 시간 속에 머물고 싶은데', '너와 같은 공간 속에 함께 하고 싶은데', '천천히 난 걸어가 볼게 바로 네가 있는 곳', '너에게 가는 연습일 거라고 믿고 있으니', '네가 어디 있다 해도', '너를 사랑하고 있어', '서두르지 않을게 난', '네 뒤에 서 너를 지켜줄게', 'I will be with you', '너에게 다가갈게', 'I will be with you', '난 언제나 my love for you', '우우우우우우', '나에게 대답해줘', '우우우우우우', '나에게 약속해줘', '오랜 시간이 언젠가 지나가면', '나의 마음을 그땐 너도 알게될까']\n"
          ]
        },
        {
          "output_type": "stream",
          "name": "stderr",
          "text": [
            "\r286it [1:59:54, 25.62s/it]"
          ]
        },
        {
          "output_type": "stream",
          "name": "stdout",
          "text": [
            "37\n",
            "['너무 힘들어 삶에 치이고 ', '되는 것도 없고 ', '가족도 안 보이고 ', '언제부턴가 나도 중요하지 않고', '없진 않지만 더 많이 가져야', '사랑도 이어갈 수 있는 이 세상에서', 'all of my life', 'you are all of my life', '그러고 보면 나 ', '너를 만나 참 많이 변했어 ', '꿈이 생기고 네가 가진 꿈도 ', '이뤄주고 싶었어 나 그러려면', '더 높은 곳에 올라가야만 했어', '더 많은 것들을 가져야 가능했어', '다 가질 때쯤', '사랑보다 꿈이 더 커졌어', 'all of my life ', '내가 힘이 들 때', 'you are all of my life ', '네가 날 채웠는데 ', '다른 어떤 걸로 나를 채워봐도 ', 'all of my life ', 'you are all of my life ', '채워지지가 않아 ', '그렇게 우리 바라왔고 ', '간절했던 거잖아', '이젠 내방에 가득한데 ', '나도 아무것도 없는 ', '방 안에서 넌 혼자', '이렇게 주저앉아 울고 있었니', 'all of my life ', '넌 내 전부인데 ', '이 모든 게 다 무슨 소용 있는데 ', '어디선가 이 노랠 듣게 된다면 ', 'all of my life ', 'all of my life ', '네 이야기가 맞아 ']\n"
          ]
        },
        {
          "output_type": "stream",
          "name": "stderr",
          "text": [
            "\r287it [2:00:19, 25.49s/it]"
          ]
        },
        {
          "output_type": "stream",
          "name": "stdout",
          "text": [
            "27\n",
            "['나의 두 눈에 보여지는 그 뒷모습이', '서글퍼지는 마음이라 눈물이 글썽여', '하루 또 하루 지나가면', '더 멀어질까 봐', '이렇게 또 불안한 마음만', '날 떠나가지 말아요', '가슴속으로 그댈 향해 외치는 말', '돌아가지는 말아요', '그대 있는 곳 다시 사라지지 말아요', '외로운 맘에 서러워도 울지 말아요', '나의 어깨에 기대어요 그대 괜찮다면', '어떤 날에는 더 아프고 또', '슬프겠지만', '내가 그대 곁에 있을게요', '날 떠나가지 말아요', '가슴속으로 그댈 향해 외치는 말', '돌아가지는 말아요', '그대 있는 곳 다시 사라지지 말아요', '지금은 아닐거예요 ', '우리 헤어지는 건', '내게서 멀어지지 말아요', '내 곁에 있어줘', '나의 품에 안겨줘요', '슬픈 날들이 지나가면 그때라면', '온 세상을 다 줄게요 나 그대에게', '지금 내 말 듣고 있나요', '나를 떠나가지 말아요']\n"
          ]
        },
        {
          "output_type": "stream",
          "name": "stderr",
          "text": [
            "\r288it [2:00:37, 23.36s/it]"
          ]
        },
        {
          "output_type": "stream",
          "name": "stdout",
          "text": [
            "30\n",
            "['수많은 밤을 지새고 ', '난 괜찮아졌어', '웃으며 네 얘기도 해', '괜히 울적한 날에', '술을 많이 마신 날엔', '거의 연락할 뻔했어', '그리운 마음은', '불쑥 찾아오지만', '따로 그립거나 쉽게 아프지 않아', '가끔 니가 생각나 우리는', '겨울비처럼 아주 잠깐 내리다', '눈으로 변해가는 게 겨울비 사랑을 닮아', '오늘 비가 내리면', '널 만날 것 같아 아니 널 만난 것 같아', '약속이 없는 주말에', '잠이 오지 않는 밤에', '거의 연락할 뻔했어', '또 다른 사랑이', '내 맘 두드리지만', '이제는 사랑에 쉽게 빠지지 않아', '가끔 니가 생각나 우리는 겨울비처럼', '아주 잠깐 내리다 눈으로 변해가는 게', '겨울비 사랑을 닮아 오늘 비가 내리면', '널 만날 것 같아 아니 널 만난 것 같아', '온 세상을 하얗게 덧칠한 눈처럼', '그때의 우리도 아름다웠을까', '가끔 니가 생각나 우리는 겨울비처럼', '아주 잠깐 내리다 눈으로 변해가는 게', '겨울을 유난히도 싫어하던 내가', '우리가 머물던 이 겨울을 좋아하게 됐어']\n"
          ]
        },
        {
          "output_type": "stream",
          "name": "stderr",
          "text": [
            "\r289it [2:00:59, 22.80s/it]"
          ]
        },
        {
          "output_type": "stream",
          "name": "stdout",
          "text": [
            "51\n",
            "['우리들 만나고 헤어지는', '모든 일들이', '어쩌면 어린애들 놀이 같아', '슬픈 동화 속에', '구름 타고 멀리 날으는', '작은 요정들의 슬픈 이야기처럼', '그러나 우리들', '날지도 못하고 울지만', '사랑은 아름다운 꿈결처럼', '고운 그대 손을 잡고', '밤 하늘을 날아서', '궁전으로 갈 수도 있어', '난 오직 그대 사랑하는 마음에', '바보 같은 꿈꾸며 ', '이룰 수 없는 저 꿈의 나라로', '길을 잃고 헤매고 있어', '그러나 우리들', '날지도 못하고 울지만', '사랑은 아름다운 꿈결처럼', '고운 그대 손을 잡고', '밤 하늘을 날아서', '궁전으로 갈 수도 있어', '그러나 우리들', '날지도 못하고 울지만', '사랑은 아름다운 꿈결처럼', '고운 그대 손을 잡고', '밤 하늘을 날아서', '궁전으로 갈 수도 있어', '난 오직 그대 사랑하는 마음에', '밤하늘을 날아서 ', '그대 잠든 모습 바라보다가', '입맞추고 날아오고파', '그러나 우리들', '날지도 못하고 울지만', '사랑은 아름다운 꿈결처럼', '고운 그대 손을 잡고', '밤 하늘을 날아서', '궁전으로 갈 수도 있어', '난 오직 그대 사랑하는 마음에', '바보 같은 꿈꾸며 ', '이룰 수 없는 저 꿈의 나라로', '길을 잃고 헤매고 있어', '그러나 우리들', '날지도 못하고 울지만', '사랑은 아름다운 꿈결처럼', '고운 그대 손을 잡고', '밤 하늘을 날아서', '궁전으로 갈 수도 있어', '고운 그대 손을 잡고', '밤 하늘을 날아서', '궁전으로 갈 수도 있어']\n"
          ]
        },
        {
          "output_type": "stream",
          "name": "stderr",
          "text": [
            "\r290it [2:01:34, 26.50s/it]"
          ]
        },
        {
          "output_type": "stream",
          "name": "stdout",
          "text": [
            "66\n",
            "['YO  너무 앞만 보며 ', '살아오셨네 ', '어느새 자식들 머리커서 ', '말도 안듣네 ', '한평생 제 자식 밥 그릇에 ', '청춘 걸고 ', '새끼들 사진보며 ', '한푼이라도 더 벌고 ', '눈물 먹고 목숨 걸고 ', '힘들어도 털고 일어나 ', '이러다 쓰러지면 어쩌나 ', '아빠는 슈퍼맨이야 ', '얘들아 걱정마 ', '위에서 짓눌러도 티낼 수도 없고 ', '아래에서 치고 올라와도 피할 수 없네 ', '무섭네 세상 도망가고 싶네 ', '젠장 그래도 참고 있네 맨날 ', '아무것도 모른체 ', '내 품에서 딩굴거리는 ', '새끼들의 장난 때문에 나는 산다 ', '힘들어도 간다 ', '여보 얘들아 아빠 출근한다 ', '아버지 이제야 깨달아요 ', '어찌 그렇게 사셨나요 ', '더 이상 쓸쓸해 하지 마요 ', '이제 나와 같이 가요 ', '어느새 학생이 된 아이들에게 ', '아빠는 바라는 거 딱 하나 ', '정직하고 건강한 착한 아이 바른 아이 ', '다른 아빠 보단 잘 할테니 ', '학교 외에 학원 과외 ', '다른 아빠들과의 경쟁에서 ', '이기고자 무엇이든지 ', '다 해줘야 해 ', '고로 많이 벌어야 해 ', '너네 아빠한테 잘해 ', '아이들은 친구들을 사귀고 ', '많은 얘기 나누고 ', '보고 듣고 더 많은 것을 해주는 ', '남의 아빠와 비교 ', '더 좋은 것을 사주는 ', '남의 아빠와 나를 비교 ', '갈수록 싸가지 없어지는 아이들과 ', '바가지만 긁는 안사람의', ' 등살에 외로워도 간다 ', '여보 얘들아 ', '아빠 출근한다 ', '아버지 이제야 깨달아요 ', '어찌 그렇게 사셨나요 ', '더 이상 쓸쓸해 하지 마요 ', '이제 나와 같이 가요 ', '여보 어느새 세월이 많이 흘렀소 ', '첫째는 사회로 ', '둘째 놈은 대학으로 ', '이젠 온가족이 함께 하고 싶지만 ', '아버지기 때문에 ', '얘기하기 어렵구만 ', '세월의 무상함에 눈물이 고이고 ', '아이들은 바뻐보이고 아이고 ', '산책이나 가야겠소 여보 ', '함께가주시오 ', '아버지 이제야 깨달아요 ', '어찌 그렇게 사셨나요 ', '더 이상 쓸쓸해 하지 마요 ', '이제 나와 같이 가요 오오', '당신을 따라갈래요 ']\n"
          ]
        },
        {
          "output_type": "stream",
          "name": "stderr",
          "text": [
            "\r291it [2:02:19, 32.05s/it]"
          ]
        },
        {
          "output_type": "stream",
          "name": "stdout",
          "text": [
            "25\n",
            "['버려진 담배꽁초', '흔들리는 처량함', '휘청거리는 휜 맥주 뚜껑에', '난 또 감상에 젖어', '오늘 밤은 뭔가가 왠지 달라서', '혼자 있어도 외롭지가 않아서', '보고 싶던 친구를 만나', '초록빛의 신호등이 밝기만 하다', '서있는 저 사람도 깜빡이고 서있지만', '부딪히는 바람도 평화롭구나', '내 마음이 변해서 더 그런가 해', '흔들리는 바람에 휘날리는 나무도', '내 마음을 간질여', '예전의 나를 돋는다', '초록빛의 신호등이 밝기만 하다', '서있는 저 사람도 깜빡이고 서있지만', '부딪히는 바람도 평화롭구나', '내 마음이 변해서 더 그런가 해', '흔들리는 바람에 휘날리는 나무도', '내 마음을 간질여 예전의 나를', '부딪히는 바람도 평화롭구나', '내 마음이 변해서 더 그런가 해', '흔들리는 바람에 휘날리는 나무도', '내 마음을 간질여', '예전의 나를 돋는다']\n"
          ]
        },
        {
          "output_type": "stream",
          "name": "stderr",
          "text": [
            "\r292it [2:02:36, 27.51s/it]"
          ]
        },
        {
          "output_type": "stream",
          "name": "stdout",
          "text": [
            "48\n",
            "['널 만날 수 있는 날 ', '친굴 만났고', '끊이지 않던 대화가 ', '이젠 끊기고', '널 바라보다가 ', '다른 사람을 겹쳐봤어', '누군가 내 안에 ', '들어온 것도 아닌데', '사랑한단 말은 ', '점점 미안하고', '억지로 한 것뿐인데 ', '넌 좋아하고', '너에게만 나는 ', '아주 바쁜 사람', '내 연락을 기다리다가 ', '또 잠들겠지', '나도 노력해봤어 ', '우리의 이 사랑을', '안되는 꿈을 붙잡고 ', '애쓰는 사람처럼', '사랑을 노력한다는 게 ', '말이 되니', '서로가 다른 건 ', '특별하다고', '같은 건 운명이라 ', '했던 것들이 ', '지겨워져', '넌 오늘보다 내일 날 ', '더 사랑한대', '난 내일보다 오늘 더 ', '사랑할 텐데', '나도 노력해봤어 ', '우리의 이 사랑을', '아픈 몸을 이끌고 ', '할 일을 끝낼 그때처럼', '사랑을 노력한다는 게 ', '말이 되니', '말이 되니', '사랑을 노력한다는 게 ', '노력으로 안되는 게 ', '있다는 게', '사랑을 노력한다는 게 ', '말이 되니 ', '너는 아직 아무것도 ', '모르고만 있는데', '어떻게 말해야 할지 ', '나도 모르겠어', '그렇게 널 만나러 가']\n"
          ]
        },
        {
          "output_type": "stream",
          "name": "stderr",
          "text": [
            "\r293it [2:03:08, 28.95s/it]"
          ]
        },
        {
          "output_type": "stream",
          "name": "stdout",
          "text": [
            "66\n",
            "['니가 있는 곳에 나도 함께 할게', '니가 가는 곳에 나도 함께 갈게', '널 위해서 매일 웃고', '널 위해서 기도하고', '니 생각에 잠들고', '널 부르며 눈을 떠', '내 옆에서 지켜주고', '내 옆에서 감싸주는', '넌 나의 천국인걸', \"You're my only one way\", '오직 너를 원해 내가', '니 곁에 있음에 감사해', \"You're the only one babe\", '힘든 세상 속에 사랑을 알게 해준', '너 하나로 나는 행복해', 'Heaven Heaven Heaven', 'Heaven Heaven', 'Heaven Heaven Heaven', 'Heaven Heaven', '우리 함께라면', 'we will never cry never never cry', 'Heaven Heaven Heaven', 'Heaven Heaven', 'Heaven Heaven Heaven', 'Heaven Heaven', '영원히 둘이서', 'never gonna be alone', '니 품에서 숨을 쉬고', '니 품에서 입 맞추고', '니 목소릴 들으면', '꿈 꾸는 것 만 같아', '니 눈에서 알 수 있어', '니 사랑을 알 수 있어', '넌 나의 천국인걸', \"You're my only one way\", '오직 너를 원해 내가', '니 곁에 있음에 감사해', \"You're the only one babe\", '힘든 세상 속에 사랑을 알게 해준', '너 하나로 나는 행복해', 'Heaven 나만의 사람', '그래 나를 지켜줄 사람', '어떤 슬픔도 어떤 아픔도', '너와 함께 한다면', '어느 누구도 난 부럽지 않아', '떨리는 두 손을 잡아줘', '내가 사는 이유 너니까', \"You're my only one way\", '오직 너를 원해 내가', '니 곁에 있음에 감사해', \"You're the only one babe\", '힘든 세상 속에 사랑을 알게 해준', '너 하나로 나는 행복해', 'Heaven Heaven Heaven', 'Heaven Heaven', 'Heaven Heaven Heaven', 'Heaven Heaven', '우리 함께라면', 'we will never cry never never cry', 'Heaven Heaven Heaven', 'Heaven Heaven', 'Heaven Heaven Heaven', 'Heaven Heaven', '영원히 둘이서', 'never gonna be alone', 'oh so alone']\n"
          ]
        },
        {
          "output_type": "stream",
          "name": "stderr",
          "text": [
            "\r294it [2:03:54, 33.90s/it]"
          ]
        },
        {
          "output_type": "stream",
          "name": "stdout",
          "text": [
            "43\n",
            "['눈꽃이 내린 버스 정류장에', '날 데려다주다', '꼭 내 손을 잡는 너 때문에', '나 놀랐어', '아주 오래전부터 숨겼던', '내 맘이 들킨 걸까', '부는 바람에 실린 우리에게 번진 ', 'This is love', '내 마음에 내려와 사뿐히 내려와', '네 어깨 위에도 벌써 내린 그 이름 ', '봄인가 봐', '우리 잡은 손 틈 사이', '얇아진 외투 사이', '어느새 스며들어 우릴 변화시킨 ', '봄이 왔나 봐', '첨엔 그랬어 편한 친구', '혹 동생 같았어', '치마를 입고 꾸민 모습에도', '놀라지 않았어', '뭐가 우릴 지금 ', '이렇게 바꿔 놓은 걸까', 'Maybe it’s crazy ', 'Can I call you my baby Yeah', '내 마음에 내려와 사뿐히 내려와', '네 어깨 위에도 벌써 내린 그 이름 ', '봄인가 봐', '우리 잡은 손 틈 사이 ', '얇아진 외투 사이', '어느새 스며들어 우릴 변화시켜 Oh', '우리 서로에 기대어 잠든 벤치', '투명한 하늘에 물든', 'Sweet cherry blossom', '늘 이러면 좋겠다 Yeah', '우릴 바꾼 그 이름 봄봄봄 봄 Ooh', '널 사랑해 너를 사랑해 ', '사랑해 널 Yeah', '넌 봄이 돼줘 항상 나는 꽃이 될게', '서로를 녹여주고 ', '열리게 해주면 좋겠다', '안 보이던 마음과 마음', '마주한 시선 사이', '겨우내 숨어있던 꽃이 피었나 봐 ', '봄이 왔나 봐']\n"
          ]
        },
        {
          "output_type": "stream",
          "name": "stderr",
          "text": [
            "\r295it [2:04:23, 32.41s/it]"
          ]
        },
        {
          "output_type": "stream",
          "name": "stdout",
          "text": [
            "15\n",
            "['골목길 머뭇하던 첫 안녕을 기억하오', '그날의 끄덕임을 난 잊을 수 없다오', '길가에 내린 새벽 그 고요를 기억하오', '그날의 다섯시를 난 잊을 수 없다오', '반듯하게 내린 기다란 속눈썹 아래', '몹시도 사랑히 적어둔 글씨들에', '이따금 불러주던 형편없는 휘파람에', '그 모든 나의 자리에 나 머물러 있다오', '아끼던 연필로 그어놓은 밑줄 아래', '우리 둘 나란히 적어둔 이름들에', '무심한 걱정으로 묶어주던 신발끈에', '그 모든 나의 자리에 나 머물러 있다오', '좋아하던 봄 노래와 내리는 눈송이에도', '어디보다 그대 안에 나 머물러 있다오', '나 머물러 있다오 그대 울지 마시오']\n"
          ]
        },
        {
          "output_type": "stream",
          "name": "stderr",
          "text": [
            "\r296it [2:04:33, 25.83s/it]"
          ]
        },
        {
          "output_type": "stream",
          "name": "stdout",
          "text": [
            "32\n",
            "['인스타로 몰래 보는 너의 하루들', '누가 봐도 헤어진 티를 내', '팔로우 다 끊고서', '좋아요는 왜 눌렀니', '참 바보 같은 사람이야', '잘 먹지도 못하는 술은', '왜 매일 마시고', '늘 웃던 얼굴 많이 야위었어', '혼자 있으면 나도 그래', '술이 없으면 못 자고 많이 괴로워해', '이럴 거면 우리 미친 척하고', '다시 만날까 봐', '다시 시작할까 봐', '친구들 만나는 거 그렇게 좋아하면서', '집에만 있니 더 우울하게', '혼자 있으면 나도 그래', '누구도 만나기 싫어 숨고만 싶은데', '이럴 거면 우리 미친 척하고', '다시 만날까 봐', '다시 시작할까 봐', '못 잊을 거야 너와 추억한', '지난날들을', '난 아직까지도 너무나 선명해', '그렇게 선명한 만큼 지키고픈', '우리 기억들이', '잊혀지는 게 정말 많이 두려워', '혼자 있으면 나도 그래', '늘 혼자 센척했지만 많이 두려워해', '이럴 거면 우리 미친 척하고', '다시 만날까 봐', '다시 시작할까 봐', '우리 여기서 끝나면 안 돼']\n"
          ]
        },
        {
          "output_type": "stream",
          "name": "stderr",
          "text": [
            "\r297it [2:04:54, 24.50s/it]"
          ]
        },
        {
          "output_type": "stream",
          "name": "stdout",
          "text": [
            "36\n",
            "['신촌을 못가 한번을 못가', '혹시 너와 마주칠까 봐', '널 보면 눈물이 터질까 봐', '친구들 한잔 하자고 또 꼬시며', '불러대도 난 안가', '아니 죽어도 못가', '자주 갔었던 좋아했었던', '사거리 그 포장마차가 그립다', '니가 너무 그립다', '새빨개진 그 얼굴로', '날 사랑한다 했었던', '그곳엘 내가 어떻게 가니', '오늘 그 거리가 그리워 운다 또 운다', '아직 많이 보고 싶나 봐', '너도 어디선가 나처럼 울까 또 울까', '그런 너를 마주칠까 신촌을 못가', '데려다주던 아쉬워하던', '막차 버스 안에서', '우리 좋았지 우리 너무 좋았지', '뒷자리 창가에 앉아', '호 입김 불며 그리던 니 이름', '그리고 널 사랑해 그걸 어떻게 잊니', '오늘 그 거리가 그리워 운다 또 운다', '아직 많이 보고 싶나 봐', '너도 어디선가 나처럼 울까 또 울까', '그런 너를 마주칠까 신촌을 못가', '우리 둘만 있어도 좋았잖아', '종일 땀이 찼던', '두 손 뜨겁던 입맞춤도', '다 거기 있잖아 다 살아 있잖아', '오늘 이 노래를 부른다', 'Good bye and Good bye', '이젠 너를 놓아 줄까 봐', '마지막으로 널 부른다', '사랑해 널 사랑해', '너를 만난 그 곳은 참 행복했었다']\n"
          ]
        },
        {
          "output_type": "stream",
          "name": "stderr",
          "text": [
            "\r298it [2:05:20, 24.68s/it]"
          ]
        },
        {
          "output_type": "stream",
          "name": "stdout",
          "text": [
            "31\n",
            "['나와 둘이 함께 늙어가자던', '습관처럼 뱉던 말 아직 여전하니', '뭐든 나와 함께 한다면', '그저 좋다던 예쁜 얼굴 생각나는 밤', '나에게 늘 맞춰주던 너', '익숙함이 커 지키지 못했어 그땐', '내 얘기에 귀 기울이던 너의', '앳된 표정이 아직도 선명해', '다시금 날 봐줘요', '그대의 기나긴 투정도', '모두 들어드릴게요', '아직도 지키지 못한', '약속을 기다린다면', '그대여 다시금 내 곁에 있어줘요', '머물러요', '질투 어린 술주정에도', '미안하다며 계속 나를 달랬던 그대', '따듯한 그 말들을 무시했던', '그때의 내가 원망스럽네요', '다시금 날 봐줘요', '그대의 기나긴 투정도', '모두 들어드릴게요', '아직도 지키지 못한', '약속을 기다린다면', '그대여 다시금 내 곁에 있어줘요', '그대가 돌아오면', '멍청한 내 어린 습관도', '전부 다 고칠게요', '사랑은 처음이라서', '그대를 아프게 해서', '미안해요']\n"
          ]
        },
        {
          "output_type": "stream",
          "name": "stderr",
          "text": [
            "\r299it [2:05:42, 23.96s/it]"
          ]
        },
        {
          "output_type": "stream",
          "name": "stdout",
          "text": [
            "49\n",
            "['잘 지내니 잘 사는 것 같아', '친구들에게서 네 소식을 들어', '많은 날이 지나버렸지만', '마주했던 시간은 마치 어제 같아', '거니는 거리마다', '자꾸 네가 생각나', '언제쯤이면 이 시간이 무뎌질까', '이제 와 뭘 어떡해', '정말 아무것도 할 수 없잖아', '하나부터 열까지', '너로 물들어있어', '모두 다 거짓말 같아', '믿을 수 없잖아', '아침 눈을 떴을 때', '지금 이 모든 게 꿈이었음 좋겠어', '되돌릴 수 있다면', '네 손잡고 거닐던', '나 그때로 단 한번만', '안 된다는 걸 알아', '그래서 더 힘들어', '여전히 오늘도', '가슴이 답답해서', '수많은 밤 지샜지만', '이제 네 소식을 들어도 난 괜찮아', '너무 힘이 들 때면', '가끔 너의 이름만 불러 볼게', '하나부터 열까지', '너로 물들어있어', '모두 다 거짓말 같아', '믿을 수 없잖아', '아침 눈을 떴을 때', '지금 이 모든 게 꿈이었음 좋겠어', '되돌릴 수 있다면', '네 손잡고 거닐던', '나 그때로 단 한 번만', '안 된다는 걸 알아', '그래서 더 힘들지만', '단 한 번만이라도', '널 보고 싶어 스친 우연이라도', '한번 볼 수만 있다면', '그럼 덜 힘들까', '많은 밤을 지새도', '너의 기억을 다 지우진 못할 거야', '이런 게 사랑이라면', '다신 못할 것 같아', '나 그때로 단 한 번만', '안 된다는 걸 알아', '그래서 더 힘들어', '오늘도']\n"
          ]
        },
        {
          "output_type": "stream",
          "name": "stderr",
          "text": [
            "\r300it [2:06:16, 27.05s/it]"
          ]
        },
        {
          "output_type": "stream",
          "name": "stdout",
          "text": [
            "42\n",
            "['차갑게 돌아서던 너에게', '이유를 찾아보지만', '눈을 감았던 내 맘속으로', '널 바라보던', '그날의 난 알 수 없었어', '수많은 다툼이 지나가고', '불안한 침묵 속에서', '나에게 사랑을 말하던 네 모습을', '그땐 왜 그렇게 몰랐었는지', '아직 난 너의 시간 속', '너의 기억에 살아가', '너만 모르던 너의 모습을', '잊지 못했어', '너의 마음과 너의 사랑을', '알지 못했던', '이별보다 더 아팠던 사랑', '나일 테니까', '놓아볼게', '스치는 너의 흔적 사이로', '나 혼자 되풀이하던', '사랑해 미안하단 그 말 바보처럼', '이제 와서 너를 찾고 있나 봐', '매일 난 너의 시간 속', '너의 기억에 살아가', '너만 모르던 너의 모습을', '잊지 못했어', '너의 마음과 너의 사랑을', '알지 못했던', '이별보다 더 아팠던 사랑', '나일 테니까', '떠나볼게', '선명했던 우리의 추억마다', '흐려지는 나의 마음이', '다시 널 쏟아내나 봐', '한 번쯤 꼭 한번 다시', '우리가 만나게 되면', '돌아와 줄래 후회한다고 하고 싶은데', '너의 세상 속 너의 사랑을', '알지 못했던', '의미 없었던 지나간 사랑', '나일 테니까', '잠시 머물던 나의 사랑 안녕']\n"
          ]
        },
        {
          "output_type": "stream",
          "name": "stderr",
          "text": [
            "\r301it [2:06:45, 27.57s/it]"
          ]
        },
        {
          "output_type": "stream",
          "name": "stdout",
          "text": [
            "58\n",
            "['가슴 아파서 목이 메어서 ', '안간힘을 써봐도 ', '피해 갈 수도 물러지지도 ', '않는 이별 인가봐 ', '너무 놀라서 자꾸 겁나서 ', '웃음으로 이기려해도 ', '눈치 빠른 눈물이 더 먼저 ', '알고 날 흘러 ', '난 소란스레 사랑했나봐 널 ', '줬다 이내 뺏는 걸 보니 ', '분 넘친 행복을 또 시기했나봐 ', '널 보내야만 하나봐 ', 'I miss the love that ', 'I shared with U ', '온 세상이 취한 것 같아 ', '눈부셨던 우리 추억이 열 ', '오르듯 비틀대잖아 ', '니 품에 살았던 날들과 ', '꿈꾸었던 사랑이 ', '다 부서져 또 흩어져 향기로 ', \"I can't live without your love \", '내가 못나서 잡지 못해서 ', '돌아 가슴 쳐봐도 ', '지워 지지도 덜어지지도 ', '않는 사랑 인가봐 ', '니가 미워서 누굴 만나서 ', '다시 시작 해 보려해도 ', '수많은 니 그리움이 날 ', '체하게 만들어 ', '넌 나보다 더 용감한가봐 ', '날 사랑한 적 없던 것처럼 ', '잘 살아가는데 날 지워 가는데 ', '난 왜 널 못 잊는 거니 ', 'I miss the love that ', 'I shared with U ', '온 세상이 취한 것 같아 ', '눈부셨던 우리 추억이 열 ', '오르듯 비틀대잖아 ', '니 품에 살았던 날들과 ', '꿈꾸었던 사랑이 ', '다 부서져 또 흩어져 향기로 ', '이렇게 하루 이틀이 가고 눈에 ', '멀어져 살다가 보면 ', '언젠간 또 가슴에서도 ', '무뎌지는 거라고 ', '그렇게 말을 하기까지 얼마나 ', '싸워야 난 할지 ', '보이지 않는 나와 또 볼 수 없는 ', '널 앞에 두고 ', 'I miss the love that ', 'I shared with U ', '그 언제쯤 자유로울까 ', '니 이별도 못 한 게 있어 ', '내 안에 널 데려가는 일 ', '난 그래 괜찮아 오늘도 ', '너 땜에 힘 겨워도 ', '이 지독한 내 아픔도 우리가 ', '사랑한 흔적인걸 ']\n"
          ]
        },
        {
          "output_type": "stream",
          "name": "stderr",
          "text": [
            "\r302it [2:07:26, 31.50s/it]"
          ]
        },
        {
          "output_type": "stream",
          "name": "stdout",
          "text": [
            "31\n",
            "['까만 밤 빛이 없는 하루에 ', '혼자 서있는 듯 ', '어떤 말도 반갑지 않은 날에', '그래 넌 항상 거기 있지 ', '그게 난 너무 편했나 봐 ', '좋았나 봐 자꾸 두려울 만큼 ', '멀리 걷고 있는 사람들 속 ', '너만 참 빛나 보여 ', '그저 힘들던 하루가', '날 아껴주는 네가 있어서 감사해', '가끔씩 난 뒤 돌아보면 ', '철없이 온 세상에 우리 둘밖에 없었던 ', '지난날 그때 또 그립겠지만 ', '처음 같은 설레임보다 ', '서로를 따뜻하게 바라봐주는 ', '지금 이대로의 모습이 소중해', '이렇게 오랫동안 ', '우리가 함께 웃게 될 줄 몰랐어 ', '난 아마 너도 그렇지', '때론 알 수 없는 불안함에 ', '아픈 날도 있었어 ', '버거운 다툼 속에서', '어느새 훌쩍 커버린 마음 알잖아', '가끔씩 난 뒤 돌아보면 ', '철없이 온 세상에 우리 둘밖에 없었던 ', '지난날 그때 또 그립겠지만', '처음 같은 설레임보다 ', '서로를 따뜻하게 바라봐주는 ', '그런 사이가 행복일 테니까 ', '사랑하니까 같은 꿈을 꾸게 돼 ', '너라서 선명하지 않은 먼 길도 함께 갈게']\n"
          ]
        },
        {
          "output_type": "stream",
          "name": "stderr",
          "text": [
            "\r303it [2:07:47, 28.58s/it]"
          ]
        },
        {
          "output_type": "stream",
          "name": "stdout",
          "text": [
            "58\n",
            "['꽃피는 봄이오면', '니가 떠난 그 후로', '내 눈물은 얼 수 없나봐', '얼어붙고 싶어도', '다시 흐른 눈물 때문에', '널 잃은 내 슬픔에', '세상이 얼어도', '날이 선 미움이 날 할퀴어도', '뿌리 깊은 사랑을', '이젠 떼어낼 수 없나봐', '처음부터 넌 내 몸과', '한 몸이었던 것처럼', '그 어떤 사랑조차 꿈도 못꾸고', '이내 널 그리고 또 원하고', '난 니 이름만 부르짖는데', '다시 돌아올까', '네가 내 곁으로 올까', '믿을 수가 없는데', '믿어주면 우린 너무 사랑한', '지난 날처럼 사랑하게 될까', '그 때의 맘과 똑같을까', '계절처럼 돌고 돌아', '다시 꽃 피는 봄이 오면', '기다리는 이에겐', '사랑말곤 할게 없나봐', '그 얼마나 고단한지', '가늠도 못했었던 나', '왜 못 보내느냐고', '오 왜 우냐고', '자꾸 날 꾸짖고 날 탓하고', '또 그래도 난 너를 못잊어', '다시 돌아올까', '네가 내 곁으로 올까', '믿을 수가 없는데', '믿어주면 우린 너무 사랑한', '지난 날처럼 사랑하게 될까', '그 때의 맘과 똑같을까', '계절처럼 돌고 돌아', '다시 꽃 피는 봄이 오면', '참 모질었던 삶이였지만', '늘 황폐했던 맘이지만', '그래도 너 있어 눈부셨어', '널 이렇게도 그리워', '견딜 수가 없는 건', '나 그 때의 나 그 날의', '내 모습이 그리워', '시간에게 속아', '다른 누굴 허락하고', '다른 누군가에게', '기대 서로 묻고 산다고 해도', '날 기억해줘 한 순간이지만', '우리가 사랑했다는 걸', '너와 나눈 사랑은 참', '삶보다 짧지만', '내 추억 속에 사는 사랑은', '영원할테니까', '꼭 찰나같아 찬란했던', '그 봄날은']\n"
          ]
        },
        {
          "output_type": "stream",
          "name": "stderr",
          "text": [
            "\r304it [2:08:28, 32.21s/it]"
          ]
        },
        {
          "output_type": "stream",
          "name": "stdout",
          "text": [
            "38\n",
            "['언제부터인지 습관처럼 연락하고', '마주한 시간이 더는 설레질 않아', '하루 종일 반복되는 다툼까지도', '사소하게 쌓인 오해마저', '어떤 말로 풀어야 하는지', '익숙한 탓인지 조금은 지겹기도 해', '혼자인 시간이 가끔은 그립기도 해', '하루 종일 궁금하던 너의 안부도', '더는 쉽게 물어볼 수 없는', '그런 감정에 하루를 살아', '넌 어떻게 지내는 건지', '혹시 나와 같은 지 바쁜 일상 속에', '내 생각 같은 건 하지 않는지', '날 만나 사랑했던 걸', '후회하진 않는지 끝이라는 게', '생각보다 쉬운 일인 건 아닌지', '쉬울 줄 알았어 널 마주하기 전에는', '마음과는 달랐어', '왜 이렇게 아픈 건지', '생각보다 너무 쉽게', '잊혀질 걸 알면서', '왜 함께한 날들이 떠오르는지', '넌 어떻게 지내는 건지', '혹시 나와 같은 지 바쁜 일상 속에', '내 생각 같은 건 하지 않는지', '날 만나 사랑했던 걸', '후회하진 않는지 끝이라는 게', '생각보다 쉬운 일인 건 아닌지', '사실 잠시뿐인 걸 알고는 있지만', '어떤 말로', '우리를 끝내 보내야 하는지', '널 다시 만날 수 있을까', '함께 나눈 그 많은 말들과 온기가', '거짓말처럼 지워질까', '어떤 말도 할 수 없는', '마지막을 건네는 너의 표정이', '돌아선 지금도 지워지지를 않아', '그때의 너는 어떤 마음이었을까']\n"
          ]
        },
        {
          "output_type": "stream",
          "name": "stderr",
          "text": [
            "\r305it [2:08:57, 31.16s/it]"
          ]
        },
        {
          "output_type": "stream",
          "name": "stdout",
          "text": [
            "42\n",
            "['헤어진 다음 날 니 목소리없이', '아침에 혼자 눈을 뜨게 된거야', '실감이 안나 전화기를 켜보니', '니 사진은 우리 둘 사진은', '그대로 있는데 여기 있는데', '어떡해 벌써 보고 싶은데', '이젠 지워야겠지', '모두 지워야겠지', '웃는 너의 사진을', '행복한 우리 사진을', '한 장씩 너를 지울 때마다', '가슴이 아려와', '너의 사진이 점점 흐려져', '사진 속 너를 불러도 보고', '너를 만져도 보고', '너무 잔인한 일이야', '너를 지우는 일', '그대로 있는데', '웃고 있는데', '사진 속 니가 웃고 있는데', '이 땐 행복했나봐', '이 땐 몰랐었나봐', '우린 좋았었는데', '우린 좋았을 텐데', '한 장씩 너를 지울 때마다', '가슴이 아려와', '너의 사진이 점점 흐려져', '사진 속 너를 불러도 보고', '너를 만져도 보고', '너무 잔인한 일이야', '너를 지우는 일', '이제 눈 감고 널 지워', '어차피 우린 아닌거잖아', '이젠 눈 감고 널 지워', '마지막 사진 한장 뿐', '마지막 너의 얼굴이 보여', '너무 아름다워요', '이제 다시는 볼 수 없음에', '한번 더 너를 불러도 보고', '너를 만져도 보고', '너무 잔인한 일이지만은', '널 지웠어']\n"
          ]
        },
        {
          "output_type": "stream",
          "name": "stderr",
          "text": [
            "\r306it [2:09:27, 30.91s/it]"
          ]
        },
        {
          "output_type": "stream",
          "name": "stdout",
          "text": [
            "36\n",
            "['모두 잠드는 밤에', '혼자 우두커니 앉아', '다 지나버린 오늘을', '보내지 못하고서 깨어있어', '누굴 기다리나 ', '아직 할 일이 남아 있었던가', '그것도 아니면 돌아가고 싶은', '그리운 자리를 떠올리나', '무릎을 베고 누우면 ', '나 아주 어릴 적 그랬던 것처럼', '머리칼을 넘겨줘요', '그 좋은 손길에', '까무룩 잠이 들어도', '잠시만 그대로 두어요', '깨우지 말아요 아주', '깊은 잠을 잘 거예요', '조용하던 두 눈을', '다시 나에게 내리면', '나 그때처럼 말갛게', '웃어 보일 수 있을까', '나 지친 것 같아', '이 정도면 오래 버틴 것 같아', '그대 있는 곳에 돌아갈 수 있는', '지름길이 있다면 좋겠어', '무릎을 베고 누우면 ', '나 아주 어릴 적 그랬던 것처럼', '머리칼을 넘겨줘요', '그 좋은 손길에', '까무룩 잠이 들어도', '잠시만 그대로 두어요', '깨우지 말아요 아주', '깊은 잠을 잘 거예요', '스르르르륵 스르르', '깊은 잠을 잘 거예요', '스르르르륵 스르르', '깊은 잠을']\n"
          ]
        },
        {
          "output_type": "stream",
          "name": "stderr",
          "text": [
            "\r307it [2:09:51, 28.95s/it]"
          ]
        },
        {
          "output_type": "stream",
          "name": "stdout",
          "text": [
            "26\n",
            "['첨엔 혼자라는게 편했지', '자유로운 선택과 시간에', '너의 기억을 지운 듯 했어', '정말 난 그런줄로 믿었어', '하지만 말야 이른 아침 혼자 눈을 뜰때', '내 곁에 니가 없다는 사실을 알게 될 때면', '나도 모를 눈물이 흘러', '변한 건 없니 날 웃게 했던', '예전 그 말투도 여전히 그대로니', '난 달라졌어 예전만큼 웃질 않고', '좀 야위었어 널 만날때 보다', '나를 이해해 준 지난 날을', '너의 구속이라 착각했지', '남자다운 거라며 너에겐', '사랑한단 말조차 못했어', '하지만 말야 빈 종이에 가득 너의 이름', '쓰면서 네게 전화를 걸어 너의 음성 들을 때', '나도 모를 눈물이 흘러', '변한 건 없니 내가 그토록', '사랑한 미소도 여전히 아름답니', '난 달라졌어 예전만큼 웃질 않고', '좀 야위었어 널 만날때 보다', '그는 어떠니 우리 함께한 날들', '잊을 만큼 너에게 잘해주니', '행복해야돼 나의 모자람', '채워줄 좋은 사람 만났으니까  ']\n"
          ]
        },
        {
          "output_type": "stream",
          "name": "stderr",
          "text": [
            "\r308it [2:10:09, 25.60s/it]"
          ]
        },
        {
          "output_type": "stream",
          "name": "stdout",
          "text": [
            "45\n",
            "['여기 내 머릿속에', '스위치 같은', '그런 게 있음 좋겠어', '눈을 감듯 널 꺼놓게', '매일 숨을 쉬듯이', '널 사랑했던', '나쁜 버릇은 어떡해야', '고쳐질까', '알아 쉽진 않겠지', '한동안 생각날 테고', '행여나 울더라도', '흔들리진 말자', '혹시 내 전화를 기다리거나', '취해서 집 앞을 찾아오는 일 안 돼', '실수로라도 내 생각 따윈 절대 안 돼', '안 돼 안 돼', '너 혹시 내 사진을 찾아보거나', '나 몰래 내 소식을', '검색하는 일 안 돼', '이젠 안 돼 우린 안 돼 너와 나', '더는 해선 안 되는 일', '우릴 알던 누군가 너를 만나', '스치듯 나의 안불 묻더라도', '웃음으로 웃음으로', '받아줄 수 있길', '혹시 내 전화를 기다리거나', '취해서 집 앞을 찾아오는 일 안 돼', '실수로라도 내 생각 따윈 절대 안 돼', '안 돼 안 돼', '너 혹시 내 사진을 찾아보거나', '나 몰래 내 소식을', '검색하는 일 안 돼', '이젠 안 돼 우린 안 돼 너와 나', '잘 한 건진 모르지만', '후회할지 모르지만', '소리 없이 흐르는 눈물을 잡고 안녕', '우리들의 수많은 기념일과', '서로의 이름 목소리까지도', '자고 나면 모두 다 잊는 거야', '모든 걸 잊고 떠나는 거야', '널 사랑했지만', '보고 싶겠지만', '오늘 이후로 우린 없는 거야', '아무 일도 아닌 듯이', '아무 일도 없던 듯이']\n"
          ]
        },
        {
          "output_type": "stream",
          "name": "stderr",
          "text": [
            "\r309it [2:10:40, 27.05s/it]"
          ]
        },
        {
          "output_type": "stream",
          "name": "stdout",
          "text": [
            "25\n",
            "['거칠어진 내 손을', '부드럽게 잡아주던 너', '참 고마운 사람', '빛을 잃고 방황하던 내 삶에', '다가온 그 사람', '이제는 내가 널 지켜줄 자신 있어', '하지만 조금은 외로울 수 있어', '저 하늘 위에 별들 다 가져다줄게', '조금만 기다려줄래', '오랜 시간 견뎌온 참 고마운 사람', '잘해주지 못해 미안해', '나의 사랑아 사랑아', '이젠 울지 않게 해줄게', '이제는 너를 보내줄 자신이 없어', '만약에라도 우리 멀어진다면', '저 땅끝 속에 너를 묻고서 외칠래', '하루만 단 하루 만이라도', '오랜 시간 견뎌온 참 고마운 사람', '잘해주지 못해 미안해', '나의 사랑아 사랑아', '이젠 울지 않게', '오랜 시간 견뎌온 참 고마운 사람', '잘해주지 못해 미안해', '나의 사랑아 사랑아', '이젠 울지 않게 해줄게']\n"
          ]
        },
        {
          "output_type": "stream",
          "name": "stderr",
          "text": [
            "\r310it [2:10:56, 23.94s/it]"
          ]
        },
        {
          "output_type": "stream",
          "name": "stdout",
          "text": [
            "58\n",
            "['위험해 아슬아슬해', '간신히 끈을 잡았는데', '넌 가위질을 하려고 해', '너의 호의는 필요 없어', '인내심이 많지 않아 내겐', '유혹으로밖에 안 보여', '오지마 내게 오지마', '선 넘지마 please', '주지마 술은 주지마', '취하면 너 어떻게 해볼라니까', '넌 내게 술을 권하지마', '후회할 걸 알아', '넌 내게 용기를 주지마', '오늘뿐인 걸 알고 있어', '내게 진심을 바라면', '그 술은 절대 주지마', '헛소릴 하고 악마의 춤을 출거니까', '마치 밖엔 시원한 바람이 불지만', '세상이 너무 험해서', '널 내 옆에만 둘 거니까', '남자는 전부 똑같대', '아니 술 마신 남잔 다 똑같애', '너 말곤 아무것도 안 보인다는 건', '니가 아닌 다른 것들은', '다 잊고 있는 거야', '그러니까 내게 술을 주지마', '맨 정신에도 충분히 외로우니까', '가위질을 하게 날 내버려 두지마', '사랑 찍고 본능 알기 전에', '너부터 먼저 알고 싶으니까', '야 이성적이고 싶어', '이게 나잇값이라는데', '싸게 주고 싶어', '굳이 움직이지 않아도 돼', '내가 하는 말이 수작이 되지 않게', '기분 좋게 우리 물 잔으로 짠 해', '넌 내게 술을 권하지마', '후회할 걸 알아', '넌 내게 용기를 주지마', '오늘뿐인 걸 알고 있어', '한잔 두잔 비워내기 싫어', '더 이상 내게 높은 기분을 주지마', '한잔 두잔 비워내기 싫어', '자꾸 건배하듯이 눈을 맞추지마', '한잔 두잔 비워내기 싫어', '한잔 두잔 비워내기 싫어', 'I DON’T CARE WHO YOU ARE', 'DON’T MAKE ME CRY', 'I DON’T CARE WHO YOU ARE', 'I DON’T CARE WHO YOU ARE', 'DON’T LET ME LIE', 'I DON’T CARE WHO YOU ARE', 'I DON’T CARE WHO YOU ARE', 'DON’T MAKE ME CRY', 'I DON’T CARE WHO YOU ARE', 'I DON’T CARE WHO YOU ARE', 'DON’T LET ME LIE', 'I DON’T CARE WHO YOU ARE']\n"
          ]
        },
        {
          "output_type": "stream",
          "name": "stderr",
          "text": [
            "\r311it [2:11:37, 28.82s/it]"
          ]
        },
        {
          "output_type": "stream",
          "name": "stdout",
          "text": [
            "55\n",
            "['난 이제 조금씩', '그댈 잊어가나 봐요', '가끔 웃기도 하는 걸 보니', '조금 더 지나면', '그댈 만나게 되도', '반가울 거 같아요', '난 그런 마음에', '그대 내게 남아있는', '사진을 한 장씩', '뒤적여 보다가', '혹시나 그대는', '또 나와 달라서', '아직까지 혼자만', '힘들어 할까봐', '날 그만 잊어요', '그댈 보낸 못난', '내 기억에 행복하지', '못하면 안돼요 그대까지', '날 그만 잊어요', '난 왜 이제 까맣게', '잊은 채 행복하게', '잘 지낼 그대가', '걱정되죠 아직도', '아직도 모두 다', '잊지 못한건 가봐요', '그대를 걱정하고', '있는 걸 보니', '날 버린 기억이', '가슴에 남아서', '혹시라도 나처럼', '울기만 할까봐', '날 그만 잊어요', '그댈 보낸 못난', '내 기억에 행복하지', '못하면 안돼요 그대까지', '날 그만 잊어요', '난 왜 이제 까맣게', '잊은 채 행복하게', '잘 지낼 그대가', '걱정되죠 아직도', '그 긴 그 긴 시간 시간', '힘이 힘이 든 건', '오 나만 그 긴 시간만', '내 맘 남아 그 어디에 어디', '그대 남아있어', '마지막 한 번만 한 번만', '날 위한 그대가', '이제는 날 그만 떠나요', '그댈 못내 잊은 채 힘들게', '행복해져 보려는', '날 위해서', '오 날 그만 떠나요', '그대 이제 내 맘에', '이렇게 남은 채로', '힘들게 하지말고 떠나요']\n"
          ]
        },
        {
          "output_type": "stream",
          "name": "stderr",
          "text": [
            "\r312it [2:12:15, 31.69s/it]"
          ]
        },
        {
          "output_type": "stream",
          "name": "stdout",
          "text": [
            "40\n",
            "['봄날처럼 몰래 ', '다가왔던 나의 그대 ', '여름 같이 뜨거웠던 ', '우리의 시간들 ', '어느덧 찾아온 시린 겨울 ', '혹시 그대 아프진 않을까 ', '걱정돼요 ', '그대에게 부족한 나라서 ', '나 그렇게 그댈 붙잡지 못했죠 ', '소리 없이 울먹이던 그대 ', '그만하자는 그 말 다 거짓말이죠 ', '오지 않는 전화를 붙잡고', '후회만 하는 참 바보 같은 나', '그땐 뭐가 그렇게 어려웠던 건지', '조용히 그대 마음 안아줄 걸', '우연처럼 다시 와줘요', '내 품에 머물던', '그대 온기 남았는데', '그댈 사랑한 만큼', '하루하루 겨우 버텨봐도', '너무 아파', '매일 그대 생각에 살아요', '빗방울이 떨어지던 그 밤', '우산처럼 기울던 그대와 나는', '하염없이 눈물만 흘렸죠', '돌아온다는 그 말 다 거짓말이죠', '오지 않는 전화를 붙잡고', '후회만 하고 있는', '참 바보 같은 내가', '그댈 사랑한 만큼', '하루하루 겨우 버텨봐도', '너무 아파', '매일 그대 생각에 살아요', '오늘도 술에 취해 그댈 부르고', '후회만 하고 있는', '참 이기적인 내가', '우리 사랑한 만큼', '지우기엔 너무 아픈 그대 이름', '매일 그대 생각에 울어요', '다시 내게 와줘요']\n"
          ]
        },
        {
          "output_type": "stream",
          "name": "stderr",
          "text": [
            "\r313it [2:12:42, 30.34s/it]"
          ]
        },
        {
          "output_type": "stream",
          "name": "stdout",
          "text": [
            "32\n",
            "['내가 이렇게도 가슴이 뛰는 건', '그대가 내 마음에 다녀 갔었나 봐', '우리사랑은 또 스쳐가지만', '세상에서 가장 그리운 사람', '내가 어느새 그대 이름을 불러', '원합니다 내가 살기 위해서', '그 사랑이 아파도', '기다릴게 여기서', '사랑이란 멀리 있어도', '언젠간 만날 테니까', '니가 없으면 죽을 것 같아서', '살기 위해서', '왜 이유 없이 눈물이 났는지', '그렇게 가슴 아파야 했는지', '지금 달려가 꼭 말해주고 싶어', '원합니다 내가 살기 위해서', '그 사랑이 아파도', '기다릴게 여기서', '사랑이란 멀리 있어도', '언젠간 만날 테니까', '니가 없으면 죽을 것 같아서', '널 사랑해서', '두 번 다신 못 보게 될 까봐', '연기처럼 니가 사라질까봐', '난 두려워', '원합니다 내가 살기 위해서', '날 살게 해준 사람', '바로 그대입니다', '눈물마저 고맙습니다', '그대가 준 것이니까', '그리움 조차 나는 행복해서', '살기 위해서 널 사랑해']\n"
          ]
        },
        {
          "output_type": "stream",
          "name": "stderr",
          "text": [
            "\r314it [2:13:04, 27.95s/it]"
          ]
        },
        {
          "output_type": "stream",
          "name": "stdout",
          "text": [
            "43\n",
            "['오랫동안 내 마음엔', '구름 가득 비가 내려', '따스한 햇살 비추길', '간절히 바랬죠', '어깨를 적신 빗방울도', '마르면 나만 홀로', '남겨질까 너무나도 두려웠죠', '그댄 빛처럼 비 갠 뒤처럼', '내 마음에 떠오르죠 이렇게', 'Cause you are', '내게 내린 빛과', 'You are 너무 고운 꿈과', '일곱 빛으로 온 세상을', '더 아름답게 물들여', '언제나 Yeah U R', '텅 빈 푸른 언덕 위에', '무지개는 지붕이 돼', '그 아래 가만히 누워', '하늘을 보아요', '세상 가장 평온함과', '처음 느낀 설렘', '누구보다 사랑스러워', '고갤 돌리면 그대 미소에', '나도 몰래 손을 뻗죠 이렇게', 'Cause you are', '내게 내린 빛과', 'You are 너무 고운 꿈과', '일곱 빛으로 온 세상을', '더 아름답게 물들여', '언제나 Yeah U R', '내 창을 적신 비가 그치면', 'Under the Rainbow', '그대 기다리겠죠', '차마 난 하지 못했던', '얘기 못했던 그 모든 비밀', '오늘은 전하고 싶어', 'You are 항상 나의 곁에', 'You are 여린 내 맘 속에', '더 눈부시게 아름답게', '온 밤하늘을 채우는', \"You're my star\", 'Yeah U R', 'Oh U R U R Oh U R']\n"
          ]
        },
        {
          "output_type": "stream",
          "name": "stderr",
          "text": [
            "\r315it [2:13:34, 28.34s/it]"
          ]
        },
        {
          "output_type": "stream",
          "name": "stdout",
          "text": [
            "41\n",
            "['너를 만나고 세상이 모두 변했어', '의미 없던 하루가 소중해졌으니', '그냥 길을 걷다가도', '괜히 웃음이 나와', '나의 하루는 선물 같아', '내게 다가왔던 그 순간부터', '작은 기적을 안겨준', '너에게 말할게', '조금 서투른 고백일지라도', '수많은 사람들 중에', '내 곁을 지켜준 사람', '넌 모든 순간을 꿈꾸게 하니까', '언제나 너의 곁에서', '세상 그 누구보다', '소중한 사람이 되고 싶어', '나의 세상은 너 하나로 가득해서', '나의 계절은 항상 따뜻했어', '더는 무엇도 바라지 않아', '지금처럼만 우리', '곁에 있으면 난 충분해', '내게 다가왔던 그 순간부터', '작은 기적을 안겨준', '너에게 말할게', '조금 서투른 고백일지라도', '수많은 사람들 중에', '내 곁을 지켜준 사람', '넌 모든 순간을 꿈꾸게 하니까', '언제나 너의 곁에서', '세상 그 누구보다', '소중한 사람이 되고 싶어', '이토록 눈부시게 아름다운 날', '약속할게 영원토록', '너의 두 손 놓지 않을게', '고마워 한없이 네게 감사해', '두 번 다신 없을 나의 너에게', '우리가 걷는 이 길이', '때론 힘이 들어도', '먼 훗날 말하고 싶어', '이 길의 끝에 서서', '너라서 정말 고마웠다고', '정말 고마워']\n"
          ]
        },
        {
          "output_type": "stream",
          "name": "stderr",
          "text": [
            "\r316it [2:14:02, 28.18s/it]"
          ]
        },
        {
          "output_type": "stream",
          "name": "stdout",
          "text": [
            "60\n",
            "['사랑했었던 어떤 이가', '떠나간 적 있겠죠', '모든 게 내 탓이란', '생각이 든 적 있겠죠', '나 그래서 잡지 못했죠', '이런 아픔쯤은 모두', '잊을 수 있을 거라', '다른 사랑이 찾아', '올 거라 생각했었죠', '왜 그런데 잊질 못하죠', '그저 하늘 바라보며', '외치죠 다시 한번', '나를 사랑해줘', '내 맘속 작은 바램이', '비가 되어 내려오면', '내 사랑이 머리에 내리면', '추억이 되살아 나고', '가슴에 내리면 소중했던', '사랑이 떠오르고', '내 사랑이 입술에 닿으면', '널 사랑해 내게 외치며', '비가 내리는 그 길을 따라', '걷다가 걷다가 걷다 보면', '바라던 내가 널 기다려', '믿음이라는 열쇠로', '사랑의 상잘 열어', '사랑이란 기도를', '전하는 전화를 걸어', '내 맘이 널 찾지 못해도', '그저 하늘 바라보며', '외치죠 다시 한번', '나를 사랑해줘', '내 맘속 작은 바램이', '비가 되어 내려오면', '내 사랑이 머리에 내리면', '추억이 되살아 나고', '가슴에 내리면 소중했던', '사랑이 떠오르고', '내 사랑이 입술에 닿으면', '널 사랑해 내게 외치며', '비가 내리는 그 길을 따라', '걷다가 걷다가 걷다 보면', '바라던 내가 널 기다려', '돌아가 그때로', '내 삶에 단 한번', '기도했던 대로', '이렇게 외치면', '사랑비가 내려와', '너의 사랑이 나의', '눈에 내리면', '내 앞에 네가 서 있고', '내 귀에 내리면 네가', '다시 사랑을 속삭이고', '널 사랑해 내 품에 안으면', '또 다시 행복해지면', '해가 비추는 그 길을 따라', '같이 또 걷다가 걷다 보면', '바라던 우리가 서 있어', '내게 다시 오라는 기도', 'Oh yeah 한번 더']\n"
          ]
        },
        {
          "output_type": "stream",
          "name": "stderr",
          "text": [
            "\r317it [2:14:44, 32.32s/it]"
          ]
        },
        {
          "output_type": "stream",
          "name": "stdout",
          "text": [
            "22\n",
            "['불규칙적 통증처럼', '한동안은 그럴 거야', '가슴 한 켠이 답답하고 먹색일거야', '하늘하늘 미소가 자꾸만 아른댈 거야', '차가운 햇살이 추억을', '더 아프게 아프게 할 거야', '온몸에 스며든', '너의 입자 모두 모두', '저 바람이 데려갈 때까지', '저 시간이 훔쳐 갈 때까지', '그렇게 그렇게', '다시 빈 몸이 될 때까지', '불규칙적 통증처럼', '한동안은 그럴 거야', '가슴 한 켠이 답답하고 먹색일거야', '온몸에 스며든', '너의 향기 모두 모두', '저 바람이 데려갈 때까지', '저 시간이 훔쳐 갈 때까지', '사랑을 사랑하게 될 때까지', '사랑을 사랑하게 될 때까지', '음 한동안은 그럴 거야 그럴 거야']\n"
          ]
        },
        {
          "output_type": "stream",
          "name": "stderr",
          "text": [
            "\r318it [2:14:59, 27.13s/it]"
          ]
        },
        {
          "output_type": "stream",
          "name": "stdout",
          "text": [
            "19\n",
            "['세상과 다른 눈으로 나를 사랑하는', '세상과 다른 맘으로 나를 사랑하는', '그런 그대가 나는 정말 좋다', '나를 안아주려 하는 그대 그 품이', '나를 잠재우고 나를 쉬게 한다', '위로하려 하지 않는 그대 모습이', '나에게 큰 위로였다', '나의 어제에 그대가 있고', '나의 오늘에 그대가 있고', '나의 내일에 그대가 있다', '그댄 나의 미래다', '나와 걸어주려 하는 그대 모습이', '나를 웃게 하고 나를 쉬게 한다', '옆에 있어주려 하는 그대 모습이', '나에게 큰 위로였다', '나의 어제에 그대가 있고', '나의 오늘에 그대가 있고', '나의 내일에 그대가 있다', '그댄 나의 미래다']\n"
          ]
        },
        {
          "output_type": "stream",
          "name": "stderr",
          "text": [
            "\r319it [2:15:11, 22.85s/it]"
          ]
        },
        {
          "output_type": "stream",
          "name": "stdout",
          "text": [
            "46\n",
            "['아무 말 없이', '내게서 커져만 가는 게', '아무래도 이대론 안 되겠어', '어쩌다 내가 이렇게', '네게 빠진 건지', '이유를 나도 모르겠어', '넌 왜 내게서 맴돌아 ', '뭘 해도 신경 쓰이고', '뭘 해도 궁금해지고', '넌 왜 내게서 맴돌아', 'oh 어떡해 나 ', '자꾸만 생각이나', '말해 뭐해 말해 뭐해', '이러다가 바보처럼', '한 눈 팔게 하지 말고', '말해볼래 말해볼래', '나의 맘에 담긴 사람', 'you are my only one ', '너무나 사랑을 해도', '눈물 난다는 게', '그런 말이 이해가 되지 않아', '하지만 그댈 본 순간', '두 눈 가득 고인', '눈물이 사랑인 것 같아', '넌 왜 내게서 맴돌아 ', '뭘 해도 신경 쓰이고', '뭘 해도 궁금해지고', '난 너 하나만 생각해', '이렇게 난', '자꾸만 입 맞추고', '말해 뭐해 말해 뭐해', '이러다가 바보처럼', '한 눈 팔게 하지 말고', '말해볼래 말해볼래', '나의 맘에 담긴 사람', 'you are my only one ', '내 모든 게 서툴다 해도', '네 곁에 나 머물고만 싶어지는 게 ', '사랑일까 사랑일 거야', '너의 너의 남자 되고 싶어 ', '말해 뭐해 말해 뭐해', '내게 오는 사랑은', '다 그대라는 이름인걸', '말해 뭐해 말해 뭐해', '나의 맘에 담긴 사람', 'you are my only one ']\n"
          ]
        },
        {
          "output_type": "stream",
          "name": "stderr",
          "text": [
            "\r320it [2:15:44, 25.67s/it]"
          ]
        },
        {
          "output_type": "stream",
          "name": "stdout",
          "text": [
            "18\n",
            "['내 곁에만 머물러요 떠나면 안돼요', '그리움 두고 머나먼 길', '그대 무지개를 찾아올 순 없어요', '노을 진 창가에 앉아', '멀리 떠가는 구름을 보면', '찾고 싶은 옛 생각들 하늘에 그려요', '음 불어오는 차가운 바람 속에', '그대 외로워 울지만', '나 항상 그대 곁에 머물겠어요', '떠나지 않아요', '노을 진 창가에 앉아', '멀리 떠가는 구름을 보면', '찾고 싶은 옛 생각들 하늘에 그려요', '음 불어오는 차가운 바람 속에', '그대 외로워 울지만', '나 항상 그대 곁에 머물겠어요', '떠나지 않아요', '내 곁에만 머물러요 떠나면 안돼요']\n"
          ]
        },
        {
          "output_type": "stream",
          "name": "stderr",
          "text": [
            "\r321it [2:15:57, 21.88s/it]"
          ]
        },
        {
          "output_type": "stream",
          "name": "stdout",
          "text": [
            "26\n",
            "['약속해요 이 순간이 다 지나고 ', '다시 보게 되는 그날 ', '모든걸 버리고 그대 곁에 서서 ', '남은 길을 가리란 걸 ', '인연이라고 하죠 ', '거부 할 수가 없죠 ', '내 생에 이처럼 아름다운 날 ', '또 다시 올 수 있을까요 ', '고달픈 삶의 길에 당신은 선물인걸 ', '이 사랑이 녹슬지 않도록 ', '늘 닦아 비출께요 ', '취한듯 만남은 짧았지만', '빗장 열어 자리했죠', '맺지 못한데도 후회하지 않죠', '영원한건 없으니까', '운명이라고 하죠', '거부 할 수가 없죠', '내 생에 이처럼 아름다운 날', '또 다시 올 수 있을까요', '하고픈 말 많지만 당신은 아실테죠', '먼길 돌아 만나게 되는 날', '다신 놓지 말아요', '이 생에 못다한 사랑 ', '이 생에 못다한 인연', '먼길 돌아 다시 만나는 날', '나를 놓지 말아요<br <=\"\" div=\"\"/>\\n<button class=\"button_more arrow_d\" data-control=\"expose\" data-expose-target=\"#d_video_summary\" data-expose-type=\"more\" title=\"인연 가사 더보기\" type=\"button\">\\n<span class=\"text\">펼치기</span>\\n<i class=\"button_icons etc arrow_d\"></i>\\n</button>']\n"
          ]
        },
        {
          "output_type": "stream",
          "name": "stderr",
          "text": [
            "\r322it [2:16:15, 20.87s/it]"
          ]
        },
        {
          "output_type": "stream",
          "name": "stdout",
          "text": [
            "30\n",
            "['영화 속에 나온 주인공처럼', '예쁜 단장하고 있어요 ', '창가에 가득 꽃들을 채우면서', '그댈 맞이할게요', '음 저기 들리는 그대 발자국', '나를 깨우며 미소 짓게 해', '오늘 하루도 난 주인공 되어', '그대라는 멋진 사랑을 만나', 'Wish you Need you With you', '지금 이 순간 나는 너무 행복해', '이른 아침에 눈 뜨기 싫어도', '그대 생각에 웃죠', '오늘은 어떤 일들이 생겨날까', '기대 기대하죠', '음 결말이 없는 이야기처럼', '끝나지 않을 나의 이야기', '오늘 하루도 난 주인공 되어', '그대라는 멋진 사랑을 만나 ', 'Wish you Need you With you ', '지금 이 순간 나는 너무 행복해', '가끔 꿈인 것만 같아', '나의 모든 이 순간들이', '오늘 하루도 난 주인공 되어', '그대라는 멋진 사랑을 만나', 'Wish you Need you With you ', '나는 이 순간 정말 너무 행복해', '그댄 나를 꿈꾸게 만든 사람', '그댄 나를 미소 짓게 한 사람', 'Wish you Need you With you ', '지금 이 순간 나는 너무 행복해']\n"
          ]
        },
        {
          "output_type": "stream",
          "name": "stderr",
          "text": [
            "\r323it [2:16:36, 20.80s/it]"
          ]
        },
        {
          "output_type": "stream",
          "name": "stdout",
          "text": [
            "35\n",
            "['아직 피우지 못했다', '여태 자라지 않았다', '같은 것을 봐도 다른 우리였지', '그래 어떻게 모든 게', '전부 똑같기만 할까', '그걸 몰랐었던', '지난 시간을 놓으려 해', '멀리 돌고 돌아도', '손은 놓지 않았던', '사랑이라는 마음', '하나로 지켜주던 우리는', '이제 중요한 건', '그저 이별하는 동안', '서로를 탓하지 않으며', '돌아보지 않는 거야', '가끔 숨어있는 나의 눈물은', '걱정하지 마 너와 나는 이제 남이니까', '오가는 대화는 없고', '다른 곳을 바라보면서도', '헤어지자는 말은 듣기 싫었어', '이제 중요한 건', '그저 이별하는 동안', '서로를 탓하지 않으며', '돌아보지 않는 거야', '가끔 숨어있는 나의 눈물은', '걱정하지 마 너와 나는 이제 남이니까', '남아있는 상처들로', '매일을 힘겹게 살아간대도', '우린 헤어지는 게 맞아', '너무 멀리 왔어', '돌아가는 길을 몰라', '서로가 서로를 잡으며', '보내주지 못했으니', '이제 우리 그만 행복해지자', '사랑했다면 후회는 없을 텐데 눈물이 나']\n"
          ]
        },
        {
          "output_type": "stream",
          "name": "stderr",
          "text": [
            "\r324it [2:17:00, 21.88s/it]"
          ]
        },
        {
          "output_type": "stream",
          "name": "stdout",
          "text": [
            "33\n",
            "['웃는 모습이 너무 아름다운  ', '그런 너를 기억하면서 ', '괜찮아 넌 잘할거라 말하던  ', '또 그런 너를 기억하면서 ', '뭐가 그리 내 눈에 깊이 박혔는지 ', '너무 선명해서 이젠  ', '보낼수가 없잖아 ', '바람이 불었으면 좋겠어 ', '널 잊어내도록 널 씻어 내도록 ', '바람이 불었으면 좋겠어 남은  ', '마음까지도 멀리멀리  ', '날아갈 수 있도록', '어느새 너의 얼굴을 떠올려 ', '또 그런 나를 바라보면서 ', '뭐가 그리 내눈에 깊이 박혔는지 ', '너무 선명해서 이젠  ', '보낼수가 없잖아 ', '바람이 불었으면 좋겠어 ', '널 잊어내도록 널 씻어 내도록', '바람이 불었으면 좋겠어 남은 ', '마음까지도 멀리멀리 날아갈 수 ', '있도록', '엉켜버린 나의 마음이 다시금 ', '너로 제자릴 찾아가 워', '머릴 흔들어봐도 억지로 다른 ', '생각을 해도 나는 너만', '내얘길 들었으면 좋겠어 닿을 수 ', '있도록 널 볼 수 있도록', '내얘길 들었으면 좋겠어 흔들 수 ', '있도록 날 볼 수 있도록', '바람이 불었으면 좋겠어 내 맘 ', '전해지도록 너에게로 다시 ', '갈수있도록']\n"
          ]
        },
        {
          "output_type": "stream",
          "name": "stderr",
          "text": [
            "\r325it [2:17:23, 22.12s/it]"
          ]
        },
        {
          "output_type": "stream",
          "name": "stdout",
          "text": [
            "67\n",
            "['아침에 눈을 떴을 때', '텅 빈 방안에 나 홀로 ', '니 빈자리 거닐면서', '많은 생각들에 잠겨', '지워질 수 없는 기억 ', '돌이킬 수 없는 우리 ', '헤어날 수 없는 나와 ', '멀어져만 가는 너를 바라봐', '누군가 한 말 처럼 언젠가', '만날 거라 그렇게', '우린 헤어진 거야', '집에 오는 길을 홀로', '텅 빈 방 침대에 홀로', '너와의 기억에 홀로 ', '나 홀로 무뎌질 가슴', '안고 추억 속에 살아 홀로', '방안에서 깨면 홀로 늘', '있던 니가 없어 익숙해지겠지 ', '나 홀로', '그 때를 기억하니 너와', '내가 우리란 말로', '함께 할 수 있었던', '그 날의 사랑들을', '잠시 맞잡았던 두 손 ', '차마 놀 수 없어 붙잡았던', '우리라 해도', '그립고 그리워 그저 ', '바라만 봐야 했어', '누군가 한 말 처럼 언젠가', '만날 거라 그렇게 우린 ', '헤어진 거야', '집에 오는 길을 홀로 ', '텅 빈 방 침대에 홀로', '너와의 기억에 홀로', '나 홀로 무뎌질 가슴 ', '안고 추억 속에 살아 홀로', '방안에서 깨면 홀로 ', '늘 있던 니가 없어 ', '익숙해지겠지 나 홀로', '지난 시간들이 그리워 ', '힘든 건지 내 손길만을 ', '기다린 건지', '다른 누군갈 만날 ', '내 모습 바란 건지 ', '그저 날 사랑한다고 말해줘', '집에 오는 길을 홀로', '텅 빈 방 침대에 홀로', '너와의 기억에 홀로 ', '나 홀로 무뎌질 가슴 안고 살아 ', '보고 싶어 매일 널 그리며 살아 ', '다시 아파한다 해도 ', '내게 손 내밀어 ', '그저 날 사랑한다고 말해줘', '이제 더 이상 잊혀질 ', '그 날처럼 처음 날 ', '만나서 설레었던', '그 날 그 때로 다시 돌아와', '나 하나만 바라보며 ', '사랑한다고 말했던', '그 때의 우리로 돌아갈래', '텅 빈 방 침대에 홀로', '너와의 기억에 홀로 ', '나 홀로 무뎌질 가슴 ', '안고 추억 속에 살아 홀로', '방안에서 깨면 홀로 늘', '있던 니가 없어 익숙해지겠지 ', '나 홀로']\n"
          ]
        },
        {
          "output_type": "stream",
          "name": "stderr",
          "text": [
            "\r326it [2:18:08, 29.08s/it]"
          ]
        },
        {
          "output_type": "stream",
          "name": "stdout",
          "text": [
            "40\n",
            "['좋을텐데 너의 손 꼭 잡고 그냥 ', '이 길을 걸었으면 내겐 너뿐인 걸 ', '니가 알았으면 좋을텐데 우 ', '얼마 전 만난 남자 얘기 ', '오늘만 해도 벌써 몇 번째니 ', '그에게 전화가 또 왔었다며 ', '조금은 얼굴을 붉히는 너 ', '집에 돌아오는 길은 ', '포근한 달빛마저 슬퍼 보여 ', '마음이 아파 나를 위로해줄 ', '니가 있다면 ', '좋을텐데 너의 손 꼭 잡고 그냥 ', '이 길을 걸었으면 내겐 너뿐인 걸 ', '니가 알았으면 좋을텐데 ', '괜찮은 사람인지 아닌지 ', '한번 본 적도 없는 내가 알아 ', '그에게 선물을 또 받았다며 ', '유난히 행복해 보이는 너 ', '집에 돌아오는 길은 ', '포근한 달빛마저 슬퍼 보여 ', '마음이 아파 나를 위로해줄 ', '니가 있다면 좋을텐데 ', '나 아닌 사람 얘기에 때론 ', '화도 내어 봤으면 그저 너의 곁에 ', '내가 있었으면 좋을텐데 ', '모르겠니 애써 지켜온 ', '우정마저 놓칠 것만 같아 ', '기다리던 또 망설이던 ', '그런 나 이젠 이젠 ', '좋을텐데 너의 손 꼭 잡고 그냥 ', '이 길을 걸었으면 내겐 너뿐인 걸 ', '니가 알았으면 좋을텐데 ', '나 아닌 사람 얘기에 때론 ', '화도 내어봤으면 그저 ', '너의 곁에 내가 있었으면 ', '좋을텐데 너의 손 꼭 잡고 그냥 ', '이 길을 걸었으면 너뿐인 걸 ', '니가 알았으면 좋을텐데 ', '나 아닌 사람 얘기에 때론', '화도 내어봤으면']\n"
          ]
        },
        {
          "output_type": "stream",
          "name": "stderr",
          "text": [
            "\r327it [2:18:35, 28.41s/it]"
          ]
        },
        {
          "output_type": "stream",
          "name": "stdout",
          "text": [
            "40\n",
            "['어쩌자고 난 널 알아봤을까', '또 어쩌자고 난 너에게 다가갔을까', '떠날 수도 없는 이젠', '너를 뒤에 두고 걸어도', '보이는 것은 니 모습뿐인걸', '언젠가 니가 했던 아픈 말', '서로를 만나지 않았다면', '덜 힘들었을까 너는', '울고 있다 참고 있다', '고갤 든다 아프게 웃는다', '노을빛 웃음 온 세상 물들이고 있다', '보고 싶다 안고 싶다', '니 곁에 있고 싶다 아파도', '너의 곁에 잠들고 싶다', '처음 그 날부터 뒷걸음질 친 너', '또 처음 그 날부터 이별을 떠올렸던 나', '널 너무 갖고 싶어도', '외면할수 없었던 것들', '차가운 세상 서글픈 계산들', '아무리 조심해도 애써도', '아무리 아닌 척 밀어내도', '이미 난 니가 좋아', '보고싶다 달려간다', '등 두드린다 넌 놀라 웃는다', '동그란 웃음 온세상 다 어루 만진다', '울지마라 가지마라', '이제는 머물러라 내곁에', '넌 따뜻한 나의 봄인걸', '아직 망설이는 니 마음앞에', '그래도 멈추지 못할 내 마음', '내겐 남은 두려움 너를 안고 안아', '내품이 편해질 때 까지', '울고있다 참고있다', '고갤 든다 아프게 웃는다', '노을빛 웃음 온세상 물들이고 있다', '울지마라 가지마라', '이제는 머물러라 내곁에', '넌 따뜻한 나의 봄인걸', '마침내 만나게 된', '너는 나의 따뜻한 봄이다']\n"
          ]
        },
        {
          "output_type": "stream",
          "name": "stderr",
          "text": [
            "\r328it [2:19:02, 28.00s/it]"
          ]
        },
        {
          "output_type": "stream",
          "name": "stdout",
          "text": [
            "54\n",
            "['Breeze', '가벼운 바람이 깨우는 Oh breeze', '너의 생각으로 시작하는', 'My everyday', 'Breath', '뭔가 좋은일이 생길것같은', '절로 콧노래가 흘러나오는', '그런 상상을 하게해', '단둘이서 영활보자할까', '시시하진 않을까', '어떤 얘기로 널 웃게 할까', '용기가 없는 나', '커피 한 잔 할래요', '커피 한 잔 할래요', '두 입술 꼭 깨물고 용기 낸 그 말', '커피 한잔에 빌린 그대를 향한 ', '나의 맘', '보고싶었단 말 하고싶었죠', '그대도 같나요', '그대 나와 같나요', '그대도 조금은 내 생각했나요', '오늘은 내가 그댈 더 많이  ', '웃게할게요', '이대로 시간이 멈추길', 'Freeze', '그저 흘러가는 시간들 Oh freeze', '처음과는 많이 다른 요즘 너와 나', '처음 느꼈던 가슴 속 떨림', '넌 기억할런지', '처음 만났던 그 곳에 가자', '추억이 가득한', '커피 한 잔 할래요', '커피 한 잔 할래요', '두 입술 꼭 깨물고 용기낸 그 말', '커피 한잔에 빌린 그대를 향한 ', '나의 맘', '보고싶었단 말 하고싶었죠', '그대도 같나요', '그대 나와 같나요', '가끔 그 날의 우릴 생각하나요', '내가 더 많이 웃게 해 주겠다는', '그 약속', '아직 나 잊지 않았어요', '커피 한 잔 할래요', '두 입술 꼭 깨물고 용기 낸 그 말', '커피 한잔에 빌린 그대를 향한 ', '나의 맘', '보고싶었단 말 하고싶었죠', '그대도 같나요', '그대 나와 같나요', '그대도 조금은 내 생각했나요', '오늘은 내가 그댈 더 많이', '웃게 할게요', '커피 한 잔 할래요']\n"
          ]
        },
        {
          "output_type": "stream",
          "name": "stderr",
          "text": [
            "\r329it [2:19:41, 31.28s/it]"
          ]
        },
        {
          "output_type": "stream",
          "name": "stdout",
          "text": [
            "23\n",
            "['쓸쓸하던 그 골목을 당신은 ', '기억하십니까 ', '지금도 난 기억합니다 ', '사랑한단 말 못하고 애태우던 ', '그날들을', '당신은 알고 있었습니까', '철 없었던 지난 날의 아름답던 ', '그밤들을', '아직도 난 사랑합니다', '철없던 사람아', '그대는 나의 모든 것을 앗으려', '하나 무정한 사람아', '수줍어서 말 못했나 내가 싫어 말', '안했나', '지금도 난 알 수 없어요', '이 노래를 듣는다면 나에게로 와주오', '그대여 난 기다립니다', '무정한 사람아', '이 밤도 나의 모든 것을 앗으려', '하나 철 없던 사람아', '오늘 밤도 내일 밤도 그리고 그', '다음 밤도', '영원히 난 기다립니다']\n"
          ]
        },
        {
          "output_type": "stream",
          "name": "stderr",
          "text": [
            "\r330it [2:19:56, 26.44s/it]"
          ]
        },
        {
          "output_type": "stream",
          "name": "stdout",
          "text": [
            "57\n",
            "['창밖엔 또 비가 와', '이럴 땐 꼭 네가 떠올라', '잠이 오지 않아', '내방엔 이 침묵과', '쓸쓸한 내 심장 소리가', '미칠 것만 같아', 'So I turn on my radio', '낯선 목소리가 들려오고', 'And on the radio', '슬픈 그 사연이 너무 내 얘기 같아서', 'Hey DJ play me a song', 'to make me smile', '마음이 울적한 밤에 나 대신 웃어줄', '그를 잊게 해줄 노래', 'Hey DJ play me a song', 'to make me cry', '가슴이 답답한 밤에 나 대신 울어줄', '그를 잊게 해줄 노래', '치열했던 하루를 위로하는', '어둠마저 잠든 이 밤', '수백 번 나를 토해내네', '그대 아프니까', '난 당신의 삶 한 귀퉁이 한 조각이자', '그대의 감정들의 벗', '때로는 familia', '때때론 잠시 쉬어 가고플 때', '함께임에도 외로움에 파묻혀질 때', '추억에 취해서', '누군가를 다시 게워낼 때', '그때야 비로소', '난 당신의 음악이 됐네', '그래 난 누군가에겐', '봄 누군가에게는 겨울', '누군가에겐 끝 누군가에게는 처음', '난 누군가에겐 행복 누군가에겐 넋', '누군가에겐 자장가이자', '때때로는 소음', '함께 할게 그대의 탄생과 끝', '어디든 함께 임을 기억하기를', '언제나 당신의 삶을 위로할 테니', '부디 내게 가끔 기대어 쉬어가기를', 'So I turn on my radio', '낯선 목소리가 들려오고', 'And on the radio', '슬픈 그 사연이 너무 내 얘기 같아서', 'Hey DJ play me a song', 'to make me smile', '마음이 울적한 밤에 나 대신 웃어줄', '그를 잊게 해줄 노래', 'Hey DJ play me a song', 'to make me cry', '가슴이 답답한 밤에 나 대신 울어줄', '그를 잊게 해줄 노래', '창밖엔 또 비가 와', '이럴 땐 꼭 네가 떠올라', '잠이 오지 않아', '난 어쩔 수 없나 봐']\n"
          ]
        },
        {
          "output_type": "stream",
          "name": "stderr",
          "text": [
            "\r331it [2:20:36, 30.55s/it]"
          ]
        },
        {
          "output_type": "stream",
          "name": "stdout",
          "text": [
            "37\n",
            "['사랑 다 비슷해 그래 다 비슷해', '너는 다르길 바랐는데', '넌 뭐가 미안해 왜 맨날 미안해', '헤어지는 날조차 너는 이유를 몰라', '이젠 180도 달라진', '너의 표정 그 말투', '너무 따뜻했던 눈빛 네 향기까지도', '정말 너무나도 달라진', '우리 사랑 또 추억', '아직 그대로인데 난', '이젠 180도 변해버린', '지금 너와 나', '남자는 다 비슷해 그래 다 비슷해', '너는 아니길 바랐는데', '말로만 사랑해 거짓말 그만해', '헤어지는 날조차 왜 넌 이유를 몰라', '이젠 180도 달라진', '너의 표정 그 말투', '너무 따뜻했던 눈빛 네 향기까지도', '정말 너무나도 달라진', '우리 사랑 또 추억', '아직 그대로인데 난', '이젠 180도 변해버린', '지금 너와 나', '사랑해 말하지 않아도', '너의 눈에 쓰여 있었던', '그때가 참 그리워', '이젠 180도 변해버린', '너와 나의 약속', '익숙해진 변명 거짓말까지도', '모두 진심이라 믿었던', '바보 같던 내 사랑', '전부 지쳐버렸어 난', '이젠 180도 변해버린', '지금 너와 나', '이젠 너무나도 그리워진', '그때 너와 나']\n"
          ]
        },
        {
          "output_type": "stream",
          "name": "stderr",
          "text": [
            "\r332it [2:21:02, 29.03s/it]"
          ]
        },
        {
          "output_type": "stream",
          "name": "stdout",
          "text": [
            "49\n",
            "['술 한잔해요 날씨가 쌀쌀하니까', '따끈따끈 국물에', '소주 한잔 어때요', '잘 지내니 지친 하루에 끝에', '위로가 돼주던 한 사람', '사실 가끔씩 네 소식을', '찾아보곤 해 먹먹해진 기분', '술잔 속에 너를 가득 채워', '그리움을 넘기네', '보이지 않던 것들 보여', '여전히 아쉬움 들만', '달콤했던 말 행복 섞인 표정까지도', '괜찮다면 나와요', '우리의 사랑이 뜨겁던 우리의 사랑을', '키웠던 그 집에서 먼저 한잔했어요', '조금 취했나 봐요', '그대가 내 앞에 있는 것 같아', '바보처럼 자꾸 눈물이 나요', '그대 마음이 차갑게 식어 갔듯이', '따뜻했던 국물도 점점 식어가네요', '가볍던 주머니 날 감싸주던 손 길', '하필 이제서야 생각이 나', '우리 함께 자주 가던', '사거리 앞 작은 술집', '마주 앉은 애틋한 밤', '술잔 속에 너를 가득 채워', '그리움을 넘기네', '비틀거리는 하루 매섭게', '더 차가운 날씨', '전화라도 해볼까', '보고 싶어 누르지 못했지만', '괜찮다면 나와요', '우리의 사랑이 뜨겁던 우리의 사랑을', '키웠던 그 집에서 먼저 한잔했어요', '조금 취했나 봐요', '그대가 내 앞에 있는 것 같아', '바보처럼 자꾸 눈물이 나요', '술잔 속에 눈물이 마음속에', '그대가 흘러넘치잖아', '몇 잔을 마셔도', '너를 너를 잊지 못할 걸 알아', '쓰디쓴 술잔에 기대면 네가 보였어', '이 한 잔에도 금세 붉어 지던 두 볼', '따스함이었어 너라는 계절은', '늦게라도 와줘요', '나 혼자 이렇게 울게 하지 마', '우린 항상 같이 있었으니까', '사랑해요 사랑해요', '사랑하기 싫어서 미치겠어']\n"
          ]
        },
        {
          "output_type": "stream",
          "name": "stderr",
          "text": [
            "\r333it [2:21:35, 30.23s/it]"
          ]
        },
        {
          "output_type": "stream",
          "name": "stdout",
          "text": [
            "36\n",
            "['전화 한 번 못하니 벌써 날 잊어버렸니', '아님 이제 내 번호조차도 기억 못 하니', '잘 지내는지 밥은 챙겨 먹는지', '너 없이 울진 않을까 걱정도 안되니', '끊는 전화가 오면 혹시나 네가 아닐까', '하루 종일 네 생각에 숨이 멎을 것 같아', '좋은 걸 봐도 맛있는 걸 먹어도', '눈물에 가리고 또 얹혀서 너만 더 생각나', '사랑해 이렇게 나를 울려도', '미안해 널 잊을 수가 없어서', '매일 숨을 쉴 때마다 눈 감을 때마다', '네 기억과 함께 사는 걸', '어떡해 나 정말 너무 아픈데', '너 땜에 딴 사랑도 못하잖아', '아무리 널 욕해봐도 미워 해봐도', '나에겐 그래도 사랑인 걸', '좋은 사람 생겼니 요즘도 많이 바쁘니', '얼마 전 네 생일엔 누구와 함께 보냈니', '정말 못됐어 헤어지면 끝이니', '사랑이 어떻게 어떻게 그럴 수 있니', '사랑해 이렇게 나를 울려도', '미안해 널 잊을 수가 없어서', '매일 숨을 쉴 때마다 눈 감을 때마다', '네 기억과 함께 사는 걸', '어떡해 나 정말 너무 아픈데', '너 땜에 딴 사랑도 못하잖아', '아무리 널 욕해봐도 미워해 봐도', '나에겐 그래도 사랑인 걸', '돌아와 도저히 난 안되겠어', '너 없인 아무것도 못하잖아', '네 자리가 너무 커서 채울 수 없어서', '내 눈물만 흘러넘쳐 난', '죽어도 죽어도 난 널 못 잊어', '함께한 추억이 너를 붙잡아', '조금 늦어도 괜찮아 돌아오면 돼', '나에겐 그래도 사랑인 걸']\n"
          ]
        },
        {
          "output_type": "stream",
          "name": "stderr",
          "text": [
            "\r334it [2:21:59, 28.48s/it]"
          ]
        },
        {
          "output_type": "stream",
          "name": "stdout",
          "text": [
            "35\n",
            "['헤어질 때 늘 하던 짧은인사가 ', '오늘따라 왜 이렇게 서글픈거니 ', '눈물이 두 뺨 위로 흘러내릴때 ', '그때서야 이별인 줄 알았어요 ', ' ', '제발 가지 말라고 차갑게 떠나지 말라고 ', '가슴 아프도록 외쳐보지만 ', '너는 떠나간다고 나의 손을 놓는다고 ', '나를두고 돌아서 버린 너 ', ' ', '다시 사랑한다 해도 다른 누군갈 만나도 ', '나는 너와 같은 사람 다신 만나진 못해 ', '백 번 천 번을 말해도 울며 다짐을 해봐도 ', '떠나가는 네 얼굴 보고싶은.. ', '내가 정말 싫어 ', ' ', '모두 꿈일꺼라고 깨면 다 돌아올꺼라고 ', '아픈 마음을 위로해보지만 ', '점점 멀어져가는 너의 모습을 보면서 ', '울고있는 내가 다 가여워 ', ' ', '다시 사랑한다해도 ', '다른 누군가를 만나도 ', '나는 너와 같은 사람 다신 만나지 못해. ', '백번 천번을 말해도 울며 다짐을 해봐도 ', '떠나가는 네 얼굴 보고싶은 내가 싫어. ', ' ', '정말 사랑했었다면 ', '나를 사랑했었다면 ', '가는 길에서라도 한번쯤은 돌아봐줘 ', ' ', '이거 하나만 알고 가 ', '이 말 하나만 듣고 가 ', '나보다 더 좋은 사람 만나도 ', '날 잊으면 안돼..']\n"
          ]
        },
        {
          "output_type": "stream",
          "name": "stderr",
          "text": [
            "\r335it [2:22:22, 26.87s/it]"
          ]
        },
        {
          "output_type": "stream",
          "name": "stdout",
          "text": [
            "38\n",
            "['멀리서 널 바라본다', '나는 그댈 향해 서있다', '내 사랑은 꿈만 같아', '이루어질 수 없는', '그대 모습에 눈물이 또 흐른다', '그리워 그리워 차가웠던', '이 계절을 지나', '우리 처음 만났었던 그때로', '난 네가 그리워 자꾸 보고 싶어', '되돌리고파 우리 사랑', '미칠 듯 아파도', '하루 종일 눈물 속에 살아도', '난 네가 그리워 또 보고 싶어', '매일 너 하나만 그려본다', '괜찮은 척하다가도', '너만 생각하면 힘들어', '스쳐가는 바람처럼 끝나지 않기를', '그대 모습에 눈물이 또 흐른다', '그리워 그리워 차가웠던', '이 계절을 지나', '우리 처음 만났었던 그때로', '난 네가 그리워 자꾸 보고 싶어', '되돌리고파 우리 사랑', '미칠 듯 아파도', '하루 종일 눈물 속에 살아도', '난 네가 그리워 또 보고 싶어', '매일 너 하나만 그려본다', '떠나가지 말아 내 사랑 너뿐이야', '어디에 있다 해도 난 그대론데', '가슴 시리도록 또 그리워', '말했잖아 난 네가 그리워', '자꾸 보고 싶어', '되돌리고파 우리 사랑', '미칠 듯 아파도', '하루 종일 눈물 속에 살아도', '난 네가 그리워 또 보고 싶어', '매일 너 하나만 그려본다', '계속 여기서 너만 기다려본다']\n"
          ]
        },
        {
          "output_type": "stream",
          "name": "stderr",
          "text": [
            "\r336it [2:22:48, 26.38s/it]"
          ]
        },
        {
          "output_type": "stream",
          "name": "stdout",
          "text": [
            "25\n",
            "['그대여 아무 걱정 하지 말아요', '우리 함께 노래 합시다', '그대 아픈 기억들 모두 그대여', '그대 가슴에 깊이 묻어 버리고 ', '지나간 것은 지나간 대로', '그런 의미가 있죠', '떠난 이에게 노래 하세요', '후회없이 사랑했노라 말해요', '그대는 너무 힘든 일이 많았죠', '새로움을 잃어 버렸죠', '그대 슬픈 얘기들 모두 그대여 ', '그대 탓으로 훌훌 털어 버리고', '지나간 것은 지나간 대로', '그런 의미가 있죠', '우리 다 함께 노래 합시다', '후회없이 꿈을 꾸었다 말해요', '지나간 것은 지나간 대로', '그런 의미가 있죠', '우리 다 함께 노래 합시다', '후회없이 꿈을 꾸었다 말해요', '지나간 것은 지나간 대로', '그런 의미가 있죠', '우리 다 함께 노래 합시다', '후회없이 꿈을 꾸었다 말해요', '새로운 꿈을 꾸겠다 말해요']\n"
          ]
        },
        {
          "output_type": "stream",
          "name": "stderr",
          "text": [
            "\r337it [2:23:05, 23.68s/it]"
          ]
        },
        {
          "output_type": "stream",
          "name": "stdout",
          "text": [
            "33\n",
            "['그렇게 대단한 운명까진', '바란적 없다 생각했는데', '그대 하나 떠나간 내 하룬 이제', '운명이 아님 채울 수 없소', '별처럼 수 많은 사람들', '그 중에 그대를 만나', '꿈을 꾸듯 서롤 알아보고', '주는 것 만으로 벅찼던', '내가 또 사랑을 받고', '그 모든건 기적이었음을', '그렇게 어른이 되었다고', '자신한 내가 어제같은데', '그대라는 인연을 놓지 못하는', '내 모습 어린아이가 됐소', '별처럼 수 많은 사람들', '그 중에 그대를 만나', '꿈을 꾸듯 서롤 알아보고', '주는 것 만으로 벅찼던', '내가 또 사랑을 받고', '그 모든건 기적이었음을', '나를 꽃처럼 불러주던', '그대 입술에 핀 내 이름', '이제 수많은 이름들', '그 중에 하나되고', '오 그대의 이유였던', '나의 모든 것도 그저 그렇게', '별처럼 수 많은 사람들', '그 중에 서로를 만나', '사랑하고 다시 멀어지고', '억겁의 시간이 지나도', '어쩌면 또다시 만나', '우리 사랑 운명이었다면', '내가 너의 기적이었다면']\n"
          ]
        },
        {
          "output_type": "stream",
          "name": "stderr",
          "text": [
            "\r338it [2:23:28, 23.33s/it]"
          ]
        },
        {
          "output_type": "stream",
          "name": "stdout",
          "text": [
            "26\n",
            "['그대가 알려줬던 그 노랠 우연히', '길을 걷다 흘러 나와서', '다시 듣게 되었죠', '그전에 살았었던 집 주소처럼', '선명하지 않은 기억 속의 사랑', '그날의 이별을 뒤로', '들은 적 없죠 한 번도', '까맣게 다 잊고 지냈어', '제목을 몰랐던 그 노래가 들려와', '그동안 참았던 그리움이 차올라', '너무 소중했던 그 시절의 우리가', '다시 생각이나 이 노래 하나로', '유명하지 않아서 노래방에 없어서', '함께 부르지 못해 늘 아쉬워했죠', '이 노래 멜로디처럼', '여전히 아름다울까', '한 번쯤 내 생각이 날까', '제목을 몰랐던 그 노래가 들려와', '그동안 참았던 그리움이 차올라', '너무 소중했던 그 시절의 우리가', '다시 생각이나 이 노래 하나로', '제목을 몰랐던 그 노래가 들리면', '그 길에 멈춰서 그리워해 다시는', '돌아갈 수 없는 그 시절의 우리가', '다시 생각이 나 이 노래 하나로', '다시 생각이 나 이 노래 하나로']\n"
          ]
        },
        {
          "output_type": "stream",
          "name": "stderr",
          "text": [
            "\r339it [2:23:45, 21.69s/it]"
          ]
        },
        {
          "output_type": "stream",
          "name": "stdout",
          "text": [
            "46\n",
            "['뒤돌아 보면 너의 생각을', '떠올린 게 언제였더라', '숨 가쁘게 사는 건 무디게 했어', '끝나지 않을 것만 같던 그리움', '모른 척 너란 사람', '묻어주던 친구들은', '이제는 슬며시 네 안부 전하고', '이젠 떨리지 않아', '침착히 고개 끄덕인', '나의 모습은 널 잊은 걸까', '다시 못 보는 너', '남의 사람인 너 견디기엔', '미칠 것만 같던', '이별의 그날들이 떠나가요', '추억 너머 그저 기억으로만', '지나간 사람으로만', '이제는 너라고 말하지 않겠어요', '그 어디에 살더라도', '제발 나쁜 안부 안 들리게', '뒤돌아 보면 그대 추억이 ', '사라지면 비어 버리는', '나의 계절들이 맘에 걸려도', '그리움 멈추는 게 나는 좋아요', '못 본 척 나의 눈물', '가려 주던 친구들은', '이제는 웃으며 그 얘길 꺼내고', '나도 웃음으로', '받아 줄 수 있었던 오늘', '우리 한 번 더 이별할까요', '다시 못 볼 그대', '남의 사람 그대 견디기엔', '미칠 것만 같던', '이별의 그날들이 떠나가요', '추억 너머 그저 기억으로만', '지나간 사람으로만', '이젠 그대라고도', '말하지 않겠어요', '이제서야 안녕', '한 번도 안했던 말 안녕', '다시 올 것 같던', '나 혼자만의 오랜 기대였던', '그 날들이 내겐 필요 했어요', '많은 걸 깨닫게 했던 그 이별을', '난 한번 더 오늘 할게요', '그 어디에 살더라도', '제발 나쁜 안부 안 들리게']\n"
          ]
        },
        {
          "output_type": "stream",
          "name": "stderr",
          "text": [
            "\r340it [2:24:17, 24.64s/it]"
          ]
        },
        {
          "output_type": "stream",
          "name": "stdout",
          "text": [
            "56\n",
            "['마중나온다고 했잖아', '그런데 왜 아무 소식도', '왜 없는거야', '지난날들 나와 함께했던 넌데', '돌아온다는 약속도 잊어버린걸까', '너무 너무 잔인해도', '지쳐버린 마음에 녹슬은 가슴에', '내가 벙어리가 됐어 처음으로', '너를 잃고 돌아서 가는 길', '잘못된 가슴으로 멀리도 가는길', '잠시라도 보고만 싶은데', '떠나가면 죽을지도', '살지도 못할거라 생각을 하지만', '발걸음을 억지로 떼어', '눈물나오는데', '왜 자꾸만 어리석게', '자꾸 너만 불러', '울어 니가 미워서 울어', '나를 떠나서 울어', '너 때문에 생활이 안돼', '미안해 가지마 절대 떠나지마', '울어 울어 울어서', '한참을 살 수 있다면', '그냥 울어 너만 돌아와주면', '다시 내게 오면 안울게', '추억 그게 우습지', '이제와 소용없잖아', '너 떠난뒤에', '이 빈자리가 채워지질 않아', '그래도 떠올려', '생각해보면 좋아서', '위로라도되니', '추억인가보다', '깊은밤 내 어깨에', '잠든 니 향기에 취해', '잠들었던 지난 기억', '울어 니가 미워서 울어', '나를 떠나서 또 울어', '너 때문에 생활이 안돼', '미안해 가지마 절대 떠나지마', '울어 울어 울어서', '한참을 살 수 있다면', '그냥 울어 너만 돌아와주면', '다시 내게 오면 안울께', '너 없이는 단 하루라도 못살잖아', '그걸 알면서', '내가 죽는다는걸 알면서', '왜 날 버려 나를 이렇게 못살게', '울어 내가 못나서 울어', '잡지못해서 울어', '망가졌어 영원히 안돼', '아파요 제발 가지마 사랑해', '울어 울어 울어서', '한참을 살 수 있다면', '그냥 울어 너만 돌아와주면', '다시 내게 오면 안울께']\n"
          ]
        },
        {
          "output_type": "stream",
          "name": "stderr",
          "text": [
            "\r341it [2:24:57, 29.17s/it]"
          ]
        },
        {
          "output_type": "stream",
          "name": "stdout",
          "text": [
            "36\n",
            "['너무나 멀어보여요', '이렇게 가까이 있는데도', '언제나 나를 안아주던 따스한', '인사도 잊은건가요', '내가 뭘 잘못했나요', '혹시 나 미워졌나요', '아니죠 떠나려는건 아니죠', '그런일은 절대로', '없을거라 나는 믿을게요', '오늘은 안돼요', '내 사랑이 이대로는', '이별을 감당하긴 어려운걸요', '많은 약속을 다 지울순 없잖아요', '아직도 해드릴게 참 많이 있는데', '얼마쯤 걸어가다가', '한번은 날 뒤돌아 봐줄거죠', '그리곤 다시 예전처럼', '다가와 웃으며 안아줄거죠', '정말 날 좋아했는데', '정말 날 아꼈었는데', '아니죠 그대를 다시 못보는', '그런일은 절대로 없는거죠', '나는 믿을게요', '오늘은 안돼요 내 사랑이', '이대로는', '이별을 감당하긴 어려운걸요', '많은 약속을 다 지울순', '없잖아요', '아직도 해드릴게 참 많은걸요', '내일 아침엔 더 힘들어', '질거예요', '어쩌면 며칠밤을', '지새우겠죠', '언제까지나 곁에', '있기로 했잖아요', '그대가 아니라면 난 혼자인걸요']\n"
          ]
        },
        {
          "output_type": "stream",
          "name": "stderr",
          "text": [
            "\r342it [2:25:21, 27.88s/it]"
          ]
        },
        {
          "output_type": "stream",
          "name": "stdout",
          "text": [
            "45\n",
            "['힘든 하루 끝에 집 앞에', '거리를 서성이다', '돋아나는 이 공허함에 그 노래를 um', '나도 모르게 또 이렇게', '흥얼거리고 있어', '아마 너를 애타게 너를 부르듯이', '세상에서 이 노래가', '제일 좋다며 들려주던', '함께 듣던 노래 너무 슬픈 이 노래', '매일 듣는 이 노래가 또', '매일 울려 이 노래가 널', '떠올리게 만들어', '다 우리 얘기만 같아서', '아무리 귀를 막아봐도', '자꾸 맴돌아', '듣고 싶지 않아 몸부림쳐도', '매일 듣는 노래', '시간이 지나도 이 노랜', '잊혀지질 않았어', '가사 하나 멜로디까지 선명해서', '네 앞에서 불러주려', '매일 매일 혼자 연습했던', '함께 듣던 노래 가슴 아픈 이 노래', '매일 듣는 이 노래가 또', '매일 울려 이 노래가 널', '떠올리게 만들어', '다 우리 얘기만 같아서', '아무리 귀를 막아봐도', '자꾸 맴돌아', '듣고 싶지 않아 몸부림쳐도', '매일 듣는 노래', '딴 얘기 같던 노랫말은', '곧 우리가 됐고', '그렇게 남은 건 망가진 하루들', '아주 작은 방 홀로', '틀어 놓은 이 노래로', '조심스레 다시 널 불러본다', '매일 듣는 이 노래가 또', '매일 울려 이 노래가 널', '떠올리게 만들어', '모두 우리 추억들만 같아서', '아무리 귀를 막아봐도', '자꾸 맴돌아', '듣고 싶지 않아 몸부림쳐도', '매일 듣는 노래']\n"
          ]
        },
        {
          "output_type": "stream",
          "name": "stderr",
          "text": [
            "\r343it [2:25:53, 28.93s/it]"
          ]
        },
        {
          "output_type": "stream",
          "name": "stdout",
          "text": [
            "36\n",
            "['안녕이라 그 말은 하지 마세요', '우리는 다시 만날 테니', '그냥 웃으며 걸어가요', '그만하자 그 말도 하지 말구요', '언젠간 다시 만날 텐데', '그냥 웃으며 걸어봐요', '넌 어떤 맘으로 또 생각에 잠겨', '이 길을 걷나요', '니가 원한다면 흐린 날엔 비가 될래요', '추적이는 여름 비가 되어', '당신이 원하면 어떤 계절이라도', '추적이는 여름 비가 되어', '당신이 좋다면 어떤 모습이라도', '안녕이라 그 말은 하지 마세요', '우리는 다시 만날 테니', '그냥 웃으며 걸어봐요', '넌 어떤 맘으로 또 생각에', '잠겨 이 길을 걷나요', '니가 원한다면 흐린 날엔 비가 될래요', '추적이는 여름 비가 되어', '당신이 원하면 어떤 계절이라도', '추적이는 여름 비가 되어', '당신이 좋다면 어떤 모습이라도', '워워워 흐린 마음이', '거리를 지나 세어갈 때', '그녀 말했어 너무나 짧았던', '너와 나는 이 길이 끝날 때', '주루루루 여름 비가 되어', '당신이 원하면 어떤 계절이라도', '추적이는 여름 비가 되어', '당신이 좋다면 항상', '당신이 바랬던 환상', '니가 내게 줬던 그 어떤 맘이라도', '니가 내게 줬던 그 어떤 맘이라도', '주루루루 여름 비가 되어', '당신이 좋다면 어떤 모습이라도']\n"
          ]
        },
        {
          "output_type": "stream",
          "name": "stderr",
          "text": [
            "\r344it [2:26:17, 27.62s/it]"
          ]
        },
        {
          "output_type": "stream",
          "name": "stdout",
          "text": [
            "33\n",
            "['잊었니 날 잊어버렸니', '그 수많은 추억들은 ', '잊어 버렸니', '가슴은 널 향해 팔 벌려', '오늘도 간신히 버티고 있는데', '추억이 점점  빛 바래 가면', '너와 거닐던 길에 우두커니 서 ', '지우고 또 지우려 해도', '니숨결 목소리가 귓가에 들려', '잊었니 날 잊어 버렸니 ', '아직 난 널 기다리잖아', '사랑이 또 울고 있잖아  ', '가슴엔 늘 눈물이 고여', '지워도 자꾸 지우려 해도', '그대 얼굴이 자꾸 떠오르네요', '잊었니 날 잊어버렸니', '수많은 추억들은 ', '잊어 버렸니', '가슴은 널 향해 팔 벌려', '오늘도 간신히 버티고 있는데', '잊었니 날 잊어 버렸니 ', '아직난 널 기다리잖아', '사랑이 또 울고 있잖아  ', '가슴엔 늘 눈물이 고여', '잊었니 날 잊어 버렸니 ', '아직난 널 기다리잖아', '사랑이 또 울고 있잖아  ', '가슴엔 늘 눈물이 고여', '지워도 자꾸 지우려 해도', '그대 얼굴이 자꾸 떠오르네요', '지워도 자꾸 지우려 해도', '그대 얼굴이 자꾸 떠오르네요', '그대 얼굴이 자꾸 떠오르네요']\n"
          ]
        },
        {
          "output_type": "stream",
          "name": "stderr",
          "text": [
            "\r345it [2:26:40, 26.25s/it]"
          ]
        },
        {
          "output_type": "stream",
          "name": "stdout",
          "text": [
            "42\n",
            "['넌 한숨만 또 한숨만', '긴 침묵이 흐르고', '차가워진 이 바람엔', '우리가 써있어', '먼 계절을 견뎌낸 사랑이 ', '이젠 지쳐 멈추나봐', '네 마음도 결국엔 지나 봐', '이렇게 우린 끝인가 봐', 'Bad Love Bad Love Bad Love', '날 바라보던 그 눈에 살았는데', '날 안아주던 그 맘에 살았는데', '우리가 왜 우리가 어떻게 왜 ', '헤어지니 No Way', '너의 고백 둘만의 작은 약속 먼지처럼', '찬 바람에 흩어져가', 'Bad Love', '얼어붙은 네 눈빛은', '아프게 날 부수고', '차가워진 이 바람은', '널 데려가는데', '먼 계절을 견뎌낸 사랑이 ', '이젠 지쳐 멈추나봐', '네 마음도 결국엔 지나 봐', '이렇게 우린 끝인가 봐', 'Bad Love Bad Love Bad Love', '날 바라보던 그 눈에 살았는데', '날 안아주던 그 맘에 살았는데', '우리가 왜 우리가 어떻게 왜 ', '헤어지니 No Way', '너의 고백 둘만의 작은 약속 먼지처럼', '찬 바람에 흩어져가', '멀어지는 니 모습 흐려져', '나 지금 우나봐 ', '우리 남이 되나봐 끝인가봐', 'No No No No', 'No No No No Bad Love', '나는 다르다며 내가 사랑이라며', '아니잖아 사랑이 아니잖아 ', '떠나잖아 넌 왜', '너의 기억 너의 향기 두고서 넌 가잖아 ', '결국 여기까진가 봐', 'Bad Love']\n"
          ]
        },
        {
          "output_type": "stream",
          "name": "stderr",
          "text": [
            "\r346it [2:27:09, 27.04s/it]"
          ]
        },
        {
          "output_type": "stream",
          "name": "stdout",
          "text": [
            "39\n",
            "['이제부터 웃음기 사라질거야 ', '가파른 이 길을 좀 봐 ', '그래 오르기 전에 ', '미소를 기억해두자', '오랫동안 못 볼 지 몰라', '완만했던 우리가 지나온 길엔 ', '달콤한 사랑의 향기 ', '이제 끈적이는 땀 ', '거칠게 내쉬는 숨이', '우리 유일한 대화일지 몰라', '한걸음 이제 한걸음일 뿐 아득한 ', '저 끝은 보지마 평온했던 길처럼 ', '계속 나를 바라봐줘 ', '그러면 견디겠어', '사랑해 이 길 함께 가는 그대 ', '굳이 고된 나를 택한 그대여', '가끔 바람이 불 때만 저 먼 풍경을 ', '바라봐 올라온 만큼 ', '아름다운 우리 길', '기억해 혹시 우리 손 놓쳐도 ', '절대 당황하고 헤매지 마요', '더 이상 오를 곳 없는 그 곳은 ', '넓지 않아서 우린 결국엔 만나 ', '오른다면 ', '한 걸음 이제 한걸음일 뿐 ', '아득한 저 끝은 보지마 ', '평온했던 길처럼 ', '계속 나를 바라봐줘 ', '그러면 난 견디겠어', '사랑해 이 길 함께 가는 그대여 ', '굳이 고된 나를 택한 그대여', '가끔 바람이 불 때만 저 먼 풍경을 ', '바라봐 올라온 만큼 ', '아름다운 우리 길', '기억해 혹시 우리 손 놓쳐도 ', '절대 당황하고 헤매지 마요', '더 이상 오를 곳 없는 그 곳은 ', '넓지 않아서 우린 결국엔 만나 ', '크게 소리 쳐 사랑해요 저 끝까지']\n"
          ]
        },
        {
          "output_type": "stream",
          "name": "stderr",
          "text": [
            "\r347it [2:27:36, 27.03s/it]"
          ]
        },
        {
          "output_type": "stream",
          "name": "stdout",
          "text": [
            "34\n",
            "['홀로 집에 돌아오던 나날들은', '지친 맘을 안아주는 날이 됐고', '외로움 가득 차 있던 텅 빈 시간은', '우리 추억이 채웠죠', '요즘 좋은 일 있냐고 내 표정이 밝다고', '사람들이 그랬죠', '바뀐 건 내가 사랑하는 사람에게', '사랑받고 있다는 그 사실 하나인걸', '특별할 것 없는 이야기로', '하루 종일 너무 즐겁죠', '누군가 내게 소중한 사람이', '되는 건 내가 보낸 시간을', '사랑하게 만들죠', '애정 담아 건넨 나의 문장들은', '그대 일어날 수 있게 도와주고', '유난히 그대가 힘든 것 같은 날엔', '기댈 곳 돼주고 싶죠', '사랑을 하고 있단 게 사랑을 나눈단 게', '어떤 말 인지 이제 알겠죠', '내가 사랑하는 사람에게', '사랑받고 있다는 그 사실 하나뿐인데', '특별할 것 없는 이야기로', '하루 종일 너무 즐겁죠', '누군가 내게 소중한 사람이', '되는 건 내가 보낸 시간을', '사랑하게 만들죠', '혼자만의 착각일까 봐', '상처 입을까 두려워지지만', '나로 살아있는 것 같죠', '내 손 맞잡아줬을 뿐인데', '모든 게 이해받고 있죠', '누군가 내게 사랑이 되는 건', '특별할 것 없는 곳까지도', '사랑하게 만들죠']\n"
          ]
        },
        {
          "output_type": "stream",
          "name": "stderr",
          "text": [
            "\r348it [2:28:00, 25.89s/it]"
          ]
        },
        {
          "output_type": "stream",
          "name": "stdout",
          "text": [
            "34\n",
            "['가난한 마음 끝에 지쳐갈 때면', '아담한 어깨를 빌려줘', '고단한 하루 끝에 쓰러질 때면', '소리없이 잠시만 안아줘', '사는게 온통 내 뜻대로 되지 않아', '다 포기하게 될까 두려워', '내일은 조금 나을거라 믿어봐도', '뻔한 하루가 될까 두려워', '긴 절망 그 끝에 다 무너질 때', '언제든 잠시 쉴 수 있는 그늘처럼', '무거운 삶에 초조해진 표정까지', '숨길 수 있는 그늘처럼', '참다 참다 또 울먹여도', '그 눈물까지 가려주는 그늘처럼', '이 세상 앞에 당당히', '더 큰 날개를 펼쳐', '견디고 참고 버텨봐도 끝이 안 나', '또 포기할까 두려워져', '오늘만 가면 괜찮다고 믿어봐도', '뻔한 내일이 또 기다릴까봐', '긴 절망 그 끝에 다 무너질 때', '언제든 잠시 쉴 수 있는 그늘처럼', '무거운 삶에 초조해진 표정까지', '숨길 수 있는 그늘처럼', '참다 참다 또 울먹여도 그', '눈물까지 가려주는 그늘처럼', '이 세상 앞에 당당히', '더 큰 날개 펼친채로', '힘든 시간 속에서 나를 잃지 않고', '끝도 없이 다시 훨훨 날아', '긿을 잃어 헤매이다 지쳐갈 때도', '큰 그늘 펼친 날개 아래 숨을 쉬어', '찢기고 다친 마음까지 여미게 해', '넓고 포근한 품에 작은 위로가 돼 줘']\n"
          ]
        },
        {
          "output_type": "stream",
          "name": "stderr",
          "text": [
            "\r349it [2:28:23, 25.12s/it]"
          ]
        },
        {
          "output_type": "stream",
          "name": "stdout",
          "text": [
            "36\n",
            "['하루 단 하루라도 좋겠어 ', '널 잊고 살수만 있다면 ', '쉴새없는 눈물을 잠근채 ', '나의 그리움을 거둔채 ', '한 번 꼭 한번이면 될텐데 ', '난 참 그 말이 어려웠어 ', '너만 보면 자꾸 바보가 돼 ', '그림자 뒤로 숨게만 돼 ', '내게는 이 세상 제일 슬픈 세글자 ', '차마 너를 향해 줄 수 없던 세글자 ', '매일 내 가슴에 눈물로 썼다가 ', '다시 한숨으로 지우는 말 ', '나 혼자 말하고 나 혼자 듣는 말 ', '끝내 너의 곁엔 닿지도 못할 외로운 말 ', '사랑해 그 세글자가\\xa0늘 나를\\xa0아프게 해 ', '이젠 제발 좀 그만하자고 ', '다신 아파하지 말자고 ', '시간으로 덮고 또 덮어도 ', '널 가리지는 못하나봐 ', '내게는 이 세상 제일 슬픈 세글자 ', '차마 너를 향해 줄 수 없던 세글자 ', '매일 내 가슴에 눈물로 썼다가 ', '다시 한숨으로 지우는 말 ', '나 혼자 말하고 나 혼자 듣는 말 ', '끝내 너의 곁엔 닿지도 못할 외로운 말 ', '사랑해 그 세글자가 늘 나를 아프게해 ', '내 마음 하늘위에 쓸까 바람에게 말할까 ', '그럼 니가 볼까 너의 곁에 전해질까 ', '어쩌면 이 세상 제일 흔한 세글자 ', '내겐 이렇게도 힘에 겨운 세글자 ', '울음부터 나서 목이 메어와서 ', '꺼내기도 전에 되담는말 ', '천번도 만번도 더 삼킨 한 마디 ', '아마 평생가도 못 다할 짧은 그 한마디 ', '사랑해 그 세글자에 ', '또 이렇게 눈물만 - ']\n"
          ]
        },
        {
          "output_type": "stream",
          "name": "stderr",
          "text": [
            "\r350it [2:28:47, 24.75s/it]"
          ]
        },
        {
          "output_type": "stream",
          "name": "stdout",
          "text": [
            "50\n",
            "['헤어져줘서 고마워', '나는 헤어진 게 아니야', '정말 헤어져서 고마워', '네 맘은 진심이 아니야', '같은 말 하게 하지 마', '더 미워하게 하지 마', '난 안 바뀌니까', '아니 내가 정말 잘할게', '아냐 사람 마음 쉽게 안 변해', '우린 안 봐도 뻔해', '맨날 말로만 끝내자 말하면 뭐 해', '질질 끌지 말고 헤어지자', '그래 오늘은 꼭 헤어지자', '그만 미워하고 더 후회하지 말고', '그냥 미친 척하고 우리 헤어져 보자', '사랑인척하지만 너와 나', '이미 다 끝났잖아 되돌릴 수 없잖아', '맨날 말로만 끝내자 말하면 뭐 해', '질질 끌지 말고 헤어지자', '진짜 사랑이 난 그리워', '그래 네 마음 다 이해해', '함께 있어도 난 외로워', '뭐가 됐건 내가 미안해', '이해한다고 하지 마', '미안하다고 하지 마', '듣기 싫으니까', '아니 내가 정말 잘할게', '원래 사랑이란 언젠간 변해', '우리도 변했으니까', '맨날 말로만 끝내자 말하면 뭐 해', '질질 끌지 말고 헤어지자', '그래 오늘은 꼭 헤어지자', '그만 미워하고 더 후회하지 말고', '그냥 미친 척하고 우리 헤어져 보자', '사랑인척하지만 너와 나', '이미 다 끝났잖아 되돌릴 수 없잖아', '더 이상 시간 끌지 말고 헤어지자', '마지막이라고', '늘 믿었던 우리 사랑이', '이젠 지긋지긋해 더 안 되는 거', '붙잡지 좀 말고 제발', '질질 끌지 말고 헤어지자', '우리 이제 그만 보내주자', '결국 생각나고 죽도록 후회해도', '더 기대하지 말고 우리 헤어져 보자', '이젠 사랑 아니야 너와 나', '사랑했던 그때로 돌아갈 수 없잖아', '맨날 말로만 끝내자 말하면 뭐 해', '질질 끌지 말고 헤어지자', '그래 우리 이제 헤어지자']\n"
          ]
        },
        {
          "output_type": "stream",
          "name": "stderr",
          "text": [
            "\r351it [2:29:22, 27.80s/it]"
          ]
        },
        {
          "output_type": "stream",
          "name": "stdout",
          "text": [
            "32\n",
            "['나는 나에게', '길 들여지길 바래요', '그동안 그댈 너무 많이', '닮아 있었나 봐요', '지워질 때도 됐는데', '그댄 또 누군가에게 길 들었나요', '혹시 그 사람', '예전 나완 많이 틀린가 봐요', '그래서 그대는 날 잊고 사는지', '내 아름다운 사람아', '여전히 나는 니 모습인데', '또 다른 사랑 배워갈', '그대 가슴에', '내 작은 기억 하나만', '내 눈물 나는 사랑아', '같은 아픔에 머물 수 있게', '다른 이별에 울어도', '내 품 안에서', '그 마음 아물게 해요', '내가 아닌 그대 행복한가요', '혹시나 내 이름 벌써 잊었나요', '내 아름다운 사람아', '여전히 나는 니 모습인데', '또 다른 사랑 배워갈', '그대 가슴에', '내 작은 기억 하나만', '내 눈물나는 사랑아', '같은 아픔에 머물 수 있게', '다른 이별에 울어도', '내 품 안에서', '그 마음 아물게 해요', ' ']\n"
          ]
        },
        {
          "output_type": "stream",
          "name": "stderr",
          "text": [
            "\r352it [2:29:44, 26.04s/it]"
          ]
        },
        {
          "output_type": "stream",
          "name": "stdout",
          "text": [
            "91\n",
            "['거울 속에 내 모습은', '텅 빈 것처럼 공허해', '혼자 길을 걸어봐도', '텅 빈 거리 너무 공허해', 'Da ra dat dat dat dat dat dat', \"Baby don't worry\", '너란 꿈에서 깬', '현실의 아침은 공허해', '아침을 맞이 하면서 다시 자각해', '날 깨워주는 건 네가 아닌 알람벨', '빌어먹을 침대는 왜 이리 넓적해', '허허벌판 같은 맘에', '시린 바람만 부네', '나는 빈 껍데기 너 없인 겁쟁이', '주위 사람들의 동정의 눈빛이', '날 죽게 만들어', 'No what a day', '하루 시작 하기 전에 무심코 본', '거울 속에 내 모습은', '텅 빈 것처럼 공허해', '미소가 없어 표정엔', '혼자 길을 걸어봐도', '텅 빈 거린 너무 공허해', '내 마음처럼 조용해', 'Da ra dat dat dat dat dat dat', \"Baby don't worry\", 'Da dat dat dat da ra', '너란 꿈에서 깬', '현실의 아침은 공허해', '내 마음이 너무 공허해', '끝이 났네요 나의 그대여', '어디 있나요 이제 우린', '추억이 됐죠 행복 했어요', '날 잊지 말아요 또 다시 만나요', '좋았던 날들과 슬펐던 날들', '힘들었던 날들과', '행복했던 날들 ', '이젠 지나 가버린 시간 속에', '추억이 되어 과거에 머물러 있는', '그대와 나는 over', '현실로 돌아온 것 같아', '삶의 이유가 사라져', '머리가 복잡해', '아침에 눈을 뜨면', '가슴이 텅 빈 것 같이', '공허함을 느껴', '너를 만나기 전과 똑같아', '거울 속에 내 모습은', '텅 빈 것처럼 공허해', '미소가 없어 표정엔', '혼자 길을 걸어봐도', '텅 빈 거린 너무 공허해', '내 맘처럼 조용해', 'Da ra dat dat dat dat dat dat', \"Baby don't worry\", 'Da dat dat dat da ra', '너란 꿈에서 깬', '현실의 아침은 공허해', '내 마음이 너무 공허해', '끝이 났네요 나의 그대여', '어디 있나요 이제 우린', '추억이 됐죠 행복 했어요', '날 잊지 말아요 또 다시 만나요', '아직 아른거려요', '눈을 감으면 점점 ', '무뎌 지겠죠 시간이 지나면', '후회하지는 않아요', '좀 아쉬울 뿐이죠', '보고 싶지는 않아요', '그대가 그리울 뿐이죠', '예전 같지 않은', '내 모습이 점점 두려워', '미소가 없어 표정엔', '약해져만 가는', '내 자신을 보기가 무서워', '내 마음처럼 조용해', '네가 없는 내 주위는', '공기 조차 무거워', 'Da ra da ra ra ra ra dat', '너란 꿈에서 깬', '현실의 아침이', '끝이 났네요', '끝이 났네요', '나의 그대여 어디 있나요', '어디 있나요', '이제 우린', '추억이 됐죠 행복했어요', '행복했어요', '잊지 말아요', '잊지 말아요', '다시 만나요']\n"
          ]
        },
        {
          "output_type": "stream",
          "name": "stderr",
          "text": [
            "\r353it [2:30:47, 37.13s/it]"
          ]
        },
        {
          "output_type": "stream",
          "name": "stdout",
          "text": [
            "35\n",
            "['취했나봐 우리 이제 그만하자', '너와 친구로 지내는 거', '나 안될 것 같아', '그동안 나 무덤덤한 척했지만', '너와 함께했던 그날부터 설레었던 나', '뭐해 넌 괜찮니', '웃고 있는 너의 표정에', '한참 망설이다', '아무 말도 못했어', '취했나봐 너에게 취했나봐', '나 너 좋아하나봐', '왜 자꾸 헷갈리게 해 왜 why', '미쳤나봐 너만 생각나나봐 우리', '이미 알고 있잖아', '나 오늘 너에게 취했나봐', '뭐해 좀 걸을까', '같이 걷던 길목에 서서', '한참 바라보다', '아무 말도 못했어', '취했나봐 너에게 취했나봐', '나 너 좋아하나봐', '왜 자꾸 헷갈리게 해 왜 why', '미쳤나봐 너만 생각나나봐 우리', '이미 알고 있잖아', '나 오늘 너에게 취했나봐', '난 안돼 오늘은 안돼 네가 없으면', '나 지금 너에게 말하고 싶어', '오늘 지금 여기 이 순간 우리', '넌 어떠니 지금 앞에 있는 나', '아무 대답 없는 너', '왜 자꾸 헷갈리게 해 왜 why', '미쳤나봐 너만 생각나나봐 우리', '이미 알고 있잖아', '나 오늘 너에게 취했나봐', '오늘 너에게']\n"
          ]
        },
        {
          "output_type": "stream",
          "name": "stderr",
          "text": [
            "\r354it [2:31:11, 33.17s/it]"
          ]
        },
        {
          "output_type": "stream",
          "name": "stdout",
          "text": [
            "51\n",
            "['사랑하기 참 좋은 날', '설레이는 그런 날', '아무 이유 없이', '미소짓는 날', '종일 니 생각에 참 벅찬 날', '가슴뛰는 날', 'I wanna love', 'I need you love', '사랑하기 좋은 날', '오늘 따라 문득 보고 싶어서', '눈을 뜨자 마자 널 찾아갔어', '이게 너 때문일까', '저 햇살 때문일까', '그 어떤 말로도 표현이 잘 안되서', '그냥 널 꼭 안아버렸어', '오늘 사랑하기 참 좋은 날', '설레이는 그런 날', '아무 이유 없이', '미소짓는 날', '종일 니 생각에 참 벅찬 날', '가슴뛰는 날', 'I wanna love', 'I need you love', '사랑하기 좋은 날', '뚜뚜 뚜루루루 뚜 뚜루루루루', '뚜 뚜루루루루', '언제나 네 품에서', '날 살게 해주는 너', '변함없이 하룰 눈부시게 비추는', '내 삶의 이유인 사람', '오늘 사랑하기 참 좋은 날', '설레이는 그런 날', '아무 이유 없이', '미소짓는 날', '종일 니 생각에 참 벅찬 날', '가슴뛰는 날', 'I wanna love', 'I need you love', '사랑하기 좋은 날', '하늘에 매일 감사해', '별거 아닌 세상에', '사랑이란 말로', '특별함을 줘서', '이제야 나 알 것 같아', '태어난 이유를', '너를만나', '모든순간', '사랑하기 좋은 날', '뚜뚜 뚜루루루 뚜 뚜루루루루', '뚜 뚜루루루루', 'HOO I LOVE YOU I NEED YOU']\n"
          ]
        },
        {
          "output_type": "stream",
          "name": "stderr",
          "text": [
            "\r355it [2:31:46, 33.70s/it]"
          ]
        },
        {
          "output_type": "stream",
          "name": "stdout",
          "text": [
            "44\n",
            "['술은 끊었어', '이제 관심 없겠지만', '니가 좋아하던 쓴 커피도', '가끔 마셔', '어제 올렸던', '짧게자른 그 모습에', '좋아 못했었어', '요즘 니가 너무 보고싶어', '밤에 잠도 잘 못자', '우리가 함께 떠났던', '해운대 모래사장 앞이야', '너와 나 걸어갔던 밤이야', '사소했던 장난조차 특별했던', '예쁘게 사랑하자고', '이 손 놓지말자고', '입맞춤했던', '청사포 그 횟집도', '달맞이 그 카페도', '그대론데', '뭐해 전화 하고 싶었지만', '괜히 망칠 것 같아', '답답해 혼자 떠났던', '해운대 모래사장 앞이야', '너와 나 걸어갔던 밤이야', '사소했던 장난조차 특별했던', '예쁘게 사랑하자고', '이 손 놓지말자고', '입맞춤했던', '청사포 그 횟집도', '달맞이 그 카페도', '그대론데', '돌아오는 기차역 앞에서', '우리 꼭 다시 놀러오자고', '약속했던 그날들이', '아직도 이렇게 선명한데', '우리의 이별은 한번인데', '그리운 마음은 왜 잦은지', '사소했던 장난조차 특별했던', '예쁘게 사랑하자고', '이 손 놓지말자고', '입맞춤했던', '청사포 그 횟집도', '달맞이 그 카페도', '그대론데']\n"
          ]
        },
        {
          "output_type": "stream",
          "name": "stderr",
          "text": [
            "\r356it [2:32:16, 32.62s/it]"
          ]
        },
        {
          "output_type": "stream",
          "name": "stdout",
          "text": [
            "24\n",
            "['구름에 빛은 흐려지고', '창가에 요란히 내리는', '빗물소리 만큼 시린 기억들이', '내 마음 붙잡고 있는데', '갈수록 짙어져간', '그리움에 잠겨', '시간을 거슬러 갈순 없나요', '그 때처럼만 그대 날 안아주면', '괜찮을텐데 이젠', '젖어든 빗길을 따라가', '함께한 추억을 돌아봐', '흐려진 빗물에 떠오른 그대가', '내 눈물 속에서 차올라와', '갈수록 짙어져간', '그리움에 잠겨', '시간을 거슬러 갈순 없나요', '그 때처럼만 그대 날 안아주면', '괜찮을텐데 ', '이젠 흩어져가', '나와 있어주던 그 시간도 그 모습도', '다시 그 때처럼만 그대를 안아서', '시간을 거슬러 갈수 없나요', '한번이라도 마지막일지라도', '괜찮을텐데']\n"
          ]
        },
        {
          "output_type": "stream",
          "name": "stderr",
          "text": [
            "\r357it [2:32:33, 28.04s/it]"
          ]
        },
        {
          "output_type": "stream",
          "name": "stdout",
          "text": [
            "30\n",
            "['첨엔 혼자라는 게 편했지', '자유로운 선택과 시간에', '너의 기억을 지운 듯 했어', '정말 난 그런 줄로 믿었어', '하지만 말야 이른 아침', '혼자 눈을 뜰 때', '내 곁에 니가 없다는', '사실을 알게 될 때면', '나도 모를 눈물이 흘러', '변한 건 없니 날 웃게 했던', '예전 그 말투도 여전히 그대로니', '난 달라졌어 예전만큼 웃질 않고', '좀 야위었어 널 만날 때 보다', '나를 이해해 준 지난 날을', '너의 구속이라 착각했지', '남자다운 거라며 너에겐', '사랑한단 말조차 못했어', '하지만 말야', '빈 종이에 가득 너의 이름', '쓰면서 네게 전화를 걸어', '너의 음성 들을 때', '나도 모를 눈물이 흘러', '변한 건 없니 내가 그토록', '사랑한 미소도 여전히 아름답니', '난 달라졌어 예전만큼 웃질 않고', '좀 야위었어 널 만날 때 보다', '그는 어떠니 우리 함께한 날들', '잊을 만큼 너에게 잘해주니', '행복해야 돼 나의 모자람', '채워줄 좋은 사람 만났으니까']\n"
          ]
        },
        {
          "output_type": "stream",
          "name": "stderr",
          "text": [
            "\r358it [2:32:53, 25.66s/it]"
          ]
        },
        {
          "output_type": "stream",
          "name": "stdout",
          "text": [
            "38\n",
            "['너를 사랑한 죄로 ', '깊은 한숨으로 하룰 보내고 ', '입을 막아도 눈을 가려도 ', '너 하나만 찾게 돼 ', '애써 추억을 삼켜봐도 ', '다시 내 가슴에 남아서 ', '니 이름만 또 부르게 돼 ', '니가 보고싶어 ', '널 사랑하니까 전부니까 ', '내 삶 널 위해 쓰고 싶어 ', '열번을 웃고 천번을 울더라도 ', '너 하나만 사랑하고 싶어 ', '세상 앞에 크게 소리치고 싶은데 ', '사랑해 사랑해 널 사랑해서 ', '오늘도 살아가 ', '약한 가슴 때문에 ', '니가 없이는 난 안될 것 같아 ', '다시 생각나 다시 찾게 돼 ', '추억이란 몹쓸 말 ', '적은 나의 사랑 때문에 ', '니가 너무 힘들었나봐 ', '널 사랑했던 벌이라면 ', '내가 다 받을께 ', '널 사랑하니까 전부니까 ', '내 삶 널 위해 쓰고 싶어 ', '열번을 웃고 천번을 울더라도 ', '너 하나만 사랑하고 싶어 ', '세상 앞에 크게 소리치고 싶은데 ', '사랑해 사랑해 널 사랑해서 ', '오늘도 살아가 ', '너 없이는 하루도 자신없어 ', '어떻게 널 잊니 ', '어떻게 지우니 아파도 ', '이별 앞에 웃을 수 있는 건 ', '니가 선물한 추억 때문에 ', '사는동안 언젠간 날 찾을지 몰라 ', '그리워 그리워 난 그리워서 ', '오늘도 기다려 ']\n"
          ]
        },
        {
          "output_type": "stream",
          "name": "stderr",
          "text": [
            "\r359it [2:33:19, 25.72s/it]"
          ]
        },
        {
          "output_type": "stream",
          "name": "stdout",
          "text": [
            "33\n",
            "['한 사람을 너무 사랑했던거죠  ', '얼마나 나를 ', '아프게 할지도 모르고  ', '기뻐했죠 ', '이 세상에 그댈 가진 사람 ', '나 하나 뿐이라며 ', '흰 눈이 내리던 어느 날 ', '그 고운 입술로 날 사랑한다고  ', '안녕이란 말을 하고 ', '그대가 내 곁을 떠나갔죠  ', '몰랐었죠 우리 헤어진다는건  ', '정말 그대가', '내 사랑인줄 알았는데 ', '좋아했죠', '그대 나와 같은 생각하고', '있을거라 믿었죠', '흰 눈이 내리던 어느 날', '그 고운 입술로 날 사랑한다고 ', '안녕이란 말을 하고', '그대가 내 곁을 떠나갔죠 ', '하얀 눈위에 멀어져 가는', '그대가 남겨둔 발자국 세며', '멍하니 바보처럼', '떠나가는 뒷모습 보면서 울었죠', '흰 눈이 내리던 어느 날', '그 고운 입술로 날 사랑한다고 ', '안녕이란 말을 하고', '그대가 내 곁을 떠나갔죠 ', '흰 눈이 내리던 어느 날', '그 고운 입술로 날 사랑한다고 ', '안녕이란 말을 하고', '그대가 내 곁을 떠나갔죠 ', '내 곁을 떠나갔죠']\n"
          ]
        },
        {
          "output_type": "stream",
          "name": "stderr",
          "text": [
            "\r360it [2:33:42, 25.05s/it]"
          ]
        },
        {
          "output_type": "stream",
          "name": "stdout",
          "text": [
            "42\n",
            "['매일 같은 옷을 입는 이유 ', '너와 함께 입던 옷이라서', '혹시 어디선가 알아보고 ', '날 찾아줄까 봐', '네가 좋아했던 옷을 입고 ', '네가 좋아했던 가수처럼', '노래하면 네가 볼 것 같아서', '신용재를 따라 하고 ', '따라 해도 안 되는 것처럼', '사랑을 따라 하고 ', '흉내 내도 안 되는 것처럼', '목이 부서져라 ', '이 노래를 불러도', '너는 다시 돌아오질 않잖아', '네가 그렇게도 좋아했었던 ', '그 노래처럼', '그때 네가 나를 떠난 이후 ', '쉬지 않고 연습하는 이유', '혹시 어디선가 들린다면 ', '너 돌아볼까 봐', '이제 우리 얘기가 돼버린', '네가 좋아했던 노래들을', '불러보면 네가 울 것 같아서', '신용재를 따라 하고 ', '따라 해도 안 되는 것처럼', '사랑을 따라 하고 ', '흉내 내도 안 되는 것처럼', '목이 부서져라 ', '이 노래를 불러도', '너는 다시 돌아오질 않잖아', '그때 그 노래처럼', '아직 내가 너를 못 버리는 이유', '여태 바보처럼 기다리는 이유', '아직 내겐 사랑이라서', '아무리 미친 듯이 불러봐도 ', '넌 안 들리나 봐', '이별은 연습하고 연습해도 ', '안 되는 건가 봐', '목이 부서져라 다시 너를 불러도', '너는 내게 돌아오질 않잖아', '네가 그렇게도 좋아했었던 ', '그 노래처럼']\n"
          ]
        },
        {
          "output_type": "stream",
          "name": "stderr",
          "text": [
            "\r361it [2:34:13, 26.56s/it]"
          ]
        },
        {
          "output_type": "stream",
          "name": "stdout",
          "text": [
            "42\n",
            "['오늘따라 술이 달아', '숨을 쉬듯 또 한잔 ', '그냥 삼키고 말죠', '어느 사이 텅 빈 술잔', '그 너머로 ', '그녀가 보일 것 같아', '우리 둘 헤어진 ', '일조차 잊은 채로', '기억 속 그녀와 얘기하듯 ', '혼자 떠들다가', '취한 난 눈앞이 흐려져요', 'Oh 긴 꿈속처럼 행복했던', '더없이 좋았었던 그때의 우리', '잘 지내나요 ', '나 없이도 괜찮나요 ', '나는 괜찮지 않죠', '취할수록 또렷하게 떠오르는 ', '그녀가 너무나도 예뻐서', '술인지 눈물인지 혼자 한잔', '비우고 채우고 ', '또다시 비워내죠', '우리 둘 추억만큼 쌓여진 ', '텅 빈 술병들과', '이렇게 텅 빈 내가 있네요 ', 'uh oh', '왜 이리 고마운 일들만 ', '많은 건지', '기억 속 난 항상 미안해요', '그녀 곁에 있던 그 동안 ', '언제나 부족하기만 했죠 ', 'uh oh', 'oh 꼭 어제처럼 선명하게 ', '눈앞에 그려지는 그녀의 얼굴', '잘 지내나요 괜찮나요 ', '오늘 밤도 나만 비틀거려요', '취할수록 또렷하게 떠오르는 ', '그녀가 너무 보고 싶어서', '울다가 웃었다가 원망하죠 ', 'oh', '또 한잔 다시 한잔 눈물 한잔', 'uh oh ', '버릇처럼 혼자 이렇게 한잔']\n"
          ]
        },
        {
          "output_type": "stream",
          "name": "stderr",
          "text": [
            "\r362it [2:34:42, 27.30s/it]"
          ]
        },
        {
          "output_type": "stream",
          "name": "stdout",
          "text": [
            "35\n",
            "['이럴 거면 날 흔들어 놓지 말지 ', '이럴 거면 잘해주지나 말지 ', '이럴 거면 첨 스쳐가게 놔두지 ', '너를 모르는 채 살게 하지. 떠날 거라면. ', ' ', '원망해도 후회해도 널 향한 나의 사랑은 ', '이미 엎질러진 물 처럼 주워 담을 수 없어 ', ' ', '나를 울리려고 이럴려고.. ', '날 사랑 했니. 너를 사랑하게 했니 ', '멀쩡한 사람 왜 넌 바보 만들어 ', '버릴 거면. 그럴 거였으면 ', '왜 내 맘 모두 가져간 거야 ', '조각나버려 이제 다신 쓸 수도 없게 ', ' ', '내 머리는 내 입술은 매일 니 욕만 하는데 ', '나의 가슴은 내 눈물은 자꾸 니 편만 들어 ', ' ', '나를 울리려고 이럴려고 ', '날 사랑 했니 너를 사랑하게 했니 ', '잘살던 사람 왜 늘 울게 만들어 ', '버릴 거면. 그럴 거였으면 ', '왜 내 맘 모두 가져간 거야 ', '누구에게도 이제 다신 줄 수도 없게 ', ' ', '너를 알기 전 서로 몰랐던 때로 ', '돌아가기엔 널 너무 사랑했나 봐 ', ' ', '잊지 못할 거면 이럴 거면 ', '널 붙잡을 걸 네게 떼라도 써볼걸 ', '사랑한다고 너 없인 못산다고 ', '울릴 거면 그립게 할 거면 ', '차라리 너의 곁에서 울려 ', '볼 수 있다면 혼자 사랑해도 되니까 ', '나만 사랑해도 되니까']\n"
          ]
        },
        {
          "output_type": "stream",
          "name": "stderr",
          "text": [
            "\r363it [2:35:07, 26.70s/it]"
          ]
        },
        {
          "output_type": "stream",
          "name": "stdout",
          "text": [
            "34\n",
            "['옅은 바람 냄새에 ', '두 눈을 감아본다', '낡은 가슴 여전한 떨림 ', '그대가 그대가 온다', '어렴풋이 피어오르는', '그 옛날의 기억이', '두 눈에 소리 없이 흘러 ', '이 가슴을 울려온다', '내 맘속에 그대가 분다', '그 시절 그때처럼 ', '웃으며 나에게 불어와', '소리 없이 그대가 분다', '내 가슴 한가운데 ', '보고 싶은 그대가 분다', '앙상해진 너의 계절에 ', '가슴이 시려 와도', '돌아보면 어제 같은 날들 ', '그 시절은 영원하다', '내 맘속에 그대가 분다', '그 시절 그때처럼 ', '웃으며 나에게 불어와', '소리 없이 그대가 분다', '내 가슴 한가운데 ', '보고 싶은 그대가 분다', '정말 사랑했구나 ', '그댈 매일 돌아보며 사는 나', '내 맘속에 그대가 분다', '어디선가 그대가 운다', '안아주고 싶지만 ', '자꾸만 멀어지잖아', '온 맘 다해 그댈 부른다', '이 세상 한가운데 ', '눈물로 그댈 불러본다', '하루 종일 그대가 분다']\n"
          ]
        },
        {
          "output_type": "stream",
          "name": "stderr",
          "text": [
            "\r364it [2:35:31, 25.80s/it]"
          ]
        },
        {
          "output_type": "stream",
          "name": "stdout",
          "text": [
            "30\n",
            "['버티고 버티다 창문을 열어도 보고 ', '지난 사랑이 초라하게 느껴져도  ', '지우고 지워도 아무리 애를 써 봐도  ', '나는 여전히 그대를 기다리죠 ', '늘 내 맘에 항상 함께해주던  ', '나의 지친 손을 잡아주던 너  ', '이제는 어떻게 사랑을 하나요 ', '숨이 멎을 듯 아픈 사람  ', '다신 없을 거 같은데 ', '이제는 어떻게 하루를 사나요 ', '그댈 만났던 그곳 이렇게  ', '아직도 그댈 기다리죠 ', '오래전 기억들 내 맘을 자꾸 두드려 ', '그저 멍하니 하늘만 바라보죠 ', '늘 나보다 더 날 사랑해 주던 ', '내가 알던 그댄 지금 어디에 ', '이제는 어떻게 사랑을 하나요 ', '숨이 멎을 듯 아픈 사람  ', '다신 없을 것 같은데 ', '이제는 어떻게 하루를 사나요 ', '그댈 만났던 그곳 이렇게  ', '아직도 그댈 기다리죠 ', '모든 것에 그대가 남아있죠 ', '내 방안의 가득한 그대의 온기까지 ', '괜찮은 가봐요 나 없이 그대는 ', '당장이라도 난 달려가  ', '그댈 껴안고 싶은데 ', '아직은 끝이라 말할 수 없어요 ', '소중한 그 시간들 사라질 때까지  ', '조금 더 바라보고 싶어 ']\n"
          ]
        },
        {
          "output_type": "stream",
          "name": "stderr",
          "text": [
            "\r365it [2:35:52, 24.44s/it]"
          ]
        },
        {
          "output_type": "stream",
          "name": "stdout",
          "text": [
            "48\n",
            "['OH EVERY TIME I SEE YOU', '그대 눈을 볼 때면', '자꾸 가슴이 또 설레여와', '내 운명이죠', '세상 끝이라도', '지켜주고 싶은 단 한 사람', 'BABY OHOHOHOH', 'OHOHOHOH', 'BABY OHOHOHOH', 'OH EVERY TIME I SEE YOU', '그대 눈을 볼 때면', '자꾸 가슴이 또 설레여와', '내 운명이죠', '세상 끝이라도', '지켜주고 싶은 단 한 사람', '그대 나를 바라볼 때', '나를 보며 미소 질 때', '난 심장이 멈출 것 같아요 난', '그댄 어떤가요', '난 정말 감당하기 힘든걸', '온종일 그대 생각해', '조금 멀리 우리 돌아왔지만', '지금이라도 난 괜찮아', 'OH EVERY TIME I SEE YOU', '그대 눈을 볼 때면', '자꾸 가슴이 또 설레여와', '내 운명이죠', '세상 끝이라도', '지켜주고 싶은 단 한 사람', '날 떠나지 말아요', '가끔은 알 수 없는 미래라 해도', '날 믿고 기다려줄래요', '워 나만의 그대여', '내겐 전부라는 말', '고백한 적이 있었나요', '내 운명이죠', '세상 끝이라도', '지켜주고 싶은 너', 'BABY OHOHOHOH', '사랑할래요', 'OHOHOHOH', '니 눈빛과 니 미소와', '그 향기까지도', 'BABY OHOHOHOH', '기억해줘요', 'OHOHOHOH', '언제나 우리 함께 있음을', 'i love u']\n"
          ]
        },
        {
          "output_type": "stream",
          "name": "stderr",
          "text": [
            "\r366it [2:36:25, 26.97s/it]"
          ]
        },
        {
          "output_type": "stream",
          "name": "stdout",
          "text": [
            "38\n",
            "['하룻밤 자고나면 괜찮을거라', '그 밤이 어느새 천번째 밤이야', '니가 떠난 그 날부터 매일밤', '나를 위로해 줬던건', '언젠가 니가 내게 사준 베개야', '한시도 떨어져 살수가 없을때', '서로같은 베개위에서라도', '꼭 잠들자고 약속했었던', '똑같은 베개 베고서 잠이들면', '어디서든 함께있는 거라던', '꿈속에서도 헤어지지 말자던', '그런 니가 너무 그리워', '잠들때까지 전화기를 붙잡고', '사랑한다는말 지겹게 나누고', '두 베개가 하나되는', '그 날을 그리며 행복했던 난', '이제는 그 베개를 끌어 안고서', '눈물을 흘리고 후회를 흘리고', '너에게 다 미쳐주지 못했었던', '나의 마음을 또 흘리지', '똑같은 베개 베고서 잠이 들면', '어디서든 함께 있는 거라던', '꿈속에서도 헤어지지 말자던', '그런 니가 너무 그리워', '언젠가 잊혀질 날이 올 것 같아서', '슬픔도 멈출날 올 것 같아서', '외려 두려워 시간이', '내 맘까지 앗아갈까', '아직도 너만 꿈꾸고 있는 바보', '이런 나도 잠들날이 올까봐', '똑같은 베개 베고서 잠이들면', '어디서든 함께 있는거라던', '꿈속에서도 헤어지지 말자던', '그런 니가 너무 그리워', '사랑이 눕던 그 곳에 그 자리위에', '영원토록 이별이 또 누워도', '너와 똑같은 추억 하나 가진 난', '그래도 너라서 고마워']\n"
          ]
        },
        {
          "output_type": "stream",
          "name": "stderr",
          "text": [
            "\r367it [2:36:50, 26.61s/it]"
          ]
        },
        {
          "output_type": "stream",
          "name": "stdout",
          "text": [
            "42\n",
            "['오늘은 무슨일 인거니', '울었던 얼굴 같은걸', '그가 너의 마음을 아프게 했니', '나에겐 세상 젤 소중한 너인데', '자판기 커피를 내밀어', '그속에 감춰온 내 맘을 담아', '고마워 오빤 너무 좋은 사람이야', '그 한마디에 난 웃을뿐', '혹시 넌 기억하고 있을까', '내 친구 학교 앞에 놀러왔던 날', '우리들 연인같다 장난쳤을때', '넌 웃었고 난 밤 지새웠지', '니가 웃으면 나도 좋아', '넌 장난이라 해도', '널 기다렸던 날 널 보고 싶던 밤', '내겐 벅찬 행복 가득한데', '나는 혼자여도 괜찮아', '널 볼수만 있다면', '늘 너의 뒤에서 늘 널 바라보는', '그게 내가 가진 몫인것만 같아', '친구들 지겹다 말하지', '늘 같은 노랠 부르는 나에게', '하지만 그게 바로 내 마음인걸', '그대 먼곳만 보네요', '혹시 넌 그날 내맘을 알까', '우리들 아는 친구 모두 모인밤', '술취한 널 데리러 온 그를 내게', '인사시켰던 나의 생일 날', '니가 좋으면 나도 좋아', '니 옆에 그를 보며', '나완 너무 다른 난 초라해지는', '그에게 널 부탁한다는 말 밖에', '널 울리는 사람과', '위로 밖에 못하는 나', '니가 웃으면 나도 좋아', '넌 장난이라 해도', '널 기다렸던 날 널 보고 싶던 밤', '내겐 벅찬 행복 가득한데', '나는 혼자여도 괜찮아', '널 볼수만 있다면 나', '늘 너의 뒤에서 늘 널 바라보는', '그게 내가 가진 몫인것만 같아']\n"
          ]
        },
        {
          "output_type": "stream",
          "name": "stderr",
          "text": [
            "\r368it [2:37:20, 27.53s/it]"
          ]
        },
        {
          "output_type": "stream",
          "name": "stdout",
          "text": [
            "54\n",
            "['함께 본 영화표를 태우고', '니가 사준 곰 인형을 패도', '엉엉 울어 봐도 후련하질 못해', '함께 산 핸드폰을 버리고', '니가 사준 백일반질 빼도', '준건 다 버려도 널 잊지를 못해', '아무런 생각도 나지 않고', '아무도 만나고 싶지 않아', '사랑이 이런 건지 몰랐어요', '아무런 얘기도 하기 싫고', '아무런 전화도 받기 싫어', '이렇게 힘든 건지 몰랐어요 난', '백년을 사랑한 게 아닌데', '백일을 겨우 넘긴 너인데', '숟가락만 들어도 ', '자꾸 니 생각에 눈물이 나', '세수하다 모르게 ', '자꾸 니 생각에 눈물이 나', '자꾸 니 생각이 나 ', '울고 울어도 눈물이 나', '새빨간 하트를 지우고 ', '저장된 일번을 지워도', '다른 번호로 바꿔 봐도 ', '안돼 안돼 안된단 말야', '모아 논 사진을 치우고 ', '니가 준 편질 찢어 봐도', '할 수 있는 건 다 해봐도 ', '안돼 안돼 안된단 말야 너', '친구도 만나보고 남자도 만날게', '밥도 잘 먹어보고 술도 좀 마실게', '근데 또 웃긴 게 해볼 건 다 했는데', '널 잊는 게 그것만 안돼', '아무런 생각도 나지 않고', '아무도 만나고 싶지 않아', '사랑이 이런 건지 몰랐어요', '아무런 얘기도 하기 싫고', '아무런 전화도 받기 싫어', '이렇게 힘든 건지 몰랐어요', '힘든 건지 몰랐어요 난', '새빨간 하트를 지우고 ', '저장된 일번을 지워도', '다른 번호로 바꿔 봐도 ', '안돼 안돼 안된단 말야', '모아 논 사진을 치우고 ', '니가 준 편질 찢어 봐도', '할 수 있는 건 다 해봐도 ', '안돼 안돼 안된단 말야 너', '친구도 만나보고 남자도 만날게', '밥도 잘 먹어보고 술도 좀 마실게', '근데 또 웃긴 게 해볼 건 다 했는데', '널 잊는 게 그것만 안돼', '함께 본 영화표를 태우고', '니가 사준 곰 인형을 패도', '엉엉 울어 봐도 후련하지 못해 난']\n"
          ]
        },
        {
          "output_type": "stream",
          "name": "stderr",
          "text": [
            "\r369it [2:37:57, 30.37s/it]"
          ]
        },
        {
          "output_type": "stream",
          "name": "stdout",
          "text": [
            "37\n",
            "['우연이라도 마주할 수 있기를', '잠시라 해도 함께하는 순간을 ', '혹 난 아니 왜 난 바라면서 ', '고갤 저었던 날 ', '너는 생각은 할까 ', '다정하지만은 않았지', '화가 나면 서로 멀어져야 했던 우리 ', '그래 우리', '그때로 다시 돌아갈 순 없는 걸까', '내 서툰 감정들 때문에 ', '헤어지자고 말했던 내가', '너무 원망스러워 ', '니가 너무 보고 싶은 걸', '널 만난다면 볼 수 있다면', '그럴 수 있다면', '니가 바랬던 그 사소한 부탁도 ', '짓궂은 장난도 나는', '널 만났을 때 함께 바라볼 때 ', '조금 어색할지 모를 그때엔', '꼭 미안했었다고 ', '어리석었다고 고맙다고 ', '힘들진 않니 물어나 볼 걸', '뒤돌아설 때 내가 잘못했다고 ', '말없이 안아줄 걸 ', '그게 너무 후회가 돼', '널 만난다면 볼 수 있다면 ', '그럴 수 있다면', '니가 바랬던 그 사소한 부탁도 ', '짓궂은 장난도 나는', '널 만났을 때 함께 바라볼 때 ', '조금 어색할지 모를 그때엔', '꼭 미안했었다고 어리석었다고 ', '고맙다고 말해', '내 얕은 기억에 ', '니가 지워지기 전에 ', '내게도 기회를 줘', 'You You My Love']\n"
          ]
        },
        {
          "output_type": "stream",
          "name": "stderr",
          "text": [
            "\r370it [2:38:22, 28.76s/it]"
          ]
        },
        {
          "output_type": "stream",
          "name": "stdout",
          "text": [
            "40\n",
            "['그대 낯설어하지 마', '처음 겪어본 오늘을', '그저 내일이면 끄덕여질 일들을', '매일 똑같은 날이면', '뭐 또 하루를 굳이 지내', '눈 떠진 아침이 뻔하지 않으니', '또 사는 걸', '어쩌다 그댄 떠났을까', '나만이 그 이유를 몰랐어', '그대와 함께 나누었던', '별거 없던 그 하루로', '눈만 감으면 가 있어요', '그토록 넘치게 채우던 사랑도', '그 이별도 눈물도', '모두 비우니 그대만 남은 걸요', '그대 낯설어하지 마', '너무 힘들어하지 마', '그저 내일이면 끄덕여질 일들을', '매일 똑같은 날이면', '뭐 또 하루를 굳이 지내', '후회도 한숨도 원망도 쌓여서', '내가 된 걸', '어쩌다 그댄 떠났을까', '나만이 그 이유를 몰랐어', '그대와 함께 나누었던', '별거 없던 그 하루로', '눈만 감으면 가 있어요', '그토록 넘치게 채우던 사랑도', '그 이별도 눈물도', '모두 비우니 그대만 남은 걸요 그렇게', '날 아프게 한 당신이', '더 힘든 걸 알았다면', '그리 부질없는', '미운 가슴 끌어안고 그댈 보냈을까', '그대와 함께 나누었던', '별거 없던 그 하루로', '눈을 감고 떠날 거에요', '혹시나 내가 많이 달라져 있어도', '날 그냥 안아줘요', '모두 잃고서 그대만 남은 나를 이제']\n"
          ]
        },
        {
          "output_type": "stream",
          "name": "stderr",
          "text": [
            "\r371it [2:38:49, 28.22s/it]"
          ]
        },
        {
          "output_type": "stream",
          "name": "stdout",
          "text": [
            "49\n",
            "['우리 이제 헤어지기로 해', '너도 알잖아', '우린 충분했다는 걸', '이별이 무서워', '자꾸 피해 보지만', '이젠 정말 끝인 걸', '우리 사랑이 우리 추억이', '이젠 끝나가지만', '함께한 기억은', '내가 다 가져갈게', '끝이란 걸 알지만', '끝이라고 안 할게', '내 눈에 비친 네 모습이', '날 나쁘게 만들어', '나 이제 너와 서툰 이별을 하려 해', '많이 아프겠지만', '이제 정말 헤어지려 해', '가끔 혼자 견디기 힘들어', '나도 몰래 널 부르게 되면', '그냥 지나쳐줘', '서툰 이별이라서 그래', '혹시 그때의 서로를', '조금 더 이해했더라면', '우린 조금은 달라졌을까', '이제 와서 이러는 내가', '너무 이기적인가 봐', '내 눈에 비친 네 모습이', '날 나쁘게 만들어', '나 이제 너와 서툰 이별을 하려 해', '많이 아프겠지만', '이제 정말 헤어지려 해', '가끔 혼자 견디기 힘들어', '나도 몰래 널 부르게 되면', '그냥 지나쳐줘', '서툰 이별이라서 그래', '우리의 최선은 여기까지인 거 같아', '수고 많았어', '이젠 널 보낼게', '같은 추억 속에 우리를', '이젠 보내줘야 해', '애써 그냥 웃으며', '아무렇지 않게 널 보낼게', '우리 이제 정말 이별을 하려 해', '많이 아프겠지만', '많이 힘들겠지만', '혹시 우리가 다시 만나게', '되는 날이 다가오면', '그땐 꼭 안아줘', '많이 보고 싶었다고 말해줘']\n"
          ]
        },
        {
          "output_type": "stream",
          "name": "stderr",
          "text": [
            "\r372it [2:39:23, 30.01s/it]"
          ]
        },
        {
          "output_type": "stream",
          "name": "stdout",
          "text": [
            "30\n",
            "['살다 보면 많이 힘들고 아플 때가 있어', '긴 터널을 지나다 보면 괜찮아질 거야', '그래 시간 지나 다 알게 될 거야', '진정으로 살아왔으니', '말을 하지 않아도 표현하지 않아도', '곁에서 나를 항상 지켜준 당신', '살았소 살았소', '당신 덕분에 난 살았소', '살겠소 살겠소', '나 당신을 위해서 살겠소', '내가 존재하는 이유가', '살아가는 이유가', '당신이라 감사하오', '주저앉고 싶을 때 포기하고 싶을 때', '변함없이 날 웃게 해준 당신', '살았소 살았소', '당신 덕분에 난 살았소', '살겠소 살겠소', '나 당신을 위해서 살겠소', '내가 존재하는 이유가', '살아가는 이유가', '당신이라서', '몰랐소 몰랐소 당신도 힘들었다는 걸', '이제는 나 이제는', '당신을 위해서 살겠소', '내가 존재하는 이유가 살아가는', '이유가 당신이라서 감사해', '내가 존재하는 이유가', '살아가는 이유가', '당신이라서 내가 살았소']\n"
          ]
        },
        {
          "output_type": "stream",
          "name": "stderr",
          "text": [
            "\r373it [2:39:45, 27.43s/it]"
          ]
        },
        {
          "output_type": "stream",
          "name": "stdout",
          "text": [
            "40\n",
            "['나는 아름다운', '꿈을 꾼 건진 모르겠네', '눈이 부셨던가', '그 순간을 잊을 수가 없네', '햇살이 좋은 날', '운명처럼 다가온 그대', '꽃향기가 날 것 같은 그댄', 'woo woo woo woo', '밤새 잠 못 드는', '내 맘 알까요', '그댄 알까요 wah uh uh', '밤새 고민해요', '왜 이럴까요', '어떻게 하죠 oh', 'woo woo woo woo woo', 'woo woo woo woo woo', 'woo woo woo woo woo', 'woo woo woo woo', '처음 본 그 순간', '기억하고 난 기억해요', '멈춰진 것 같던 그 시간들 ', 'woo woo woo woo', '밤새 잠 못 드는', '내 맘 알까요', '그댄 알까요 wah uh uh', '밤새 고민해요', '왜 이럴까요', '어떻게 하죠 oh', 'woo woo woo woo woo', 'woo woo woo woo woo', 'woo woo woo woo woo', 'woo woo woo woo', '가슴 떨려 오는', '감정이 느껴져요 wah uh', '원했던 그 사랑', '그 사람이 왔네요 wah uh', '까만 밤 하늘에', '그대 얼굴을 그려봐요', '깊어지는 내 맘 알아줘요 ', 'woo woo woo woo']\n"
          ]
        },
        {
          "output_type": "stream",
          "name": "stderr",
          "text": [
            "\r374it [2:40:12, 27.40s/it]"
          ]
        },
        {
          "output_type": "stream",
          "name": "stdout",
          "text": [
            "53\n",
            "['기다릴게 나 여기 있을게', '마지막 사랑 난 너란 걸 아니까', '잊지마 시간이 흘러도', '내게 온다면 다신 널 놓지 않아', '사랑 하나밖에 몰라', '다른 사랑할 줄 몰라', '오직 너 하나만 바라는 바보', '누가 내게 말을 해도', '너만 들리고 보이는 난 어떡해', '나는 웃는 법도 몰라', '나는 잊는 법도 몰라', '오직 너밖에 난 모르는 바보', '너무 사랑했었잖아', '정말 사랑했었잖아 ', '니가 떠나가면 난 어떡해', '기다릴게 나 여기 있을게', '마지막 사랑 난 너란 걸 아니까', '잊지마 시간이 흘러도', '내게 온다면 다신 널 놓지 않아', '차마 죽지 못해 살아', '니가 없이 하룰 살아 ', '숨도 쉴 수 없을 만큼 난 아파', '누가 내게 그러더라', '그러면서 산다더라 ', '왜 난 죽을 만큼 힘든 거니', '기다릴게 나 여기 있을게', '마지막 사랑 난 너란 걸 아니까', '잊지마 시간이 흘러도', '내게 온다면 다신 널 놓지 않아', '뒤돌아선 발걸음이', '편치만은 않았어', '이대로 그냥 가면', '다시 볼 수 없으니까', '좋았던 기억들이', '자꾸 눈에 밟혀서', '눈물이 차오르고', '발목을 붙잡지만', '여기서 끝내야 돼', '너와 나의 사랑을', '아직도 숨을 쉬는', '잊지 못할 추억들', '가슴이 너무 아파', '견딜 수가 없는데', '미안해 이 말밖에', '나는 할말이 없어 ', '돌아와줘 내 슬픈 사랑아', '가슴 쉬도록 널 부르고 있잖아', '너에게 하고픈 한마디', '너무 사랑해 이 말 너는 듣고 있니', '널 사랑해 날 두고 가지마', '마지막 사랑 난 너란 걸 아니까', '또 다른 누군가 온대도', '너 하나면 돼 다신 널 놓지 않아']\n"
          ]
        },
        {
          "output_type": "stream",
          "name": "stderr",
          "text": [
            "\r375it [2:40:49, 30.24s/it]"
          ]
        },
        {
          "output_type": "stream",
          "name": "stdout",
          "text": [
            "26\n",
            "['안녕 오랜만이야', '물음표 없이 참 너다운 목소리', '정해진 규칙처럼', '추운 문가에 늘 똑같은 네 자리', '제대로 잘 먹어 다 지나가니까', '예전처럼 잠도 잘 자게 될 거야 ', '진심으로 빌게 ', '너는 더 행복할 자격이 있어', '그런 말은 하지 마 제발', '그 말이 더 아픈 거 알잖아', '사랑해줄 거라며 다 뭐야', '어떤 맘을 준 건지 너는 모를 거야', '외로웠던 만큼', '너를 너보다 사랑해줄 사람 ', '꼭 만났으면 해', '내가 아니라서 미안해', '주는 게 쉽지가 않아', '그런 말은 하지 마 제발', '그 말이 더 아픈 거 알잖아', '사랑해줄 거라며 다 뭐야', '어떤 맘을 준 건지 끝내 모를', '솔직히 말해줄래 제발', '너라면 다 믿는 거 알잖아 ', '네 말대로 언젠가 나도', '나 같은 누군가에게', '사랑 받게 될까']\n"
          ]
        },
        {
          "output_type": "stream",
          "name": "stderr",
          "text": [
            "\r376it [2:41:06, 26.36s/it]"
          ]
        },
        {
          "output_type": "stream",
          "name": "stdout",
          "text": [
            "40\n",
            "['매일 집으로 돌아가는 ', '익숙한 골목 거리 사이', '불어온 볼 스치는 ', '차가워진 이 바람을 따라', '걷다가 네 생각이 나 잘 지내니', '많이 바쁘게 지냈나 봐 ', '너 없는 하루가 왜 그리', '느리게만 가는지 했던 게 ', '어제 일만 같은데', '어느새 까맣게 잊고 살았나 봐', '이 계절이 널 기억하고 있나 봐', '우리가 헤어진 게 이맘때였어', '그때는 왜 그렇게 ', '세상을 다 잃은 것만 같던지', '지나 지나고 보니', '흔한 이별인 듯 살아져', '너도 나처럼 어느새 잊었을까', '참 사랑했었던 애틋했던 ', '우리 사이 이젠', '남들과 같나 봐', '지나보니 알 것 같아 ', '다 내 잘못이었다는 걸', '들릴 듯 말 듯하게 ', '나 혼잣말로 미안했다며', '별일은 없는지 너를 불러봐', '이 계절이 널 기억하고 있나 봐', '우리가 헤어진 게 이맘때였어', '그때는 왜 그렇게 ', '세상을 다 잃은 것만 같던지', '지나 지나고 보니', '흔한 이별인 듯 살아져', '너도 나처럼 어느새 잊었을까', '참 사랑했었던 애틋했던 ', '우리 사이 이젠', '남들과 같나 봐', '생각보다 많이 무뎌진 것만 같아서', '조심스레 괜찮다 말해', '볼 스치는 바람 따라 ', '살며시 너를 싣고서', '이젠 보내줄래']\n"
          ]
        },
        {
          "output_type": "stream",
          "name": "stderr",
          "text": [
            "\r377it [2:41:34, 26.94s/it]"
          ]
        },
        {
          "output_type": "stream",
          "name": "stdout",
          "text": [
            "34\n",
            "['너의 집 앞에서 한참 동안 기다린 거야', '네가 오는 길에 혹시나 마주칠까 봐', '널 만나게 되면 어떤 얘길 먼저 꺼낼까', '우연히 널 만난 것처럼 보여야 할 텐데', '첫눈에 반해 널 사랑했어', '어떻게 표현할지도 몰라', '눈치도 없이 나의 심장만 두근거려', '골목을 돌아서 네가 걸어오는 게 보여', '준비한 선물과 편질 전해줘야 하는데', '용기를 낸 순간 네 곁으로 다가갔지만', '안녕이란 말만 하고서 지나쳐버렸네', '첫눈에 반해 널 사랑했어', '어떻게 표현할지도 몰라', '눈치도 없이 나의 심장만 두근거려', '너를 기다리다가 문득 행복한 상상이', '현실이 되길 기도하니까', '내 눈엔 너만 빛나고 있어 yes you', '지금 고백할 거야 나를 받아줘', '밤하늘의 별을 따서 너에게 줄래', '너는 내가 사랑하니까 더 소중하니까', '오직 너 아니면 안 된다고 외치고 싶어', '그저 내 곁에만 있어줘 떠나지 말아 줘', '그저 내 곁에만 있어줘 떠나지 말아 줘', '바보처럼 돌아서던 내 모습 뒤로', '내 이름을 부르는 목소리 바로 너였어', '나와 함께하고 싶다는 그 말을 전하고', '그렇게 우리의 사랑은 시작됐던 거야', '라라라라 랄라라랄라', '라라라 랄라라라라', '라라라 랄랄라랄라 라랄랄라', '내 곁에 있어줘', '라라라라 랄라라랄라', '라라라 랄라라라라', '라라라 랄랄라랄라 라랄랄라']\n"
          ]
        },
        {
          "output_type": "stream",
          "name": "stderr",
          "text": [
            "\r378it [2:41:58, 25.83s/it]"
          ]
        },
        {
          "output_type": "stream",
          "name": "stdout",
          "text": [
            "45\n",
            "['몇 달이 지나가도', '참 보고 싶은 너', '아름다웠지', '우리의 추억들', '지나간 시간만큼', '더 보고 싶어져', '소용이 없단 걸', '이젠 알고 있지만', '사랑했고', '미안했었어', '익숙해진 마음에', '잠시 미쳤었나 봐', '너에게 못해준 게 많아서', '미련이 남았나 봐', '이기적이게 또', '너에게 전화를 걸어', '눈치 없는 거 알지만', '정말 후회하고 있어', '미안해 내가 미안해', '진심이야', '예민했었나 봐', '별것도 아니었는데', '매번 난 그랬나 봐', '서로 다른 것뿐인데', '힘이 들었었나 봐', '지겨웠었나 봐', '너에게 못해준 게 많아서', '미련이 남았나 봐', '이기적이게 또', '너에게 전화를 걸어', '눈치 없는 거 알지만', '정말 후회하고 있어', '미안해 내가 미안해', '진심이야', '헤어지고 나면', '마음이 더 커진다는 말', '안 믿었었는데 정말', '너에게 못해준 게 많아서', '미련이 남았나 봐', '이기적이게 또', '전화를 걸어', '눈치 없게 내 마음이', '다시 너를 찾고 있어', '미안해 내가 미안해', '진심이야']\n"
          ]
        },
        {
          "output_type": "stream",
          "name": "stderr",
          "text": [
            "\r379it [2:42:29, 27.39s/it]"
          ]
        },
        {
          "output_type": "stream",
          "name": "stdout",
          "text": [
            "38\n",
            "['넌 잘 지냈니', '오랜만야 익숙한 네 목소리', '넌 아무렇지도 않게 내게 인사해', '꽤 시간이 흘러서 넌 편해졌나봐', '나만 널 잊지를 못했나봐', '남 얘기하듯이 그때 그랬지 하며', '내가 좋아했었던 그 웃음 지으면', '어떡해', '사랑했던 우리가 어떻게 친구가 되니', '너는 행복했는지 잊었나봐', '내맘 흔들지 말고', '내가 좋아한 웃음 짓지말고', '그냥 지나가', '난 너와는 달라', '우리가 어떻게 친구가 되니', '다른 사람 생겼냐고 내가 물었을땐', '이미 넌 대답을 했던것 같아', '남 얘기하듯이 그때 그랬지 하며', '날 사랑할때의 그 눈빛 으로 날 보면', '어떡해', '사랑했던 우리가 어떻게 친구가 되니', '너는 행복했는지 잊었나봐', '내맘 흔들지 말고', '내가 좋아한 웃음 짓지말고', '그냥 지나가', '난 너와는 달라', '우리 헤어지던 날까지 싸웠었지만', '좋았던 기억이 많아서', '이렇게 널 그리워 하나봐', '난 힘들어 편하게', '널 대할 자신이 없어', '우린 미치도록 사랑했잖아', '내가 좋아한 웃음 지으며', '내맘 흔들지 말고', '가끔 이라도 전화 하지마', '난 안돼 친구가', '난 너와는 달라', '우리가 어떻게 친구가 되니']\n"
          ]
        },
        {
          "output_type": "stream",
          "name": "stderr",
          "text": [
            "\r380it [2:42:55, 27.09s/it]"
          ]
        },
        {
          "output_type": "stream",
          "name": "stdout",
          "text": [
            "34\n",
            "['용기 내어보려 노력했는데', '왜 네 앞에서는 다 어색해지고', '꽤 자연스럽던 내 인사마저도', '마음대로 되지가 않아', '그저 웃어주는 널 바라보면', '아무 이유 없이 행복해져', '늘 서툴렀었던 내 못난 표현에도', '따뜻하게 안아주었어', '널 좋아한다 말하고', '집에 돌아가는 길에', '너의 얼굴이 자꾸 떠올라', '나도 몰래 설레였어', '누구보다 널 위해 많이 노력하고 있어', '뒤돌아보면 언제나 그랬듯', '서있을 거야', '우리 잠시라도 마주칠 때면', '괜히 너의 눈을 피하게 돼', '잘 몰랐었던 너의 작은 오해에도', '하루 종일 고민했었어', '널 좋아한다 말하고 집에 돌아가는 길에', '너의 얼굴이 자꾸 떠올라', '나도 몰래 설레였어', '누구보다 널 위해 많이 노력하고 있어', '뒤돌아보면 언제나 그랬듯', '서있을 거야', '아마도 많이 달라졌었겠지', '네가 없었다면 나는 지금 어땠을까', '우리 조금 달랐을까', '좋아한다 말하고 집에 돌아가는 길에', '너의 얼굴이 자꾸 떠올라', '나도 몰래 설레였어', '누구보다 널 위해 많이 노력하고 있어', '뒤돌아보면 언제나 그랬듯', '서있을 거야']\n"
          ]
        },
        {
          "output_type": "stream",
          "name": "stderr",
          "text": [
            "\r381it [2:43:18, 25.86s/it]"
          ]
        },
        {
          "output_type": "stream",
          "name": "stdout",
          "text": [
            "74\n",
            "['애써 너에게 건냈던 말 good bye', '이젠 혼자 남게된 이 밤 without you', \"난 아직도, I'm officially \", 'missing you', '널 기다리던 밤처럼', '길고 어둡던 우리 사이 공백', '이게 끝이 아니길 바래', 'I wanna go back', '너가 원하던 거', '다 고친 지금에야', '넌 어디로 갔는지', '난 홀로 남아 lonely', '오늘 따라 부는 바람도', '참 시린 것 같은데', '넌 왜이리 멀쩡해 보이는 건지', '눈치도 없는 너지만', '예전처럼만 웃어주면 돼', \"Ooo can't nobody do it like you\", 'Said every little thing you do', 'Hey baby say it', 'stays on my mind', \"And I I'm officially missing you\", '나에겐 너 하나뿐인 걸', '너 땜에 아파하는 걸', '널 잊으려고 노력해봐도 잘 안돼', '널 미워하는 건', 'too hard 너무 어려워', '날 몰라주는 너도 서러워', \"I'm officially missing you\", 'officially missing you', \"yeah I'm officially missing you, too\", '내가 아무 말도 하지 못한 이유', '우리 사이 공백은 너무 길고', '어떤 단어보다 너가 meaningful', 'on another round', '더 멀어져 가며 흘러가는', '어색했던 오늘 하루가', '내겐 아쉽고 어제로 남아있어', '이 밤이 지나도 아직도 여기 있어', '여전히 내 머릿속 너 때문에', '늘 뒤척거리는 매일 밤 ', '내 마음만 더 지쳐가', '가로등 불은 거릴 비춰', '흔들거리는 속을 변기 위에 비워', '어 아무리 속을 비워도', '남은 추억으로 취해 어지럽고', 'girl 난 아직 기댈 곳이 필요해', 'so 이 노래로 너를 씻어내', '습관처럼 그리워해', '날 보며 웃는 니 사진을', '내 두 눈에 담고 미소를 지으면', '다시 할 수 있을까 oh 그날처럼', '나에겐 너 하나뿐인 걸', '너 땜에 아파하는 걸', '널 잊으려고 노력해봐도 잘 안돼', '널 미워하는 건', '추억 속 너에겐 못된 일이라', '난 할 수가 없어', '이렇게 널 그리워하는 날', '알고 있는지', '나에겐 너 하나뿐인 걸', '너 땜에 아파하는 걸', '널 잊으려고 노력해봐도 잘 안돼', '널 미워하는 건', 'too hard 너무 어려워', '날 몰라주는 너도 서러워', \"I'm officially missing you\", 'officially missing you', \"can't nobody do it like you\", 'Said every little thing you do', 'Hey baby say it', 'stays on my mind', 'And I', \"I'm officially missing you\"]\n"
          ]
        },
        {
          "output_type": "stream",
          "name": "stderr",
          "text": [
            "\r382it [2:44:07, 32.85s/it]"
          ]
        },
        {
          "output_type": "stream",
          "name": "stdout",
          "text": [
            "35\n",
            "['난 아무렇지 않은 척', '똑같은 하루를 보내', '이젠 혼자인 게 편하다 농담도 해', '너를 잃은 후에야', '난 알 것만 같아', '네 곁에서 난 행복했어', '그래 어쩔 수 없나 봐', '사랑은 다 이런가 봐', '숨을 쉴 때마다 네가 또 생각나', '매일 후회만 했어', '네가 없이는 안되겠어', '너에게 못해준 게 난 많이 있는데', '넌 아무렇지 않은 듯이 살 수 있나 봐', '난 아무렇지 않은척해 봐도 죽을 것 같아', '못 견디게 그립고 셀 수 없이 보고 싶어', '혹시라도 돌아올까 봐 아직도 나는 너만 기다려', '난 네가 미워질 만큼', '널 사랑하고 있나 봐', '하루 종일 너만 그리고 있잖아', '이런 나의 마음을', '왜 이제야 알게 된 걸까', '후회하고 후회하면 돌아와 줄까', '넌 아무렇지 않은 듯이 살 수 있나 봐', '난 아무렇지 않은척해 봐도 죽을 것 같아', '못 견디게 그립고 셀 수 없이 보고 싶어', '혹시라도 돌아올까 봐 아직도 나는 너만 기다려', '가슴속 깊게 새겨진 ', '너의 이름만 불러보다가', '한참을 울었어 언제쯤 널 잊고 살 수 있을까', '못 하겠어', '너는 지울 수 있나 봐', '난 네가 없인 단 하루도 살아갈 수가 없어', '내게 돌아와 줘', '못 견디게 그립고 셀 수 없이 보고 싶어', '혹시라도 돌아올까 봐 아직도 나는 너만 기다려']\n"
          ]
        },
        {
          "output_type": "stream",
          "name": "stderr",
          "text": [
            "\r383it [2:44:31, 30.02s/it]"
          ]
        },
        {
          "output_type": "stream",
          "name": "stdout",
          "text": [
            "30\n",
            "['다시 너를 볼 수 있을까', '이렇게 너의 집까지 오고만 거야', '넌 나를 떠나도 매일 널', '바래다준 습관 눈물로 남아서', '소리 없이 끊는 전화에', '몸서리치게 네 모습 더욱 그리워', '너의 그 따뜻한 목소리', '이젠 더 이상은 내 것이 아닌데', '잊었니 너와 나 사랑했던 날 모두', '이젠 너의 기억 저 멀리', '잠든 추억인 거니', '아직도 널 잊지 못해 견딜 수 없어', '눈물로 하루를 삼키는 내게', '제발 다시 돌아올 수 없겠니', '너 없는 세상 어디에서도', '숨 쉴 수 없는 날 위해', '들어줄 넌 곁에 없지만', '가만히 너의 이름을 혼자 불러봐', '어쩌면 예전에 그랬듯', '네가 대답해 줄까 하는 미련에', '잊었니 너와 나 사랑했던 날 모두', '이젠 너의 기억 저 멀리', '잠든 추억인 거니', '아직도 널 잊지 못해 견딜 수 없어', '눈물로 하루를 삼키는 내게', '제발 다시 돌아올 수 없겠니', '너 없는 세상 어디에서도', '숨 쉴 수 없는 날 위해', '날 위해', '돌아와']\n"
          ]
        },
        {
          "output_type": "stream",
          "name": "stderr",
          "text": [
            "\r384it [2:44:52, 27.27s/it]"
          ]
        },
        {
          "output_type": "stream",
          "name": "stdout",
          "text": [
            "95\n",
            "['Wanna be loved', \"Don't wanna be fool wanna \", 'be cool wanna be loved ', '너와의 same love', 'Baby I want it', '니가 올리는 모든 사진마다', '좋아요 남발하는 처음 보는 ', '저 남자 누구야 ', '아 맞다 나 이제 남자친구 아니지', '자연스레 니 번호 눌렀잖아', '전화나 카톡하자니 꼭 ', '지는 것 같고', '뭐라도 안 하면 날 신경도 안 ', '쓸 것 같어', '왜 싫어요 버튼은 없는데', '싫어 저 삼십 몇 명 중 하나가 ', '되는 게', '여기도 좋다고 저기도 좋다고', '한번만 놀자고 왜 그리 곱냐고', 'Uh f**k that all stupid ', 'b*******s', '이젠 내 꺼도 아닌데 왜 ', '뺏기는 것 같은지', '하하 넌 나 없이 참 잘 사네', '눈꼴 시려우니까 노는 것 좀 살살해', '목까지 올라온 저주를 삼키고', '오늘도 좋아요를 누르지 shit', '넌 남이 되고 오히려 더 좋아 보여 ', 'pretty woman ', 'Yeah Yeah Yeah Yeah', '오 얄밉게도 여전히 넌 좋아 보여 ', 'pretty woman', 'Oh pretty woman', \"Don't wanna be fool wanna \", 'be cool wanna be loved ', '너와의 same love', \"I know it's over\", \"Don't wanna be fool wanna \", 'be cool wanna be loved ', '너와의 same love', 'Baby I want it', '친구 놈이 누른 좋아요로', '보이는 니 얼굴은 훨씬 좋아 보여', '새 남친과 찍은 사진 속 tag tag', '덕분에 추억 속으로 난 ', 'backspace', '그 세상은 어느새 다들 ', '멈춰있는데', '난 왜 여전히 그 시간에 ', '걸쳐있는데 ', 'Ha 넌 내 생각을 할까 할까 ', '고민하며 좋아요를 누를까 말까', '수십 번을 반복해', '너의 마음은 마치 단두대처럼', '나를 싹둑 가차없이 잘라냈지만', '난 도깨비 감투 몰래 다가가', '너의 일상생활을 맨날 보네', '그때마다 머릿속은 백팔번뇌', 'Oh shit 내 생각은 할까 할까 ', '고민하며 좋아요를 누르지 말자', '넌 남이 되고 오히려 더 좋아 보여 ', 'pretty woman ', 'Yeah Yeah Yeah Yeah', '오 얄밉게도 여전히 넌 좋아 보여 ', 'pretty woman', 'Oh pretty woman', \"Don't wanna be fool wanna \", 'be cool wanna be loved ', '너와의 same love', \"I know it's over\", \"Don't wanna be fool wanna \", 'be cool wanna be loved ', '너와의 same love', 'Baby I want it', '너 요즘에 어떻게 지내고 있나 ', '궁금해 보니 좋아요가 빛나', '나 없이 잘 사는 니가', '왜 생각났지 찾아온 건 한심만 더 ', '나도 누르고 갈게 니 글 위에 ', '난 요즘 너 없이 이렇게 지내 ', 'Know you want it ', '넌 남이 되고 오히려 더 좋아 보여 ', 'pretty woman ', 'Yeah Yeah Yeah Yeah', '오 얄밉게도 여전히 넌 좋아 보여 ', 'pretty woman', 'Oh pretty woman', \"Don't wanna be fool wanna \", 'be cool wanna be loved ', '너와의 same love', \"I know it's over\", \"Don't wanna be fool wanna \", 'be cool wanna be loved ', '너와의 same love', 'Baby I want it']\n"
          ]
        },
        {
          "output_type": "stream",
          "name": "stderr",
          "text": [
            "\r385it [2:45:56, 38.32s/it]"
          ]
        },
        {
          "output_type": "stream",
          "name": "stdout",
          "text": [
            "46\n",
            "['그럴려고 그랬어 돌아가려고', '너의 차가움엔', '그래 다 이유 있었던거야', '나를 만지는 너의 손길 없어진', '이제야 깨닫게 되었어', '내 맘 떠나간 것을', '설마 하는 그런 미련 때문에', '그래도 나는 나를 위로해', '이제 이러는 내가 더 가여워', '이제라도 널 지울꺼야', '기억의 모두를', '이제 다시 사랑안해', '말하는 난 너와 같은사람', '다신 만날 수가 없어서', '사랑할수 없어서', '바보처럼 사랑안해', '말하는 널 사랑한다', '나를 잊길바래 나를 지워줘', '바보처럼 몰랐어', '너희 두사람', '아직 기억하려던 그건', '그래 다 욕심이야', '다짐했건만', '매일 아침 눈을 떠', '지나간 너에게 기도해', '나를 잊지말라고', '제발 지금 내가 바라는 하나', '내 얘길 너무 쉽게하진마', '차라리 나를 모른다고 말해줘', '시간 지나 알게 될꺼야', '내 사랑의 가치를', '이제 다신 사랑 안해', '말하는 난 너와 같은 사람', '다신 만날 수가 없어서', '사랑할 수 없어서', '바보처럼 사랑안해', '말하는 널 사랑한다', '나를 잊길바래 나를 지워줘', '내가 없는 내가 아닌 그 자리에', '사랑 채우지마', '혹시 만날 수가 있다면', '사랑할 수 있다면', '아프잖아 사랑한다', '지켜보며 사랑한다', '그 말 한마디를 하지 못해서', ' ']\n"
          ]
        },
        {
          "output_type": "stream",
          "name": "stderr",
          "text": [
            "\r386it [2:46:27, 36.33s/it]"
          ]
        },
        {
          "output_type": "stream",
          "name": "stdout",
          "text": [
            "34\n",
            "['한걸음 걸어가죠', '니 모습 눈물에 가리죠', '내 눈물 밟으며 가까이 가까이', '다가오는 너', '초라한 내 모습이', '니 마음 아프게 할까 겁나', '숨죽여서 나 울고 있죠', '꿈꾸는 듯 아름다운 내 사랑', '점점 멀어지죠', '나 니가 없는 이 세상에', '시간에 혼자 살아', '사는 게 사는 것이 아니라도', '늘 그 자리에 눈 감는 날까지 나 영원히', '너를 기다릴게', '지우려 애를 써도', '가슴에 니가 매일 얹혀서', '너를 계속 나 찾아가죠', '내 사랑이 짐이 될까 두렵죠', '못난 내가 밉죠', '나 니가 없는 이 세상에', '시간에 혼자 살아', '사는 게 사는 것이 아니라도', '늘 그 자리에 눈 감는 날까지 나 영원히', '기다릴게', '나 니가 없는 이 세상에', '시간에 혼자 살아', '매일 널 기다리다 지쳐가도', '끝내 네게 나 못한 말', '울음부터 나왔던 말', '널 사랑한다 사랑한다 끝내 못한 말', '나 니가 없는 이 세상에 시간에 추억에', '살아도 사는 것이 아니라도', '늘 그 자리에 눈 감는 날까지', '나 영원히 너만 사랑할게']\n"
          ]
        },
        {
          "output_type": "stream",
          "name": "stderr",
          "text": [
            "\r387it [2:46:52, 32.69s/it]"
          ]
        },
        {
          "output_type": "stream",
          "name": "stdout",
          "text": [
            "43\n",
            "['아프던 너의 이름도', '이제는 미련이 아냐', '하얗게 잊어버린 듯 살다가', '또 한 번 마주치고 싶은 우연이지', '낮게 부는 바람결이,', '희미한 계절의 기척이', '내게는 전혀 낯설지 않아', '혹시나 하는 마음에 손을 뻗어보네', '봄, 그대가 내게', '봄이 되어 왔나 봐', '따스하게 내 이름 불러주던', '그 목소리처럼', '아마 잘 지낸다는', '다정한 안부인가 봐', '여전히 예쁘네', '안녕, 안녕', '나란히 걷던 거리에', '어느새 핀 꽃 한 송이', '모른 척 걸음을 서두르다가', '혹시나 하는 마음에 문득', '봄, 그대가 내게', '봄이 되어 왔나 봐', '가득 차게 두 뺨을', '반짝이던 편한 웃음처럼', '아마 잘 지낸다는', '다정한 안부인가 봐', '여전히 예쁘네', '안녕', '매일 다른 길목에', '우리 마주칠 수 있도록', '나 부지런히 걸어가요', '이렇게 기다릴게요', '또 그대가 나를', '안아 주고 있나 봐', '아무 말 없이', '그 품을 내어주던', '지난날들처럼', '더 잘 지내라는 ', '다정한 인사인가 봐', '모르지 않을게', '내가 먼저 그대', '알아볼게 이렇게', '안녕']\n"
          ]
        },
        {
          "output_type": "stream",
          "name": "stderr",
          "text": [
            "\r388it [2:47:21, 31.86s/it]"
          ]
        },
        {
          "output_type": "stream",
          "name": "stdout",
          "text": [
            "37\n",
            "['늦은저녁 하루를보내고', '찬바람에 창문을 닫으니', '아득하게 조용한 방에서', '아주 작은 조명하나를 켜놓고', '어둑해진 밖을 바라보니', '문득 너무도 슬퍼지네', '매일듣는 노래 LIST 엔', '하나같이 다 우리얘기뿐', '이별은 모두 다 같으니까 ', '다시 조심스럽게 행복했던 날', '아름답던 너를 그려보니', '나도모르게 눈물이 나네', '그리워 그리워 니가 ', '너무나 그리워서', '보고싶어서', '잊고싶지않아서 ', '잊을수가 없어서', '못해준게 너무 많아서', '더 그리워', '너무나도 사랑했었기에', '아름답게 우린 헤어졌어', '현실안에 서로를 위해서 알아', '어차피 우린 안될걸', '누구보다 잘 알지만', '왜이렇게도 눈물이 나는건지', '그리워 그리워 ', '니가 너무나 그리워서', '보고 싶어서', '잊고 싶지않아서 ', '잊을 수가 없어서', '못해준게 너무 많아서', '그리워 그리워 ', '니가 너무나 그리워서', '보고싶어서', '정말 널 잊고 싶지 않아서', '널 다시 붙잡고 싶어서', '지금 너무나 난 니가 그리워']\n"
          ]
        },
        {
          "output_type": "stream",
          "name": "stderr",
          "text": [
            "\r389it [2:47:48, 30.18s/it]"
          ]
        },
        {
          "output_type": "stream",
          "name": "stdout",
          "text": [
            "29\n",
            "['아무리 기다려도 난 못가 ', '바보처럼 울고 있는 너에 곁에 ', '상처만 주는 나를 왜 모르고 ', '기다리니 떠나가란 말야 ', '보고싶다~~보고 싶다~~ ', '이런 내가 미워질만큼~~ ', '울고 싶다~~ 네게 무릎 꿇고 ', '모두 없던일이 될수 있다면 ', '미칠듯 사랑했던 기억이 ', '추억들이 너를 찾고 있지만 ', '더 이상 사랑이란 변명에 ', '너를 가둘수 없어 ', '이러면 안되지만.. ', '죽을만큼 보고 싶다. ', ' ', '보고싶다~~ 보고 싶다~~ ', '이런 내가 미워질만큼~~ ', '믿고 싶다 옳은 길이라고 ', '너를 위해 떠나야만 한다고 ', '미칠듯 사랑했던 기억이 ', '추억들이 너를 찾고 있지만 ', '더 이상 사랑이란 변명에 ', '너를 가둘수 없어 ', '이러면 안되지만 ', '죽을만큼 보고 싶다. ', ' ', '죽을 만큼 믿고 싶다~~~~ ', ' ', ' ']\n"
          ]
        },
        {
          "output_type": "stream",
          "name": "stderr",
          "text": [
            "\r390it [2:48:08, 27.19s/it]"
          ]
        },
        {
          "output_type": "stream",
          "name": "stdout",
          "text": [
            "38\n",
            "['조금은 괜찮다 생각했는데', '이제는 잊혀질 때도 됐는데', '아무렇지 않다가도 그대가 없단 게', '아직 나에겐 어색한 걸까', '벅차도록 행복했던 그때가 그리워서', '추억이 녹아든 거릴 혼자 걸을 때면', '자꾸만 눈앞에 그대가', '선명히 보이네요', '그댄 아직도 왜', '내 맘속에 살고 있나요', '지금 그대는 나 없이도 행복하나요', '조금은 그대도 나처럼 아프긴 하나요', '아직 난 이별이 서투네요', '하나도 괜찮지가 않네요', '오늘따라 더 미운 그대가', '너무 보고 싶죠', '지워보려 애를 쓰고 아무리 외면해도', '추억은 더욱 아름답게 짙어져 가네요', '견뎌온 시간만큼', '더욱더 아픔이 커지네요', '그댄 아직도 왜', '내 맘속에 살고 있나요', '지금 그대는 나 없이도 행복하나요', '조금은 그대도 나처럼 아프긴 하나요', '아직 난 이별이 서투네요', '하나도 괜찮지가 않네요', '오늘따라 더 미운 그대가', '너무 보고 싶죠', '달랠 길 없는 이 마음을 어떡하나요', '난 아직도 그댈 사랑하는데', '지금 그대는 이런 나를 알고 있나요', '하루하루를 추억 속에 살고 있네요', '아직 난 모든 게 서투네요', '괜찮지가 않아요', '오늘따라 더 미운 그대가', '너무 보고 싶죠', '오늘따라 행복할 그대가', '너무 미워요']\n"
          ]
        },
        {
          "output_type": "stream",
          "name": "stderr",
          "text": [
            "\r391it [2:48:34, 26.95s/it]"
          ]
        },
        {
          "output_type": "stream",
          "name": "stdout",
          "text": [
            "33\n",
            "['그렇게 많이 사랑한다 했는데', '이제야 사랑을 알 것 같아요', '부탁이 있어 제발 용서 마세요', '오늘 난 당신을 버리려고 해', '제발 얼굴을 들어봐요', '나를 위해서 참아왔던 아픈', '사랑으로 나를 잡아줘요', '단 하나의 그 하나로', '사랑하고 싶었던', '그 아픈 약속과 눈물들이', '가슴속 멍으로 남겠지만', '난 떠나요', '이제 돌아오지 못할 거예요', '난 사랑에 목이 마르겠지요', '그대는 항상 미안하다고 했죠', '지금도 눈물을 참고 있나요', '나를 위해 울지 마세요', '나를 사랑하며 참아온 모든', '이 상처를 오늘 다 버려요', '단 하나의 그 하나로', '사랑한다 했었던', '그대의 약속과 눈물들이', '다시 또 나를 울리겠지만', '괜찮아요', '날 위해 슬퍼하지 마세요', '이젠 나를 사랑하지 마요', '오직 하나의 그 하나로', '사랑하자 했었던', '우리의 약속과 추억들이', '가슴속 상처로 남을 거야', '난 떠나요', '이제 돌아오지 못할 거예요', '난 사랑에 목이 마르겠지요']\n"
          ]
        },
        {
          "output_type": "stream",
          "name": "stderr",
          "text": [
            "\r392it [2:48:58, 25.89s/it]"
          ]
        },
        {
          "output_type": "stream",
          "name": "stdout",
          "text": [
            "39\n",
            "['사랑해 그 말은 무엇보다 아픈 말 ', '숨죽여서 하는 말 ', '이젠하기 힘든 말 ', 'Oh 햇살이 밝은 아침보다 ', '밤의 달빛이 어울려요 ', '이별의 그 입맞춤 ', '잠시 접어둔 채 이대로 이렇게 ', '힘껏 안아줄께 널 그리고 말할께 ', '나 이렇게 너를 외치면서 ', 'My Love ', '넌 보지 못할 내 마지막 눈물 ', '힘껏 안아줄께 널 그리고 보낼께 ', '나 또 한번 너를 외치면서 ', 'My Love ', '넌 듣지 못할 사랑한단 내 말 ', '괜찮아 그 말은 안쓰러운 거짓말 ', '애쓰면서 웃어도 ', '우린 그저 눈물만 ', 'Oh 햇살이 밝은 아침보다 ', '밤의 달빛이 어울려요 ', '이별의 그 입맞춤 ', '잠시 접어둔 채 이대로 이렇게 ', '힘껏 안아줄께 널 그리고 말할께 ', '나 이렇게 너를 외치면서 ', 'My Love ', '넌 보지 못할 내 마지막 눈물 ', '힘껏 안아줄께 널 그리고 보낼께 ', '나 또 한번 너를 외치면서 ', 'My Love ', '넌 듣지 못할 사랑한단 내 말 ', '힘껏 안아줄께 널 그리고 말할께 ', '나 이렇게 너를 외치면서 ', 'My Love ', '넌 보지 못할 내 마지막 눈물 ', '힘껏 안아줄께 널 그리고 말할께 ', '나 이렇게 너를 외치면서', 'My Love ', '넌 듣지 못할 사랑한단 내 말', 'My Love']\n"
          ]
        },
        {
          "output_type": "stream",
          "name": "stderr",
          "text": [
            "\r393it [2:49:25, 26.19s/it]"
          ]
        },
        {
          "output_type": "stream",
          "name": "stdout",
          "text": [
            "25\n",
            "['Oh 달링 떠나가나요', '새벽별빛 고운 흰눈 위에 떨어져', '발자국만 남겨두고 떠나가나요', '크리스마스 저녁 명동거리', '수많은 연인들 누굴 약 올리나', '갑자기 추억들이 춤을 추네', '보고 싶다 예쁜 그대 돌아오라', '나의 궁전으로', '바람 불면 어디론가 떠나가는', '나의 조각배야', '갑자기 추억들이 춤을 추네', '쇼 윈도우 비친 내 모습', '인간이 아냐 믿을 수 없어', '밤하늘 보름달만 바라보네', '보고 싶다 예쁜 그대 돌아오라', '나의 궁전으로', '바람 불면 어디론가 떠나가는', '나의 조각배야', '생각해 보면 영화 같았지', '관객도 없고 극장도 없는', '언제나 우리들은 영화였지', '보고 싶다 예쁜 그대 돌아오라', '보고 싶다 예쁜 그대 돌아오라', '나의 궁전으로', '갑자기 추억들이 춤을 추네']\n"
          ]
        },
        {
          "output_type": "stream",
          "name": "stderr",
          "text": [
            "\r394it [2:49:42, 23.48s/it]"
          ]
        },
        {
          "output_type": "stream",
          "name": "stdout",
          "text": [
            "76\n",
            "['내 심장이 내 사랑이  ', '멈출 것 같아도 ', '나 지금 아파 열이나  ', '숨도 못 쉬어 ', '멍든 가슴은 니 이름만 외쳐 ', \"I Can't Believe That It's Over \", '너라는 여자 남에게는 못 줘 ', '내 사랑은 단 하루도 못 쉬어 ', '내 가슴은 너 없이는 못 뛰어 ', '너 없이는 뭘 할 수 있겠어 ', \"I Can't Believe that it's over \", \"I can't never let you go \", 'That you why you  ', 'got to know ', '지쳐 쓰러질 때까지 나  ', '사랑을 원하고 ', '이젠 제발 날 사랑해줘 ', '하나뿐인 Girl Friend  ', \"Let's begin \", '다시 시작해 Till the end', '사랑해 세월이 지나도 ', '널 사랑해 세상이 변한대도 ', '다른 누구도 널 대신 할 수 없어 ', '너도 알고 있잖아 ', '내 사랑은 단 하루도 못 쉬어 ', '너 없이 난 한 순간도 못살아 ', '니가 있어야만 난 숨을 쉬어 ', '영원히 언제까지나 사랑해 ', 'Please 내 사랑은 Emergency ', '돌아와 Give me one more  ', 'chance to me ', '우린 떼어낼 수 없는 Man to be ', 'Please 내 사랑은 Emergency ', '돌아와 Give me one more  ', 'chance to me ', '우린 떼어낼 수 없는 Man to be ', '제발 나만 선택해 Make it Hot ', '우리 사랑이 불타 버리게 ', '너를 못 보는 것보다 ', '차라리 담배를 끊는 게 편해 ', '이젠 제발 날 사랑해줘 ', '하나뿐인 Girl Friend  ', \"Let's begin \", '다시 시작해 Till the end', '널 사랑해 세월이 지나도 ', '널 사랑해 세상이 변한대도 ', '다른 누구도 널 대신 할 수 없어 ', '너도 알고 있잖아 ', '내 사랑은 단 하루도 못 쉬어 ', '너 없이 난 한 순간도 못살아 ', '니가 있어야만 난 숨을 쉬어 ', '영원히 언제까지나 사랑해 ', '심장이 멈출 것 같아도 ', '심장이 멈출 것 같아도 ', '내 사랑 너와 나 이대로 ', '내 사랑 너와 나 이대로 ', '고마워 날 사랑해 줘서 ', '고마워 날 웃게 해줘서', '내 심장이 내 사랑이  ', '멈출 것 같아도 ', '나의 눈이 아닌 내  ', '가슴으로 하는 말 ', '언제까지나 널 사랑해 ', '십 년이 지나도 ', '그대 밤을 비추는 저 별처럼 ', '다시 한번 태어나더라도 ', '그렇게 난 그대만을 사랑해 ', 'Back Back I want it back ', '힘이 될 사랑을 지켜줘 ', 'You you you got to know ', '너만을 위해 I need your Love ', 'Back Back I want it back ', '힘이 될 사랑을 지켜줘 ', 'You you you got to know ', '너만을 위해 I need your Love ', '사랑해']\n"
          ]
        },
        {
          "output_type": "stream",
          "name": "stderr",
          "text": [
            "\r395it [2:50:33, 31.90s/it]"
          ]
        },
        {
          "output_type": "stream",
          "name": "stdout",
          "text": [
            "32\n",
            "['자꾸만 연락을 피하고 ', '바쁘다며 약속을 미루고', '점점 변해가는 네 모습 무심한 말투 ', '조금씩 넌 반대로 가고 있어', '다급했던 이별의 순간들 ', '아직도 난 거짓말 같아서', '아름답게 웃던 네 모습 ', '볼 수 없다고 생각하면 ', '미칠 듯 아픈데 자꾸만 생각이나', '너무나도 사랑했었고 ', '그런 내겐 전부였는데 ', '이젠 너와 난 반대로 살고 있나 봐 ', '사랑해 너밖에 없단 말 ', '그 말 너무나도 그리워서 ', '너를 보낼 수가 없나 봐 너를', '저 멀리 보이는 네 모습 ', '웃고 있는 넌 잘 지냈나 봐', '찾아가지 말걸 그랬어 ', '믿고 싶었는데 ', '영화 같은 일 내겐 없나 봐 ', '나를 다 잊은 거니', '너무나도 사랑했었고 ', '그런 내겐 전부였는데 ', '이젠 너와 난 반대로 살고 있나 봐 ', '사랑해 너밖에 없단 말 ', '그 말 너무나도 그리워서 ', '너를 보낼 수가 없나 봐 ', '행복해 보여 나 없이도 잘 지내는데 ', '어떻게 난 널 잊고 살 수 있을까', '웃으며 내 품에 안긴 너 ', '너의 모습이 죽을 만큼 그리워서 ', '보낼 수가 없잖아 너를']\n"
          ]
        },
        {
          "output_type": "stream",
          "name": "stderr",
          "text": [
            "\r396it [2:50:55, 28.73s/it]"
          ]
        },
        {
          "output_type": "stream",
          "name": "stdout",
          "text": [
            "41\n",
            "['좋았나봐 널 많이 아꼈나봐', '다시 못견디게 아픈걸 보니', '가슴에서 자꾸만 열이 나고', '널 떠올릴때마다 그리움이 흘러', '숨겨봐도 그게 잘 안되나봐', '이별 앓고있는 날 다 아는걸', '씩씩한척 강한척 하는 내가', '웃는 눈빛마저도 우는것 ', '같아 보인대', '우리 정말 사랑하긴 했을까', '느낄 수가 없잖아', '작고 좁은 나의 세상속에 ', '살던 넌 ', '행복하긴 했을까', '우리 닮은 지난 추억이 ', '초라한 내 앞이라 더 눈부셔', '너 있는 곳 너무 멀어 ', '다가갈 수 없어', '헤어져도 보내지 못하나봐', '니가 돌아와줄 것만 같아서', '시간가면 잊을수 있을꺼란 ', '굳은 다짐해봐도 ', '매일 널 찾아 헤매는데', '우리 정말 사랑하긴 했을까', '믿을 수가 없잖아', '좋은 사람으로 니 가슴에 내 모습 ', '남긴 했을까', '니가 곁에 없는 나보다 ', '내가 없는 니가 더 두려워', '나를 지우고 쉽게 또 사랑 할까봐', '지키지 못할 약속들 ', '그땐 왜 그렇게 많이 했는지', '아직도 너를 위해 난 주고 ', '싶은게 많은데', '우리 정말 사랑하긴 했을까', '느낄 수가 없잖아', '작고 좁은 나의 세상속에 살던 넌 ', '행복하긴 했을까', '니가 곁에 없는 나보다 ', '내가 없는 니가 더 두려워', '니 사랑이 마지막이 될까봐 ']\n"
          ]
        },
        {
          "output_type": "stream",
          "name": "stderr",
          "text": [
            "\r397it [2:51:23, 28.53s/it]"
          ]
        },
        {
          "output_type": "stream",
          "name": "stdout",
          "text": [
            "33\n",
            "['우리 서로 사랑했는데', '우리 이제 헤어지네요', '같은 하늘 다른 곳에 있어도', '부디 나를 잊지 말아요', '차가운 바람이 손끝에 스치면', '들려오는 그대 웃음소리', '내 얼굴 비치던 그대 두눈이', '그리워 외로워 울고 또 울어요', '입술이 굳어버려서', '말하지 못했던 그 말', '우리 서로 사랑했는데', '우리 이제 헤어지네요', '같은 하늘 다른 곳에 있어도', '부디 나를 잊지 말아요', '눈물이 입을 가려서', '말하지 못했던 그 말', '우리 서로 사랑했는데', '우리 이제 헤어지네요', '같은 하늘 다른 곳에 있어도', '부디 나를 잊지 말아요', '혹시 알고 있나요', '뒤돌아서 가슴 쥐고', '그댈 보내주던 그 사람', '그 사람이 바로 나에요', '그 사람을 사랑해줘요', '같은 하늘 다른 곳에 있어도', '언젠가는 돌아와줘요', '우리 서로 사랑했는데', '우리 이제 헤어지네요', '같은 하늘 다른 곳에 있어도', '부디 나를 잊지 말아요', '부디 나를 잊지 말아요', ' ']\n"
          ]
        },
        {
          "output_type": "stream",
          "name": "stderr",
          "text": [
            "\r398it [2:51:46, 26.95s/it]"
          ]
        },
        {
          "output_type": "stream",
          "name": "stdout",
          "text": [
            "25\n",
            "['천번이고 다시 태어난 데도', '그런 사람 또 없을테죠', '슬픈 내 삶을 따뜻하게 해준', '참 고마운 사람입니다', '그런 그댈 위해서 나의 심장 쯤이야', '얼마든 아파도 좋은데', '사랑이란 그 말은 못해도', '먼곳에서 이렇게 바라만 보아도', '모든걸 줄수 있어서 사랑 할수 있어서', '난 슬퍼도 행복 합니다', '나 태어나 처음 가슴 떨리는', '이런 사랑 또 없을테죠', '몰래 감추듯 오랜 기억속에', '단 하나의 사랑 입니다', '그런 그댈 위해서 아픈 눈물 쯤이야', '얼마든 참을수 있는데', '사랑이란 그말은 못해도 먼곳에서', '이렇게 바라만 보아도', '모든걸 줄수 있어서 사랑할수 있어서', '난 슬퍼도 행복 합니다', '아무것도 바라지않아도', '그대 웃어준다면 난 행복할텐데', '사랑은 주는거니까 그저 주는거니까', '난 슬퍼도 행복합니다', ' ']\n"
          ]
        },
        {
          "output_type": "stream",
          "name": "stderr",
          "text": [
            "\r399it [2:52:03, 24.06s/it]"
          ]
        },
        {
          "output_type": "stream",
          "name": "stdout",
          "text": [
            "49\n",
            "['달이 아무리 밝아도', '어둡다는 나를 안아주던 그대', '그댄 어디 있나요', '찬 공기와 여린 바람에', '그대를 그리죠 그대가', '다시 올 것만 같아서', '그대가 떠나가던 날', '내게 지었던 표정과', '냉정한 말투는 날 아프게 했지만', '그대의 서툰 표현과', '어색한 눈웃음마저', '보고 싶어 하는', '나를 왜 모른척하나요', '나를 사랑한다는 듯한 눈빛과', '미워하는 말투마저도', '다시 볼 수 있다면', '아무것도 아니죠', '어디서부터', '그리워해야 할까요 그댈', '그대가 없는 밤엔', '달과 별은 아무 소용 없어요', '모두가 잠든 새벽에', '그대를 그리다 지쳐', '초라한 내 모습에', '그댈 잊으려 할 때면', '날 부르던 그 목소리와', '행동들마저도', '잊을 수가 없는 나인데', '그댄 아닌가 봐요', '나를 사랑한다는 듯한 눈빛과', '미워하는 말투마저도', '다시 볼 수 있다면', '아무것도 아니죠', '어디서부터', '그리워해야 할까요 그댈', '그대가 없는 밤엔', '달과 별은 아무 소용 없어요', '그대는 내게 기다리지 말라며', '똑같을 거라며', '나를 왜 바라봐 주지 않고', '떠났나요', '나를 사랑한다는 듯한 눈빛과', '미워하는 말투마저도', '다시 볼 수 있다면', '아무것도 아니죠', '어디서부터', '그리워해야 할까요 그댈', '그대가 없는 밤엔', '달과 별은 아무 소용 없어요']\n"
          ]
        },
        {
          "output_type": "stream",
          "name": "stderr",
          "text": [
            "\r400it [2:52:37, 26.98s/it]"
          ]
        },
        {
          "output_type": "stream",
          "name": "stdout",
          "text": [
            "59\n",
            "['그대가 부네요', '내 가슴 안에 그대라는 바람이', '언제나 내게 그랬듯이', '내 맘 흔들어 놓고', '추억이란 흔적만', '남기고 달아나죠', '난 길을 잃었죠', '늘 그대라는 사람만 보다가', '단 한 번 의심하지 않고', '여기까지 왔는데', '그대 없는 낯설은', '길 위에 남아 있죠', '가져가세요', '좋은 기억마저도', '그대가 없이는', '내겐 짐만 될 텐데', '자꾸 꺼내 보면', '그리움만 커져서', '다시 돌아가는 길', '발걸음 또 멈추게 하죠', '추억은 사랑을 닮아', '난 자꾸 돌아보겠죠', '그곳엔 아직도 그대가 있어서', '그래서 아픈가 봐요', '한 번쯤 꼭 한 번쯤은', '그대도 날 볼까 봐', '오늘도 기다려요', '나 이제 어쩌죠', '아무리 그댈 달아나려 해봐도', '한뼘도 멀어지지 못해', '매일 같은 자리에', '매일 같은 무게로', '하루를 살아가죠', '어딜 보아도 온통 그대 뿐이죠', '날 보던 눈빛이', '자꾸 맘에 걸려서', '다시 눈을 감고', '그댈 지우려하면', '굳게 다문 입술이 떨려와', '참았던 눈물이 흐르죠', '추억은 사랑을 닮아', '난 자꾸 돌아보겠죠', '그곳에 아직도 그대가 있어서', '그래서 아픈가 봐요', '한 번쯤 꼭 한 번쯤은', '그대도 날 볼까 봐', '오늘도 기다려요', '어느 날 뒤돌아보다', '그대가 나를 본다면', '난 어떻게 하죠', '아무 말 못하는', '나를 잘 알잖아요', '추억은 바람을 타고', '언젠가 흩어질 텐데', '울어도 소리쳐 봐도', '모른 척 버리려 해도', '잊지 못할 그 사람', '오늘도 기다려요', '나를 잘 알잖아요']\n"
          ]
        },
        {
          "output_type": "stream",
          "name": "stderr",
          "text": [
            "\r401it [2:53:18, 31.08s/it]"
          ]
        },
        {
          "output_type": "stream",
          "name": "stdout",
          "text": [
            "35\n",
            "['따스해진 날에 너를 생각해', '넌 뭐하고 지내 별일 없는지', '그렇게 말없이 떠나가고서', '요즘은 무슨 일 있는거니', '나도 이제 너를 놓을 때 됐는데', '그게 정말 잘 안되네', '아주 가끔은 다른 사람', '마음 쓰일 때도 있지만', '난 거기까지야', '사랑 못해 남들 쉽게 다 하는 거', '너 때문에 절대 못해', '그래도 멀쩡한 척 살아야지', '어쩌겠어 나 이 정도 밖에', '안되는 거 네가 잘 알잖아', '비가 오면 나를 내려다보며', '참 서럽게 우는 것만 같아서', '햇살이 화창하게 좋은 날엔', '내 이름 부르는 것 같아', '미치겠어', '나도 이제 너를 놓을 때 됐는데', '그게 정말 잘 안되네', '아주 가끔은 다른 사람', '마음 쓰일 때도 있지만', '난 거기까지야', '사랑 못해 남들 쉽게 다 하는 거', '너 때문에 절대 못해', '그래도 멀쩡한 척 살아야지', '어쩌겠어 나 이 정도 밖에', '안되는 거 네가 잘 알잖아', '얼마나 더 버텨야', '살아갈 수가 있어', '이를 악물고 견뎌보려 해봐도', '자꾸 기운이 빠져', '안되겠다 용기 내서 오늘 밤', '너에게 갈게']\n"
          ]
        },
        {
          "output_type": "stream",
          "name": "stderr",
          "text": [
            "\r402it [2:53:41, 28.86s/it]"
          ]
        },
        {
          "output_type": "stream",
          "name": "stdout",
          "text": [
            "42\n",
            "['이제 와 왜 그래', '이럴거면 조금 더', '사랑해주지 내가 조금 덜 아프게', '이제 좀 그만해', '나 또 다시 아프기가', '싫어 끝까지 너밖에 모르네', '그때의 너처럼 지금의 너처럼', '이제 나도 나만 생각할래', '안 된다는 거 잘 알잖아 너도', '우린 여기서 끝내는 게 맞아', '내가 널 얼마나 힘들게', '겨우 이렇게 널 잊었는데', '어떻게 잡은 맘인데', '나보고 어쩌자는 거야', '이렇게 이기적인 니가', '뭐가 그렇게나 좋다고', '바보같이 또 난 또 흔들리고 있다', '다 알면서도 모른 척', '내가 더 잘한다면', '돌아갈 수 있다 생각하고 노력해봤어', '그게 아니더라 너는', '이미 내게서 마음이', '떠나버린 거야 그게 맞아', '내가 널 얼마나 힘들게', '겨우 이렇게 널 잊었는데', '어떻게 잡은 맘인데', '나보고 어쩌자는 거야', '이렇게 이기적인 니가', '뭐가 그렇게나 좋다고', '바보같이 또 난 또', '흔들리고 있다', '안되는 거 알잖아 너도 너도 너도', '제발 제발 이러지 말아줘', '이래봤자 다시 넌 또 넌 또 우린', '힘들기만 할거야 너도 잘 알잖아', '내가 널 얼마나 힘들게', '내가 널 얼마나 아프게', '내가 널 얼마나 얼마나 기다렸는데', '내가 널 어떻게 잊었는데', '이제 와 또 흔들어 놓으면', '어쩔 수가 없잖아', '제발 이러지 말아줘']\n"
          ]
        },
        {
          "output_type": "stream",
          "name": "stderr",
          "text": [
            "\r403it [2:54:11, 29.02s/it]"
          ]
        },
        {
          "output_type": "stream",
          "name": "stdout",
          "text": [
            "38\n",
            "['난 온기 없는 어둠 속을', '유영하듯 헤매어', '손을 내밀어도 결국', '돌아오는 공허함', '반복된 상처에 굳게', '또 맘을 잠그고 나 홀로 견디고', '그 순간 마주친 넌 따스한 느낌', '틈 사이로 어루만진 포근한 손길', '위태롭던 내게 넌 Gravity', '방황하던 날 강렬하게 이끈 힘', '외로운 시간들을 지나', '드디어 제자리를 찾아', '더 끌어안아줘 날', '위태롭던 내게 넌 Gravity', '늘 모르는 척했던 감정', '익숙했던 지난날', '넌 아무것도 묻지 않고', '늘 나의 곁을 지켰어', '길었던 시간들 지나', '결국엔 너였어 이대로 날 안아', '멀게만 느껴졌던 다정한 온기', '나 지금은 너로 인해 느낄 수 있어', '위태롭던 내게 넌 Gravity', '방황하던 날 강렬하게 이끈 힘', '외로운 시간들을 지나', '드디어 제자리를 찾아', '더 끌어안아줘 날', '위태롭던 내게 넌 Gravity', '항상 같은 곳에서 내 곁에서', 'Yeah 전해준 온기', '날 지켜준 한 사람 단 한 사람', 'Yeah 너라는 이유', '끝없이 넌 날 이끈 Gravity', '변함없이 날 따스하게 감싸지', '혼자인 시간들을 지나', '운명의 끝에서 널 만나', '더 끌어안아줘 날', '끝없이 넌 날 이끈 Gravity']\n"
          ]
        },
        {
          "output_type": "stream",
          "name": "stderr",
          "text": [
            "\r404it [2:54:38, 28.38s/it]"
          ]
        },
        {
          "output_type": "stream",
          "name": "stdout",
          "text": [
            "41\n",
            "['어느 눈 부신 햇살 아래', '너를 닮아 따뜻했던 공기', '둘이 하나가 된 그림자', '바람 같던 너의 숨소리', '조각난 기억이 하나 둘 떠올라', '왜 몰랐을까 소중했다는 걸', '수많은 장면 중에', '하날 고른다면', '난 눈을 감고 널 만나', '한 줄의 기억', '그 짧은 시간 속', '우리를 꼭 안을게', '수많은 장면 속에', '가장 아픈 기억', '나 그날로 돌아가서', '놓지 말라고', '후회할 거라고', '말할 거야', '어두웠던 내 맘 불을 켜주던 너', '그게 너라서 살아있었던 나', '수많은 장면 중에', '하날 고른다면', '난 눈을 감고 널 만나', '한 줄의 기억', '그 짧은 시간 속', '우리를', '거짓말 같았던', '눈 부신 너와', '사랑한 모든 날이 아파서', '추억 끝에 너와 살아가는 나', '잠시라도 좋아', '모든 내일을 버려도', '갈 수 있다면', '첫 줄로 돌아가', '너에게 나 말해줄 거야', '어느 눈 부신 햇살', '따뜻했던 공기', '그날의 너를 안고서', '사랑한다고', '놓지 않겠다고', '말할 거야']\n"
          ]
        },
        {
          "output_type": "stream",
          "name": "stderr",
          "text": [
            "\r405it [2:55:07, 28.57s/it]"
          ]
        },
        {
          "output_type": "stream",
          "name": "stdout",
          "text": [
            "37\n",
            "['너무 걱정하지는마', '보란듯이 살아 볼거야', '후회는 사치일 뿐이야', '다시 시작해볼게', '나 어제 또 울었어', '나 어제 또 슬펐어', '왜 이런 바보를 사랑한거니', '니 마음이 예뻐서', '니 사랑이 고마워', '이젠 니 손을 잡고', '다시 태어날거야', '바보도 사랑합니다', '보내주신 이 사람', '이제 다시는 울지 않을겁니다', '나 이제 목숨을 걸고', '세상 아픔에서 지켜낼게요', '이 사람을 사랑합니다', '널 위한다는 그 이유로', '너를 보낼 뻔했어', '나 그렇게 바보야', '넌 내 사랑 바보고', '서로를 많이도 울게했었지', '니 사랑이 없다면', '널 만날 수 없다면', '아마 나는 평생을 후회하며 살거야', '바보도 사랑합니다', '보내주신 이 사람', '이제 다시는 울지 않을겁니다', '나 이제 목숨을 걸고', '세상 아픔에서 지켜낼게요', '이 사람을 널 위해 노력해볼게', '널 위해 살아갈게', '나약한 마음따윈 모두 버릴게', '우리의 사랑을 위해', '너의 손을 잡고 놓지않을게', '사랑하는 내 사랑 바보야', ' ']\n"
          ]
        },
        {
          "output_type": "stream",
          "name": "stderr",
          "text": [
            "\r406it [2:55:33, 27.77s/it]"
          ]
        },
        {
          "output_type": "stream",
          "name": "stdout",
          "text": [
            "34\n",
            "['아무 일 없듯이 굳게 잠긴 말들', '돌아서는 뒷모습에 ', '들리지 않는 인사를', '시간이 지나가도 ', '덜어내진 못할 ', '네 입술의 못된 말이 ', '전부 다 너의 맘일까', '안녕 그대로 걸어가 ', '우리 이제 다시 만나지 말아', '잊혀짐도 잊을 만큼 ', '나를 지워가 돌아선 그대로', '남아 있는 나의 맘은 ', '하루하루 모두 흩어짐으로', '결국에는 사랑만을 ', '내게 말했던 네 고운 입술만', '시간이 지나가도 덜어내진 못할 ', '네 입술의 못된 말이 ', '전부 다 너의 맘일까', '살아가는 동안에 이런 ', '사랑 다시 온대도', '그 처음이 너였음을 ', '잊지 않을게', '이루어질 수 없었던 ', '우리 둘의 얘기는 ', '여기까지인 거야', '안녕 그대로 걸어가 ', '우리 이제 다시 만나지 말아', '잊혀짐도 잊을 만큼 ', '나를 지워가 돌아선 그대로', '남아 있는 나의 맘은 ', '하루하루 모두 흩어짐으로 ', '결국에는 사랑만을 ', '내게 말했던 네 고운 입술만', '네 고운 입술만']\n"
          ]
        },
        {
          "output_type": "stream",
          "name": "stderr",
          "text": [
            "\r407it [2:55:55, 26.09s/it]"
          ]
        },
        {
          "output_type": "stream",
          "name": "stdout",
          "text": [
            "45\n",
            "['처음처럼 좋았던 그날', '참이슬 같던 너', '대장부처럼은 못해도', '항상 우린 좋은데이', '안주는 필요 없어', '니 입술이 안주니까', '술잔에 담긴', '너의 눈빛을 보면', '한잔 두잔', '부딪히는 이 술잔에', '취한다는 니 말에', '너에게 빠질 것 같아', '취하고 싶다', '너와 있는 순간은', '같이 나눈 술잔은', '이거 마시면 사귀는 거야', '비우고 싶다', '니 앞에 그 술잔을', '너의 귀가 생각을', '나 오늘 집에 가기 싫다', '한잔 두잔', '니 눈을 보고 있으면', '아무 생각도 안나', '너에게 빠진 것 같아', '취하고 싶다', '너와 있는 순간은', '같이 나눈 술잔은', '이거 마시면 사귀는 거야', '비우고 싶다', '니 앞에 그 술잔을', '너의 귀가 생각을', '나 오늘 집에 가기 싫다', '널 보고 있으면', '난 아무것도 못하고', '그저 멍하니', '너에게 나 취한 것 같아', '취하고 싶다', '취하고 싶다', '지금 너의 눈빛에', '촉촉한 니 입술에', '이제 너에게 고백할거야', '쉬었다 가자', '손만 잡고 잘 거야', '이런 건 처음이야', '오늘 밤 니가 너무 좋다']\n"
          ]
        },
        {
          "output_type": "stream",
          "name": "stderr",
          "text": [
            "\r408it [2:56:26, 27.66s/it]"
          ]
        },
        {
          "output_type": "stream",
          "name": "stdout",
          "text": [
            "89\n",
            "['그날 밤은 내가 너무 심했어  ', '니가 진짜로 떠나갈 줄은 몰랐어 ', '내가 미안해 이 말 한마디  ', '어려워서 우린 끝까지 가 내  ', '성격이 더러워서 ', '말도 안 되는 일로 다투기를  ', '하루에도 수십 번 ', '넌 울면서 뛰쳐나가  ', '난 주위를 두리번 ', '다시 돌아오겠지 내일이면 분명  ', '먼저 연락이 오겠지 아침이면 ', 'Baby 난 못해 너무나 못 돼서  ', '더 잘해주고 싶은데 잘 안돼 ', \"Everyday &amp; night I'm so mean  \", \"cuz I'm so real so I'm sorry  \", \"but I can't change \", '니가 사랑하는 나는  ', \"Sorry i'm a bad boy \", '그래 차라리 떠나 잘 가요  ', 'you’re a good girl ', '시간이 갈수록 날 알면은 알수록  ', '실망만 남았겠지만 ', \"Baby don't leave me I know you  \", 'still love me ', '왜 그래 솔직히 나 말해  ', '니가 필요해  ', 'my lay lay lay lay lady  ', 'my lay lay lay lay lady ', '보통남자와 달라 너무 힘들다고 ', '넌 아직도 소녀같이 너무 여려  ', '매일같이 웃어주는  ', '네 곁엔 내가 너무 어려 ', '바쁘다는 핑계로 약속을 미뤄버려  ', '미안한 나 속상한 마음에  ', '고개를 돌려버려 ', '내 꿈속의 신부 이제 그냥 친구  ', '헤어짐이 아쉬운 우리들의 침묵 ', 'Baby 난 못해 너무나 못 돼서 ', '더 잘해주고 싶은데 그게 안돼 ', \"Everyday &amp; night I'm so mean \", \"cuz I'm so real so I'm sorry \", \"but I can't change\", '니가 사랑하는 나는 ', \"Sorry I 'm a bad boy\", '그래 차라리 떠나 잘 가요 ', 'you’re a good girl', '시간이 갈수록 날 알면은 알수록 ', '실망만 남았겠지만', \"Baby don't leave me \", 'I know you still love me', '왜 그래 솔직히 나 말해 ', '니가 필요해 ', 'my lay lay lay lay lady ', 'my lay lay lay lay lady', '아무 말 하지마 괜히 강한 척 ', '했지만 속은 달라', '날 버리지마 내게는 너만큼 ', '날 이해해줄 사람', '은 없단 걸 넌 알고 있잖아요 ', 'baby Oh 그대 ', 'come back to me ye ye ye', '니가 사랑하는 나는 ', \"Sorry i'm a bad boy\", '그래 차라리 떠나 잘가요', ' you’re a good girl', '시간이 갈수록 날 알면은 알수록 ', '실망만 남았겠지만', \"Baby don't leave me\", 'I know you still love me', '왜 그래 솔직히 나 말해 ', '니가 필요해 ', 'my lay lay lay lay lady ', 'my lay lay lay lay lady', '니가 사랑하는 나는 ', \"Sorry i'm a bad boy \", \"Sorry i'm a bad boy \", \"Sorry i'm a bad boy\", '그래 차라리 떠나 잘 가요', 'you’re a good girl ', 'you’re a good girl ', 'you’re a good girl', '니가 사랑하는 나는 ', \"Sorry i'm a bad boy \", \"Sorry i'm a bad boy \", \"Sorry i'm a bad boy\", '그래 차라리 떠나 잘 가요 ', 'you’re a good girl ', 'you’re a good girl ', 'you’re a good girl']\n"
          ]
        },
        {
          "output_type": "stream",
          "name": "stderr",
          "text": [
            "\r409it [2:57:30, 38.55s/it]"
          ]
        },
        {
          "output_type": "stream",
          "name": "stdout",
          "text": [
            "68\n",
            "['이 비가', '머리 위로 쏟아지면', '흠뻑 젖고 말겠죠', '내 마음도', '머물러줘요', '아직까진 그대 없이 나 혼자', '이 비를 맞기엔', '아직 어리고', '조금 무서워', '금방 그칠 거란걸', '뻔히 다 알면서도', '그댈 찾네요', '이제 그만', '다 그칠까', '이 빗물도', '내 눈물도', '비에 젖어 추위에', '떨고 싶진 않아요', '정말 언젠간', '너무 차디찼던 빗물이', '따뜻한 눈물이 되어', '흘러내리겠죠', '괜찮아요', '금방 지나갈 소나기죠', '그냥 스쳐', '지나가는 소나기죠', '그런 감정이죠', '나 정말', '그대를 만나', '행복했던 많은 추억들을', '빗물에 잃지 않아요', '내리는 비가', '그칠 때쯤에', '그때 다시 만나요', '우리 다시 웃으며', '함께 있을게요', '이제 그만', '다 그칠까', '이 빗물도', '내 눈물도', '비에 젖어 추위에', '떨고 싶진 않아요', '정말 언젠간', '너무 차디찼던 빗물이', '따뜻한 눈물이 되어', '흘러내리겠죠', '괜찮아요', '금방 지나갈 소나기죠', '지금은 흠뻑 젖어가고만 있죠', '우산을 필 힘조차 없네요', '하지만 우린 알아요', '잠시만 울게요', '빗물에 기대어', '우리의 슬픈 눈물을', '그대가 보지 못하게', '우리 이제 안녕', '이제 그만', '다 그칠까', '이 빗물도', '내 눈물도', '비에 젖어 추위에', '떨고 싶진 않아요', '정말 언젠간', '너무 차디찼던 빗물이', '따뜻한 눈물이 되어', '흘러내리겠죠', '괜찮아요', '금방 지나갈 소나기죠']\n"
          ]
        },
        {
          "output_type": "stream",
          "name": "stderr",
          "text": [
            "\r410it [2:58:18, 41.23s/it]"
          ]
        },
        {
          "output_type": "stream",
          "name": "stdout",
          "text": [
            "48\n",
            "['너의 말들을 웃어 넘기는  ', '나의 마음을  ', '너는 모르겠지 너의 모든 걸 ', '좋아하지만 지금 나에겐  ', '두려움이 앞서 ', '너무 많은 생각들이  ', '너를 가로 막고는 있지만  ', '날 보고 웃어주는 네가 ', '그냥 고마울 뿐이야', '너는 아직 순수한 마음이 ', '너무 예쁘게 남았어', '하지만 나는 왜 그런지 ', '모두가 어려운걸', '세상은 분명히 변하겠지 ', '우리의 생각들도 달라지겠지 ', '생각해 봐', '어려운 일 뿐이지 나에게 보내는 ', '따뜻한 시선을 때로는 외면하고', '얼굴을 돌리는 걸 넌 느끼니', '너를 싫어해서가 아니야', '너를 만난 후 언젠가부터 ', '나의 마음속엔 근심이 생겼지', '네가 좋아진 그 다음부터 ', '널 생각하면 깊은 한숨뿐만', '사랑스런 너의 눈을 보면 ', '내 맘은 편안해지고', '네 손을 잡고 있을 때면', '난 이런 꿈을 꾸기도 했어', '나의 뺨에 네가 키스할 땐 ', '온 세상이 내 것 같아', '이대로 너를 안고 싶어 ', '하지만 세상에는', '아직도 너무 많은 일이 ', '네 앞에 버티고 있잖아 ', '생각해 봐 어려운 일 뿐이지 ', '네가 접하게 되는 ', '새로운 생활들과', '모두가 너에게 시선을 ', '돌리게 될 것을 알 수 있니  ', '너는 이런 내 마음을 아는지', '조그마한 너의 마음 ', '다치게 하긴 싫어 ', '이러는 것 뿐이지', '어른들은 항상 내게 말하지 ', '넌 아직도 모르고 있는 일이 ', '더 많다고', '네 순수한 마음만', '변치 않길 바래']\n"
          ]
        },
        {
          "output_type": "stream",
          "name": "stderr",
          "text": [
            "\r411it [2:58:52, 39.08s/it]"
          ]
        },
        {
          "output_type": "stream",
          "name": "stdout",
          "text": [
            "37\n",
            "['잊지 말아요', '나를 두고가면 어떡하나요 그댄', '그대라는 사람은', '내겐 가장 소중한 사람', '그대랍니다', '태어나 처음으로', '가슴떨리던 사람 ', '수천번을 보아도', '내게 하나뿐인 그런 사랑', '슬픈 사랑이라고 말하지 말아요', '다시 생각해보면 행복한 나인데', '우리 사랑하는만큼', '서로 아파하지만', '그냥 그냥 그냥 이대로 사랑하자', '바보랍니다', '그저 한 사람만 바라만 보는 사랑 ', '혹시 보고플 때면', '그땐 그땐 그냥 내게 와요', '슬픈 사랑이라고 말하지 말아요', '다시 생각해보면', '행복한 나인데', '우리 사랑하는만큼', '서로 아파하지만', '그냥 그냥 그냥 이대로 사랑하자', '그댈 볼 수 없단건', '죽음보다 더 내게', '가장 무서운 일인데', '나의 곁에 있어요', '떠나가지 말아요', '나의 사랑입니다', '평생을 바쳐도', '아깝지 않을 사람', '그대일테니까', '우리 사랑하는 만큼', '서로 아파하지만', '그냥 그냥 그냥 이대로', '사랑하자']\n"
          ]
        },
        {
          "output_type": "stream",
          "name": "stderr",
          "text": [
            "\r412it [2:59:17, 35.10s/it]"
          ]
        },
        {
          "output_type": "stream",
          "name": "stdout",
          "text": [
            "56\n",
            "['뜨거운 계절을 보내던 날', '기분 좋은 바람이', '두 빰을 스치는', '가을 바다 한곳에 서서', '아름다운 너와 나', '그림을 그려갔어', '모래 위 떨린 손끝으로', '날 향해 웃어주는 입술', '끝 모양과 태양보다', '예쁘게 붉은 두 볼을 가진 네가', '다정히 내 이름을', '부르면 내 마음이', '녹아내려 언제나', '나 하날 위해 준비된', '선물 같아 널 안으면', '잠들지 않는 바다 위를', '너와 함께 걷는 것 같아', '하늘 아래 너와 나', '남은 내 모든 날을 너에게', '다 줘도 안 아까워', '이제서야 내가', '사랑에 눈을 뜬 건 가봐', '경험하지 못했고', '믿기지 않는 일만', '일어나고 있는 거 아니', '10월에 피는 코스모스', '향기를 가득 담아', '부는 바람에 살며시 실어 보내', '다정히 내 이름을', '부르면 내 마음이', '녹아내려 언제나', '나 하날 위해 준비된', '선물 같아 널 안으면', '잠들지 않는 바다 위를', '너와 함께 걷는 것 같아', '하늘 아래 너와 나', '설레이는 지금이', '꿈이 아닌 걸 알잖아', '난 더 바랄 게 없어', '먼 훗날 내 생애', '아주 작은 소리로', '귓가에 말할 거야', '내 곁에 머물러줘서', '마음 다해 고맙다고', '어떤 말로도 표현 못 할', '내 인생의 전부였다고', '이 순간 너를 꼭 안고', '고백할게 언제나', '우리 모든 날들과', '햇살 아래 우리 그림자', '제일로 특별하다고', '세 계절의 끝을 지나서', '너의 앞에 서있는 지금', '선명한 목소리로', '널 사랑한다고', '말할게']\n"
          ]
        },
        {
          "output_type": "stream",
          "name": "stderr",
          "text": [
            "\r413it [2:59:56, 36.23s/it]"
          ]
        },
        {
          "output_type": "stream",
          "name": "stdout",
          "text": [
            "44\n",
            "['그럴 수도 있지 생각했어', '잊어 보려 했어', '지난 날의 모든 걸 노력했어', '다시 시작해 보려고 했어', '내겐 너 아니면 안 되는 걸 아니까', '정말 그랬어', '쉽게 잊혀지진 않았어', '누구도 그랬을 거야', '아무렇지 않진 않아도', '이렇게까지 힘이 드는 건', '널 처음 만나', '설레었던 기억들이', '꼭 어제처럼', '선명해서 지워지질 않아', '내가 알던 네 모습도 이젠', '거짓말 같아서', '믿을 수 없는 걸', '헤어지자', '어떻게 네가 그럴 수 있어', '마치 내게 했던 말이 무색해지게', '다 끝인 거야', '쉽게 꺼낸 말은 아니야', '누구도 그랬을 거야', '아무렇지 않진 않아도', '이렇게까지 힘이 드는 건', '널 처음 만나', '설레었던 기억들이', '꼭 어제처럼', '선명해서 지워지질 않아', '내가 알던 네 모습도 이젠', '거짓말 같아서', '믿을 수 없는 걸', '다 없었던 기억처럼', '널 지울 수 있게', '아무 말도 하지 말아 줘', '왜 바보처럼', '네가 했던 그 모든 말들을', '난 믿었는데', '어떻게 다 잊으라는 건지', '내가 알던 네 모습도 이젠', '거짓말 같아서', '처음 만나 함께한 모든 게', '헤어지자', '이제 우리']\n"
          ]
        },
        {
          "output_type": "stream",
          "name": "stderr",
          "text": [
            "\r414it [3:00:27, 34.49s/it]"
          ]
        },
        {
          "output_type": "stream",
          "name": "stdout",
          "text": [
            "51\n",
            "['사랑이 떠나가도', '가슴에 멍이 들어도', '한 순간뿐이더라', '밥만 잘 먹더라', '죽는 것도아니더라', '눈물은 묻어둬라', '당분간은 일만 하자', '죽을 만큼 사랑한 ', '그녀를 알았단 그 사실에 감사하자', '이미 지난 일 말하면 뭐해', '돌릴 수 없는데 ', '괜히 아픈 가슴만 ', '다시 들춰내서 뭐해 쓸데 없게 ', '태어나서 딱 세 번만 ', '울게 허락된다는데 ', '괜히 허튼 일들에 ', '아까운 눈물 낭비 말자 오', '사랑이 떠나가도', '가슴에 멍이 들어도', '한 순간뿐이더라', '밥만 잘 먹더라', '죽는 것도아니더라', '눈물은 묻어둬라', '당분간은 일만 하자', '죽을 만큼 사랑한', '그녀를 알았단 그 사실에 감사하자', '아주 가끔 니 생각이 나서', '슬퍼지려 하면 ', '친구들과 술 한잔 ', '정신 없이 취하련다다잊게', '미워한다고 뭐 달라지나 ', '그냥 사랑할게 ', '단지 볼 수 없단 걸 ', '견딜 만큼만 생각할게 오 ', '사랑이 떠나가도', '가슴에 멍이 들어도', '한 순간뿐이더라', '밥만 잘 먹더라', '죽는 것도아니더라', '눈물은 묻어둬라', '당분간은 일만 하자', '죽을 만큼 사랑한 ', '그녀를 알았단 그 사실에 감사하자', '바람이 지나간다', '시리게 나를 울린다', '억지로 참아봐도자꾸 목이 메어 ', '니 이름을 불러본다', '잊어도 못 잊겠다', '너를 지울 수가 없다', '남자답게 웃으며 보내야 하는데 ', '자꾸만 난 울고 있다']\n"
          ]
        },
        {
          "output_type": "stream",
          "name": "stderr",
          "text": [
            "\r415it [3:01:04, 35.18s/it]"
          ]
        },
        {
          "output_type": "stream",
          "name": "stdout",
          "text": [
            "60\n",
            "['너는 나의 사랑 ', '너는 나의 행복 ', '소중한 사람 ', '비가 내리면 ', '함께 맞아줄 ', '둘도 없는 내 사랑 ', '달콤한 노래를 부르면 ', '너의 두 눈이 미소 짓고 ', '네 볼에 입 맞추면 ', '수줍어하지 ', '밤새 전화기를 붙들고 ', '무슨 할 말이 많았는지 ', '끊을 땐 아쉬워 ', '먼저 못 끊지 ', '오오 너는 나의 사랑 ', '너는 나의 행복 ', '소중한 사람 ', '비가 내리면 ', '함께 맞아줄 ', '둘도 없는 내 사랑 ', '오오 세상 어떤 사람 ', '세상 어떤 말로도 ', '너를 대신 못해 ', '난 말야 오직 너 하나뿐야 ', '너를 사랑해 ', '집 앞까지 바래다주고 ', '너의 방 불빛이 켜지면 ', '그때서야 가는 걸 ', '너는 몰랐지 ', '신발을 사주고 싶은데 ', '그럼 네가 떠나 갈까 봐 ', '가게 앞에서 ', '늘 고민만 하지 ', '오오 너는 나의 사랑 ', '너는 나의 행복 ', '소중한 사람 ', '비가 내리면 ', '함께 맞아줄 ', '둘도 없는 내 사랑 ', '오오 세상 어떤 사람 ', '세상 어떤 말로도 ', '너를 대신 못해 ', '난 말야 오직 ', '너 하나뿐야 ', '너를 사랑해 ', '해바라기 같은 ', '사랑만 주고 싶어 ', '오직 한 사람 ', '내겐 첫 사랑 너에게 ', '너도 말해 줄래 ', '내게 말해 줄래 ', '좋아한다고 ', '너도 나 만큼 하늘 땅만큼 ', '나를 사랑한다고 ', '오오 많은 인연 속에 ', '많은 사람들 중에 ', '우리 둘뿐이야 ', '고마워 네가 내게 와줘서 ', '너무 행복해 너를 사랑해 ', '사랑해 ']\n"
          ]
        },
        {
          "output_type": "stream",
          "name": "stderr",
          "text": [
            "\r416it [3:01:46, 37.31s/it]"
          ]
        },
        {
          "output_type": "stream",
          "name": "stdout",
          "text": [
            "49\n",
            "['결혼에 대하여 ', '예쁜 단어를 골라 ', '예쁜 칭찬을 하고', '예쁜 밤을 만들 것', '결혼에 대하여 ', '좋은 사람을 만나', '좋은 사랑을 하고', '좋은 집을 갖는 것', '나 그게 어려워 혼자', 'TV를 트나 봐 편한', '옷을 입고 나가 독한', '소주를 사나 봐 혼자', '남산에 가나 봐 혼자', '한강을 걷나 봐 혼자', '저녁을 먹나 봐 뭔가 ', '다 어려우니까 ', '에 에 에 에 에 에에에 ', '에 에에에 에 에에에 ', '에 에에에 에 에에에 ', '에 에에에 에 에에', '에 에에', '에 에에에 에에에 ', '에 에에에 에 에에에 ', '에 에에에 에 에에에 ', '에 에에에 에 에에 ', '에 에에', '쓰다 남은 위로라면 그냥 지나가도 돼', '사랑 없이 사는 것도 들먹이진 말아줘', '나를 보면 지금보다 울먹이지 말도록', '혼자 먹는 저녁 말고', '사랑 너머에 관하여', '가끔 나쁜 얼굴에 각진 단어를 골라', '아프게 말하고', '남이 되잖아요', '내 마음은 그래', '나 그게 두려워', '나 그게 어려워', 'TV나 보는 중', 'TV나 보는 중', 'TV나 보는 중', '에 에 에 에 에에에 ', '에 에에에 에 에에에 ', '에 에에에 에 에에에 ', '에 에에에 에 에에', '에 에에', '에 에에에 에에에', '에 에에에 에 에에에 ', '에 에에에 에 에에에 ', '에 에에에 에 에에 ']\n"
          ]
        },
        {
          "output_type": "stream",
          "name": "stderr",
          "text": [
            "\r417it [3:02:20, 36.46s/it]"
          ]
        },
        {
          "output_type": "stream",
          "name": "stdout",
          "text": [
            "44\n",
            "['세상에 처음 날 때 ', '인연인 사람들은', '손과 손에 붉은 실이 ', '이어진 채 온다 했죠', '당신이 어디 있든 ', '내가 찾을 수 있게', '손과 손에 붉은 실이 ', '이어진 채 왔다 했죠', '눈물진 나의 뺨을 ', '쓰담아 주면서도', '다른 손은 ', '칼을 거두지 않네 ', '또 다시 사라져', '산산이 부서지는 ', '눈부신 우리의 날들이', '다시는 오지 못할 ', '어둠으로 가네', '아아 아아아 아아아', '고운 그대 얼굴에 ', '피를 닦아주오', '나의 모든 것들이 ', '손대면 사라질 듯', '끝도 없이 겁이 나서 ', '무엇도 할 수 없었다 했죠', '아픈 내 목소리에 ', '입맞춰 주면서도', '시선 끝엔 ', '내가 있지를 않네 ', '또 다시 사라져', '아득히 멀어지는 ', '찬란한 우리의 날들이', '다시는 오지 못할 ', '어둠으로 가네', '산산이 부서지는 ', '눈부신 우리의 날들이', '다시는 오지 못할 ', '어둠으로', '당신은 세상에게 죽고 ', '나는 너를 잃었어', '돌아올 수가 없네 ', '다시 돌아올 수가 없네', '아아 아아아 아아아', '고운 그대 얼굴에 ', '피를 닦아주오']\n"
          ]
        },
        {
          "output_type": "stream",
          "name": "stderr",
          "text": [
            "\r418it [3:02:50, 34.55s/it]"
          ]
        },
        {
          "output_type": "stream",
          "name": "stdout",
          "text": [
            "49\n",
            "['한 발자국을 못 가 멈춘', '다시 한 발자국 못가 멈춘', '몇 걸음 다시 떼다', '멈춘 가슴이 울다', '떠나간 니 발자국 따라 몇 번 울다', '또 다시 멈춘 채로 몇 번 울다', '도대체 나는 몇 번이나 울다', '눈에는 또 눈에는', '눈물이 가득차서 흐르다가', '한걸음을 내밀고 두 걸음에도', '마지막 발걸음에도', '떨어지지 않는', '이 발보다 그대를 못 잊어서', '또 다시 한마디를 내뱉고', '두 마디에 난 그대를 보내네', '새하얗게 새하얗게 너를 보내', '토라져버린 맘을 돌려 너를 보다', '또 다시 고갤 돌려 너를 보다', '이렇게 너를 몇 번이나 보다', '끝내도 또 끝내도', '내 발이 내 마음이 그댈 찾아', '한걸음을 내밀고 두 걸음에도', '마지막 발걸음에도', '떨어지지 않는', '이 발보다 그대를 못 잊어서', '또 다시 한마디를 내뱉고', '두 마디에 난 그대를 보내네', '새하얗게 새하얗게 너를 보내', '아니라고 잊었다고', '아픔을 참고 보내도', '그리운 맘에 발길이', '돌아서도 못가고', '애타게 그 이름을', '불러도 모르잖아', '한사람은 외로워', '두사람으로 영원히 함께 하자고', '손가락이 했던', '그 약속도 여전히 못 잊어서', '또 다시 한글자를 내뱉고', '두글자에 난 사랑을 말하네', '너를 두고 너를 두고 내가 간다', '한걸음을 내밀고 두 걸음에도', '마지막 발걸음에도', '떨어지지 않는', '이 발보다 그대를 못 잊어서', '또 다시 한마디를 내뱉고', '두 마디에 난 그대를 보내네', '새하얗게 새하얗게 너를 보내', ' ']\n"
          ]
        },
        {
          "output_type": "stream",
          "name": "stderr",
          "text": [
            "\r419it [3:03:25, 34.52s/it]"
          ]
        },
        {
          "output_type": "stream",
          "name": "stdout",
          "text": [
            "37\n",
            "['총 맞은 것처럼 정신이 너무 없어', '웃음만 나와서 그냥 웃었어', '그냥 웃었어 그냥', '허탈하게 웃으며 하나만 묻자 했어', '우리 왜 헤어져', '어떻게 헤어져 어떻게 헤어져 어떻게', '구멍난 가슴에 우리 추억이 흘러 넘쳐', '잡아보려 해도 가슴을 막아도', '손가락 사이로 빠져나가', '심장이 멈춰도', '이렇게 아플 것 같진 않아', '어떻게 좀 해줘 날 좀 치료해줘', '이러다 내 가슴 다 망가져', '구멍난 가슴이', '어느새 눈물이 나도 모르게 흘러', '이러기 싫은데', '정말 싫은데 정말 싫은데 정말', '일어서는 널 따라 무작정 쫓아 갔어', '도망치듯 걷는 너의 뒤에서', '너의 뒤에서 소리쳤어', '구멍난 가슴에 우리 추억이 흘러 넘쳐', '잡아보려 해도 가슴을 막아도', '손가락 사이로 빠져나가', '심장이 멈춰도', '이렇게 아플 것 같진 않아', '어떻게 좀 해줘 날 좀 치료해줘', '이러다 내 가슴 다 망가져', '총 맞은 것처럼', '정말 가슴이 너무 아파', '이렇게 아픈데 이렇게 아픈데', '살 수가 있다는 게 이상해', '어떻게 너를 잊어 내가', '그런 건 나는 몰라 몰라', '가슴이 뻥뚫려 채울 수 없어서', '죽을 만큼 아프기만 해', '총 맞은 것처럼', ' ']\n"
          ]
        },
        {
          "output_type": "stream",
          "name": "stderr",
          "text": [
            "\r420it [3:03:52, 32.29s/it]"
          ]
        },
        {
          "output_type": "stream",
          "name": "stdout",
          "text": [
            "37\n",
            "['내 사랑 그대여 거기 멈춰서요 ', '나 지금 그대에게 가고 있어요 ', '그대 없이 난 이제  ', '단 하루도 살지 못해서 ', '가슴으로 운다 ', '내가 정말 사랑했던 사람이  ', '내겐 무엇보다 소중했던 사람이 ', '언제나 내 곁에 영원할것만 같았던  ', '그 사람이 날 두고가네요 ', '내 가슴이 죽을만큼 너무 아픈데 ', '난 아직도 그대의 걱정뿐인데 ', '나에게는 세상의 오직 한사람 ', '그 사람이 날 떠나네요 ', '내 사랑 그대여 거기 멈춰서요 ', '나 지금 그대에게 가고 있어요 ', '그대없이 난 이제  ', '단 하루도 살지 못해서 ', '가슴으로 운다 ', '내가 정말 사랑했던 모습도  ', '나를 누구보다 아껴주던 마음도 ', '뒤를 돌아보면 서있을것만 같은데 ', '돌아보면 그대가 없네요 ', '바보같이 이런 내 속도 모르고', '그 사람이 날 떠나네요', '내 사랑 그대여 내말 들리나요  ', '나 지금 미치도록 울고 있어요', '미안해요 난 그대 모습 하나', '잊지 못해서 그댈 불러본다', '내가 잊지 못할 나의 사람아', '듣지 못할 내 사람아 아 ', '어디에 있나요 내게 돌아와요', '나 지금 그대에게 가고있어요', '지금 아니면 너를 ', '후회하며 살 것 같아서', '니가 마지막 사랑 같아서', '제발 거기 멈춰서요', '사랑해요 내 말 들리나요']\n"
          ]
        },
        {
          "output_type": "stream",
          "name": "stderr",
          "text": [
            "\r421it [3:04:17, 30.24s/it]"
          ]
        },
        {
          "output_type": "stream",
          "name": "stdout",
          "text": [
            "42\n",
            "['눈부신 햇살이 밝게 날 비출 때', '항상 그렇게 넌 머물러줘', '설레는 내 맘은 널 위해 남길께', '항상 내 곁에서만 있어줘 고마워', '나 너를 처음 봤던', '날 수줍게 웃던 모습에', '사랑스런 느낌 그 설렘 까지도', '따뜻한 이 햇살아래', '우리가 함께 있는 건', '너무 소중한 거죠', '가끔씩 속상하고 토라질 때도', '우리 사랑을 지켜가요', '눈부신 햇살이 밝게 날 비출 때', '항상 그렇게 넌 머물러줘', '설레는 내 맘은 널 위해 남길께', '항상 내곁에서만 있어줘 고마워', 'Happy day thank you oh my love', 'Happy day thank you oh my love', 'Happy day thank you oh my love', '따뜻한 이 햇살아래', '우리가 함께 있는 건', '너무 소중한 거죠', '가끔씩 속상하고 토라질 때도', '우리 사랑을 지켜가요', '눈부신 햇살이 밝게 날 비출 때', '항상 그렇게 넌 머물러줘', '설레는 내 맘은 널 위해 남길께', '항상 내 곁에서만 있어줘 고마워', '수줍게 보여도 널 향한', '나의 마음만은 진심인 걸', '알잖아 너도 알잖아', '누구보다 너를 너무 좋아해', '살랑살랑 부는 바람 타고 내게', '너의 마음 이렇게 다가와', '사랑하는 널 위해 난 노래할 게', '항상 내 곁에서만 있어줘 고마워', 'Happy day thank you oh my love', 'Happy day thank you oh my love', 'Happy day thank you oh my love', 'Happy day thank you oh my love', 'Happy day thank you oh my love', '항상 그렇게 있어줘 고마워']\n"
          ]
        },
        {
          "output_type": "stream",
          "name": "stderr",
          "text": [
            "\r422it [3:04:47, 29.94s/it]"
          ]
        },
        {
          "output_type": "stream",
          "name": "stdout",
          "text": [
            "66\n",
            "[\"It's time for goodbye  \", '나의 로맨스여 Goodbye ', '바로 어제처럼 느껴지는  ', '그때 그 시간들 ', '이제는 Goodbye  ', '나의 로맨스여 Goodbye ', '기다림조차도 아름답던  ', '처음 그 떨림도 ', '이젠 Goodbye  ', '더 아쉬워도 Goodbye ', '나의 Memory', '언니 방 서랍 속에 ', '졸업앨범을 보다 가 ', '3학년 1반 반장이었던  ', '그 선배를 ', '오랜만에 보네요 ', '점심시간이 되면  ', '창가에 자릴 잡고 서 ', '농구스타처럼 멋있었던  ', '그댈 보는 게  ', '그렇게 좋았죠 ', \"It's time for goodbye  \", '나의 로맨스여 Goodbye ', '바로 어제처럼 느껴지는  ', '그때 그 시간들 ', '이제는 Goodbye  ', '나의 로맨스여 Goodbye ', '기다림조차도 아름답던  ', '처음 그 떨림도 ', '이젠 Goodbye  ', '더 아쉬워도 Goodbye ', '나의 Memory', '1학년이던 내겐  ', '선밴 하늘 같아서 ', '말 한마디 건네기  ', '너무도 어려웠죠 ', '두 살 차이 뿐인데 ', '노트 한 권 가득히 채운  ', '선배 이름 세 글자 ', '전할 용기 하나 없었지만 ', '이름만 봐도 설레던 나였죠 ', '결혼은 했을까  ', '혹시 내 이름 기억할까 ', '그 동네에 여전히 살고 있을까 ', '키는 거기서 크긴 했을까 ', '이 좋은 기억으로 남길래 그래서 ', 'goodbye  ', '나의 로맨스여 Goodbye ', '바로 어제처럼 느껴지는  ', '그때 그 시간들 ', '이제는 Goodbye  ', '나의 로맨스여 Goodbye ', '기다림조차도 아름답던  ', '처음 그 떨림도 ', '이젠 Goodbye Goodbye ', \"It's time for goodbye  \", '나의 로맨스여 Goodbye ', '바로 어제처럼 느껴지는  ', '그때 그 시간들 ', '이제는 Goodbye  ', '나의 로맨스여 Goodbye ', '기다림조차도 아름답던  ', '처음 그 떨림도 ', '이젠 Goodbye  ', 'Goodbye Goodbye', '나의 Memory']\n"
          ]
        },
        {
          "output_type": "stream",
          "name": "stderr",
          "text": [
            "\r423it [3:05:31, 34.42s/it]"
          ]
        },
        {
          "output_type": "stream",
          "name": "stdout",
          "text": [
            "40\n",
            "['기댈곳이 없어 조금은 버거운 하루', '막다른 골목 길 끝에 서있는것 같아', '마시기만 하던 숨은', '언제쯤 내뱉어 질까', '가파른 언덕 너머에서 만나게될까', '행복한 날이 올까요', '숨이 쉬어 지지않은데', '어른인척 살아가는게', '아직도 어색 하기만 한데', '사랑이 내게 올까요', '있는 그대로의 나를', '안아줄수 있는 한사람', '세상에 날믿어주는 사람', '한명이면돼', '그게 행복일꺼야', '내내 쏟아지던 비가 그친걸아는데', '나는 아직도 우산을 핀채로 살아가', '그런 나에게 다가와', '괜찮다고 말하는 너', '이렇게 나는 두려운게 너무많은데', '행복한 날이 올까요', '숨이 쉬어 지지않은데', '어른인척 살아가는게', '아직도 어색 하기만 한데', '사랑이 내게 올까요', '있는 그대로의 나를', '안아줄수 있는 한사람', '세상에 날믿어주는 사람', '한명이면돼', '기댈곳이 없던 나에게 빛이 돼 준너', '지나간 사랑 모두 잊혀질만큼', '매일 혼자 걷던길을 같이 걷고있잖아', '어른인척 살아가는게', '아직도 어색 하기만 한데', '사랑이 내게 올까요', '있는 그대로의 나를', '안아줄수 있는 한사람', '세상에 날믿어주는 사람', '한명이면돼', '그게 행복일거야 그게 행복일거야']\n"
          ]
        },
        {
          "output_type": "stream",
          "name": "stderr",
          "text": [
            "\r424it [3:05:59, 32.31s/it]"
          ]
        },
        {
          "output_type": "stream",
          "name": "stdout",
          "text": [
            "29\n",
            "['잊은 듯이 다 나아진 듯이', '마음 잔잔하게 살아가다가', '문득 아무 이유 없이', '모래를 삼킨 듯이', '가슴이 먹먹한 날이 있지', '창피하게 또 눈물이 나서', '하늘을 보며 꾹 참아 보다가', '내가 왜 이러는 걸까', '고개 저어 봐도', '결국엔 너의 생각만 나면', '너 때문에 이렇게 산다고', '너 때문에 못쓰게 된 나라고', '바보처럼 너를 미워할', '핑계를 찾곤 했어', '슬픔이 너를 멀리로 데려가 주길', '그때처럼 웃어 본 적 없어', '세상이 마냥 좋은 적 없었어', '눈부신 니가 없어서 앞을 못 본다고', '떠나간 너를 탓할 때마다', '너 때문에 내가 살았는데', '너 때문에 너무 행복했는데', '어떻게 목숨 같은 너를', '그렇게 울렸냐고', '오히려 슬픔은 또 너를 데려와', '너 때문에 이렇게 산다고', '너 때문에 못쓰게 된 나라고', '바보처럼 너를 기억할', '핑계를 찾고 있어', '아직도 나는 이별도 못하고 살아']\n"
          ]
        },
        {
          "output_type": "stream",
          "name": "stderr",
          "text": [
            "\r425it [3:06:19, 28.70s/it]"
          ]
        },
        {
          "output_type": "stream",
          "name": "stdout",
          "text": [
            "30\n",
            "['Can you hear the crystal melody', 'with a small hint of misery', 'Life sometimes promises', 'warmth tomorrow', 'Just like a dusky sunset', 'in splendor', 'I remember the humming sound', 'is passing by', 'The tears we have held back', 'all the dreams that I have lost', 'in the Precious days', 'Just keep on dreaming and dreaming', 'alone in the faded paradise', 'your heart that is lighting up', 'the world', 'Takes me to the beautiful dawn', 'Can you see the place', 'I used to stay', 'waiting for you to call me', 'Life sometimes becomes', 'a shining starlight', 'gazing at you make', 'my heart more flutter', 'Just keep on dreaming and dreaming', 'don’t you fold your wings', 'in doubt', 'Each piece of precious memory', 'They will make you fly away', 'I will be there in your memory', 'sweet sweet dreams my dear']\n"
          ]
        },
        {
          "output_type": "stream",
          "name": "stderr",
          "text": [
            "\r426it [3:06:40, 26.25s/it]"
          ]
        },
        {
          "output_type": "stream",
          "name": "stdout",
          "text": [
            "40\n",
            "['세상이 멈춘 것 같았어', '우연히 널', '거리에서 마주쳤을 때', '가끔 들리는', '너의 안부에도', '난 꼭 참았는데', '이 바보야', '너 땜에 아프잖아', '왜 또 옷은 춥게', '얇게 입었어', '나를 피하는 눈빛이', '야윈 너의 얼굴이', '그런 니가 미워서', '나는 또 밤새 취해 간다', '어디부터 잘못된 걸까', '천천히 너에게', '맞춰 기다렸다면', '내가 가진', '현실은 초라했고', '마음만 커져가고', '나 땜에 힘들다고 했잖아', '행복해지고 싶다 그랬잖아', '어떻게 널 보냈는데', '이 바보야', '너 땜에 아프잖아', '왜 또 옷은 춥게', '얇게 입었어', '내 전부였던 눈빛이', '사랑했던 얼굴이', '여전히 반가워서', '눈물이 흘러', '어렸어서 서운해서', '소중해서 불안해서', '다 망쳐버린 걸 알아', '다 미안해', '이 바보야', '얼마나 사랑했는데', '어떻게 헤어졌는데', '다신 만나지 말자', '잡을 수 없게 잘 살아줘']\n"
          ]
        },
        {
          "output_type": "stream",
          "name": "stderr",
          "text": [
            "\r427it [3:07:07, 26.71s/it]"
          ]
        },
        {
          "output_type": "stream",
          "name": "stdout",
          "text": [
            "35\n",
            "['아팠던 시간들이 가면', '행복할 수밖에 없는 이유', '우린 그 누구보다도', '아파봤기 때문이죠', '한 걸음으로 멀리 간대도', '두 걸음보단 짧을 수밖에', '천천히 가다가 보면', '어느 순간 다다르죠', '함께 왔던 그대로', '어떤 어두운 밤이 와도', '나는 두렵지 않아', '언제나 그댄 내 곁에 함께 할 테니', '지금 이렇게 서로를 바라보며', '어느 햇 좋은 날까지 우리 가요', '매일 하루하루가 다르게', '자라날 우리의 아이들도', '온 맘 다해 사랑해 줄게', '내가 그댈 사랑하듯', '내 모든 걸 다 줄게', '어떤 어두운 밤이 와도', '나는 두렵지 않아', '언제나 그댄 내 곁에 함께 할 테니', '지금 이렇게 서로를 바라보며', '어느 햇 좋은 날까지 우리 가요', '함께 할게요', '지금보다 행복할 수 있게', '앞으로 우리에게 남아 있는', '시간이 두렵긴 해도', '얼마나 설레는지', '언젠가 이 모든 꿈들이 끝나', '우리 둘에게', '이별의 시간이 와도 겁먹지 마요', '우린 절대로 헤어지지 않아', '어느 햇 좋은 날까지 우리 가요', '어느 햇 좋은 날까지']\n"
          ]
        },
        {
          "output_type": "stream",
          "name": "stderr",
          "text": [
            "\r428it [3:07:32, 25.92s/it]"
          ]
        },
        {
          "output_type": "stream",
          "name": "stdout",
          "text": [
            "39\n",
            "['한참을 아무 말도 없었다 ', '어색한 공기만 우릴 감싸고 있다', '너는 고개를 돌린 채로', '한숨만 내쉰다', '내가 처음 보는 표정을', '하고 서있다', '차라리 화를 내지', '싫어졌다고 말을 하지', '마지막 순간까지', '좋은 사람으로 기억되고 싶었니', '내가 갈게', '애써 미안한 표정 하지마', '싫어진 거잖아 그래 널 떠나 줄게', '비겁해지는 널 보는 게 아파', '내가 갈게 널 보내줄게', '조금씩 넌 변했다', '매일 오던 연락 난 기다린다', '서운해 하는 날 보는 게 슬프다', '넌 여기까진가 봐 끝이었나 봐', '난 시작이었는데', 'Oh 그냥 헤어지자고 내게 말을 하지', '마지막 순간까지', '좋은 사람으로 기억되고 싶었니', '내가 갈게', '애써 날 위하는 척 하지마', '넌 준비했잖아 그래 널 떠나줄게', '내가 몰랐던 널 보는 게 아파', '내가 갈게 널 보내줄게', '니가 없는 하루가', '사실 난 잘 그려지질 않아', '그렇게 말했었잖아', '내가 너의 행복이랬잖아', '나 없인 살 수 없을 거라고', '말했었잖아', '내가 갈게', '애써 미안한 표정 하지마', '싫어진 거잖아 이제 널 떠나줄게', '비겁해지는 널 보는 게 아파', '내가 갈게 널 보내줄게']\n"
          ]
        },
        {
          "output_type": "stream",
          "name": "stderr",
          "text": [
            "\r429it [3:07:59, 26.53s/it]"
          ]
        },
        {
          "output_type": "stream",
          "name": "stdout",
          "text": [
            "40\n",
            "['서쪽하늘로 노을은 지고', '이젠 슬픔이 돼버린 그대를', '다시 부를수 없을 것 같아', '또 한번 불러보네', '소리쳐 불러도 늘 허공에', '부서져 돌아오는 너의 이름', '이젠 더 견딜 힘조차 없게', '날 버려두고 가지', '사랑하는 날 떠나가는 날', '하늘도 슬퍼서 울어준 날', '빗속에 떠날 나였음을', '넌 알고 있는듯이', '비가오는 날엔 난 ', '항상 널 그리워해', '언젠간 널 다시 만나는 ', '그날을 기다리며', '비내린 하늘은 ', '왜그리 날 슬프게해', '흩어진 내 눈물로 널 잊고 싶은데', '비가 오는건 그녀가 우는거라고', '했다', '비가오는 날엔 ', '난 항상 널 그리워해', '언젠간 널 다시 만나는 ', '그날을 기다리며', '비내린 하늘은 ', '왜그리 날 슬프게해', '흩어진 내 눈물로 널 잊고 싶은데', '가고싶어 널 보고싶어 ', '꼭 찾고 싶었어', '하지만 너의 모습은 ', '아직도 그 자리에', '비가오는 날엔 ', '난 항상 널 그리워해', '언젠간 널 다시 만나는 ', '그날을 기다리며', '비내린 하늘은 ', '왜그리 날 슬프게해', '흩어진 내 눈물로 널 잊고 싶은데', '하지만 난 널 사랑해 ']\n"
          ]
        },
        {
          "output_type": "stream",
          "name": "stderr",
          "text": [
            "\r430it [3:08:26, 26.64s/it]"
          ]
        },
        {
          "output_type": "stream",
          "name": "stdout",
          "text": [
            "47\n",
            "['평생 살아가다 수 많은 인연', '그 중에 너를 만난 건', '어떤 말로도 어떤 표현도', '전할 수 없어 난', '가만히 널 바라보면서', '너의 손을 잡고서', '우리가 함께한 시간들로', '너를 위한 노래할게', '바라만봐도 넌 좋은 사람', '행복해서 눈물 나는 사람', '너는 나에게 전부가 되고', '선물같은 하루를 주고', '괜히 울컥해지는', '눈물나는 날에는', '언제나 내 곁에 기대어', '넌 편히 쉬면 돼', '때론 아플때마다', '날 안아준 너로 인해 버텨냈어', '별 볼 일 없던 하루가 왠지', '특별해지니까', '나의 품에서 오래오래', '마음껏 사랑받길', '한없이 너에게 주고 싶어', '너를 안아주고 싶어 MY LOVE', '바라만봐도 넌 좋은 사람', '행복해서 눈물 나는 사람', '너는 나에게 전부가 되고', '선물같은 하루를 주고', '괜히 울컥해지는', '눈물나는 날에는', '언제나 내 곁에 기대어', '넌 편히 쉬면 돼', '오랜 시간이 지나', '내 옆에 미소 띤 한사람', '너라면 좋겠어', '나에겐 첫 사람 너이니까 약속해', 'I wanna love with you everyday', 'I`ll be there for you', '별처럼 빛나는 그런 사람', '나를 빛나게 만드는 사람', '사랑 그대로의 사랑으로', '너를 영원히 지켜줄게', '세상에 소리쳐', '너를 사랑한다는 그말', '너라서 고마워', '나에게 선물 같은 사람', '내 곁에서 날 믿어주는 넌 좋은 사람']\n"
          ]
        },
        {
          "output_type": "stream",
          "name": "stderr",
          "text": [
            "\r431it [3:09:00, 28.59s/it]"
          ]
        },
        {
          "output_type": "stream",
          "name": "stdout",
          "text": [
            "71\n",
            "['지금 내가 하는 얘기', '널 아프게 할지 몰라', '아마 날 죽도록 미워하게 될 거야', '내가 예전 같지 않다던 네 말', '모두 틀린 말은 아니야', '나도 변해버린 내가 낯 설기만해', '너무 착한 넌데 넌 그대로인데 Oh', 'I don’t know I don’t know', '내가 왜 이러는지', '그토록 사랑했는데 ', '넌 여기 있는데Oh', 'I don’t know', '이제 날 찾고 싶어', 'Baby I’m sorry ', '너와 있어도 난lonely', '사랑하긴 내가 부족한가 봐', '이런 못난 날 용서해', 'I’m sorry 이게 너와 나의 story', '사랑이란 내겐 과분한가 봐', '네 곁에 있어도', 'Baby I’m so lonely lonely', 'lonely lonely lonely ', 'Baby I’m so lonely lonely', 'lonely lonely lonely ', 'Baby I’m so lonely lonely', 'lonely lonely lonely ', 'Baby I’m so lonely lonely', 'lonely lonely lonely ', '네가 잘못한 게 아냐', '내가 이상한 거야', '이미 오래 전부터 난 준비 했나 봐', '이별을', '정말 잘해주고 싶었는데', '하필 사랑 앞에서는 왜', '이렇게 한없이 작아지고 외로운지', '너무 착한 넌데 넌 그대로인데 Oh', 'I don’t know I don’t know', '내가 왜 이러는지', '그토록 사랑했는데 ', '넌 여기 있는데 Oh', 'I don’t know', '이제 날 찾고 싶어', 'Baby I’m sorry ', '너와 있어도 난lonely', '사랑하긴 내가 부족한가 봐', '이런 못난 날 용서해', 'I’m sorry 이게 너와 나의 story', '사랑이란 내겐 과분한가 봐', '네 곁에 있어도', 'Baby I’m so lonely lonely', 'lonely lonely lonely ', 'Baby I’m so lonely lonely', 'lonely lonely lonely ', 'Baby I’m so lonely lonely', 'lonely lonely lonely ', 'Baby I’m so lonely lonely', 'lonely lonely lonely ', 'Cuz I’m just another girl', '이 밤이 외로워 난', '더는 견딜 수 없어 Good bye', 'Cuz I’m just another girl', '너무나 외로워', '지금 네 곁에 있어도 ', 'Baby I’m solonely', 'Lonely lonely lonely lonely lonely', 'Baby I’m so lonely lonely', 'lonely lonely lonely ', 'Baby I’m so lonely lonely', 'lonely lonely lonely ', 'Baby I’m so lonely lonely', 'lonely lonely lonely ']\n"
          ]
        },
        {
          "output_type": "stream",
          "name": "stderr",
          "text": [
            "\r432it [3:09:50, 35.22s/it]"
          ]
        },
        {
          "output_type": "stream",
          "name": "stdout",
          "text": [
            "50\n",
            "['내 머리는 너무나 나빠서', '너 하나밖에 난 모르고', '다른 사람을 보고있는 넌', '이런 내 마음도 모르겠지', '너의 하루에 나란 없겠지', '또 추억조차 없겠지만', '너만 바라만 보고있는 난', '자꾸 눈물이 흐르고있어', '너의 뒷 모습을', '보는것도 난 행복이야', '아직 나의 마음을 몰라도', '끝내 스치듯이 가도', '니가 너무 보고싶은 날엔', '너무 견디기 힘든 날에는', '너를 사랑한다 입가에 맴돌아', '혼자 다시 또 crying for you', '혼자 다시 또 missing for you', 'Baby I love you', \"I'm waiting for you\", '너의 하루에 난 없겠지', '또 기억조차 없겠지만', '너만 바라만 보고있는 나', '혼자 추억을 만들고 있어', '내겐 사랑이란 아름다운 상처같아', '너의 예쁜 미소를 보아도', '함께 난 웃지도 못해', '니가 너무 생각나는 날엔', '가슴 시리고 슬픈 날에는', '니가 보고싶다 입가에 맴돌아', '혼자 다시 또 crying for you', '혼자 다시 또 missing for you', 'Baby I love you', \"I'm waiting for you\", 'Bye bye never say good bye', '이렇게 잡지 못하지만', 'I need you', '아무 말도 못해 I want you', '바래도 다시 바래도', '니가 너무 보고싶은 날엔', '너무 견디기 힘든 날에는', '너를 사랑한다 입가에 맴돌아', '혼자 다시 또 crying for you', '니가 너무 생각나는 날엔', '가슴 시리고 슬픈 날에는', '니가 보고싶다 입가에 맴돌아', '혼자 다시 또 crying for you', '혼자 다시 또 missing for you', 'Baby I love you', \"I'm waiting for you\", ' ']\n"
          ]
        },
        {
          "output_type": "stream",
          "name": "stderr",
          "text": [
            "\r433it [3:10:24, 34.79s/it]"
          ]
        },
        {
          "output_type": "stream",
          "name": "stdout",
          "text": [
            "48\n",
            "['알 수 없는 그 계절의 끝', '나는 너를 사랑하고 있던 걸까', '어딘가에 우리 함께했던 ', '그 많은 시간이', '손 닿을 듯 어제 일 처럼 ', '되돌려지곤 해', '순간마다 네가 떠올라', '조용히 낮게 울리던 그 목소리', '봄을 닮은 햇살 같았던 ', '너의 모습까지', '언제나 넌 나의 매일을 ', '환하게 비췄어', '순간마다 네가 떠올라', '조용히 낮게 울리던 그 목소리', '봄을 닮은 햇살 같았던 ', '너의 모습까지', '아주 작은 기억들 조차 ', '여전히 선명해', '알 수 없는 그 계절의 끝', '나는 너를 사랑하고 있던 걸까', '어딘가에 우리 함께했던 ', '그 많은 시간이', '손 닿을 듯 어제 일 처럼 ', '되돌려지곤 해', '순간마다 네가 떠올라', '조용히 낮게 울리던 그 목소리', '봄을 닮은 햇살 같았던 ', '너의 모습까지', '언제나 넌 나의 매일을 ', '환하게 비췄어', '순간마다 네가 떠올라', '조용히 낮게 울리던 그 목소리', '봄을 닮은 햇살 같았던 ', '너의 모습까지', '아주 작은 기억들 조차 ', '여전히 선명해', '우린 어디쯤 있을까', '수 많았던 기억들을 되돌려봐', '우린 행복했던 걸까', '알 수 없는 마음들만', '제자리에 남아', '순간마다 네가 떠올라', '조용히 낮게 울리던 그 목소리', '봄을 닮아 햇살 같았던 ', '너의 모습까지', '아직도 난 너를 잊지 않아', '우린 어디쯤 있을까', '우리는 행복했던 걸까']\n"
          ]
        },
        {
          "output_type": "stream",
          "name": "stderr",
          "text": [
            "\r434it [3:10:56, 34.09s/it]"
          ]
        },
        {
          "output_type": "stream",
          "name": "stdout",
          "text": [
            "41\n",
            "['세상이란 게 제법 춥네요', '당신의 안에서 살던 때 보다', '모자람 없이 주신 사랑이', '과분하다 느낄 때쯤', '난 어른이 됐죠', '한 송이 꽃을 피우려', '작은 두 눈에', '얼마나 많은 비가 내렸을까', 'Oh rewind', '돌이킬수록 더 미안', '포기 안 하려 포기해버린', '젊고 아름다운 당신의 계절', '여길 봐 예쁘게 피었으니까', '바닥에 떨어지더라도', '꽃길만 걷게 해줄게요', '문득 쳐다본 그 입가에는', '미소가 폈지만 주름이 졌죠', '내게 인생을 선물해주고', '사랑해란 말이', '그리도 고마운가요', '한 송이 꽃을 피우려', '작은 두 눈에', '얼마나 많은 비가 내렸을까', 'oh rewind', '돌이킬수록 더 미안', '포기 안 하려 포기해버린', '젊고 아름다운 당신의 계절', '여길 봐 예쁘게 피었으니까', '바닥에 떨어지더라도', '꽃길만 걷게 해줄게요', '겨울이 와도 마음속에', '봄 향기가 가득한 건', '한결같이 시들지 않는', '사랑 때문이죠', 'oh rewind', '짧은 바람 같던 시간', '날 품에 안고 흔들림 없는', '화분이 되어준 당신의 세월', '여길 봐 행복만 남았으니까', '다 내려놓고 이 손잡아요', '꽃길만 걷게 해줄게요']\n"
          ]
        },
        {
          "output_type": "stream",
          "name": "stderr",
          "text": [
            "\r435it [3:11:24, 32.27s/it]"
          ]
        },
        {
          "output_type": "stream",
          "name": "stdout",
          "text": [
            "40\n",
            "['우리 하지 못한 말들 마저 얘기해요', '산들바람이 우릴 감싸줄 때', '이렇게 마주 앉아', '이별에 대해 말해보아요', '이번 겨울이 지나고 꽃이 피고 나면', '우리 이대로', '다 괜찮을 거라 했었는데', '아무리 노력을 해도 시들어가는 맘', '견디기 힘들어', '사월이 지나면', '그땐 우리 아무 일도 없듯이', '발길을 돌려요', '그래야 마지막 우리 인사가', '아름다울 수 있게', '그때까진 조금만 더 웃어요', '웃어요', '다시 시간을 되돌려 처음 만난다면', '가로등 옆에 서 있지 말아요', '미소 짓지도 왼손으로', '머릴 넘기지 마요', '그래야 내가 그대를 지나칠 테니까', '사월이 지나면', '그땐 우리 아무 일도 없듯이', '발길을 돌려요', '그래야 마지막 우리 인사가', '아름다울 수 있게', '그때까진 조금만 더 웃어요', '네 맘을 다독여봐도', '변하는 이율 물어도 멀어져', '그러니 이런 나보다', '더 나은 사람을 만나', '미소 짓기를 바래요', '그대가 멀어진 만큼', '시야가 흐려지네요', '사랑했었기 때문에', '우리 마지막 인사를 해요', '이 시간이 가기 전에 행복해요', '그걸 빌어요', '기억해요 사랑했단 걸 우리', '우리 우리 우리']\n"
          ]
        },
        {
          "output_type": "stream",
          "name": "stderr",
          "text": [
            "\r436it [3:11:52, 30.90s/it]"
          ]
        },
        {
          "output_type": "stream",
          "name": "stdout",
          "text": [
            "31\n",
            "['후회하고 있어요', '우리 다투던 그날', '괜한 자존심 때문에', '끝내자고 말을 해버린 거야', '금방 볼 줄 알았어', '날 찾길 바랬어', '허나 며칠이 지나도', '아무 소식조차 없어', '항상 내게 너무 잘해줘서', '쉽게 생각했나 봐', '이젠 알아 내 고집 때문에', '힘들었던 너를', '이 바보야 진짜 아니야', '아직도 나를 그렇게 몰라', '너를 가진 사람 나밖엔 없는데', '제발 나를 떠나가지 마', '언제라도 내 편이 돼준 너', '고마운 줄 모르고', '철없이 난 멋대로 한거', '용서할 수 없니', '이 바보야 진짜 아니야', '아직도 나를 그렇게 몰라', '너를 가진 사람', '나 밖엔 없는데', '제발 떠나가지 마', '너 하나만 사랑하는데', '이대로 나를 두고 가지 마', '나를 버리지 마', '그냥 날 안아줘', '다시 사랑하게 돌아와', '다시 사랑하게 돌아와']\n"
          ]
        },
        {
          "output_type": "stream",
          "name": "stderr",
          "text": [
            "\r437it [3:12:13, 27.86s/it]"
          ]
        },
        {
          "output_type": "stream",
          "name": "stdout",
          "text": [
            "47\n",
            "['가만히 누워있길', '딱 세 시간째', '멍하니 그저 멍하니', '자꾸 네가 생각나', '환히 웃고 있는 네 사진을', '보는 게 아니었는데', '이별을 실감한지', '딱 일주일째', '가만히 그저 가만히', '자꾸 네가 떠올라', '잘 지낸다는 네 소식을', '듣는 게 아니었는데', '나 사실 너무 힘들어', '잘 지내는척해도', '돌아서면 혼자 남겨진', '방에서 울기만 했어', '애써 밝은척하는', '초라한 모습이 들키기 싫어', '너도 그렇게 환하게', '웃고만 있는지', '우리가 헤어진 지', '딱 서른 밤째', '우연히 그저 우연히', '네가 보고 싶어서', '너네 집 나무 앞을 한참 동안', '빙빙 맴돌기만 하다가', '그렇게 둘이 걷던', '그 골목길을', '쓸쓸히 그저 쓸쓸히', '혼자 걸어보다가', '다리에 힘이 풀려 한참 동안', '주저앉아 울기만 했어', '나 사실 너무 힘들어', '잘 지내보려 해도', '하루하루 점점 너의', '빈자리만 커져가는 걸', '애써 웃어 보이는', '쓸쓸한 모습이 들키기 싫어', '너도 나처럼 그리워하고만 있을지', '나 사실 너무 힘들어', '잘 참아보려 해도', '돌아서면 혼자 어두운', '밤마다 울고 있는 걸', '애써 밝은척하는', '초라한 모습이 들키기 싫어', '너도 나처럼 숨죽여', '울고만 있는지']\n"
          ]
        },
        {
          "output_type": "stream",
          "name": "stderr",
          "text": [
            "\r438it [3:12:46, 29.31s/it]"
          ]
        },
        {
          "output_type": "stream",
          "name": "stdout",
          "text": [
            "42\n",
            "['유난히 추운 날', '따스한 햇살 같던 날', '그대를 처음 마주했던 밤', '웃음이 새어 나오고', '설레는 맘을 간직했었던', '그 날의 우리', '점점 서로가 당연한 듯 익숙해질 때', '그때 알았어야 했어', '조금 섣불렀단 걸', '다시는 사랑하지 않고', '이별에 아파하기 싫어', '내가 싫어 떠나간 그대를', '기다리는 나', '아닌 척하는 게 힘들어', '아직도 네가 많이 보고 싶어', '네 생각에 아파오는 나', '그대를 탓하며 혼자서 원망했던 날', '사실 이별을 인정하기 싫었어', '차가워진 네 말투를', '그럴 수 있다며', '난 괜찮다고 아무렇지 않다고', '사랑해 아직 잊지 못해', '아직도 슬퍼하는 나야', '돌이킬 수 없단 걸 알지만', '사랑한다고', '아닌 척하는 게 힘들어', '아직도 네가 많이 보고 싶어', '추억에 또 아파오는 나', '떠나가던 날', '붙잡을 수 없었던', '나를 미워하며 보낸 지난날', '그대가 내게 돌아오는 날만 기다려', '찢어질 듯 아팠다고', '날 사랑해달라고', '미안해 아직 잊지 못해', '아직도 슬퍼하는 나야', '돌이킬 수 없단 걸 알지만', '사랑한다고', '아닌 척하는 게 힘들어', '아직도 네가 많이 보고 싶어', '추억에 또 아파오는 나', '이별에 또 울고 있는 나']\n"
          ]
        },
        {
          "output_type": "stream",
          "name": "stderr",
          "text": [
            "\r439it [3:13:15, 29.44s/it]"
          ]
        },
        {
          "output_type": "stream",
          "name": "stdout",
          "text": [
            "36\n",
            "['그립고 그립고 그립다', '가슴이 찢어질 것 같아서', '어깨도 못펴고 또 하루를 보냈어', '눈물이 그냥 왈칵 쏟아질 것 같아서', '미친 척 웃었어', '그래 나는 바보야', '너 한사람만 보는 바보', '떠나는 널 잡지도 못해', '그래놓고 잊지도 못해', '널 사랑한다', '널 사랑한다', '나에겐 하나뿐인 사람이여', '그립고 그립고 그립다', '그립고 그립고 그립다', '네 추억 세어보다 잠들어', '혹시나 꿈에선 너를 볼 수 있을까', '네 물건 하나도 난 버릴 수가 없잖아', '다 너만 같아서', '내 심장은 바보야', '너 한사람만 사는 바보', '죽을 것처럼 아파도 좋아', '이러다가 죽어도 좋아', '널 사랑한다', '널 사랑한다', '나에겐 하나뿐인 사람이여', '그립고 그립고 그립다', '그립고 그립고 그립다', '날 다 줬으니까 나 후회는 없지만', '더 해줄 수 없어 가슴 치고만 있잖아', '널 사랑한다', '널 사랑한다', '더이상 니가 곁에 없다는게', '아프고 아프고 아프다', '아프고 아프고 아파도', '그립고 그립고 그립다', ' ']\n"
          ]
        },
        {
          "output_type": "stream",
          "name": "stderr",
          "text": [
            "\r440it [3:13:40, 28.06s/it]"
          ]
        },
        {
          "output_type": "stream",
          "name": "stdout",
          "text": [
            "49\n",
            "['그날의 우리는 어디 있을까', '아무 흔적 없이 멀어진 기억들', '함께 느꼈던 그때 향기를', '아직도 기억해', '우린 이제 마지막인 걸까', '밤새 나누던 하루의 일상이', '이제는 더 멀게만 느껴져', '보고 싶단 말이 사랑한단 말이', '이젠 의미 없어 나를 울리고 있어', '외로운 밤', '난 너를 지워내려 해', '이별의 순간 깨지 못할 꿈처럼', '가까이 갈 수가 없어', '한 걸음씩 멀어지는 너에게', '더는 할 말이 없어', '널 보내고', '우리 사랑했던 시간이', '생각이 나면', '그때 한 번쯤은 너 날 떠올려주면 돼', '이 빈자리 너의 온기가', '그리울 거야', '이제는 널 지울게', '그토록 바랬던 너였었는데', '하고픈 말 아직 남았는데', '이미 늦어버린 걸', '돌이킬 수 없단 걸 알아', '바보처럼 울고 있는 너와 나', '외로운 밤', '난 너를 지워내려 해', '이별의 순간 깨지 못할 꿈처럼', '가까이 갈 수가 없어', '한 걸음씩 멀어지는 너에게', '더는 할 말이 없어', '널 떠나보낼게', '마지막 미소가', '계속 떠올라 네가 보고파', '언젠가', '우리 다시 만나면', '그땐 이렇게 아프지 말자고', '이렇게 약속할게', '한 걸음씩 멀어지는 너에게', '행복하길 바래 ', '널 보내고', '우리 사랑했던 시간이', '생각이 나면', '그때 한 번쯤은 날 떠올려 줄래', '이 빈자리 너의 온기가', '그리울 거야', '이제는 널 지울게']\n"
          ]
        },
        {
          "output_type": "stream",
          "name": "stderr",
          "text": [
            "\r441it [3:14:14, 29.89s/it]"
          ]
        },
        {
          "output_type": "stream",
          "name": "stdout",
          "text": [
            "42\n",
            "['있잖아 문득', '중요한 일을 까먹은 듯한 그런 기분', '건망증처럼', '그래 나도 문득', '아직 못다한 얘기가 자꾸 맴돌아', '혼잣말처럼', '우리 밤새 서로 미루다', '끝내 하지 못한 말', '그대 모르게', '연습했었던 말', '뭐가 그렇게 두려웠는지', '더 멀어질까 못한 말', '지금이라도 전한다면', '잊혀지게 될까', '널 잊을 수 있을까', '이젠', '혹시 부담될까', '네 안부조차 모르는 게', '널 위한 배려라 날 위한 배려라', '믿었었나 봐', '우리 밤새 서로 미루다', '끝내 하지 못한 말', '그대 모르게', '연습했었던 말', '뭐가 그렇게 두려웠는지', '더 멀어질까 못한 말', '지금이라도 전한다면', '잊혀지게 될까', '널 잊을 수 있을까', '잘 지내도 돼', '영영 못 잊어도 돼', '또 다신 너를 보낼 수가 없어', '밤새 서로 미루다', '끝내 하지 못한 말', '수백 번 넘게', '꾹 삼켰던 그 말', '먼저 다가오기를 기다린', '어리석었던 우리의', '모든 걸 바꿀 수 있었던', '하고 싶었던 말', '꼭 듣고 싶었던 말', 'Stay']\n"
          ]
        },
        {
          "output_type": "stream",
          "name": "stderr",
          "text": [
            "\r442it [3:14:43, 29.45s/it]"
          ]
        },
        {
          "output_type": "stream",
          "name": "stdout",
          "text": [
            "32\n",
            "['시간이 흐르고 흘러도', '여전히 나의 가슴에 남아', '그리운 그 이름 불러도', '대답 없는 그대라서', '혼자 운다 너란 바람', '미련히 아직 기다리다가', '가슴에 차오르는 아픔이', '그댈 다 잊으라 해도', '내 맘 속 깊은 곳엔', '아직 그대가 살아서', '멀어지려 해봐도', '지워보려 해봐도', '여전히 난 너를 기다려', '혼자 운다 그대라서', '여전히 미련 못 버리다가', '가슴에 차오르는 아픔이', '그댈 다 버리라 해도', '내 맘 속 깊은 곳엔', '아직 그대가 살아서', '멀어지려 해봐도', '지워보려 해봐도', '여전히 난 너를 기다려', '워어어어어어', '아직 그대가 살아서', '멀어지려 해봐도', '잊어보려 해봐도', '여전히 난 너를 기다려', '그대와 나눈 기억은', '영원히 아름다워서', '멀어지려 해봐도', '또 다시 무너지는 쓰러진', '나를 붙잡아줘']\n"
          ]
        },
        {
          "output_type": "stream",
          "name": "stderr",
          "text": [
            "\r443it [3:15:04, 27.09s/it]"
          ]
        },
        {
          "output_type": "stream",
          "name": "stdout",
          "text": [
            "34\n",
            "['오늘은 무슨일 인거니', '울었던 얼굴 같은걸', '그가 너의 마음을 아프게 했니', '나에겐 세상 젤 소중한 너인데', '자판기 커피를 내밀어', '그속에 감춰온 내 맘을 담아', '고마워 오빤 너무 좋은 사람이야', '그 한마디에 난 웃을뿐', '혹시 넌 기억하고 있을까', '내 친구 학교 앞에 놀러왔던 날', '우리들 연인같다 장난쳤을때', '넌 웃었고 난 밤 지새웠지', '니가 웃으면 나도 좋아', '넌 장난이라 해도', '널 기다렸던 날 널 보고 싶던 밤', '내겐 벅찬 행복 가득한데', '나는 혼자여도 괜찮아', '널 볼수만 있다면', '늘 너의 뒤에서 늘 널 바라보는', '그게 내가 가진 몫인것만 같아', '친구들 지겹다 말하지', '늘 같은 노랠 부르는 나에게', '하지만 그게 바로 내 마음인걸', '그대 먼곳만 보네요', '혹시 넌 그날 내맘을 알까', '우리들 아는 친구 모두 모인밤', '술취한 널 데리러 온 그를 내게', '인사시켰던 나의 생일 날', '니가 좋으면 나도 좋아', '니 옆에 그를 보며', '나완 너무 다른 난 초라해지는', '그에게 널 부탁한다는 말 밖에', '널 울리는 사람과', '위로 밖에 못하는']\n"
          ]
        },
        {
          "output_type": "stream",
          "name": "stderr",
          "text": [
            "\r444it [3:15:28, 25.98s/it]"
          ]
        },
        {
          "output_type": "stream",
          "name": "stdout",
          "text": [
            "53\n",
            "['안녕 잘 지내니', '귀엽던 니 얼굴은 예전과 같은지', '조금 늦은 안부', '늦은 이별을 담아 쓴다', '뜬금없이 웬 편지냐고  ', '묻진 않을지', '메시지 미니 홈피 흔한데 굳이', '펜을 드는 건 혹시나', '내 맘 다 못 전할까봐', '다른 방법으론', '역시나 안 될 거 같아', '힘겹더라 많이 사랑했던 터라', '뭐 하나 하나', '내 뜻대로 되는 게 없더라', '그만 널 괴롭혀라', '스스로 다짐하고', '죽은 듯 기다려도', '니가 오는 건 아니더라', '잘가요 내 사랑', '이젠 보내줄게요', '기억 추억 모두 잊을게요', '지우고 지워서 사랑 한 점도', '비워 낼게요 내 맘에서', '한 번 단 한번만 널', '다시 보게 되면 얼마나 좋을까', '이런 더딘 미련', '눈물도 모두 지우련다', '몸이 멀어지면', '마음도 멀어진단 말', '하나도 내겐 소용 없더라', '다 거짓말', '하루 하루 갈수록 초췌해지는', '내가 안쓰러 돌아갈 순 없을까', '매일을 물어 내게 스스로', '애타는 내 맘을', '쥐어짜내 소리쳐 봤자', '네겐 들리지가 않는다', '추억의 끝에서야', '이별을 깨달은 후에야', '내 맘에서 널 보낸다 안녕', '잘가요 내 사랑', '이젠 보내줄게요', '기억 추억 모두 잊을게요', '지우고 지워서 사랑 한 점도', '비워 낼게요 내 맘에서', '더 시간이 지나면', '너를 잊을 줄 알았는데', '다시 또 다시 내 맘속에 찾아와', '안돼요 내 사랑 보낼 수가 없네요', '그댈 그댈 잊어야 하는데', '지우고 지워도 내겐', '또 그대 뿐인가봐요', '미안해요']\n"
          ]
        },
        {
          "output_type": "stream",
          "name": "stderr",
          "text": [
            "\r445it [3:16:03, 28.79s/it]"
          ]
        },
        {
          "output_type": "stream",
          "name": "stdout",
          "text": [
            "26\n",
            "['긴 한숨만이 가득 차버린 내 안에', '바람이 불어오더니 안부를 물어', '머나먼 길을 돌아와 내 앞에 멈추어', '날 가엽게 생각해 잠시 머문 걸까', '언젠가 내게로 돌아온다는 말 없이', '넌 그렇게 떠나겠지', '네 향기만 남겨놓고', '먼 훗날에 우연히 다시 마주칠 때면', '어제 만난 것처럼 지그시 바라봐요', '아무렇지 않게', '코끝이 시려올 때면 한 번씩 떠올라', '힘들었던 맘에 따스히 위로를 남기고', '언젠가 내게로 돌아온다는 말 없이', '넌 그렇게 떠나겠지', '네 향기만 남겨놓고', '먼 훗날에 우연히 다시 마주칠 때면', '어제 만난 것처럼 지그시 바라봐요', '아무렇지 않게', '문득 내 얼굴 생각나면', '가끔씩 나를 스쳐 가며 한번 웃어줘요', '언젠가 내게로 돌아온다는 말 없이', '넌 그렇게 떠나겠지', '네 향기만 남겨놓고', '먼 훗날에 우연히 다시 마주칠 때면', '어제 만난 것처럼 지그시 바라봐요', '아무렇지 않게']\n"
          ]
        },
        {
          "output_type": "stream",
          "name": "stderr",
          "text": [
            "\r446it [3:16:21, 25.51s/it]"
          ]
        },
        {
          "output_type": "stream",
          "name": "stdout",
          "text": [
            "57\n",
            "['사랑을 선물했더니', '이별을 주려하다니', '이런 사람이었니', '너 왜 이렇게 못됐니', '나만 사랑한다면서', '우리 사랑 모두 거짓말이니', '니가 내게 이럴 줄 몰랐어', '여자의 마음을', '왜 이렇게 모르니', '정말 알다가도 모르는', '남자들의 마음을', '도대체 알수가 없어', '너는 내 남자이니까', '니가 내 사랑이니까', '다 미안해', '다 이해해', '헤어지지 말자', '밤 늦도록 술 마신다고', '담배 좀 그만 피라고', '귀찮은 잔소리도 하지 않을게', '미워도 사랑하니까', '성격이 조금 급하고', '속이 좁은 여자란 걸 알잖아', '고치려고 노력도 해볼게', '화장기가 없는', '맨 얼굴을 좋아한 너', '화장이 진한 것 같아', '거울을 보다가', '눈물로 다 지웠어', '너는 내 남자이니까', '니가 내 사랑이니까', '다 미안해', '다 이해해', '헤어지지 말자', '주말에 영화 보자고', '늦으면 전화하라고', '귀찮은 잔소리도 하지 않을게', '미워도 사랑하니까', '도대체 니가 얼마만큼', '잘난 놈이길래', '왜 이렇게 대체', '내 마음을 몰라주는데', '날 아프게 하는데', '늦어도 괜찮으니까', '좀 늦어도 괜찮으니까', '꼭 돌아온단 약속만 해줘', '미워도 사랑하니까', '미워도 사랑하니까', '아파도 사랑하니까', '너는 내 남자이니까', '니가 날 안아줘야 해', '모든 걸 다 알면서도', '속고 또 속아주는게', '여자의 마음인 걸 모르니', '아파도 사랑하니까', '미워도 사랑하니까', ' ']\n"
          ]
        },
        {
          "output_type": "stream",
          "name": "stderr",
          "text": [
            "\r447it [3:17:00, 29.51s/it]"
          ]
        },
        {
          "output_type": "stream",
          "name": "stdout",
          "text": [
            "43\n",
            "['가슴을 떼어논채', '살 순 없나요', '아무런 느낌도 없는 채로', '눈물을 닦을 힘도 숨쉴 힘도', '이제는 나 없죠', '그대는 숨죽여 속으로 울겠죠', '나보다 더 힘들겠죠', '다음이 또 있다면', '그땐 늦지 않게', '마음껏 더 사랑할텐데', '내가 살아온', '모든 행복을 더해도', '우리의 짧은 날만 못하죠', '어떻게 잊을까요', '어떻게 견뎌 낼까요', '나는 기도해요', '사랑이 우스운 나이까지', '단숨에 흘러가길', '수많은 사람 중 한명일 뿐인데', '하나 잃었을 뿐인데', '세상이 비틀대고', '아무 일도 아무 생각도', '난 할 수가 없죠', '내가 살아온', '모든 행복을 더해도', '우리의 짧은 날만 못하죠', '어떻게 잊을까요', '어떻게 견뎌 낼까요', '나는 기도해요', '사랑이 우스운 나이까지', '단숨에 흘러가길', '바라만 봐도 좋았던 나였는데', '욕심이 자라나', '이렇게 벌을 받나요', '보낸다는건', '내가 가졌던거겠죠', '한동안 내 것이던 그대죠', '그렇게 잊을 게요', '그렇게 견뎌 낼게요', '보내고 보내도', '헤어지고', '다시 헤어져도', '나는 또 그대겠죠']\n"
          ]
        },
        {
          "output_type": "stream",
          "name": "stderr",
          "text": [
            "\r448it [3:17:30, 29.64s/it]"
          ]
        },
        {
          "output_type": "stream",
          "name": "stdout",
          "text": [
            "44\n",
            "['우연히 날 찾아와', '사랑만 남기고 간 너', '하루가 지나', '몇 해가 흘러도', '아무 소식도 없는데', '세월에 변해버린', '날 보면 실망할까봐', '오늘도 나는', '설레이는 맘으로', '화장을 다시 고치곤해', '아무것도', '난 해준게 없어', '받기만 했을뿐', '그래서 미안해', '나같은 여자를', '왜 사랑했는지', '왜 떠나야 했는지', '어떻게든', '우린 다시', '사랑해~야해', '살다가 널 만나면', '모질게 따지고 싶어', '힘든 세상에', '나홀로 남겨두고', '왜 연락 한번', '없었느냐고', '아무것도', '난 해준게 없어', '받기만 했을뿐', '그래서 미안해', '나같은 여자를', '왜 사랑했는지', '왜 떠나야 했는지', '어떻게든', '우린 다시 사랑해야해', '그땐 너무 어려서', '몰랐던 사랑을', '이제야 알겠어~', '보잘것 없지만', '널 위해 남겨둔', '내 사랑을 받아줘', '어떻게든', '우린 다시', '사랑해~야해']\n"
          ]
        },
        {
          "output_type": "stream",
          "name": "stderr",
          "text": [
            "\r449it [3:18:00, 29.83s/it]"
          ]
        },
        {
          "output_type": "stream",
          "name": "stdout",
          "text": [
            "35\n",
            "['눈부신 햇살이 오늘도 ', '나를 감싸며  ', '살아있음을 그대에게  ', '난 감사해요', '부족한 내 마음이 누구에게  ', '힘이 될 줄은 ', '그것만으로 그대에게  ', '난 감사해요', '그 누구에게도 내 사람이란게  ', '부끄럽지 않게 날 사랑할게요 ', '단 한순간에도 나의  ', '사람이란걸 ', '후회하지 않도록  ', '그댈 사랑할게요 ', '이제야 나 태어난 그 이유를  ', '알 것만 같아요  ', '그대를 만나 죽도록  ', '사랑하는게  ', '누군가 주신 나의 행복이죠 ', '그 어디에서도 나의 사람인걸 ', '잊을 수 없도록 늘 함께 할게요 ', '단 한순간에도  ', '나의 사랑이란걸  ', '아파하지 않도록 ', '그대 사랑할게요 ', '이제야 나 태어난 그 이유를 ', '알 것만 같아요 ', '그대를 만나  ', '죽도록 사랑하는게  ', '누군가 주신 내 삶의 이유라면 ', '더이상 나에게 그 무엇도  ', '바랄게 없어요 ', '지금처럼만 서로를 사랑하는게  ', '누군가 주신 나의 행복이죠  ', '누군가 주신 나의 행복이죠 ']\n"
          ]
        },
        {
          "output_type": "stream",
          "name": "stderr",
          "text": [
            "\r450it [3:18:25, 28.44s/it]"
          ]
        },
        {
          "output_type": "stream",
          "name": "stdout",
          "text": [
            "33\n",
            "['I love you 사랑한다는 이 말 밖에는', '해줄 말이 없네요', 'I love you 의미 없는 말이 되었지만', '사랑해요', '이제와서 무슨 소용 있겠어요', '다신 볼 수 없는 이별인데', '돌이킬 수 없는 걸 잘 알고 있지만', '어떻게든 그대 잡아 두고 싶은걸 우', '이 세상 아니라도 언젠가', '우리 다시 만날텐데', '눈물 한방울도 보여선 안되겠죠', '사랑에 빠지게 만들었던', '미소로 날 떠나요', '그 미소 하나로', '언제라도 그대를 찾아낼 수 있게', 'I love you 기억하나요 처음 그대에게', '느낀 그 떨림', 'I love you 오랜 후에서야 내게 해준', '그대 그 한마디', '우리 사랑 안될거라 생각했죠', '너무나도 아름다웠기에', '돌아서려 했었던 내 앞의 그대는', '꿈만같은 사랑으로 다가 왔었죠 우', '이 세상 아니라도 언젠가', '우리 다시 만날텐데', '눈물 한방울도 보여선 안되겠죠', '사랑에 빠지게 만들었던', '미소로 날 떠나요', '그 미소 하나로 언제라도 그대를', '찾아낼 수 있게', '언젠가 우리 다시 만나면', '약속 하나만 해요 이렇게 아프게', '너무 쉽게 헤어질 사랑하진 마요']\n"
          ]
        },
        {
          "output_type": "stream",
          "name": "stderr",
          "text": [
            "\r451it [3:18:48, 26.86s/it]"
          ]
        },
        {
          "output_type": "stream",
          "name": "stdout",
          "text": [
            "45\n",
            "['나의 두 눈을 감으면 ', '떠오르는 그 눈동자 ', '자꾸 가슴이 시려서 ', '잊혀지길 바랬어 ', '꿈이라면 이제 깨어났으면 제발 ', '정말 네가 나의 운명인 걸까 ', '넌 Falling You ', '운명처럼 너를 Falling ', '또 나를 부르네 Calling ', '헤어 나올 수 없어 제발 Hold Me ', '내 인연의 끈이 넌지 ', '기다린 네가 맞는지 ', '가슴이 먼저 왜 내려앉는지 ', 'Stay With Me  ', '내 마음속 깊은 곳에 네가 사는지  ', 'Stay With Me  ', '내 안에 숨겨왔던 진실  ', '나의 두 눈을 감으면 ', '떠오르는 그 눈동자 ', '자꾸 가슴이 시려서 ', '잊혀지길 바랬어 ', '꿈이라면 이제 깨어났으면 제발 ', '정말 네가 나의 운명인 걸까 ', '넌 Falling You ', '가슴은 뛰고 있어  ', '여전히 널 보고 있어 ', '자꾸만 숨이 막혀서 ', '아직은 멀리에서 ', '너를 지켜보고 싶어 ', '내가 또 왜 이러는지 ', '처음 너를 봤을때부터 다르게 ', '운명의 시간은 또 더디게 갔지 ', '내 가슴은 널 향했고 ', '내 심장은 다시 또 뛰었고  ', '꺼져버리던 희미한 불빛 ', '너로 인해 다시 타오르는 눈빛 ', '마치 오래전부터 널 사랑한 것 같아 ', '무언가에 이끌리듯 끌려온 것 같아 ', '나의 두 눈을 감으면 ', '떠오르는 그 눈동자 ', '자꾸 가슴이 시려서 ', '잊혀지길 바랬어 ', '꿈이라면 이제 깨어났으면 제발 ', '정말 네가 나의 운명인 걸까 ', '넌 Falling You ']\n"
          ]
        },
        {
          "output_type": "stream",
          "name": "stderr",
          "text": [
            "\r452it [3:19:20, 28.18s/it]"
          ]
        },
        {
          "output_type": "stream",
          "name": "stdout",
          "text": [
            "38\n",
            "['사실은 처음이라 나 몰랐어', '그래 그날 날 울리던 그 말', '처음 본 싸늘한 너의 그 모습', '그만 나 울어 버렸어', '울었어 뚝뚝뚝 눈물을 나 흘렸어', '털었어 훌훌훌 모든걸 다 털고서', '아파서 나 웃었어 그리고 물어봤어', '정말 날 떠날 건지', '닦았어 흘린 눈물쯤이야 난 닦았어', '뒤돌았어 아무렇지 않은 척', '나 걸었어', '우는 모습조차 우린 닮았었나 봐', '사랑했고 사랑했어', '너를 너무 많이 나는 사랑', '이제는 너를 보내야겠지', '우는 것도 웃는 것도', '이젠 내겐 모든 것이 아파', '울지마 내 마음아', '울었어 뚝뚝뚝 눈물을 나 흘렸어', '털었어 훌훌훌 모든걸 다 털고서', '아파서 나 웃었어 그리고 물어봤어', '정말 날 떠날 건지', '닦았어 흘린 눈물쯤이야 난 닦았어', '뒤돌았어 아무렇지 않은 척', '나 걸었어', '우는 모습조차 우린 닮았었나 봐', '사랑했고 사랑했어', '너를 너무 많이 나는 사랑', '이제는 너를 보내야겠지', '우는 것도 웃는 것도', '이젠 내겐 모든 것이 아파', '울지마 내 마음아', '사랑했고 사랑했어', '너를 너무 많이 나는 사랑', '이제는 너를 보내야겠지', '우는 것도 웃는 것도', '이젠 내겐 모든 것이 아파', '울지마 내 마음아']\n"
          ]
        },
        {
          "output_type": "stream",
          "name": "stderr",
          "text": [
            "\r453it [3:19:46, 27.64s/it]"
          ]
        },
        {
          "output_type": "stream",
          "name": "stdout",
          "text": [
            "49\n",
            "['사랑하지 않는데 사랑인 줄 알았대', '사랑한다 말할 때 그런 줄 알았대', '사랑을 몰랐대', '보내줘야 하는데 웃어줘야 하는데', '눈물이 왜 나는데 사랑이 아닌데', '왜 눈물 나는데', '잡고 싶은데 입이 떨어지질 않네요', '잘 가란 말이라도 해야죠', '우린 여기까지죠', '사랑이 깊어서 이별이 된 거죠', '조금만 사랑했더라면', '떠나지 않았을 텐데', '생각이 너무 많아서 혼자서', '이별을 만든 거죠', '헤어진 다음날에야 알았죠', '다시 사랑할 수 있을까', '혼자 두면 어떻게 해', '변해버린 하루에 익숙하지 않은데', '조급한 마음에 원망만 하는데', '후회하지만 다시 돌아갈 순 없겠죠', '내 마음은 그런 게 아닌데', '그땐 왜 보냈는데', '사랑이 깊어서 이별이 된 거죠', '조금만 사랑했더라면', '떠나지 않았을 텐데', '생각이 너무 많아서 혼자서', '이별을 만든 거죠', '헤어진 다음날에야 알았죠', '끝난 건가요 끝난 건가요', '정말 끝난 건가요 끝난 건가요', '말이 없네요 언제나 그랬죠', '언제나 말없이 내게 기댔었죠 그대는', '내게 언제나 그랬었죠', '마음 둘 곳이 없네요 끝난 거죠', '사랑이 깊어서 이별이 된 거죠', '조금만 사랑했더라면', '떠나지 않았을 텐데', '생각이 너무 많아서', '혼자서 이별을 만든 거죠', '어쩌다 우리가 이렇게 됐나요', '기약도 없나요', '여느 날처럼 내 전화를', '기다리지는 않나요', '자존심 때문인가요', '한번만 져줄 수는 없나요', '아직도 그대는 사랑을 모르죠', '다시 사랑할 수 있을까', '그런 날이 올 수 있을까', '다시 사랑할 수 있을까']\n"
          ]
        },
        {
          "output_type": "stream",
          "name": "stderr",
          "text": [
            "\r454it [3:20:19, 29.17s/it]"
          ]
        },
        {
          "output_type": "stream",
          "name": "stdout",
          "text": [
            "39\n",
            "['그때의 나는 너를 만나서', '하나부터 열까지', '모든 순간들이 소중했어', '내 첫사랑 잊고 싶지 않은 꿈', '영원히 바래지 않는 그 마음 말야', '꽤 오랜 날들이 지나고', '서로가 밉던 밤들도', '너무 보고 싶어 울던 밤도', '아름답게 기억할 수 있는 건', '그 시절 가장 예뻤던', '우리 때문 일거야', '나의 첫사랑', '행복하길 진심으로 바라고 있어', '우리의 이야기는 이렇게 끝나도', '오직 서롤 사랑했던 그 시간들에게', '언젠가 웃으며', '두 손을 흔들 날이 올 거야', '사랑이 전부였던 그때는', '아무것도 모른 채로', '매일 내일을 그려갔어', '철이 없던 영원할 줄 알았던', '그 시절 가장 빛나던', '우릴 기억할 거야', '나의 첫사랑', '행복하길 진심으로 바라고 있어', '우리의 이야기는 이렇게 끝나도', '오직 서롤 사랑했던 그 시간들에게', '언젠가 웃으며', '두 손을 흔들 날이 올 거야', '그 말을 기억하니', '내 마지막 한 사람이 너일 거라고', '어렵게 꺼낸 수줍은 말들은', '여기에 모두 간직하며 살게', '나의 첫사랑', '행복해줘 내게 부족했던 모든 걸', '채워줄 그런 사람 그 사람을 만나서', '오직 서롤 사랑했던 그 시간들에게', '언젠가 웃으며', '두 손을 흔들 날이 올 거야']\n"
          ]
        },
        {
          "output_type": "stream",
          "name": "stderr",
          "text": [
            "\r455it [3:20:46, 28.60s/it]"
          ]
        },
        {
          "output_type": "stream",
          "name": "stdout",
          "text": [
            "35\n",
            "['안녕 안녕 안녕', '사랑한 그녀가 보내달라 하네요', '안녕 안녕 안녕 밤하늘 별들아', '그녀 가는 길 비춰주길', '하나만 알려주세요', '어디에 살고 있을지 몇년쯤이야', '지금의 눈물 쯤은 참을 수 있겠죠', '시간이 흘러간데도', '십년이 지나 간데도', '그때도 사랑이면 난 어떡합니까', '어디서 그녈 찾아야 합니까', '안녕 안녕 안녕 돌아선 그녀가', '멀어져만 가네요', '안녕 안녕 안녕 부탁해 빗물아', '그녀 눈물을 씻겨', '하나만 알려주세요', '어디에 살고 있을지 몇년쯤이야', '지금의 눈물 쯤은 참을 수 있겠죠', '시간이 흘려간데도', '십년이 지나 간데도', '그 때도 사랑이면 난 어떡합니까', '어디서 그녈 찾아야 합니까', '들어줘요 내 사랑을 도와줘요', '누구든지 알고 있다면', '그 누구라도 데려다줘요', '하나만 전해주세요', '그녀와 마주친다면 적어도', '한 땐 그녀의 전부였던', '나의 그 이름을', '그녀도 기억한다면', '그녀도 울고 있다면', '그리움 하나라도 꼭 남아있다면', '내가 갈께요 날 기다려줘요', '제발 그녀를 꼭 찾아주세요', ' ']\n"
          ]
        },
        {
          "output_type": "stream",
          "name": "stderr",
          "text": [
            "\r456it [3:21:10, 27.28s/it]"
          ]
        },
        {
          "output_type": "stream",
          "name": "stdout",
          "text": [
            "43\n",
            "['제법 쓸쓸해진 아침 바람', '꽤나 외로워진 새벽 공기', '추억이란 뭐 그리 대단한지', '아주 잠시 떠오르곤 해', '별다른 게 없는 일상 속에', '우린 특별하지 않단 걸 알아서', '아쉬웠던 사랑은 애써 뒤로할게', '서롤 초라하게 했었으니', '잘 지내고 있는지 나 괜히 궁금해', '다시 사랑하고 싶은 간절함은 아닌데', '내가 기억하는 너의 하루들로', '예전 그대로의 삶을 살고 있는지', '같은 이유로 반복된', '우리 몇 번의 이별도', '그냥 가끔씩은 이렇게', '괜히 생각나는 걸', '묻고 싶은 너의 작은 안부조차', '스쳐가도록 남겨 둘게', '네가 없는 나의 시간들이', '때론 편안하게 느껴졌어', '손에 쥐고 놓아 주지 못했던 우린', '그래서 더 아파했었으니', '잘 지내고 있는지 나 괜히 궁금해', '다시 사랑하고 싶은 간절함은 아닌데', '내가 기억하는 너의 하루들로', '예전 그대로의 삶을 살고 있는지', '같은 이유로 반복된 우리 몇 번의 이별도', '그냥 가끔씩은 이렇게', '괜히 생각나는 걸', '묻고 싶은 너의 작은 안부조차', '스쳐가도록 남겨둘게', '허탈했던 네 목소리가 지나갈 때면', '잘 지내고 있는지 나 정말 궁금해', '다시 돌아가고 싶은', '나의 미련인 건지', '하고 싶던 말이 여태 남았는지', '혼자 남아 버린 내가 두려운 건지', '그땐 영원할 거라던', '너의 뻔한 거짓말도', '오늘따라 자꾸 이렇게', '많이 생각 나는 걸', '듣고 싶은 너의 작은 안부조차', '지나가도록 남겨둘게']\n"
          ]
        },
        {
          "output_type": "stream",
          "name": "stderr",
          "text": [
            "\r457it [3:21:40, 28.09s/it]"
          ]
        },
        {
          "output_type": "stream",
          "name": "stdout",
          "text": [
            "62\n",
            "['사랑을 만나 이별을 하고', '수없이 많은 날을 울고 웃었다', '시간이란 건 순간이란 게', '아름답고도 아프구나', '낭만 잃은 시인 거의 시체 같아', '바라고 있어 막연한 보답', '아픔을 피해 또 다른 아픔을 만나', '옆에 있던 행복을 못 찾았을까', '너를 보내고 얼마나', '나 많이 후회했는지 몰라', '지금 이 순간에도 많은 걸', '놓치고 있는데 말이야', '시간은 또 흘러 여기까지 왔네요', '지금도 결국 추억으로 남겠죠', '다시 시작하는 게 이젠 두려운걸요', '이별을 만나 아플까 봐', '사랑을 만나 이별을 하고', '수없이 많은 날을 울고 웃었다', '시간이란 건 순간이란 게', '아름답고도 아프구나', 'Yeah love then pain love then pain', \"Yeah let's learn from our mistakes\", '우린 실패로부터 성장해 ', '성장해', '사랑은 하고 싶지만', 'Nobody wants to deal ', 'with the pain that follows no', 'I understand them though', 'Yeah 이해돼 이해돼 ', '사랑이라는 게', '매일 웃게 하던 게 ', '이제는 매일 괴롭게 해 ', '괴로워', '아픈 건 없어지겠지만 ', '상처들은 영원해', \"But that's why it's called \", 'beautiful pain', '시간은 슬프게 기다리질 않네요', '오늘도 결국 어제가 되겠죠', '다시 시작하는 게', '너무나 힘든걸요', '어김없이 끝이 날까 봐', '사랑을 만나 이별을 하고', '수없이 많은 날을 울고 웃었다', '시간이란 건 순간이란 게', '아름답고도 아프구나', '사랑이란 건 멈출 수 없다 ', '아픔은 반복돼', '이렇게도 아픈데 또 찾아와 ', '사랑은 남몰래', '우린 누구나가 바보가 돼', '무기력하게도 한순간에', '오래도록 기다렸다는 듯', '아픈 사랑 앞에 물들어가', '그대를 만나 사랑을 하고', '그 어떤 순간보다 행복했었다', '그대는 부디 아프지 말고', '아름다웠길 바란다', '사랑을 만나 이별을 하고 ', '수없이 많은 날을 울고 웃었다', '시간이란 건 순간이란 게', '아름답고도 아프구나']\n"
          ]
        },
        {
          "output_type": "stream",
          "name": "stderr",
          "text": [
            "\r458it [3:22:23, 32.51s/it]"
          ]
        },
        {
          "output_type": "stream",
          "name": "stdout",
          "text": [
            "56\n",
            "['아침에 눈을 뜨면', '네 생각이나', '창밖을 바라보다', '네 생각이나', '그렇게 멍하니', '또 하루가 흘러가', '너도 날 가끔씩은', '떠 올릴까 네 생각이나', '어느새 내 주변의 모든 건 ', '익숙한 향기로', '너에게 물들어', '화초에 꽃이 피어', '네 생각이나', '예쁜 걸 볼 때마다', '네 생각이나', '내 취향은 아니지만', '네가 좋아하는', '그 노랫말 하루 종일', '흥얼거려 네 생각이나', '사랑이 내게도', '찾아왔나 봐', '어느새 내 주변의 모든 건', '처음 보는 색으로', '내 맘처럼 피어나', '푸르던 하늘에', '무지갯빛이 나', '갈라진 골목길도', '모네의 그림 같아', '이렇게 변한', '나를 내가 봐도', '참 우습기만 하지만', '어쩔 수 없나 봐', '하루 종일 바보처럼', '네 생각이나', '그렇게 멍하니', '또 하루가 흘러가', '아침에 눈을 뜨면', '네 생각이나', '양치를 하다가도', '네 생각이나', '그렇게 멍하니', '또 하루가 흘러가', '너도 날 가끔 떠올릴까', '네 생각이나', '화초에 꽃이 피어', '네 생각이나', '커피를 마시다가', '네 생각이나', '이렇게 변한', '나를 내가 봐도', '참 우습기만 하지만', '어쩔 수 없나 봐', '온종일 바보처럼', '네 생각이나', '네 생각이나', '오 네 생각이나']\n"
          ]
        },
        {
          "output_type": "stream",
          "name": "stderr",
          "text": [
            "\r459it [3:23:02, 34.31s/it]"
          ]
        },
        {
          "output_type": "stream",
          "name": "stdout",
          "text": [
            "24\n",
            "['마음이 알고 가', '낯선 길인데도', '니 숨결이 머문 자리는', '너무 그립다', '그립다 못해 아프다', '누군가를 두 눈에 담았을 뿐인데', '눈물이', '그댄 내 삶의 이유 입니다', '겁 없는 사랑이라서', '사랑이 아픔을 앞서 나가서', '바라보는 일이 내 전부래도', '버릴 수 없는 그대 입니다', '어제도 그래 오늘도 반쯤', '날 미치게 망가트려놓고', '아무리 애써봐도', '지워지지 않을 그리움', '나를 사랑하지 않아도', '거칠 것이 없는 나라서', '이 사랑에 모든 걸 내던집니다', '끝이 결코 행복하지 않아도', '내 가슴이 가는 데로 따라 걷는다', '그댄 내가 사는 이유입니다', '바라보는 일이 내 전부래도', '손 놓지 못할 사랑입니다']\n"
          ]
        },
        {
          "output_type": "stream",
          "name": "stderr",
          "text": [
            "\r460it [3:23:19, 29.10s/it]"
          ]
        },
        {
          "output_type": "stream",
          "name": "stdout",
          "text": [
            "49\n",
            "['반복돼 오늘도 이렇게 ', '힘겨운 스물네 시간', '반복돼 오늘도 머리속엔', '온통 너라는 사람', '또 반복해 오늘도 너에게', '하지 못한 말', '수없이 반복해 나도 모르게 ', '너와 함께 듣던 이 노래', '마지막까지 날 걱정해주던 ', '니 눈빛 잘 알아', '그만큼 우리 미치도록 ', '사랑했잖아', '늘 안쓰러워하던 ', '그날들이 지나가면', '이젠 너도 맘 아플 일 ', '없을 거니까', '흔들리지마 이젠 나는 괜찮아', '너도 이젠 너의 갈길 ', '그대로 그냥 가면 돼', '내가 널 놓을 수 있게 ', '너도 그냥 날 놓아주면 돼', '아픈 기억들만 내게 두고 제발 가', '반복돼 오늘도 이렇게', '멍청히 하루가', '또 반복해 나도 모르게', '너와 함께 듣던 이 노래', '마지막까지 날 위로해주던 ', '니 눈물 잘 알아', '그만큼 우리 미치도록 ', '힘들었잖아', '사랑한 만큼 아프던 ', '그날들이 지나가면', '이젠 너도 좋은 기억만 ', '남을 거니까', '흔들리지마 이젠 나는 괜찮아', '너도 이젠 너의 갈길 ', '그대로 그냥 가면 돼', '내가 널 놓을 수 있게 ', '너도 그냥 날 놓아주면 돼', '좋은 기억들만 가지고 제발 가', '네가 잘 지냈으면 좋겠어', '행복하면 더 좋고', '흔들리지마 이젠 나는 괜찮아', '너도 이젠 너의 갈길 ', '그대로 그냥 가면 돼', '내가 널 놓을 수 있게 ', '너도 그냥 날 놓아주면 돼', '아픈 기억들만 내게 두고 ', '제발 가 제발 가']\n"
          ]
        },
        {
          "output_type": "stream",
          "name": "stderr",
          "text": [
            "\r461it [3:23:53, 30.65s/it]"
          ]
        },
        {
          "output_type": "stream",
          "name": "stdout",
          "text": [
            "29\n",
            "['나빠요 참 그대란 사람 ', '허락도 없이 왜 내 맘 가져요 ', '그대 때문에', '난 힘겹게 살고만 있는데 ', '그댄 모르잖아요', '알아요 나는 아니란 걸 ', '눈길 줄 만큼 보잘 것 없단걸', '다만 가끔씩', '그저 그 미소 여기 내게도 ', '나눠줄 순 없나요', '비록 사랑은 아니라도', '언젠간 한번쯤은 돌아봐 주겠죠 ', '한없이 뒤에서 기다리면', '오늘도 차마 못한 가슴속 한마디', '그댈 사랑합니다', '어제도 책상에 엎드려 ', '그댈 그리다 잠들었나봐요', '눈을 떠보니', '눈물에 녹아 흩어져 있던 ', '시린 그대 이름과', '헛된 바램뿐인 낙서만', '언젠간 한번쯤은 돌아봐 주겠죠 ', '한없이 뒤에서 기다리면', '오늘도 차마 못한 가슴속 한마디', '그댈 사랑합니다', '이젠 너무 나도 내겐 익숙한 ', '그대 뒷모습을 바라보며', '흐르는 눈물처럼 소리없는 그말', '그댈 사랑합니다']\n"
          ]
        },
        {
          "output_type": "stream",
          "name": "stderr",
          "text": [
            "\r462it [3:24:13, 27.56s/it]"
          ]
        },
        {
          "output_type": "stream",
          "name": "stdout",
          "text": [
            "22\n",
            "['그땐 아주 오랜 옛날이었지', '난 작고 어리석은 아이였고', '열병처럼 사랑에 취해 버리고', '심술궂게 그 맘을 내팽개쳤지', '내가 버린 건 어떠한 사랑인지', '생애 한번 뜨거운 설램인지', '두번 다시 또 오지 않는건지', '그땐 미처 알지 못했지', '오랜 뒤에 나는 알게 되었지', '난 작고 어리석었다는 것을', '술에 취해 집을 향하던 봄날에', '물결처럼 가슴이 일렁거렸지', '내가 버린건 어떠한 사랑인지', '생애 한번 뜨거운 설렘인지', '두번 다시 또 오지 않는건지', '그땐 미처 알지 못했지', '오 내가 놓아 버린건 ', '어떠한 사랑인지', '생애 한번 뜨거운 설렘인지', '두번 다시 또 오지 않는건지', '그땐 미처 알지 못했지 ', '예예예예예예']\n"
          ]
        },
        {
          "output_type": "stream",
          "name": "stderr",
          "text": [
            "\r463it [3:24:29, 23.94s/it]"
          ]
        },
        {
          "output_type": "stream",
          "name": "stdout",
          "text": [
            "28\n",
            "['알아요 얘기 안해도 잘 알아요 우리는 안된다는 걸 ', '그대는 가던 그 길을 가세요 더 미안해 하지마요 ', '다가가고 싶어지면 맘이 다 쉬도록 속으로 불러보죠 ', '불러도 못 오는 그대 맘이 더 아프면 어떡해요 ', '그대만 그대만 바람만바람만 ', '나 이렇게 달빛처럼 따라만 다닙니다 ', '이별로 끝날 사랑보다 그리움이 더 낫겠어요 ', '참 바보같은 난 바람만바람만 ', '보일듯 말듯이 마음도 숨깁니다 ', '뒷모습 하나만이리도 맘껏 볼 수 있게 ', '그래요 나는 하나도 몰랐어요 이렇게 아프다는 걸 ', '그대의 어깨 너머의 사랑도 다 보아야 한다는 걸 ', '멀어지고 싶어져도 한걸음 떼기가 무섭게 돌아보죠 ', '이름도 얼굴도 아득하게 잊혀지면 어떡해요 ', '그대만 그대만 바람만바람만 ', '나 이렇게 달빛처럼 따라만 다닙니다 ', '이별로 끝날 사랑보다 그리움이 더 낫겠어요 ', '참 바보같은 난 바람만바람만 ', '보일듯 말듯이 마음도 숨깁니다 ', '뒷모습 하나만이리도 맘껏 볼 수 있게 ', '부탁이예요 행복한 모습만 보여줘요 ', '사랑에 바쁜 그댄 나의 눈물 따윈 마음 쓸 겨룰 없도록 ', '그대만 그대만 바람만바람만 ', '나 오늘도 웃으면서 울면서 걷습니다. ', '그대 모습만 보인다면 행복한 눈물이니까요 ', '참 바보같은 난 바람만바람만 ', '보일듯 말듯이 마음도 숨깁니다 ', '사랑이 될 수 없다 해도 영원할 수 있게..']\n"
          ]
        },
        {
          "output_type": "stream",
          "name": "stderr",
          "text": [
            "\r464it [3:24:48, 22.44s/it]"
          ]
        },
        {
          "output_type": "stream",
          "name": "stdout",
          "text": [
            "42\n",
            "['시간이 유난히 좀 느리게 흐르고', '너와 나 그 사이에', '고요함이 번질 때', '기다리던 너에게', '이별을 건넨다면', '아무렇지 않게 안녕 말할 수 있길', '피우다 시들고 다시 그리워하다', '이렇게 이렇게 또 흐려진 너와 나', '끝이 없을 것 같던', '우리의 일기장에', '아무렇지 않게 안녕 말할 수 있길', '시린 마음 틈으로', '손을 내밀어 준 너', '좋은 기억들만 다 맘에 새겨둘 거야', '한 걸음 또 한 걸음', '멀어지는 뒷모습', '정말로 안녕', '보랏빛 구름이 머리 위를 채우고', '다시 또 밝아진 불빛 우릴 감싸면', '그때 눈을 맞추고', '이별을 건넨다면', '아무렇지 않게 안녕 말할 수 있길', '시린 마음 틈으로', '손을 내밀어 준 너', '좋은 기억들만 다 맘에 새겨둘 거야', '한 걸음 또 한 걸음', '멀어지는 뒷모습', '정말로 안녕', '머뭇대는 나는 아직', '너의 눈을 마주 바라보지 못해', '조금만 더 여기 서있을게', '시끄러운 나의 맘도', '새어 나올 것만 같은 눈물까지', '뒤로할게 웃으며 보낼게', '그래 이젠 안녕', '시린 마음 틈으로', '손을 내밀어준 너', '좋은 기억들만 다', '맘에 새겨둘 거야', '한 걸음 또 한 걸음', '멀어지는 뒷모습', '정말로 안녕']\n"
          ]
        },
        {
          "output_type": "stream",
          "name": "stderr",
          "text": [
            "\r465it [3:25:17, 24.57s/it]"
          ]
        },
        {
          "output_type": "stream",
          "name": "stdout",
          "text": [
            "37\n",
            "['나를 바라볼 땐 살짝 웃는', '익숙해 질 수 없는 그런 설렘', '아무렇지도 않은 내 일상속에', '스며들어 날 살아가게 한 사람', '같이 걷는 걸로도', '같이 있는 걸로도', '매순간이 너무 벅차올라', '같이 손을 잡고선', '같이 눈을 맞출땐', '너를 사랑한단 말 밖엔', '난 사실 사랑한단 말론 부족해', '이런 말은 너무 다들 하잖아', '너에게 사랑한단 말을 하지만', '내 마음을 다 담진 못한다고', '너를 만난후부턴', '자꾸 웃음이 많아', '주위 사람들은 변했다해', '아까 헤어졌는데', '벌써 보고싶잖아', '우리 사랑은 좀 특별해', '난 사실 사랑한단 말론 부족해', '이런 말은 너무 다들 하잖아', '너에게 사랑한단 말을 하지만', '내 마음을 다 담진 못한다고', '저 멀리서 나를 보고 웃는', '널 보며 너무 행복해서', '괜시리 두 눈가에', '눈물이 날까 니가 모르게 감췄어', '난 사실 사랑한단 말론 부족해', '이런 말은 너무 다들 하잖아', '너에게 사랑한단 말을 하지만', '내 마음을 다 담진 못한다고', '그래도 사랑한다 정말 사랑해', '이세상에서 널 가장 사랑해', '너에게 사랑한단 말로 못담은', '내 마음을 진심으로 다 줄게', '아이처럼 항상 웃게 해줄게']\n"
          ]
        },
        {
          "output_type": "stream",
          "name": "stderr",
          "text": [
            "\r466it [3:25:43, 25.07s/it]"
          ]
        },
        {
          "output_type": "stream",
          "name": "stdout",
          "text": [
            "36\n",
            "['그대를 다시 볼 수 있다는', '생각을 해요', '아마도 우린 끝없이 멀리', '돌아만 왔죠', '엊그제부터 또 생각이 나서', '이제 더는 안될 것 같아', '그대에게 말해요', '아무런 의미 없는 일상에', '들어와줘요', '그대와 함께하고 싶은 게', '참 많은걸요', '익숙해질 즘 그댈 기다리는 게', '왠지 마주칠 것만 같아', '마음이 떨려요', 'I’m the one who found your love', '그대 안에 내가 번져서', '그간에 맘들이 모두 녹아내리면', '내가 꿈꿔왔던 것처럼', '그렇게 나를 바라봐줘요', '혼자서 잠 못 이루고', '널 떠올렸던 밤', '별들이 반짝이던 그날에', '기도했었죠', '그대를 다시 다시 볼 수 있다면', '어디에 있건 당장이라도', '달려갈 텐데', 'I’m the one who found your love', '그대 안에 내가 번져서', '그간에 맘들이 모두 녹아내리면', '내가 꿈꿔왔던 것처럼', '그렇게 나를 바라봐줘요', 'I’m the one who found your love', '그대 안에 내가 번져서', '그간에 맘들이 모두 녹아내리면', '내가 꿈꿔왔던 것처럼 ', '그렇게 나를 바라봐줘요']\n"
          ]
        },
        {
          "output_type": "stream",
          "name": "stderr",
          "text": [
            "\r467it [3:26:09, 25.28s/it]"
          ]
        },
        {
          "output_type": "stream",
          "name": "stdout",
          "text": [
            "41\n",
            "['정신이 나갔었지 너의 자상함에 ', '너의 달콤함에 너의 거짓말에 ', '꿈이 변했었지 ', '유명한 가수보다', '좋은 아내가 되려 했지 정말 ', '정말 바보 같았어 ', '정말 바보 같았어', '노래가 늘었어 ', '너와 헤어지고 나서', '음악에 미쳐 살았더니 ', '모든 노래 가사가', '내 얘기 같았어 죽도록 불렀어', '조금씩 조금씩 ', '차차 눈물이 말라 갔어', '눈앞이 캄캄했지 어찌나 힘든지', '욕도 많이 했지 속도 다 버렸지', '이젠 다 끝났어 난 너 하나를 잃고 ', '더 큰 희망을 얻은 거야 ', '정말 정말 잘 된 일이야', '정말 잘된 일이야', '노래가 늘었어', ' 너와 헤어지고 나서', '음악에 미쳐 살았더니 ', '모든 노래 가사가', '내 얘기 같았어 죽도록 불렀어', '조금씩 조금씩 ', '차차 눈물이 말라 갔어', '언젠가 너에게 연락이 오겠지', '그 땐 남자답게 ', '축하해 주길 바래', '니 덕분이니까 고맙다는 인사', '나도 멋지게 준비 해둘게', '노래가 늘었어 ', '너와 헤어지고 나서', '음악에 미쳐 살았더니 ', '모든 노래 가사가', '내 얘기 같았어 죽도록 불렀어', '조금씩 조금씩 ', '차차 눈물이 말라 갔어', '차차 눈물이 말라 갔어', '차차 그렇게 널 잊었어']\n"
          ]
        },
        {
          "output_type": "stream",
          "name": "stderr",
          "text": [
            "\r468it [3:26:38, 26.23s/it]"
          ]
        },
        {
          "output_type": "stream",
          "name": "stdout",
          "text": [
            "35\n",
            "['그대를 바라볼 때면', '모든 게 멈추죠', '언제부턴지 나도 모르게였죠', '어느 날 꿈처럼 그대 다가와', '내 맘을 흔들죠', '운명이란 걸 나는 느꼈죠', 'I Love You', '듣고 있나요', 'Only You', '눈을 감아 봐요', '바람에 흩날려 온 그대 사랑', 'whenever wherever you are', 'whenever wherever you are', 'oh oh oh love love love', '어쩌다 내가 널 사랑했을까', '밀어내려 해도', '내 가슴이 널 알아봤을까', 'I Love You', '듣고 있나요', 'Only You', '눈을 감아 봐요', '모든 게 변해도 변하지 않아', '넌 나의 난 너의 사랑', '그대 조금 돌아온대도', '다시 나를 스쳐 지나더라도', '괜찮아요 그댈 위해', '내가 여기 있을게', 'I Love You', '잊지 말아요', 'Only You', '내 눈물의 고백', '바람에 흩날려 온 그대 사랑', 'whenever wherever you are', 'whenever wherever ', 'you are']\n"
          ]
        },
        {
          "output_type": "stream",
          "name": "stderr",
          "text": [
            "\r469it [3:27:01, 25.32s/it]"
          ]
        },
        {
          "output_type": "stream",
          "name": "stdout",
          "text": [
            "41\n",
            "['서쪽하늘로 노을은 지고  ', '이젠 슬픔이 돼버린 그대를  ', '다시 부를수 없을 것 같아  ', '또 한번 불러보네 ', '소리쳐 불러도 늘 허공에  ', '부서져 돌아오는 너의 이름  ', '이젠 더 견딜 힘조차 없게 ', '날 버려두고 가지  ', '사랑하는 날 떠나가는 날  ', '하늘도 슬퍼서 울어준 날  ', '빗속에 떠날 나였음을  ', '넌 알고 있는듯이 ', '비가오는 날엔 난 항상  ', '널 그리워해  ', '언젠간 널 다시 만나는  ', '그 날을 기다리며  ', '비내린 하늘은 왜그리  ', '날 슬프게해  ', '흩어진 내 눈물로 널  ', '잊고 싶은데  ', '비가오는 날엔 난 항상  ', '널 그리워해  ', '언젠간 널 다시 만나는  ', '그 날을 기다리며  ', '비내린 하늘은 왜그리  ', '날 슬프게해  ', '흩어진 내 눈물로 널  ', '잊고 싶은데  ', '가고싶어 널 보고싶어  ', '꼭 찾고 싶었어  ', '하지만 너의 모습은  ', '아직도 그 자리에  ', '비가오는 날엔 난 항상  ', '널 그리워해  ', '언젠간 널 다시 만나는  ', '그 날을 기다리며 ', '비내린 하늘은 왜그리 ', '날 슬프게해 ', '흩어진 내 눈물로 널 ', '잊고 싶은데 ', '하지만 난 널 사랑해 ']\n"
          ]
        },
        {
          "output_type": "stream",
          "name": "stderr",
          "text": [
            "\r470it [3:27:30, 26.51s/it]"
          ]
        },
        {
          "output_type": "stream",
          "name": "stdout",
          "text": [
            "37\n",
            "['진짜 놀란 게 뭔지 아니', '알람이 다정한 거 설레는 거', '유난히 무겁던 눈꺼풀이', '번쩍 떠지는 거 가벼운 거', '어딘가 전부 다 낯선 이 기분', '침대와 벽지 창 밖도 다', '어딘가 멀리 난 떠나온 기분', '딱 그 느낌이야', '네가 내게 온 그 날 후로', '부쩍 친절한 이 도시가', '날 반겨주는 걸 ', \"It's like dururururu\", '좋은 일이 생길 것 같아 ', '참 걷고 싶은 날이야', '다 손을 흔들며 ', \"It's like dururururu\", 'Parade parade parade parade ', '티파니에서 아침을 맞이한 기분', '주인공 같은 이런 착각도 뭐 한번쯤', '눈에 보이는 거 귀에 들리는 거', '전부 아름다워 지금', '다 이게 단 한 사람 때문에', '벌어진 일이야', '네가 내게 온 그 날 후로', '부쩍 친절한 이 도시가', '날 반겨주는 걸 ', \"It's like dururururu\", '좋은 일이 생길 것 같아 ', '참 걷고 싶은 날이야', '다 손을 흔들며 ', \"It's like dururururu\", 'Parade parade parade parade ', '사랑이란 한 순간', '나를 낯선 곳에 데려와', '정말 사랑이란 한 순간', '나를 낯선 곳에 데려와', 'Parade parade parade parade']\n"
          ]
        },
        {
          "output_type": "stream",
          "name": "stderr",
          "text": [
            "\r471it [3:27:56, 26.27s/it]"
          ]
        },
        {
          "output_type": "stream",
          "name": "stdout",
          "text": [
            "56\n",
            "['많은 사람들 분주한 인사', '우리 모두 모인 게 얼마 만인 건지', '하얀 드레스', '멋있어진 녀석', '정말 잘 어울려', '오랜 내 친구들 축하해', '기억나는지 우리 처음 만난 날', '새로운 꿈 시작된 3월의 캠퍼스', '어쩌면 그때 나는 알았나 봐', '너 때문에 웃고 울게 될 나를', '스무살', '그 시절', '우리 여름날의 멜로디', '가슴속에 늘 숨 쉬는 풍경 하나', '내 친구 처음 소개하던 날', '뭔가 달라 보이던 너의 표정', '넌 시작이었나 봐', '둘만의 비밀이', '닮아있는 말투가', '친구라는 슬픈 말이', '날 멈추게 만들어', '말할 수 없는 나의 고백', '용길 낼 수 없던 수많은 날', '너의 연인은 내 오랜 친구', '축복의 노래 꽃잎 흩날리면', '눈부신 너의 모습 얼마나 예쁠까', '매일 연습했던 말 이젠 안녕', '스무살', '그 시절', '우리 여름날의 멜로디', '아직 우릴 지켜준 나만의 약속', '술 취해 혼자 비틀대던 밤', '우리 셋 우정 지켜내잔 약속', '내겐 사랑이었음을', '둘만의 비밀이', '닮아있는 말투가', '친구라는 슬픈 말이', '날 멈추게 만들어', '말할 수 없는 나의 고백', '용길 낼 수 없던 수많은 날', '너의 연인은 내 오랜 친구', '너에게 하고 싶은 말 넘쳐흐르는데', '너만 보면 내 맘 춤을 추는데', '모르는 사이 베어버린 상처가', '널 보면 자꾸 아파', '저 문이 열린다 그녀가 들어온다', '난 고개를 들 수 없어', '이렇게 좋은 날에', '웃을 수밖에 없는 사람', '언제나 날 반기는 두 사람', '남겨진 나의 사랑', '오 나의 청춘이 멀어진다', '두 손 꼭 잡은 채로', '그토록 원했던 오늘을', '내 소중한 그녀의 내일을', '나의 오랜 친구여 부탁해']\n"
          ]
        },
        {
          "output_type": "stream",
          "name": "stderr",
          "text": [
            "\r472it [3:28:34, 29.97s/it]"
          ]
        },
        {
          "output_type": "stream",
          "name": "stdout",
          "text": [
            "28\n",
            "['멀어질 수 있을까', '너무 위험한 내게서', '멀리 떠나보내야 할 텐데', '뻔한 일이 될 걸 알기에', '널 이대로 놔둘 수가 없어서', '어떤 거짓말이라도 해야 했어', '제발 이곳을 벗어나', '상관없는 사람처럼', '다시 우리 마주쳐도 아니', '마주쳐서는 안돼', '끝내 약속을 지켜주지도 못한 내게', '넌 자꾸 사랑한다는 말만 되풀이해', '그래도 괜찮다고 그래도 된다고', '매일 너를 버렸던 나에게', '낯선 이곳에 너와 나', '처음부터 있던 걸까', '이게 그 운명이라도', '제발 아니라고 말해줘', '끝내 약속을 지켜주지도 못한 내게', '넌 자꾸 사랑한다는 말만 되풀이해', '그래도 괜찮다고 그래도 된다고', '매일 너의 눈물인 나에게', '변하는 사람은 오직 나뿐인가', '모두 그렇게 그 자린데', '넌 자꾸 사랑한단 그 말만 되풀이해', '그저 곁에 있겠다고 그래야 한다고', '매일 너의 눈물인 나에게', '매일 너를 버렸던 나에게']\n"
          ]
        },
        {
          "output_type": "stream",
          "name": "stderr",
          "text": [
            "\r473it [3:28:55, 27.03s/it]"
          ]
        },
        {
          "output_type": "stream",
          "name": "stdout",
          "text": [
            "22\n",
            "['들리나요 맑게개인 멜로디', '작은 아픔까지 끌어안고', '삶은 때론 그을린 노을처럼', '따듯한 내일을 약속해요', '기억해요 스쳐갔던 그 콧노래', '마주쳤던 눈물들', '잃어버린 꿈들을', '소중했던 날들을', '꿈꿔요 빛바랜 낙원에', '혼자 울고 있을 때', '세상을 비춰준 네 마음이', '내일을 마주하게 해', '보이나요 내가 머물던 자리', '언제나 당신을 기다리던', '삶은 때론 찬란한 별빛처럼', '바라보는 것만으로도 설레는', '어떻게 날아야 하는지', '고민하지 말아요', '소중한 한 조각 추억이', '당신을 날게 할 거예요', '이 말은 해주고 싶어요', '예쁜 꿈을 꾸라고']\n"
          ]
        },
        {
          "output_type": "stream",
          "name": "stderr",
          "text": [
            "\r474it [3:29:09, 23.35s/it]"
          ]
        },
        {
          "output_type": "stream",
          "name": "stdout",
          "text": [
            "16\n",
            "['나의 사랑이 멀어지네', '나의 어제는 사라지네', '태양을 따라 도는', '저 별들처럼 난 돌고 돌고 돌고', '그대를 향한 나의 이 어리석은', '사랑해 사랑해 사랑해', '머물지 못 하는 내 두 눈에 고인', '눈물이 흐르네', '나의 사랑은 떠나갔네', '나의 어제는 사라졌네', '지구를 따라 도는', '저 달 속에 비친 너의 얼굴 얼굴', '그 얼굴 위로 흐르던 너의 미소', '사랑해 사랑해 사랑해', '머물지 못하는 내 두 눈에 고인', '눈물이 흐르네']\n"
          ]
        },
        {
          "output_type": "stream",
          "name": "stderr",
          "text": [
            "\r475it [3:29:21, 19.77s/it]"
          ]
        },
        {
          "output_type": "stream",
          "name": "stdout",
          "text": [
            "45\n",
            "['소나기가 내려온다', '내 머리위로 갑자기', '말도 없이 젖어버리겠네', '추억이 흘러 내린다', '따라 눈물도 흐른다 바보처럼', '집에가는길 아직도 멀기만한데', '우산도 없이 감기걸릴것만 같아', '이 길이 너에게로', '돌아갈수 있는 길이면', '젖어도 좋은데', 'Oh Rain Drop Oh Rain Drop', '사랑이 참 모자라구나', 'Oh Rain Drop Oh Rain Drop', '사랑은 저 빗방울처럼', '모두 까맣게 잊어버리고', '젖어 버리고선', '아파하는 감기같은 걸까요', '지난 여름날 햇살아래 짜증내고', '뒤돌아 서버린 내 어리석음', '예전처럼 우산을 들고', '서있는 너를 본다면', '참좋을 것같아', 'Oh Rain Drop Oh Rain Drop', '사랑이 참 모자라구나', 'Oh Rain Drop Oh Rain Drop', '사랑은 저 빗방울처럼', '모두 까맣게 잊어버리고', '젖어 버리고선', '아파하는 감기같은 걸까요', '쉽게 내쳐버린 말', '야속했던 얘기로', '많이 상처받았을 네가슴 이지만', '오 아직도 내가 있다면', '그안에 내가 있다면', '젖은 발로 달려가고만 싶어', 'oh rain drop oh rain drop', '사랑이 참 모자라구나', 'oh rain drop oh rain drop', '사랑은 저 빗방울처럼', '정말 까맣게 잊어버리고', '젖어 버리고선', '아파하는 감기같은 걸까요', '그런 못된 감기같은 걸까요', '내사랑은 항상 왜 이럴까요', ' ']\n"
          ]
        },
        {
          "output_type": "stream",
          "name": "stderr",
          "text": [
            "\r476it [3:29:53, 23.43s/it]"
          ]
        },
        {
          "output_type": "stream",
          "name": "stdout",
          "text": [
            "38\n",
            "['두 눈을 떴을 때 정신을 차렸을 때', '주위를 둘러봤을 때 어둠이야', '두 손을 뻗어봐도 소리를 질러봐도', '목놓아 울어봐도 어둠이야', '그 시리던 순간의 반짝임', '이리도 길게 여운이 남아', '숨 막히는 한기만 이어져', '누군가 나를 구해줄까요', '수천 번의 봄과', '수천 번의 여름을', '지나오고서도', '머물러 있어 언제나 이곳에서', '오늘도 난 영원히 살아', '그 아리던 순간의 반짝임', '이리도 길게 여운이 남아', '살을 에는 한기만 이어져', '누군가 나를 구해줄까요', '수천 번의 삶과', '수천 번의 죽음을', '지나오고서도', '머물러 있어 언제나 이곳에서', '오늘도 난 영원히 살아', '속아도 그대 다쳐도 그대', '꿈에서도 그댈 그려요', '어디 있나요 오고 있나요', '나는 움직일 수 없어요', '속눈썹 위로 콧잔등 위로', '얼음 꽃들이 피어나요', '점점 그대를 닮아가요', '사랑이라는 걸 깨달을 새도 없이', '그댈 보내고서', '머물러 있어 언제나 이곳에서', '오늘도 난 영원히 살아', '수천 번의 계절', '수천 번의 매일을', '지나오고서도', '머물러 있어 언제나 이곳에서', '오늘도 난 영원히 살아']\n"
          ]
        },
        {
          "output_type": "stream",
          "name": "stderr",
          "text": [
            "\r477it [3:30:20, 24.52s/it]"
          ]
        },
        {
          "output_type": "stream",
          "name": "stdout",
          "text": [
            "28\n",
            "['나를 알게 되어서 기뻤는지', '나를 사랑해서 좋았었는지', '우릴 위해 불렀던 지나간 노래들이', '여전히 위로가 되는지 ', '당신이 이 모든 질문들에', '‘그렇다’ 고 대답해준다면', '그것만으로 끄덕이게 되는 나의 삶이란', '오, 충분히 의미 있지요', '내 맘에 아무 의문이 없어 난', '이렇게 흘러가요', '어디에도 없지만 어느 곳에나 있겠죠', '가능하리라 믿어요', '짧지 않은 나와의 기억들이', '조금은 당신을 웃게 하는지', '삶의 어느 지점에 우리가 함께였음이', '여전히 자랑이 되는지', '멋쩍은 이 모든 질문들에', '‘그렇다’ 고 대답해준다면', '그것만으로 글썽이게 되는 나의 삶이란', '오, 모르겠죠 어찌나 바라던 결말인지요', '내 맘에 아무 의문이 없어 난', '이 다음으로 가요', '툭툭 살다보면은 또 만나게 될 거예요', '그러리라고 믿어요 ', '이 밤에 아무 미련이 없어 난', '깊은 잠에 들어요', '어떤 꿈을 꿨는지 들려줄 날 오겠지요', '들어줄 거지요?']\n"
          ]
        },
        {
          "output_type": "stream",
          "name": "stderr",
          "text": [
            "\r478it [3:30:40, 23.26s/it]"
          ]
        },
        {
          "output_type": "stream",
          "name": "stdout",
          "text": [
            "36\n",
            "['문득 생각이나요', '우리 헤어지던 날', '마음 아팠던 그날을', '그대는 여전히 잘 지내나요', '이런 날이면 보고 싶어요', '아직 난 그댈 좋아한다고', '비가 내리는 날에는', '나를 생각해줘요', '함께 걸었던 거리를 기억해줘요', '비가 내리는 날이면', '조금 아파해줘요', '추억이 담긴 내 눈물이', '그대 어깰 적시도록', '그땐 왜 그리도 모질었나요', '헤어지기 싫다고 네게 소리 쳐봐도', '표정 하나 안 변하고 나를 밀어내던', '그대가 참 보고 싶은 날', '비가 내리는 날에는', '나를 생각해줘요', '함께 걸었던 거리를 기억해줘요', '비가 내리는 날이면', '조금 아파해줘요', '추억이 담긴 내 눈물이', '그대 어깰 적시도록', '어쩌죠 너무 보고 싶어요', '잠에 들 수도 없죠', '그대가 참 미워요', '비가 내리는 날에는', '나를 생각해줘요', '오늘 비가 내리네요', '그대가 그리워요', '함께 걸었던 거리를 걷고 있어요', '비가 내리는 날이면', '내가 많이 아파요', '내 눈물에 그대를 담아', '이제 그만 놓아주길']\n"
          ]
        },
        {
          "output_type": "stream",
          "name": "stderr",
          "text": [
            "\r479it [3:31:05, 23.68s/it]"
          ]
        },
        {
          "output_type": "stream",
          "name": "stdout",
          "text": [
            "28\n",
            "['잊지 못해 너를 있잖아', '아직도 눈물 흘리며 널 생각해', '늘 참지 못하고 투정 부린 것 미안해', '나만 원한다고 했잖아', '그렇게 웃고 울었던 기억들이', '다른 사랑으로 잊혀져', '지워지는 게 난 싫어', '어떻게든 다시 돌아오길 부탁해', '처음으로 다시 돌아가길 바랄게', '기다릴게 너를 하지만', '너무 늦어지면은 안 돼', '멀어지지마 더 가까이 제발', '모든 걸 말할 수 없잖아', '마지막 얘길 할 테니 좀 들어봐', '많이 사랑하면 할수록', '화만 내서 더 미안해', '어떻게든 다시 돌아오길 부탁해', '처음으로 다시 돌아가길 바랄게', '기다릴게 너를 하지만', '너무 늦어지면은 안 돼', '멀어지지마 더 가까이', '잊지 말고 다시 돌아오길 부탁해', '헤어지면 가슴 아플거라 생각해', '기다릴게 너를 하지만', '너무 늦어지면은 안 돼', '멀어지지마 더 가까이', '제발', '제발']\n"
          ]
        },
        {
          "output_type": "stream",
          "name": "stderr",
          "text": [
            "\r480it [3:31:24, 22.38s/it]"
          ]
        },
        {
          "output_type": "stream",
          "name": "stdout",
          "text": [
            "28\n",
            "['어느 순간부터 네 행동 하나에도', '내 기분이 달라지곤 해', '내겐 소중한 이 마음이', '별게 아닐까 봐서', '혼자 자꾸 숨기게 돼요', '서로가 서롤 알아보고', '같은 맘을 갖는 게', '얼마나 어려운지', '매일이 봄일 수는 없겠지만', '오늘도 난 봄을 기다려', '그날을 꿈꿔요 함께할 그날을', '작은 우연에도 의미를 담아 넣고', '나 혼자 사랑을 연습하곤 해', '네게 유일한 그 사람이', '내가 될 수 있을까', '수백 번 내 맘 다잡아요', '서로가 서롤 알아보고', '같은 맘을 갖는 게', '얼마나 어려운지', '매일이 봄일 수는 없겠지만', '오늘도 난 봄을 기다려', '그날을 꿈꿔요 함께할 그날을', '그대도 내 맘과 같기를', '혼자서 끝나버릴 사랑인데', '헛된 꿈을 꾸는 걸까 봐', '자꾸 겁이 나요 커지는 내 맘이', '언젠가는 봄이 오겠죠', '그날만을 기다릴게요']\n"
          ]
        },
        {
          "output_type": "stream",
          "name": "stderr",
          "text": [
            "\r481it [3:31:44, 21.65s/it]"
          ]
        },
        {
          "output_type": "stream",
          "name": "stdout",
          "text": [
            "43\n",
            "['조금만 아파도 눈물나요', '가슴이 소리쳐요', '그대 앞을 그대 곁을 지나면', '온통 세상이 그대인데', '그대만 그리는데', '그대 앞에선 숨을 죽여요', '내게 그대가 인연이 아닌 것처럼', '그저 스치는 순간인 것처럼', '쉽게 날 지나치는 그대 곁에', '또 다가가 한 걸음조차', '채 뗄 수 없을지라도', '서성이게 해 눈물짓게 해', '바보처럼 아이처럼', '차라리 그냥 웃어버려', '점점 다가 설수록', '자꾸 겁이 나지만', '이 사랑은 멈출 수가 없나봐', '왜 내 사랑만 더딘거죠', '내 사랑만 힘들죠', '그대 앞에 그대 곁에 있어도', '온통 세상이 그대인데', '그대만 보이는데', '그대 앞에선 난 먼 곳만 봐요', '내게 그대가 꼭 마지막 인 것처럼', '내게 마지막 순간인 것처럼', '쉽게 날 지나치는 그대 곁에', '또 다가가 한걸음 조차', '채 뗄 수 없을지라도', '서성이게 해 눈물짓게 해', '바보처럼 아이처럼', '차라리 그냥 웃어버려', '점점 다가 설수록', '자꾸 겁이 나지만', '이 사랑은 멈출 수가 없나봐', '먼 발치서 나 잠시라도', '그대 바라볼 수 있어도', '그게 사랑이죠', '혹시 이 기다림이 이 그리움이', '닿을 때면 들릴 때면', '차라리 모른 척 해줘요', '그대에게 갈수록', '자꾸 겁이 나지만', '이 사랑은 멈출 수가 없네요']\n"
          ]
        },
        {
          "output_type": "stream",
          "name": "stderr",
          "text": [
            "\r482it [3:32:13, 23.92s/it]"
          ]
        },
        {
          "output_type": "stream",
          "name": "stdout",
          "text": [
            "35\n",
            "['무슨 뜻인 건가요 지금 한 그 말 ', '잊으라는 지우라는 차가운 한 마디 ', '믿어지지 않아요 거짓말 같아 ', '왜 우리가 왜 우리가 헤어져야 해 ', ' ', '제발 말해줘요 잘못 들은 거라고 ', '이러다 내 가슴이 터지기 전에 ', ' ', '대체 네가 뭔데 날 울려 날 울려 ', '어떻게 네가 날 떠나가 ', '이렇게 버릴걸 왜 나를 가졌니 ', '사랑 그게 뭔데 이토록 ', '가슴에 힘겨운 상처만 남겨놔 ', '너 아닌 누구도 이제 다신 품을 수 없게 ', ' ', '나를 알잖아요 여린 사람이란 걸 ', '왜 기어코 자꾸 날 독해지게 해 ', ' ', '대체 네가 뭔데 날 울려 날 울려 ', '어떻게 네가 날 떠나가 ', '이렇게 버릴걸 왜 나를 가졌니 ', '사랑 그게 뭔데 이토록 가슴에 ', '힘겨운 상처만 남겨놔 ', '너 아닌 누구도 이제 다신 품을 수 없게 ', ' ', '도대체 어쩌라고 날 더러 날 더러 ', '왜 나를 미치게 만들어 ', '네까짓 게 뭔데 날 아프게 해 ', '그런 너를 위해 지금껏 모든 걸 ', '다 줬던 내가 난 더 미워 ', '그런 널 아직도 사랑하는 내가 더 미워 ', ' ', '사랑해 사랑해 사랑해 사랑해 아직도 너를 ', '사랑해 사랑해 사랑해 영원히 ', '돌아와 돌아와 나의 곁으로 제발']\n"
          ]
        },
        {
          "output_type": "stream",
          "name": "stderr",
          "text": [
            "\r483it [3:32:37, 23.98s/it]"
          ]
        },
        {
          "output_type": "stream",
          "name": "stdout",
          "text": [
            "30\n",
            "['오늘만은 아니길 바랬죠', '우리의 마지막 날이', '저물어 가던 그 시간 속에', '멈춘 우리를 그대로 지워가네요', '그 쉬운 인사 한번 하는 게', '그렇게 힘들었는지', '이 모든 얘기들을', '가슴 속에 깊이 묻어두고', '아무 말 없이 떨리는 눈엔', '눈물이 흘러', '차갑게 돌아서는 뒷모습만', '하염없이 바라만 보는 나', '혹시 그대 돌아와 줄 것 같아', '내 하루를 눈물로 보내요', '그 쉬운 인사 한번 하는 게', '그렇게 힘들었는지', '이 모든 얘기들을', '가슴 속에 깊이 묻어두고', '눈을 감으면 다시금', '그대 잡힐 듯하죠', '바보같이 길었던 우리 사랑을', '이렇게 또 한 번 불러보면', '나를 보던 그대 행복했던', '그 미소가 이토록 나를 괴롭히는데', '혹시 그대 돌아와 줄 것 같아', '그대 하나만을 기다려요', '차갑게 돌아서는 뒷모습만', '하염없이 바라만 보아도', '혹시 그대 돌아와 안아줄 것 같아', '매일매일 그대만 그리는 나죠']\n"
          ]
        },
        {
          "output_type": "stream",
          "name": "stderr",
          "text": [
            "\r484it [3:32:58, 23.08s/it]"
          ]
        },
        {
          "output_type": "stream",
          "name": "stdout",
          "text": [
            "31\n",
            "['좋은사람', '준비없이 비를 만난것처럼', '아무말 못한채 너를 보낸뒤에', '한동안 취한 새벽에 잠을 청하며', '너를 그렇게 잊어보려했어', '시간이가도 잊혀지지 않는 널 ', '생각하면서 깨달은게있어', '좋은사람 사랑했었다면', '헤어져도 슬픈게 아니야', '이별이 내게 준것은', '곁에 있을때 보다', '너를 더욱 사랑하는 맘', '셀수없이 많은 날을 울면서 ', '힘든가슴을 보이지 않았던 널', '끝내 날 나쁜남자로 만들었던 널', '어떻게든 미워하려했어', '어떤말로도 미워할수없는 널 ', '생각하면서 깨달은게있어', '좋은사람 사랑했었다면', '헤어져도 슬픈게 아니야', '이별이 내게 준것은', '조금 멀리떨어져  ', '너를 헤아릴수 있는 맘', '늦었겠지만 너의 맘 아프게했던', '바보같은 날 용서해줘', '단 한번만 허락해준다면', '나를 믿고 돌아와준다면', '언제나 말하곤했던', '그런 사람이되어', '너를 지켜주고싶은데', '다시 돌아올순 없겠니']\n"
          ]
        },
        {
          "output_type": "stream",
          "name": "stderr",
          "text": [
            "\r485it [3:33:20, 22.63s/it]"
          ]
        },
        {
          "output_type": "stream",
          "name": "stdout",
          "text": [
            "26\n",
            "['술이 한 잔 생각나는 밤 같이', '있는 것 같아요 그 좋았던 시절들', '이젠 모두 한숨만 되네요 떠나는', '그대 얼굴이 혹시 울지나 않을까', '난 먼저 돌아섰죠 그때부터 그리워요', '사람이 변하는 걸요 다시 전보다', '그댈 원해요 이렇게 취할때면', '꺼져버린 전화를 붙잡고 여보세요', '나야 거기 잘 지내니 여보세요', '왜 말 안하니 울고 있니 내가', '오랜만이라서 사랑하는 사람이라서', '그대 소중한 마음 밀쳐낸 이기적인', '그때의 나에게 그대를 다시', '불러오라고 미친듯이 외쳤어', '떠나는 그대 얼굴이 마치 처음과', '같아서 나 눈물이 났어요 그때부터', '그리워요 사람이 변하는 걸요', '다시 전보다 그댈 원해요', '이렇게 취할때면 바껴버린', '전화번홀 누르고 여보세요 나야', '거기 잘 지내니 오랜만이야 내 사랑아', '그대를 다시 불러오라고 미친듯이', '울었어 워 여보세요 나야 정말 미안해', '이기적인 그때의 나에게 그대를', '다시 불러오라고 미친듯이 외쳤어', ' ']\n"
          ]
        },
        {
          "output_type": "stream",
          "name": "stderr",
          "text": [
            "\r486it [3:33:37, 21.00s/it]"
          ]
        },
        {
          "output_type": "stream",
          "name": "stdout",
          "text": [
            "26\n",
            "['내 맘을 볼 수 있나요', '난 그대뿐이에요', '그대 뒤에 나 있을게요', '한걸음 뒤에서요', '그댄 내 마음 모르죠', '눈물이 글썽여요', '그댈 보면 마음이 아프네요', '혼자 하는 사랑은', '언젠가 다시 돌아가야 할', '그곳을 홀로 걸어가겠죠', '그런 내가 슬퍼요', '모른척 하는 건가요', '그대 곁에 있는 날', '힘껏 소리쳐 불러봐도', '마음의 소리니까', '언젠가 다시 돌아가야 할', '그곳을 홀로 걸어가겠죠', '그런 내가 슬퍼요', '언젠가 다시 돌아가야 할', '그곳을 홀로 걸어 돌아가겠죠', '이런 내가 아파요', '우우우우우', '슬픈 마음이 들어요', '나는 왜 안되는지', '사랑이란 가깝고도 머네요', '그대의 마음이란']\n"
          ]
        },
        {
          "output_type": "stream",
          "name": "stderr",
          "text": [
            "\r487it [3:33:55, 20.10s/it]"
          ]
        },
        {
          "output_type": "stream",
          "name": "stdout",
          "text": [
            "53\n",
            "['오늘 뭐하니 너 지금 바쁘니', '별일 없으면 오늘 나랑 만나줄래 ', '할말이 있어 뭐 별 얘기는 아닌데', '나 너를 좋아하나봐 ', '이런 말 나도 처음이야', \"You're my lady you're my baby \", '정말 나 장난 아냐', '오늘부터 지금부터 ', '내꺼해줄래 baby ', '못생긴 애들 중에 ', '내가 제일 잘 생긴 것 같대 ', '내가 뭘 어떡하면 너 내 맘 알겠니', '너만 생각하면 미치겠어', 'woo hoo', '아주 잘 생기진 않았는데', '내가 웃을 땐 조금 괜찮은 것 같아', '웬만한 남자보다 내가 더 잘할게 ', 'my love ', '너를 사랑해', '두 눈을 감고 하나 둘 셋을 세', '두 눈을 뜨고 보이는걸 얘기해봐', '잘 안보이니 네 남자가 안보이니', '우리 오늘부터 1일 ', '이런 말 나도 처음이야', \"You're my lady you're my baby \", '정말 나 장난 아냐', '오늘부터 지금부터 ', '내꺼해줄래 baby ', '못생긴 애들 중에 ', '내가 제일 잘 생긴 것 같대 ', '내가 뭘 어떡하면 너 내 맘 알겠니', '너만 생각하면 미치겠어 ', 'woo hoo', '아주 잘 생기진 않았는데', '내가 웃을 땐 조금 괜찮은 것 같아', '웬만한 남자보다 내가 더 잘할게', 'my love ', '너를 사랑해', '내게 와 고민하지 말고', '다가와 망설이지 말고', '나 조금 부족한 건 알지만', '이세상에 누구보다 ', '너를 사랑해 baby', '잘 생긴 애들 중엔 ', '착한 남잔 찾을 수가 없대 ', '내가 그 누구보다 착한걸 알잖니 ', '너만 생각하면 미치겠어', 'woo hoo', '사람들이 다들 그러는데 ', '너랑 나랑 둘이 제일 잘 어울린대', '그 어떤 남자보다 내가 더 잘할게', 'my love ', '너를 사랑해']\n"
          ]
        },
        {
          "output_type": "stream",
          "name": "stderr",
          "text": [
            "\r488it [3:34:30, 24.66s/it]"
          ]
        },
        {
          "output_type": "stream",
          "name": "stdout",
          "text": [
            "38\n",
            "['내 사랑은 변하지 않을께', '저 하늘은 내 맘 알고있겠죠', '난 언제나 하늘 높은곳에서 그대를', '비춰주는 별이될께', '널 사랑한다는 말은', '참 아껴왔는데', '그댄 하늘 저멀리 날 두고가네요', '늘 언제나 니곁을 지켜주지못해', '내가 정말 미안해요', \"I'M Still With You\", '우리함께 걷던 이길도', '어느새 이렇게도 많이 변했는데', '오 오 난 아직도 잊지 못하네요', '비록 사랑이 눈물일 지라도', '내 사랑은 변하지 않을께', '저 하늘은 내 맘 알고있겠죠', '난 언제나 하늘 높은곳에서 그대를', '비춰주는 별이될께', '그대는 목소리도 참 고왔었는데', '이세상 어디에도 그대는 없네요', '늘 어린아이처럼', '매일 투정 부린 내가', '정말 후회가 되요', \"I'M Still With You\", '우리함께 나눈 추억도', '가슴에 내 머리속엔 다 그대론데', '오 오 난 아직도 잊지 못하네요', '비록 사랑이 눈물일 지라도', '내 사랑은 변하지 않을께', '저 하늘은 내 맘 알고있겠죠', '난 언제나 하늘 높은곳에서 그대를', '비춰주는 별이될께', '내 사랑을 꼭 기억해 줘요', '내 눈물을 그댄 듣고있나요', '기억할께 십년이 지나도 나 약속해', '그대를 잊지 않을께', '그댈 비추는 별이될께', ' ']\n"
          ]
        },
        {
          "output_type": "stream",
          "name": "stderr",
          "text": [
            "\r489it [3:34:58, 25.42s/it]"
          ]
        },
        {
          "output_type": "stream",
          "name": "stdout",
          "text": [
            "47\n",
            "['우리 함께했던 날들', '그 기억들만 남아', '너를 지워야만 내가 살 수 있을까', '우리 함께했던 날들', '자꾸만 너 떠올라', '너를 보내야만 내가 살 수 있을까', '가지마 떠나지마 제발', '가지마 사랑하잖아', '가지마 나 혼자 남겨두고', '제발 제발 제발', '가지마 가지마 가지마', '아직 너를 위해 바보처럼', '살아가는데', '너는 어디에 니가 필요한데', 'oh baby 내 사람아 이제 그만', '내게 돌아와줘 장난처럼', '그렇게 돌아와', '항상 너만을 위해서', '살아가고 싶지만', '때론 그 사랑마저도', '힘이 들잖아', '가지마 떠나지마 제발', '가지마 사랑하잖아', '가지마 나 혼자 남겨두고', '제발 제발 제발', '가지마 가지마 가지마', '아직 너를 위해', '바보처럼 살아가는데', '너는 어디에 니가 필요한데', 'oh baby 내 사람아', '이제 그만 내게 돌아와줘', '장난처럼 그렇게 돌아와', '아프고 아플만큼 지치고 지칠만큼', '지워봐도 참아봐도 니가 떠올라', '너도 나처럼 아프잖아', '너도 나처럼 힘들잖아', '돌아와 내게로 잊지 못할 ', '내 사람아', '아직 너를 위해 바보처럼 ', '살아가는데', '너는 어디에 니가 필요한데', 'oh baby 내 사람아', '이제 그만 내게 돌아와줘', '장난처럼 그렇게', 'oh baby 내 사람아', '이제 그만 내게 돌아와줘', '그때처럼 그렇게 돌아와']\n"
          ]
        },
        {
          "output_type": "stream",
          "name": "stderr",
          "text": [
            "\r490it [3:35:31, 27.86s/it]"
          ]
        },
        {
          "output_type": "stream",
          "name": "stdout",
          "text": [
            "62\n",
            "['멋대로 날 찾아와서', '모든 걸 다 적시고', '내 마음도 짙어져 널 원할 때쯤에', '이내 떠나 가버렸던', '네가 아직 그리워', '그 때 조금 더 젖게 내버려 둘 걸', '어디서부터 어떻게 시작해야 할까', '너의 흔적들을 지우는 일', '우리 함께였던 시간이 길지 않은데', '넌 참 많은 걸 남기고 갔네', '아직 하지 못한 말들이 너무 많아', '네게 주지 못한', '맘들 갈 곳을 잃었나 봐', '조금만 조금만 내게 머물러서', '모두 가져가 줄 순 없을까', '후회에 젖은 추억은', '한껏 무게를 더해가', '혼자 짊어지기엔 버거워', '나약해진 내가', '억지로 삼켜냈던', '너를 토해내듯 부르다', '네 기억위로 지쳐 잠이 들죠', '멋대로 날 찾아와서', '모든 걸 다 적시고', '내 마음도 짙어져 널 원할 때쯤에', '이내 떠나 가버렸던', '네가 아직 그리워', '그 때 조금 더 젖게 내버려 둘 걸', '너가 빠져버린 하루에 채워진 공허함', '또 숨 막힐 듯 날 몰아세우는 고요가', '익숙해질 수도 있을까 무뎌진다는 건', '괜찮은 게 아니라 참는다는 거', '널 그리워할수록 더 잃어가는 기분', '모래를 움켜쥔 듯 흘러내리는 맘을', '추스릴 방법이 떠오르지 않아', '너에게 잠겨 난 떠오르지 않아', '엉망으로 흐트러져 취해 또 쓰러져', '사랑은 흩어진 주제에 날 무너뜨려', '언제까지 너를 견뎌낼 수 있을까', '어두워진 맘엔 빛이 들 수 있을까', '모두 묻어내고 싶다며', '더욱 더 파고 들어가', '다 잊어낼 거라며 더 선명히 새겨가', '피해 숨고 싶다며 도망치고 싶다며', '오늘도 이별 그 주위를 서성이잖아', '멋대로 날 찾아와서', '모든 걸 다 적시고', '내 마음도 짙어져 널 원할 때쯤에', '이내 떠나가 버렸던', '네가 아직 그리워', '그 때 조금 더 젖게 내버려 둘 걸', '널 그리워하는 만큼 쉽게', '닫히지 않는 보랏빛 새벽', '고요해서 더 크게 들리는', '마음 속 말들 보고 싶다', '멋대로 날 찾아와서', '모든 걸 다 적시고', '내 마음도 짙어져 널 원할 때쯤에', '이내 떠나 가버렸던', '네가 아직 그리워', '그 때 조금 더 젖게 내버려 둘 걸', '갑작스레 내리는 소나기에']\n"
          ]
        },
        {
          "output_type": "stream",
          "name": "stderr",
          "text": [
            "\r491it [3:36:15, 32.68s/it]"
          ]
        },
        {
          "output_type": "stream",
          "name": "stdout",
          "text": [
            "41\n",
            "['한잔 술에 잊자 그만', '나도 숨 좀 쉬자 제발', '마치 주문처럼', '매일 읊조렸던', '넌 모르는', '내 슬픈 혼잣말', '친구들 통해 들은 네 소식', '너무 잘 살고 있어', '날 만날 때보다 더', '너는 없었지만', '억지로 삼킨 밥들이', '친구가 되어줬던 술이', '겨우 날 숨 좀 쉬게 해', '많이 잊었어 이제', '네 얼굴도 까마득해', '잘 살고 있다 너처럼', '두려워 듣기 싫던 네 소식', '막상 듣게 되니 또', '이별한 듯이 아파', '너는 없었지만', '억지로 삼킨 밥들이', '친구가 되어줬던 술이', '겨우 날 숨 좀 쉬게 해', '많이 잊었어 이제', '네 얼굴도 까마득해', '잘살고 있다 너처럼', '너 없는 많은 밤들이', '혼자 버틸 날들이', '아직 너무 많은데', '가끔은 너 철없던', '나의 장난에', '입꼬리 올라가던', '그 미소가 그리워', '가진 건 없지만', '널 가진 게 전부였어', '그래서 무너졌나 봐', '너밖에 없었으니까', '언젠간 나도 나만', '사랑해줄 사람 만나', '잘 살고 싶다 너처럼', '나도 그럴 수 있을까']\n"
          ]
        },
        {
          "output_type": "stream",
          "name": "stderr",
          "text": [
            "\r492it [3:36:43, 31.31s/it]"
          ]
        },
        {
          "output_type": "stream",
          "name": "stdout",
          "text": [
            "43\n",
            "['멀리서 걸어오는 그대 모습이  ', '참 달라보여 ', '한없이 예뻐보이는 그댈 붙잡고  ', '함께 걸어가 ', '짧은 머리 짧은 치마 쌩얼인 얼굴  ', '너 오늘 왠지 예뻐 ', '짧은 머리 하얀 셔츠 체크 넥타이 ', '오빠도 오늘 멋져 ', '짧게 자른 그대 변화가  ', '너무나도 난 예뻐 ', '사랑스런 우리 둘이서 절대  ', '변하지 마요 ', '자꾸만 어색한지 머릴 만지는  ', '그대 모습이 ', '왜이리 귀여운건지 보면 볼수록  ', '빠져들어가 ', '짧은 머리 짧은 치마 쌩얼인 얼굴 ', '너 오늘 왠지 예뻐 ', '짧은 머리 하얀 셔츠 체크 넥타이 ', '오빠도 오늘 멋져 ', '짧게 자른 그대 변화가  ', '너무나도 난 예뻐 ', '사랑스런 우리 둘이서 절대  ', '변하지 마요 ', '솔직히 나 완벽한 남잔 아니지만', '걱정말아요 내 눈엔 ', '그대만 보여요', '부족한 우리 둘이서 서로 채워줄', '사랑을 만난거죠', '영원히 난 그대만 난 그대만', '우리 둘이 사랑해', '짧은 머리 짧은 치마 쌩얼인 얼굴 ', '너 오늘 왠지 예뻐', '짧은 머리 하얀 셔츠 체크 넥타이', '오빠도 오늘 멋져', '짧게 자른 그대 변화가 ', '너무나도 난 예뻐', '사랑스런 우리 둘이서 절대 ', '변하지 마요', '사랑해 나도 사랑해', '사랑해 나도 사랑해', '사랑스런 우리 둘이서', '절대 변하지 마요']\n"
          ]
        },
        {
          "output_type": "stream",
          "name": "stderr",
          "text": [
            "\r493it [3:37:14, 31.24s/it]"
          ]
        },
        {
          "output_type": "stream",
          "name": "stdout",
          "text": [
            "39\n",
            "['오늘이 지나면 널 지워야겠지', '흔들리는 이 술잔이', '너의 마음 같아서', '아무 말 안 해도 난 알 수가 있어', '오늘 넌 이별을 말할 것 같아', '하필 왜 이 포장마차니', '우리 처음 만났던 이 자리에서', '왜 눈물 나게 해', '이 술잔을 마시고 나면', '넌 이별을 말할 것만 같아', '제발 이러지 마 나를 떠나지 마', '다 소용없는 거잖아', '이 술잔을 마시고 나면', '너 혼자만 끝인 거잖아 우리가', '왜 헤어져야 해', '이 술잔을 비우지 마 제발', '하필 왜 이 포장마차니', '우리 매일 만났던 그 자리에서', '왜 눈물 나게 해', '이 술잔을 마시고 나면', '넌 이별을 말할 것만 같아', '제발 이러지 마 나를 떠나지 마', '다 소용없는 거잖아', '이 술잔을 마시고 나면', '너 혼자만 끝인 거잖아 우리가', '왜 헤어져야 해', '이 술잔을 비우지 마 제발', '이 한잔의 술잔을 마시면 난', '너 없이 살아갈 수 있을까', '이제 우린 남이 되겠지', '이 술잔을 마시고 나면', '이 한잔에 끝낼 거라면', '넌 사랑을 말하면 안 되잖아', '그때 왜 그랬어 날 왜 사랑했어', '어차피 남이 될 거잖아', '이 술잔을 마시고 나면', '너 혼자만 끝인 거잖아 우리가', '왜 헤어져야 해', '이 술잔을 비우지 마 제발']\n"
          ]
        },
        {
          "output_type": "stream",
          "name": "stderr",
          "text": [
            "\r494it [3:37:41, 29.98s/it]"
          ]
        },
        {
          "output_type": "stream",
          "name": "stdout",
          "text": [
            "35\n",
            "['둘이 손잡고 걸을때', '마주보며 또 웃을때', '사랑한다 말하지 않아도 알아', '널 만나러 가는길에', '내 입가에 늘 환한 미소만이', '흐르고 있어', '사랑해 너를 사랑해', '눈물나도록 사랑해', '저기 밤하늘의 별보다', '보석보다 니가 더 소중해', '얼마나 내가 얼마나 너를 사랑하는지', '내 모든걸 너에게 줄께', '속상하고 힘이들때', '열이나고 아파할때', '옆에서 늘 힘이되준 사람 너야', '집에 돌아오는 길에', '내 귓가엔 늘 너의 음성만이', '흐르고 있어', '사랑해 너를 사랑해', '눈물나도록 사랑해', '저기 밤하늘의 별보다', '보석보다 니가 더 소중해', '얼마나 내가 얼마나 너를 사랑하는지', '내 모든걸 너에게 줄께', '세월지나 많이 변했을때', '미운 나의 손을 잡아줄 사람', '먼 훗날 아주 먼 훗날', '우리 눈감는 그날에', '나를 사랑해준 너에게 고맙다고', '후회는 없다고', '사랑해 나만의 사랑', '다시 태어난대도', '내 사랑은 너하나 뿐야', '영원히 너를 사랑해', ' ']\n"
          ]
        },
        {
          "output_type": "stream",
          "name": "stderr",
          "text": [
            "\r495it [3:38:06, 28.29s/it]"
          ]
        },
        {
          "output_type": "stream",
          "name": "stdout",
          "text": [
            "34\n",
            "['살면서 듣게 될까', '언젠가는 바람의 노래를', '세월 가면 그때는 알게 될까', '꽃이지는 이유를', '나를 떠난 사람들과 만나게 될', '또 다른 사람들', '스쳐 가는 인연과 그리움은', '어느 곳으로 가는가', '나의 작은 지혜로는 알 수가 없네', '내가 아는 건 살아가는 방법뿐이야', '보다 많은 실패와 고뇌의 시간이', '비켜갈 수 없다는 걸 우린 깨달았네', '이제 그 해답이 사랑이라면', '나는 이 세상', '모든 것들을 사랑하겠네', '나를 떠난 사람들과 만나게 될', '또 다른 사람들', '스쳐 가는 인연과 그리움은', '어느 곳으로 가는가', '나의 작은 지혜로는 알 수가 없네', '내가 아는 건 살아가는 방법뿐이야', '보다 많은 실패와 고뇌의 시간이', '비켜갈 수 없다는 걸 우린 깨달았네', '이제 그 해답이 사랑이라면', '나는 이 세상', '모든 것들을 사랑하겠네', '보다 많은 실패와 고뇌의 시간이', '비켜갈 수 없다는 걸 우린 깨달았네', '이제 그 해답이 사랑이라면', '나는 이 세상', '모든 것들을 사랑하겠네', '나는 이 세상', '모든 것들을 사랑하겠네', '이 세상 모든 것들을 사랑하겠네']\n"
          ]
        },
        {
          "output_type": "stream",
          "name": "stderr",
          "text": [
            "\r496it [3:38:29, 26.84s/it]"
          ]
        },
        {
          "output_type": "stream",
          "name": "stdout",
          "text": [
            "32\n",
            "['날 닮은 너를 부족한 너를 ', '그저 바라보기엔 후회로 물든 ', '내 지난날이 너무 많이 다쳤어 ', '나의 과거와 너의 지금과 ', '너무도 같기에 두려워 겁이나 ', '내게 마지막이어야 할 사람 ', '너의 방황을 돌릴 수 있게 ', '날 이렇게 뿌리친대도 ', '너의 손을 놓진 않을거야  ', '잠시도 너는 불안한 모습 ', '감출수가 없었니 음 ', '내가 아녀도 지친 니 맘을 ', '위로 받을수 있니 ', '나의 과거와 너의 지금과 ', '너무도 같기에 두려워 겁이나 ', '내게 마지막이어야 할 사람 ', '너의 방황을 돌릴 수 있게 ', '날 이렇게 뿌리친대도 ', '너의 손을 놓진 않을거야  ', '나 역시 너 같았어 ', '너처럼 어두웠어 니가 지내온 ', '또 다른 시간도 더 있을 고통도 ', '난 감당할거야 워 ', '마지막이어야 할사람 ', '너의 미래를 지킬 수 있게 ', '날 이렇게 뿌리친대도 ', '너의 손을 놓진 않을거야  ', '마지막이어야 할 사람 ', '너의 미래를 지킬수 있게 ', '날 이렇게 뿌리친대도 ', '너의 손을 놓진 않을거야  ', '너의 손을 놓진 않을거야  ']\n"
          ]
        },
        {
          "output_type": "stream",
          "name": "stderr",
          "text": [
            "\r497it [3:38:52, 25.71s/it]"
          ]
        },
        {
          "output_type": "stream",
          "name": "stdout",
          "text": [
            "49\n",
            "['어제는 아름답고', '오늘은 지옥 같아', '바늘처럼 따가운 빗물이 ', '멈추지 않네', '눈앞이 캄캄해져 볼 수 없고 ', '숨도 못 쉰다더니', '정말 그렇네', '내가 널 괴롭혔지', '나 땜에 짜증 났지', '내 주제를 알았을 때쯤 ', '영화는 끝났네', '결말을 맞은 악역 배우처럼', '나는 지워져 가고', '너는 더욱더 빛났지', '쓰잘데 없는 나를 ', '제때 버리질 않았으니까', '멀쩡한 너의 모든 게 ', '엉망이 됐지', '내가 없는 너는 이제야 ', '모든 게 다 완벽해', '내가 눈치가 빨랐다면 ', '좀 나았을 텐데', '넌 내가 불안하지', '나 땜에 곤란했지', '난 손에 닿은 모든 것들을 ', '망가 뜨렸지', '비참한 끝을 앞둔 괴물처럼', '나를 물리쳐야만', '지루한 이야기가 끝나지', '쓰잘데 없는 나를 제때 ', '버리질 않았으니까', '멀쩡한 너의 모든 게 ', '엉망이 됐지', '내가 없는 너는 이제야 ', '모든 게 다 완벽해', '내가 눈치가 ', '빨랐다면 좋았는데', '너를 생각하는 이 밤이 ', '더럽게 구차해서', '유치한 말을 ', '밤새워 중얼거렸지', '내가 없는 너는 ', '아무리 생각해도 완벽해', '내가 눈치가 빨랐다면 ', '좀 나았을 텐데', '이제 너는 문제없는 ', '평화로운 밤을', '어제는 아름답고', '오늘은 지옥 같아']\n"
          ]
        },
        {
          "output_type": "stream",
          "name": "stderr",
          "text": [
            "\r498it [3:39:26, 28.21s/it]"
          ]
        },
        {
          "output_type": "stream",
          "name": "stdout",
          "text": [
            "42\n",
            "['네가 참 궁금해 그건 너도 마찬가지', '이거면 충분해 쫓고 쫓는 이런 놀이', '참을 수 없는 이끌림과 호기심 ', '묘한 너와 나 두고 보면 알겠지', 'Woo 눈동자 아래로', 'Woo 감추고 있는 거', 'Woo yeah It’s so bad It’s good ', '난 그 맘을 좀 봐야겠어', 'Narcissistic, my god I love it', '서로를 비춘 밤', '아름다운 까만 눈빛 더 빠져 깊이', '(넌 내게로 난 네게로) ', '숨 참고 love dive', 'Woo lalalalalalala', 'Woo 어서 와서 love dive', 'Woo oh perfect sacrifice yeah', '숨 참고 love dive', '마음은 이렇게 알다가도 모르지', '사랑이라는 건 한순간에 필 테니', '직접 들어와 두 눈으로 확인해', '내 맘 가장 깊은 데로 오면 돼', 'Woo 망설일 시간은', 'Woo 3초면 되는 걸', 'Woo yeah It’s so bad It’s good ', '원하면 감히 뛰어들어', 'Narcissistic, my god I love it', '서로를 비춘 밤', '아름다운 까만 눈빛 더 빠져 깊이', '(넌 내게로 난 네게로) ', '숨 참고 love dive', 'Woo lalalalalalala', 'Woo 어서 와서 love dive', 'Woo oh perfect sacrifice yeah', '숨 참고 love dive', '숨 참고 love dive ', '숨 참고 love dive', '숨 참고 love dive', '숨 참고 love dive', 'Woo lalalalalalala', 'Woo 어서 와서 love dive', 'Woo oh perfect sacrifice yeah', '숨 참고 love dive']\n"
          ]
        },
        {
          "output_type": "stream",
          "name": "stderr",
          "text": [
            "\r499it [3:39:56, 28.65s/it]"
          ]
        },
        {
          "output_type": "stream",
          "name": "stdout",
          "text": [
            "70\n",
            "['Red Velvet', '무도회를 뒤집어', '작은 소란을 또 일으켜', 'This is gonna be a crazy night', '(To-na-na-na-na-na-night)', '등장부터 인사까지 파격적이게', '우리 살짝 놀아볼까', '솔직하게 Bae bae', '지금부터 시작해 볼게', '(Feel my vibe and sway)', '꽃가루를 날려', '폭죽을 더 크게 터트려', '우릴 오만과 편견에 가두지 마', '자유로워 지금', 'Feel my rhythm Come with me', '상상해 봐 뭐든지', '노래를 따라서 저 달빛에 춤을 춰', '바로 지금 (Play my rhythm)', 'Follow follow my heartbeat', '해가 떠올 때까지', 'Feel my rhythm 멈추지 말아 줘', '이 순간을 놓지 마 Baby', '차는 Old and Classic', '(Just ride)', '이제 조금 낯선 다른 차원까지', '(Get loud)', '상상할 수 없던 곳 시간 속', '예고 없이 등장해', '이 밤은 멋지고 우린', 'Fun and wild and brave', '시선을 끄는 네 Motion', 'G-give me a new direction', '끝없는 Black hole처럼', '빠져드는 Sweet emotion', '너를 태운 채 (Sway)', '어디로든 떠날래 (Way)', '온 세상 모든 경계를', '다 휘저을래 (Oh yeah)', '꽃가루를 날려', '(흩날려)', 'Champagne을 더 크게 터트려', '(마음껏)', '더는 어제와 내일에 가두지 마', '자유로워 지금', 'Feel my rhythm Come with me', '상상해 봐 뭐든지', '노래를 따라서 저 달빛에 춤을 춰', '바로 지금 (Play my rhythm)', 'Follow follow my heartbeat', '해가 떠올 때까지', 'Feel my rhythm 멈추지 말아 줘', '이 순간을 놓지 마 Baby', '온 세상이 멈추는 순간', 'What a what a feeling', '어서 내 손을 잡아', '(All right)', '본 적 없던 Film', '빠져드는 You and I ', 'Next time 시계를 돌려', '어디로 가볼까', 'Come on 또다시 시작해', 'You and I', 'Feel my rhythm Come with me', '상상해 봐 뭐든지', '노래를 따라서 저 달빛에 춤을 춰', '바로 지금 (Play my rhythm)', 'Follow follow my heartbeat', '해가 떠올 때까지', 'Feel my rhythm 끝나지 않는 꿈', '이 순간을 놓지 마 Baby']\n"
          ]
        },
        {
          "output_type": "stream",
          "name": "stderr",
          "text": [
            "\r500it [3:40:43, 34.15s/it]"
          ]
        },
        {
          "output_type": "stream",
          "name": "stdout",
          "text": [
            "73\n",
            "['Bam ba ba ba ba bam ba ba ba ba bam', 'Ba ba ba ba bam', 'Bam ba ba ba ba bam ba ba ba ba bam', 'Ba ba ba ba bam', '제일 높은 곳에 난 닿길 원해 느꼈어 내 answer', '내 혈관 속에 날뛰는 new wave 내 거대한 passion', '관심 없어 과거에 모두가 알고 있는 그 트러블에 huh', \"I'm fearless a new b**ch new crazy 올라가 next one\", '밟아줘 highway highway', '멋진 결말에 닿게', '내 흉짐도 나의 일부라면', '겁이 난 없지 없지', 'What you lookin’ at', 'What you what you lookin’ at', 'What you lookin’ at', 'What you what you lookin’ at', 'What you lookin’ at', 'What you what you lookin’ at', 'Mmmm I’m fearless huh', 'You should get away', 'Get a get a get away', '다치지 않게 다치 다치지 않게', 'You should get away', 'Get a get a get away', 'Mmmm I’m fearless huh', 'Bam ba ba ba ba bam ba ba ba ba bam', 'Ba ba ba ba bam', 'Bam ba ba ba ba bam ba ba ba ba bam', 'Ba ba ba ba bam', '욕심을 숨기라는 네 말들은 이상해', '겸손한 연기 같은 건 더 이상 안 해', '가져와 forever win 내게 ay', '가슴팍에 숫자 1 내게 ay', '내 밑으로 조아린 세계 ay', 'Take the world break it down break you down down', '밟아줘 highway highway', '멋진 결말에 닿게', '내 흉짐도 나의 일부라면', '겁이 난 없지 없지', 'What you lookin’ at', 'What you what you lookin’ at', 'What you lookin’ at', 'What you what you lookin’ at', 'What you lookin’ at', 'What you what you lookin’ at', 'Mmmm I’m fearless huh', 'You should get away', 'Get a get a get away', '다치지 않게 다치 다치지 않게', 'You should get away', 'Get a get a get away', 'Mmmm I’m fearless huh', 'Bam ba ba ba ba bam ba ba ba ba bam', 'Ba ba ba ba bam', 'Bam ba ba ba ba bam ba ba ba ba', 'Mmmm I’m fearless huh', '더는 없어 패배', '준비된 내 payback', 'Bring it 당장 내게', 'Mmmm I’m fearless huh', 'What you lookin’ at', 'What you what you lookin’ at', 'What you lookin’ at', 'What you what you lookin’ at', 'What you lookin’ at', 'What you what you lookin’ at', 'Mmmm I’m fearless huh', 'You should get away', 'Get a get a get away', '다치지 않게 다치 다치지 않게', 'You should get away', 'Get a get a get away', 'Mmmm I’m fearless huh']\n"
          ]
        },
        {
          "output_type": "stream",
          "name": "stderr",
          "text": [
            "\r501it [3:41:36, 39.88s/it]"
          ]
        },
        {
          "output_type": "stream",
          "name": "stdout",
          "text": [
            "57\n",
            "['Falling in love', '너에겐 난 Option', '시작부터 다른 너와 나', '깨지는 Heart', '빗나간 네 Mention', '익숙하거든', 'I think I lost my mind', 'But It’s my kind of love', '아끼지 않고 다', '쏟아내고는 주저앉아', '문득 어느 순간', '지친 내가 보여', '애쓰고 있지만', 'So I can’t love you', 'Even though I do', '밀어내 봐도', '난 너를 못 이겨', '날 버리고', '날 잃을수록', '넌 반짝이는 아이러니', 'So I N V U', 'I N V U', 'I N V U', '기대지 마', '기대하지도 마', '몇 번을 되뇌고 되놰도', '그 손길 한 번에', '무너지는 날 볼 때', '네 기분은 어때', 'I guess I lost my mind', 'Yeah It’s my kind of love', '늘 처음인 것처럼', '서툴러서 또 상처가 나', '무뎌지기 전에', '아물기도 전에', '잔뜩 헤집어놔', 'So I can’t love you', 'Even though I do', '밀어내 봐도', '난 너를 못 이겨', '날 버리고', '날 잃을수록', '넌 반짝이는 아이러니', 'So I N V U', 'I N V U', 'I N V U', '식은 온기', '부서진 맘이', '자꾸 날 할퀴어', '아파도 못 멈춰', 'So when you leave', 'Please make it easy', 'Cause I N V U', 'I N V U', 'I N V U', 'I N V U', 'I N V U']\n"
          ]
        },
        {
          "output_type": "stream",
          "name": "stderr",
          "text": [
            "\r502it [3:42:17, 40.21s/it]"
          ]
        },
        {
          "output_type": "stream",
          "name": "stdout",
          "text": [
            "50\n",
            "['따분한 나의 눈빛이', '무표정했던 얼굴이', '널 보며 빛나고 있어', '널 담은 눈동자는 odd', '내 안에 빼곡하게 피어나는 blue', '내가 지금 느끼는 이 감정들은 true', '내 입술을 간지럽힌 낯선 그 이름', '난 몰랐어 내 맘이 이리 다채로운지', '긴 꿈을 꾸게 해 이 방은 작은 heaven', '춤을 추곤 해 실컷 어지러울 만큼', 'Oh my, oh my god', '한 칸 더 채우고 있어', '잘 봐 1, 2, 3, 4, 5, 6, 7', 'You make me feel like eleven', '투명한 너와 나의 사이', '가만히 들여다보다', '일렁인 물결 속으로', '더 빠져드는 걸', '그날 향기로운 보랏빛의 mood', '셀 수 없이 반복해도 기분 좋은 꿈', '감히 누가 이렇게 날 설레게 할 줄', '난 몰랐어 내 맘이 이리 다채로운지', '긴 꿈을 꾸게 해 이 방은 작은 heaven', '춤을 추곤 해 실컷 어지러울 만큼', 'Oh my, oh my god', '한 칸 더 채우고 있어', '잘 봐 1, 2, 3, 4, 5, 6, 7', 'You make me feel like eleven', '내 앞에 있는 너를', '그 눈에 비친 나를 (그 눈에 비친 나를)', 'Aya, aya, aya (가만히 바라봐)', '내 앞에 있는 너를', '그 눈에 비친 나를', '가만히 바라봐', \"Don't say now\", '서둘러 오진 마', '이 순간이 좋아 난', '미처 몰랐어 내 맘이 이리 다채로운지', '긴 꿈을 꾸게 해 이 방은 작은 heaven', '춤을 추곤 해 실컷 어지러울 만큼', 'Oh my, oh my god', '한 칸 더 채우고 있어', '잘 봐 1, 2, 3, 4, 5, 6, 7', 'You make me feel like eleven', '내 앞에 있는 너를', '그 눈에 비친 나를', 'Aya, aya, aya', '내 앞에 있는 너를', '그 눈에 비친 나를', '사랑하게 됐거든']\n"
          ]
        },
        {
          "output_type": "stream",
          "name": "stderr",
          "text": [
            "\r503it [3:42:52, 38.64s/it]"
          ]
        },
        {
          "output_type": "stream",
          "name": "stdout",
          "text": [
            "76\n",
            "['울지 마 울지 마', '어린아이같이', '웃는 게 웃는 게', '이기는 거라고 ', 'You are so cute', 'You are so dumb', '네가 하는 말이', '오늘따라 듣기 싫어', '하늘을 한 번 쳐다보고', '내가 꾹 참고', '맘을 다 잡고', '네게 밝게 웃어줄게', 'And I say Hey ', 'I’m gonna make it', 'Smile Smile Smile away ', '예쁘게 웃고 넘겨버릴래', 'Just Smile away', 'Just Smile away ', '아픔 슬픔 외로움 잊게', 'I say hey', 'I never wanna Cry Cry Cry all day ', '갑자기 눈물이 차오를 땐', 'Just Smile away ', 'Just Smile away ', '안녕이라 말할래', 'With my Smiley face ', '비웃을 때 빼고', '내 입꼬리는 Chillin’', '나빠야지 살아남지 넌 뭐해', '귀엽고 예쁘면 장땡이냐 근데', '널 보고 있으니까 기분이가 좋네', '삐뚤어진 성격 모두 나를 겁내', '아주 그냥 확 너는 왜 계속 웃어', '당황하는 틈을 타 날 무장해제', '친구가 될 수 있을까 우리 둘이', '내가 꾹 참고', '맘을 다잡고', '네게 밝게 웃어줄게', 'And I say Hey ', 'I’m gonna make it', 'Smile Smile Smile away ', '예쁘게 웃고 넘겨버릴래', 'Just Smile away', 'Just smile away', '아픔 슬픔 외로움 잊게', 'I say hey', 'I never wanna Cry Cry Cry all day ', '갑자기 눈물이 차오를 땐', 'Just Smile away ', 'Just Smile away ', '안녕이라 말할래', 'With my Smiley face ', '사실 나의 맘속은 그게 아닌데', '웃어넘기기에 난 너무 행복해', '세상 환히 웃고 있는 내게', '미친 세상은 날 미쳤다 하겠지', 'I don’t care', 'I don’t care', 'What you saying', '한 번 사는 내 삶 I Smile it ', 'Even it’s lonely &amp; dark', 'Yeah I', 'And I say Hey ', 'I’m gonna make it', 'Smile Smile Smile away ', '예쁘게 웃고 넘겨버릴래', 'Just Smile away', 'Just Smile away ', '아픔 슬픔 외로움 잊게', 'I say hey', 'I never wanna Cry Cry Cry all day ', '갑자기 눈물이 차오를 땐', 'Just Smile away ', 'Just Smile away ', '안녕이라 말할래', 'With my Smiley face ']\n"
          ]
        },
        {
          "output_type": "stream",
          "name": "stderr",
          "text": [
            "\r504it [3:43:44, 42.69s/it]"
          ]
        },
        {
          "output_type": "stream",
          "name": "stdout",
          "text": [
            "83\n",
            "['I’m on the Next Level Yeah', '절대적 룰을 지켜', '내 손을 놓지 말아', '결속은 나의 무기', '광야로 걸어가', '알아 네 Home ground', '위협에 맞서서', '제껴라 제껴라 제껴라', '상상도 못한 Black out', '유혹은 깊고 진해', '(Too hot too hot)', '맞잡은 손을 놓쳐', '난 절대 포기 못해', 'I’m on the Next Level', '저 너머의 문을 열어', 'Next Level', '널 결국엔 내가 부셔', 'Next Level', 'KOSMO에 닿을 때까지', 'Next Level', '제껴라 제껴라 제껴라', 'La la la la la la', 'La la la la la la', 'La la la la la la', 'La la la la la', 'I see the NU EVO.', '적대적인 고난과 슬픔은', '널 더 Popping 진화시켜', 'That’s my naevis It’s my naevis', 'You lead, we follow', '감정들을 배운 다음', 'Watch me while I make it out', 'Watch me while I work it out', 'Watch me while I make it out', 'Watch me while I work it out', 'Work it work it work it out', '감당할 수 없는 절망도', '내 믿음을 깨지 못해', '더 아픈 시련을 맞아도', '난 잡은 손을 놓지 않을게 Oh', '절대로 뒤를 돌아보지 말아', '광야의 것 탐내지 말아', '약속이 깨지면', '모두 걷잡을 수 없게 돼 ', '언제부턴가 불안해져 가는 신호', '널 파괴하고 말 거야', '(We want it)', 'Come on!', 'Show me the way to KOSMO Yeah', ' ', 'Black Mamba가 만들어낸 환각 퀘스트', 'aespa, ae를 분리시켜놓길 원해 그래', '중심을 잃고 목소리도 잃고 비난받고', '사람들과 멀어지는 착각 속에', 'naevis 우리 ae, ae들을 불러봐', 'aespa의 Next Level “P.O.S”를 열어봐', '이건 REAL WORLD 깨어났어', 'We against the villain', 'What’s the name?', 'Black Mamba', '결국 난 문을 열어', '그 빛은 네겐 Fire', '(Too hot too hot)', '난 궁금해 미치겠어', '이다음에 펼칠 Story', 'Huh!', 'I’m on the Next Level', '저 너머의 문을 열어', 'Next Level', '널 결국엔 내가 부셔', 'Next Level', 'KOSMO에 닿을 때까지', 'Next Level', '제껴라 제껴라 제껴라', 'I’m on the Next Level', '더 강해져 자유롭게', 'Next Level', '난 광야의 내가 아냐', 'Next Level', '야수 같은 나를 느껴', 'Next Level', '제껴라 제껴라 제껴라', 'Huh!']\n"
          ]
        },
        {
          "output_type": "stream",
          "name": "stderr",
          "text": [
            "\r505it [3:44:41, 47.03s/it]"
          ]
        },
        {
          "output_type": "stream",
          "name": "stdout",
          "text": [
            "71\n",
            "['가장 가까운 바다', '혼자만의 영화관', '그냥 이끌리는 대로 해도 괜찮으니까', 'Every morning 울린', 'Beep beep beep beep 소리', '귀에 윙윙윙 맴도는', '나를 재촉하던 모닝콜 없이 일어나', 'Cheese cake 한 입', '유리컵 한가득', '내린 커피 한 잔', '아이스로 할래 아주 여유롭게', '문득 시곌 보니', '벌써 시간은 열두시', '그래도 아주 느긋해', '그리곤 하품 한 번', '한껏 기지개도 켜고', '생각해 오늘 뭐 할까', '창문 너머 계절에 시선이 닿은 그 순간', '쏟아지는 햇살 내 맘을 두드려', '내게 손짓하는 싱그러운 바람 타고서', '떠나볼래 When the weekend comes', 'I can do whatever I want', '바람 따라 흩어진 cloud', '더 자유롭게 we can go', '가장 가까운 바다', '혼자만의 영화관', '그냥 이끌리는 대로 해도 괜찮으니까', '훌쩍 떠나보는 drive', '뚜벅 걸어도 좋아', '뭐든 발길 닿는 대로 지금 떠나보려 해 oh', '하루쯤 세상의 얘길 무시한 채', '내가 나의 하루를 조립해 보려 해', '더는 no no stress 고민 안 할래', 'Move it right left right 내 맘대로', '가본 적도 없는 길 뭐가 있든지', 'I don’t need a map', 'when I roll the streets', '이어 가보는 이윤 for a little fun', '계속 up up up 좀 더 올라가', '한쪽 길모퉁이 따라 맘대로 자라난', '조그만 이름 모를 꽃', '한참을 바라보다 뜨거운 햇살을 피해', '벤치에 잠깐 앉아 봐', '느려지는 걸음 그림자의 속도를 따라', '함께 걷는 태양과 발을 맞추고', '뒤이을 달빛을 따라 돌아오고 싶은 걸', '떠나볼래 When the weekend comes', 'I can do whatever I want', '바람 따라 흩어진 cloud', '더 자유롭게 we can go', '아무 계획이 없어서 완벽한 plan', '우연히 찾아낸 secret place', '그곳에 두고 와 나만의 작은 짐', '골목길 끝을 돌아 만나게 될', '기분 좋은 surprise 또 설렘', '두근두근 온종일', '고소한 향기의 coffee shop', '눈에 들어오는 예쁜 옷', 'Do it for the weekend', 'do it for the weekend', '맘에 들어오는 걸 더는 망설이긴 싫은 걸', '그래도 돼 When the weekend comes', 'I can do whatever I want', '바람 따라 흩어진 cloud', '더 자유롭게 we can go', '가장 가까운 바다', '혼자만의 영화관', '그냥 이끌리는 대로 해도 괜찮으니까', '훌쩍 떠나보는 drive', '뚜벅 걸어도 좋아', '뭐든 발길 닿는 대로 지금 떠나보려 해 oh ']\n"
          ]
        },
        {
          "output_type": "stream",
          "name": "stderr",
          "text": [
            "\r506it [3:45:32, 47.96s/it]"
          ]
        },
        {
          "output_type": "stream",
          "name": "stdout",
          "text": [
            "68\n",
            "['RUN', 'Told you not 또 괜한 기대', '겉으론 걱정해 난 안 바뀌네', '또 가끔 말을 막 해 너무 딱해', '헛소리들 나는 안 들리네 no oh yeah', 'Told you 난 so always b day', '겉으론 내 편인데 못해 이해', '그 참견들은 가짜 나는 바빠', '어떻게 해도 나는 안 들리네', 'no no oh', '타 버리고 파', '너의 사랑은 so sunny yeah', '사라져도 사라져도', '다 버리고 파 너만 있다면', 'no worry yeah', '알잖아 It should be you', 'So I’LL RUN TO YOU', 'So I’LL RUN TO YOU', '선을 넘는 거래도 over and over', '다쳐도 괜찮아 I’LL RUN TO YOU', 'So I’LL RUN TO YOU', 'A little bit little bit Young', 'A little bit little bit Young', 'A little bit little bit', '알지 나의 Style', '네가 어떤 너래도 over and over', '다쳐도 괜찮아 I’LL RUN TO YOU', 'JJ', '물불 안 가리는 type', 'I never 절대로 도도', '망가질 수 없는 사이', '알잖아 I’m not a poser', '혹시라도 잘못돼도', '절대 너를 탓하지 않아', '그게 어디라도 wanna be there', '타 버리고 파', '너의 사랑은 so sunny yeah', '사라져도 사라져도', '다 버리고 파 너만 있다면', 'no worry yeah', '알잖아 It should be you', 'So I’LL RUN TO YOU', 'So I’LL RUN TO YOU', '선을 넘는 거래도 over and over', '다쳐도 괜찮아 I’LL RUN TO YOU', 'So I’LL RUN TO YOU', 'A little bit little bit Young', 'A little bit little bit Young', 'A little bit little bit', '알지 나의 Style', '네가 어떤 너래도 over and over', '다쳐도 괜찮아 I’LL RUN TO YOU', 'No no that’s ok that’s ok', '누가 뭐래도', 'No 괜찮아 아플 거래도', '상관없어 멋대로 생각해도 돼', '막지 못해 널 사랑하기 때문에', 'So I’LL RUN TO YOU', 'So I’LL RUN TO YOU', '선을 넘는 거래도 over and over', '다쳐도 괜찮아 I’LL RUN TO YOU', 'So I’LL RUN TO YOU', 'A little bit little bit Young', 'A little bit little bit Young', 'A little bit little bit', '알지 나의 Style', '네가 어떤 너래도 over and over', '다쳐도 괜찮아 I’LL RUN TO YOU']\n"
          ]
        },
        {
          "output_type": "stream",
          "name": "stderr",
          "text": [
            "\r507it [3:46:19, 47.71s/it]"
          ]
        },
        {
          "output_type": "stream",
          "name": "stdout",
          "text": [
            "55\n",
            "['You so popular be ma formula ', 'May I call you a celeb?', 'You so popular be ma formula', 'May I call you a celeb?', 'P S Y', '지진이 난 두 눈에 셔터가 터져', '심장에 빨간 불 들어 On air (On &amp; on &amp; on)', '살면서 온갖 일 다 겪어 봤지만', '가장 큰 이슈는 Only you', '호감도 100% 실시간 급상승', '네 이름이 요즘 미는 유행어 (Eh oh eh oh)', '첫 작은 멜로 넌 나의 페르소나', '올해의 여우가 되어줘 ', '넌 나의 Celeb Celeb Celeb Celeb Celeb', '나만 알 수 있게 사인해 줘요 (줘요) ', '넌 나의 Celeb Celeb Celeb Celeb Celeb (Celeb)', '우리 연애면을 장식해 줘요 (줘요) ', 'C E L E Brity 지나치게 Pretty ', '브랜드 평판 1위 (Woo)', 'C E L E Brity 느낌적인 느낌 ', 'Baby can you feel this? (Woo)', '또각또각 Walking uh', '또박또박 Talking uh', 'Look at you so funky uh', '계약할래 Turnkey yeah', '뭘 입어도 메도 신어도 뿌려도 센스 쩔어', '넌 나의 트렌드 리더야 ', '좋아요 눌러 난 너의 Follower ', '웬만한 연예인 뺨을 치네요 (Eh oh eh oh)', '우리 오페라 넌 나의 프리마돈나 ', '커튼콜은 잊지 말아 줘', '넌 나의 Celeb Celeb Celeb Celeb Celeb', '나만 알 수 있게 사인해 줘요 (줘요) ', '넌 나의 Celeb Celeb Celeb Celeb Celeb (Celeb)', '우리 연애면을 장식해 줘요 (줘요) ', 'C E L E Brity 지나치게 Pretty ', '브랜드 평판 1위 (Woo)', 'C E L E Brity 느낌적인 느낌 ', 'Baby can you feel this? (Woo)', 'P S Y ', '(Celeb Celeb) ', '넌 처음부터 슈퍼스타 ', '음악적 뮤즈야 ', '막혔던 가사도 술술 나와 ', '네 모든 의식주가 ', '나한테는 빅뉴스야 ', '포즈 잡아 Oh my gosh!', '넌 나의 Celeb Celeb Celeb Celeb Celeb', '나만 알 수 있게 사인해 줘요 (줘요) ', '넌 나의 Celeb Celeb Celeb Celeb Celeb (Celeb)', '우리 연애면을 장식해 줘요 (줘요) ', 'Eh eh eh eh eh eh eh eh eh', 'C E L E Brity ', 'Eh eh eh eh eh eh eh eh eh', 'C E L E Brity']\n"
          ]
        },
        {
          "output_type": "stream",
          "name": "stderr",
          "text": [
            "\r508it [3:46:56, 44.74s/it]"
          ]
        },
        {
          "output_type": "stream",
          "name": "stdout",
          "text": [
            "94\n",
            "['Cos ah ah', 'I’m in the stars tonight', 'So watch me bring the fire', 'and set the night alight', 'Shoes on get up in the morn', 'Cup of milk let’s rock and roll', 'King Kong kick the drum', 'rolling on like a rolling stone', 'Sing song when I’m walking home', 'Jump up to the top LeBron', 'Ding dong call me on my phone', 'Ice tea and a game of ping pong', 'This is getting heavy', 'Can you hear the bass boom', 'I’m ready', 'Life is sweet as honey', 'Yeah this beat cha ching', 'like money', 'Disco overload I’m into', 'that I’m good to go', \"I'm diamond you know I glow up\", 'Hey so let’s go', 'Cos ah ah', 'I’m in the stars tonight', 'So watch me bring the fire', 'and set the night alight', 'Shining through the city', 'with a little funk and soul', 'So I’mma light it up', 'like dynamite woah', 'Bring a friend join the crowd', 'Whoever wanna come along', 'Word up talk the talk', 'just move like we off the wall', 'Day or night the sky’s alight', 'So we dance to the break of dawn', 'Ladies and gentlemen', 'I got the medicine', 'so you should keep ya', 'eyes on the ball huh', 'This is getting heavy', 'Can you hear the bass boom', 'I’m ready', 'Life is sweet as honey', 'Yeah this beat cha ching', 'like money', 'Disco overload', 'I’m into that I’m good to go', \"I'm diamond you know I glow up\", 'Let’s go', 'Cos ah ah', 'I’m in the stars tonight', 'So watch me bring the fire', 'and set the night alight', 'Shining through the city', 'with a little funk and soul', 'So I’mma light it up', 'like dynamite woah', 'Dynnnnnanana life is dynamite', 'Dynnnnnanana life is dynamite', 'Shining through the city', 'with a little funk and soul', 'So I’mma light it up', 'like dynamite woah', 'Dynnnnnanana eh', 'Dynnnnnanana eh', 'Dynnnnnanana eh', 'Light it up like dynamite', 'Dynnnnnanana eh', 'Dynnnnnanana eh', 'Dynnnnnanana eh', 'Light it up like dynamite', 'Cos ah ah', 'I’m in the stars tonight', 'So watch me bring the fire', 'and set the night alight', 'Shining through the city', 'with a little funk and soul', 'So I’mma light it up', 'like dynamite', 'Cos ah ah', 'I’m in the stars tonight', 'So watch me bring the fire', 'and set the night alight', 'Shining through the city', 'with a little funk and soul', 'So I’mma light it up', 'like dynamite woah', 'Dynnnnnanana life is dynamite', 'Dynnnnnanana life is dynamite', 'Shining through the city', 'with a little funk and soul', 'So I’mma light it up', 'like dynamite woah']\n"
          ]
        },
        {
          "output_type": "stream",
          "name": "stderr",
          "text": [
            "\r509it [3:48:00, 50.37s/it]"
          ]
        },
        {
          "output_type": "stream",
          "name": "stdout",
          "text": [
            "69\n",
            "['Smooth like butter', 'Like a criminal undercover', 'Gon’ pop like trouble', 'Breakin’ into your heart like that', 'Cool shade stunner', 'Yeah I owe it all to my mother', 'Hot like summer', 'Yeah I’m makin’ you sweat like that', 'Break it down', 'Oh when I look in the mirror', 'I’ll melt your heart into 2', 'I got that superstar glow so ', 'Do the boogie like', 'Side step right left to my beat (heartbeat)', 'High like the moon rock with me baby', 'Know that I got that heat', 'Let me show you ‘cause talk is cheap', 'Side step right left to my beat (heartbeat)', 'Get it, let it roll', 'Smooth like butter', 'Pull you in like no other', 'Don’t need no Usher', 'To remind me you got it bad', 'Ain’t no other', 'That can sweep you up like a robber', 'Straight up, I got ya', 'Makin’ you fall like that', 'Break it down', 'Oh when I look in the mirror', 'I’ll melt your heart into 2', 'I got that superstar glow so ', 'Do the boogie like', 'Side step right left to my beat (heartbeat)', 'High like the moon rock with me baby', 'Know that I got that heat', 'Let me show you ‘cause talk is cheap', 'Side step right left to my beat (heartbeat)', 'Get it, let it roll', 'Get it, let it roll', 'Get it, let it roll', 'No ice on my wrist', \"I'm that n-ice guy\", 'Got that right body and that right mind', \"Rollin' up to party got the right vibe\", 'Smooth like butter', 'Hate us love us', 'Fresh boy pull up and we lay low', 'All the playas get movin’ when the bass low', 'Got ARMY right behind us when we say so', \"Let's go\", 'Side step right left to my beat (heartbeat)', 'High like the moon rock with me baby', 'Know that I got that heat', 'Let me show you ‘cause talk is cheap', 'Side step right left to my beat (heartbeat)', 'Get it, let it roll', 'Smooth like (butter)', 'Cool shade (stunner)', \"And you know we don't stop\", 'Hot like (summer)', 'Ain’t no (bummer)', 'You be like oh my god', 'We gon’ make you rock and you say (yeah)', 'We gon’ make you bounce and you say (yeah)', 'Hotter?', 'Sweeter!  ', 'Cooler?', 'Butter!', 'Get it, let it roll']\n"
          ]
        },
        {
          "output_type": "stream",
          "name": "stderr",
          "text": [
            "\r510it [3:48:47, 49.34s/it]"
          ]
        },
        {
          "output_type": "stream",
          "name": "stdout",
          "text": [
            "57\n",
            "['나리는 꽃가루에 눈이 따끔해 (아야)', '눈물이 고여도 꾹 참을래', '내 마음 한켠 비밀스런 오르골에 넣어두고서', '영원히 되감을 순간이니까 ', '우리 둘의 마지막 페이지를 잘 부탁해', '어느 작별이 이보다 완벽할까', 'Love me only till this spring', '오 라일락 꽃이 지는 날 good bye', '이런 결말이 어울려 ', '안녕 꽃잎 같은 안녕', '하이얀 우리 봄날의 climax', '아 얼마나 기쁜 일이야', 'Ooh ooh ', 'Love me only till this spring', '봄바람처럼', 'Ooh ooh ', 'Love me only till this spring', '봄바람처럼', '기분이 달아 콧노래 부르네 (랄라)', '입꼬리는 살짝 올린 채', '어쩜 이렇게 하늘은 더 바람은 또 완벽한 건지', '오늘따라 내 모습 맘에 들어', '처음 만난 그날처럼 예쁘다고 말해줄래', '어느 이별이 이토록 달콤할까', 'Love resembles misty dream', '오 라일락 꽃이 지는 날 good bye', '이런 결말이 어울려', '안녕 꽃잎 같은 안녕', '하이얀 우리 봄날의 climax', '아 얼마나 기쁜 일이야', 'Ooh ooh ', 'Love resembles misty dream', '뜬구름처럼', 'Ooh ooh ', 'Love resembles misty dream', '뜬구름처럼', '너도 언젠가 날 잊게 될까', '지금 표정과 오늘의 향기도', '단잠 사이에 스쳐간', '봄날의 꿈처럼', '오 라일락 꽃이 지는 날 good bye', '너의 대답이 날 울려', '안녕 약속 같은 안녕', '하이얀 우리 봄날에 climax', '아 얼마나 기쁜 일이야', 'Ooh ooh ', 'Love me only untill this spring', '봄바람처럼', 'Ooh ooh ', 'Love me only untill this spring', '봄바람처럼', 'Ooh ooh ', 'Love resembles misty dream', '뜬구름처럼', 'Ooh ooh ', 'Love resembles misty dream', '뜬구름처럼']\n"
          ]
        },
        {
          "output_type": "stream",
          "name": "stderr",
          "text": [
            "\r511it [3:49:27, 46.69s/it]"
          ]
        },
        {
          "output_type": "stream",
          "name": "stdout",
          "text": [
            "107\n",
            "['You must step back', '어델 어델 봐', '너 감히 누구라고 날 제껴', '이쯤에서 물러나고', '입 닫는게 좋을걸', '아님 어디 한번', '기어 올라와 보던가', '널 짝사랑을 했었니', '소꿉장난처럼 어릴 때', '엔간히 끼를 좀 끼를 좀 끼를 좀', '네가 부렸겠니', '소싯적 추억 팔이', '그리 재밌니', '내 남잔 지금 Another level', '너 따윈 꿈도 못 꿀 Level', '날 가진 그런 Next level', '보다시피 Another level', 'Don’t bring it to me 꺼져줘', '내 거에서 손 떼 너', 'Step back Step back', '다시 태어나도 안될걸', 'Step back Step back', '착한 남자들에게', '너는 독배 같은 것', '마실수록 외로워', 'He’s sick and tired everyday', '넘지 말아 Border line', 'Step back Step back', '네가 비빌 곳이 아니야', 'Step back Step back', '저울질로 가린 건', '참지 못할 가벼운', '네 마음일걸', 'He’s sick and tired everyday', '그런다고 네게 되나 들어봐', '상상보다 너 같은 애들이 많긴 많아', '그러거나 말거나', '세상은 너를 빼고 돌아가 돌아가', 'You gotta get a good mind', 'Are you looking for fun', '재미를 또 찾니', '호의로 다가와', '이미 계산 끝나', '공해상의 보물선을 보기라도 한 듯', '막 들이대', '시작해 Transaction', '넌 좀 감당 못할 Level', '세계가 무대인 Our Level', '내 곁에서야 가능 Level', '보다시피 Another level', 'Don’t bring it to me 꺼져줘', '내 거에서 손 떼 너', 'Step back Step back', '다시 태어나도 안될걸', 'Step back Step back', '착한 남자들에게', '너는 독배 같은 것', '마실수록 외로워', 'He’s sick and tired everyday', '넘지 말아 Border line', 'Step back Step back', '네가 비빌 곳이 아니야', 'Step back Step back', '저울질로 가린 건', '참지 못할 가벼운', '네 마음일걸', 'He’s sick and tired everyday', '그와 함께했던 수많은 날들', '네 장난 같은 유혹에', '흔들리지 않아', '사랑이란 감정을', '거래하는 건 Too much', '이제 그만 꺼져', '돌아가 네 세계', '다시는 착각은 말고', '남자들 다 똑같아', '내가 뜨면 시선집중', '여기저기 Flash 터져', '찍어라 찍어라 찍어라', '상상은 너의 Freedom', '가지가지 하기 전에', '속부터 Build up', '더 나가면 넌 좀 다쳐', 'Girls Bring it on', 'Step back Step back Step back', 'Silly girl', 'The only girl who live in a dream', 'Step back Step back Step back', 'Silly girl', '내 앞에서 좀 비켜줘 Yeah', 'Don’t bring it to me 꺼져줘', '내 거에서 손 떼 너', 'Step back Step back', '다시 태어나도 안될걸', 'Step back Step back', '착한 남자들에게', '너는 독배 같은 것', '마실수록 외로워', 'He’s sick and tired everyday', '넘지 말아 Border line', 'Step back Step back', '네가 비빌 곳이 아니야', 'Step back Step back', '저울질로 가린 건', '참지 못할 가벼운', '네 마음일걸', 'He’s sick and tired everyday']\n"
          ]
        },
        {
          "output_type": "stream",
          "name": "stderr",
          "text": [
            "\r512it [3:50:42, 54.99s/it]"
          ]
        },
        {
          "output_type": "stream",
          "name": "stdout",
          "text": [
            "65\n",
            "['It’s the thought of being young', 'When your heart’s just like a drum', 'Beating louder with no way to guard it', 'When it all seems like it’s wrong', 'Just sing along to Elton John', 'And to that feeling, we’re just getting started', 'When the nights get colder', 'And the rhythms got you falling behind', 'Just dream about that moment', 'When you look yourself right in the eye, eye, eye', 'Then you say', 'I wanna dance', 'The music’s got me going', 'Ain’t nothing that can stop how we move yeah', 'Let’s break our plans ', 'And live just like we’re golden', 'And roll in like we’re dancing fools ', 'We don’t need to worry ', '‘Cause when we fall we know how to land ', 'Don’t need to talk the talk, just walk the walk tonight ', '‘Cause we don’t need permission to dance ', 'There’s always something that’s standing in the way', 'But if you don’t let it faze ya', 'You’ll know just how to break', 'Just keep the right vibe yeah', '‘Cause there’s no looking back', 'There ain’t no one to prove', 'We don’t got this on lock yeah', 'The wait is over', 'The time is now so let’s do it right ', 'Yeah we’ll keep going', 'And stay up until we see the sunrise', 'And we’ll say', 'I wanna dance', 'The music’s got me going', 'Ain’t nothing that can stop how we move yeah', 'Let’s break our plans', 'And live just like we’re golden', 'And roll in like we’re dancing fools', 'We don’t need to worry', '‘Cause when we fall we know how to land', 'Don’t need to talk the talk, just walk the walk tonight', '‘Cause we don’t need permission to dance', 'Da na na na na na na', 'Da na na na na na na', 'Da na na na na na na', 'No, we don’t need permission to dance ', 'Da na na na na na na', 'Da na na na na na na', 'Da na na na na na na', 'Well let me show ya', 'That we can keep the fire alive', '‘Cause it’s not over', 'Till it’s over say it one more time', 'Say', 'I wanna dance', 'The music’s got me going', 'Ain’t nothing that can stop how we move yeah', 'Let’s break our plans', 'And live just like we’re golden', 'And roll in like we’re dancing fools', 'We don’t need to worry', '‘Cause when we fall we know how to land', 'Don’t need to talk the talk, just walk the walk tonight', '‘Cause we don’t need permission to dance']\n"
          ]
        },
        {
          "output_type": "stream",
          "name": "stderr",
          "text": [
            "\r513it [3:51:26, 51.85s/it]"
          ]
        },
        {
          "output_type": "stream",
          "name": "stdout",
          "text": [
            "132\n",
            "['Oh my gosh!', \"Don't you know I’m a Savage?\", 'I’m a Killa 너를 깰 ae', '아직도 가리고 환각을 펼친 너', '팰라 We Holler', '두렵지 않아 너 너 Hit you harder', '날 밀어 넣어 Deep fake on me', '준비가 안된 무대로', '몰아넣어 Fake on me', 'Got everybody mock up to me', '수치를 느끼게 멘탈을 흔들어놔', '싸늘한 관중 무너져 ae', '더는 널 못 참아 Say No!', '두고 봐 난 좀 Savage', '너의 Dirty 한 Play', '더는 두고 볼 수 없어', '나를 무너뜨리고 싶은', '네 환각들이 점점', '너를 구축할 이유가 돼', 'I’m a Savage', '널 부셔 깨 줄게 Oh', 'I’m a Savage', '널 짓밟아 줄게 Oh', 'Get me get me now', 'Get me get me now', '(Zu Zu Zu Zu)', '지금 나를 잡아', '아님 난 더 Savage', '(Zu Zu Zu Zu)', 'Get me get me now', 'Get me get me now', '(Zu Zu Zu Zu)', '이젠 내가 너를 잡아', \"Now I'm a Savage\", 'Gimme gimme now', 'Gimme gimme now', '(Zu Zu Zu Zu)', '너의 말이 보여', '네 약점 Algorithm', '(Zu Zu Zu Zu)', '김이 김이 나', '김이 김이 나', '(Zu Zu Zu Zu)', 'MA ae SYNK 방해 말고', '꺼져 Savage', '(Zu Zu Zu Zu)', 'Mmmh Everybody looks at me', '익숙하잖니', '양보해 참아야만 돼', '어른스럽게', \"I'm locked up in the glass\", '난 놀고 싶은데', '너무 끔찍한 기대', '그런 환각 틀에 나를 가둬 놔', \"I'm going 광야로 Game in\", '물리쳐 교묘한 이간질', 'And my ae로부터', '멀어지게 만들', '회심찬 네 Trick', 'We gone 광야로 Game in', '베어버려 내 빛의 검', '데미지를 입은 네게', '인정사정 볼 것 없는 펀치', '그것 봐 난 좀 Savage', '너의 재생력을 막아', '흐트러놔 빼놔', '잊지 말아 여긴 바로 광야', '너의 시공간은 내 뜻대로', 'Make It break it', 'I’m a Savage', '널 부셔 깨 줄게 Oh', 'I’m a Savage', '널 짓밟아 줄게 Oh', 'Get me get me now', 'Get me get me now', '(Zu Zu Zu Zu)', '지금 나를 잡아', '아님 난 더 Savage', '(Zu Zu Zu Zu)', 'Get me get me now', 'Get me get me now', '(Zu Zu Zu Zu)', '이젠 내가 너를 잡아', \"Now I'm a Savage\", 'Gimme gimme now', 'Gimme gimme now', '(Zu Zu Zu Zu)', '너의 말이 보여', '네 약점 Algorithm', '(Zu Zu Zu Zu)', '김이 김이 나', '김이 김이 나', '(Zu Zu Zu Zu)', 'MA ae SYNK 방해 말고', '꺼져 Savage', '(Zu Zu Zu Zu)', '위기에 빠진 날 지켜준 건 너였어', 'My naevis we love U', 'My victory 하나의 SYNK DIVE', '모두 네가 만들어준 기회란 거', 'I know your sacrifices Oh', 'My naevis we love U', '알아 우린 반드시', '네 기억들을 찾아줄게', '우린 만나 꼭 부활 그다음', 'Savage', 'Savage', 'Yeah~', 'Get me get me now', 'Get me get me now', '(Zu Zu Zu Zu)', '지금 나를 잡아', '아님 난 더 Savage', '(Zu Zu Zu Zu)', 'Get me get me now', 'Get me get me now', '(Zu Zu Zu Zu)', '이젠 내가 너를 잡아', \"Now I'm a Savage\", 'Gimme gimme now', 'Gimme gimme now', '(Zu Zu Zu Zu)', '너의 말이 보여', '네 약점 Algorithm', '(Zu Zu Zu Zu)', '김이 김이 나', '김이 김이 나', '(Zu Zu Zu Zu)', 'MA ae SYNK 방해 말고', '꺼져 Savage', '(Zu Zu Zu Zu)', 'Ha ha, What?']\n"
          ]
        },
        {
          "output_type": "stream",
          "name": "stderr",
          "text": [
            "\r514it [3:52:58, 63.77s/it]"
          ]
        },
        {
          "output_type": "stream",
          "name": "stdout",
          "text": [
            "51\n",
            "['세상의 모서리', '구부정하게 커버린', '골칫거리 outsider', '걸음걸이, 옷차림, ', '이어폰 너머 play list', '음악까지 다 minor', '넌 모르지', '떨군 고개 위', '환한 빛 조명이', '어딜 비추는지', '느려도 좋으니', '결국 알게 되길', 'The one and only ', 'You are my celebrity', '잊지마 넌 흐린 어둠 사이', '왼손으로 그린 별 하나', '보이니 그 유일함이 얼마나', '아름다운지 말야', 'You are my celebrity', 'celebrity', 'You are my celebrity', '지쳐버린 표정 마치', '전원을 꺼놓은 듯이', '심장소린 too quiet', '네가 가진 반짝거림,', '상상력, identity', '까지 모조리 diet', '넌 모르지', '아직 못다 핀', '널 위해 쓰여진', '오래된 사랑시', '헤매도 좋으니', '웃음 짓게 되길', 'The one and only', 'You are my celebrity', '잊지마 넌 흐린 어둠 사이', '왼손으로 그린 별 하나', '보이니 그 유일함이 얼마나', '아름다운지 말야', 'You are my celebrity ', '발자국마다 이어진 별자리', '그 서투른 걸음이 새겨놓은 밑그림', '오롯이 너를 만나러 가는 길', '그리로 가면 돼 점선을 따라', '잊지마 이 오랜 겨울 사이', '언 틈으로 피울 꽃 하나', '보이니 하루 뒤 봄이 얼마나', '아름다울지 말야', 'You are my celebrity', 'celebrity', 'You are my celebrity']\n"
          ]
        },
        {
          "output_type": "stream",
          "name": "stderr",
          "text": [
            "\r515it [3:53:33, 55.32s/it]"
          ]
        },
        {
          "output_type": "stream",
          "name": "stdout",
          "text": [
            "84\n",
            "['그 날을 잊지 못해 babe', '날 보며 환히 웃던 ', '너의 미소에', '홀린 듯 ', \"I'm fall in love\", 'But 너무 쪽팔림에 ', '난 그저', '한마디 말도 못해 babe ', 'I wanna you ', '너의 눈빛은 ', '날 자꾸 네 곁을 맴돌게 해', 'Just only you ', '굳게 닫힌 내 맘이 ', '어느새 무너져버려 ', 'Because of you', '온통 너의 생각뿐이야 ', '나도 미치겠어', '너무 보고 싶어 ', '매일 매일 매일', '자꾸 초라해지잖아 ', '내 모습이', '그대여 내게 말해줘 ', '사랑한다고', \"Rollin' Rollin' Rollin' Rollin' \", \"Rollin' Rollin' Rollin' Rollin' \", \"Rollin' Rollin' Rollin' Rollin' \", '하루가 멀다 하고 ', 'Rolling in the deep ', \"Rollin' Rollin' Rollin' Rollin' \", \"Rollin' Rollin' Rollin' Rollin' \", '기다리고 있잖아 Babe ', 'Just only you', '기다리고 있잖아 Babe ', 'Just only you', 'Hey I just wanna be with you', '오늘 밤이 가기 전에', \"I can't feel you \", '조금 더 다가와 줘 ', \"Tonight I'm ready for you\", 'You wanna touch me I know', '대체 뭘 고민해 빨리 안아', '아닌 척 모르는 척 하다가', '늦게 놓치고 후회 말아', 'I wanna you ', '너의 눈빛은 ', '날 자꾸 네 곁을 맴돌게 해', 'Just only you ', '굳게 닫힌 내 맘이 ', '어느새 무너져버려 ', 'Because of you', '온통 너의 생각뿐이야 ', '나도 미치겠어', '너무 보고 싶어 ', '매일 매일 매일', '자꾸 초라해지잖아 ', '내 모습이', '그대여 내게 말해줘 ', '사랑한다고', \"Rollin' Rollin' Rollin' Rollin' \", \"Rollin' Rollin' Rollin' Rollin' \", \"Rollin' Rollin' Rollin' Rollin' \", '하루가 멀다 하고 ', 'Rolling in the deep ', \"Rollin' Rollin' Rollin' Rollin' \", \"Rollin' Rollin' Rollin' Rollin' \", '기다리고 있잖아 Babe ', 'Just only you', '이제 와 숨기려 하지 마요', '그대여 ', '아닌 척하지 마요', '온종일 난 ', '그대 생각에 잠긴 채로', '난 이대로 기다리고 있어요', \"Rollin' Rollin' Rollin' Rollin' \", \"Rollin' Rollin' Rollin' Rollin' \", \"Rollin' Rollin' Rollin' Rollin' \", '하루가 멀다 하고 ', 'Rolling in the deep ', \"Rollin' Rollin' Rollin' Rollin' \", \"Rollin' Rollin' Rollin' Rollin' \", '기다리고 있잖아 Babe ', 'Just only you', '기다리고 있잖아 Babe ', 'Just only you']\n"
          ]
        },
        {
          "output_type": "stream",
          "name": "stderr",
          "text": [
            "\r516it [3:54:31, 56.02s/it]"
          ]
        },
        {
          "output_type": "stream",
          "name": "stdout",
          "text": [
            "81\n",
            "['Dun Dun Dance Dun Dun Dance', 'Dun Dun Dance', 'Just dance Just dance', 'Dun Dun Dance Dun Dun Dance', 'Dun Dun Dance', 'Just dance Just dance', '유성이 비처럼 쏟아지는 하늘', '그 아래 너와 함께 춤추고 싶어', '색색의 옷들과 예쁜 액세서리', 'oh baby', '흐르는 저 음악이', '내 맘을 설레게 하지', 'I feel the disco rhythm in my body', '다른 아무것도 생각하진 마', 'yeah 발자국으로 가득한', '무대 위에 올라', '자유로운 몸짓 그 사랑스런 느낌', '저 따분했던 하루와', '일상에서 벗어나 oh tonight', 'Just you and I', '지구를 등지고 떠올라', '맘껏 crazy crazy crazy 긴 춤을 춰', '말리지 마 지금 내 기분은', 'feel so high', '멀리 멀리 멀리 다 눈부셔', 'I just wanna Dun Dun Dance', 'Dun Dun Dance Dun Dun Dance', 'Oh baby give me baby', 'give me baby give me more', '날 멈추지 마 love this song', 'Just wanna Dun Dun Dance', 'Dun Dun Dance Dun Dun Dance', 'Just dance Just dance', 'Shining like a disco ball', '빨간 high heels on the road', 'Got my eyes on you', 'and you got yours', '저 태양이 다시 눈뜰 때까지', '넌 평범한데 뭔가 달라', '왠지 묘한 구석이 있네', '난 가려져 있는 게 보여', '우린 모두 이상해 조금씩은 yeah', '사람을 가장한 낯선 존재들처럼', 'oh baby', 'yeah 놀라지 않아', '괜찮아 좀 더 가까이 와', '다른 시선 따위 다 잊어버려 우리', '늘 복잡한 저세상과', '기대에서 벗어나 oh tonight', 'Just you and I', '지구를 등지고 떠올라', '맘껏 crazy crazy crazy 긴 춤을 춰', '말리지 마 지금 내 기분은', 'feel so high', '멀리 멀리 멀리 다 눈부셔', 'I just wanna Dun Dun Dance', 'Dun Dun Dance Dun Dun Dance', 'Oh baby give me baby', 'give me baby give me more', '날 멈추지 마 love this song', 'Just wanna Dun Dun Dance', 'Dun Dun Dance Dun Dun Dance', 'Just dance Just dance', '어차피 작은 점일 뿐야', '보석 같은 아이야', '몇 발짝 멀리 떨어져서 바라보면 돼', '우린 dancing on fire', 'Just you and I', '지구를 등지고 떠올라', '맘껏 crazy crazy crazy 긴 춤을 춰', '말리지 마 지금 내 기분은', 'feel so high', '멀리 멀리 멀리 다 눈부셔', 'I just wanna Dun Dun Dance', 'Dun Dun Dance Dun Dun Dance', 'Oh baby give me baby', 'give me baby give me more', '날 멈추지 마 love this song', 'Just wanna Dun Dun Dance', 'Dun Dun Dance Dun Dun Dance', 'Just dance Just dance']\n"
          ]
        },
        {
          "output_type": "stream",
          "name": "stderr",
          "text": [
            "\r517it [3:55:27, 55.94s/it]"
          ]
        },
        {
          "output_type": "stream",
          "name": "stdout",
          "text": [
            "65\n",
            "['Uh, You wanna feel the vibe', 'That I’m feeling and loving it and imagining', \"저기 멀리 Looks like tiny we call it's destiny\", '지금부터 하나 둘 셋 하면 모여보자', '그래 Come over', 'Yeah, Get it on nah Get in on nah', 'Let’s bring back to 90’s', '내가 원하는 대로', '자신 있는 모습 그대로', '이제껏 숨겨 왔던 비밀을', '네게 모두 말하고 싶어 Baby', 'Funny how all dreams come true', '(My dreams come true)', '나를 지켜줄 거야', '아껴왔던 작은 사랑도', '(You make me feel so good)', 'Funny how I feel for you', '너의 곁에 그려질', '꿈결같은 나의 미래도', '(You gotta be mine 지금도 미래도)', 'You make it feel me good ', 'Do you wanna upside down', 'You make it feel me good', 'Don’t you wanna up and down', 'I’m in Twilight Zone', '처음 느낌인 것처럼', '짜릿했던 순간 그대로야 지금 난', '마치 약속했던 것 같아', '같은 곳 바라볼 때', '그때 말하고 싶어', 'So I’m loving you more than last forever', 'Hey, Yeah~', 'Funny how all dreams come true', '(My dreams come true)', '나를 지켜줄 거야', '아껴왔던 작은 사랑도', '(You make it feel so good)', 'Funny how I feel for you', '너의 곁에 그려질', '꿈결같은 나의 미래도', '(You gotta be mine 지금도 미래도)', '(지금도 미래도)', 'You make it feel me good ', 'Do you wanna upside down', 'You make it feel me good', 'Don’t you wanna up and down', 'Come on over', '언제나 둘이 함께', '네가 있는 나 행복할 거예요', '더는 슬픈 노래 듣지 않을 거예요', '내 맘을 알겠죠 Woo Woo', 'Naw ae love epp few love mee wern ae taki wakka mekezon ', 'Nart weeny beeney weeny beeney ganer gan ', 'Pam murr wassur doo wee gecha love mee wassur doo yee thang ', 'dui giree wesso wella gella doo wee gella', 'Funny how all dreams come true', '(My dreams come true)', '나를 지켜줄 거야', '아껴왔던 작은 사랑도', '(You make it feel so good)', 'Funny how I feel for you', '너의 곁에 그려질', '꿈결같은 나의 미래도', '(You gotta be mine 지금도 미래도)', 'Dreams come true']\n"
          ]
        },
        {
          "output_type": "stream",
          "name": "stderr",
          "text": [
            "\r518it [3:56:11, 52.39s/it]"
          ]
        },
        {
          "output_type": "stream",
          "name": "stdout",
          "text": [
            "42\n",
            "['우린 이 음악을 빌려', '이 분위기를 빌려', '지금 이 공기 이건 마치', '7시간 비행 뒤 만난 것 같은 섬', 'pink빛 하늘을 빌려', \"Talkin' 'bout the real love\", '낯선 과일 향기가 퍼져', '이 기분은 뭘까', '아주 살짝 감긴 나의 눈이 빛나고 있잖아', '사랑을 말하기 이보다 완벽한 밤은 없어', '지금이야', '우린 이 음악을 빌려', '이 분위기를 빌려', '지금 이 공기 이건 마치', '7시간 비행 뒤 만난 것 같은 섬', 'pink빛 하늘을 빌려', \"Talkin' 'bout the real love\", '웅성거린 소리는 모두', '다른 외국어 같아', '너에게 1, 2, 3 최면처럼 막 빠져드는 이 순간', '사랑을 말하기 이보다 완벽한 밤은 없어', '지금이야', '우린 이 음악을 빌려', '이 분위기를 빌려', '지금 이 공기 이건 마치', '7시간 비행 뒤 만난 것 같은 섬', 'pink빛 하늘을 빌려', \"Talkin' 'bout the real love\", 'Real, real love', 'It’s a Real, real love', 'Real, real love', 'It’s a Real, real love', '이건 exotic experience', '우연이라기엔 영화 속 한 장면 같아 솔직히 이 모든 게', '자꾸만 느려져 천천히 가는 이 느낌', '감각은 so unreal, real love', '우린 이 음악을 빌려', '이 분위기를 빌려', '지금 이 공기 이건 마치', '7시간 비행 뒤 만난 것 같은 섬의', 'pink빛 하늘을 빌려', \"Talkin' 'bout the real love\"]\n"
          ]
        },
        {
          "output_type": "stream",
          "name": "stderr",
          "text": [
            "\r519it [3:56:41, 45.77s/it]"
          ]
        },
        {
          "output_type": "stream",
          "name": "stdout",
          "text": [
            "28\n",
            "['울 할머니 등에 업혀 살 때', '들려오던 그 노래들', '아버지 술 한 잔 걸치시면', '단골 레파토리', '오 오 올드해서 싫어', '촌스러운 뻔한 멜로디', '역시 난 음악 센스 남달라', '알앤비부터 힙합에 재즈까지', '근데 요즘 내가 점점 이상해', '아빠랑 똑같아 술만 먹으면', '내가 이래도 되는지 불러본다', '사랑은 얄미운 나비인가 봐', '울 어머니 에어로빅 반주곡', '뻔한 리듬 촌스런 가사', '어김없이 직장 회식', '마무리로는 트롯 떼창', '오 오 지겨워서 싫어', '요즘 여기저기서 난리', '트롯 너는 내 스타일 아냐', '나는 팝송과 샹송과 최신 가요', '근데 요즘 내가 점점 이상해', '길 가다 흐르는 찰진 멜로디', '가슴이 터지게 불러본다', '사랑은 얄미운 나비인가 봐', '근데 요즘 내가 점점 이상해', '별것도 아닌데 눈물이 흘러', '하늘에 목놓아 꺾어본다', '사랑은 얄미운 나비인가 봐']\n"
          ]
        },
        {
          "output_type": "stream",
          "name": "stderr",
          "text": [
            "\r520it [3:57:02, 38.14s/it]"
          ]
        },
        {
          "output_type": "stream",
          "name": "stdout",
          "text": [
            "97\n",
            "['Scratch that bring it back', '(Shook! Shook! Ha)', '네 앞에선', 'Glitch Mode', '온몸이 고장 났어 Reload', '난 어질 어질 어질 두통', '또 돌고 돌아', 'I’m in Glitch Mode', '전에 없던 Situation', '너 아님 너만 Repetition', 'Trouble trouble like a miscode', '비상이 걸려', '버 버퍼링이야', 'I’m on that Glitch Mode', '엔진 Sound 위험해', '겪은 적 없는 Pit a pat', '네가 다가와 Whoop! The whoop!', '왜 숨이 멎는데', '가속도를 타는 심장', 'Go speeding up ', '이 감정은 어떤 말도', 'Can’t get enough', 'Watch me Imma be crazy', '저항도 못하고 Hands up', '돌이켜 놔 Into my mind', '한방에 퍼지는 Ransom', '왜 이래 왜 이래 왜', '이건 치명적인 사태', 'Shutting me down 제어 불가', '모두 다 Say I’m too much', '네가 몰고 오는', '달디단 소나기에', '작은 싹이 돋아나', '숲을 키워내', 'Growing up to heaven', 'Touching on the sun', '너를 아무리 아무리', '막아도 자라나고', 'Trouble trouble like a miscode', '비상이 걸려', 'I’m on that Glitch Mode', 'I’m on that Glitch Mode', 'I’m on', 'Scratch that bring it back', '(Shook! Shook! Ha)', '네 앞에선', 'Glitch Mode', '온몸이 고장 났어 Reload', '난 어질 어질 어질 두통', '또 돌고 돌아', 'I’m in Glitch Mode', '전에 없던 Situation', '너 아님 너만 Repetition', 'Trouble trouble like a miscode', '비상이 걸려', '버 버퍼링이야', 'I’m on that Glitch Mode', 'Code is 버퍼링 칠해 이 Scene', '너의 미모는 Clickbait going', '네게 Auto pilot in the air', '어디서도 본 적 없던', '수식인 걸', '외워 둘 수 있어 나는', '네 모든 걸', '너를 꿈꾸느라 밤새', '너 없는 꿈은 전부 Nightmare', '시작된 Glitch Mode', '놀라지 않아도 돼', '오류 하나쯤 I like it', '이런 게 사랑이면 Ok', '스친 손끝에도', '머릿속이 정지돼', '낯선 감각들이', '내 몸을 지배해', 'There was no you', 'There was no me', '감정만 떠도는 Place', '너 아닌 다른 모든 건', 'Out of the space', '299,792 per second', 'Light Speed Bass Drop', 'Robot Blast Start Off', 'Light Speed Bass Drop', 'Scratch that bring it back', '(Shook! Shook! Ha)', '네 앞에선', 'Glitch Mode', '온몸이 고장 났어 Reload', '난 어질 어질 어질 두통', '또 돌고 돌아', 'Iʼm in Glitch Mode', '전에 없던 Situation', '너 아님 너만 Repetition', 'Trouble trouble like a miscode', '비상이 걸려', '버 버퍼링이야', 'I’m on that Glitch Mode']\n"
          ]
        },
        {
          "output_type": "stream",
          "name": "stderr",
          "text": [
            "\r521it [3:58:10, 47.25s/it]"
          ]
        },
        {
          "output_type": "stream",
          "name": "stdout",
          "text": [
            "85\n",
            "['모든 게 궁금해', 'How’s your day', 'Oh tell me', '뭐가 널 행복하게 하는지', 'Oh text me', 'Your every picture', '내 머리맡에 두고 싶어', 'oh bae', 'Come be my teacher', '네 모든 걸 다 가르쳐줘', 'Your 1 your 2', 'Listen my my baby 나는', '저 하늘을 높이 날고 있어', '그때 니가 내게 줬던 두 날개로', '이제 여긴 너무 높아', '난 내 눈에 널 맞추고 싶어', 'Yeah you makin’ me a boy with luv', 'Oh my my my oh my my my', \"I've waited all my life\", '네 전부를 함께하고 싶어', 'Oh my my my oh my my my', 'Looking for something right', '이제 조금은 나 알겠어', 'I want something stronger', 'Than a moment', 'than a moment love', 'I have waited longer', 'For a boy with', 'For a boy with luv', '널 알게 된 이후 ya', '내 삶은 온통 너 ya', '사소한 게 사소하지 않게', '만들어버린 너라는 별', '하나부터 열까지 모든 게 특별하지', '너의 관심사 걸음걸이 말투와', '사소한 작은 습관들까지', '다 말하지 너무 작던', '내가 영웅이 된 거라고', 'Oh nah', '난 말하지 운명 따윈', '처음부터 내 게 아니었다고', 'Oh nah', '세계의 평화', 'No way', '거대한 질서', 'No way', '그저 널 지킬 거야 난', 'Boy with luv', 'Listen my my baby 나는', '저 하늘을 높이 날고 있어', '그때 니가 내게 줬던 두 날개로', '이제 여긴 너무 높아', '난 내 눈에 널 맞추고 싶어', 'Yeah you makin’ me a boy with luv', 'Oh my my my oh my my my', 'You got me high so fast', '네 전부를 함께하고 싶어', 'Oh my my my oh my my my', 'You got me fly so fast', '이제 조금은 나 알겠어', 'Love is nothing stronger', 'Than a boy with luv', 'Love is nothing stronger', 'Than a boy with luv', '툭 까놓고 말할게', '나도 모르게 힘이 들어가기도 했어', '높아버린 sky', '커져버린 hall', '때론 도망치게 해달라며 기도했어', 'But 너의 상처는 나의 상처', '깨달았을 때 나 다짐했던 걸', '니가 준 이카루스의 날개로', '태양이 아닌 너에게로', 'Let me fly', 'Oh my my my oh my my my', \"I've waited all my life\", '네 전부를 함께하고 싶어', 'Oh my my my oh my my my', 'Looking for something right', '이제 조금은 나 알겠어', 'I want something stronger', 'Than a moment', 'than a moment love', 'Love is nothing stronger', 'Than a boy with luv']\n"
          ]
        },
        {
          "output_type": "stream",
          "name": "stderr",
          "text": [
            "\r522it [3:59:09, 50.69s/it]"
          ]
        },
        {
          "output_type": "stream",
          "name": "stdout",
          "text": [
            "75\n",
            "['WhOOk- whOOk', 'Ay Look at that moving eye eyes', '봤니 shOOg shOOg shOOg', 'hOOk 들어와 내게 좀 더', '좋아 zOOm zOOm gOOd', 'Get out 겁쟁인 XX', '충격과 공포일걸 OOps', 'Gon’ pOppin’ it pOppin’ it', 'pOppin’ it now', '궁금해 미치겠지 Open that bOOm', 'Check out Popcorn and Zero coke', '빠진 건 없지 Come in', '팔짱을 끼고 Sit down', '곧 터지는 탄성', '아직까진 Teaser', 'hOOt 기대해 coming sOOn', '벌써 놀라지마', 'Calm down down down', 'Dan-da-ra dan-da-ra dan', '지금 시작해', 'Dan-da-ra dan-da-ra dan', 'Sorry No way out', '기다려봐 잠깐 Oh', 'Tension을 더 높여', '더 높여 Leggo', '두 눈이 커져 Like OO', 'Watch out baila baila baila', 'Watch it how nice how nice OO', 'Watch out baila baila baila', 'Watch it how nice how nice OO', 'Come on 한 방울 떨어뜨릴 때야', 'eye drops', 'Watch out baila baila baila', 'Watch it how nice how nice', 'NMIXX', '0과 1의 미로가 보여', '보고 있지만 말고 follow', 'Cause everything is fake', 'But I ain’t fake', '진짜 시작은 지금부터', '빰 빰 빰', 'See more more more', '빰 빰 빰', 'Scream O O O', '현실같은 Dream은 이제 지겹지 않니', '잠든 너를 Tap-Tap 깨워 Knock-Knock', '어서 button을 더 Tap-Tap 눌러봐봐', 'Follow follow me', 'Never let you down Be with me', 'Let me be your super hero', 'Ay Zip Zap zOOm Come on Come on', '날 꼭 잡아 잡아', 'Just here we go', 'No 무서워할 거 없어 never give up', 'Baby 너와 나를 믿어', 'Zero + Zero = ∞ Oh 재밌지 않니', 'Ay Zip Zap zOOm Come on Come on', 'Baby you are ma super hero', '너무 늦기 전에 Try', 'Baby what u waitin’ for', 'Cause now is the time', 'and finally we’ll Win', 'Watch out baila baila baila', 'Watch it how nice how nice OO', 'Watch out baila baila baila', 'Watch it how nice how nice OO', 'Come on 눈을 깜빡일 시간이야 babe', 'Watch out baila baila baila', 'Watch it how nice', 'how nice like OO', '어때 어때 어때 OO', '좋아 좋아 좋아 ㅇㅇ', 'Oh my 떨어진 멘탈은 챙겨가 babe', 'Watch out baila baila baila', '어서 Follow Follow']\n"
          ]
        },
        {
          "output_type": "stream",
          "name": "stderr",
          "text": [
            "\r523it [4:00:01, 51.10s/it]"
          ]
        },
        {
          "output_type": "stream",
          "name": "stdout",
          "text": [
            "56\n",
            "['어쩌다 어쩌다 어쩌다', 'Oh 대체 내 맘이 왜 이러는지', '어쩌다 어쩌다 어쩌다', 'Hey you ready', 'Brave Sound', 'Brave Girls', '내게 무슨 일이 생긴 걸까', '사랑 따위 절대 믿지도 않았던 내가', '널 본 그 순간 숨이 멎을 듯', '내 맘을 꽉 채워 버린 너 You', '틱틱거리는 말투에 차가운 눈빛', '가시 돋친 장미꽃을 꺾어버린', \"I'm falling in love with you\", '메말라 가던 내 맘속 비를 내려준 넌', '사랑 그따위 건 내게', '그저 눈물이 되어 밤새 흘러', '상처뿐이던 내 맘에', '거짓말처럼 넌 꽃을 피워 Oh', '어쩌다 어쩌다 어쩌다', 'Oh 대체 내 맘이 왜 이러는지', '어쩌다 어쩌다 어쩌다', '끝도 모른 채로', \"I'm diving into you oh no\", 'Hey 어쩌다 어쩌다', 'Hey 어쩌다 어쩌다', '따분함뿐이던 내 하루에 넌', '나를 또 놀라게 설레게 해', '모든 걸 새롭게 해', '별 의미 없는 너의 말 한 마딘', '신경 쓰여 Uh 날 어지럽게 해', '널 만나기 전 난 Desperado', '흔한 눈웃음조차 어색해하던', \"I'm falling in love with you\", '메말라 가던 내 맘속 비를 내려줄 넌', '사랑 그따위 건 내게', '그저 눈물이 되어 밤새 흘러', '상처뿐이던 내 맘에', '거짓말처럼 넌 꽃을 피워 Oh', '어쩌다 어쩌다 어쩌다', 'Oh 대체 내 맘이 왜 이러는지', '어쩌다 어쩌다 어쩌다', '끝도 모른 채로', \"I'm diving into you oh no\", 'You know my eyes on you', '온종일 너에게만 Zoom', '너 하나만 빼곤 모두 Fade out', '내 모든 건 네게 맞춤', '내 옆은 오직 너야', '이미 답은 정해진 거야 Yeah', 'YES 말곤 다 필요 없어 Oh', '어쩌다 어쩌다 어쩌다', 'Oh 대체 내 맘이 왜 이러는지', '이러는지', '어쩌다 어쩌다 어쩌다', '끝도 모른 채로', \"I'm diving into you 어쩌다\"]\n"
          ]
        },
        {
          "output_type": "stream",
          "name": "stderr",
          "text": [
            "\r524it [4:00:40, 47.37s/it]"
          ]
        },
        {
          "output_type": "stream",
          "name": "stdout",
          "text": [
            "61\n",
            "['You know without you I’m so lonely', 'When you’re not here 911 calling', 'Into your heat again I’m diving', 'Darling you Darling you baby', 'Fighting round in circles where is the way out', '‘Cause I know that our love was hotter than the sun', 'Yeah the taste of this tequila I’m drinking now', 'Isn’t bitter than my heart', '(If you know this)', 'I want to know our problem blood type or DNA', 'Friends see my feed and worry, do you babe? Yeah', 'Been waiting for your call every night', 'But I can’t wait no more', 'Dialing you-u-u, sorry darling you', 'You know without you I’m so lonely ', 'When you’re not here 911 calling', 'Into your heat again I’m diving', 'Darling you Darling you baby ', 'You know without you I’m so lonely ', 'If you won’t be here 911 calling', 'Falling to you I’m always diving', 'Darling you Darling you baby ', 'Darling with me under the sun', 'I know that you’re my one', 'I don’t wanna let you go', 'I can’t think of being alone', 'What am I supposed to do', 'And I gotta let you know', 'You got my heart like it’s yours', 'Don’t wanna say goodbye', '(If you know this)', 'I want to know our problem blood type or DNA', 'Friends see my feed and worry, do you babe? Yeah', 'Been waiting for your call every night', 'But I can’t wait no more', 'Dialing you-u-u, sorry darling you', 'You know without you I’m so lonely ', 'When you’re not here 911 calling', 'Into your heat again I’m diving', 'Darling you Darling you baby ', 'You know without you I’m so lonely', 'If you won’t be here 911 calling', 'Falling to you I’m always diving', 'Darling you Darling you', 'I see you, you see me', 'I care for you, you care for me', 'We can be all we need', 'Promise I won’t take you for granted never', 'I’ma treat you better (I’ma treat you better)', 'I’ma see you better (I’ma see you better)', 'So honey now come into my arms yeah', 'Kiss me baby', 'Kiss me baby', ' ', 'You know without you I’m so lonely ', 'When you’re not here 911 calling', 'Into your heat again I’m diving', 'You know without you I’m so lonely ', 'If you won’t be here 911 calling', 'Falling to you I’m always diving', 'Darling you Darling you baby']\n"
          ]
        },
        {
          "output_type": "stream",
          "name": "stderr",
          "text": [
            "\r525it [4:01:22, 45.76s/it]"
          ]
        },
        {
          "output_type": "stream",
          "name": "stdout",
          "text": [
            "59\n",
            "['영원한 밤', '창문 없는 방에 우릴 가둔 love', 'What can we say', '매번 아파도 외치는 love', '다치고 망가져도 나', '뭘 믿고 버티는 거야', '어차피 떠나면 상처투성인 채로 미워하게 될걸', '끝장을 보기 전 끝낼 순 없어', '이 아픔을 기다린 것처럼', '아마 다 잠깐 일지도 몰라', '우린 무얼 찾아서 헤매는 걸까', 'But I don’t care I’ll do it over and over', '내 세상 속엔 너만 있으면 돼', 'We are the lovesick girls', '네 멋대로 내 사랑을 끝낼순 없어', 'We are the lovesick girls', '이 아픔 없인 난 아무 의미가 없어', 'But we were born to be alone', 'Yeah we were born to be alone', 'Yeah we were born to be alone ', 'But why we still looking for love', 'No love letters, no x and o’s', 'No love never, my exes know', 'No diamond rings, that set in stone', 'To the left, better left alone', 'Didn’t wanna be a princess, I’m priceless', 'A prince not even on my list', 'Love is a drug that I quit', 'No doctor could help when I’m lovesick', '아마 다 잠깐 일지도 몰라', '우린 무얼 찾아서 헤매는 걸까', '불안한 내 눈빛 속에 널 담아', '아프더라도 너만 있으면 돼', 'We are the lovesick girls', '네 멋대로 내 사랑을 끝낼 순 없어', 'We are the lovesick girls', '이 아픔 없인 난 아무 의미가 없어', 'But we were born to be alone', 'Yeah we were born to be alone', 'Yeah we were born to be alone ', 'But why we still looking for love', '사랑은 slippin’ and fallin’', '사랑은 killin’ your darlin’', '아프다 아물면 또 찾아오는 이 겁 없는 떨림', '들리지 않아 what you say', '이 아픔이 난 행복해', '나를 불쌍해 하는 네가 내 눈엔 더 불쌍해', 'We are the lovesick girls', '네 멋대로 내 사랑을 끝낼 순 없어', 'We are the lovesick girls', '이 아픔없인 난 아무 의미가 없어', 'Lovesick girls ', '모두 결국 떠나가고', 'Lovesick girls', '내 눈물이 무뎌져도', 'Lovesick girls', '아프고 또 아파도', 'Lovesick girls', 'But we’re still looking for love']\n"
          ]
        },
        {
          "output_type": "stream",
          "name": "stderr",
          "text": [
            "\r526it [4:02:02, 44.23s/it]"
          ]
        },
        {
          "output_type": "stream",
          "name": "stdout",
          "text": [
            "52\n",
            "['길을 잃어 우린 헤메이죠', '빛을 잃은 푸른 별빛처럼', 'I don`t Know 어딘지 몰라', '어둠속 널 찾을수 없어', 'I don`t Know 넌 어디 있니', '네가 있는 그곳', '너를 찾고 있어', 'bye bye', 'I don`t wanna cry', '나의 곁엔 네가 필요해', '돌아와', 'bye bye', 'I don`t wanna cry', '슬프도록 아름다웠던', '너를 돌려놔 오', \"don't leave me don't leave me\", '떠나가지마', 'please tell me why', \"don't for get me don't for get me\", '잊어가지마', 'I give you my heart', '흩어지는 슬픈 꽃잎처럼', '너의 미소 이젠 사라지네', 'I don`t Know 어딘지 몰라', '어둠 속 널 찾을 수 없어', 'I don`t Know 넌 어디 있니', '네가 있는 그곳', '너를 찾고 있어', 'bye bye', 'I don`t wanna cry', '나의 곁엔 네가 필요해', '돌아와', 'bye bye', 'I don`t wanna cry', '슬프도록 아름다웠던', '너를 돌려놔 오', \"don't leave me don't leave me\", '떠나가지마', 'please tell me why', \"don't for get me don't for get me\", '잊어가지마', 'I give you my heart', '언젠가는', '다시 만날 그날 위해', '기다릴게 올 때까지', 'til the day', '나에게 돌아와 줘', 'still I want you', '한 번만 널 안을 수 있게 해 줄래', 'I just can`t let go', '하루만 내게', 'I`m still getting over you']\n"
          ]
        },
        {
          "output_type": "stream",
          "name": "stderr",
          "text": [
            "\r527it [4:02:39, 41.95s/it]"
          ]
        },
        {
          "output_type": "stream",
          "name": "stdout",
          "text": [
            "69\n",
            "['Hey you 지금 뭐 해', '잠깐 밖으로 나올래', '네가 보고 싶다고', '거울 속의 난 So perfect', '새로 산 신발도 Check it okay', '잠든 도시를 깨워 Late night late night', '더 더 더 두근거려', '거리마다 빛나는 Spotlight spotlight', '네게 가까워질 때', 'Ah woo woo woo', '내 입가에 미소가 번져', '네 눈 속에 My eyes', '떨려와 Yeah', '달콤하게 속삭일래', '간직했던 내 맘을', 'Yeah it’s you', 'Doesn’t matter', '특별한 Me and you', '가까이 갈래 I want to', '눈을 못 피하게', '말도 못 돌리게', '너만 좋다면', 'Doesn’t matter', '망설이지 말고 네 마음을 더 보여줘', '네 손을 잡을래', '너를 꼭 안을래', '좋아해 널 내 맘은 I want you', '기다리다 놓쳐 날', '너도 알잖아 난 Special Woo', '원하는 건 딱 하나', '모두 알잖아', '다 티가 나는 걸', '장난이 아니야 난', '욕심이 생겼어 난', '이대로 널 보낼 순 없어', 'Ah woo woo woo', '네 미소에 내 맘이 떨려', '내 두 볼에 Red light', '번져와 Yeah', '솔직하게 말해볼래', '숨겨왔던 내 맘은', 'Yeah it’s you', 'Doesn’t matter', '특별한 Me and you', '가까이 갈래 I want to', '눈을 못 피하게', '말도 못 돌리게', '너만 좋다면', 'Doesn’t matter', '망설이지 말고 네 마음을 더 보여줘', '네 손을 잡을래', '너를 꼭 안을래', '좋아해 널 내 맘은 I want you', 'So just listen 떨리는 내 손을 잡아줘', '넌 So special 매일 밤 기다린 지금 이 순간', 'You’re the one that I needed', '나와 같다고 말해줘', '이 밤이 끝나기 전에', 'Doesn’t matter', '시작해 Me and you', '느낌이 좋아 I got you', '어떡해 너와 나', '이렇게 가까이', '네 맘이 보여', 'Doesn’t matter', '주저하지 말고 네 두 팔로 날 안아줘', '어쩌면 너와 나', '마주한 이 순간', '좋아해 난 너만을 I want you']\n"
          ]
        },
        {
          "output_type": "stream",
          "name": "stderr",
          "text": [
            "\r528it [4:03:25, 43.29s/it]"
          ]
        },
        {
          "output_type": "stream",
          "name": "stdout",
          "text": [
            "59\n",
            "['STAYC girls it’s going down', 'Time is running boy', '그건 누구에겐 돈', 'You know I’m so dope', '더는 못 기다려 줘', '원래 나는 좀 참을성이 없는 몸', '솔직한 게 좋은 걸', 'But you gotta know', 'yeah e yeah', '달콤하기만 해도 싫어', 'So check it', '매너 좋은 거 착한 거는', '나도 구분해 e yeah', '순간 반짝할 거면 시작도 않는 걸', 'Sometimes 내가 생각해도', 'I think I’m really cool', 'ASAP 내 반쪽 아니 완전 Copy', '나와 똑같아 내 맘 잘 알아줄', 'ASAP 꼭 닮은 내 Decalcomanie', '눈앞에 나타나 줘', 'ASAP', 'whoo woo woo woo', 'ASAP', 'whoo woo woo woo', '눈앞에 눈앞에 나타나 줘', 'No I’m not picky 가끔 까탈스럽대', 'It’s ok but I care', '콧대 높대 아닌데 Get it', '이해하게 될 걸 너만 나타나면', 'So baby hurry up I’m just waiting on', '달콤하기만 해도 싫어 So check it', '겉만 그런지 진심인지', '나도 구분해 e yeah', '금방 타오른다면 쉽게 꺼지는 걸', 'Sometimes 내가 생각해도', 'I think I’m really cool', 'ASAP 내 반쪽 아니 완전 Copy', '나와 똑같아 내 맘 잘 알아줄', 'ASAP 꼭 닮은 내 Decalcomanie', '눈앞에 나타나 줘', 'ASAP', 'whoo woo woo woo', 'ASAP', 'whoo woo woo woo', '눈앞에 눈앞에 나타나 줘', '실제론 어떤 느낌인 걸까', 'A beautiful a beautiful love', '한 번도 느껴본 적 없는 걸', 'So where you at 기다리고 있는데', 'ASAP', 'ASAP 내 반쪽 아니 완전 Copy', '나와 똑같아 내 맘 잘 알아줄', 'ASAP 꼭 닮은 내 Decalcomanie', '눈앞에 나타나 줘', 'ASAP', 'Whoo woo woo woo', 'ASAP', 'Whoo woo woo woo', '눈앞에 눈앞에 나타나 줘']\n"
          ]
        },
        {
          "output_type": "stream",
          "name": "stderr",
          "text": [
            "\r529it [4:04:06, 42.64s/it]"
          ]
        },
        {
          "output_type": "stream",
          "name": "stdout",
          "text": [
            "72\n",
            "['Queens', 'Ah yeah ah yeah', 'Ah yeah ah yeah', 'Dururururu uh-huh', 'Ah yeah ah yeah', 'Ah yeah ah yeah', 'Yeah', 'Hey, here we go again', '눈부신 햇살 아래', '아이처럼 활짝 웃는 너', 'Oh hey! 같은 꿈속에', '우릴 계속 불러 댄', '먼 기억 너머의 Wonderland', 'We are Queens in the red castle', 'Don’t need crown 타고났지 Dazzle', '함께 만들어 온 Paradigm', '확실히 다른 Stereotype', '볼수록 빛나는 Pose', 'Problems? 저 하늘 위로', '던져! We are makin’ the rules', '‘Cause we are Queens and Kings', '손을 더 높이', '모일수록 아름답게', 'Shining bling bling', '비가 내려도', 'Strong and beautiful', '모두 다른 색깔로 완성한 Rainbow', 'Ladida-do Ba-badida', 'Ladida-do Ba-badida', '다시 한번 시작해볼까', 'That’s our Queendom yeah', 'Ladida-do Ba-badida', 'Ladida-do Ba-badida', '너와 손을 맞잡은 순간', 'That’s our Queendom', 'We we we strong, nothing missing', 'Wake up 답은 Simple', 'Be Boss 불어 Whistle', '더 큰 세상이 너를 주목해', '축제를 열어볼까', '난 너의 손을 잡아', '기다린 지금이야', '너답게 펼쳐봐', '놀러와 My carnival', 'Climax? 지금부터야', 'Watch out! We are makin’ the rules', '‘Cause we are Queens and Kings', '손을 더 높이', '모일수록 아름답게', 'Shining bling bling', '비가 내려도', 'Strong and beautiful', '모두 다른 색깔로 완성한 Rainbow', '더 크게 외쳐 We do it better', '어둠을 헤쳐 빛을 따라가', '새로운 Color 이름은 Together', 'It’s now or never, we got forever', '‘Cause we are Queens and Kings', '손을 더 높이', '모일수록 아름답게', 'Shining bling bling', '비가 내려도', 'Strong and beautiful', '모두 다른 색깔로 완성한 Rainbow', 'Ladida-do Ba-badida', 'Ladida-do Ba-badida', '다시 한번 시작해볼까', 'That’s our Queendom yeah', 'Ladida-do Ba-badida', 'Ladida-do Ba-badida', '너와 손을 맞잡은 순간', 'That’s our Queendom yeah']\n"
          ]
        },
        {
          "output_type": "stream",
          "name": "stderr",
          "text": [
            "\r530it [4:04:56, 44.61s/it]"
          ]
        },
        {
          "output_type": "stream",
          "name": "stdout",
          "text": [
            "21\n",
            "['지난날 그리워하는 것은 아쉬움이야', '바람 속을 걸어가는 너의 모습처럼', '나는 이제 모든 것을 잊어야만 하네', '그렇게 좋던 그날이 그렇게 사랑한 날이', '이제는 사라져가고 슬픔만 남아버렸네', '이렇게 그리운 나를 이렇게 못 잊는 나를', '이제는 잊어버렸나 이제는 지워버렸나', '그리워 헤매이는 것은 사랑일 거야', '바람 속에 피어나는 한 송이 꽃처럼', '이따금씩 되살아나 생각나게 하네', ' ', '그렇게 좋던 그날이 그렇게 사랑한 날이', '이제는 사라져가고 슬픔만 남아버렸네', '이렇게 그리운 나를 이렇게 못 잊는 나를', '이제는 잊어버렸나 이제는 지워버렸나', '모든 얘기들 이젠 잊어야 하네 그 슬픈 얼굴도 ', '그 사람 이젠 떠나갔기에', '그렇게 좋던 그날이 그렇게 사랑한 날이', '이제는 사라져가고 슬픔만 남아버렸네', '이렇게 그리운 나를 이렇게 못 잊는 나를', '이제는 잊어버렸나 이제는 지워버렸나']\n"
          ]
        },
        {
          "output_type": "stream",
          "name": "stderr",
          "text": [
            "\r531it [4:05:10, 35.63s/it]"
          ]
        },
        {
          "output_type": "stream",
          "name": "stdout",
          "text": [
            "61\n",
            "['다른 맘을 맞추고', '같은 길을 걷다 보면', '끝이란 내 맘과는', '상관없이 나곤 해', \"I'm in trouble 점점 더 잿빛으로\", '변하고 있는 걸 날 좀 잡아줘', '고독한 밤이 나를 감싸 오는 걸', '손을 뻗어 소리쳐 봐도', '닿지 않는 너인데', '느껴지지 않아', \"I'm so lost\", '꿈을 꿔 DAYDREAM 난 매일', '혹시라는 꿈을 꿔', '계속 DAYDREAM', '영원히 어지러운 미로 속', 'Because I love you, love you, love you', '내가 살아가는 모든 이유', '바로 너라고 오직 너라고', '꿈에서 깨도 꿈인 걸', '멍하니 걸어', '네가 있는 그곳 흔적 따라', '너의 숨결, 온기를 찾아', '깨지 않는 꿈 꾸는 걸', 'DAYDREAM', '머릿속에 펼쳐지는 드라마', '결코 일어나지 않을 거라', '날 타일러', '남은 감정이라는 게', '심장에 넘쳐 흐를 듯해', '온몸에 울리는 네 목소리', '손을 뻗어 소리쳐봐도', '닿지 않는 너인데', '느껴지지 않아 ', \"I'm so lost\", '꿈을 꿔 DAYDREAM 난 매일', '혹시라는 꿈을 꿔', '계속 DAYDREAM', '영원히 어지러운 미로 속', 'Because I love you, love you, love you', '내가 살아가는 모든 이유', '바로 너라고 오직 너라고', '꿈에서 깨도 꿈인 걸', '항상 나의 예측관', '다른 너였으니까', '이번에도, 혹시라도 그럴지', '차갑도록 얼어버린', '내 두 손 끝에 닿아줘', '다시 올 수 있게', '오늘도 DAYDREAM 쉼 없이', '혹시라는 꿈을 꿔', '계속 DAYDREAM', '영원히 어지러운 미로 속', 'Because I love you, love you, love you', '내가 살아가는 모든 이유', '바로 너라고 오직 너라고', '꿈에서 깨도 꿈인 걸', '멍하니 걸어', '네가 있는 그곳 흔적 따라', '너의 숨결, 온기를 찾아', '깨지 않는 꿈 꾸는 걸', 'DAYDREAM']\n"
          ]
        },
        {
          "output_type": "stream",
          "name": "stderr",
          "text": [
            "\r532it [4:05:53, 37.76s/it]"
          ]
        },
        {
          "output_type": "stream",
          "name": "stdout",
          "text": [
            "73\n",
            "['I’m such a good surfer', '가라앉지 않기', '비틀 비 비틀 거리다가 풍덩 uh', '빠지더라도 구명복 따윈 졸업', ' ', 'I’m such a good surfer', '휩쓸리지 않기', '울렁 우 울렁 거리다가 throw up', '게워내더라도 지는 건 난 못 참아', ' ', '제일 높은 파도 ', '올라타타 라차차우아', '해일과 함께 사라질 타이밍', '그건 내가 골라', '무슨 소리 겁이 나기는, 재밌지 뭐', ' ', '어어어 푸푸푸 또', '허허허 우우우적', '거거거 리더던 시', '저저절 나라면 ', '워어언 이 사람아', '언제적 얘길 꺼내나', '보란듯이 헤엄치기 처첨버벙', ' ', '저저적 셔셔셔 또', '저저적 셔셔셔', '거거겁 없이 몸을', '더더던 져져져', '워어언 이 사람아', '뭘 그렇게나 놀래나', '더 재밌는 걸 보여줄게 ', 'When the wave has come', ' ', 'I’m a bubble maker', '잔잔한 바다를', '지긋 지 지긋 괴롭히는 villain uh', '나이를 먹어도 이 버릇 남 못 줘 난', 'I’m a bubble maker', '이제 이쯤이야', '출렁 추 출렁 멀미도 suck it up', '물 먹이더라도 이곳을 난 못 떠나', '제일 높은 파도 ', '올라타타 라차차우아', '너울과 함께 부서질 타이밍', '그건 내가 골라', '무슨 소리 겁이 나기는, 재밌지 뭐', '어어어 푸푸푸 또', '허허허 우우우적', '거거거 리더던 시', '저저절 나라면 ', '워어언 이 사람아', '언제적 얘길 꺼내나', '맨몸으로 헤엄치기 처첨버벙', ' ', '어 또 보네 다음에', '다시 만날 때까지', '부디 행운을 빌어', '지겹게 보자고', '슬 가볼게 나 먼저', '저기 물마루에', '원 이 사람 참', '뭘 그렇게나 놀래나', '더 재밌는 걸 보여줄게', 'When the wave has come', ' ', '저저적 셔셔셔 또', '저저적 셔셔셔', '거거겁 없이 몸을', '더더던 져져져', '워어언 이 사람아', '뭘 그렇게나 보채나', '거품처럼 사라질게 ', 'When the time has come']\n"
          ]
        },
        {
          "output_type": "stream",
          "name": "stderr",
          "text": [
            "\r533it [4:06:46, 42.21s/it]"
          ]
        },
        {
          "output_type": "stream",
          "name": "stdout",
          "text": [
            "40\n",
            "['거울 앞에서 또 연습해', '두 눈을 크게 떠', '이런 표정을 넌 좋아해', '어떻게 하면 더 연약해 청초해 보일까', '안 꾸민듯 꾸며보곤 해', '여자의 마음을 너무 몰라 넌', 'Let me just say it now', '두려운 내 모습까지 감싸 안아줘', '난 네 머리 꼭대기에서 춤춰 you dumb dumb', '난 네 머리 꼭대기에서 춤춰 you dumb dumb', '영혼까지 끌어 떠는 내숭 ', '결국 이게 다 널 위한거야', 'Dumb dumb dumb', '순수한 내 눈빛보고 잔머리 굴리지말고', 'Let’s play dumb dumb dumb', '원래 많이 못 먹어요 양이 적어서 yeah', '벌렌 절대 못 잡아요 너무 무서워', 'Nah, I aint got time for that', 'Tried to act the part and rewind it back', 'Over and over, shows over, take or leave', 'It’s make love or, make believe', '여자의 마음을 너무 몰라 넌', 'Let me just say it now', '두려운 내 모습까지 감싸 안아줘', '난 네 머리 꼭대기에서 춤춰 you dumb dumb', '난 네 머리 꼭대기에서 춤춰 you dumb dumb', '영혼까지 끌어 떠는 내숭 ', '결국 이게 다 널 위한거야', 'Dumb dumb dumb', '순수한 내 눈빛보고 잔머리 굴리지말고', 'Let’s play dumb dumb dumb', 'Hey dumb dumb', '네가 사랑에 빠진건 내 계획대로 done done', 'Hey dumb dumb', '이제 애쓰지 않아도 tell me that I’m the one one', 'Hey dumb dumb', '네가 사랑에 빠진건 내 계획대로 done done', 'Hey dumb dumb', '이제 애쓰지 않아도', '난 네 머리 꼭대기에서 춤춰 you dumb dumb']\n"
          ]
        },
        {
          "output_type": "stream",
          "name": "stderr",
          "text": [
            "\r534it [4:07:14, 38.13s/it]"
          ]
        },
        {
          "output_type": "stream",
          "name": "stdout",
          "text": [
            "45\n",
            "['oh my god 타이밍이 참 얄미워', '오늘 같은 날 마주쳐 이게 뭐야', '머리는 엉망인 데다', '상태가 말이 아니야', '모른 척 지나가 줘', '내 맘이 방심할 때마다 불쑥 나타난 뒤', '헤엄치듯 멀어지는 너', '또 물보라를 일으켜', 'da da da da da da da da da da', 'da da da da', '또 물보라를 일으켜', 'da da da da da da da da da da', 'da da da da', '또 물보라를 일으켜', '어쩐지 오늘 알람이 안 울려', '아무거나 막 입었고 지각이야', '아래로 몸을 낮추고 숨을 꾹 참아봤지만', '아이쿠 들켰나 봐', '내 맘이 방심할 때마다 불쑥 나타난 뒤', '헤엄치듯 멀어지는 너', '또 물보라를 일으켜', 'da da da da da da da da da da', 'da da da da', '또 물보라를 일으켜', 'da da da da da da da da da da', 'da da da da', '또 물보라를 일으켜', '이 파도 위 난 온종일 서핑을 하는 느낌', '아찔한 feeling 난 솔직히 푹 빠졌지', '하지만 이건 secret 또 물보라를 일으켜', '갑자기 웃으며 얼굴을 불쑥 다가온 뒤', '원을 갈라 하트를 그려', '또 물보라를 일으켜', 'da da da da da da da da da da', 'da da da da', '또 물보라를 일으켜', 'da da da da da da da da da da', 'da da da da', '또 물보라를 일으켜', 'da da da da da da da da da da', 'da da da da', '또 물보라를 일으켜', 'da da da da da da da da da da', 'da da da da', '또 물보라를 일으켜']\n"
          ]
        },
        {
          "output_type": "stream",
          "name": "stderr",
          "text": [
            "\r535it [4:07:45, 35.91s/it]"
          ]
        },
        {
          "output_type": "stream",
          "name": "stdout",
          "text": [
            "53\n",
            "['보란 듯이 무너졌어', '바닥을 뚫고 저 지하까지', '옷 끝자락 잡겠다고', '저 높이 두 손을 뻗어봐도', '다시 캄캄한 이곳에 light up the sky', '네 두 눈을 보며 I’ll kiss you goodbye', '실컷 비웃어라 꼴좋으니까', '이제 너희 하나 둘 셋', 'Ha how you like that?', 'You gon’ like that that that that that', 'How you like that?', 'How you like that that that that that', 'Now look at you now look at me', 'Look at you now look at me ', 'Look at you now look at me', 'How you like that', 'Now look at you now look at me', 'Look at you now look at me ', 'Look at you now look at me', 'How you like that', 'Your girl need it all and that’s a hundred', '백 개 중에 백 내 몫을 원해', 'Karma come and get some ', '딱하지만 어쩔 수 없잖아', 'What’s up, I’m right back', '방아쇠를 cock back', 'Plain Jane get hijacked', 'Don’t like me? Then tell me how you like that', '더 캄캄한 이곳에 shine like the stars', '그 미소를 띠며 I’ll kiss you goodbye', '실컷 비웃어라 꼴좋으니까 ', '이제 너희 하나 둘 셋', 'Ha how you like that?', 'You gon’ like that that that that that', 'How you like that?', 'How you like that that that that that', 'Now look at you now look at me', 'Look at you now look at me ', 'Look at you now look at me', 'How you like that', 'Now look at you now look at me', 'Look at you now look at me ', 'Look at you now look at me', 'How you like that', '날개 잃은 채로 추락했던 날', '어두운 나날 속에 갇혀 있던 날', '그때쯤에 넌 날 끝내야 했어', 'Look up in the sky it’s a bird it’s a plane', 'Bring out your boss bish', 'BLACKPINK!', 'How you like that ', 'You gon’ like that ', 'How you like that']\n"
          ]
        },
        {
          "output_type": "stream",
          "name": "stderr",
          "text": [
            "\r536it [4:08:22, 36.24s/it]"
          ]
        },
        {
          "output_type": "stream",
          "name": "stdout",
          "text": [
            "66\n",
            "['1 2 Come On R U Ready', \"3 4 Do It I'm Ready \", '5 6 Baby Are You Ready', '지금 나와 어디든 가자 ', '지루한 하루 여기까지만 All Stop', '작은 가방 운동화 챙겨 ', '자 더 크게 Radio를 높이고', '코발트블루 물결 눈부신 바다', '달빛 가득 묻은 작은 섬', '야경이 눈부신 도시는 어때', '함께라면 어디든 좋아 난', '너와 나 그곳으로 떠나는 거야 ', '상상에 상상에 상상을 더해서', '어머 깜짝야', '눈부셔 눈부셔 눈부셔 이건 뭐', 'Oh Hello New World ', '두 손 모아 소리치면', '푸른 하늘이 내게로 와', '날아가볼래', '상상의 상상의 미래로 가볼까', '바람을 타고 ', '새로운 눈빛에 가슴이 붐 붐 붐', 'Oh 발견했어 우리들만의 Paradise', '흑백영화 같은 하루에 ', '레몬 터지듯 짜릿함이 필요해', '지금 당장 널 데려갈게 ', '꿈꿔오던 사진 속 그곳으로', '민트그린빛 바람 가득한 숲 속', '달콤한 향기의 칵테일', '지도를 벗어나 Ticket To The Dream', '함께라면 어디든 좋아 난 ', '너와 나 그곳으로 떠나는 거야 ', '상상에 상상에 상상을 더해서', '어머 깜짝야 ', '눈부셔 눈부셔 눈부셔 이건 뭐', 'Oh Hello New World ', '두 손 모아 소리치면', '푸른 하늘이 내게로 와', '날아가볼래', '상상의 상상의 미래로 가볼까', '바람을 타고 ', '새로운 눈빛에 가슴이 붐 붐 붐 ', 'Oh 발견했어 우리들만의 Paradise', '너와 나의 비밀스런 풍경들', '언제라도 다시 와 주겠니', '은하수 아래 밤새 부른 노래 ', '영원히 잊지 않을 거야', '이 시간 속에 영원히 ', '네 품에 안기고 싶은걸 ', '단 둘이 이순간 잠들고 싶은걸', '지도엔 없는 이 곳을 꼭 기억해줘', '우리들만의 Paradise ', '상상에 상상에 상상을 더해서', '어머 깜짝야', '눈부셔 눈부셔 눈부셔 이건 뭐', 'oh Hello New World ', '처음 만난 세상 속에', '나의 가슴이 라 라 라 라', '날아가볼래', '상상의 상상의 미래로 가볼까', '바람을 타고 ', '새로운 눈빛에 가슴이 붐 붐 붐', 'Oh 발견했어 우리 들만의 Paradise', '1 2 Come On R U Ready', \"3 4 Do It I'm Ready \", '5 6 Baby Are You Ready']\n"
          ]
        },
        {
          "output_type": "stream",
          "name": "stderr",
          "text": [
            "\r537it [4:09:08, 39.32s/it]"
          ]
        },
        {
          "output_type": "stream",
          "name": "stdout",
          "text": [
            "59\n",
            "['going nonstop', '말도 안 되잖아 그치 yayayaya', '우린 서로가 모르는 게 없는 사인 걸', '이토록 빤히 nanananana ', 'like nanananana', '우리 사이 비밀 따위 있을 리 없는 걸', '다 봤지 우린', 'hi hi weak body', 'like them burning and burn but 쉿', '요즘 오늘 또 내일 매일 다른 아는 옷', '이렇게 달라 보인다고 hoo', '흑역사까지 전부 알고 있는 널', 'yeah 절대 그럴 리는 없어 난 ', 'never ever 그래야만 해', '무인도에 어느 날 떨어진 거야', '둘만 남게 됐다면 넌 어떨 것 같아', '생각만 해도 무섭다 얼굴을 찌푸렸지만', '너에겐 얘기 못 해 절대로', '살짝 설렜어 난 oh nanananana', '살짝 설렜어 난 oh nanananana', '그럴 일 없지만 살짝 설렜어 난', 'nonstop nonstop', 'nonstop nonstop nonstop ', '그럴 일 없지만 살짝 설렜어 난', '요즘 나 너무 외로워 좀 이상해진 것 같아', '너를 보면서 심장이 뛴 건', 'back it up pack it up 비켜 서 있어', '두근거렸던 게 문제야', '아냐 그게 대체 왜 죄야', '선을 넘은 거야 fz 레이더', '오르락내리락 여긴 friend zone', '무인도에 어느 날 떨어진 거야', '둘만 남게 됐다면 넌 어떨 것 같아', '생각만 해도 무섭다 얼굴을 찌푸렸지만', '너에겐 얘기 못 해 절대로', '살짝 설렜어 난 oh nanananana', '살짝 설렜어 난 oh nanananana', '그럴 일 없지만 살짝 설렜어 난', 'I have to go to the bed by night', '졸음이 오는 걸까 time ', '필요하지 않지 아마', '머릿속은 이미 지름길이잖아', '네가 원한다면 내가 뒤로 두 칸', 'Did you wanna twin spot nop 한 칸', '유감인 척 하지 마 설레는 거 맞잖아', '꽤나 혼란스러워 이러는 나도', '누구보다 더 이럴 땐 너를 찾아갔지만', '이 고민만큼은 네게 말할 수 없어', '언제부턴가 널 보면', '살짝 설렜어 난', '살짝 설렜어 난 oh nanananana', '살짝 설렜어 난 oh nanananana', '그럴 일 없지만 살짝 설렜어 난', 'nonstop nonstop', 'nonstop nonstop nonstop ', '그럴 일 없지만 살짝 설렜어 난', 'nonstop nonstop', 'nonstop nonstop nonstop ', '넌 알 리 없지만 살짝 설렜어 난']\n"
          ]
        },
        {
          "output_type": "stream",
          "name": "stderr",
          "text": [
            "\r538it [4:09:49, 39.73s/it]"
          ]
        },
        {
          "output_type": "stream",
          "name": "stdout",
          "text": [
            "76\n",
            "['REALLY REALLY REALLY REALLY', 'OH WAH', 'REALLY REALLY REALLY REALLY', '어디야 집이야 안 바쁨 나와봐', '너네 집 앞이야 너에게 ', '하고픈 말이 있어', '이걸 어떻게 말을 꺼내야 ', '할진 모르겠지만', '이상한 말 아냐 부담 없이 들어줘', '지금 내 눈에 제일 ', '아름다운 건 너야 LADY', '널 향한 내 맘이 돈이면 ', '아마 난 BILLIONAIRE', '널 좋아해', 'REALLY REALLY REALLY REALLY', '내 맘을 믿어줘 OH WAH', 'REALLY REALLY REALLY REALLY', '널 좋아해', 'REALLY REALLY REALLY REALLY', '내 맘을 받아줘 OH WAH', 'REALLY REALLY REALLY REALLY', '넌 나 어때', '멋지게 골인', '프러포즈 같은 세리머니', '정해보자 호칭 ', '허니 말고 자기 아님 달링', '낯간지럽네 상상해봐도', '긴장돼 필요해 ', 'a lot of alcohol', '덩치는 산만해도 ', '네 앞에선 작아지네', 'oh 내 맘 알까나', '첫눈에 미끄러지듯이 ', 'Falling in love', '내 맘을 훔친 범인인 건 ', '바로 너', '너의 미모 질투해 여신도', '내 심장의 떨림은 진동 brrr', '치명적인 매력이 날 killin’', '섹시해 날 자극하는 ', 'Hot chili woo', '오해하지 마 나는 진짜', '진심으로 채워줄게 너의 빈 잔', '지금 내 눈에 제일 ', '아름다운 건 너야 LADY', '널 향한 내 맘이 돈이면 ', '아마 난 BILLIONAIRE', '널 좋아해', 'REALLY REALLY REALLY REALLY', '내 맘을 믿어줘 OH WAH', 'REALLY REALLY REALLY REALLY', '널 좋아해', 'REALLY REALLY REALLY REALLY', '내 맘을 받아줘 OH WAH', 'REALLY REALLY REALLY REALLY', '넌 나 어때', '혹시라도 내가 ', '불편하면 let me know', '한걸음 뒤로 가 ', '단지 아는 사이로', '기다릴 수 있어 ', '너도 나를 좋아할 거 같다 말해줘 ', '지금 당장 만나 ', '나 진심으로 네게 할 말이 있어 ', '널 좋아해', 'REALLY REALLY REALLY REALLY', '내 맘을 믿어줘 OH WAH', 'REALLY REALLY REALLY REALLY', '널 좋아해', 'REALLY REALLY REALLY REALLY', '내 맘을 받아줘 OH WAH', 'REALLY REALLY REALLY REALLY', '넌 나 어때', '네가 좋아 ', 'REALLY REALLY OH YEAH', '널 좋아해']\n"
          ]
        },
        {
          "output_type": "stream",
          "name": "stderr",
          "text": [
            "\r539it [4:10:41, 43.37s/it]"
          ]
        },
        {
          "output_type": "stream",
          "name": "stdout",
          "text": [
            "56\n",
            "['너 뭔데 자꾸 생각나', '자존심 상해 애가 타', '얼굴이 뜨겁고 가슴은 계속 뛰어', '내 몸이 맘대로 안 돼 어지러워', '넌 한 줌의 모래 같아', '잡힐 듯 잡히지 않아', '넌 쉽지 않은 걸 그래서 더 끌려', '내 맘이 맘대로 안 돼 어이없어', '지금 너를 원하는', '내 숨결이 느껴지니', '널 바라보고 있어도 missing you', '서툰 날 won’t you set me free', 'Baby 날 터질 것처럼 안아줘', '그만 생각해 뭐가 그리 어려워', '거짓말처럼 키스해줘 내가 너에게', '마지막 사랑인 것처럼', '마지막처럼 마-마-마지막처럼', '마지막 밤인 것처럼 love', '마지막처럼 마-마-마지막처럼', '내일 따윈 없는 것처럼', \"Uh I'ma fall in love baby\", 'You gon finna catch me', 'Uh give you all of this baby', 'Call me pretty and nasty', 'Cause we gonna get it my love', 'you can bet it on', 'black we gon double the stack', 'on them whoa', 'I be the Bonnie', 'and you be my Clyde', 'We ride or die', 'Xs and Os', '시간은 흘러가는데 마음만 급해지지', '내 세상은 너 하나만 missing you', '서툰 날 won’t you set me free', 'Baby 날 터질 것처럼 안아줘', '그만 생각해 뭐가 그리 어려워', '거짓말처럼 키스해줘 내가 너에게', '마지막 사랑인 것처럼', '마지막처럼 마-마-마지막처럼', '마지막 밤인 것처럼 love', '마지막처럼 마-마-마지막처럼', '내일 따윈 없는 것처럼', 'One two three 새로운 시작이야', '절대 뒤돌아보진 않을 거니까', '날 너에게 던지면 너는 날 꼭 잡아줘', '세상은 우릴 꺾지 못할 테니까', 'BLACKPINK in your area', 'Baby 날 터질 것처럼 안아줘', '그만 생각해 뭐가 그리 어려워', '거짓말처럼 키스해줘 내가 너에게', '마지막 사랑인 것처럼', '마지막처럼 마-마-마지막처럼', '마지막 밤인 것처럼 love', '마지막처럼 마-마-마지막처럼', '내일 따윈 없는 것처럼 love']\n"
          ]
        },
        {
          "output_type": "stream",
          "name": "stderr",
          "text": [
            "\r540it [4:11:19, 41.75s/it]"
          ]
        },
        {
          "output_type": "stream",
          "name": "stdout",
          "text": [
            "62\n",
            "['뜨거운 태양에 살짝 미친 난 ', '쉽게 두 볼이 빨개지고', '그러다 어질어질 달아오른 난 ', '헤엄을 치듯 춤을 추고', '음악을 더 크게 더 틀고 싶어 ', '우리 사랑이 안 들리게', '안아도 더 가까이 붙고 싶어 ', '닿은 심장이 팡 터지게', '바람은 두근대게 또 파도는 쿵쾅대게', '저기 드러머처럼 내 마음을 두드려줘', '내게 들려줘 이 여름의 그 노래를', 'Every night every mind ', 'every time every sign', '어딜 가도 여긴 Tropical night', '찌는 날 찌는 밤바다의 칼바람', '잊을 수 없이 타오르는 밤', '덤디덤디 덤디덤디', '덤디덤디 덤디덤디 ', 'Turn up my summer', '덤디덤디 덤디덤디', '덤디덤디 덤디덤디 ', 'Turn up my summer', 'Hey drummer 무더위로 높여 ', 'Kick &amp; snare는 우리 벽을 녹여', 'Oh god 흠뻑 젖어버린 속옷 ', '야자수가 흔들리도록 춤 춰', '폭죽 펑펑 터지는 축제에 텅텅 ', '머리를 비우고 미친 듯 음악은 Turnt up', '첨벙대는 파도의 Beat는 ', '두구 둥 두구 둥 DJ 바람은 삐끼삐끼움', '사랑을 더 세게 더 주고 싶어 ', '나의 계절이 느껴지게', '이대로 두 눈을 꼭 감고 싶어 ', '태양이 떠도 영원하게', '바람은 살랑대게 또 파도는 찰랑대게', '저기 댄서들처럼 내 마음을 흔들어줘', '내게 들려줘 이 여름의 그 노래를', 'Every night every mind ', 'every time every sign', '어딜 가도 여긴 Tropical night', '찌는 날 찌는 밤바다의 칼바람', '잊을 수 없이 타오르는 밤', '덤디덤디 덤디덤디', '덤디덤디 덤디덤디 ', 'Turn up my summer', '덤디덤디 덤디덤디', '덤디덤디 덤디덤디', '달이 잠들고 여름이 다 식으면', '내게 불러줘 뜨거웠던 그때 노래를', 'Shout it out loud', 'Let’s turn up my summer bae', 'Hit the drum', '덤디덤덤 덤디디덤덤', '덤디덤덤 덤디디덤덤', '덤디덤덤 덤디디덤덤', '덤디덤덤 ', 'Turn up my summer', '덤디덤덤 덤디디덤덤', '덤디덤덤', '덤디덤덤 덤디디덤덤', '덤디덤덤 ', 'Turn up my summer']\n"
          ]
        },
        {
          "output_type": "stream",
          "name": "stderr",
          "text": [
            "\r541it [4:12:02, 42.01s/it]"
          ]
        },
        {
          "output_type": "stream",
          "name": "stdout",
          "text": [
            "54\n",
            "['너와 있을 땐 내게', '신기한 변화가 있는데', '자꾸 미소 짓게 돼', '아무 일도 없는데', '자꾸 마법에 걸려', '밤을 새워도 안 졸려', '다른 생각 지워져', '심장 소리는 커져', '사랑이 참 쉬워져', '그래서 빠지고 빠져 점점 너에게', \"That's what you do to me\", '나는 Alcohol free 근데 취해', '마신 게 하나도 없는데', '너와 있을 때마다 이래', '날 보는 네 눈빛 때문에', '너는 눈으로 마시는 내 Champagne, 내 Wine', '내 Tequila, margarita', 'Mojito with lime', 'Sweet mimosa, pina colada', \"I'm drunk in you\", \"I'm drunk in you\", '너는 정말 특별해', '전혀 독하지 않은데', '낮에 별이 뜨게 해', '한 모금 마셨는데', '자꾸 마법에 걸려', '밤을 새워도 안 졸려', '다른 생각 지워져', '심장 소리는 커져', '사랑이 참 쉬워져', '그래서 빠지고 빠져 점점 너에게', \"That's what you do to me\", '나는 Alcohol free 근데 취해', '마신 게 하나도 없는데', '너와 있을 때마다 이래', '날 보는 네 눈빛 때문에', 'Alcohol 도수는 완전 0.0%', '근데 마실 때마다 자꾸 길을 잃어', '자고 일어나도 깨지가 않아', '근데 이 기분 싫지가 않아', 'Easy to the mouth and tummy', 'Like a drink made of honey', '이 술 이름은 도대체 뭐니', 'Makes the whole world bright and sunny', '나는 Alcohol free 근데 취해', '마신 게 하나도 없는데', '너와 있을 때마다 이래', '날 보는 네 눈빛 때문에', '너는 눈으로 마시는 내 Champagne, 내 Wine', '내 Tequila, margarita', 'Mojito with lime', 'Sweet mimosa, pina colada', \"I'm drunk in you\", \"I'm drunk in you\"]\n"
          ]
        },
        {
          "output_type": "stream",
          "name": "stderr",
          "text": [
            "\r542it [4:12:40, 40.79s/it]"
          ]
        },
        {
          "output_type": "stream",
          "name": "stdout",
          "text": [
            "75\n",
            "['Don’t you feel this 리듬에 맡겨', '네 시선이 멈춘 Dance', '오묘해진 빛에 더 끌려', 'Baby 멈추지 않을래', '내 맘을 거칠게 뒤흔든', \"Music let go let's go\", '그 위를 아슬히 Move it', 'Check this choreo', '이 기분을 따라', 'Bop bop just feel the music', \"Bop bop that's right\", '빠르게 뛰는 My heart', '이 리듬을 타봐', 'Bop bop just feel the music', 'Bop bop tonight', '너만이 빛나 So shine', 'Alright 터질듯한 내 심장에 이 순간', '까만 눈동자로 주고받는 Feeling', '너와 부딪치는 감정 속에', 'Feel so high', '더욱 바삐 We bop it', 'My baby', 'Ya ya ya uh', '내 옆에 네가 다가올 때', '빨라지는 Groove', 'Yeah 눈앞마저 핑 돌고', '짙어져 가는 Mood', '더 더 높이 올려 텐션', '놀자 이 밤이 새도록', 'Ooh just wanna keep dancing', '이 밤을 깊숙이 뒤흔든', \"Music let go let's go\", '그 속을 아찔히 Move it', '몸을 맡기고', '이 기분을 따라', 'Bop bop just feel the music', \"Bop bop that's right\", '빠르게 뛰는 My heart', '이 리듬을 타봐', 'Bop bop just feel the music', 'Bop bop tonight', '너만이 빛나 So shine', 'Alright 터질듯한 내 심장에 이 순간', '까만 눈동자로 주고받는 Feeling', '너와 부딪치는 감정 속에', 'Feel so high', '더욱 바삐 We bop it', 'My baby', 'Ooh tonight', 'We bop it we bop it', 'Ooh tonight', 'We bop it we bop it yeah', 'Oh 잠시 템포를 늦춰도', '멈추진 말아줘', 'Oh 밤새 Play music on', '이 기분을 따라', 'Bop bop just feel the music', \"Bop bop that's right\", '빠르게 뛰는 My heart', '이 리듬을 타봐', 'Bop bop just feel the music', 'Bop bop tonight', '너만이 빛나 So shine', 'Alright 터질듯한 내 심장에 이 순간', '까만 눈동자로 주고받는 Feeling', '너와 부딪치는 감정 속에', 'Feel so high', '더욱 바삐 We bop it', 'My baby', 'Bop bop bop it up', 'Bop bop bop it up', 'I just wanna bop bop bop bop', 'Bop bop bop it up', 'Bop bop bop it up', 'I just wanna bop bop bop bop']\n"
          ]
        },
        {
          "output_type": "stream",
          "name": "stderr",
          "text": [
            "\r543it [4:13:33, 44.44s/it]"
          ]
        },
        {
          "output_type": "stream",
          "name": "stdout",
          "text": [
            "90\n",
            "['Hey', 'It’s you', '&amp; I', 'Let’s start', 'N N Now 도착한 이 Place', 'Watch my step', '나의 신호를 따라 5 4 3 2 1 A ha', '꿈꿔온 모험 가까이 있어 있어', 'Take off With me With me Let’s go', 'Muah', '한 발 한 발 내디뎌 갈수록', '내 마음은 떨려', 'Like it', '선명해진 Dream 느껴지는 걸', 'Eh Oh Eh Oh', 'Heads up 꿈을 향해 달려 달려', 'Stand up 너와 내 꿈 Higher higher', '누구보다 빨리 달려갈 거야', '네가 있는 곳으로', 'WA DA DA DA', 'Running vroom vroom vroom', 'Like a supersonic', 'Let’s go', 'WA DA DA WA DA DA 달려', 'Right now', '맘이 쿵쿵쿵 뛰어 미친 듯이', 'WA DA DA WA DA DA', 'Kep 1 going WA DA DA DA', 'Oh Oh Oh Woah', 'Hey', 'Oh Oh Woah', '너에게로 WA DA DA DA', 'Oh Oh Oh Woah', 'Yeah Yeah', 'Oh Oh Woah', 'Kep 1 going WA DA DA DA', 'One Check it', 'Two 신중히', '좀 더 바짝 세워 Radar radar', '눈치챌 거야 지금 이 떨림', 'I’m going to be brave yeah Like it', '숨을 고르고 다시 Get Set Go', 'Eh Oh Eh Oh', 'Heads up 두려움은 날려 날려', 'Stand up 우리 함께 Higher higher', '누구보다 빨리 달려갈 거야', '그려왔던 곳으로', 'WA DA DA DA', 'Running vroom vroom vroom', 'Like a supersonic', 'Let’s go', 'WA DA DA WA DA DA 달려', 'Right now', '맘이 쿵쿵쿵 뛰어 미친 듯이', 'WA DA DA WA DA DA', 'Kep 1 going WA DA DA DA', 'Oh Oh Oh Woah', 'Hey', 'Oh Oh Woah', '너에게로 WA DA DA DA', 'Oh Oh Oh Woah', 'Yeah Yeah', 'Oh Oh Woah', 'Kep 1 going WA DA DA DA', 'Yeah Run around and round', '멈추지 말고 Trip on', '꿈들이 이루어지는 모험', '어딨니 나 보이니', '자 시그널을 보낼게 Catch it', 'Now get up', 'Together', '내 숨이 차도 I won’t give up', 'Run run run 내가 보일 거야', 'WA DA DA DA', 'Running vroom vroom vroom', 'Like a supersonic', 'Let’s go', 'WA DA DA WA DA DA 달려', 'Right now', '맘이 쿵쿵쿵 뛰어 미친 듯이', 'WA DA DA WA DA DA', 'Kep 1 going WA DA DA DA', 'Oh Oh Oh Woah', 'Hey', 'Oh Oh Woah', '너에게로 WA DA DA DA', 'Oh Oh Oh Woah', 'Yeah Yeah', 'Oh Oh Woah', 'Kep 1 going WA DA DA DA']\n"
          ]
        },
        {
          "output_type": "stream",
          "name": "stderr",
          "text": [
            "\r544it [4:14:34, 49.54s/it]"
          ]
        },
        {
          "output_type": "stream",
          "name": "stdout",
          "text": [
            "51\n",
            "['넌 운전만 해', '계속 운전만 해', '왜 이리 된 걸까 우리 사이가', '갑자기 어색해졌단 걸', '왜 달라졌을까 웃음이 말라서', '함께 있는 게 불편해졌어', '말없이 그냥 걷기만 해요', 'We just walking down the street', '아무런 말도 없이', '처음과는 너무 다른 사이', '말없이 그냥 먹기만 해요', '부쩍 줄어든 대화 속에', 'What happened to us', '침묵이 내려 지금', '달리는 차 안에 우린 아무 말 없네', '너는 그렇게 운전만 해', '난 핸드폰 보네 넌 창밖을 보네', '난 너무 답답해', '우리 사이는 막막해 Babe', \"We're still in your car\", 'In your car', '계속해서 침묵만', 'So quiet', 'Can you break the silence', \"cause I don't want it\", 'Radio 소리만 이곳에 이곳에', \"That's so sad 무슨 말 좀 해봐\", '말없이 그냥 걷기만 해요', 'We just walking down the street', '아무런 말도 없이', '처음과는 너무 다른 사이', '말없이 그냥 먹기만 해요', '부쩍 줄어든 대화 속에', 'What happened to us', '침묵이 내려 지금', '달리는 차 안에 우린 아무 말 없네', '너는 그렇게 운전만 해', '난 핸드폰 보네 넌 창밖을 보네', '난 너무 답답해', '우리 사이는 막막해 Babe', 'You know I know We both know', '이 침묵은 깨져야만 해', '너도 나도 다 알면서도', '쉽게 뗄 수 없는 입', '달리는 차 안에 우린 아무 말 없네', '너는 그렇게 운전만 해', '난 핸드폰 보네 넌 창밖을 보네', '난 너무 답답해', '우리 사이는 막막해 Babe', '넌 운전만 해', '계속 운전만 해']\n"
          ]
        },
        {
          "output_type": "stream",
          "name": "stderr",
          "text": [
            "\r545it [4:15:10, 45.45s/it]"
          ]
        },
        {
          "output_type": "stream",
          "name": "stdout",
          "text": [
            "83\n",
            "['떠나지 마 just stay ', '지금 이 시간을 멈춘 채 ', '너와 함께라면 난 ', 'I could die in this moment ', 'Forever young ', 'Forever young ', 'Forever young ', 'Forever young', '너의 눈에 비친 나의 모습이 ', '늘 처음 만난 그 날만 같길', '소리 없이 타오르는 불꽃같이 ', '마지막처럼 내 입 맞추길', '달빛 아래 내 마음은 설레 ', '은하수로 춤추러 갈래 ', 'let’s go ', '지금 let go ', '오늘이 가도 후회 없게 ', '시간이 우리 둘을 떼어 놓을 수 없게 ', '순간이 영원할 수 있게 ', '넌 내 마음에 불을 질러줘 ', '후회 없는 젊음이 타오르게 ', '지금처럼 너와 함께라면 ', 'tonight ', 'I could die in this moment ', 'Forever young ', 'Forever young ', 'Forever young ', 'Forever young ', '매일매일 밤 밤 ', '이 노래를 불러 불러 ', 'Know we got that bomb bomb ', 'Come again come again ', 'Forever young boy ', 'so we ride or die ', '끝이 없을 것처럼 달려 너와 나 ', '붉은 sunset 아래 ', '너는 지금 내 옆에 ', 'Pinked out or murdered out ', 'like it ain’t no thing ', '다 필요 없어 주인공은 우리 ', 'Say life’s a bish ', 'But mine’s a movie ', '내 Diamond처럼 ', 'we’ll shine together ', 'Whenever wherever ', 'forever ever ever ', '짜릿하게 더 위험하게 ', '세상 저 끝까지 가볼래 ', 'let’s go ', '지금 let go ', '오늘이 가도 후회 없게 ', '시간이 우리 둘을 떼어 놓을 수 없게 ', '순간이 영원할 수 있게 ', '넌 내 마음에 불을 질러줘 ', '후회 없는 젊음이 타오르게 ', '세상 무엇도 두렵지 않아 ', 'tonight ', 'I could die in this moment ', 'Forever young', '달이 뜨고 별이 뜨면 ', '춤추는 body ', '끝이 없이 달려보자 ', 'we like to party ', '달이 뜨고 별이 뜨면 ', '춤추는 body ', '끝이 없이 달려보자 ', 'we like to party ', 'Girls wanna have some fun ', 'We go dumb dumb dumb ', 'Girls wanna have some fun ', 'What you want want want ', 'Girls wanna have some fun ', 'We go dumb dumb dumb ', 'Girls wanna have some fun ', 'We ain’t done done done ', 'Whatta bum bum whatta bum bum ', 'Whatta bum bum whatta bum bum ', 'Whatta bum bum whatta bum bum ', 'Whatta bum bum whatta bum bum ', 'Whatta bum bum whatta bum bum ', 'Whatta bum bum whatta bum bum ', 'Whatta bum bum whatta bum bum', 'Whatta bum bum whatta bum bum']\n"
          ]
        },
        {
          "output_type": "stream",
          "name": "stderr",
          "text": [
            "\r546it [4:16:09, 49.54s/it]"
          ]
        },
        {
          "output_type": "stream",
          "name": "stdout",
          "text": [
            "91\n",
            "['ye love is pain ', 'to all my brokenhearted people ', \"one's old a flame \", 'scream my name ', \"and i'm so sick of love songs \", 'ye i hate damn love song ', 'memento of ours ', '거짓말 ', '늦은 밤 비가 내려와 ', '널 데려와 ', '젖은 기억 끝에 뒤척여 나 ', '너 없이 잘 살 수 있다고 ', '다짐 해봐도 어쩔 수 없다고 ', '못하는 술도 마시고 ', '속타는 맘 밤새 채워봐도 ', '싫어 너 없는 하루는 길어 빌어 ', '제발 잊게 해달라고 ', '너 없는 내겐 웃음이 보이지 않아 ', '눈물조차 고이지 않아 ', '더는 살고 싶지 않아 ', '엿같애 열받게 ', '니 생각에 돌아버릴것 같애 ', '보고 싶은데 볼 수가 없대  ', '모두 끝났대  ', \"I'll be right there \", \"i'm so sorry but i love you \", '다 거짓말 이야 몰랐어 ', '이제야 알았어 ', '네가 필요해 ', \"i'm so sorry but i love you \", '날카로운 말 ', '홧김에 나도 모르게 ', '널 떠나보냈지만 ', \"i'm so sorry but i love you \", '다 거짓말 ', \"i'm so sorry \", 'but i love you ', \"i'm so sorry but i love you \", '나를 떠나 ', '천천히 잊어줄래 ', '내가 아파할 수 있게 ', '그댈 위해서 불러왔던 ', '내 모든 걸 다 바친 노래 ', '사람들은 모르겠죠 ', '난 혼자 그 아무도 아무도 몰래 ', '그래 내가 했던 말은 거짓말 ', '홀로 남겨진 외톨이 ', '그 속에 헤매는 내 꼴이  ', '주머니 속에 꼬깃꼬깃 ', '접어둔 이별을 향한 쪽지 ', '넌 어딨나요 널 부르는 습관도 ', '난 달라질래 ', '이젠 다 웃어넘길게 ', \"i'm so sorry but i love you \", '다 거짓말 이야 몰랐어 ', '이제야 알았어 ', '네가 필요해 ', \"i'm so sorry but i love you \", '날카로운 말 ', '홧김에 나도 모르게 ', '널 떠나보냈지만 ', \"i'm so sorry but i love you \", '다 거짓말 ', \"i'm so sorry \", 'but i love you ', \"i'm so sorry but i love you \", '나를 떠나 ', '천천히 잊어줄래 ', '내가 아파할 수 있게 ', '모든게 꿈이길 ', '이것밖에 안되는 나라서 ', '아직도 너를 못 잊어 ', '아니 평생을 가도 죽어서까지도 ', '내가 준 상처 아물었는지 ', '미안해 ', '아무것도 해준게 없는 나라서 ', \"i'm so sorry but i love you \", '다 거짓말 이야 몰랐어 ', '이제야 알았어 네가 필요해 ', \"i'm so sorry but i love you \", '날카로운 말 ', '홧김에 나도 모르게 ', '널 떠나보냈지만 ', \"i'm so sorry but i love you \", '다 거짓말 ', \"i'm so sorry \", 'but i love you ', \"i'm so sorry but i love you \", '나를 떠나 ', '천천히 잊어줄래 ', '내가 아파할 수 있게 ']\n"
          ]
        },
        {
          "output_type": "stream",
          "name": "stderr",
          "text": [
            "\r547it [4:17:13, 53.78s/it]"
          ]
        },
        {
          "output_type": "stream",
          "name": "stdout",
          "text": [
            "52\n",
            "['나의 그대가', '원한다면 어디든 무대야', '유머러스한 남자가 요즘엔 추세야', '남자다운 남자는 낭자를', '기쁘게 할 줄 알아야해', '같이 놀고 가지고 놀고', '잘 놀 줄 알아야 해', '오늘부로 너의 연예인이', '되기 위해 해 데뷔 무대', '코믹 멜로 액션 에로', '맘에 드는 걸 찍으시죠', '지금부터 슛 들어갑니다', '영화 한편 찍으시죠', '엔딩에 키스씬 있다 참고 하시죠', '그대의 연예인이 되어', '항상 즐겁게 해 줄게요', '연기와 노래 코메디까지 다 해줄게', '그대의 연예인이 되어', '평생을 웃게 해 줄게요', '언제나 처음 같은 마음으로', '너를 슬프게 하는 사람 누구야', '우는 모습도 이뻐 뭐야 왜 우는데 ', '그러자 그녀가 웃는데', '항상 개인기와', '신기한 이벤트 쇼쇼쇼', '준비 다 끝났으니', '우울한 날엔 말씀하셔셔셔', '분위기 띄울땐', '댄스 뮤직 한 곡 때리고', '무드 잡을 땐 발라드 한 곡 뽑고', '리듬 타고플땐 힙합 힙힙힙합', '하늘 높이 뛰고플땐 락엔롤', '그대의 연예인이 되어', '항상 즐겁게 해 줄게요', '연기와 노래 코메디까지 다 해줄게', '그대의 연예인이 되어', '평생을 웃게 해 줄게요', '언제나 처음 같은 마음으로', '난 그대의 연예인', '난 그대의 연예인', '난 당신의 연예인', '난 당신의', '난 당신의 댄스 가수', '때로는 영화배우 같아', '때로는 코미디언 같아', '때로는 탤런트 같아 때로는 가수 같아', '너의 기분에 따라 난 난', '난 그대의 연예인', '그대의 연예인이 되어', '평생을 웃게 해 줄께요', '언제나 처음 같은 마음으로', '난 그대의 연예인']\n"
          ]
        },
        {
          "output_type": "stream",
          "name": "stderr",
          "text": [
            "\r548it [4:17:49, 48.61s/it]"
          ]
        },
        {
          "output_type": "stream",
          "name": "stdout",
          "text": [
            "77\n",
            "['참 많이 궁금해', '전부 다 궁금해', '왜 잠이 안 오고 네 얼굴만 보여', '나도 궁금해', '이 맘이 궁금해', '왜 너만 보면 웃음이 먼저 나와', '친구들 모여서', '네 말이 나오면', '왜 내가 들떠서 더 듣고 싶은지', '너만 있으면', '난 딴 사람이 돼', '또 뜬금없는', '어색한 농담을 늘 해', '사실 난 이 느낌이 이상해', '구름 위가 있다면 여기일까', '혹시 그런 걸까', '너와 나 그런 걸까', '내 맘과 같다면', '시작돼 버린 걸까', '너를 많이 많이 좋아해', '너를 나 사랑하게 됐나 봐', '똑같이 말하고 싶은데', '내가 그래도 될까 좀 더 기다려볼까', '나도 많이 많이 좋아해', '사실 난 이런 맘이 처음인데', '더 기다려줄게', '더 기다려줄래', '난 여기 있을게', '여기 있어줄래', '우리는 이미 같은 맘인걸', '내 뭐가 좋은지', '난 그게 궁금해', '언제부터 내가 네 맘에 살았니', '나도 궁금해 Yeah', '네 맘이 궁금해 Yeah', '싫지 않은 게 아니라 좋은 거지', '예쁜 여자들은 No', '참 많고 많은데 No', '넌 정말 나밖에 안 보이는 건지', '멋진 남자들 누구', '네 곁에 많은데 어디', '어떻게 네가 내게로 오는 거니 Girl', '사실 난 우릴 자꾸 상상해 상상해', '이런 기분 어쩐지 수상해', '같은 하늘 아래 같은 하늘 아래서', '같은 생각을 하고', '똑같은 말 이제 해도 될 것 같은데', '너를 많이 많이 좋아해', '너를 나 사랑하게 됐나 봐', '똑같이 말하고 싶은데', '내가 그래도 될까 좀 더 기다려볼까', '나도 많이 많이 좋아해', '사실 난 이런 맘이 처음인데', '더 기다려줄게', '더 기다려줄래', '난 여기 있을게', '여기 있어줄래', '우리는 이미 같은 맘인걸', '누가 좋아해 더', '내가 더', '그런 건 나 중요치 않은걸', '나 손 내밀면', '그 손 안 놓을 자신 있다면', '영원히 그 손을 놓지 않을게', '너를 너무너무 좋아해', '사실 난 이미 너를 사랑해', '똑같이 말할 수 있는데', '왜 난', '떨리는 건지 자꾸 망설이는지', '아니 너를 너를 사랑해', '이제는 내 맘 다 말해줄게', '날 믿어주겠니', '널 믿어볼게 난', '이 사랑 안에서', '이 사랑 속에서', '나란히', '같이 걸어가자 둘이']\n"
          ]
        },
        {
          "output_type": "stream",
          "name": "stderr",
          "text": [
            "\r549it [4:18:42, 49.72s/it]"
          ]
        },
        {
          "output_type": "stream",
          "name": "stdout",
          "text": [
            "54\n",
            "['어딜 쳐다보는 거냐고', '솔직히 너 그래 너 생판 처음 만난 너', '왜 널 쳐다보는 거냐고', '궁금해서 설레서 낯설어서', 'uh 두근 두근 두근 워', '침착하게 서로서로 살살 알아볼까나', '오빠 차 핸들 살살 돌려볼까나', '모르는게 약이야', '객관식은 첫 눈에 찍는게 답이야', '아 뜨거  fyah ', '너의 맘 나의 맘 두근 두근 두근 워', '사람 새로운 사람', '너무 설레어서 어지러워요', '만남 새로운 만남', '너무 설레어서 미치겠어요', '낯선 낯선 여자의 낯선 향기에', 'Yes I want some new face', '낯선 낯선 여자의 낯선 향기에', 'Yes I want some new face', 'New face new face new new new face', 'New face new face new new new face', '원래 이런 사람이냐고', '아니올시다 이거 봐봐', '눈을 맞춰야 눈이 맞아', '지금 작업하는 거냐고', '솔직히 yes 그래 yes 오 yes', 'uh 두근 두근 두근 워', '궁합이 떡인지 살살 맞춰볼까나', '말하지 않아도 알아맞혀 볼까나', '알면 병이야 어서 나를 따', '너의 맥주병이야 님의 뽕이야', '너의 맘 나의 맘 두근 두근 두근 워', '사람 새로운 사람', '너무 설레어서 어지러워요', '만남 새로운 만남', '너무 설레어서 미치겠어요', '낯선 낯선 여자의 낯선 향기에', 'Yes I want some new face', '낯선 낯선 여자의 낯선 향기에', 'Yes I want some new face', 'New face new face new new new face', 'New face new face new new new face', 'Hey we want some new face ', 'hey we want some new face', 'Hey we want some new face ', 'hey we want some new face', '두근 두근 두근 워', '낯선 낯선 여자의 낯선 향기에', 'Yes I want some new face', '낯선 낯선 여자의 낯선 향기에', 'Yes I want some new face', '예이 예이 예이 예 all right new face', '예이 예이 예이 예 all right new face', '두근 두근 두근 워 new face']\n"
          ]
        },
        {
          "output_type": "stream",
          "name": "stderr",
          "text": [
            "\r550it [4:19:19, 46.08s/it]"
          ]
        },
        {
          "output_type": "stream",
          "name": "stdout",
          "text": [
            "61\n",
            "['You know what it is', 'B. girls are back, Brave Sound', 'We\\'re gonna be \"Summer Queens\"', 'You ready? We are \"BRAVE GIRLS\"     ', 'Oh Oh Oh Oh Oh Oh ', 'Oh Oh Oh Oh Oh Oh Oh', 'Oh Oh Oh Oh Oh Oh ', 'Oh Oh Oh Oh Oh  ', 'Just wanna give ur love', '날 보는 눈빛에 분명 적혀있어', \"내게 Rollin' in the deep (Rollin' Rollin')\", 'I don\\'t want \"지루함\" or \"따분함\" ', 'Oh get away ', '난 더 특별함을 원해 너에게', '푸른 바람 불어와', '두 볼을 스칠 때 (Hey)', '또 괜히 나 왜 두근거려 왜 (왜)', 'Call me \"Desperado\"', '뭐래도 몰라도 돼', '오늘만은 내 멋대로', 'Go far away', '치맛바람이 불어와 (불어와)', '내게도 사랑이 찾아와 Yeah', '뜨거운 햇살이 비춰와 (비춰와)', '아름다운 여름밤이라구요', '살랑 살랑 살랑 불어 기분 좋은 날에', '바람 바람 바람 이 시원한 바람', '찰랑 찰랑 찰랑 이 푸른 바닷가에', '바람 바람 바람 치 맛 바 람', '눈치 따위는 안 보여 Babe', '(널 향한 내 맘에)', '내숭 따위는 Get nah Joy Babe', '(This is my way)', 'Your eyes on my body', '눈 떼지 못해 넌', \"부디 오늘 밤은 I don't let you go\", 'Ooh baby I mean You know', '푸른 바람 불어와', '두 볼을 스칠 때 (Hey)', '또 괜히 나 왜 두근거려 왜 (왜)', 'Call me \"Desperado\"', '뭐래도 몰라도 돼', '오늘만은 내 멋대로', 'Go far away', '치맛바람이 불어와 (불어와)', '내게도 사랑이 찾아와 Yeah', '뜨거운 햇살이 비춰와 (비춰와)', '아름다운 여름밤이라구요', '살랑 살랑 살랑 불어 기분 좋은 날에', '바람 바람 바람 이 시원한 바람', '찰랑 찰랑 찰랑 이 푸른 바닷가에', '바람 바람 바람 치 맛 바 람', '너와 함께 있고 이 밤은 빛나는데', \"Now I'm Fearless 난 없어 무서울게\", 'I know 너도 내 맘과 같은 걸', \"We're just falling in love\", \"Let's Go!\", 'Oh Oh Oh Oh Oh Oh (Oh Babe)', 'Oh Oh Oh Oh Oh Oh Oh (시원한 이 바람)', 'Oh Oh Oh Oh Oh Oh (Oh Babe Babe)', '치 맛 바 람']\n"
          ]
        },
        {
          "output_type": "stream",
          "name": "stderr",
          "text": [
            "\r551it [4:20:03, 45.42s/it]"
          ]
        },
        {
          "output_type": "stream",
          "name": "stdout",
          "text": [
            "53\n",
            "['예아 호우 예예예', '싹쓰리 인더 하우스', '커커커커커몬 싹 쓰리 투 렛츠고', '나 다시 또 설레어', '이렇게 너를 만나서', '함께 하고 있는 지금 이 공기가', '다시는 널 볼 순 없을 거라고', '추억일 뿐이라', '서랍 속에 꼭 넣어뒀는데', '흐르는 시간 속에서', '너와 내 기억은', '점점 희미해져만 가', '끝난 줄 알았어', '지난여름 바닷가', '너와 나 단둘이', '파도에 취해서 노래하며', '같은 꿈을 꾸었지', '다시 여기 바닷가', '이제는 말하고 싶어', '네가 있었기에 내가 더욱 빛나', '별이 되었다고', '다들 덥다고 막 짜증내', '괜찮아 우리 둘은 따뜻해', '내게 퐁당 빠져버린 널', '이젠 구하러 가지 않을 거야', '모래 위 펴펴펴편지를 써', '밀물이 밀려와도 못 지워', '추억이 될 뻔한 첫 느낌', '너랑 다시 한번 받아 보고 싶어', '흐르는 시간 속에서', '너와 내 기억은', '점점 희미해져만 가', '끝난 줄 알았어', '지난여름 바닷가', '너와 나 단둘이', '파도에 취해서 노래하며', '같은 꿈을 꾸었지', '다시 여기 바닷가', '이제는 말하고 싶어', '네가 있었기에 내가 더욱 빛나', '별이 되었다고', '시간의 강을 건너', '또 맞닿은 너와 나', '소중한 사랑을 영원히', '간직해줘', '지난여름 바닷가', '너와 나 단둘이', '파도에 취해서 노래하며', '같은 꿈을 꾸었지', '다시 여기 바닷가', '이제는 말하고 싶어', '네가 있었기에 내가 더욱 빛나', '별이 되었다고']\n"
          ]
        },
        {
          "output_type": "stream",
          "name": "stderr",
          "text": [
            "\r552it [4:20:39, 42.68s/it]"
          ]
        },
        {
          "output_type": "stream",
          "name": "stdout",
          "text": [
            "67\n",
            "['I’m addicted', '끊임없이', '말을 걸어주는', '나의 에스파', '이런 교감,', '너의 존잰 날', '다른 차원으로', '이끌었지', '난 세상 중심에', 'You’re in the FLAT', '내 모든 Action', '어린 너의 힘을 키워', '넌 언젠가부터 SYNK out', '노이즈같이 보여', '더 이상 못 찾겠어', '널 유혹해 삼킨 건', 'Black Mamba', 'Ma Ma Ma Mamba', 'Woo oh-oh', 'Ma Ma Ma Mamba', 'Oh eh-o eh-o', '넌 광야를 떠돌고 있어', '(Aya ya ya ya ya ya)', '나의 분신을 찾고 싶어', '(Aya ya ya ya ya ya)', 'Hey Ma Mamba', 'I hate Ma Ma Ma Mamba', 'Hate Ma Ma Ma Mamba', 'I’m ejected', '선함 만으론', '너의 거대함을 이기지 못해', 'I’m exhausted', '너의 존잰 모든', '탐욕들을 먹고 자라 났지', '에스파는 나야', '둘이 될 수 없어', 'Monochrome to colors', '이건 Evo, Evolution', 'Oh! 위험한 장난을 쳐', '매혹적이지만 널', '부정할 밖에', '모든 걸 삼켜버릴', 'Black Mamba', 'Ma Ma Ma Mamba', 'Woo oh-oh', 'Ma Ma Ma Mamba', 'Oh eh-o eh-o', '넌 광야를 떠돌고 있어', '(Aya ya ya ya ya ya)', '네게 맞서 난 질 수 없어', '(Aya ya ya ya ya ya)', 'Hey Ma Mamba', '거울 속의 나는 네가 아닐까?', '일그러져버린 환영인 걸까?', '다시 너와 연결될 수 있다면', '너를 만나고 싶어 이제', '모든 걸 삼켜버릴', 'Black Mamba', 'Ma Ma Ma Mamba', 'Woo oh-oh', 'Ma Ma Ma Mamba', 'Oh eh-o eh-o', '넌 광야를 떠돌고 있어', '(Aya ya ya ya ya ya)', '네게 맞서 난 질 수 없어', '(Aya ya ya ya ya ya)', 'Hey Ma Mamba']\n"
          ]
        },
        {
          "output_type": "stream",
          "name": "stderr",
          "text": [
            "\r553it [4:21:27, 44.11s/it]"
          ]
        },
        {
          "output_type": "stream",
          "name": "stdout",
          "text": [
            "65\n",
            "['Yes Turtles Forth album', 'New mind New song ', '철없을 적 내 기억속에', '비행기 타고가요 ', \"Yeah Let's go \", '파란 하늘위로 훨훨 날아가겠죠 ', '어려서 꿈꾸었던 비행기 타고 ', '기다리는 동안 아무말도 못해요 ', '내 생각 말할순 없어요 ', '모든 준비 다 끝났어 ', '곱게 차려 입고 나선 ', '바깥 풍경마저 들뜬 기분 ', '때가 왔어 하늘위로', '날으는 순간이야 ', '조금은 두려워도 ', '애써 내색 할 순 없어', '이번이 처음이지만 ', '전에 자주 비행했었잖아 ', '친구들과 말썽장이', '거북이 비행기로 올라타 ', '준비됐나 ', '수많은 사람들 속을 지나쳐', '마지막 게이트야 ', '나도 모르게 안절부절하고 있어 ', '이럴 땐 침착해 좀 자연스럽게 ', '파란 하늘위로 훨훨 날아가겠죠 ', '어려서 꿈꾸었던 비행기 타고 ', '기다리는 동안 아무말도 못해요 ', '내 생각 말할순 없어요', 'Yes Remember', '비행기를 타고 가던 너', '따라가고 싶어 울었던 ', '철없을 적 내 기억속에', '비행기 타고가요 ', 'Yes Fly 다들 아무 일도 없는 듯 ', '하늘을 나르는데 아무걱정 없는 듯 ', '왠지 철닥서니 없었나 문득', '이런 내 모습 촌스러 입 다문듯 ', '쳐다보지 말아요 ', '다들 처음 탈 때 이러지 않았나요 ', '딴 데 봐요 ', '신경 쓰지 마요 ', '나 혼자 이런게 나 좋아요 ', '어떤 느낌일까 정말', '새들처럼 나는 기분 ', '세상 모든 것이 점처럼', '보 여 지겠지 ', '개구쟁이 거북이', '비행기로 드디어 출발한다 ', '수많은 사람들 속을 지나쳐', '마지막 게이트야 ', '나도 모르게 안절부절하고 있어 ', '이럴 땐 침착해 좀 자연스럽게 ', '파란 하늘위로 훨훨 날아가겠죠 ', '어려서 꿈꾸었던 비행기 타고 ', '기다리는 동안 아무말도 못해요 ', '내 생각 말할순 없어요 ', '파란 하늘위로 훨훨 날아가겠죠 ', '어려서 꿈꾸었던 비행기 타고 ', '기다리는 동안 아무말도 못해요 ', '내 생각 말할순 없어요 Yes Remember', '비행기를 타고 가던 너', '따라가고 싶어 울었던 ', '철없을 적 내 기억속에', '비행기 타고가요 ']\n"
          ]
        },
        {
          "output_type": "stream",
          "name": "stderr",
          "text": [
            "\r554it [4:22:12, 44.47s/it]"
          ]
        },
        {
          "output_type": "stream",
          "name": "stdout",
          "text": [
            "75\n",
            "['기나긴 너와 이 밤을', '너와 이렇게 너와', '기다린 너와 시간을', '너와 이렇게 너와', '어둠 속 Red light 시선은', 'Left right 불 위를 걷나', '시작의 점화 가까이 온다', '누가 뭐 겁나', 'Uh oh', '어디까지 더 깊이 빠져들지', '중독된 향기까지', '그렇게 뒤섞여버리지 그래', '더 더 불태워 버려지게', '내일은 우린 없는 거야 너', 'I love ya', '널 위한 노래를 해', '깊게 더 빠지게 Lata', 'I love ya', '널 위한 춤을 춰', '내게 널 갇히게 Lata', 'I love ya', 'Latata latata latata latata', 'Latata latata latata latata', '날 위해 불러줘', '평생 널 못 잊게 Lata', 'I love ya', 'I love ya', 'Every day every night latata', 'I love ya', 'Every day every night latata', 'Don’t be lazy 다가와 Baby', '시간은 너무 짧고', '이건 아직 Basic', '좀 더 깊은 곳으로', '더 들어가 나를 머금고', '취해도 돼 중요치 않아 내일이', '아주 화려한 이 춤은 라따따', '뜨겁게 불태울 거야 다다다', '뭐 어려워 다 널 부러워해', '좋아 이 밤을 불태워', 'Muah muah muah', 'Uh oh 어디까지', '더 그리 나빠질지', '이 밤은 아침까지', '그렇게 더 미쳐버리지 그래', '더 더 불태워 버려지게', '내일은 우린 없는 거야 너', 'I love ya', '널 위한 노래를 해', '깊게 더 빠지게 Lata', 'I love ya', '널 위한 춤을 춰', '내게 널 갇히게 Lata', 'I love ya', 'Latata latata latata latata', 'Latata latata latata latata', '날 위해 불러줘', '평생 널 못 잊게 Lata', 'I love ya', 'I love ya', 'Every day every night latata', 'I love ya', 'Every day every night latata', '기나긴 너와 이 밤을', '너와 이렇게 너와', '기다린 너와 시간을', '너와 이렇게 너와', '어둠 속 Red light 시선은', 'Left right 불 위를 걷나', '시작의 점화 가까이 온다', '누가 뭐 겁나', 'I love ya', 'Every day every night latata', 'I love ya', 'Every day every night latata']\n"
          ]
        },
        {
          "output_type": "stream",
          "name": "stderr",
          "text": [
            "\r555it [4:23:03, 46.35s/it]"
          ]
        },
        {
          "output_type": "stream",
          "name": "stdout",
          "text": [
            "84\n",
            "['떠나가', 'Ye the finally I reallize', 'That I`m nu`ttin without you', 'I was so wrong forgive me', '파도처럼 부서진 내맘', '바람처럼 흔들리는 내 맘', '연기처럼 사라진 내 사랑', '문신처럼 지워지지 않아', '한숨만 땅이 꺼지라 쉬죠', '내 가슴속에 먼지만 쌓이죠', 'Say good bye', 'Ye 네가 없이는 단 하루도', '못 살것만 같았던 나', '생각과는 다르게도', '그럭저럭 혼자 잘 살아', '보고싶다고 불러봐도', '넌 아무 대답없잖아', '헛된 기대 걸어봐도', '이젠 소용없잖아', '네 옆에 있는 그 사람이 뭔지', '혹시 널 울리진 않는지', '그대 내가 보이긴 하는지', '벌써 싹 다 잊었는지', '걱정돼 다가가기 조차', '말을 걸 수 조차 없어', '애 태우고 나 홀로 밤을 지새우죠', '수백번 지워내죠', '돌아보지 말고 떠나가라', '또 나를 찾지 말고 살아가라', '너를 사랑했기에 후회 없기에', '좋았던 기억만 가져가라', '그럭저럭 참아볼만해', '그럭저럭 견뎌낼만해', '넌 그럴수록 행복해야돼', '하루하루 무뎌져 가네', 'Oh girl', 'I cry cry yo my all', 'Say good bye', '길을 걷다 너와 나', '우리 마주친다 해도', '못 본척 하고서', '그대로 가던 길 가줘', '자꾸만 옛 생각이', '떠오르면 아마도', '나도 몰래 그댈 찾아', '갈지도 몰라', '넌 늘 그 사람과 행복하게', '넌 늘 내가 다른 맘 안 먹게', '넌 늘 작은 미련도 안 남게끔', '잘 지내줘 나 보란 듯이', '넌 늘 저 하늘같이 하얗게', '뜬 구름과도 같이 새파랗게', '넌 늘 그래 그렇게 웃어줘', '아무일 없듯이', '돌아보지 말고 떠나가라', '또 나를 찾지 말고 살아가라', '너를 사랑했기에 후회 없기에', '좋았던 기억만 가져가라', '그럭저럭 참아볼만해', '그럭저럭 견뎌낼만해', '넌 그럴수록 행복해야돼', '하루하루 무더져 가네', '나를 떠나서 맘 편해지길', '나를 잊고서 살아가줘', '그 눈물은 다 마를 테니 ye', '하루하루 지나면', '차라리 만나지 않았더라면', '덜 아플텐데', '영원히 함께하자던', '그 약속 이젠', '추억에 묻어두길 바래 baby', '널 위해 기도해', '돌아보지 말고 떠나가라', '또 나를 찾지 말고 살아가라', '너를 사랑했기에 후회 없기에', '좋았던 기억만 가져가라', '그럭저럭 참아볼만해', '그럭저럭 견뎌낼만해', '넌 그럴수록 행복해야돼', '하루하루 무뎌져 가네', 'Oh girl I cry cry', 'Yo my all say goodbye bye', 'Oh my love don`t lie lie', 'Yo my heart say good bye']\n"
          ]
        },
        {
          "output_type": "stream",
          "name": "stderr",
          "text": [
            "\r556it [4:24:01, 49.88s/it]"
          ]
        },
        {
          "output_type": "stream",
          "name": "stdout",
          "text": [
            "56\n",
            "['라라라라라라라 라라라라라라라', 'You and me in the moonlight', '별 꽃 축제 열린 밤', '파도 소리를 틀고 춤을 추는 이 순간', '이 느낌 정말 딱야', '바다야 우리와 같이 놀아', '바람아 너도 이쪽으로 와', '달빛 조명 아래서 너와 나와 세상과', '다 같이 Party all night long yeah', 'it’s good', 'If you wanna have some fun', '짭짤한 공기처럼 이 순간의 특별한', '행복을 놓치지마', 'One two three let’s go', '저 우주 위로 날아갈 듯 춤추러 가', 'Hey Let’s dance the night away', 'Let’s dance the night away', 'One two three let’s go', '저 바다 건너 들릴 듯 소리 질러', 'let’s dance the night away', 'Dance the night away', 'Let’s dance the night away', 'Dance the night away', 'Let’s dance the night away', 'You and me in this cool night', '미소 짓는 반쪽 달', '그 언젠가 너와 나 저 달 뒷면으로 가', '파티를 열기로 약속', 'yeah it’s good', 'If you wanna have some fun', '은빛 모래알처럼 이 순간의 특별한', '행복을 놓치지 마', 'One two three let’s go', '저 우주 위로 날아갈 듯 춤추러 가', 'Hey Let’s dance the night away', 'Let’s dance the night away', 'One two three let’s go', '저 바다 건너 들릴 듯 소리 질러', 'let’s dance the night away', '오늘이 마지막인 듯', '소리 질러 저 멀리', '끝없이 날아오를 듯', '힘껏 뛰어 더 높이', '오늘이 마지막인 듯', '소리 질러 저 멀리', '쏟아지는 별빛과', 'Let’s dance the night away', 'Let’s dance the night away', 'One two three let’s go', '저 바다 건너 들릴 듯 소리 질러', 'let’s dance the night away', 'Let’s dance the night away', 'Dance the night away', 'Dance the night away', 'Dance the night away', 'Let’s dance the night away']\n"
          ]
        },
        {
          "output_type": "stream",
          "name": "stderr",
          "text": [
            "\r557it [4:24:40, 46.60s/it]"
          ]
        },
        {
          "output_type": "stream",
          "name": "stdout",
          "text": [
            "92\n",
            "['넌 사랑이 뭐라고 생각해', \"We're loving this time right now\", 'We back again once again', 'Umm 아직 못 잊어', '지나온 시간의 우린 이미', 'Umm 헤매고 있던 더딘 사랑의 의미', 'Umm 이제야 찾아낸', '너와의 시절 속에 다시', '빠져들어 순수했던 날의', '너와의 감정을 꺼낸 이 순간', 'No reason ya 어디든 ya', 'Just call for me 이 걸음이 느려진대도', 'Falling for me 계속 지금 이대로', '다 주고 싶어', '상처를 안고 또 다시 한번', 'Love me like you did baby', \"You're my love\", '처음 본 순간부터 내겐', 'Cuz you’re my', 'cuz you’re my LOVE for me baby', 'Finding love', '숨길 수 없어 난 네게', 'Cuz you’re my', 'cuz you’re my LOVE for me baby', 'I shot for the love shot for the love', 'Tell me tell me', 'Shot for the love shot for the love', 'Tell me tell me', '이 순간이 영원하길 기도해', 'Please make me crazy', 'Come and get it come and get it', 'Show me baby show me baby', 'Sit back and enjoy the show', 'Feel my rhythm &amp; flow', 'We can take it fast or slow', 'Come to my party', '딱 한번이면 넌 다시 내게 B R B', 'You only you be my V I P', 'You 어차피 나랑 같이 B I G', '또 피하지 못한다면 같이 D I E', '난 역시 거침없이 언제나 L O V E', '사랑 앞엔 좀 이상한 yes Imma geek', '너를 유혹하기엔 충분한 이 beat', '벗어나긴 힘드니 you gotta shake me', \"You're my love\", '처음 본 순간부터 내겐', 'Cuz you’re my', 'cuz you’re my LOVE for me baby', 'Finding love', '숨길 수 없어 난 네게', 'Cuz you’re my', 'cuz you’re my LOVE for me baby', 'I shot for the love shot for the love', 'Tell me tell me', 'Shot for the love shot for the love', 'Tell me tell me', '이 순간이 영원하길 기도해', 'Please make me crazy', 'Come and get it come and get it', 'Show me baby show me baby', 'Sit back and enjoy the show', 'Feel my rhythm &amp; flow', 'We can take it fast or slow', 'If you want me then dance with me', 'Step it up ah ah step it up aha', 'Step it up ah ah Step it up', 'Step it up ah ah step it up aha', 'Step it up ah ah Step it up', 'Step with me you gotta feel me', '마지막 춤은 나와 함께 you na mean', '아무 말도 하지마 sit back and', 'just enjoy our show hah', \"You're my love\", '처음 본 순간부터 내겐', 'Cuz you’re my', 'cuz you’re my LOVE for me baby', 'Finding love', '숨길 수 없어 난 네게', 'Cuz you’re my', 'cuz you’re my LOVE for me baby', 'I shot for the love shot for the love', 'Tell me tell me', 'Shot for the love shot for the love', 'Tell me tell me', '이 순간이 영원하길 기도해', 'Please make me crazy', \"You're my love\", '이 모든걸 운명에', 'Finding love', \"You're my love\", '이 순간이 영원하길 기도해', 'Please make me crazy']\n"
          ]
        },
        {
          "output_type": "stream",
          "name": "stderr",
          "text": [
            "\r558it [4:25:45, 52.18s/it]"
          ]
        },
        {
          "output_type": "stream",
          "name": "stdout",
          "text": [
            "80\n",
            "['Come with me now', '넌 어디까지 가길 원해', 'WE GO WE GO WE GO WE GO', '이미 난 너무나도 들떠', '비행기는 No no', '저 피드 속에 Check-in', '난 너를 몰래 Hashtag', '너와 함께면 나', '어디라도 좋아', '1초에 훌쩍 여기 저기 거기 Right', '내 손 잡아', 'Oh oh oh 한여름 밤의 피서같이', '우리 둘만의 파도타기', '볼 게 우린 너무 많아 Oh my my', '하루 종일 더 깊이 빠져', '어느새 시간이 멈춰', '온종일 Go around', '네게 설레', '가까워진 것만 같아', 'Come with me now', '넌 어디까지 가길 원해', '잠깐만 둘이 조금 더 멀리', 'Follow me now', '난 너와 함께 가볼래', 'WE GO WE GO WE GO WE GO', '말해봐', 'What you what you want', 'what you what you want oh Oh oh oh', '더 크게', 'What you what you want', 'what you what you want oh Oh oh oh', 'Come with me now', '난 너와 함께 가볼래', 'WE GO WE GO WE GO WE GO Oh oh', '푸른 밤 City light 더 Zoom in', '분위기에 물들어 자 이리', '펼쳐진 Ocean 우리 Fashion', \"시작된 Motion What's up\", '웃음이 번져', '비밀스레 그려지는 미래', '우린 같이 이렇게 또 밤새', '나를 따라 너를 따라 한 발 두 발', '날아가', 'Oh oh oh 종일 뒹구는 주말같이', '끝을 모르는 파도타기', '할 게 우린 너무 많아 Oh my my', '한 발 한 발 걸음을 맞춰', '우리 둘 사이를 채워', '다시 또 Turn around', '네게 설레', '가까워진 것만 같아', 'So I’m into you', 'Come with me now', '넌 어디까지 가길 원해', '잠깐만 둘이 조금 더 멀리', 'Follow me now', '난 너와 함께 가볼래', 'WE GO WE GO WE GO WE GO Oh oh', '펼쳐진 파노라마', '너로 다 칠해진 맘', '바쁜 Timeline', \"No we can't stop\", '손끝이 또 흔들려', '가슴이 또 일렁여', '어쩔 줄 모르고 난', 'Come with me now', '난 돌아가기 싫은가 봐', '이렇게 둘이 아주 더 멀리', 'Follow me now', '왠지 더 맘이 통한 듯한', '너와 나', '말해봐', 'What you what you want', 'what you what you want oh Oh oh oh', '더 크게', 'What you what you want', 'what you what you want oh Oh oh oh', 'Come closer now', '우리가 연결된 시간', 'WE GO WE GO WE GO WE GO Oh oh']\n"
          ]
        },
        {
          "output_type": "stream",
          "name": "stderr",
          "text": [
            "\r559it [4:26:42, 53.56s/it]"
          ]
        },
        {
          "output_type": "stream",
          "name": "stdout",
          "text": [
            "36\n",
            "['마법 같았지 When we disco when we disco', '그래서 잊지를 못해 아직도', '너무 그리워 When we disco when we disco', '너도 기억하고 있는지 지금도', '너 빼고 나머진 다 Blur', '너만 보였지 (When we d.i.s.c.o.)', '빨려 들어갔어 Rapture', '밤이 새도 몰랐지', '넌 지금 어디에 있는지', '날 가끔 생각은 하는지', '아름다웠던 그 시절의 우릴', 'Do you remember baby', '마법 같았지 When we disco when we disco', '그래서 잊지를 못해 아직도', '너무 그리워 When we disco when we disco', '너도 기억하고 있는지 지금도', '춤을 추는 우리를 다', '바라보았지 (When we d.i.s.c.o.)', '움직임 하나하나가', '전율을 일으켰지', '넌 그걸 잊을 수 있는지 나처럼', '잊지 못하는지', '아름다웠던 그 시절의 우릴', 'Do you remember baby', '마법 같았지 When we disco when we disco', '그래서 잊지를 못해 아직도', '너무 그리워 When we disco when we disco', '너도 기억하고 있는지 지금도', '찌른 건 하늘이 아니라 서로의 마음이었었지', '기억하니 Do you remember', '흔든 건 골반이 아니라 서로의 인생이었었지', 'Do you, do you remember baby', '마법 같았지 When we disco when we disco', '그래서 잊지를 못해 아직도', '너무 그리워 When we disco when we disco', '너도 기억하고 있는지 지금도']\n"
          ]
        },
        {
          "output_type": "stream",
          "name": "stderr",
          "text": [
            "\r560it [4:27:06, 44.85s/it]"
          ]
        },
        {
          "output_type": "stream",
          "name": "stdout",
          "text": [
            "102\n",
            "['what a strange world', '헷갈려 (Billlie!)', ' ', '그대로 go', '아니면 말고', '또 고민 중', '사라진 빌리', ' ', '참견은 쉬운데 (참 쉬운데)', '선택은 어려워 (난 어려워)', '책임은 무겁고 (heavy for me)', '어깬 축 down (어떡할까)', ' ', '몸속에 무언가', '꿈틀거려도 난', '어른스럽게 한 번 참아 (참아)', ' ', '엄마 아빠는 왜 (oh no)', '얌전히 있으래  (come on) ', '말 통하는 건 겨우 친구', ' ', 'welcome to the strange world, wow', '호기심은 커져가 (four three two one)', '헷갈려', ' ', 'can’t complain', '다 그런 거라 해', '이상해', '왜 GingaMingaYo', ' ', 'can’t explain', '또 특이하다 해', '말 못 해', '왜 GingaMingaYo', '도대체 무슨 상황?', 'hey, don’t play (hey, don’t play)', '찾아낸 빌리 나 같기도 해 (똑같애) ', ' ', '기준은 뭐? (내가 옳아)', '틀렸다고? (그렇다면)', '튀어나가 (찾으러 가)', 'come catch me now yeah', ' ', '겁이 나서 도망쳤다 말하면', '왜 이리 참을성 없냬 (no way!)', '다 틀에 맞춘 듯 똑같은 표정', '성장의 묘미인지 (why?)', ' ', '그게 다 맞다면', '난 틀린 건가 뭐', ' ', '내가 그려왔던 곳', '꿈이 없다면', '종일 잠자는 게 낫지', 'aren’t you?', ' ', 'welcome to the strange world, wow', '인내심은 눌러놔 (four three two one)', '헷갈려', 'can’t complain', '다 그런 거라 해', '이상해', '왜 GingaMingaYo', ' ', 'can’t explain', '또 특이하다 해', '말 못 해', '왜 GingaMingaYo', ' ', '이리저리로 흔들려', '하루 종일 난 left and right', '맘의 추는 나를 놀려 oh my!', '왜 GingaMingaYo', ' ', '내가 맞고 넌 틀렸어', '작은 실수도 X or O', '맘의 자는 서롤 재 또 oh my!', '왜 GingaMingaYo', ' ', '날 마주 보는 맘의 11', '이 거울 속 빌리는 누군데?', '고개 든 궁금증', '정답은 하날까', ' ', '알 수가 없어 왜', ' ', 'ra dada dum dada 마음속 drum', '우당탕 탕 타당 울려 더', 'ra dada dum dada 못 참아', 'what’s right? 옳은 건 없어', ' ', '뭐라 해도 it’s ok', ' ', 'can’t complain (complain)', '다 그런 거라 해 (다 그런 거라고 하지만)', '이상해', '왜 GingaMingaYo', ' ', 'can’t explain (explain)', '또 특이하다 해 (날 특이하다고 하지만)', '말 못 해 (no no no no)', '왜 GingaMingaYo']\n"
          ]
        },
        {
          "output_type": "stream",
          "name": "stderr",
          "text": [
            "\r561it [4:28:18, 52.87s/it]"
          ]
        },
        {
          "output_type": "stream",
          "name": "stdout",
          "text": [
            "48\n",
            "['빨간 맛 궁금해 Honey', '깨물면 점점 녹아든 스트로베리 그 맛', '코너 캔디 샵 찾아 봐 Baby', '내가 제일 좋아하는 건 여름 그 맛', '야자나무 그늘 아래 졸고 싶고', '뜨거운 여름밤의 바람은 불고', '너무 쉽게 사랑 빠져 버릴 나인틴', '우린 제법 어울리고 또 멋져', '좋아 첫눈에 반해 버린', '네가 자꾸만 생각나', '내 방식대로 갈래', '빨간 맛 궁금해 Honey', '깨물면 점점 녹아든 스트로베리 그 맛', '코너 캔디 샵 찾아 봐 Baby', '내가 제일 좋아하는 건 여름 그 맛', '일곱 개의 무지갯빛 문을 열어', '너의 세상은 짜릿해 멋있어', '태양보다 빨간 네 사랑의 색깔', '내가 가질래 내 멋대로 할래', '날 봐 넌 뭘 생각하는데', '오늘 뭘 할 수 있을까', '내 맘대로 상상해', '빨간 맛 궁금해 Honey', '깨물면 점점 녹아든 스트로베리 그 맛', '코너 캔디 샵 찾아 봐 Baby', '내가 제일 좋아하는 건 여름 그 맛', '복숭아 주스 스윗 앤 사워 믹스 Mood ', '네게 주고픈 칵테일을 Brew RED', '귓속이 쨍 코가 맹', '상상 그 이상 기분 Up and bang RED', 'Bet you wanna ', 'bet you wanna dance like this', '외쳐보자 좋아해요 솔직히', '긴장해 땀이 뚝뚝 귀엽지', '사랑에 빠져 그을려 우린 RED RED Ah', '말 안 해도 알아주면 안 돼', '내 맘은 더 커져 가는데', '다 흘려버린 아이스크림같이', '이러다 녹을지 몰라', '그러니 말해 그래 그래 말해 ', '그러니 말해 그래 그래 말해 ', '너의 색깔로', '날 물들여줘 더 진하게 강렬하게', '빨간 맛 궁금해 Honey', '깨물면 점점 녹아든 스트로베리 그 맛', '코너 캔디 샵 찾아 봐 Baby', '내가 제일 좋아하는 건 여름 그 맛', '내가 제일 좋아하는 건 여름의 너']\n"
          ]
        },
        {
          "output_type": "stream",
          "name": "stderr",
          "text": [
            "\r562it [4:28:51, 46.91s/it]"
          ]
        },
        {
          "output_type": "stream",
          "name": "stdout",
          "text": [
            "86\n",
            "['Psycho', '널 어쩌면 좋을까', '이런 맘은 또 첨이라', 'Up &amp; Down이 좀 심해', '조절이 자꾸 잘 안돼', '하나 확실한 건', 'I don’t play the game', '우리 진짜 별나대', '그냥 내가 너무 좋아해', '넌 그걸 너무 잘 알고', '날 쥐락펴락해', '나도 마찬가지인걸', '우린 참 별나고 이상한 사이야', '서로를 부서지게', '(부서지게)', '그리곤 또 껴안아', '(그리곤 또 껴안아)', 'You got me feeling like a', 'psycho psycho', '우릴 보고 말해 자꾸 자꾸', '다시 안 볼 듯 싸우다가도', '붙어 다니니 말야', '이해가 안 간대', '웃기지도 않대 ', '맞아 Psycho psycho', '서로 좋아 죽는 바보 바보', '너 없인 어지럽고 슬퍼져', '기운도 막 없어요', '둘이 잘 만났대', 'Hey now we’ll be ok', 'Hey trouble', '경고 따윈 없이 오는 너', 'I’m original visual', '우린 원래 이랬어 Yeah', '두렵지는 않아', '(흥미로울 뿐)', 'It’s hot! Let me just hop', '어떻게 널 다룰까? Ooh', '어쩔 줄을 몰라 너를 달래고', '매섭게 발로 차도', '가끔 내게 미소 짓는 널', '어떻게 놓겠어 Ooh', '우린 아름답고 참 슬픈 사이야', '서로를 빛나게 해', '(Tell me now) ', '마치 달과 강처럼', '그리곤 또 껴안아', 'You got me feeling like a', 'psycho psycho', '우릴 보고 말해 자꾸 자꾸', '다시 안 볼 듯 싸우다가도', '붙어 다니니 말야', '이해가 안 간대', '웃기지도 않대 ', '맞아 Psycho psycho', '서로 좋아 죽는 바보 바보', '너 없인 어지럽고 슬퍼져', '기운도 막 없어요', '둘이 잘 만났대', 'Hey now we’ll be ok', 'Don’t look back', '그렇게 우리답게 가보자', '난 온몸으로 널 느끼고 있어', 'Everything will be ok', '(You got me feeling like a psycho)', 'Like a psycho psycho', '우릴 보고 말해 자꾸 자꾸', '다시 안 볼 듯 싸우다가도', '붙어 다니니 말야', '둘이 잘 만났대 ', 'Hey now we’ll be ok', 'Hey now we’ll be ok', 'Hey now we’ll be ok', 'Hey now we’ll be ok', 'Hey now we’ll be ok', 'It’s alright', 'It’s alright', ' ', 'Hey now we’ll be ok', 'Hey now we’ll be ok', 'Hey now we’ll be ok', 'Hey now we’ll be ok', 'It’s alright', 'It’s alright', '우린 좀 이상해', 'Psycho']\n"
          ]
        },
        {
          "output_type": "stream",
          "name": "stderr",
          "text": [
            "\r563it [4:29:52, 51.23s/it]"
          ]
        },
        {
          "output_type": "stream",
          "name": "stdout",
          "text": [
            "64\n",
            "['No matter what happens', 'Even when discusse on me now', 'I promise you', \"That I'm never let you go\", 'Oh Oh Oh oh Oh oh Yeah', 'You 내가 쓰러질 때 절대 흔들림 없이', '강한 눈빛으로 몇 번이고', '날 일으켜 줘', 'And You 나 힘에 겨울 때', '슬픔을 벼랑 끝까지', '또 어김없이 찾아 와', '두 손 잡은 그대에게', '난 해준 게 없는데 초라한 나지만', '오늘 그대 위해 이 노래 불러요', 'Tonight 그대의 두 눈에', '그 미소 뒤에', '날 위해 감춰왔던 아픔이 보여요', 'You and I together', \"it's just feels alright\", '이별이란 말은 never', '그 누가 뭐라 해도 난 그댈 지킬게', 'You and I together', '내 두 손을 놓지 마', '안녕이란 말은 never', '내게 이 세상은 오직 너와 나기에', '그 많은 사람처럼', '우리 사랑 역시 조금씩 변하겠죠', '하지만 제발 슬퍼 말아요', '오랜 친한 친구처럼', '나만을 믿을 수 있게', '기댈 수 있게', 'I promise you that', \"I'm be right here baby\", '난 해준 게 없는데 초라한 나지만', '오늘 그대 위해 이 노래 불러요', 'Tonight 그대의 두 눈에', '그 미소 뒤에 날 위해', '감춰왔던 아픔이 보여요', 'You and I together', \"it's just feels alright\", '이별이란 말은 never', '그 누가 뭐라 해도 난 그댈 지킬게', 'You and I together', '내 두 손을 놓지 마', '안녕이란 말은 never', '내게 이 세상은 오직 너와 나기에', '외로운 밤이 찾아 올 땐', '나 살며시 눈을 감아요', '그대의 숨결이 날 안을 때', '무엇도 두렵지 않죠', '이 세상 그 어떤 누구도', '그대를 대신할 수 없죠', 'You are the only one in', \"I'll be there for you baby\", 'You and I together', \"it's just feels alright\", '이별이란 말은 never', '그 누가 뭐라 해도 난 그댈 지킬게', 'You and I together', '내 두 손을 놓지 마', '안녕이란 말은 never', '내게 이 세상은 오직 너와 나기에', 'just you and I Forever and ever', ' ']\n"
          ]
        },
        {
          "output_type": "stream",
          "name": "stderr",
          "text": [
            "\r564it [4:30:37, 49.32s/it]"
          ]
        },
        {
          "output_type": "stream",
          "name": "stdout",
          "text": [
            "50\n",
            "['우리 엄만 매일 내게 말했어', '언제나 남자 조심하라고', '사랑은 마치 불장난 같아서 다치니까 Eh', '엄마 말이 꼭 맞을지도 몰라', '널 보면 내 맘이 뜨겁게 달아올라', '두려움보단 널 향한 끌림이 더 크니까 Eh', '멈출 수 없는 이 떨림은', 'On and on and on', '내 전부를 너란 세상에', '다 던지고 싶어', 'Look at me look at me now', '이렇게 넌 날 애태우고 있잖아', '끌 수 없어', '우리 사랑은 불장난', 'My love is on fire', 'Now burn baby burn', '불장난', 'My love is on fire', 'So don’t play with me boy', '불장난', 'Oh no 난 이미 멀리 와버렸는걸', '어느새 이 모든 게 장난이 아닌 걸', '사랑이란 빨간 불씨', '불어라 바람 더 커져가는 불길', '이게 약인지 독인지 우리 엄마도 몰라', '내 맘 도둑인데 왜 경찰도 몰라', '불 붙은 내 심장에 더 부어라 너란 기름', 'kiss him will I diss him I ', 'don’t know but I miss him', '중독을 넘어선 이 사랑은 crack', '내 심장의 색깔은 black', '멈출 수 없는 이 떨림은', 'On and on and on', '내 전부를 너란 불길 속으로', '던지고 싶어', 'Look at me look at me now', '이렇게 넌 날 애태우고 있잖아', '끌 수 없어', '우리 사랑은 불장난', 'My love is on fire', 'Now burn baby burn', '불장난', 'My love is on fire', 'So don’t play with me boy', '불장난', '걷잡을 수가 없는 걸', '너무나 빨리 퍼져 가는 이 불길', '이런 날 멈추지 마', '이 사랑이 오늘 밤을 태워버리게 ', 'whooo']\n"
          ]
        },
        {
          "output_type": "stream",
          "name": "stderr",
          "text": [
            "\r565it [4:31:12, 44.97s/it]"
          ]
        },
        {
          "output_type": "stream",
          "name": "stdout",
          "text": [
            "66\n",
            "['DDA DDA LA DDA LA DDA LA', 'People look at me', 'and they tell me', '외모만 보고 내가 날라리 같대요', \"So what 신경 안 써 I'm sorry\", \"I don't care don't care\", \"really don't care because\", '사랑 따위에 목매지 않아', '세상엔 재밌는 게 더 많아', '언니들이 말해 철들려면 멀었대', \"I'm sorry sorry\", '철들 생각 없어요', '예쁘기만 하고 매력은 없는', '애들과 난 달라 달라 달라', 'DDA DDA LA DDA LA', '네 기준에 날 맞추려 하지 마', '난 지금 내가 좋아 나는 나야', 'DDA DDA LA DDA LA DDA LA', 'I love myself', '난 뭔가 달라 달라 YEAH', 'I love myself', '난 뭔가 달라 달라 YEAH', '난 너랑 달라 달라 YEAH', \"Bad bad I'm sorry I'm bad\", \"I'm just the way I am\", '남 신경 쓰고 살긴 아까워', '하고 싶은 일 하기도 바빠', 'My life 내 맘대로', '살 거야 말리지 마', '난 특별하니까 YEAH', '남들의 시선 중요치 않아', '내 style이 좋아 그게 나니까', '언니들이 말해 내가 너무 당돌하대', \"I'm sorry sorry\", '바꿀 생각 없어요 Nope', '예쁘기만 하고 매력은 없는', '애들과 난 달라 달라 달라', 'DDA DDA LA DDA LA', '네 기준에 날 맞추려 하지 마', '난 지금 내가 좋아 나는 나야', 'DDA DDA LA DDA LA DDA LA', 'Don’t care what people say', '나는 내가 알아', \"I’m talkin' to myself\", '기죽지 마 절대로', '고개를 들고 네 꿈을 쫓아', \"Just keep on dreamin'\", 'Keep your chin up', 'We got your back', 'Keep your head up', \"Just keep on dreamin'\", 'Keep your chin up', 'We got your back', 'Keep your head up', \"Just keep on dreamin'\", '예쁘기만 하고 매력은 없는', '애들과 난 달라 달라 달라', 'DDA DDA LA DDA LA', '네 기준에 날 맞추려 하지 마', '난 지금 내가 좋아 나는 나야', 'DDA DDA LA DDA LA DDA LA', 'I love myself', '난 뭔가 달라 달라 YEAH', 'I love myself', '난 뭔가 달라 달라 YEAH', '난 너랑 달라 달라 YEAH']\n"
          ]
        },
        {
          "output_type": "stream",
          "name": "stderr",
          "text": [
            "\r566it [4:31:57, 44.93s/it]"
          ]
        },
        {
          "output_type": "stream",
          "name": "stdout",
          "text": [
            "39\n",
            "['LOCO', '미친다는 말이 이해 간달까', \"I'm gettin' LOCO LOCO\", 'Oh gosh 이건 달콤한 독 같아', \"I'm gettin' LOCO LOCO\", '출구 없는 방 안에 사방이 너란 거울이야', '굳이 쉽게 말하자면 I feel like I was born to love ya', '오아시스 찾는 kitty 난 네 주위를 맴돌지', '콩깍지 껴 버린 내 두 눈은 yellow', '켜줘 네 손으로 불 꺼진 내 심장', \"It's too late, want you so bad 너를 갖고 싶어졌어\", '몰라 이젠 이미 난 blind 끝까지 가볼래', '넌 날 반쯤 미치게 만들어', 'You got me like CRAY-CRAY-CRAZY in love', '대체 네가 뭔데', '미쳐 날뛰어 기분이 up &amp; down', 'You got me like CRAY-CRAY-CRAZY in love', '나도 내가 outta control', \"I'm gettin' LOCO LOCO\", \"I'm gettin' LOCO LOCO\", '내게 대체 넌 뭘 원해', \"미친 이 마음은 다 갖다 퍼 줘도 I'm ok\", '하루는 천국을 갔다 왔다 가도', '나락 끝까지 날 밀어버려', 'So dangerous, so so so dangerous, uh-oh', '날 더 망가뜨려도 널 믿을 수 밖에 없게 해줘', '오아시스 찾은 kitty 난 네 옆 자릴 넘보지', 'Break 따윈 잊었어 끝까지 가 볼래', 'LOCO', \"I'm gettin' LOCO-LOCO-CO\", \"I'm gettin' LOCO-LOCO-CO-oh-oh-oh\", \"I'm gettin' LOCO-LOCO-CO\", \"I'm gettin' LOCO-LOCO-CO-oh-oh-oh\", '넌 날 완전 미치게 만들어', 'You got me like CRAY-CRAY-CRAZY in love', '대체 네가 뭔데', '미쳐 날뛰어 기분이 up &amp; down', 'You got me like CRAY-CRAY-CRAZY in love', '나도 내가 outta control']\n"
          ]
        },
        {
          "output_type": "stream",
          "name": "stderr",
          "text": [
            "\r567it [4:32:23, 39.32s/it]"
          ]
        },
        {
          "output_type": "stream",
          "name": "stdout",
          "text": [
            "62\n",
            "['아침엔 모닝콜 필수던 내가 ', '오늘은 번쩍 번쩍 눈이 떠지는가 ', '데이트 날이라 그런지 ', '어제 꿈도 좋은 꿈 꿨지 ', '새 신발을 신고  ', '현관문을 열고 나가면 ', '오늘 날씬 너를 많이 닮아 ', '너에게 가는 길은 꽃길이 되고 ', '보일 듯 말듯한 네 마음 보인다면 ', '온몸이 간질간질 두근두근 ', '이 기분은 뭐야 어떡해 ', '아주 NICE ', '아주 NICE ', 'NICE ', '아주 NICE', '뭐 하나 물어볼게 ', '꿈에서도 너가 둥둥 ', '떠 다닐 것 같애 맞아 ', '멋진 남자 되고파 ', 'Fitness 끊은 것 같애 맞아 ', '연애가 첨이라 ', '내가 긴장할 것 같애 ', '너가 나의 모든 의문점에 대한 ', '정답인 것 같애 ', '아 궁금한 게 있는데', '어떻게 그리 예뻐', '신호등만 건너면', '맛있는 가게 있어', '가자', '오늘 날씨 너를 많이 닮아 ', '너에게 가는 길은 꽃길이 되고', '보일 듯 말듯한 네 마음 보인다면', '온몸이 간질간질 두근두근', '이 기분은 뭐야 어떡해 뭐야 어떡해', '아주 NICE', '아주 NICE', 'NICE', '아주 NICE', '어떤 사람은 말하죠', '연애는 연애일 뿐이라고', '그걸로 끝이라고', '그렇다면 시작점이 끝이 될 수 있게', '너로 시작해 나로 끝낼 수 있게', '맞잡은 두 손에 원처럼', '우린 끝이 없네', '지금 상황 FOREVER', '우리 둘이 FOREVER', '첫사랑은 안 이루어 진단 말은', '믿지 않기로 해요', '익숙함에 속아 잃지 않았으면 해', '서로가', '우리라는 말이 지켜질 수 있게', '진지한데 뜬금없지만', '뜬금없지만 오늘 난 말야', '아주 NICE', '아주 NICE', 'NICE', '아주 NICE', '오늘 하루도 아주 즐거웠어요', '다음 데이트도 빨리 했음 좋겠어요', '집 데려다 주는 길이 너무도 짧아요', '내일 이 시간에 또 만나요']\n"
          ]
        },
        {
          "output_type": "stream",
          "name": "stderr",
          "text": [
            "\r568it [4:33:06, 40.42s/it]"
          ]
        },
        {
          "output_type": "stream",
          "name": "stdout",
          "text": [
            "61\n",
            "['잔소리는 Stop it 알아서 할게', '내가 뭐가 되든', '내가 알아서 할 테니까 좀', 'I do what I wanna', '평범하게 살든 말든 내버려 둘래', '어차피 내가 살아 내 인생 내거니까', \"I'm so bad bad 차라리 이기적일래\", '눈치 보느라 착한 척', '상처받는 것보다 백번 나아', \"I'm just on my way 간섭은 No No 해\", '말해버릴지도 몰라 너나 잘하라고', '누가 뭐라 해도 난 나야', '난 그냥 내가 되고 싶어', 'I wanna be me me me', '굳이 뭔가 될 필요는 없어', '난 그냥 나일 때 완벽하니까', 'I wanna be me me me', \"I don't wanna be somebody\", 'Just wanna be me be me', 'I wanna be me me me', \"I don't wanna be somebody\", 'Just wanna be me be me', 'I wanna be me me me', 'Errbody errbody errbody', \"teachin' me All eyes on me\", '이래라 저래라 모두 한마디씩', \"Don't touch me\", 'Ah yeah yeah yeah yeah yeah', '내 앞가림은 내가 해', \"I'mma do my thang\", 'Just do your thang', \"Cuz I'm the one &amp; only\", '사람들은 남 말 하기를 좋아해', '남의 인생에 뭔 관심이 많아 왜', '저기 미안하지만 신경 좀 꺼줄래요', \"It's none of your business\", 'I do my own business', '누가 뭐라 해도 난 나야', '난 그냥 내가 되고 싶어', 'I wanna be me me me', '굳이 뭔가 될 필요는 없어', '난 그냥 나일 때 완벽하니까', 'I wanna be me me me', 'No matter if you love me', 'or hate me', 'I wanna be me', 'One and only me', 'If you feel me turn this beat up', 'I wanna be me me me', '누가 뭐라 해도 난 나야', '난 그냥 내가 되고 싶어', 'I wanna be me me me', '굳이 뭔가 될 필요는 없어', '난 그냥 나일 때 완벽하니까', 'I wanna be me me me', \"I don't wanna be somebody\", 'Just wanna be me be me', 'I wanna be me me me', \"I don't wanna be somebody\", 'Just wanna be me be me', 'I wanna be me me me']\n"
          ]
        },
        {
          "output_type": "stream",
          "name": "stderr",
          "text": [
            "\r569it [4:33:50, 41.44s/it]"
          ]
        },
        {
          "output_type": "stream",
          "name": "stdout",
          "text": [
            "64\n",
            "['지금 이 노래가 내가 될 수 있게', '만들어 준 네가 다가온다', '셋 둘 하나', '뭐든지 다 주고 싶어', '나에게 너만 있다면', 'Won’t let them break your heart oh no', '네가 없다면 난 아무것도 아냐', 'No words are enough for you', '노랫말로 담고 싶어', 'So, 모든 나의 감정 ', '너로 읽고 쓰게 해줘', 'I just want to love you', '널 혼자 두지 않아 난', 'I just want you, I need you', '이 밤은 짧고 넌 당연하지 않아', 'I tell you', 'This time I wanna rock with you', 'Moonlight 이 밤에 Shine on you', 'Tonight I wanna ride with you', '그 어디라도', 'Baby hold on Baby hold on', '어디에서도', 'Baby hold on Baby hold on', '어디서라도', '세상이 끝나더라도', 'I wanna ride with you', '널 위해 달리고 있어', '널 위해서라면 뭐든', '숨이 멈출 때까지 난 너만', 'No words are enough for you', '멜로디로 담고 싶어', 'So, 너의 모든 감정 ', '내가 들을 수 있게 해줘', 'I just want to love you', '널 혼자 두지 않아 난', 'I just want you, I need you', '이 밤은 짧고 넌 당연하지 않아', 'I tell you', 'This time I wanna rock with you', 'Moonlight 이 밤에 Shine on you', 'Tonight I wanna ride with you', '그 어디라도', 'Baby hold on Baby hold on', '어디에서도', 'Baby hold on Baby hold on', '어디서라도', '세상이 끝나더라도', 'I wanna', 'Ride with you', 'Fall into your eyes', '모든 순간들이 오로지 널 향해 있어', '나는 너 하나로 충분해', '당연한 건 하나 없어', '나에게 너만 있어서', 'Won’t let them break your heart oh no', '그 어디라도', 'Baby hold on Baby hold on', '어디에서도', 'Baby hold on Baby hold on', '어디서라도', '세상이 끝나더라도', 'I wanna rock with you', 'I wanna rock with you', 'I wanna stay with you']\n"
          ]
        },
        {
          "output_type": "stream",
          "name": "stderr",
          "text": [
            "\r570it [4:34:33, 42.11s/it]"
          ]
        },
        {
          "output_type": "stream",
          "name": "stdout",
          "text": [
            "42\n",
            "['어쩜 이렇게 하늘은 더 파란 건지 ', '오늘따라 왜 바람은 또 완벽한지 ', '그냥 모르는 척 하나 못들은 척 ', '지워버린 척 딴 얘길 시작할까 ', '아무 말 못하게 입맞출까 ', '눈물이 차올라서 고갤 들어 ', '흐르지 못하게 또 살짝 웃어 ', '내게 왜 이러는지 무슨 말을 하는지 ', '오늘 했던 모든 말 저 하늘 위로 ', '한번도 못했던 말 ', '울면서 할 줄은 나 몰랐던 말 ', '나는요 오빠가 좋은걸 어떡해 ', '새로 바뀐 내 머리가 별로였는지 ', '입고 나왔던 옷이 실수였던 건지 ', '아직 모르는 척 기억 안 나는 척 ', '아무 일없던 것처럼 굴어볼까 ', '그냥 나가자고 얘기할까 ', '눈물이 차올라서 고갤 들어 ', '흐르지 못하게 또 살짝 웃어 ', '내게 왜 이러는지 무슨 말을 하는지 ', '오늘 했던 모든 말 저 하늘 위로 ', '한번도 못했던 말 ', '울면서 할 줄은 나 몰랐던 말 ', '나는요 오빠가 좋은걸 ', '어떡해 ', '이런 나를 보고 ', '그런 슬픈 말은 하지 말아요 ', '철없는 건지 조금 둔한 건지 ', '믿을 수가 없는걸요 ', '눈물은 나오는데 활짝 웃어 ', '네 앞을 막고서 막 크게 웃어 ', '내가 왜 이러는지 부끄럼도 없는지 ', '자존심은 곱게 접어 하늘위로 ', '한 번도 못했던 말 ', '어쩌면 다신 못할 바로 그 말 ', '나는요 오빠가 좋은걸 ', '아이쿠 하나 둘 ', \"I'm in my dream \", \"It's too beautiful beautiful day \", 'Make it a good day ', \"Just don't make me cry \", '이렇게 좋은 날']\n"
          ]
        },
        {
          "output_type": "stream",
          "name": "stderr",
          "text": [
            "\r571it [4:35:03, 38.23s/it]"
          ]
        },
        {
          "output_type": "stream",
          "name": "stdout",
          "text": [
            "48\n",
            "['Monday Better day', '처음처럼 설레이는 그런 날', 'Sunday Better day', '종일 너만 생각하는 그런 날', '욕심이 나', '우리 사이 요만큼만 더 가까이', '딱 한 발짝 그만큼 더 가까이', '혼잣말이 속삭임이', '너도 궁금할 순 있잖아', '네가 좋아서 그래', '나 차가운 척 표정 짓고 있지만', '내 마음은 그게 아닌데 거짓말인데', '바보 같은 네가 난 답답해', '너무 좋아서 그래', '나 시무룩한 얼굴하고 있지만', '또 기다리다 고민만 하다', '흘러가는 하루 끝에서 하는 말', '내가 널 사랑해', 'One day Holiday', '혼자 있긴 너무너무 싫은 날', 'One day Cloudy day', '울 것처럼 하늘도 찌푸린 날', '눈물이 와 서글픈 내 맘을 닮은 ', '눈물이 와', '꾹 참았다 쏟아지는 내 맘이 ', '온 하늘에 온 세상에', '그저 슬픈 건 아닐 거야', '네가 좋아서 그래', '나 차가운 척 표정 짓고 있지만', '내 마음은 그게 아닌데 거짓말인데', '바보 같은 네가 난 답답해', '너무 좋아서 그래', '나 시무룩한 얼굴하고 있지만', '또 기다리다 고민만 하다', '흘러가는 하루 끝에서 하는 말', '내가 널 사랑해', '내 입술엔 거짓말', '내 눈 속엔 정말 하고픈 말', '맘속에 숨어 있는 말', '많이 좋아서 그래', '뒤돌아서 느려진 발걸음을 봐', '널 기다리는 맘인 거잖아 ', '날 지켜본 너라면 알잖아', '내가 몰라서 그래', '네 마음이 들리게 내게 말해줘', '손 내밀면 될 것 같은데', '망설이는 이유가 나와 같다면', '이제 다가와 줘']\n"
          ]
        },
        {
          "output_type": "stream",
          "name": "stderr",
          "text": [
            "\r572it [4:35:37, 37.17s/it]"
          ]
        },
        {
          "output_type": "stream",
          "name": "stdout",
          "text": [
            "81\n",
            "['난 너를 사랑해', \"Let's go\", 'Yes sir', \"We're back again with 이문세\", \"That's right\", 'Fresh celebration 2008', \"It's bigbang\", 'ye ye bust it', '그댄 아시나요 있잖아요', '지금 그대가 너무 그리워요', '고개 숙여 눈물 훔쳐요', '당신의 이름을 불러요', '꼭 이렇게 날 남겨두고', '떠나가야만 했는지', '너만 생각하면 머리 아퍼', '독하디 독한 술 같어', '술 뿐이겠어 병이지', '매일 앓아누워 몇 번인지', '내일이면 또 잠깐 잊었다가 또', '모레쯤이면 생각나겠지만', '그래도 어떡해', '아직 내 사랑 유효한데', '돌아올 거라고 믿는데', '난 너만 기다리는데', '난 너를 사랑해', 'Oh I love you girl', '이 세상은 너 뿐이야', '소리쳐 부르지만', '저 대답 없는 노을만 붉게 타는데', '혹시 그대가 미안해한다면', '내 얼굴 보기 두렵다면', 'Girl 그런 걱정 하덜덜덜 마', '너라면 힘이 펄펄펄 나', '보고 싶은 그대 얼굴', '저 붉은 노을을 닮아', '더 슬퍼지는 걸', 'Oh baby baby', '다 지나간 시간', '우리가 함께한 추억', '잊진 말아줘요 눈을 감아', '소리 없이 날 불러준다면', '언제라도 달려 갈께요', 'Everyday everynight', 'I need you', '난 너를 사랑해', 'Oh I love you girl', '이 세상은 너 뿐이야', '소리쳐 부르지만', '저 대답 없는 노을만 붉게 타는데', '아름다웠던 그대 모습을', '이젠 볼 순 없겠지만', '후횐 없어 그저 바라볼 수 있게', '붉게 타주오', 'Ah Ah Ah Ah Ah Ah Ah Ah', \"Let's go\", 'Ah Ah Ah Ah Ah Ah Ah Ah', '해가 뜨고 해가 지네', '노을 빛에 슬퍼지네', '달이 뜨고 달이 지네', '세월 속에 나 또한 무뎌지네', '해가 뜨고 해가 지네', '노을 빛에 슬퍼지네', '달이 뜨고 달이 지네', '그대 기억 또한 무뎌지네', '난 너를 사랑해', 'Oh I love you girl', '이 세상은 너 뿐이야', '소리쳐 부르지만', '저 대답 없는 노을만 붉게 타는데', '난 너를 사랑해', 'I love you girl', '이 세상은 너 뿐이야', '소리쳐 부르지만', '저 대답 없는 노을만 붉게 타는데', 'Once again', 'Ah Ah Ah Ah Ah Ah Ah Ah', \"Let's go\", 'Ah Ah Ah Ah Ah Ah Ah Ah', 'big bang', ' ', ' ']\n"
          ]
        },
        {
          "output_type": "stream",
          "name": "stderr",
          "text": [
            "\r573it [4:36:35, 43.45s/it]"
          ]
        },
        {
          "output_type": "stream",
          "name": "stdout",
          "text": [
            "73\n",
            "['분위기 살려 어머 사람 살려', \"Let's give it up\", 'live it up baby', '나팔바지', '세상이 나를 뭐라 판단해도', '그냥 사는 거야 생긴 대로', '나팔바지를 입고서', '짝다리를 짚고서', '한쪽 다리를 떨면서', '건들건들 거리면서', '멋있진 않지만 가끔 멋지지 나', '웃긴 놈이지만 우습진 않지 나', '맛이 안 가지', '나 원래 맛 간 놈이니까', '얼굴 두껍지만 지갑도 두껍지 나', '내 신발은 광이 나지', '내 여자는 쌈빡하지', '내 어깨 뽕 들어가지', '내 바지는 나팔바지', '나팔바지 에헤라디야', '나팔나팔나팔', '나팔바지 에헤라디야', '나팔나팔나팔', '밤새고 달려 아무도 못 말려', 'everybody 날라리들의 파티', '분위기 살려 어머 사람 살려', \"Let's give it up\", 'live it up baby', '나팔바지', '애쓴다고 안될 게 되지 않아', '걱정은 옆집 개나 줘버려', '에너지 모아 모아서', '파도 한잔 돌리고', '신나면 허리 돌리고', 'would u shut up and let it go', '틀린 게 아니야 다른 것뿐이야', '판단을 하지마 그냥 느끼라니까', '다르다고 틀리다고', '하지말란 말씀이야', '인마 인마 하지마 ', '듣는 인마 기분 나빠 인마 ', '내 신발은 광이 나지', '내 여자는 쌈빡하지', '내 어깨 뽕 들어가지', '내 바지는 나팔바지', '나팔바지 에헤라디야', '나팔나팔나팔', '나팔바지 에헤라디야', '나팔나팔나팔', '밤새고 달려 아무도 못 말려', 'everybody 날라리들의 파티', '분위기 살려 어머 사람 살려', \"Let's give it up\", 'live it up baby', '나팔바지', '나팔바지', '이팔청춘 이판사판 도개걸윷모 중에', \"모 아니면 도 Let's go\", '이팔청춘 이판사판 도개걸윷모 중에', \"모 아니면 도 Let's go\", '도개걸윷모 중에', \"모 아니면 도 Let's go\", '내 바지는 나팔바지', '나팔바지 에헤라디야', '나팔나팔나팔', '나팔바지 에헤라디야', '나팔나팔나팔', '밤새고 달려 아무도 못 말려', 'everybody 날라리들의 파티', '분위기 살려 어머 사람 살려', \"Let's give it up\", 'live it up baby', '나팔바지']\n"
          ]
        },
        {
          "output_type": "stream",
          "name": "stderr",
          "text": [
            "\r574it [4:37:28, 46.28s/it]"
          ]
        },
        {
          "output_type": "stream",
          "name": "stdout",
          "text": [
            "61\n",
            "['I remember very first time in love ', 'I remember oh oh ', 'I remember oh oh ', \"너도 같은 기분일까 so I'm in love \", 'I remember oh oh ', 'I remember oh ', '어머 이래도 되는지 싶어 aha ', '그래 너 때문에 매일 즐거워 ', '조금 서두르는 것 같아도 baby ', 'I need your love oh oh ', 'I need your love oh oh oh ', '심장이 훅 내려앉게 달콤해 ', '가끔은 상처받을까 걱정돼 ', '처음부터 모든 걸 알 순 없겠지 ', '하지만 난 다 던져볼래 ', '자꾸 아찔한 이 느낌 ', '위험한 이 느낌 ', '내 손을 꼭 잡아줘 I want you ', '흔들리지 않게 조금 더 뜨겁게 ', '나를 꼭 더 안아줘 ', '넌 롤러코스터 ooh ahh ', '롤러코스터 uh woh ahh', 'I need your love ooh ahh', 'baby your love uh woh ahh', '빤히 바라볼 때 가슴이 떨려', '아닌 척 해봐도 뻔히 다 걸려', '내가 먼저 말하지 않아도', '이미 다 알아', '넌 내 맘과 같아 aha', '너무 빠른 건 아닐까 싶어 aha', '근데 너 때문에 매일 새로워', '조금 서툴러도 눈 감아줘 baby', 'I need your love oh oh', 'I need your love oh oh oh', '시간이 멈춘 것처럼 달콤해', '갑자기 날 떠날까 봐 걱정돼', '처음부터 모든 걸 알 순 없겠지', '하지만 난 다 던져볼래', '자꾸 아찔한 이 느낌', '위험한 이 느낌', '내 손을 꼭 잡아줘 I want you', '흔들리지 않게 조금 더 뜨겁게', '나를 꼭 더 안아줘', '넌 롤러코스터 ooh ahh', '롤러코스터 uh woh ahh', 'I need your love ooh ahh', 'Baby your love uh woh ahh', '어쩌다 찾아온 내 사랑', 'I love you I love you', '모든 게 꿈이 아니기를', 'I love you I love you', 'Look', '넌 롤러코스터 ooh ahh', '넌 롤러코스터 baby', '롤러코스터 uh woh ahh', '롤러코스터 baby', 'I need your love ooh ahh', 'baby I need you love', 'baby your love uh woh ahh', '롤러코스터', '롤러코스터']\n"
          ]
        },
        {
          "output_type": "stream",
          "name": "stderr",
          "text": [
            "\r575it [4:38:11, 45.30s/it]"
          ]
        },
        {
          "output_type": "stream",
          "name": "stdout",
          "text": [
            "57\n",
            "['There’s something to tell you', 'You want me to share it with you', 'STAYC girls it’s going down', '오늘 유난히 티가 더 나는 걸', '모두 쳐다보는 게 다 보여', '왠지 그럴수록 더 난 당당해져', '기분 좋아지는 걸', '머릴 넘기며 어디든 지나가네', '내 달콤한 향수가 흩날리게 Yeah', '항상 날 꾸미는 게 좋아', '예쁜 게 좋아 근데 들어봐 Yeah', '나도 알아 내 모습이', '이뻐 보일지도 당돌한 걸지도', '자꾸만 널 유혹하듯', '보이겠지만 미안하지만', '색안경을 끼고 보지 마요', '난 좀 다른 여자인데', '겉은 화려해도 아직 두려운 걸', 'You should know', 'I’m a good girl yeah', '너무 세게 안으면 숨 막혀요', '조금 서투를지도 난 아직도', '색안경을 끼고 보지 마요', 'Oh baby baby baby', '패션은 과감한 게 좋아 Like it uh huh', '튀는 게 좋아 어떻게든 소화 Yeah', '가끔 나조차 진짜 내 맘을 몰라', '그런 나지만', '나도 알아 내 모습이', '이뻐 보일지도 당돌한 걸지도', '자꾸만 널 유혹하듯', '보이겠지만 미안하지만', '색안경을 끼고 보지 마요', '난 좀 다른 여자인데', '겉은 화려해도 아직 두려운 걸', 'You should know', 'I’m a good girl yeah', '너무 세게 안으면 숨 막혀요', '조금 서투를지도 난 아직도', '색안경을 끼고 보지 마요', 'Oh baby baby baby', 'Alright alright 드러나는 모습뿐인걸', 'Oh why oh why', '눈으로만 날 판단하지 않길', 'Oh 꾸미지 않은 내 모습', 'Oh 있는 그대로의 모습', '좋아해 줘 아직 여린 내 맘', '꼭 알아줬으면 해', '색안경을 끼고 보지 마요', '난 좀 다른 여자인데', '겉은 화려해도 아직 두려운 걸', 'You should know', 'I’m a good girl yeah', '너무 세게 안으면 숨 막혀요', '조금 서투를지도 난 아직도', '색안경을 끼고 보지 마요', 'Oh baby baby baby']\n"
          ]
        },
        {
          "output_type": "stream",
          "name": "stderr",
          "text": [
            "\r576it [4:38:51, 43.67s/it]"
          ]
        },
        {
          "output_type": "stream",
          "name": "stdout",
          "text": [
            "40\n",
            "['시곌 보며 속삭이는 비밀들', '간절한 내 맘속 이야기', '지금 내 모습을 해쳐도 좋아', '나를 재촉하면 할수록 좋아', '내 이름 불러줘', '손 틈새로 비치는 내 맘 ', '들킬까 두려워', '가슴이 막 벅차 서러워', '조금만 꼭 참고 날 기다려줘', '너랑 나랑은 지금 안되지', '시계를 더 보채고 싶지만', '네가 있던 미래에서', '내 이름을 불러줘', '내가 먼저 엿보고 온 시간들', '너와 내가 함께였었지', '나랑 놀아주는 그대가 좋아', '내가 물어보면 그대도 좋아', '내 이름이 뭐야', '손 틈새로 비치는 내 맘 ', '들킬까 두려워', '가슴이 막 벅차 서러워', '조금만 꼭 참고 날 기다려줘', '너랑 나랑은 지금 안되지', '시계를 더 보채고 싶지만', '네가 있던 미래에서', '내 이름을 불러줘', '눈 깜박하면 어른이 될 거에요', '날 알아보겠죠 그댄 기억하겠죠', '그래 기묘했던 아이', '손 틈새로 비치는 네 모습 참 좋다', '손끝으로 돌리며 ', '시곗바늘아 달려봐', '조금만 더 빨리 날아봐', '두 눈을 꼭 감고 마법을 건다', '너랑 나랑은 조금 남았지', '몇 날 몇실진 모르겠지만', '네가 있을 미래에서', '혹시 내가 헤맨다면', '너를 알아볼 수 있게', '내 이름을 불러줘']\n"
          ]
        },
        {
          "output_type": "stream",
          "name": "stderr",
          "text": [
            "\r577it [4:39:19, 38.87s/it]"
          ]
        },
        {
          "output_type": "stream",
          "name": "stdout",
          "text": [
            "66\n",
            "['때가 왔어 오랜 기다림을 끝내', '움츠렸던 맘을 일으켜', '활짝 기지개를 켜 난 Ah', '눈빛은 어느샌가 짙어져 있는 걸', '나의 시간이 됐어', '아침에게 말해 Oh', '오늘이 좋을 것 같아', '이젠 아득했던 꿈들이 멀지가 않아', '오직 나를 위한 Woo', '축제를 열어볼 거야', '좋을 때란 거 그것 역시 내가 정해', '색색의 꽃을 피우고', '꽃가루가 흩날리면', '축제는 절정인 걸 끝나지 않을', '이건 Climax', '나의 모든 순간이 아름답고 눈부셔', '이거 하나만 기억해', '지금이라고', 'Fiesta 내 맘에 태양을 꾹 삼킨 채', '영원토록 뜨겁게 지지 않을게', '이 모든 계절', '나의 모든 계절 매일 화려한 이 축제', '한 번쯤은 꼭 놀러 와', \"It's my fiesta\", '온통 축제니까', \"It's my fiesta\", '이제부터가 난 시작이야', '더 기대해봐도 좋아', '더 뛰어올라 더 소리쳐봐', '이건 신기루가 아냐', '오래전부터 계속 상상해 왔던 걸', '특별해지는 너와 나', '별들에게 말해 Oh', '내일이 더 좋을 것 같아', '이젠 펼쳐지는 일들이 겁나지 않아', '오직 나를 위한 Woo', '축제를 이어갈 거야', '날 감싸 안은 낯선 향기 더 새롭게', '색색의 꽃을 피우고', '꽃가루가 흩날리면', '축제는 절정인 걸 끝나지 않을', '이건 Climax', '나의 모든 순간이 아름답고 눈부셔', '이거 하나만 기억해', '지금이라고', 'Fiesta 내 맘에 태양을 꾹 삼킨 채', '영원토록 뜨겁게 지지 않을게', '이 모든 계절', '나의 모든 계절 매일 화려한 이 축제', '한 번쯤은 꼭 놀러 와', 'Fiesta', '눈을 감아 멈춰있던 나를 깨워', '내 안의 나를 천천히 안아주면', '여러 색깔들로 더 내가 빛날 때면', '매일 그려왔던 진짜 내 모습 가까이', '지금이라고', 'Fiesta 내 맘에 태양을 꾹 삼킨 채', '영원토록 뜨겁게 지지 않을게', '이 모든 계절', '나의 모든 계절 매일 화려한 이 축제', '한 번쯤은 꼭 놀러 와', \"It's my fiesta\", '날 비춰줘 지금 날', '온통 축제니까', '지금 이 순간 나를 춤추게 해', \"It's my fiesta\"]\n"
          ]
        },
        {
          "output_type": "stream",
          "name": "stderr",
          "text": [
            "\r578it [4:40:06, 41.33s/it]"
          ]
        },
        {
          "output_type": "stream",
          "name": "stdout",
          "text": [
            "56\n",
            "['겨울이 가고 봄이 찾아오죠', '우린 시들고', '그리움 속에 맘이 멍들었죠', 'I’m singing my blues', '파란 눈물에 파란 슬픔에 길들여져', 'I’m singing my blues', '뜬구름에 날려보낸 사랑 oh oh', '같은 하늘 다른 곳 너와나', '위험하니까 너에게서 떠나주는 거야', '님이란 글자에 점하나 비겁하지만', '내가 못나 숨는 거야', '잔인한 이별은 사랑의 말로', '그 어떤 말도 위로 될 수는 없다고', '아마 내 인생의 마지막 멜로', '막이 내려오네요 이제', '태어나서 널 만나고 죽을 만큼', '사랑하고', '파랗게 물들어 시린 내 마음', '눈을 감아도 널 느낄 수 없잖아', '겨울이 가고 봄이 찾아오죠', '우린 시들고', '그리움 속에 맘이 멍들었죠', 'I’m singing my blues', '파란 눈물에 파란 슬픔에 길들여져', 'I’m singing my blues', '뜬구름에 날려보낸 사랑 oh oh', '심장이 멎은 것 만 같아 전쟁이', '끝나고 그 곳에 얼어 붙은 너와나', '내 머릿속 새겨진 Trauma', '이 눈물 마르면', '촉촉히 기억하리 내 사랑', '괴롭지도 외롭지도 않아', '행복은 다 혼잣말', '그 이상에 복잡한 건 못 참아', '대수롭지 아무렇지도 않아', '별수없는 방황 사람들은 왔다 간다', '태어나서 널 만나고 죽을 만큼', '사랑하고', '파랗게 물들어 시린 내 마음', '너는 떠나도 난 그대로 있잖아', '겨울이 가고 봄이 찾아오죠', '우린 시들고', '그리움 속에 맘이 멍들었죠', '오늘도 파란 저 달빛아래에', '나 홀로 잠이 들겠죠', '꿈속에서도 난 그대를 찾아', '헤매이며 이 노래를 불러요', 'I’m singing my blues', '파란 눈물에 파란 슬픔에 길들여져', 'I’m singing my blues', '뜬구름에 날려보낸 사랑 ', 'I’m singing my blues', '파란 눈물에', '파란 슬픔에 길들여져', 'I’m singing my blues', '뜬구름에 날려보낸 사랑 oh oh']\n"
          ]
        },
        {
          "output_type": "stream",
          "name": "stderr",
          "text": [
            "\r579it [4:40:45, 40.79s/it]"
          ]
        },
        {
          "output_type": "stream",
          "name": "stdout",
          "text": [
            "45\n",
            "['어서 날 알아보길 바래 ', '나 없는 넌 안 되겠다고 말해 ', '깨고 또 깨어나도 ', '반복되는 깊고 슬픈 꿈 ', '내 머릴 쓰다듬고 ', '이제 괜찮다고 말해 ', '메마른 너의 눈빛은 ', 'make me crazy ', '둘 사이 파랗고 위태로운 ', '다리를 건너 ', '나밖에 몰랐었던 너 ', '사랑이 전부였던 나 ', '그곳으로 난 돌아가길 바래 ', '날 끌어당겨 작은 틈도 없게 해줘', '네게 안겨 지친 맘을 쉬고 싶어', '발이 땅에 닿지 않는 이별 위를 ', '혼자 허우적대며 걷지 않게 해줘 ', 'I walk on the moon in the air ', 'I walk on the moon in the air ', '바닥 출신의 신사가 널 원해 ', '이 신사는 never leave you lonely ', '오늘 낮 오늘 밤 아 오늘 다 ', '너한테 내줄래 무료로 다 전세 ', '내 동네로 와 도시를 나와줘 ', '도시의 공주님 나에게 맡겨 널 ', '걱정 마 돈 벌어 구매할래 니 시간 ', '말 안 할랬는데 ', '내가 스타래 서울시가 ', '널 탐하는 남자는 villain ', '영웅은 단번에 악당을 killin ', '야망이 가득한 난 그 후 널 안고 ', '총 모양 오른손을 한 채로 1llin ', 'Baby girl 나와 그댄 어려 ', '시간은 많잖아 ', '나와 몇 억 초를 세버려 ', 'Mooooah 오늘뿐여도 yes ', '죽을 때까지라면 더 yes princess ', '날 끌어당겨 작은 틈도 없게 해줘', '네게 안겨 지친 맘을 쉬고 싶어', '발이 땅에 닿지 않는 이별 위를', '혼자 허우적대며 걷지 않게 해줘', 'I walk on the moon in the air', 'I walk on the moon in the air', 'I walk on the moon in the air', 'I walk on the moon in the air']\n"
          ]
        },
        {
          "output_type": "stream",
          "name": "stderr",
          "text": [
            "\r580it [4:41:18, 38.23s/it]"
          ]
        },
        {
          "output_type": "stream",
          "name": "stdout",
          "text": [
            "108\n",
            "['새로워', '저 별에 닿은 듯이', '쏟아지는 반짝임', 'Eh eh eh', 'Fire and ice', '내 시간 위의 sparkle', '극적인 걸 난 원해', 'Eh eh eh', '내 심장은 뜨겁게 bam bam', '날 보는 시선들은 come come', '새로운 조각들로 이 도시를 조립해', 'Yeah 네 참견은 꺼둘게', 'We’re about to make big fuss', '이 구역의 rule을 mess', 'We’re gonna shut it down', 'Oh ', 'It’s gonna be ya ya ya', '내 안의 emotion 들로 이 어둠을 채워', 'Oh', '마음껏 펼쳐봐', 'Stand up', 'Head up', 'Hands up', '흐르는 이 느낌은 cool', '소리쳐 ah ya ya ya', 'woo', '반짝거려 what I do', '나답게 ah ya ya ya', '빛이 날 거야 차원이 다르게', 'Class is over', 'Shutdown', 'Shutdown', \"I'm a I'm a show\", 'Shutdown', 'Shutdown', '새로워진 나야', 'Shutdown', 'Shutdown', \"I'm a I'm a show     \", 'Shutdown', 'Shutdown ', 'Hey just come to me', '눈빛은 Black cat', '오묘하게 빛날 time', '시간 상잘 열고서', '비밀들을 꺼내 봐', '내 스타일 내 비주얼 내 여유와 내 자신감', '하나뿐인 보석 같은 발자국을 남겨봐', 'Oh', 'It’s gonna be ya ya ya', '내 안의 emotion 들로 이 어둠을 채워', 'Oh', '마음껏 펼쳐봐', 'Stand up', 'Head up', 'Hands up', '흐르는 이 느낌은 cool', '소리쳐 ah ya ya ya ', 'woo 반짝거려 what I do', '나답게 ah ya ya ya ', '빛이 날 거야 차원이 다르게', 'Class is over', 'Shutdown', 'Shutdown', \"I'm a I'm a show\", 'Shutdown', 'Shutdown', '새로워진 나야', 'Shutdown', 'Shutdown', \"I'm a I'm a show\", 'Shutdown', 'Shutdown', 'Hey just come to me', '까만색 가식은 벗어 버려', '따가운 참견들도', '난 이대로 좋아 ', '나 그대로 holic', \"Yeah Let's go\", '내 별들로 쌓아 시간의 top (ya)', '더 선명히 날 비추게 해 woo  ', 'Oh 나만의 별빛을 녹여 내 yeah', 'Oh dice or choice ', '내 안에 던져진 ', '그 느낌을 따라서', '난 나를 완성해 ', 'Oh choice! my voice', 'Go! get it', '내 안의 소리가 가득히 울리게 ', '흐르는 이 느낌은 cool', '소리쳐 ah ya ya ya', 'woo ', '반짝거려 what I do', '나답게 ah ya ya ya', '빛이 날 거야 차원이 다르게', 'Class is over', 'Shutdown', 'Shutdown', \"I'm a I'm a show\", 'Shutdown', 'Shutdown', '새로워진 나야', 'Shutdown', 'Shutdown', \"I'm a I'm a show\", 'Shutdown', 'Shutdown', 'Hey just come to me']\n"
          ]
        },
        {
          "output_type": "stream",
          "name": "stderr",
          "text": [
            "\r581it [4:42:33, 49.43s/it]"
          ]
        },
        {
          "output_type": "stream",
          "name": "stdout",
          "text": [
            "42\n",
            "['I’ve got a message message', '나 지금 심심해란 말이 툭', '내 손이 바빠 바빠', '대화가 끊기지 않게', '맞춰가고 싶어 너에게 가로세로처럼', '취향을 말해줘 널 알아가게', '마음과 마음이 닿게', '손과 손이 닿게', '쉬다 가도 돼 넌 나의 품에 uh uh uh', '오늘 니 옆자리 나나나', '널 웃게 해 줄 사람 나나나', '기부니가 좋아 나나나', '모든 게 난 궁금해', 'Oh eh oh oh eh oh', 'Oh eh oh oh eh oh', '자꾸 실없이 웃음이나 픽픽', '천천히 줄어가는 우리의 거리 리', '택시 미터기 말이 걸어가듯 내 맘이', '조금 답답하지만', '참는 자에게 복이 있잖아 ay', '자연스레 시작해 서로에 대한 얘기', '어쩌면 아찔한 얘기들 까지도', '모든 길은 열어둬 선은 지워놔 줘', '짓궂어도 뭐 어때 이대로 좋잖아', '오늘 니 옆자리 나나나', '널 웃게 해 줄 사람 나나나', '기부니가 좋아 나나나', '모든 게 난 궁금해', 'Oh eh oh oh eh oh', 'Oh eh oh oh eh oh', '아마 우린 같은 생각', '하고 있는 것 같은데', '대체 뭐가 망설여져', '조금씩 맘을 풀어놔도 돼', '알고 싶어져 너의 모든 게 다', '사소하더라도 알려줘 네 모든 걸', '오늘 니 옆자리 나나나', '널 웃게 해 줄 사람 나나나', '기부니가 좋아 나나나', '모든 게 난 궁금해', 'Oh eh oh oh eh oh', 'Oh eh oh oh eh oh']\n"
          ]
        },
        {
          "output_type": "stream",
          "name": "stderr",
          "text": [
            "\r582it [4:43:02, 43.27s/it]"
          ]
        },
        {
          "output_type": "stream",
          "name": "stdout",
          "text": [
            "44\n",
            "['다가서지 못하고 헤매이고 있어', '좋아하지만 다른 곳을 보고 있어', '가까워 지려고 하면 할수록', '멀어져 가는 우리 둘의 마음처럼', '만나지 못해 맴돌고 있어', '우린 마치 평행선처럼', '말도 안돼 우린 반드시 만날 거야', '기다릴게 언제까지나', '미처 말하지 못했어', '다만 너를 좋아했어', '어린 날의 꿈처럼 마치 기적처럼', '시간을 달려서', '어른이 될 수만 있다면', '거친 세상 속에서 손을 잡아줄게', '다가서려 해봐도 엇갈리고 있어', '좋아한단 말도 아직 못하고 있어', '머뭇거리는 널 보고 있으면', '우린 아직도 많이 어리긴 한가 봐', '좁혀지지 않아 한 끗 차이', '우린 마치 평행선처럼', '언젠가는 못다한 말을 전할 거야', '다가갈게 언제까지나', '미처 말하지 못했어', '다만 너를 좋아했어', '어린 날의 꿈처럼 마치 기적처럼', '시간을 달려서', '어른이 될 수만 있다면', '거친 세상 속에서 손을 잡아줄게', '시간 속에 갇혀 길을 헤매여도', '그렇지만 우린 결국 만날 거야', '진심인 것만 알아줘 정말', '서툴기만 한대도', '미처 말하지 못했어', '다만 너를 좋아했어', '어린 날의 꿈처럼 마치 기적처럼', '시간을 달려서', '어른이 될 수만 있다면', '거친 세상 속에서 너를 안아줄게', '이거 하나만 약속해', '변치 않기를 바랄게', '그때도 지금처럼 날 향해 웃어줘', '시간이 흘러서', '어른이 될 수만 있다면', '엇갈림 그 속에서 손을 잡아줄게']\n"
          ]
        },
        {
          "output_type": "stream",
          "name": "stderr",
          "text": [
            "\r583it [4:43:32, 39.36s/it]"
          ]
        },
        {
          "output_type": "stream",
          "name": "stdout",
          "text": [
            "70\n",
            "['왜 자꾸 날 연구해', '아인슈타인도 아니고', '왜 그렇게 각을 재', 'sin, cos도 아니고', '밀고 당기는 게', '내 스타일은 더 아니고', '알아보다 말 거면', '눈에 밟히지나 마 좀 제발', '넌 생각이 많아 문제야 문제', '머릿속만 들여다보면 뭐 해', '각 잴 시간에 답 낼 시간에', 'Better make a move', ' ', \"Love ain't a science  \", 'Don’t need no license', '머리 싸매고 고민할수록 Minus', 'Don’t try to be a genius', 'Why so serious?', '맘이 가는 대로 Wooah', '맘이 시킨 대로 What u, what u waiting for?', ' ', '그래 뭘 알아냈어?', '그동안 나에 대해', '다음 과목은 뭐야?', 'So what’s the next class, then?', '백날 연구해봤자 이런 식이면 Failure', '분 단위로 바뀌어대는 ', '내 맘은 못 풀어낼걸', ' ', '넌 생각이 많아 문제야 문제', '머릿속만 들여다보면 뭐 해', '각 잴 시간에 답 낼 시간에', 'Better make a move', ' ', \"Love ain't a science  \", 'Don’t need no license', '머리 싸매고 고민할수록 Minus', 'Don’t try to be a genius', 'Why so serious?', '맘이 가는 대로 Wooah', '맘이 시킨 대로 What u, what u waiting for?', 'You got a crush on me', \"You're gonna fall for me\", '사랑 앞에서 이론이 무슨 소용, It’s all useless, uh-huh', ' ', '이론 빠삭한 Genius 아인슈타인', '보단 불도저 Curious 프랑켄슈타인', '처럼 돌진해 서툰데 멋지네', '거침없이, 세게 Rush', 'Got a crush on me', ' ', '답이 없어 재미있는 걸 넌 왜 몰라', '답을 몰라 설레었던 걸 넌 왜 몰라', '나사 하나 빠진 것처럼 사랑하자', '딱 하나만 아는 바보 된 것처럼', ' ', \"Love ain't a science, uhm-uhm\", 'Need no license, uhm-uhm', '연구해 About me ‘bout me', '충분히 You know ‘bout me', \"Love ain't a science, uhm-uhm\", 'Need no license, uhm-uhm', '말했잖아 What u, what u, what u waiting for?', \"Love ain't a science  \", 'Don’t need no license', '머리 싸매고 고민할수록 Minus', 'Don’t try to be a genius', 'Why so serious?', '맘이 가는 대로 Wooah', '맘이 시킨 대로 What u, what u waiting for?']\n"
          ]
        },
        {
          "output_type": "stream",
          "name": "stderr",
          "text": [
            "\r584it [4:44:20, 41.90s/it]"
          ]
        },
        {
          "output_type": "stream",
          "name": "stdout",
          "text": [
            "48\n",
            "['전해 주고 싶어 슬픈 시간이', '다 흩어진 후에야 들리지만', '눈을 감고 느껴 봐 움직이는 마음', '너를 향한 내 눈빛을', '특별한 기적을 기다리지 마', '눈앞에선 우리의 거친 길은  ', '알 수 없는 미래와 벽 바꾸지 않아', '포기할 수 없어', '변치 않을 사랑으로 지켜 줘', '상처 입은 내 맘까지 ', '시선 속에서 말은 필요 없어', '멈춰져 버린 이 시간', '사랑해 널 이 느낌 이대로', '그려 왔던 헤매임의 끝', '이 세상 속에서 반복되는', '슬픔 이젠 안녕', '수많은 알 수 없는 길 속에', '희미한 빛을 난 쫓아가', '언제까지라도 함께하는 거야  ', '다시 만난 나의 세계', '특별한 기적을 기다리지 마', '눈앞에선 우리의 거친 길은  ', '알 수 없는 미래와 벽 바꾸지 않아', '포기할 수 없어', '변치 않을 사랑으로 지켜 줘', '상처 입은 내 맘까지 ', '시선 속에서 말은 필요 없어', '멈춰져 버린 이 시간', '사랑해 널 이 느낌 이대로', '그려 왔던 헤매임의 끝', '이 세상 속에서 반복되는', '슬픔 이젠 안녕', '수많은 알 수 없는 길 속에', '희미한 빛을 난 쫓아가', '언제까지라도 함께하는 거야', '다시 만난 우리의', '이렇게 까만 밤 홀로 느끼는', '그대의 부드러운 숨결이', '이 순간 따스하게 감겨 오네', '모든 나의 떨림 전할래', '사랑해 널 이 느낌 이대로', '그려 왔던 헤매임의 끝', '이 세상 속에서 반복되는', '슬픔 이젠 안녕', '널 생각만 해도 난 강해져', '울지 않게 나를 도와 줘', '이 순간의 느낌 함께하는 거야 ', '다시 만난 우리의']\n"
          ]
        },
        {
          "output_type": "stream",
          "name": "stderr",
          "text": [
            "\r585it [4:44:54, 39.58s/it]"
          ]
        },
        {
          "output_type": "stream",
          "name": "stdout",
          "text": [
            "75\n",
            "['hey playboy', \"it's about time and your time's up\", 'I had to do this one for my girls', 'you know', 'sometime you gotta act like', \"you don't care\", \"that's the only way you boys learn\", 'Oh oh oh oh oh oh 2ne1', 'Oh oh oh oh oh oh 2ne1', '니 옷깃에 묻은 립스틱들', '나는 절대로 용서못해', '매일 하루에 수십번 꺼져있는 핸드폰', '변하지 않을 것만 같아 oh oh', '그저 친구라는 수많은 여자친구', '날 똑같이 생각하지 마', \"I won't let it fight\", '이제 니 맘대로 해 난 미련은 버릴래', '한땐 정말 사랑했는데 oh oh', '가끔씩 술에 취해 전활 걸어', '지금은 새벽 다섯시 반', '넌 또 다른 여자애 이름을 불러', 'no no', \"I don't care 그만할래\", '니가 어디에서 뭘 하던', '이제 정말 상관 안할게 비켜줄래', '이제와 울고불고 매달리지마', \"cause I don't care e e e e e\", \"I don't care e e e e e\", \"cause I don't care e e e e e\", \"I don't care e e e e e\", \"Boy I don't care\", '다른 여자들의 다리를 훔쳐보는', '니가 너무너무 한심해', '매일 빼놓는 커플링', '나 몰래 한 소개팅', '더 이상 못 참을 것 같아 oh oh', '넌 절대 아니라는 수많은 나의 친구', '난 너 땜에 친구들까지 다 잃었지만', '차라리 홀가분해 너에게 난 과분해', '내 사랑이라 믿었는데 oh oh', '오늘도 바쁘다고 말하는 너', '혹시나 전화해봤지만', '역시 뒤에선 여자 웃음소리가 들려', 'oh no', \"I don't care 그만할래\", '니가 어디에서 뭘 하던', '이제 정말 상관 안할게 비켜줄래', '이제와 울고불고 매달리지마', \"cause I don't care e e e e e\", \"I don't care e e e e e\", \"cause I don't care e e e e e\", \"I don't care e e e e e\", \"Boy I don't care\", '난 너 땜에 울며 지새던', '밤을 기억해 boy', '더 후회할 날 생각하면', '맘이 시원해 boy', '날 놓치긴 아깝고 갖기엔 시시하잖니', '있을 때 잘하지', '너 왜 이제와 매달리니', '속아준 거짓말만 해도 수백번', '오늘 이후로 난 남자 울리는 bad girl', '이젠 눈물 한방울 없이 널 비웃어', '사랑이란 게임 속 loser', '무릎꿇고 잘못을 뉘우쳐', '아님 눈 앞에서 당장 꺼져', \"I don't care 그만할래\", '니가 어디에서 뭘 하던', '이제 정말 상관 안할게 비켜줄래', '이제와 울고불고 매달리지마', \"you know I don't care e e e e e e\", \"I don't care e e e e e\", \"I don't care e e e e e\", \"I don't care e e e e e\", \"Boy I don't care\"]\n"
          ]
        },
        {
          "output_type": "stream",
          "name": "stderr",
          "text": [
            "\r586it [4:45:46, 43.33s/it]"
          ]
        },
        {
          "output_type": "stream",
          "name": "stdout",
          "text": [
            "119\n",
            "['yes ', 'bigbang is back ', 'most definitely ', 'hey move ', 'b to the i to g bang bang ', 'b to the i to g bang bang ', 'b to the i to g bang bang ', 'about love ', \"i don't wanna be with \", 'out you girl ', '마지막 인사는 접어두길 바래 ', '오늘 단 하루만큼은 ', \"i don't wanna be with \", 'out you girl 내 서툰 마음 ', '까지 안고 가줘 ', 'i love you i need you girl ', 'baby baby baby ', '조금 어색하지만 서로 ', 'baby baby baby ', '아직 사랑하고 있는데 ', 'baby baby baby ', '두렵기는 하지만서도 ', '끝이 보이지만 ', '난 그래도 only you girl ', '상처만 가득히 ', '모질게 날 대하던 너 ', '어르고 달래 또 ', '반복돼 널 피하던 나  ', '어디서부터 ', '어긋났을까 기나긴 고민 ', '해답없는 문제속에 헤매여 난  ', '미로 미로 속에 갇힌 ', '길 잃은 방랑자 ', '마냥 이도저도 못해 난 마냥 ', '기다리기만 할 뿐 ', '사뿐 사뿐히 내게 ', '다가와주길 girl ', '우리 처음 만난 때 처럼 ', '풋풋하던 그때 처럼 ', '이런 이런 이런 저런 저런 저런 ', '너와 내 사이의 끈 ', '절대 놓지 말어 ', \"i don't wanna be with \", 'out you girl ', '마지막 인사는 접어두길 바래 ', '오늘 단 하루만큼은 ', \"i don't wanna be with \", 'out you girl 내 서툰 마음 ', '까지 안고 가줘 ', 'i love you i need you girl ', 'baby baby baby ', '조금 어색하지만 서로 ', 'baby baby baby ', '아직 사랑하고 있는데 ', 'baby baby baby ', '두렵기는 하지만서도 ', '끝이 보이지만 ', '난 그래도 only you girl ', '아무런 말 없이 떠나 연락없고 ', '아무 말 않고 ', '그러다 어느날 갑자기 나타나고 ', '무슨 일 있었냔 듯 ', '날 갖고 노는 건지 ', '이게 사랑이 맞는 건지 ', '하루에도 열두번 더 헷갈리고 ', 'about love ', '한 두번 갖고 놀던 장난감 ', '넌 뭘 원했냐고 되물어봤어 ', '달콤함은 아주 잠깐 ', '우린 너무쉽게 녹아버린 솜사탕 ', '지친 가슴 이젠 나도 ', '막지 못 할 것만 같아 ', '어서 날 잡아줘 떠나가기 전에 ', \"i don't wanna be with \", 'out you girl ', '마지막 인사는 접어두길 바래 ', '오늘 단 하루만큼은 ', \"i don't wanna be with \", 'out you girl 내 서툰 마음 ', '까지 안고 가줘 ', 'i love you i need you girl ', 'baby baby baby ', '조금 어색하지만 서로 ', 'baby baby baby ', '아직 사랑하고 있는데 ', 'baby baby baby ', '두렵기는 하지만서도 ', '끝이 보이지만 ', '난 그래도 only you girl ', '여전히 널 사랑하지만 ', '내게는 너무나 소중하지만 ye ', '누구도 네 자릴 ', '메꿀 수 없는걸 i know ', 'you know그냥 조용히 날 안아줘 ', \"i don't wanna be with \", 'out you girl ', '마지막 인사는 접어두길 바래 ', '오늘 단 하루만큼은 ', \"i don't wanna be with \", 'out you girl 내 서툰 마음 ', '까지 안고 가줘 ', 'i love you i need you girl ', 'baby baby baby ', '조금 어색하지만 서로 ', 'baby baby baby ', '아직 사랑하고 있는데 ', 'baby baby baby ', '두렵기는 하지만서도 ', '끝이 보이지만 ', '난 그래도 only you girl ', 'b to the i to g bang bang ', 'b to the i to g bang bang ', 'b to the i to g bang bang ', 'come on come on come on ', 'b to the i to g bang bang ', 'b to the i to g bang bang ', '끝이 보이지만 ', '난 그래도 only you girl ', 'about love ']\n"
          ]
        },
        {
          "output_type": "stream",
          "name": "stderr",
          "text": [
            "\r587it [4:47:08, 54.87s/it]"
          ]
        },
        {
          "output_type": "stream",
          "name": "stdout",
          "text": [
            "72\n",
            "['왔구나 2022년이 ', '딱 들어맞아 돌아올 타이밍이 ', '아다리가 아주 좋아요 ', '머리에 포마드 다시 바르고 싸이 빙의', 'INTRO부터 딱 각이 나와 ', '청진기 대면 진단이 나와 ', '제대로 조짐 대박 조짐 ', '쪼그라든 간땡이야 부어라 ', '20대에는 20대가 타깃', '30대에도 20대가 타깃 ', '40 하고도 절반이 지나버린 ', '이번 앨범도 20대가 타깃 ', '사실은 나 꼰대 맞아 ', '라떼는 이런 게 찢었단다 ', '롱런의 비결을 내게 물어보신다면 ', '딱 하나 존나 버텨 임마', '그래 나 22년 차 ', '너가 신나면 나도 신나 타고난 광대 팔자 ', '잘해 나 주제 파악', '가오 잡으면 가오 잡을수록 가오가 안 나 ', '9INTRODUCTION', '(Hey! Everybody!)', '9INTRODUCTION (Hey!) ', 'In In Introduction', '(Hey! Everybody!)', '9INTRODUCTION (Hey!)', '(From P NATION~!)', '새 됐다가 챔피언', '연예인이다 Right Now', 'Gentle 하게 강남스타일', '잘했네 잘했네 잘했어 ', '나팔바지의 DADDY', 'New Face I LUV IT', 'Celeb 그리고 That That', '잘했네 잘했네 잘했어 ', '뭔 놈의 앨범을 5년 만에 내 ', '올림픽보다 더 오랜만이네 ', '대박에 환상에 환장에 환자야 ', '좆뺑이까네 ', '나이를 요란하게 처먹었네 ', '주둥아리 오래도 써먹었네 ', '고민 번뇌 장고 끝에 ', '9집으로 빈집을 터네 ', '얼라들 마음 어른들은 몰라 ', '어른들 마음 얼라들은 몰라 ', '나 어른의 나이에 얼라짓 하기에 ', 'X Y M Z 같이 놀아 ', '싸이월드 싸이버거 ', '검색어를 셋이 나눠 먹어 ', '각성해서 나 각성했어 ', '각설하고 쎗바닥 열중쉬어 ', '그래 나 22년 차 ', '너가 신나면 나도 신나 타고난 광대 팔자 ', '잘해 나 주제 파악 ', '가오 잡으면 가오 잡을수록 가오가 안 나 ', '9INTRODUCTION', '(Hey! Everybody!)', '9INTRODUCTION (Hey!) ', 'In In Introduction', '(Hey! Everybody!)', '9INTRODUCTION (Hey!)', '(From P NATION~!)', '새 됐다가 챔피언', '연예인이다 Right Now', 'Gentle 하게 강남스타일', '잘했네 잘했네 잘했어 ', '나팔바지의 DADDY', 'New Face I LUV IT', 'Celeb 그리고 That That', '잘했네 잘했네 잘했어 ', '존나게 잘했어', '9INTRODUCTION']\n"
          ]
        },
        {
          "output_type": "stream",
          "name": "stderr",
          "text": [
            "\r588it [4:47:58, 53.28s/it]"
          ]
        },
        {
          "output_type": "stream",
          "name": "stdout",
          "text": [
            "82\n",
            "['Born to be a Thursday’s child', '가야 할 길이 많은 아이', '나를 기다릴 날들과 ', '발을 맞추러 go ', ' ', 'Born to be a Thursday’s child ', '눈물 위에서 피는 smile', '다시 펼쳐질 순간과 ', '눈을 맞추러 go ', ' ', '헤어지기 좋은 날', '월요일은 아닐걸', '주말이 너무 멀잖아', '엉망이 될걸 7 days', ' ', \"It's Thursday\", '목요일에 헤어져', '금요일엔 실컷 울어버리고', '토요일 밤에 기운을 내', '일요일 하루 더 있잖아', '떠나온 슬픔의 너머엔', '설렘만 가득 채워지게', '목요일의 아이라는 운명이 날', \"날 다시 걷게 하네 feelin' so good \", ' ', 'Born to be a Thursday’s child ', '가야 할 길이 많은 아이', '나를 기다릴 날들과 ', '발을 맞추러 go', ' ', 'Born to be a Thursday’s child ', '눈물 위에서 피는 smile', '다시 펼쳐질 순간과 ', '눈을 맞추러 go ', ' ', '다신 울지 않을래', '다신 울지 않을래', '다신 울지 않을래', ' ', '여기저기 눈에 띄어', '요즘 뜨는 trend가', '오늘의 hashtag #breakup', '그 뒤에 붙여 #glowup ', ' ', '길었던 눈물은 뒤로해', '걸어가 운명을 마주해', '목요일의 아이라는 낭만이 날', \"날 다시 웃게 하네 feelin' so good \", 'Born to be a Thursday’s child ', '가야 할 길이 많은 아이', '나를 기다릴 날들과 ', '발을 맞추러 go ', ' ', 'Born to be a Thursday’s child ', '눈물 위에서 피는 smile', '다시 펼쳐질 순간과 ', '눈을 맞추러 go ', '다신 울지 않을래', ' ', '괜찮은 것 같아', '무너졌던 맘이', '후련한 것 같아', '다시 만난 목요일 It’s okay ', ' ', '온 길보다 험하겠지만', '예측불허의 our life', '온 길보다 더 멀겠지만', '멋진 날들이 기다려 ', ' ', 'Born to be a Thursday’s child ', '이제부터가 시작이야 ', '나를 기다릴 날들과 ', '발을 맞추러 go ', ' ', 'Born to be a Thursday’s child ', '멀고 아득한 어딘가 ', '다시 펼쳐질 순간과 ', '눈을 맞추러 go ', ' ', '다신 울지 않을래', '다신 울지 않을래', '다신 울지 않을래']\n"
          ]
        },
        {
          "output_type": "stream",
          "name": "stderr",
          "text": [
            "\r589it [4:48:53, 53.83s/it]"
          ]
        },
        {
          "output_type": "stream",
          "name": "stdout",
          "text": [
            "68\n",
            "['Ooh I’m a lion I’m a queen', '아무도', '그래 Ooh', '날 가둘 수 없어 아픔도', '붉은 태양 아래 Fire', '파랗게 타는 Flower', '미지근한 너의 애를 태우게', '살짝 드러내는 Sharp claw', '달아오르는 상처', '발자국은 내 왕관을 맴돌게', '난 나의 눈을 가리고', '이 음악에 몸을 맡기고', '뻔한 리듬을 망치고', '사자의 춤을 바치고', '넌 나의 눈을 살피고', '이 음악에 몸이 말리고', '뜨거운 리듬에 갇히고', '사자에 춤을 바치고', 'It looks like a lion', 'I’m a queen like a lion', 'It looks like a lion', 'I’m a queen like a lion', '그 강인한 울음은', '너의 발을 내게 돌려', '이 넓은 황야 속 크고', '단단한 씨를 뿌려', '그 웅장한 부름은', '너의 맘을 내게 돌려', '이 깊은 바닷속까지', '거친 멜로딜 꽂아', '더 탐을 내지 말어', '자릴 지키는 Lion', '때로는 사나워 질지 모르니', '이제 환호의 음을 높여', '모두 고개를 올려', '어린 사자의 왕관을 씌우니', '난 나의 눈을 가리고', '이 음악에 몸을 맡기고', '뻔한 리듬을 망치고', '사자의 춤을 바치고', '넌 나의 눈을 살피고', '이 음악에 몸이 말리고', '뜨거운 리듬에 갇히고', '사자에 춤을 바치고', 'It looks like a lion', 'I’m a queen like a lion', 'It looks like a lion', 'I’m a queen like a lion', '쓸데없는 예의 따윈 물어뜯어', '편견이란 답답한', '우리는 무너뜨려', '감히 또 누가 날 막고', '또 누가 날 조종해', '조심해 다듬지 못한 발톱으로', '아무도 가본 적이 없는 개척하는 길', '뻔해 빠진 꼰대들은 혀를 차던 짓', '그걸 해내고서야 받는 박수는', '더 짜릿한 맛이지', '그걸 맛봤고 이제 부정할 수 없어', 'I’m a queen', 'It looks like a lion', 'I’m a queen like a lion', 'It looks like a lion', 'I’m a queen like a lion', 'Ooh I’m a lion I’m a queen', '아무도', '그래 Ooh', '길들일 수 없어 사랑도']\n"
          ]
        },
        {
          "output_type": "stream",
          "name": "stderr",
          "text": [
            "\r590it [4:49:40, 51.70s/it]"
          ]
        },
        {
          "output_type": "stream",
          "name": "stdout",
          "text": [
            "44\n",
            "['잠깐 누가 시간을 좀 멈춰봐', '뭔가 크게 어긋난 걸 난 느껴', '애써 어색하게 웃어보다', '이젠 그런 내가 안쓰러워', '아냐 괜찮다고 말하지만', 'Don’t know what to do without you', '하찮은 이곳에 홀로 남아', '그려본 네 기억은 Blue', '사람은 변해', '왜 나만 이래', '오늘처럼 예쁜 날에', '어떻게 이렇게 모든 게 벅차기만 해', 'Don’t know what to do', 'Don’t know what to do without you', 'Don’t know what to do without you', 'Don’t know what to do without you', 'You know I', 'Don’t know what to do', 'Don’t know what to do', '잠깐 왔다 떠난 사람들처럼', '그냥 우린 아니었던 거지 뭐', '혹시라도 전화가 울릴까 봐', '괜한 기댈 하는 내가 미워', '자꾸 똑딱 거리는 시계 소리가', '유난히 거슬려', '꽤나 멀쩡해 보이지만', 'Don’t know what to do without you', '이런 내 맘 거울에 들킬까 봐', '그려본 내 입술은 Blue', '혼자가 편해', '난 그냥 그래', '오늘처럼 예쁜 날에', '어떻게 이렇게 모든 게 벅차기만 해', 'Don’t know what to do', 'Don’t know what to do without you', 'Don’t know what to do without you', 'Don’t know what to do without you', 'You know I', 'Don’t know what to do', 'Don’t know what to do without you', '아냐 괜찮다고 말하지만', 'Don’t know what to do without you', '하찮은 이곳에 홀로 남아', '그려본 네 기억은 Blue']\n"
          ]
        },
        {
          "output_type": "stream",
          "name": "stderr",
          "text": [
            "\r591it [4:50:10, 45.33s/it]"
          ]
        },
        {
          "output_type": "stream",
          "name": "stdout",
          "text": [
            "59\n",
            "['Shoot! Take a Panorama', '바람 끝에 찾아온 작은 기억', '귓가에 퍼지는 깊은 울림 Ring my bell', '아름다운 내 맘을 한가득 담아서', '조금씩 은은히 줄거야', '너와 나 손끝이 닿을 때 Eyes on me', '내 맘이 들린다면 더 크게 외쳐줘', '조용히 시작된 한편의 Drama야', '간직했던 조각들을 펼쳐', '다시 한번 지나가는 그때 계절의 풍경', '못다 한 우리 이야기', '꿈일까 싶어 멈추지 않게 ', '두 눈을 감고 느껴봐 이 순간', 'Shoot! Take a Panorama', '깊은 어둠 속 빛나는 별처럼', '우린 어디서든 서로 알아볼 수 있어', '눈부신 Spotlight 너와 나 그 맘 속에', '영원히 피어날 찬란한 이 순간', 'Like Like a Panorama', '끝도 없이 두근대', '내 맘 변하지 않아 지금 같이 가자', '너에게만 보여줄게 끝도 없는 Fantasia', '내 맘 휘 휘감아 Panorama', '기억의 문을 열어 저 푸른 언덕 위에 ', '무지개 집으로 초대할게 밤에는 Campfire', '아쉬움 남지 않게 내게 전부 보여줘', '빛으로 물든 지금 영원해', '너의 꿈에 데려가 줘 Take on me', '작은 숨결 하나하나 놓치기 싫은 걸', '다 담아 둘 거야 너무나 특별해서', '네 눈 속에 반짝이는 Starlight', '다시 한번 지나가는 그때 계절의 풍경', '못다 한 우리 이야기', '꿈일까 싶어 멈추지 않게', '두 눈을 감고 느껴봐 이 순간', 'Shoot! Take a Panorama', '깊은 어둠 속 빛나는 별처럼', '우린 어디서든 서로 알아볼 수 있어', '눈부신 Spotlight 너와 나 그 맘 속에', '영원히 피어날 찬란한 이 순간', 'Like Like a Panorama', '끝도 없이 두근대', '내 맘 변하지 않아 지금 같이 가자', '너에게만 보여줄게 끝도 없는 Fantasia', '내 맘 휘 휘감아 Panorama', '바라봐 줘 언제나 언제나 하나 될 우리', '처음 만난 그 순간처럼 가슴이 두근대', '우린 끝없이 연결돼 있는 걸', '이제 같이 날아가', '깊은 어둠 속 빛나는 별처럼', '우린 어디서든 서로 알아볼 수 있어', '눈부신 Spotlight 너와 나 그 맘 속에', '영원히 피어날 찬란한 이 순간', 'Like Like a Panorama', '하늘 넘어 날아가', '온 세상에 이 목소리 퍼지게', '찰나의 순간 떠올라 다 보여줄 거야', '영원히 기억해 약속', \"Don't let me down Down Down\"]\n"
          ]
        },
        {
          "output_type": "stream",
          "name": "stderr",
          "text": [
            "\r592it [4:50:51, 43.98s/it]"
          ]
        },
        {
          "output_type": "stream",
          "name": "stdout",
          "text": [
            "74\n",
            "['매일 울리는 벨벨벨', '이젠 나를 배려 해줘', '배터리 낭비하긴 싫어', '자꾸만 봐 자꾸 자꾸만 와', '전화가 펑 터질 것만 같아', '몰라 몰라 숨도 못 쉰대', '나 때문에 힘들어', '쿵 심장이 떨어진대 왜', '걔 말은 나 너무 예쁘대', '자랑 하는건 아니구', '아 아까는 못 받아서 미안해', '친구를 만나느라 shy shy shy', '만나긴 좀 그렇구 미안해', '좀 이따 연락할게 later ', '조르지마 얼마 가지 않아', '부르게 해줄게 Baby', '아직은 좀 일러 내 맘 갖긴 일러', '하지만 더 보여줄래', 'CHEER UP BABY CHEER UP BABY', '좀 더 힘을 내', '여자가 쉽게 맘을 주면 안돼', '그래야 니가 날 더 좋아하게 될걸', '태연하게 연기할래 아무렇지 않게', '내가 널 좋아하는 맘 모르게', 'just get it together', 'and then baby CHEER UP', '안절부절 목소리가', '여기까지 들려', '땀에 젖은 전화기가', '여기서도 보여', '바로 바로 대답하는 것도', '매력 없어', '메시지만 읽고', '확인 안 하는 건 기본', '어어어 너무 심했나 boy', '이러다가 지칠까 봐', '걱정되긴 하고', '어어어 안 그러면 내가 더', '빠질 것만 같어 빠질 것만 같어', '아 답장을 못해줘서 미안해', '친구를 만나느라 shy shy shy', '만나긴 좀 그렇구 미안해', '좀 이따 연락할게 later ', '조르지마 어디 가지 않아', '되어줄게 너의 Baby', '너무 빨린 싫어 성의를 더 보여', '내가 널 기다려줄게', 'CHEER UP BABY CHEER UP BABY', '좀 더 힘을 내', '여자가 쉽게 맘을 주면 안돼', '그래야 니가 날 더 좋아하게 될걸', '태연하게 연기할래 아무렇지 않게', '내가 널 좋아하는 맘 모르게', 'just get it together', 'and then baby CHEER UP', '나도 니가 좋아 상처 입을까 봐', '걱정되지만 여자니까 이해해주길', '속 마음 들킬 까봐 겁이나', '지금처럼 조금만 더 다가와', '그리 오래 걸리진 않아', 'just get it together', 'and then baby CHEER UP ', 'Be a man a real man', 'gotta see u love me like a real man', 'Be a man a real man', 'gotta see u love me like a real man', 'CHEER UP BABY CHEER UP BABY', '좀 더 힘을 내', '여자가 쉽게 맘을 주면 안돼', '그래야 니가 날 더 좋아하게 될걸', '태연하게 연기할래 아무렇지 않게', '내가 널 좋아하는 맘 모르게', 'just get it together', 'and then baby CHEER UP']\n"
          ]
        },
        {
          "output_type": "stream",
          "name": "stderr",
          "text": [
            "\r593it [4:51:43, 46.43s/it]"
          ]
        },
        {
          "output_type": "stream",
          "name": "stdout",
          "text": [
            "71\n",
            "['내 나이 사십 babe', '울 엄마 귀한 자식 babe', '직업은 댄스 가수 babe', '15년째 딴따라', 'A yeah', '기술보다는 예술이 I LUV IT', '실력보다는 매력이 I LUV IT', '품격보다는 파격이 I LUV IT', '사치보다는 가치가 좋아 I LUV IT', '자신을 LUV IT 여러분도 LUV IT', '앞뒤 양옆 사람들 ', 'I LUV IT so much', '남 걱정에 잠은 자셨냐', '니 시방 밥은 자셨냐', '생선을 먹을 땐 가시 발라먹어', '수박을 먹을 때는 씨 발라먹어', '날 좋아하는 분들 내 사랑 먹어', '욕하고 모욕하고 그랬다 카더라 ', '카는 분들 모여 이거나 먹어', 'I LUV IT I LUV IT I LUV IT ', 'Oh yes', 'I LUV IT I LUV IT I LUV IT ', '유후', 'I LUV IT I LUV IT I LUV IT ', 'I LUV IT', '만사가 다 오케이야 ', '어절씨구 옹헤야', 'We like 2 party babe', '가끔은 추억 팔이 babe', '그 추억은 수억짜리 babe', '그 돈 줘도 안 팔아', 'A yeah', '개미보단 베짱이 I LUV IT', '반칙보단 변칙이 I LUV IT', '화풀이보단 뒤풀이 I LUV IT', '선비보단 좀비가 좋아 I LUV IT', '나의 fan LUV IT 안티 I LUV IT', '앞뒤 양옆 사람들', 'I LUV IT so much', '남 걱정에 잠은 자셨냐', '니 시방 밥은 자셨냐', '생선을 먹을 땐 가시 발라먹어', '수박을 먹을 때는 씨 발라먹어', '날 좋아하는 분들 내 사랑 먹어', '욕하고 모욕하고 그랬다 카더라 ', '카는 분들 모여 이거나 먹어', 'I LUV IT I LUV IT I LUV IT ', 'Oh yes', 'I LUV IT I LUV IT I LUV IT ', '유후', 'I LUV IT I LUV IT I LUV IT ', 'I LUV IT', '만사가 다 오케이야 ', '어절씨구 옹헤야', '난 극단적인 놈 중간을 몰라요', '이 정도는 껌 껌 껌 껌', '난 끝장 보는 놈 중간이 없어요', '누워서 떡 떡 떡 먹', '한번 더', 'I LUV IT I LUV IT I LUV IT ', 'Oh yes', 'I LUV IT I LUV IT I LUV IT ', '유후', 'I LUV IT I LUV IT I LUV IT ', 'I LUV IT', '만사가 다 오케이야 ', '어절씨구 옹헤야', '오오오오오오오 좋아 좋아 좋아 좋아', '오오오오오오오 참좋아 아주 좋아', '오오오오오오오 좋아 좋아 좋아 좋아', '오오오오오오오']\n"
          ]
        },
        {
          "output_type": "stream",
          "name": "stderr",
          "text": [
            "\r594it [4:52:33, 47.45s/it]"
          ]
        },
        {
          "output_type": "stream",
          "name": "stdout",
          "text": [
            "49\n",
            "['떨려오는 별빛 반짝이는데', '넌 어디를 보고 있는지', '금방이라도 사라질 것 같은데', '불을 켜줘 심장이 깜깜해', '오늘도 기분은 시무룩해', '너의 마음 안에 있는', '내 모습은 내 맘 같지 않아', '어느 틈에 놓쳐버린 걸까', '좋아하는 만큼 별은 떠오르고', '여전히 나는 어쩔 줄 모르고', '안개 속에 갇힌 그 말투 속에 담긴', '도무지 알 수 없는 니가 생각나는 밤', '떨려오는 별빛 반짝이는데', '넌 어디를 보고 있는지', '금방이라도 사라질 것 같은데', '기다렸던 시간이 지나고', '이제 보내줄게', '아냐 아직은 너를 내 방에', '몰래 몰래 간직하고 싶은 밤', '밤밤밤에 밤 하늘을 날아', 'as time time for the moon night', '꿈 속에서 너를 만나', '열렬한 사랑 고백 해볼까 해볼까', '창문 너머로 너를 계속', '불러보고 있어', '이렇게 너랑 나 우리 둘의 사이가', '조금 더 좁혀지길 기대하고 싶은 밤', '떨려오는 별빛 반짝이는데', '넌 어디를 보고 있는지', '금방이라도 사라질 것 같은데', '기다렸던 시간이 지나고', '이제 보내줄게', '아냐 아직은 너를 내방에', '몰래 몰래 간직하고 싶어', '다가가기엔 너의 맘이', '확실하지 않아', '망설여지지만 여기 있기엔', '너무 좋아져버린', '내 맘 볼 수 없으니까', '지금이 며칠째 훌쩍이는데', '넌 어디로 가고 있는지', '당장이라도 따라가고 싶은데', '기다렸던 순간', '오늘이 모두 다 지나고', '하염없이 너를 쫓았던 밤', '손에 닿지 않는 니가 보고 싶은 밤', '밤밤밤에 밤하늘을 날아', 'as time time for the moon night', '꿈 속에서 너를 만나']\n"
          ]
        },
        {
          "output_type": "stream",
          "name": "stderr",
          "text": [
            "\r595it [4:53:08, 43.68s/it]"
          ]
        },
        {
          "output_type": "stream",
          "name": "stdout",
          "text": [
            "74\n",
            "['너만을 유혹하는 춤 ', '우우우 우우우우', '심장에 매력 발산 중 ', '우우우 우우우우', '손끝만 스쳐도 막 쿵쿵쿵쿵 Oh', '내 맘이 흔들려', 'Shake it shake it for me', 'Shake it shake it for me', '나나나 나나나 나나나 ', 'Hey', '나나나 나나나 나나나 ', '짜릿한 이 느낌 ', '날 춤을 추게 해 ', '지금 이 순간 ', 'Shake it', 'Bae bae baby', 'Love me love me love me now', '흔들리는 내 맘 모르겠니', \"So let's dance\", \"Just shake it let's dance\", '좀 더 핫하게 완전 와일드하게', 'Make it louder 우우우', '더 크게 make it louder 우우우', '날 자꾸 흔들어 흔들어', '놀라게 흔들어', 'Shake it oh shake it', '밤새 나와 Shake it baby', '아주 fun하고 smart하게 ', '흔들흔들어', '온몸이 찌릿찌릿 우리 둘이 ', '흔들흔들어', '심하게 통하니 여기 불났으니', 'When I Move ', '움직여 자리 잡았으니', 'Shake it shake it for me', 'Shake it shake it for me', '나나나 나나나 나나나 ', 'Hey', '나나나 나나나 나나나 ', '짜릿한 이 느낌 ', '날 춤을 추게 해 ', '지금 이 순간 ', 'Shake it', 'Bae bae baby', 'Love me love me love me now', '흔들리는 내 맘 모르겠니', \"So let's dance\", \"Just shake it let's dance\", '좀 더 핫하게 완전 와일드하게', 'Make it louder 우우우', '더 크게 make it louder 우우우', '날 자꾸 흔들어 흔들어', '놀라게 흔들어', 'Shake it oh shake it', '밤새 나와 Shake it baby', 'Shake it oh shake it', 'Shake it up shake it for me', 'Shake it oh shake it', 'Shake it up shake it for me', 'Shake it oh shake it', 'Shake it up shake it for me', 'Shake it oh shake it', 'Shake it up shake it for me', 'Shake it for me my baby', 'Shake it for me my baby', '그렇게 모두 모여 dance', \"Just shake it let's dance\", '좀 더 핫하게 완전 와일드하게', 'Make it louder 우우우', '더 크게 make it louder 우우우', '날 자꾸 흔들어 흔들어', '놀라게 흔들어', 'Shake it oh shake it', '밤새 나와 Shake it baby']\n"
          ]
        },
        {
          "output_type": "stream",
          "name": "stderr",
          "text": [
            "\r596it [4:54:00, 46.18s/it]"
          ]
        },
        {
          "output_type": "stream",
          "name": "stdout",
          "text": [
            "23\n",
            "['감정을 누른 다음', '걸음을 잠시 멈춰', '고개를 빼들어', '너를 마주해', '한 치 앞을 넌 모르고 있어', 'I could be a lion', 'yeah I could be a savage', '너 탐이 나', '더워진 숨을 내쉬어', '조금씩 몸을 기어', '날카로운 발톱은', '감추고 있어', '다치게 하고 싶진 않아', 'I could be a lion', 'yeah I could be a savage', '너 탐이 나', '너 탐이 나', '감각들은 날이 서있어', '입에 담기조차 버거워질 만큼', '내 걸음들은 소리없이', '이젠 벗어날 수조차 없는 거리', '너 탐이 나', 'you tell me now']\n"
          ]
        },
        {
          "output_type": "stream",
          "name": "stderr",
          "text": [
            "\r597it [4:54:16, 37.24s/it]"
          ]
        },
        {
          "output_type": "stream",
          "name": "stdout",
          "text": [
            "88\n",
            "[\"I'm twenty three \", '난 수수께끼 Question', '뭐게요 맞혀봐요', \"I'm twenty three\", '틀리지 말기 Because ', '난 몹시 예민해요', '맞혀봐', '한 떨기 스물셋 좀 ', '아가씨 태가 나네', '다 큰 척해도 적당히 믿어줘요', '얄미운 스물셋', '아직 한참 멀었다 얘 ', '덜 자란 척해도', '대충 속아줘요', '난 그래 확실히 지금이 좋아요 ', '아냐 아냐', '사실은 때려 치고 싶어요', '아 알겠어요', '나는 사랑이 하고 싶어', '아니 돈이나 많이 벌래', '맞혀봐 ', '어느 쪽이게', '얼굴만 보면 몰라', '속마음과 다른 표정을 짓는 일', '아주 간단하거든', '어느 쪽이게', '사실은 나도 몰라', '애초에 나는 단 한 줄의 ', '거짓말도 쓴 적이 없거든', '여우인 척 하는 곰인 척', '하는 여우 아니면', '아예 다른 거', '어느 쪽이게', '뭐든 한 쪽을 골라', '색안경 안에 비춰지는 거', '뭐 이제 익숙하거든', 'Check it out', '겁나는 게 없어요', '엉망으로 굴어도 ', '사람들은 내게 매일 친절해요', '인사하는 저 여자', '모퉁이를 돌고도', '아직 웃고 있을까', '늘 불안해요', '난 영원히 아이로 남고 싶어요', '아니 아니', '물기 있는 여자가 될래요', '아 정했어요', '난 죽은 듯이 살래요', '아냐 다 뒤집어 볼래', '맞혀봐', '어느 쪽이게', '얼굴만 보면 몰라', '속마음과 다른 표정을 짓는 일', '아주 간단하거든', '어느 쪽이게', '사실은 나도 몰라', '애초에 나는 단 한 줄의 ', '거짓말도 쓴 적이 없거든', '여우인 척 하는 곰인 척', '하는 여우 아니면', '아예 다른 거', '어느 쪽이게', '뭐든 한 쪽을 골라', '색안경 안에 비춰지는 거', '뭐 이제 익숙하거든', '난 당신 맘에 들고 싶어요', '아주 살짝만', '얄밉게 해도 돼요', '난 당신 맘에 들고 싶어요', '자기 머리 꼭대기 위에서', '놀아도 돼요', '맞혀봐', '어느 쪽이게', '얼굴만 보면 몰라', '속마음과 다른 표정을 짓는 일', '아주 간단하거든', '어느 쪽이게', '사실은 나도 몰라', '애초에 나는 단 한 줄의 ', '거짓말도 쓴 적이 없거든', '여우인 척 하는 곰인 척', '하는 여우 아니면', '아예 다른 거', '어느 쪽이게', '뭐든 한 쪽을 골라', '색안경 안에 비춰지는 거', '뭐 이제 익숙하거든']\n"
          ]
        },
        {
          "output_type": "stream",
          "name": "stderr",
          "text": [
            "\r598it [4:55:17, 44.42s/it]"
          ]
        },
        {
          "output_type": "stream",
          "name": "stdout",
          "text": [
            "65\n",
            "['Royal Royal', '두 발끝을 뗀 순간', '내게로 집중되는 vibe (woah woah yeah)', '익숙한 시선 I want it ', '숨길 필요 없잖아', '느껴져 in your eyes, eyes, eyes', '흔들림 따위는 없는 내 머리부터 발끝까지', '세상에 보란 듯 모든 걸 보여 주고파 난', '누구보다 환하게 빛나는 그런 나인걸', 'Cause you know I’m a royal royal', 'Diamonds and gold', 'Do it like a royal royal 그게 나라고', '거침없이 난 또 네게 걸어가', '내 걸음걸이마저도 당당한 그게 나니까', 'Cause you know I’m a royal royal ', 'Diamonds and gold', '손짓 하나와 표정까지', 'Let you know you know you know you know you know 날 보여줄래', '난 걸음걸이부터 눈빛까지 so royal', '다들 물어봐 how can I be like u, hol’ up ', '망설이지 말고 보여줘 be loyal to yourself', '가장 너다운 걸 보여줄 때 that’s royal', '솔직한 게 (I) 좋 (like) 아 (it)', '아무렴 뭐 어때', '숨을 필요 없어 시선에', \"지금부터 let 'em know your name\", '나다운 게 (I) 좋 (love) 아 (it)', '지금 이 순간 ', '오직 너에게만 집중해', '네게 중요한 건 언제나 be yourself', '흔들림 따위는 없는 내 머리부터 발끝까지', '세상에 보란 듯 모든 걸 보여 주고파 난', '누구보다 환하게 빛나는 그런 나인걸', 'Cause you know I’m a royal royal', 'Diamonds and gold', 'Do it like a royal royal 그게 나라고', '거침없이 난 또 네게 걸어가', '내 걸음걸이마저도 당당한 그게 나니까', 'Cause you know I’m a royal royal ', 'Diamonds and gold', '손짓 하나와 표정까지', 'Let you know you know you know you know you know 날 보여줄래', '언제나 가장 빛나길 원해', '저 별처럼 눈부신 나', '어떤 순간에도 자신 있게 나아가 난', 'Ooh no one can stop me now hoo', 'Cause you know I’m a royal royal', 'Diamonds and gold', 'Do it like a royal royal 그게 나라고', '거침없이 난 또 네게 걸어가', '내 걸음걸이마저도 당당한 그게 나니까', 'Cause you know I’m a royal royal ', 'Diamonds and gold', '손짓 하나와 표정까지', 'Let you know you know you know you know you know 날 보여줄래', '(huh, one, huh, two) ', \"Yeah you're vibin'\", \"무슨 느낌인지 알았다면 divin'\", '(huh, one, huh, two) ', '그래 너답게 ', '보여줄 때 가장 빛나 like a diamond (royal) ', \"Strike a pose (that's royal) \", \"You are the boss (that's royal)\", 'Let you know you know you know you know you know 날 보여줄래', 'Royal']\n"
          ]
        },
        {
          "output_type": "stream",
          "name": "stderr",
          "text": [
            "\r599it [4:56:03, 44.85s/it]"
          ]
        },
        {
          "output_type": "stream",
          "name": "stdout",
          "text": [
            "80\n",
            "['매일같이 영화 속에서나 ', '책 속에서나 드라마 속에서 ', '사랑을 느껴 ', 'Um 사랑을 배워 ', '내 일처럼 자꾸 가슴이 뛰어 ', '두근두근거려 설레임에 부풀어 올라 ', 'Um 궁금해서 미칠 것만 같아 ', 'Ooh 언젠간 내게도 ', '이런 일이 실제로 일어날까 ', '그게 언제쯤일까 어떤 사람일까 ', 'I wanna know ', '사탕처럼 달콤하다는데 ', 'I wanna know ', '하늘을 나는 것 같다는데 ', 'I wanna know know know know ', 'What is love ', '사랑이 어떤 느낌인지 ', 'I wanna know ', '하루 종일 웃고 있다는데 ', 'I wanna know ', '세상이 다 아름답다는데 ', 'I wanna know know know know ', 'What is love ', '언젠간 나에게도 사랑이 올까 ', '지금 이런 상상만으로도 ', '떠올려만 봐도 ', '가슴이 터질 것 같은데 ', 'Um 이렇게 좋은데 ', '만일 언젠가 진짜로 내게 ', '사랑이 올 때 난 울어버릴지도 몰라 ', 'Um 정말 궁금해 미칠 것만 같아 ', 'Ooh 언젠간 내게도 ', '이런 일이 실제로 일어날까 ', '그게 언제쯤일까 어떤 사람일까 ', 'I wanna know ', '사탕처럼 달콤하다는데 ', 'I wanna know ', '하늘을 나는 것 같다는데 ', 'I wanna know know know know ', 'What is love ', '사랑이 어떤 느낌인지 ', 'I wanna know ', '하루 종일 웃고 있다는데 ', 'I wanna know ', '세상이 다 아름답다는데 ', 'I wanna know know know know ', 'What is love ', '언젠간 나에게도 사랑이 올까 ', '지금 세상 어느 곳에 살고 있는지 ', '도대체 언제쯤 나와 만나게 될는지 ', '언제 어떻게 우리의 인연은 ', '시작될는지 모르지만 느낌이 어쩐지 ', '진짜 좋을 것 같아 왠지 ', '영화 드라마보다도 더 멋진 ', '사랑이 올 거야 내 예감 언제나 맞지 ', '어서 나타나봐 ', '나는 다 준비가 됐지 Ready ', '어디 있을까 찾아낼 거야 ', '어디 있을까 보고 싶어 죽겠어 ', '더 이상 참을 수 없을 것만 같아 ', '사탕처럼 달콤하다는데 ', '하늘을 나는 것 같다는데 ', 'I wanna know know know know ', 'What is love ', '사랑이 어떤 느낌인지 ', '하루 종일 웃고 있다는데 ', '세상이 다 아름답다는데 ', 'I wanna know know know know ', 'What is love ', '언젠간 나에게도 사랑이 올까 ', 'I wanna know', 'I wanna know', 'I wanna know know know know', 'What is love', 'I wanna know I wanna know', 'I wanna know', 'I wanna know', 'I wanna know know know know', 'What is love', 'I wanna know']\n"
          ]
        },
        {
          "output_type": "stream",
          "name": "stderr",
          "text": [
            "\r600it [4:57:02, 48.98s/it]"
          ]
        },
        {
          "output_type": "stream",
          "name": "stdout",
          "text": [
            "72\n",
            "['Touch my body Body ', 'Touch my body Body ', 'Touch my body Body ', 'Touch my body ', 'I know you want it ', '넌 내 곁으로 와 ', '내가 준비한 wine 달콤한 ', 'chocolate chocolate ', '좀 부드럽고 때론 뜨거워지는 ', '너만을 위한 my pool ', 'na na na na na na ', '빨개진 너의 두 눈에 ', '비친 내 모습 ', '운전은 니가 해 그저 ', '내 두 손은 하늘위로 ', 'Yeh baby dancing with me ', \"you're my star \", 'Touch my body ', '우린 조금씩 빠르게 ', 'Oh everybody ', '푸른 하늘 보다 높이 ', '지금 이 리듬이 좋아 ', '뜨거운 태양아래 너와나 ', 'My body body Touch ma body ', 'Baby so good ', '지금 기분은 paradise ', 'Baby so nice ', '우리 둘만의 ', 'summer night ', '조금씩 one step two step ', '달빛 아래 너와나 ', 'My body body Touch ma body ', 'Touch my body Body ', 'Touch my body Body ', 'Touch my body Body ', 'Touch my body ', '하나 둘씩 밝혀지는 ', '니 맘 속안에 촛불 ', '힘이 들 땐 조금 쉬었다가요 ', '여기 red pool ', '내 입술이 좋아 아님 ', '내 body가 좋아 ', '솔직히 말해 여기 여기 ', '여기 아님 저기 저기 저기 ', '나밖에 없다고 지금 내게 말해줘 ', '부끄럽게 자꾸 보지 말고 ', '계속 날 안아줘 ', '날 사랑한다 말해줘 ', 'Touch my body ', '우린 조금씩 빠르게 ', 'Oh everybody ', '푸른 하늘 보다 높이 ', '지금 이 리듬이 좋아 ', '뜨거운 태양아래 너와나 ', 'My body body Touch ma body ', 'Baby so good ', '지금 기분은 paradise ', 'Baby so nice ', '우리 둘만의 ', 'summer night ', '조금씩 one step two step ', '달빛 아래 너와나 ', 'My body body Touch ma body ', 'Touch ma body My body My body ', 'My body My body ', '너와 함께 있는 지금 Tonight ', '둘이 함께 보는 저 별들 ', '어느 누구보다 행복해 ', '너와 함께 있는 지금 Tonight ', '둘이 함께 보는 저 별들 ', '어느 누구보다 행복해 ', 'Touch ma body']\n"
          ]
        },
        {
          "output_type": "stream",
          "name": "stderr",
          "text": [
            "\r601it [4:57:54, 50.00s/it]"
          ]
        },
        {
          "output_type": "stream",
          "name": "stdout",
          "text": [
            "73\n",
            "['Baby 떠나자 둘이서', '전화기는 비행기 모드', '너와 함께면 어디든', '아마 그곳은 무인도', 'Come come on ma', 'Come on ma girl', '자꾸 망설여진다면', 'Don’t worry', '네가 무서워 두려워', '주저하는거 다', 'I’ll make that go bang', 'b-b-bang bang', '난 너만을 위한 수평선 위의 포물선', '네가 내 옆에 있다면 거기가 보물섬', '회색 빌딩 감옥 안에서 널 구해줄게', '파란 하늘 모래 위에서', '그냥 쉬어 가면 돼', '떠나자 ISLAND', '떠 떠 떠 떠나자 ISLAND', '저 저기 저 파도와 함께', '다가와 나에게 내 품에 올인', '더 더 더 다가와 나에게', '점 점 점 가까이 나에게', '저 저기 저 태양과 함께', '들어와 나에게 뜨겁게 골인', '떠나자 ISLAND', '우리의 ISLAND', '저 저기 저 야자수 아래', '시원한 샴페인', 'I’ll be your ISLAND', '한여름의 뜨거운 태양보다', '석양빛 너의 미소가 좋아', '칵테일 shake it 하듯이 너와', '소파 위에서 섞이고파', 'shimmy shimmy ya', 'shimmy shimmy ya hey', '운전하고파 너의 매끈한 yeah', '러브핸들 skrrr skrrr', 'I’ll make that go bang', 'b-b-bang bang', '난 너만을 위한 수평선 위의 포물선', '네가 내 옆에 있다면 거기가 보물섬', '회색 빌딩 감옥 안에서 널 구해줄게', '파란 하늘 모래 위에서', '그냥 쉬어가면 돼', '떠나자 ISLAND', '떠 떠 떠 떠나자 ISLAND', '저 저기 저 파도와 함께', '다가와 나에게 내 품에 올인', '더 더 더 다가와 나에게', '점 점 점 가까이 나에게', '저 저기 저 태양과 함께', '들어와 나에게 뜨겁게 골인', '떠나자 ISLAND', '우리의 ISLAND', '저 저기 저 야자수 아래', '시원한 샴페인', 'I’ll be your ISLAND', '여긴 nobody knows knows', '우리 둘만의 섬 섬', '좀 있으면 어두워지니까', '어서 불을 지펴 어 어', '여긴 nobody knows knows', '우리 둘만의 썸 썸', '눈치 볼 필요 없으니까', '사랑에 불을 지펴 어 어', 'Wuhohoh ISLAND', 'Wuhohoh ISLAND', '우리의 ISLAND', 'Wuhohoh ISLAND', '저 저기 저 야자수 아래', '시원한 샴페인', 'I’ll be your ISLAND']\n"
          ]
        },
        {
          "output_type": "stream",
          "name": "stderr",
          "text": [
            "\r602it [4:58:45, 50.28s/it]"
          ]
        },
        {
          "output_type": "stream",
          "name": "stdout",
          "text": [
            "49\n",
            "['만나지 말잔 내 말', '연락도 말란 내말', '너 진짜 그대로 할거니', '그게 아닌데', '이대로 끝일까봐', '널 영영 잃을까봐', '점점 더 맘이 불안해져', '너무 슬퍼져', '정이 뭔지 밉다가도 그리워', '너없인 못살아', 'Gimme a call Baby Baby', '지금 바로 전화줘', 'Gimme a call Baby Baby', '매일 날 기다려', '사랑한다고 사랑한다고', '문자라도 남겨줘', '날 울리지마', '어디서 뭘 하길래', '얼마나 바쁘길래', '혹시 너 일부러 안받니', '난 줄 알면서', '벌써 날 잊은거니', '마음을 접은거니', '날 두고 니가 설마 설마 ', '자꾸 눈물나', '정이 뭔지 사랑보다 무서워', '지우기 힘들어', 'Gimme a call Baby Baby', '지금 바로 전화줘', 'Gimme a call Baby Baby', '매일 날 기다려', '사랑한다고 사랑한다고', '문자라도 남겨줘', '날 울리지마', 'Call me Tell me hold me', '아니라고', 'Call me Tell me hold me', '가면안돼', 'Gimme a call Baby Baby', '다시 나를 찾아줘', 'Gimme a call Baby Baby', '할말이 있는 걸', '너를 사랑해 너무 사랑해', '너를 향해 소리쳐', '널 기다릴게', 'Call me Tell me hold me', '아니라고', 'Call me Tell me hold me', '돌아와줘']\n"
          ]
        },
        {
          "output_type": "stream",
          "name": "stderr",
          "text": [
            "\r603it [4:59:20, 45.61s/it]"
          ]
        },
        {
          "output_type": "stream",
          "name": "stdout",
          "text": [
            "81\n",
            "['지금 하늘 구름 색은', 'Tropical yeah', '저 태양 빨간빛 네 두 볼 같아', 'Oh tell me I’m the only one baby', 'I fancy you I fancy you fancy you', 'It’s dangerous', '따끔해 넌 장미 같아', '괜찮아 조금도 난 겁나지 않아', '더 세게 꼭 잡아', 'Take my hand', '좀 위험할거야', '더 위험할거야 baby', '달콤한 초콜릿 아이스크림처럼', '녹아버리는 지금', '내 기분 So lovely', '깜깜한 우주 속 가장 반짝이는', '저 별 저 별 그 옆에 큰 네 별', '거기 너 I fancy you', '아무나 원하지 않아', 'Hey I love you', 'Love ya', '그래 너 I fancy you', '꿈처럼 행복해도 돼', 'Cause I need you', 'What', 'Fancy you', '누가 먼저 좋아하면 어때', 'Fancy you', '지금 너에게로 갈래', 'Fancy', '매일매일 난 정말', '아무것도 못하네 Oh my', 'Mayday', '이러다 큰일 낼 것 같은데', 'Bang bang', '머리가 홀린 듯 Reset이 돼', '어쩌면 좋아', '이게 맞는건지 몰라 SOS', 'Swim swim', '너란 바다에 잠수함이 돼', '매일이 Birthday', '달콤해 너와 나의 Fantasy', 'Dream dream', '마치 꿈같아 볼 꼬집어봐', '요즘 나의 상태 메세진', '랄랄라 Baby', '달콤한 초콜릿 아이스크림처럼', '녹아버리는 지금', '내 기분 So lovely', '깜깜한 우주 속 가장 반짝이는', '저 별 저 별 그 옆에 큰 네 별', '거기 너 I fancy you', '아무나 원하지 않아', 'Hey I love you', 'Love ya', '그래 너 I fancy you', '꿈처럼 행복해도 돼', 'Cause I need you', 'What', 'Fancy you', '누가 먼저 좋아하면 어때', 'Fancy you', '지금 너에게로 갈래', 'Fancy', '연기처럼 훅 사라질까', '늘 가득히 담아 널 두 눈에 담아', '생각만으로 포근해져', '몰래 뒤에서 안아 널 놓지 않을래', '거기 너 I fancy you', '아무나 원하지 않아', 'Hey I love you', 'Love ya', '그래 너 I fancy you', '꿈처럼 행복해도 돼', 'Cause I need you', 'What', 'Fancy you', '누가 먼저 좋아하면 어때', 'Fancy you', '지금 너에게로 갈래', 'Fancy']\n"
          ]
        },
        {
          "output_type": "stream",
          "name": "stderr",
          "text": [
            "\r604it [5:00:17, 49.16s/it]"
          ]
        },
        {
          "output_type": "stream",
          "name": "stdout",
          "text": [
            "65\n",
            "['널 향한 설레임을', '오늘부터 우리는 ', '꿈꾸며 기도하는', '오늘부터 우리는', '저 바람에 노을 빛', '내 맘을 실어 보낼게', '그리운 마음이 모여서 내리는', 'Me gustas tu gustas tu', 'su tu tu ru 좋아해요', 'gustas tu su tu ru ru', '한 발짝 뒤에 섰던 우리는', '언제쯤 센치해 질까요', '서로 부끄러워서', '아무 말도 못하는 너에게로', '다가가고 싶은데', '바람에 나풀거리는 꽃잎처럼 ', '미래는 알 수가 없잖아', '이제는 용기 내서 고백할게요', '하나보단 둘이서', '서로를 느껴 봐요', '내 마음 모아서', '너에게 전하고 싶어', '설레임을 오늘부터 우리는', '꿈꾸며 기도하는', '오늘부터 우리는', '저 바람에 노을 빛', '내 맘을 실어 보낼게', '그리운 마음이 모여서 내리는', 'Me gustas tu gustas tu', 'su tu tu ru 좋아해요', 'gustas tu su tu ru ru', '한 걸음 앞에 서서', '두 손을 놓지 말기로 약속해요', '소중해질 기억을', '꼭 꼭 담아 둘게요 ', '지금보다 더 아껴 주세요', '달빛에 아른거리는 구름처럼 ', '아쉬운 시간만 가는데', '이제는 용기 내서 고백할게요', '둘 보단 하나 되어', '서로를 느껴 봐요', '내 마음 모아서', '너에게 전하고 싶어', '설레임을 오늘부터 우리는', '꿈꾸며 기도하는', '오늘부터 우리는', '저 바람에 노을 빛', '내 맘을 실어 보낼게', '그리운 마음이 모여서 내리는', '감싸 줄게요 그대', '언제까지나 ', '언제까지나', '사랑이란 말 안 해도', '느낄 수 있어요', '고마운 마음을 모아서', '널 향한 설레임을', '오늘부터 우리는', '꿈꾸며 기도하는', '오늘부터 우리는', '저 바람에 노을 빛', '내 맘을 실어 보낼게', '그리운 마음이 모여서 내리는', 'Me gustas tu gustas tu', 'su tu tu ru 좋아해요', 'gustas tu su tu ru ru']\n"
          ]
        },
        {
          "output_type": "stream",
          "name": "stderr",
          "text": [
            "\r605it [5:01:03, 48.23s/it]"
          ]
        },
        {
          "output_type": "stream",
          "name": "stdout",
          "text": [
            "47\n",
            "['어제의 나는 오늘의 나는 내일의 나는 그리고 나는', '어제의 나는 오늘의 나는 내일의 나는 그리고 나는', '꿈이라는 건 절대 손에 닿지 않아 멀어', '우린 현실이라는 벽 앞에 늘 두려워서 떨어', '그래 나 혹시나는 역시나 늘 기대를 저버려', '그래 나 장고 끝에 악수 두다 하루해가 져 버려', '선택은 늘 끔찍해 그에 책임은 큼직해', '결과로만 말하는 세상의 틀에 길들여진 내게', '부디 강해져 과감해져 약해지지 말고 악해져', '(어제도 오늘도 이러고 있구나)', '우린 모두 처음 살아봐서 설레고 두려워', '정답이 없어 (정답이 없어)', '빌어먹을 정답이 없어 (정답이 없어) ', '내일의 나에게 ', '오늘보다 좋은 사람이길 바라 ', '어제보다 오늘이 낫듯이 ', '내일의 나에게', '고개 들어 파란 하늘 바라보며', '지금처럼 웃고 있기를 바라 Woo ', '적을 만드는 어른', '편을 만드는 어른', '어린아이보다 겁이 많은 건', '죄가 많기 때문', '여든까지가 내 버릇', '이 정도가 내 그릇', '위선보다 위악이 나쁜 걸 모르기 때문', '약해지지 말라 해서 강해지려 애를 써', '스스로 강하다 믿고 센 척하며 떼를 써', '너무 강하면 부러져 너무 약하면 무너져', '정답을 절대 찾지 못해 오답에 무뎌져', '우린 모두 처음 살아봐서 설레고 두려워', '정답이 없어 (정답이 없어) ', '빌어먹을 정답이 없어 (정답이 없어) ', '내일의 나에게', '오늘보다 좋은 사람이길 바라', '어제보다 오늘이 낫듯이', '내일의 나에게', '고개 들어 파란 하늘 바라보며 ', '지금처럼 웃고 있기를 바라 Woo ', '어제의 나는 오늘의 나는 내일의 나는 그리고 나는', '어제의 나는 오늘의 나는 내일의 나는 그리고 나는', '내일의 나에게', '오늘보다 좋은 사람이길 바라', '어제보다 오늘이 낫듯이', '내일의 나에게', '고개 들어 파란 하늘 바라보며', '지금처럼 웃고 있기를 바라 Woo']\n"
          ]
        },
        {
          "output_type": "stream",
          "name": "stderr",
          "text": [
            "\r606it [5:01:36, 43.46s/it]"
          ]
        },
        {
          "output_type": "stream",
          "name": "stdout",
          "text": [
            "74\n",
            "['All I wanna be is 멋짐', '내 마음대로 골라 kick it', '머리 어깨 무릎 다 HIP 해', 'Do it do it like me do it', '나를 따라 해 kick it', 'Clapping clapping 모두 같이 HIP', 'I love you 네가 뭐라든 간에', 'Respect you 네가 뭘 하든 간에', '늘 따끈따끈해 그 관심이 따끔따끔해', '또 힐끔 힐끔 힐끔', '이젠 모든 일이 가뿐해 veteran', '성공을 썰어 먹어 마치 michelin', '누구보다 빠른 걸음을 걸었네 비시즌', '잊은 지도 오래야 뒷걸음', 'All I wanna be is 멋짐', '내 멋대로 골라 kick it', '머리 어깨 무릎 다 HIP', '삐삐삐 논란이 돼 my fashion', '별로 신경 안 써 그저 action', '자꾸 click me click me', '홀린 듯이 zoom', 'Close up close up close up', 'HIP 해 HIP HIP', '머리 어깨 무릎 HIP', 'HIP HIP HIP HIP HIP HIP 해 HIP HIP', '머리 어깨 무릎 HIP', 'HIP HIP HIP HIP 해 HIP', 'Attention 어딜 가든 넌', 'Reflection 빛날 수 있어', '세상에 넌 하나뿐인 걸', '근데 왜이래 네 얼굴에 침 뱉니 칵투', '날 자극한 여러분 감사', '거기서 멈춘 찌질이 반사', '덕분에 나의 멘탈은 단단해', '난 다음 앨범 만들러 갈게', 'All you wanna be is trendy', '어그로 끌기 gimmick 때찌', '그런 애들 끼리끼리 HIP', '삐삐삐 논란이 돼 my fashion', '별로 신경 안 써 그저 action', '자꾸 click me click me', '홀린 듯이 zoom', 'Close up close up close up', 'HIP 해 HIP HIP', '머리 어깨 무릎 HIP', 'HIP HIP HIP HIP HIP HIP 해 HIP HIP', '머리 어깨 무릎 HIP', 'HIP HIP HIP HIP 해 HIP', '코 묻은 티', '삐져나온 입', '떡진 머리', '난 상관없지', '코 묻은 티', '삐져나온 입', '떡진 머리', '내가 하면 HIP', '코 묻은 티', '삐져나온 팬티', '떡진 머리', '난 상관없지', '코 묻은 티', '삐져나온 팬티', '떡진 머리', '내가 하면 HIP', '삐삐삐 논란이 돼 my fashion', '별로 신경 안 써 그저 action', '자꾸 click me click me', '홀린 듯이 zoom', 'Close up close up close up', 'HIP 해 HIP HIP', '머리 어깨 무릎 HIP', 'HIP HIP HIP HIP HIP HIP 해 HIP HIP', '머리 어깨 무릎 HIP', 'HIP HIP HIP HIP 해 HIP']\n"
          ]
        },
        {
          "output_type": "stream",
          "name": "stderr",
          "text": [
            "\r607it [5:02:27, 45.87s/it]"
          ]
        },
        {
          "output_type": "stream",
          "name": "stdout",
          "text": [
            "61\n",
            "['진정 즐길줄 아는 여러분이', '이 나라의 챔피언입니다 하', '모두의 축제 서로 편가르지 ', '않는것이 숙제', '소리 못질르는 사람들 오늘 술래', '다같이 빙글 빙글 강강 수월래 ', '강강수월래', '함성이 터져 메아리 커져', '파도 타고 모두에게 퍼져', '커져 아름다운 젊음이 갈라져 있던 ', '땅덩어리', '둥글게 둥글게 돌고 도는 물레 ', '방아 인생 사나인데', '가슴쫙펴고 화끈하게', '손뼉을 치면서 노래를 하면서', '이것보소 남녀노소 좌우로 흔들어', '챔피언 소리지르는 니가', '챔피언 음악에 미치는 니가', '챔피언 인생 즐기는 니가', '챔피언 니가 챔피언 니가', '챔피언 소리지르는 니가', '챔피언 음악에 미치는 니가', '챔피언 인생 즐기는 니가', '챔피언', '전경과 학생 서로 대립했었지만 ', '나인같애', '고로 열광하고 싶은 마음 같애', '오늘부로 힘을 모아 합세 하나로 ', '합체', '모두 힘을 길러 젊음을 질러', '자유로운 외침이 저기 높은 하늘을 ', '찔러', '소리를 질러 우리는 제도권 킬러', '둥글게 둥글게 돌고 도는 물레 ', '방아 인생 사나인데', '똑같이 모두 어깨동무 손뼉을 ', '치면서 노래를 하면서', '파벌없이 성별없이 앞뒤로 흔들어', '챔피언 소리지르는 니가', '챔피언 음악에 미치는 니가', '챔피언 인생 즐기는 니가', '챔피언 니가 챔피언 니가', '챔피언 소리지르는 니가', '챔피언 음악에 미치는 니가', '챔피언 인생 즐기는 니가', '챔피언', '질러볼까 더 크게 뛰어올라 더 높게', '내일 걱정은 내일모레 오늘 미쳐보게', '둥글게 둥글게 돌고 도는 물레 ', '방아 인생 한방인데', '바람따라 구름따라', '손뼉을 치면서 노래를 하면서', '주먹을 쫙피고 하늘로 아래위로 ', '흔들어', '챔피언 소리지르는 니가', '챔피언 음악에 미치는 니가', '챔피언 인생 즐기는 니가 챔피언', '니가 챔피언 니가', '챔피언 소리지르는 니가', '챔피언 음악에 미치는 니가', '챔피언 인생 즐기는 니가 챔피언']\n"
          ]
        },
        {
          "output_type": "stream",
          "name": "stderr",
          "text": [
            "\r608it [5:03:10, 44.83s/it]"
          ]
        },
        {
          "output_type": "stream",
          "name": "stdout",
          "text": [
            "52\n",
            "['차디찬 한겨울이 덮친 듯', '시간은 다 얼어버리고', '잔인한 그 바람이 남긴 듯한', '어둠은 더 깊어 버리고', '벗어나리오', '끝없이 펼쳐진 기약 없는 계절을', '지워내리오', '뜨겁지 못한 날들에', '홀로 데인 흉터를', '큰불을 내리오', '이 내 안에 눈물이 더는 못 살게', '난 화를 내리오 더 화를 내리오', '잃었던 봄을 되찾게', '차갑게 부는 바람이', '눈이 하얗게 덮인 마음이', '아침이 오면 부디 모두 녹을 수 있게', '불을 지펴라', '화 火', '타올라 타올라', '화 火', '꽃피우리라', '화 火', '타올라 타올라', '화 火', '꽃피우리라', '내 너의 흔적 남지 않게 하리', '못다 한 원망도 훨훨 타리', '쓸쓸한 추위를 거둬 가길', '남겨진 시들은 꽃길을 즈려 밟지', '한을 풀리라 다시금 봄을 누리라', '추억은 모조리 불이 나 거름이 돼', '찬란한 꽃을 피우리라', '난 화를 내리오 더 화를 내리오', '잃었던 봄을 되찾게', '차갑게 부는 바람이', '눈이 하얗게 덮인 마음이', '아침이 오면 부디 모두 녹을 수 있게', '불을 지펴라', '화 火', '타올라 타올라', '화 火', '꽃피우리라', '화 火', '타올라 타올라', '화 火', '꽃피우리라', '끊어진 인연의 미련을 품에 안고', '시렸던 시간을 나를 태워간다 화', '화 花', '화 花', '불을 지펴라', '꽃피우리라']\n"
          ]
        },
        {
          "output_type": "stream",
          "name": "stderr",
          "text": [
            "\r609it [5:03:48, 42.76s/it]"
          ]
        },
        {
          "output_type": "stream",
          "name": "stdout",
          "text": [
            "57\n",
            "['Hey 참 이상해 정말 strange', '이런 적 없었는데 널 볼때마다', '나 두근두근 떨리는게', 'When I see your face ', '혼자 막 상상을 해', '나 표정 관리 안돼 미칠 것 같아 ', '또 니가 니가 보고 싶어서', 'I wanna say woo woo woo woo yeh', '너 때문에 그래 먼저 말하긴 ', '싫은데 내 입가에 맴돌아', 'Loving U  U  나 어떡해 ', 'what should I do', '조절이 안돼 내 맘 고장 나버린 ', 'heart 정신 못 차릴 만큼', \"Boy I'm falling in love with U U\", '나 어떡해 what should I do', '널 놓치면 난 안돼 사랑한다고', 'Woo woo woo woo woo', 'Woo woo woo woo woo woo', \"Baby I'm in love with you\", \"ok let's talk about love \", '모두 휘파람을 불며', '어머나 나를 꼬시려고 했던 남자들 ', '이젠 모두 안녕', '내 애교섞인 목소리는  ', '오빠만 부를래 오빠야', '어쩌면 좋아 내가 사랑에 빠졌나 봐', 'Woo woo woo woo yeh', '너 때문에 그래 먼저 말하긴 싫은데', '내 입가에 맴돌아', 'Loving U  U  나 어떡해 ', 'what should I do', '조절이 안돼 내 맘 고장 나버린 ', 'heart 정신 못 차릴 만큼', \"Boy I'm falling in love with U U\", '나 어떡해 what should I do', '널 놓치면 난 안돼 사랑한다고', 'Woo woo woo woo woo', 'Woo woo woo woo ', \"Baby I'm in love with you\", '애타는 내 맘 너무 기나긴 밤 ', '숨겨왔던 너를 향한 말 사랑해', 'Baby I’m in love with U U', '나 어떻게 해 What should I do', '조절이 안돼 내 맘 고장 나버린 ', 'heart 정신 못 차릴 만큼', \"Boy I'm falling in love with U U\", '나 어떡해 what should I do', '널 놓치면 난 안돼 사랑한다고', 'Woo woo woo woo woo', 'Woo woo woo woo woo woo', \"Baby I'm in love with you\", 'Hello Hello 눈이 마주치면 L. O. ', 'L. O. V. E 나는 말해', '멜로 멜로 우린 L. O. L. O. V. E. ', 'L. O. L. O. V. E', \"I'm only think about U \"]\n"
          ]
        },
        {
          "output_type": "stream",
          "name": "stderr",
          "text": [
            "\r610it [5:04:28, 42.14s/it]"
          ]
        },
        {
          "output_type": "stream",
          "name": "stdout",
          "text": [
            "63\n",
            "['Do you remember you remember', 'remember what you said', '너는 내게 뭐든 줄 것처럼', '말을 건넸다', \"Don't you remember you remember\", 'remember what you said', '너는 마치 무슨 약을', '먹은 마냥 변했다', '드리워진 Blue 내 흐려지는 눈', '진짜 Is this true 후회 안 하냐고', '내 어제의 My boo booboo', 'Lonely life 좋아', '다 삼켜버린 물 난 식어버린 듯', 'I want you to be ruined', '붙잡지 않아 끝', '넌 어제의 My boo booboo', 'Lonely life 잘 가', '차갑게 나를 본다 남인 듯 돌아선다', '난 멍하니 서있다', '몰랐던 너를 봤다', '그저 웃음만 나온다', '난 이제 너를 몰라', '널 잊으리라 Woo woowoo', '저리 가 오지 마 돌아보지도 말아', '널 지우리라 Woo woowoo', '저리 가 오지 마 돌아보지도 말아', 'Do you remember you remember', 'remember what you said', '나는 어떤 말도 못 해본 채', '너를 보냈다', \"Don't you remember you remember\", 'remember what you said', '나는 마치 무슨 약을', '먹은 마냥 변했다', '다 변했다 또 흔한 사랑처럼 뻔했다', '굶주린 사자처럼', '너는 날 너무 원했다', '손짓과 건넨 말', '거짓말이었다면 넌 세상 제일 못됐다', '다 그런 거지 다 똑같지', '엄마가 했던 말 전부 다 맞지', '사랑은 까맣게 변했다', '돌릴 수 없게 다 태웠다', '오늘 난 내 기억 속에서 널 없앴다', '차갑게 나를 본다 남인 듯 돌아선다', '난 멍하니 서있다', '몰랐던 너를 봤다', '그저 웃음만 나온다', '난 이제 너를 몰라', '널 잊으리라 Woo woowoo', '저리 가 오지 마 돌아보지도 말아', '널 지우리라 Woo woowoo', '저리 가 오지 마 돌아보지도 말아', '멍든 내 맘의 흔적을 지우고', '정든 네 눈에 내 맘을 비추죠', '너무 차가워 깜짝 놀랄지 몰라', '다시 내 앞에 돌아온다 해도', '이젠 받아줄 자리가 없네요', '끝이 난 거죠 난 이제 너를 몰라', '널 잊으리라 Woo woowoo', '저리 가 오지 마 돌아보지도 말아', '널 지우리라 Woo woowoo', '저리 가 오지 마 돌아보지도 말아']\n"
          ]
        },
        {
          "output_type": "stream",
          "name": "stderr",
          "text": [
            "\r611it [5:05:14, 43.06s/it]"
          ]
        },
        {
          "output_type": "stream",
          "name": "stdout",
          "text": [
            "61\n",
            "['Yeah I like it', '네가 말을 놓는 것도', 'Like it 너의 작은 말투도', '나쁘지 않은걸', 'Boy you know know know know', 'Like the way 말없이 손을 잡고', 'Like the way 조금은 놀래도', '싫지가 않은걸', 'You know boy boy boy boy', '물감처럼 파랗던', '하늘은 벌써 까맣고', '감정은 더 깊어져 yeah', 'I gotta tell you this', '우리 둘만 느껴지는 이상한 느낌', '나도 너무 좋아 ', 'but it’s too late', '아쉬워 벌써 12시', '어떡해 벌써 12시네', '보내주기 싫은걸', '알고 있어 how you feel it', '음악에 맞춰 사랑을 속삭이고 싶어', '솔직히 우리 둘 맘이 같은 걸', 'Gotta go gotta go 12시', '같은 생각인 걸 알고 있는데', '더 이상은 솔직할 수 없는 걸', 'Gotta go gotta go 12시', '어쩜 우린 닮은 것도 많아', '취향 취미 먹을 때도 말야', 'You’re reading my heart', '좀 더 일찍 알았다면', '어땠을까 생각하게 돼 yeah', '별들은 더 빛나고', '시간은 점점 지나고', '감성은 더 짙어져 yeah', 'I gotta tell you this', '너에게만 느껴지는 포근한 느낌', '나도 너무 좋아', 'but it’s too late', '아쉬워 벌써 12시', '어떡해 벌써 12시네', '보내주기 싫은 걸', '알고 있어 how you feel it', '음악에 맞춰 사랑을 속삭이고 싶어', '솔직히 우리 둘 맘이 같은 걸', 'Gotta go gotta go 12시', '같은 생각인 걸 알고 있는데', '더 이상은 솔직할 수 없는 걸', 'Gotta go gotta go 12시', '구석에 맘 한구석에', '조그만 끈', '붙잡고 있는 걸', 'Baby don’t wanna be alone', '늦으면 더 늦어지면', '어쩌면 다 놓아버릴지 몰라', 'I’m really trying to make you see', '아쉬워 벌써 12시', '어떡해 벌써 12시네', '보내주기 싫은걸', '알고 있어', 'how you feel it', 'Gotta go gotta go 12시']\n"
          ]
        },
        {
          "output_type": "stream",
          "name": "stderr",
          "text": [
            "\r612it [5:05:58, 43.41s/it]"
          ]
        },
        {
          "output_type": "stream",
          "name": "stdout",
          "text": [
            "30\n",
            "['워우예~ 예~', \"1 2 Come on R U ready! 3 4 Do it I'm ready! 5 6 Baby are you ready!\", '지금 나와 어디든 가자 지루한 하루 여기까지만 All stop', '작은 가방 운동화 챙겨 자 더 크게 Radio를 높이고', '코발트블루 물결 눈부신 바다 (달빛 가득 묻은 작은 섬)', '야경이 눈부신 도시는 어때 (함께라면 어디든 좋아 난~)', '너와 나 그곳으로 떠나는 거야', '상상에 상상에 상상을 더해서 (어머 깜짝야) 눈부셔 눈부셔 눈부셔 이건 뭐', 'Oh hello new world 두 손 모아 소리치면 푸른 하늘이 내게로 와', '(날아가볼래) 상상의 상상의 미래로 가볼까 (바람을 타고) 새로운 눈빛에 가슴이 붐 붐 붐', '~', 'Oh 발견했어 우리들만의 Paradise~ (Oh Paradise~ Yeah~)', '흑백영화 같은 하루에 레몬 터지듯 짜릿함이 필요해', '지금 당장 널 데려갈게 꿈꿔오던 사진 속 그곳으로', '민트 그린 빛 바람 가득한 숲 속 (달콤한 향기의 칵테일)', '지도를 벗어나 ticket to the dream (함께라면 어디든 좋아 난)', '너와 나 그곳으로 떠나는 거야', '상상에 상상에 상상을 더해서 (어머 깜짝야) 눈부셔 눈부셔 눈부셔 이건 뭐', 'Oh hello new world 두 손 모아 소리치면 푸른 하늘이 내게로 와', '(날아가볼래) 상상의 상상의 미래로 가볼까 (바람을 타고) 새로운 눈빛에 가슴이 붐 붐 붐~', 'Oh 발견했어 우리들만의 Paradise~', '너와 나의 비밀스러운 풍경들 언제라도 다시 와 주겠니', '은하수 아래 밤새 부른 노래 영원히 잊지 않을 거야~~', '이 시간 속에 영원히 네 품에 안기고 싶은 걸 (단둘이 이 순간 잠들고 싶은 걸)', '지도엔 없는 이곳을 꼭 기억해줘 (우리들만의 Paradise~ Oh~)', '상상에 상상에 상상을 더해서 (어머 깜짝야) 눈부셔 눈부셔 눈부셔 이건 뭐', 'oh hello new world 처음 만난 세상 속에 나의 가슴이 라 라 라 라', '(날아가볼래) 상상의 상상의 미래로 가볼까 (바람을 타고) 새로운 눈빛에 가슴이 붐 붐 붐~', 'oh 발견했어 우리들만의 Paradise~ (너와 나~ Yeah~)', \"1 2 Come on R U ready! 3 4 Do it I'm ready! 5 6 Baby are you ready!\"]\n"
          ]
        },
        {
          "output_type": "stream",
          "name": "stderr",
          "text": [
            "\r613it [5:06:20, 37.07s/it]"
          ]
        },
        {
          "output_type": "stream",
          "name": "stdout",
          "text": [
            "59\n",
            "['불타오르네', 'Fire', 'Fire', 'Fire', 'Fire', 'When I wake up in my room ', '난 뭣도 없지', '해가 지고 난 후 비틀대며 걷지', '다 만신창이로 취했어 취했어', '막 욕해 길에서 길에서', '나 맛이 갔지 미친놈 같지', \"다 엉망진창 livin' like 삐이\", '니 멋대로 살어 어차피 니 꺼야', '애쓰지 좀 말어 져도 괜찮아', 'Errbody say La la la la la ', 'La la la la la', 'Say La la la la la ', 'La la la la la', '손을 들어 소리질러 Burn it up', '불타오르네', '싹 다 불태워라 Bow wow wow', '싹 다 불태워라 Bow wow wow ', 'Hey burn it up', '전부 다 태울 것 같이', 'Hey turn it up', '새벽이 다 갈 때까지', '그냥 살아도 돼 우린 젊기에', '그 말하는 넌 뭔 수저길래', '수저수저 거려 난 사람인데', 'So what', '니 멋대로 살어 어차피 니 꺼야', '애쓰지 좀 말어 져도 괜찮아', 'Errbody say La la la la la ', 'La la la la la', 'Say La la la la la ', 'La la la la la', '손을 들어 소리질러 Burn it up', '불타오르네', '싹 다 불태워라 Bow wow wow', '싹 다 불태워라 Bow wow wow', 'Fire 겁 많은 자여 여기로', 'Fire 괴로운 자여 여기로', 'Fire 맨주먹을 들고 All night long', 'Fire 진군하는 발걸음으로', 'Fire 뛰어봐 ', '미쳐버려 다', 'hot hot hot hotter', '싹 다 불태워라 Bow wow wow', 'hot hot hot hotter', '싹 다 불태워라 Bow wow wow', 'Fire ', 'hot hot hot hotter', 'Fire ', '싹 다 불태워라 Bow wow wow', 'Fire ', 'hot hot hot hotter', 'Fire ', '싹 다 불태워라 Bow wow wow', '용서해줄게']\n"
          ]
        },
        {
          "output_type": "stream",
          "name": "stderr",
          "text": [
            "\r614it [5:07:03, 38.88s/it]"
          ]
        },
        {
          "output_type": "stream",
          "name": "stdout",
          "text": [
            "46\n",
            "['나의 비밀정원', '난 아직도 긴 꿈을 꾸고 있어 ', '그 어떤 이에게도 말하지 못했던 ', '아침 햇살이 날 두드리며 hello ', '매일 머물렀다 가는데 모르지 ', '처음으로 너에게만 보여줄게 ', '나를 따라 ', 'come with me bae ', '손을 잡아 ', 'you and me ', '내 안에 소중한 혼자만의 장소가 있어 ', '아직은 별거 아닌 풍경이지만 ', '조금만 기다리면 곧 만나게 될 걸 ', '이 안에 멋지고 놀라운 걸 심어뒀는데 ', '아직은 아무것도 안 보이지만 ', '조금만 기다리면 알게 될 거야 ', '나의 비밀정원 ', '너무 단순해 그 사람들은 말야 ', '눈으로 보는 것만 믿으려 하는 걸 ', '빗방울은 날 다독이며 잠시 ', '내게 또 힘을 주곤 해 다정히 ', '오늘 하루 한 사람만 초대할게 ', '나를 따라 ', 'come with me bae ', '상상해봐 ', 'you and me ', '내 안에 소중한 혼자만의 장소가 있어 ', '아직은 별거 아닌 풍경이지만 ', '조금만 기다리면 곧 만나게 될 걸 ', '이 안에 멋지고 놀라운 걸 심어뒀는데 ', '아직은 아무것도 안 보이지만 ', '조금만 기다리면 알게 될 거야 ', '나의 비밀정원 ', '아마 언젠가 말야 ', '이 꿈들이 현실이 되면 ', '함께 나눈 순간들을 이 가능성들을 ', '꼭 다시 기억해줘 ', '네 안에 열렸던 문틈으로 본 적이 있어 ', '아직은 별거 아닌 풍경이지만 ', '조금만 기다리면 곧 만나게 될 걸 ', '그 안에 멋지고 놀라운 걸 심어뒀는데 ', '아직은 아무것도 안 보이지만 ', '조금만 기다리면 알게 될 거야 ', '너의 비밀정원 ', '무럭무럭 어서어서 자라나 줘 ', 'beautiful']\n"
          ]
        },
        {
          "output_type": "stream",
          "name": "stderr",
          "text": [
            "\r615it [5:07:36, 37.11s/it]"
          ]
        },
        {
          "output_type": "stream",
          "name": "stdout",
          "text": [
            "62\n",
            "['욕을 하도 먹어 체했어 하도', '서러워도 어쩌겠어 I do', '모두들 미워하느라 애썼네', '날 무너뜨리면 ', '밥이 되나 ', '외로워서 어떡해', '미움마저 삼켰어', '화낼 힘도 없어', '여유도 없고', '뭐 그리 아니꼬와', '가던 길 그냥 가', '왜들 그래 서럽게', ' ', '마리아 마리아 ', '널 위한 말이야', '빛나는 밤이야 ', '널 괴롭히지마', '오 마리아 널 위한 말이야', '뭐 하러 아등바등해', '이미 아름다운데', '(yeah) Oh na ah ah ', '(yeah) 널 위한 말이야', '(yeah) Oh na ah ah', '(yeah) 아름다워 마리아', ' ', 'No frame no fake', '지끈 지끈거려', '하늘은 하늘색 사는 게 다 뻔해', '내가 갈 길은 내가 바꾸지 뭐', '위기는 기회로 다 바꾸지 뭐', '굳이 우는 꼴이 보고 싶다면 ', '옜다 눈물 ', ' ', '외로워서 어떡해', '미움마저 삼켰어', '화낼 힘도 없어', '이유도 없고', '마음을 더럽히지마', '타락하기엔 아직 일러', '마리아 마리아 ', '널 위한 말이야', '빛나는 밤이야 ', '널 괴롭히지마', '오 마리아 널 위한 말이야', '뭐 하러 아등바등해', '이미 아름다운데', ' ', '(yeah) Oh na ah ah', '(yeah) 널 위한 말이야', '(yeah) Oh na ah ah', '(yeah) 아름다워 마리아', '마리아 마리아 ', '널 위한 말이야', '빛나는 밤이야 ', '널 괴롭히지마', '오 마리아 널 위한 말이야', '뭐 하러 아등바등해', '이미 아름다운데', '(yeah) Oh na ah ah', '(yeah) 널 위한 말이야', '(yeah) 널 위한 말이야', '(yeah) 아름다워 마리아']\n"
          ]
        },
        {
          "output_type": "stream",
          "name": "stderr",
          "text": [
            "\r616it [5:08:22, 39.83s/it]"
          ]
        },
        {
          "output_type": "stream",
          "name": "stdout",
          "text": [
            "54\n",
            "['hey girls yeah', 'you ready woo', '때가 왔을 때 그럴 때 난 용감해', '고민하면서 망설이진 않을 거야', '정했어 난 지금 널 만나러 갈래', 'he’s gonna love me right', '잘 봐 적당한 바람', '날 너에게 훌쩍 데려다 줄 거야', '잘 봐 이제 네 맘이', '파도처럼 일렁이게 될 테니까', '네 마음 위로 번지 난 완벽하게 착지', '손가락을 펴고 v를 그린 다음', '또다시 한 번 번지 정확히 한가운데', '너는 이제 나 뿐야 yeah', '1 2 me &amp; you hola hola', '3 4 fall in love hola hola', '다시 한번 번지 정확히 한가운데', '나는 이제 너 뿐야 yeah', 'I’m so glad met today huh', 'don’t worry about me boy yeh', '너에게 가는 길 쯤이야', '파악 다 끝난 지 저기 먼 오래 ya', '오래도록 이 순간을 기다렸던 거야', '어설픈 보호 필요 없어 run', '안전장치 없이 그냥 막 뛰는 거야', '잘 봐 빛나는 햇살', '내 모습을 눈부시게 비출 거야', '잘 봐 지금 내 맘이', '널 향해서 뛰고 있어', '이렇게 woo hoo', '네 마음 위로 번지 난 완벽하게 착지', '손가락을 펴고 v를 그린 다음', '또다시 한 번 번지 정확히 한가운데', '너는 이제 나 뿐야 yeah', '1 2 me &amp; you hola hola', '3 4 fall in love hola hola', '다시 한번 번지 정확히 한가운데', '나는 이제 너 뿐야 yeah', 'come on girls', 'we’re about to jump', 'into love right now', 'put your hands together now', 'come on', '손가락을 쫙 펴고서 right', '너에게 날아갈 거야', '준비됐다면 turn up jump', '네 마음 위로 번지 난 완벽하게 착지', '손가락을 펴고 v를 그린 다음', '또다시 한 번 번지 하늘은 바다가 돼', '너는 이제 나 뿐야 yeah', '1 2 me &amp; you hola hola', '3 4 fall in love hola hola', '다시 한 번 번지 바다는 하늘이 돼', '나는 이제 너 뿐야 yeah']\n"
          ]
        },
        {
          "output_type": "stream",
          "name": "stderr",
          "text": [
            "\r617it [5:09:02, 39.80s/it]"
          ]
        },
        {
          "output_type": "stream",
          "name": "stdout",
          "text": [
            "83\n",
            "['FANTASTIC BABY', '여기 붙어라 모두 모여라 ', 'WE GON’ PARTY LIKE  ', '리리리라라라 ', '맘을 열어라 머릴 비워라  ', '불을 지펴라 리리리라라라 ', '정답은 묻지 말고 그대로 받아들여  ', '느낌대로 가 ALRIGHT ', '하늘을 마주하고 두 손을 다 위로  ', '저 위로 날뛰고 싶어 OH ', '나나나나나 나나나나나  ', 'WOW FANTASTIC BABY ', 'DANCE I WANNA DAN DAN DAN DAN  ', 'DANCE FANTASTIC BABY ', 'DANCE I WANNA DAN DAN DAN DAN  ', 'DANCE WOW FANTASTIC BABY ', '이 난장판에 HEY 끝판 왕 차례 HEY ', '땅을 흔들고 3분으론 불충분한  ', 'RACE WAIT ', '분위기는 과열  ', 'HUH CATCH ME ON FIRE HUH ', '진짜가 나타났다 나나나나 ', '하나부터 열까지 모든 게 다 한 수위 ', '모래 벌판 위를 미친 듯이  ', '뛰어봐도 거뜬한 우리 ', '하늘은 충분히 너무나 푸르니까 ', '아무것도 묻지 말란 말이야  ', '느끼란 말이야 내가 누군지 ', '네 심장소리에 맞게 뛰기 시작해  ', '막이 끝날 때까지 YE ', 'I CAN’T BABY DON’T’ STOP THIS  ', '오늘은 타락해 미쳐 발악해 ', '가는거야', 'WOW FANTASTIC BABY ', 'DANCE I WANNA DAN DAN DAN DAN  ', 'DANCE FANTASTIC BABY ', 'DANCE I WANNA DAN DAN DAN DAN  ', 'DANCE WOW FANTASTIC BABY ', 'BOOM SHAKALAKA ', 'BOOM SHAKALAKA ', 'BOOM SHAKALAKA ', 'DAN DAN DAN DAN  ', 'DANCE ', 'BOOM SHAKALAKA ', 'BOOM SHAKALAKA ', 'BOOM SHAKALAKA ', 'DAN DAN DAN DAN  ', '날 따라 잡아볼 테면 와봐  ', '난 영원한 딴따라 ', '오늘 밤 금기란 내겐 없어  ', 'mama just let me be your lover ', '이 혼란 속을 넘어 나나나나나 ', '머리끝부터 발끝까지 비쥬얼은  ', '쇼크 내 감각은 소문난 꾼  ', '앞서가는 촉 ', '남들보다는 빠른 걸음  ', '차원이 다른 젊음  ', '얼음얼음얼음 HOLD UP  ', '나나나나나 ', '네 심장소리에 맞게 뛰기 시작해  ', '막이 끝날 때까지 YE ', 'I CAN’T BABY DON’T’ STOP THIS  ', '오늘은 타락해 미쳐 발악해  ', '가는거야', 'WOW FANTASTIC BABY ', 'DANCE I WANNA DAN DAN DAN DAN  ', 'DANCE FANTASTIC BABY ', 'DANCE I WANNA DAN DAN DAN DAN  ', 'DANCE WOW FANTASTIC BABY ', 'BOOM SHAKALAKA ', 'BOOM SHAKALAKA ', 'BOOM SHAKALAKA ', 'DAN DAN DAN DAN  ', 'DANCE ', 'BOOM SHAKALAKA ', 'BOOM SHAKALAKA ', 'BOOM SHAKALAKA ', 'DAN DAN DAN DAN  ', '다 같이 놀자 YE YE YE ', '다 같이 뛰자 YE YE YE', '다 같이 돌자 YE YE YE ', '다 같이 가자', 'WOW FANTASTIC BABY']\n"
          ]
        },
        {
          "output_type": "stream",
          "name": "stderr",
          "text": [
            "\r618it [5:10:01, 45.44s/it]"
          ]
        },
        {
          "output_type": "stream",
          "name": "stdout",
          "text": [
            "61\n",
            "['설레어 너와 나의 랑데뷰 ', '랑데뷰', '내 마음을 들었다 놨다 해 맘대루 ', '맘대루', '지금 내 눈엔 눈엔 눈엔', '네 어깨 무릎 발 Oh', '숨이 탁 막힐 것 같아 난 너만 보면', 'wow wow ', '정신을 또 놔 놔 네 매력에', '난 난 놀라게 돼 또 ', 'Hit it Hit it Hit it HO', '우우우 무슨 말이 필요해 넌 ', '숨이 콱 막힐 것 같아 넌 ', '자꾸만 봐 자꾸 와 ', '이제 나만 보게 될 거야 ', '너를 들었다 놓을 거야', '넌 점점 더 Fall in love', 'Give it to you My 눈눈눈눈눈눈 눈빛', '쏟아지는 My 터터터터터터 터치', '하나뿐인 My 럽럽럽럽럽 My Luver', '내 머리부터 뿜뿜 ', '내 발끝까지 뿜뿜 뿜뿜 어', 'Just feel it 뿜뿜', '네 앞에서 난 뿜뿜 ', '네게 줄게 뿜뿜 뿜뿜 어', '지금 보고 있는 게 꿈은 아닐 걸 ', 'Wake Up Wake Up ', '땡땡이치고 날 만나게 될 걸 ', 'Take off Take off', '매력을 야 뿜어뿜어뿜어뿜어 ', '보여줄게 Pic up the phone', 'Now or Never Pick up Pick up', 'wow wow ', '정신없이 쿵 쿵 ', '내 마음을 뿜 뿜 사정없이 또 ', 'Hit it Hit it Hit it HO', '우우우 여기서 뭘 어떻게 더', '낮이나 밤이나 빛이나 미쳤나봐', '떨리지 막 떨려와 ', '이제 나만 생각 날 거야 ', '밤에 잠도 잘 못 잘 거야 ', '점점 더 Fall in love', 'Give it to you My 눈눈눈눈눈눈 눈빛', '쏟아지는 My 터터터터터터 터치', '하나뿐인 My 럽럽럽럽럽 My Luver', '내 머리부터 뿜뿜 ', '내 발끝까지 뿜뿜 뿜뿜 어', '우 너만 보면 너만 보면 ', '내 가슴이 뿜뿜뿜뿜', '뿜뿜뿜뿜 뿜', '우 자꾸 봐도 자꾸 봐도 ', '내 가슴이 쿵쿵쿵쿵', '뿜뿜뿜뿜', 'Give it to you My 눈눈눈눈눈눈 눈빛', '쏟아지는 My 터터터터터터 터치', '하나뿐인 My 럽럽럽럽럽 My Luver', '내 머리부터 뿜뿜 ', '내 발끝까지 뿜뿜 뿜뿜 어', 'Just feel it 뿜뿜', '네 앞에서 난 뿜뿜 ', '네게 줄게 뿜뿜 뿜뿜 어']\n"
          ]
        },
        {
          "output_type": "stream",
          "name": "stderr",
          "text": [
            "\r619it [5:10:44, 44.96s/it]"
          ]
        },
        {
          "output_type": "stream",
          "name": "stdout",
          "text": [
            "82\n",
            "['I like you babe', '어디가 그렇게 좋으냐고 묻네', 'Baby wait a sec', '손가락 열 개를 다 접어도', '이유를 다 세지 못할 만큼', 'Just like you babe', '이걸론 부족해', '말해 뭐 해 거 아가씨', '넌 조물주의 마스터피스', '어제 마젤란이 말하길', '너 찾아다닌 거래 지구 한 바퀴', '반대로 반대로 넌 내가 왜 좋아', '마 뜨면 혼나 야', 'Milli는 뭔 Milli 넌 Billi um', 'Trillion', '말해줘 일일이 어', '겉으로만 수백 가지', '그 속엔 백만 가지', '이유들로 네가 좋아 Baby', '해가 두 번 뜰 때까지', '옆에 있어 줄래 같이', '다 말해주고 싶어', '네가 좋은 이유', 'Got millions millions millions', 'The reason I like you', 'Oh yeah yeah yeah', '네가 좋은 이유', 'Got millions millions millions', 'The reason I like you', 'Oh yeah yeah yeah yeah yeah', 'I like you babe', '어디가 그렇게 좋으냐고 묻네', 'Baby wait a sec', '이틀을 쉬지 않고 말해도', '끝없이 말할 수 있을 만큼', 'Just like you babe', '이걸론 부족해', '네가 얼마큼 좋냐고', '이 세상 컬러에 숫자를 매길게', '어려운 수학은 몰라도', '사랑은 더하고 제곱에 Babe', '코끝을 간지럽히는', '봄이 찾아온 듯이 꽃 피는', '내 맘에 나비가 돼 날아와', '날갯짓에 난 또 설레잖아', '겉으로만 수백 가지', '그 속엔 백만 가지', '이유들로 네가 좋아 Baby', '해가 두 번 뜰 때까지', '옆에 있어 줄래 같이', '다 말해주고 싶어', '네가 좋은 이유', 'Got millions millions millions', 'The reason I like you', 'Oh yeah yeah yeah', '네가 좋은 이유', 'Got millions millions millions', 'The reason I like you', 'Oh yeah yeah yeah yeah yeah', 'One 원해 내 마음이 너를 원해', 'Two 투정 부려도 예쁘네', 'Three 스릴러 영화는 싫은데', '너와 함께면 열 번을 봐도 Ok', 'Four For me 나를 위해주네', 'Five Five star S라인 몸매', 'Six Sixth sense 반전 매력에', '음', '네가 좋은 이유', 'Got millions millions millions', 'The reason I like you', 'Oh yeah yeah yeah', '네가 좋은 이유', 'Got millions millions millions', 'The reason I like you', 'Oh yeah yeah yeah', '네가 좋은 이유 Got millions', '듣고 싶을 때 언제든지 말만 해', '이 노랠 불러줄게', '네가 좋은 이유 Got millions', '알고 싶을 때 언제든지 말만 해', '내가 다 말해줄게', '네가 좋은 이유 Got millions<br <=\"\" div=\"\"/>\\n<button class=\"button_more arrow_d\" data-control=\"expose\" data-expose-target=\"#d_video_summary\" data-expose-type=\"more\" title=\"MILLIONS 가사 더보기\" type=\"button\">\\n<span class=\"text\">펼치기</span>\\n<i class=\"button_icons etc arrow_d\"></i>\\n</button>']\n"
          ]
        },
        {
          "output_type": "stream",
          "name": "stderr",
          "text": [
            "\r620it [5:11:43, 49.18s/it]"
          ]
        },
        {
          "output_type": "stream",
          "name": "stdout",
          "text": [
            "60\n",
            "['너와 나의 입술이 점점 ', '느껴지는 이 순간 속에 뜨거운 공기 ', '온몸에 전율이 와 ', '이제 너와 내가 써 내릴 Story ', \"I don't know why \", '나도 모르게 ', '더 빠져들어가 ', '숨 막히게 Baby ', \"I don't know why \", '지금 이 순간 ', '멈출 수 없는 기분 No No No No ', 'Make me feel so high ', '미치겠어 날 멈출 순 없어 ', 'You make me feel so high ', \"I'm so crazy 너가 나를 본 순간 \", '막 끌려 더 날 당겨줘 Baby ', \"I'm feelin’ so energetic \", '오늘 밤 둘이 Out of control Yeah ', \"I'm feelin’ so energetic \", '내 심장이 멈추는 그 순간까지 ', '너를 지켜줄게 사라지지 않게 ', '한 순간의 작은 약속들은 아냐 ', '이젠 말해 내게 Baby ', 'You tell me how to feel ', 'Uh 1 2 3 &amp; 4 ', '니 옆의 딴 놈들이 거슬려 좀 ', 'Who am I 오직 너만을 지키는 킬러 ', '말 그대로 난 좀 죽여줘 Yeah ', 'Uh 너를 품에 안고 비상해 ', '걱정은 버려 지하에 ', '뭐를 하든 간에 하나라는 수식어가 ', '맴돌 거야 너와 나의 귓가에 ', 'Make me feel so high ', '미치겠어 날 멈출 순 없어 ', 'You make me feel so high ', \"I'm so crazy 너가 나를 본 순간 \", '막 끌려 더 날 당겨줘 Baby ', \"I'm feelin’ so energetic \", '오늘 밤 둘이 Out of control Yeah ', \"I'm feelin’ so energetic \", \"I'm feelin’ good \", 'I wanna touch ', '멈출 수 없는 이 기분은 마치 Freedom ', \"I'm feelin’ good \", 'I wanna touch baby ', '어서 내게 와줘 Tonight Yeah ', 'Alright ', 'Oh Oh Work your body ', '다가와서 즐길 시간이 Let’s dance ', '아껴둔 너의 신발이 ', '더러워지더라도 ', '움직여 빨리 Hurry up ', '질문은 나중에 해', '딴 남자들은 넘보지 말게', '누가 봐도 So 쿨하게', '이제 시작해 You know I mean', '막 끌려 더 날 당겨줘 Baby', \"I'm feelin’ so energetic\", '너와 단둘이 Out of control Yeah', \"I'm feelin’ so energetic\"]\n"
          ]
        },
        {
          "output_type": "stream",
          "name": "stderr",
          "text": [
            "\r621it [5:12:26, 47.30s/it]"
          ]
        },
        {
          "output_type": "stream",
          "name": "stdout",
          "text": [
            "62\n",
            "['La La La La La La La La La La La La', 'La La La La La La La La La La La La', '날카로운 Secret 둘러싼 얘긴 베일 속에 ', '점점 더 깊은 H H Hush 맘을 겨눠 이제', '여긴 온통 어두운 밤 하늘색 ', '그림자조차 길을 잃게 해', 'Oh 넌 항상 Love is game ', '쉽게 즐기는 가벼움일 뿐이라고', '뭐 이렇게 못된 얘기로 ', '자꾸 피해 가려고만 하니 왜', '커지는 Heart B B Beat 빨라지는데', '너답지 않게 Heart B B B Beat 거려 ', '나를 볼 때 ', '마지막 남은 순간까지 ', '점점 다가오지 Crazy', '아찔하게 겨눈 러시안 룰렛 ', 'Ah Ah Ah Yeah ', 'La La La La La La La La La La La La', 'Heart B B B Beat', '마지막 남은 순간까지', '내게 맡기게 될 거야 넌', '달콤한 너의 러시안 룰렛', '반짝인 Secret 더 이상 외면하진 못 해 ', '버튼은 내가 P P Push 받아들여 이제', '네 맘 온통 내 모습 채워지게 ', '꿈 꿀 때조차 나를 찾게 돼', 'Oh 아직 넌 Love is game ', '내게 말해도 흔들려 네 목소리도 ', '장난스레 스친 눈빛 너머로 ', '어쩔 줄 모르는 네 모습', '커지는 Heart B B Beat 빨라지는데', '너답지 않게 Heart B B B Beat 거려', '나를 볼 때 ', '마지막 남은 순간까지 ', '점점 다가오지 Crazy', '아찔하게 겨눈 러시안 룰렛 ', 'Ah Ah Ah Yeah ', 'La La La La La La La La La La La La', 'Heart B B B Beat', '마지막 남은 순간까지', '내게 맡기게 될 거야 넌', '달콤한 너의 러시안 룰렛', '이토록 깊은 꿈이 넌 처음일 걸', '내 맘이 이 밤이 아른거리는 Game ', 'You can’t control', '커지는 Heart B B Beat 빨라지는데', '터질듯한 Heart B B B Beat', 'Key는 내가 쥘게', '마지막 남은 순간까지 ', '점점 다가오지 Crazy', '아찔하게 겨눈 러시안 룰렛 ', 'Ah Ah Ah Yeah ', 'La La La La La La La La La La La La', 'Heart B B B Beat', '마침내 빼낼 수도 없게 박혀 ', '네 심장 더 깊은 곳', '달콤한 너의 러시안 룰렛', '커지는 Heart B B Beat 빨라지는데', 'La La La La La La La La La La La La', '커지는 Heart B B Beat 빨라지는데', 'La La La La La', 'Heart B B B Beat']\n"
          ]
        },
        {
          "output_type": "stream",
          "name": "stderr",
          "text": [
            "\r622it [5:13:11, 46.41s/it]"
          ]
        },
        {
          "output_type": "stream",
          "name": "stdout",
          "text": [
            "69\n",
            "['Why', 'Oh yeah yeah', 'Oh 언젠가는 내 두 발이', 'Oh 닿는 대로', '이끌리는 시선을 뺏겨버린 대로', '가볍게 걸어갈 낯선 곳을 그리다', '또 결국엔 허전한 긴 한숨에 멈춰', 'Why Why 돌아서 또 넌', 'Why Why 꿈만 가득해', '지금 떠난다면', 'Good Good Good yeah', '만나게 될 모든 건', 'Great Great yeah', '가벼워진 맘이', 'Work Work baby', '이미 이미 눈 앞에', '아른아른대는데 망설여 Why', '나침반 위 돌아가던 바늘이', '멈춘 곳에 가득 핀', '이름 모를 꽃잎이', '널 위해 끌어당긴', '빛이 담긴 풍경 속에', '어서 뛰어들어', '나보다 자유롭게 더', 'Why Why Why', '괜히 미뤄 왔던 날', '많았던 걱정이 모두 다 사라진', 'tonight yeah', '바람 불어오면', 'Good Good Good yeah', '펼쳐지는 모든 건', 'Great Great yeah', '달라지는 맘이', 'Work Work baby', '이미 이미 눈 앞에', '아른아른대는데', '지금 떠난다면', 'Good Good Good yeah', '만나게 될 모든 건', 'Great Great yeah', '가벼워진 맘이', 'Work Work baby', '이미 이미 눈 앞에', '아른아른대는데 망설여 Why', '쫓아가기도 벅차 숨이 찬', '세상이 전부는 아냐', '하루 종일 걸어도', '똑같은 풍경은', '절대 보이지 않아', '하얀 종이에 적어 본 Why', '잉크처럼 번지는 맘', \"I'm falling I'm falling\", \"I'm falling to you\", '바람 불어오면', 'Good Good Good yeah', '펼쳐지는 모든 건', 'Great Great yeah', '달라지는 맘이', 'Work Work baby', '이미 이미 눈 앞에', '아른아른대는데', '지금 떠난다면', 'Good Good Good yeah', '만나게 될 모든 건', 'Great Great yeah', '가벼워진 맘이', 'Work Work baby', '이미 이미 눈 앞에', '아른아른대는데 망설여 Why']\n"
          ]
        },
        {
          "output_type": "stream",
          "name": "stderr",
          "text": [
            "\r623it [5:14:01, 47.64s/it]"
          ]
        },
        {
          "output_type": "stream",
          "name": "stdout",
          "text": [
            "63\n",
            "['너무 치사하잖아 너답지 못하잖아', '지금 적응이 안돼 어 어 어지러워 왜', '누가 누구랑 헤어져', '네가 나랑 헤어져', '잘 생각하고 말해 Yeah', '날 따라다니던 남자', '참 괜찮았던 남자', '난 너 하나 때문에 다다다 보냈는데', '누가 누구랑 헤어져', '네가 나랑 헤어져', '나 없이 잘 살아봐 yeah', 'Tonight 하필 또 비는 내려 왜', '내 모습 초라해지게', '날 위로 하지는 마', '이 손 치워 이제 남이니까', '내 걱정 말고 Go Away', '집착 없이 사라져 줄게', '매달릴 줄 알았겠지', '역겨워 착각하지마', '더 멋진 사람 만날게', '널 후회하게 만들어 줄게', '슬픔은 지금 뿐야 boy', 'Cause love is over', 'Love love is over tonight', 'Just say what you gotta say', '어쩜 끝까지 멋없니', 'Fiance Beyonce', \"I'm walkin' out of destiny\", '초라한 홀로가 아닌 화려한 솔로', \"That's my way\", '모든걸 다 줬으니', '오히려 난 후회 안 해', '지가 더 슬픈 척', '끝까지 멋있는 척', 'All you do is act a fool', \"You ain't shit without your crew\", '시간 없어 I gotta go', '안녕 good bye adios', '네 못난 얼굴 다신 보고 싶진 않아', 'no more', 'Tonight 하필 또 비는 내려 왜', '내 모습 초라해지게', '날 위로 하지는 마', '이 손 치워 이제 남이니까', '내 걱정 말고 Go Away', '집착 없이 사라져 줄게', '매달릴 줄 알았겠지', '역겨워 착각하지마', '더 멋진 사람 만날게', '널 후회하게 만들어 줄게', '슬픔은 지금 뿐야 boy', 'Cause love is over', 'Love love is over tonight', '내 걱정 말고 Go Away', '집착 없이 사라져 줄게', '매달릴 줄 알았겠지', '역겨워 착각하지마', '더 멋진 사람 만날게', '널 후회하게 만들어 줄게', '슬픔은 지금 뿐야 boy', 'Cause love is over', 'Love love is over tonight', ' ']\n"
          ]
        },
        {
          "output_type": "stream",
          "name": "stderr",
          "text": [
            "\r624it [5:14:47, 47.06s/it]"
          ]
        },
        {
          "output_type": "stream",
          "name": "stdout",
          "text": [
            "57\n",
            "['I’ll like it I’ll like it like that', 'I’m feeling something 난 홀린 듯이', '아득히 어지러운 눈부심', '안갯속으로 날 이끄는 힘', 'Even 불꽃보다 뜨거운 blue', '제멋대로 춤을 추다 사라지고', 'I’ll like it I’ll like it like that', '어지럽던 푸른빛은 화려해져', '손 데일만큼 뜨겁도록 타올라 더', '경계를 넘어 펼쳐지는 unknown 저 끝까지', '무료했던 날이 제법 아름다워', '타오른 이상 멈출 수는 없어 my desire', \"Will-O' The-Wisp babe\", \"Oh baby It's blue flame\", \"Will-O' The-Wisp babe\", 'That that that is faction', \"Will-O' The-Wisp babe\", \"Oh baby It's blue flame\", \"Will-O' The-Wisp babe\", 'That that that is faction', 'Unknown 두려움에 감춰 있던 베일이', '이 어둠이 시야를 벗어나 glow', '저기 너머에 뭐가 있든지', '푸른 호기심일 뿐인걸', '제멋대로 춤을 추다 사라지고', 'I’ll like it I’ll like it like that', '어지럽던 푸른빛은 화려해져', '손 데일만큼 뜨겁도록 타올라 더', '경계를 넘어 펼쳐지는 unknown 저 끝까지', '무료했던 날이 제법 아름다워', '타오른 이상 멈출 수는 없어 my desire', \"Will-O' The-Wisp babe\", \"Oh baby It's blue flame\", \"Will-O' The-Wisp babe\", 'That that that is faction', \"Will-O' The-Wisp babe\", \"Oh baby It's blue flame\", \"Will-O' The-Wisp babe\", 'That that that is faction', '무너지는 limit 기분은 so thrilling', '깊이 나를 파고들어', '처음 본 순간부터 이끌린', '오묘한 색의 빛 속', '기다린 듯 now I’m burning', '눈부시게 shine', '손 데일만큼 뜨겁도록 타올라 더', '경계를 넘어 펼쳐지는 unknown 저 끝까지', '무료했던 날이 제법 아름다워', '타오른 이상 멈출 수는 없어 my desire', \"Will-O' The-Wisp babe\", \"Oh baby It's blue flame\", \"Will-O' The-Wisp babe\", 'That that that is faction', \"Will-O' The-Wisp babe\", \"Oh baby It's blue flame\", \"Will-O' The-Wisp babe\", 'That that that is faction']\n"
          ]
        },
        {
          "output_type": "stream",
          "name": "stderr",
          "text": [
            "\r625it [5:15:26, 44.78s/it]"
          ]
        },
        {
          "output_type": "stream",
          "name": "stdout",
          "text": [
            "57\n",
            "['모두 할 말을 잃지 Like you', '4차원 이상의 기적의 View', '달콤히 찍어 문 빛의 퐁듀', '보이기 시작한 음의 색도', '예민해진 걸 느껴', '뚜렷한 색감과 여섯 번째 감각', 'Tonight is the night', '좀 거칠어도 좋아', '더 민감히 굴어봐', '더는 숨기지 말아줘', '너무 아름다운 다운 다운 다운 View', '너무 아름다운 다운 다운 다운 View', '더 보여줘 다음 다음 다음 다음 View', '너무 아름다운 다운 다운 다운 View', '너무 아름다운 다운 다운 그곳으로', '너무 아름다운 다운 다운 데려가 줘', '더 보여줘 다음 다음 다음', '더 보여줘', '너무 아름다운 다운 다운 다운 View', '저 하늘을 곱게 접는', '이 바다를 병에 담는 시간도', '편히 걷는 꿈들을 이뤄 난', 'By my side', '상상한 게 뭐든 전부 보여 줄게', '이제 말해봐 Yeah yeah', '예민해진 걸 느껴', '은근한 촉감과 끝없어진 감각', 'Tonight is the night', '이상하대도 좋아', '잠들었던 감각의 한계를', '넘어선 그 순간', 'Yeah yeah yeah', '너무 아름다운 다운 다운 다운 View', '너무 아름다운 다운 다운 다운 View', '더 보여줘 다음 다음 다음 다음 View', '너무 아름다운 다운 다운 다운 View', '너무 아름다운 다운 다운 그곳으로', '너무 아름다운 다운 다운 데려가 줘', '더 보여줘 다음 다음 다음', '더 보여줘', '너무 아름다운 다운 다운 다운 View', '지루함에 익숙해져', '특별함을 잊었잖아', '이제 천천히 고개를 들어 줘', '내 두 눈에 입 맞춰', '너무 아름다운 다운 다운', '그곳으로', '너무 아름다운 다운 다운', '그곳으로', '데려가 줘', '누구든 처음이겠지 Like you', 'I feel a thousand senses', '별빛의 향과 맛을 본 것도', 'I’ll never leave you lonely', '향기의 무게를 느낀 것도', 'I won’t let you down', '소리의 색과 모양 본 것도']\n"
          ]
        },
        {
          "output_type": "stream",
          "name": "stderr",
          "text": [
            "\r626it [5:16:07, 43.54s/it]"
          ]
        },
        {
          "output_type": "stream",
          "name": "stdout",
          "text": [
            "61\n",
            "['Let’s get it, get it driving, never stop it', '나지막한 리듬까지 drippin’', '어둠을 헤집고 다 올라타', '수평선에 비친 푸른빛의 paradise', '찬란하게 펼친 태양빛에 빠져들어가', '달콤한 미소에 홀린 듯', '네게 다가가 말해 I want you', '나는 항상 think of you', '혹시 너도 think of me', 'Wanna take you on my date', '1 2 3 let’s go', 'My candy sugar pop', '어디든 내게 말해봐', '한 발 더 다가와', '말해 줄래 take you tonight', '눈앞에 ocean view', '푸른 너울 flower bloom', 'My candy sugar pop', '어디든지 hope you tonight', '사르르 녹아 네 말 한마디에 파르르', '번번이 다리를 동동 구르는 나', '구름을 밟는 듯해 이건 love', '차 타고 하늘 위 driving ', '너와 나 어디든 arrive in', '느껴 real thrill ', '채워 fill feel', '하고 싶은 대로 해봐', 'I’ll be still there', '시원한 바람 우릴 감싸', '파도치는 빛과 눈부신 blue', '잠시 길을 벗어나', '함께하는 이 순간', 'Drive to the paradise', '1 2 3 let’s go', 'My candy sugar pop', '아무도 몰래 말이야', '한 발 더 다가와', '말해 줄래 take you tonight', '눈앞에 ocean view', '푸른 너울 flower bloom ', 'My candy sugar pop', '어디든지 hope you tonight', '아름다워', '함께 만들어 가는 저 하늘 위 dreams', '두 갈림길 끝에 one way (take me home tonight)', 'Woah woah woah oh', 'My candy sugar pop', '어디든 내게 말해봐', '한 발 더 다가와', '말해 줄래 take you tonight', '내 눈에 비친 너 네 눈에 비친 나', '음 계속 말해줘', '함께라는 지금 all night', 'Oh candy sugar pop', 'Baby 이 순간 즐기는 것밖에 답이 없어 같이 뛰어봐', 'My candy sugar pop', '말해 줄래 take you tonight', \"I'll take you there 우주 저 끝에\", '너와 내 곁엔 빛이 가득해', 'My candy sugar pop', '어디든지 hope you tonight']\n"
          ]
        },
        {
          "output_type": "stream",
          "name": "stderr",
          "text": [
            "\r627it [5:16:50, 43.43s/it]"
          ]
        },
        {
          "output_type": "stream",
          "name": "stdout",
          "text": [
            "85\n",
            "['딩가딩가할래', '친구들 모아', '한잔 할래', 'Drink like a like a like a fish', '딩가딩 링가링', '노는 게 좋아 yeah', '딩가딩가 딩가딩가', 'ice cream 먹으러 갈래', '나나나나나', '딩가딩가', '유유자적해 여기 방구석에', '언제부터인지', '사회와의 거리가 꽤나 멀지', '이 여름이 다 지났네', '차가운 땀이 나네', '밤이나 또 낮이나 제자리만 돌고 돌아', '부족해 비타민 D', '아까워요 delivery fee', '하필 완벽하네 날씨', '청개구리 난 원래 집순이야', '내 친구는 날파리고', '외로움만 쌓이죠', '해독할 시간이 필요해', '딩가딩가할래', '친구들 모아', '한잔 할래', 'Drink like a like a like a fish', '딩가딩 링가링', '노는 게 좋아 yeah', '딩가딩가 딩가딩가', 'ice cream 먹으러 갈래', '나나나나나', '1 2 3 4 네 앞을 봐', '왜 다들 화나 있어', '요즘 너무 삭막해', '그저 달콤한 휴식이 필요해', 'I need to love myself', 'All I need is your heart', 'Oh me oh my ay', '드라마만 정주행해', '드라이브는 못 가네 찌뿌둥해', '폰 게임으로 주행', 'Time is ticking ticking', \"Don't hold your breath\", '젊은 날이 fade out', '어디 가니 친구야', '쌓인 먼지 털어', '우리끼리 걸어', 'Let’s role play', '딩가딩가할래', '친구들 모아', '한잔 할래', 'Drink like a like a like a fish', '딩가딩 링가링', '노는 게 좋아 yeah', '딩가딩가 딩가딩가', 'ice cream 먹으러 갈래', '우리같이', '딩가딩가할래', 'We all gotta get away', '외쳐 woo ah', '딩가딩가할래 baby', 'Do you wanna dance', 'uh woo ah', '나나나나나', '나나나나나', '나나나나나', '딩가딩가해', '딩가딩가할래', '친구들 모아', '한잔 할래', 'Drink like a like a like a fish', '딩가딩 링가링', '노는 게 좋아 yeah', '딩가딩가 딩가딩가', 'ice cream 먹으러 갈래', '우리같이', '딩가딩가할래', 'We all gotta get away', '외쳐 woo ah', '딩가딩가할래 baby', 'Do you wanna dance', 'uh woo ah', '나나나나나', '딩가딩가']\n"
          ]
        },
        {
          "output_type": "stream",
          "name": "stderr",
          "text": [
            "\r628it [5:17:52, 48.93s/it]"
          ]
        },
        {
          "output_type": "stream",
          "name": "stdout",
          "text": [
            "51\n",
            "['어디까지 왔나 또 어디 숨었나', '맘에 들어 왔나 나나나나나 ', 'I like you', '어디서 오셨나요 ', '자꾸 눈이 가네요 ', '그대 눈빛이', '나는 참 맘에 드네요', '옆으로 가고 싶지만 ', '용기가 안나서  ', '가슴이 떨려와', '나는 참 망설이네요', '몰라 어떡해 난 몰라 미치겠어 ', '널 놓치기 싫어 ', '너에게로 점점 다가갈래 ', '점점 내 앞에서 떠날 수 없게', 'Roly Poly Roly Roly Poly', '날 밀어내도 난 다시 ', '네게로 다가가서', 'Roly Poly Roly Roly Poly', '나만 보일꺼야 ', '너에게 나를 보여 줄꺼야', '시계는 왜 보나요 ', '우리 만남부터 쭉 멈춰 있는데', '나는 참 맘에 드네요', '나 오늘 이상하네요 ', '자꾸 떨리네요 ', '그대를 보고서 나는 참 망설이네요', '몰라 불안해 난 몰라 미치겠어 ', '어디로 갈까봐 한걸음 더', '점점 다가갈래 ', '점점 내 눈에서 떠날 수 없게', 'Roly Poly Roly Roly Poly', '날 밀어내도 난 다시 ', '네게로 다가가서', 'Roly Poly Roly Roly Poly', '나만 보일꺼야 ', '너에게 나를 보여 줄꺼야', 'I like like this I like like ', 'that I like this like that yeah', 'Roly Poly Roly Roly Poly', '날 밀어내도 난 다시 ', '네게로 다가가서', 'Roly Poly Roly Roly Poly', '나만 보일꺼야 ', '너에게 나를 보여 줄꺼야', 'Ah Ah Ah Ah Tonight', '시간이 된거야 내게로 올거야 ', 'Oh Tonight', 'Ah Ah Ah Ah Tonight', '널 기다릴 거야 ', '너도 날 놓치기 싫을 거야']\n"
          ]
        },
        {
          "output_type": "stream",
          "name": "stderr",
          "text": [
            "\r629it [5:18:31, 45.87s/it]"
          ]
        },
        {
          "output_type": "stream",
          "name": "stdout",
          "text": [
            "68\n",
            "['Hey girls', 'do you know what time it is', 'It must be party time', 'Here we go', '여긴 Summer 지금 Radio를 켜', '흘러나오는 Favorite song', 'Hey turn it up', '뜨거운 리듬 이끄는 대로 Drive', '눈이 부신 여름 속으로 Oh Oh', '창을 넘어 온 바람을 따라', '지금 Yeah Yeah Yeah Yeah Yeah', 'Singing Yeah Yeah Yeah Yeah Yeah', '목소릴 높여 Louder and Louder', '파도소릴 따라 달려 Here we go', 'We can’t stop stop stop', '여긴 Party time', '이대로 계속 Party time', 'It’s a party', 'We gon rock rock rock', '짜릿하게 난', 'Tonight', 'P A R T Y P A R T Y', '레몬 소주 난 테킬라 넌 모히토', '가자 제주 캘리포니아 로마까지', '하얀 진주 품은 바다 멋진 파도 ', 'Finito', 'P A R T Y P A R T Y', 'We love summer', '바쁘게 뛰어 온 어젠 다 잊어버리고', 'Hey turn it up', '저 푸른 하늘 정말 완벽한 걸', '수면 위에 가득 물들어 Oh Oh', '찬란한 여름 다 가기 전에', '함께 Yeah Yeah Yeah Yeah Yeah', 'Singing Yeah Yeah Yeah Yeah Yeah', '들뜬 내 맘은 Higher and Higher', '어서 잔을 위로 A shot here we go', 'We can’t stop stop stop', '여긴 Party time', '이대로 계속 Party time', 'It’s a party', 'We gon rock rock rock', '짜릿하게 난', 'Tonight', 'P A R T Y P A R T Y', '레몬 소주 난 테킬라 넌 모히토', '가자 제주 캘리포니아 로마까지', '하얀 진주 품은 바다 멋진 파도 ', 'Finito', 'P A R T Y P A R T Y', '우릴 부를 Sunrise', '찾아와도 멈출 수 없어', '계속 되는 Party time', 'Go on and on and on 밤새도록', 'We can’t stop stop stop', '여긴 Party time', '이대로 계속 Party time', 'It’s a party', 'We gon rock rock rock', '짜릿하게 난', 'Tonight', 'P A R T Y P A R T Y', '레몬 소주 난 테킬라 넌 모히토', '가자 제주 캘리포니아 로마까지', '하얀 진주 품은 바다 멋진 파도 ', 'Finito', 'P A R T Y P A R T Y', 'Party time']\n"
          ]
        },
        {
          "output_type": "stream",
          "name": "stderr",
          "text": [
            "\r630it [5:19:36, 51.78s/it]"
          ]
        },
        {
          "output_type": "stream",
          "name": "stdout",
          "text": [
            "68\n",
            "['Take you home tonight', 'Take you home tonight Ooh yeah', '니가 나타나서 나에게', '무관심인 척 아닌 척 하는 게', '좀 그래 그래 그래 그래', '니 맘은 안그래 안그래 안그래', '내게 눈빛을 줬다 뺐다', '다 보이는 니 속 맘에 나는', '그래 그래 그래 그래 Oh yeah', 'I wanna take her to my house', 'It’s alright 우리 집으로 가자', 'woo 우리 집으로', 'It’s alright 단 아무도 모르게', '아무도 몰래', '10분 뒤에 저 앞에서', '너를 기다리고 있을게', 'It’s alright 우리 집으로 가자', '우리 집으로', '우리 집으로 우리 집으로', '우리 집으로 우리 집으로', 'I wanna take you to my house', '날 따라와', '이 시끄러운 곳을', '아무도 몰래 빠져나가', '나쁜 맘은 없어', '널 조금 더 깊이 알고 싶어', '그 아주 부드러운 음악 속', '너와 헤매고 싶어', '니 눈빛과 몸짓 다', '니가 하는 말보다 빨라', 'I know you want me too', '니 맘을 숨기지마', 'You know I want it too', 'You don’t wanna waste your time', 'It’s alright 우리 집으로 가자', 'woo 우리 집으로', 'It’s alright 단 아무도 모르게', '아무도 몰래', '10분 뒤에 저 앞에서', '너를 기다리고 있을게', 'It’s alright 우리 집으로 가자', '우리 집으로', '우리 집으로 너를 데리고 가는 길에', '나도 몰래 미치겠어', 'I Go I Go You Go You Go', 'We Go We Go Baby', 'One more time', '우리 집으로 니손을 꼭 잡고', '올라가는 이 길에 난 미치겠어', 'I know I know', 'You know You know', 'We know We know Baby', 'It’s alright 우리 집으로 가자', 'It’s alright 단 아무도 모르게', '10분 뒤에 저 앞에서', '너를 기다리고 있을게', 'It’s alright 우리 집으로 가자', '우리 집으로', 'It’s alright 우리 집으로 가자', '우리 집으로', 'It’s alright 단 아무도 모르게', '단 아무도 모르게 Baby', '10분 뒤에 저 앞에서', '저 앞에서', '너를 기다리고 있을게', '너를 기다릴게', 'It’s alright 우리 집으로 가자', '우리 집으로']\n"
          ]
        },
        {
          "output_type": "stream",
          "name": "stderr",
          "text": [
            "\r631it [5:20:23, 50.31s/it]"
          ]
        },
        {
          "output_type": "stream",
          "name": "stdout",
          "text": [
            "79\n",
            "['Ba-banana Ba-ba-banana-nana', 'Ba-banana Ba-ba-banana-nana', 'Ba-banana Ba-ba-banana-nana', 'Ba-banana Ba-ba-banana-nana', 'Oh 아무것도 안 했는데', '왜 시간은 벌써 3시', '아이스 아메리카노 마셔도 왜', '더 후끈후끈하니', '태양은 우릴 놀리고', '아스팔트 온도 50도 Wow', '원해요 에너지', '차갑거나 아예 뜨겁게', 'Summer Magic', '반짝인 그 Ocean 위로', '난 벌써 날아', 'Go Go 에어플레인', '번개처럼 날아라', '카우아이 파도 속 나를 던져 버리게', '이예이예 이예이예이예이예', 'Let’s power up', '까맣게 다 타버릴 거예요', 'Ba-banana Ba-ba-banana-nana', 'Ba-banana Ba-ba-banana-nana', 'Ba-banana Ba-ba-banana-nana Ba', 'Let’s power up', '놀 때 제일 신나니까요', 'Oh 좋아하는 걸 원해봐요', 'I want it I want it', 'want it want it yeah', '매일 그대 열정은 타오르죠', 'I’ll take it I’ll take it', 'take it take it yeah', '그런 게 우리의 천재적인 파워야', '즉흥적 본능적 맞아 그게 필요해', '떠나요 오늘 밤', '짜릿함을 찾으러 레벨업', '엔진 소리 들뜬 맘의', '백그라운드 뮤직 봐', '벌써 날아', 'Go Go', '에어플레인 태양 위로 날아라', 'Diving to the sky', '완전 소름 돋았어', '이예이예 이예이예이예이예', 'Let’s power up', '까맣게 다 타버릴 거예요', 'Go Go 에어플레인', '번개처럼 날아라', '카우아이 파도 속 나를 던져 버리게', '이예이예 이예이예이예이예', 'Let’s power up', '까맣게 다 타버릴 거예요', 'Ba-banana Ba-ba-banana-nana', 'Ba-banana Ba-ba-banana-nana', 'Ba-banana Ba-ba-banana-nana Ba', 'Let’s power up', '놀 때 제일 신나니까요', '선생님은 내게 말씀하셨죠', '놀 때도 일할 때도 즐겁게 해', '그래 난 유달리 반짝거렸죠', '뜨거움도 새로움도 It’s mine', 'Go Go 에어플레인', '번개처럼 날아라', '카우아이 파도 속 나를 던져 버리게', '이예이예 이예이예이예이예', 'Let’s power up', '까맣게 다 타버릴 거예요', 'Go Go 에어플레인', '태양 위로 날아라', 'Diving to the sky', '완전 소름 돋았어', '이예이예 이예이예이예이예', 'Let’s power up', '까맣게 다 타버릴 거예요', 'Ba-banana Ba-ba-banana-nana', 'Ba-banana Ba-ba-banana-nana', 'Ba-banana Ba-ba-banana-nana Ba', 'Let’s power up', '놀 때 제일 신나니까요']\n"
          ]
        },
        {
          "output_type": "stream",
          "name": "stderr",
          "text": [
            "\r632it [5:21:19, 51.85s/it]"
          ]
        },
        {
          "output_type": "stream",
          "name": "stdout",
          "text": [
            "95\n",
            "[\"can't stop we won't stop\", \"can't stop we won't stop\", \"ye U know we don't stop\", 'I just want you back', '좋은 사람 너는 내게 첫사랑', '사랑을 가르쳐 준 사람', 'Never Forget You', 'I Remember You', '기억해 너 하나만', '혹시나 너를 볼까 ', '니가 사준 옷을 입고', '니가 좋아하던 ', '짧은 머리를 하고', '너와 함께 걷던', '그 길을 지나 가기 위해서', '굳이 먼길을 돌았어', '혹시 니가 있을까봐', '전화번호도 아직 그대로', '혹시 나를 찾아 올까봐 ', '집도 그대로', '내 미니홈피 속에 너와 ', '듣던 노래뿐', '혹시 니가 올까봐 다시 ', '돌아 올까봐', '우리는 아직 잊지 못했는데', '우리는 아직 서로 원하는데', '우린 아직 사랑 하는데', '엇갈려', '사실은 보고 싶은데', '미치도록 너를 보고 싶은데', '한없이 널 기다려', '결국 너를 기다려', '혹시하고 멈춰서 ', '제자리를 맴도네', '좋은 사람 너는 내게 첫사랑', '사랑을 가르쳐 준 사람', 'Never Forget You', 'I Remember You', '기억해 너 하나만', 'Yo 혹시나 너를 볼까봐', '보게 되면 흔들릴까 봐', '내 맘이 약해질까봐', '말라 비튼 날 보일까봐', '너와 함께 걷던', '그 길을 피하기 위해서', '굳이 먼길을 돌았어', '혹시 니가 있을까봐', '전화번호도 이미 바꿨어', '혹시 니 생각이 날까 ', '집도 옮겼어', '하지만 입에선 ', '아직 못한 말이 새', '혹시 너를 볼까봐 ', '다시 돌아 올까봐', '우리는 아직 잊지 못했는데', '우리는 아직 서로 원하는데', '우린 아직 사랑 하는데', '엇갈려', '사실은 보고 싶은데', '미치도록 너를 보고 싶은데', '한없이 널 기다려', '결국 너를 기다려', '혹시하고 멈춰서 ', '제자리를 맴도네', '좋은 사람 너는 내게 첫사랑', '사랑을 가르쳐 준 사람', 'Never Forget You', 'I Remember You', '기억해 너 하나만', '다시 시작해 말하고 싶지만', '들리지도 또 보이지 않는', '너를 찾고 있어', '쏟아지는 장대비를 맞은채', '우리 처음 만난 ', '그곳으로 가는데', '자신이 너무나도 한심해 당신의', '따스했던 자리 아직 가슴에', '넌 더 견딜 수 있니', '그럼 나도 조금 더 견딜테니', '하지만 힘이 좀 들꺼야', '너무 사랑 했잖아', '참으려 애를 써봤어도', '어쩔 수가 없어', '혹시라도 우연히 널 볼까봐', '그대가 내 모습 볼까봐', '거울을 보며 눈물을 감춰', '혹시나 너 올까봐', '혹시나 그대 내게 올까봐', '좋은 사람 너는 내게 첫사랑', '사랑을 가르쳐 준 사람', '그대가 내 인생의 첫사랑', 'Never Forget You', 'I Remember You', '기억해 너 하나만', '나 아직 기억해 너 하나만']\n"
          ]
        },
        {
          "output_type": "stream",
          "name": "stderr",
          "text": [
            "\r633it [5:22:23, 55.58s/it]"
          ]
        },
        {
          "output_type": "stream",
          "name": "stdout",
          "text": [
            "76\n",
            "['Hey boy ', 'Look I’m gonna make ', 'this simple for you ', 'you got two choices ', 'YES or YES ', 'Ah 둘 중에 하나만 골라 ', 'YES or YES ', 'Ah ah 하나만 선택해 어서 ', 'YES or YES ', '내가 이렇게도 이기적이었던가 ', '뭔가 이렇게 갖고 싶던 적 있었나 ', '다 놀라 내 뻔뻔함에 ', 'Come on and tell me yes ', '생각보다 과감해진 나의 시나리오 ', '이 정도 Plan이면 완벽해 만족해 ', 'I don’t care 누가 뭐래도 ', 'You better tell me yes ', '내 맘은 정했어 YES ', '그럼 이제 네 대답을 들을 차례 ', '힘들면 보기를 줄게 넌 고르기만 해 ', '고민할 필요도 없게 해줄게 ', '뭘 고를지 몰라 준비해봤어 ', '둘 중에 하나만 골라 YES or YES ', '네 마음을 몰라 준비해봤어 ', '하나만 선택해 어서 YES or YES ', '싫어는 싫어 나 아니면 우리 ', '선택을 존중해 거절은 거절해 ', '선택지는 하나 자 선택은 네 맘 ', 'It’s all up to you ', '둘 중에 하나만 골라 YES or YES ', '진심일까 Do not guess ', '진심이니 Do not ask ', '애매한 좌우 말고 확실히 위아래로 ', 'There’s no letters N &amp; O ', '지워버릴래 오늘부로 ', '복잡하게 고민할 필요 ', '없어 정답은 YES YES YO ', '없던 이기심도 자극하는 ', '너의 눈과 ', '널 향한 호기심이 만나서 ', '타올라 타오른다 ', 'My heart burn burn burn ', '조금 쉽게 말하자면 ', '넌 뭘 골라도 날 만나게 될 거야 ', '뭐 좀 황당하긴 해도 ', '억지라고 해도 ', '절대 후회하지 않게 해줄게 ', '뭘 고를지 몰라 준비해봤어 ', '둘 중에 하나만 골라 YES or YES ', '네 마음을 몰라 준비해봤어 ', '하나만 선택해 어서 YES or YES ', '싫어는 싫어 나 아니면 우리 ', '선택을 존중해 거절은 거절해 ', '선택지는 하나 자 선택은 네 맘 ', 'Now it’s all up to you ', 'Maybe not ', 'No No ', 'Maybe yes ', 'No No ', '좀 더 선명하게 네 맘을 내게 보여봐 ', '귀 기울여봐 ', '무슨 소리가 들리지 않니 ', \"It's Simple Y E S Hey \", '둘 중에 하나만 골라 YES or YES ', '하나만 선택해 어서 YES or YES ', '하나 더 보태서 YES or YES or YES ', '골라봐 자 선택은 네 맘 ', '뭘 고를지 몰라 준비해봤어 ', '둘 중에 하나만 골라 YES or YES ', '네 마음을 몰라 준비해봤어 ', '하나만 선택해 어서 YES or YES ', '싫어는 싫어 나 아니면 우리 ', '선택을 존중해 거절은 거절해 ', '선택지는 하나 자 선택은 네 맘 ', 'It’s all up to you', '하나만 선택해 어서 YES or YES']\n"
          ]
        },
        {
          "output_type": "stream",
          "name": "stderr",
          "text": [
            "\r634it [5:23:12, 53.67s/it]"
          ]
        },
        {
          "output_type": "stream",
          "name": "stdout",
          "text": [
            "37\n",
            "['알 수 있었어 널 본 순간 ', '뭔가 특별하다는 걸', '눈빛 만으로도 느껴지니까 ', '마음이 움직이는 걸', '나비처럼 날아 나나나 나빌레라 ', '바람아 바람아 불어라', '훨훨 날아가 ', '너에게로 다가갈 수 있도록 ', '하얀 진심을 담아', '새롭게 시작해 볼래 너 그리고 나 ', '사랑을 동경해 앞으로도 잘 부탁해 ', '모아둔 마음을 주겠어 그리고 나 ', '마냥 기다리진 않을래', '다시 선 시작점이야 ', '조금 더 속도를 올려서', '물러선 나의 마음을 달래고 ', '이제는 더 다가갈게', '꽃처럼 피어나 나나나 나빌레라', '아직은 수줍은 아이야', '나도 떨려와 ', '우리 설렘 가득한 목소리로 ', '하얀 진심을 담아', '새롭게 시작해 볼래 너 그리고 나 ', '사랑을 동경해 앞으로도 잘 부탁해 ', '모아둔 마음을 주겠어 그리고 나 ', '마냥 기다리진 않을래', '바라고 바랐던 이 순간에 ', '항상 내 곁에 있어준 너와 함께 ', '나 언제나 그래왔듯 이룰 거니까', '꿈에서 깨어나 나나나 나빌레라 ', '언젠가 너와 나 둘이서', '활짝 펼쳐진 미래를 만들어가고 싶은걸 ', '너 하나면 충분하니까', '새롭게 시작해 볼래 너 그리고 나 ', '사랑을 동경해 앞으로도 잘 부탁해 ', '모아둔 마음을 주겠어 그리고 나 ', '마냥 기다리진 않을래']\n"
          ]
        },
        {
          "output_type": "stream",
          "name": "stderr",
          "text": [
            "\r635it [5:23:37, 44.93s/it]"
          ]
        },
        {
          "output_type": "stream",
          "name": "stdout",
          "text": [
            "70\n",
            "['Uhm yeah yah ', 'Oh gosh 난리야 Oh gosh ', '맞아 난 좀 기분파 ', '헤 금방 또 사랑에 빠져 ', 'Yeah yeah yeah yeah ', '새것만 좋아해요 반짝거리죠 ', '다들 그렇잖아요 맞죠 ', 'Peek A Boo 설렐 때만 사랑이니까 ', 'La la la la la ', '내 친구 모두 소리쳐 ', '넌 정말 문제야 ', 'I’m fine fine fine fine fine fine ', 'Peek Peek A Peek A Boo ', 'Peek Peek A Peek A Boo ', '흥이 난 여우 그런 나라구 ', 'Peek Peek A Peek A Boo ', 'I said 1 2 3 ', 'Play the game again ', '버튼을 눌러보자 쿵푸만큼 빨리 ', '중간에 내 맘 변해도 놀라지 말기 ', '혹시 끌리지 않니 그럼 Excuse me ', '자 전화해요 밤새 또 놀러 가요 함께 ', 'Restart a game ', '돌진해 롤링해 블랑카 ', '오늘 저녁도 Let’s go ', '놀이터는 붐비고 ', '지루해질 틈조차 없죠 ', 'Yeah yeah yeah ', '빙글빙글 돌아요 다들 똑같죠 ', '오 마침내 마주친 눈빛 ', 'Peek A Boo ', '새로워요 사랑인가요 ', 'La la la la la ', '내 친구 모두 소리쳐 ', '넌 정말 문제야 ', 'I’m fine fine fine fine fine fine ', 'Ma Boo Boo Boo ', 'Peek A Boo Boo Boo Boo', 'Peek Peek A Peek A Boo', 'Peek Peek A Peek A Boo', 'Peek Peek A Peek A Boo', '술래는 너로 정해졌어', '재밌을 거야 끼워 줄게', 'Peek Peek A Peek A Boo', '저 달이 정글짐에 걸릴', '시간까지 노는 거야', 'Peek Peek A Peek A Boo', 'Peek A Boo 이상해 어라 넌 좀 달라', '이런 게임 멈추고 너를 다시 보게 돼', '무섭지 않아 난 새로운 얘기가', '펼쳐질 거라는 걸 방금 느꼈으니까', 'Peek Peek A Peek A Boo', 'Peek Peek A Peek A Boo', '흥이 난 여우 그런 나라구', 'Peek Peek A Peek A Boo', '술래는 너로 정해졌어', '재밌을 거야 끼워 줄게', 'Peek Peek A Peek A Boo', '저 달이 정글짐에 걸릴', '시간까지 노는 거야', 'Peek Peek A Peek A Boo', '술래는 너로 정해졌어', '재밌을 거야 네가 좋아', 'Peek Peek A Peek A Boo', '저 달이 정글짐에', '걸릴 시간이지만 더 놀자', 'Peek Peek A Peek A Boo', 'Peek A Boo', 'Peek A Boo', 'Peek A Boo']\n"
          ]
        },
        {
          "output_type": "stream",
          "name": "stderr",
          "text": [
            "\r636it [5:24:21, 44.90s/it]"
          ]
        },
        {
          "output_type": "stream",
          "name": "stdout",
          "text": [
            "51\n",
            "['끝났다고 You never love me', '이미 처음 같지 않다고', '난 너를 알아 You never want me', '우린 깨져버린 컵', '또 붙을 수가 없단 걸', '현실은 아파 난 네 생각보다 섬세해', '널 탓하면서도 욕해도 no hoo', '떠나지 못해 보내지 못해', '꺼진 불이라도 좋아', '사랑인 척해도 돼 괜찮아', '상처받아도 좋아', '네 맘에 내가 없는 게 더 아파', 'Dilemma dilemma dilemma dilemma', 'Dilemma dilemma dilemma dilemma', '솔직히 너 없인 안돼', 'Baby Love you', 'I love you I love you', '못 보내는데 미치도록 사랑해', 'Love you I love you I love you', 'but 끝내야 해 Dilemma Dilemma', '네가 없는 방 어지러운 방', '헝클어진 머리 젖어버린 베개만', '끌어안고 있어 난 점점 말라가', '네가 나타나면 다시 살아나 yeah', 'No girls like me boy you gotta see', 'No girls like me boy you gotta see', '오늘도 역시나 너무 길어', '오는 길이라고 믿고 싶어', '나 혼자 속삭이고 마는 걸 um', '꺼진 불이라도 좋아', '사랑인 척해도 돼 괜찮아', '상처받아도 좋아', '네 맘에 내가 없는 게 더 아파', 'Dilemma dilemma dilemma dilemma', 'Dilemma dilemma dilemma dilemma', '솔직히 너 없인 안돼', 'Baby Love you', 'I love you I love you', '못 보내는데 미치도록 사랑해', 'Love you I love you I love you', 'but 끝내야 해 Dilemma Dilemma', '네가 너무나 필요해 everyday', '꿈이라면 빨리 날 깨워줄래', '처음 사랑했던 그때로', '돌아와 주면 돼', 'My love', 'Baby Love you', 'I love you I love you', '못 보내는데 미치도록 사랑해', 'Love you I love you I love you', 'but 끝내야 해 Dilemma Dilemma']\n"
          ]
        },
        {
          "output_type": "stream",
          "name": "stderr",
          "text": [
            "\r637it [5:24:53, 40.87s/it]"
          ]
        },
        {
          "output_type": "stream",
          "name": "stdout",
          "text": [
            "60\n",
            "['I’m in love again', '지금 옆에 그 사람은 어때?', '서로가 좋은 사람', '만날 거란 말도 ', '더 이상 내겐 의미 없네  ', '이젠 나도 ', '누군갈 만나서', '다시 설레고', '잊으려 해 봐도', '허전하긴 마찬가지', '미련일까 익숙해진 걸까', '채워지지 않는걸', '낯선 사람을 만나고', '다 잊은 듯이 품에 안겨 봐도', '왜 이럴까 난 왜  ', '너라는 이유', 'I need you baby', '혹시나 우리가 또다시', '시작한다면 사랑한다면', '오로지 난 You, you-ooh', ' ', 'I’m in love again', '친구들은 이런 내가 철없대', '아무렇지 않은 척', '잘 지낸다는 말도', '감정 없는 사람처럼 보인대', '상관없지 뭐', 'I’m in love with you', '너에게 난 매일매일 돌아가', 'Know you need me too', '누구보다 서로를 잘 알잖아', 'Baby 너와의 시간들이 계속', '오버랩돼 무슨 짓을 해도', 'Nobody but you', 'I want nobody but you', '낯선 사람을 만나고 ', '다 잊은 듯이 품에 안겨 봐도', '왜 이럴까 난 왜  ', '너라는 이유', 'I need you baby', '혹시나 우리가 또다시', '시작한다면 사랑한다면', '오로지 난 You, you-ooh', '시간이 갈수록', '그리워진 만큼 내 눈앞에 ', '선명하게', '네 모습이 떠오르고', '여전히 널 원해', '어디에 있어도 내 맘속에 ', '함께했던', '아름다운 순간들을 Ooh', 'Don’t want no one but you, you', '낯선 사람을 만나고', '다 잊은 듯이 품에 안겨 봐도', '왜 이럴까 난 왜', '너라는 이유', 'I need you baby', '혹시나 우리가 또다시', '시작한다면 사랑한다면', '오로지 난 You, you-ooh']\n"
          ]
        },
        {
          "output_type": "stream",
          "name": "stderr",
          "text": [
            "\r638it [5:25:30, 39.85s/it]"
          ]
        },
        {
          "output_type": "stream",
          "name": "stdout",
          "text": [
            "81\n",
            "['Uh Huh Listen Boy ', 'My First Love Story ', 'My Angel and My Girl', 'My Sunshine', \"Uh Uh Let's go\", '너무 너무 멋져 눈이 눈이 부셔', '숨을 못 쉬겠어 떨리는 Girl', 'Gee Gee Gee Gee Baby Baby Baby', 'Gee Gee Gee Gee Baby Baby Baby', '너무 부끄러워 쳐다 볼 수 없어', '사랑에 빠져서 수줍은 Girl', 'Gee Gee Gee Gee Baby Baby Baby', 'Gee Gee Gee Gee', 'Be Be Be Be Be Be', '어떻게 하죠', '어떡 어떡하죠', '떨리는 나는', '떨리는 나는요', '두근 두근 두근 두근', '두근 두근거려', '밤엔 잠도 못 이루죠', '나는 나는 바본가봐요', '그대 그대밖에 모르는 바보', '그래요 그댈 보는 난', '너무 반짝 반짝 눈이 부셔', 'No No No No No', '너무 깜짝 깜짝 놀란 나는', 'Oh Oh Oh Oh Oh', '너무 짜릿 짜릿 몸이 떨려', 'Gee Gee Gee Gee Gee', 'Oh 젖은 눈빛 Oh Yeah', '좋은 향기 Oh Yeah Yeah Yeah', '너무 너무 예뻐 맘이 너무 예뻐', '첫 눈에 반했어 꼭 짚은 Girl', 'Gee Gee Gee Gee Baby Baby Baby', 'Gee Gee Gee Gee Baby Baby Baby', '너무나 뜨거워 만질 수가 없어', '사랑에 타버려 후끈한 Girl', 'Gee Gee Gee Gee Baby Baby Baby', 'Gee Gee Gee Gee', 'Be Be Be Be Be Be', '어쩌면 좋아', '어쩌면 좋아요', '수줍은 나는', '수줍은 나는요', '몰라 몰라 몰라 몰라', '몰라 몰라 하며', '매일 그대만 그리죠', '친한 친구들은 말하죠', '정말 너는 정말 못 말려', '바보 하지만 그댈 보는 난', '너무 반짝 반짝 눈이 부셔', 'No No No No No', '너무 깜짝 깜짝 놀란 나는', 'Oh Oh Oh Oh Oh', '너무 짜릿 짜릿 몸이 떨려', 'Gee Gee Gee Gee Gee', 'Oh 젖은 눈빛 Oh Yeah', '좋은 향기 Oh Yeah Yeah Yeah', '말도 못했는 걸', '너무 부끄러워 하는 난', '용기가 없는 걸까', '어떡해야 좋은걸까', '두근 두근 맘 졸이며', '바라보고 있는 난', '너무 반짝 반짝 눈이 부셔', 'No No No No No', '너무 깜짝 깜짝 놀란 나는', 'Oh Oh Oh Oh Oh', '너무 짜릿 짜릿 몸이 떨려', 'Gee Gee Gee Gee Gee', 'Oh 젖은 눈빛 Oh Yeah', '좋은 향기 Oh Yeah', '너무 반짝 반짝 눈이 부셔', 'No No No No No', '너무 깜짝 깜짝 놀란 나는', 'Oh Oh Oh Oh Oh', '너무 짜릿 짜릿 몸이 떨려', 'Gee Gee Gee Gee Gee', 'Oh 젖은 눈빛 Oh Yeah', '좋은 향기 Oh Yeah Yeah Yeah']\n"
          ]
        },
        {
          "output_type": "stream",
          "name": "stderr",
          "text": [
            "\r639it [5:26:21, 43.13s/it]"
          ]
        },
        {
          "output_type": "stream",
          "name": "stdout",
          "text": [
            "71\n",
            "['Yo Okay', '나 혹시 몰라 경고하는데', '잘 들어', '지금 위험해', 'So Dangerous', '자꾸 나를 자극하지마', '큰일 나 ', '나도 날 몰라 ', '숨이 자꾸 멎는다', '네가 날 향해 걸어온다', '나를 보며 웃는다', '너도 내게 끌리는지 ', '눈앞이 다 캄캄해', '네가 뚫어져라 쳐다볼 땐', '귓가에 가까워진 숨소리', '날 미치게 만드는 너인걸', '아무도 널 못 보게', '품에 감추고 싶어', '널 노리는 시선들', '내 안에 일어난 거센 소용돌이 ', '검은 그림자 내 안에 깨어나', '널 보는 두 눈에 불꽃이 튄다', '그녀 곁에서 모두 다 물러나', '이젠 조금씩 사나워진다', '나 으르렁 으르렁 으르렁 대', '나 으르렁 으르렁 으르렁 대', '나 으르렁 으르렁 으르렁 대', '너 물러서지 않으면 다쳐도 몰라', '날이 선 눈빛과 베일듯한 긴장감', '지금 탐색 중이야 너의 주위를', 'Babe Babe Oh', '넌 그냥 그대로 있어', '나만을 바라보면서', '절대 널 보내지 않아', '두고 봐 Babe ', '흐린 공간속에서', '선명하게 빛나는', '널 노리는 시선들', '내 안에 울리는 경보 울림소리', '검은 그림자 내 안에 깨어나', '널 보는 두 눈에 불꽃이 튄다', '그녀 곁에서 모두 다 물러나', '이젠 조금씩 사나워진다', '나 으르렁 으르렁 으르렁 대', '나 으르렁 으르렁 으르렁 대', '나 으르렁 으르렁 으르렁 대', '너 물러서지 않으면 다쳐도 몰라', 'E X O 또 다른 늑대들이 볼세라', '너무나 완벽한 내 여자라', '품속엔 부드럽게 너를 안고', '너만을 위해서 나는 난폭해지고', '결국엔 강한 자가 얻게 되는 미인', '자리가 없으니까 그냥 돌아가', 'I win', '가능성 제로야 닳으니까 그만 봐', '그녀를 넘본다면 나를 먼저 넘어봐 ', '우리 말곤 하나둘씩 지워버리자', '너하고 나만 여기 남아', '멈춰진 듯이 워', '검은 그림자 내 안에 깨어나', '널 보는 두 눈에 불꽃이 튄다', '그녀 곁에서 모두 다 물러나', '이젠 조금씩 사나워진다', '나 으르렁 으르렁 으르렁 대', '나 으르렁 으르렁 으르렁 대', '나 으르렁 으르렁 으르렁 대', '너 물러서지 않으면 다쳐도 몰라', '나 으르렁 으르렁 으르렁 대', '나 으르렁 으르렁 으르렁 대', '나 으르렁 으르렁 으르렁 대', '너 물러서지 않으면 다쳐도 몰라']\n"
          ]
        },
        {
          "output_type": "stream",
          "name": "stderr",
          "text": [
            "\r640it [5:27:05, 43.39s/it]"
          ]
        },
        {
          "output_type": "stream",
          "name": "stdout",
          "text": [
            "68\n",
            "['알랑가몰라 왜 화끈해야 ', '하는건지', '알랑가몰라 왜 말끔해야 ', '하는건지', '알랑가몰라 아리까리하면 ', '까리해', '알랑가몰라 We Like We We ', 'We Like Party 해 ', '있잖아 말이야 ', '이사람으로 말씀드리자면 ', '말이야', '용기 패기 똘끼 멋쟁이 말이야', '너가 듣고픈말 하고픈게 ', '난데 말이야', 'Damn Girl You so freakin sexy', 'Ah Ah Ah Ah I’m a', 'Ah Ah Ah Ah I’m a', 'Ah Ah Ah Ah I’m a mother ', 'father gentleman', 'I’m a', 'Ah I’m a', 'I’m a mother father gentleman', 'I’m a', 'Ah I’m a', 'I’m a mother father gentleman', '알랑가몰라 왜 미끈해야', '하는건지', '알랑가몰라 왜 쌔끈해야', '하는건지', '알랑가몰라 달링 빨리와서 ', '난리해', '알랑가몰라 난리난리 났어 ', '빨리해', '있잖아 말이야 ', '너의 머리 허리 다리 종아리 ', '말이야 ', 'Good feeling feeling Good ', '부드럽게 말이야', '아주 그냥 헉소리나게 악소리 ', '나게 말이야', 'Damn Girl I’m a party mafia', 'Ah Ah Ah Ah I’m a', 'Ah Ah Ah Ah I’m a', 'Ah Ah Ah Ah I’m a mother father ', 'gentleman', 'I’m a', 'Ah I’m a', 'I’m a mother father gentleman', 'I’m a', 'Ah I’m a', 'I’m a mother father gentleman', 'Gonna make you sweat', 'Gonna make you wet', 'You know who I am Wet PSY', 'Gonna make you sweat', 'Gonna make you wet', 'You know who I am Wet PSY ', 'Wet PSY Wet PSY Wet PSY ', 'PSY PSY PSY ', 'Ah I’m a mother father gentleman', 'I’m a', 'Ah I’m a', 'I’m a mother father gentleman', 'I’m a', 'Ah I’m a', 'I’m a mother father gentleman', 'Mother father gentleman', 'Mother father gentleman']\n"
          ]
        },
        {
          "output_type": "stream",
          "name": "stderr",
          "text": [
            "\r641it [5:27:47, 42.98s/it]"
          ]
        },
        {
          "output_type": "stream",
          "name": "stdout",
          "text": [
            "86\n",
            "['I got it from my DADDY', 'DADDY', 'I feel nice you look nice', '널 보자마자 나 어머나 땡잡았스', \"Don't think twice\", '이미 게임 끝났스', 'U be ma curry I be yo rice', 'My name is PSY', '한국말로 박재상', '너의 아련한 눈동자에', '빠져서 헤엄치고파', '오빠 달린다 꽉 붙잡아 언니야', '나는 아름다운 아가씨의 동반자', 'Hold up wait a minute', '지금부터 선수끼리', '밤이 아까워 turn up louder', '불타오르는 아름다운 그대여', 'How do you like me now', 'How do you like me now', 'How do you like me now', 'How do you like me now', 'Hey Where did you get that body from', 'Where did you get that body from', 'Where did you get that body from', 'I got it from my DADDY', 'I got it from my DADDY', 'I got it got it', 'Hey Where did you get that body from', 'I got it from my DADDY', 'I got it from my DADDY', 'I got it got it', 'Hey Where did you get that body from', 'I got it from my DAD DAD DAD DAD DAD', 'DAD DAD DAD DAD DAD', 'DAD DAD DAD DAD DAD DADDY', 'I got it from my DAD DAD DAD DAD DAD', 'DAD DAD DAD DAD DAD', 'DAD DAD DAD DAD DAD DADDY', \"I'm on fire Take u higher\", '넌 한폭의 명작 난 아낌없는 buyer', \"Don't be a liar 까고 말해봐요\", 'I be yo honey neva expire', '낮에는 잠만 자 밤이 오면 상남자', '널 보자마자 나 너무 좋아서 뻑이 가', '척 보면 압니다', '신나면 어린애 입니다', '오빠가 오방가 깜빡이 안 키고', '훅 들어갑니다', 'Hold up wait a minute', '지금부터 선수끼리', '밤이 아까워 turn up louder', '불타오르는 아름다운 그대여', 'How do you like me now', 'How do you like me now', 'How do you like me now', 'How do you like me now', 'Hey Where did you get that body from', 'Where did you get that body from', 'Where did you get that body from', 'I got it from my DADDY', 'I got it from my DADDY', 'I got it got it', 'Hey Where did you get that body from', 'I got it from my DADDY', 'I got it from my DADDY', 'I got it got it', 'Hey Where did you get that body from', 'I got it from my DAD DAD DAD DAD DAD', 'DAD DAD DAD DAD DAD', 'DAD DAD DAD DAD DAD DADDY', 'I got it from my DAD DAD DAD DAD DAD', 'DAD DAD DAD DAD DAD', 'DAD DAD DAD DAD DAD DADDY', 'Listen', 'Ma papa was a superman hey', '그대로 받아왔어 그 몸매 hey', '신사이길 거부하는 신사', '이 구역에 미친놈은 바로 나 hey', 'I got it from my DAD DAD DAD DAD DAD', 'DAD DAD DAD DAD DAD', 'DAD DAD DAD DAD DAD DADDY', 'I got it from my DAD DAD DAD DAD DAD', 'DAD DAD DAD DAD DAD', 'DAD DAD DAD DAD DAD DADDY', 'I got it from my DAD DAD DAD DAD', 'DAD DADDY']\n"
          ]
        },
        {
          "output_type": "stream",
          "name": "stderr",
          "text": [
            "\r642it [5:28:41, 46.16s/it]"
          ]
        },
        {
          "output_type": "stream",
          "name": "stdout",
          "text": [
            "83\n",
            "['Hey hey hey yass whoo ', 'Beep beep ', 'Hey hey hey hey hey hey ', 'I see that I’m icy ', 'Go rising up up ', 'I see that I’m icy ', '차갑게 보여도 어떡해 ', 'Cool한 나니까 눈치 볼 마음 없어 Oh ', 'Come on ', '당당하게 Let it go ', 'Here we go ', '길거리를 누비고 ', 'On a roll ', 'Background music이 깔려 ', 'Bomb bomb bomb bomb ', \"Icy but I'm on fire \", '내 안에 있는 Dream 난 자신 있어 ', \"날 봐 I'm not a liar \", '너의 틀에 날 맞출 맘은 없어 ', 'Dance ', '다들 Blah blah ', '참 말 많아 난 괜찮아 ', '계속 Blah blah ', \"They keep talkin' I keep walkin' \", '다들 Blah blah ', '참 말 많아 난 괜찮아 ', '계속 Blah blah ', \"They keep talkin' I keep walkin' \", 'Ring ring ring 울려 All day long ', '모두 날 찾느라 바빠 ', '이 노래가 Your favorite song ', '그렇게 될 걸 잘 알아 ', 'Hey 이 맛은 마치 ', '딱 살얼음같이 ', 'Bling bling bling 반짝이는 걸 ', '별빛같이 Icy ', 'Uhh shout out to 내 엄마 ', 'Thank you to 우리 Papa ', '좋은 것만 쏙 빼닮아 ', '짠짠짜짠짠짠 ', '당당하게 Let it go ', 'Here we go ', '길거리를 누비고 ', 'On a roll ', 'Background music이 깔려 ', 'Bomb bomb bomb bomb ', \"Icy but I'm on fire \", '내 안에 있는 Dream 난 자신 있어 ', \"날 봐 I'm not a liar \", '너의 틀에 날 맞출 맘은 없어 ', '다들 Blah blah ', '참 말 많아 난 괜찮아 ', '계속 Blah blah ', \"They keep talkin' I keep walkin' \", '다들 Blah blah ', '참 말 많아 난 괜찮아 ', '계속 Blah blah ', \"They keep talkin' I keep walkin' \", 'Get it ', 'Hey ', 'Shake it ', 'Hey ', 'Yeah come on girls ', '더더 빨리 달려 ', \"Don't care what they say \", \"내 답은 내가 아니까 It's OK \", 'Dance ', 'Up up up up up we go ', '끝없이 위로 위로 ', '절대 멈추지 않고 ', 'No one can stop us now ', 'Blah blah ', '참 말 많아 난 괜찮아 ', '계속 Blah blah ', \"They keep talkin' I keep walkin' \", '다들 Blah blah ', '참 말 많아 난 괜찮아 ', '계속 Blah blah ', \"They keep talkin' I keep walkin' \", 'I see that I’m icy', 'I see that I’m icy', 'I see that I’m icy', 'I see that I’m icy']\n"
          ]
        },
        {
          "output_type": "stream",
          "name": "stderr",
          "text": [
            "\r643it [5:29:32, 47.80s/it]"
          ]
        },
        {
          "output_type": "stream",
          "name": "stdout",
          "text": [
            "55\n",
            "['Look around 둘러봐도 온통 짙은 푸른빛', '까만 밤 마치 깊은 물에 잠수한 듯이', '먹먹함 속에 너의 목소리만 뚜렷해', '어쩌지', '나에게 넌 달아나는 저 수평선 같지', '눈앞에 너를 두고서도 나는 또다시', '그리워 너는 파도처럼 나를 삼키지', '어쩌지', 'Oh you and I', '넌 아득한 나의 바다', '난 너의 품에 빠져', 'You and I', '너에게 가 닿고 싶어', 'I will dive into you you you', 'I will dive into you you you', 'I will dive into you', '궁금해 네 맘 한가운데 나는 어딘지', '표류해 모르는 채 한번 가보는 거지', '막막해 가끔 이 마음의 끝은 어딜지', '너인지', '심각해 널 스치는 바람마저 질투해', '네 뺨에 내려앉은 달빛도 annoying me', '그보다 더 가까이 내가 곁에 있을래', '가까이', 'Oh you and I', '넌 유일한 나의 바다', '난 너의 눈에 잠겨', 'You and I', '그 안에 난 살고 싶어', 'I will dive into you you you', 'I will dive into you you you', 'I will dive into you', 'Swim down 두 눈앞이 파랗게', 'Swim down 네 안에서', '난 꿈을 꿔 you you', 'I will dive into you', 'Sail 떠도는 바다 위의', 'whale 늘 바랬어 머물기를', '매일 외로운 낮과 긴 밤을', '나 찾아 헤맸던 건 너였음을', '이제는 나 알 것 같애', '네가 날 숨 쉬게 한단 걸 yea yea', '너에게 너의 안에', '너를 향해 가는 항해', 'I will dive I will dive', 'I will dive into you you you', ' ', 'I will dive into you you you', 'I will dive into you', 'Swim down 두 눈앞이 파랗게', 'Swim down 네 안에서', '난 꿈을 꿔 you you', 'I will dive into you', 'You and I 나의 바다 포근한 품', 'I will dive into you']\n"
          ]
        },
        {
          "output_type": "stream",
          "name": "stderr",
          "text": [
            "\r644it [5:30:07, 43.84s/it]"
          ]
        },
        {
          "output_type": "stream",
          "name": "stdout",
          "text": [
            "57\n",
            "['그대란 존재가 내겐 너무 큰 선물', 'Oh I feel your love baby 받아줘 내 전부', ' ', '나도 가끔 헷갈려 이게 꿈인지', '꿈이라면 영원히 깨는 걸 난 거부', \"I've been waited so long\", '일어나지 않을 줄만 알았어', '몰래 울던 날이 많았어', '그대가 없었다면 내가 있을까 싶어', 'So I wanna say', \"I wanna thank ya'll 너에게 말해 \", '수백 번 말해도 모자란단 말야', 'I wanna thank ya’ll  ', 'I’m feeling your love babe', '그대로 내 곁에 지금처럼 Stay with me', 'Thank ya Thank ya ', 'You drive me to heaven ', '영화 같은 일들이 Happen', 'I’ll be like Oh gosh', 'Thank ya Thank ya ', 'You drive me to heaven ', '영화 같은 일들이 Happen 우리 함께라면', 'I got nothing last forever except your love ', '깊은 사랑에서 헤엄쳐', '매분 매시간이 꿈같아', '확 뚫린 시야 사이로 보여 내 앞길 ', '얼마 전까진 가시밭길', '내가 맞아요 BG의 YJ', 'What a life is wanna thank you all', \"I've been waited so long \", '일어나지 않을 줄만 알았어 ', '몰래 울던 날이 많았어', '그대가 없었다면 내가 있을까 싶어 ', 'So I wanna say', 'I wanna thank ya’ll 너에게 말해 ', '수백 번 말해도 모자란단 말야', 'I wanna thank ya’ll  ', 'I’m feeling your love babe', '그대로 내 곁에 지금처럼 Stay with me', 'Thank ya Thank ya ', 'You drive me to heaven ', '영화 같은 일들이 Happen', 'I’ll be like Oh gosh', 'Thank ya Thank ya ', 'You drive me to heaven ', '영화 같은 일들이 Happen 우리 함께라면 ', \"고마워요 I wanna thank ya'll \", 'Baby I I feel your love I feel your love', \"고마워요 I wanna thank ya'll \", '이대로 내 곁에 지금처럼', 'Thank ya Thank ya ', 'You drive me to heaven ', '영화 같은 일들이 happen', 'I’ll be like Oh gosh', 'Thank ya Thank ya ', 'You drive me to heaven ', '영화 같은 일들이 Happen 우리 함께라면']\n"
          ]
        },
        {
          "output_type": "stream",
          "name": "stderr",
          "text": [
            "\r645it [5:30:42, 41.19s/it]"
          ]
        },
        {
          "output_type": "stream",
          "name": "stdout",
          "text": [
            "75\n",
            "['나 있잖아 ', '너 없으면 죽을꺼 같애 ', '내 눈은 두개인데 ', '왜 너 하나 밖에 안보이는걸까 ', '시끄럽고 너 어제 누구랑있었어 ', '나 좋다고 매달릴 땐 언제고 ', '매달린 정돈 아니고 ', '누구랑 있었냐고 ', '야 아니거든요 ', '나 집에 있었거든요 ', '엄마가 밥해줬거든요 ', '두 번 다시 바람 피지마 ', '니가 매달려 만난거잖아 ', '어떻게 날 두고 ', '다른 여자를 만날 수 있니 ', '내게 더 정말 멋진남자들 ', '가끔은 내게 다가와 ', '흔들릴 때도 있어 ', '넌 몰라 ', '이젠 제발 정신 좀 차려 ', '어제 너 누구랑 있었어 ', '친구에게 전화가왔어 ', '니가 다른여자와 있었다고 ', '솔직히 너 한 번 말해봐 ', '나보다 더 매력있니 ', '아니면 이젠 ', '내가 너는 지겨운거니 ', '두 번 다시 바람 피지마 ', '니가 매달려 만난거잖아 ', '어떻게 날 두고 ', '다른 여자를 만날 수 있니 ', '내게 더 정말 멋진남자들 ', '가끔은 내게 다가와 ', '흔들릴 때도 있어 ', '넌 몰라 ', '이젠 제발 정신 좀 차려 ', 'Oh my lover Oh my you baby ', 'Oh my lover Oh my you baby ', 'Oh my lover Oh my you baby ', 'Oh my lover Oh my you baby ', '거짓말 오 이런 얘기 재미 없어 ', '오늘부로 우린 망했어 ', '화내지 마 아주 잠깐 ', '우린 너무 완소커플 킹왕짱 ', '도끼는 들지마 후덜덜 ', '우리사랑 we belong together ', '넌 나의 태양 넌 나의 바다 ', '요즘따라 정말 이상해 ', '평소에는 안그랬는데 ', '내게 장미꽃을 선물했던 너 ', '다른 여자와 있었던게 ', '그게 너무 미안해서 ', '그래서 내게 더 ', '잘해준 걸 몰랐어 ', '두 번 다시 바람 피지마 ', '니가 매달려 만난거잖아 ', '어떻게 날 두고 ', '다른 여자를 만날 수 있니 ', '내게 더 정말 멋진남자들 ', '가끔은 내게 다가와 ', '흔들릴 때도 있어 ', '넌 몰라 ', '이젠 제발 정신 좀 차려 ', '두 번 다시 보기 싫지만 ', '널 차버려도 할 말 없지만 ', '그래도 아직은 ', '내가 너를 너무 사랑해 ', '거짓말한거 정말 싫지만 ', '이번 한 번만 용서해 ', '다시 이런 일 없게 해줄래 ', '이젠 나만 사랑해줄래 ', 'Oh my lover Oh my you baby ', 'Oh my lover Oh my you baby ', 'Oh my lover Oh my you baby ', 'Oh my lover Oh my you baby ']\n"
          ]
        },
        {
          "output_type": "stream",
          "name": "stderr",
          "text": [
            "\r646it [5:31:29, 42.80s/it]"
          ]
        },
        {
          "output_type": "stream",
          "name": "stdout",
          "text": [
            "73\n",
            "['내가 제일 잘 나가', '내가 제일 잘 나가', '내가 제일 잘 나가', '내가 제일 잘 나가', '제 제 제일 잘 나가', 'Bam Ratatata Tatatatata', 'Bam Ratatata Tatatatata', 'Bam Ratatata Tatatatata', 'Bam Ratatata Tatatatata', 'Oh my god', '누가 봐도 내가 좀 죽여주잖아 ', 'alright', '둘째가라면 이 몸이 서럽잖아', 'alright', '넌 뒤를 따라오지만', '난 앞만 보고 질주해', '네가 앉은 테이블 위를 뛰어다녀', 'I don’t care', '건드리면 감당 못해', 'I’m hot hot hot hot fire', '뒤집어지기 전에', '제발 누가 날 좀 말려', '옷장을 열어 가장', '상큼한 옷을 걸치고', '거울에 비친 내 얼굴을', '꼼꼼히 살피고', '지금은 여덟 시', '약속시간은 여덟 시 반', '도도한 걸음으로 나선 이 밤', '내가 제일 잘 나가', '내가 제일 잘 나가', '내가 제일 잘 나가', '내가 제일 잘 나가', '제 제 제일 잘 나가', '내가 봐도 내가 좀 끝내주잖아', 'alright', '네가 나라도 이 몸이 부럽잖아', 'alright', '남자들은 날 돌아보고', '여자들은 따라해', '내가 앉은 이 자리를', '매일 넘봐 피곤해', '선수인척 폼만 잡는', '어리버리한 Playa', '넌 바람 빠진 타이어처럼', '보기 좋게 차여', '어떤 비교도 난 거부해', '이건 겸손한 얘기', '가치를 논하자면 난', 'Billion dollar baby', '뭘 쫌 아는 사람들은', '다 알아서 알아봐', '아무나 잡고 물어봐', '누가 제일 잘 나가', '내가 제일 잘 나가', '내가 제일 잘 나가', '내가 제일 잘 나가', '내가 제일 잘 나가', '제 제 제일 잘 나가', '누가 네가 나보다 더 잘 나가', 'No no no no Na na na na ', '누가 네가 나보다 더 잘 나가', 'No no no no Na na na na ', '누가 네가 나보다 더 잘 나가', 'No no no no Na na na na ', '누가 네가 나보다 더 잘 나가', 'No no no no Na na na na ', 'Bam Ratatata Tatatatata', 'Bam Ratatata Tatatatata', 'Bam Ratatata Tatatatata', 'Bam Ratatata Tatatatata', 'Bam Ratatata Tatatatata', 'Oh my god']\n"
          ]
        },
        {
          "output_type": "stream",
          "name": "stderr",
          "text": [
            "\r647it [5:32:14, 43.49s/it]"
          ]
        },
        {
          "output_type": "stream",
          "name": "stdout",
          "text": [
            "64\n",
            "['Jesus 무슨 말이 필요해', '모두 널 작품이라고 불러', 'Just a little bit of you', '격하게 아껴 Baby ye ye', 'Ooh Wow 놀라워', '더할 나위 없이', '아름다우신 그녀의 자태', '보통 여잔 명함도 못 내밀고', '끼리끼리 뭉쳐 네 험담을 나누겠지', '잘들어', '주위에 늑대 놈들 주의', '자식들 하나같이 외모 지상주의', '망치로 뒤통수 한대 맞은 듯이', '머릿속이 띵하고 어지러워', 'Jesus 무슨 말이 필요해', '모두 널 작품이라고 불러', 'Just a little bit of you', '격하게 아껴 Baby ye ye', '뭐 하나 빠짐없이 예쁘구나', 'Her 어어 Her 어어', 'Her 어어 Uh 어안이 벙벙해', 'Her 어어 Her  어어', 'Her 어어 너 말곤 전부 평범해', '아찔하게 뻗은 곡선', '난 바로 기절 I need suction', '무작정 부담 주는 멍청이들 사이에', '넌 빈틈없는 Boxer', '나의 Olivia Hussey', '능력이 있어도 허세는', '없는 그 성품과 적절한 볼륨감', 'I wanna hug and kisses', '주위에 늑대 놈들 주의', '자식들 하나같이 외모 지상주의', '망치로 뒤통수 한대 맞은 듯이', '머릿속이 띵하고 어지러워', 'Jesus 무슨 말이 필요해', '모두 널 작품이라고 불러', 'Just a little bit of you', '격하게 아껴 Baby ye ye', '뭐 하나 빠짐없이 예쁘구나', 'Her 어어 Her 어어', 'Her 어어 Uh 어안이 벙벙해', 'Her 어어 Her  어어', 'Her 어어 너 말곤 전부 평범해', '바위처럼 무감정한 내가', '이렇게 다시 바보가 된다', '정신차려 보니 네 앞에 와서', 'Oh could you be my real love', '정말 곱다 고와 누군가 다가와', '말 걸면 넌 미소만 던져 줘', '네 연락처는 안돼', '침부터 닦고 와 물러서', 'Stop your talk', 'Her uh her uh', 'baby I’m all yours', 'Jesus 무슨 말이 필요해', '모두 널 작품이라고 불러', 'Just a little bit of you', '격하게 아껴 Baby ye ye', '뭐 하나 빠짐없이 예쁘구나', 'Her 어어 Her 어어', 'Her 어어 Uh 어안이 벙벙해', 'Her 어어 Her  어어', 'Her 어어 너 말곤 전부 평범해']\n"
          ]
        },
        {
          "output_type": "stream",
          "name": "stderr",
          "text": [
            "\r648it [5:32:54, 42.44s/it]"
          ]
        },
        {
          "output_type": "stream",
          "name": "stdout",
          "text": [
            "67\n",
            "['Knock Knock', '낯선 너의 등장이', '평소답지 않은 눈빛이', '뭔가 느낌이 좀 수상해', '지금은 12시10분전', '점점 분위기에 취하고', '눈빛은 서로를 비추고', '흐르는 침묵도 끈적해', '터질 것만 같은 우리 사이', '너와나 입을 맞춰 I feel good', '너에게 나를 맡겨 I feel good', '이건 좀 위험해 위험해 위험해 나', '선을 넘을 것만 같아', '너와나 같이 그린 I feel good', '오렌지 빛깔 그림 I feel good', '조금은 위험해 위험해 위험해도', '멈출 수가 없어 나', 'I feel good', 'Knock Knock 그때 예상했었지', '여잔 촉이 정말 빠르지', '이미 물은 엎질러졌어', '우린 몰래 새벽을 맞네', 'At that time', 'Knock Knock', '지난 여름부터 밤낮', '사춘기 소녀처럼', '꿈꾸게 만들었어 로맨스', '오늘만 기다렸어 Oh Yes', 'Oh 핸드폰은 Off 치명적인 호흡', '비밀스런 파티 깔아 레드 카펫 ', '내 공간에 와준 널 환영해', 'Knock Knock Knock Knock', '두 손을 머리위로', 'Clap your hands', '너와나 입을 맞춰 I feel good', '너에게 나를 맡겨 I feel good', '이건 좀 위험해 위험해 위험해 나', '선을 넘을 것만 같아 ', '너와나 같이 그린 I feel good', '오렌지 빛깔 그림 I feel good', '조금은 위험해 위험해 위험해도', '멈출 수가 없어 나', 'I feel good', '나를 깨우는 너의 속삭임', 'I feel good', '너의 손짓 또 몸짓', 'I feel good', '너와 단둘이 맞은 아침이', 'I feel good', 'I feel good good good good', '헝클어진 머리 헐크 같은 바디', '라인 보고 싶어 백허그까지 너 uh ', '고개를 끄덕 끄덕 숨 쉴 수가 없네', \"I can't control my self\", '준비했어 널 위해', 'MAMAMOO is coming back for you', 'Knock Knock Knock Knock', '두 손을 머리 위로', 'Clap your hands', '너와나 입을 맞춰 I feel good', '너에게 나를 맡겨 I feel good', '이건 좀 위험해 위험해 위험해 나 ', '선을 넘을 것만 같아 ', '너와나 같이 그린 I feel good', '오렌지 빛깔 그림 I feel good', '서로가 만들어 낸 서로가 묻혀진', '데칼코마니 같아 I feel good']\n"
          ]
        },
        {
          "output_type": "stream",
          "name": "stderr",
          "text": [
            "\r649it [5:33:35, 42.17s/it]"
          ]
        },
        {
          "output_type": "stream",
          "name": "stdout",
          "text": [
            "61\n",
            "['불어 후후', '빨간 불티야', '내 마음도 너 같아', '타오를 듯 위험한', '살포시 널 눌러', '덮으려 해 봐도', '꺼지지 않는 너를', '어떻게 해야 하나', '여릴 줄만 알았던', '그 작은 온기 속', '뭐를 감추고 있었니', '내 안에 내가 많아', '온 밤이 소란한데', '혹시 내 말을 들었니', '이제 타이밍이야 눈 뜰 새벽이야', '불티를 깨워', '더 타올라라 후 후후후', '꺼지지 않게', '붉디붉은 채', '더 크게 번져 후 후후', '지금 가장 뜨거운', '내 안의 작고 작은', '불티야 불티야 꺼지지 말고 피어나', '불티야 불티야 새벽을 훨훨 날아가', '새 불티야 불티야 춤추듯 온몸을 살라', '새 불티야 불티야 꺼지지 말고 피어나', '이 까만 어둠을', '동그라니 밝혀', '내 앞을 비추는 너', '어디든 갈 수 있어', '세찬 바람을 타고', '떠올라 내려 보면', '우린 이 별의 여행자', '어제 길 위의 넌 꿈만 꾸고 있었지', '작은 새처럼 작은 새처럼', '이제 타이밍이야 너의 시간이야', '숨을 불어넣어 불티를 깨워', '타올라라 후 후후후', '꺼지지 않게', '붉디붉은 채', '더 크게 번져 후 후후', '지금 가장 뜨거운', '내 안의 작고 작은', '불티야 불티야 꺼지지 말고 피어나', '불티야 불티야 새벽을 훨훨 날아가', '새 불티야 불티야 춤추듯 온몸을 살라', '새 불티야 불티야 꺼지지 말고 피어나', '오랜 기다림 너의 시간을 믿어', '나를 닮은 너 불티를 깨워', '더 타올라라 후 후후후', '꺼지지 않게', '붉디붉은 채', '더 크게 번져 후 후후', '지금 가장 뜨거운', '더 타올라라 후 후후후', '꺼지지 않게', '붉디붉은 채', '더 크게 번져 후 후후', '지금 가장 뜨거운', '내 안의 작고 작은', '불티야']\n"
          ]
        },
        {
          "output_type": "stream",
          "name": "stderr",
          "text": [
            "\r650it [5:34:13, 40.80s/it]"
          ]
        },
        {
          "output_type": "stream",
          "name": "stdout",
          "text": [
            "99\n",
            "['이제 우리가 다시 다시 써', '불붙으면 Non Stop', '보이는 대로 I’m just having fun', '가볍게 난 Game start', '갈아치운 Rank huh', '심길 건드리는 말들도', '씹어 먹고 퉤 해 뱉어 껌처럼', 'Chess판 위에도 Checkmate', '몇 번 해도 패밴', '그들에게 Name tag', '매번 내게 Lose', '가는 길마다 Say they hate me', 'Another round 끝없이 가', '생각 말고 Crazy', '좀 더 세게 여길 흔들어', 'I’m out of control', 'Full power up', '뛰어 들어와', '무서울 게 없잖아', '더 미쳐 놀아 봐', '즐기면서 해도 난', '너무 쉽게 올라가', 'Clap clap clap clap clap clap', '온 세상이', 'Clap clap clap clap', '울리도록 외쳐 Get loud', '이 중심에 서', '전부 펼쳐봐', '순식간에 Game over', 'In the Arcade 따라잡아봐 뭐해', 'Too late In the Arcade', '깨고 넘어 다음다음 Watch me', '머리는 가볍게', '겁 날 거 없는 Play', '다 뭐라 하든', '두 귀를 막고', '네 모습대로 해', '변화하는 세상', '어제와 또 달라', 'King and boss', '날 따라', '이곳을 휘저어', '짜여진 Frame', '너의 Level은 Fake', '다 깨부셔 깨부셔', '깨부셔 Blast', '내가 이끄는 대로', '어서 Sign to sign me up', '가만 바라만 보다간', '이길 수 없어', '가르쳐줘도 Say they hate me', '비춘 Spotlight 날 감싸와', '생각 보다 Crazy', '과감하게 모든 걸 걸어', 'I’m out of control', 'Full power up', '뛰어 들어와', '무서울 게 없잖아', '더 미쳐 놀아 봐', '즐기면서 해도 난', '너무 쉽게 올라가', 'Clap clap clap clap clap clap', '온 세상이', 'Clap clap clap clap', '울리도록 외쳐 Get loud', '이 중심에 서', '전부 펼쳐봐', '순식간에 Game over', 'In the Arcade 따라잡아봐 뭐해', 'Too late In the Arcade', '깨고 넘어 다음다음 Watch me', '어제의 난 어제에 두고', '(다른 내일로)', '다쳐도 멈출 줄 몰라', '(나 다시 달려가)', '나를 뛰어 넘어가 babe', '채워도 채워도 모자라', '세상이 뒤집힐 때까지', '새로운 Map을 그리고', '게임이 시작되면 Don’t stop', '끊임없이 We go high', 'yeah 꿈에서 이어진 Countdown', 'Full power up 뛰어 들어와', '즐기면서 이겨 다', '더 미쳐 놀아 봐', '(더 미쳐봐)', '꿈이 아닌 현실 안', '(깨어나 난 깨어나 yeah)', '온 세상을 내려봐', 'Clap clap clap clap clap clap', '온 세상이', '(온 세상 위에 퍼져가)', 'Clap clap clap clap', '울리도록 외쳐 Get loud', '이 중심에 서 전부 펼쳐봐', '순식간에 Game over', 'In the Arcade 따라잡아봐 뭐해', 'Too late In the Arcade', '깨고 넘어 다음다음 Watch me']\n"
          ]
        },
        {
          "output_type": "stream",
          "name": "stderr",
          "text": [
            "\r651it [5:35:14, 46.90s/it]"
          ]
        },
        {
          "output_type": "stream",
          "name": "stdout",
          "text": [
            "49\n",
            "['내 맘이 안 보일까 봐 close to me', '진짜로 모르는 걸까 never', '두근두근 대체 왜 이래', 'Tell me some ya story', '네 맘을 모르겠어 더 close to u', '나를 어지럽게 흔들어', '너는 매일매일 my love babe', '오늘도 넌 처음인 것처럼', '나를 서두르게 만들어', '너는 maybe my love babe', '언제부턴지 모르지만', '자꾸만 아니라고 말을 하네요', '난 맞는데 넌 왜 넌 난 맞는데 왜 넌', '사랑이 아니라고 말을 하네요', '내 맘인데 넌 왜 넌 내 맘인데 왜', \"Why don't you know\", \"Why don't you know\", '여전히 세상은 늙고', '사랑은 아직 어려', '마음을 전해도 닿기에는 아직 어려워', '시간이 지난 뒤에 후회해 손해는 너', 'Ah 미리 말해두지만', '나만이 너의 파일럿', '아침엔 너가 좋아하는 색을 입어', '우연을 가장한 인연을 난 믿어', '싫다고 해 신경 안 써 never give up', '별들이 떨어져 어서 소원 빌어', '나를 특별하게 만들어', 'You make me feel better babe', '누구보다 잘 아는 것처럼', '계속 널 그리다 잠들어', '너무 깊게 빠져 babe', '바보 같을지 모르지만', '자꾸만 아니라고 말을 하네요', '난 맞는데 넌 왜 넌 난 맞는데 왜 넌', '사랑이 아니라고 말을 하네요', '내 맘인데 넌 왜 넌 내 맘인데 왜', \"Why don't you know\", '아무것도 모르는 너', '아무것도 모르면서', '내 맘을 아는 것처럼', 'I just wanna be your girl', '자꾸만 아니라고 말을 하네요', '난 맞는데 넌 왜 넌 난 맞는데 왜 넌', '사랑이 아니라고 말을 하네요', '내 맘인데 넌 왜 넌 내 맘인데 왜', \"Why don't you know\", \"Why don't you know\", \"Why don't you know\"]\n"
          ]
        },
        {
          "output_type": "stream",
          "name": "stderr",
          "text": [
            "\r652it [5:35:44, 41.95s/it]"
          ]
        },
        {
          "output_type": "stream",
          "name": "stdout",
          "text": [
            "91\n",
            "['Get Ready', 'Are you ready for some action', '시작된 우리의 mission', '여기서는 그 누구도 날', '막을 순 없어', '내 안에 가진 것들로', '다른 colors 비춰보면', '서로에게 끌렸던 걸 느낄 수 있어', 'Okay U hu', 'Wanna be the cool kid', 'U hu', '어떤 걸로 덮지', 'U hu', '새로운 날', '떠오른 달', 'pink or black grid', 'Rom um um um a roam', 'Yeah Yeah Yeah', '기다려왔던', 'Yeah Yeah Yeah', '준비가 되면 떠오를 거야', 'Kill it to the daylight', 'Go go', 'Let us put on a show show', '다른 걸 원해 more &amp; more', '금기를 깨고 roll roll', \"We don't stop until the sun goes up\", '다 내려놓고 춤을 춰', 'No way you can make us stop', \"We're about to paint the town\", 'Ra ta ta ta ta ta ta ta ta', 'Paint the town', 'Ra ta ta ta ta ta ta ta ta', 'Paint the town', 'Ra ta ta ta ta ta ta ta ta', \"You can't stop us just we\", '우릴 멈출 수는 없어', 'We’ll taking to the moon', '달의 눈을 가리면', '시작된 eclipse 12개의 눈이', '널 가릴 지도 몰라', '답은 없어 just watch it', \"우린 계속 달릴 거야 don't touch it\", 'We ain’t gotta east of eden so keep it', \"If you gon' ball with us then\", 'just sweep it', 'Aooooo', 'Like a wolf to the moon', '저 달이 곧 떠오르면', 'Pam pa pam', \"We're devilous\", '우린 curious', \"So don't mess with us\", 'Go go', 'Let us put on a show show', '다른 걸 원해 more &amp; more', '금기를 깨고 roll roll', \"We don't stop until the sun goes up\", '모든 걸 걸고 춤을 춰', 'No way you can make us stop', \"We're about to paint the town\", 'Ra ta ta ta ta ta ta ta ta', 'Paint the town', 'Ra ta ta ta ta ta ta ta ta', 'Paint the town', 'Ra ta ta ta ta ta ta ta ta', \"You can't stop us just we\", '우릴 멈출 수는 없어', 'We’ll taking to the moon', '달의 눈을 가리면', '시작된 eclipse it’s over it', '우릴 다시 가릴지 몰라', '12개의 다른 문을 열어놔', '다시 우린 마주하게 될 거야', 'Open your eyes', 'is it moon or the sky', 'and living is wise', 'if you never ever think twice', 'You break it', 'You make it', 'You kill it', 'You want it', 'You own it', 'You show it', 'Let’s go', \"We're about to paint the town\", 'na na na na na na na na na na', 'na na na na na na na na na na', 'Ra ta ta ta ta ta ta ta ta', \"You can't stop us just we\", '우릴 멈출 수는 없어']\n"
          ]
        },
        {
          "output_type": "stream",
          "name": "stderr",
          "text": [
            "\r653it [5:36:41, 46.46s/it]"
          ]
        },
        {
          "output_type": "stream",
          "name": "stdout",
          "text": [
            "84\n",
            "['I go by the name of CL of 2NE1', \"It's been a long time coming\", \"but we're here now\", 'and we about to set the roof', 'on FIRE baby', 'you better get yours', \"cause I'm getting mine\", 'Eh eh eh eh eh eh ehh to anyone', 'Eh eh eh eh eh eh ehh', 'you gotta ring the alarm', 'Eh eh eh eh eh eh eh', 'we twenty one', 'Eh eh eh eh eh eh', 'hey hey hey hey', 'come in come in come in', '다른 세상으로', '지겹기만한 고민은 이제 등을지고', 'Lalalala 가식없는 나의 콧노래로', 'Hahahaha 다시 널 비웃지 못하도록', \"Now let's\", '춤을 춤을 춤을 춰요', 'wanna get down', '보다 큰 꿈을 꿈을 꿈을 꿔', '세상은 내맘', '대로 다 할 수있기에', '큰 자유를 위해', 'tonight tonight uh', '내 눈빛에 빛나는 별들로', '내 심장속을 태우는 저 불빛도', '영원하진 않겠지', 'but 잃을건 없지', 'oh oh ye', '난 미미미미미미미치고 싶어', '더 빨리 뛰뛰뛰뛰뛰뛰뛰뛰고 싶어', '저 높은 빌딩위로', '저 푸른 하늘위로', '크게 소리리리리리리릴 치고싶어', 'you gotta FIRE', '나의 가슴을 쿵쿵쿵', 'You gotta drop it like its hot', '지금 멈추려하지마 ooh', 'the FIRE 내 머릿속을', 'boom boom boom', 'I gotta drop it Like its hot', '멈추려 하지마 hey', 'get up get up get up', '몇번넘어져도', '믿었던 세상이 날 또 다시 배신해도', '나나나난 절대 울지않아 바보처럼', '어머머머 내숭 떨지마라 남들처럼', '내가 저 끝까지 데려갈게', 'fallow fallow me', '숨이 차 오를 만큼', '달려주는 나의 가슴이', '왠지 나 쉽지만은 않아 재밌죠', '겁내지마라 let it go', '보다 더 나은 내일로', \"le le le le let's go\", '내 눈빛에 빛나는 별들로', '내 심장속을 태우는 저 불빛도', '영원하진 않겠지', 'but 잃을건 없지', 'oh oh ye', '난 미미미미미미 미치고 싶어', '더 빨리 뛰뛰뛰뛰뛰뛰뛰 뛰고 싶어', '저 높은 빌딩위로', '저 푸른 하늘위로', '크게 소리리리리리리릴 치고싶어', '소리질러', 'Eh eh eh eh eh eh ehh to anyone', 'Eh eh eh eh eh eh ehh', 'you gotta ring the alarm', 'Eh eh eh eh eh eh eh', 'we twenty one', 'Eh eh eh eh eh eh oh', '머리가 찰랑찰랑찰랑찰랑 대도록', '엉덩일 살랑살랑살랑살랑 흔들어', '머리가 찰랑찰랑찰랑찰랑 대도록', '엉덩일 살랑살랑살랑살랑 흔들어 uh', '미미미미미미 미치고 싶어', '더 빨리 뛰뛰뛰뛰뛰뛰뛰 뛰고싶어', '저 높은 빌딩위로 저 푸른 하늘위로', '크게 소리리리리리리릴 치고싶어', '언제나 오늘처럼 난 자유롭고싶어']\n"
          ]
        },
        {
          "output_type": "stream",
          "name": "stderr",
          "text": [
            "\r654it [5:37:33, 48.16s/it]"
          ]
        },
        {
          "output_type": "stream",
          "name": "stdout",
          "text": [
            "78\n",
            "[\"You don't know me\", \"You don't know me\", \"You don't know me\", \"You don't know me\", 'So shut off boy', 'So shut off boy', 'So shut off boy', 'So shut off shut  off', '앞에선 한마디도 못하더니', '뒤에선 내 얘길 안 좋게 해', '참 어이가 없어', 'Hello hello hello', '나 같은 여잔 처음', '으로 으로 으로', '본 것 같은데 왜 나를 판단하니', '내가 혹시 두려운 거니', '겉으론 Bad girl', '속으론 Good girl', '나를 잘 알지도 못하면서', '내 겉모습만 보면서', '한심한 여자로 보는', '너의 시선이 난 너무나 웃겨', '춤출 땐 Bad girl', '사랑은 Good girl', '춤추는 내 모습을 볼 때는', '넋을 놓고 보고서는', '끝나니 손가락질하는', '그 위선이 난 너무나 웃겨', '이런 옷 이런 머리 모양으로', '이런 춤을 추는 여자는 뻔해', '하 네가 더 뻔해', 'Hello hello hello', '자신 없으면 저', '뒤로 뒤로 뒤로', '물러서면 되지 왜 자꾸 떠드니', '네 속이 훤히 보이는 건 아니', '겉으론 Bad girl', '속으론 Good girl', '나를 잘 알지도 못하면서', '내 겉모습만 보면서', '한심한 여자로 보는', '너의 시선이 난 너무나 웃겨', '춤출 땐 Bad girl', '사랑은 Good girl', '춤추는 내 모습을 볼 때는', '넋을 놓고 보고서는', '끝나니 손가락질하는', '그 위선이 난 너무나 웃겨', '날 감당 할 수 있는 남잘 찾아요', '진짜 남자를 찾아요', '말로만 남자다운 척할 남자 말고', '날 불안해 하지 않을 남잔 없나요', '자신감이 넘쳐서', '내가 나일 수 있게', '자유롭게 두고 멀리서 바라보는', '겉으론 Bad girl', '속으론 Good girl', '나를 잘 알지도 못하면서', '내 겉모습만 보면서', '한심한 여자로 보는', '너의 시선이 난 너무나 웃겨', '춤출 땐 Bad girl', '사랑은 Good girl', '춤추는 내 모습을 볼 때는', '넋을 놓고 보고서는', '끝나니 손가락질하는', '그 위선이 난 너무나 웃겨', \"You don't know me\", \"You don't know me\", \"You don't know me\", \"You don't know me\", 'So shut off boy', 'So shut off boy', 'So shut off boy', 'So shut off shut off', ' ', ' ', ' ']\n"
          ]
        },
        {
          "output_type": "stream",
          "name": "stderr",
          "text": [
            "\r655it [5:38:22, 48.25s/it]"
          ]
        },
        {
          "output_type": "stream",
          "name": "stdout",
          "text": [
            "59\n",
            "['알람이 울려대 Ring ring a ling', '서로의 눈길이 닿을 때마다', '알면서 빙빙 도는데 ', '점점 다가가잖아 I know it’s too late', '마음속으로는 다 알고 있잖아', '결국에는 선을 넘게 될 거라는 걸   ', 'I’m warning myself', '너 그러면 안 돼', '매분, 매초, 내 맘이 내 맘을 추월해 ', 'Out of control  ', '나를 감시하는 저 Spot spot spotlight', '비출수록 어둠 속으로 빨려 들어 ', '끝이 보이는데 I know it’s not right', 'I can’t stop me, can’t stop me', '내 앞에 놓여진 이 Red red red line', '건너편의 너와 난 이미 눈을 맞춰 ', '느끼고 싶어 짜릿한 Highlight', 'I can’t stop me, can’t stop me', 'I can’t stop me, can’t stop me', '눈감아 달라구 Ya ya', '딱 한 번만 No rules ah ah', '모른 척해 줘 Lights off tonight', '나 참을 수 없을 거 같아 Losing myself', '이제는 Turning back', '불가능해 난 점점 더 깊은 어둠에', '너무나 짜릿해 ', '나 눈을 감을래', '다시는 돌아갈 수 없을 것만 같애  ', 'Out of control', '나를 감시하는 저 Spot spot spotlight', '비출수록 어둠 속으로 빨려 들어 ', '끝이 보이는데 I know it’s not right', 'I can’t stop me, can’t stop me', '내 앞에 놓여진 이 Red red red line', '건너편의 너와 난 이미 눈을 맞춰 ', '느끼고 싶어 짜릿한 Highlight', 'I can’t stop me, can’t stop me', 'Risky risky wiggy 위기', 'This is an emergency', 'Help me, help me, somebody stop me', 'Cuz I know I can’t stop me ', '답은 알고 있잖아 ', '근데 가고 있잖아', '이러고 싶지 않아  ', '내 안에 내가 또 있나 봐', ' ', '나는 원하는데', '원하는 게 안돼', 'Guilty 난 싫은데', 'I can’t stop me, can’t stop me, can’t stop me', '나를 감시하는 저 Spot spot spotlight', '비출수록 어둠 속으로 빨려 들어 ', '끝이 보이는데 I know it’s not right', 'I can’t stop me, can’t stop me', '내 앞에 놓여진 이 Red red red line', '건너편의 너와 난 이미 눈을 맞춰 ', '느끼고 싶어 짜릿한 Highlight', 'I can’t stop me, can’t stop me', 'I can’t stop me, can’t stop me']\n"
          ]
        },
        {
          "output_type": "stream",
          "name": "stderr",
          "text": [
            "\r656it [5:38:59, 44.83s/it]"
          ]
        },
        {
          "output_type": "stream",
          "name": "stdout",
          "text": [
            "52\n",
            "['기분이 들떠 ', 'Like a star like a star ', '걸음에 시선이 쏟아져 ', '아닌척해도 살짝살짝 ', '너 역시 나를 보잖아요 ', '힐끔힐끔 ', '여전히 난 어려워 ', '어디로 향하는지 ', '숨길 수 없어진 나의 맘을 ', '따라와 줘 GLASSY ', 'So bright 좋아 ', '모든 빛을 쏟아내는 Eyes ', '눈을 뜨면 한편의 영화 같은 떨림 ', '너랑 나랑 Someday ', '시작해 My baby ', '라라라 라라라 ', '나의 두 발이 이끌 My journey ', '라라라 라라라 ', '온몸이 짜릿 떨려 Like dreaming ', '망설이지 마 ', 'Don’t Stop don’t stop ', '기다릴 시간이 없거든 ', '머뭇거리면 째깍째깍 ', '결국엔 또 엇갈릴 거야 ', '삐끗삐끗 ', '발끝이 아찔하게 ', '어디로 향하든지 ', '순수한 상상 그 끝 너머에 ', '데려다줘 GLASSY ', 'So bright 좋아 ', '모든 빛을 쏟아내는 Eyes ', '눈을 뜨면 한편의 영화 같은 떨림 ', '너랑 나랑 Someday ', '시작해 My baby ', '24/7 Twenty Twenty', 'Twenty Four Seven', '그래 24/7 Twenty Twenty', 'Twenty Four Seven', \"It's about time\", '한 걸음씩 되돌아가 몇 번을 말해도', '입버릇 돼 좀 더 날 안아줘', '이제는 더운 공기를 채워', '더 높이높이 날아', 'So bright 좋아', '모든 빛을 쏟아내는 Eyes', '눈을 뜨면 한편의 영화 같은 떨림', '너랑 나랑 Someday', '시작해 My baby', '라라라 라라라', '나의 두 발이 이끌 My journey', '라라라 라라라', '온몸이 짜릿 떨려 Like dreaming']\n"
          ]
        },
        {
          "output_type": "stream",
          "name": "stderr",
          "text": [
            "\r657it [5:39:31, 40.93s/it]"
          ]
        },
        {
          "output_type": "stream",
          "name": "stdout",
          "text": [
            "78\n",
            "['띠링', '이따 거기서 보는 거 맞지', '시간 잘 맞춰 늦으면 반칙', '시계만 자꾸 보는 걸', '난 이미 교복 치마 대신 체육복 바지', '복도 끝까지 달려갈 준비', '마지막 종소리가 울리면', '벌써 저기 오렌지빛 하늘이', '짙어지는 걸', '어서 머뭇거리다간', '금세 어두워질 걸', '우린 스케이트보드 위로', '마치 춤을 추듯 발을 굴러', '바람 그 사이를 가로질러', '여기저기 멀리 아주아주 멀리', '저 끝까지', 'I’m so good with you', '따라와 Catch up', '두 눈을 맞추고 긴 머리 날리고', 'Ready set go Feel it', '자유로운 기분인 걸', 'Yo yo yo', '지그재그 춤을 춰', 'Yo yo yo yo', 'Tag Me Tag Me Tag Me', 'Yeah 속도를 올려봐', '휘청거리다가 넘어져서', '올려다 본 하늘은 Wow', 'Download 한 phone game보다', '짜릿한 이 놀이', '같이 만든 우리 Playlist', '좀 더 크게 틀어줘', '지금 이 순간은 돌아오지 않아', '여기 눈부시게 반짝이는 걸', '모두 담았어 전부 다 찍었어', '앨범 가득한 Video', '어디로 튈지 모를 걸', '우린 코드가 딱 맞았지 만난 날부터', 'You know 말을 안 해도', '늘 맘이 잘 통하는 걸', '우린 스케이트보드 위로', '마치 춤을 추듯 발을 굴러', '바람 그 사이를 가로질러', '여기저기 멀리 아주아주 멀리', '저 끝까지', 'I’m so good with you', '따라와 Catch up', '두 눈을 맞추고 긴 머리 날리고', 'Ready set go Feel it', '자유로워 이대로', '멈추지 마 저 끝까지 훌쩍 날아가', '우린 이제 이곳을 벗어날 거야', '그때 마주친 그 표정을 잊을 수 없었지', '우린 서로 스며들어 친구보단', '또 다른 나인 거 같아', '일렁이는 맘을 타고 날아', 'Singing winging', '우린 스케이트보드 위로', '마치 춤을 추듯 발을 굴러', '바람 그 사이를 가로질러', '여기저기 멀리 아주아주 멀리', '저 끝까지', 'I’m so good with you', '따라와 Catch up', '두 눈을 맞추고 긴 머리 날리고', 'Ready set go Feel it', '자유로워 이대로', 'Singing that Singing that', 'Singing that', 'Singing that cool', 'Singing that cool', '카메라 보며 인사를 해줘', 'Singing that', '지금 그 표정 각도가 예뻐', 'Singing that', 'Record the video', '지금 이 순간을', '자유로운 기분인 걸']\n"
          ]
        },
        {
          "output_type": "stream",
          "name": "stderr",
          "text": [
            "\r658it [5:40:19, 43.14s/it]"
          ]
        },
        {
          "output_type": "stream",
          "name": "stdout",
          "text": [
            "76\n",
            "['빨갛게 물들여 지금 이 시간', \"I'll make it red eh eh eh\", 'Make it red eh eh eh', '어느새 내 맘에 빨간 장미처럼', '우아하게 eh eh eh', '새롭게 eh eh', 'Rose', '이런 느낌은 루비보다 더', '루비보다 더', '내가 느끼는 반짝임처럼', '끌리면 이끌려 Na na now', '바로 지금 Na na now', \"I don't wanna make it blue\", '상상해봐 너의 La Vie en Rose', '더 깊어진 눈빛 그 속에 붉어진', '내 맘을 타오르게 해 나를 춤추게 해', 'Ooh 잊지마', '여기 서 있는 Rose', 'Ooh 언제나 빛날 수 있게', 'La La La La Vie en Rose', 'Ooh This is my my', 'La La La La Vie en Rose', 'Rose', \"Ooh Oh It's my my\", 'La La La La Vie en Rose', '기대해도 좋아', '왠지 완벽해진 이 느낌', '가까이서 봐도 난 좋아', 'Red', '반짝이는 눈빛 루비같이 모든 시선', 'All eyes on me', '내가 그 누구보다도 빛나게', '빨갛게 물들일게', '이런 느낌은 사탕보다 더', '사탕보다 더', '내가 느끼는 달콤함처럼', '끌리면 이끌려 Na na now', '바로 지금 Na na now', \"I don't wanna make it blue\", '만들어봐 너의 La Vie en Rose', '더 깊어진 눈빛 그 속에 붉어진', '내 맘을 타오르게 해 나를 춤추게 해', 'Ooh 잊지마', '여기 서 있는 Rose', 'Ooh 언제나 빛날 수 있게', 'La La La La Vie en Rose', 'Ooh This is my my', 'La La La La Vie en Rose', 'Rose', \"Ooh Oh It's my my\", 'La La La La Vie en Rose', '감았던 눈을 떠봐', '달라져 모든 게 다', '아무도 모르는 새로운 세상을 봐', 'Oh baby', 'La La La La La La La Vie en Rose', '전부 다 물들여 Red', 'La La La La La La La Vie en Rose', '꿈이라도 좋아 빨갛게 칠해봐', '언제든 깨어날 수 있게', '내가 불러 줄게', 'Ooh 잊지마', '여기 서 있는 Rose', 'Ooh 언제나 빛날 수 있게', 'La La La La Vie en Rose', 'Ooh This is my my', 'La La La La Vie en Rose', 'Ooh 장밋빛에 물들게', 'La La La La Vie en Rose', '새빨가아아안 My rose', '빛이 나아아아 My rose', 'La La La La Vie en Rose', '이 순간 특별하게', \"We'll make it red\", 'Oh it’s my my', 'La La La La Vie en Rose']\n"
          ]
        },
        {
          "output_type": "stream",
          "name": "stderr",
          "text": [
            "\r659it [5:41:06, 44.45s/it]"
          ]
        },
        {
          "output_type": "stream",
          "name": "stdout",
          "text": [
            "62\n",
            "['손끝이 시리더니 벌써 봄이 왔네', '꿈같은 바람이 불어 곳곳에', '여느 때 와는 다른 듯한', '이 기분이 반가워', '내일은 좀 다른 날이 되려나', '어둠의 그림자 깊은 이 밤에 남겨진', '달이 달이 밝아와', '빛을 그리고 있어', '내 몸에서 널 뺀 만큼', '욕조에 물이 미련이 되어 넘쳐흘러', '한숨이 가득 그 공간을 채워', '새벽이 찾아오면', '혼자 남겨질 때면', 'Starry night', '별이 빛나는 밤', '네가 휘휘휘 불어와', '너와 나 나눈 수많은 밤', '나를 취하게 만들어', '별이 빛나는 밤', '야야야야이야', '별이 빛나는 밤', '야야야야야야야 별이 빛나는 밤', '겨울이 지나고 또다시 꽃은 피고', '따뜻한 공기 냄새가 날 감싸', '달라진 거 없는', '똑같은 일상이 반복돼', '그래도 내일을 기다려봐', '하루에 끝에서 이 자리에 남아서', '날이 날이 새도록', '너를 그리고 있어', 'Do you want me to leave', 'No 난 그 자리 그대로', '까만 밤하늘에 가려', '잠시 보이지 않는 거야', '새벽이 찾아오면', '혼자 남겨질 때면', 'Starry night', '별이 빛나는 밤', '네가 휘휘휘 불어와', '너와 나 나눈 수많은 밤', '나를 취하게 만들어', '별이 빛나는 밤', '야야야야이야', '별이 빛나는 밤', '야야야야야야야 별이 빛나는 밤', 'Starry Starry Night', '네가 없는 밤', '가슴이 공허해', '우리의 풍경이 저물어가', '현실을 부정해 눈을 감아도', '네가 보여 왜 아른거려', 'Leave me alone', '무너져 가네', 'Starry night', '별이 빛나는 밤', '네가 휘휘휘 불어와', '너와 나 나눈 수많은 밤', '나를 취하게 만들어', '별이 빛나는 밤', '야야야야이야', '별이 빛나는 밤', '야야야야야야야 별이 빛나는 밤']\n"
          ]
        },
        {
          "output_type": "stream",
          "name": "stderr",
          "text": [
            "\r660it [5:41:45, 42.75s/it]"
          ]
        },
        {
          "output_type": "stream",
          "name": "stdout",
          "text": [
            "69\n",
            "['I got pushed 떠밀려 왔어', '오래도 찾아 헤맨 꿈의 문 앞에', '내 안에 그 작은 노래가', '작은 노래가 날 여기 데려왔어', '외로워도 기댈 곳 없이', '괴로워도 멈춤 없이', '그저 참고 견딘 시간의 의미를', '이제야 나 널 만난 후에야', '손잡은 후에야 그 이유를 깨달아', 'Yeah I’m scared 두렵긴 하지만', \"힘차게 뛰어가 let's just try\", 'It’s our chance 수없이 새겨진', '지난 발자국이 알아', 'Woah oh', '친구가 되어 함께 걸어줘', 'Let’s just run for our lives', 'Woah oh', '손을 내밀어 그리고 약속해', 'Let’s just run for our lives', 'Woah oh', '미래의 문이 열리고 약속의 그날이 보여', 'You &amp; I', 'We can fly', '넌 또 다른 나 난 또 다른 너', 'Let’s just run for our lives', 'Woah oh', '너와 내 꿈의 I-LAND', 'Run for your heart run for your life', '너와 내 꿈의 I-LAND', 'Run for your heart run for your life', '외로워도 기댈 곳 없이', '괴로워도 멈춤 없이', '내게 지구는 꼭 무인도 같았어', 'But right now 넌 지금 내 옆에', '지금 내 옆에 함께 달리고 있어', 'Yeah I’m scared 떨리고 있지만', \"멈추지 말고 가 let's just try\", 'It’s our chance 수없이 새겨진', '지난 발자국이 알아', 'Woah oh', '친구가 되어 함께 걸어줘', 'Let’s just run for our lives', 'Woah oh', '손을 내밀어 그리고 약속해', 'Let’s just run for our lives', 'Woah oh', '‘I’란 섬과 섬 사이', '작은 선을 이어서 단단한 다릴 지어', 'Now I &amp; I &amp; I &amp; I are I-LAND', '너와 난 너와 난 너와 난 하나인 거야', '너와 내 꿈의 I-LAND', 'Run for your heart run for your life', '너와 내 꿈의 I-LAND', 'Run for your heart run for your life', 'Woah oh', '친구가 되어 함께 걸어줘', 'Let’s just run for our lives', 'Woah oh', '손을 내밀어 그리고 약속해', 'Let’s just run for our lives', 'Woah oh', '꿈은 현실에 꽃피고 꽃은 불꽃 속에 빛나', 'You &amp; I', 'We can fly', '넌 또 다른 나 난 또 다른 너', 'Let’s just run for our lives', 'Woah oh', 'Oh', 'Run for your dream']\n"
          ]
        },
        {
          "output_type": "stream",
          "name": "stderr",
          "text": [
            "\r661it [5:42:27, 42.46s/it]"
          ]
        },
        {
          "output_type": "stream",
          "name": "stdout",
          "text": [
            "86\n",
            "['Fall Everything', 'Fall Everything', 'Fall Everything', '흩어지네', 'Fall Everything', 'Fall Everything', 'Fall Everything', '떨어지네', '너 땜에 나 이렇게 망가져', '그만할래 이제 너 안 가져', '못하겠어 뭣 같아서', '제발 핑계 같은 건 삼가줘', '니가 나한테 이럼 안 돼', '니가 한 모든 말은 안대', '진실을 가리고 날 찢어', '날 찍어 나 미쳐 다 싫어', '전부 가져가 난 니가 그냥 미워', 'But you’re my everything', 'You’re my', 'Everything You’re my', 'Everything You’re my', '제발 좀 꺼져 huh', '미안해 I hate u', '사랑해 I hate u', '용서해', 'I need you girl', '왜 혼자 사랑하고 혼자서만 이별해', 'I need you girl', '왜 다칠 걸 알면서 자꾸 니가 필요해', 'I need you girl', '넌 아름다워', 'I need you girl', '너무 차가워', 'I need you girl', 'I need you girl', 'I need you girl', 'I need you girl', 'It goes round and round', '나 왜 자꾸 돌아오지', 'I go down and down', '이쯤 되면 내가 바보지', '나 무슨 짓을 해봐도', '어쩔 수가 없다고', '분명 내 심장 내 마음 내 가슴인데', '왜 말을 안 듣냐고', '또 혼잣말하네 또 혼잣말하네', '또 혼잣말하네 또 혼잣말하네', '넌 아무 말 안 해', '아 제발 내가 잘할게', '하늘은 또 파랗게', '하늘은 또 파랗게', '하늘이 파래서 햇살이 빛나서', '내 눈물이 더 잘 보이나 봐', '왜 나는 너인지 왜 하필 너인지', '왜 너를 떠날 수가 없는지', 'I need you girl', '왜 혼자 사랑하고 혼자서만 이별해', 'I need you girl', '왜 다칠 걸 알면서', '자꾸 니가 필요해', 'I need you girl', '넌 아름다워', 'I need you girl', '너무 차가워', 'I need you girl', 'I need you girl', 'I need you girl', 'I need you girl', 'Girl 차라리 차라리 헤어지자고 해줘', 'Girl 사랑이 사랑이 아니었다고 해줘', '내겐 그럴 용기가 없어', '내게 마지막 선물을 줘', '더는 돌아갈 수 없도록', 'I need you girl', '왜 혼자 사랑하고 혼자서만 이별해', 'I need you girl', '왜 다칠 걸 알면서', '자꾸 니가 필요해', 'I need you girl', '넌 아름다워', 'I need you girl', '너무 차가워', 'I need you girl', 'I need you girl', 'I need you girl', 'I need you girl']\n"
          ]
        },
        {
          "output_type": "stream",
          "name": "stderr",
          "text": [
            "\r662it [5:43:19, 45.21s/it]"
          ]
        },
        {
          "output_type": "stream",
          "name": "stdout",
          "text": [
            "59\n",
            "['그런 날이 있어 ', '갑자기 혼자인 것만 같은 날 ', '어딜 가도 내 자리가 아닌 것만 같고 ', '고갠 떨궈지는 날 ', '그럴 때마다 내게 ', '얼마나 내가 소중한지 ', '말해주는 너의 그 한마디에 ', \"Everything's alright \", '초라한 Nobody에서 ', '다시 Somebody ', '특별한 나로 변해 ', 'You make me feel special ', '세상이 아무리 날 주저앉혀도 ', '아프고 아픈 말들이 날 찔러도 ', '네가 있어 난 다시 웃어 ', \"That's what you do \", 'Again I feel special ', '아무것도 아닌 존재 같다가도 ', '사라져도 모를 사람 같다가도 ', '날 부르는 네 목소리에 ', 'I feel loved I feel so special ', '자꾸 숨고만 싶어서 ', '마주 하기가 싫어서 ', '모든 게 의미를 잃은 듯이 ', '내가 의미를 잃은 듯이 ', '가만히 주저앉아 있을 때 ', '그때 내 앞에 나타난 너의 ', '따뜻한 미소와 손길에 ', \"Everything's alright \", '초라한 Nobody에서 ', '다시 Somebody ', '특별한 나로 변해 ', 'You make me feel special ', '세상이 아무리 날 주저앉혀도 ', '아프고 아픈 말들이 날 찔러도 ', '네가 있어 난 다시 웃어 ', \"That's what you do \", 'Again I feel special ', '아무것도 아닌 존재 같다가도 ', '사라져도 모를 사람 같다가도 ', '날 부르는 네 목소리에 ', 'I feel loved I feel so special ', 'You make everything alright ', '구름이 쫙 낀 햇살 한 줌 없는 날 ', '네가 바로 나의 Shining light ', \"That's what you do \", '아무리 어두운 밤도 다시 낮 ', 'I owe it to you ', 'Because you make me feel ', 'You make me feel special', '세상이 아무리 날 주저앉혀도', '아프고 아픈 말들이 날 찔러도', '네가 있어 난 다시 웃어', \"That's what you do\", 'Again I feel special', '아무것도 아닌 존재 같다가도', '사라져도 모를 사람 같다가도', '날 부르는 네 목소리에', 'I feel loved I feel so special']\n"
          ]
        },
        {
          "output_type": "stream",
          "name": "stderr",
          "text": [
            "\r663it [5:43:53, 42.08s/it]"
          ]
        },
        {
          "output_type": "stream",
          "name": "stdout",
          "text": [
            "81\n",
            "['할 말이 많은데', '정리가 잘 안돼', '도와줘 SOS', '하나 둘 셋 넷', '어떤 표현법을', '써야만 내 맘이 전해질까', '마음을 꺼내서 너에게 복사해', '붙여야 하는 건가', '어느 멋진 날에', '나에게 짠하고 나타나선', '내 맘을 취하고', '시선을 빼앗고 넌 욕심쟁이', '내가 하고 싶었던 말은', \"Don't take this the wrong way\", 'But 너 말곤 안 보여', \"You'r so ice ice baby\", 'At the same time 넌 날 녹여', \"Just can't get enough\", '날 너에게 숨김 없이', '보여주고 싶어', '우린 서로를 선택했고', '나노 단위로 집중해', '널 볼 때 난 숨이 체할 것 같아 ', '평소엔 안 그러는데', '예쁜 말 모두 모아서', '따다 주고 싶은데', '너 앞에 서면 자꾸 들어가는 말 ', '새벽에 물을 마시면서', '혼자 다짐해 나는 너에게', '턱 끝까지 차 올랐던 그 말을', '내일 꼭 하겠어', '너 예쁘다', '감기에는 약', '배고프면 밥', '너 에는 나', '처럼 사전에 널 찾으면', '나로 정의됐음 좋겠단 말이야', '근데 오늘은 대체', '어떻게 해야 돼', '인터넷에다 물어볼까', '어떤 옷 또 어떤 곳', '공부를 이렇게나 해볼 걸', '우린 서로를 선택했고', '나노 단위로 집중해', '널 볼 때 난 숨이 체할 것만 같아', '평소엔 안 그러는데', '예쁜 말 모두 모아서', '따다 주고 싶은데', '너 앞에 서면 자꾸 들어가는 말 ', '새벽에 물을 마시면서', '혼자 다짐해 나는 너에게', '턱 끝까지 차 올랐던 그 말을', '내일 꼭 하겠어', '너 예쁘다', \"I can't take it no more\", '할말은 있는데', \"I can't take it no more\", '지금 하려고 해', \"I can't take it no more\", '편지를 쓰려다가', \"I can't take it no more\", '못 참겠어', \"Baby you're my lady\", '너의 마음속을', '달려가는 중인데', 'Baby 이제 거의 다 왔어', '하', '하', '새벽에 물을 마시면서', '혼자 다짐해 나는 너에게', '영화처럼 달콤하고 예쁜 그 말 ', '몇 날 며칠 밤새 연습했던 그 말 ', '내일은 꼭 두 주먹을 꽉 쥐고', '말 해주고 싶어', '너 예쁘다', 'Does she love me', 'Does she love me not', '하루 종일 세고 있어 꽃잎만', 'Does she love me', 'Does she love me not', '꽃잎은 내게 어떤 답을 전해 줄까']\n"
          ]
        },
        {
          "output_type": "stream",
          "name": "stderr",
          "text": [
            "\r664it [5:44:41, 43.86s/it]"
          ]
        },
        {
          "output_type": "stream",
          "name": "stdout",
          "text": [
            "83\n",
            "['모두 나를 가지고', '매일 가만 안 두죠', '내가 너무 예쁘죠', '나 때문에 다 힘들죠', '어딜 걷고 있어도', '빨간 바닥인거죠', 'Red carpet 같은 기분', '모두 날 쳐다 보죠 oh', '어떤 사람은 어머님이 누구냐고', '신선하게 말 걸어도', '아무 느낌이 안 들죠', '하지만 나도 누군가 하고 사랑에', '빠져보고 싶어 Baby', '잘 들어요 내 Boy', '단 한번도 느껴본 적 없는 걸', '알게 해주는', '사람 기다리고 있는 걸', '얼마가 돼도 기다리고 싶어', 'I just wanna fall in love', '어떻게 내가 움직일 수 없게 ', '날 Ooh Ahh Ooh Ahh', '하게 만들어줘', '가짜 가짜 진심 없는 가짜 ', '잘 가 잘 가 Huh', 'OOH AHH하게', '어떻게 이제 더 할말이 없게 ', '날 Ooh Ahh Ooh Ahh', '하게 만들어줘', 'Bla La La La 말만하지 말고 ', '느껴지게 Huh', 'OOH AHH하게', '날 봐 거봐 또 두 번 봐', '한번 지나치고', '등을 돌려 쳐다봐 TWICE', '어딜 가더라도 항상 민 낯', '하지만 내가 제일 빛나', '낮은 신발 신어도 가치는 High', '머릿속엔 늘 영화 속 같은 La La La', '장면들이 지나가네', '생각만해도 떨리네 Yeah', '이제는 나도 누군가 하고 사랑에 ', '빠져 보고 싶어 Baby', '잘 들어요 내 Boy', '단 한번도 느껴본 적 없는 걸', '알게 해주는', '사람 기다리고 있는 걸', '얼마가 돼도 기다리고 싶어', 'I just wanna fall in love', '어떻게 내가 움직일 수 없게 ', '날 Ooh Ahh Ooh Ahh', '하게 만들어줘', '가짜 가짜 진심 없는 가짜 ', '잘 가 잘 가 Huh', 'OOH AHH하게', '어떻게 이제 더 할말이 없게 ', '날 Ooh Ahh Ooh Ahh', '하게 만들어줘', 'Bla La La La 말만하지 말고 ', '느껴지게 Huh', 'OOH AHH하게', '아무하고 만나 시작하기 싫어 ', '쉽지 않은 여자 그게 나인걸 ', 'Let me see', 'How you gon treat me', \"I ain't no easy\", 'Better think about it TWICE', 'Let me see', 'How you gon treat me', \"I ain't no easy\", 'Better think about it TWICE', '어떻게 내가 움직일 수 없게 ', '날 Ooh Ahh Ooh Ahh', '하게 만들어줘', '가짜 가짜 진심 없는 가짜 ', '잘 가 잘 가 Huh', 'OOH AHH하게', '어떻게 이제 더 할말이 없게 ', '날 Ooh Ahh Ooh Ahh', '하게 만들어줘', 'Bla La La La 말만하지 말고 ', '느껴지게 Huh', 'OOH AHH하게', 'OOH AHH하게']\n"
          ]
        },
        {
          "output_type": "stream",
          "name": "stderr",
          "text": [
            "\r665it [5:45:31, 45.64s/it]"
          ]
        },
        {
          "output_type": "stream",
          "name": "stdout",
          "text": [
            "58\n",
            "['우리 사랑하지 말아요', '아직은 잘 모르잖아요', '사실 조금은 두려운 거야', '그대 미안해요', '우리 약속하지 말아요', '내일은 또 모르잖아요', '하지만 이 말 만은 진심이야', '그대 좋아해요', '아무것도 묻지 말아요', '대답할 수 없어요', '지금 이렇게 둘이 행복한데 왜', '날 가지려 하지 말아요', '그저 이대로 조금만 있어요', '갈수록 더 마음 아파지게 왜', '잦은 만남 뒤엔 이별', '계속 반복되는 실연', '더는 의미를 찾을 수 없어', '어리석은 미련', '사랑의 탈을 쓴 mistake', '느끼는 감정은 다 비슷해', '하지만 이 순간만큼은', 'I want you to stay', '우리 사랑하지 말아요', '아직은 잘 모르잖아요', '사실 조금은 두려운 거야', '그대 미안해요', '우리 약속하지 말아요', '내일은 또 모르잖아요', '하지만 이 말 만은 진심이야', '그대 좋아해요', '나를 보며 웃지 말아요', '정들면 슬퍼져요', '예쁜 그 미소가 눈물이 될까 봐', '사랑이란 두 글자 속에', '우릴 가두려고 하지 말아요', '채우지 못할 욕심이니까', '처음엔 설렘을 안고', '반은 고민을 안고', '끝엔 서로 의리로나마 지내', '시행착오', '난 하루하루가 불안해', '네 그 순수함이 부담돼', '하지만 오늘 밤만큼은', 'I want you to stay', '내게 너무 많은 걸 바라지마', '나도 그댈 잃고 싶진 않아', '깊어지기 전에 상처 입기 전에', '날 믿지 말아요', '넌 항상 그래', '이기적인 새끼', '우리 사랑하지 말아요', '아직은 잘 모르잖아요', '사실 조금은 두려운 거야', '그대 미안해요', '우리 약속하지 말아요', '내일은 또 모르잖아요', '하지만 이 말 만은 진심이야', '그대 좋아해요']\n"
          ]
        },
        {
          "output_type": "stream",
          "name": "stderr",
          "text": [
            "\r666it [5:46:05, 42.18s/it]"
          ]
        },
        {
          "output_type": "stream",
          "name": "stdout",
          "text": [
            "66\n",
            "['어쩌다 어쩌다 어쩌다', '널 사랑하게 됐는지', '내가 왜 이 꼴이 됐는지', '어쩌다 어쩌다 어쩌다', '내 맘 다 타버렸는지', '내가 이런 바보였는지', '이거 참 이럴 줄은 몰랐어', '오늘도 난 지쳐 너만 기다리다', '너 때문에 눈물 쏙 뺀 여자들', '그 중에 하나가 되기는 싫었어', '너를 바라보다 아차 싶었어', '다잡았던 내 맘 놓치고 말았어', '그런 나를 부르면 Oh My Honey', '일분일초만에 니 앞에 있는 나', '너무 멋진 멋진 그대', '널 바라보면 어질어질해', '너무 나쁜 나쁜 그대', '다 모르는 척 웃고만 있네', '어쩌다 어쩌다 어쩌다', '널 사랑하게 됐는지', '내가 왜 이 꼴이 됐는지', '어쩌다 어쩌다 어쩌다', '내 맘 다 타버렸는지', '내가 이런 바보였는지', '아무렇지 않은 척 해도', '네게는 다 보이겠지 난', '유명했어 까칠 도도', '이런 내가 변해 너로 인해', '고로 나를 도로', '돌려놔줘 나를 봐줘 Red Alert', '너와 있으면 왜 이럴까', '심장이 멎어', '끝이 뻔히 보이는 게임이야', '나를 모두 말려 니 말만 나오면', '그래도 난 어쩔 수가 없잖아', '너만 생각하면 입가엔 미소만', '하루 하루 고민고민 해봐도', '너의 속을 몰라 깜깜한 밤이야', '나만 보고 말해줘 Oh My Darling', '지겹지도 않니 그 많은 여자들', '너무 멋진 멋진 그대', '날 바라볼 땐 아찔아찔 해', '너무 바쁜 바쁜 그대', '하루라도 더 보고 싶은데', '어쩌다 어쩌다 어쩌다', '널 사랑하게 됐는지', '내가 왜 이 꼴이 됐는지', '어쩌다 어쩌다 어쩌다', '내 맘 다 타버렸는지', '내가 이런 바보였는지', 'R E S P E C T ME', '내가 널 더 좋아하지만', \"Yon don't be nasty\", '미치겠어 나의 마음이', '커커커커 커져가네', '난 워워워워 워쩌까예', '오로지 그대에게 반했죠', '사랑한다고 내게 말해줘', '어쩌다 어쩌다 어쩌다', '그렇게 넌 태어났는지', '내 맘을 다 뺏어갔는지', '어쩌다 어쩌다 어쩌다', '내 눈 앞에 나타났는지', '사랑하게 만들었는지', '어쩌다', ' ']\n"
          ]
        },
        {
          "output_type": "stream",
          "name": "stderr",
          "text": [
            "\r667it [5:46:45, 41.33s/it]"
          ]
        },
        {
          "output_type": "stream",
          "name": "stdout",
          "text": [
            "89\n",
            "['Ay', \"So I'm asking\", 'Do you love me', 'Cause I love you', \"I'm asking girl\", 'Cause I really need to know', 'Is it for real', 'and how deep does it go', 'Do you love me', 'Cause I love you', 'Just know that', 'I will always be the one', 'that you can run to', 'Hear it girl', '보고 싶었어', '가끔 생각했었어', '계절을 타는 건지', '니가 그리워서', '이젠 숨기지 말고 말해', '고백하라고', '내가 아파했던 그만큼', '사랑하자고 oh', 'Woo baby baby', '무엇보다 너를 사랑해', '결혼해서 행복하게 사는 건', '꼭 나랑해', '바람에 못 날아가게', '내가 꽉 잡아줄게', '추울 땐 옷도 벗어주고', '널 꽉 안아줄게', 'If you love me', 'If you want me', '더 세게 날 안아줘요', 'If you love me', 'If you want me', '내게로', 'So tell me baby', '불꺼진 가로등 뒤에 서서', '둘만의 눈빛을 마주보고', 'Kiss me show me', 'Really really love me', '날 안아줘요', '혹시 나와 똑같은 생각을 하는지', '날 바라보는 눈빛이 뭔가 다른걸', '너만이 나에게 쉴 수 있는 집', '너없는 내 길은 꾸불꾸불한 길', '바람이 불어도 날 막아주는 힘', 'I want your love', 'I need your love', 'If you love me', 'If you want me', '더 세게 날 안아줘요', 'If you love me', 'If you want me', '내게로', 'So tell me baby', '불꺼진 가로등 뒤에 서서', '둘만의 눈빛을 마주보고', 'Kiss me show me', 'Really really love me', '날 안아줘요', '내 가슴 한켠에 그대를 쓰고', '아무도 지울 수 없게 숨겨놓고', 'Yes Kiss me show me', 'Really really love me', '온몸이 마비 된것 같이 날', 'Hold me too tight', 'If you love me', 'If you want me', '더 세게 날 안아줘요', 'If you love me', 'If you want me', '내게로', 'So tell me baby', '불꺼진 가로등 뒤에 서서', '둘만의 눈빛을 마주보고', 'Kiss me show me', 'Really really love me', '날 안아줘요', '너만이 나에게 쉴 수 있는 집', '너없는 내 길은 꾸불꾸불한 길', '바람이 불어도 날 막아주는 힘', 'I want your love', 'I need your love', '너만이 나에게 쉴 수 있는 집', '너없는 내 길은 꾸불꾸불한 길', '바람이 불어도 날 막아주는 힘', 'I want your love', 'I need your love']\n"
          ]
        },
        {
          "output_type": "stream",
          "name": "stderr",
          "text": [
            "\r668it [5:47:38, 44.80s/it]"
          ]
        },
        {
          "output_type": "stream",
          "name": "stdout",
          "text": [
            "56\n",
            "['내가 사준 옷을 걸치고', '내가 사준 향술 뿌리고', '지금쯤 넌 그녈 만나', '또 웃고 있겠지', '그렇게 좋았던거니', '날 버리고 떠날 만큼', '얼마나 더 어떻게 더', '잘해야 한거니', '너를 아무리 지울래도', '함께한 날이 얼마인데', '지난 시간이 억울해서', '자꾸 눈물이 흐르지만', '보여줄게 완전히 달라진 나', '보여줄게 훨씬 더 예뻐진 나', '바보처럼 사랑때문에 떠난', '너 때문에 울지 않을래', '더 멋진 남잘 만나 꼭 보여줄게', '너보다 행복한 나', '너 없이도 슬프지 않아', '무너지지않아', 'Boy you gotta be aware', '산뜻하게 머릴 바꾸고', '정성 들여 화장도 하고', '하이힐에 짧은 치마', '모두 날 돌아봐', '우연히라도 널 만나면', '눈이 부시게 웃어주며', '놀란 니 모습 뒤로 한 채', '또각또각 걸어가려해', '보여줄게', '완전히 달라진 나', '보여줄게', '훨씬 더 예뻐진 나', '바보처럼 사랑때문에 떠난', '너 때문에 울지 않을래', '더 멋진 남잘 만나 꼭 보여줄게', '너보다 행복한 나', '너 없이도 슬프지 않아', '무너지지 않아', 'Boy you gotta be aware', '니가 줬던 반질 버리고', '니가 썼던 편질 지우고', '미련없이 후회없이 잊어줄거야', '너를 잊을래 너를 지울래', '보여줄게', '완전히 달라진 나', '보여줄게', '훨씬 더 예뻐진 나', '바보처럼 사랑때문에 떠난', '너 때문에 울지 않을래', '더 멋진 남잘 만나', '꼭 보여줄게', '너보다 행복한 나', '너 없이도 슬프지 않아', '무너지지 않아', 'Boy you gotta be aware']\n"
          ]
        },
        {
          "output_type": "stream",
          "name": "stderr",
          "text": [
            "\r669it [5:48:11, 41.33s/it]"
          ]
        },
        {
          "output_type": "stream",
          "name": "stdout",
          "text": [
            "54\n",
            "['순정', ' (純情)워워워 워워워  ', '워워워워워워워  ', '워워워 워워워 ', '워워워워워워워 ', '나를 포기했어 너만 ', '사랑했어 ', '그것만으로도 부족했었나 ', '바보 같은 내게 내게 ', '이럴 수 있어 ', '영원히 함께 있자고 ', '죽어도 같이 죽자고 ', '눈물로써 맹세했는데 ', '다 필요 없어 ', '너의 행복 찾아 나를 떠난다면 ', '이제 와서 나는 어떡하라고 ', '다시 생각해봐 내게 ', '이러면 안돼 ', '너 없인 살 수가없어 ', '제발 날 도와 달라고 ', '애원하며 붙잡고싶어 ', '워워워 워워워 ', '워워워워워워워 ', '워워워 워워워 ', '워워워워워워워 ', '어느날 갑자기 슬픈 ', '내게로 다가와 ', '사랑만 주고서 멀리 ', '떠나가 버린 너 ', 'get down and find yo cutie ', 'jump around and shake ', 'yo booty ', '이해 못해 너의 그런 의미 ', 'why me 진정 나를 사랑했니 ', 'heart breakin love rackin ', '너에게 모든 걸 맡긴 now ', 'you packin ', '왜 착한 나를 자꾸 울려 ', \"don't wanna let's you go \", '사랑하면 뭐해 정은 줘서 뭐해 ', '순정 받쳐 고작 눈물뿐인데 ', '사랑한게 죄야 너를 ', '원망 않겠어 ', '나 떠나 행복하기를 간절히 ', '기도할께요 ', '단 내 사랑은 잊지 말아줘 ', '워워워 워워워 ', '워워워워워워워 ', '워워워 워워워 ', '워워워워워워워 ', '어느날 갑자기 슬픈 ', '내게로 다가와 ', '사랑만 주고서 멀리 ', '떠나가 버린 너 ']\n"
          ]
        },
        {
          "output_type": "stream",
          "name": "stderr",
          "text": [
            "\r670it [5:48:43, 38.50s/it]"
          ]
        },
        {
          "output_type": "stream",
          "name": "stdout",
          "text": [
            "72\n",
            "['너인 듯해', '내 맘에 새하얀 꽃잎을', '마구 흩날리는 건', '너인 듯해', '발끝에 소복하게', '쌓여가 또 쌓여가', '그리고 넌 작은 싹을 틔워', '금세 자라난 아름드리', '짙은 초록의 색깔로', '넌 내 하늘을 채우고', '그리고 넌 작은 나의 맘의', '지각변동은 너로부터', '난 달라진 것만 같애', '저기 멀리 나무 뒤로', '다섯 번째 계절이 보여 난', '처음 느낀 설렘이야', '네 이름이 날 가슴 뛰게 만들어', '있잖아 사랑이면 단번에 바로', '알 수가 있대', '헷갈리지 않고 반드시', '알아볼 수가 있대', '이제 난 그 사람이 누군지 확신했어', 'lalalalalalala', '네가 내게 피어나', '아지랑이처럼 어지럽게', 'lalalalalalala', '네가 내게 밀려와', '두 눈을 커다랗게 뜨고 꾸는 꿈', '너인 듯해', '낮은 휘파람 소리', '어디선가 나를 부르는 소리', '발을 내딛을 때마다', '여긴 또 다른 어딘가', '너인 듯해', '사뿐 저물어가는', '노을마저도 멋진 그림', '다 달라진 것만 같애', '저기 너의 어깨너머', '다섯 번째 계절이 보여 난', '처음 느낀 설렘이야', '네 웃음이 날 가슴 뛰게 만들어', '꼭 분명한 건 사랑이면 단번에 바로', '알 수가 있대', '헷갈리지 않고 반드시', '알아볼 수가 있대', '이제 난 그 사람이 누군지 확신했어', 'lalalalalalala', '네가 내게 피어나', '아지랑이처럼 어지럽게', 'lalalalalalala', '네가 내게 밀려와', '지평선 저편에서 천천히', '날 향해 다가와', '너는 이제 내 마음에 머물겠지', '여태껏 상상만 했었는데', '사랑이란 느낌이 뭔지 궁금했는데', '헷갈리진 않을까 혹시', '그런 그때 누군가 내게', '다정하게 말했지', '있잖아 사랑이면 단번에 바로', '알 수가 있대', '헷갈리지 않고 반드시', '알아볼 수가 있대', '이제 난 그 사람이 누군지 확신했어', 'lalalalalalala', '네가 내게 피어나', '아지랑이처럼 어지럽게', 'lalalalalalala', '네가 내게 밀려와', '두 눈을 커다랗게 뜨고 꾸는 꿈', '사랑이란 꿈', 'love for real']\n"
          ]
        },
        {
          "output_type": "stream",
          "name": "stderr",
          "text": [
            "\r671it [5:49:25, 39.79s/it]"
          ]
        },
        {
          "output_type": "stream",
          "name": "stdout",
          "text": [
            "63\n",
            "['오직 너만이 흔들어 날', '내게 콧노래를 불러 Na na', '슬쩍 앙큼하게 굴어 난', 'Hello hello 맘대로 대로 Hey', '말해 널 Te quiero', '예전에 못한 말을 바로 할게', '바래 넌 나의 M.O.M', 'Hello hello 맘대로 대로 Hey', '오늘만 살아 더 흔들어 봐', '누가 뭐래도 즐거우니까', 'Um 티키타카 Honey babe', 'L.O.V.E', 'Play that PING PONG', '티키타카타', 'Play that PING PONG', '티키타카타', 'Play that PING PONG', '달링 my 달링', '날 더 상상해 You’re my Dali', \"You're my 달링 my 달링\", '모두 다 같이 Love somebody', 'I love you ma beauty', '검은 머리 파 뿌리', '푸른 초원 위 우리 집 으리으리 마무리', '우리 함께 발을 맞춰 Feel like harmony', '조화롭게 어우러져 Like 과카몰리', '어디든 단둘이야', '어딜 봐 여길 봐 깐따삐야', 'Make it make it make it up', '부비 booty shake it up', '무야호 신난다는 거지', '오늘만 살아 더 흔들어 봐', '누가 뭐래도 즐거우니까', 'Um 티키타카 Honey babe', 'L.O.V.E', 'Play that PING PONG', '티키타카타', 'Play that PING PONG', '티키타카타', 'Play that PING PONG', '달링 my 달링', '날 더 상상해 You’re my Dali', \"You're my 달링 my 달링\", '모두 다 같이 Love somebody', 'Eh You’re my 줄리엣 uh', '달이 뜬 이 밤 창문을 열어', '너와 나의 아침은 아직 멀어', 'La vida loca', 'Eh Show your 실루엣 uh', '달이 비치는 나의 마음 여려', '내게 미치는 너의 마음 어려', 'La vida loca', 'Uh', '티키타카타', '티키타카타', 'Play that PING PONG', '달링 my 달링', '날 더 상상해 You’re my Dali', \"You're my 달링 my 달링\", '모두 다 같이 Love somebody', 'Hello hello 맘대로 대로 Hey', 'L.O.V.E', 'Play that PING PONG']\n"
          ]
        },
        {
          "output_type": "stream",
          "name": "stderr",
          "text": [
            "\r672it [5:50:03, 39.16s/it]"
          ]
        },
        {
          "output_type": "stream",
          "name": "stdout",
          "text": [
            "30\n",
            "['어느 날 난 조금 낯선 곳에 눈을 떴지', '온몸엔 부드러운 털이 자라나고', '머리엔 반짝이는 뿔이 돋아나는', '그런 곳 이상한 곳', '들어봐 고운 새들의 저 노랫소리', '느껴봐 맨발에 닿는 풀의 싱그러움', '지금 난 태어나서', '가장 자유로운 춤을 춰', '난 춤을 춰', '나는 찾아가려 해 신비로운 꿈', '서로 눈을 맞출 때 더 푸르르던 숲', '가장 높은 절벽에 올라가 소리쳐', '멀리 세상 저편에 날 기다리는 숲', 'blue sky 점점 짙어지는 하늘을 봐', '보름달 아래 모여드는 반딧불이', '오래전 설레었던', '어느 christmas처럼', '눈부셔 참 눈부셔', '길을 잃으면', '키가 큰 나무에게 물어야지', '그들은 언제나 멋진 답을 알고 있어', '이제 난 가장 나 다운 게', '무엇인지 알겠어 잘 알겠어', '나는 찾아가려 해 신비로운 꿈', '서로 눈을 맞출 때 더 푸르르던 숲', '가장 높은 절벽에 올라가 소리쳐', '멀리 세상 저편에 날 기다리는 숲', '나는 찾아가려 해 신비로운 꿈', '멀리 세상 저편에 날 기다리는 숲', 'I wanna be with you']\n"
          ]
        },
        {
          "output_type": "stream",
          "name": "stderr",
          "text": [
            "\r673it [5:50:21, 32.83s/it]"
          ]
        },
        {
          "output_type": "stream",
          "name": "stdout",
          "text": [
            "87\n",
            "['아 싸', 'Ladies and gentlemen ', '아싸 또 왔다 나', '아싸 또 왔다 나', '기분 좋아서 나', '노래 한 곡 하고', '하나 둘 셋 넷', '터질것만 같은', '행복한 기분으로', '틀에 박힌 관념', '다 버리고 이제 또', '맨 주먹 정신', '다시 또 시작하면', '나 이루리라 다', '나 바라는대로', '지금 내가 있는', '이 땅이 너무 좋아', '이민따위 생각한 적도', '없었고요', '금 같은 시간', '아끼고 또 아끼며', '나 비상하리라', '나 바라는대로', '산속에도 저 바다속에도', '이렇게 행복할 순', '없을거야 랄랄랄라', '구름타고 세상을 날아도', '지금처럼 좋을 수는', '없을거야 울랄랄라', '모든게 마음 먹기 달렸어', '어떤게 행복한 삶인가요', '사는게 힘이들다 하지만', '쉽게만 살아가면', '재미없어 빙고', '거룩한 인생', '고귀한 삶을 살며', '부끄럼 없는', '투명한 마음으로', '이내 삶이 끝날', '그 마지막 순간에', '나 웃어보리라 나', '바라는대로 빙고', '아싸 또 왔다 나', '기분 좋아서 나', '노래 한 곡 하고', '하나 둘 셋 넷', '한치앞도 모르는', '또 앞만보고 달리는', '이 쉴새없는 인생은', '언제나 젊을 수 없음을', '알면서도 하루하루', '지나가고 또', '느끼면서 매일매일', '미뤄가고', '평소 해보고', '싶은 가보고 싶은', '곳에 단 한 번도', '못가는 이 청춘', '산속에도 저 바다속에도', '이렇게 행복할 순', '없을거야 랄랄랄라', '구름타고 세상을 날아도', '지금처럼 좋을 수는', '없을거야 울랄랄라', '모든게 마음 먹기 달렸어', '어떤게 행복한 삶인가요', '사는게 힘이 들다 하지만', '쉽게만 살아가면', '재미없어 빙고', '피할 수 없다면 즐겨봐요', '힘들다 불평하지만 말고', '사는게 고생이라 하지만', '쉽게만 살아가면', '재미없어 빙고', '거룩한 인생', '고귀한 삶을 살며', '부끄럼 없는', '투명한 마음으로', '이내 삶이 끝날', '그 마지막 순간에', '나 웃어보리라', '나 바라는대로 빙고', '아싸 또 왔다 나', '기분 좋아서 나', '노래 한 곡 하고', '하나 둘 셋 넷', '아싸 빙고']\n"
          ]
        },
        {
          "output_type": "stream",
          "name": "stderr",
          "text": [
            "\r674it [5:51:14, 38.79s/it]"
          ]
        },
        {
          "output_type": "stream",
          "name": "stdout",
          "text": [
            "51\n",
            "['Boy I boy I boy I know', 'I know you get the feels    ', 'Boy I boy I boy I know', 'Uh, I’m so curious', '‘Bout you boy, wanna keep it cool', 'But I know, every time you move', 'Got me frozen I', 'Get so shy', 'It’s obvious', 'Catching feels like butterflies', 'If I say what’s on my mind', 'Would I hit bullseye', 'Shoot', 'I’m ready, aim and fire', 'Baby I', 'Feel like cupid’s alive', 'Alive tonight', 'Yeah tonight', 'If your heart beats the same way let me know', 'Cos I’m boom boom boom from head to toe and I', ' ', 'I know love it is such a funny thing', 'A mystery allure', 'Gotta get to know you more', 'Cos I, I can feel a real connection', 'A supernatural attraction-ah', 'I got the feels for you yea yea yea yea', 'You have stolen my heart, oh yeah', 'Never let it go oh oh no', 'Never let it go oh oh oh', 'Lightning straight to my heart, oh yeah', 'I got all the feels for sure', 'Yeah, I got all the feels for ya', 'Boy I boy I boy I know', 'I know I get the feels', 'Boy I boy I boy I know', 'I know you feel it too', ' ', 'Sway in the moonlight, Dance in the dark I', 'I know that I caught your eye', 'Are we on, the same vibe I', 'wonder what’s on your mind', 'Cos you got me good and I wanna be ya boo', 'If it’s dumb well I wanna be a fool', 'Underneath the neon lights bebe', 'Electricity tonight bebe', 'You got my attention', 'So what’s your intention', 'Yeah, tell me baby what’s the deal?', 'Oh, one look and I know it baby my eyes reveal', 'That you you you give me the feels']\n"
          ]
        },
        {
          "output_type": "stream",
          "name": "stderr",
          "text": [
            "\r675it [5:51:45, 36.37s/it]"
          ]
        },
        {
          "output_type": "stream",
          "name": "stdout",
          "text": [
            "60\n",
            "['너 떠난후 ', '많이 울었어', '혼자가', '되어버렸어', '나 다시는 널 볼 수', '없게 된거니', '딴 사람을', '만나다보면', '쉽게 널', '잊을거라던', '내 단순했던', '생각이 틀린거야', '나만을 사랑한다 했잖아', '너만 바라보게 했잖아', '넌 나를 떠나정말', '괜찮은거니', '가끔씩 외로움에 취해서', '너를 많이 원망했었어', '날 버린 니가', '너무 너무 미웠어', '이대로 날', '떠나면 안돼', '제발 포기하지', '말아줘', '널 사랑할때', '가장 행복했었어', 'Get ready Gdouble O', \"goo's on to go\", 'Ay Yo Yo three four', 'four here we go', '잊혀져 가고 고 고 ', '너를 믿었고 고 ', '너를 보고만 있을때면', '난 uh 행복했지만', \"You're on my mind\", 'baby all the time', 'But I found myself', \"that can't deny\", \"Now I didn't want\", 'to say goodbye bye ', '너의 모습', '멀어져만 가 가 ', '죽어야만 헤어진 다고', '그렇게 맹세한 니가', '왜 내가슴에', '눈물이 돼야 했니', '나만을 사랑한다 했잖아', '너만 바라보게 했잖아', '넌 나를 떠나정말', '괜찮은거니', '가끔씩 외로움에 취해서', '너를 많이 원망했었어', '날 버린 니가', '너무 너무 미웠어', '이대로 날', '떠나면 안돼', '제발 포기하지', '말아줘', '널 사랑할때', '가장 행복했었어']\n"
          ]
        },
        {
          "output_type": "stream",
          "name": "stderr",
          "text": [
            "\r676it [5:52:21, 36.31s/it]"
          ]
        },
        {
          "output_type": "stream",
          "name": "stdout",
          "text": [
            "65\n",
            "['나만 빼고 다 행복한 것만 같아', '우는 것보다 웃을 때가 더 아파', '맨날 참아보려 해도 버텨보려 해도', '그게 잘 안돼', '지금 내겐 네 손이 필요해', '그럴 땐 눈물이 날 땐', '내 손을 꽉 잡아 도망갈까', '숨겨진 9와 4분의 3엔', '함께여야 갈 수 있어', '비비디 바비디 열차가 출발하네', '비비디 바비디 우리의 매직 아일랜드', '이 터널을 지나면', '눈을 뜨고 나면', '꿈속은 현실이 돼', '내 영원이 돼줘 내 이름 불러줘', 'Run away run away', 'run away with me', '세상의 끝에서 forever together', 'Run away babe 내게 대답 해줘', '말해줘 yes 아니는 no', 'Don’t wanna stay 자 이제 go', '너와 나 함께라면 하늘 위를 달려', '말해줘 yes 아니는 no', 'Don’t wanna stay 자 이제 go', '지금 날 데려가 줘 우리라는 마법에', \"I don't I don't wanna wake up\", '내 지팡이는 알람 브레이커', '우주 속을 우린 헤엄', '두 개의 꼬리별이 되어 bungee', \"It's okay don't be afraid\", '우리가 함께해', '이 밤이 끝나려 할 땐', '시계를 되감아 지금 rewind', '금지된 장난과 이 magic hour', '푸른 빛 불꽃이 피어', '하늘빛 마법진 교실을 색칠할래', '소환의 주문이 너와 날 이어 주게', '이 터널을 지나면 눈을 뜨고 나면', '꿈속은 현실이 돼', '내 영원이 돼줘 내 이름 불러줘', 'Run away run away', 'run away with me', '세상의 끝에서 forever together', 'Run away babe 내게 대답 해줘', '말해줘 yes 아니는 no', 'Don’t wanna stay 자 이제 go', '너와 나 함께라면 하늘 위를 달려', '말해줘 yes 아니는 no', 'Don’t wanna stay 자 이제 go', '지금 날 데려가 줘 우리라는 마법에', '캄캄한 밤 그 계단 밑에서', '널 본 순간 마법은 시작됐어', '네 눈물로 주문을 만들자', '다신 울지 않게', '내 영원이 돼줘 내 이름 불러줘', 'Run away run away', 'run away with me', '세상의 끝에서 forever together', 'Run away babe 내게 대답 해줘', '말해줘 yes 아니는 no', 'Don’t wanna stay 자 이제 go', '너와 나 함께라면 하늘 위를 달려', '말해줘 yes 아니는 no', 'Don’t wanna stay 자 이제 go', '지금 날 데려가 줘 우리라는 마법에']\n"
          ]
        }
      ]
    },
    {
      "cell_type": "code",
      "source": [
        "df_allsongs['Emotion'] = Emotion\n",
        "df_allsongs['Proba'] = Probability\n",
        "df_allsongs['분노혐오'] = 분노혐오\n",
        "df_allsongs['놀람공포'] = 놀람공포\n",
        "df_allsongs['슬픔'] = 슬픔\n",
        "df_allsongs['행복'] = 행복"
      ],
      "metadata": {
        "id": "qMBNrBv-KO9u"
      },
      "execution_count": null,
      "outputs": []
    },
    {
      "cell_type": "code",
      "source": [
        "df_allsongs['Emotion'].value_counts()"
      ],
      "metadata": {
        "id": "0tHP3YDqKgpy"
      },
      "execution_count": null,
      "outputs": []
    },
    {
      "cell_type": "code",
      "source": [
        "df_allsongs"
      ],
      "metadata": {
        "id": "79dMUIMVhNro"
      },
      "execution_count": null,
      "outputs": []
    },
    {
      "cell_type": "code",
      "source": [
        "df_allsongs.to_csv('songtagged_may27.csv')"
      ],
      "metadata": {
        "id": "WUbaWH4IUtqx"
      },
      "execution_count": null,
      "outputs": []
    },
    {
      "cell_type": "code",
      "source": [
        "# Emotion = []\n",
        "# Probability = []\n",
        "# 분노혐오 = []\n",
        "# 놀람공포 = []\n",
        "# 슬픔 = []\n",
        "# 행복 = []\n",
        "\n",
        "\n",
        "# for row in tqdm(df_allsongs.iterrows()):\n",
        "\n",
        "#         total_array, top_pred_class, top_pred_prob = predict_sentiment_lyrics(row[1][-1])\n",
        "#         #break\n",
        "#         Emotion.append(top_pred_class)\n",
        "#         Probability.append(top_pred_prob)\n",
        "#         분노혐오.append(total_array[0][0])\n",
        "#         놀람공포.append(total_array[0][1])\n",
        "#         슬픔.append(total_array[0][2])\n",
        "#         행복.append(total_array[0][3]) \n",
        "        \n",
        "#     df_allsongs['Emotion'] = Emotion\n",
        "#     df_allsongs['Proba'] = Probability\n",
        "#     df_allsongs['분노혐오'] = 분노혐오\n",
        "#     df_allsongs['놀람공포'] = 놀람공포\n",
        "#     df_allsongs['슬픔'] = 슬픔\n",
        "#     df_allsongs['행복'] = 행복\n",
        "\n",
        "#     df_allsongs.to_csv('songtagged_may27.csv')"
      ],
      "metadata": {
        "id": "VNelHSw3OJsc"
      },
      "execution_count": null,
      "outputs": []
    }
  ]
}