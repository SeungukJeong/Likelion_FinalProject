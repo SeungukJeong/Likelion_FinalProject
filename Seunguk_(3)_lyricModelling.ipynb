{
  "cells": [
    {
      "cell_type": "markdown",
      "metadata": {
        "id": "view-in-github",
        "colab_type": "text"
      },
      "source": [
        "<a href=\"https://colab.research.google.com/github/sihyeon3523/Six_of_cells/blob/modeling/Seunguk_(3)_lyricModelling.ipynb\" target=\"_parent\"><img src=\"https://colab.research.google.com/assets/colab-badge.svg\" alt=\"Open In Colab\"/></a>"
      ]
    },
    {
      "cell_type": "markdown",
      "metadata": {
        "id": "gX_jZ07Dynfm"
      },
      "source": [
        "<br>\n",
        "<br>\n",
        "\n",
        "# 0. Install & import libraries "
      ]
    },
    {
      "cell_type": "code",
      "execution_count": null,
      "metadata": {
        "id": "WYMLcxGyy6R4",
        "colab": {
          "base_uri": "https://localhost:8080/"
        },
        "outputId": "5fca8b43-b322-4607-bebc-3749f7103409"
      },
      "outputs": [
        {
          "output_type": "stream",
          "name": "stdout",
          "text": [
            "1.0.2\n",
            "2.8.0\n",
            "4.8.2\n",
            "0.17.0\n"
          ]
        }
      ],
      "source": [
        "from IPython.display import clear_output \n",
        "\n",
        "!pip install transformers==4.8.2\n",
        "!pip install sentencepiece==0.1.96\n",
        "!pip install tensorflow_addons\n",
        "\n",
        "clear_output()\n",
        "\n",
        "import sklearn\n",
        "import tensorflow\n",
        "import transformers\n",
        "import tensorflow_addons\n",
        "\n",
        "print(sklearn.__version__) # 1.0.2 \n",
        "print(tensorflow.__version__) # 2.8.0  \n",
        "print(transformers.__version__) # 4.8.2  \n",
        "print(tensorflow_addons.__version__) # 0.16.1 \n",
        "\n",
        "import sentencepiece\n",
        "\n",
        "import pandas as pd\n",
        "import numpy as np\n",
        "\n",
        "import os\n",
        "import re\n",
        "import pickle \n",
        "import dill # for saving a function as a file(.pkl)\n",
        "import logging # for changing the tf's logging level\n",
        "import urllib.request\n",
        "from tqdm import tqdm\n",
        "\n",
        "from sklearn import model_selection\n",
        "from sklearn.metrics import accuracy_score\n",
        "\n",
        "import tensorflow as tf\n",
        "import tensorflow_addons as tfa # for using Rectified-Adam optimizer (instead of Adam optimizer) \n",
        "from tensorflow.keras import layers, initializers, losses, optimizers, metrics, callbacks \n",
        "\n",
        "import transformers\n",
        "from transformers import TFBertModel # BertTokenizer 제외\n",
        "\n",
        "import sentencepiece as spm\n",
        "import ast  # str list to list"
      ]
    },
    {
      "cell_type": "code",
      "execution_count": null,
      "metadata": {
        "id": "ZP1nP5NXBT8W"
      },
      "outputs": [],
      "source": [
        "# Random seed 고정\n",
        "tf.random.set_seed(1234)\n",
        "np.random.seed(1234)\n",
        "\n",
        "# Transformers logging level 변경 (WARNING -> ERROR) @ https://huggingface.co/transformers/main_classes/logging.html\n",
        "transformers.logging.set_verbosity(transformers.logging.ERROR)\n",
        "\n",
        "# Tensorflow logging level 변경 \n",
        "tf.get_logger().setLevel(logging.ERROR)"
      ]
    },
    {
      "cell_type": "code",
      "execution_count": null,
      "metadata": {
        "id": "du0ZRI16BagI"
      },
      "outputs": [],
      "source": [
        "#KoBERT 불러오기\n",
        "!git clone https://github.com/monologg/KoBERT-Transformers.git\n",
        "!mv KoBERT-Transformers/kobert_transformers/tokenization_kobert.py /content\n",
        "clear_output() # clear the output\n",
        "\n",
        "#토크나이저 생성\n",
        "from tokenization_kobert import KoBertTokenizer \n",
        "\n",
        "tokenizer = KoBertTokenizer.from_pretrained('monologg/kobert')"
      ]
    },
    {
      "cell_type": "markdown",
      "metadata": {
        "id": "X6qL5EKSBowl"
      },
      "source": [
        "# Import Google Drive "
      ]
    },
    {
      "cell_type": "code",
      "execution_count": null,
      "metadata": {
        "colab": {
          "base_uri": "https://localhost:8080/"
        },
        "id": "pEPEnIFu94xb",
        "outputId": "346cd740-0454-4ff8-dfbc-03d7ca2026ac"
      },
      "outputs": [
        {
          "output_type": "stream",
          "name": "stdout",
          "text": [
            "Drive already mounted at /content/drive; to attempt to forcibly remount, call drive.mount(\"/content/drive\", force_remount=True).\n"
          ]
        }
      ],
      "source": [
        "from google.colab import drive\n",
        "drive.mount('/content/drive')"
      ]
    },
    {
      "cell_type": "code",
      "execution_count": null,
      "metadata": {
        "colab": {
          "base_uri": "https://localhost:8080/",
          "height": 35
        },
        "id": "DFlih56_7FbR",
        "outputId": "2b9e48a0-0f88-49dc-f96d-f0397dc99bda"
      },
      "outputs": [
        {
          "output_type": "execute_result",
          "data": {
            "text/plain": [
              "'/content/drive/My Drive/likelion/proj_fin_seunguk'"
            ],
            "application/vnd.google.colaboratory.intrinsic+json": {
              "type": "string"
            }
          },
          "metadata": {},
          "execution_count": 17
        }
      ],
      "source": [
        "os.getcwd()"
      ]
    },
    {
      "cell_type": "code",
      "execution_count": null,
      "metadata": {
        "id": "EaiTyc8n5Oev"
      },
      "outputs": [],
      "source": [
        "# 경로만 바꾸면 됨!\n",
        "path = '/content/drive/MyDrive/likelion/proj_fin_seunguk'# google drive project path\n",
        "data_path = 'colab_data/temp_data/' # model data path\n",
        "checkpoint_path = 'colab_data/temp_data/saved_models/' # saved model path\n",
        "\n",
        "os.chdir(path)"
      ]
    },
    {
      "cell_type": "markdown",
      "metadata": {
        "id": "35DqagFHBmlm"
      },
      "source": [
        "# 1. Load the Data"
      ]
    },
    {
      "cell_type": "code",
      "execution_count": null,
      "metadata": {
        "id": "tA1axB-LzH_N"
      },
      "outputs": [],
      "source": [
        "df_allsongs_original = pd.read_csv('df_allsongs.csv', lineterminator='\\n')"
      ]
    },
    {
      "cell_type": "code",
      "execution_count": null,
      "metadata": {
        "colab": {
          "base_uri": "https://localhost:8080/",
          "height": 361
        },
        "id": "dYC3vZoJzMyR",
        "outputId": "71d8d905-a296-4631-93b7-2264f1ddf246"
      },
      "outputs": [
        {
          "output_type": "execute_result",
          "data": {
            "text/plain": [
              "   Unnamed: 0      Title      Artist        Date       Genre  \\\n",
              "0           0     나의 X에게          경서  2022.04.24         발라드   \n",
              "1           1       취중고백  김민석 (멜로망스)  2021.12.19         발라드   \n",
              "2           2  사랑은 늘 도망가         임영웅  2021.10.11  발라드, 국내드라마   \n",
              "\n",
              "                                               Lyric  \\\n",
              "0  우리 다시 만날래예쁘게 빛나던모든 추억들이너무 그리워너의 품에 안길래이 밤이 새도록...   \n",
              "1  뭐하고 있었니 늦었지만잠시 나올래너의 집 골목에 있는놀이터에 앉아 있어친구들 만나서...   \n",
              "2  눈물이 난다 이 길을 걸으면그 사람 손길이 자꾸 생각이 난다붙잡지 못하고 가슴만 떨...   \n",
              "\n",
              "                                          Lyric_ver2  \\\n",
              "0  <div class=\"lyric\" id=\"d_video_summary\"><!-- h...   \n",
              "1  <div class=\"lyric\" id=\"d_video_summary\"><!-- h...   \n",
              "2  <div class=\"lyric\" id=\"d_video_summary\"><!-- h...   \n",
              "\n",
              "                               preprocess_Lyric_ver2  \\\n",
              "0  우리 다시 만날래 예쁘게 빛나던 모든 추억들이 너무 그리워 너의 품에 안길래 이 밤...   \n",
              "1  뭐하고 있었니 늦었지만 잠시 나올래 너의 집 골목에 있는 놀이터에 앉아 있어 친구들...   \n",
              "2  눈물이 난다 이 길을 걸으면 그 사람 손길이 자꾸 생각이 난다 붙잡지 못하고 가슴만...   \n",
              "\n",
              "                               preprocess_Lyric_ver3  \n",
              "0  ['우리 다시 만날래', '예쁘게 빛나던', '모든 추억들이', '너무 그리워', ...  \n",
              "1  ['뭐하고 있었니 늦었지만', '잠시 나올래', '너의 집 골목에 있는', '놀이터...  \n",
              "2  ['눈물이 난다 이 길을 걸으면', '그 사람 손길이 자꾸 생각이 난다', '붙잡지...  "
            ],
            "text/html": [
              "\n",
              "  <div id=\"df-e43470cc-80bd-4821-91b9-ffa023239a95\">\n",
              "    <div class=\"colab-df-container\">\n",
              "      <div>\n",
              "<style scoped>\n",
              "    .dataframe tbody tr th:only-of-type {\n",
              "        vertical-align: middle;\n",
              "    }\n",
              "\n",
              "    .dataframe tbody tr th {\n",
              "        vertical-align: top;\n",
              "    }\n",
              "\n",
              "    .dataframe thead th {\n",
              "        text-align: right;\n",
              "    }\n",
              "</style>\n",
              "<table border=\"1\" class=\"dataframe\">\n",
              "  <thead>\n",
              "    <tr style=\"text-align: right;\">\n",
              "      <th></th>\n",
              "      <th>Unnamed: 0</th>\n",
              "      <th>Title</th>\n",
              "      <th>Artist</th>\n",
              "      <th>Date</th>\n",
              "      <th>Genre</th>\n",
              "      <th>Lyric</th>\n",
              "      <th>Lyric_ver2</th>\n",
              "      <th>preprocess_Lyric_ver2</th>\n",
              "      <th>preprocess_Lyric_ver3</th>\n",
              "    </tr>\n",
              "  </thead>\n",
              "  <tbody>\n",
              "    <tr>\n",
              "      <th>0</th>\n",
              "      <td>0</td>\n",
              "      <td>나의 X에게</td>\n",
              "      <td>경서</td>\n",
              "      <td>2022.04.24</td>\n",
              "      <td>발라드</td>\n",
              "      <td>우리 다시 만날래예쁘게 빛나던모든 추억들이너무 그리워너의 품에 안길래이 밤이 새도록...</td>\n",
              "      <td>&lt;div class=\"lyric\" id=\"d_video_summary\"&gt;&lt;!-- h...</td>\n",
              "      <td>우리 다시 만날래 예쁘게 빛나던 모든 추억들이 너무 그리워 너의 품에 안길래 이 밤...</td>\n",
              "      <td>['우리 다시 만날래', '예쁘게 빛나던', '모든 추억들이', '너무 그리워', ...</td>\n",
              "    </tr>\n",
              "    <tr>\n",
              "      <th>1</th>\n",
              "      <td>1</td>\n",
              "      <td>취중고백</td>\n",
              "      <td>김민석 (멜로망스)</td>\n",
              "      <td>2021.12.19</td>\n",
              "      <td>발라드</td>\n",
              "      <td>뭐하고 있었니 늦었지만잠시 나올래너의 집 골목에 있는놀이터에 앉아 있어친구들 만나서...</td>\n",
              "      <td>&lt;div class=\"lyric\" id=\"d_video_summary\"&gt;&lt;!-- h...</td>\n",
              "      <td>뭐하고 있었니 늦었지만 잠시 나올래 너의 집 골목에 있는 놀이터에 앉아 있어 친구들...</td>\n",
              "      <td>['뭐하고 있었니 늦었지만', '잠시 나올래', '너의 집 골목에 있는', '놀이터...</td>\n",
              "    </tr>\n",
              "    <tr>\n",
              "      <th>2</th>\n",
              "      <td>2</td>\n",
              "      <td>사랑은 늘 도망가</td>\n",
              "      <td>임영웅</td>\n",
              "      <td>2021.10.11</td>\n",
              "      <td>발라드, 국내드라마</td>\n",
              "      <td>눈물이 난다 이 길을 걸으면그 사람 손길이 자꾸 생각이 난다붙잡지 못하고 가슴만 떨...</td>\n",
              "      <td>&lt;div class=\"lyric\" id=\"d_video_summary\"&gt;&lt;!-- h...</td>\n",
              "      <td>눈물이 난다 이 길을 걸으면 그 사람 손길이 자꾸 생각이 난다 붙잡지 못하고 가슴만...</td>\n",
              "      <td>['눈물이 난다 이 길을 걸으면', '그 사람 손길이 자꾸 생각이 난다', '붙잡지...</td>\n",
              "    </tr>\n",
              "  </tbody>\n",
              "</table>\n",
              "</div>\n",
              "      <button class=\"colab-df-convert\" onclick=\"convertToInteractive('df-e43470cc-80bd-4821-91b9-ffa023239a95')\"\n",
              "              title=\"Convert this dataframe to an interactive table.\"\n",
              "              style=\"display:none;\">\n",
              "        \n",
              "  <svg xmlns=\"http://www.w3.org/2000/svg\" height=\"24px\"viewBox=\"0 0 24 24\"\n",
              "       width=\"24px\">\n",
              "    <path d=\"M0 0h24v24H0V0z\" fill=\"none\"/>\n",
              "    <path d=\"M18.56 5.44l.94 2.06.94-2.06 2.06-.94-2.06-.94-.94-2.06-.94 2.06-2.06.94zm-11 1L8.5 8.5l.94-2.06 2.06-.94-2.06-.94L8.5 2.5l-.94 2.06-2.06.94zm10 10l.94 2.06.94-2.06 2.06-.94-2.06-.94-.94-2.06-.94 2.06-2.06.94z\"/><path d=\"M17.41 7.96l-1.37-1.37c-.4-.4-.92-.59-1.43-.59-.52 0-1.04.2-1.43.59L10.3 9.45l-7.72 7.72c-.78.78-.78 2.05 0 2.83L4 21.41c.39.39.9.59 1.41.59.51 0 1.02-.2 1.41-.59l7.78-7.78 2.81-2.81c.8-.78.8-2.07 0-2.86zM5.41 20L4 18.59l7.72-7.72 1.47 1.35L5.41 20z\"/>\n",
              "  </svg>\n",
              "      </button>\n",
              "      \n",
              "  <style>\n",
              "    .colab-df-container {\n",
              "      display:flex;\n",
              "      flex-wrap:wrap;\n",
              "      gap: 12px;\n",
              "    }\n",
              "\n",
              "    .colab-df-convert {\n",
              "      background-color: #E8F0FE;\n",
              "      border: none;\n",
              "      border-radius: 50%;\n",
              "      cursor: pointer;\n",
              "      display: none;\n",
              "      fill: #1967D2;\n",
              "      height: 32px;\n",
              "      padding: 0 0 0 0;\n",
              "      width: 32px;\n",
              "    }\n",
              "\n",
              "    .colab-df-convert:hover {\n",
              "      background-color: #E2EBFA;\n",
              "      box-shadow: 0px 1px 2px rgba(60, 64, 67, 0.3), 0px 1px 3px 1px rgba(60, 64, 67, 0.15);\n",
              "      fill: #174EA6;\n",
              "    }\n",
              "\n",
              "    [theme=dark] .colab-df-convert {\n",
              "      background-color: #3B4455;\n",
              "      fill: #D2E3FC;\n",
              "    }\n",
              "\n",
              "    [theme=dark] .colab-df-convert:hover {\n",
              "      background-color: #434B5C;\n",
              "      box-shadow: 0px 1px 3px 1px rgba(0, 0, 0, 0.15);\n",
              "      filter: drop-shadow(0px 1px 2px rgba(0, 0, 0, 0.3));\n",
              "      fill: #FFFFFF;\n",
              "    }\n",
              "  </style>\n",
              "\n",
              "      <script>\n",
              "        const buttonEl =\n",
              "          document.querySelector('#df-e43470cc-80bd-4821-91b9-ffa023239a95 button.colab-df-convert');\n",
              "        buttonEl.style.display =\n",
              "          google.colab.kernel.accessAllowed ? 'block' : 'none';\n",
              "\n",
              "        async function convertToInteractive(key) {\n",
              "          const element = document.querySelector('#df-e43470cc-80bd-4821-91b9-ffa023239a95');\n",
              "          const dataTable =\n",
              "            await google.colab.kernel.invokeFunction('convertToInteractive',\n",
              "                                                     [key], {});\n",
              "          if (!dataTable) return;\n",
              "\n",
              "          const docLinkHtml = 'Like what you see? Visit the ' +\n",
              "            '<a target=\"_blank\" href=https://colab.research.google.com/notebooks/data_table.ipynb>data table notebook</a>'\n",
              "            + ' to learn more about interactive tables.';\n",
              "          element.innerHTML = '';\n",
              "          dataTable['output_type'] = 'display_data';\n",
              "          await google.colab.output.renderOutput(dataTable, element);\n",
              "          const docLink = document.createElement('div');\n",
              "          docLink.innerHTML = docLinkHtml;\n",
              "          element.appendChild(docLink);\n",
              "        }\n",
              "      </script>\n",
              "    </div>\n",
              "  </div>\n",
              "  "
            ]
          },
          "metadata": {},
          "execution_count": 20
        }
      ],
      "source": [
        "df_allsongs_original.head(3)"
      ]
    },
    {
      "cell_type": "code",
      "execution_count": null,
      "metadata": {
        "colab": {
          "base_uri": "https://localhost:8080/",
          "height": 424
        },
        "id": "vzWVzsGt0-hw",
        "outputId": "4022d0c0-e73d-4aa8-910a-6e2fd8186604"
      },
      "outputs": [
        {
          "output_type": "execute_result",
          "data": {
            "text/plain": [
              "              Title         Artist        Date       Genre  \\\n",
              "0            나의 X에게             경서  2022.04.24         발라드   \n",
              "1              취중고백     김민석 (멜로망스)  2021.12.19         발라드   \n",
              "2         사랑은 늘 도망가            임영웅  2021.10.11  발라드, 국내드라마   \n",
              "3            듣고 싶을까  MSG워너비(M.O.M)  2022.02.26         발라드   \n",
              "4     다정히 내 이름을 부르면           경서예지  2021.05.19         발라드   \n",
              "...             ...            ...         ...         ...   \n",
              "3604             애수            진시몬  2004.10.01    성인가요/트로트   \n",
              "3605     단장의 미아리 고개            송가인  2020.12.26    성인가요/트로트   \n",
              "3606      어머님 사랑합니다            송가인  2021.05.27    성인가요/트로트   \n",
              "3607         영동 부르스            송가인  2021.06.13    성인가요/트로트   \n",
              "3608      일소일소 일노일노            임영웅  2020.04.17    성인가요/트로트   \n",
              "\n",
              "                                  preprocess_Lyric_ver3  \n",
              "0     ['우리 다시 만날래', '예쁘게 빛나던', '모든 추억들이', '너무 그리워', ...  \n",
              "1     ['뭐하고 있었니 늦었지만', '잠시 나올래', '너의 집 골목에 있는', '놀이터...  \n",
              "2     ['눈물이 난다 이 길을 걸으면', '그 사람 손길이 자꾸 생각이 난다', '붙잡지...  \n",
              "3     ['우리 함께 듣던 그 노랠 듣고 싶을까', '듣고 나서 잠시 날 생각은 할까', ...  \n",
              "4     ['끝없이 별빛이 내리던 밤', '기분 좋은 바람이', '두 빰을 스치고', '새벽...  \n",
              "...                                                 ...  \n",
              "3604  ['아직도 모르겠어 난 정말 ', '', '꿈이라 생각해야 하는지 ', '', '너...  \n",
              "3605  ['미아리 눈물고개', '임이 넘던 이별 고개', '화약 연기 앞을 가려', '눈 ...  \n",
              "3606  ['꽃다운 열아홉에', '연지 찍고 시집와서', '손발이 터지도록', '고생하신 어...  \n",
              "3607  ['헤어지기 싫어서 애태우던 그 날 밤', '피눈물에 얼룩진 그대의 모습', '어차...  \n",
              "3608  ['세상사 스무고개 길', '좋은 날만 있을까', '이왕이라면 웃으며 살자', '말...  \n",
              "\n",
              "[3609 rows x 5 columns]"
            ],
            "text/html": [
              "\n",
              "  <div id=\"df-598f4bb2-83aa-4f69-afc3-0b6377a9b7f5\">\n",
              "    <div class=\"colab-df-container\">\n",
              "      <div>\n",
              "<style scoped>\n",
              "    .dataframe tbody tr th:only-of-type {\n",
              "        vertical-align: middle;\n",
              "    }\n",
              "\n",
              "    .dataframe tbody tr th {\n",
              "        vertical-align: top;\n",
              "    }\n",
              "\n",
              "    .dataframe thead th {\n",
              "        text-align: right;\n",
              "    }\n",
              "</style>\n",
              "<table border=\"1\" class=\"dataframe\">\n",
              "  <thead>\n",
              "    <tr style=\"text-align: right;\">\n",
              "      <th></th>\n",
              "      <th>Title</th>\n",
              "      <th>Artist</th>\n",
              "      <th>Date</th>\n",
              "      <th>Genre</th>\n",
              "      <th>preprocess_Lyric_ver3</th>\n",
              "    </tr>\n",
              "  </thead>\n",
              "  <tbody>\n",
              "    <tr>\n",
              "      <th>0</th>\n",
              "      <td>나의 X에게</td>\n",
              "      <td>경서</td>\n",
              "      <td>2022.04.24</td>\n",
              "      <td>발라드</td>\n",
              "      <td>['우리 다시 만날래', '예쁘게 빛나던', '모든 추억들이', '너무 그리워', ...</td>\n",
              "    </tr>\n",
              "    <tr>\n",
              "      <th>1</th>\n",
              "      <td>취중고백</td>\n",
              "      <td>김민석 (멜로망스)</td>\n",
              "      <td>2021.12.19</td>\n",
              "      <td>발라드</td>\n",
              "      <td>['뭐하고 있었니 늦었지만', '잠시 나올래', '너의 집 골목에 있는', '놀이터...</td>\n",
              "    </tr>\n",
              "    <tr>\n",
              "      <th>2</th>\n",
              "      <td>사랑은 늘 도망가</td>\n",
              "      <td>임영웅</td>\n",
              "      <td>2021.10.11</td>\n",
              "      <td>발라드, 국내드라마</td>\n",
              "      <td>['눈물이 난다 이 길을 걸으면', '그 사람 손길이 자꾸 생각이 난다', '붙잡지...</td>\n",
              "    </tr>\n",
              "    <tr>\n",
              "      <th>3</th>\n",
              "      <td>듣고 싶을까</td>\n",
              "      <td>MSG워너비(M.O.M)</td>\n",
              "      <td>2022.02.26</td>\n",
              "      <td>발라드</td>\n",
              "      <td>['우리 함께 듣던 그 노랠 듣고 싶을까', '듣고 나서 잠시 날 생각은 할까', ...</td>\n",
              "    </tr>\n",
              "    <tr>\n",
              "      <th>4</th>\n",
              "      <td>다정히 내 이름을 부르면</td>\n",
              "      <td>경서예지</td>\n",
              "      <td>2021.05.19</td>\n",
              "      <td>발라드</td>\n",
              "      <td>['끝없이 별빛이 내리던 밤', '기분 좋은 바람이', '두 빰을 스치고', '새벽...</td>\n",
              "    </tr>\n",
              "    <tr>\n",
              "      <th>...</th>\n",
              "      <td>...</td>\n",
              "      <td>...</td>\n",
              "      <td>...</td>\n",
              "      <td>...</td>\n",
              "      <td>...</td>\n",
              "    </tr>\n",
              "    <tr>\n",
              "      <th>3604</th>\n",
              "      <td>애수</td>\n",
              "      <td>진시몬</td>\n",
              "      <td>2004.10.01</td>\n",
              "      <td>성인가요/트로트</td>\n",
              "      <td>['아직도 모르겠어 난 정말 ', '', '꿈이라 생각해야 하는지 ', '', '너...</td>\n",
              "    </tr>\n",
              "    <tr>\n",
              "      <th>3605</th>\n",
              "      <td>단장의 미아리 고개</td>\n",
              "      <td>송가인</td>\n",
              "      <td>2020.12.26</td>\n",
              "      <td>성인가요/트로트</td>\n",
              "      <td>['미아리 눈물고개', '임이 넘던 이별 고개', '화약 연기 앞을 가려', '눈 ...</td>\n",
              "    </tr>\n",
              "    <tr>\n",
              "      <th>3606</th>\n",
              "      <td>어머님 사랑합니다</td>\n",
              "      <td>송가인</td>\n",
              "      <td>2021.05.27</td>\n",
              "      <td>성인가요/트로트</td>\n",
              "      <td>['꽃다운 열아홉에', '연지 찍고 시집와서', '손발이 터지도록', '고생하신 어...</td>\n",
              "    </tr>\n",
              "    <tr>\n",
              "      <th>3607</th>\n",
              "      <td>영동 부르스</td>\n",
              "      <td>송가인</td>\n",
              "      <td>2021.06.13</td>\n",
              "      <td>성인가요/트로트</td>\n",
              "      <td>['헤어지기 싫어서 애태우던 그 날 밤', '피눈물에 얼룩진 그대의 모습', '어차...</td>\n",
              "    </tr>\n",
              "    <tr>\n",
              "      <th>3608</th>\n",
              "      <td>일소일소 일노일노</td>\n",
              "      <td>임영웅</td>\n",
              "      <td>2020.04.17</td>\n",
              "      <td>성인가요/트로트</td>\n",
              "      <td>['세상사 스무고개 길', '좋은 날만 있을까', '이왕이라면 웃으며 살자', '말...</td>\n",
              "    </tr>\n",
              "  </tbody>\n",
              "</table>\n",
              "<p>3609 rows × 5 columns</p>\n",
              "</div>\n",
              "      <button class=\"colab-df-convert\" onclick=\"convertToInteractive('df-598f4bb2-83aa-4f69-afc3-0b6377a9b7f5')\"\n",
              "              title=\"Convert this dataframe to an interactive table.\"\n",
              "              style=\"display:none;\">\n",
              "        \n",
              "  <svg xmlns=\"http://www.w3.org/2000/svg\" height=\"24px\"viewBox=\"0 0 24 24\"\n",
              "       width=\"24px\">\n",
              "    <path d=\"M0 0h24v24H0V0z\" fill=\"none\"/>\n",
              "    <path d=\"M18.56 5.44l.94 2.06.94-2.06 2.06-.94-2.06-.94-.94-2.06-.94 2.06-2.06.94zm-11 1L8.5 8.5l.94-2.06 2.06-.94-2.06-.94L8.5 2.5l-.94 2.06-2.06.94zm10 10l.94 2.06.94-2.06 2.06-.94-2.06-.94-.94-2.06-.94 2.06-2.06.94z\"/><path d=\"M17.41 7.96l-1.37-1.37c-.4-.4-.92-.59-1.43-.59-.52 0-1.04.2-1.43.59L10.3 9.45l-7.72 7.72c-.78.78-.78 2.05 0 2.83L4 21.41c.39.39.9.59 1.41.59.51 0 1.02-.2 1.41-.59l7.78-7.78 2.81-2.81c.8-.78.8-2.07 0-2.86zM5.41 20L4 18.59l7.72-7.72 1.47 1.35L5.41 20z\"/>\n",
              "  </svg>\n",
              "      </button>\n",
              "      \n",
              "  <style>\n",
              "    .colab-df-container {\n",
              "      display:flex;\n",
              "      flex-wrap:wrap;\n",
              "      gap: 12px;\n",
              "    }\n",
              "\n",
              "    .colab-df-convert {\n",
              "      background-color: #E8F0FE;\n",
              "      border: none;\n",
              "      border-radius: 50%;\n",
              "      cursor: pointer;\n",
              "      display: none;\n",
              "      fill: #1967D2;\n",
              "      height: 32px;\n",
              "      padding: 0 0 0 0;\n",
              "      width: 32px;\n",
              "    }\n",
              "\n",
              "    .colab-df-convert:hover {\n",
              "      background-color: #E2EBFA;\n",
              "      box-shadow: 0px 1px 2px rgba(60, 64, 67, 0.3), 0px 1px 3px 1px rgba(60, 64, 67, 0.15);\n",
              "      fill: #174EA6;\n",
              "    }\n",
              "\n",
              "    [theme=dark] .colab-df-convert {\n",
              "      background-color: #3B4455;\n",
              "      fill: #D2E3FC;\n",
              "    }\n",
              "\n",
              "    [theme=dark] .colab-df-convert:hover {\n",
              "      background-color: #434B5C;\n",
              "      box-shadow: 0px 1px 3px 1px rgba(0, 0, 0, 0.15);\n",
              "      filter: drop-shadow(0px 1px 2px rgba(0, 0, 0, 0.3));\n",
              "      fill: #FFFFFF;\n",
              "    }\n",
              "  </style>\n",
              "\n",
              "      <script>\n",
              "        const buttonEl =\n",
              "          document.querySelector('#df-598f4bb2-83aa-4f69-afc3-0b6377a9b7f5 button.colab-df-convert');\n",
              "        buttonEl.style.display =\n",
              "          google.colab.kernel.accessAllowed ? 'block' : 'none';\n",
              "\n",
              "        async function convertToInteractive(key) {\n",
              "          const element = document.querySelector('#df-598f4bb2-83aa-4f69-afc3-0b6377a9b7f5');\n",
              "          const dataTable =\n",
              "            await google.colab.kernel.invokeFunction('convertToInteractive',\n",
              "                                                     [key], {});\n",
              "          if (!dataTable) return;\n",
              "\n",
              "          const docLinkHtml = 'Like what you see? Visit the ' +\n",
              "            '<a target=\"_blank\" href=https://colab.research.google.com/notebooks/data_table.ipynb>data table notebook</a>'\n",
              "            + ' to learn more about interactive tables.';\n",
              "          element.innerHTML = '';\n",
              "          dataTable['output_type'] = 'display_data';\n",
              "          await google.colab.output.renderOutput(dataTable, element);\n",
              "          const docLink = document.createElement('div');\n",
              "          docLink.innerHTML = docLinkHtml;\n",
              "          element.appendChild(docLink);\n",
              "        }\n",
              "      </script>\n",
              "    </div>\n",
              "  </div>\n",
              "  "
            ]
          },
          "metadata": {},
          "execution_count": 21
        }
      ],
      "source": [
        "df_allsongs = df_allsongs_original[[\"Title\", \"Artist\", \"Date\", \"Genre\", \"preprocess_Lyric_ver3\"]]\n",
        "df_allsongs"
      ]
    },
    {
      "cell_type": "code",
      "execution_count": null,
      "metadata": {
        "colab": {
          "base_uri": "https://localhost:8080/"
        },
        "id": "VcmkX5k9Hjgw",
        "outputId": "61b1161b-ef41-465c-ad7a-f0d0bbd71e19"
      },
      "outputs": [
        {
          "output_type": "stream",
          "name": "stdout",
          "text": [
            "<class 'pandas.core.frame.DataFrame'>\n",
            "RangeIndex: 3609 entries, 0 to 3608\n",
            "Data columns (total 5 columns):\n",
            " #   Column                 Non-Null Count  Dtype \n",
            "---  ------                 --------------  ----- \n",
            " 0   Title                  3609 non-null   object\n",
            " 1   Artist                 3609 non-null   object\n",
            " 2   Date                   3609 non-null   object\n",
            " 3   Genre                  3609 non-null   object\n",
            " 4   preprocess_Lyric_ver3  3609 non-null   object\n",
            "dtypes: object(5)\n",
            "memory usage: 141.1+ KB\n",
            "None\n",
            "       Title Artist        Date Genre  \\\n",
            "count   3609   3609        3609  3609   \n",
            "unique  3358    947        2042    41   \n",
            "top       고백    임영웅  2022.05.20    댄스   \n",
            "freq      10     90          19   486   \n",
            "\n",
            "                                    preprocess_Lyric_ver3  \n",
            "count                                                3609  \n",
            "unique                                               3609  \n",
            "top     ['우리 다시 만날래', '예쁘게 빛나던', '모든 추억들이', '너무 그리워', ...  \n",
            "freq                                                    1  \n"
          ]
        }
      ],
      "source": [
        "print(df_allsongs.info())\n",
        "print(df_allsongs.describe())"
      ]
    },
    {
      "cell_type": "code",
      "execution_count": null,
      "metadata": {
        "colab": {
          "base_uri": "https://localhost:8080/",
          "height": 139
        },
        "id": "CIv6nQUhhFwG",
        "outputId": "2536fd86-7ec0-4175-96ef-476433f78cfc"
      },
      "outputs": [
        {
          "output_type": "execute_result",
          "data": {
            "text/plain": [
              "\"['느낌이 오잖아 ', '떨리고 있잖아', '언제까지 눈치만 볼 거니', '네 맘을 말해봐 ', '딴청 피우지 말란 말이야', '네 맘 가는 그대로 ', '지금 내 손을 잡아', '어서 내 손을 잡아', '우연히 고개를 돌릴 때 마다', '눈이 마주치는 건', '며칠 밤 내내 꿈속에 나타나', '밤새 나를 괴롭히는 건', '그 많은 빈자리 중에서 하필', '내 옆자릴 고르는 건', '나도 모르게 어느새 실없는 웃음', '흘리고 있다는 건', '그럼 말 다했지 뭐', '우리 얘기 좀 할까', '느낌이 오잖아 떨리고 있잖아', '언제까지 눈치만 볼 거니', '네 맘을 말해봐 ', '딴청 피우지 말란 말이야', '네 맘 가는 그대로 ', '지금 내 손을 잡아', '핸드폰 진동에 ', '심장이 덜컥내려 앉는다는 건', '오 나도 모르게 ', '어느새 짓궂은 네 말투', '자꾸 듣고 싶은걸', '어떡해', '저기 멀리 걸어온다', '눈이 마주친다', '언제까지 넌 모른척 할거니', '사랑이 온거야 너와 나 말이야', '네가 좋아 정말 못 견딜 만큼', '그거면 된거야 ', '더는 생각하지 말란 말이야', '네 맘 가는 그대로', '느낌이 오잖아 떨리고 있잖아', '언제까지 눈치만 볼 거니', '네 맘을 말해봐 ', '딴청 피우지 말란 말이야', '네 맘 가는 그대로 ', '지금 내 손을 잡아', '그냥 내 손을 잡아', '지금 내 손을 잡아', ' ', '']\""
            ],
            "application/vnd.google.colaboratory.intrinsic+json": {
              "type": "string"
            }
          },
          "metadata": {},
          "execution_count": 23
        }
      ],
      "source": [
        "df_allsongs.preprocess_Lyric_ver3.iloc[12]"
      ]
    },
    {
      "cell_type": "markdown",
      "source": [
        "# Colab 끊겨서 뒷부분 장르 태깅 안되는 경우 방지 all rows shuffle"
      ],
      "metadata": {
        "id": "khGer54hF8GD"
      }
    },
    {
      "cell_type": "code",
      "source": [
        "df_allsongs = df_allsongs.sample(frac=1).reset_index(drop=True)  # shuffling하고 index reset"
      ],
      "metadata": {
        "id": "YY4d6j98F6OR"
      },
      "execution_count": null,
      "outputs": []
    },
    {
      "cell_type": "markdown",
      "metadata": {
        "id": "5AH_bjFE_DlY"
      },
      "source": [
        "# Load saved Model\n"
      ]
    },
    {
      "cell_type": "code",
      "execution_count": null,
      "metadata": {
        "colab": {
          "base_uri": "https://localhost:8080/",
          "height": 98,
          "referenced_widgets": [
            "8da108a321304812807bcfc1cd6402e6",
            "3047c699b06040a79249a3211f423142",
            "2306f3cb5d1d46db88d2980c0f562dfd",
            "a457abac400f4de4a6e62ca2b6e0e42b",
            "1d7f6a888eba46d89ac46304ff4b1818",
            "d4cb289f7f28490b94eeba75b34520bc",
            "ab70f71f5c50462ebea4dce954dc5ef3",
            "6666adcc30f044ed97c0b2b850a5a753",
            "4e85de6063e54e72bcce28bb02eab1d1",
            "47264a838df44ffa813144dfc7e920d7",
            "aabefb8bb87f4a718822efc9406303f0",
            "508185c35d824a1e997f920602a4e6f9",
            "096bb65ddf8944d1bebf70e1a707baa1",
            "fcaa9954c6e44b5fa50a9a1ec9e8d75f",
            "cf3a72193f264e53bb7525db53c27363",
            "e0e2070fc5c44a4981d1a19501b254e1",
            "77fbc9ddb1a544768f96de6bfebd624a",
            "67a42d019e9041e9bd776a612f28cad9",
            "8e6282147c7e4ff39f91ee2e7fadb97a",
            "a083a64bae9243eb9032fb065c16b2f7",
            "9e9773bf59a44bc08f1e4d04efa06f0b",
            "b0095656ea624cd5ae247331cabd7f58"
          ]
        },
        "id": "IqkTwemez5n3",
        "outputId": "9da9064c-4aa7-45c9-faa0-352ec999fdc5"
      },
      "outputs": [
        {
          "output_type": "stream",
          "name": "stderr",
          "text": [
            "INFO:absl:Entering into master device scope: /job:worker/replica:0/task:0/device:CPU:0\n"
          ]
        },
        {
          "output_type": "display_data",
          "data": {
            "text/plain": [
              "Downloading:   0%|          | 0.00/426 [00:00<?, ?B/s]"
            ],
            "application/vnd.jupyter.widget-view+json": {
              "version_major": 2,
              "version_minor": 0,
              "model_id": "8da108a321304812807bcfc1cd6402e6"
            }
          },
          "metadata": {}
        },
        {
          "output_type": "display_data",
          "data": {
            "text/plain": [
              "Downloading:   0%|          | 0.00/369M [00:00<?, ?B/s]"
            ],
            "application/vnd.jupyter.widget-view+json": {
              "version_major": 2,
              "version_minor": 0,
              "model_id": "508185c35d824a1e997f920602a4e6f9"
            }
          },
          "metadata": {}
        }
      ],
      "source": [
        "# 1) Load the Model-builder (function)\n",
        "with open(data_path + 'model_BERTfunction_v1.pkl', 'rb') as f:\n",
        "    create_model = dill.loads(pickle.load(f)) # use dill to pickle a python function\n",
        "\n",
        "# 2) Load the Bert-tokenizer \n",
        "with open(data_path + 'tokenizer-bert.pkl', 'rb') as f:\n",
        "    tokenizer = pickle.load(f) \n",
        "\n",
        "\n",
        "# 3) Create the model & load the Model-weights (from checkpoint file)\n",
        "resolver = tf.distribute.cluster_resolver.TPUClusterResolver(tpu='grpc://' + os.environ['COLAB_TPU_ADDR'])\n",
        "tf.config.experimental_connect_to_cluster(resolver) \n",
        "tf.tpu.experimental.initialize_tpu_system(resolver)\n",
        "strategy = tf.distribute.TPUStrategy(resolver) # Obsolete : tf.distribute.experimental.TPUStrategy()\n",
        "\n",
        "with strategy.scope(): \n",
        "    model = create_model(max_length=300) \n",
        "\n",
        "model.load_weights(filepath=checkpoint_path + 'best_bert_weights.h5')"
      ]
    },
    {
      "cell_type": "markdown",
      "metadata": {
        "id": "yYz-CbvMAJ1Z"
      },
      "source": [
        "# Classifier as a function"
      ]
    },
    {
      "cell_type": "code",
      "execution_count": null,
      "metadata": {
        "id": "rldmfWAZAHK3"
      },
      "outputs": [],
      "source": [
        "def predict_sentiment_element(sentence, tokenizer, model):\n",
        "    \"\"\"\n",
        "    가사 내 문장 별 확률 값 추출\n",
        "    \"\"\"    \n",
        "    SEQ_LEN = 300 \n",
        "\n",
        "    # Tokenizing / Tokens to sequence numbers / Padding\n",
        "    encoded_dict = tokenizer.encode_plus(text=re.sub(\"[^\\s0-9a-zA-Zㄱ-ㅎㅏ-ㅣ가-힣]\", \"\", sentence), # 특수문자 제거\n",
        "                                         padding='max_length', \n",
        "                                         truncation = True,\n",
        "                                         max_length=SEQ_LEN) \n",
        "    \n",
        "    token_ids = np.array(encoded_dict['input_ids']).reshape(1, -1) \n",
        "    token_masks = np.array(encoded_dict['attention_mask']).reshape(1, -1)\n",
        "    token_segments = np.array(encoded_dict['token_type_ids']).reshape(1, -1)\n",
        "    \n",
        "    new_inputs = (token_ids, token_masks, token_segments)\n",
        "\n",
        "    # Prediction\n",
        "    pred = model.predict(new_inputs) \n",
        "    all_pred_proba = np.round(pred * 100, 2)\n",
        "    \n",
        "    #top_pred_proba = np.round(np.max(pred) * 100, 2) \n",
        "    #pred_class = ['분노혐오','놀람공포','슬픔','행복'][np.argmax(pred, axis=1)[0]] # 수정하면 4개 클래스 다 나올듯! \n",
        "    #print(\"{}% 확률로 {} 텍스트입니다.\".format(top_pred_proba, pred_class))\n",
        "\n",
        "    return all_pred_proba "
      ]
    },
    {
      "cell_type": "code",
      "execution_count": null,
      "metadata": {
        "id": "vWzsRiH1-Qqf"
      },
      "outputs": [],
      "source": [
        "def predict_sentiment_lyrics(lyrics):\n",
        "    \"\"\"\n",
        "    가사의 감성 확률 값 추출, 문장별 감성 확률의 정규화 평균  \n",
        "    가사내 문장 단위로 predict_sentiment_element 함수 적용   \n",
        "    마지막 원소 '' 빈칸임. <br/> 태그 기준으로 split해서 나옴, 빈칸인 element 제거\n",
        "    \"\"\"\n",
        "    lyrics = ast.literal_eval(lyrics) # str list to list\n",
        "    lyrics = list(filter(lambda x: x != '', lyrics))\n",
        "\n",
        "    print(len(lyrics)) \n",
        "    print(lyrics)\n",
        "\n",
        "\n",
        "    for i in range(len(lyrics)):\n",
        "        \n",
        "        if lyrics[i] != '':\n",
        "            all_pred_proba = predict_sentiment_element(lyrics[i], tokenizer, model)\n",
        "            anger = all_pred_proba[0][0]\n",
        "            scary = all_pred_proba[0][1]\n",
        "            sad = all_pred_proba[0][2]\n",
        "            happy = all_pred_proba[0][3]\n",
        "            #print(i, lyrics[i], all_pred_proba) \n",
        "\n",
        "        anger += anger \n",
        "        scary += scary\n",
        "        sad  += sad\n",
        "        happy += happy\n",
        "\n",
        "    total_array = np.ndarray.round( (np.array([(anger, scary, sad, happy)]) / (anger + scary + sad + happy)), 2)\n",
        "    top_pred_prob = total_array[0][np.argmax(total_array, axis=1)[0]]\n",
        "    top_pred_class = ['분노혐오','놀람공포','슬픔','행복'][np.argmax(total_array, axis=1)[0]]\n",
        "\n",
        "    return total_array, top_pred_class, top_pred_prob"
      ]
    },
    {
      "cell_type": "code",
      "execution_count": null,
      "metadata": {
        "id": "sva5V55xCHnq"
      },
      "outputs": [],
      "source": [
        "# test_list = df_allsongs.preprocess_Lyric_ver3.iloc[35]\n",
        "# total_array, top_pred_class, top_pred_prob = predict_sentiment_lyrics(test_list)"
      ]
    },
    {
      "cell_type": "code",
      "execution_count": null,
      "metadata": {
        "id": "XmKPbJ4YCJKF"
      },
      "outputs": [],
      "source": [
        "# print(total_array) \n",
        "# print(top_pred_class)  \n",
        "# print(top_pred_prob)  "
      ]
    },
    {
      "cell_type": "markdown",
      "metadata": {
        "id": "rWzyg_PK-Mbb"
      },
      "source": [
        "preprocess_Lyric_ver3에 적용 <br> \n",
        "\n",
        "list가 str 형태로 row에 저장되었기 때문에 ast library로 다시 list로 바꿔주어야한다.<br>\n",
        "(str list to list)"
      ]
    },
    {
      "cell_type": "markdown",
      "metadata": {
        "id": "-MrmcLPG2od2"
      },
      "source": [
        "# Apply model"
      ]
    },
    {
      "cell_type": "code",
      "execution_count": null,
      "metadata": {
        "id": "jYYaHQ1bI0v6"
      },
      "outputs": [],
      "source": [
        "# Emotion = []\n",
        "# Probability = []\n",
        "# 분노혐오 = []\n",
        "# 놀람공포 = []\n",
        "# 슬픔 = []\n",
        "# 행복 = []\n",
        "\n",
        "\n",
        "# for row in tqdm(df_allsongs.iterrows()):\n",
        "\n",
        "\n",
        "#         total_array, top_pred_class, top_pred_prob = predict_sentiment_lyrics(row[1][-1])\n",
        "#         Emotion.append(top_pred_class)\n",
        "#         Probability.append(top_pred_prob)\n",
        "#         분노혐오.append(total_array[0][0])\n",
        "#         놀람공포.append(total_array[0][1])\n",
        "#         슬픔.append(total_array[0][2])\n",
        "#         행복.append(total_array[0][3]) \n",
        "\n",
        "# df_allsongs['Emotion'] = Emotion\n",
        "# df_allsongs['Proba'] = Probability\n",
        "# df_allsongs['분노혐오'] = 분노혐오\n",
        "# df_allsongs['놀람공포'] = 놀람공포\n",
        "# df_allsongs['슬픔'] = 슬픔\n",
        "# df_allsongs['행복'] = 행복\n",
        "\n",
        "# df_allsongs.to_csv('songtagged_may27.csv')"
      ]
    },
    {
      "cell_type": "code",
      "execution_count": null,
      "metadata": {
        "colab": {
          "base_uri": "https://localhost:8080/"
        },
        "id": "VNelHSw3OJsc",
        "outputId": "ea8967b4-6c22-4c25-f845-2cbdc731b599"
      },
      "outputs": [
        {
          "metadata": {
            "tags": null
          },
          "name": "stderr",
          "output_type": "stream",
          "text": [
            "\r  0%|          | 0/3609 [00:00<?, ?it/s]"
          ]
        },
        {
          "metadata": {
            "tags": null
          },
          "name": "stdout",
          "output_type": "stream",
          "text": [
            "97\n",
            "[\"I can't understand what people are sayin'\", '어느 장단에 맞춰야 될지', '한 발자국 떼면 한 발자국 커지는 shadow', '잠에서 눈을 뜬 여긴 또 어디', '어쩜 서울 또 New York or Paris', '일어나니 휘청이는 몸', 'Look at my feet, look down', '날 닮은 그림자', '흔들리는 건 이놈인가', '아니면 내 작은 발끝인가', '두렵잖을 리 없잖아', '다 괜찮을 리 없잖아', '그래도 I know', '서툴게 I flow', '저 까만 바람과 함께 날아', 'Hey na na na', '미치지 않으려면 미쳐야 해', 'Hey na na na', '나를 다 던져 이 두 쪽 세상에', 'Hey na na na', 'Can’t hold me down cuz you know I’m a fighter', '제 발로 들어온 아름다운 감옥', \"Find me and I'm gonna live with ya\", '(Eh-oh)', '가져와 bring the pain oh yeah', '(Eh-oh)', '올라타봐 bring the pain oh yeah', \"Rain be pourin'\", \"Sky keep fallin'\", 'Everyday oh na na na', '(Eh-oh)', '가져와 bring the pain oh yeah', 'Bring the pain', '모두 내 피와 살이 되겠지', 'Bring the pain', 'No fear, 방법을 알겠으니', '작은 것에 breathe', '그건 어둠 속 내 산소와 빛', '내가 나이게 하는 것들의 힘', '넘어져도 다시 일어나 scream', '넘어져도 다시 일어나 scream', '언제나 우린 그랬으니', '설령 내 무릎이 땅에 닿을지언정', '파묻히지 않는 이상', '그저 그런 해프닝쯤 될 거란 걸', 'Win no matter what', 'Win no matter what', 'Win no matter what', '네가 뭐라던 누가 뭐라던', \"I don't give a uhh\", \"I don't give a uhh\", \"I don't give a uhh\", 'Hey na na na', '미치지 않으려면 미쳐야 해', 'Hey na na na', '나를 다 던져 이 두 쪽 세상에', 'Hey na na na', 'Can’t hold me down cuz you know I’m a fighter', '제 발로 들어온 아름다운 감옥', \"Find me and I'm gonna live with ya\", '(Eh-oh)', '가져와 bring the pain oh yeah', '(Eh-oh)', '올라타봐 bring the pain oh yeah', \"Rain be pourin'\", \"Sky keep fallin'\", 'Everyday oh na na na', '(Eh-oh)', '가져와 bring the pain oh yeah', '나의 고통이 있는 곳에', '내가 숨 쉬게 하소서', 'My everythin’', 'My blood and tears', 'Got no fears', \"I'm singin’ ohhhhh\", 'Oh I’m takin’ over', 'You should know yeah', 'Can’t hold me down cuz you know I’m a fighter', '깜깜한 심연 속 기꺼이 잠겨', 'Find me and I’m gonna bleed with ya', '(Eh-oh)', '가져와 bring the pain oh yeah', '(Eh-oh)', '올라타봐 bring the pain oh yeah', \"Rain be pourin'\", \"Sky keep fallin'\", 'Everyday oh na na na', '(Eh-oh)', 'Find me and I’m gonna bleed with ya', '(Eh-oh)', '가져와 bring the pain oh yeah', '(Eh-oh)', '올라타봐 bring the pain oh yeah', 'All that I know', 'is just goin’ on &amp; on &amp; on &amp; on', '(Eh-oh)', '가져와 bring the pain oh yeah']\n"
          ]
        },
        {
          "metadata": {
            "tags": null
          },
          "name": "stderr",
          "output_type": "stream",
          "text": [
            "INFO:absl:TPU has inputs with dynamic shapes: [<tf.Tensor 'Const:0' shape=() dtype=int32>, <tf.Tensor 'cond/Identity:0' shape=(None, 300) dtype=int64>, <tf.Tensor 'cond/Identity_8:0' shape=(None, 300) dtype=int64>, <tf.Tensor 'cond/Identity_16:0' shape=(None, 300) dtype=int64>]\n",
            "  0%|          | 1/3609 [01:26<86:48:56, 86.62s/it]"
          ]
        },
        {
          "metadata": {
            "tags": null
          },
          "name": "stdout",
          "output_type": "stream",
          "text": [
            "35\n",
            "['함께 했던 많은 계절이', '봄에 눈이 녹듯 사라진다 해도', '아직 나는 너를 기억해', '세상 무엇보다 빛나던 모습을', '어떤 날도 어떤 말도', '우리 안녕이라 했었던 그 날도', '저기 어딘가에 꿈을 꾸던 시간조차도', '오랜 영화처럼 다시', '빛이 되어 남을테니', '어떤 날도 어떤 말도', '우리 안녕이라 했었던 그 날도', '문득 고갤 드는', '가슴 아픈 기억조차도', '언젠가는 아름다운', '눈물들로 남을테니까', '아직 나는 너를 기억해', '세상 무엇보다 빛나던 모습을', '어떤 날도 어떤 말도', '우리 안녕이라 했었던 그 날도', '저기 어딘가에 꿈을 꾸던 시간조차도', '오랜 영화처럼 다시', '빛이 되어 남을테니', '저기 우리 행복했었던 시간이', '아직도 손에 잡힐 듯', '어딘가 아쉬운 마음도', '때로는 서운한 마음도', '언젠가 함께 했었던 그 약속도', '어떤 날도 어떤 말도', '우리 안녕이라 했었던 그 날도', '문득 고갤 드는', '가슴 아픈 기억조차도', '언젠가는 아름다운', '눈물들로 남을테니까', '함께 했던 많은 계절은', '비록 여기에서 끝이 난다해도']\n"
          ]
        },
        {
          "metadata": {
            "tags": null
          },
          "name": "stderr",
          "output_type": "stream",
          "text": [
            "\r  0%|          | 2/3609 [01:45<47:08:41, 47.05s/it]"
          ]
        },
        {
          "metadata": {
            "tags": null
          },
          "name": "stdout",
          "output_type": "stream",
          "text": [
            "35\n",
            "['오늘도 내 기억을 따라 헤매다', '이 길 끝에서 서성이는 나', '다신 볼 수도 없는 네가 나를 붙잡아', '나는 또 이 길을 묻는다', '널 보고 싶다고', '또 안고 싶다고', '저 하늘 보며 기도하는 날', '네가 아니면 안돼', '너 없인 난 안돼', '나 이렇게 하루 한달을 또 일년을', '나 아파도 좋아', '내 맘 다쳐도 좋아 난', '그래 난 너 하나만 사랑하니까', '나 두 번 다시는', '보낼 수 없다고', '나 너를 잊고 살 순 없다고', '네가 아니면 안돼', '너 없인 난 안돼', '나 이렇게 하루 한달을 또 일년을', '나 아파도 좋아', '내 맘 다쳐도 좋아 난', '그래 난 너 하나만 사랑하니까', '내 멍든 가슴이', '널 찾아 오라고', '소리쳐 부른다', '넌 어디 있는 거니', '나의 목소리 들리지 않니', '나에게는', '나 다시 살아도', '몇 번을 태어나도', '하루도 네가 없이 살 수 없는 나', '내가 지켜줄 사람', '내가 사랑할 사람 난', '그래 난 너 하나면 충분하니까', '너 하나만 사랑하니까']\n"
          ]
        },
        {
          "metadata": {
            "tags": null
          },
          "name": "stderr",
          "output_type": "stream",
          "text": [
            "\r  0%|          | 3/3609 [02:05<34:24:47, 34.36s/it]"
          ]
        },
        {
          "metadata": {
            "tags": null
          },
          "name": "stdout",
          "output_type": "stream",
          "text": [
            "40\n",
            "['사소한 것들 땜에', '크게 다퉜었지', '하루 종일 말도 안 하고', '꿍해 있었지', '사랑이었나 봐', '그땐 몰랐지만', '전부 다 지나고 나서', '깨달았어', '둘 중 하나 누구 한 명만', '한 번만 져줬었다면 우린', '어떻게 됐을까', '연락을 늦게 해서', '크게 다퉜었지', '나 일하느라 그랬어', '하루 종일 혼났지', '사랑이었나 봐', '그땐 몰랐지만', '전부 다 지나고 나서', '깨달았어', '둘 중 하나 누구 한 명만', '한 번만 져줬었다면 우린', '어떻게 됐을까', '가끔은 연락을 안 하고 계속 잤다고', '아 미안 영화 보느라고 못 봤다고', '그 영화 나랑 안 보고', '왜 혼자 봤냐고', '아 미안 친구가 갑자기 약속 잡았어', '화나면 우린 하루 종일 말도 안 하고', '될 대로 되란 식 친구와 술을 마시고', '우리 싸우는 거 보면', '가끔은 올림픽 같았어', '1등이 아니면 성이 안 차도', '그건 그래도', '사랑이었나 봐', '그땐 몰랐지만', '전부 다 지나고 나서', '깨달았어', '둘 중 하나 누구 한 명만', '한 번만 져줬었다면 우린', '어떻게 됐을까']\n"
          ]
        },
        {
          "metadata": {
            "tags": null
          },
          "name": "stderr",
          "output_type": "stream",
          "text": [
            "\r  0%|          | 4/3609 [02:26<29:23:43, 29.35s/it]"
          ]
        },
        {
          "metadata": {
            "tags": null
          },
          "name": "stdout",
          "output_type": "stream",
          "text": [
            "52\n",
            "['서울은 좁아서', '어딜 가도 네가 따라와', '다시 돌아온 이 계절처럼', '또 너를 떠올려', '잘 해내고 있다 믿었지만', '넌 내게 불어와', '다시 흔들린 내 마음처럼', '살랑거리는 건 봄이야', '살랑거리는 건 봄이야', '새로운 사랑으로 널 잊으래', '근데 난 그게 진짜 안돼', '압구정 사거리 단둘이 걷던 길', '거기서부터 시작된', '우리 사랑 일기 첫 페이지 날짜가', '너처럼 따뜻한 봄이야', '근데 이젠 남이야', '눈치 없는 봄바람만 괜시리', '나의 맘속에 불어', '서울은 좁아서', '어딜 가도 네가 따라와', '다시 돌아온 이 계절처럼', '또 너를 떠올려', '잘 해내고 있다 믿었지만', '넌 내게 불어와', '다시 흔들린 내 마음처럼', '살랑거리는 건 봄이야', '되돌릴 수 없는 과거처럼', '차가운 겨울이 녹아내려', '왜 나만 괴롭고 또 외로워 난 진짜', '벌거벗어버린 것만 같아', '나만 몰랐어 언제나 바보야', '네가 싫어하던 내가 미안하단 말', '입버릇처럼 나와 이제 없지만', '봄바람 타고서 전화를 걸어', '부재중 날 피해도 괜찮아', '이거 나도', '실수인 거 알면서 그냥 하는 거야', '이러지 않으면 잘못될 것만 같아', '마음껏 비웃어 나를', '아마도 난 너의 술자리 안주', '알잖아 I just want you back', '가만히 두지를 않네', '서울은 좁아서', '어딜 가도 네가 따라와', '다시 돌아온 이 계절처럼', '또 너를 떠올려', '잘 해내고 있다 믿었지만', '넌 내게 불어와', '다시 흔들린 내 마음처럼', '살랑거리는 건 봄이야', '살랑거리는 건 봄이야', '살랑거리는 건']\n"
          ]
        },
        {
          "output_type": "stream",
          "name": "stderr",
          "text": [
            "\r  0%|          | 5/3609 [02:55<29:07:23, 29.09s/it]"
          ]
        },
        {
          "output_type": "stream",
          "name": "stdout",
          "text": [
            "36\n",
            "['우리 이별을 말 한지 ', '겨우 하루 밖에 지나지 않았어', '하지만 너무 이상하게도 ', '내 맘은 편안해 자유로운 기분', '이틀 이틀째가 되던 날', '온 몸이 풀리고 가슴이 답답해', '삼 일째 되던 날', '내 심장 소리가 너무 커서 잠도 못 자', '나흘 되던 날', '눈 앞이 캄캄해지고', '오일 되던 날', '눈물만 주루룩 엿새 되던 날', '가슴이 너무 허전해', '하루 온 종일 먹기만 하네요', '일주일 일주일이 되던 날', '노래 속 가사가 모두 내 얘기 같고', '드라마 영화 속에 나오는 ', '삼류 사랑 얘기가 모두 ', '다 내 얘기만 같아', '한 달 한 달이 되던 날', '니가 좋아 했던 긴 머릴 자르고', '니가 싫어했었던 야한 옷을 입으니 ', '이별이 이제서 야 실감나네', '일 년 되던 날', '널 많이 닮은 사람과 사랑에 빠져 ', '행복을 찾았고', '가끔은 너의 소식에 ', '조금은 신경 쓰여도', '그냥 뒤돌아 웃음 짓게 되네', '사랑이 그런건 가 봐 ', '세월이 약이였나봐', '그 때는 정말 죽을 것 같았어', '하지만 지금 사랑이 ', '또 다시 아픔을 줘도', '나는 웃으며 이별을 맞을래 ', '사랑은 또 다시 올테니까']\n"
          ]
        }
      ],
      "source": [
        "df_allsongs['Emotion'] = \" \"\n",
        "df_allsongs['Probability'] = \" \"\n",
        "df_allsongs['분노혐오'] = \" \"\n",
        "df_allsongs['놀람공포'] = \" \"\n",
        "df_allsongs['슬픔'] = \" \"\n",
        "df_allsongs['행복'] = \" \"\n",
        "\n",
        "for i in tqdm(df_allsongs.index):\n",
        "    lyrics = df_allsongs['preprocess_Lyric_ver3'].iloc[i]\n",
        "    total_array, top_pred_class, top_pred_prob = predict_sentiment_lyrics(lyrics)\n",
        "    df_allsongs['Emotion'].iloc[i] = top_pred_class \n",
        "    df_allsongs['Probability'].iloc[i] = top_pred_prob\n",
        "    df_allsongs['분노혐오'].iloc[i] = total_array[0][0]\n",
        "    df_allsongs['놀람공포'].iloc[i] = total_array[0][1]\n",
        "    df_allsongs['슬픔'].iloc[i] = total_array[0][2]\n",
        "    df_allsongs['행복'].iloc[i] = total_array[0][3]\n",
        "\n",
        "    df_allsongs.to_csv('songtagged_may29.csv')"
      ]
    }
  ],
  "metadata": {
    "accelerator": "TPU",
    "colab": {
      "background_execution": "on",
      "collapsed_sections": [],
      "machine_shape": "hm",
      "name": "Seunguk_(3)_lyricModelling.ipynb",
      "provenance": [],
      "mount_file_id": "1jCp4ul4t1aM0jmbl4X6kauP7yt8HBIu8",
      "authorship_tag": "ABX9TyO9ydFC8s1Ng1zdMdJ9AgIi",
      "include_colab_link": true
    },
    "kernelspec": {
      "display_name": "Python 3",
      "name": "python3"
    },
    "language_info": {
      "name": "python"
    },
    "widgets": {
      "application/vnd.jupyter.widget-state+json": {
        "8da108a321304812807bcfc1cd6402e6": {
          "model_module": "@jupyter-widgets/controls",
          "model_name": "HBoxModel",
          "model_module_version": "1.5.0",
          "state": {
            "_dom_classes": [],
            "_model_module": "@jupyter-widgets/controls",
            "_model_module_version": "1.5.0",
            "_model_name": "HBoxModel",
            "_view_count": null,
            "_view_module": "@jupyter-widgets/controls",
            "_view_module_version": "1.5.0",
            "_view_name": "HBoxView",
            "box_style": "",
            "children": [
              "IPY_MODEL_3047c699b06040a79249a3211f423142",
              "IPY_MODEL_2306f3cb5d1d46db88d2980c0f562dfd",
              "IPY_MODEL_a457abac400f4de4a6e62ca2b6e0e42b"
            ],
            "layout": "IPY_MODEL_1d7f6a888eba46d89ac46304ff4b1818"
          }
        },
        "3047c699b06040a79249a3211f423142": {
          "model_module": "@jupyter-widgets/controls",
          "model_name": "HTMLModel",
          "model_module_version": "1.5.0",
          "state": {
            "_dom_classes": [],
            "_model_module": "@jupyter-widgets/controls",
            "_model_module_version": "1.5.0",
            "_model_name": "HTMLModel",
            "_view_count": null,
            "_view_module": "@jupyter-widgets/controls",
            "_view_module_version": "1.5.0",
            "_view_name": "HTMLView",
            "description": "",
            "description_tooltip": null,
            "layout": "IPY_MODEL_d4cb289f7f28490b94eeba75b34520bc",
            "placeholder": "​",
            "style": "IPY_MODEL_ab70f71f5c50462ebea4dce954dc5ef3",
            "value": "Downloading: 100%"
          }
        },
        "2306f3cb5d1d46db88d2980c0f562dfd": {
          "model_module": "@jupyter-widgets/controls",
          "model_name": "FloatProgressModel",
          "model_module_version": "1.5.0",
          "state": {
            "_dom_classes": [],
            "_model_module": "@jupyter-widgets/controls",
            "_model_module_version": "1.5.0",
            "_model_name": "FloatProgressModel",
            "_view_count": null,
            "_view_module": "@jupyter-widgets/controls",
            "_view_module_version": "1.5.0",
            "_view_name": "ProgressView",
            "bar_style": "success",
            "description": "",
            "description_tooltip": null,
            "layout": "IPY_MODEL_6666adcc30f044ed97c0b2b850a5a753",
            "max": 426,
            "min": 0,
            "orientation": "horizontal",
            "style": "IPY_MODEL_4e85de6063e54e72bcce28bb02eab1d1",
            "value": 426
          }
        },
        "a457abac400f4de4a6e62ca2b6e0e42b": {
          "model_module": "@jupyter-widgets/controls",
          "model_name": "HTMLModel",
          "model_module_version": "1.5.0",
          "state": {
            "_dom_classes": [],
            "_model_module": "@jupyter-widgets/controls",
            "_model_module_version": "1.5.0",
            "_model_name": "HTMLModel",
            "_view_count": null,
            "_view_module": "@jupyter-widgets/controls",
            "_view_module_version": "1.5.0",
            "_view_name": "HTMLView",
            "description": "",
            "description_tooltip": null,
            "layout": "IPY_MODEL_47264a838df44ffa813144dfc7e920d7",
            "placeholder": "​",
            "style": "IPY_MODEL_aabefb8bb87f4a718822efc9406303f0",
            "value": " 426/426 [00:00&lt;00:00, 15.2kB/s]"
          }
        },
        "1d7f6a888eba46d89ac46304ff4b1818": {
          "model_module": "@jupyter-widgets/base",
          "model_name": "LayoutModel",
          "model_module_version": "1.2.0",
          "state": {
            "_model_module": "@jupyter-widgets/base",
            "_model_module_version": "1.2.0",
            "_model_name": "LayoutModel",
            "_view_count": null,
            "_view_module": "@jupyter-widgets/base",
            "_view_module_version": "1.2.0",
            "_view_name": "LayoutView",
            "align_content": null,
            "align_items": null,
            "align_self": null,
            "border": null,
            "bottom": null,
            "display": null,
            "flex": null,
            "flex_flow": null,
            "grid_area": null,
            "grid_auto_columns": null,
            "grid_auto_flow": null,
            "grid_auto_rows": null,
            "grid_column": null,
            "grid_gap": null,
            "grid_row": null,
            "grid_template_areas": null,
            "grid_template_columns": null,
            "grid_template_rows": null,
            "height": null,
            "justify_content": null,
            "justify_items": null,
            "left": null,
            "margin": null,
            "max_height": null,
            "max_width": null,
            "min_height": null,
            "min_width": null,
            "object_fit": null,
            "object_position": null,
            "order": null,
            "overflow": null,
            "overflow_x": null,
            "overflow_y": null,
            "padding": null,
            "right": null,
            "top": null,
            "visibility": null,
            "width": null
          }
        },
        "d4cb289f7f28490b94eeba75b34520bc": {
          "model_module": "@jupyter-widgets/base",
          "model_name": "LayoutModel",
          "model_module_version": "1.2.0",
          "state": {
            "_model_module": "@jupyter-widgets/base",
            "_model_module_version": "1.2.0",
            "_model_name": "LayoutModel",
            "_view_count": null,
            "_view_module": "@jupyter-widgets/base",
            "_view_module_version": "1.2.0",
            "_view_name": "LayoutView",
            "align_content": null,
            "align_items": null,
            "align_self": null,
            "border": null,
            "bottom": null,
            "display": null,
            "flex": null,
            "flex_flow": null,
            "grid_area": null,
            "grid_auto_columns": null,
            "grid_auto_flow": null,
            "grid_auto_rows": null,
            "grid_column": null,
            "grid_gap": null,
            "grid_row": null,
            "grid_template_areas": null,
            "grid_template_columns": null,
            "grid_template_rows": null,
            "height": null,
            "justify_content": null,
            "justify_items": null,
            "left": null,
            "margin": null,
            "max_height": null,
            "max_width": null,
            "min_height": null,
            "min_width": null,
            "object_fit": null,
            "object_position": null,
            "order": null,
            "overflow": null,
            "overflow_x": null,
            "overflow_y": null,
            "padding": null,
            "right": null,
            "top": null,
            "visibility": null,
            "width": null
          }
        },
        "ab70f71f5c50462ebea4dce954dc5ef3": {
          "model_module": "@jupyter-widgets/controls",
          "model_name": "DescriptionStyleModel",
          "model_module_version": "1.5.0",
          "state": {
            "_model_module": "@jupyter-widgets/controls",
            "_model_module_version": "1.5.0",
            "_model_name": "DescriptionStyleModel",
            "_view_count": null,
            "_view_module": "@jupyter-widgets/base",
            "_view_module_version": "1.2.0",
            "_view_name": "StyleView",
            "description_width": ""
          }
        },
        "6666adcc30f044ed97c0b2b850a5a753": {
          "model_module": "@jupyter-widgets/base",
          "model_name": "LayoutModel",
          "model_module_version": "1.2.0",
          "state": {
            "_model_module": "@jupyter-widgets/base",
            "_model_module_version": "1.2.0",
            "_model_name": "LayoutModel",
            "_view_count": null,
            "_view_module": "@jupyter-widgets/base",
            "_view_module_version": "1.2.0",
            "_view_name": "LayoutView",
            "align_content": null,
            "align_items": null,
            "align_self": null,
            "border": null,
            "bottom": null,
            "display": null,
            "flex": null,
            "flex_flow": null,
            "grid_area": null,
            "grid_auto_columns": null,
            "grid_auto_flow": null,
            "grid_auto_rows": null,
            "grid_column": null,
            "grid_gap": null,
            "grid_row": null,
            "grid_template_areas": null,
            "grid_template_columns": null,
            "grid_template_rows": null,
            "height": null,
            "justify_content": null,
            "justify_items": null,
            "left": null,
            "margin": null,
            "max_height": null,
            "max_width": null,
            "min_height": null,
            "min_width": null,
            "object_fit": null,
            "object_position": null,
            "order": null,
            "overflow": null,
            "overflow_x": null,
            "overflow_y": null,
            "padding": null,
            "right": null,
            "top": null,
            "visibility": null,
            "width": null
          }
        },
        "4e85de6063e54e72bcce28bb02eab1d1": {
          "model_module": "@jupyter-widgets/controls",
          "model_name": "ProgressStyleModel",
          "model_module_version": "1.5.0",
          "state": {
            "_model_module": "@jupyter-widgets/controls",
            "_model_module_version": "1.5.0",
            "_model_name": "ProgressStyleModel",
            "_view_count": null,
            "_view_module": "@jupyter-widgets/base",
            "_view_module_version": "1.2.0",
            "_view_name": "StyleView",
            "bar_color": null,
            "description_width": ""
          }
        },
        "47264a838df44ffa813144dfc7e920d7": {
          "model_module": "@jupyter-widgets/base",
          "model_name": "LayoutModel",
          "model_module_version": "1.2.0",
          "state": {
            "_model_module": "@jupyter-widgets/base",
            "_model_module_version": "1.2.0",
            "_model_name": "LayoutModel",
            "_view_count": null,
            "_view_module": "@jupyter-widgets/base",
            "_view_module_version": "1.2.0",
            "_view_name": "LayoutView",
            "align_content": null,
            "align_items": null,
            "align_self": null,
            "border": null,
            "bottom": null,
            "display": null,
            "flex": null,
            "flex_flow": null,
            "grid_area": null,
            "grid_auto_columns": null,
            "grid_auto_flow": null,
            "grid_auto_rows": null,
            "grid_column": null,
            "grid_gap": null,
            "grid_row": null,
            "grid_template_areas": null,
            "grid_template_columns": null,
            "grid_template_rows": null,
            "height": null,
            "justify_content": null,
            "justify_items": null,
            "left": null,
            "margin": null,
            "max_height": null,
            "max_width": null,
            "min_height": null,
            "min_width": null,
            "object_fit": null,
            "object_position": null,
            "order": null,
            "overflow": null,
            "overflow_x": null,
            "overflow_y": null,
            "padding": null,
            "right": null,
            "top": null,
            "visibility": null,
            "width": null
          }
        },
        "aabefb8bb87f4a718822efc9406303f0": {
          "model_module": "@jupyter-widgets/controls",
          "model_name": "DescriptionStyleModel",
          "model_module_version": "1.5.0",
          "state": {
            "_model_module": "@jupyter-widgets/controls",
            "_model_module_version": "1.5.0",
            "_model_name": "DescriptionStyleModel",
            "_view_count": null,
            "_view_module": "@jupyter-widgets/base",
            "_view_module_version": "1.2.0",
            "_view_name": "StyleView",
            "description_width": ""
          }
        },
        "508185c35d824a1e997f920602a4e6f9": {
          "model_module": "@jupyter-widgets/controls",
          "model_name": "HBoxModel",
          "model_module_version": "1.5.0",
          "state": {
            "_dom_classes": [],
            "_model_module": "@jupyter-widgets/controls",
            "_model_module_version": "1.5.0",
            "_model_name": "HBoxModel",
            "_view_count": null,
            "_view_module": "@jupyter-widgets/controls",
            "_view_module_version": "1.5.0",
            "_view_name": "HBoxView",
            "box_style": "",
            "children": [
              "IPY_MODEL_096bb65ddf8944d1bebf70e1a707baa1",
              "IPY_MODEL_fcaa9954c6e44b5fa50a9a1ec9e8d75f",
              "IPY_MODEL_cf3a72193f264e53bb7525db53c27363"
            ],
            "layout": "IPY_MODEL_e0e2070fc5c44a4981d1a19501b254e1"
          }
        },
        "096bb65ddf8944d1bebf70e1a707baa1": {
          "model_module": "@jupyter-widgets/controls",
          "model_name": "HTMLModel",
          "model_module_version": "1.5.0",
          "state": {
            "_dom_classes": [],
            "_model_module": "@jupyter-widgets/controls",
            "_model_module_version": "1.5.0",
            "_model_name": "HTMLModel",
            "_view_count": null,
            "_view_module": "@jupyter-widgets/controls",
            "_view_module_version": "1.5.0",
            "_view_name": "HTMLView",
            "description": "",
            "description_tooltip": null,
            "layout": "IPY_MODEL_77fbc9ddb1a544768f96de6bfebd624a",
            "placeholder": "​",
            "style": "IPY_MODEL_67a42d019e9041e9bd776a612f28cad9",
            "value": "Downloading: 100%"
          }
        },
        "fcaa9954c6e44b5fa50a9a1ec9e8d75f": {
          "model_module": "@jupyter-widgets/controls",
          "model_name": "FloatProgressModel",
          "model_module_version": "1.5.0",
          "state": {
            "_dom_classes": [],
            "_model_module": "@jupyter-widgets/controls",
            "_model_module_version": "1.5.0",
            "_model_name": "FloatProgressModel",
            "_view_count": null,
            "_view_module": "@jupyter-widgets/controls",
            "_view_module_version": "1.5.0",
            "_view_name": "ProgressView",
            "bar_style": "success",
            "description": "",
            "description_tooltip": null,
            "layout": "IPY_MODEL_8e6282147c7e4ff39f91ee2e7fadb97a",
            "max": 368792146,
            "min": 0,
            "orientation": "horizontal",
            "style": "IPY_MODEL_a083a64bae9243eb9032fb065c16b2f7",
            "value": 368792146
          }
        },
        "cf3a72193f264e53bb7525db53c27363": {
          "model_module": "@jupyter-widgets/controls",
          "model_name": "HTMLModel",
          "model_module_version": "1.5.0",
          "state": {
            "_dom_classes": [],
            "_model_module": "@jupyter-widgets/controls",
            "_model_module_version": "1.5.0",
            "_model_name": "HTMLModel",
            "_view_count": null,
            "_view_module": "@jupyter-widgets/controls",
            "_view_module_version": "1.5.0",
            "_view_name": "HTMLView",
            "description": "",
            "description_tooltip": null,
            "layout": "IPY_MODEL_9e9773bf59a44bc08f1e4d04efa06f0b",
            "placeholder": "​",
            "style": "IPY_MODEL_b0095656ea624cd5ae247331cabd7f58",
            "value": " 369M/369M [00:05&lt;00:00, 64.0MB/s]"
          }
        },
        "e0e2070fc5c44a4981d1a19501b254e1": {
          "model_module": "@jupyter-widgets/base",
          "model_name": "LayoutModel",
          "model_module_version": "1.2.0",
          "state": {
            "_model_module": "@jupyter-widgets/base",
            "_model_module_version": "1.2.0",
            "_model_name": "LayoutModel",
            "_view_count": null,
            "_view_module": "@jupyter-widgets/base",
            "_view_module_version": "1.2.0",
            "_view_name": "LayoutView",
            "align_content": null,
            "align_items": null,
            "align_self": null,
            "border": null,
            "bottom": null,
            "display": null,
            "flex": null,
            "flex_flow": null,
            "grid_area": null,
            "grid_auto_columns": null,
            "grid_auto_flow": null,
            "grid_auto_rows": null,
            "grid_column": null,
            "grid_gap": null,
            "grid_row": null,
            "grid_template_areas": null,
            "grid_template_columns": null,
            "grid_template_rows": null,
            "height": null,
            "justify_content": null,
            "justify_items": null,
            "left": null,
            "margin": null,
            "max_height": null,
            "max_width": null,
            "min_height": null,
            "min_width": null,
            "object_fit": null,
            "object_position": null,
            "order": null,
            "overflow": null,
            "overflow_x": null,
            "overflow_y": null,
            "padding": null,
            "right": null,
            "top": null,
            "visibility": null,
            "width": null
          }
        },
        "77fbc9ddb1a544768f96de6bfebd624a": {
          "model_module": "@jupyter-widgets/base",
          "model_name": "LayoutModel",
          "model_module_version": "1.2.0",
          "state": {
            "_model_module": "@jupyter-widgets/base",
            "_model_module_version": "1.2.0",
            "_model_name": "LayoutModel",
            "_view_count": null,
            "_view_module": "@jupyter-widgets/base",
            "_view_module_version": "1.2.0",
            "_view_name": "LayoutView",
            "align_content": null,
            "align_items": null,
            "align_self": null,
            "border": null,
            "bottom": null,
            "display": null,
            "flex": null,
            "flex_flow": null,
            "grid_area": null,
            "grid_auto_columns": null,
            "grid_auto_flow": null,
            "grid_auto_rows": null,
            "grid_column": null,
            "grid_gap": null,
            "grid_row": null,
            "grid_template_areas": null,
            "grid_template_columns": null,
            "grid_template_rows": null,
            "height": null,
            "justify_content": null,
            "justify_items": null,
            "left": null,
            "margin": null,
            "max_height": null,
            "max_width": null,
            "min_height": null,
            "min_width": null,
            "object_fit": null,
            "object_position": null,
            "order": null,
            "overflow": null,
            "overflow_x": null,
            "overflow_y": null,
            "padding": null,
            "right": null,
            "top": null,
            "visibility": null,
            "width": null
          }
        },
        "67a42d019e9041e9bd776a612f28cad9": {
          "model_module": "@jupyter-widgets/controls",
          "model_name": "DescriptionStyleModel",
          "model_module_version": "1.5.0",
          "state": {
            "_model_module": "@jupyter-widgets/controls",
            "_model_module_version": "1.5.0",
            "_model_name": "DescriptionStyleModel",
            "_view_count": null,
            "_view_module": "@jupyter-widgets/base",
            "_view_module_version": "1.2.0",
            "_view_name": "StyleView",
            "description_width": ""
          }
        },
        "8e6282147c7e4ff39f91ee2e7fadb97a": {
          "model_module": "@jupyter-widgets/base",
          "model_name": "LayoutModel",
          "model_module_version": "1.2.0",
          "state": {
            "_model_module": "@jupyter-widgets/base",
            "_model_module_version": "1.2.0",
            "_model_name": "LayoutModel",
            "_view_count": null,
            "_view_module": "@jupyter-widgets/base",
            "_view_module_version": "1.2.0",
            "_view_name": "LayoutView",
            "align_content": null,
            "align_items": null,
            "align_self": null,
            "border": null,
            "bottom": null,
            "display": null,
            "flex": null,
            "flex_flow": null,
            "grid_area": null,
            "grid_auto_columns": null,
            "grid_auto_flow": null,
            "grid_auto_rows": null,
            "grid_column": null,
            "grid_gap": null,
            "grid_row": null,
            "grid_template_areas": null,
            "grid_template_columns": null,
            "grid_template_rows": null,
            "height": null,
            "justify_content": null,
            "justify_items": null,
            "left": null,
            "margin": null,
            "max_height": null,
            "max_width": null,
            "min_height": null,
            "min_width": null,
            "object_fit": null,
            "object_position": null,
            "order": null,
            "overflow": null,
            "overflow_x": null,
            "overflow_y": null,
            "padding": null,
            "right": null,
            "top": null,
            "visibility": null,
            "width": null
          }
        },
        "a083a64bae9243eb9032fb065c16b2f7": {
          "model_module": "@jupyter-widgets/controls",
          "model_name": "ProgressStyleModel",
          "model_module_version": "1.5.0",
          "state": {
            "_model_module": "@jupyter-widgets/controls",
            "_model_module_version": "1.5.0",
            "_model_name": "ProgressStyleModel",
            "_view_count": null,
            "_view_module": "@jupyter-widgets/base",
            "_view_module_version": "1.2.0",
            "_view_name": "StyleView",
            "bar_color": null,
            "description_width": ""
          }
        },
        "9e9773bf59a44bc08f1e4d04efa06f0b": {
          "model_module": "@jupyter-widgets/base",
          "model_name": "LayoutModel",
          "model_module_version": "1.2.0",
          "state": {
            "_model_module": "@jupyter-widgets/base",
            "_model_module_version": "1.2.0",
            "_model_name": "LayoutModel",
            "_view_count": null,
            "_view_module": "@jupyter-widgets/base",
            "_view_module_version": "1.2.0",
            "_view_name": "LayoutView",
            "align_content": null,
            "align_items": null,
            "align_self": null,
            "border": null,
            "bottom": null,
            "display": null,
            "flex": null,
            "flex_flow": null,
            "grid_area": null,
            "grid_auto_columns": null,
            "grid_auto_flow": null,
            "grid_auto_rows": null,
            "grid_column": null,
            "grid_gap": null,
            "grid_row": null,
            "grid_template_areas": null,
            "grid_template_columns": null,
            "grid_template_rows": null,
            "height": null,
            "justify_content": null,
            "justify_items": null,
            "left": null,
            "margin": null,
            "max_height": null,
            "max_width": null,
            "min_height": null,
            "min_width": null,
            "object_fit": null,
            "object_position": null,
            "order": null,
            "overflow": null,
            "overflow_x": null,
            "overflow_y": null,
            "padding": null,
            "right": null,
            "top": null,
            "visibility": null,
            "width": null
          }
        },
        "b0095656ea624cd5ae247331cabd7f58": {
          "model_module": "@jupyter-widgets/controls",
          "model_name": "DescriptionStyleModel",
          "model_module_version": "1.5.0",
          "state": {
            "_model_module": "@jupyter-widgets/controls",
            "_model_module_version": "1.5.0",
            "_model_name": "DescriptionStyleModel",
            "_view_count": null,
            "_view_module": "@jupyter-widgets/base",
            "_view_module_version": "1.2.0",
            "_view_name": "StyleView",
            "description_width": ""
          }
        }
      }
    }
  },
  "nbformat": 4,
  "nbformat_minor": 0
}