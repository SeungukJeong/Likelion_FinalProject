{
 "cells": [
  {
   "cell_type": "code",
   "execution_count": 1,
   "metadata": {},
   "outputs": [],
   "source": [
    "import pandas as pd"
   ]
  },
  {
   "cell_type": "code",
   "execution_count": 7,
   "metadata": {},
   "outputs": [],
   "source": [
    "df_balad = pd.read_excel(r'./song_scraping/balad_500songs.xlsx')\n",
    "df_dance = pd.read_excel(r'./song_scraping/dance_500songs.xlsx')\n",
    "df_fork_blues = pd.read_excel(r'./song_scraping/balad_500songs.xlsx')\n",
    "df_indi = pd.read_excel(r'./song_scraping/indi_500songs.xlsx')\n",
    "df_r_b = pd.read_excel(r'./song_scraping/r_b_500songs.xlsx')\n",
    "df_rap_hiphop = pd.read_excel(r'./song_scraping/RapHipHop_500songs.xlsx')\n",
    "df_rock_metal = pd.read_excel(r'./song_scraping/rock_metal_500songs.xlsx') \n",
    "df_trot_hiphop = pd.read_excel(r'./song_scraping/trot_500songs.xlsx')\n"
   ]
  },
  {
   "cell_type": "code",
   "execution_count": 14,
   "metadata": {},
   "outputs": [],
   "source": [
    "df_allsongs = pd.concat([df_balad, df_dance, df_fork_blues, df_indi, df_r_b, df_rap_hiphop, df_rock_metal, df_trot_hiphop])"
   ]
  },
  {
   "cell_type": "code",
   "execution_count": 15,
   "metadata": {},
   "outputs": [
    {
     "data": {
      "text/html": [
       "<div>\n",
       "<style scoped>\n",
       "    .dataframe tbody tr th:only-of-type {\n",
       "        vertical-align: middle;\n",
       "    }\n",
       "\n",
       "    .dataframe tbody tr th {\n",
       "        vertical-align: top;\n",
       "    }\n",
       "\n",
       "    .dataframe thead th {\n",
       "        text-align: right;\n",
       "    }\n",
       "</style>\n",
       "<table border=\"1\" class=\"dataframe\">\n",
       "  <thead>\n",
       "    <tr style=\"text-align: right;\">\n",
       "      <th></th>\n",
       "      <th>Title</th>\n",
       "      <th>Artist</th>\n",
       "      <th>Date</th>\n",
       "      <th>Genre</th>\n",
       "      <th>Lyric</th>\n",
       "    </tr>\n",
       "  </thead>\n",
       "  <tbody>\n",
       "    <tr>\n",
       "      <th>count</th>\n",
       "      <td>4000</td>\n",
       "      <td>4000</td>\n",
       "      <td>4000</td>\n",
       "      <td>4000</td>\n",
       "      <td>4000</td>\n",
       "    </tr>\n",
       "    <tr>\n",
       "      <th>unique</th>\n",
       "      <td>3013</td>\n",
       "      <td>865</td>\n",
       "      <td>1865</td>\n",
       "      <td>37</td>\n",
       "      <td>3204</td>\n",
       "    </tr>\n",
       "    <tr>\n",
       "      <th>top</th>\n",
       "      <td>고백</td>\n",
       "      <td>임영웅</td>\n",
       "      <td>2022.05.18</td>\n",
       "      <td>발라드</td>\n",
       "      <td>너와 함께 하고 싶은 일들을상상하는 게요즘 내 일상이 되고너의 즐거워하는 모습을 보...</td>\n",
       "    </tr>\n",
       "    <tr>\n",
       "      <th>freq</th>\n",
       "      <td>15</td>\n",
       "      <td>95</td>\n",
       "      <td>30</td>\n",
       "      <td>754</td>\n",
       "      <td>4</td>\n",
       "    </tr>\n",
       "  </tbody>\n",
       "</table>\n",
       "</div>"
      ],
      "text/plain": [
       "       Title Artist        Date Genre  \\\n",
       "count   4000   4000        4000  4000   \n",
       "unique  3013    865        1865    37   \n",
       "top       고백    임영웅  2022.05.18   발라드   \n",
       "freq      15     95          30   754   \n",
       "\n",
       "                                                    Lyric  \n",
       "count                                                4000  \n",
       "unique                                               3204  \n",
       "top     너와 함께 하고 싶은 일들을상상하는 게요즘 내 일상이 되고너의 즐거워하는 모습을 보...  \n",
       "freq                                                    4  "
      ]
     },
     "execution_count": 15,
     "metadata": {},
     "output_type": "execute_result"
    }
   ],
   "source": [
    "df_allsongs.describe()"
   ]
  },
  {
   "cell_type": "code",
   "execution_count": null,
   "metadata": {},
   "outputs": [],
   "source": []
  }
 ],
 "metadata": {
  "interpreter": {
   "hash": "766ec0f0f499bb43cc89274c2b0098b93484f36b6fb087dcfa295499c8fc9698"
  },
  "kernelspec": {
   "display_name": "Python 3.8.13 ('likelion')",
   "language": "python",
   "name": "python3"
  },
  "language_info": {
   "codemirror_mode": {
    "name": "ipython",
    "version": 3
   },
   "file_extension": ".py",
   "mimetype": "text/x-python",
   "name": "python",
   "nbconvert_exporter": "python",
   "pygments_lexer": "ipython3",
   "version": "3.8.13"
  },
  "orig_nbformat": 4
 },
 "nbformat": 4,
 "nbformat_minor": 2
}
