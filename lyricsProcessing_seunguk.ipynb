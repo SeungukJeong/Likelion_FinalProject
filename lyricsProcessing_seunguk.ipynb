{
 "cells": [
  {
   "cell_type": "code",
   "execution_count": 12,
   "metadata": {},
   "outputs": [],
   "source": [
    "import pandas as pd \n",
    "\n",
    "from konlpy import tag\n",
    "from konlpy.corpus import kolaw\n",
    "from konlpy.utils import pprint \n",
    "\n",
    "from hanspell import spell_checker "
   ]
  },
  {
   "cell_type": "code",
   "execution_count": 13,
   "metadata": {},
   "outputs": [],
   "source": [
    "#!pip install git+https://github.com/ssut/py-hanspell.git"
   ]
  },
  {
   "cell_type": "code",
   "execution_count": 14,
   "metadata": {},
   "outputs": [],
   "source": [
    "import platform\n",
    "\n",
    "#운영체제에 따라 mecab설치 방법이 다름.\n",
    "if platform.system() == \"Windows\":\n",
    "    try:\n",
    "        from eunjeon import Mecab\n",
    "        \n",
    "    except:\n",
    "        print(\"please install eunjeon module\")\n",
    "else:  # Ubuntu일 경우\n",
    "  try:\n",
    "    from konlpy.tag import Mecab\n",
    "  except:\n",
    "    print(\"please install Mecab\")"
   ]
  },
  {
   "cell_type": "code",
   "execution_count": 15,
   "metadata": {},
   "outputs": [],
   "source": [
    "df_balad = pd.read_excel(r'./song_scraping/balad_500songs.xlsx')\n",
    "df_dance = pd.read_excel(r'./song_scraping/dance_500songs.xlsx')\n",
    "df_fork_blues = pd.read_excel(r'./song_scraping/balad_500songs.xlsx')\n",
    "df_indi = pd.read_excel(r'./song_scraping/indi_500songs.xlsx')\n",
    "df_r_b = pd.read_excel(r'./song_scraping/r_b_500songs.xlsx')\n",
    "df_rap_hiphop = pd.read_excel(r'./song_scraping/RapHipHop_500songs.xlsx')\n",
    "df_rock_metal = pd.read_excel(r'./song_scraping/rock_metal_500songs.xlsx') \n",
    "df_trot_hiphop = pd.read_excel(r'./song_scraping/trot_500songs.xlsx')\n"
   ]
  },
  {
   "cell_type": "code",
   "execution_count": 16,
   "metadata": {},
   "outputs": [],
   "source": [
    "df_allsongs = pd.concat([df_balad, df_dance, df_fork_blues, df_indi, df_r_b, df_rap_hiphop, df_rock_metal, df_trot_hiphop])"
   ]
  },
  {
   "cell_type": "code",
   "execution_count": 17,
   "metadata": {},
   "outputs": [
    {
     "data": {
      "text/html": [
       "<div>\n",
       "<style scoped>\n",
       "    .dataframe tbody tr th:only-of-type {\n",
       "        vertical-align: middle;\n",
       "    }\n",
       "\n",
       "    .dataframe tbody tr th {\n",
       "        vertical-align: top;\n",
       "    }\n",
       "\n",
       "    .dataframe thead th {\n",
       "        text-align: right;\n",
       "    }\n",
       "</style>\n",
       "<table border=\"1\" class=\"dataframe\">\n",
       "  <thead>\n",
       "    <tr style=\"text-align: right;\">\n",
       "      <th></th>\n",
       "      <th>Title</th>\n",
       "      <th>Artist</th>\n",
       "      <th>Date</th>\n",
       "      <th>Genre</th>\n",
       "      <th>Lyric</th>\n",
       "    </tr>\n",
       "  </thead>\n",
       "  <tbody>\n",
       "    <tr>\n",
       "      <th>count</th>\n",
       "      <td>4000</td>\n",
       "      <td>4000</td>\n",
       "      <td>4000</td>\n",
       "      <td>4000</td>\n",
       "      <td>4000</td>\n",
       "    </tr>\n",
       "    <tr>\n",
       "      <th>unique</th>\n",
       "      <td>3013</td>\n",
       "      <td>865</td>\n",
       "      <td>1865</td>\n",
       "      <td>37</td>\n",
       "      <td>3204</td>\n",
       "    </tr>\n",
       "    <tr>\n",
       "      <th>top</th>\n",
       "      <td>고백</td>\n",
       "      <td>임영웅</td>\n",
       "      <td>2022.05.18</td>\n",
       "      <td>발라드</td>\n",
       "      <td>너와 함께 하고 싶은 일들을상상하는 게요즘 내 일상이 되고너의 즐거워하는 모습을 보...</td>\n",
       "    </tr>\n",
       "    <tr>\n",
       "      <th>freq</th>\n",
       "      <td>15</td>\n",
       "      <td>95</td>\n",
       "      <td>30</td>\n",
       "      <td>754</td>\n",
       "      <td>4</td>\n",
       "    </tr>\n",
       "  </tbody>\n",
       "</table>\n",
       "</div>"
      ],
      "text/plain": [
       "       Title Artist        Date Genre  \\\n",
       "count   4000   4000        4000  4000   \n",
       "unique  3013    865        1865    37   \n",
       "top       고백    임영웅  2022.05.18   발라드   \n",
       "freq      15     95          30   754   \n",
       "\n",
       "                                                    Lyric  \n",
       "count                                                4000  \n",
       "unique                                               3204  \n",
       "top     너와 함께 하고 싶은 일들을상상하는 게요즘 내 일상이 되고너의 즐거워하는 모습을 보...  \n",
       "freq                                                    4  "
      ]
     },
     "execution_count": 17,
     "metadata": {},
     "output_type": "execute_result"
    }
   ],
   "source": [
    "df_allsongs.describe()"
   ]
  },
  {
   "cell_type": "code",
   "execution_count": 18,
   "metadata": {},
   "outputs": [
    {
     "data": {
      "text/html": [
       "<div>\n",
       "<style scoped>\n",
       "    .dataframe tbody tr th:only-of-type {\n",
       "        vertical-align: middle;\n",
       "    }\n",
       "\n",
       "    .dataframe tbody tr th {\n",
       "        vertical-align: top;\n",
       "    }\n",
       "\n",
       "    .dataframe thead th {\n",
       "        text-align: right;\n",
       "    }\n",
       "</style>\n",
       "<table border=\"1\" class=\"dataframe\">\n",
       "  <thead>\n",
       "    <tr style=\"text-align: right;\">\n",
       "      <th></th>\n",
       "      <th>Title</th>\n",
       "      <th>Artist</th>\n",
       "      <th>Date</th>\n",
       "      <th>Genre</th>\n",
       "      <th>Lyric</th>\n",
       "    </tr>\n",
       "  </thead>\n",
       "  <tbody>\n",
       "    <tr>\n",
       "      <th>0</th>\n",
       "      <td>사랑인가 봐</td>\n",
       "      <td>멜로망스</td>\n",
       "      <td>2022.02.18</td>\n",
       "      <td>발라드, 국내드라마</td>\n",
       "      <td>너와 함께 하고 싶은 일들을상상하는 게요즘 내 일상이 되고너의 즐거워하는 모습을 보...</td>\n",
       "    </tr>\n",
       "    <tr>\n",
       "      <th>1</th>\n",
       "      <td>나의 X에게</td>\n",
       "      <td>경서</td>\n",
       "      <td>2022.04.24</td>\n",
       "      <td>발라드</td>\n",
       "      <td>우리 다시 만날래예쁘게 빛나던모든 추억들이너무 그리워너의 품에 안길래이 밤이 새도록...</td>\n",
       "    </tr>\n",
       "    <tr>\n",
       "      <th>2</th>\n",
       "      <td>취중고백</td>\n",
       "      <td>김민석 (멜로망스)</td>\n",
       "      <td>2021.12.19</td>\n",
       "      <td>발라드</td>\n",
       "      <td>뭐하고 있었니 늦었지만잠시 나올래너의 집 골목에 있는놀이터에 앉아 있어친구들 만나서...</td>\n",
       "    </tr>\n",
       "    <tr>\n",
       "      <th>3</th>\n",
       "      <td>사랑은 늘 도망가</td>\n",
       "      <td>임영웅</td>\n",
       "      <td>2021.10.11</td>\n",
       "      <td>발라드, 국내드라마</td>\n",
       "      <td>눈물이 난다 이 길을 걸으면그 사람 손길이 자꾸 생각이 난다붙잡지 못하고 가슴만 떨...</td>\n",
       "    </tr>\n",
       "    <tr>\n",
       "      <th>4</th>\n",
       "      <td>듣고 싶을까</td>\n",
       "      <td>MSG워너비(M.O.M)</td>\n",
       "      <td>2022.02.26</td>\n",
       "      <td>발라드</td>\n",
       "      <td>우리 함께 듣던 그 노랠 듣고 싶을까듣고 나서 잠시 날 생각은 할까아주 혹시라도 넌...</td>\n",
       "    </tr>\n",
       "    <tr>\n",
       "      <th>...</th>\n",
       "      <td>...</td>\n",
       "      <td>...</td>\n",
       "      <td>...</td>\n",
       "      <td>...</td>\n",
       "      <td>...</td>\n",
       "    </tr>\n",
       "    <tr>\n",
       "      <th>495</th>\n",
       "      <td>만약에</td>\n",
       "      <td>조항조</td>\n",
       "      <td>2020.07.31</td>\n",
       "      <td>성인가요/트로트</td>\n",
       "      <td>만약에 당신이 그 누구와 사랑에 빠지면 그 사랑을 위해서 무얼할 수 있나 텅빈세상 ...</td>\n",
       "    </tr>\n",
       "    <tr>\n",
       "      <th>496</th>\n",
       "      <td>용두산 엘레지</td>\n",
       "      <td>송가인</td>\n",
       "      <td>2021.03.21</td>\n",
       "      <td>성인가요/트로트</td>\n",
       "      <td>용두산아 용두산아너만은 변치 말자한 발 올려 맹세하고두 발 디뎌 언약하던한 계단 두...</td>\n",
       "    </tr>\n",
       "    <tr>\n",
       "      <th>497</th>\n",
       "      <td>단장의 미아리 고개</td>\n",
       "      <td>송가인</td>\n",
       "      <td>2020.12.26</td>\n",
       "      <td>성인가요/트로트</td>\n",
       "      <td>미아리 눈물고개임이 넘던 이별 고개화약 연기 앞을 가려눈 못 뜨고 헤매일 때당신은 ...</td>\n",
       "    </tr>\n",
       "    <tr>\n",
       "      <th>498</th>\n",
       "      <td>때</td>\n",
       "      <td>조항조</td>\n",
       "      <td>2016.07.13</td>\n",
       "      <td>성인가요/트로트</td>\n",
       "      <td>낮춰야 할 때는 낮춰야하고 물러나야 할 때는 물러나야지 오르고 오르면 끝이 있듯이 ...</td>\n",
       "    </tr>\n",
       "    <tr>\n",
       "      <th>499</th>\n",
       "      <td>도찐개찐</td>\n",
       "      <td>김의영</td>\n",
       "      <td>2021.02.26</td>\n",
       "      <td>성인가요/트로트</td>\n",
       "      <td>사랑하다 헤어지고 좋아하다 미워하고 돌고도는 세상살이가 돌고도는 인생살이가 왜이리 ...</td>\n",
       "    </tr>\n",
       "  </tbody>\n",
       "</table>\n",
       "<p>4000 rows × 5 columns</p>\n",
       "</div>"
      ],
      "text/plain": [
       "          Title         Artist        Date       Genre  \\\n",
       "0        사랑인가 봐           멜로망스  2022.02.18  발라드, 국내드라마   \n",
       "1        나의 X에게             경서  2022.04.24         발라드   \n",
       "2          취중고백     김민석 (멜로망스)  2021.12.19         발라드   \n",
       "3     사랑은 늘 도망가            임영웅  2021.10.11  발라드, 국내드라마   \n",
       "4        듣고 싶을까  MSG워너비(M.O.M)  2022.02.26         발라드   \n",
       "..          ...            ...         ...         ...   \n",
       "495         만약에            조항조  2020.07.31    성인가요/트로트   \n",
       "496     용두산 엘레지            송가인  2021.03.21    성인가요/트로트   \n",
       "497  단장의 미아리 고개            송가인  2020.12.26    성인가요/트로트   \n",
       "498           때            조항조  2016.07.13    성인가요/트로트   \n",
       "499        도찐개찐            김의영  2021.02.26    성인가요/트로트   \n",
       "\n",
       "                                                 Lyric  \n",
       "0    너와 함께 하고 싶은 일들을상상하는 게요즘 내 일상이 되고너의 즐거워하는 모습을 보...  \n",
       "1    우리 다시 만날래예쁘게 빛나던모든 추억들이너무 그리워너의 품에 안길래이 밤이 새도록...  \n",
       "2    뭐하고 있었니 늦었지만잠시 나올래너의 집 골목에 있는놀이터에 앉아 있어친구들 만나서...  \n",
       "3    눈물이 난다 이 길을 걸으면그 사람 손길이 자꾸 생각이 난다붙잡지 못하고 가슴만 떨...  \n",
       "4    우리 함께 듣던 그 노랠 듣고 싶을까듣고 나서 잠시 날 생각은 할까아주 혹시라도 넌...  \n",
       "..                                                 ...  \n",
       "495  만약에 당신이 그 누구와 사랑에 빠지면 그 사랑을 위해서 무얼할 수 있나 텅빈세상 ...  \n",
       "496  용두산아 용두산아너만은 변치 말자한 발 올려 맹세하고두 발 디뎌 언약하던한 계단 두...  \n",
       "497  미아리 눈물고개임이 넘던 이별 고개화약 연기 앞을 가려눈 못 뜨고 헤매일 때당신은 ...  \n",
       "498  낮춰야 할 때는 낮춰야하고 물러나야 할 때는 물러나야지 오르고 오르면 끝이 있듯이 ...  \n",
       "499  사랑하다 헤어지고 좋아하다 미워하고 돌고도는 세상살이가 돌고도는 인생살이가 왜이리 ...  \n",
       "\n",
       "[4000 rows x 5 columns]"
      ]
     },
     "execution_count": 18,
     "metadata": {},
     "output_type": "execute_result"
    }
   ],
   "source": [
    "df_allsongs"
   ]
  },
  {
   "cell_type": "code",
   "execution_count": 19,
   "metadata": {},
   "outputs": [
    {
     "data": {
      "text/plain": [
       "'우리 다시 만날래예쁘게 빛나던모든 추억들이너무 그리워너의 품에 안길래이 밤이 새도록네게 말할 거야너를 좋아한다고안녕 그대야요즘 어떻게 지내가로수길 걷다가생각이 나서행복해 보이는 사람들 속에우리 둘만 없어서어색했었어늘 집에 갈 땐항상 뒤돌아보면날 보며 웃어주던네가 생각났어우리 다시 만날래예쁘게 빛나던모든 추억들이너무 그리워너의 품에 안길래이 밤이 새도록네게 말할 거야너를 좋아한다고토요일마다 가던한강공원에이어폰 하나씩나눠끼고서벚꽃엔딩같이 듣고 있으면부러울 게 없었어너만 있으면널 사랑할 때내가 너무 그리워날 보며 웃어주던네가 보고 싶어우리 다시 만날래예쁘게 빛나던모든 추억들이너무 그리워너의 품에 안길래이 밤이 새도록네게 말할 거야너를 좋아한다고같이 별 보러 갈래널 다시 만나면네 옆에 기대서잠들고 싶어너의 품에 안길래이 밤이 새도록내 곁에 있어줘내겐 너뿐이라고'"
      ]
     },
     "execution_count": 19,
     "metadata": {},
     "output_type": "execute_result"
    }
   ],
   "source": [
    "test = df_allsongs['Lyric'].iloc[1]\n",
    "test"
   ]
  },
  {
   "cell_type": "code",
   "execution_count": 20,
   "metadata": {},
   "outputs": [
    {
     "name": "stdout",
     "output_type": "stream",
     "text": [
      "우리다시만날래예쁘게빛나던모든추억들이너무그리워너의품에안길래이밤이새도록네게말할거야너를좋아한다고안녕그대야요즘어떻게지내가로수길걷다가생각이나서행복해보이는사람들속에우리둘만없어서어색했었어늘집에갈땐항상뒤돌아보면날보며웃어주던네가생각났어우리다시만날래예쁘게빛나던모든추억들이너무그리워너의품에안길래이밤이새도록네게말할거야너를좋아한다고토요일마다가던한강공원에이어폰하나씩나눠끼고서벚꽃엔딩같이듣고있으면부러울게없었어너만있으면널사랑할때내가너무그리워날보며웃어주던네가보고싶어우리다시만날래예쁘게빛나던모든추억들이너무그리워너의품에안길래이밤이새도록네게말할거야너를좋아한다고같이별보러갈래널다시만나면네옆에기대서잠들고싶어너의품에안길래이밤이새도록내곁에있어줘내겐너뿐이라고\n"
     ]
    }
   ],
   "source": [
    "test_nospace = test.replace(\" \", '') \n",
    "print(test_nospace)"
   ]
  },
  {
   "cell_type": "code",
   "execution_count": 21,
   "metadata": {},
   "outputs": [
    {
     "name": "stdout",
     "output_type": "stream",
     "text": [
      "우리 다시 만날래 예쁘게 빛나던 모든 추억들이 너무 그리워 너의 품에 안길래 이 밤이 새도록 네게 말할 거야 너를 좋아한다고 안녕 그대야 요즘 어떻게 지내 가로수길 걷다가 생각이 나서 행복해 보이는 사람들 속에 우리 둘만 없어서 어색했었어 늘 집에 갈 땐 항상 뒤돌아보면 날 보며 웃어주던 네가 생각났어 우리 다시 만날래 예쁘게 빛나던 모든 추억들이 너무 그리워 너의 품에 안길래 이 밤이 새도록 네게 말할 거야 너를 좋아한다고 토요일마다 가던 한강공원에 이어폰 하나씩 나눠 끼고서 벚꽃엔딩같이 듣고 있으면 부러울 게 없었어 너만 있으면 널 사랑할 때 내가 너무 그리워 날 보며 웃어주던 네가 보고 싶어 우리 다시 만날래 예쁘게 빛나던 모든 추억들이 너무 그리워 너의 품에 안길래 이 밤이 새도록 네게 말할 거야 너를 좋아한다고 같이 별 보러 갈래 널 다시 만나면 네 옆에 기대서 잠들고 싶어 너의 품에 안길래 이 밤이 새도록 내 곁에 있어줘 내겐 너뿐이라고\n"
     ]
    }
   ],
   "source": [
    "from hanspell import spell_checker \n",
    "\n",
    "spelled_test = spell_checker.check(test_nospace) \n",
    "\n",
    "hanspell_test = spelled_test.checked\n",
    "print(hanspell_test)"
   ]
  },
  {
   "cell_type": "code",
   "execution_count": 22,
   "metadata": {},
   "outputs": [
    {
     "data": {
      "text/plain": [
       "'우리 다시 만날래예쁘게 빛나던모든 추억들이너무 그리워너의 품에 안길래이 밤이 새도록네게 말할 거야너를 좋아한다고안녕 그대야요즘 어떻게 지내가로수길 걷다가생각이 나서행복해 보이는 사람들 속에우리 둘만 없어서어색했었어늘 집에 갈 땐항상 뒤돌아보면날 보며 웃어주던네가 생각났어우리 다시 만날래예쁘게 빛나던모든 추억들이너무 그리워너의 품에 안길래이 밤이 새도록네게 말할 거야너를 좋아한다고토요일마다 가던한강공원에이어폰 하나씩나눠끼고서벚꽃엔딩같이 듣고 있으면부러울 게 없었어너만 있으면널 사랑할 때내가 너무 그리워날 보며 웃어주던네가 보고 싶어우리 다시 만날래예쁘게 빛나던모든 추억들이너무 그리워너의 품에 안길래이 밤이 새도록네게 말할 거야너를 좋아한다고같이 별 보러 갈래널 다시 만나면네 옆에 기대서잠들고 싶어너의 품에 안길래이 밤이 새도록내 곁에 있어줘내겐 너뿐이라고'"
      ]
     },
     "execution_count": 22,
     "metadata": {},
     "output_type": "execute_result"
    }
   ],
   "source": [
    "test"
   ]
  },
  {
   "cell_type": "code",
   "execution_count": 23,
   "metadata": {},
   "outputs": [
    {
     "name": "stdout",
     "output_type": "stream",
     "text": [
      "[0.002s][warning][os,thread] Attempt to protect stack guard pages failed (0x000000016d410000-0x000000016d41c000).\n",
      "[0.002s][warning][os,thread] Attempt to deallocate stack guard pages failed.\n",
      "['우리', '다시', '만날', '래', '예쁘게', '빛나던', '모든', '추억', '들', '이', '너무', '그리워', '너', '의', '품', '에', '안길', '래', '이', '밤', '이', '새', '도록', '네', '게', '말', '할', '거', '야', '너', '를', '좋아한다고', '안녕', '그대', '야', '요즘', '어떻게', '지', '내', '가로수길', '걷다가', '생각', '이', '나서', '행복해', '보이는', '사람', '들', '속', '에', '우리', '둘', '만', '없어서', '어색했었어', '늘', '집', '에', '갈', '땐', '항상', '뒤', '돌아보면', '날', '보며', '웃어주던네', '가', '생각났', '어우리', '다시', '만날', '래', '예쁘게', '빛나던', '모든', '추억', '들', '이', '너무', '그리워', '너', '의', '품', '에', '안길', '래', '이', '밤', '이', '새', '도록', '네', '게', '말', '할', '거', '야', '너', '를', '좋아한다고', '토요일', '마다', '가던', '한강', '공원', '에', '이어폰', '하나', '씩', '나눠', '끼고서', '벚꽃', '엔딩', '같이', '듣고', '있으면', '부러울', '게', '없었어', '너', '만', '있으면', '널', '사랑', '할', '때내', '가', '너무', '그리워', '날', '보며', '웃어주던네', '가', '보고', '싶어우리', '다시', '만날', '래', '예쁘게', '빛나던', '모든', '추억', '들', '이', '너무', '그리워', '너', '의', '품', '에', '안길', '래', '이', '밤', '이', '새', '도록', '네', '게', '말', '할', '거', '야', '너', '를', '좋아한다고같이', '별', '보러', '갈래', '널', '다시', '만나면네', '옆', '에', '기대서', '잠들고', '싶어', '너', '의', '품', '에', '안길', '래', '이', '밤', '이', '새', '도록', '내', '곁', '에', '있어줘', '내', '겐', '너뿐이', '라고']\n"
     ]
    }
   ],
   "source": [
    "from konlpy.tag import Okt\n",
    "tokenizer = Okt()\n",
    "print(tokenizer.morphs(test))"
   ]
  },
  {
   "cell_type": "markdown",
   "metadata": {},
   "source": [
    "# soynlp를 이용한 단어 토큰화"
   ]
  },
  {
   "cell_type": "markdown",
   "metadata": {},
   "source": [
    "기존의 형태소 분석기는 신조어나 형태소 분석기에 등록되지 않은 단어 같은 경우에는 제대로 구분하지 못하는 단점"
   ]
  },
  {
   "cell_type": "code",
   "execution_count": 24,
   "metadata": {},
   "outputs": [
    {
     "name": "stdout",
     "output_type": "stream",
     "text": [
      "['에이', '비식스', '이대', '휘', '1월', '최애', '돌', '기부', '요정']\n"
     ]
    }
   ],
   "source": [
    "print(tokenizer.morphs('에이비식스 이대휘 1월 최애돌 기부 요정'))"
   ]
  },
  {
   "cell_type": "code",
   "execution_count": 25,
   "metadata": {},
   "outputs": [],
   "source": [
    "import urllib.request \n",
    "from soynlp import DoublespaceLineCorpus \n",
    "from soynlp.word import WordExtractor "
   ]
  },
  {
   "cell_type": "code",
   "execution_count": 26,
   "metadata": {},
   "outputs": [
    {
     "data": {
      "text/plain": [
       "('2016-10-20.txt', <http.client.HTTPMessage at 0x1178eb1c0>)"
      ]
     },
     "execution_count": 26,
     "metadata": {},
     "output_type": "execute_result"
    }
   ],
   "source": [
    "urllib.request.urlretrieve(\"https://raw.githubusercontent.com/lovit/soynlp/master/tutorials/2016-10-20.txt\", filename=\"2016-10-20.txt\")"
   ]
  },
  {
   "cell_type": "code",
   "execution_count": 27,
   "metadata": {},
   "outputs": [
    {
     "data": {
      "text/plain": [
       "30091"
      ]
     },
     "execution_count": 27,
     "metadata": {},
     "output_type": "execute_result"
    }
   ],
   "source": [
    "# 훈련 데이터를 다수의 문서로 분리\n",
    "corpus = DoublespaceLineCorpus(\"2016-10-20.txt\")\n",
    "len(corpus)"
   ]
  },
  {
   "cell_type": "code",
   "execution_count": 28,
   "metadata": {},
   "outputs": [
    {
     "name": "stdout",
     "output_type": "stream",
     "text": [
      "19  1990  52 1 22\n",
      "오패산터널 총격전 용의자 검거 서울 연합뉴스 경찰 관계자들이 19일 오후 서울 강북구 오패산 터널 인근에서 사제 총기를 발사해 경찰을 살해한 용의자 성모씨를 검거하고 있다 성씨는 검거 당시 서바이벌 게임에서 쓰는 방탄조끼에 헬멧까지 착용한 상태였다 독자제공 영상 캡처 연합뉴스  서울 연합뉴스 김은경 기자 사제 총기로 경찰을 살해한 범인 성모 46 씨는 주도면밀했다  경찰에 따르면 성씨는 19일 오후 강북경찰서 인근 부동산 업소 밖에서 부동산업자 이모 67 씨가 나오기를 기다렸다 이씨와는 평소에도 말다툼을 자주 한 것으로 알려졌다  이씨가 나와 걷기 시작하자 성씨는 따라가면서 미리 준비해온 사제 총기를 이씨에게 발사했다 총알이 빗나가면서 이씨는 도망갔다 그 빗나간 총알은 지나가던 행인 71 씨의 배를 스쳤다  성씨는 강북서 인근 치킨집까지 이씨 뒤를 쫓으며 실랑이하다 쓰러뜨린 후 총기와 함께 가져온 망치로 이씨 머리를 때렸다  이 과정에서 오후 6시 20분께 강북구 번동 길 위에서 사람들이 싸우고 있다 총소리가 났다 는 등의 신고가 여러건 들어왔다  5분 후에 성씨의 전자발찌가 훼손됐다는 신고가 보호관찰소 시스템을 통해 들어왔다 성범죄자로 전자발찌를 차고 있던 성씨는 부엌칼로 직접 자신의 발찌를 끊었다  용의자 소지 사제총기 2정 서울 연합뉴스 임헌정 기자 서울 시내에서 폭행 용의자가 현장 조사를 벌이던 경찰관에게 사제총기를 발사해 경찰관이 숨졌다 19일 오후 6시28분 강북구 번동에서 둔기로 맞았다 는 폭행 피해 신고가 접수돼 현장에서 조사하던 강북경찰서 번동파출소 소속 김모 54 경위가 폭행 용의자 성모 45 씨가 쏜 사제총기에 맞고 쓰러진 뒤 병원에 옮겨졌으나 숨졌다 사진은 용의자가 소지한 사제총기  신고를 받고 번동파출소에서 김창호 54 경위 등 경찰들이 오후 6시 29분께 현장으로 출동했다 성씨는 그사이 부동산 앞에 놓아뒀던 가방을 챙겨 오패산 쪽으로 도망간 후였다  김 경위는 오패산 터널 입구 오른쪽의 급경사에서 성씨에게 접근하다가 오후 6시 33분께 풀숲에 숨은 성씨가 허공에 난사한 10여발의 총알 중 일부를 왼쪽 어깨 뒷부분에 맞고 쓰러졌다  김 경위는 구급차가 도착했을 때 이미 의식이 없었고 심폐소생술을 하며 병원으로 옮겨졌으나 총알이 폐를 훼손해 오후 7시 40분께 사망했다  김 경위는 외근용 조끼를 입고 있었으나 총알을 막기에는 역부족이었다  머리에 부상을 입은 이씨도 함께 병원으로 이송됐으나 생명에는 지장이 없는 것으로 알려졌다  성씨는 오패산 터널 밑쪽 숲에서 오후 6시 45분께 잡혔다  총격현장 수색하는 경찰들 서울 연합뉴스 이효석 기자 19일 오후 서울 강북구 오패산 터널 인근에서 경찰들이 폭행 용의자가 사제총기를 발사해 경찰관이 사망한 사건을 조사 하고 있다  총 때문에 쫓던 경관들과 민간인들이 몸을 숨겼는데 인근 신발가게 직원 이모씨가 다가가 성씨를 덮쳤고 이어 현장에 있던 다른 상인들과 경찰이 가세해 체포했다  성씨는 경찰에 붙잡힌 직후 나 자살하려고 한 거다 맞아 죽어도 괜찮다 고 말한 것으로 전해졌다  성씨 자신도 경찰이 발사한 공포탄 1발 실탄 3발 중 실탄 1발을 배에 맞았으나 방탄조끼를 입은 상태여서 부상하지는 않았다  경찰은 인근을 수색해 성씨가 만든 사제총 16정과 칼 7개를 압수했다 실제 폭발할지는 알 수 없는 요구르트병에 무언가를 채워두고 심지를 꽂은 사제 폭탄도 발견됐다  일부는 숲에서 발견됐고 일부는 성씨가 소지한 가방 안에 있었다\n",
      "테헤란 연합뉴스 강훈상 특파원 이용 승객수 기준 세계 최대 공항인 아랍에미리트 두바이국제공항은 19일 현지시간 이 공항을 이륙하는 모든 항공기의 탑승객은 삼성전자의 갤럭시노트7을 휴대하면 안 된다고 밝혔다  두바이국제공항은 여러 항공 관련 기구의 권고에 따라 안전성에 우려가 있는 스마트폰 갤럭시노트7을 휴대하고 비행기를 타면 안 된다 며 탑승 전 검색 중 발견되면 압수할 계획 이라고 발표했다  공항 측은 갤럭시노트7의 배터리가 폭발 우려가 제기된 만큼 이 제품을 갖고 공항 안으로 들어오지 말라고 이용객에 당부했다  이런 조치는 두바이국제공항 뿐 아니라 신공항인 두바이월드센터에도 적용된다  배터리 폭발문제로 회수된 갤럭시노트7 연합뉴스자료사진\n"
     ]
    }
   ],
   "source": [
    "i = 0\n",
    "for document in corpus:\n",
    "  if len(document) > 0:\n",
    "    print(document)\n",
    "    i = i+1\n",
    "  if i == 3:\n",
    "    break"
   ]
  },
  {
   "cell_type": "markdown",
   "metadata": {},
   "source": [
    "soynlp는 학습 기반의 단어 토크나이저이므로 기존의 KoNLPy에서 제공하는 형태소 분석기들과는 달리 학습 과정을 거쳐야 합니다."
   ]
  },
  {
   "cell_type": "code",
   "execution_count": 29,
   "metadata": {},
   "outputs": [
    {
     "name": "stdout",
     "output_type": "stream",
     "text": [
      "training was done. used memory 1.271 Gb\n",
      "all cohesion probabilities was computed. # words = 223348\n",
      "all branching entropies was computed # words = 361598\n",
      "all accessor variety was computed # words = 361598\n"
     ]
    }
   ],
   "source": [
    "# 전체 코퍼스로부터 응집 확률과 브랜칭 엔트로피 단어 점수표를 만드는 과정 \n",
    "\n",
    "word_extractor = WordExtractor() \n",
    "word_extractor.train(corpus)\n",
    "word_score_table = word_extractor.extract() "
   ]
  },
  {
   "cell_type": "markdown",
   "metadata": {},
   "source": [
    "3. SOYNLP의 응집 확률(cohesion probability)\n",
    "응집 확률 : 내부 문자열(substring)이 얼마나 응집하여 자주 등장하는지를 판단하는 척도\n"
   ]
  },
  {
   "cell_type": "code",
   "execution_count": 30,
   "metadata": {},
   "outputs": [
    {
     "data": {
      "text/plain": [
       "0.37891487632839754"
      ]
     },
     "execution_count": 30,
     "metadata": {},
     "output_type": "execute_result"
    }
   ],
   "source": [
    "word_score_table[\"반포한강공원\"].cohesion_forward"
   ]
  },
  {
   "cell_type": "code",
   "execution_count": 31,
   "metadata": {},
   "outputs": [
    {
     "data": {
      "text/plain": [
       "0.08838002913645132"
      ]
     },
     "execution_count": 31,
     "metadata": {},
     "output_type": "execute_result"
    }
   ],
   "source": [
    "word_score_table[\"반포한\"].cohesion_forward"
   ]
  },
  {
   "cell_type": "markdown",
   "metadata": {},
   "source": [
    "4. SOYNLP의 브랜칭 엔트로피(branching entropy)"
   ]
  },
  {
   "cell_type": "code",
   "execution_count": 32,
   "metadata": {},
   "outputs": [
    {
     "data": {
      "text/plain": [
       "1.6371694761537934"
      ]
     },
     "execution_count": 32,
     "metadata": {},
     "output_type": "execute_result"
    }
   ],
   "source": [
    "word_score_table[\"디스\"].right_branching_entropy"
   ]
  },
  {
   "cell_type": "markdown",
   "metadata": {},
   "source": [
    "5. SOYNLP의 L tokenizer"
   ]
  },
  {
   "cell_type": "markdown",
   "metadata": {},
   "source": [
    "L 토크나이저는 L 토큰 + R 토큰으로 나누되, 분리 기준을 점수가 가장 높은 L 토큰을 찾아내는 원리 <br>\n",
    "예를 들어서 '공원에'는 '공원 + 에'로 나눌 수 있겠지요. 또는 '공부하는'은 '공부 + 하는'"
   ]
  },
  {
   "cell_type": "code",
   "execution_count": 33,
   "metadata": {},
   "outputs": [
    {
     "data": {
      "text/plain": [
       "[('국제사회', '와'), ('우리', '의'), ('노력', '들로'), ('범죄', '를'), ('척결', '하자')]"
      ]
     },
     "execution_count": 33,
     "metadata": {},
     "output_type": "execute_result"
    }
   ],
   "source": [
    "from soynlp.tokenizer import LTokenizer \n",
    "scores = {word:score.cohesion_forward for word, score in word_score_table.items()}\n",
    "l_tokenizer = LTokenizer(scores=scores)\n",
    "l_tokenizer.tokenize(\"국제사회와 우리의 노력들로 범죄를 척결하자\", flatten=False)"
   ]
  },
  {
   "cell_type": "code",
   "execution_count": 34,
   "metadata": {},
   "outputs": [
    {
     "data": {
      "text/plain": [
       "[('우리', ''),\n",
       " ('다시', ''),\n",
       " ('만날래예쁘게', ''),\n",
       " ('빛나', '던모든'),\n",
       " ('추억들이너무', ''),\n",
       " ('그리', '워너의'),\n",
       " ('품에', ''),\n",
       " ('안길래이', ''),\n",
       " ('밤이', ''),\n",
       " ('새도록네게', ''),\n",
       " ('말할', ''),\n",
       " ('거야너를', ''),\n",
       " ('좋아한다', '고안녕'),\n",
       " ('그대야요즘', ''),\n",
       " ('어떻게', ''),\n",
       " ('지내가로수길', ''),\n",
       " ('걷다', '가생각이'),\n",
       " ('나서', '행복해'),\n",
       " ('보이는', ''),\n",
       " ('사람들', ''),\n",
       " ('속에', '우리'),\n",
       " ('둘만', ''),\n",
       " ('없어서', '어색했었어늘'),\n",
       " ('집에', ''),\n",
       " ('갈', ''),\n",
       " ('땐항상', ''),\n",
       " ('뒤돌아', '보면날'),\n",
       " ('보며', ''),\n",
       " ('웃어주', '던네가'),\n",
       " ('생각', '났어우리'),\n",
       " ('다시', ''),\n",
       " ('만날래예쁘게', ''),\n",
       " ('빛나', '던모든'),\n",
       " ('추억들이너무', ''),\n",
       " ('그리', '워너의'),\n",
       " ('품에', ''),\n",
       " ('안길래이', ''),\n",
       " ('밤이', ''),\n",
       " ('새도록네게', ''),\n",
       " ('말할', ''),\n",
       " ('거야너를', ''),\n",
       " ('좋아한다', '고토요일마다'),\n",
       " ('가던한강공원에이어폰', ''),\n",
       " ('하나', '씩나눠끼고서벚꽃엔딩같이'),\n",
       " ('듣고', ''),\n",
       " ('있으면', '부러울'),\n",
       " ('게', ''),\n",
       " ('없었', '어너만'),\n",
       " ('있으면', '널'),\n",
       " ('사랑', '할'),\n",
       " ('때내가', ''),\n",
       " ('너무', ''),\n",
       " ('그리', '워날'),\n",
       " ('보며', ''),\n",
       " ('웃어주', '던네가'),\n",
       " ('보고', ''),\n",
       " ('싶어', '우리'),\n",
       " ('다시', ''),\n",
       " ('만날래예쁘게', ''),\n",
       " ('빛나', '던모든'),\n",
       " ('추억들이너무', ''),\n",
       " ('그리', '워너의'),\n",
       " ('품에', ''),\n",
       " ('안길래이', ''),\n",
       " ('밤이', ''),\n",
       " ('새도록네게', ''),\n",
       " ('말할', ''),\n",
       " ('거야너를', ''),\n",
       " ('좋아한다', '고같이'),\n",
       " ('별', ''),\n",
       " ('보러', ''),\n",
       " ('갈래널', ''),\n",
       " ('다시', ''),\n",
       " ('만나', '면네'),\n",
       " ('옆에', ''),\n",
       " ('기대서잠들고', ''),\n",
       " ('싶어', '너의'),\n",
       " ('품에', ''),\n",
       " ('안길래이', ''),\n",
       " ('밤이', ''),\n",
       " ('새도록내', ''),\n",
       " ('곁에', ''),\n",
       " ('있어줘내겐', ''),\n",
       " ('너뿐이라고', '')]"
      ]
     },
     "execution_count": 34,
     "metadata": {},
     "output_type": "execute_result"
    }
   ],
   "source": [
    "l_tokenizer.tokenize(test, flatten=False)"
   ]
  },
  {
   "cell_type": "code",
   "execution_count": 35,
   "metadata": {},
   "outputs": [
    {
     "data": {
      "text/plain": [
       "[('우리', ''),\n",
       " ('다시', ''),\n",
       " ('만날래', ''),\n",
       " ('예쁘게', ''),\n",
       " ('빛나', '던'),\n",
       " ('모든', ''),\n",
       " ('추억들이', ''),\n",
       " ('너무', ''),\n",
       " ('그리', '워'),\n",
       " ('너의', ''),\n",
       " ('품에', ''),\n",
       " ('안길래', ''),\n",
       " ('이', ''),\n",
       " ('밤이', ''),\n",
       " ('새도록', ''),\n",
       " ('네게', ''),\n",
       " ('말할', ''),\n",
       " ('거야', ''),\n",
       " ('너를', ''),\n",
       " ('좋아한다', '고'),\n",
       " ('안녕', ''),\n",
       " ('그대야', ''),\n",
       " ('요즘', ''),\n",
       " ('어떻게', ''),\n",
       " ('지내', ''),\n",
       " ('가로수길', ''),\n",
       " ('걷다', '가'),\n",
       " ('생각', '이'),\n",
       " ('나서', ''),\n",
       " ('행복', '해'),\n",
       " ('보이는', ''),\n",
       " ('사람들', ''),\n",
       " ('속에', ''),\n",
       " ('우리', ''),\n",
       " ('둘만', ''),\n",
       " ('없어서', ''),\n",
       " ('어색했었어', ''),\n",
       " ('늘', ''),\n",
       " ('집에', ''),\n",
       " ('갈', ''),\n",
       " ('땐', ''),\n",
       " ('항상', ''),\n",
       " ('뒤돌아', '보면'),\n",
       " ('날', ''),\n",
       " ('보며', ''),\n",
       " ('웃어주', '던'),\n",
       " ('네가', ''),\n",
       " ('생각', '났어'),\n",
       " ('우리', ''),\n",
       " ('다시', ''),\n",
       " ('만날래', ''),\n",
       " ('예쁘게', ''),\n",
       " ('빛나', '던'),\n",
       " ('모든', ''),\n",
       " ('추억들이', ''),\n",
       " ('너무', ''),\n",
       " ('그리', '워'),\n",
       " ('너의', ''),\n",
       " ('품에', ''),\n",
       " ('안길래', ''),\n",
       " ('이', ''),\n",
       " ('밤이', ''),\n",
       " ('새도록', ''),\n",
       " ('네게', ''),\n",
       " ('말할', ''),\n",
       " ('거야', ''),\n",
       " ('너를', ''),\n",
       " ('좋아한다', '고'),\n",
       " ('토요일마다', ''),\n",
       " ('가던', ''),\n",
       " ('한강공원에', ''),\n",
       " ('이어', '폰'),\n",
       " ('하나', '씩'),\n",
       " ('나눠', ''),\n",
       " ('끼고', '서'),\n",
       " ('벚꽃', '엔딩같이'),\n",
       " ('듣고', ''),\n",
       " ('있으면', ''),\n",
       " ('부러울', ''),\n",
       " ('게', ''),\n",
       " ('없었', '어'),\n",
       " ('너만', ''),\n",
       " ('있으면', ''),\n",
       " ('널', ''),\n",
       " ('사랑', '할'),\n",
       " ('때', ''),\n",
       " ('내가', ''),\n",
       " ('너무', ''),\n",
       " ('그리', '워'),\n",
       " ('날', ''),\n",
       " ('보며', ''),\n",
       " ('웃어주', '던'),\n",
       " ('네가', ''),\n",
       " ('보고', ''),\n",
       " ('싶어', ''),\n",
       " ('우리', ''),\n",
       " ('다시', ''),\n",
       " ('만날래', ''),\n",
       " ('예쁘게', ''),\n",
       " ('빛나', '던'),\n",
       " ('모든', ''),\n",
       " ('추억들이', ''),\n",
       " ('너무', ''),\n",
       " ('그리', '워'),\n",
       " ('너의', ''),\n",
       " ('품에', ''),\n",
       " ('안길래', ''),\n",
       " ('이', ''),\n",
       " ('밤이', ''),\n",
       " ('새도록', ''),\n",
       " ('네게', ''),\n",
       " ('말할', ''),\n",
       " ('거야', ''),\n",
       " ('너를', ''),\n",
       " ('좋아한다', '고'),\n",
       " ('같이', ''),\n",
       " ('별', ''),\n",
       " ('보러', ''),\n",
       " ('갈래', ''),\n",
       " ('널', ''),\n",
       " ('다시', ''),\n",
       " ('만나', '면'),\n",
       " ('네', ''),\n",
       " ('옆에', ''),\n",
       " ('기대서', ''),\n",
       " ('잠들고', ''),\n",
       " ('싶어', ''),\n",
       " ('너의', ''),\n",
       " ('품에', ''),\n",
       " ('안길래', ''),\n",
       " ('이', ''),\n",
       " ('밤이', ''),\n",
       " ('새도록', ''),\n",
       " ('내', ''),\n",
       " ('곁에', ''),\n",
       " ('있어줘', ''),\n",
       " ('내겐', ''),\n",
       " ('너뿐이라고', '')]"
      ]
     },
     "execution_count": 35,
     "metadata": {},
     "output_type": "execute_result"
    }
   ],
   "source": [
    "l_tokenizer.tokenize(hanspell_test, flatten=False)"
   ]
  },
  {
   "cell_type": "markdown",
   "metadata": {},
   "source": [
    "6. 최대 점수 토크나이저"
   ]
  },
  {
   "cell_type": "code",
   "execution_count": 36,
   "metadata": {},
   "outputs": [
    {
     "data": {
      "text/plain": [
       "['우리',\n",
       " '다시',\n",
       " '만날래예쁘게',\n",
       " '빛나',\n",
       " '던',\n",
       " '모든',\n",
       " '추억들이',\n",
       " '너무',\n",
       " '그리',\n",
       " '워너',\n",
       " '의품에안길래이밤이새',\n",
       " '도록네게말할거야너를',\n",
       " '좋아한다',\n",
       " '고안녕그대야',\n",
       " '요즘',\n",
       " '어떻게',\n",
       " '지내',\n",
       " '가로수길',\n",
       " '걷다',\n",
       " '가',\n",
       " '생각',\n",
       " '이',\n",
       " '나서',\n",
       " '행복',\n",
       " '해',\n",
       " '보이는',\n",
       " '사람들',\n",
       " '속에',\n",
       " '우리',\n",
       " '둘만',\n",
       " '없어서',\n",
       " '어색했었어늘',\n",
       " '집에',\n",
       " '갈땐',\n",
       " '항상',\n",
       " '뒤',\n",
       " '돌아',\n",
       " '보면날보며',\n",
       " '웃어주',\n",
       " '던네가',\n",
       " '생각',\n",
       " '났어',\n",
       " '우리',\n",
       " '다시',\n",
       " '만날래예쁘게',\n",
       " '빛나',\n",
       " '던',\n",
       " '모든',\n",
       " '추억들이',\n",
       " '너무',\n",
       " '그리',\n",
       " '워너',\n",
       " '의품에안길래이밤이새',\n",
       " '도록네게말할거야너를',\n",
       " '좋아한다',\n",
       " '고',\n",
       " '토요일마다',\n",
       " '가던',\n",
       " '한강공원에',\n",
       " '이어',\n",
       " '폰',\n",
       " '하나',\n",
       " '씩나눠',\n",
       " '끼고',\n",
       " '서',\n",
       " '벚꽃',\n",
       " '엔딩',\n",
       " '같이',\n",
       " '듣고',\n",
       " '있으면',\n",
       " '부러울게',\n",
       " '없었',\n",
       " '어너만',\n",
       " '있으면',\n",
       " '널',\n",
       " '사랑',\n",
       " '할때',\n",
       " '내가',\n",
       " '너무',\n",
       " '그리',\n",
       " '워날보며',\n",
       " '웃어주',\n",
       " '던네가',\n",
       " '보고',\n",
       " '싶어',\n",
       " '우리',\n",
       " '다시',\n",
       " '만날래예쁘게',\n",
       " '빛나',\n",
       " '던',\n",
       " '모든',\n",
       " '추억들이',\n",
       " '너무',\n",
       " '그리',\n",
       " '워너',\n",
       " '의품에안길래이밤이새',\n",
       " '도록네게말할거야너를',\n",
       " '좋아한다',\n",
       " '고',\n",
       " '같이',\n",
       " '별보러갈래널',\n",
       " '다시',\n",
       " '만나',\n",
       " '면네',\n",
       " '옆에',\n",
       " '기대서잠',\n",
       " '들고',\n",
       " '싶어',\n",
       " '너의품에안길래이밤이',\n",
       " '새도록내',\n",
       " '곁에',\n",
       " '있어줘내겐너',\n",
       " '뿐이',\n",
       " '라고']"
      ]
     },
     "execution_count": 36,
     "metadata": {},
     "output_type": "execute_result"
    }
   ],
   "source": [
    "from soynlp.tokenizer import MaxScoreTokenizer\n",
    "\n",
    "maxscore_tokenizer = MaxScoreTokenizer(scores=scores)\n",
    "maxscore_tokenizer.tokenize(test_nospace)"
   ]
  },
  {
   "cell_type": "markdown",
   "metadata": {},
   "source": [
    "# 5. Customized KoNLPy"
   ]
  },
  {
   "cell_type": "code",
   "execution_count": 37,
   "metadata": {},
   "outputs": [
    {
     "name": "stderr",
     "output_type": "stream",
     "text": [
      "/opt/homebrew/Caskroom/miniforge/base/envs/likelion/lib/python3.8/site-packages/konlpy/tag/_okt.py:17: UserWarning: \"Twitter\" has changed to \"Okt\" since KoNLPy v0.4.5.\n",
      "  warn('\"Twitter\" has changed to \"Okt\" since KoNLPy v0.4.5.')\n"
     ]
    },
    {
     "data": {
      "text/plain": [
       "['은', '경이', '는', '사무실', '로', '갔습니다', '.']"
      ]
     },
     "execution_count": 37,
     "metadata": {},
     "output_type": "execute_result"
    }
   ],
   "source": [
    "from ckonlpy.tag import Twitter\n",
    "twitter = Twitter()\n",
    "twitter.morphs('은경이는 사무실로 갔습니다.')"
   ]
  },
  {
   "cell_type": "code",
   "execution_count": 38,
   "metadata": {},
   "outputs": [],
   "source": [
    "twitter.add_dictionary('은경이', 'Noun')"
   ]
  },
  {
   "cell_type": "code",
   "execution_count": 39,
   "metadata": {},
   "outputs": [
    {
     "data": {
      "text/plain": [
       "['은경이', '는', '사무실', '로', '갔습니다', '.']"
      ]
     },
     "execution_count": 39,
     "metadata": {},
     "output_type": "execute_result"
    }
   ],
   "source": [
    "twitter.morphs('은경이는 사무실로 갔습니다.')"
   ]
  },
  {
   "cell_type": "markdown",
   "metadata": {},
   "source": [
    "# 네이버 영화리뷰데이터 감성분류 참고 노래가사 감성분류하기"
   ]
  },
  {
   "cell_type": "markdown",
   "metadata": {},
   "source": []
  }
 ],
 "metadata": {
  "interpreter": {
   "hash": "766ec0f0f499bb43cc89274c2b0098b93484f36b6fb087dcfa295499c8fc9698"
  },
  "kernelspec": {
   "display_name": "Python 3.8.13 ('likelion')",
   "language": "python",
   "name": "python3"
  },
  "language_info": {
   "codemirror_mode": {
    "name": "ipython",
    "version": 3
   },
   "file_extension": ".py",
   "mimetype": "text/x-python",
   "name": "python",
   "nbconvert_exporter": "python",
   "pygments_lexer": "ipython3",
   "version": "3.8.13"
  },
  "orig_nbformat": 4
 },
 "nbformat": 4,
 "nbformat_minor": 2
}
