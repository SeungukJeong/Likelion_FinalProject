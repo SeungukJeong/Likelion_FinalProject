{
 "cells": [
  {
   "cell_type": "code",
   "execution_count": 1,
   "metadata": {},
   "outputs": [],
   "source": [
    "from bs4 import BeautifulSoup\n",
    "from selenium import webdriver\n",
    "import requests\n",
    "\n",
    "import numpy as np\n",
    "import pandas as pd\n",
    "import time\n",
    "import re \n",
    "\n",
    "from IPython.display import Image\n",
    "\n",
    "#Word cloud\n",
    "# from wordcloud import WordCloud\n",
    "import matplotlib.pyplot as plt\n",
    "from PIL import Image # 만약 \"No module named 'PIL'\" 에러가 발생하면 [ pip install Pillow==5.4.1 ] 로 라이브러리를 설치해줍니다.\n",
    "from nltk.corpus import stopwords\n",
    "\n",
    "\n",
    "# 유사도 분석\n",
    "from sklearn.feature_extraction.text import TfidfVectorizer\n",
    "from sklearn.metrics.pairwise import cosine_similarity\n",
    "\n",
    "#텍스트 분석\n",
    "# from konlpy.tag import Okt\n",
    "# okt = Okt()"
   ]
  },
  {
   "cell_type": "markdown",
   "metadata": {},
   "source": [
    "# 1. Preprocessing "
   ]
  },
  {
   "cell_type": "markdown",
   "metadata": {},
   "source": [
    "## 1-1)  SongID 크롤링 \n",
    "\n",
    "Chrome Driver path 만 변경하면 됨!"
   ]
  },
  {
   "cell_type": "code",
   "execution_count": 2,
   "metadata": {},
   "outputs": [
    {
     "name": "stderr",
     "output_type": "stream",
     "text": [
      "/var/folders/rz/3h16f8bd5s36k1xv36vgkl1m0000gn/T/ipykernel_35668/95016978.py:8: DeprecationWarning: executable_path has been deprecated, please pass in a Service object\n",
      "  driver = webdriver.Chrome(executable_path='/opt/homebrew/bin/chromedriver') # chrome driver path 만 설정!!\n"
     ]
    },
    {
     "ename": "KeyboardInterrupt",
     "evalue": "",
     "output_type": "error",
     "traceback": [
      "\u001b[0;31m---------------------------------------------------------------------------\u001b[0m",
      "\u001b[0;31mKeyboardInterrupt\u001b[0m                         Traceback (most recent call last)",
      "\u001b[1;32m/Users/seunguk/Documents/likelion/final_seunguk/melon_scraping_seunguk.ipynb Cell 4'\u001b[0m in \u001b[0;36m<cell line: 15>\u001b[0;34m()\u001b[0m\n\u001b[1;32m     <a href='vscode-notebook-cell:/Users/seunguk/Documents/likelion/final_seunguk/melon_scraping_seunguk.ipynb#ch0000004?line=18'>19</a>\u001b[0m \u001b[39mfor\u001b[39;00m start_idx \u001b[39min\u001b[39;00m \u001b[39mrange\u001b[39m(\u001b[39m1\u001b[39m,\u001b[39m452\u001b[39m,\u001b[39m50\u001b[39m):\n\u001b[1;32m     <a href='vscode-notebook-cell:/Users/seunguk/Documents/likelion/final_seunguk/melon_scraping_seunguk.ipynb#ch0000004?line=19'>20</a>\u001b[0m     songlist_url \u001b[39m=\u001b[39m \u001b[39m'\u001b[39m\u001b[39mhttps://www.melon.com/genre/song_list.htm?steadyYn=Y&gnrCode=\u001b[39m\u001b[39m'\u001b[39m\u001b[39m+\u001b[39m gnrcode \\\n\u001b[1;32m     <a href='vscode-notebook-cell:/Users/seunguk/Documents/likelion/final_seunguk/melon_scraping_seunguk.ipynb#ch0000004?line=20'>21</a>\u001b[0m     \u001b[39m+\u001b[39m \u001b[39m'\u001b[39m\u001b[39m&dtlGnrCode=#params[gnrCode]=\u001b[39m\u001b[39m'\u001b[39m \u001b[39m+\u001b[39m gnrcode \\\n\u001b[1;32m     <a href='vscode-notebook-cell:/Users/seunguk/Documents/likelion/final_seunguk/melon_scraping_seunguk.ipynb#ch0000004?line=21'>22</a>\u001b[0m     \u001b[39m+\u001b[39m \u001b[39m'\u001b[39m\u001b[39m&params[dtlGnrCode]=&params[orderBy]=POP&params[steadyYn]=N&po=pageObj\u001b[39m\u001b[39m'\u001b[39m \\\n\u001b[1;32m     <a href='vscode-notebook-cell:/Users/seunguk/Documents/likelion/final_seunguk/melon_scraping_seunguk.ipynb#ch0000004?line=22'>23</a>\u001b[0m     \u001b[39m+\u001b[39m \u001b[39m'\u001b[39m\u001b[39m&startIndex=\u001b[39m\u001b[39m'\u001b[39m \u001b[39m+\u001b[39m \u001b[39mstr\u001b[39m(start_idx)\n\u001b[0;32m---> <a href='vscode-notebook-cell:/Users/seunguk/Documents/likelion/final_seunguk/melon_scraping_seunguk.ipynb#ch0000004?line=24'>25</a>\u001b[0m     driver\u001b[39m.\u001b[39;49mget(songlist_url)\n\u001b[1;32m     <a href='vscode-notebook-cell:/Users/seunguk/Documents/likelion/final_seunguk/melon_scraping_seunguk.ipynb#ch0000004?line=25'>26</a>\u001b[0m     time\u001b[39m.\u001b[39msleep(\u001b[39m1\u001b[39m)\n\u001b[1;32m     <a href='vscode-notebook-cell:/Users/seunguk/Documents/likelion/final_seunguk/melon_scraping_seunguk.ipynb#ch0000004?line=26'>27</a>\u001b[0m     web \u001b[39m=\u001b[39m driver\u001b[39m.\u001b[39mpage_source\n",
      "File \u001b[0;32m/opt/homebrew/Caskroom/miniforge/base/envs/likelion/lib/python3.8/site-packages/selenium/webdriver/remote/webdriver.py:436\u001b[0m, in \u001b[0;36mWebDriver.get\u001b[0;34m(self, url)\u001b[0m\n\u001b[1;32m    <a href='file:///opt/homebrew/Caskroom/miniforge/base/envs/likelion/lib/python3.8/site-packages/selenium/webdriver/remote/webdriver.py?line=431'>432</a>\u001b[0m \u001b[39mdef\u001b[39;00m \u001b[39mget\u001b[39m(\u001b[39mself\u001b[39m, url: \u001b[39mstr\u001b[39m) \u001b[39m-\u001b[39m\u001b[39m>\u001b[39m \u001b[39mNone\u001b[39;00m:\n\u001b[1;32m    <a href='file:///opt/homebrew/Caskroom/miniforge/base/envs/likelion/lib/python3.8/site-packages/selenium/webdriver/remote/webdriver.py?line=432'>433</a>\u001b[0m     \u001b[39m\"\"\"\u001b[39;00m\n\u001b[1;32m    <a href='file:///opt/homebrew/Caskroom/miniforge/base/envs/likelion/lib/python3.8/site-packages/selenium/webdriver/remote/webdriver.py?line=433'>434</a>\u001b[0m \u001b[39m    Loads a web page in the current browser session.\u001b[39;00m\n\u001b[1;32m    <a href='file:///opt/homebrew/Caskroom/miniforge/base/envs/likelion/lib/python3.8/site-packages/selenium/webdriver/remote/webdriver.py?line=434'>435</a>\u001b[0m \u001b[39m    \"\"\"\u001b[39;00m\n\u001b[0;32m--> <a href='file:///opt/homebrew/Caskroom/miniforge/base/envs/likelion/lib/python3.8/site-packages/selenium/webdriver/remote/webdriver.py?line=435'>436</a>\u001b[0m     \u001b[39mself\u001b[39;49m\u001b[39m.\u001b[39;49mexecute(Command\u001b[39m.\u001b[39;49mGET, {\u001b[39m'\u001b[39;49m\u001b[39murl\u001b[39;49m\u001b[39m'\u001b[39;49m: url})\n",
      "File \u001b[0;32m/opt/homebrew/Caskroom/miniforge/base/envs/likelion/lib/python3.8/site-packages/selenium/webdriver/remote/webdriver.py:422\u001b[0m, in \u001b[0;36mWebDriver.execute\u001b[0;34m(self, driver_command, params)\u001b[0m\n\u001b[1;32m    <a href='file:///opt/homebrew/Caskroom/miniforge/base/envs/likelion/lib/python3.8/site-packages/selenium/webdriver/remote/webdriver.py?line=418'>419</a>\u001b[0m         params[\u001b[39m'\u001b[39m\u001b[39msessionId\u001b[39m\u001b[39m'\u001b[39m] \u001b[39m=\u001b[39m \u001b[39mself\u001b[39m\u001b[39m.\u001b[39msession_id\n\u001b[1;32m    <a href='file:///opt/homebrew/Caskroom/miniforge/base/envs/likelion/lib/python3.8/site-packages/selenium/webdriver/remote/webdriver.py?line=420'>421</a>\u001b[0m params \u001b[39m=\u001b[39m \u001b[39mself\u001b[39m\u001b[39m.\u001b[39m_wrap_value(params)\n\u001b[0;32m--> <a href='file:///opt/homebrew/Caskroom/miniforge/base/envs/likelion/lib/python3.8/site-packages/selenium/webdriver/remote/webdriver.py?line=421'>422</a>\u001b[0m response \u001b[39m=\u001b[39m \u001b[39mself\u001b[39;49m\u001b[39m.\u001b[39;49mcommand_executor\u001b[39m.\u001b[39;49mexecute(driver_command, params)\n\u001b[1;32m    <a href='file:///opt/homebrew/Caskroom/miniforge/base/envs/likelion/lib/python3.8/site-packages/selenium/webdriver/remote/webdriver.py?line=422'>423</a>\u001b[0m \u001b[39mif\u001b[39;00m response:\n\u001b[1;32m    <a href='file:///opt/homebrew/Caskroom/miniforge/base/envs/likelion/lib/python3.8/site-packages/selenium/webdriver/remote/webdriver.py?line=423'>424</a>\u001b[0m     \u001b[39mself\u001b[39m\u001b[39m.\u001b[39merror_handler\u001b[39m.\u001b[39mcheck_response(response)\n",
      "File \u001b[0;32m/opt/homebrew/Caskroom/miniforge/base/envs/likelion/lib/python3.8/site-packages/selenium/webdriver/remote/remote_connection.py:421\u001b[0m, in \u001b[0;36mRemoteConnection.execute\u001b[0;34m(self, command, params)\u001b[0m\n\u001b[1;32m    <a href='file:///opt/homebrew/Caskroom/miniforge/base/envs/likelion/lib/python3.8/site-packages/selenium/webdriver/remote/remote_connection.py?line=418'>419</a>\u001b[0m data \u001b[39m=\u001b[39m utils\u001b[39m.\u001b[39mdump_json(params)\n\u001b[1;32m    <a href='file:///opt/homebrew/Caskroom/miniforge/base/envs/likelion/lib/python3.8/site-packages/selenium/webdriver/remote/remote_connection.py?line=419'>420</a>\u001b[0m url \u001b[39m=\u001b[39m \u001b[39mf\u001b[39m\u001b[39m\"\u001b[39m\u001b[39m{\u001b[39;00m\u001b[39mself\u001b[39m\u001b[39m.\u001b[39m_url\u001b[39m}\u001b[39;00m\u001b[39m{\u001b[39;00mpath\u001b[39m}\u001b[39;00m\u001b[39m\"\u001b[39m\n\u001b[0;32m--> <a href='file:///opt/homebrew/Caskroom/miniforge/base/envs/likelion/lib/python3.8/site-packages/selenium/webdriver/remote/remote_connection.py?line=420'>421</a>\u001b[0m \u001b[39mreturn\u001b[39;00m \u001b[39mself\u001b[39;49m\u001b[39m.\u001b[39;49m_request(command_info[\u001b[39m0\u001b[39;49m], url, body\u001b[39m=\u001b[39;49mdata)\n",
      "File \u001b[0;32m/opt/homebrew/Caskroom/miniforge/base/envs/likelion/lib/python3.8/site-packages/selenium/webdriver/remote/remote_connection.py:443\u001b[0m, in \u001b[0;36mRemoteConnection._request\u001b[0;34m(self, method, url, body)\u001b[0m\n\u001b[1;32m    <a href='file:///opt/homebrew/Caskroom/miniforge/base/envs/likelion/lib/python3.8/site-packages/selenium/webdriver/remote/remote_connection.py?line=439'>440</a>\u001b[0m     body \u001b[39m=\u001b[39m \u001b[39mNone\u001b[39;00m\n\u001b[1;32m    <a href='file:///opt/homebrew/Caskroom/miniforge/base/envs/likelion/lib/python3.8/site-packages/selenium/webdriver/remote/remote_connection.py?line=441'>442</a>\u001b[0m \u001b[39mif\u001b[39;00m \u001b[39mself\u001b[39m\u001b[39m.\u001b[39mkeep_alive:\n\u001b[0;32m--> <a href='file:///opt/homebrew/Caskroom/miniforge/base/envs/likelion/lib/python3.8/site-packages/selenium/webdriver/remote/remote_connection.py?line=442'>443</a>\u001b[0m     resp \u001b[39m=\u001b[39m \u001b[39mself\u001b[39;49m\u001b[39m.\u001b[39;49m_conn\u001b[39m.\u001b[39;49mrequest(method, url, body\u001b[39m=\u001b[39;49mbody, headers\u001b[39m=\u001b[39;49mheaders)\n\u001b[1;32m    <a href='file:///opt/homebrew/Caskroom/miniforge/base/envs/likelion/lib/python3.8/site-packages/selenium/webdriver/remote/remote_connection.py?line=443'>444</a>\u001b[0m     statuscode \u001b[39m=\u001b[39m resp\u001b[39m.\u001b[39mstatus\n\u001b[1;32m    <a href='file:///opt/homebrew/Caskroom/miniforge/base/envs/likelion/lib/python3.8/site-packages/selenium/webdriver/remote/remote_connection.py?line=444'>445</a>\u001b[0m \u001b[39melse\u001b[39;00m:\n",
      "File \u001b[0;32m/opt/homebrew/Caskroom/miniforge/base/envs/likelion/lib/python3.8/site-packages/urllib3/request.py:78\u001b[0m, in \u001b[0;36mRequestMethods.request\u001b[0;34m(self, method, url, fields, headers, **urlopen_kw)\u001b[0m\n\u001b[1;32m     <a href='file:///opt/homebrew/Caskroom/miniforge/base/envs/likelion/lib/python3.8/site-packages/urllib3/request.py?line=73'>74</a>\u001b[0m     \u001b[39mreturn\u001b[39;00m \u001b[39mself\u001b[39m\u001b[39m.\u001b[39mrequest_encode_url(\n\u001b[1;32m     <a href='file:///opt/homebrew/Caskroom/miniforge/base/envs/likelion/lib/python3.8/site-packages/urllib3/request.py?line=74'>75</a>\u001b[0m         method, url, fields\u001b[39m=\u001b[39mfields, headers\u001b[39m=\u001b[39mheaders, \u001b[39m*\u001b[39m\u001b[39m*\u001b[39murlopen_kw\n\u001b[1;32m     <a href='file:///opt/homebrew/Caskroom/miniforge/base/envs/likelion/lib/python3.8/site-packages/urllib3/request.py?line=75'>76</a>\u001b[0m     )\n\u001b[1;32m     <a href='file:///opt/homebrew/Caskroom/miniforge/base/envs/likelion/lib/python3.8/site-packages/urllib3/request.py?line=76'>77</a>\u001b[0m \u001b[39melse\u001b[39;00m:\n\u001b[0;32m---> <a href='file:///opt/homebrew/Caskroom/miniforge/base/envs/likelion/lib/python3.8/site-packages/urllib3/request.py?line=77'>78</a>\u001b[0m     \u001b[39mreturn\u001b[39;00m \u001b[39mself\u001b[39;49m\u001b[39m.\u001b[39;49mrequest_encode_body(\n\u001b[1;32m     <a href='file:///opt/homebrew/Caskroom/miniforge/base/envs/likelion/lib/python3.8/site-packages/urllib3/request.py?line=78'>79</a>\u001b[0m         method, url, fields\u001b[39m=\u001b[39;49mfields, headers\u001b[39m=\u001b[39;49mheaders, \u001b[39m*\u001b[39;49m\u001b[39m*\u001b[39;49murlopen_kw\n\u001b[1;32m     <a href='file:///opt/homebrew/Caskroom/miniforge/base/envs/likelion/lib/python3.8/site-packages/urllib3/request.py?line=79'>80</a>\u001b[0m     )\n",
      "File \u001b[0;32m/opt/homebrew/Caskroom/miniforge/base/envs/likelion/lib/python3.8/site-packages/urllib3/request.py:170\u001b[0m, in \u001b[0;36mRequestMethods.request_encode_body\u001b[0;34m(self, method, url, fields, headers, encode_multipart, multipart_boundary, **urlopen_kw)\u001b[0m\n\u001b[1;32m    <a href='file:///opt/homebrew/Caskroom/miniforge/base/envs/likelion/lib/python3.8/site-packages/urllib3/request.py?line=166'>167</a>\u001b[0m extra_kw[\u001b[39m\"\u001b[39m\u001b[39mheaders\u001b[39m\u001b[39m\"\u001b[39m]\u001b[39m.\u001b[39mupdate(headers)\n\u001b[1;32m    <a href='file:///opt/homebrew/Caskroom/miniforge/base/envs/likelion/lib/python3.8/site-packages/urllib3/request.py?line=167'>168</a>\u001b[0m extra_kw\u001b[39m.\u001b[39mupdate(urlopen_kw)\n\u001b[0;32m--> <a href='file:///opt/homebrew/Caskroom/miniforge/base/envs/likelion/lib/python3.8/site-packages/urllib3/request.py?line=169'>170</a>\u001b[0m \u001b[39mreturn\u001b[39;00m \u001b[39mself\u001b[39;49m\u001b[39m.\u001b[39;49murlopen(method, url, \u001b[39m*\u001b[39;49m\u001b[39m*\u001b[39;49mextra_kw)\n",
      "File \u001b[0;32m/opt/homebrew/Caskroom/miniforge/base/envs/likelion/lib/python3.8/site-packages/urllib3/poolmanager.py:376\u001b[0m, in \u001b[0;36mPoolManager.urlopen\u001b[0;34m(self, method, url, redirect, **kw)\u001b[0m\n\u001b[1;32m    <a href='file:///opt/homebrew/Caskroom/miniforge/base/envs/likelion/lib/python3.8/site-packages/urllib3/poolmanager.py?line=373'>374</a>\u001b[0m     response \u001b[39m=\u001b[39m conn\u001b[39m.\u001b[39murlopen(method, url, \u001b[39m*\u001b[39m\u001b[39m*\u001b[39mkw)\n\u001b[1;32m    <a href='file:///opt/homebrew/Caskroom/miniforge/base/envs/likelion/lib/python3.8/site-packages/urllib3/poolmanager.py?line=374'>375</a>\u001b[0m \u001b[39melse\u001b[39;00m:\n\u001b[0;32m--> <a href='file:///opt/homebrew/Caskroom/miniforge/base/envs/likelion/lib/python3.8/site-packages/urllib3/poolmanager.py?line=375'>376</a>\u001b[0m     response \u001b[39m=\u001b[39m conn\u001b[39m.\u001b[39;49murlopen(method, u\u001b[39m.\u001b[39;49mrequest_uri, \u001b[39m*\u001b[39;49m\u001b[39m*\u001b[39;49mkw)\n\u001b[1;32m    <a href='file:///opt/homebrew/Caskroom/miniforge/base/envs/likelion/lib/python3.8/site-packages/urllib3/poolmanager.py?line=377'>378</a>\u001b[0m redirect_location \u001b[39m=\u001b[39m redirect \u001b[39mand\u001b[39;00m response\u001b[39m.\u001b[39mget_redirect_location()\n\u001b[1;32m    <a href='file:///opt/homebrew/Caskroom/miniforge/base/envs/likelion/lib/python3.8/site-packages/urllib3/poolmanager.py?line=378'>379</a>\u001b[0m \u001b[39mif\u001b[39;00m \u001b[39mnot\u001b[39;00m redirect_location:\n",
      "File \u001b[0;32m/opt/homebrew/Caskroom/miniforge/base/envs/likelion/lib/python3.8/site-packages/urllib3/connectionpool.py:703\u001b[0m, in \u001b[0;36mHTTPConnectionPool.urlopen\u001b[0;34m(self, method, url, body, headers, retries, redirect, assert_same_host, timeout, pool_timeout, release_conn, chunked, body_pos, **response_kw)\u001b[0m\n\u001b[1;32m    <a href='file:///opt/homebrew/Caskroom/miniforge/base/envs/likelion/lib/python3.8/site-packages/urllib3/connectionpool.py?line=699'>700</a>\u001b[0m     \u001b[39mself\u001b[39m\u001b[39m.\u001b[39m_prepare_proxy(conn)\n\u001b[1;32m    <a href='file:///opt/homebrew/Caskroom/miniforge/base/envs/likelion/lib/python3.8/site-packages/urllib3/connectionpool.py?line=701'>702</a>\u001b[0m \u001b[39m# Make the request on the httplib connection object.\u001b[39;00m\n\u001b[0;32m--> <a href='file:///opt/homebrew/Caskroom/miniforge/base/envs/likelion/lib/python3.8/site-packages/urllib3/connectionpool.py?line=702'>703</a>\u001b[0m httplib_response \u001b[39m=\u001b[39m \u001b[39mself\u001b[39;49m\u001b[39m.\u001b[39;49m_make_request(\n\u001b[1;32m    <a href='file:///opt/homebrew/Caskroom/miniforge/base/envs/likelion/lib/python3.8/site-packages/urllib3/connectionpool.py?line=703'>704</a>\u001b[0m     conn,\n\u001b[1;32m    <a href='file:///opt/homebrew/Caskroom/miniforge/base/envs/likelion/lib/python3.8/site-packages/urllib3/connectionpool.py?line=704'>705</a>\u001b[0m     method,\n\u001b[1;32m    <a href='file:///opt/homebrew/Caskroom/miniforge/base/envs/likelion/lib/python3.8/site-packages/urllib3/connectionpool.py?line=705'>706</a>\u001b[0m     url,\n\u001b[1;32m    <a href='file:///opt/homebrew/Caskroom/miniforge/base/envs/likelion/lib/python3.8/site-packages/urllib3/connectionpool.py?line=706'>707</a>\u001b[0m     timeout\u001b[39m=\u001b[39;49mtimeout_obj,\n\u001b[1;32m    <a href='file:///opt/homebrew/Caskroom/miniforge/base/envs/likelion/lib/python3.8/site-packages/urllib3/connectionpool.py?line=707'>708</a>\u001b[0m     body\u001b[39m=\u001b[39;49mbody,\n\u001b[1;32m    <a href='file:///opt/homebrew/Caskroom/miniforge/base/envs/likelion/lib/python3.8/site-packages/urllib3/connectionpool.py?line=708'>709</a>\u001b[0m     headers\u001b[39m=\u001b[39;49mheaders,\n\u001b[1;32m    <a href='file:///opt/homebrew/Caskroom/miniforge/base/envs/likelion/lib/python3.8/site-packages/urllib3/connectionpool.py?line=709'>710</a>\u001b[0m     chunked\u001b[39m=\u001b[39;49mchunked,\n\u001b[1;32m    <a href='file:///opt/homebrew/Caskroom/miniforge/base/envs/likelion/lib/python3.8/site-packages/urllib3/connectionpool.py?line=710'>711</a>\u001b[0m )\n\u001b[1;32m    <a href='file:///opt/homebrew/Caskroom/miniforge/base/envs/likelion/lib/python3.8/site-packages/urllib3/connectionpool.py?line=712'>713</a>\u001b[0m \u001b[39m# If we're going to release the connection in ``finally:``, then\u001b[39;00m\n\u001b[1;32m    <a href='file:///opt/homebrew/Caskroom/miniforge/base/envs/likelion/lib/python3.8/site-packages/urllib3/connectionpool.py?line=713'>714</a>\u001b[0m \u001b[39m# the response doesn't need to know about the connection. Otherwise\u001b[39;00m\n\u001b[1;32m    <a href='file:///opt/homebrew/Caskroom/miniforge/base/envs/likelion/lib/python3.8/site-packages/urllib3/connectionpool.py?line=714'>715</a>\u001b[0m \u001b[39m# it will also try to release it and we'll have a double-release\u001b[39;00m\n\u001b[1;32m    <a href='file:///opt/homebrew/Caskroom/miniforge/base/envs/likelion/lib/python3.8/site-packages/urllib3/connectionpool.py?line=715'>716</a>\u001b[0m \u001b[39m# mess.\u001b[39;00m\n\u001b[1;32m    <a href='file:///opt/homebrew/Caskroom/miniforge/base/envs/likelion/lib/python3.8/site-packages/urllib3/connectionpool.py?line=716'>717</a>\u001b[0m response_conn \u001b[39m=\u001b[39m conn \u001b[39mif\u001b[39;00m \u001b[39mnot\u001b[39;00m release_conn \u001b[39melse\u001b[39;00m \u001b[39mNone\u001b[39;00m\n",
      "File \u001b[0;32m/opt/homebrew/Caskroom/miniforge/base/envs/likelion/lib/python3.8/site-packages/urllib3/connectionpool.py:449\u001b[0m, in \u001b[0;36mHTTPConnectionPool._make_request\u001b[0;34m(self, conn, method, url, timeout, chunked, **httplib_request_kw)\u001b[0m\n\u001b[1;32m    <a href='file:///opt/homebrew/Caskroom/miniforge/base/envs/likelion/lib/python3.8/site-packages/urllib3/connectionpool.py?line=443'>444</a>\u001b[0m             httplib_response \u001b[39m=\u001b[39m conn\u001b[39m.\u001b[39mgetresponse()\n\u001b[1;32m    <a href='file:///opt/homebrew/Caskroom/miniforge/base/envs/likelion/lib/python3.8/site-packages/urllib3/connectionpool.py?line=444'>445</a>\u001b[0m         \u001b[39mexcept\u001b[39;00m \u001b[39mBaseException\u001b[39;00m \u001b[39mas\u001b[39;00m e:\n\u001b[1;32m    <a href='file:///opt/homebrew/Caskroom/miniforge/base/envs/likelion/lib/python3.8/site-packages/urllib3/connectionpool.py?line=445'>446</a>\u001b[0m             \u001b[39m# Remove the TypeError from the exception chain in\u001b[39;00m\n\u001b[1;32m    <a href='file:///opt/homebrew/Caskroom/miniforge/base/envs/likelion/lib/python3.8/site-packages/urllib3/connectionpool.py?line=446'>447</a>\u001b[0m             \u001b[39m# Python 3 (including for exceptions like SystemExit).\u001b[39;00m\n\u001b[1;32m    <a href='file:///opt/homebrew/Caskroom/miniforge/base/envs/likelion/lib/python3.8/site-packages/urllib3/connectionpool.py?line=447'>448</a>\u001b[0m             \u001b[39m# Otherwise it looks like a bug in the code.\u001b[39;00m\n\u001b[0;32m--> <a href='file:///opt/homebrew/Caskroom/miniforge/base/envs/likelion/lib/python3.8/site-packages/urllib3/connectionpool.py?line=448'>449</a>\u001b[0m             six\u001b[39m.\u001b[39;49mraise_from(e, \u001b[39mNone\u001b[39;49;00m)\n\u001b[1;32m    <a href='file:///opt/homebrew/Caskroom/miniforge/base/envs/likelion/lib/python3.8/site-packages/urllib3/connectionpool.py?line=449'>450</a>\u001b[0m \u001b[39mexcept\u001b[39;00m (SocketTimeout, BaseSSLError, SocketError) \u001b[39mas\u001b[39;00m e:\n\u001b[1;32m    <a href='file:///opt/homebrew/Caskroom/miniforge/base/envs/likelion/lib/python3.8/site-packages/urllib3/connectionpool.py?line=450'>451</a>\u001b[0m     \u001b[39mself\u001b[39m\u001b[39m.\u001b[39m_raise_timeout(err\u001b[39m=\u001b[39me, url\u001b[39m=\u001b[39murl, timeout_value\u001b[39m=\u001b[39mread_timeout)\n",
      "File \u001b[0;32m<string>:3\u001b[0m, in \u001b[0;36mraise_from\u001b[0;34m(value, from_value)\u001b[0m\n",
      "File \u001b[0;32m/opt/homebrew/Caskroom/miniforge/base/envs/likelion/lib/python3.8/site-packages/urllib3/connectionpool.py:444\u001b[0m, in \u001b[0;36mHTTPConnectionPool._make_request\u001b[0;34m(self, conn, method, url, timeout, chunked, **httplib_request_kw)\u001b[0m\n\u001b[1;32m    <a href='file:///opt/homebrew/Caskroom/miniforge/base/envs/likelion/lib/python3.8/site-packages/urllib3/connectionpool.py?line=440'>441</a>\u001b[0m \u001b[39mexcept\u001b[39;00m \u001b[39mTypeError\u001b[39;00m:\n\u001b[1;32m    <a href='file:///opt/homebrew/Caskroom/miniforge/base/envs/likelion/lib/python3.8/site-packages/urllib3/connectionpool.py?line=441'>442</a>\u001b[0m     \u001b[39m# Python 3\u001b[39;00m\n\u001b[1;32m    <a href='file:///opt/homebrew/Caskroom/miniforge/base/envs/likelion/lib/python3.8/site-packages/urllib3/connectionpool.py?line=442'>443</a>\u001b[0m     \u001b[39mtry\u001b[39;00m:\n\u001b[0;32m--> <a href='file:///opt/homebrew/Caskroom/miniforge/base/envs/likelion/lib/python3.8/site-packages/urllib3/connectionpool.py?line=443'>444</a>\u001b[0m         httplib_response \u001b[39m=\u001b[39m conn\u001b[39m.\u001b[39;49mgetresponse()\n\u001b[1;32m    <a href='file:///opt/homebrew/Caskroom/miniforge/base/envs/likelion/lib/python3.8/site-packages/urllib3/connectionpool.py?line=444'>445</a>\u001b[0m     \u001b[39mexcept\u001b[39;00m \u001b[39mBaseException\u001b[39;00m \u001b[39mas\u001b[39;00m e:\n\u001b[1;32m    <a href='file:///opt/homebrew/Caskroom/miniforge/base/envs/likelion/lib/python3.8/site-packages/urllib3/connectionpool.py?line=445'>446</a>\u001b[0m         \u001b[39m# Remove the TypeError from the exception chain in\u001b[39;00m\n\u001b[1;32m    <a href='file:///opt/homebrew/Caskroom/miniforge/base/envs/likelion/lib/python3.8/site-packages/urllib3/connectionpool.py?line=446'>447</a>\u001b[0m         \u001b[39m# Python 3 (including for exceptions like SystemExit).\u001b[39;00m\n\u001b[1;32m    <a href='file:///opt/homebrew/Caskroom/miniforge/base/envs/likelion/lib/python3.8/site-packages/urllib3/connectionpool.py?line=447'>448</a>\u001b[0m         \u001b[39m# Otherwise it looks like a bug in the code.\u001b[39;00m\n\u001b[1;32m    <a href='file:///opt/homebrew/Caskroom/miniforge/base/envs/likelion/lib/python3.8/site-packages/urllib3/connectionpool.py?line=448'>449</a>\u001b[0m         six\u001b[39m.\u001b[39mraise_from(e, \u001b[39mNone\u001b[39;00m)\n",
      "File \u001b[0;32m/opt/homebrew/Caskroom/miniforge/base/envs/likelion/lib/python3.8/http/client.py:1348\u001b[0m, in \u001b[0;36mHTTPConnection.getresponse\u001b[0;34m(self)\u001b[0m\n\u001b[1;32m   <a href='file:///opt/homebrew/Caskroom/miniforge/base/envs/likelion/lib/python3.8/http/client.py?line=1345'>1346</a>\u001b[0m \u001b[39mtry\u001b[39;00m:\n\u001b[1;32m   <a href='file:///opt/homebrew/Caskroom/miniforge/base/envs/likelion/lib/python3.8/http/client.py?line=1346'>1347</a>\u001b[0m     \u001b[39mtry\u001b[39;00m:\n\u001b[0;32m-> <a href='file:///opt/homebrew/Caskroom/miniforge/base/envs/likelion/lib/python3.8/http/client.py?line=1347'>1348</a>\u001b[0m         response\u001b[39m.\u001b[39;49mbegin()\n\u001b[1;32m   <a href='file:///opt/homebrew/Caskroom/miniforge/base/envs/likelion/lib/python3.8/http/client.py?line=1348'>1349</a>\u001b[0m     \u001b[39mexcept\u001b[39;00m \u001b[39mConnectionError\u001b[39;00m:\n\u001b[1;32m   <a href='file:///opt/homebrew/Caskroom/miniforge/base/envs/likelion/lib/python3.8/http/client.py?line=1349'>1350</a>\u001b[0m         \u001b[39mself\u001b[39m\u001b[39m.\u001b[39mclose()\n",
      "File \u001b[0;32m/opt/homebrew/Caskroom/miniforge/base/envs/likelion/lib/python3.8/http/client.py:316\u001b[0m, in \u001b[0;36mHTTPResponse.begin\u001b[0;34m(self)\u001b[0m\n\u001b[1;32m    <a href='file:///opt/homebrew/Caskroom/miniforge/base/envs/likelion/lib/python3.8/http/client.py?line=313'>314</a>\u001b[0m \u001b[39m# read until we get a non-100 response\u001b[39;00m\n\u001b[1;32m    <a href='file:///opt/homebrew/Caskroom/miniforge/base/envs/likelion/lib/python3.8/http/client.py?line=314'>315</a>\u001b[0m \u001b[39mwhile\u001b[39;00m \u001b[39mTrue\u001b[39;00m:\n\u001b[0;32m--> <a href='file:///opt/homebrew/Caskroom/miniforge/base/envs/likelion/lib/python3.8/http/client.py?line=315'>316</a>\u001b[0m     version, status, reason \u001b[39m=\u001b[39m \u001b[39mself\u001b[39;49m\u001b[39m.\u001b[39;49m_read_status()\n\u001b[1;32m    <a href='file:///opt/homebrew/Caskroom/miniforge/base/envs/likelion/lib/python3.8/http/client.py?line=316'>317</a>\u001b[0m     \u001b[39mif\u001b[39;00m status \u001b[39m!=\u001b[39m CONTINUE:\n\u001b[1;32m    <a href='file:///opt/homebrew/Caskroom/miniforge/base/envs/likelion/lib/python3.8/http/client.py?line=317'>318</a>\u001b[0m         \u001b[39mbreak\u001b[39;00m\n",
      "File \u001b[0;32m/opt/homebrew/Caskroom/miniforge/base/envs/likelion/lib/python3.8/http/client.py:277\u001b[0m, in \u001b[0;36mHTTPResponse._read_status\u001b[0;34m(self)\u001b[0m\n\u001b[1;32m    <a href='file:///opt/homebrew/Caskroom/miniforge/base/envs/likelion/lib/python3.8/http/client.py?line=275'>276</a>\u001b[0m \u001b[39mdef\u001b[39;00m \u001b[39m_read_status\u001b[39m(\u001b[39mself\u001b[39m):\n\u001b[0;32m--> <a href='file:///opt/homebrew/Caskroom/miniforge/base/envs/likelion/lib/python3.8/http/client.py?line=276'>277</a>\u001b[0m     line \u001b[39m=\u001b[39m \u001b[39mstr\u001b[39m(\u001b[39mself\u001b[39;49m\u001b[39m.\u001b[39;49mfp\u001b[39m.\u001b[39;49mreadline(_MAXLINE \u001b[39m+\u001b[39;49m \u001b[39m1\u001b[39;49m), \u001b[39m\"\u001b[39m\u001b[39miso-8859-1\u001b[39m\u001b[39m\"\u001b[39m)\n\u001b[1;32m    <a href='file:///opt/homebrew/Caskroom/miniforge/base/envs/likelion/lib/python3.8/http/client.py?line=277'>278</a>\u001b[0m     \u001b[39mif\u001b[39;00m \u001b[39mlen\u001b[39m(line) \u001b[39m>\u001b[39m _MAXLINE:\n\u001b[1;32m    <a href='file:///opt/homebrew/Caskroom/miniforge/base/envs/likelion/lib/python3.8/http/client.py?line=278'>279</a>\u001b[0m         \u001b[39mraise\u001b[39;00m LineTooLong(\u001b[39m\"\u001b[39m\u001b[39mstatus line\u001b[39m\u001b[39m\"\u001b[39m)\n",
      "File \u001b[0;32m/opt/homebrew/Caskroom/miniforge/base/envs/likelion/lib/python3.8/socket.py:669\u001b[0m, in \u001b[0;36mSocketIO.readinto\u001b[0;34m(self, b)\u001b[0m\n\u001b[1;32m    <a href='file:///opt/homebrew/Caskroom/miniforge/base/envs/likelion/lib/python3.8/socket.py?line=666'>667</a>\u001b[0m \u001b[39mwhile\u001b[39;00m \u001b[39mTrue\u001b[39;00m:\n\u001b[1;32m    <a href='file:///opt/homebrew/Caskroom/miniforge/base/envs/likelion/lib/python3.8/socket.py?line=667'>668</a>\u001b[0m     \u001b[39mtry\u001b[39;00m:\n\u001b[0;32m--> <a href='file:///opt/homebrew/Caskroom/miniforge/base/envs/likelion/lib/python3.8/socket.py?line=668'>669</a>\u001b[0m         \u001b[39mreturn\u001b[39;00m \u001b[39mself\u001b[39;49m\u001b[39m.\u001b[39;49m_sock\u001b[39m.\u001b[39;49mrecv_into(b)\n\u001b[1;32m    <a href='file:///opt/homebrew/Caskroom/miniforge/base/envs/likelion/lib/python3.8/socket.py?line=669'>670</a>\u001b[0m     \u001b[39mexcept\u001b[39;00m timeout:\n\u001b[1;32m    <a href='file:///opt/homebrew/Caskroom/miniforge/base/envs/likelion/lib/python3.8/socket.py?line=670'>671</a>\u001b[0m         \u001b[39mself\u001b[39m\u001b[39m.\u001b[39m_timeout_occurred \u001b[39m=\u001b[39m \u001b[39mTrue\u001b[39;00m\n",
      "\u001b[0;31mKeyboardInterrupt\u001b[0m: "
     ]
    }
   ],
   "source": [
    "## 멜론 사이트에서 각 장르별 스테디셀러 탑500곡을 얻기위해, 4000곡에 대한 SongID 크롤링 ##\n",
    "\n",
    "# 장르명칭 및 장르코드\n",
    "list_gnrname = ['발라드','댄스','랩/힙합','R&B/Soul','인디음악','록/메탈','트로트','포크/블루스']\n",
    "list_gnrcode = ['GN0100','GN0200','GN0300','GN0400','GN0500','GN0600','GN0700','GN0800']\n",
    "\n",
    "# 크롬 드라이버\n",
    "driver = webdriver.Chrome(executable_path='/opt/homebrew/bin/chromedriver') # chrome driver path 만 설정!!\n",
    "# driver = webdriver.Chrome(executable_path='(driver) chromedriver.exe')\n",
    "\n",
    "# 전체 장르 songid 리스트\n",
    "total_song_id = []\n",
    "\n",
    "# 장르별 스테디셀러 songid 추출 for문 (8개 장르)\n",
    "for gnrcode in list_gnrcode[:8]:\n",
    "    song_id = []\n",
    "\n",
    "    # url의 startindex 변경 -> Page 변경 (10페이지, 장르당 500곡)\n",
    "    for start_idx in range(1,452,50):\n",
    "        songlist_url = 'https://www.melon.com/genre/song_list.htm?gnrCode='+ gnrcode \\\n",
    "        + '&dtlGnrCode=#params[gnrCode]=' + gnrcode \\\n",
    "        + '&params[dtlGnrCode]=&params[orderBy]=POP&params[steadyYn]=N&po=pageObj' \\\n",
    "        + '&startIndex=' + str(start_idx)\n",
    "\n",
    "        driver.get(songlist_url)\n",
    "        time.sleep(1)\n",
    "        web = driver.page_source\n",
    "        source = BeautifulSoup(web,'html.parser')\n",
    "        \n",
    "        # 노래 고유번호인 Songid를 추출\n",
    "        for song_info in source.find_all('div',{'class':'ellipsis rank01'}):\n",
    "            print(gnrcode, '크롤링 중입니다 : ', song_info.find('a')['title'][:-2])\n",
    "            id = song_info.find('a')['href']\n",
    "            id = re.findall(\"\\d+\", id)[-1]  \n",
    "            song_id.append(id)\n",
    "        print('****다음 페이지로 넘어갑니다****')\n",
    "    \n",
    "    # 전체 song_id 리스트에 append\n",
    "    total_song_id.append(song_id)\n",
    "    \n",
    "    # 하나의 장르 크롤링 완료\n",
    "    print(\"---------------------------------------------------\")\n",
    "    print(\"새로운 장르로 넘어갑니다\")\n",
    "\n",
    "print(\"---------------------------------------------------\")\n",
    "print(\"8개 장르, 스테디셀러 4000곡의 크롤링을 성공적으로 마쳤습니다!!\")\n",
    "\n",
    "driver.close()\n",
    "driver.quit()\n",
    "\n",
    "# 장르별 songid DataFrame\n",
    "df_song_id = pd.DataFrame(total_song_id)\n",
    "df_song_id = np.transpose(df_song_id)\n",
    "df_song_id.columns = list_gnrname # Column을 장르명으로 변경\n",
    "\n",
    "# 파일 저장\n",
    "file_song_id = 'SongId_8genre_4000songs.xlsx'\n",
    "df_song_id.to_excel(file_song_id, index=False, encoding='utf-8')"
   ]
  },
  {
   "cell_type": "code",
   "execution_count": 4,
   "metadata": {},
   "outputs": [
    {
     "data": {
      "text/html": [
       "<div>\n",
       "<style scoped>\n",
       "    .dataframe tbody tr th:only-of-type {\n",
       "        vertical-align: middle;\n",
       "    }\n",
       "\n",
       "    .dataframe tbody tr th {\n",
       "        vertical-align: top;\n",
       "    }\n",
       "\n",
       "    .dataframe thead th {\n",
       "        text-align: right;\n",
       "    }\n",
       "</style>\n",
       "<table border=\"1\" class=\"dataframe\">\n",
       "  <thead>\n",
       "    <tr style=\"text-align: right;\">\n",
       "      <th></th>\n",
       "      <th>발라드</th>\n",
       "      <th>댄스</th>\n",
       "      <th>랩/힙합</th>\n",
       "      <th>R&amp;B/Soul</th>\n",
       "      <th>인디음악</th>\n",
       "      <th>록/메탈</th>\n",
       "      <th>트로트</th>\n",
       "      <th>포크/블루스</th>\n",
       "    </tr>\n",
       "  </thead>\n",
       "  <tbody>\n",
       "    <tr>\n",
       "      <th>495</th>\n",
       "      <td>1902386</td>\n",
       "      <td>5785424</td>\n",
       "      <td>4330746</td>\n",
       "      <td>None</td>\n",
       "      <td>None</td>\n",
       "      <td>4682457</td>\n",
       "      <td>None</td>\n",
       "      <td>None</td>\n",
       "    </tr>\n",
       "    <tr>\n",
       "      <th>496</th>\n",
       "      <td>7872705</td>\n",
       "      <td>3956314</td>\n",
       "      <td>4011597</td>\n",
       "      <td>None</td>\n",
       "      <td>None</td>\n",
       "      <td>3981992</td>\n",
       "      <td>None</td>\n",
       "      <td>None</td>\n",
       "    </tr>\n",
       "    <tr>\n",
       "      <th>497</th>\n",
       "      <td>4152209</td>\n",
       "      <td>2218824</td>\n",
       "      <td>None</td>\n",
       "      <td>None</td>\n",
       "      <td>None</td>\n",
       "      <td>2669855</td>\n",
       "      <td>None</td>\n",
       "      <td>None</td>\n",
       "    </tr>\n",
       "    <tr>\n",
       "      <th>498</th>\n",
       "      <td>None</td>\n",
       "      <td>1765763</td>\n",
       "      <td>None</td>\n",
       "      <td>None</td>\n",
       "      <td>None</td>\n",
       "      <td>1762073</td>\n",
       "      <td>None</td>\n",
       "      <td>None</td>\n",
       "    </tr>\n",
       "    <tr>\n",
       "      <th>499</th>\n",
       "      <td>None</td>\n",
       "      <td>2688949</td>\n",
       "      <td>None</td>\n",
       "      <td>None</td>\n",
       "      <td>None</td>\n",
       "      <td>2192648</td>\n",
       "      <td>None</td>\n",
       "      <td>None</td>\n",
       "    </tr>\n",
       "  </tbody>\n",
       "</table>\n",
       "</div>"
      ],
      "text/plain": [
       "         발라드       댄스     랩/힙합 R&B/Soul  인디음악     록/메탈   트로트 포크/블루스\n",
       "495  1902386  5785424  4330746     None  None  4682457  None   None\n",
       "496  7872705  3956314  4011597     None  None  3981992  None   None\n",
       "497  4152209  2218824     None     None  None  2669855  None   None\n",
       "498     None  1765763     None     None  None  1762073  None   None\n",
       "499     None  2688949     None     None  None  2192648  None   None"
      ]
     },
     "execution_count": 4,
     "metadata": {},
     "output_type": "execute_result"
    }
   ],
   "source": [
    "df_song_id.tail()"
   ]
  },
  {
   "cell_type": "markdown",
   "metadata": {},
   "source": [
    "### 1-2) 얻은 Song ID로 제목/가수/발매일/장르/가사 scraping"
   ]
  },
  {
   "cell_type": "markdown",
   "metadata": {},
   "source": [
    "#### Test sample"
   ]
  },
  {
   "cell_type": "code",
   "execution_count": 7,
   "metadata": {},
   "outputs": [],
   "source": [
    "##Testing web scraping with sample data\n",
    "# Sample data: 아이유-스물셋 - \n",
    "songid = 7896508\n",
    "url = \"https://www.melon.com/song/detail.htm?songId=\"+ str(songid)\n",
    "\n",
    "headers = {'User-Agent':'Mozilla/5.0 (Windows NT 6.3; Win64; x64) AppleWebKit/537.36 (KHTML, like Gecko) Chrome/63.0.3239.132 Safari/537.36'}\n",
    "\n",
    "web = requests.get(url,headers=headers).content\n",
    "web_page = BeautifulSoup(web, 'html.parser')"
   ]
  },
  {
   "cell_type": "code",
   "execution_count": 8,
   "metadata": {},
   "outputs": [
    {
     "name": "stdout",
     "output_type": "stream",
     "text": [
      "스물셋 아이유 2015.10.23 댄스\n",
      "\n",
      "I'm twenty three 난 수수께끼 Question뭐게요 맞혀봐요I'm twenty three틀리지 말기 Because 난 몹시 예민해요맞혀봐한 떨기 스물셋 좀 아가씨 태가 나네다 큰 척해도 적당히 믿어줘요얄미운 스물셋아직 한참 멀었다 얘 덜 자란 척해도대충 속아줘요난 그래 확실히 지금이 좋아요 아냐 아냐사실은 때려 치고 싶어요아 알겠어요나는 사랑이 하고 싶어아니 돈이나 많이 벌래맞혀봐 어느 쪽이게얼굴만 보면 몰라속마음과 다른 표정을 짓는 일아주 간단하거든어느 쪽이게사실은 나도 몰라애초에 나는 단 한 줄의 거짓말도 쓴 적이 없거든여우인 척 하는 곰인 척하는 여우 아니면아예 다른 거어느 쪽이게뭐든 한 쪽을 골라색안경 안에 비춰지는 거뭐 이제 익숙하거든Check it out겁나는 게 없어요엉망으로 굴어도 사람들은 내게 매일 친절해요인사하는 저 여자모퉁이를 돌고도아직 웃고 있을까늘 불안해요난 영원히 아이로 남고 싶어요아니 아니물기 있는 여자가 될래요아 정했어요난 죽은 듯이 살래요아냐 다 뒤집어 볼래맞혀봐어느 쪽이게얼굴만 보면 몰라속마음과 다른 표정을 짓는 일아주 간단하거든어느 쪽이게사실은 나도 몰라애초에 나는 단 한 줄의 거짓말도 쓴 적이 없거든여우인 척 하는 곰인 척하는 여우 아니면아예 다른 거어느 쪽이게뭐든 한 쪽을 골라색안경 안에 비춰지는 거뭐 이제 익숙하거든난 당신 맘에 들고 싶어요아주 살짝만얄밉게 해도 돼요난 당신 맘에 들고 싶어요자기 머리 꼭대기 위에서놀아도 돼요맞혀봐어느 쪽이게얼굴만 보면 몰라속마음과 다른 표정을 짓는 일아주 간단하거든어느 쪽이게사실은 나도 몰라애초에 나는 단 한 줄의 거짓말도 쓴 적이 없거든여우인 척 하는 곰인 척하는 여우 아니면아예 다른 거어느 쪽이게뭐든 한 쪽을 골라색안경 안에 비춰지는 거뭐 이제 익숙하거든\n"
     ]
    }
   ],
   "source": [
    "# 제목\n",
    "title = web_page.find('div',{'class':'song_name'}).get_text().strip()\n",
    "title = title.split('\\t')[-1]\n",
    "# 가수명\n",
    "artist = web_page.find('a',{'class':'artist_name'})['title']\n",
    "# 발매일, 장르\n",
    "date_genre = web_page.find('dl',{'class':'list'}).get_text()\n",
    "date = date_genre.split('\\n')[4]\n",
    "genre = date_genre.split('\\n')[6]\n",
    "#가사\n",
    "lyric = web_page.find('div',{'class':'lyric'}).get_text().strip()\n",
    "\n",
    "print(title, artist, date, genre)\n",
    "print()\n",
    "print(lyric)"
   ]
  },
  {
   "cell_type": "markdown",
   "metadata": {},
   "source": [
    "#### 스테디셀러 4000곡 정보 가공"
   ]
  },
  {
   "cell_type": "code",
   "execution_count": 9,
   "metadata": {},
   "outputs": [
    {
     "data": {
      "text/html": [
       "<div>\n",
       "<style scoped>\n",
       "    .dataframe tbody tr th:only-of-type {\n",
       "        vertical-align: middle;\n",
       "    }\n",
       "\n",
       "    .dataframe tbody tr th {\n",
       "        vertical-align: top;\n",
       "    }\n",
       "\n",
       "    .dataframe thead th {\n",
       "        text-align: right;\n",
       "    }\n",
       "</style>\n",
       "<table border=\"1\" class=\"dataframe\">\n",
       "  <thead>\n",
       "    <tr style=\"text-align: right;\">\n",
       "      <th></th>\n",
       "      <th>발라드</th>\n",
       "      <th>댄스</th>\n",
       "      <th>랩/힙합</th>\n",
       "      <th>R&amp;B/Soul</th>\n",
       "      <th>인디음악</th>\n",
       "      <th>록/메탈</th>\n",
       "      <th>트로트</th>\n",
       "      <th>포크/블루스</th>\n",
       "    </tr>\n",
       "  </thead>\n",
       "  <tbody>\n",
       "    <tr>\n",
       "      <th>0</th>\n",
       "      <td>3414749.0</td>\n",
       "      <td>3053259</td>\n",
       "      <td>3853980.0</td>\n",
       "      <td>5523623.0</td>\n",
       "      <td>4264561.0</td>\n",
       "      <td>3753304</td>\n",
       "      <td>2710613.0</td>\n",
       "      <td>4264561.0</td>\n",
       "    </tr>\n",
       "    <tr>\n",
       "      <th>1</th>\n",
       "      <td>4383833.0</td>\n",
       "      <td>7896508</td>\n",
       "      <td>5650996.0</td>\n",
       "      <td>19807.0</td>\n",
       "      <td>5466962.0</td>\n",
       "      <td>3620493</td>\n",
       "      <td>844269.0</td>\n",
       "      <td>5466962.0</td>\n",
       "    </tr>\n",
       "    <tr>\n",
       "      <th>2</th>\n",
       "      <td>1944399.0</td>\n",
       "      <td>3051244</td>\n",
       "      <td>1850253.0</td>\n",
       "      <td>1139741.0</td>\n",
       "      <td>3620493.0</td>\n",
       "      <td>1833966</td>\n",
       "      <td>3896698.0</td>\n",
       "      <td>5605860.0</td>\n",
       "    </tr>\n",
       "    <tr>\n",
       "      <th>3</th>\n",
       "      <td>4579468.0</td>\n",
       "      <td>1325050</td>\n",
       "      <td>531840.0</td>\n",
       "      <td>3910821.0</td>\n",
       "      <td>4451155.0</td>\n",
       "      <td>4451155</td>\n",
       "      <td>5716847.0</td>\n",
       "      <td>5700639.0</td>\n",
       "    </tr>\n",
       "    <tr>\n",
       "      <th>4</th>\n",
       "      <td>4475939.0</td>\n",
       "      <td>3625504</td>\n",
       "      <td>2312253.0</td>\n",
       "      <td>519620.0</td>\n",
       "      <td>5694902.0</td>\n",
       "      <td>837567</td>\n",
       "      <td>844268.0</td>\n",
       "      <td>4583482.0</td>\n",
       "    </tr>\n",
       "  </tbody>\n",
       "</table>\n",
       "</div>"
      ],
      "text/plain": [
       "         발라드       댄스       랩/힙합   R&B/Soul       인디음악     록/메탈        트로트  \\\n",
       "0  3414749.0  3053259  3853980.0  5523623.0  4264561.0  3753304  2710613.0   \n",
       "1  4383833.0  7896508  5650996.0    19807.0  5466962.0  3620493   844269.0   \n",
       "2  1944399.0  3051244  1850253.0  1139741.0  3620493.0  1833966  3896698.0   \n",
       "3  4579468.0  1325050   531840.0  3910821.0  4451155.0  4451155  5716847.0   \n",
       "4  4475939.0  3625504  2312253.0   519620.0  5694902.0   837567   844268.0   \n",
       "\n",
       "      포크/블루스  \n",
       "0  4264561.0  \n",
       "1  5466962.0  \n",
       "2  5605860.0  \n",
       "3  5700639.0  \n",
       "4  4583482.0  "
      ]
     },
     "execution_count": 9,
     "metadata": {},
     "output_type": "execute_result"
    }
   ],
   "source": [
    "# 장르별 songid 파일 \n",
    "df_genre_songid = pd.read_excel('SongId_8genre_4000songs.xlsx') \n",
    "df_genre_songid.head() "
   ]
  },
  {
   "cell_type": "markdown",
   "metadata": {},
   "source": [
    "### 1-3) Web scraping 프로세스 함수화: genre_songid_to_info 함수\n",
    "#### 해당장르에 속하는 곡들의 곡정보를 '장르명_500songs.xlsx'로 저장 -> 8개 탑500곡 장르 파일 저장 완료!"
   ]
  },
  {
   "cell_type": "markdown",
   "metadata": {},
   "source": [
    "### 8개 장르마다 Dataframe 생성하는 함수: songid_to_info 함수\n",
    "#### Songid들이 들어있는 '리스트'를 넣어주면 곡정보 dataframe으로 변환"
   ]
  },
  {
   "cell_type": "code",
   "execution_count": 25,
   "metadata": {},
   "outputs": [],
   "source": [
    "def songid_to_info(songlist):\n",
    "    #변수 담을 리스트들 생성\n",
    "    titles = []\n",
    "    artists = []\n",
    "    dates = []\n",
    "    genres = []\n",
    "    lyrics = []\n",
    "\n",
    "    #곡 정보 받아오기\n",
    "    idx=0\n",
    "    for songid in songlist[:10]:\n",
    "        url = \"https://www.melon.com/song/detail.htm?songId=\"+ str(songid)\n",
    "\n",
    "        headers = {'User-Agent':'Mozilla/5.0 (Windows NT 6.3; Win64; x64) AppleWebKit/537.36 (KHTML, like Gecko) Chrome/63.0.3239.132 Safari/537.36'}\n",
    "        web = requests.get(url,headers=headers).content\n",
    "        web_page = BeautifulSoup(web, 'html.parser')\n",
    "\n",
    "        #노래 제목\n",
    "        title = web_page.find('div',{'class':'song_name'}).get_text().strip().split('\\t')[-1]\n",
    "        #title = title.split('(')[0].strip() # (feat.) 등 제거\n",
    "        titles.append(title)\n",
    "        #가수명\n",
    "        artist = web_page.find('a',{'class':'artist_name'})['title']\n",
    "        artists.append(artist)\n",
    "        #곡 발매일, 장르\n",
    "        date_genre = web_page.find('dl',{'class':'list'}).get_text()\n",
    "        date = date_genre.split('\\n')[4]\n",
    "        genre = date_genre.split('\\n')[6]\n",
    "        dates.append(date)\n",
    "        genres.append(genre)\n",
    "        #가사\n",
    "        try: \n",
    "            lyric = web_page.find('div',{'class':'lyric'}).get_text().strip()\n",
    "            lyrics.append(lyric)\n",
    "        except: # 성인인증이 필요한 경우 스크래핑 불가 -> 가사 생략\n",
    "            print('----{} : 성인인증이 필요한 가사입니다----'.format(title))\n",
    "            lyrics.append('.')\n",
    "\n",
    "        idx += 1 #다음곡으로 넘어가기\n",
    "        print(idx, '번째곡 크롤링 완료 :', title)\n",
    "\n",
    "    info_dict = {'Title':titles, \n",
    "                 'Artist':artists, \n",
    "                 'Date':dates, \n",
    "                 'Genre':genres, \n",
    "                 'Lyric':lyrics}\n",
    "\n",
    "    df_song_info = pd.DataFrame(info_dict)\n",
    "    return df_song_info"
   ]
  },
  {
   "cell_type": "code",
   "execution_count": 34,
   "metadata": {},
   "outputs": [
    {
     "name": "stdout",
     "output_type": "stream",
     "text": [
      "1 번째곡 크롤링 완료 : 미리 메리 크리스마스 (Feat. 천둥 Of MBLAQ)\n",
      "2 번째곡 크롤링 완료 : 스물셋\n",
      "3 번째곡 크롤링 완료 : 좋은 날\n",
      "4 번째곡 크롤링 완료 : 비행기\n",
      "5 번째곡 크롤링 완료 : 너랑 나\n",
      "6 번째곡 크롤링 완료 : 하루 끝\n",
      "7 번째곡 크롤링 완료 : 거짓말 (Remix)\n",
      "8 번째곡 크롤링 완료 : SHAKE IT\n",
      "9 번째곡 크롤링 완료 : 오늘부터 우리는 (Me Gustas Tu)\n",
      "10 번째곡 크롤링 완료 : I Don't Care\n"
     ]
    },
    {
     "data": {
      "text/html": [
       "<div>\n",
       "<style scoped>\n",
       "    .dataframe tbody tr th:only-of-type {\n",
       "        vertical-align: middle;\n",
       "    }\n",
       "\n",
       "    .dataframe tbody tr th {\n",
       "        vertical-align: top;\n",
       "    }\n",
       "\n",
       "    .dataframe thead th {\n",
       "        text-align: right;\n",
       "    }\n",
       "</style>\n",
       "<table border=\"1\" class=\"dataframe\">\n",
       "  <thead>\n",
       "    <tr style=\"text-align: right;\">\n",
       "      <th></th>\n",
       "      <th>Title</th>\n",
       "      <th>Artist</th>\n",
       "      <th>Date</th>\n",
       "      <th>Genre</th>\n",
       "      <th>Lyric</th>\n",
       "    </tr>\n",
       "  </thead>\n",
       "  <tbody>\n",
       "    <tr>\n",
       "      <th>5</th>\n",
       "      <td>하루 끝</td>\n",
       "      <td>아이유</td>\n",
       "      <td>2012.05.11</td>\n",
       "      <td>댄스</td>\n",
       "      <td>Monday Better day처음처럼 설레이는 그런 날Sunday Better d...</td>\n",
       "    </tr>\n",
       "    <tr>\n",
       "      <th>6</th>\n",
       "      <td>거짓말 (Remix)</td>\n",
       "      <td>BIGBANG (빅뱅)</td>\n",
       "      <td>2008.11.05</td>\n",
       "      <td>댄스</td>\n",
       "      <td>거짓말늦은 밤 비가 내려와 널 데려와젖은 기억 끝에 뒤척여 나너 없이 잘 살 수 있...</td>\n",
       "    </tr>\n",
       "    <tr>\n",
       "      <th>7</th>\n",
       "      <td>SHAKE IT</td>\n",
       "      <td>씨스타</td>\n",
       "      <td>2015.06.22</td>\n",
       "      <td>댄스</td>\n",
       "      <td>너만을 유혹하는 춤 우우우 우우우우심장에 매력 발산 중 우우우 우우우우손끝만 스쳐도...</td>\n",
       "    </tr>\n",
       "    <tr>\n",
       "      <th>8</th>\n",
       "      <td>오늘부터 우리는 (Me Gustas Tu)</td>\n",
       "      <td>여자친구 (GFRIEND)</td>\n",
       "      <td>2015.07.23</td>\n",
       "      <td>댄스</td>\n",
       "      <td>널 향한 설레임을오늘부터 우리는 꿈꾸며 기도하는오늘부터 우리는저 바람에 노을 빛내 ...</td>\n",
       "    </tr>\n",
       "    <tr>\n",
       "      <th>9</th>\n",
       "      <td>I Don't Care</td>\n",
       "      <td>2NE1</td>\n",
       "      <td>2009.07.08</td>\n",
       "      <td>댄스</td>\n",
       "      <td>hey playboyit's about time and your time's upI...</td>\n",
       "    </tr>\n",
       "  </tbody>\n",
       "</table>\n",
       "</div>"
      ],
      "text/plain": [
       "                     Title          Artist        Date Genre  \\\n",
       "5                     하루 끝             아이유  2012.05.11    댄스   \n",
       "6              거짓말 (Remix)    BIGBANG (빅뱅)  2008.11.05    댄스   \n",
       "7                 SHAKE IT             씨스타  2015.06.22    댄스   \n",
       "8  오늘부터 우리는 (Me Gustas Tu)  여자친구 (GFRIEND)  2015.07.23    댄스   \n",
       "9             I Don't Care            2NE1  2009.07.08    댄스   \n",
       "\n",
       "                                               Lyric  \n",
       "5  Monday Better day처음처럼 설레이는 그런 날Sunday Better d...  \n",
       "6  거짓말늦은 밤 비가 내려와 널 데려와젖은 기억 끝에 뒤척여 나너 없이 잘 살 수 있...  \n",
       "7  너만을 유혹하는 춤 우우우 우우우우심장에 매력 발산 중 우우우 우우우우손끝만 스쳐도...  \n",
       "8  널 향한 설레임을오늘부터 우리는 꿈꾸며 기도하는오늘부터 우리는저 바람에 노을 빛내 ...  \n",
       "9  hey playboyit's about time and your time's upI...  "
      ]
     },
     "execution_count": 34,
     "metadata": {},
     "output_type": "execute_result"
    }
   ],
   "source": [
    "df_댄스 = songid_to_info(df_genre_songid['댄스'])\n",
    "df_댄스.tail()"
   ]
  },
  {
   "cell_type": "code",
   "execution_count": 29,
   "metadata": {},
   "outputs": [],
   "source": [
    "def genre_songid_to_info(genre_name): \n",
    "    start = time.time()\n",
    "\n",
    "    print('-------------------------------------------------------------------------')\n",
    "    print('[{}] 장르 크롤링 시작합니다'.format(genre_name))\n",
    "    \n",
    "    songlist = df_genre_songid[genre_name].tolist()\n",
    "    df_genre_songid_to_info = songid_to_info(songlist)\n",
    "    \n",
    "    filename = \"test_500songs.xlsx\".format(genre_name.split('/')[0]) \n",
    "    df_genre_songid_to_info.to_excel(filename, index=False, encoding='utf-8')\n",
    "\n",
    "    print(\"크롤링 완료!! 엑셀 파일을 확인하세요!\")\n",
    "\n",
    "    print()\n",
    "    print(round((time.time()-start)/60,2), '분 소요')\n",
    "    return df_genre_songid_to_info.head()\n",
    "\n"
   ]
  },
  {
   "cell_type": "markdown",
   "metadata": {},
   "source": [
    "### 1-4) 장르별로 Top 500곡 Title/Artist/Date/Genre/Lyric: Web Crawling  "
   ]
  },
  {
   "cell_type": "code",
   "execution_count": 33,
   "metadata": {},
   "outputs": [
    {
     "name": "stdout",
     "output_type": "stream",
     "text": [
      "-------------------------------------------------------------------------\n",
      "[랩/힙합] 장르 크롤링 시작합니다\n"
     ]
    },
    {
     "ename": "AttributeError",
     "evalue": "'NoneType' object has no attribute 'get_text'",
     "output_type": "error",
     "traceback": [
      "\u001b[0;31m---------------------------------------------------------------------------\u001b[0m",
      "\u001b[0;31mAttributeError\u001b[0m                            Traceback (most recent call last)",
      "\u001b[1;32m/Users/seunguk/Documents/likelion/final_seunguk/melon_scraping_seunguk.ipynb Cell 18'\u001b[0m in \u001b[0;36m<cell line: 5>\u001b[0;34m()\u001b[0m\n\u001b[1;32m      <a href='vscode-notebook-cell:/Users/seunguk/Documents/likelion/final_seunguk/melon_scraping_seunguk.ipynb#ch0000017?line=1'>2</a>\u001b[0m \u001b[39m#발라드 크롤링\u001b[39;00m\n\u001b[1;32m      <a href='vscode-notebook-cell:/Users/seunguk/Documents/likelion/final_seunguk/melon_scraping_seunguk.ipynb#ch0000017?line=2'>3</a>\u001b[0m gnr_selected \u001b[39m=\u001b[39m list_gnrname[\u001b[39m2\u001b[39m] \u001b[39m# 정보 원하는 장르 선택\u001b[39;00m\n\u001b[0;32m----> <a href='vscode-notebook-cell:/Users/seunguk/Documents/likelion/final_seunguk/melon_scraping_seunguk.ipynb#ch0000017?line=4'>5</a>\u001b[0m genre_songid_to_info(gnr_selected)\n",
      "\u001b[1;32m/Users/seunguk/Documents/likelion/final_seunguk/melon_scraping_seunguk.ipynb Cell 16'\u001b[0m in \u001b[0;36mgenre_songid_to_info\u001b[0;34m(genre_name)\u001b[0m\n\u001b[1;32m      <a href='vscode-notebook-cell:/Users/seunguk/Documents/likelion/final_seunguk/melon_scraping_seunguk.ipynb#ch0000015?line=4'>5</a>\u001b[0m \u001b[39mprint\u001b[39m(\u001b[39m'\u001b[39m\u001b[39m[\u001b[39m\u001b[39m{}\u001b[39;00m\u001b[39m] 장르 크롤링 시작합니다\u001b[39m\u001b[39m'\u001b[39m\u001b[39m.\u001b[39mformat(genre_name))\n\u001b[1;32m      <a href='vscode-notebook-cell:/Users/seunguk/Documents/likelion/final_seunguk/melon_scraping_seunguk.ipynb#ch0000015?line=6'>7</a>\u001b[0m songlist \u001b[39m=\u001b[39m df_genre_songid[genre_name]\u001b[39m.\u001b[39mtolist()\n\u001b[0;32m----> <a href='vscode-notebook-cell:/Users/seunguk/Documents/likelion/final_seunguk/melon_scraping_seunguk.ipynb#ch0000015?line=7'>8</a>\u001b[0m df_genre_songid_to_info \u001b[39m=\u001b[39m songid_to_info(songlist)\n\u001b[1;32m     <a href='vscode-notebook-cell:/Users/seunguk/Documents/likelion/final_seunguk/melon_scraping_seunguk.ipynb#ch0000015?line=9'>10</a>\u001b[0m filename \u001b[39m=\u001b[39m \u001b[39m\"\u001b[39m\u001b[39mtest_500songs.xlsx\u001b[39m\u001b[39m\"\u001b[39m\u001b[39m.\u001b[39mformat(genre_name\u001b[39m.\u001b[39msplit(\u001b[39m'\u001b[39m\u001b[39m/\u001b[39m\u001b[39m'\u001b[39m)[\u001b[39m0\u001b[39m]) \n\u001b[1;32m     <a href='vscode-notebook-cell:/Users/seunguk/Documents/likelion/final_seunguk/melon_scraping_seunguk.ipynb#ch0000015?line=10'>11</a>\u001b[0m df_genre_songid_to_info\u001b[39m.\u001b[39mto_excel(filename, index\u001b[39m=\u001b[39m\u001b[39mFalse\u001b[39;00m, encoding\u001b[39m=\u001b[39m\u001b[39m'\u001b[39m\u001b[39mutf-8\u001b[39m\u001b[39m'\u001b[39m)\n",
      "\u001b[1;32m/Users/seunguk/Documents/likelion/final_seunguk/melon_scraping_seunguk.ipynb Cell 14'\u001b[0m in \u001b[0;36msongid_to_info\u001b[0;34m(songlist)\u001b[0m\n\u001b[1;32m     <a href='vscode-notebook-cell:/Users/seunguk/Documents/likelion/final_seunguk/melon_scraping_seunguk.ipynb#ch0000014?line=15'>16</a>\u001b[0m web_page \u001b[39m=\u001b[39m BeautifulSoup(web, \u001b[39m'\u001b[39m\u001b[39mhtml.parser\u001b[39m\u001b[39m'\u001b[39m)\n\u001b[1;32m     <a href='vscode-notebook-cell:/Users/seunguk/Documents/likelion/final_seunguk/melon_scraping_seunguk.ipynb#ch0000014?line=17'>18</a>\u001b[0m \u001b[39m#노래 제목\u001b[39;00m\n\u001b[0;32m---> <a href='vscode-notebook-cell:/Users/seunguk/Documents/likelion/final_seunguk/melon_scraping_seunguk.ipynb#ch0000014?line=18'>19</a>\u001b[0m title \u001b[39m=\u001b[39m web_page\u001b[39m.\u001b[39;49mfind(\u001b[39m'\u001b[39;49m\u001b[39mdiv\u001b[39;49m\u001b[39m'\u001b[39;49m,{\u001b[39m'\u001b[39;49m\u001b[39mclass\u001b[39;49m\u001b[39m'\u001b[39;49m:\u001b[39m'\u001b[39;49m\u001b[39msong_name\u001b[39;49m\u001b[39m'\u001b[39;49m})\u001b[39m.\u001b[39;49mget_text()\u001b[39m.\u001b[39mstrip()\u001b[39m.\u001b[39msplit(\u001b[39m'\u001b[39m\u001b[39m\\t\u001b[39;00m\u001b[39m'\u001b[39m)[\u001b[39m-\u001b[39m\u001b[39m1\u001b[39m]\n\u001b[1;32m     <a href='vscode-notebook-cell:/Users/seunguk/Documents/likelion/final_seunguk/melon_scraping_seunguk.ipynb#ch0000014?line=19'>20</a>\u001b[0m \u001b[39m#title = title.split('(')[0].strip() # (feat.) 등 제거\u001b[39;00m\n\u001b[1;32m     <a href='vscode-notebook-cell:/Users/seunguk/Documents/likelion/final_seunguk/melon_scraping_seunguk.ipynb#ch0000014?line=20'>21</a>\u001b[0m titles\u001b[39m.\u001b[39mappend(title)\n",
      "\u001b[0;31mAttributeError\u001b[0m: 'NoneType' object has no attribute 'get_text'"
     ]
    }
   ],
   "source": [
    "list_gnrname = ['발라드','댄스','랩/힙합','R&B/Soul','인디음악','록/메탈','트로트','포크/블루스']\n",
    "#발라드 크롤링\n",
    "gnr_selected = list_gnrname[2] # 정보 원하는 장르 선택\n",
    "\n",
    "genre_songid_to_info(gnr_selected)"
   ]
  },
  {
   "cell_type": "code",
   "execution_count": 11,
   "metadata": {},
   "outputs": [
    {
     "name": "stdout",
     "output_type": "stream",
     "text": [
      "-------------------------------------------------------------------------\n",
      "[발라드] 장르 크롤링 시작합니다\n"
     ]
    },
    {
     "ename": "AttributeError",
     "evalue": "'NoneType' object has no attribute 'get_text'",
     "output_type": "error",
     "traceback": [
      "\u001b[0;31m---------------------------------------------------------------------------\u001b[0m",
      "\u001b[0;31mAttributeError\u001b[0m                            Traceback (most recent call last)",
      "\u001b[1;32m/Users/seunguk/Documents/likelion/final_seunguk/Final project_1조(1)_전처리_crawling, tokenizing, word cloud.ipynb Cell 19'\u001b[0m in \u001b[0;36m<cell line: 2>\u001b[0;34m()\u001b[0m\n\u001b[1;32m      <a href='vscode-notebook-cell:/Users/seunguk/Documents/likelion/final_seunguk/Final%20project_1%EC%A1%B0%281%29_%EC%A0%84%EC%B2%98%EB%A6%AC_crawling%2C%20tokenizing%2C%20word%20cloud.ipynb#ch0000016?line=1'>2</a>\u001b[0m \u001b[39mfor\u001b[39;00m i \u001b[39min\u001b[39;00m \u001b[39mrange\u001b[39m(\u001b[39mlen\u001b[39m(list_gnrname)):\n\u001b[1;32m      <a href='vscode-notebook-cell:/Users/seunguk/Documents/likelion/final_seunguk/Final%20project_1%EC%A1%B0%281%29_%EC%A0%84%EC%B2%98%EB%A6%AC_crawling%2C%20tokenizing%2C%20word%20cloud.ipynb#ch0000016?line=2'>3</a>\u001b[0m     gnr_selected \u001b[39m=\u001b[39m list_gnrname[i] \u001b[39m# 정보 원하는 장르 선택\u001b[39;00m\n\u001b[0;32m----> <a href='vscode-notebook-cell:/Users/seunguk/Documents/likelion/final_seunguk/Final%20project_1%EC%A1%B0%281%29_%EC%A0%84%EC%B2%98%EB%A6%AC_crawling%2C%20tokenizing%2C%20word%20cloud.ipynb#ch0000016?line=3'>4</a>\u001b[0m     genre_songid_to_info(gnr_selected)\n",
      "\u001b[1;32m/Users/seunguk/Documents/likelion/final_seunguk/Final project_1조(1)_전처리_crawling, tokenizing, word cloud.ipynb Cell 16'\u001b[0m in \u001b[0;36mgenre_songid_to_info\u001b[0;34m(genre_name)\u001b[0m\n\u001b[1;32m      <a href='vscode-notebook-cell:/Users/seunguk/Documents/likelion/final_seunguk/Final%20project_1%EC%A1%B0%281%29_%EC%A0%84%EC%B2%98%EB%A6%AC_crawling%2C%20tokenizing%2C%20word%20cloud.ipynb#ch0000013?line=4'>5</a>\u001b[0m \u001b[39mprint\u001b[39m(\u001b[39m'\u001b[39m\u001b[39m[\u001b[39m\u001b[39m{}\u001b[39;00m\u001b[39m] 장르 크롤링 시작합니다\u001b[39m\u001b[39m'\u001b[39m\u001b[39m.\u001b[39mformat(genre_name))\n\u001b[1;32m      <a href='vscode-notebook-cell:/Users/seunguk/Documents/likelion/final_seunguk/Final%20project_1%EC%A1%B0%281%29_%EC%A0%84%EC%B2%98%EB%A6%AC_crawling%2C%20tokenizing%2C%20word%20cloud.ipynb#ch0000013?line=6'>7</a>\u001b[0m songlist \u001b[39m=\u001b[39m df_genre_songid[genre_name]\u001b[39m.\u001b[39mtolist()\n\u001b[0;32m----> <a href='vscode-notebook-cell:/Users/seunguk/Documents/likelion/final_seunguk/Final%20project_1%EC%A1%B0%281%29_%EC%A0%84%EC%B2%98%EB%A6%AC_crawling%2C%20tokenizing%2C%20word%20cloud.ipynb#ch0000013?line=7'>8</a>\u001b[0m df_genre_songid_to_info \u001b[39m=\u001b[39m songid_to_info(songlist)\n\u001b[1;32m     <a href='vscode-notebook-cell:/Users/seunguk/Documents/likelion/final_seunguk/Final%20project_1%EC%A1%B0%281%29_%EC%A0%84%EC%B2%98%EB%A6%AC_crawling%2C%20tokenizing%2C%20word%20cloud.ipynb#ch0000013?line=9'>10</a>\u001b[0m filename \u001b[39m=\u001b[39m \u001b[39m\"\u001b[39m\u001b[39mtest_500songs.xlsx\u001b[39m\u001b[39m\"\u001b[39m\u001b[39m.\u001b[39mformat(genre_name\u001b[39m.\u001b[39msplit(\u001b[39m'\u001b[39m\u001b[39m/\u001b[39m\u001b[39m'\u001b[39m)[\u001b[39m0\u001b[39m])\n\u001b[1;32m     <a href='vscode-notebook-cell:/Users/seunguk/Documents/likelion/final_seunguk/Final%20project_1%EC%A1%B0%281%29_%EC%A0%84%EC%B2%98%EB%A6%AC_crawling%2C%20tokenizing%2C%20word%20cloud.ipynb#ch0000013?line=10'>11</a>\u001b[0m df_genre_songid_to_info\u001b[39m.\u001b[39mto_excel(filename, index\u001b[39m=\u001b[39m\u001b[39mFalse\u001b[39;00m, encoding\u001b[39m=\u001b[39m\u001b[39m'\u001b[39m\u001b[39mutf-8\u001b[39m\u001b[39m'\u001b[39m)\n",
      "\u001b[1;32m/Users/seunguk/Documents/likelion/final_seunguk/Final project_1조(1)_전처리_crawling, tokenizing, word cloud.ipynb Cell 15'\u001b[0m in \u001b[0;36msongid_to_info\u001b[0;34m(songlist)\u001b[0m\n\u001b[1;32m     <a href='vscode-notebook-cell:/Users/seunguk/Documents/likelion/final_seunguk/Final%20project_1%EC%A1%B0%281%29_%EC%A0%84%EC%B2%98%EB%A6%AC_crawling%2C%20tokenizing%2C%20word%20cloud.ipynb#ch0000046?line=15'>16</a>\u001b[0m web_page \u001b[39m=\u001b[39m BeautifulSoup(web, \u001b[39m'\u001b[39m\u001b[39mhtml.parser\u001b[39m\u001b[39m'\u001b[39m)\n\u001b[1;32m     <a href='vscode-notebook-cell:/Users/seunguk/Documents/likelion/final_seunguk/Final%20project_1%EC%A1%B0%281%29_%EC%A0%84%EC%B2%98%EB%A6%AC_crawling%2C%20tokenizing%2C%20word%20cloud.ipynb#ch0000046?line=17'>18</a>\u001b[0m \u001b[39m#노래 제목\u001b[39;00m\n\u001b[0;32m---> <a href='vscode-notebook-cell:/Users/seunguk/Documents/likelion/final_seunguk/Final%20project_1%EC%A1%B0%281%29_%EC%A0%84%EC%B2%98%EB%A6%AC_crawling%2C%20tokenizing%2C%20word%20cloud.ipynb#ch0000046?line=18'>19</a>\u001b[0m title \u001b[39m=\u001b[39m web_page\u001b[39m.\u001b[39;49mfind(\u001b[39m'\u001b[39;49m\u001b[39mdiv\u001b[39;49m\u001b[39m'\u001b[39;49m,{\u001b[39m'\u001b[39;49m\u001b[39mclass\u001b[39;49m\u001b[39m'\u001b[39;49m:\u001b[39m'\u001b[39;49m\u001b[39msong_name\u001b[39;49m\u001b[39m'\u001b[39;49m})\u001b[39m.\u001b[39;49mget_text()\u001b[39m.\u001b[39mstrip()\u001b[39m.\u001b[39msplit(\u001b[39m'\u001b[39m\u001b[39m\\t\u001b[39;00m\u001b[39m'\u001b[39m)[\u001b[39m-\u001b[39m\u001b[39m1\u001b[39m]\n\u001b[1;32m     <a href='vscode-notebook-cell:/Users/seunguk/Documents/likelion/final_seunguk/Final%20project_1%EC%A1%B0%281%29_%EC%A0%84%EC%B2%98%EB%A6%AC_crawling%2C%20tokenizing%2C%20word%20cloud.ipynb#ch0000046?line=19'>20</a>\u001b[0m title \u001b[39m=\u001b[39m title\u001b[39m.\u001b[39msplit(\u001b[39m'\u001b[39m\u001b[39m(\u001b[39m\u001b[39m'\u001b[39m)[\u001b[39m0\u001b[39m]\u001b[39m.\u001b[39mstrip() \u001b[39m# (feat.) 등 제거\u001b[39;00m\n\u001b[1;32m     <a href='vscode-notebook-cell:/Users/seunguk/Documents/likelion/final_seunguk/Final%20project_1%EC%A1%B0%281%29_%EC%A0%84%EC%B2%98%EB%A6%AC_crawling%2C%20tokenizing%2C%20word%20cloud.ipynb#ch0000046?line=20'>21</a>\u001b[0m titles\u001b[39m.\u001b[39mappend(title)\n",
      "\u001b[0;31mAttributeError\u001b[0m: 'NoneType' object has no attribute 'get_text'"
     ]
    }
   ],
   "source": [
    "# 모든 8개 장르별로 크롤링 \n",
    "for i in range(len(list_gnrname)):\n",
    "    gnr_selected = list_gnrname[i] # 정보 원하는 장르 선택\n",
    "    genre_songid_to_info(gnr_selected)"
   ]
  }
 ],
 "metadata": {
  "interpreter": {
   "hash": "766ec0f0f499bb43cc89274c2b0098b93484f36b6fb087dcfa295499c8fc9698"
  },
  "kernelspec": {
   "display_name": "Python 3.8.13 ('likelion')",
   "language": "python",
   "name": "python3"
  },
  "language_info": {
   "codemirror_mode": {
    "name": "ipython",
    "version": 3
   },
   "file_extension": ".py",
   "mimetype": "text/x-python",
   "name": "python",
   "nbconvert_exporter": "python",
   "pygments_lexer": "ipython3",
   "version": "3.8.13"
  }
 },
 "nbformat": 4,
 "nbformat_minor": 2
}
