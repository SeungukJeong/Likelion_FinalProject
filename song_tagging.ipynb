{
  "nbformat": 4,
  "nbformat_minor": 0,
  "metadata": {
    "colab": {
      "name": "song_tagging.ipynb",
      "provenance": [],
      "collapsed_sections": []
    },
    "kernelspec": {
      "name": "python3",
      "display_name": "Python 3"
    },
    "language_info": {
      "name": "python"
    },
    "accelerator": "TPU"
  },
  "cells": [
    {
      "cell_type": "code",
      "source": [
        "from IPython.display import clear_output \n",
        "\n",
        "!pip install transformers==4.8.2\n",
        "!pip install sentencepiece==0.1.96\n",
        "!pip install tensorflow_addons\n",
        "\n",
        "clear_output()\n",
        "\n",
        "import sklearn\n",
        "import tensorflow\n",
        "import transformers\n",
        "import tensorflow_addons\n",
        "\n",
        "print(sklearn.__version__) # 1.0.2\n",
        "print(tensorflow.__version__) # 2.8.0\n",
        "print(transformers.__version__) # 4.8.2\n",
        "print(tensorflow_addons.__version__) # 0.16.1\n",
        "\n",
        "import sentencepiece\n",
        "\n",
        "import pandas as pd\n",
        "import numpy as np\n",
        "\n",
        "import os\n",
        "import re\n",
        "import pickle \n",
        "import dill # for saving a function as a file(.pkl)\n",
        "import logging # for changing the tf's logging level\n",
        "import urllib.request\n",
        "from tqdm import tqdm\n",
        "\n",
        "from sklearn import model_selection\n",
        "from sklearn.metrics import accuracy_score\n",
        "\n",
        "import tensorflow as tf\n",
        "import tensorflow_addons as tfa # for using Rectified-Adam optimizer (instead of Adam optimizer) \n",
        "from tensorflow.keras import layers, initializers, losses, optimizers, metrics, callbacks \n",
        "\n",
        "import transformers\n",
        "from transformers import TFBertModel # BertTokenizer 제외\n",
        "\n",
        "import sentencepiece as spm"
      ],
      "metadata": {
        "colab": {
          "base_uri": "https://localhost:8080/"
        },
        "id": "n9vE9-LejwBJ",
        "outputId": "a8c7886d-edc9-4b96-a7de-8a6bb1d4dfb9"
      },
      "execution_count": 1,
      "outputs": [
        {
          "output_type": "stream",
          "name": "stdout",
          "text": [
            "1.0.2\n",
            "2.8.0\n",
            "4.8.2\n",
            "0.17.0\n"
          ]
        }
      ]
    },
    {
      "cell_type": "code",
      "source": [
        "!pip install transformers==4.8.2\n",
        "!pip install tensorflow_addons\n",
        "\n",
        "import pandas as pd\n",
        "import numpy as np\n",
        "\n",
        "import re\n",
        "import os\n",
        "import pickle \n",
        "import dill # for saving a function as a file\n",
        "import logging # for changing the tf's logging level\n",
        "from IPython.display import clear_output \n",
        "\n",
        "import tensorflow as tf\n",
        "import tensorflow_addons as tfa\n",
        "from tensorflow.keras import layers, initializers, losses, optimizers, metrics \n",
        "\n",
        "import transformers\n",
        "from transformers import TFBertModel \n",
        "\n",
        "# Tensorflow logging level 변경 \n",
        "tf.get_logger().setLevel(logging.ERROR)\n",
        "\n",
        "# clear the output after the installation\n",
        "clear_output() "
      ],
      "metadata": {
        "id": "wCKEjJY2inx0"
      },
      "execution_count": 2,
      "outputs": []
    },
    {
      "cell_type": "code",
      "source": [
        "#KoBERT 불러오기\n",
        "!git clone https://github.com/monologg/KoBERT-Transformers.git\n",
        "!mv KoBERT-Transformers/kobert_transformers/tokenization_kobert.py /content\n",
        "clear_output() # clear the output\n",
        "\n",
        "#토크나이저 생성\n",
        "from tokenization_kobert import KoBertTokenizer \n",
        "\n",
        "tokenizer = KoBertTokenizer.from_pretrained('monologg/kobert')"
      ],
      "metadata": {
        "id": "LUXWczUTnTIr"
      },
      "execution_count": 3,
      "outputs": []
    },
    {
      "cell_type": "code",
      "source": [
        "from tqdm import tqdm"
      ],
      "metadata": {
        "id": "BvS4TPMBvt1I"
      },
      "execution_count": 4,
      "outputs": []
    },
    {
      "cell_type": "code",
      "source": [
        "# Random seed 고정\n",
        "tf.random.set_seed(1234)\n",
        "np.random.seed(1234)\n",
        "\n",
        "# Transformers logging level 변경 (WARNING -> ERROR) @ https://huggingface.co/transformers/main_classes/logging.html\n",
        "transformers.logging.set_verbosity(transformers.logging.ERROR)\n",
        "\n",
        "# Tensorflow logging level 변경 \n",
        "tf.get_logger().setLevel(logging.ERROR)"
      ],
      "metadata": {
        "id": "ciMtiZL6nPcg"
      },
      "execution_count": 5,
      "outputs": []
    },
    {
      "cell_type": "code",
      "source": [
        "from google.colab import drive\n",
        "drive.mount('/gdrive')\n",
        "\n",
        "#경로 수정 필수\n",
        "data_path = '/gdrive/MyDrive/colab_data_3/temp_data/' \n",
        "\n",
        "\n",
        "# 1) Load the Model-builder (function)\n",
        "with open(data_path + 'model_BERTfunction_v1.pkl', 'rb') as f:\n",
        "    create_model = dill.loads(pickle.load(f)) # use dill to pickle a python function\n",
        "\n",
        "# 2) Load the Bert-tokenizer \n",
        "with open(data_path + 'tokenizer-bert.pkl', 'rb') as f:\n",
        "    tokenizer = pickle.load(f) \n",
        "\n",
        "\n",
        "# 3) Create the model & load the Model-weights (from checkpoint file)\n",
        "resolver = tf.distribute.cluster_resolver.TPUClusterResolver(tpu='grpc://' + os.environ['COLAB_TPU_ADDR'])\n",
        "tf.config.experimental_connect_to_cluster(resolver)\n",
        "tf.tpu.experimental.initialize_tpu_system(resolver)\n",
        "strategy = tf.distribute.TPUStrategy(resolver) # Obsolete : tf.distribute.experimental.TPUStrategy()\n",
        "\n",
        "with strategy.scope(): \n",
        "    model = create_model(max_length=300) \n",
        "    \n",
        "#경로 수정 필수\n",
        "checkpoint_path = '/gdrive/MyDrive/colab_data_3/temp_data/saved_models/'\n",
        "model.load_weights(filepath=checkpoint_path + 'best_bert_weights.h5')"
      ],
      "metadata": {
        "colab": {
          "base_uri": "https://localhost:8080/"
        },
        "id": "AV0THHEKizFB",
        "outputId": "a2e1c0a3-0691-4337-ab8e-39d14939801c"
      },
      "execution_count": 6,
      "outputs": [
        {
          "output_type": "stream",
          "name": "stderr",
          "text": [
            "INFO:absl:Entering into master device scope: /job:worker/replica:0/task:0/device:CPU:0\n"
          ]
        },
        {
          "output_type": "stream",
          "name": "stdout",
          "text": [
            "Drive already mounted at /gdrive; to attempt to forcibly remount, call drive.mount(\"/gdrive\", force_remount=True).\n"
          ]
        }
      ]
    },
    {
      "cell_type": "code",
      "source": [
        "\n",
        "def predict_sentiment(sentence, tokenizer, model):\n",
        "    \n",
        "    SEQ_LEN = 300 # 최대 token 개수 이상의 값으로 임의로 설정\n",
        "\n",
        "    # Tokenizing / Tokens to sequence numbers / Padding\n",
        "    encoded_dict = tokenizer.encode_plus(text=re.sub(\"[^\\s0-9a-zA-Zㄱ-ㅎㅏ-ㅣ가-힣]\", \"\", sentence),\n",
        "                                         padding='max_length', \n",
        "                                         truncation = True,\n",
        "                                         max_length=SEQ_LEN) # SEQ_LEN == 128\n",
        "    \n",
        "    token_ids = np.array(encoded_dict['input_ids']).reshape(1, -1) # shape == (1, 128) : like appending to a list \n",
        "    token_masks = np.array(encoded_dict['attention_mask']).reshape(1, -1)\n",
        "    token_segments = np.array(encoded_dict['token_type_ids']).reshape(1, -1)\n",
        "    \n",
        "    new_inputs = (token_ids, token_masks, token_segments)\n",
        "\n",
        "    # Prediction\n",
        "    prediction = model.predict(new_inputs)\n",
        "    predicted_probability = np.round(np.max(prediction) * 100, 2) # ex) [[0.0125517 0.9874483]] -> round(0.9874483 * 100, 2) -> round(98.74483, 2) -> 98.74\n",
        "    predicted_class = [\"분노\", \"놀람\", \"행복\", \"슬픔\", \"혐오\",\"공포\" ][np.argmax(prediction, axis=1)[0]] # ex) ['부정', '긍정'][[1][0]] -> ['부정', '긍정'][1] -> '긍정'\n",
        "    \n",
        "    #태깅용\n",
        "    return predicted_class, predicted_probability \n",
        "    \n",
        "    ##결과확인용\n",
        "    #print(\"{}% 확률로 {} 음악입니다.\".format(predicted_probability, predicted_class)) "
      ],
      "metadata": {
        "id": "sK6m5pWUi4vS"
      },
      "execution_count": 7,
      "outputs": []
    },
    {
      "cell_type": "code",
      "source": [
        "# load merged dataset\n",
        "from google.colab import files\n",
        "file_uploaded = files.upload()"
      ],
      "metadata": {
        "colab": {
          "resources": {
            "http://localhost:8080/nbextensions/google.colab/files.js": {
              "data": "Ly8gQ29weXJpZ2h0IDIwMTcgR29vZ2xlIExMQwovLwovLyBMaWNlbnNlZCB1bmRlciB0aGUgQXBhY2hlIExpY2Vuc2UsIFZlcnNpb24gMi4wICh0aGUgIkxpY2Vuc2UiKTsKLy8geW91IG1heSBub3QgdXNlIHRoaXMgZmlsZSBleGNlcHQgaW4gY29tcGxpYW5jZSB3aXRoIHRoZSBMaWNlbnNlLgovLyBZb3UgbWF5IG9idGFpbiBhIGNvcHkgb2YgdGhlIExpY2Vuc2UgYXQKLy8KLy8gICAgICBodHRwOi8vd3d3LmFwYWNoZS5vcmcvbGljZW5zZXMvTElDRU5TRS0yLjAKLy8KLy8gVW5sZXNzIHJlcXVpcmVkIGJ5IGFwcGxpY2FibGUgbGF3IG9yIGFncmVlZCB0byBpbiB3cml0aW5nLCBzb2Z0d2FyZQovLyBkaXN0cmlidXRlZCB1bmRlciB0aGUgTGljZW5zZSBpcyBkaXN0cmlidXRlZCBvbiBhbiAiQVMgSVMiIEJBU0lTLAovLyBXSVRIT1VUIFdBUlJBTlRJRVMgT1IgQ09ORElUSU9OUyBPRiBBTlkgS0lORCwgZWl0aGVyIGV4cHJlc3Mgb3IgaW1wbGllZC4KLy8gU2VlIHRoZSBMaWNlbnNlIGZvciB0aGUgc3BlY2lmaWMgbGFuZ3VhZ2UgZ292ZXJuaW5nIHBlcm1pc3Npb25zIGFuZAovLyBsaW1pdGF0aW9ucyB1bmRlciB0aGUgTGljZW5zZS4KCi8qKgogKiBAZmlsZW92ZXJ2aWV3IEhlbHBlcnMgZm9yIGdvb2dsZS5jb2xhYiBQeXRob24gbW9kdWxlLgogKi8KKGZ1bmN0aW9uKHNjb3BlKSB7CmZ1bmN0aW9uIHNwYW4odGV4dCwgc3R5bGVBdHRyaWJ1dGVzID0ge30pIHsKICBjb25zdCBlbGVtZW50ID0gZG9jdW1lbnQuY3JlYXRlRWxlbWVudCgnc3BhbicpOwogIGVsZW1lbnQudGV4dENvbnRlbnQgPSB0ZXh0OwogIGZvciAoY29uc3Qga2V5IG9mIE9iamVjdC5rZXlzKHN0eWxlQXR0cmlidXRlcykpIHsKICAgIGVsZW1lbnQuc3R5bGVba2V5XSA9IHN0eWxlQXR0cmlidXRlc1trZXldOwogIH0KICByZXR1cm4gZWxlbWVudDsKfQoKLy8gTWF4IG51bWJlciBvZiBieXRlcyB3aGljaCB3aWxsIGJlIHVwbG9hZGVkIGF0IGEgdGltZS4KY29uc3QgTUFYX1BBWUxPQURfU0laRSA9IDEwMCAqIDEwMjQ7CgpmdW5jdGlvbiBfdXBsb2FkRmlsZXMoaW5wdXRJZCwgb3V0cHV0SWQpIHsKICBjb25zdCBzdGVwcyA9IHVwbG9hZEZpbGVzU3RlcChpbnB1dElkLCBvdXRwdXRJZCk7CiAgY29uc3Qgb3V0cHV0RWxlbWVudCA9IGRvY3VtZW50LmdldEVsZW1lbnRCeUlkKG91dHB1dElkKTsKICAvLyBDYWNoZSBzdGVwcyBvbiB0aGUgb3V0cHV0RWxlbWVudCB0byBtYWtlIGl0IGF2YWlsYWJsZSBmb3IgdGhlIG5leHQgY2FsbAogIC8vIHRvIHVwbG9hZEZpbGVzQ29udGludWUgZnJvbSBQeXRob24uCiAgb3V0cHV0RWxlbWVudC5zdGVwcyA9IHN0ZXBzOwoKICByZXR1cm4gX3VwbG9hZEZpbGVzQ29udGludWUob3V0cHV0SWQpOwp9CgovLyBUaGlzIGlzIHJvdWdobHkgYW4gYXN5bmMgZ2VuZXJhdG9yIChub3Qgc3VwcG9ydGVkIGluIHRoZSBicm93c2VyIHlldCksCi8vIHdoZXJlIHRoZXJlIGFyZSBtdWx0aXBsZSBhc3luY2hyb25vdXMgc3RlcHMgYW5kIHRoZSBQeXRob24gc2lkZSBpcyBnb2luZwovLyB0byBwb2xsIGZvciBjb21wbGV0aW9uIG9mIGVhY2ggc3RlcC4KLy8gVGhpcyB1c2VzIGEgUHJvbWlzZSB0byBibG9jayB0aGUgcHl0aG9uIHNpZGUgb24gY29tcGxldGlvbiBvZiBlYWNoIHN0ZXAsCi8vIHRoZW4gcGFzc2VzIHRoZSByZXN1bHQgb2YgdGhlIHByZXZpb3VzIHN0ZXAgYXMgdGhlIGlucHV0IHRvIHRoZSBuZXh0IHN0ZXAuCmZ1bmN0aW9uIF91cGxvYWRGaWxlc0NvbnRpbnVlKG91dHB1dElkKSB7CiAgY29uc3Qgb3V0cHV0RWxlbWVudCA9IGRvY3VtZW50LmdldEVsZW1lbnRCeUlkKG91dHB1dElkKTsKICBjb25zdCBzdGVwcyA9IG91dHB1dEVsZW1lbnQuc3RlcHM7CgogIGNvbnN0IG5leHQgPSBzdGVwcy5uZXh0KG91dHB1dEVsZW1lbnQubGFzdFByb21pc2VWYWx1ZSk7CiAgcmV0dXJuIFByb21pc2UucmVzb2x2ZShuZXh0LnZhbHVlLnByb21pc2UpLnRoZW4oKHZhbHVlKSA9PiB7CiAgICAvLyBDYWNoZSB0aGUgbGFzdCBwcm9taXNlIHZhbHVlIHRvIG1ha2UgaXQgYXZhaWxhYmxlIHRvIHRoZSBuZXh0CiAgICAvLyBzdGVwIG9mIHRoZSBnZW5lcmF0b3IuCiAgICBvdXRwdXRFbGVtZW50Lmxhc3RQcm9taXNlVmFsdWUgPSB2YWx1ZTsKICAgIHJldHVybiBuZXh0LnZhbHVlLnJlc3BvbnNlOwogIH0pOwp9CgovKioKICogR2VuZXJhdG9yIGZ1bmN0aW9uIHdoaWNoIGlzIGNhbGxlZCBiZXR3ZWVuIGVhY2ggYXN5bmMgc3RlcCBvZiB0aGUgdXBsb2FkCiAqIHByb2Nlc3MuCiAqIEBwYXJhbSB7c3RyaW5nfSBpbnB1dElkIEVsZW1lbnQgSUQgb2YgdGhlIGlucHV0IGZpbGUgcGlja2VyIGVsZW1lbnQuCiAqIEBwYXJhbSB7c3RyaW5nfSBvdXRwdXRJZCBFbGVtZW50IElEIG9mIHRoZSBvdXRwdXQgZGlzcGxheS4KICogQHJldHVybiB7IUl0ZXJhYmxlPCFPYmplY3Q+fSBJdGVyYWJsZSBvZiBuZXh0IHN0ZXBzLgogKi8KZnVuY3Rpb24qIHVwbG9hZEZpbGVzU3RlcChpbnB1dElkLCBvdXRwdXRJZCkgewogIGNvbnN0IGlucHV0RWxlbWVudCA9IGRvY3VtZW50LmdldEVsZW1lbnRCeUlkKGlucHV0SWQpOwogIGlucHV0RWxlbWVudC5kaXNhYmxlZCA9IGZhbHNlOwoKICBjb25zdCBvdXRwdXRFbGVtZW50ID0gZG9jdW1lbnQuZ2V0RWxlbWVudEJ5SWQob3V0cHV0SWQpOwogIG91dHB1dEVsZW1lbnQuaW5uZXJIVE1MID0gJyc7CgogIGNvbnN0IHBpY2tlZFByb21pc2UgPSBuZXcgUHJvbWlzZSgocmVzb2x2ZSkgPT4gewogICAgaW5wdXRFbGVtZW50LmFkZEV2ZW50TGlzdGVuZXIoJ2NoYW5nZScsIChlKSA9PiB7CiAgICAgIHJlc29sdmUoZS50YXJnZXQuZmlsZXMpOwogICAgfSk7CiAgfSk7CgogIGNvbnN0IGNhbmNlbCA9IGRvY3VtZW50LmNyZWF0ZUVsZW1lbnQoJ2J1dHRvbicpOwogIGlucHV0RWxlbWVudC5wYXJlbnRFbGVtZW50LmFwcGVuZENoaWxkKGNhbmNlbCk7CiAgY2FuY2VsLnRleHRDb250ZW50ID0gJ0NhbmNlbCB1cGxvYWQnOwogIGNvbnN0IGNhbmNlbFByb21pc2UgPSBuZXcgUHJvbWlzZSgocmVzb2x2ZSkgPT4gewogICAgY2FuY2VsLm9uY2xpY2sgPSAoKSA9PiB7CiAgICAgIHJlc29sdmUobnVsbCk7CiAgICB9OwogIH0pOwoKICAvLyBXYWl0IGZvciB0aGUgdXNlciB0byBwaWNrIHRoZSBmaWxlcy4KICBjb25zdCBmaWxlcyA9IHlpZWxkIHsKICAgIHByb21pc2U6IFByb21pc2UucmFjZShbcGlja2VkUHJvbWlzZSwgY2FuY2VsUHJvbWlzZV0pLAogICAgcmVzcG9uc2U6IHsKICAgICAgYWN0aW9uOiAnc3RhcnRpbmcnLAogICAgfQogIH07CgogIGNhbmNlbC5yZW1vdmUoKTsKCiAgLy8gRGlzYWJsZSB0aGUgaW5wdXQgZWxlbWVudCBzaW5jZSBmdXJ0aGVyIHBpY2tzIGFyZSBub3QgYWxsb3dlZC4KICBpbnB1dEVsZW1lbnQuZGlzYWJsZWQgPSB0cnVlOwoKICBpZiAoIWZpbGVzKSB7CiAgICByZXR1cm4gewogICAgICByZXNwb25zZTogewogICAgICAgIGFjdGlvbjogJ2NvbXBsZXRlJywKICAgICAgfQogICAgfTsKICB9CgogIGZvciAoY29uc3QgZmlsZSBvZiBmaWxlcykgewogICAgY29uc3QgbGkgPSBkb2N1bWVudC5jcmVhdGVFbGVtZW50KCdsaScpOwogICAgbGkuYXBwZW5kKHNwYW4oZmlsZS5uYW1lLCB7Zm9udFdlaWdodDogJ2JvbGQnfSkpOwogICAgbGkuYXBwZW5kKHNwYW4oCiAgICAgICAgYCgke2ZpbGUudHlwZSB8fCAnbi9hJ30pIC0gJHtmaWxlLnNpemV9IGJ5dGVzLCBgICsKICAgICAgICBgbGFzdCBtb2RpZmllZDogJHsKICAgICAgICAgICAgZmlsZS5sYXN0TW9kaWZpZWREYXRlID8gZmlsZS5sYXN0TW9kaWZpZWREYXRlLnRvTG9jYWxlRGF0ZVN0cmluZygpIDoKICAgICAgICAgICAgICAgICAgICAgICAgICAgICAgICAgICAgJ24vYSd9IC0gYCkpOwogICAgY29uc3QgcGVyY2VudCA9IHNwYW4oJzAlIGRvbmUnKTsKICAgIGxpLmFwcGVuZENoaWxkKHBlcmNlbnQpOwoKICAgIG91dHB1dEVsZW1lbnQuYXBwZW5kQ2hpbGQobGkpOwoKICAgIGNvbnN0IGZpbGVEYXRhUHJvbWlzZSA9IG5ldyBQcm9taXNlKChyZXNvbHZlKSA9PiB7CiAgICAgIGNvbnN0IHJlYWRlciA9IG5ldyBGaWxlUmVhZGVyKCk7CiAgICAgIHJlYWRlci5vbmxvYWQgPSAoZSkgPT4gewogICAgICAgIHJlc29sdmUoZS50YXJnZXQucmVzdWx0KTsKICAgICAgfTsKICAgICAgcmVhZGVyLnJlYWRBc0FycmF5QnVmZmVyKGZpbGUpOwogICAgfSk7CiAgICAvLyBXYWl0IGZvciB0aGUgZGF0YSB0byBiZSByZWFkeS4KICAgIGxldCBmaWxlRGF0YSA9IHlpZWxkIHsKICAgICAgcHJvbWlzZTogZmlsZURhdGFQcm9taXNlLAogICAgICByZXNwb25zZTogewogICAgICAgIGFjdGlvbjogJ2NvbnRpbnVlJywKICAgICAgfQogICAgfTsKCiAgICAvLyBVc2UgYSBjaHVua2VkIHNlbmRpbmcgdG8gYXZvaWQgbWVzc2FnZSBzaXplIGxpbWl0cy4gU2VlIGIvNjIxMTU2NjAuCiAgICBsZXQgcG9zaXRpb24gPSAwOwogICAgZG8gewogICAgICBjb25zdCBsZW5ndGggPSBNYXRoLm1pbihmaWxlRGF0YS5ieXRlTGVuZ3RoIC0gcG9zaXRpb24sIE1BWF9QQVlMT0FEX1NJWkUpOwogICAgICBjb25zdCBjaHVuayA9IG5ldyBVaW50OEFycmF5KGZpbGVEYXRhLCBwb3NpdGlvbiwgbGVuZ3RoKTsKICAgICAgcG9zaXRpb24gKz0gbGVuZ3RoOwoKICAgICAgY29uc3QgYmFzZTY0ID0gYnRvYShTdHJpbmcuZnJvbUNoYXJDb2RlLmFwcGx5KG51bGwsIGNodW5rKSk7CiAgICAgIHlpZWxkIHsKICAgICAgICByZXNwb25zZTogewogICAgICAgICAgYWN0aW9uOiAnYXBwZW5kJywKICAgICAgICAgIGZpbGU6IGZpbGUubmFtZSwKICAgICAgICAgIGRhdGE6IGJhc2U2NCwKICAgICAgICB9LAogICAgICB9OwoKICAgICAgbGV0IHBlcmNlbnREb25lID0gZmlsZURhdGEuYnl0ZUxlbmd0aCA9PT0gMCA/CiAgICAgICAgICAxMDAgOgogICAgICAgICAgTWF0aC5yb3VuZCgocG9zaXRpb24gLyBmaWxlRGF0YS5ieXRlTGVuZ3RoKSAqIDEwMCk7CiAgICAgIHBlcmNlbnQudGV4dENvbnRlbnQgPSBgJHtwZXJjZW50RG9uZX0lIGRvbmVgOwoKICAgIH0gd2hpbGUgKHBvc2l0aW9uIDwgZmlsZURhdGEuYnl0ZUxlbmd0aCk7CiAgfQoKICAvLyBBbGwgZG9uZS4KICB5aWVsZCB7CiAgICByZXNwb25zZTogewogICAgICBhY3Rpb246ICdjb21wbGV0ZScsCiAgICB9CiAgfTsKfQoKc2NvcGUuZ29vZ2xlID0gc2NvcGUuZ29vZ2xlIHx8IHt9OwpzY29wZS5nb29nbGUuY29sYWIgPSBzY29wZS5nb29nbGUuY29sYWIgfHwge307CnNjb3BlLmdvb2dsZS5jb2xhYi5fZmlsZXMgPSB7CiAgX3VwbG9hZEZpbGVzLAogIF91cGxvYWRGaWxlc0NvbnRpbnVlLAp9Owp9KShzZWxmKTsK",
              "ok": true,
              "headers": [
                [
                  "content-type",
                  "application/javascript"
                ]
              ],
              "status": 200,
              "status_text": ""
            }
          },
          "base_uri": "https://localhost:8080/",
          "height": 75
        },
        "id": "QZtOE8lSkc3W",
        "outputId": "c06bcc6d-d644-4acc-bad0-3fb3add0dbea"
      },
      "execution_count": 8,
      "outputs": [
        {
          "output_type": "display_data",
          "data": {
            "text/plain": [
              "<IPython.core.display.HTML object>"
            ],
            "text/html": [
              "\n",
              "     <input type=\"file\" id=\"files-a5030f76-22ba-4db0-a509-21b78251c945\" name=\"files[]\" multiple disabled\n",
              "        style=\"border:none\" />\n",
              "     <output id=\"result-a5030f76-22ba-4db0-a509-21b78251c945\">\n",
              "      Upload widget is only available when the cell has been executed in the\n",
              "      current browser session. Please rerun this cell to enable.\n",
              "      </output>\n",
              "      <script src=\"/nbextensions/google.colab/files.js\"></script> "
            ]
          },
          "metadata": {}
        },
        {
          "output_type": "stream",
          "name": "stdout",
          "text": [
            "Saving allsong_processed.csv to allsong_processed.csv\n"
          ]
        }
      ]
    },
    {
      "cell_type": "code",
      "source": [
        "df = pd.read_csv(\"allsong_processed.csv\", encoding='utf-8', lineterminator='\\n', index_col=0);df"
      ],
      "metadata": {
        "colab": {
          "base_uri": "https://localhost:8080/",
          "height": 424
        },
        "id": "7Z1yiqYBC3oV",
        "outputId": "a0fa015a-c199-4546-9e52-43c7a04094d0"
      },
      "execution_count": 9,
      "outputs": [
        {
          "output_type": "execute_result",
          "data": {
            "text/plain": [
              "      index       Genre         Artist       Title  \\\n",
              "0         0  발라드, 국내드라마           멜로망스      사랑인가 봐   \n",
              "1         1         발라드             경서      나의 X에게   \n",
              "2         2         발라드     김민석 (멜로망스)        취중고백   \n",
              "3         3  발라드, 국내드라마            임영웅   사랑은 늘 도망가   \n",
              "4         4         발라드  MSG워너비(M.O.M)      듣고 싶을까   \n",
              "...     ...         ...            ...         ...   \n",
              "3569   3995    성인가요/트로트            조항조         만약에   \n",
              "3570   3996    성인가요/트로트            송가인     용두산 엘레지   \n",
              "3571   3997    성인가요/트로트            송가인  단장의 미아리 고개   \n",
              "3572   3998    성인가요/트로트            조항조           때   \n",
              "3573   3999    성인가요/트로트            김의영        도찐개찐   \n",
              "\n",
              "                                                  Lyric        Date  \n",
              "0     너와 함께 하고 싶은 일들을상상하는 게요즘 내 일상이 되고너의 즐거워하는 모습을 보...  2022.02.18  \n",
              "1     우리 다시 만날래예쁘게 빛나던모든 추억들이너무 그리워너의 품에 안길래이 밤이 새도록...  2022.04.24  \n",
              "2     뭐하고 있었니 늦었지만잠시 나올래너의 집 골목에 있는놀이터에 앉아 있어친구들 만나서...  2021.12.19  \n",
              "3     눈물이 난다 이 길을 걸으면그 사람 손길이 자꾸 생각이 난다붙잡지 못하고 가슴만 떨...  2021.10.11  \n",
              "4     우리 함께 듣던 그 노랠 듣고 싶을까듣고 나서 잠시 날 생각은 할까아주 혹시라도 넌...  2022.02.26  \n",
              "...                                                 ...         ...  \n",
              "3569  만약에 당신이 그 누구와 사랑에 빠지면 그 사랑을 위해서 무얼할 수 있나 텅빈세상 ...  2020.07.31  \n",
              "3570  용두산아 용두산아너만은 변치 말자한 발 올려 맹세하고두 발 디뎌 언약하던한 계단 두...  2021.03.21  \n",
              "3571  미아리 눈물고개임이 넘던 이별 고개화약 연기 앞을 가려눈 못 뜨고 헤매일 때당신은 ...  2020.12.26  \n",
              "3572  낮춰야 할 때는 낮춰야하고 물러나야 할 때는 물러나야지 오르고 오르면 끝이 있듯이 ...  2016.07.13  \n",
              "3573  사랑하다 헤어지고 좋아하다 미워하고 돌고도는 세상살이가 돌고도는 인생살이가 왜이리 ...  2021.02.26  \n",
              "\n",
              "[3574 rows x 6 columns]"
            ],
            "text/html": [
              "\n",
              "  <div id=\"df-6fc7f04d-6d7e-4e99-90b6-5e899174c35a\">\n",
              "    <div class=\"colab-df-container\">\n",
              "      <div>\n",
              "<style scoped>\n",
              "    .dataframe tbody tr th:only-of-type {\n",
              "        vertical-align: middle;\n",
              "    }\n",
              "\n",
              "    .dataframe tbody tr th {\n",
              "        vertical-align: top;\n",
              "    }\n",
              "\n",
              "    .dataframe thead th {\n",
              "        text-align: right;\n",
              "    }\n",
              "</style>\n",
              "<table border=\"1\" class=\"dataframe\">\n",
              "  <thead>\n",
              "    <tr style=\"text-align: right;\">\n",
              "      <th></th>\n",
              "      <th>index</th>\n",
              "      <th>Genre</th>\n",
              "      <th>Artist</th>\n",
              "      <th>Title</th>\n",
              "      <th>Lyric</th>\n",
              "      <th>Date</th>\n",
              "    </tr>\n",
              "  </thead>\n",
              "  <tbody>\n",
              "    <tr>\n",
              "      <th>0</th>\n",
              "      <td>0</td>\n",
              "      <td>발라드, 국내드라마</td>\n",
              "      <td>멜로망스</td>\n",
              "      <td>사랑인가 봐</td>\n",
              "      <td>너와 함께 하고 싶은 일들을상상하는 게요즘 내 일상이 되고너의 즐거워하는 모습을 보...</td>\n",
              "      <td>2022.02.18</td>\n",
              "    </tr>\n",
              "    <tr>\n",
              "      <th>1</th>\n",
              "      <td>1</td>\n",
              "      <td>발라드</td>\n",
              "      <td>경서</td>\n",
              "      <td>나의 X에게</td>\n",
              "      <td>우리 다시 만날래예쁘게 빛나던모든 추억들이너무 그리워너의 품에 안길래이 밤이 새도록...</td>\n",
              "      <td>2022.04.24</td>\n",
              "    </tr>\n",
              "    <tr>\n",
              "      <th>2</th>\n",
              "      <td>2</td>\n",
              "      <td>발라드</td>\n",
              "      <td>김민석 (멜로망스)</td>\n",
              "      <td>취중고백</td>\n",
              "      <td>뭐하고 있었니 늦었지만잠시 나올래너의 집 골목에 있는놀이터에 앉아 있어친구들 만나서...</td>\n",
              "      <td>2021.12.19</td>\n",
              "    </tr>\n",
              "    <tr>\n",
              "      <th>3</th>\n",
              "      <td>3</td>\n",
              "      <td>발라드, 국내드라마</td>\n",
              "      <td>임영웅</td>\n",
              "      <td>사랑은 늘 도망가</td>\n",
              "      <td>눈물이 난다 이 길을 걸으면그 사람 손길이 자꾸 생각이 난다붙잡지 못하고 가슴만 떨...</td>\n",
              "      <td>2021.10.11</td>\n",
              "    </tr>\n",
              "    <tr>\n",
              "      <th>4</th>\n",
              "      <td>4</td>\n",
              "      <td>발라드</td>\n",
              "      <td>MSG워너비(M.O.M)</td>\n",
              "      <td>듣고 싶을까</td>\n",
              "      <td>우리 함께 듣던 그 노랠 듣고 싶을까듣고 나서 잠시 날 생각은 할까아주 혹시라도 넌...</td>\n",
              "      <td>2022.02.26</td>\n",
              "    </tr>\n",
              "    <tr>\n",
              "      <th>...</th>\n",
              "      <td>...</td>\n",
              "      <td>...</td>\n",
              "      <td>...</td>\n",
              "      <td>...</td>\n",
              "      <td>...</td>\n",
              "      <td>...</td>\n",
              "    </tr>\n",
              "    <tr>\n",
              "      <th>3569</th>\n",
              "      <td>3995</td>\n",
              "      <td>성인가요/트로트</td>\n",
              "      <td>조항조</td>\n",
              "      <td>만약에</td>\n",
              "      <td>만약에 당신이 그 누구와 사랑에 빠지면 그 사랑을 위해서 무얼할 수 있나 텅빈세상 ...</td>\n",
              "      <td>2020.07.31</td>\n",
              "    </tr>\n",
              "    <tr>\n",
              "      <th>3570</th>\n",
              "      <td>3996</td>\n",
              "      <td>성인가요/트로트</td>\n",
              "      <td>송가인</td>\n",
              "      <td>용두산 엘레지</td>\n",
              "      <td>용두산아 용두산아너만은 변치 말자한 발 올려 맹세하고두 발 디뎌 언약하던한 계단 두...</td>\n",
              "      <td>2021.03.21</td>\n",
              "    </tr>\n",
              "    <tr>\n",
              "      <th>3571</th>\n",
              "      <td>3997</td>\n",
              "      <td>성인가요/트로트</td>\n",
              "      <td>송가인</td>\n",
              "      <td>단장의 미아리 고개</td>\n",
              "      <td>미아리 눈물고개임이 넘던 이별 고개화약 연기 앞을 가려눈 못 뜨고 헤매일 때당신은 ...</td>\n",
              "      <td>2020.12.26</td>\n",
              "    </tr>\n",
              "    <tr>\n",
              "      <th>3572</th>\n",
              "      <td>3998</td>\n",
              "      <td>성인가요/트로트</td>\n",
              "      <td>조항조</td>\n",
              "      <td>때</td>\n",
              "      <td>낮춰야 할 때는 낮춰야하고 물러나야 할 때는 물러나야지 오르고 오르면 끝이 있듯이 ...</td>\n",
              "      <td>2016.07.13</td>\n",
              "    </tr>\n",
              "    <tr>\n",
              "      <th>3573</th>\n",
              "      <td>3999</td>\n",
              "      <td>성인가요/트로트</td>\n",
              "      <td>김의영</td>\n",
              "      <td>도찐개찐</td>\n",
              "      <td>사랑하다 헤어지고 좋아하다 미워하고 돌고도는 세상살이가 돌고도는 인생살이가 왜이리 ...</td>\n",
              "      <td>2021.02.26</td>\n",
              "    </tr>\n",
              "  </tbody>\n",
              "</table>\n",
              "<p>3574 rows × 6 columns</p>\n",
              "</div>\n",
              "      <button class=\"colab-df-convert\" onclick=\"convertToInteractive('df-6fc7f04d-6d7e-4e99-90b6-5e899174c35a')\"\n",
              "              title=\"Convert this dataframe to an interactive table.\"\n",
              "              style=\"display:none;\">\n",
              "        \n",
              "  <svg xmlns=\"http://www.w3.org/2000/svg\" height=\"24px\"viewBox=\"0 0 24 24\"\n",
              "       width=\"24px\">\n",
              "    <path d=\"M0 0h24v24H0V0z\" fill=\"none\"/>\n",
              "    <path d=\"M18.56 5.44l.94 2.06.94-2.06 2.06-.94-2.06-.94-.94-2.06-.94 2.06-2.06.94zm-11 1L8.5 8.5l.94-2.06 2.06-.94-2.06-.94L8.5 2.5l-.94 2.06-2.06.94zm10 10l.94 2.06.94-2.06 2.06-.94-2.06-.94-.94-2.06-.94 2.06-2.06.94z\"/><path d=\"M17.41 7.96l-1.37-1.37c-.4-.4-.92-.59-1.43-.59-.52 0-1.04.2-1.43.59L10.3 9.45l-7.72 7.72c-.78.78-.78 2.05 0 2.83L4 21.41c.39.39.9.59 1.41.59.51 0 1.02-.2 1.41-.59l7.78-7.78 2.81-2.81c.8-.78.8-2.07 0-2.86zM5.41 20L4 18.59l7.72-7.72 1.47 1.35L5.41 20z\"/>\n",
              "  </svg>\n",
              "      </button>\n",
              "      \n",
              "  <style>\n",
              "    .colab-df-container {\n",
              "      display:flex;\n",
              "      flex-wrap:wrap;\n",
              "      gap: 12px;\n",
              "    }\n",
              "\n",
              "    .colab-df-convert {\n",
              "      background-color: #E8F0FE;\n",
              "      border: none;\n",
              "      border-radius: 50%;\n",
              "      cursor: pointer;\n",
              "      display: none;\n",
              "      fill: #1967D2;\n",
              "      height: 32px;\n",
              "      padding: 0 0 0 0;\n",
              "      width: 32px;\n",
              "    }\n",
              "\n",
              "    .colab-df-convert:hover {\n",
              "      background-color: #E2EBFA;\n",
              "      box-shadow: 0px 1px 2px rgba(60, 64, 67, 0.3), 0px 1px 3px 1px rgba(60, 64, 67, 0.15);\n",
              "      fill: #174EA6;\n",
              "    }\n",
              "\n",
              "    [theme=dark] .colab-df-convert {\n",
              "      background-color: #3B4455;\n",
              "      fill: #D2E3FC;\n",
              "    }\n",
              "\n",
              "    [theme=dark] .colab-df-convert:hover {\n",
              "      background-color: #434B5C;\n",
              "      box-shadow: 0px 1px 3px 1px rgba(0, 0, 0, 0.15);\n",
              "      filter: drop-shadow(0px 1px 2px rgba(0, 0, 0, 0.3));\n",
              "      fill: #FFFFFF;\n",
              "    }\n",
              "  </style>\n",
              "\n",
              "      <script>\n",
              "        const buttonEl =\n",
              "          document.querySelector('#df-6fc7f04d-6d7e-4e99-90b6-5e899174c35a button.colab-df-convert');\n",
              "        buttonEl.style.display =\n",
              "          google.colab.kernel.accessAllowed ? 'block' : 'none';\n",
              "\n",
              "        async function convertToInteractive(key) {\n",
              "          const element = document.querySelector('#df-6fc7f04d-6d7e-4e99-90b6-5e899174c35a');\n",
              "          const dataTable =\n",
              "            await google.colab.kernel.invokeFunction('convertToInteractive',\n",
              "                                                     [key], {});\n",
              "          if (!dataTable) return;\n",
              "\n",
              "          const docLinkHtml = 'Like what you see? Visit the ' +\n",
              "            '<a target=\"_blank\" href=https://colab.research.google.com/notebooks/data_table.ipynb>data table notebook</a>'\n",
              "            + ' to learn more about interactive tables.';\n",
              "          element.innerHTML = '';\n",
              "          dataTable['output_type'] = 'display_data';\n",
              "          await google.colab.output.renderOutput(dataTable, element);\n",
              "          const docLink = document.createElement('div');\n",
              "          docLink.innerHTML = docLinkHtml;\n",
              "          element.appendChild(docLink);\n",
              "        }\n",
              "      </script>\n",
              "    </div>\n",
              "  </div>\n",
              "  "
            ]
          },
          "metadata": {},
          "execution_count": 9
        }
      ]
    },
    {
      "cell_type": "markdown",
      "source": [
        "# 곡 감정 태깅"
      ],
      "metadata": {
        "id": "-dwhiVh7r77m"
      }
    },
    {
      "cell_type": "code",
      "source": [
        "for row in tqdm(df.iterrows()):\n",
        "  # #장르 \n",
        "  # print(row[1][1])\n",
        "  # #아티스트 \n",
        "  # print(row[1][2])\n",
        "  # #타이틀 \n",
        "  # print(row[1][3])\n",
        "  # #가사 \n",
        "  print(row[1][4])\n",
        "  # #발매일 \n",
        "  # print(row[1][5])\n",
        "  # print(row[1][-1])\n",
        "  #print(row)\n",
        "  break\n",
        "  #predict_sentiment(row[1][-1], tokenizer, model)\n",
        "  "
      ],
      "metadata": {
        "colab": {
          "base_uri": "https://localhost:8080/"
        },
        "id": "E8Yvoin6rpoW",
        "outputId": "615813b8-cbe9-4370-9bfb-3378f90eafe9"
      },
      "execution_count": 11,
      "outputs": [
        {
          "output_type": "stream",
          "name": "stderr",
          "text": [
            "0it [00:00, ?it/s]"
          ]
        },
        {
          "output_type": "stream",
          "name": "stdout",
          "text": [
            "너와 함께 하고 싶은 일들을상상하는 게요즘 내 일상이 되고너의 즐거워하는 모습을 보고 있으면자연스레 따라 웃고 있는 걸너의 행동에 설레어하고 뒤척이다가지새운 밤이 많아지는데이건 누가 봐도 사랑일 텐데종일 함께면 질릴 텐데나 돌아서도 온통 너인 건아무래도 사랑인가 봐점점 너와 하고 싶은 일들 생각하면서하룰 보낸 날이 많아지는데이건 누가 봐도 사랑일 텐데종일 함께면 질릴 텐데나 돌아서도 온통 너인 건아무래도 사랑인가 봐너의 행복해하는 모습을 보고 있으면나도 모르게 따라 웃는데이 정도면 알아줄 만하잖아너도 용기 낼만 하잖아나만 이런 게 아니라면우리 만나볼 만하잖아아무래도 사랑인가 봐\n"
          ]
        },
        {
          "output_type": "stream",
          "name": "stderr",
          "text": [
            "\n"
          ]
        }
      ]
    },
    {
      "cell_type": "code",
      "source": [
        "Emotion = []\n",
        "Probability = []\n",
        "\n",
        "for row in tqdm(df.iterrows()):\n",
        "  predicted_class, predicted_probability = predict_sentiment(row[1][4], tokenizer, model)\n",
        "  #break\n",
        "  Emotion.append(predicted_class)\n",
        "  Probability.append(predicted_probability)"
      ],
      "metadata": {
        "colab": {
          "base_uri": "https://localhost:8080/"
        },
        "id": "s0f5Y_L8rprD",
        "outputId": "05bad15d-ca77-4c04-a676-17424fbf5a8e"
      },
      "execution_count": 12,
      "outputs": [
        {
          "output_type": "stream",
          "name": "stderr",
          "text": [
            "0it [00:00, ?it/s]INFO:absl:TPU has inputs with dynamic shapes: [<tf.Tensor 'Const:0' shape=() dtype=int32>, <tf.Tensor 'cond/Identity:0' shape=(None, 300) dtype=int64>, <tf.Tensor 'cond/Identity_8:0' shape=(None, 300) dtype=int64>, <tf.Tensor 'cond/Identity_16:0' shape=(None, 300) dtype=int64>]\n",
            "3574it [36:28,  1.63it/s]\n"
          ]
        }
      ]
    },
    {
      "cell_type": "code",
      "source": [
        "df['Emotion'] = Emotion\n",
        "df['Proba'] = Probability"
      ],
      "metadata": {
        "id": "rRfhKkzfrptj"
      },
      "execution_count": 13,
      "outputs": []
    },
    {
      "cell_type": "code",
      "source": [
        "df"
      ],
      "metadata": {
        "colab": {
          "base_uri": "https://localhost:8080/",
          "height": 424
        },
        "id": "OIh9emRUa5Su",
        "outputId": "ef3ebd58-6510-4640-e325-3bd23fb27ee1"
      },
      "execution_count": 14,
      "outputs": [
        {
          "output_type": "execute_result",
          "data": {
            "text/plain": [
              "      index       Genre         Artist       Title  \\\n",
              "0         0  발라드, 국내드라마           멜로망스      사랑인가 봐   \n",
              "1         1         발라드             경서      나의 X에게   \n",
              "2         2         발라드     김민석 (멜로망스)        취중고백   \n",
              "3         3  발라드, 국내드라마            임영웅   사랑은 늘 도망가   \n",
              "4         4         발라드  MSG워너비(M.O.M)      듣고 싶을까   \n",
              "...     ...         ...            ...         ...   \n",
              "3569   3995    성인가요/트로트            조항조         만약에   \n",
              "3570   3996    성인가요/트로트            송가인     용두산 엘레지   \n",
              "3571   3997    성인가요/트로트            송가인  단장의 미아리 고개   \n",
              "3572   3998    성인가요/트로트            조항조           때   \n",
              "3573   3999    성인가요/트로트            김의영        도찐개찐   \n",
              "\n",
              "                                                  Lyric        Date Emotion  \\\n",
              "0     너와 함께 하고 싶은 일들을상상하는 게요즘 내 일상이 되고너의 즐거워하는 모습을 보...  2022.02.18      슬픔   \n",
              "1     우리 다시 만날래예쁘게 빛나던모든 추억들이너무 그리워너의 품에 안길래이 밤이 새도록...  2022.04.24      슬픔   \n",
              "2     뭐하고 있었니 늦었지만잠시 나올래너의 집 골목에 있는놀이터에 앉아 있어친구들 만나서...  2021.12.19      슬픔   \n",
              "3     눈물이 난다 이 길을 걸으면그 사람 손길이 자꾸 생각이 난다붙잡지 못하고 가슴만 떨...  2021.10.11      슬픔   \n",
              "4     우리 함께 듣던 그 노랠 듣고 싶을까듣고 나서 잠시 날 생각은 할까아주 혹시라도 넌...  2022.02.26      슬픔   \n",
              "...                                                 ...         ...     ...   \n",
              "3569  만약에 당신이 그 누구와 사랑에 빠지면 그 사랑을 위해서 무얼할 수 있나 텅빈세상 ...  2020.07.31      슬픔   \n",
              "3570  용두산아 용두산아너만은 변치 말자한 발 올려 맹세하고두 발 디뎌 언약하던한 계단 두...  2021.03.21      슬픔   \n",
              "3571  미아리 눈물고개임이 넘던 이별 고개화약 연기 앞을 가려눈 못 뜨고 헤매일 때당신은 ...  2020.12.26      슬픔   \n",
              "3572  낮춰야 할 때는 낮춰야하고 물러나야 할 때는 물러나야지 오르고 오르면 끝이 있듯이 ...  2016.07.13      슬픔   \n",
              "3573  사랑하다 헤어지고 좋아하다 미워하고 돌고도는 세상살이가 돌고도는 인생살이가 왜이리 ...  2021.02.26      슬픔   \n",
              "\n",
              "      Proba  \n",
              "0     64.12  \n",
              "1     55.27  \n",
              "2     70.52  \n",
              "3     79.44  \n",
              "4     68.81  \n",
              "...     ...  \n",
              "3569  62.06  \n",
              "3570  44.35  \n",
              "3571  48.68  \n",
              "3572  66.13  \n",
              "3573  42.07  \n",
              "\n",
              "[3574 rows x 8 columns]"
            ],
            "text/html": [
              "\n",
              "  <div id=\"df-f9ba017a-bc6d-4c63-b595-e48e346327c2\">\n",
              "    <div class=\"colab-df-container\">\n",
              "      <div>\n",
              "<style scoped>\n",
              "    .dataframe tbody tr th:only-of-type {\n",
              "        vertical-align: middle;\n",
              "    }\n",
              "\n",
              "    .dataframe tbody tr th {\n",
              "        vertical-align: top;\n",
              "    }\n",
              "\n",
              "    .dataframe thead th {\n",
              "        text-align: right;\n",
              "    }\n",
              "</style>\n",
              "<table border=\"1\" class=\"dataframe\">\n",
              "  <thead>\n",
              "    <tr style=\"text-align: right;\">\n",
              "      <th></th>\n",
              "      <th>index</th>\n",
              "      <th>Genre</th>\n",
              "      <th>Artist</th>\n",
              "      <th>Title</th>\n",
              "      <th>Lyric</th>\n",
              "      <th>Date</th>\n",
              "      <th>Emotion</th>\n",
              "      <th>Proba</th>\n",
              "    </tr>\n",
              "  </thead>\n",
              "  <tbody>\n",
              "    <tr>\n",
              "      <th>0</th>\n",
              "      <td>0</td>\n",
              "      <td>발라드, 국내드라마</td>\n",
              "      <td>멜로망스</td>\n",
              "      <td>사랑인가 봐</td>\n",
              "      <td>너와 함께 하고 싶은 일들을상상하는 게요즘 내 일상이 되고너의 즐거워하는 모습을 보...</td>\n",
              "      <td>2022.02.18</td>\n",
              "      <td>슬픔</td>\n",
              "      <td>64.12</td>\n",
              "    </tr>\n",
              "    <tr>\n",
              "      <th>1</th>\n",
              "      <td>1</td>\n",
              "      <td>발라드</td>\n",
              "      <td>경서</td>\n",
              "      <td>나의 X에게</td>\n",
              "      <td>우리 다시 만날래예쁘게 빛나던모든 추억들이너무 그리워너의 품에 안길래이 밤이 새도록...</td>\n",
              "      <td>2022.04.24</td>\n",
              "      <td>슬픔</td>\n",
              "      <td>55.27</td>\n",
              "    </tr>\n",
              "    <tr>\n",
              "      <th>2</th>\n",
              "      <td>2</td>\n",
              "      <td>발라드</td>\n",
              "      <td>김민석 (멜로망스)</td>\n",
              "      <td>취중고백</td>\n",
              "      <td>뭐하고 있었니 늦었지만잠시 나올래너의 집 골목에 있는놀이터에 앉아 있어친구들 만나서...</td>\n",
              "      <td>2021.12.19</td>\n",
              "      <td>슬픔</td>\n",
              "      <td>70.52</td>\n",
              "    </tr>\n",
              "    <tr>\n",
              "      <th>3</th>\n",
              "      <td>3</td>\n",
              "      <td>발라드, 국내드라마</td>\n",
              "      <td>임영웅</td>\n",
              "      <td>사랑은 늘 도망가</td>\n",
              "      <td>눈물이 난다 이 길을 걸으면그 사람 손길이 자꾸 생각이 난다붙잡지 못하고 가슴만 떨...</td>\n",
              "      <td>2021.10.11</td>\n",
              "      <td>슬픔</td>\n",
              "      <td>79.44</td>\n",
              "    </tr>\n",
              "    <tr>\n",
              "      <th>4</th>\n",
              "      <td>4</td>\n",
              "      <td>발라드</td>\n",
              "      <td>MSG워너비(M.O.M)</td>\n",
              "      <td>듣고 싶을까</td>\n",
              "      <td>우리 함께 듣던 그 노랠 듣고 싶을까듣고 나서 잠시 날 생각은 할까아주 혹시라도 넌...</td>\n",
              "      <td>2022.02.26</td>\n",
              "      <td>슬픔</td>\n",
              "      <td>68.81</td>\n",
              "    </tr>\n",
              "    <tr>\n",
              "      <th>...</th>\n",
              "      <td>...</td>\n",
              "      <td>...</td>\n",
              "      <td>...</td>\n",
              "      <td>...</td>\n",
              "      <td>...</td>\n",
              "      <td>...</td>\n",
              "      <td>...</td>\n",
              "      <td>...</td>\n",
              "    </tr>\n",
              "    <tr>\n",
              "      <th>3569</th>\n",
              "      <td>3995</td>\n",
              "      <td>성인가요/트로트</td>\n",
              "      <td>조항조</td>\n",
              "      <td>만약에</td>\n",
              "      <td>만약에 당신이 그 누구와 사랑에 빠지면 그 사랑을 위해서 무얼할 수 있나 텅빈세상 ...</td>\n",
              "      <td>2020.07.31</td>\n",
              "      <td>슬픔</td>\n",
              "      <td>62.06</td>\n",
              "    </tr>\n",
              "    <tr>\n",
              "      <th>3570</th>\n",
              "      <td>3996</td>\n",
              "      <td>성인가요/트로트</td>\n",
              "      <td>송가인</td>\n",
              "      <td>용두산 엘레지</td>\n",
              "      <td>용두산아 용두산아너만은 변치 말자한 발 올려 맹세하고두 발 디뎌 언약하던한 계단 두...</td>\n",
              "      <td>2021.03.21</td>\n",
              "      <td>슬픔</td>\n",
              "      <td>44.35</td>\n",
              "    </tr>\n",
              "    <tr>\n",
              "      <th>3571</th>\n",
              "      <td>3997</td>\n",
              "      <td>성인가요/트로트</td>\n",
              "      <td>송가인</td>\n",
              "      <td>단장의 미아리 고개</td>\n",
              "      <td>미아리 눈물고개임이 넘던 이별 고개화약 연기 앞을 가려눈 못 뜨고 헤매일 때당신은 ...</td>\n",
              "      <td>2020.12.26</td>\n",
              "      <td>슬픔</td>\n",
              "      <td>48.68</td>\n",
              "    </tr>\n",
              "    <tr>\n",
              "      <th>3572</th>\n",
              "      <td>3998</td>\n",
              "      <td>성인가요/트로트</td>\n",
              "      <td>조항조</td>\n",
              "      <td>때</td>\n",
              "      <td>낮춰야 할 때는 낮춰야하고 물러나야 할 때는 물러나야지 오르고 오르면 끝이 있듯이 ...</td>\n",
              "      <td>2016.07.13</td>\n",
              "      <td>슬픔</td>\n",
              "      <td>66.13</td>\n",
              "    </tr>\n",
              "    <tr>\n",
              "      <th>3573</th>\n",
              "      <td>3999</td>\n",
              "      <td>성인가요/트로트</td>\n",
              "      <td>김의영</td>\n",
              "      <td>도찐개찐</td>\n",
              "      <td>사랑하다 헤어지고 좋아하다 미워하고 돌고도는 세상살이가 돌고도는 인생살이가 왜이리 ...</td>\n",
              "      <td>2021.02.26</td>\n",
              "      <td>슬픔</td>\n",
              "      <td>42.07</td>\n",
              "    </tr>\n",
              "  </tbody>\n",
              "</table>\n",
              "<p>3574 rows × 8 columns</p>\n",
              "</div>\n",
              "      <button class=\"colab-df-convert\" onclick=\"convertToInteractive('df-f9ba017a-bc6d-4c63-b595-e48e346327c2')\"\n",
              "              title=\"Convert this dataframe to an interactive table.\"\n",
              "              style=\"display:none;\">\n",
              "        \n",
              "  <svg xmlns=\"http://www.w3.org/2000/svg\" height=\"24px\"viewBox=\"0 0 24 24\"\n",
              "       width=\"24px\">\n",
              "    <path d=\"M0 0h24v24H0V0z\" fill=\"none\"/>\n",
              "    <path d=\"M18.56 5.44l.94 2.06.94-2.06 2.06-.94-2.06-.94-.94-2.06-.94 2.06-2.06.94zm-11 1L8.5 8.5l.94-2.06 2.06-.94-2.06-.94L8.5 2.5l-.94 2.06-2.06.94zm10 10l.94 2.06.94-2.06 2.06-.94-2.06-.94-.94-2.06-.94 2.06-2.06.94z\"/><path d=\"M17.41 7.96l-1.37-1.37c-.4-.4-.92-.59-1.43-.59-.52 0-1.04.2-1.43.59L10.3 9.45l-7.72 7.72c-.78.78-.78 2.05 0 2.83L4 21.41c.39.39.9.59 1.41.59.51 0 1.02-.2 1.41-.59l7.78-7.78 2.81-2.81c.8-.78.8-2.07 0-2.86zM5.41 20L4 18.59l7.72-7.72 1.47 1.35L5.41 20z\"/>\n",
              "  </svg>\n",
              "      </button>\n",
              "      \n",
              "  <style>\n",
              "    .colab-df-container {\n",
              "      display:flex;\n",
              "      flex-wrap:wrap;\n",
              "      gap: 12px;\n",
              "    }\n",
              "\n",
              "    .colab-df-convert {\n",
              "      background-color: #E8F0FE;\n",
              "      border: none;\n",
              "      border-radius: 50%;\n",
              "      cursor: pointer;\n",
              "      display: none;\n",
              "      fill: #1967D2;\n",
              "      height: 32px;\n",
              "      padding: 0 0 0 0;\n",
              "      width: 32px;\n",
              "    }\n",
              "\n",
              "    .colab-df-convert:hover {\n",
              "      background-color: #E2EBFA;\n",
              "      box-shadow: 0px 1px 2px rgba(60, 64, 67, 0.3), 0px 1px 3px 1px rgba(60, 64, 67, 0.15);\n",
              "      fill: #174EA6;\n",
              "    }\n",
              "\n",
              "    [theme=dark] .colab-df-convert {\n",
              "      background-color: #3B4455;\n",
              "      fill: #D2E3FC;\n",
              "    }\n",
              "\n",
              "    [theme=dark] .colab-df-convert:hover {\n",
              "      background-color: #434B5C;\n",
              "      box-shadow: 0px 1px 3px 1px rgba(0, 0, 0, 0.15);\n",
              "      filter: drop-shadow(0px 1px 2px rgba(0, 0, 0, 0.3));\n",
              "      fill: #FFFFFF;\n",
              "    }\n",
              "  </style>\n",
              "\n",
              "      <script>\n",
              "        const buttonEl =\n",
              "          document.querySelector('#df-f9ba017a-bc6d-4c63-b595-e48e346327c2 button.colab-df-convert');\n",
              "        buttonEl.style.display =\n",
              "          google.colab.kernel.accessAllowed ? 'block' : 'none';\n",
              "\n",
              "        async function convertToInteractive(key) {\n",
              "          const element = document.querySelector('#df-f9ba017a-bc6d-4c63-b595-e48e346327c2');\n",
              "          const dataTable =\n",
              "            await google.colab.kernel.invokeFunction('convertToInteractive',\n",
              "                                                     [key], {});\n",
              "          if (!dataTable) return;\n",
              "\n",
              "          const docLinkHtml = 'Like what you see? Visit the ' +\n",
              "            '<a target=\"_blank\" href=https://colab.research.google.com/notebooks/data_table.ipynb>data table notebook</a>'\n",
              "            + ' to learn more about interactive tables.';\n",
              "          element.innerHTML = '';\n",
              "          dataTable['output_type'] = 'display_data';\n",
              "          await google.colab.output.renderOutput(dataTable, element);\n",
              "          const docLink = document.createElement('div');\n",
              "          docLink.innerHTML = docLinkHtml;\n",
              "          element.appendChild(docLink);\n",
              "        }\n",
              "      </script>\n",
              "    </div>\n",
              "  </div>\n",
              "  "
            ]
          },
          "metadata": {},
          "execution_count": 14
        }
      ]
    },
    {
      "cell_type": "code",
      "source": [
        "df.to_csv(\"song_tagged_2.csv\", encoding='utf-8')"
      ],
      "metadata": {
        "id": "uLb5e7ASCaFM"
      },
      "execution_count": 16,
      "outputs": []
    },
    {
      "cell_type": "code",
      "source": [
        "df['Emotion'].value_counts()"
      ],
      "metadata": {
        "colab": {
          "base_uri": "https://localhost:8080/"
        },
        "id": "wB8mtJN_bRBe",
        "outputId": "38fd25c3-3f18-47cb-f7e5-4f2c1e2b354c"
      },
      "execution_count": 18,
      "outputs": [
        {
          "output_type": "execute_result",
          "data": {
            "text/plain": [
              "슬픔    2419\n",
              "분노     782\n",
              "행복     298\n",
              "놀람      75\n",
              "Name: Emotion, dtype: int64"
            ]
          },
          "metadata": {},
          "execution_count": 18
        }
      ]
    }
  ]
}