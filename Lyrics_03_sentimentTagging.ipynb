{
  "cells": [
    {
      "cell_type": "markdown",
      "metadata": {
        "id": "view-in-github",
        "colab_type": "text"
      },
      "source": [
        "<a href=\"https://colab.research.google.com/github/sihyeon3523/Six_of_cells/blob/scraping/Lyrics_03_SentimentTagging.ipynb\" target=\"_parent\"><img src=\"https://colab.research.google.com/assets/colab-badge.svg\" alt=\"Open In Colab\"/></a>"
      ]
    },
    {
      "cell_type": "markdown",
      "metadata": {
        "id": "gX_jZ07Dynfm"
      },
      "source": [
        "<br>\n",
        "<br>\n",
        "\n",
        "# 0. Install & import libraries "
      ]
    },
    {
      "cell_type": "code",
      "execution_count": 8,
      "metadata": {
        "colab": {
          "base_uri": "https://localhost:8080/"
        },
        "id": "WYMLcxGyy6R4",
        "outputId": "c7b2432d-f8eb-477c-8ec8-d187dda2998c"
      },
      "outputs": [
        {
          "output_type": "stream",
          "name": "stdout",
          "text": [
            "1.0.2\n",
            "2.8.0\n",
            "4.8.2\n",
            "0.17.0\n"
          ]
        }
      ],
      "source": [
        "from IPython.display import clear_output \n",
        "\n",
        "!pip install transformers==4.8.2\n",
        "!pip install sentencepiece==0.1.96\n",
        "!pip install tensorflow_addons\n",
        "\n",
        "clear_output()\n",
        "\n",
        "import sklearn\n",
        "import tensorflow\n",
        "import transformers\n",
        "import tensorflow_addons\n",
        "\n",
        "print(sklearn.__version__) # 1.0.2 \n",
        "print(tensorflow.__version__) # 2.8.0  \n",
        "print(transformers.__version__) # 4.8.2  \n",
        "print(tensorflow_addons.__version__) # 0.16.1 \n",
        "\n",
        "import sentencepiece\n",
        "\n",
        "import pandas as pd\n",
        "import numpy as np\n",
        "\n",
        "import os\n",
        "import re\n",
        "import pickle \n",
        "import dill # for saving a function as a file(.pkl)\n",
        "import logging # for changing the tf's logging level\n",
        "import urllib.request\n",
        "from tqdm import tqdm\n",
        "\n",
        "from sklearn import model_selection\n",
        "from sklearn.metrics import accuracy_score\n",
        "\n",
        "import tensorflow as tf\n",
        "import tensorflow_addons as tfa # for using Rectified-Adam optimizer (instead of Adam optimizer) \n",
        "from tensorflow.keras import layers, initializers, losses, optimizers, metrics, callbacks \n",
        "\n",
        "import transformers\n",
        "from transformers import TFBertModel # BertTokenizer 제외\n",
        "\n",
        "import sentencepiece as spm\n",
        "import ast  # str list to list"
      ]
    },
    {
      "cell_type": "code",
      "execution_count": 9,
      "metadata": {
        "id": "ZP1nP5NXBT8W"
      },
      "outputs": [],
      "source": [
        "# Random seed 고정\n",
        "tf.random.set_seed(1234)\n",
        "np.random.seed(1234)\n",
        "\n",
        "# Transformers logging level 변경 (WARNING -> ERROR) @ https://huggingface.co/transformers/main_classes/logging.html\n",
        "transformers.logging.set_verbosity(transformers.logging.ERROR)\n",
        "\n",
        "# Tensorflow logging level 변경 \n",
        "tf.get_logger().setLevel(logging.ERROR)"
      ]
    },
    {
      "cell_type": "code",
      "execution_count": 10,
      "metadata": {
        "id": "du0ZRI16BagI"
      },
      "outputs": [],
      "source": [
        "#KoBERT 불러오기\n",
        "!git clone https://github.com/monologg/KoBERT-Transformers.git\n",
        "!mv KoBERT-Transformers/kobert_transformers/tokenization_kobert.py /content\n",
        "clear_output() # clear the output\n",
        "\n",
        "#토크나이저 생성\n",
        "from tokenization_kobert import KoBertTokenizer \n",
        "\n",
        "tokenizer = KoBertTokenizer.from_pretrained('monologg/kobert')"
      ]
    },
    {
      "cell_type": "markdown",
      "metadata": {
        "id": "X6qL5EKSBowl"
      },
      "source": [
        "# Import Google Drive "
      ]
    },
    {
      "cell_type": "code",
      "execution_count": 11,
      "metadata": {
        "colab": {
          "base_uri": "https://localhost:8080/"
        },
        "id": "pEPEnIFu94xb",
        "outputId": "4d740b5b-eb59-42ad-bee5-b7b75dd845c5"
      },
      "outputs": [
        {
          "output_type": "stream",
          "name": "stdout",
          "text": [
            "Drive already mounted at /content/drive; to attempt to forcibly remount, call drive.mount(\"/content/drive\", force_remount=True).\n"
          ]
        }
      ],
      "source": [
        "from google.colab import drive\n",
        "drive.mount('/content/drive')"
      ]
    },
    {
      "cell_type": "code",
      "execution_count": 12,
      "metadata": {
        "colab": {
          "base_uri": "https://localhost:8080/",
          "height": 35
        },
        "id": "DFlih56_7FbR",
        "outputId": "dfa3d3ed-4241-437c-c9e5-ebe1d94d5039"
      },
      "outputs": [
        {
          "output_type": "execute_result",
          "data": {
            "text/plain": [
              "'/content/drive/My Drive/proj_fin_seunguk'"
            ],
            "application/vnd.google.colaboratory.intrinsic+json": {
              "type": "string"
            }
          },
          "metadata": {},
          "execution_count": 12
        }
      ],
      "source": [
        "os.getcwd()"
      ]
    },
    {
      "cell_type": "code",
      "execution_count": 13,
      "metadata": {
        "id": "EaiTyc8n5Oev"
      },
      "outputs": [],
      "source": [
        "# 경로만 바꾸면 됨!\n",
        "path = '/content/drive/MyDrive/proj_fin_seunguk'# google drive project path\n",
        "data_path = 'colab_data/temp_data/' # model data path\n",
        "checkpoint_path = 'colab_data/temp_data/saved_models/' # saved model path\n",
        "\n",
        "os.chdir(path)"
      ]
    },
    {
      "cell_type": "markdown",
      "metadata": {
        "id": "35DqagFHBmlm"
      },
      "source": [
        "# 1. Load the Data"
      ]
    },
    {
      "cell_type": "code",
      "execution_count": 14,
      "metadata": {
        "id": "tA1axB-LzH_N"
      },
      "outputs": [],
      "source": [
        "df_allsongs_original = pd.read_csv('left_150.csv', lineterminator='\\n')"
      ]
    },
    {
      "cell_type": "code",
      "execution_count": 15,
      "metadata": {
        "colab": {
          "base_uri": "https://localhost:8080/",
          "height": 143
        },
        "id": "dYC3vZoJzMyR",
        "outputId": "cbef31ae-e72f-4c74-e321-1d1579639b7d"
      },
      "outputs": [
        {
          "output_type": "execute_result",
          "data": {
            "text/plain": [
              "   Unnamed: 0         Title              Artist        Date         Genre  \\\n",
              "0          51    서툰 이별을 하려해            문별 (마마무)  2022.03.28           발라드   \n",
              "1          52  월급은 통장을 스칠 뿐  스텔라장 (Stella Jang)  2017.04.30  인디음악, 포크/블루스   \n",
              "2          53       날 봐, 귀순                  대성  2008.06.16      성인가요/트로트   \n",
              "\n",
              "                               preprocess_Lyric_ver3 Unnamed: 6 Unnamed: 7  \\\n",
              "0  ['우리 이제 헤어지기로 해', '너도 알잖아', '우린 충분했다는 걸', '이별이...                         \n",
              "1  ['나나나 나나나 나나나 ', '나나나나나나 나나나나 ', '나나나 나나나 나나나 ...                         \n",
              "2  ['날 봐 날 봐 귀순 날 봐 날 봐 귀순_x000D_', '날 봐 날 봐 지금 당...                         \n",
              "\n",
              "  Unnamed: 8 Unnamed: 9 Unnamed: 10   \\r  \n",
              "0                                     \\r  \n",
              "1                                     \\r  \n",
              "2                                     \\r  "
            ],
            "text/html": [
              "\n",
              "  <div id=\"df-3af149c7-b703-4d61-81a7-a1d2524fd227\">\n",
              "    <div class=\"colab-df-container\">\n",
              "      <div>\n",
              "<style scoped>\n",
              "    .dataframe tbody tr th:only-of-type {\n",
              "        vertical-align: middle;\n",
              "    }\n",
              "\n",
              "    .dataframe tbody tr th {\n",
              "        vertical-align: top;\n",
              "    }\n",
              "\n",
              "    .dataframe thead th {\n",
              "        text-align: right;\n",
              "    }\n",
              "</style>\n",
              "<table border=\"1\" class=\"dataframe\">\n",
              "  <thead>\n",
              "    <tr style=\"text-align: right;\">\n",
              "      <th></th>\n",
              "      <th>Unnamed: 0</th>\n",
              "      <th>Title</th>\n",
              "      <th>Artist</th>\n",
              "      <th>Date</th>\n",
              "      <th>Genre</th>\n",
              "      <th>preprocess_Lyric_ver3</th>\n",
              "      <th>Unnamed: 6</th>\n",
              "      <th>Unnamed: 7</th>\n",
              "      <th>Unnamed: 8</th>\n",
              "      <th>Unnamed: 9</th>\n",
              "      <th>Unnamed: 10</th>\n",
              "      <th>\\r</th>\n",
              "    </tr>\n",
              "  </thead>\n",
              "  <tbody>\n",
              "    <tr>\n",
              "      <th>0</th>\n",
              "      <td>51</td>\n",
              "      <td>서툰 이별을 하려해</td>\n",
              "      <td>문별 (마마무)</td>\n",
              "      <td>2022.03.28</td>\n",
              "      <td>발라드</td>\n",
              "      <td>['우리 이제 헤어지기로 해', '너도 알잖아', '우린 충분했다는 걸', '이별이...</td>\n",
              "      <td></td>\n",
              "      <td></td>\n",
              "      <td></td>\n",
              "      <td></td>\n",
              "      <td></td>\n",
              "      <td>\\r</td>\n",
              "    </tr>\n",
              "    <tr>\n",
              "      <th>1</th>\n",
              "      <td>52</td>\n",
              "      <td>월급은 통장을 스칠 뿐</td>\n",
              "      <td>스텔라장 (Stella Jang)</td>\n",
              "      <td>2017.04.30</td>\n",
              "      <td>인디음악, 포크/블루스</td>\n",
              "      <td>['나나나 나나나 나나나 ', '나나나나나나 나나나나 ', '나나나 나나나 나나나 ...</td>\n",
              "      <td></td>\n",
              "      <td></td>\n",
              "      <td></td>\n",
              "      <td></td>\n",
              "      <td></td>\n",
              "      <td>\\r</td>\n",
              "    </tr>\n",
              "    <tr>\n",
              "      <th>2</th>\n",
              "      <td>53</td>\n",
              "      <td>날 봐, 귀순</td>\n",
              "      <td>대성</td>\n",
              "      <td>2008.06.16</td>\n",
              "      <td>성인가요/트로트</td>\n",
              "      <td>['날 봐 날 봐 귀순 날 봐 날 봐 귀순_x000D_', '날 봐 날 봐 지금 당...</td>\n",
              "      <td></td>\n",
              "      <td></td>\n",
              "      <td></td>\n",
              "      <td></td>\n",
              "      <td></td>\n",
              "      <td>\\r</td>\n",
              "    </tr>\n",
              "  </tbody>\n",
              "</table>\n",
              "</div>\n",
              "      <button class=\"colab-df-convert\" onclick=\"convertToInteractive('df-3af149c7-b703-4d61-81a7-a1d2524fd227')\"\n",
              "              title=\"Convert this dataframe to an interactive table.\"\n",
              "              style=\"display:none;\">\n",
              "        \n",
              "  <svg xmlns=\"http://www.w3.org/2000/svg\" height=\"24px\"viewBox=\"0 0 24 24\"\n",
              "       width=\"24px\">\n",
              "    <path d=\"M0 0h24v24H0V0z\" fill=\"none\"/>\n",
              "    <path d=\"M18.56 5.44l.94 2.06.94-2.06 2.06-.94-2.06-.94-.94-2.06-.94 2.06-2.06.94zm-11 1L8.5 8.5l.94-2.06 2.06-.94-2.06-.94L8.5 2.5l-.94 2.06-2.06.94zm10 10l.94 2.06.94-2.06 2.06-.94-2.06-.94-.94-2.06-.94 2.06-2.06.94z\"/><path d=\"M17.41 7.96l-1.37-1.37c-.4-.4-.92-.59-1.43-.59-.52 0-1.04.2-1.43.59L10.3 9.45l-7.72 7.72c-.78.78-.78 2.05 0 2.83L4 21.41c.39.39.9.59 1.41.59.51 0 1.02-.2 1.41-.59l7.78-7.78 2.81-2.81c.8-.78.8-2.07 0-2.86zM5.41 20L4 18.59l7.72-7.72 1.47 1.35L5.41 20z\"/>\n",
              "  </svg>\n",
              "      </button>\n",
              "      \n",
              "  <style>\n",
              "    .colab-df-container {\n",
              "      display:flex;\n",
              "      flex-wrap:wrap;\n",
              "      gap: 12px;\n",
              "    }\n",
              "\n",
              "    .colab-df-convert {\n",
              "      background-color: #E8F0FE;\n",
              "      border: none;\n",
              "      border-radius: 50%;\n",
              "      cursor: pointer;\n",
              "      display: none;\n",
              "      fill: #1967D2;\n",
              "      height: 32px;\n",
              "      padding: 0 0 0 0;\n",
              "      width: 32px;\n",
              "    }\n",
              "\n",
              "    .colab-df-convert:hover {\n",
              "      background-color: #E2EBFA;\n",
              "      box-shadow: 0px 1px 2px rgba(60, 64, 67, 0.3), 0px 1px 3px 1px rgba(60, 64, 67, 0.15);\n",
              "      fill: #174EA6;\n",
              "    }\n",
              "\n",
              "    [theme=dark] .colab-df-convert {\n",
              "      background-color: #3B4455;\n",
              "      fill: #D2E3FC;\n",
              "    }\n",
              "\n",
              "    [theme=dark] .colab-df-convert:hover {\n",
              "      background-color: #434B5C;\n",
              "      box-shadow: 0px 1px 3px 1px rgba(0, 0, 0, 0.15);\n",
              "      filter: drop-shadow(0px 1px 2px rgba(0, 0, 0, 0.3));\n",
              "      fill: #FFFFFF;\n",
              "    }\n",
              "  </style>\n",
              "\n",
              "      <script>\n",
              "        const buttonEl =\n",
              "          document.querySelector('#df-3af149c7-b703-4d61-81a7-a1d2524fd227 button.colab-df-convert');\n",
              "        buttonEl.style.display =\n",
              "          google.colab.kernel.accessAllowed ? 'block' : 'none';\n",
              "\n",
              "        async function convertToInteractive(key) {\n",
              "          const element = document.querySelector('#df-3af149c7-b703-4d61-81a7-a1d2524fd227');\n",
              "          const dataTable =\n",
              "            await google.colab.kernel.invokeFunction('convertToInteractive',\n",
              "                                                     [key], {});\n",
              "          if (!dataTable) return;\n",
              "\n",
              "          const docLinkHtml = 'Like what you see? Visit the ' +\n",
              "            '<a target=\"_blank\" href=https://colab.research.google.com/notebooks/data_table.ipynb>data table notebook</a>'\n",
              "            + ' to learn more about interactive tables.';\n",
              "          element.innerHTML = '';\n",
              "          dataTable['output_type'] = 'display_data';\n",
              "          await google.colab.output.renderOutput(dataTable, element);\n",
              "          const docLink = document.createElement('div');\n",
              "          docLink.innerHTML = docLinkHtml;\n",
              "          element.appendChild(docLink);\n",
              "        }\n",
              "      </script>\n",
              "    </div>\n",
              "  </div>\n",
              "  "
            ]
          },
          "metadata": {},
          "execution_count": 15
        }
      ],
      "source": [
        "df_allsongs_original.head(3)"
      ]
    },
    {
      "cell_type": "code",
      "execution_count": 16,
      "metadata": {
        "colab": {
          "base_uri": "https://localhost:8080/",
          "height": 424
        },
        "id": "vzWVzsGt0-hw",
        "outputId": "6a060a3d-7297-49d9-fe80-76359767da4b"
      },
      "outputs": [
        {
          "output_type": "execute_result",
          "data": {
            "text/plain": [
              "                                      Title              Artist        Date  \\\n",
              "0                                서툰 이별을 하려해            문별 (마마무)  2022.03.28   \n",
              "1                              월급은 통장을 스칠 뿐  스텔라장 (Stella Jang)  2017.04.30   \n",
              "2                                   날 봐, 귀순                  대성  2008.06.16   \n",
              "3    내일이 오면 (Feat. 기리보이, BIG Naughty (서동현))        릴보이 (lIlBOI)  2020.12.05   \n",
              "4                     치맛바람 (Chi Mat Ba Ram)              브레이브걸스  2021.06.17   \n",
              "..                                      ...                 ...         ...   \n",
              "206                                    일편단심                 금잔디  2009.11.30   \n",
              "207                              Best Of Me               방탄소년단  2017.09.18   \n",
              "208                                   화(火花)             (여자)아이들  2021.01.11   \n",
              "209                                 태클을 걸지마                  진성  2005.12.25   \n",
              "210                        소나기 (Feat. 10cm)                 용준형  2018.03.22   \n",
              "\n",
              "            Genre                              preprocess_Lyric_ver3  \n",
              "0             발라드  ['우리 이제 헤어지기로 해', '너도 알잖아', '우린 충분했다는 걸', '이별이...  \n",
              "1    인디음악, 포크/블루스  ['나나나 나나나 나나나 ', '나나나나나나 나나나나 ', '나나나 나나나 나나나 ...  \n",
              "2        성인가요/트로트  ['날 봐 날 봐 귀순 날 봐 날 봐 귀순_x000D_', '날 봐 날 봐 지금 당...  \n",
              "3            랩/힙합  ['See I just wanna', 'share the vibe with ya',...  \n",
              "4              댄스  ['You know what it is', 'B. girls are back, Br...  \n",
              "..            ...                                                ...  \n",
              "206      성인가요/트로트  ['', ' ', '나도 몰래 사랑했나봐 ', '아프도록 사랑했나봐 ', '시간 흐...  \n",
              "207          랩/힙합  ['When you say that you love me', '난 하늘 위를 걷네'...  \n",
              "208            댄스  ['차디찬 한겨울이 덮친 듯', '시간은 다 얼어버리고', '잔인한 그 바람이 남긴...  \n",
              "209      성인가요/트로트  ['지금부터 뛰어', '앞만 보고 뛰어', '', '어떻게 살았냐고 묻지를 마라',...  \n",
              "210           발라드  ['멋대로 날 찾아와서', '모든 걸 다 적시고', '내 마음도 짙어져 널 원할 때...  \n",
              "\n",
              "[211 rows x 5 columns]"
            ],
            "text/html": [
              "\n",
              "  <div id=\"df-3c360b0f-a8eb-4805-98e0-24a933b1dc43\">\n",
              "    <div class=\"colab-df-container\">\n",
              "      <div>\n",
              "<style scoped>\n",
              "    .dataframe tbody tr th:only-of-type {\n",
              "        vertical-align: middle;\n",
              "    }\n",
              "\n",
              "    .dataframe tbody tr th {\n",
              "        vertical-align: top;\n",
              "    }\n",
              "\n",
              "    .dataframe thead th {\n",
              "        text-align: right;\n",
              "    }\n",
              "</style>\n",
              "<table border=\"1\" class=\"dataframe\">\n",
              "  <thead>\n",
              "    <tr style=\"text-align: right;\">\n",
              "      <th></th>\n",
              "      <th>Title</th>\n",
              "      <th>Artist</th>\n",
              "      <th>Date</th>\n",
              "      <th>Genre</th>\n",
              "      <th>preprocess_Lyric_ver3</th>\n",
              "    </tr>\n",
              "  </thead>\n",
              "  <tbody>\n",
              "    <tr>\n",
              "      <th>0</th>\n",
              "      <td>서툰 이별을 하려해</td>\n",
              "      <td>문별 (마마무)</td>\n",
              "      <td>2022.03.28</td>\n",
              "      <td>발라드</td>\n",
              "      <td>['우리 이제 헤어지기로 해', '너도 알잖아', '우린 충분했다는 걸', '이별이...</td>\n",
              "    </tr>\n",
              "    <tr>\n",
              "      <th>1</th>\n",
              "      <td>월급은 통장을 스칠 뿐</td>\n",
              "      <td>스텔라장 (Stella Jang)</td>\n",
              "      <td>2017.04.30</td>\n",
              "      <td>인디음악, 포크/블루스</td>\n",
              "      <td>['나나나 나나나 나나나 ', '나나나나나나 나나나나 ', '나나나 나나나 나나나 ...</td>\n",
              "    </tr>\n",
              "    <tr>\n",
              "      <th>2</th>\n",
              "      <td>날 봐, 귀순</td>\n",
              "      <td>대성</td>\n",
              "      <td>2008.06.16</td>\n",
              "      <td>성인가요/트로트</td>\n",
              "      <td>['날 봐 날 봐 귀순 날 봐 날 봐 귀순_x000D_', '날 봐 날 봐 지금 당...</td>\n",
              "    </tr>\n",
              "    <tr>\n",
              "      <th>3</th>\n",
              "      <td>내일이 오면 (Feat. 기리보이, BIG Naughty (서동현))</td>\n",
              "      <td>릴보이 (lIlBOI)</td>\n",
              "      <td>2020.12.05</td>\n",
              "      <td>랩/힙합</td>\n",
              "      <td>['See I just wanna', 'share the vibe with ya',...</td>\n",
              "    </tr>\n",
              "    <tr>\n",
              "      <th>4</th>\n",
              "      <td>치맛바람 (Chi Mat Ba Ram)</td>\n",
              "      <td>브레이브걸스</td>\n",
              "      <td>2021.06.17</td>\n",
              "      <td>댄스</td>\n",
              "      <td>['You know what it is', 'B. girls are back, Br...</td>\n",
              "    </tr>\n",
              "    <tr>\n",
              "      <th>...</th>\n",
              "      <td>...</td>\n",
              "      <td>...</td>\n",
              "      <td>...</td>\n",
              "      <td>...</td>\n",
              "      <td>...</td>\n",
              "    </tr>\n",
              "    <tr>\n",
              "      <th>206</th>\n",
              "      <td>일편단심</td>\n",
              "      <td>금잔디</td>\n",
              "      <td>2009.11.30</td>\n",
              "      <td>성인가요/트로트</td>\n",
              "      <td>['', ' ', '나도 몰래 사랑했나봐 ', '아프도록 사랑했나봐 ', '시간 흐...</td>\n",
              "    </tr>\n",
              "    <tr>\n",
              "      <th>207</th>\n",
              "      <td>Best Of Me</td>\n",
              "      <td>방탄소년단</td>\n",
              "      <td>2017.09.18</td>\n",
              "      <td>랩/힙합</td>\n",
              "      <td>['When you say that you love me', '난 하늘 위를 걷네'...</td>\n",
              "    </tr>\n",
              "    <tr>\n",
              "      <th>208</th>\n",
              "      <td>화(火花)</td>\n",
              "      <td>(여자)아이들</td>\n",
              "      <td>2021.01.11</td>\n",
              "      <td>댄스</td>\n",
              "      <td>['차디찬 한겨울이 덮친 듯', '시간은 다 얼어버리고', '잔인한 그 바람이 남긴...</td>\n",
              "    </tr>\n",
              "    <tr>\n",
              "      <th>209</th>\n",
              "      <td>태클을 걸지마</td>\n",
              "      <td>진성</td>\n",
              "      <td>2005.12.25</td>\n",
              "      <td>성인가요/트로트</td>\n",
              "      <td>['지금부터 뛰어', '앞만 보고 뛰어', '', '어떻게 살았냐고 묻지를 마라',...</td>\n",
              "    </tr>\n",
              "    <tr>\n",
              "      <th>210</th>\n",
              "      <td>소나기 (Feat. 10cm)</td>\n",
              "      <td>용준형</td>\n",
              "      <td>2018.03.22</td>\n",
              "      <td>발라드</td>\n",
              "      <td>['멋대로 날 찾아와서', '모든 걸 다 적시고', '내 마음도 짙어져 널 원할 때...</td>\n",
              "    </tr>\n",
              "  </tbody>\n",
              "</table>\n",
              "<p>211 rows × 5 columns</p>\n",
              "</div>\n",
              "      <button class=\"colab-df-convert\" onclick=\"convertToInteractive('df-3c360b0f-a8eb-4805-98e0-24a933b1dc43')\"\n",
              "              title=\"Convert this dataframe to an interactive table.\"\n",
              "              style=\"display:none;\">\n",
              "        \n",
              "  <svg xmlns=\"http://www.w3.org/2000/svg\" height=\"24px\"viewBox=\"0 0 24 24\"\n",
              "       width=\"24px\">\n",
              "    <path d=\"M0 0h24v24H0V0z\" fill=\"none\"/>\n",
              "    <path d=\"M18.56 5.44l.94 2.06.94-2.06 2.06-.94-2.06-.94-.94-2.06-.94 2.06-2.06.94zm-11 1L8.5 8.5l.94-2.06 2.06-.94-2.06-.94L8.5 2.5l-.94 2.06-2.06.94zm10 10l.94 2.06.94-2.06 2.06-.94-2.06-.94-.94-2.06-.94 2.06-2.06.94z\"/><path d=\"M17.41 7.96l-1.37-1.37c-.4-.4-.92-.59-1.43-.59-.52 0-1.04.2-1.43.59L10.3 9.45l-7.72 7.72c-.78.78-.78 2.05 0 2.83L4 21.41c.39.39.9.59 1.41.59.51 0 1.02-.2 1.41-.59l7.78-7.78 2.81-2.81c.8-.78.8-2.07 0-2.86zM5.41 20L4 18.59l7.72-7.72 1.47 1.35L5.41 20z\"/>\n",
              "  </svg>\n",
              "      </button>\n",
              "      \n",
              "  <style>\n",
              "    .colab-df-container {\n",
              "      display:flex;\n",
              "      flex-wrap:wrap;\n",
              "      gap: 12px;\n",
              "    }\n",
              "\n",
              "    .colab-df-convert {\n",
              "      background-color: #E8F0FE;\n",
              "      border: none;\n",
              "      border-radius: 50%;\n",
              "      cursor: pointer;\n",
              "      display: none;\n",
              "      fill: #1967D2;\n",
              "      height: 32px;\n",
              "      padding: 0 0 0 0;\n",
              "      width: 32px;\n",
              "    }\n",
              "\n",
              "    .colab-df-convert:hover {\n",
              "      background-color: #E2EBFA;\n",
              "      box-shadow: 0px 1px 2px rgba(60, 64, 67, 0.3), 0px 1px 3px 1px rgba(60, 64, 67, 0.15);\n",
              "      fill: #174EA6;\n",
              "    }\n",
              "\n",
              "    [theme=dark] .colab-df-convert {\n",
              "      background-color: #3B4455;\n",
              "      fill: #D2E3FC;\n",
              "    }\n",
              "\n",
              "    [theme=dark] .colab-df-convert:hover {\n",
              "      background-color: #434B5C;\n",
              "      box-shadow: 0px 1px 3px 1px rgba(0, 0, 0, 0.15);\n",
              "      filter: drop-shadow(0px 1px 2px rgba(0, 0, 0, 0.3));\n",
              "      fill: #FFFFFF;\n",
              "    }\n",
              "  </style>\n",
              "\n",
              "      <script>\n",
              "        const buttonEl =\n",
              "          document.querySelector('#df-3c360b0f-a8eb-4805-98e0-24a933b1dc43 button.colab-df-convert');\n",
              "        buttonEl.style.display =\n",
              "          google.colab.kernel.accessAllowed ? 'block' : 'none';\n",
              "\n",
              "        async function convertToInteractive(key) {\n",
              "          const element = document.querySelector('#df-3c360b0f-a8eb-4805-98e0-24a933b1dc43');\n",
              "          const dataTable =\n",
              "            await google.colab.kernel.invokeFunction('convertToInteractive',\n",
              "                                                     [key], {});\n",
              "          if (!dataTable) return;\n",
              "\n",
              "          const docLinkHtml = 'Like what you see? Visit the ' +\n",
              "            '<a target=\"_blank\" href=https://colab.research.google.com/notebooks/data_table.ipynb>data table notebook</a>'\n",
              "            + ' to learn more about interactive tables.';\n",
              "          element.innerHTML = '';\n",
              "          dataTable['output_type'] = 'display_data';\n",
              "          await google.colab.output.renderOutput(dataTable, element);\n",
              "          const docLink = document.createElement('div');\n",
              "          docLink.innerHTML = docLinkHtml;\n",
              "          element.appendChild(docLink);\n",
              "        }\n",
              "      </script>\n",
              "    </div>\n",
              "  </div>\n",
              "  "
            ]
          },
          "metadata": {},
          "execution_count": 16
        }
      ],
      "source": [
        "df_allsongs = df_allsongs_original[[\"Title\", \"Artist\", \"Date\", \"Genre\", \"preprocess_Lyric_ver3\"]]\n",
        "df_allsongs"
      ]
    },
    {
      "cell_type": "code",
      "execution_count": 17,
      "metadata": {
        "colab": {
          "base_uri": "https://localhost:8080/"
        },
        "id": "VcmkX5k9Hjgw",
        "outputId": "665873b8-a474-4246-a2b1-8abe4398e310"
      },
      "outputs": [
        {
          "output_type": "stream",
          "name": "stdout",
          "text": [
            "<class 'pandas.core.frame.DataFrame'>\n",
            "RangeIndex: 211 entries, 0 to 210\n",
            "Data columns (total 5 columns):\n",
            " #   Column                 Non-Null Count  Dtype \n",
            "---  ------                 --------------  ----- \n",
            " 0   Title                  211 non-null    object\n",
            " 1   Artist                 211 non-null    object\n",
            " 2   Date                   211 non-null    object\n",
            " 3   Genre                  211 non-null    object\n",
            " 4   preprocess_Lyric_ver3  211 non-null    object\n",
            "dtypes: object(5)\n",
            "memory usage: 8.4+ KB\n",
            "None\n",
            "       Title Artist        Date Genre  \\\n",
            "count    211    211         211   211   \n",
            "unique   209    152         198    22   \n",
            "top       고백    임영웅  2020.12.26  랩/힙합   \n",
            "freq       2      8           3    34   \n",
            "\n",
            "                                    preprocess_Lyric_ver3  \n",
            "count                                                 211  \n",
            "unique                                                211  \n",
            "top     ['우리 이제 헤어지기로 해', '너도 알잖아', '우린 충분했다는 걸', '이별이...  \n",
            "freq                                                    1  \n"
          ]
        }
      ],
      "source": [
        "print(df_allsongs.info())\n",
        "print(df_allsongs.describe())"
      ]
    },
    {
      "cell_type": "code",
      "execution_count": 18,
      "metadata": {
        "colab": {
          "base_uri": "https://localhost:8080/",
          "height": 105
        },
        "id": "CIv6nQUhhFwG",
        "outputId": "398c4839-54f9-49cd-c5da-8879a36363a2"
      },
      "outputs": [
        {
          "output_type": "execute_result",
          "data": {
            "text/plain": [
              "'[\"woh I\\'m on air\", \\'구름 위 걸어 다녀 매일\\', \\'hunnit dolla bills in my pocket\\', \\'허나 발걸음만은 가볍게\\', \\'5년 전과는 다른 위치\\', \\'다른 state of mind\\', \\'잃을 게 많아 보이긴 하지만 \\', \"사실 i don\\'t care\", \\'aye say hello to my little \\', \\'friend like woh\\', \"시간이 지나도 I\\'m on it on it\", \\'굴린 적 없지 내 잔머린 머리\\', \\'꽤 오래 자리를 비웠었지만\\', \\'너도 알잖아 나의 랩은 iconic\\', \\'그레이 형의 BEAT \\', \\'이건 family business\\', \\'불을 더 지피지 we gotta keep it real\\', \\'다시 뭉쳤지 Team AOMG\\', \\'커져버린 덩치 think this is the one\\', \\'어느새 여기까지 이제야 보여 멀리까지\\', \\'정확히 기억하지\\', \\'끝나고 집에 돌아가던 날이\\', \\'오늘은 점을 찍고\\', \\'제대로 돌아가려 하지\\', \\'same team same squad \\', \\'but different day\\', \\'바뀐 게 있다면 직접 보길 원해\\', \\'새로운 역사를 난 이뤄내지\\', \\'so come see me live now\\', \\'We on air\\', \"You\\'re bout to watch me dance\", \\'올라가지 We go way up\\', \\'구름 위에서 난 헤엄\\', \\'시간이 들었지만 \\', \\'어차피 우승은 내 말마따나 음\\', \\'위험해 위험해 생방 \\', \\'불구덩이 내 자리 맡아놔\\', \\'5년 전에 그린 TV 속의 팀\\', \\'돌아왔다 각 풀어진 채로 \\', \\'막 수경으로 만기 \\', \\'다시 I can be your party band \\', \\'In everywhere 난 groovy \\', \\'아직도 걔네들은 멍청하더라 \\', \\'꼭 이래 보여줘야 불식 \\', \\'재빨리 사격 중지 괜찮아 \\', \\'맘 편하게 먹어 지긋이 \\', \\'AOMG 박재범이 \\', \\'아직까지도 의리로 대하듯이 \\', \\'나의 수입 I don’t know I don’t know \\', \\'이제서야 다음 단계로 건강 걱정 \\', \\'눈에 들어오지도 않는 마름모 \\', \\'가벼움이 목적이 됐지 \\', \\'산뜻하게 머리카락 한 번 더 자르고 \\', \\'다시 또 쇼미더머니 \\', \\'릴보이 전화 한 통에 \\', \\'빨간 불빛 켜지면서 \\', \"Let\\'s go\", \\'We on air\\', \"You\\'re bout to watch me dance\", \\'올라가지 We go way up\\', \\'구름 위에서 난 헤엄\\', \\'I’m on air\\', \\'니네가 탑 클라스면 I’m God Tier\\', \\'2010년부터 매해 It’s my year\\', \\'classic like Illmatic like I’m Nasir\\', \\'아옴그 하이어 없이 못 돌아가는 건 쇼미\\', \\'난 그 두 레이블의 CEO지\\', \\'완벽한 story\\', \\'혁우가 날 보고 의리를 배웠지\\', \\'그게 큰형님\\', \\'여전히 yeah I’m still \\', \\'on that boss shit huh\\', \\'하이어 컴필 들어봐 mob shit huh\\', \\'밑바닥 허슬 존나 빡세 huh\\', \\'뭐든 처리해 알아 쨔샤 huh\\', \\'미래 회장님 난 entrepreneur\\', \\'원 소주 내년 출시 예정 pour up\\', \\'떠날 때 경례를 보내 no hatin\\', \\'전설이 돼가 나는 노란 Jay-Z\\', \\'Jay-Z never change\\', \\'Grind grind on the daily\\', \\'몇십억을 거절해 그게 FLEX\\', \\'나의 그림 계속 커가\\', \\'성공이 나의 개인기\\', \\'Entertainment &amp; Sports Worldwide\\', \\'누가 우리를 제대로 대표해\\', \"doin\\' that part\", \\'let me tell you\\', \\'BTS 봉준호 손흥민 Jay Park\\', \"Let\\'s go\", \"yeah walkin\\' on air\", \\'구름 위를 걷는 기분 \\', \"goin\\' up already there\", \\'yeah focus on me\\', \\'모든 카메라가 나를 향하네 \\', \\'oh where they at\\', \\'magic carpet ride\\', \\'멀리 날아가\\', \\'hocus pocus now \\', \\'yeah yeah yeah yeah\\', \\'현실에 부딪혀도\\', \\'꿈이 있었기에 가능\\', \\'when i was a little boy\\', \\'인생은 짧지만 예술은 길어\\', \\'오늘 밤에 모든 기를 부어\\', \\'Zion.T와 기리보이\\', \\'아옴그와 릴보이\\', \\'Jay Park GRAY 로꼬\\', \\'우승은 릴보이\\', \\'승리의 세리머니\\', \\'손가락 반지에 뽀뽀\\', \\'We on air\\', \"You\\'re bout to watch me dance\", \\'올라가지 We go way up\\', \\'구름 위에서 난 헤엄\\', \\'We on air\\', \"You\\'re bout to watch me dance\", \\'올라가지 We go way up\\', \\'구름 위에서 난 헤엄\\', \\'\\']'"
            ],
            "application/vnd.google.colaboratory.intrinsic+json": {
              "type": "string"
            }
          },
          "metadata": {},
          "execution_count": 18
        }
      ],
      "source": [
        "df_allsongs.preprocess_Lyric_ver3.iloc[12]"
      ]
    },
    {
      "cell_type": "markdown",
      "metadata": {
        "id": "khGer54hF8GD"
      },
      "source": [
        "# Colab 끊겨서 뒷부분 장르 태깅 안되는 경우 방지 all rows shuffle"
      ]
    },
    {
      "cell_type": "code",
      "execution_count": 19,
      "metadata": {
        "id": "YY4d6j98F6OR"
      },
      "outputs": [],
      "source": [
        "df_allsongs = df_allsongs.sample(frac=1).reset_index(drop=True)  # shuffling하고 index reset"
      ]
    },
    {
      "cell_type": "markdown",
      "metadata": {
        "id": "5AH_bjFE_DlY"
      },
      "source": [
        "# Load saved Model\n"
      ]
    },
    {
      "cell_type": "code",
      "execution_count": 20,
      "metadata": {
        "colab": {
          "base_uri": "https://localhost:8080/",
          "height": 98,
          "referenced_widgets": [
            "59a7358467004c188204f4c0778a5821",
            "c66669e2ec3b4bb7b137b8a78e2ed38f",
            "a5d25261a0ca46ce851a6f69e6d19cb7",
            "58b0dda4072a4391b7b3980fef6a1b9d",
            "57ad1d37bf984cd0b07f93c0f1397697",
            "e00d013b478741b0a081fb38661cc2ec",
            "6f51253b27d7423d97e7b534921508ca",
            "61e79fa6cbe34819be25fb7c56784c53",
            "e53cd4b892e44ecf97073def7f389277",
            "dfcea375f6164fb38d9a271ddfe7d356",
            "2d46e0c334394fb485769b8dafe2d4da",
            "96535268cad64f96a1d3c37d88907c67",
            "f05554d9219d413c947cf3d5dafb6194",
            "69206d5902ba45fcbbb63043c4d40e40",
            "b8bbcbae794b49a8b9f1a2bb7074a1d3",
            "f58251df690f4ea8b8d545c66de26a1d",
            "655a4253a27642d5b1da73d6b07cc636",
            "ac7d0b3d1b60435b9e924d6019ed3ffe",
            "09ba2430c80d4f348a2f829b7065a026",
            "e5b7156f64c349ba9a28238f987accf5",
            "cc239b5bc0774ecea912f2fb8c645f02",
            "52dc6213194a494c8d29d7b6e99c9c88"
          ]
        },
        "id": "IqkTwemez5n3",
        "outputId": "d5cc6d3d-c000-44a2-866b-5b9b375a2a6e"
      },
      "outputs": [
        {
          "output_type": "stream",
          "name": "stderr",
          "text": [
            "INFO:absl:Entering into master device scope: /job:worker/replica:0/task:0/device:CPU:0\n"
          ]
        },
        {
          "output_type": "display_data",
          "data": {
            "text/plain": [
              "Downloading:   0%|          | 0.00/426 [00:00<?, ?B/s]"
            ],
            "application/vnd.jupyter.widget-view+json": {
              "version_major": 2,
              "version_minor": 0,
              "model_id": "59a7358467004c188204f4c0778a5821"
            }
          },
          "metadata": {}
        },
        {
          "output_type": "display_data",
          "data": {
            "text/plain": [
              "Downloading:   0%|          | 0.00/369M [00:00<?, ?B/s]"
            ],
            "application/vnd.jupyter.widget-view+json": {
              "version_major": 2,
              "version_minor": 0,
              "model_id": "96535268cad64f96a1d3c37d88907c67"
            }
          },
          "metadata": {}
        }
      ],
      "source": [
        "# 1) Load the Model-builder (function)\n",
        "with open(data_path + 'model_BERTfunction_v1.pkl', 'rb') as f:\n",
        "    create_model = dill.loads(pickle.load(f)) # use dill to pickle a python function\n",
        "\n",
        "# 2) Load the Bert-tokenizer \n",
        "with open(data_path + 'tokenizer-bert.pkl', 'rb') as f:\n",
        "    tokenizer = pickle.load(f) \n",
        "\n",
        "\n",
        "# 3) Create the model & load the Model-weights (from checkpoint file)\n",
        "resolver = tf.distribute.cluster_resolver.TPUClusterResolver(tpu='grpc://' + os.environ['COLAB_TPU_ADDR'])\n",
        "tf.config.experimental_connect_to_cluster(resolver) \n",
        "tf.tpu.experimental.initialize_tpu_system(resolver)\n",
        "strategy = tf.distribute.TPUStrategy(resolver) # Obsolete : tf.distribute.experimental.TPUStrategy()\n",
        "\n",
        "with strategy.scope(): \n",
        "    model = create_model(max_length=300) \n",
        "\n",
        "model.load_weights(filepath=checkpoint_path + 'best_bert_weights.h5')"
      ]
    },
    {
      "cell_type": "markdown",
      "metadata": {
        "id": "yYz-CbvMAJ1Z"
      },
      "source": [
        "# Classifier as a function"
      ]
    },
    {
      "cell_type": "code",
      "execution_count": 21,
      "metadata": {
        "id": "rldmfWAZAHK3"
      },
      "outputs": [],
      "source": [
        "def predict_sentiment_element(sentence, tokenizer, model):\n",
        "    \"\"\"\n",
        "    가사 내 문장 별 확률 값 추출\n",
        "    \"\"\"    \n",
        "    SEQ_LEN = 300 \n",
        "\n",
        "    # Tokenizing / Tokens to sequence numbers / Padding\n",
        "    encoded_dict = tokenizer.encode_plus(text=re.sub(\"[^\\s0-9a-zA-Zㄱ-ㅎㅏ-ㅣ가-힣]\", \"\", sentence), # 특수문자 제거\n",
        "                                         padding='max_length', \n",
        "                                         truncation = True,\n",
        "                                         max_length=SEQ_LEN) \n",
        "    \n",
        "    token_ids = np.array(encoded_dict['input_ids']).reshape(1, -1) \n",
        "    token_masks = np.array(encoded_dict['attention_mask']).reshape(1, -1)\n",
        "    token_segments = np.array(encoded_dict['token_type_ids']).reshape(1, -1)\n",
        "    \n",
        "    new_inputs = (token_ids, token_masks, token_segments)\n",
        "\n",
        "    # Prediction\n",
        "    pred = model.predict(new_inputs) \n",
        "    all_pred_proba = np.round(pred * 100, 2)\n",
        "    \n",
        "    #top_pred_proba = np.round(np.max(pred) * 100, 2) \n",
        "    #pred_class = ['분노혐오','놀람공포','슬픔','행복'][np.argmax(pred, axis=1)[0]] # 수정하면 4개 클래스 다 나올듯! \n",
        "    #print(\"{}% 확률로 {} 텍스트입니다.\".format(top_pred_proba, pred_class))\n",
        "\n",
        "    return all_pred_proba "
      ]
    },
    {
      "cell_type": "code",
      "execution_count": 22,
      "metadata": {
        "id": "vWzsRiH1-Qqf"
      },
      "outputs": [],
      "source": [
        "def predict_sentiment_lyrics(lyrics):\n",
        "    \"\"\"\n",
        "    가사의 감성 확률 값 추출, 문장별 감성 확률의 정규화 평균  \n",
        "    가사내 문장 단위로 predict_sentiment_element 함수 적용   \n",
        "    마지막 원소 '' 빈칸임. <br/> 태그 기준으로 split해서 나옴, 빈칸인 element 제거\n",
        "    \"\"\"\n",
        "    lyrics = ast.literal_eval(lyrics) # str list to list\n",
        "    lyrics = list(filter(lambda x: x != '', lyrics))\n",
        "\n",
        "    print(len(lyrics)) \n",
        "    print(lyrics)\n",
        "\n",
        "\n",
        "    for i in range(len(lyrics)):\n",
        "        \n",
        "        if lyrics[i] != '':\n",
        "            all_pred_proba = predict_sentiment_element(lyrics[i], tokenizer, model)\n",
        "            anger = all_pred_proba[0][0]\n",
        "            scary = all_pred_proba[0][1]\n",
        "            sad = all_pred_proba[0][2]\n",
        "            happy = all_pred_proba[0][3]\n",
        "            #print(i, lyrics[i], all_pred_proba) \n",
        "\n",
        "        anger += anger \n",
        "        scary += scary\n",
        "        sad  += sad\n",
        "        happy += happy\n",
        "\n",
        "    total_array = np.ndarray.round( (np.array([(anger, scary, sad, happy)]) / (anger + scary + sad + happy)), 2)\n",
        "    top_pred_prob = total_array[0][np.argmax(total_array, axis=1)[0]]\n",
        "    top_pred_class = ['분노혐오','놀람공포','슬픔','행복'][np.argmax(total_array, axis=1)[0]]\n",
        "\n",
        "    return total_array, top_pred_class, top_pred_prob"
      ]
    },
    {
      "cell_type": "code",
      "execution_count": 23,
      "metadata": {
        "id": "sva5V55xCHnq"
      },
      "outputs": [],
      "source": [
        "# test_list = df_allsongs.preprocess_Lyric_ver3.iloc[35]\n",
        "# total_array, top_pred_class, top_pred_prob = predict_sentiment_lyrics(test_list)"
      ]
    },
    {
      "cell_type": "code",
      "execution_count": 24,
      "metadata": {
        "id": "XmKPbJ4YCJKF"
      },
      "outputs": [],
      "source": [
        "# print(total_array) \n",
        "# print(top_pred_class)  \n",
        "# print(top_pred_prob)  "
      ]
    },
    {
      "cell_type": "markdown",
      "metadata": {
        "id": "rWzyg_PK-Mbb"
      },
      "source": [
        "preprocess_Lyric_ver3에 적용 <br> \n",
        "\n",
        "list가 str 형태로 row에 저장되었기 때문에 ast library로 다시 list로 바꿔주어야한다.<br>\n",
        "(str list to list)"
      ]
    },
    {
      "cell_type": "markdown",
      "metadata": {
        "id": "-MrmcLPG2od2"
      },
      "source": [
        "# Apply model"
      ]
    },
    {
      "cell_type": "code",
      "execution_count": 25,
      "metadata": {
        "id": "jYYaHQ1bI0v6"
      },
      "outputs": [],
      "source": [
        "# Emotion = []\n",
        "# Probability = []\n",
        "# 분노혐오 = []\n",
        "# 놀람공포 = []\n",
        "# 슬픔 = []\n",
        "# 행복 = []\n",
        "\n",
        "\n",
        "# for row in tqdm(df_allsongs.iterrows()):\n",
        "\n",
        "\n",
        "#         total_array, top_pred_class, top_pred_prob = predict_sentiment_lyrics(row[1][-1])\n",
        "#         Emotion.append(top_pred_class)\n",
        "#         Probability.append(top_pred_prob)\n",
        "#         분노혐오.append(total_array[0][0])\n",
        "#         놀람공포.append(total_array[0][1])\n",
        "#         슬픔.append(total_array[0][2])\n",
        "#         행복.append(total_array[0][3]) \n",
        "\n",
        "# df_allsongs['Emotion'] = Emotion\n",
        "# df_allsongs['Proba'] = Probability\n",
        "# df_allsongs['분노혐오'] = 분노혐오\n",
        "# df_allsongs['놀람공포'] = 놀람공포\n",
        "# df_allsongs['슬픔'] = 슬픔\n",
        "# df_allsongs['행복'] = 행복\n",
        "\n",
        "# df_allsongs.to_csv('songtagged_may27.csv')"
      ]
    },
    {
      "cell_type": "code",
      "execution_count": 26,
      "metadata": {
        "colab": {
          "base_uri": "https://localhost:8080/"
        },
        "id": "VNelHSw3OJsc",
        "outputId": "be493f0b-77de-41c8-a50d-0f6ad807ca62"
      },
      "outputs": [
        {
          "metadata": {
            "tags": null
          },
          "name": "stderr",
          "output_type": "stream",
          "text": [
            "\r  0%|          | 0/211 [00:00<?, ?it/s]"
          ]
        },
        {
          "metadata": {
            "tags": null
          },
          "name": "stdout",
          "output_type": "stream",
          "text": [
            "37\n",
            "['Stay 내 눈물이 마를 때까지', 'Stay 내가 나를 모를 때까지', 'Stay 아주 조금만 기다려', 'Stay 내 기억의 주인은 나야', 'Stay 내가 널 보내줄 때까지', 'Stay 내 기억속에서라도', '조금의 따뜻함이라도 ', '간직할 수 있게해 줘', '난 이미 얼어버릴 듯 ', '한없이 차가워', '너마저 떠나면 나에겐 ', '이제 아름다움이 없어', '난 이미 버려져 있고 ', '한없이 더러워', 'Hey 이미 꽤 오랜 시간동안 ', '내 안에 머물러 있었잖아', '이제 그냥 집이라고 생각해', '조금의 따뜻함이라도 ', '간직할 수 있게해줘', '난 이미 얼어버릴 듯 ', '한없이 차가워', '너마저 떠나면 나에겐 ', '이제 아름다움이 없어', '난 이미 버려져 있고 ', '한없이 더러워', 'Stay inside my dear', \"Don't you come out my dear \", '조금의 따뜻함이라도', '간직할 수 있게 해줘', '난 이미 얼어버릴 듯 ', '한없이 차가워', '너 마저 떠나면 나에겐', '이제 아름다움이 없어', '난 이미 죽어 버릴 듯 ', '한없이 더러워', 'Stay my dear', 'Stay my dear']\n"
          ]
        },
        {
          "metadata": {
            "tags": null
          },
          "name": "stderr",
          "output_type": "stream",
          "text": [
            "INFO:absl:TPU has inputs with dynamic shapes: [<tf.Tensor 'Const:0' shape=() dtype=int32>, <tf.Tensor 'cond/Identity:0' shape=(None, 300) dtype=int64>, <tf.Tensor 'cond/Identity_8:0' shape=(None, 300) dtype=int64>, <tf.Tensor 'cond/Identity_16:0' shape=(None, 300) dtype=int64>]\n",
            "  0%|          | 1/211 [00:54<3:10:58, 54.56s/it]"
          ]
        },
        {
          "metadata": {
            "tags": null
          },
          "name": "stdout",
          "output_type": "stream",
          "text": [
            "28\n",
            "['당신은 내게 그런 사람이에요', '늘 가슴에 품고 살아요', '당신에게서 나는 어떤 사람일까', '가끔은 생각을 해줄까', '별처럼 반짝이던', '우리의 시간도 지나갔죠', '꿈처럼 다시 볼 수는 없나요', '바람처럼 스쳐만 가나요', '사랑아 내 사랑아 나를 떠나지 말아', '다시 만날 수는 없는 내 사랑아', '내 맘속에 별이 되어', '언제라도 그렇게', '영원히 빛나고 있어줘', '그리워 지새우던', '우리의 시간도 지나갔죠', '꿈처럼 다시 볼 수는 없나요', '구름처럼 흘러만 가나요', '사랑아 내 사랑아 나를 떠나지 말아', '다시 만날 수는 없는 내 사랑아', '내 맘속에 별이 되어', '언제라도 그렇게', '영원히 빛나고 있어줘', '사랑아 내 사랑아 나를 잊지 말아줘', '기다려도 오지 않을 사랑아', '내 맘속에 별이 되어', '언제라도 그렇게', '영원히 빛나고 있어줘', '사랑아 나의 사랑아']\n"
          ]
        },
        {
          "metadata": {
            "tags": null
          },
          "name": "stderr",
          "output_type": "stream",
          "text": [
            "\r  1%|          | 2/211 [01:10<1:50:04, 31.60s/it]"
          ]
        },
        {
          "metadata": {
            "tags": null
          },
          "name": "stdout",
          "output_type": "stream",
          "text": [
            "83\n",
            "['모두 나를 가지고', '매일 가만 안 두죠', '내가 너무 예쁘죠', '나 때문에 다 힘들죠', '어딜 걷고 있어도', '빨간 바닥인거죠', 'Red carpet 같은 기분', '모두 날 쳐다 보죠 oh', '어떤 사람은 어머님이 누구냐고', '신선하게 말 걸어도', '아무 느낌이 안 들죠', '하지만 나도 누군가 하고 사랑에', '빠져보고 싶어 Baby', '잘 들어요 내 Boy', '단 한번도 느껴본 적 없는 걸', '알게 해주는', '사람 기다리고 있는 걸', '얼마가 돼도 기다리고 싶어', 'I just wanna fall in love', '어떻게 내가 움직일 수 없게 ', '날 Ooh Ahh Ooh Ahh', '하게 만들어줘', '가짜 가짜 진심 없는 가짜 ', '잘 가 잘 가 Huh', 'OOH AHH하게', '어떻게 이제 더 할말이 없게 ', '날 Ooh Ahh Ooh Ahh', '하게 만들어줘', 'Bla La La La 말만하지 말고 ', '느껴지게 Huh', 'OOH AHH하게', '날 봐 거봐 또 두 번 봐', '한번 지나치고', '등을 돌려 쳐다봐 TWICE', '어딜 가더라도 항상 민 낯', '하지만 내가 제일 빛나', '낮은 신발 신어도 가치는 High', '머릿속엔 늘 영화 속 같은 La La La', '장면들이 지나가네', '생각만해도 떨리네 Yeah', '이제는 나도 누군가 하고 사랑에 ', '빠져 보고 싶어 Baby', '잘 들어요 내 Boy', '단 한번도 느껴본 적 없는 걸', '알게 해주는', '사람 기다리고 있는 걸', '얼마가 돼도 기다리고 싶어', 'I just wanna fall in love', '어떻게 내가 움직일 수 없게 ', '날 Ooh Ahh Ooh Ahh', '하게 만들어줘', '가짜 가짜 진심 없는 가짜 ', '잘 가 잘 가 Huh', 'OOH AHH하게', '어떻게 이제 더 할말이 없게 ', '날 Ooh Ahh Ooh Ahh', '하게 만들어줘', 'Bla La La La 말만하지 말고 ', '느껴지게 Huh', 'OOH AHH하게', '아무하고 만나 시작하기 싫어 ', '쉽지 않은 여자 그게 나인걸 ', 'Let me see', 'How you gon treat me', \"I ain't no easy\", 'Better think about it TWICE', 'Let me see', 'How you gon treat me', \"I ain't no easy\", 'Better think about it TWICE', '어떻게 내가 움직일 수 없게 ', '날 Ooh Ahh Ooh Ahh', '하게 만들어줘', '가짜 가짜 진심 없는 가짜 ', '잘 가 잘 가 Huh', 'OOH AHH하게', '어떻게 이제 더 할말이 없게 ', '날 Ooh Ahh Ooh Ahh', '하게 만들어줘', 'Bla La La La 말만하지 말고 ', '느껴지게 Huh', 'OOH AHH하게', 'OOH AHH하게']\n"
          ]
        },
        {
          "metadata": {
            "tags": null
          },
          "name": "stderr",
          "output_type": "stream",
          "text": [
            "\r  1%|▏         | 3/211 [01:56<2:13:16, 38.45s/it]"
          ]
        },
        {
          "metadata": {
            "tags": null
          },
          "name": "stdout",
          "output_type": "stream",
          "text": [
            "28\n",
            "['길었던 하루의 끝에', '너와 발걸음을 맞춰 걸을 때', '그저 평범했던 모든 게', '너 하나로 내겐 특별해지는 밤', '밤하늘 수놓은 별들이', '오늘따라 더 반짝이는 듯해', '같이 걷고 있는 이 길 따라', '우리를 밝게 비춰 주는 건 아닐까', '한 걸음 한 걸음씩', '두 발을 내딛어가', '나의 손을 잡으며 수줍게', '미소 짓는 너', '우리 더 걸을까', '나란히 걷는 이 거리는', '달빛 아래 은하수를 닮은 듯해', '이대로 시간이 멈춰', '이 밤의 끝에 더 머물고 싶어', '한 걸음 한 걸음씩', '두 발을 내딛어가', '너와 나 잡은 손 놓지 않고', '지금 이대로', '조금 더 걸을까', '너무 서두르진 않을게', '너의 발걸음에 맞춰 걸을게', '언제까지나 내 곁에서', '기대어 쉴 수 있게 영원히 함께 ', '같이 가 줄게', '같이 가 줄래']\n"
          ]
        },
        {
          "metadata": {
            "tags": null
          },
          "name": "stderr",
          "output_type": "stream",
          "text": [
            "\r  2%|▏         | 4/211 [02:12<1:42:07, 29.60s/it]"
          ]
        },
        {
          "metadata": {
            "tags": null
          },
          "name": "stdout",
          "output_type": "stream",
          "text": [
            "46\n",
            "['바보야 오늘은', '안된다고 말하지마', '오늘만큼은 내게도', '꼭 기회를 줘', '사랑스럽게 웃는 것도', '예쁘게 말하는 것도', '많이 연습했어', '보고 싶어도 참으라고 하지마', 'Baby 난 좀 억지', '부리는 것도 맞아', '오늘도 내 눈물 연기로', '받아낸 너와의 데이트', '보고 싶어도', '매일 꾹 참고 있어도', '나는 네가 안아주기만 하면', '샤르르르르 녹아 Yeah', 'Baby You You You Yeah Yeah', 'You You You Yeah Yeah ', 'Baby 난 좀', '욕심부리는 것도 맞아', '오늘도 못되게 떼를 써', '받아낸 너와의 데이트', '사랑한다고 매일', '꼭 표현 못해도', '나는 네가 안아주기만 하면', '샤르르르르 녹아 Yeah', 'Baby You You You Yeah Yeah', 'You You You Yeah Yeah', 'You You You Yeah Yeah', 'You You You Yeah', '서투른 내 맘이', '너에게 닿을까 봐', '사실 손잡는 것도', '많이 떨리는 난데', '오늘도 배웠는걸', '널 더 닮아가던걸', '이젠 내가 널 닮아서', '함께 웃고 있던걸 Yeah', 'You Woo Yeah', 'You You You Yeah Yeah', '그대를 닮아서', '마음이 더 큰 사람이 되면', '그대를 내 품 안에', '꼭 안아 줄래요', 'You You You Yeah Yeah', 'You You You Yeah Yeah']\n"
          ]
        },
        {
          "metadata": {
            "tags": null
          },
          "name": "stderr",
          "output_type": "stream",
          "text": [
            "\r  2%|▏         | 5/211 [02:38<1:36:24, 28.08s/it]"
          ]
        },
        {
          "metadata": {
            "tags": null
          },
          "name": "stdout",
          "output_type": "stream",
          "text": [
            "101\n",
            "[\"Oh boy I'm kinda new to this \", '어떻게 말해야 되지 ', '그냥 솔직히 말할게 ', \"Baby I think I'm in love \", '자꾸 기분이 Up 돼 ', '생각만 해도 찡해 ', '장난 아냐 No playing ', '확신이 들어 ', 'There is something going between ', 'Me you me you ', \"Me you me you it's you and \", 'Me you me you ', \"Me you me you it's you and \", 'Me you me you ', 'Me you me you ', \"It's you and me and you \", 'I sing this song like ', \"I don't need no girlfriend \", '왜냐면 드디어 만났거든 ', 'Girlfriend ', '이 노랠 듣고 꺼져 ', 'Ex girlfriends ', \"Don't call me \", '그녀가 불안해하잖아 ', 'What you want from me ', '이유는 간단해 ', 'Cause she got something for me ', '너와는 달라 달라 달라 ', '말 못했지만 ', '넌 돈 쓰길 바라고 그녀는 ', '마음 쓰기 바래 ', 'Yeah I said it whoop ', '비교해서 미안 그녀 함께하다 ', '너와 놀면 하품이 나 Yawning ', 'So what Sso what ', '날 위해 그녈 위해 ', '너는 Block block block ', \"Oh boy I'm kinda new to this \", '어떻게 말해야 되지 ', '그냥 솔직히 말할게 ', \"Baby I think I'm in love \", '자꾸 기분이 Up 돼 ', '생각만 해도 찡해 ', '장난 아냐 No playing ', '확신이 들어 ', 'There is something going between ', 'Me you me you ', \"Me you me you it's you and \", 'Me you me you ', \"Me you me you it's you and \", 'Me you me you ', 'Me you me you ', \"It's you and me and you \", 'I rap this song like ', \"I don't need no girlfriend \", '왜냐면 지금 옆에 있는 ', 'Soul friend ', '친구도 되 연인도 되니 ', 'Oh well ', '그녀 남자로서 한 마디 해줄게 ', 'Ex boyfriends ', \"Just don't call her \", '이제 그녀는 내가 있으니 ', '밤에 전화하지 마 ', '뭐 하냐 묻지 마 ', '괜히 걸어봐라 뿌르르르 ', '어 어 엄한 소리 들을라 ', '니 Lip service ', '느끼해하지 Mayo ', '그녀 내 말투엔 빨개져 ', 'You gotta ketchup ', 'Mr 껄떡 전엔 신사답게 끝냈지만 ', '딱 잘라 말할게 얄짤없어 I You ', \"Boy I'm kinda new to this \", '어떻게 말해야 될까 ', '그냥 솔직히 말할게 ', \"Baby I think I'm in love \", '자꾸 기분이 Up 돼 ', '생각만 해도 찡해 ', '장난 아냐 No playing ', '확신이 들어 ', 'There is something going between ', 'Me you me you ', \"Me you me you it's you and \", 'Me you me you ', \"Me you me you it's you and \", 'Me you me you ', 'Me you me you ', \"It's you and me and you \", 'Oonce again ', 'Me you me you ', \"Me you me you it's you and \", 'Me you me you ', \"Me you me you it's you and \", 'Me you me you ', 'Me you me you ', \"It's you and me and you \", 'and me and you ', 'and me and you ', 'and me and you ', 'and me and']\n"
          ]
        },
        {
          "metadata": {
            "tags": null
          },
          "name": "stderr",
          "output_type": "stream",
          "text": [
            "\r  3%|▎         | 6/211 [03:34<2:08:27, 37.60s/it]"
          ]
        },
        {
          "metadata": {
            "tags": null
          },
          "name": "stdout",
          "output_type": "stream",
          "text": [
            "54\n",
            "['조그만 날갯짓 널 향한 이끌림  ', '나에게 따라오라 손짓한 것 같아서 ', '애절한 눈빛과 무언의 이야기  ', '가슴에 회오리가 몰아치던 그날 밤 ', '오묘한 그대의 모습에 넋을 놓고  ', '하나뿐인 영혼을 뺏기고 ', '그대의 몸짓에 완전히 취해서 ', '숨 쉬는 것조차 잊어버린 나인데 ', '왈츠처럼 사뿐히 앉아 ', '눈을 뗄 수 없어 시선이 자연스레 ', '걸음마다 널 따라가잖아 ', '날 안내해줘 ', 'yeah 그대가 살고 있는 곳에 ', '나도 함께 데려가줘 ', 'oh 세상의 끝이라도 뒤따라갈 테니 ', '부디 내 시야에서 벗어나지 말아줘  ', '아침이 와도 사라지지 말아줘 oh ', '꿈을 꾸는 걸음 ', '그댄 나만의 아름다운 나비 ', 'oh woo-hoo-hoo oh yeah-  ', 'woo-hoo-hoo yeah woo-hoo-hoo ', '어디서 왔는지 어디로 가는지  ', '친절히 여기까지 마중을 와준 너 ', '가파른 오르막 깎아진 절벽도  ', '걱정마 무엇도 두려울 것이 없으니 ', '너는 뽐내 우아한 자태 ', '오 난 몇 번이고 반하고 ', '사랑은 이렇게 나도 모르게 ', '예고도 없이 불시에 찾아와 ', '왈츠처럼 사뿐히 앉아 눈을 뗄 수  ', '없어 시선이 자연스레 걸음마다 ', '널 따라가잖아 oh no ', '날 안내해줘 ', 'yeah 그대가 살고 있는 곳에 ', '나도 함께 데려가줘 ', 'oh 세상의 끝이라도 뒤따라갈 테니 ', '부디 내 시야에서 벗어나지 말아줘  ', '아침이 와도 사라지지 말아줘 oh ', '꿈을 꾸는 걸음 ', '그댄 나만의 아름다운 나비 ', '낯선 곳을 헤맨다 해도 ', '길을 잃어버린대도 누구보다 ', '솔직한 나의 맘을 따를거야 ', '조용히 눈에 띄는 몸짓', '강하고 부드러운 눈빛', '거부할 수 없는 나니까 yeah', '날 데려가줘', 'yeah 그대가 살고 있는 곳에', '나도 함께 데려가줘', 'oh 세상의 끝이라도 따라갈게 oh no', '내 시야에서 벗어나지 말아줘 ', '아침이 와도 사라지지 말아줘 oh', '조그마한 손짓 나의 가슴엔 ', '회오리가 친다']\n"
          ]
        },
        {
          "metadata": {
            "tags": null
          },
          "name": "stderr",
          "output_type": "stream",
          "text": [
            "\r  3%|▎         | 7/211 [04:03<1:58:04, 34.73s/it]"
          ]
        },
        {
          "metadata": {
            "tags": null
          },
          "name": "stdout",
          "output_type": "stream",
          "text": [
            "28\n",
            "['너를 마지막으로 나의 청춘은 끝이 났다', '우리의 사랑은 모두 끝났다', '램프가 켜져 있는 작은 찻집에서', '나 홀로 우리의 추억을 태워 버렸다', '사랑 눈 감으면 모르리', '사랑 돌아서면 잊으리', '사랑 내 오늘은 울지만', '다시는 울지 않겠다', '하얀 꽃송이 송이 웨딩드레스 수 놓던 날', '우리는 영원히 남남이 되고', '고통의 자물쇠에 갇혀 버리던 날', '그 날은 나도 술잔도 함께 울었다', '사랑 눈 감으면 모르리', '사랑 돌아서면 잊으리', '사랑 내 오늘은 울지만', '다시는 울지 않겠다', '너를 용서 않으니 내가 괴로워 안되겠다', '나의 용서는 너를 잊는 것', '너는 나의 인생을 쥐고 있다 놓아 버렸다', '그대를 이제는 내가 보낸다', '사랑 눈 감으면 모르리', '사랑 돌아서면 잊으리', '사랑 내 오늘은 울지만', '다시는 울지 않겠다', '사랑 눈 감으면 모르리', '사랑 돌아서면 잊으리', '사랑 내 오늘은 울지만', '다시는 울지 않겠다']\n"
          ]
        },
        {
          "metadata": {
            "tags": null
          },
          "name": "stderr",
          "output_type": "stream",
          "text": [
            "\r  4%|▍         | 8/211 [04:17<1:35:58, 28.37s/it]"
          ]
        },
        {
          "metadata": {
            "tags": null
          },
          "name": "stdout",
          "output_type": "stream",
          "text": [
            "76\n",
            "['내 감정 따위 뭐가 중요해', '싫증 날 때까지 갖고 놀면 돼', '널 위해서라면', '날 부러뜨려도 좋아', \"because I'm a toy toy\", '쓸모 없어지면 버려 몰래', '문득 어렴풋이라도 기억될', '수만 있다면 나', 'Everything I do it for you', \"I'm a toy toy\", '담아왔던 속 얘길 나눌 때면', '날 어루만지고 나서야', '미소를 지었던 너야 ', '얼마 안 돼 구석에 놓이겠지만', '이 운명은 네 소유인 걸', 'Girl use me while you can ', \"I'm all yours\", '난 너에게 더 이상 바랄게 없어', '나로 인해 채워지는 널 본다면', '꺼내줄 수 있어', '다 가져가 주겠니', '사랑이 장난이면', '가차 없이 날 이용해', 'Now you know all you need is me', \"I'm your toy I'm your toy\", \"I'm your toy\", '사랑이 장난이면', '가차 없이 날 이용해', '도대체 난 무엇일까 너한테', '이런 질문도 욕심일까 나한텐', '있는 거 없는 거 다 쏟아부었지만', '소박한 기대조차 사치라 느껴진다', '어차피 네 세상에서', '한 발짝도 못 떼', '아름답던 사이로 남아', '추억 속에 진열되면 돼', '네 마음 한적해지면', '날 발견할 수 있어', '사랑은 바보처럼 하는 게', '현명할지도', '아무 말도 해줄 수 없는 나', '침묵하는 내 입술은 벌써', '몇 장의 편지를 써냈어', '나 하나쯤의 가벼운 아픔이지만', '네가 슬퍼하길 원해', 'Girl use me while you can', \"I'm all yours \", '난 너에게 더 이상 바랄게 없어', '나로 인해 채워지는 널 본다면', '꺼내줄 수 있어 다 가져가 주겠니', '사랑이 장난이면', '가차 없이 날 이용해', 'Now you know all you need is me', \"I'm your toy\", '우린 평등할 수 없겠지', '넌 내게 단 하나고', '난 그 중 하나일 테니', '주제넘지 않게끔만 헌신하면서', '시작도 안 해본', '이야길 마무리 지어', '당장 타올라도 바람 앞의 촛불', '널 밝힌 만큼 흐르는 눈물', '이 달리길 갑자기 멈추면', '난 분명히 넘어져', '한 번만이라도 함께 걸어줘 ', '난 너에게 더 이상 바랄게 없어', '나로 인해 채워지는 널 본다면', '꺼내줄 수 있어', '다 가져가 주겠니', '사랑이 장난이면', '가차 없이 날 이용해', 'Now you know all you need is me', \"I'm your toy I'm your toy\", \"I'm your toy\", '사랑이 장난이면', '가차 없이 날 이용해']\n"
          ]
        },
        {
          "metadata": {
            "tags": null
          },
          "name": "stderr",
          "output_type": "stream",
          "text": [
            "\r  4%|▍         | 9/211 [04:58<1:48:09, 32.13s/it]"
          ]
        },
        {
          "metadata": {
            "tags": null
          },
          "name": "stdout",
          "output_type": "stream",
          "text": [
            "45\n",
            "['너를 생각하며 이 노래를 써보려고 해', '이 노래가 네게 와 닿았으면 난 좋겠어', '아무에게나 불러주려 만든 노래가 아냐', '오직 너를 위해 만들어본 노래야', 'My Baby My Lady', 'My Girlfriend My Everything', '너를 위해 이 노래를 만들어봤어', 'My Baby My Lady', 'My Girlfriend My Everything', '내겐 너가 전부라고 생각하면서', '비 내리는 밤에 이 노래를 함께 들으면', '너를 생각하는 나의 맘이 전해질거야', '너의 맘에 이 노래가 울려 퍼지도록', '너를 위해 나 열심히 써내려갈게', '이 노랠 들어봐 너에게 쓴 멜로디', '너를 향한 마음으로 만든 나의 노래를', '항상 너를 보며 불러주고 싶었던 노래', 'only you only you 난 너 뿐인걸', 'My Baby My Lady', 'My Girlfriend My Everything', '너를 위해 이 노래를 만들어봤어', 'My Baby My Lady', 'My Girlfriend My Everything', '내겐 너가 전부라고 생각하면서', 'I believe in you', '난 이미 알았어', 'I believe in your mind', '뻔한 사랑 이야기', '나의 맘 변함 없어', '너를 마주한 순간부터', '난 널 가질거야', 'would you be my girl babe', '아무거나 너 하는 건 다 좋아', '아무데나 너 가는 곳이 right', '아무때나 너와 보내는 시간', '난 너를 위해서 다 맞출거야', '혹시 너가 부담될까봐', '이 노래에 내 마음을 담아봐', '그러니까 나는 너가 좋아', 'My Baby My Lady', 'My Girlfriend My Everything', '너를 위해 이노래를 만들어봤어', 'My Baby My Lady', 'My Girlfriend My Everything', '내겐 너가 전부라고 생각하면서']\n"
          ]
        },
        {
          "metadata": {
            "tags": null
          },
          "name": "stderr",
          "output_type": "stream",
          "text": [
            "\r  5%|▍         | 10/211 [05:22<1:39:20, 29.65s/it]"
          ]
        },
        {
          "metadata": {
            "tags": null
          },
          "name": "stdout",
          "output_type": "stream",
          "text": [
            "53\n",
            "['항상 난 든든해요', '참 오래도 지났는데', '당연하게도', '나의 뒤엔 항상 그대가 서있는걸', '까만 내 맘속에 마치', '햇살처럼 스며들어', '환히 비추고', '웃게만 해주는', '그대가 참 고마워', '가만히 생각하면', '잘해준 거 없는데', '그저 난 받기만 했었잖아', '내 가슴에 넘쳐 흐르는 그대 에너지', '힘이 나게 해 저기 별처럼', '나를 비춰주는', '나를 아껴주는 널 사랑해', '이제야 깨달아', '얼마나 감사한 건지', '소중한 그댈 아껴야만 해', '아낌없이 네게', '더 예쁜 내 맘', '모두 다 줄게', '매 순간 벅차올라', '내 곁에 널 볼 때 마다', '아픈 날에는', '달려와 안아준', '그댄 내게 감동이야', '습관처럼 귀찮은 철부지 투정들도', '언제나 받아주는 그대라', '사랑해', '내 가슴에 넘쳐 흐르는 그대 에너지', '힘이 나게 해 저기 별처럼', '나를 비춰주는', '나를 아껴주는 널 사랑해', '이제야 깨달아', '얼마나 감사한 건지', '소중한 그댈 아껴야만 해', '아낌없이 네게', '더 예쁜 내 맘', '모두 다 줄게', '긴 밤이 새도록 난 네 생각만해', '어떤 말이면 내 마음을 전부 다', '표현하고', '행복을 찾아서 전할 수 있을까', 'I swear to you', '따스히 안아줘', '곁을 지켜줘 아프지 않게', '우리 생애 마지막 그날에도 맹세할게', '오직 내게는 너뿐이라고', '다시 태어나도', '너만을 위해 살아갈 거야', '영원히 널 지켜주는', '내 마음을 줄게']\n"
          ]
        },
        {
          "metadata": {
            "tags": null
          },
          "name": "stderr",
          "output_type": "stream",
          "text": [
            "\r  5%|▌         | 11/211 [05:50<1:37:05, 29.13s/it]"
          ]
        },
        {
          "metadata": {
            "tags": null
          },
          "name": "stdout",
          "output_type": "stream",
          "text": [
            "27\n",
            "['다시 또 누군가를 만나서', '사랑을 하게 될 수 있을까', '그럴 수는 없을 것 같아', '도무지 알 수 없는 한가지', '사람을 사랑하게 되는 일', '참 쓸쓸한 일인 것 같아', '사랑이 끝나고 난 뒤에는', '이 세상도 끝나고', '날 위해 빛나던 모든 것도', '그 빛을 잃어버려', '누구나 사는 동안에 한 번', '잊지 못할 사람을 만나고', '잊지 못할 이별도 하지', '도무지 알 수 없는 한가지', '사람을 사랑한다는 그 일', '참 쓸쓸한 일인 것 같아', '사랑이 끝나고 난 뒤에는', '이 세상도 끝나고', '날 위해 빛나던 모든 것도', '그 빛을 잃어버려', '누구나 사는 동안에 한 번', '잊지 못할 사람을 만나고', '잊지 못할 이별도 하지', '도무지 알 수 없는 한 가지', '사람을 사랑한다는 그 일', '참 쓸쓸한 일인 것 같아', ' ']\n"
          ]
        },
        {
          "metadata": {
            "tags": null
          },
          "name": "stderr",
          "output_type": "stream",
          "text": [
            "\r  6%|▌         | 12/211 [06:04<1:21:46, 24.66s/it]"
          ]
        },
        {
          "metadata": {
            "tags": null
          },
          "name": "stdout",
          "output_type": "stream",
          "text": [
            "29\n",
            "['나는 알아요 당신이 나를', '얼마나 사랑하는지', '내가 없으면 외로움 속에', '조용히 흐느낄 그사람', '떠나야 할 까닭일랑', '묻지 말아요', '내가 너무 바보였어요', '모든 것이 세월 속에 지워질 때면', '그땐 내 마음 알게 될 거야', '너무도 사랑한 당신', '영원히 못 잊을 당신', '추억으로 가는 당신', '나는 알아요 당신을 떠날', '그날이 내게 온 것을', '내가 없으면 외로움 속에', '조용히 흐느낄 그 사람', '진정 그대 사랑이 필요한 것은', '내가 아닌 또 다른 사람', '모든 것이 눈물 속에 지워질 때면', '그땐 내 마음 알게 될 거야', '떠나야 할 까닭일랑 묻지 말아요', '떠나야 할 까닭일랑 묻지 말아요', '내가 너무 바보였어요', '모든 것이 세월 속에 지워질 때면', '그땐 내 마음 알게 될 거야', '너무도 사랑한 당신', '영원히 못 잊을 당신', '추억으로 가는 당신', '추억으로 가는 당신']\n"
          ]
        },
        {
          "metadata": {
            "tags": null
          },
          "name": "stderr",
          "output_type": "stream",
          "text": [
            "\r  6%|▌         | 13/211 [06:19<1:11:46, 21.75s/it]"
          ]
        },
        {
          "metadata": {
            "tags": null
          },
          "name": "stdout",
          "output_type": "stream",
          "text": [
            "53\n",
            "['조금 더 받고 조금 덜 주고 싶어', '조금 더 알고 조금 덜 안고 싶어', '한 발짝 더 다가오면', '난 이곳을 그냥 뜨고 싶어', '조금 더 받고 조금 덜 주고 싶어', 'hold on hold on', 'wait for a minute', '내가 원하는 건 잠깐의 삶', '길고 따분한 붉은 실이 아님', '풀어줘 내 목줄과 이름표에', '나비는 내가 아님', 'camera camera 꺼라', '난 구경거리가 아님', '조금 더 받고 조금 덜 주고 싶어', '조금 더 알고 조금 덜 안고 싶어', '한 발짝 더 다가오면', '난 이곳을 그냥 뜨고 싶어', '조금 더 받고 조금 덜 주고 싶어', 'why are you calling me 나비', '나에 대해 아는 게 뭐니', '네가 보는 건 내가 만든 환상', '사랑해야 할 이유를 줘', '당장 right now', '따순 밥과 이부자리', '목줄 또는 이름 말고', '나에게 진심을 줘', '너에게 진심을 줄게', '조금 더 받고 조금 덜 주고 싶어', '조금 더 알고 조금 덜 안고 싶어', '한 발짝 더 다가오면', '난 이곳을 그냥 뜨고 싶어', '조금 더 받고 조금 덜 주고 싶어', '더 다가오지 말고 기다려줘', '눈을 맞추고 손을 내밀어 줘', '한 발 한 발 다가갈 때', '기뻐하면서 쓰다듬어줘', '조금 더 받고 조금 더 주고 싶어', '조금 더 알고 조금 더 안고 싶어', '조금 더 다가와 봐', '조금 더 멀리 가봐', '조금 더 따듯하게 조금 더 포근하게', '여긴 예민한 곳이니까', '손을 대지 말아 줘', '기다리는 건 싫으니까', '현관문은 항상 열어둬', '나와 하고 싶다면 더 많이 원해줘', '너의 손길과 눈빛에서', '날 찾을 수 있게', '조금 더 받고 조금 더 주고 싶어', '조금 더 알고 조금 더 안고 싶어', '한 발짝 더 다가와 주면', '너에게 가 안기고 싶어', '조금 더 받고 조금 더 주고 싶어']\n"
          ]
        },
        {
          "metadata": {
            "tags": null
          },
          "name": "stderr",
          "output_type": "stream",
          "text": [
            "\r  7%|▋         | 14/211 [06:48<1:17:59, 23.75s/it]"
          ]
        },
        {
          "metadata": {
            "tags": null
          },
          "name": "stdout",
          "output_type": "stream",
          "text": [
            "40\n",
            "['에헤라디야', '에헤라디야 에헤라디야 에헤라디야 ', '에헤라디야 에헤라디야 에헤라디야', '에헤라디야', '보고싶은 나의 님은 언제 오려나', '내님의 사랑 사이에 거리를 두고', '보고픈 내님 언제 쯤이면 보이려나', '서글퍼 울고 불고 내님도 울고', '희망 찾아서 가련다 ', '그댈 위해 웃으련다', '에헤라 디야 에헤라 디야 ', '에헤라 디야 에헤라 디야 아', '또 다시 꿈만 같은 세상을 기다리니', '이놈의 썩을놈아 썩 사라지겠느냐', '아이고 아이고 아이고 ', '에헤라 디야 에헤라 디야', '아이고 아이고 아이고', '에헤라 디야 에헤라 디야', '이풍진 세상살이 내님과 웃으련다', '사랑한 나의 그대 이제 웃어요 ', '바람이 차게 불어도 서로를 안고 ', '불안한 님은 언제쯤이면 웃으려나', '서글퍼 울고 불고 내님도 울고', '희망 찾아서 가련다', '그댈 위해 웃으련다', '에헤라 디야 에헤라 디야 ', '에헤라 디야 에헤라 디야 아', '또 다시 꿈만 같은 세상을 기다리니', '이놈의 썩을놈아 썩 사라지겠느냐', '에헤라 디야 에헤라 디야', '에헤라 디야 에헤라 디야', '에헤라 디야 에헤라 디야', '에헤라 디야 에헤라 디야 아', '또 다시 꿈만 같은 세상을 기다리니', '이놈의 썩을놈아 썩 사라지겠느냐', '아이고 아이고 아이고 ', '에헤라디야 에헤라디야', '아이고 아이고 아이고', '에헤라디야 에헤라디야', '이풍진 세상살이 내님과 웃으련다']\n"
          ]
        },
        {
          "metadata": {
            "tags": null
          },
          "name": "stderr",
          "output_type": "stream",
          "text": [
            "\r  7%|▋         | 15/211 [07:09<1:14:52, 22.92s/it]"
          ]
        },
        {
          "metadata": {
            "tags": null
          },
          "name": "stdout",
          "output_type": "stream",
          "text": [
            "63\n",
            "['<div style=\"OVERFLOW: auto; HEIGHT: 290px\">언제나 내 꿈엔 비가 내려 ', '차가운 바람도 불고 있어', '널 기다리는 내 삶의 끝 ', '본 것만 같아 어떡해', '며칠이 몇 년 같은데 ', '넌 아무렇지 않은지 ', '한번이라도 너를 보여주겠니', 'For the moon by the sea ', '네가 떠난 바닷가에 ', '눈물이 마를 때까지 (다 마를 때까지)', '사랑한다는 건 ', '오직 기다림뿐이었단 걸(단 걸) ', '난 왜 몰랐을까 (난 왜 몰랐을까)', '이제 난 그만 돌아가려 해 ', '너를 몰랐던 그때 네가 없던 세상', '아직은 나에게 내가 전부였던 시절 ', '날 보내 줘', 'From the bottom of my heart ', \"Girl with you , I'll be true\", '모두 거짓말인걸 (거짓 말야) ', '맘은 그렇게 먹지만 (맘은 그렇게 먹지만)', '절대 너인걸 어떡해(걸 어떻게) ', '죽어도 못 잊겠어', 'For the moon by the sea ', '네가 떠난 바닷가에 ', '눈물이 마를 때까지 (다 마를 때까지)', '사랑한다는 건 ', '오직 기다림뿐이었단 걸(단 걸) ', '난 왜 몰랐을까', '널 잊은 채로 나도 살고싶어 ', '하지만 그게 안 돼 아픔만 더해 갈 뿐', '너의 사랑은 끝났지만 ', '나의 사랑은 이제 막 시작했어', 'From the bottom of my heart ', \"still i'm falling in love\", '꿈속에라도 네가(꿈속에서) ', '돌아와 Kiss해줘(나에게 Kiss 한다면)', '약속하지 않아도 돼(않아도 돼) ', '난 매일 기다릴 테니', 'For the moon by the sea ', '네가 떠난 바닷가에 ', '눈물이 마를 때까지 (다 마를 때까지)', '사랑한다는 건 ', '오직 기다림뿐이었단 걸(단 걸) ', '난 왜 몰랐을까', '가끔 네 눈에 눈물이 고여 ', '흐른다면 그건 내가 ', '눈물이 말라서 네 눈물 빌린 거야 ', '돌아와 제발 내게 ', '(난 왜 몰랐을까)', 'For the moon by the sea ', '네가 떠난 바닷가에 ', '눈물이 마를 때까지 (다 마를 때까지)', '사랑한다는 건(사랑해) ', '오직 기다림뿐이었단 걸(기다림뿐이었어)', '난 왜 몰랐을까 (왜 몰랐을까)', 'For the moon by the sea ', '네가 떠난 바닷가에 ', '눈물이 마를 때까지 (다 마를 때까지)', '사랑한다는 건 ', '오직 기다림뿐이었단 걸(oh be my love) ', '난 왜 몰랐을까(ooh~)', '내 꿈엔 비가 이젠 그치길.... </div>']\n"
          ]
        },
        {
          "metadata": {
            "tags": null
          },
          "name": "stderr",
          "output_type": "stream",
          "text": [
            "\r  8%|▊         | 16/211 [07:42<1:24:43, 26.07s/it]"
          ]
        },
        {
          "metadata": {
            "tags": null
          },
          "name": "stdout",
          "output_type": "stream",
          "text": [
            "95\n",
            "[\"Every day I just can't control \", 'Every night the loneliness my love ', 'So beast in the cube ', \"Can't breathe \", 'like freeze ', '내 몸이 굳어가 왜 왜 ', 'Hey dear stay here ', '내 눈이 멀어가 ', '왜 왜 ', 'No way losing my way ', '넌 왜 멀어지기만 해 ', '아프기 싫어 ', '난 깊어만 ', '간 마음은 어떡하나 ', '난 아무 말도 들리지가 않는데 ', '난 아무것도 보이지가 않는데 ', 'Oh ', '니가 나를 떠난 그 날부터 ', '그 무엇 하나 할 수 없는 나인데 ', \"Cuz I'll be there \", '모두 멈췄어 ', '모두 끝났어 내 모든 게 지워져가 ', \"Cuz I'll be there \", '눈을 감아도 ', '내 기억 속에서 ', '니 모습이 흐려지는데 ', 'Every day I shock shock ', 'Every night I shock shock ', \"I'm sorry \", '제발 내게 다시 돌아와줄래 ', 'Every day I shock shock Every night ', 'I shock shock ', '난 너 때문에 ', '아무것도 할 수 없는데 ', 'oh ', 'Come to me oh oh oh tonight ', 'so so crazy Come back back back ', \"to me I'm waiting for you \", 'Oh oh oh tonight so so crazy ', '절대로 깨어날 수 없을 것 같아 ', 'ma shock Hey ya wake up ', '정신차려 보면 너는 곁에 없어 ', 'Oh lalalalalala ', '미친 사람처럼 ', '웃고 있어 ', '그리움이 파도 치는 바다에 ', '매일 허우적대 난 못해 ', 'forget you ', '평생 이렇게 이럴 거면 너를 ', '잡았을 텐데 ', '죽을 만큼 힘들지 ', '않을 텐데 ', 'Oh ', '다시 너를 잡아보려해도 ', '손 끝 하나 움직일 수 없는데 ', \"Cuz I'll be there \", '숨이 가빠와 ', '가슴이 아파  ', '니 생각을 하면 할 수록 ', \"Cuz I'll be there \", '한참 동안을 ', '멍하니 앉아 ', '아무것도 할 수가 없어 ', 'Every day I shock shock ', 'Every night I shock shock ', \"I'm sorry \", '제발 내게 다시 돌아와줄래 ', 'Every day I shock shock ', 'Every night I shock shock ', '난 너 때문에', '아무것도 할 수 없는데', 'oh Come to me oh oh oh tonight', 'so so crazy Come back back back', \"to me I'm waiting for you\", 'Oh oh oh tonight so so crazy', '절대로 깨어날 수 없을 것 같아', 'ma shock', '매일 밤 꿈에 꿈에', '너의 목소리 소리 들리질 않아 않아', '넌 어디에 니가 날 떠나서 행복해', '한다면 그러면 내가 눈물 참아볼게', 'Every day I shock shock', 'Every night I shock shock', \"I'm sorry\", '제발 내게 다시 돌아와줄래', 'Every day I shock shock', 'Every night I shock shock', '난 너 때문에 아무것도 할 수 없는데', 'oh Come to me oh oh oh tonight', 'so so crazy Come back back back', \"to me I'm waiting for you\", 'Oh oh oh tonight so so crazy', '절대로 깨어날 수 없을 것 같아', 'ma shock This song is not over', 'Get Shock']\n"
          ]
        },
        {
          "metadata": {
            "tags": null
          },
          "name": "stderr",
          "output_type": "stream",
          "text": [
            "\r  8%|▊         | 17/211 [08:32<1:47:20, 33.20s/it]"
          ]
        },
        {
          "metadata": {
            "tags": null
          },
          "name": "stdout",
          "output_type": "stream",
          "text": [
            "103\n",
            "['Woo 다 reset', '되돌리고 싶어 모든 걸 reset', 'Woo 다 reset', '되돌리고 싶어 모든 걸 reset', '왜 친구들만 잘 풀리는 건지 ', '자랑해 대박 난 주식과 하는 일의 승진 ', '말 안해도 매일 일하는 날 니가 볼땐 무직', '무력감에 도망도 못쳐 속으로 울지 ', '먹고 사는게 뭔지 오늘도 건너 뛴 점심', '밥 먹잔 동생에게 사진 못해 미안해 더치', '늘 자기 전에 네이버에 내 이름 서치 ', '오래된 맛집 앞에만 붙어있었지', '난 잠이 안 와 어제같은 내일이 올까 봐 ', '반복되는 하루가 또 겁이나', '잘 하고 싶었는데 알바만 하네 밤새', '차가운 현실의 stress 해 떠도 녹질 않네', '지겨운 매일이지만 지루한 인생이', '되기는 싫어 나를 떠밀어 내일은 위로', '올라갈 거라고 개기듯 악을 질러 ', '끝내도 내가 끝낼테니 그만 짖어', '개같은 stress 잊고 나를 믿어', '바늘만 딱 갖다 대면', '터질 것 같아 겁나네', '세 번째 알람이 울려대면', '두통이 tsunami in my head', 'No replay', '새로 reset', '기억을 replay', '새로 reset', '전체 선택', '하고 삭제', '버리고 다시 시작해', '시곗바늘을 잡아버리고 싶어, stop', '멈춰질까', '안돼 woah', '그저 모든 걸 멈춰버리고 싶어, stop', '멈춰질까 huh', '날 깨워, 날 깨워, 날 깨워, 날 깨워', '속아줄 테니 빨리 날 깨워', '흐르는 지독한 현실 속에서', '다 치워, 다 치워, 다 치워, 다 치워', '자취방 괜히 구조를 바꿔', '기분이 풀릴 때까지 woah', '내겐 삭제된 weekend, 삭제된 weekend ', '지금은 몇 신데, 또 몇일인데', 'Man, should I live with that?', 'Can I live with that?', '나도 숨 가뻐 위태, 안 봐도 위태 Hmm', '과다 엔돌핀, man I got it woah', '과다해 아드레날린, man I got it woah', '코티솔 역시, man I got it woah', '이건 내게 스트레스, see man I got it woah', '바늘만 딱 갖다 대면', '터질 것 같아 겁나네', '세 번째 알람이 울려대면', '두통이 tsunami in my head', 'No replay', '새로 reset', '기억을 replay', '새로 reset', '전체 선택', '하고 삭제', '버리고 다시 시작해', '매 개월', '매 년의 네 계절 더러운 성질 머리', '좀 내줘요 가는 길 막고 그래', '너스레 떨 시간 없어 Seoul', '한 군데에 떨어진 내 가족들은 친절하게 산 탓에 ', '더 더 떨어져 결국 도태 됐어', '억 쫒다 억 소리 나면 엔딩 yeah', '회색 city 안에서 ', '내가 사는 style? 이런거지 뭐', '부은 목에 배달 food', '그 손에 걸린 금과 보석', '그걸 보여주고 나면', '그걸 보여주면 서로 ', '누가 못나 올라 떨어졌나 그들의 머리의 chart', '그래 welcome to the jungle life ', '멀리 있는게 아닌 거 주식 coin은', '그곳에 다 얽혀 까먹어', '목에 힘 빼고 돌아가는 법 뭐 넌 어떠냐 묻는 너', '난 요즘 뭐 쉬면서 돌아', '전국 여기 저기 여기 저기 ', '비워내 내 머리 속 독', 'No replay 새로 reset', '기억을 replay 새로 reset', '기억을 replay 새로 reset', '기억을 replay', '바늘만 딱 갖다 대면', '터질 것 같아 겁나네', '세 번째 알람이 울려대면', '두통이 tsunami in my head', 'No replay', '새로 reset', '기억을 replay', '새로 reset', '전체 선택', '하고 삭제', '버리고 다시 시작해', 'Woo 다 reset', '되돌리고 싶어 모든 걸 reset', 'Woo 다 reset', '되돌리고 싶어 모든 걸 reset']\n"
          ]
        },
        {
          "metadata": {
            "tags": null
          },
          "name": "stderr",
          "output_type": "stream",
          "text": [
            "\r  9%|▊         | 18/211 [09:27<2:07:56, 39.77s/it]"
          ]
        },
        {
          "metadata": {
            "tags": null
          },
          "name": "stdout",
          "output_type": "stream",
          "text": [
            "62\n",
            "['손끝이 시리더니 벌써 봄이 왔네', '꿈같은 바람이 불어 곳곳에', '여느 때 와는 다른 듯한', '이 기분이 반가워', '내일은 좀 다른 날이 되려나', '어둠의 그림자 깊은 이 밤에 남겨진', '달이 달이 밝아와', '빛을 그리고 있어', '내 몸에서 널 뺀 만큼', '욕조에 물이 미련이 되어 넘쳐흘러', '한숨이 가득 그 공간을 채워', '새벽이 찾아오면', '혼자 남겨질 때면', 'Starry night', '별이 빛나는 밤', '네가 휘휘휘 불어와', '너와 나 나눈 수많은 밤', '나를 취하게 만들어', '별이 빛나는 밤', '야야야야이야', '별이 빛나는 밤', '야야야야야야야 별이 빛나는 밤', '겨울이 지나고 또다시 꽃은 피고', '따뜻한 공기 냄새가 날 감싸', '달라진 거 없는', '똑같은 일상이 반복돼', '그래도 내일을 기다려봐', '하루에 끝에서 이 자리에 남아서', '날이 날이 새도록', '너를 그리고 있어', 'Do you want me to leave', 'No 난 그 자리 그대로', '까만 밤하늘에 가려', '잠시 보이지 않는 거야', '새벽이 찾아오면', '혼자 남겨질 때면', 'Starry night', '별이 빛나는 밤', '네가 휘휘휘 불어와', '너와 나 나눈 수많은 밤', '나를 취하게 만들어', '별이 빛나는 밤', '야야야야이야', '별이 빛나는 밤', '야야야야야야야 별이 빛나는 밤', 'Starry Starry Night', '네가 없는 밤', '가슴이 공허해', '우리의 풍경이 저물어가', '현실을 부정해 눈을 감아도', '네가 보여 왜 아른거려', 'Leave me alone', '무너져 가네', 'Starry night', '별이 빛나는 밤', '네가 휘휘휘 불어와', '너와 나 나눈 수많은 밤', '나를 취하게 만들어', '별이 빛나는 밤', '야야야야이야', '별이 빛나는 밤', '야야야야야야야 별이 빛나는 밤']\n"
          ]
        },
        {
          "metadata": {
            "tags": null
          },
          "name": "stderr",
          "output_type": "stream",
          "text": [
            "\r  9%|▉         | 19/211 [09:59<2:00:21, 37.61s/it]"
          ]
        },
        {
          "metadata": {
            "tags": null
          },
          "name": "stdout",
          "output_type": "stream",
          "text": [
            "66\n",
            "['한 달 좀 덜 된 기억들', '주머니에 넣은 채', '걷고 있어 몇 시간을', '혹시 몰라 네가 좋아했던', '코트를 입은 채', '나온 번화가 그때 마침', '찬바람 막아줄', '네가 이젠 없으니까', '추울 때 따스히', '안아줄 이가 없으니까', '친구들이 불러도', '나갈 수 없어 난', '창문 너머', '그저 바라봐 그때 마침', '눈이 오잖아', '우리 처음 만난 그 밤에도', '한참 동안 눈이 왔잖아', '지금 내가 생각나지', '않을 리가 없잖아', '눈이 오잖아', '그때 내가 밤하늘 내린', '하얀 눈 예쁘다 했잖아', '그랬잖아', '지금 눈이 오잖아', 'Uh 눈이 오잖아', '이 말 핑계인 걸 알지만', '생각에 잠기곤 해', '거릴 거니는 내', '곁에 아무도 없을 때', '더 크게 들리네', 'Oh 눈 내리는 소리', '이제 인정하자', '수많은 끝도 끝났어', '찬란한 그때의', '우린 이젠 없으니까', '돌아온 계절', '남아있는 건 없으니까', '추억을 지우는 게', '내 이별의 숙제', '창문 너머', '그저 바라봐 그때 마침', '눈이 오잖아', '우리 처음 만난 그 밤에도', '한참 동안 눈이 왔잖아', '지금 내가 생각나지', '않을 리가 없잖아', '눈이 오잖아', '그때 내가 밤하늘 내린', '하얀 눈 예쁘다 했잖아', '그랬잖아', '지금 눈이 오잖아', '마지막 안녕이 남은 거리에서 혼자', '너와의 약속들을 되뇌었어', '함께여야 할 너 없는 이 겨울의', '첫눈이 오잖아', '눈이 오지만', '우리 처음 만난 그 밤에도', '내렸던 그 눈이 오지만', '주머니 속 챙겨 나온 기억', '버려야만 해', '눈이 오지만', '우린 이대로의 모습으로', '남아있는 게 맞지만', '그래도', '지금', '그 눈이 오잖아']\n"
          ]
        },
        {
          "metadata": {
            "tags": null
          },
          "name": "stderr",
          "output_type": "stream",
          "text": [
            "\r  9%|▉         | 20/211 [10:34<1:57:06, 36.79s/it]"
          ]
        },
        {
          "metadata": {
            "tags": null
          },
          "name": "stdout",
          "output_type": "stream",
          "text": [
            "24\n",
            "['길을 걷다가 따라오던', '덥수룩한 털 그 개를 기억해', '따가운 햇살 내내 맞으며', '따라 걷던 그 길의 향을 기억해', '빙 둘러앉아 북적북적이며', '알 수 없는 그 한마디에 울고 웃던', '하염없이 날 불러주던', '소리 없는 그 마음들을', '먼지만 쌓인 그 모든 날을', '잊지마 잊지마 잊지마', '잊지 않아', '길을 걷다가 뒤로 돌면', '맞아오는 그 바람을 기억해', '따뜻한 햇살 내리쬐며', '머리 위를 스치는 커튼을 기억해', '빙 둘러앉아 북적북적이며', '알 수 없는 그 한마디에 울고 웃던', '하염없이 날 불러주던', '소리 없는 그 마음들을', '먼지만 쌓인 그 모든 날을', '사랑해 사랑해 사랑해', '사랑할거야 사랑할거야', '사랑할거야 사랑할거야', '사랑할거야']\n"
          ]
        },
        {
          "metadata": {
            "tags": null
          },
          "name": "stderr",
          "output_type": "stream",
          "text": [
            "\r 10%|▉         | 21/211 [10:47<1:33:47, 29.62s/it]"
          ]
        },
        {
          "metadata": {
            "tags": null
          },
          "name": "stdout",
          "output_type": "stream",
          "text": [
            "55\n",
            "['사랑하는 그대가', '나를 떠나가네요', '한마디 변명도 난 못했는데', '사랑하는 그대가', '행복하고 싶데요', '한마디 애원조차 못했네요', '언젠가 슬픈 표정의 그댈', '바쁘단 핑계로 외면했던', '한심한 바보였으니까', '그땐 몰랐죠', '사랑하는 법을 몰라서', '따뜻하게 안아줄 줄 몰라서', '여린 가슴 가슴이', '무너져 내리는걸 모르고', '무심히 발걸음을 돌렸죠', '그땐 몰랐죠', '사랑하는 법을 몰라서', '그댈 혼자 남겨뒀네요', '미안하단 말조차', '어색하게 보여', '그저 모른 척 지나쳤나 봐요', '다른 누굴 만나도', '나보단 더 낫겠죠', '그래서 그대를 난 보내네요', '다른 누굴 만나도', '그대만은 못하죠', '그래서 그대를 난 못 지워요', '미안한 마음만 남았네요', '잘 가란 말밖에 못 하네요', '가슴은 울고 있는데', '그땐 몰랐죠', '사랑하는 법을 몰라서', '따뜻하게 안아줄 줄 몰라서', '여린 가슴 가슴이', '무너져 내리는걸 모르고', '무심히 발걸음을 돌렸죠', '그땐 몰랐죠', '사랑하는 법을 몰라서', '그댈 혼자 남겨뒀네요', '미안하단 말조차', '어색하게 보여', '그저 모른 척 지나쳤나 봐요', '이젠 알지만', '사랑하는 법을 알지만', '사랑을 줄 그 사람이 없네요', '눈물만 준 사랑은', '모두 잊고 부디 행복하길', '매일 난 울며 기도만 하네요', '다음 세상에', '내 어린 사랑이 아니길', '정말 사랑이란 걸 알 때', '그 때 다시 만나면', '내 품에 안겨요', '행복한 꿈만 그릴 수 있도록', '지금은 그댈 떠나 보내지만']\n"
          ]
        },
        {
          "metadata": {
            "tags": null
          },
          "name": "stderr",
          "output_type": "stream",
          "text": [
            "\r 10%|█         | 22/211 [11:16<1:33:00, 29.53s/it]"
          ]
        },
        {
          "metadata": {
            "tags": null
          },
          "name": "stdout",
          "output_type": "stream",
          "text": [
            "41\n",
            "['서쪽하늘로 노을은 지고  ', '이젠 슬픔이 돼버린 그대를  ', '다시 부를수 없을 것 같아  ', '또 한번 불러보네 ', '소리쳐 불러도 늘 허공에  ', '부서져 돌아오는 너의 이름  ', '이젠 더 견딜 힘조차 없게 ', '날 버려두고 가지  ', '사랑하는 날 떠나가는 날  ', '하늘도 슬퍼서 울어준 날  ', '빗속에 떠날 나였음을  ', '넌 알고 있는듯이 ', '비가오는 날엔 난 항상  ', '널 그리워해  ', '언젠간 널 다시 만나는  ', '그 날을 기다리며  ', '비내린 하늘은 왜그리  ', '날 슬프게해  ', '흩어진 내 눈물로 널  ', '잊고 싶은데  ', '비가오는 날엔 난 항상  ', '널 그리워해  ', '언젠간 널 다시 만나는  ', '그 날을 기다리며  ', '비내린 하늘은 왜그리  ', '날 슬프게해  ', '흩어진 내 눈물로 널  ', '잊고 싶은데  ', '가고싶어 널 보고싶어  ', '꼭 찾고 싶었어  ', '하지만 너의 모습은  ', '아직도 그 자리에  ', '비가오는 날엔 난 항상  ', '널 그리워해  ', '언젠간 널 다시 만나는  ', '그 날을 기다리며 ', '비내린 하늘은 왜그리 ', '날 슬프게해 ', '흩어진 내 눈물로 널 ', '잊고 싶은데 ', '하지만 난 널 사랑해 ']\n"
          ]
        },
        {
          "metadata": {
            "tags": null
          },
          "name": "stderr",
          "output_type": "stream",
          "text": [
            "\r 11%|█         | 23/211 [11:38<1:25:24, 27.26s/it]"
          ]
        },
        {
          "metadata": {
            "tags": null
          },
          "name": "stdout",
          "output_type": "stream",
          "text": [
            "43\n",
            "['그대와 자주 가던 그 술집에', '혼자 널 생각하며 소주 한잔해', '그대가 좋아하던 김치찌개를', '가만히 바라보다 눈물 한잔해', '그 사람 왔었나요', '아니 소식이라도', '그녀에게 전해줘요', '늘 지금처럼 기다린다고', '포장마차 그때 그 자리에서', '네가 있던 그곳에 서서', '날 사랑한다 말했잖아', '영원할 거라고 말했잖아', '포장마차 그때 그 자리에서', '돌아오라는 말을 다시', '되뇌이고 되뇌어도', '네가 돌아오지 않을 걸 알잖아', '그 사람 왔었다면', '혹시 혼자였나요', '그녀에게 전해줘요', '나 그때처럼 기다린다고', '포장마차 그때 그 자리에서', '네가 있던 그곳에 서서', '날 사랑한다 말했잖아', '영원할 거라고 말했잖아', '포장마차 그때 그 자리에서', '돌아오라는 말을 다시', '되뇌이고 되뇌어도', '네가 돌아오지 않을 걸 알잖아', '다 잊으려고 노력해봐도', '그게 잘 안되나봐', '습관처럼 아니 예전처럼 우리', '두 번 다시 돌아갈 수 없나요', '내가 싫은 건가요', '날 사랑한다 말했잖아', '영원할 거라고 말했잖아', '포장마차 그때 그 자리에서', '네가 있던 그곳에 서서', '날 사랑한다 말했잖아', '영원할 거라고 말했잖아', '그댈 다시 부르고 또 불러도', '아무 말 없는 너를 다시', '되뇌이고 되뇌어도', '네가 돌아오지 않을 걸 알잖아']\n"
          ]
        },
        {
          "metadata": {
            "tags": null
          },
          "name": "stderr",
          "output_type": "stream",
          "text": [
            "\r 11%|█▏        | 24/211 [12:02<1:21:23, 26.11s/it]"
          ]
        },
        {
          "metadata": {
            "tags": null
          },
          "name": "stdout",
          "output_type": "stream",
          "text": [
            "57\n",
            "['모두 할 말을 잃지 Like you', '4차원 이상의 기적의 View', '달콤히 찍어 문 빛의 퐁듀', '보이기 시작한 음의 색도', '예민해진 걸 느껴', '뚜렷한 색감과 여섯 번째 감각', 'Tonight is the night', '좀 거칠어도 좋아', '더 민감히 굴어봐', '더는 숨기지 말아줘', '너무 아름다운 다운 다운 다운 View', '너무 아름다운 다운 다운 다운 View', '더 보여줘 다음 다음 다음 다음 View', '너무 아름다운 다운 다운 다운 View', '너무 아름다운 다운 다운 그곳으로', '너무 아름다운 다운 다운 데려가 줘', '더 보여줘 다음 다음 다음', '더 보여줘', '너무 아름다운 다운 다운 다운 View', '저 하늘을 곱게 접는', '이 바다를 병에 담는 시간도', '편히 걷는 꿈들을 이뤄 난', 'By my side', '상상한 게 뭐든 전부 보여 줄게', '이제 말해봐 Yeah yeah', '예민해진 걸 느껴', '은근한 촉감과 끝없어진 감각', 'Tonight is the night', '이상하대도 좋아', '잠들었던 감각의 한계를', '넘어선 그 순간', 'Yeah yeah yeah', '너무 아름다운 다운 다운 다운 View', '너무 아름다운 다운 다운 다운 View', '더 보여줘 다음 다음 다음 다음 View', '너무 아름다운 다운 다운 다운 View', '너무 아름다운 다운 다운 그곳으로', '너무 아름다운 다운 다운 데려가 줘', '더 보여줘 다음 다음 다음', '더 보여줘', '너무 아름다운 다운 다운 다운 View', '지루함에 익숙해져', '특별함을 잊었잖아', '이제 천천히 고개를 들어 줘', '내 두 눈에 입 맞춰', '너무 아름다운 다운 다운', '그곳으로', '너무 아름다운 다운 다운', '그곳으로', '데려가 줘', '누구든 처음이겠지 Like you', 'I feel a thousand senses', '별빛의 향과 맛을 본 것도', 'I’ll never leave you lonely', '향기의 무게를 느낀 것도', 'I won’t let you down', '소리의 색과 모양 본 것도']\n"
          ]
        },
        {
          "metadata": {
            "tags": null
          },
          "name": "stderr",
          "output_type": "stream",
          "text": [
            "\r 12%|█▏        | 25/211 [12:32<1:25:05, 27.45s/it]"
          ]
        },
        {
          "metadata": {
            "tags": null
          },
          "name": "stdout",
          "output_type": "stream",
          "text": [
            "36\n",
            "['모두가 나를 울리고', '세상이 나를 버려도', '외롭지 않았다 두렵지 않다', '니가 있었다', '뒷골목 바람이었다', '망가진 청춘이었다', '하얀 손 내밀어 잡아 주었다', '나를 안아 주었다', '흐르는 눈물이야', '닦으면 그만이지만', '그래도 보고 싶은 마음은', '세월도 달랠 순 없어', '너무나 아파요 아파요 아파요', '사랑이 너무 아파요', '아파요 아파요 아파요 아파요', '사랑한 그 밤들이', '모두가 나를 울리고', '세상이 나를 버려도', '외롭지 않았다 두렵지 않다', '니가 있었다', '뒷골목 바람이었다', '망가진 청춘이었다', '하얀 손 내밀어 잡아 주었다', '나를 안아 주었다', '흐르는 눈물이야', '닦으면 그만이지만', '그래도 보고 싶은 마음은', '세월도 달랠 순 없어', '너무나 아파요 아파요 아파요', '사랑이 너무 아파요', '아파요 아파요 아파요 아파요', '사랑한 그 밤들이', '너무나 아파요 아파요 아파요', '빨갛게 멍든 가슴이', '아파요 아파요 아파요 아파요', '버려진 내 사랑이']\n"
          ]
        },
        {
          "metadata": {
            "tags": null
          },
          "name": "stderr",
          "output_type": "stream",
          "text": [
            "\r 12%|█▏        | 26/211 [12:52<1:17:05, 25.00s/it]"
          ]
        },
        {
          "metadata": {
            "tags": null
          },
          "name": "stdout",
          "output_type": "stream",
          "text": [
            "79\n",
            "['몸이 지쳤을 때 밖을 바라봐', '자연과 함께 하나가 돼버리네', '설레이는 마음 내가 달려가', '위치 보내면 oh oh', 'Where u at Pick u up', '올라타 딱이네', 'We can go anywhere', 'Cruising everywhere', '날씨도 최고네', '분위기 거의 LA', 'We can go anywhere', 'Cruising everywhere', 'Summertime', 'We can play', '고민 no 자유롭게', 'Girl open your window', 'Summertime', 'We can play', '고민 no 자유롭게', 'Girl open your window', 'Summertime yeah SUMMERIDE', 'Summertime yeah SUMMERIDE', 'Summertime yeah SUMMERIDE', 'Steady in my Chevy', 'Summertime yeah SUMMERIDE', 'Summertime yeah SUMMERIDE', 'Summertime yeah SUMMERIDE', 'Steady in my Chevy', '오랜만에 만난 여름날', 'Trailblazing through the streets', '즐거운 이 느낌 엄청나', '이 추억 간직하고파', '이따 집에 가서 오늘 날짜', '메모지에 적어놔', '기분 super up', \"I don't give a what\", \"We be drivin' drivin' girl\", 'I can do this all day', '어느 때도 언제나', 'Baby girl u can call me', '매일 vacation', '함께 있으면', '도로도 천국이야', '이 순간 맛있어 girl', 'I can taste it', 'Never stop green light', 'Always giddy up let’s go', 'Summertime', 'We can play', '고민 no 자유롭게', 'Girl open your window', 'Summertime', 'We can play', '고민 no 자유롭게', 'Girl open your window', 'Summertime yeah SUMMERIDE', 'Summertime yeah SUMMERIDE', 'Summertime yeah SUMMERIDE', 'Steady in my Chevy', 'Summertime yeah SUMMERIDE', 'Summertime yeah SUMMERIDE', 'Summertime yeah SUMMERIDE', 'Steady in my Chevy', 'Summertime', 'We can play', '고민 no 자유롭게', 'Girl open your window', 'Summertime', 'We can play', '고민 no 자유롭게', 'Girl open your window', 'Summertime yeah SUMMERIDE', 'Summertime yeah SUMMERIDE', 'Summertime yeah SUMMERIDE', 'Steady in my Chevy', 'Summertime yeah SUMMERIDE', 'Summertime yeah SUMMERIDE', 'Summertime yeah SUMMERIDE', 'Steady in my Chevy']\n"
          ]
        },
        {
          "metadata": {
            "tags": null
          },
          "name": "stderr",
          "output_type": "stream",
          "text": [
            "\r 13%|█▎        | 27/211 [13:34<1:32:49, 30.27s/it]"
          ]
        },
        {
          "metadata": {
            "tags": null
          },
          "name": "stdout",
          "output_type": "stream",
          "text": [
            "65\n",
            "['이제 몇 번이라도 다시 볼 수 없어', '가만히 널 바라보죠', '날 기억할까 내게 남아 있어서', '진하게 치는 파도 속에 고요하죠', '아름다운 별이 되어서', '피어나서 멀리 속삭여 STARLIGHT', '단 한 번이라도 그댈 보고 싶어', '가만히 하늘을 보면서', '날 기억할까 내게 남아 있어서', '진하게 치는 파도 속에 고요하죠', '아름다운 별이 되어서', '피어나죠 멀리 속삭여 STARLIGHT', 'What you think I’m just sad', 'Good bye Tell ‘em Got me in my', 'Feelings 보내기 힘들단 말', 'STARLIGHT 내 주변에서 Illa', '난 별과 달에 대한 이야길 다루죠', '그대 처음 봤던 하늘은 어땠었나요', '수많던 하늘의 점들을', '닮아가길 원하며', '사랑했었던 그대를 떠나보냈었나요', '이유 없이 흐르는 내 눈물엔', '너의 흔적이 묻어져 있네', '불꽃처럼 뜨겁게 남은 기억', '여전히 남아 피어오르네', '단 한 번이라도 그댈 보고 싶어', '가만히 하늘을 보면서', '날 기억할까 내게 남아 있어서', '진하게 치는 파도 속에 고요하죠', '아름다운 별이 되어서', '피어나죠 멀리 속삭여 STARLIGHT', '언제 떠날지 모를 그대와 함께하면서', '서서히 기억을', '먼저 하늘로 보내 가면서', '아이가 되어 가는 그댈 미워하면서도', '그대 부디 내려다본다면은', '나를 위해서', '가장 큰 외침으로 빛나여 주세요', '내가 가는 길을', '환히 열어 지켜봐 주세요', '아직도 영원이란 말을 믿죠', '더는 슬프지 않을게', '구름에 가리지 않게', '이유 없이 흐르는 내 눈물엔', '너의 흔적이 묻어져 있네', '불꽃처럼 뜨겁게 남은 기억', '여전히 남아 피어오르네', '단 한 번이라도 그댈 보고 싶어', '가만히 하늘을 보면서', '날 기억할까 내게 남아 있어서', '진하게 치는 파도 속에 고요하죠', '아름다운 별이 되어서', '피어나죠 멀리 속삭여 STARLIGHT', '난 너를 사랑하는 친구', '너를 기억하는 기쁨', '영원이란 약속을 빌려', '네게 가까워지고 있어', '불꽃처럼 뜨겁게 남은 기억', '여전히 피어나 오르게', '단 한 번이라도 그댈 보고 싶어', '가만히 하늘을 보면서', '날 기억할까 내게 남아 있어서', '진하게 치는 파도 속에 고요하죠', '아름다운 별이 되어서', '피어나죠 멀리 속삭여 STARLIGHT']\n"
          ]
        },
        {
          "metadata": {
            "tags": null
          },
          "name": "stderr",
          "output_type": "stream",
          "text": [
            "\r 13%|█▎        | 28/211 [14:09<1:36:00, 31.48s/it]"
          ]
        },
        {
          "metadata": {
            "tags": null
          },
          "name": "stdout",
          "output_type": "stream",
          "text": [
            "61\n",
            "['네가 나를 볼 때', '너의 눈빛 속에서', '너도 모르는 것 같은', '또 다른 네가 나는 보여', '네가 날 부를 때', '너의 목소리에서', '너도 모르는 것 같은', '속삭임이 나는 들려', 'Baby 너의 걸음걸이 하나 마다', '알게 모르게 나를 무시하는 듯한', 'Baby 너는 내가 말을 하나마나', '하게 만들어 나를 가지고 노는 듯한', 'Drop it on me girl', '너는 남들 앞에만 서면', '귀여운 강아지가 돼', 'Drop it on me girl', '무대 위 조명이 꺼지면', '너는 다른 사람이 돼', '왕이 돼도 여왕이 돼도', '나는 너를 절대로 이길 수가 없어', '너는 조커니까', '나는 이미 그런 너한테', '푹 빠져들었으니까', '밤이 오면 게임은 시작돼', '밤이 오면 게임은 시작돼', '이길 수도', '질 수도', '없는 그렇고 그런 내일이 시작돼', 'We’re standing on a cliff', 'Single step you make and I’ll leave', 'But don’t take it too deep', 'You’ll hurt yourself', 'You’re too weak', 'I’m sorry babe', '난 느껴 네가 원하는 게 여기에', 'I know you want me bad', 'So let’s just play the game', '이 밤이 지나고 나면', '다 타버릴', 'I got no time', 'So why so serious', 'Just smile', 'Take a little nap', 'Good night', '밤이 오면 게임은 시작돼', '밤이 오면 게임은 시작돼', '이길 수도', '질 수도', '없는 그렇고 그런 내일이 시작돼', 'Walk away', 'Just walk away', '아무렇지 않게', 'I’ll walk away', 'Just walk away', '네가 아프지 않게', 'Walk away', 'Just walk away', '아무렇지 않게', 'I’ll walk away', 'Just walk away', 'Away']\n"
          ]
        },
        {
          "metadata": {
            "tags": null
          },
          "name": "stderr",
          "output_type": "stream",
          "text": [
            "\r 14%|█▎        | 29/211 [14:41<1:35:55, 31.62s/it]"
          ]
        },
        {
          "metadata": {
            "tags": null
          },
          "name": "stdout",
          "output_type": "stream",
          "text": [
            "33\n",
            "['바람에 날려 꽃이 지는 계절엔', '아직도 너의 손을 잡은 듯 그런 듯 해', '그때는 아직 꽃이 아름다운 걸', '지금처럼 사무치게 알지 못했어', '우 너의 향기가 바람에 실려 오네', '우 영원할 줄 알았던 ', '스물다섯 스물하나', '그 날의 바다는 퍽 다정했었지', '아직도 나의 손에 잡힐 듯 그런 듯 해', '부서지는 햇살 속에 너와 내가 있어', '가슴 시리도록 행복한 꿈을 꾸었지', '우 그날의 노래가 바람에 실려 오네', '우 영원할 줄 알았던 ', '지난날의 너와 나', '너의 목소리도 너의 눈동자도', '애틋하던 너의 체온마저도', '기억해내면 할수록 멀어져 가는데', '흩어지는 널 붙잡을 수 없어', '바람에 날려 꽃이 지는 계절엔', '아직도 너의 손을 잡은 듯 그런 듯 해', '그때는 아직 네가 아름다운 걸', '지금처럼 사무치게 알지 못했어', '우 너의 향기가 바람에 실려 오네', '우 영원할 줄 알았던 ', '스물다섯 스물하나', '우 그날의 노래가 바람에 실려 오네', '우 영원할 줄 알았던 ', '지난날의 너와 나', '우 ', '우 ', '우 영원할 줄 알았던 ', '스물다섯 스물하나', '스물다섯 스물하나']\n"
          ]
        },
        {
          "metadata": {
            "tags": null
          },
          "name": "stderr",
          "output_type": "stream",
          "text": [
            "\r 14%|█▍        | 30/211 [14:58<1:22:26, 27.33s/it]"
          ]
        },
        {
          "metadata": {
            "tags": null
          },
          "name": "stdout",
          "output_type": "stream",
          "text": [
            "61\n",
            "['불어 후후', '빨간 불티야', '내 마음도 너 같아', '타오를 듯 위험한', '살포시 널 눌러', '덮으려 해 봐도', '꺼지지 않는 너를', '어떻게 해야 하나', '여릴 줄만 알았던', '그 작은 온기 속', '뭐를 감추고 있었니', '내 안에 내가 많아', '온 밤이 소란한데', '혹시 내 말을 들었니', '이제 타이밍이야 눈 뜰 새벽이야', '불티를 깨워', '더 타올라라 후 후후후', '꺼지지 않게', '붉디붉은 채', '더 크게 번져 후 후후', '지금 가장 뜨거운', '내 안의 작고 작은', '불티야 불티야 꺼지지 말고 피어나', '불티야 불티야 새벽을 훨훨 날아가', '새 불티야 불티야 춤추듯 온몸을 살라', '새 불티야 불티야 꺼지지 말고 피어나', '이 까만 어둠을', '동그라니 밝혀', '내 앞을 비추는 너', '어디든 갈 수 있어', '세찬 바람을 타고', '떠올라 내려 보면', '우린 이 별의 여행자', '어제 길 위의 넌 꿈만 꾸고 있었지', '작은 새처럼 작은 새처럼', '이제 타이밍이야 너의 시간이야', '숨을 불어넣어 불티를 깨워', '타올라라 후 후후후', '꺼지지 않게', '붉디붉은 채', '더 크게 번져 후 후후', '지금 가장 뜨거운', '내 안의 작고 작은', '불티야 불티야 꺼지지 말고 피어나', '불티야 불티야 새벽을 훨훨 날아가', '새 불티야 불티야 춤추듯 온몸을 살라', '새 불티야 불티야 꺼지지 말고 피어나', '오랜 기다림 너의 시간을 믿어', '나를 닮은 너 불티를 깨워', '더 타올라라 후 후후후', '꺼지지 않게', '붉디붉은 채', '더 크게 번져 후 후후', '지금 가장 뜨거운', '더 타올라라 후 후후후', '꺼지지 않게', '붉디붉은 채', '더 크게 번져 후 후후', '지금 가장 뜨거운', '내 안의 작고 작은', '불티야']\n"
          ]
        },
        {
          "metadata": {
            "tags": null
          },
          "name": "stderr",
          "output_type": "stream",
          "text": [
            "\r 15%|█▍        | 31/211 [15:30<1:25:57, 28.65s/it]"
          ]
        },
        {
          "metadata": {
            "tags": null
          },
          "name": "stdout",
          "output_type": "stream",
          "text": [
            "57\n",
            "['Weapon', 'OH', 'Never question it, got no doubts ', '절대 후회하지 않게 It’s my time ', '다 쏟아내 Shout it out ', 'Bomb bomb 터뜨려 ‘bout to turn it up ', '목소리를 높여 Get louder now 찔러 찔러 ', 'I’m ‘bout to show, this stage 위에 Killer killer ', 'I always stay strong, so bring it all down ', '좀 더 높은 곳을 원해 I de-sire-sire ', 'Wait, 빈틈을 노려 I’m ruling this game ', 'Blade, 날을 세워 Slice it all, I’m carving my name ', '불을 붙인 Dynamite, throw it high ', '시작되는 Countdown ', '자신 있게 꺼내봐 No ', 'Weapon ', 'Oh- Aim it to the world ', '시선을 뺏어, 눈빛은 Razor ', '다 끌어당겨, No you can’t touch me ', 'Oh- Aim it to the world ', 'Ay one shot 깊숙한 치명타 ', 'Ay one kill 항복해 I don’t let it pass ', '쏘아 올려 침 I go “슝” Like a queen bee Target에 조준 ta-da-da-da Bang Bang ', 'Wuh- 뜨겁게 ', '더- feed the flame ', '쏟아져 Milli billi missile raining ', '피하지 못해 There’s no warning, warning ', 'Wait, 빈틈을 노려 I’m ruling the game ', 'Blade, 날을 세워 Slice it all, I’m carving my name', '불을 붙인 Dynamite, throw it high ', '시작되는 Countdown ', '자신 있게 꺼내봐 No', 'Weapon ', 'Oh- Aim it to the world ', '시선을 뺏어, 눈빛은 Razor ', '다 끌어당겨, No you can’t touch me ', 'Oh- Aim it to the world ', 'Control this ground ', 'Get ready and now open your eyes ', 'Set this on fire ', '놀라지 놀라지 마 ', '달라진 달라진 너 ', 'Now that you, now that you know', 'Hey listen 내 무기는 Different 다 젖혀 이건 나의 Vision ', '놀라지 놀라지 마 ', '달라진 달라진 너 ', 'Now that you, now that you know', 'Hey listen 내 무기는 Different 다 제쳐 이건 나의 Vision ', '쏟아져 Milli billi missile raining ', 'Weapon ', 'Oh- Aim it to the world ', '시선을 뺏어, 눈빛은 Razor ', '다 끌어당겨, No you can’t touch me ', 'Oh- Aim it to the world', '놀라지 놀라지 마 ', '달라진 달라진 너 ', 'Now that you, now that you know']\n"
          ]
        },
        {
          "metadata": {
            "tags": null
          },
          "name": "stderr",
          "output_type": "stream",
          "text": [
            "\r 15%|█▌        | 32/211 [15:59<1:26:09, 28.88s/it]"
          ]
        },
        {
          "metadata": {
            "tags": null
          },
          "name": "stdout",
          "output_type": "stream",
          "text": [
            "51\n",
            "['사랑하기 참 좋은 날', '설레이는 그런 날', '아무 이유 없이', '미소짓는 날', '종일 니 생각에 참 벅찬 날', '가슴뛰는 날', 'I wanna love', 'I need you love', '사랑하기 좋은 날', '오늘 따라 문득 보고 싶어서', '눈을 뜨자 마자 널 찾아갔어', '이게 너 때문일까', '저 햇살 때문일까', '그 어떤 말로도 표현이 잘 안되서', '그냥 널 꼭 안아버렸어', '오늘 사랑하기 참 좋은 날', '설레이는 그런 날', '아무 이유 없이', '미소짓는 날', '종일 니 생각에 참 벅찬 날', '가슴뛰는 날', 'I wanna love', 'I need you love', '사랑하기 좋은 날', '뚜뚜 뚜루루루 뚜 뚜루루루루', '뚜 뚜루루루루', '언제나 네 품에서', '날 살게 해주는 너', '변함없이 하룰 눈부시게 비추는', '내 삶의 이유인 사람', '오늘 사랑하기 참 좋은 날', '설레이는 그런 날', '아무 이유 없이', '미소짓는 날', '종일 니 생각에 참 벅찬 날', '가슴뛰는 날', 'I wanna love', 'I need you love', '사랑하기 좋은 날', '하늘에 매일 감사해', '별거 아닌 세상에', '사랑이란 말로', '특별함을 줘서', '이제야 나 알 것 같아', '태어난 이유를', '너를만나', '모든순간', '사랑하기 좋은 날', '뚜뚜 뚜루루루 뚜 뚜루루루루', '뚜 뚜루루루루', 'HOO I LOVE YOU I NEED YOU']\n"
          ]
        },
        {
          "metadata": {
            "tags": null
          },
          "name": "stderr",
          "output_type": "stream",
          "text": [
            "\r 16%|█▌        | 33/211 [16:25<1:23:14, 28.06s/it]"
          ]
        },
        {
          "metadata": {
            "tags": null
          },
          "name": "stdout",
          "output_type": "stream",
          "text": [
            "39\n",
            "['매일 같은 옷을 바꿔 입는 남자', '오늘 입을 옷은 항상 없다 하는 그녀', '사소한 걸 자꾸 잊어먹는 남자', '화가 나면 기억력이 좋아지는 그녀', '이대로 당신과 함께라면', '난 괜찮을 거 같아', '괜찮다면 그녀와 함께 한다면', '난 너무 좋아', '이대로 당신과 함께라면', '더 힘들 수도 있어', '괜찮다면 내가 꼭 행복하게 해줄게', '한번 믿어볼래', '술 마실 땐 항상 당신과 했던 얘기', '이 노래들은 이제 당신과의 멜로디', '기타 칠 땐 항상 당신에 관한 얘기', '이 노랫말은 이제 당신과의 멜로디', '이대로 당신과 함께라면', '난 괜찮을 거 같아', '괜찮다면 그녀와 함께 한다면', '난 너무 좋아', '이대로 당신과 함께라면', '더 힘들 수도 있어', '괜찮다면 내가 꼭 행복하게 해줄게', '한번 믿어볼래', '옷을 사도 비싼 옷은 안 사는 그런', '밥 먹을 땐 항상 기분이 좋은 그런', '싸울 때면 먼저 내게 말 거는 그런', '곱창 참치 육회를 손도 못 대는 그런', '치정물 드라마를 너무 보는 그런', 'SF 영화를 싫어하는 그런', '배고플 땐 자꾸 화가 난다는 그녀', '이대로 당신과 함께라면', '난 괜찮을 거 같아', '괜찮다면 그녀가 함께 한다면', '난 너무 좋아', '이대로 당신과 함께라면', '더 힘들 수도 있어', '괜찮다면 내가 꼭 행복하게 해줄게', '한번 믿어볼래']\n"
          ]
        },
        {
          "metadata": {
            "tags": null
          },
          "name": "stderr",
          "output_type": "stream",
          "text": [
            "\r 16%|█▌        | 34/211 [16:45<1:15:40, 25.65s/it]"
          ]
        },
        {
          "metadata": {
            "tags": null
          },
          "name": "stdout",
          "output_type": "stream",
          "text": [
            "27\n",
            "['누구를 위해 누군가 ', '기도하고 있나 봐', '숨죽여 쓴 사랑시가', '낮게 들리는 듯해', '너에게로 선명히 날아가', '늦지 않게 자리에 닿기를', 'I’ll be there 홀로 걷는 너의 뒤에', 'Singing till the end 그치지 않을 이 노래', '아주 잠시만 귀 기울여 봐', '유난히 긴 밤을 걷는 널 위해 부를게', '또 한 번 너의 세상에', '별이 지고 있나 봐 ', '숨죽여 삼킨 눈물이', '여기 흐르는 듯해', '할 말을 잃어 고요한 마음에', '기억처럼 들려오는 목소리', 'I’ll be there 홀로 걷는 너의 뒤에', 'Singing till the end 그치지 않을 이 노래', '아주 커다란 숨을 쉬어 봐', '소리 내 우는 법을 잊은 널 위해 부를게', '(다시 걸어갈 수 있도록) ', '부를게', '(다시 사랑할 수 있도록)', 'Here i am 지켜봐 나를, 난 절대', 'Singing till the end 멈추지 않아 이 노래 ', '너의 긴 밤이 끝나는 그날 ', '고개를 들어 바라본 그곳에 있을게_x000D_\\n\\t\\t\\t\\t\\t</div>']\n"
          ]
        },
        {
          "metadata": {
            "tags": null
          },
          "name": "stderr",
          "output_type": "stream",
          "text": [
            "\r 17%|█▋        | 35/211 [16:59<1:05:08, 22.21s/it]"
          ]
        },
        {
          "metadata": {
            "tags": null
          },
          "name": "stdout",
          "output_type": "stream",
          "text": [
            "48\n",
            "['별빛으로 다가오는 ', '네 작은 모습에', '잠 못 이뤄 찾아왔네 ', '그 집 앞', '불빛 꺼진 네 창가엔 ', '슬픔만 더해와', '혼자 몰래 울고 가네 ', '그 집 앞', '꽃잎으로 새겨버린 ', '그리운 이름을 ', '부르다가 찾아왔네 ', '그 집 앞', '대답 없는 네 창가엔 ', '아픔만 밀려와', '눈물지며 돌아서네 ', '그 집 앞', '이제 다시 다시는 ', '너를 생각 말아야지', '돌아 올 수 없는 ', '지나간 시간인걸', '이제 다시 다시는 ', '울지도 말아야지', '어차피 잊어야 할 ', '슬픈 기억인걸', '그 집 앞 우우 ', '난 아직 떠날 수 없어 ', '그 집 앞 우우 ', '난 너를 지울 수 없어', '그 집 앞 우우 ', '난 아직 떠날 수 없어', '눈물 속에 서성이네 ', '그 집 앞', '이제 다시 다시는 ', '너를 생각 말아야지', '돌아 올 수 없는 ', '지나간 시간인걸', '이제 다시 다시는 ', '울지도 말아야지', '어차피 잊어야 할 ', '슬픈 기억인걸', '그 집 앞 우우 ', '난 아직 떠날 수 없어 ', '그 집 앞 우우 ', '난 너를 지울 수 없어', '그 집 앞 우우 ', '난 아직 떠날 수 없어', '눈물 속에 서성이네 ', '그 집 앞']\n"
          ]
        },
        {
          "metadata": {
            "tags": null
          },
          "name": "stderr",
          "output_type": "stream",
          "text": [
            "\r 17%|█▋        | 36/211 [17:24<1:06:45, 22.89s/it]"
          ]
        },
        {
          "metadata": {
            "tags": null
          },
          "name": "stdout",
          "output_type": "stream",
          "text": [
            "46\n",
            "['우리가 가까이 스친 이 순간', 'the moment we pass by', '서로의 거리는 단 0.01cm 였다', 'the distance between us was like a paper thin', '불 꺼진 방 안에 나 혼자 있는 게 아무렇지 않아 ', '멈춰서 천장 위 가득 우리 모습을 가만히 보고만 있었어', '서로를 안아주던 따스함도 ', '귀 아프게 웃던 소리도', '이젠 사라져 가고 ', '난 여기 혼자 남아 ', '멍하니 바라만 보다가 ', '또 이렇게 눈물만 나', 'Why did you have to leave?', \"You can't get through me \", '그저 스쳐 지나간 사람일 뿐이라 해도', '왜 다시 찾고 있는 건지', 'Why-', 'Why-', '한 시간에 한 번씩 깨 ', '선잠 4쿼터를 채우고는 그냥 일어났네 ', '대충 먹고 진한 커피나 털어 넣네 ', '기분전환 이래 봐야 샤워가 유일한데 ', '코인 보듯 쳐다봐 너에게 온 톡이 없나 ', '기분은 수익 구간으로 못 들어섰다 ', '그냥 쭈욱 아래로  ', '대화창 저 아래 읽지 않음 표시가 사라지지 않길 바래 또 ', '뭐 볼까 뭐 먹을까 몇 시간을 고민해 ', '그 짧은 추억은 자동 재생되는데 ', '또 울컥해도 눈가에 마르게 둬 ', '역시 정이 더 무서운 걸 이별이 가르쳐줘 ', '출구 없는 이 터널이 어두운 건 다행 ', '반대 차선에 스치는 널 못 보게 될 테니까 ', '새벽만 잘 버티면 돼', '어제 남은 술만 버리면 돼', 'Why did you have to leave?', \"You can't get through me \", '그저 스쳐 지나간 사람일 뿐이라 해도', '왜 다시 찾고 있는 건지', 'Why-', 'Why-', 'Why-', 'Why-', '너와 난 서로를 지나', '사람들 속으로 흩어져가 멀어져가  ', '그렇게 우린 모르는 사이가 되고 ', '아무 일 없듯 서로를 지나가']\n"
          ]
        },
        {
          "metadata": {
            "tags": null
          },
          "name": "stderr",
          "output_type": "stream",
          "text": [
            "\r 18%|█▊        | 37/211 [17:47<1:06:53, 23.07s/it]"
          ]
        },
        {
          "metadata": {
            "tags": null
          },
          "name": "stdout",
          "output_type": "stream",
          "text": [
            "29\n",
            "['이젠 다 잊어 버린 걸', '아니 다 잃어 버렸나', '답을 쫓아 왔는데', '질문을 두고 온거야', '돌아서던 길목이었어 ', '집에 돌아가 누우면', '나는 어떤 표정 지을까', '슬픔은 손 흔들며', '오는 건지 가는 건지', '저 어디쯤에 서 있을 텐데', '“이봐 젊은 친구야', '잃어버린 것들은 잃어버린 그 자리에', '가끔 뒤 돌아 보면은', '슬픔 아는 빛으로 피어-“', '나는 나를 미워하고', '그런 내가 또 좋아지고', '자꾸만 아른대는', '행복이란 단어들에', '몸서리 친 적도 있어요', '“이봐 젊은 친구야', '잃어버린 것들은 잃어버린 그 자리에', '가끔 뒤 돌아 보면은', '슬픔 아는 빛으로 피어“', '“저 봐 손을 흔들잖아', '슬픔이여 안녕- 우우-“', '바람 불었고 눈 비 날렸고', '한 계절 꽃도 피웠고 안녕 안녕', '구름 하얗고 하늘 파랗고', '한 시절 나는 자랐고 안녕 안녕_x000D_\\n\\t\\t\\t\\t\\t</div>']\n"
          ]
        },
        {
          "metadata": {
            "tags": null
          },
          "name": "stderr",
          "output_type": "stream",
          "text": [
            "\r 18%|█▊        | 38/211 [18:02<59:09, 20.52s/it]  "
          ]
        },
        {
          "metadata": {
            "tags": null
          },
          "name": "stdout",
          "output_type": "stream",
          "text": [
            "51\n",
            "['소녀의 작은 꿈은', '두려움 없이 의심도 없이', '그저 밤 길을 걷는 것', '따사로운 새벽 달빛', '다정한 어둠 손 잡고 걷자', '씩씩하게 더 폼 나게', '기회를 원해 공평하게', '생각을 원해 자유롭게 넌', '너의 꿈보다 빛나', '넌 하나의 우주 빛나는 별', '저 별보다 환하게 빛난 별', '넌 엄마의 꿈처럼', '찬란하게 빛날 거야', '첫사랑 이별 질투 미련', '실패와 절망 그 모든 것들이', '너를 빛나게 할거야', '넌 하나의 우주 빛나는 별', '저 별보다 환하게 빛난 별', '넌 엄마의 꿈처럼', '찬란하게 빛날 거야', 'Is it true', \"don't know yet\", \"You don't know yet\", 'Is it true', \"don't know yet\", \"You don't know yet\", '어쩌면 너는 실패할지도 몰라', 'Is it true', 'Don’t know why', 'You don’t know why', 'Is it true', 'Don’t know why', 'But try and try', '끝내 세상은 널 못 이길 테니까', '눈 부시게 다른 널 사랑해', '넌 하나의 우주 빛나는 별', '저 별보다 환하게 빛난 별', '넌 엄마의 꿈처럼', '눈물 나게 반짝이니까', \"You're gonna shine like a mom\", '넌 너만의 우주 너만의 별', '그 별보다 환하게 빛난 별', '넌 너만의 꿈처럼', '찬란하게 빛날 거야', 'That girl', 'She’s braver more than beautiful', 'That girl', 'She’s cooler more than beautiful', 'That girl', 'She’s stronger', 'more than beautiful']\n"
          ]
        },
        {
          "metadata": {
            "tags": null
          },
          "name": "stderr",
          "output_type": "stream",
          "text": [
            "\r 18%|█▊        | 39/211 [18:28<1:03:33, 22.17s/it]"
          ]
        },
        {
          "metadata": {
            "tags": null
          },
          "name": "stdout",
          "output_type": "stream",
          "text": [
            "40\n",
            "['사랑이란 게 원래', '시간이 지날수록', '설레임보다는', '편안함이 자릴 잡나요', '설레임이 없는 사랑', '편안함만 남은 사랑', '도대체 뭐냐고 물어보면', '그대여 오늘 내가 말해줄게', '그댈 향한 나의 사랑은', '말로 표현할 수 없는 사랑', '허나 말해줘야 한다면', '들어봐요 허어', '그녀가 곁에 없다면', '그대가 곁에 없다면', '코끝이 시려지는 게', '그대는 영원한 사람', '떨어져 있어도 난 너를', '이해하고 믿어주며', '영원히 널 닮아가며', '너만을 사랑해야지', '그댈 향한 나의 사랑은', '말로 표현할 수 없는 사랑', '허나 말해줘야 한다면', '들어봐요 하아', '그대가 곁에 없다면', '그녀가 곁에 없다면', '코끝이 시려지는 게', '그대는 영원한 사람', '떨어져 있어도 난 너를', '이해하고 믿어주며', '영원히 널 닮아가며', '너만을 사랑해야지', '설레임이 없는 사랑', '편안함만 남은 사랑', '도대체 뭐냐고 물어보면', '그대여 오늘 내가 말해줄게', '한번밖에 없는 사랑', '영원함만 남은 사랑', '그대가 뭐냐고 물어보면', '그때는 오늘 내가 말해줄게_x000D_\\n\\t\\t\\t\\t\\t</div>']\n"
          ]
        },
        {
          "metadata": {
            "tags": null
          },
          "name": "stderr",
          "output_type": "stream",
          "text": [
            "\r 19%|█▉        | 40/211 [18:48<1:01:42, 21.65s/it]"
          ]
        },
        {
          "metadata": {
            "tags": null
          },
          "name": "stdout",
          "output_type": "stream",
          "text": [
            "33\n",
            "['다시 소나긴 내렸죠', '아침 눈을 뜰 때에도 집을 나설 때도', '저무는 달을 보고 있어도', '소나기는 내렸죠', '내가 무엇을 할 때마다', '저 길을 지날 때마다', '하늘에 뜬 별을 보고 있어도', '다시 소나기는 내렸죠', '여린 이 맘에 이 안에', '종일토록 내리는 눈물 눈물', '이 맘에 그치지 않는', '길고 긴 장마 장마 장마', '다시 소나긴 내렸죠', '새벽잠을 잃을 때도 눈을 부빌 때도', '다시 잠에 들지 못해', '두려운 이 한밤을 지샐 때도', '내가 무엇을 할 때마다', '저 길을 지날 때마다', '길에 핀 들 꽃을 보고 있어도', '다시 소나기는 내렸죠', '비가 된 그대를 상상해', '내 몸을 적시네', '그대를 그리네 내 맘을 녹여', '젖은 이 마음에 물감이 흘러내리네', '이 비를 그리네 그댈 그리네', '비가 된 그대를 상상해', '내 몸을 적시네', '그대를 그리네 그댈 부르네', '젖은 이 마음에 물감이 흘러내리네', '이 비를 그리네 그댈 그리네', '그댈 부르네 그댈 부르네', '그댈 부르네 이 비를 그리네', '그댈 그리네']\n"
          ]
        },
        {
          "metadata": {
            "tags": null
          },
          "name": "stderr",
          "output_type": "stream",
          "text": [
            "\r 19%|█▉        | 41/211 [19:05<57:24, 20.26s/it]  "
          ]
        },
        {
          "metadata": {
            "tags": null
          },
          "name": "stdout",
          "output_type": "stream",
          "text": [
            "32\n",
            "['해질무렵 날 끌고간 발걸음', '눈떠보니 잊은줄 알았던 곳에', '아직도 너의 대한 미움이 ', '남아 있는지', '이젠 자유롭고 싶어', '시간은 해결해 주리라', '난 믿었지 그것 조차 ', '어리석었을까', '이젠 흘러가는대로 날 맡길래 ', '너완 상관 없잖니', '첨부터 너란 존재는 내겐 없었어', '니가 내게 했듯이', '기억해 내가 아파했던만큼', '언젠간 너도 나 아닌 누구에게', '이런 아픔 겪을테니', '미안해 이렇게 밖에 할 수 없잖니', '정말 이럴 수 밖에', '전처럼 다시 시작할 수 있는 ', '그 날이 오길', '너를 사랑할 수 없고', '너를 미워해야 하는 날 위해', '첨부터 너란 존재는 내겐 없었어', '니가 내게 했듯이', '기억해 내가 아파했던만큼', '언젠간 너도 나 아닌 누구에게', '이런 아픔 겪을테니', '미안해 이렇게 밖에 할 수 없잖니', '정말 이럴 수 밖에', '전처럼 다시 시작할 수 있는', '그 날이 오길', '너를 사랑할 수 없고', '너를 미워해야 하는 날 위해']\n"
          ]
        },
        {
          "metadata": {
            "tags": null
          },
          "name": "stderr",
          "output_type": "stream",
          "text": [
            "\r 20%|█▉        | 42/211 [19:22<53:43, 19.07s/it]"
          ]
        },
        {
          "metadata": {
            "tags": null
          },
          "name": "stdout",
          "output_type": "stream",
          "text": [
            "31\n",
            "['궂은 빗물이 참 많이 내렸어 ', '이 비가 멈추길 참 많이 바래왔어 ', '안개가 걷힌 뒤 눈부신 태양빛 ', '나를 비춰서 기분이 참 좋아요 ', '푸른 바다와 마주친 하늘빛이 ', '너무 예뻐요 ', '설레이는 이 모습에 미소가 번지네요 ', '어디 있어 지금 나랑 걸을래요 ', '오고 있니 ', '지금 여기 서있을게 언제나 ', '시원하게 불어오는 바람 따라 ', '향기로운 너의 숨결 난 느낄래 ', 'Baby baby you oh baby baby you ', '햇살아래 너를 그려봐 ', 'Baby baby you oh baby baby you ', '하늘 위에 너를 그려봐 ', '이 길 따라 걷다 보면 네가 서있을까 ', '저 끝에서 날 반겨 웃고 있을까 ', 'Only you ', '저 끝에서 날 반겨 웃고 있을까', '별 바람을 타고서 함께 날아가면', '미소가 번지네요', '어디 있어 지금 나랑 걸을래요', '오고 있니', '지금 여기 서있을게 언제나', '시원하게 불어오는 바람 따라', '향기로운 너의 숨결 난 느낄래', 'Baby baby you oh baby baby you', '햇살아래 너를 그려봐', 'Baby baby you oh baby baby you', '하늘 위에 너를 그려봐']\n"
          ]
        },
        {
          "metadata": {
            "tags": null
          },
          "name": "stderr",
          "output_type": "stream",
          "text": [
            "\r 20%|██        | 43/211 [19:38<50:51, 18.16s/it]"
          ]
        },
        {
          "metadata": {
            "tags": null
          },
          "name": "stdout",
          "output_type": "stream",
          "text": [
            "40\n",
            "['늘 바라만 보네요', '하루가 지나가고 ', '또 하루가 지나도', '그대 숨소리 그대 웃음소리', '아직도 나를 흔들죠', '또 눈물이 흐르죠', '아픈 내 맘 모른채 ', '그댄 웃고 있네요', '바보같은 나 철없는 못난 나를', '한번쯤 그대 돌아봐 줄 수 없는지', '알고있죠 내 바램들을', '그대에겐 아무런 의미없단 걸', '나였으면 그대 사랑하는 사람', '나였으면 수없이 많은 날을 ', '나 기도해왔죠', '푸르른 나무처럼 ', '말없이 빛난 별처럼', '또 바라만 보고있는 나를 ', '그댄 알고 있나요', '늘 나 오늘까지만', '혼자 연습해왔던 사랑의 고백들도', '슬픈 뒷모습 그저 오늘까지만', '이런 내맘을 모른채 살아 갈테죠', '기다림이 잊혀짐보다', '쉽다는걸 슬프게 잘 알고 있죠', '나였으면 그대 사랑하는 사람', '나였으면 수없이 많은 날을 ', '나 기도해왔죠', '푸르른 나무처럼 ', '말없이 빛난 별처럼', '또 바라만 보고있는 나를 ', '그댄 알고 있나요', '묻고싶죠 그댄 잘 지내는 가요', '함께하는 그 사람이 ', '그대에게 잘해주나요', '바보같은 걱정도 ', '부질없단걸 알지만', '눈물없이 꼭 한번은 ', '말하고 싶었죠', '사랑한다고']\n"
          ]
        },
        {
          "metadata": {
            "tags": null
          },
          "name": "stderr",
          "output_type": "stream",
          "text": [
            "\r 21%|██        | 44/211 [19:58<52:31, 18.87s/it]"
          ]
        },
        {
          "metadata": {
            "tags": null
          },
          "name": "stdout",
          "output_type": "stream",
          "text": [
            "43\n",
            "['매일매일이 잿빛이더라구', '팽이돌듯이 빙빙 돌더라구', '어른이 라는 따분한 벌레들이', '야금야금 꿈을 좀 먹더라구', '나는 자라 겨우', '내가 되겠지', '뿔이 자라난', '어른이 될테니', '억지로 라도', '웃어야지 하는데', '그럼에도 좀', '울적하더라구', '어제와 오늘의 ', '온도가 너무 달라서', '비행운이 만들어졌네', '내가 머물기에', '여기는 너무 높아서', '한숨자국만 깊게 드러났네', '나는 자라 겨우', '내가 되겠지', '뿔이 자라난', '어른이 될 테니', '억지로 라도', '웃어야지 하는데', '그럼에도 좀', '울적 하더라구', '어제와 오늘의 ', '온도가 너무 달라서', '비행운이 만들어졌네', '내가 머물기에', '여기는 너무 높아서', '한숨자국만 깊게 드러났네', '어제와 오늘의 ', '온도가 너무 달라서', '비행운이 만들어졌네', '내가 머물기에', '여기는 너무 높아서', '한숨자국만 깊게 드러났네', '꼬마가 간직했던', '꿈은 무엇일까', '오래된 일기장을 꺼내봤네', '1996년 7월 20일에', '우주 비행사라고 적어놨네']\n"
          ]
        },
        {
          "metadata": {
            "tags": null
          },
          "name": "stderr",
          "output_type": "stream",
          "text": [
            "\r 21%|██▏       | 45/211 [20:20<54:48, 19.81s/it]"
          ]
        },
        {
          "metadata": {
            "tags": null
          },
          "name": "stdout",
          "output_type": "stream",
          "text": [
            "52\n",
            "['차디찬 한겨울이 덮친 듯', '시간은 다 얼어버리고', '잔인한 그 바람이 남긴 듯한', '어둠은 더 깊어 버리고', '벗어나리오', '끝없이 펼쳐진 기약 없는 계절을', '지워내리오', '뜨겁지 못한 날들에', '홀로 데인 흉터를', '큰불을 내리오', '이 내 안에 눈물이 더는 못 살게', '난 화를 내리오 더 화를 내리오', '잃었던 봄을 되찾게', '차갑게 부는 바람이', '눈이 하얗게 덮인 마음이', '아침이 오면 부디 모두 녹을 수 있게', '불을 지펴라', '화 火', '타올라 타올라', '화 火', '꽃피우리라', '화 火', '타올라 타올라', '화 火', '꽃피우리라', '내 너의 흔적 남지 않게 하리', '못다 한 원망도 훨훨 타리', '쓸쓸한 추위를 거둬 가길', '남겨진 시들은 꽃길을 즈려 밟지', '한을 풀리라 다시금 봄을 누리라', '추억은 모조리 불이 나 거름이 돼', '찬란한 꽃을 피우리라', '난 화를 내리오 더 화를 내리오', '잃었던 봄을 되찾게', '차갑게 부는 바람이', '눈이 하얗게 덮인 마음이', '아침이 오면 부디 모두 녹을 수 있게', '불을 지펴라', '화 火', '타올라 타올라', '화 火', '꽃피우리라', '화 火', '타올라 타올라', '화 火', '꽃피우리라', '끊어진 인연의 미련을 품에 안고', '시렸던 시간을 나를 태워간다 화', '화 花', '화 花', '불을 지펴라', '꽃피우리라']\n"
          ]
        },
        {
          "metadata": {
            "tags": null
          },
          "name": "stderr",
          "output_type": "stream",
          "text": [
            "\r 22%|██▏       | 46/211 [20:47<59:58, 21.81s/it]"
          ]
        },
        {
          "metadata": {
            "tags": null
          },
          "name": "stdout",
          "output_type": "stream",
          "text": [
            "78\n",
            "['이 노래가 클럽에서 나온다면', '네가 이 음악에 춤출 수 있을까요', '이 노래가 클럽에서 나온다면', '혹시 그녀가 내게 전화할까요', '이 노래가 흘러 네게 닿는다면', '그대는 웃을까요 눈물 흘릴까요', '궁금하죠 과연', 'You still have fire', 'You still have fire', '해가 지고 나서 눈이 떠진 날', '침대가 너무 넓다고 느껴진 날', '베개 하나가 할 일을 잃은 날 ', '잠깐만 오늘 꿈에서 널 본 것 같아', '난 한 번 더 보려고 눈을 감네', 'But I can do a nothing', '적적한 마음에', '떠날 거라면 이 맘도 가져가', '어차피 넌 내 말 듣지 않을 거니까', '이 노래가 클럽에서 나온다면', '네가 이 음악에 춤출 수 있을까요', '이 노래가 클럽에서 나온다면', '혹시 그녀가 내게 전화할까요', '이 노래가 흘러 네게 닿는다면', '그대는 웃을까요 눈물 흘릴까요', '궁금하죠 과연 과연', 'You still have fire fire', 'Fire up fire up fire up', 'You still have fire', 'You still have fire', 'Fire up fire up fire up', 'You still have fire', 'You still have fire', 'Fire up fire up fire up', 'You still have fire', 'You still have fire', '궁금하죠 과연 과연', 'You still have fire fire', '그래 네가 맞아 네가 했던 말 다', '맞는 말이고 이미 떠나보낸 막차', '내가 전화해도 너는 받질 않아', '손을 뻗어봤자 전혀', '널 지워 버리려고 해', '술에 힘을 빌려 Oh oh', 'But 또 가지 널 만나러', '꿈속으로 3 2 1', '이 노래가 클럽에서 나온다면', '네가 이 음악에 춤출 수 있을까요', '이 노래가 클럽에서 나온다면', '혹시 그녀가 내게 전화할까요', '이 노래가 흘러 네게 닿는다면', '그대는 웃을까요 눈물 흘릴까요', '궁금하죠 과연 과연', 'You still have fire fire', '걸어와 줘 넌 내게로', '여전히 넌 예쁜 채로', '내 곁에 있어 내 옆에 있어', '아직도 멈춘 시간 그곳에 있어', '내 노래가 들리면', '지금 전화해줘 1 2 3', '이 노래가 클럽에서 나온다면', '네가 이 음악에 춤출 수 있을까요', '이 노래가 클럽에서 나온다면', '혹시 그녀가 내게 전화할까요', '이 노래가 흘러 네게 닿는다면', '그대는 웃을까요 눈물 흘릴까요', '궁금하죠 과연 과연', 'You still have fire fire', 'Fire up fire up fire up', 'You still have fire', 'You still have fire', 'Fire up fire up fire up', 'You still have fire', 'You still have fire', 'Fire up fire up fire up', 'You still have fire', 'You still have fire', '궁금하죠 과연 과연', 'You still have fire fire']\n"
          ]
        },
        {
          "metadata": {
            "tags": null
          },
          "name": "stderr",
          "output_type": "stream",
          "text": [
            "\r 22%|██▏       | 47/211 [21:27<1:14:56, 27.42s/it]"
          ]
        },
        {
          "metadata": {
            "tags": null
          },
          "name": "stdout",
          "output_type": "stream",
          "text": [
            "34\n",
            "['모든걸 주고도 한없이 모자랄 만큼', '나의 목숨보다 소중한 그런 너를', '너를 너를 너를 널', '보내야 하는 오늘이 태어나 처음', '두려워', '참 바보같아 난 너와나 죽는 날까지', '함께 할거라 믿었나봐 그런 너를', '너를 너를 너를 널 잃곤 나', '혼자서 어떡해 아무것도 해낼', '자신이 없어', '나의 사랑이 아직 어려서 편하게', '너를 보내지 못하나봐', '어린애처럼 소리쳐 울며 보채야만', '내게 돌아 올수 있겠니', '내 가슴속을 다 뒤집어 보여 준다면', '까맣게 타 버린 내맘은 아직 너를', '너를 너를 너를 널 사랑해', '잡을수 있다면 남자답지 못해도', '상관없어', '나의 사랑이 아직 어려서 편하게', '너를 보내지 못하나봐', '어린애처럼 소리쳐 울며 보채야만', '내게 돌아 올수 있겠니', '이렇게 가슴이 무너질 듯이 울려도', '갈라진 사랑을 깨물고 이제 보내줄게', '나의 사랑이 아직 어려서 편하게', '너를 보내지 못하나봐', '어른이 돼도 자라지 못한 내 사랑은', '네가 없인 단 하루도 살 수가 없어', '나의 사랑이 아직 어려서 편하게', '너를 보내지 못하나봐', '어른이 돼도 자라지 못한 내 사랑은', '네가 없인 단 하루도 살 수가 없어', '나는 단 하루도 살 수가 없어']\n"
          ]
        },
        {
          "metadata": {
            "tags": null
          },
          "name": "stderr",
          "output_type": "stream",
          "text": [
            "\r 23%|██▎       | 48/211 [21:45<1:06:36, 24.52s/it]"
          ]
        },
        {
          "metadata": {
            "tags": null
          },
          "name": "stdout",
          "output_type": "stream",
          "text": [
            "55\n",
            "['알잖아 너를 이토록  ', '사랑하며 기다린 나를  ', '뭐가 그리 바쁜지 너무  ', '보기 힘들어  ', '넌 도대체 뭐하고 다니니  ', '그게 아냐 이유는 묻지마  ', '그냥 믿고 기다려 주겠니  ', '내게도 사랑을 위한 시간이  ', '필요해 널 받아들일수 있게  ', '일부러 피하는거니  ', '삐삐쳐도 아무 소식없는 너  ', '싫으면 그냥 싫다고 솔직하게  ', '말해봐  ', '말리지마 내 이런 사랑을  ', '너만 보면 미칠것 같은 이맘을  ', '누가 알겠어 웨딩드레스 입은  ', '네 곁에 다른 사람이  ', '난 두려워 나보다 더 멋진  ', '그런 남자 네가 만날까봐  ', '아니야 그렇지 않아 정말  ', '너 하나뿐야 속는셈 치고  ', '한번 믿어봐  ', '내눈에는 너무 이쁜 그녀를  ', '자랑스레 친구에게 보여줬지  ', '친구 내게 미안하다며  ', '그녀 얘길 싸그리 다했지  ', '그녀 많은 남자중에 친구만도  ', '여러명이야  ', '말도안돼 믿을 수없어 혹시 쌍둥이  ', '우연히 너를 보았지  ', '다른 남자 품안에 너를  ', '한번도 볼수 없었던 너무  ', '행복한 미소  ', '내 사랑은 무너져 버렸어  ', '그게 아냐 변명이 아니라  ', '그 남자는 나완 상관없어  ', '잠시 나 어지러워서 기댄것 ', '뿐이야 ', '날 오해하진 말아줘 ', '나역시 많은 여자들 ', '만났다가 헤어져도 봤지만 ', '한꺼번에 많은 여자를 만난적은 ', '없었어 ', '네가 뭔데 날 아프게 하니 ', '너 때문에 상처 돼버린 내 사랑 ', '이제 다시는 너의 헛된 만남도 ', '나 같은 사람 없을껄 ', '난 두려워 나 역시 다시는 ', '이런 사랑 할 수 없을까봐 ', '믿을수 없겠지만은 네가 ', '첫사랑인데 ', '떠나버리면 어떡하라구 ', '사랑까지는 바라지도않을게 ', '네 곁에 항상 있게만 해줘 ', '제발 제발 ']\n"
          ]
        },
        {
          "metadata": {
            "tags": null
          },
          "name": "stderr",
          "output_type": "stream",
          "text": [
            "\r 23%|██▎       | 49/211 [22:13<1:08:50, 25.50s/it]"
          ]
        },
        {
          "metadata": {
            "tags": null
          },
          "name": "stdout",
          "output_type": "stream",
          "text": [
            "34\n",
            "['X Song', '가만히 눈을 감으면', '무심히 음악은 시작돼', '다시 그때 생각나', '네가 참 좋아했었던', '그 노래 눈치도 없이', '나를 울려 버리고', '참 행복했었던 그땔', '난 미처 몰랐어 그땐', '내 곁에 남아줄래 날 붙잡던', '너의 마지막이 눈 가득 선명해', '멋대로 터져버린 눈물 속에 너', '그리고 이렇게 멈춰버린 사랑', '도저히 버리지 못한', '네 향기 가득한 물건들', '다시 너를 불러내', '내가 참 힘들었을 때', '내 옆에 그 자릴 지켜준', '너를 울려 버리고', '참 고마웠었던 그때', '난 미처 몰랐어 그땐', '내 곁에 남아줄래 날 붙잡던', '너의 마지막이 눈 가득 선명해', '멋대로 터져버린 눈물 속에 너', '그리고 이렇게 멈춰버린', '사랑만 남아서 나를 힘들게 해', '바래진 기억 속 시간은 허무해', '차마 지우지 못한 채', '남겨진 사진은 아직도', '그때 그대로인데 우', '네 곁에 남지 못한 날 보내던', '너의 마지막이 눈 가득 선명해', '멋대로 떠나버린 차가웠던 나', '그리고 이렇게 멈춰버린 사랑']\n"
          ]
        },
        {
          "metadata": {
            "tags": null
          },
          "name": "stderr",
          "output_type": "stream",
          "text": [
            "\r 24%|██▎       | 50/211 [22:30<1:01:42, 23.00s/it]"
          ]
        },
        {
          "metadata": {
            "tags": null
          },
          "name": "stdout",
          "output_type": "stream",
          "text": [
            "28\n",
            "['달이 뜬다 달이 뜬다', '영암 고을에 둥근 달이 뜬다', '달이 뜬다 달이 뜬다', '둥근 둥근 달이 뜬다', '월출산 천왕봉에 보름달이 뜬다', '아리랑 동동 쓰리랑 동동', '에헤야 데헤야 어사와 데야', '달 보는 아리랑 님 보는 아리랑', '풍년이 온다 풍년이 온다', '지화자자 좋구나', '서호강 몽햇들에 풍년이 온다', '아리랑 동동 쓰리랑 동동', '에헤야 데헤야 어사와 데야', '달 보는 아리랑 님 보는 아리랑', '흥타령 부네 흥타령 부네', '목화짐 지고 흥겹게 부네', '용칠 도령 목화 짐은', '장가 밑천이라네', '아리랑 동동 쓰리랑 동동', '에헤야 데헤야 어사와 데야', '달 보는 아리랑 님 보는 아리랑', '아리아리 쓰리쓰리 아라리요', '아리아리 고개로 넘어간다', '아주까리 정자는 구경자리', '살구나무 정자로만 만나보세', '아리아리 쓰리쓰리 아라리요', '아리아리 고개로 넘어간다', '아리아리 고개로 넘어간다']\n"
          ]
        },
        {
          "metadata": {
            "tags": null
          },
          "name": "stderr",
          "output_type": "stream",
          "text": [
            "\r 24%|██▍       | 51/211 [22:44<54:10, 20.32s/it]  "
          ]
        },
        {
          "metadata": {
            "tags": null
          },
          "name": "stdout",
          "output_type": "stream",
          "text": [
            "78\n",
            "['띠링', '이따 거기서 보는 거 맞지', '시간 잘 맞춰 늦으면 반칙', '시계만 자꾸 보는 걸', '난 이미 교복 치마 대신 체육복 바지', '복도 끝까지 달려갈 준비', '마지막 종소리가 울리면', '벌써 저기 오렌지빛 하늘이', '짙어지는 걸', '어서 머뭇거리다간', '금세 어두워질 걸', '우린 스케이트보드 위로', '마치 춤을 추듯 발을 굴러', '바람 그 사이를 가로질러', '여기저기 멀리 아주아주 멀리', '저 끝까지', 'I’m so good with you', '따라와 Catch up', '두 눈을 맞추고 긴 머리 날리고', 'Ready set go Feel it', '자유로운 기분인 걸', 'Yo yo yo', '지그재그 춤을 춰', 'Yo yo yo yo', 'Tag Me Tag Me Tag Me', 'Yeah 속도를 올려봐', '휘청거리다가 넘어져서', '올려다 본 하늘은 Wow', 'Download 한 phone game보다', '짜릿한 이 놀이', '같이 만든 우리 Playlist', '좀 더 크게 틀어줘', '지금 이 순간은 돌아오지 않아', '여기 눈부시게 반짝이는 걸', '모두 담았어 전부 다 찍었어', '앨범 가득한 Video', '어디로 튈지 모를 걸', '우린 코드가 딱 맞았지 만난 날부터', 'You know 말을 안 해도', '늘 맘이 잘 통하는 걸', '우린 스케이트보드 위로', '마치 춤을 추듯 발을 굴러', '바람 그 사이를 가로질러', '여기저기 멀리 아주아주 멀리', '저 끝까지', 'I’m so good with you', '따라와 Catch up', '두 눈을 맞추고 긴 머리 날리고', 'Ready set go Feel it', '자유로워 이대로', '멈추지 마 저 끝까지 훌쩍 날아가', '우린 이제 이곳을 벗어날 거야', '그때 마주친 그 표정을 잊을 수 없었지', '우린 서로 스며들어 친구보단', '또 다른 나인 거 같아', '일렁이는 맘을 타고 날아', 'Singing winging', '우린 스케이트보드 위로', '마치 춤을 추듯 발을 굴러', '바람 그 사이를 가로질러', '여기저기 멀리 아주아주 멀리', '저 끝까지', 'I’m so good with you', '따라와 Catch up', '두 눈을 맞추고 긴 머리 날리고', 'Ready set go Feel it', '자유로워 이대로', 'Singing that Singing that', 'Singing that', 'Singing that cool', 'Singing that cool', '카메라 보며 인사를 해줘', 'Singing that', '지금 그 표정 각도가 예뻐', 'Singing that', 'Record the video', '지금 이 순간을', '자유로운 기분인 걸']\n"
          ]
        },
        {
          "metadata": {
            "tags": null
          },
          "name": "stderr",
          "output_type": "stream",
          "text": [
            "\r 25%|██▍       | 52/211 [23:24<1:09:16, 26.14s/it]"
          ]
        },
        {
          "metadata": {
            "tags": null
          },
          "name": "stdout",
          "output_type": "stream",
          "text": [
            "99\n",
            "['I think im in love', '거짓말 아니고', '너에게 전화 걸어', '너가 날 정해줘', '이 시간에는 나도 널 원해서', '너도 내게 빨리 말해 줬음 좋겠어', 'I dont need no droptop', 'When im in droptop', '너가 나의 droptop', '넌 없잖아 상관', '우리 사일 봐봐', '나 잖아 안달', '난 피곤해 이제 더는 널 못 잡아', '거짓말해서 미안해 이건 거짓말', '너도 거짓말 하지 마 난 널 아니까', '방금 한말 못 들을게 다시 말해', 'I fk with no th 너는 아니기를 바래', '난 더 취해 니 생각도 안 나게', '니 생각이 날수록 더 뻔뻔하게', '미친놈처럼 너 한텐 안보이게', '내 폰 뒤 스티커처럼 다 떼버리게', '난 후회해 후회 난 너 없는 밤에', '난 너랑 한 밤에 외로움과 짠해', '내가 못한 것들 거짓말이 다해', '널 다 잊었다고 난 또 거짓말해', 'I think im in love', '거짓말 아니고', '너에게 전화 걸어', '너가 날 정해줘', '이 시간에는 나도 널 원해서', '너도 내게 빨리 말해 줬음 좋겠어', 'I dont need no droptop', 'When im in droptop', '너가 나의 droptop', '넌 없잖아 상관', '우리 사일 봐봐', '나 잖아 안달', '난 피곤해 이제 더는 널 못 잡아', '미안하다 안 할게', '원하던 니 앞인데', '아침이 다 되가는 지금 이 때', '그냥 날 꽉 안아 줄래', '온갖 낯선 향기로', '가득 해져가 집 yeah', '다음엔 너가 직접 돌려 줄래', '차키 yeah', '뻔하지 않아 아냐 수작이 huh', '너 없는 새 나 버렸 나봐 고장이 uh', 'My Drop top where you Fng going', '살짝 낮춰 볼래 속도', '멍청한 생각은 내버려 둬', 'Drop top can i come in', 'I think im in love', '거짓말 아니고', '너에게 전화 걸어', '너가 날 정해줘', '이 시간에는 나도 널 원해서', '너도 내게 빨리 말해 줬음 좋겠어', 'I dont need no droptop', 'When im in droptop', '너가 나의 droptop', '넌 없잖아 상관', '우리 사일 봐봐', '나 잖아 안달', '난 피곤해 이제 더는 널 못 잡아', '나를 안아줘 hoo hoo', '이건 뭐랄까 hoo hoo', '깊이 베어버린', '상처들의 순간', '그 사이를 도려내지', '않아도 난 무뎌져가는걸', '다인정할게', '너가 원한대로 내가 바뀔게', '내게 모진말을 해도 나는 삼킬게', '너가 나의 drop top 이건 확실해', 'woo 너가 나를 안아줄 때', 'woo 심장이 뛰게 할게', '너가 나를 떠나가도', '너는 나의 drop top', 'I think im in love', '거짓말 아니고', '너에게 전화 걸어', '너가 날 정해줘', '이 시간에는 나도 널 원해서', '너도 내게 빨리 말해 줬음 좋겠어', 'I dont need no droptop', 'When im in droptop', '너가 나의 droptop', '넌 없잖아 상관', '우리 사일 봐봐', '나 잖아 안달', '난 피곤해 이제 더는 널 못 잡아', 'I dont need no droptop', 'When im in droptop', '너가 나의 droptop', '넌 없잖아 상관', '우리 사일 봐봐', '나 잖아 안달', '난 피곤해 이제 더는 널 못 잡아']\n"
          ]
        },
        {
          "metadata": {
            "tags": null
          },
          "name": "stderr",
          "output_type": "stream",
          "text": [
            "\r 25%|██▌       | 53/211 [24:14<1:27:55, 33.39s/it]"
          ]
        },
        {
          "metadata": {
            "tags": null
          },
          "name": "stdout",
          "output_type": "stream",
          "text": [
            "54\n",
            "['철없는 우릴 사진에 담아서', '잊지 않게 간직하고 싶어 난', 'In my pocket in my pocket', 'A lot of people want us to grow up', '시간은 참 빠르게만 가는데', 'I want pleasure want pleasure', '그땐 왜 모든 게 다 그저 어려웠을까', 'Don’t be sad', 'Let’s forget everything with the flash', 'Can I take out the Polaroid', 'And then we smile brightly', '슬퍼지더라도 울지는 않을게', 'Let’s make a funny face', 'Take out the Polaroid', 'We shouldn’t forget this, please remember', '우리 사진 속에 그때 그 미소에', 'Let’s make a funny face', 'Ah ah ah ah ah ah', 'Sometimes I think we can look back', 'Cuz we’ve been too busy we’ve been too busy', '잠깐 쉬어가자 우리', '행복할 수 있게 더 웃을 수 있게', '그땐 왜 모든 게 다 그저 어려웠을까', 'Don’t be sad', 'Let’s forget everything with the flash', 'Can I take out the Polaroid', 'And then we smile brightly', '슬퍼지더라도 울지는 않을게', 'Let’s make a funny face', 'Take out the Polaroid', 'We shouldn’t forget this, please remember', '우리 사진 속에 그때 그 미소에', 'Let’s make a funny face', 'Ah ah ah', 'Polaroid, we should keep this memory', 'Ah ah ah', 'Take out the Polaroid', 'Ah ah ah', 'Polaroid, we should keep this memory', 'Ah ah ah', 'Can I take out the Polaroid', 'And then we smile brightly', '슬퍼지더라도 울지는 않을게', 'Let’s make a funny face', 'Take out the Polaroid', 'We shouldn’t forget this, please remember', '우리 사진 속에 그때 그 미소에', 'Let’s make a funny face', 'Ah ah ah', 'Polaroid, we should keep this memory', 'Ah ah ah', 'Take out the Polaroid', 'Ah ah ah ah ah ah', 'Let’s make a funny face']\n"
          ]
        },
        {
          "metadata": {
            "tags": null
          },
          "name": "stderr",
          "output_type": "stream",
          "text": [
            "\r 26%|██▌       | 54/211 [24:41<1:22:43, 31.61s/it]"
          ]
        },
        {
          "metadata": {
            "tags": null
          },
          "name": "stdout",
          "output_type": "stream",
          "text": [
            "91\n",
            "['평범한 목요일 밤', '널 데려 갈게 어디든', '일주일 중에 네가', '제일 지쳐 있을 오늘', 'Wanna drive', 'If you don’t mind', '둘이서 갈래 어디든', '밤을 가득 채울', '너와 나 그 곳을 향해 향해', 'Wherever you want', '이리 저리 치이다', '정해진 모든 걸 해내도 ', '하나도 웃음 안 나고', '또 올 내일이 두렵고 ', '밤은 좀 남았는데', '어떻게 써야할지 모르고', '너와 함께 밤공기를', '느끼고 파  ', '지금 데리러 갈게', '집에 가지 말고 있어줘', 'baby I’m on my way ', 'Maybe I’ll be there by 8 ', '왜 너가 차빌 내야해', '좋은 음악이 있는', '오빠 차가 있잖아', '물론 내일 일찍', '일 나가야해 ', '이런 실랑이 할 시간에', '조금이라도 널 봐야해 난', '호흡이 딸리는 목요일 밤', '널 생각하면서 달려가 난', '평범한 목요일 밤', '널 데려 갈게 어디든 ', '일주일 중에 네가 제일', '지쳐 있을 오늘 ', 'Wanna drive', 'If you don’t mind', '둘이서 갈래 어디든 ', '밤을 가득 채울 너와 나', '그 곳을 향해 향해', 'Wherever you want ', '어디든 데려다 줄게', '건반처럼 가로등을', '가로지르며', '너의 하룰 들으며', '그랬어 그러면서', '너를 괴롭혔던', '바깥 세상의', '밤 공기를 밀며 ', '창 밖에 내던진 음악처럼', '한강엔 별과 달이 시간과', '똑같이 흐르고 있어', '우린 느낄 수 있어 둘이서', '앞으로 더 많은 목요일에', '도착할 거란 걸', '평범한 목요일 밤', '널 데려갈게 어디든 ', 'Wherever you want', '어디가 됐건', 'Whatever you want', '그 무엇이 됐건', 'Let’s go Let’s go', 'Wanna drive', 'If you don’t mind', '둘이서 갈래 어디든 ', 'Wherever you want', 'Wherever we want ', 'Wherever I want ', 'Wherever you want', 'we’re going to yo', '바람을 더 느끼게', '창문을 더 활짝 열어줘', '아무 말 필요 없어', '그냥 나를 믿어', 'Give it up Baby', 'Wanna drive', 'If you don’t mind', '둘이서 갈래 어디든 ', '밤을 가득 채울', '너와 나 그 곳을 향해 향해', 'Wherever you want ', 'Wherever you want', 'Wherever we want ', 'Wherever I want', 'Wherever you want', 'we’re going to yo', 'Wherever you want', 'Wherever we want ', 'Wherever I want', 'Wherever you want', 'we’re going to yo']\n"
          ]
        },
        {
          "metadata": {
            "tags": null
          },
          "name": "stderr",
          "output_type": "stream",
          "text": [
            "\r 26%|██▌       | 55/211 [25:27<1:33:17, 35.88s/it]"
          ]
        },
        {
          "metadata": {
            "tags": null
          },
          "name": "stdout",
          "output_type": "stream",
          "text": [
            "44\n",
            "['살구꽃이 필때면', '돌아온다던', '내 사랑 순이는', '돌아올줄 모르고', '서쪽하늘 문틈새로', '새어드는 바람에', '떨어진 꽃냄새가', '나를 울리네', '가야해 가야해', '나는 가야해', '순이 찾아 가야해', '가야해 가야해', '나는 가야해', '순이 찾아 가야해', '누가 이런 사랑을', '본적이 있나요', '나이는 18세', '이름은 순이', '살구꽃이 필때면', '돌아온다던', '내 사랑 순이는', '돌아올줄 모르고', '서쪽하늘 문틈새로', '새어드는 바람에', '떨어진 꽃냄새가', '나를 울리네', '가야해 가야해', '나는 가야해', '순이 찾아 가야해', '가야해 가야해', '나는 가야해', '순이 찾아 가야해', '가야해 가야해', '나는 가야해', '순이 찾아 가야해', '가야해 가야해', '나는 가야해', '순이 찾아 가야해', '누가 이런 사랑을', '본적이 있나요', '나이는 18세', '이름은 순이', '나이는 18세', '이름은 순이']\n"
          ]
        },
        {
          "metadata": {
            "tags": null
          },
          "name": "stderr",
          "output_type": "stream",
          "text": [
            "\r 27%|██▋       | 56/211 [25:49<1:22:01, 31.75s/it]"
          ]
        },
        {
          "metadata": {
            "tags": null
          },
          "name": "stdout",
          "output_type": "stream",
          "text": [
            "73\n",
            "['Hey boy', 'Make’ em whistle', 'like a missile bomb bomb', 'Every time I show up blow up uh', 'Make’ em whistle', 'like a missile bomb bomb', 'Every time I show up blow up uh', '넌 너무 아름다워', '널 잊을 수가 없어', '그 눈빛이 아직 나를', '이렇게 설레게 해 boom boom', '24 365', '오직 너와 같이 하고파', '낮에도 이 밤에도', '이렇게 너를 원해 ooh ooh', '모든 남자들이 날 매일 check out', '대부분이 날 가질 수 있다 착각', '절대 많은 걸 원치 않아', '맘을 원해 난', '넌 심장을 도려내 보여봐', '아주 씩씩하게 때론 chic chic 하게', 'So hot so hot 내가 어쩔 줄 모르게 해', '나지막이 불러줘', '내 귓가에 도는 휘파람처럼', '이대로 지나치지 마요', '너도 나처럼 날 잊을 수가 없다면 WHOA', '널 향한 이 마음은 Fire', '내 심장이 빠르게 뛰잖아', '점점 가까이 들리잖아', '휘파람 UH 휘 파람 파람 파람', 'can you hear that', '휘 파라파라 파라 밤', '휘파람 UH 휘 파람 파람 파람', 'can you hear that', '휘 파라파라 파라 밤', 'Hold up 아무 말 하지 마', 'Just whistle to my heart', '그 소리가 지금 나를', '이렇게 설레게 해 boom boom', '생각은 지루해 느낌이 shhh', 'Every day all day', '내 곁에만 있어줘 zoom zoom', 'Uh 언제나 난 stylin’', '도도하지만 네 앞에선 darlin’', '뜨거워지잖아 like a desert island', '널 알아갈수록 울려대는 마음속 ', '그만 내빼 넘어와라 내게 boy', '이젠 checkmate', '게임은 내가 win uh-huh', '난 널 택해 안아줘 더 세게', '누가 널 가로채 가기 전에 내가 uh', '이대로 지나치지 마요', '너도 나처럼 날 잊을 수가 없다면 WHOA', '널 향한 이 마음은 Fire', '내 심장이 빠르게 뛰잖아', '점점 가까이 들리잖아', '휘파람 UH 휘 파람 파람 파람', 'can you hear that', '휘 파라파라 파라 밤', '휘파람 UH 휘 파람 파람 파람', 'can you hear that', '휘 파라파라 파라 밤', 'This beat got me feelin’ like', '바람처럼 스쳐가는', '흔한 인연이 아니길', '많은 말은 필요 없어', '지금 너의 곁에 나를 데려가 줘 ohh', 'Make’ em whistle', 'like a missile bomb bomb', 'Every time I show up blow up uh', 'Make’ em whistle', 'like a missile bomb bomb', 'Every time I show up blow up uh']\n"
          ]
        },
        {
          "metadata": {
            "tags": null
          },
          "name": "stderr",
          "output_type": "stream",
          "text": [
            "\r 27%|██▋       | 57/211 [26:26<1:25:16, 33.22s/it]"
          ]
        },
        {
          "metadata": {
            "tags": null
          },
          "name": "stdout",
          "output_type": "stream",
          "text": [
            "32\n",
            "['이제는 밥을 먹어도 ', '눈물없이는 삼키지 못해 ', '억지로 먹고 먹어도 속이 늘 허전해 ', '노랠 들어도 흥얼대지도 못해 ', '영화를 봐도 내가 뭘 본건지 기억 못해 ', '밥도 잘 먹지 못해 ', '니가 생각날까봐 ', '니 생각에 체할까봐 ', '니가 떠난후로 오늘도 눈물로 하루를 먹고 살아 ', '버스도 타지못해 누가 날 욕할까봐 ', '우는 날 놀려댈까봐 ', '아무것도 못해 너없이 나혼자 살지못해 ', '이제는 술을 마셔도 눈물없이는 마시질못해 ', '아무리 병을 비워도 너만 더 생각해 ', '살아서 뭐해 넌 내곁에 없는데 ', '혼자 뭘 어째 아무것도 할 수 없는 난데 ', '밥도 잘 먹지 못해 니가 생각날까봐 ', '니생각에 체할까봐 니가 떠난후로 ', '오늘도 눈물로 하루를 먹고 살아 ', '버스도 타지못해 누가 날 욕할까봐 ', '우는 날 놀려댈까봐 아무것도 못해 ', '너없인 나 혼자 살지못해 ', '너없이 웃는 것도 난 못해 ', '너없이 걷는것도 난 못해 ', '아무것도 아무것도 못해 ', '내겐 니 사랑이 필요해 ', '혼자 살아서 뭐해 니가 더 잘알잖아 ', '너없이 나 안되잖아 ', '너밖에 몰라서 너없이 밥조차 먹지못하는 난데 ', '차마 죽지도 못해 니가 돌아올까봐 ', '언젠간 날 찾을 까봐 아무것도 못해 ', '오늘도 내일도 너만 원해 ']\n"
          ]
        },
        {
          "metadata": {
            "tags": null
          },
          "name": "stderr",
          "output_type": "stream",
          "text": [
            "\r 27%|██▋       | 58/211 [26:42<1:11:43, 28.13s/it]"
          ]
        },
        {
          "metadata": {
            "tags": null
          },
          "name": "stdout",
          "output_type": "stream",
          "text": [
            "37\n",
            "['내 뜨거운 입술이 너의 ', '부드러운 입술에 닿길 원해 ', '내 사랑이 너의 ', '가슴에 전해지도록 ', '아직도 나의 마음을 ', '모르고 있었다면은 ', '이 세상 그 누구보다 ', '널 사랑하겠어 ', '널 사랑하겠어 ', '언제까지나 ', '널 사랑하겠어 ', '지금 이 순간처럼 ', '이 세상 그 누구보다 ', '널 사랑하겠어 ', '어려운 얘기로 너의 ', '호기심을 자극할 수도 있어 ', '그 흔한 유희로 ', '이 밤을 보낼 수도 있어 ', '하지만 나의 마음을 ', '이제는 알아줬으면 해 ', '이 세상 그 누구보다 ', '널 사랑하겠어 ', '널 사랑하겠어 언제까지나 ', '널 사랑하겠어 ', '지금 이 순간처럼 ', '이 세상 그 누구보다 ', '널 사랑하겠어 ', '널 사랑하겠어 언제까지나 ', '널 사랑하겠어 ', '지금 이 순간처럼 ', '이 세상 그 누구보다 ', '널 사랑하겠어 ', '널 사랑하겠어 언제까지나 ', '널 사랑하겠어 ', '지금 이 순간처럼 ', '이 세상 그 누구보다 ', '널 사랑하겠어 ']\n"
          ]
        },
        {
          "metadata": {
            "tags": null
          },
          "name": "stderr",
          "output_type": "stream",
          "text": [
            "\r 28%|██▊       | 59/211 [27:02<1:04:39, 25.53s/it]"
          ]
        },
        {
          "metadata": {
            "tags": null
          },
          "name": "stdout",
          "output_type": "stream",
          "text": [
            "66\n",
            "['Without sugar', '꽤나 슬픈 말이야', '달지 않다는 말은', '쓰다는 건 아니지만', '적응해야겠지', '더 이상 없는 거니까', '조금 덜 웃지 뭐', '다 지나갈 테니까', '이제 더 이상 Nothing coke me', '하나도 안 잡히네 일이 손에', '미안하다는 문자는 그만 보내', 'I’m on the diet 익숙해', '이런 건 널 지우는 건', 'Lie to myself', '넣어둬 내 걱정은 난 괜찮아', '너는 Spend yours 난 Spend my time', 'My life is like a zero coke', 'There is no sugar ', 'There is no fun', '내 삶은 너무 건조해', '이대론 의미 없어', 'My life is like a zero coke', 'There is no sugar ', 'There is no fun', '내 삶은 너무 건조해', '이대론 의미 없어', 'My life is like a zero coke', 'There is no sugar ', 'There is no fun', '내 삶은 너무 건조해', '이대론 의미 없어', 'My life is like a zero coke', 'There is no sugar ', 'There is no fun', '내 삶은 너무 건조해', '이대론 의미 없어', \"살 빼야지 건강 챙겨야지 Yeah, I'm in the fast lane\", \"단거 끊고, 친구들 전화도 끊고, That's that\", 'Real life, can see the light, 일 쏟아지네 Cascade', 'Best thing, 자신감 붙었어 술을 마실 때 보다 더', 'No more emotional action', '내 대가리 아니지 생선', '무조건 이득부터 챙겨', '입 하나 줄었네 Woh', '너가 인정한 Fault', '그럼 내 잘못 아니네', '왜 자꾸 내 앞길 가로서 막어', 'Get the *uck out of my way', '너무 감정적이었네 방금', '다시 나아가야 돼 나는', '잡히기 싫었어 발목', '그렇게 믿었는데 사실은', '중요한 걸 잊었어', '사는 이윤 여러 가진데', '너무 달지 않아 지금 나의 삶은', '건강은 해 쓸모없이 아주', 'My life is like a zero coke', 'There is no sugar ', 'There is no fun', '내 삶은 너무 건조해', '이대론 의미 없어', 'My life is like a zero coke', 'There is no sugar ', 'There is no fun', '내 삶은 너무 건조해', '이대론 의미 없어']\n"
          ]
        },
        {
          "metadata": {
            "tags": null
          },
          "name": "stderr",
          "output_type": "stream",
          "text": [
            "\r 28%|██▊       | 60/211 [27:35<1:10:16, 27.92s/it]"
          ]
        },
        {
          "metadata": {
            "tags": null
          },
          "name": "stdout",
          "output_type": "stream",
          "text": [
            "39\n",
            "['다시 한번 내게 말해줘', '다시 그날처럼 사랑한다고 해줘', '믿을 수 없었지 너의 모든 것에', 'Like looking in the mirror', '닮아 있던 우리', '사랑을 말해주던 그 예쁜 입술이', '꾹 잠궈진 듯 아무 말 없네', '난 이해가 안돼 마음으로는 왜', '날 사랑한다 해놓고 더 도망치려 해', '우리 사랑의 race 끝날 수 없게 babe', '지금 돌아서면 다신 돌아갈 수 없다고', '다시 한번 내게 말해줘', '나를 사랑한다고 해줘', 'Don’t leave me alone baby', 'Just stay for the night baby', '날 떠나지 않겠다고 말해줘', 'Tell me your love again', 'Come back to me again', 'Tell me your love again', 'Come back to me again', '돌려놓을래 전부', '난 제자리고 I still love you', '너가 채워주던 내 모든 것들이', '떠 있어 마치 balloon', '그 기억들로 가득해 전부', '여전히 나는 그대로인데', '난 이해가 안돼 마음으로는 왜', '날 사랑한다 해놓고 더 도망치려 해', '우리 사랑의 race 끝날 수 없게 babe', '지금 돌아서면 다신 돌아갈 수 없다고', '다시 한번 내게 말해줘', '나를 사랑한다고 해줘', 'Don’t leave me alone baby', 'Just stay for the night baby', '날 떠나지 않겠다고 말해줘', 'Tell me your love again', 'Come back to me again', 'Tell me your love again', 'Come back to me again']\n"
          ]
        },
        {
          "metadata": {
            "tags": null
          },
          "name": "stderr",
          "output_type": "stream",
          "text": [
            "\r 29%|██▉       | 61/211 [27:55<1:03:27, 25.39s/it]"
          ]
        },
        {
          "metadata": {
            "tags": null
          },
          "name": "stdout",
          "output_type": "stream",
          "text": [
            "41\n",
            "['어느 눈 부신 햇살 아래', '너를 닮아 따뜻했던 공기', '둘이 하나가 된 그림자', '바람 같던 너의 숨소리', '조각난 기억이 하나 둘 떠올라', '왜 몰랐을까 소중했다는 걸', '수많은 장면 중에', '하날 고른다면', '난 눈을 감고 널 만나', '한 줄의 기억', '그 짧은 시간 속', '우리를 꼭 안을게', '수많은 장면 속에', '가장 아픈 기억', '나 그날로 돌아가서', '놓지 말라고', '후회할 거라고', '말할 거야', '어두웠던 내 맘 불을 켜주던 너', '그게 너라서 살아있었던 나', '수많은 장면 중에', '하날 고른다면', '난 눈을 감고 널 만나', '한 줄의 기억', '그 짧은 시간 속', '우리를', '거짓말 같았던', '눈 부신 너와', '사랑한 모든 날이 아파서', '추억 끝에 너와 살아가는 나', '잠시라도 좋아', '모든 내일을 버려도', '갈 수 있다면', '첫 줄로 돌아가', '너에게 나 말해줄 거야', '어느 눈 부신 햇살', '따뜻했던 공기', '그날의 너를 안고서', '사랑한다고', '놓지 않겠다고', '말할 거야']\n"
          ]
        },
        {
          "metadata": {
            "tags": null
          },
          "name": "stderr",
          "output_type": "stream",
          "text": [
            "\r 29%|██▉       | 62/211 [28:16<59:47, 24.07s/it]  "
          ]
        },
        {
          "metadata": {
            "tags": null
          },
          "name": "stdout",
          "output_type": "stream",
          "text": [
            "78\n",
            "['한 여자가 멀어져 가', '남자는 노래 부르지만', '눈물이 나는 걸 이별이란', '널 만질 수가 없는걸', 'I know yeah eh', '떨어지는 날 잡아줘 hello', 'I hate this love song', 'I hate this love song', 'I hate this love song', 'I hate this love song', 'I hate this love song', 'I hate this love song', 'I hate this love song', 'I hate this love song', '이 사랑 노래가 싫어', '다신 안 부르리', '너를 떠올리지 않게', '잊을 수 있게', '이 사랑 노래가 싫어', '웃으며 부르리', '그대가 외롭지 않게', '지금 너에게로', '난 ooh ooh ooh ooh', '난 ooh ooh ooh ooh', '난 두려워', '이 세상은 의미없어', '달과 별이 있는', '너 있는 그 곳에 데려가줘', '우리는 아름다웠는데', 'you know 내게 사랑을', '가르쳐준 너 hello', 'I hate this love song', 'I hate this love song', 'I hate this love song', 'I hate this love song', 'I hate this love song', 'I hate this love song', 'I hate this love song', 'I hate this love song', '이 사랑 노래가 싫어', '다신 안 부르리', '너를 떠올리지 않게', '잊을 수 있게', '이 사랑 노래가 싫어', '웃으며 부르리', '그대가 외롭지 않게', '지금 너에게로', '난 ooh ooh ooh ooh', '난 ooh ooh ooh ooh', '따스한 햇살 또 다른 세상', '쓸쓸히 춤추는 갈대밭', '푸른 언덕 위', '난 여전히 그녀와의', '못다한 대화', '아무 대답 없는 대답없는', '무표정한 저 하늘 저하늘', '흰구름 뒤에 숨어 있겠지', '넌 별이 됐겠지', '눈 감고 네 숨결을 느껴', '네 꿈을 꿔', '내 입가에 번진 미소', '지금 난 너와 숨을 쉬어', '시간아 멈춰', '그녀와 날 갈라 놓지말아', '바람아 멈춰', '네게 보내는', '마지막 편지 한 장', '이 사랑 노래가 싫어', '다신 안 부르리', '너를 떠올리지 않게', '잊을 수 있게', '이 사랑 노래가 싫어', '웃으며 부르리', '그대가 외롭지 않게', '지금 너에게로', '난 ooh ooh ooh ooh', '난 ooh ooh ooh ooh', 'I hate this love song']\n"
          ]
        },
        {
          "metadata": {
            "tags": null
          },
          "name": "stderr",
          "output_type": "stream",
          "text": [
            "\r 30%|██▉       | 63/211 [28:55<1:10:49, 28.71s/it]"
          ]
        },
        {
          "metadata": {
            "tags": null
          },
          "name": "stdout",
          "output_type": "stream",
          "text": [
            "34\n",
            "['왜 또 그래 난 사랑에 서툴러서', '예쁜 말을 하지 못해', '툭', '너는 핑계를 하나 또 내뱉곤 해', '왜 또 그래 난 사랑에 겁이 나서', '하려던 말을 삼킨 거야', '툭', '나는 핑계를 하나 또 내뱉곤 해', '다 알면서도', '난 멀어지는 내 사랑이 보여', '난 잡지 못해 말하지 못해', '툭 떨어지는 후회들이 보여', '난 한참을 멍하니 서있어', '나는 네 눈만 보면 모두 알아', '멋진 마음이 아니란 것도 다 ', '이제는 나만이 날 사랑할 수 있겠구나', '긴 시간이 지난 후야', '너는 결국 떠난 지 오래지만', '이제는 나만이 날 사랑할 수 있단 걸 알아', '왜 또 그래 난 사랑에 머물러서', '넘쳐버린 고민들 끝에', '툭', '나는 핑계를 하나 또 내뱉곤 해', '다 알면서도', '난 멀어지는 내 사랑이 보여', '난 잡지 못해 숨지도 못해', '툭 떨어지는 후회들이 보여', '또 한참을 멍하니 서있어', '나는 네 눈만 보면 모두 알아', '멋진 마음이 아니란 것도 다 ', '이제는 나만이 날 사랑할 수 있겠구나', '긴 시간이 지난 후야', '너는 결국 떠난 지 오래지만', '이제는 나만이 날 사랑할 수 있단 걸 알아']\n"
          ]
        },
        {
          "metadata": {
            "tags": null
          },
          "name": "stderr",
          "output_type": "stream",
          "text": [
            "\r 30%|███       | 64/211 [29:12<1:01:43, 25.20s/it]"
          ]
        },
        {
          "metadata": {
            "tags": null
          },
          "name": "stdout",
          "output_type": "stream",
          "text": [
            "38\n",
            "['중2때까지 늘 첫째 줄에', '겨우 160 이 됐을 무렵', '쓸만한 녀석들은 모두 다', '이미 첫사랑 진행 중', '정말 듣고 싶었던 말이야', '물론 2년전 일이지만', '기뻐야하는 게 당연한데', '내 기분은 그게 아냐', '하지만 미안해 이 넓은', '가슴에 묻혀', '다른 누구를 생각했었어', '미안해 너의 손을 잡고', '걸을 때에도', '떠올렸었어 그 사람을', '널 좋아하면 좋아할수록', '상처 입은 날들이 더 많아', '모두가 즐거운 한 때에도', '나는 늘 그곳에 없어', '정말 미안한 일을 한걸까', '나쁘진 않았었지만', '친구인 채 였다면 오히려', '즐거웠을 것만 같아', '하지만 미안해 네 넓은', '가슴에 묻혀', '다른 누구를 생각했었어', '미안해 너의 손을 잡고', '걸을 때에도', '떠올랐었어 그 사람이', '하지만 미안해 이 넓은', '가슴에 묻혀', '다른 누구를 생각했었어', '미안해 너의 손을 잡고', '걸을 때에도', '떠올렸었어 그 사람을', '중2때까지 늘 첫째 줄에', '겨우 160 이 됐을 무렵', '쓸만한 녀석들은 모두 다', '이미 첫사랑 진행 중']\n"
          ]
        },
        {
          "metadata": {
            "tags": null
          },
          "name": "stderr",
          "output_type": "stream",
          "text": [
            "\r 31%|███       | 65/211 [29:31<56:53, 23.38s/it]  "
          ]
        },
        {
          "metadata": {
            "tags": null
          },
          "name": "stdout",
          "output_type": "stream",
          "text": [
            "107\n",
            "['I will love you', 'think about you', '달콤했던 우리 사랑', 'I will love you', 'think about you ', '잊지는 마 ', 'forever be with you', '동서남북 어디에서도', '나란 얼간이는 없다고', '그래도 너 하나만 사랑한다고', '쉽게 녹아 버린 네 마음 ', '상처받은 MC몽', '사랑은 아아아아 아이스크림', '널 처음 봤을 때부터', '심장은 얼어붙어', '달콤한 향기에 뜨겁게 밀어붙여', '늑대들아 저리 비켜', '아무나 붙어', '이 여잔 이미 내 꺼니까', '저리 비켜', '나는야 사랑에 목마른 나그네', '들뜬 내 마음에', '네 얼굴을 그리네 ', '굳게 닫힌 니 마음이', '녹아버리게 버리게', '빠르게 믿음을', '확인시켜줄게', '오늘 밤이 너무 짧아', '아쉬워서 못 보내고', '네 다리가 아플까봐 ', '너를 업고 집에 가고', '누가 봐도 상관없어', '내 옆에는 니가 있어', '너 하나만 사랑한다고', 'I wanna spend my', 'whole life with you', '네가 없으면 안 되는 ', '내 아픈 이유', 'Everytime I look at U', '사랑해', 'I love you oh thank you', '동서남북 어디에서도', '나란 얼간이는 없다고', '그래도 너 하나만 사랑한다고', '쉽게 녹아 버린 네 마음 ', '상처받은 MC몽', '사랑은 아아아아 아이스크림', 'I will love you', 'think about you', '달콤했던 우리 사랑', 'I will love you', 'think about you ', '잊지는 마 ', 'forever be with you', 'make it hot 우리는 뜨겁게', 'make it hot 사랑을 나눴네', '스트로베리보다 상큼했던 그녀', '초콜릿보다 달콤했던 그년데', '불 같은 사랑은 금방 식어버린', '믿음은 얼음처럼 금방 녹아버린', '시리고 시린 쉽게 질려버린', '도대체 뭐를 원해', 'do you want it like that', 'Break up to make up', 'make up to break up', '깨지고 화해하고', '다시 또 차버리고', '처음부터 꼬여왔던', '우리 작은 trouble', '누가 이기고 지느냐가', '너는 중요해', '상처투성인 mc몽', '네가 떠나서 나는 지친 몸 ', '오늘 밤 꿈을 꿨어', '너와 함께 living it up', '외로움에 치를 떨어', '오늘 밤이 너무 길어', '동서남북 어디에서도', '나란 얼간이는 없다고', '그래도 너 하나만 사랑한다고', '쉽게 녹아 버린 네 마음 ', '상처받은 MC몽', '사랑은 아아아아 아이스크림', 'I will love you', 'think about you', '달콤했던 우리 사랑', 'I will love you', 'think about you ', '잊지는 마 ', 'forever be with you', 'I got your', 'back you got my back', 'Everynight oh every day', '사랑이 이렇게 차갑게', '느껴진 적 없었어', 'I got your', 'back you got my back', 'Everynight oh every day', '너를 위해 웃을게', '사랑해 널 위해 사는 나', '동서남북 어디에서도', '나란 얼간이는 없다고', '그래도 너 하나만 사랑한다고', '쉽게 녹아 버린 네 마음 ', '상처받은 MC몽', '사랑은 아아아아 아이스크림', '짜잔']\n"
          ]
        },
        {
          "metadata": {
            "tags": null
          },
          "name": "stderr",
          "output_type": "stream",
          "text": [
            "\r 31%|███▏      | 66/211 [30:25<1:18:26, 32.46s/it]"
          ]
        },
        {
          "metadata": {
            "tags": null
          },
          "name": "stdout",
          "output_type": "stream",
          "text": [
            "41\n",
            "['일부러 안 웃는 거 맞죠', '나에게만 차가운 거 맞죠', '알아요 그대 마음을', '내게 빠질까봐 두려운 거죠', '그대는 그게 매력이예요', '관심없는 듯한 말투 눈빛', '하지만 그대 시선을', '나는 안보고도 느낄 수 있죠', '집으로 들어가는 길인가요', '그대의 어깨가 무거워 보여', '이런 나 당돌한가요', '술 한 잔 사주실래요', '야이 야이 야이 야이 날 봐요', '우리 마음 속이지는 말아요', '날 기다렸다고 먼저 얘기하면', '손해라도 보나요', '야이 야이 야이 야이 말해요', '그대 여자 되달라고 말해요', '난 이미 오래전', '그대 여자이고 싶었어요', '애인이 없다는 거 맞죠', '혹시 숨겨둔 건 아니겠죠', '믿어요 그대의 말을', '행여 있다 해도 양보는 싫어', '그대는 그게 맘에 들어', '여자 많은 듯한 겉모습에', '사실은 아무에게나', '마음 주지 않는 그런 남자죠', '집으로 들어가는 길인가요', '그대의 어깨가 무거워 보여', '이런 나 당돌한가요', '술 한 잔 사주실래요', '야이 야이 야이 야이 날 봐요', '우리 마음 속이지는 말아요', '날 기다렸다고', '먼저 얘기하면', '손해라도 보나요', '야이 야이 야이 야이 말해요', '그대 여자 되달라고 말해요', '난 이미 오래전', '그대 여자이고 싶었어요']\n"
          ]
        },
        {
          "metadata": {
            "tags": null
          },
          "name": "stderr",
          "output_type": "stream",
          "text": [
            "\r 32%|███▏      | 67/211 [30:46<1:09:20, 28.89s/it]"
          ]
        },
        {
          "metadata": {
            "tags": null
          },
          "name": "stdout",
          "output_type": "stream",
          "text": [
            "24\n",
            "['나의 손을 놓지 않은 채', '곤히 잠이 들어 버린 너', '너를 깨울까 조심스레', '바라보다가', '무슨 꿈을 꾸고 있을까', '너를 옆에 두고 있는 나', '깨어서도 더욱 선명히', '그려진 꿈 하나', '아침을 시작하는', '서로의 모습에 웃음을 참아보다가', '장난을 치다가 하루를 준비하고', '헤어짐 아쉬워서', '서로를 안은 채 못 놓는 우릴 꿈꾸다', '나는 잠깐 그렇게 잠깐', '너를 보다 우릴 꿈꿨네', '집으로 돌아와서', '하루간 있었던 일들을 얘기하면서', '차 한잔하면서 하루를 정리하고', '잠들기 아쉬워서', '투정을 부리다 이내 웃어주는', '서로가 서로의', '전부가 되어진 우리의 모습 꿈꾸다', '나는 살짝 그렇게 살짝', '잠든 네 머릴 쓰다듬네']\n"
          ]
        },
        {
          "metadata": {
            "tags": null
          },
          "name": "stderr",
          "output_type": "stream",
          "text": [
            "\r 32%|███▏      | 68/211 [30:58<57:01, 23.93s/it]  "
          ]
        },
        {
          "metadata": {
            "tags": null
          },
          "name": "stdout",
          "output_type": "stream",
          "text": [
            "46\n",
            "['오늘 하루 어땠었나요', '많이 힘들었나요', '쉬지 않고 달려왔던 길에서', '나와 함께 쉬어가요', '그냥 아무런 준비도 없이', '떠나볼까요', '평범해도 좋으니까', '우리 함께 가요', 'Du Du Du Du Du', '행복 가득 담은 배낭 하나 메고서', '답답했던 일상과 도심을 벗어나', 'Du Du Du Du', 'Du Du Du Du', '떠나볼래요', '힘껏 살다 보니 무뎌져', '헝클어진 머리도', '괜찮다며 그댈 안아줄 사람', '바로 그대 곁에 있죠', '까만 선글라스 하나 챙겨서', '떠나볼까요', '평범해도 좋으니까', '우리 함께 가요', 'Du Du Du Du Du', '행복 가득 담은 배낭 하나 메고서', '답답했던 일상과 도심을 벗어나', 'Du Du Du Du', 'Du Du Du Du', '떠나볼래요', '우리 함께 가요', 'Du Du Du Du Du', '행복 가득 담은 배낭 하나 메고서', '답답했던 일상과 도심을 벗어나', 'Du Du Du Du', 'Du Du Du Du', '떠나볼래요', '우리 함께 가요', 'Du Du Du Du Du', 'Du Du Du Du', 'Du Du Du Du', '떠나볼래요', 'Du Du Du Du', 'Du Du Du Du', '떠나볼래요', 'Du Du Du Du', 'Du Du Du Du', '지금 떠나요']\n"
          ]
        },
        {
          "metadata": {
            "tags": null
          },
          "name": "stderr",
          "output_type": "stream",
          "text": [
            "\r 33%|███▎      | 69/211 [31:21<56:04, 23.69s/it]"
          ]
        },
        {
          "metadata": {
            "tags": null
          },
          "name": "stdout",
          "output_type": "stream",
          "text": [
            "71\n",
            "['둘이서 너와', '서로 눈치 봐 또', '시간은 멈출 줄을 몰라', '너와 같이 나', '서로 맞춰봐도', '생각이 더 나는지', '너가 날 더', '너가 날 더', '사랑하는 게 내 눈에도 보여', '너는 멀어져', '너는 멀어져', '사랑하는 게 내 눈에도 보여', '너는 나 나빠 나빠서', '제발 날 떠나가진 마', '날 더 날 더', 'Ok 1 2 3', \"Did I 2 o'clock\", 'When you were mine', 'I loved you Sweet girl', 'and Loved your mind', 'I loved you Sweet girl', 'and Loved your lie', 'I love you Sweetie girl', \"Cut that 2 o'clock\", 'When you were mine', 'I loved you Sweet girl', 'and Loved your mind', 'I loved you Sweetie girl', \"and We all love is 2 o'clock\", '둘이서 너와', '서러운지 밖에', '나가 난 어딘지도 몰라', '너와 같이 난', '발걸음 맞춰봐도', '웃음이 왜 안 나는지', '너가 날 더', '너가 날 더', '사랑하는 게 내 눈에도 보여', '너는 멀어져', '너는 멀어져', '사랑하는 게 내 눈에도 보여', '너는 나 나빠 나빠서', '제발 날 떠나가진 마', '날 더 날 더', 'Ok 1 2 3', \"Did I 2 o'clock\", 'When you were mine', 'I loved you Sweet girl', 'and Loved your mind', 'I loved you Sweet girl', 'and Loved your lie', 'I love you Sweetie girl', \"Cut that 2 o'clock\", 'When you were mine', 'I loved you Sweet girl', 'and Loved your mind', 'I love you Sweetie girl', 'And 1 2 3', \"Did I 2 o'clock\", 'When you were mine', 'I loved you Sweet girl', 'and Loved your mind', 'I loved you Sweet girl', 'and Loved your lie', 'I love you Sweetie girl', \"Cut that 2 o'clock\", 'When you were mine', 'I loved you Sweet girl', 'and Loved your mind', 'I loved you Sweetie girl', \"and We all love is 2 o'clock\"]\n"
          ]
        },
        {
          "metadata": {
            "tags": null
          },
          "name": "stderr",
          "output_type": "stream",
          "text": [
            "\r 33%|███▎      | 70/211 [31:57<1:04:20, 27.38s/it]"
          ]
        },
        {
          "metadata": {
            "tags": null
          },
          "name": "stdout",
          "output_type": "stream",
          "text": [
            "67\n",
            "['오랜만이야 못 본 사이  ', '그댄 얼굴이 좋아 보여 ', '예뻐졌다 넌 항상 내 눈엔 원래  ', '고와 보여 ', '근데 오늘따라 조금 달라 보여  ', '유난히 뭔가 더 차가워 보여 ', '나를 보는 눈빛이 동정에 가득  ', '차있어 네 앞에서 난 작아 보여 ', '괜찮은 척 애써 대화주제를 바꿔버려 ', '묻고 싶은 말은 많은데  ', '넌 딱 잘라버려 ', '네 긴 머린 찰랑거려  ', '내 볼을 때리곤 스쳐지나 ', '뒤돌아선 곧장 가버려  ', '여기서 널 잡으면 우스워지나 ', '아무 말도 떠오르지 않죠  ', '떨면서 넌 한두 발짝 뒤로 ', '이젠 내가 무섭단 그 말  ', '날 미치게 하는 너란 달 ', 'I love you baby I’m not a monster ', '넌 알잖아 예전 내 모습을  ', '시간이 지나면 사라져 버릴 텐데  ', '그 땐 알 텐데 baby ', 'I need you baby I’m not a monster ', '날 알잖아 이렇게 가지마  ', '너 마저 버리면 난 죽어버릴 텐데  ', 'I’m not a monster ', '무슨 일이 있어도 영원하자고  ', '슬플 때도 기쁠 때도 끝까지 하자고 ', 'You don’t say that tomorrow  ', '오늘이 마지막인 것처럼 사랑하자고 ', '너 없는 삶은 종신형 세상과  ', '단절돼 돌 지경이야 ', '너란 존재는 고질병 시련의 연속  ', '마음 속 미련이야 ', '세상사람들이 내게 돌린 등  ', '모든 것이 베베 꼬여있던 눈초리들 ', '내게 가장 큰 아픔은 아픔은 ', '네가 그들 같아졌단 것뿐 ', 'I love you baby I’m not a monster ', '넌 알잖아 예전 내 모습을  ', '시간이 지나면 사라져 버릴 텐데  ', '그 땐 알 텐데 baby ', 'I need you baby I’m not a monster ', '날 알잖아 이렇게 가지마  ', '너마저 버리면 난 죽어버릴 텐데 ', ' I’m not a monster ', '가지마 가지마 가지마 떠나지 말아 ', '하지마 하지마 하지마 너 같지않아 ', '멀어진 채로 사랑은 걸러진 채로 ', '찾지마 찾지마 찾지마 날 찾지 말아 ', '마지막 마지막 마지막  ', '네 앞에 서 있는 ', '내 모습을 기억해줘  ', '날 잊지 말아줘', 'I love you baby I’m not a monster ', '넌 알잖아 예전 내 모습을  ', '시간이 지나면 사라져 버릴 텐데  ', '그 땐 알 텐데 baby ', 'I need you baby I’m not a monster ', '날 알잖아 이렇게 가지마  ', '너 마저 버리면 난 죽어버릴 텐데 ', 'I’m not a monster', 'I think I’m sick ', 'I think I’m sick', 'I think I’m sick ', 'I think I’m sick']\n"
          ]
        },
        {
          "metadata": {
            "tags": null
          },
          "name": "stderr",
          "output_type": "stream",
          "text": [
            "\r 34%|███▎      | 71/211 [32:31<1:08:11, 29.22s/it]"
          ]
        },
        {
          "metadata": {
            "tags": null
          },
          "name": "stdout",
          "output_type": "stream",
          "text": [
            "62\n",
            "['넌 역시 감동이야 꿈을 꾸는 듯해', '넌 역시 감동이야 품에 품은 듯해 ', '영원을 믿겠지 그러다가 잊겠지 ', '상처뿐인 손 내가 잡고 싶었어', ' ', '코드 안에 주저리 건반 안에 응어리 넣어서', '그대 행복을 줄 거야 ', '오늘만이라도 다 울어도 괜찮아 ', '비가 온 뒤에 땅이 굳잖아 ', 'Life is a stage ', '난 어둠 속의 Dancer ', '때론 조명 하나 없는 무대 위에서 Yeah', '때론 세상이 나를 Enemy라 부르고 눈 떠보니 텅 빈 객석', '됐어 Uh 부질없지만 애써 Yeah', '우린 슬퍼서 울다 슬퍼서 웃고 ', '기뻐서 웃다 기뻐서 울고 ', '인생이라는 무대 위에서 ', '넌 나라는 팔베개 위에서 ', '난 그대라는 어깨에 기대어 ', '너와 나 우린 감동이야', '때론 Comedy 때론 Tragedy', '삶은 한순간도 바람 잘 날 없지 ', \"But you're still here with me \", '너나 나나 여기까지 고생 많았지 ', '하늘 위로 날갯짓을 하다 보니 ', '때론 추락하기도 하지 I’m sorry ', '세상이 내 마음 같지 않아도 그냥 웃어 살아', '살아가다 보면 알아 ', 'Life goes on ', '아침이 오네 언제 그랬냐는 듯이 돌고 도네 ', '그래 영원한 건 없다 하지만', '언젠가는 다가올 그 마지막 ', 'Life goes on ', '떠나보내 떠나보내고 이렇게 다시 보네', '언젠가는 다가올 그 마지막 ', '마지막 따위는 뒤집어 우릴 막지 마 ', '인생이라는 무대 위에서 ', '넌 나라는 팔베개 위에서 ', '난 그대라는 어깨에 기대어 ', '너와 나 우린 감동이야', 'Spectacle 했지 나란 놈', '오르락내리락 기복이 심한 몸', '무대가 없었다면 나란 놈', '마치 꽃이 피지 않는 그런 봄 ', 'Spectacle 했지 나란 놈', '오르락내리락 기복이 심한 몸', '무대가 없었다면 나란 놈', '마치 꽃이 피지 않는 그런 봄 ', '인생이라는 무대 위에서 ', '넌 나라는 팔베개 위에서 ', '난 그대라는 어깨에 기대어 ', '너와 나 우린 감동이야 ', '감동이야 너의 눈빛과 함성 소리가 ', '있는 곳이 내겐 바로 Home이야 ', '너와 웃고 울던 모든 순간이 내겐 봄이야 ', '감동이야 너의 눈빛과 함성 소리가 ', '있는 곳이 내겐 바로 Home이야 ', '너와 웃고 울던 모든 순간이 내게는 봄이야 ', '넌 역시 감동이야 꿈을 꾸는 듯해 ', '넌 역시 감동이야 품에 품은 듯해 ', '영원을 믿겠지 그러다가 잊겠지 ', '상처뿐인 손 내가 잡고 싶었어']\n"
          ]
        },
        {
          "metadata": {
            "tags": null
          },
          "name": "stderr",
          "output_type": "stream",
          "text": [
            "\r 34%|███▍      | 72/211 [33:02<1:09:04, 29.81s/it]"
          ]
        },
        {
          "metadata": {
            "tags": null
          },
          "name": "stdout",
          "output_type": "stream",
          "text": [
            "39\n",
            "['창백한 눈으로 날 바라보는', '넌 변함 없이 빛나', '날 미치게 하던 그 눈을 더이상', '사랑하지 않을 뿐야 ', '아, 미안', '억지로 내 맘을 돌려보려고', '애쓰고 싶지가 않아 ', 'I’m sick of your love', 'Sick of your love', 'Sick of your all ', '우리를 삼키는', '따분함이 싫어 ', 'Too fed up with us', 'Fed up with us', 'Fed up with all ', '마음대로 나를', '비난하고 할퀴어', '타오르던 감정은', '부스러기들로 남아', '이런 가볍기도 하지', '겨우 이게 다였나 봐', 'I’m sick of your love', 'Sick of your love', 'Sick of your all ', '헤어짐을 미루는', '익숙함이 싫어 ', 'Too fed up with us', 'Fed up with us', 'Fed up with all', '얼마든지 나를', '미워하고 할퀴어', 'Sorry, I’m sick of your love', 'I’m sick of your love ', 'Too sick of your love ', 'I’m sick and tired of your all', 'Sick of this love ', 'Just fed up with us and our love', 'Sick of your love', 'Just sick of this love']\n"
          ]
        },
        {
          "metadata": {
            "tags": null
          },
          "name": "stderr",
          "output_type": "stream",
          "text": [
            "\r 35%|███▍      | 73/211 [33:22<1:01:51, 26.90s/it]"
          ]
        },
        {
          "metadata": {
            "tags": null
          },
          "name": "stdout",
          "output_type": "stream",
          "text": [
            "69\n",
            "['적어내려가는 wish list', '뭐가 좋을지 고민', '하는 중야 baby 마지막이잖아 우리', '이제 곧 떠나야해 난 멀리', '이제 곧 떠나야해 난 멀리', '기억해 주겠니', '초를 키던 밤을', '떨어지던 별', '그게 미웠던 날을', '나는 울었고', '안아줬던 품은', '아직까지도', '나를 안아줘', '원망하는 중이야 시간을', '기억하는 중이야 이밤을', '해가 다시 뜨고 지나면', '이곳에 더는 없겠지 나는', '사랑은 무서운게 분명해', '흉터마저도 우린 추억해', '언젠가 닿기를 그곳에서', '니 손을 꽉 나는 잡았지', '아무렴 끝을 바라보며 입맞추고', '끝을 바라보며 우린 사랑하지', '그건 사실 무엇보다 멍청하지', '하루살이 같이 아름답길', '뛰어들려고 저 불구덩이를', '태우고 또 태워서 날아가길', '내가 없어도 누군가와 너만은', '행복하게 다시 살아가길', '적어내려가는 wish list', '뭐가 좋을지 고민', '하는 중야 baby 마지막이잖아 우리', '이제 곧 떠나야해 난 멀리', '이제 곧 떠나야해 난 멀리', '기억해 주겠니', '초를 키던 밤을', '떨어지던 별', '그게 미웠던 날을', '나는 울었고', '안아줬던 품은', '아직까지도', '나를 안아줘', '운만 띄워도 눈물이 왈칵', '미래를 적어 준 편지엔 답장', '못하지 끝내 감성은 사치인', '현실엔 거꾸로 시간이 가', '조금은 진지해야만 해', '밝아진 표정을 마지막에', '더 이상 나를 위한 것은 의미 없기에', '난 진짜로 가짜가 돼야만 해', '아침이 떠도 세상은 돌고', '계획이 사라진 주말 밤에', '혼자가 돼버릴 우리는 현실에', '가까이 있어도 무감각해', '숨 닿지 않는 곳에', '내가 계속 남아있었으면 해', '적어 내려가는 wish list', '뭐가 좋을지 고민', '하는 중이야 baby 마지막이잖아 우리', '이제 곧 떠나야 해 난 멀리', '이젠 떠나야 해 난 멀리', '기억해 주겠니', '초를 키던 밤을', '떨어지던 별', '그게 미웠던 날을', '나는 울었고', '안아줬던 품은', '아직까지도', '나를 안아줘']\n"
          ]
        },
        {
          "metadata": {
            "tags": null
          },
          "name": "stderr",
          "output_type": "stream",
          "text": [
            "\r 35%|███▌      | 74/211 [33:58<1:07:36, 29.61s/it]"
          ]
        },
        {
          "metadata": {
            "tags": null
          },
          "name": "stdout",
          "output_type": "stream",
          "text": [
            "94\n",
            "['All the colors and personalities', '모든 색깔과 성격들 ', 'you can’t see right through what I truly am', '그것들 사이로는 내가 정말 어떤 사람인지 볼 수 없어', 'you’re hurting me without noticing ', '넌 예고도 없이 나에게 상처를 주고 ', 'I’m so, so broke like someone just robbed me', '누가 날 털어간 것 마냥 부서진 것 같아', 'I’m no invincible', '난 강한 사람이 아니야', 'I have much memories of getting more weaker ', '난 점점 약해져가는 기억들이 훨씬 많은 걸', 'I know I’m not loveable', '나도 내가 사랑받을 수 없는 거 알아', 'but you know what you’d have to say', '그래도 네가 어떤 말을 해줘야 하는지 알지?', '“Come on let’s go to bed ', '“나와 같이 침대로 가자 ', 'we gonna rock the night away', '우린 이 밤을 신나게 보낼 거야', 'who did that to you, babe', '누가 너에게 그런 짓을 한 거야', 'If you’re not in the right mood to sleep now then, ', '네가 당장 잠들 수 있는 기분이 아니라면 ', 'Come on, let’s drink and have very unmanageable day ', '나와서 나랑 한잔하고, 감당하기 힘든 하루를 보내자!', 'would you want me in bae', '내가 거기 있길 바라?', 'If you’re not in the right mood to sleep now then ', '네가 당장 잠들 수 있는 기분이 아니라면 ', 'come take my arms and go ', '나와 함께 가자!', 'I’II be yours for sure”', '내가 너의 것이 되어줄게!” ', 'All the traces and reminiscences ', '모든 흔적들과 과거를 회상하는 일들 ', 'You can’t sense right through how I truly was ', '그 사이로는 내가 정말 어땠는지 느낄 수 없을 거야', 'You were gripping me without noticing', '넌 날 예고도 없이 끌어당겼고 ', 'Was so, so strange like Someone never loved me ', '마치 누가 날 사랑한 적이 없는 것처럼 정말 낯설었어', 'I’m no invincible', '난 강한 사람이 아니야', 'I have much memories of getting more weaker ', '난 점점 약해져가는 기억들이 훨씬 많은 걸', 'I know I’m not loveable', '나도 내가 사랑받을 수 없는 거 알아', 'but you know what you’d have to say', '그래도 네가 어떤 말을 해줘야 하는지 알지?', '“Come on let’s go to bed ', '“나와 같이 침대로 가자', 'we gonna rock the night away!', '우린 이 밤을 신나게 보낼거야', 'who did that to you, babe', '누가 너에게 그런 짓을 한거야 ', 'If you’re not in the right mood to sleep now then, ', '네가 당장 잠들 수 있는 기분이 아니라면 ', 'Come on, let’s drink and have very unmanageable day ', '나와서 나랑 마시고, 감당하기 힘든 하루를 보내자', 'would you want me, in bae', '내가 거기 있길 바라?', 'If you’re not in the right mood to sleep now then ', '네가 당장 잠들 수 있는 기분이 아니라면 ', 'come take my arms and go ', '나와 함께 가자', 'I’ll be yours for sure”', '내가 너의 것이 되어줄게” ', 'You’re the only one, who saw my yesterday ', '너는 내 어제를 본 유일한 사람이야 ', 'the one who knows I’m here alive today ', '여기, 오늘 내가 살아있다는 걸 아는 사람이고', 'Comfort me say, what I’m meant to you ', '날 위로해줘, 내가 너에게 어떤 뜻인지 말해줘 ', 'you should know what you have to say ', '네가 뭐라고 해야 하는지 알아야 해', '“Come on let’s go to bed ', '“나와 같이 침대로 가자', 'we gonna rock the night away', '우린 이 밤을 신나게 보낼 거야', 'who did that to you, babe', '누가 너에게 그런 짓을 한거야 ', 'If you’re not in the right mood to sleep now then, ', '네가 당장 잠들 수 있는 기분이 아니라면 ', 'Come on, let’s drink and have very unmanageable day ', '나와서 나랑 마시고, 감당하기 힘든 하루를 보내자', 'would you want me in, bae', '내가 거기 있길 바라?', 'If you’re not in the right mood to sleep now then ', '네가 당장 잠들 수 있는 기분이 아니라면 ', 'come, take my arms and go ', '나와 함께 가자', 'I’ll be yours for sure”', '내가 너의 것이 되어줄게”']\n"
          ]
        },
        {
          "metadata": {
            "tags": null
          },
          "name": "stderr",
          "output_type": "stream",
          "text": [
            "\r 36%|███▌      | 75/211 [34:46<1:19:40, 35.15s/it]"
          ]
        },
        {
          "metadata": {
            "tags": null
          },
          "name": "stdout",
          "output_type": "stream",
          "text": [
            "87\n",
            "['When you say that you love me', '난 하늘 위를 걷네', '영원을 말해줘 ', 'just one more time', 'When you say that you love me', '난 그 한 마디면 돼', '변하지 않는다고 ', 'just one more time', '넌 내게 이 세계의 전부 같아', '더 세게 아프게 날 꽉 껴안아', '우리가 나눈 something', \"And you can't make it nothing\", '잊지 않아줬으면 해 ', '넌 내', '하루하루', '여름 겨울', '넌 몰라도', 'You got the best of me', 'You got the best of me', \"So please just don't leave me\", 'You got the best of me', '나도 나의 끝을 본 적 없지만', '그게 있다면 너지 않을까', '다정한 파도고 싶었지만', '니가 바다인 건 왜 몰랐을까', '어떡해 너의 언어로 말을 하고', '또 너의 숨을 쉬는데', \"I'll be you 날 쥐고 있는 너\", '난 너의 칼에 입맞춰', '그러니 ', 'take my hand right now', '이런 내가 믿기지 않아', '속으로만 수천 번은 더 말했었던 그 말', '그대는 날 떠나지 마', 'You got the best of me', 'You got the best of me', '꿈인지 현실인지는 딱히 중요치 않지 ', '그저 니가 내 곁에 있다는 게', 'Thanks', '하루하루', '여름 겨울', '넌 몰라도', 'You got the best of me', 'You got the best of me', \"So please just don't leave me\", 'You got the best of me', '넌 나의 구원 넌 나의 창', '난 너만 있으면 돼', 'You got the best of me', '니가 필요해', \"So please just don't leave me\", 'You got the best of me', '비가 내리던 나', '눈이 내리던 나', '모든 불행을 멈추고', '천국을 데려와', '쉽게 말하지 마', '너 없는 난 없어', '넌 내 best of me', 'The best of me', '그냥 나에 대한 확신을 줘', '그게 내가 바란 전부이니까', '우리의 규율은 없다 해도', '사랑하는 법은 존재하니까', 'Who got the best of me', 'Who got the best of me', '누구도 몰라 ', 'but I know me', '내 최고의 주인인 걸 넌', 'You got the best of me', 'You got the best of me', \"So please just don't leave me\", 'You got the best of me', '넌 나의 구원 넌 나의 창', '난 너만 있으면 돼', 'You got the best of me', '니가 필요해', \"So please just don't leave me\", 'You got the best of me', 'When you say that you love me', '난 하늘 위를 걷네', '영원을 말해줘 ', 'just one more time', 'When you say that you love me', '난 그 한 마디면 돼', '변하지 않는다고 ', 'just one more time ']\n"
          ]
        },
        {
          "metadata": {
            "tags": null
          },
          "name": "stderr",
          "output_type": "stream",
          "text": [
            "\r 36%|███▌      | 76/211 [35:32<1:26:43, 38.55s/it]"
          ]
        },
        {
          "metadata": {
            "tags": null
          },
          "name": "stdout",
          "output_type": "stream",
          "text": [
            "20\n",
            "['보일 듯 말듯 가물거리는', '안개 속에 싸인 길', '잡힐 듯 말 듯 멀어져 가는', '무지개와 같은 길', '그 어디에서 날 기다리는지', '둘러보아도 찾을 수 없네', '그대여 힘이 돼주오', '나에게 주어진 길 찾을 수 있도록', '그대여 길을 터주오', '가리워진 나의 길', '그 어디에서 날 기다리는지', '둘러보아도 찾을 수 없네', '그대여 힘이 돼주오', '나에게 주어진 길 찾을 수 있도록', '그대여 힘이 돼주오', '그대여 힘이 돼주오', '나에게 주어진 길 찾을 수 있도록', '그대여 길을 터주오', '가리워진 나의 길', '가리워진 나의 길']\n"
          ]
        },
        {
          "metadata": {
            "tags": null
          },
          "name": "stderr",
          "output_type": "stream",
          "text": [
            "\r 36%|███▋      | 77/211 [35:43<1:07:26, 30.20s/it]"
          ]
        },
        {
          "metadata": {
            "tags": null
          },
          "name": "stdout",
          "output_type": "stream",
          "text": [
            "47\n",
            "['마음속 작은 먹구름이', '점점 더 커져 모든 게', '가려지고 있던 너는', '고갤 들어 하늘을 봐도', '아무것도 보이지가 않아', '고갤 떨궈', '나는 그런 너의 마음속의', '먹구름을 다 걷어내', '너와 눈을 마주쳤고', '어두웠던 하늘은 이제', '분홍빛으로 물이 스며 들었네', '저기에', '세워져 있는', '열기구를 타고', '이곳을 멀리 벗어나', '구름 위에 오르면', '드리운', '분홍빛 하늘', '눈에 비추면', '나는 널 꽉 안을게', '눈에 나만', '담을 수 있게', '밑을 봐도 아무것도 없어', '순간 겁을 먹은 너는', '내 어깨를 꽉 쥐었고', '울먹이며 속삭이는 네', '모든 속마음을 전부', '들어줄게', '저기에', '세워져 있는', '열기구를 타고', '이곳을 멀리 벗어나', '구름 위에 오르면', '드리운', '분홍빛 하늘', '눈에 비추면', '나는 널 꽉 안을게', '눈에 나만', '담을 수 있게', '우린 빨리 하늘을', '따라가야 해', '먹구름이 우리를', '따라오지 못하게', '분홍 하늘 속에', '얼굴이 비치면', '서로를 쳐다보며', '작은 미소를 띠고 있네']\n"
          ]
        },
        {
          "metadata": {
            "tags": null
          },
          "name": "stderr",
          "output_type": "stream",
          "text": [
            "\r 37%|███▋      | 78/211 [36:08<1:03:30, 28.65s/it]"
          ]
        },
        {
          "metadata": {
            "tags": null
          },
          "name": "stdout",
          "output_type": "stream",
          "text": [
            "55\n",
            "['니가 웃던 표정이', '가짜가 아니길 바래', '내게 표한 관심이', '어장이 아니길 바래', '이제 안 들려 남들이', '나한테 뭐라던 간에', '난 좋은 걸 좋아졌는데', '과거는 뭐 어때', '내 스타일이 아니면', '나를 좋아한다면', '그냥 친구였다면', '그런 사람은 됐어', '근데 너는 아마도', '아마도 별개인듯해', '그럼 이제 알아줘', '내가 너를 좋아해', '더는 버림받기 싫은 나는', '불쌍한 놈이잖아', '나를 좋아하지 말아', '얘 말고 딴 애들 다', '너만 나를 좋아해줘', '딴 새끼는 보지마', '내 말이 들리지도 않을 걸 알면서 난', '바꼈으면 해 이 바보같은 상황이', '니가 나를 좋아하면 나는 받아줘야지', '그러고 싶지만 여기는 아니지 꿈이', '너에게 나는 아무것도 아닐 것 같아', '왜 내가 뭐가 부족해 난 안 되나보네', '너에게 나는 아무것도 아닌가보네', '시간이 지나도', '진전없이 걍 흘러가는게', '내 탓일까 이젠 모르겠어 다 정말', '니 맘을 좀 열어보고 싶다', '사랑은 왜이리 어려울까', '멀어지는 너와 자꾸 끌려가는 내가', '대비되네 처량한 나', '대비되네 처량한 나', '너와 길을 걸을 때 난', '편하게 내 맘은 숨겨버린 채', '너 모르게 한 두 개씩은', '티를 내 난 편하게', '대하는 것 같지만 내 맘은 정반대', '니가 원했던 사람에 맞춰', '변하고 싶은데', '더는 버림받기 싫은 나는', '불쌍한 놈이잖아', '나를 좋아하지 말아', '얘 말고 딴 애들 다', '너만 나를 좋아해줘', '딴 새끼는 보지마', '내 말이 들리지도 않을 걸 알면서 난', '바꼈으면 해 이 바보같은 상황이', '니가 나를 좋아하면 나는 받아줘야지', '그러고 싶지만 여기는 아니지 꿈이', '너에게 나는 아무것도 아닐 것 같아']\n"
          ]
        },
        {
          "metadata": {
            "tags": null
          },
          "name": "stderr",
          "output_type": "stream",
          "text": [
            "\r 37%|███▋      | 79/211 [36:37<1:03:14, 28.75s/it]"
          ]
        },
        {
          "metadata": {
            "tags": null
          },
          "name": "stdout",
          "output_type": "stream",
          "text": [
            "34\n",
            "['어느샌가 재밌는 얘기도 없고', '평소보다 잘 웃질 않고', '시선은 내 얼굴 옆이고', '이럴 때만 내 마음이 넓어져서', '그냥 그런 날인가보다', '생각하며 대수롭지 않게 넘어갔지', '아무렇지 않다는 너의 말에', '정말 그런 줄만 알았었어', '이젠 너무 늦어버린 내 맘도', '정말 아무렇지 않겠지만', '잘 지내니 좀 어떠니', '내 생각은 가끔이라도 하니', '이렇게 너에게 미안한 만큼', '행복하게 사니', '잘 지내니 좀 어떠니', '누군가 잘해주는 사람은 있니', '이렇게 늦어버린 안부인사', '받아줄 수 있니', '아무렇지 않다는 너의 말에', '정말 그런 줄만 알았었어', '이젠 너무 늦어버린 내 맘도', '정말 아무렇지 않겠지만', '잘 지내니 좀 어떠니', '내 생각은 가끔이라도 하니', '이렇게 너에게 미안한 만큼', '행복하게 사니', '잘 지내니 좀 어떠니', '누군가 잘해주는 사람은 있니', '이렇게 늦어버린 안부인사', '받아줄 수 있니', '사랑이 끝나면 우린 약속한 듯이', '아무런 사이도 아니었던 것처럼', '시간이 지나면 다른 사랑을 하고', '우리는 아무것도 아닌 것이 되고']\n"
          ]
        },
        {
          "metadata": {
            "tags": null
          },
          "name": "stderr",
          "output_type": "stream",
          "text": [
            "\r 38%|███▊      | 80/211 [36:56<56:03, 25.67s/it]  "
          ]
        },
        {
          "metadata": {
            "tags": null
          },
          "name": "stdout",
          "output_type": "stream",
          "text": [
            "30\n",
            "['이윽고 내가 한눈에', '너를 알아봤을 때', '모든 건 분명 달라지고 있었어', '내 세상은 널 알기 전과 후로 나뉘어', '니가 숨 쉬면 따스한 바람이 불어와', '니가 웃으면 눈부신 햇살이 비춰', '거기 있어줘서 그게 너라서', '가끔 내 어깨에 가만히 기대주어서', '나는 있잖아 정말 빈틈없이 행복해', '너를 따라서 시간은 흐르고 멈춰', '물끄러미 너를 들여다 보곤 해', '그것 말고는 아무것도 할 수 없어서', '너의 모든 순간 그게', '나였으면 좋겠다', '생각만 해도 가슴이 차올라', '나는 온통 너로', '보고 있으면 왠지 꿈처럼 아득한 것', '몇 광년 동안 날 향해 날아온 별빛', '또 지금의 너', '거기 있어줘서 그게 너라서', '가끔 나에게 조용하게 안겨주어서', '나는 있잖아 정말 남김없이 고마워', '너를 따라서 시간은 흐르고 멈춰', '물끄러미 너를 들여다보곤 해', '너를 보는 게 나에게는 사랑이니까', '너의 모든 순간 그게', '나였으면 좋겠다', '생각만 해도 가슴이 차올라', '나는 온통 너로', '니 모든 순간 나였으면']\n"
          ]
        },
        {
          "metadata": {
            "tags": null
          },
          "name": "stderr",
          "output_type": "stream",
          "text": [
            "\r 38%|███▊      | 81/211 [37:11<49:08, 22.68s/it]"
          ]
        },
        {
          "metadata": {
            "tags": null
          },
          "name": "stdout",
          "output_type": "stream",
          "text": [
            "86\n",
            "['내가 날 눈치챘던 순간 ', '떠나야만 했어 ', '난 찾아내야 했어 ', 'All day all night ', '사막과 바다들을 건너 ', '넓고 넓은 세계를 ', '헤매어 다녔어 ', 'Baby I ', 'I could make it better ', 'I could hold you tighter ', '그 먼 길 위에서 ', 'Oh you’re the light ', '초대받지 못한 ', '환영받지 못한 ', '나를 알아줬던 단 한 사람 ', '끝도 보이지 않던 영원의 밤 ', '내게 아침을 선물한 건 너야 ', '이제 그 손 내가 잡아도 될까 ', 'Oh oh ', 'I can make it right ', 'All right ', 'All right ', 'Oh I can make it right ', 'All right ', 'All right ', 'Oh I can make it right ', '이 세상 속에 영웅이 된 나 ', '나를 찾는 큰 환호와 ', '내 손 트로피와 금빛 마이크 ', 'All day everywhere ', 'But 모든 게 너에게 닿기 위함인 걸 ', '내 여정의 답인 걸 ', '널 찾기 위해 노래해 ', 'Baby to you ', '전보다 조금 더 커진 키에 ', '좀 더 단단해진 목소리에 ', '모든 건 네게 돌아가기 위해 ', '이제 너라는 지도를 활짝 펼칠게 ', 'My rehab ', '날 봐 왜 못 알아봐 ', '남들의 아우성 따위 ', '나 듣고 싶지 않아 ', '너의 향기는 여전히 ', '나를 꿰뚫어 무너뜨려 ', '되돌아가자 그때로 ', 'Baby I know ', 'I can make it better ', 'I can hold you tighter ', '그 모든 길은 널 ', '향한 거야 ', '다 소용없었어 ', '너 아닌 다른 건 ', '그때처럼 날 어루만져줘 ', '끝도 보이지 않던 영원의 밤 ', '내게 아침을 선물한 건 너야 ', '이제 그 손 내가 잡아도 될까 ', 'Oh oh ', 'I can make it right ', 'All right ', 'All right ', 'Oh I can make it right ', 'All right ', 'All right ', 'Oh I can make it right ', '여전히 아름다운 너 ', '그날의 그때처럼 말없이 ', '그냥 날 안아줘 ', '지옥에서 내가 살아 남은 건 ', '날 위했던 게 아닌 되려 ', '너를 위한 거란 걸 ', '안다면 주저 말고 ', 'please save my life ', '너 없이 헤쳐왔던 사막 위는 목말라 ', '그러니 어서 빨리 날 잡아줘 ', '너 없는 바다는 결국 ', '사막과 같을 거란 걸 알아 ', 'All right ', 'I can make it better ', 'I can hold you tighter ', 'Oh I can make it right ', '다 소용없었어 ', '너 아닌 다른 건 ', 'Oh I can make it right ', 'All right', 'All right', 'Oh I can make it right']\n"
          ]
        },
        {
          "metadata": {
            "tags": null
          },
          "name": "stderr",
          "output_type": "stream",
          "text": [
            "\r 39%|███▉      | 82/211 [37:58<1:04:05, 29.81s/it]"
          ]
        },
        {
          "metadata": {
            "tags": null
          },
          "name": "stdout",
          "output_type": "stream",
          "text": [
            "27\n",
            "['그대 보내고 멀리 가을새와 작별하듯', '그대 떠나 보내고 돌아와', '술잔앞에 앉으면', '눈물이 나누나', '그대 보내고 아주 지는', '별빛 바라볼때', '눈에 흘러 내리는', '못다한 말들 그 아픈 사랑', '지울 수 있을까', '어느 하루비라도 추억처럼', '흩날리는 거리에서 쓸쓸한', '사람되어 고개 숙이면', '그대의 목소리', '너무 아픈 사랑은 사랑이 아니었음을', '너무 아픈 사랑은 사랑이 아니었음을', '어느 하루 바람이 젖은 어깨', '스치며 지나가고', '내 지친 시간들이 창에 어리면', '그대 미워져', '너무 아픈 사랑은 사랑이 아니었음을', '너무 아픈 사랑은 사랑이 아니었음을', '이제 우리 다시는 사람으로', '세상에 오지 말기', '그립단 말들도 묻어버리기', '못다한 사랑', '너무 아픈 사랑은 사랑이 아니었음을', '너무 아픈 사랑은 사랑이 아니었음을']\n"
          ]
        },
        {
          "metadata": {
            "tags": null
          },
          "name": "stderr",
          "output_type": "stream",
          "text": [
            "\r 39%|███▉      | 83/211 [38:12<53:41, 25.17s/it]  "
          ]
        },
        {
          "metadata": {
            "tags": null
          },
          "name": "stdout",
          "output_type": "stream",
          "text": [
            "41\n",
            "['좋았나봐 널 많이 아꼈나봐', '다시 못견디게 아픈걸 보니', '가슴에서 자꾸만 열이 나고', '널 떠올릴때마다 그리움이 흘러', '숨겨봐도 그게 잘 안되나봐', '이별 앓고있는 날 다 아는걸', '씩씩한척 강한척 하는 내가', '웃는 눈빛마저도 우는것 ', '같아 보인대', '우리 정말 사랑하긴 했을까', '느낄 수가 없잖아', '작고 좁은 나의 세상속에 ', '살던 넌 ', '행복하긴 했을까', '우리 닮은 지난 추억이 ', '초라한 내 앞이라 더 눈부셔', '너 있는 곳 너무 멀어 ', '다가갈 수 없어', '헤어져도 보내지 못하나봐', '니가 돌아와줄 것만 같아서', '시간가면 잊을수 있을꺼란 ', '굳은 다짐해봐도 ', '매일 널 찾아 헤매는데', '우리 정말 사랑하긴 했을까', '믿을 수가 없잖아', '좋은 사람으로 니 가슴에 내 모습 ', '남긴 했을까', '니가 곁에 없는 나보다 ', '내가 없는 니가 더 두려워', '나를 지우고 쉽게 또 사랑 할까봐', '지키지 못할 약속들 ', '그땐 왜 그렇게 많이 했는지', '아직도 너를 위해 난 주고 ', '싶은게 많은데', '우리 정말 사랑하긴 했을까', '느낄 수가 없잖아', '작고 좁은 나의 세상속에 살던 넌 ', '행복하긴 했을까', '니가 곁에 없는 나보다 ', '내가 없는 니가 더 두려워', '니 사랑이 마지막이 될까봐 ']\n"
          ]
        },
        {
          "metadata": {
            "tags": null
          },
          "name": "stderr",
          "output_type": "stream",
          "text": [
            "\r 40%|███▉      | 84/211 [38:34<51:18, 24.24s/it]"
          ]
        },
        {
          "metadata": {
            "tags": null
          },
          "name": "stdout",
          "output_type": "stream",
          "text": [
            "11\n",
            "['사랑도 부질없어 미움도 부질없어', '청산은 나를 보고 말없이 살라 하네', '버려라 훨훨 벗어 버려라 훨훨 ', '사랑도 미움도 버려라 벗어라 훨훨훨', '아 아 물같이 바람같이 살라 하네', '탐욕도 벗어 놓고 성냄도 벗어 놓고', '창공은 나를 보고 티없이 살라 하네', '버려라 훨훨 벗어 버려라 훨훨 ', '탐욕도 성냄도 버려라 벗어라 훨훨훨', '아 아 물같이 바람같이 살라 하네', '물같이 바람같이 살라 하네']\n"
          ]
        },
        {
          "metadata": {
            "tags": null
          },
          "name": "stderr",
          "output_type": "stream",
          "text": [
            "\r 40%|████      | 85/211 [38:40<39:33, 18.83s/it]"
          ]
        },
        {
          "metadata": {
            "tags": null
          },
          "name": "stdout",
          "output_type": "stream",
          "text": [
            "8\n",
            "['봄비 속에 떠난 사람', '봄비 맞으며 돌아왔네', '그 때 그 날은 그 때 그 날은', '웃으면서 헤어졌는데', '오늘 이 시간 오늘 이 시간', '너무나 아쉬워 서로가 울면서 창밖을 보네', '봄비가 되어 돌아온 사람', '비가 되어 가슴 적시네_x000D_\\n\\t\\t\\t\\t\\t</div>']\n"
          ]
        },
        {
          "metadata": {
            "tags": null
          },
          "name": "stderr",
          "output_type": "stream",
          "text": [
            "\r 41%|████      | 86/211 [38:45<30:07, 14.46s/it]"
          ]
        },
        {
          "metadata": {
            "tags": null
          },
          "name": "stdout",
          "output_type": "stream",
          "text": [
            "34\n",
            "['처음 너를 만난 그 모든 순간이', '쉬지 않고 생각나', '나에게로 와서 쏟아지네', '밤하늘의 저 별처럼', '고요해져버린 이 시간엔', '널 그리워하는 일로 밤을 새', '비 오는 소리도 괜히 쓸쓸해', '너와 같이 있던 여기에', '네가 없으니까', '처음 너를 만난 그 모든 순간이', '쉬지 않고 생각나', '나에게로 와서 쏟아지네', '밤하늘의 저 별처럼', '나의 이 마음을 담아 시를 써도', '표현할 수 없어 깊은 마음인걸', '나를 사랑하지 않아서', '난 아무 말도 못 했어', '안녕이란 그 말이 결국 다였나봐', '처음 너를 만난 그 모든 순간이', '쉬지 않고 생각나', '나에게로 와서 쏟아지네', '밤하늘의 저 별처럼', '눈감아 생각해보면 참 좋았었는데', '신호등의 빨간불이 너의 마음 같아', '널 잊어야 하는데', '파도처럼 내게 밀려드는', '너를 잊을 수가 없어', '너의 목소리가 들려오네', '깨어나면 꿈이겠지만', '보라빛의 하늘색은 외로워', '너도 지금 보고 있을까', '고여있는 빗물 속에 내 눈물이', '이렇게 떨어지는데', '너 없이는 안되나봐']\n"
          ]
        },
        {
          "metadata": {
            "tags": null
          },
          "name": "stderr",
          "output_type": "stream",
          "text": [
            "\r 41%|████      | 87/211 [39:03<32:20, 15.65s/it]"
          ]
        },
        {
          "metadata": {
            "tags": null
          },
          "name": "stdout",
          "output_type": "stream",
          "text": [
            "59\n",
            "['You’re a lot for me girl ', '너는 내게 너무 멋진', '사랑이었던 거 같아', '아마 그랬던 거 같아', 'You’re a lot for me girl', '너는 내게 너무 멋진', '사람이었던 거 같아', '아마 그랬던 거 같아', '난 너를 보고 있는데', '너도 날 보고 있니', '지구 반대편에서도', '내가 보고 싶니', '잘 살고 있니', '아님 못 살고 있니', '혹시 내가 보고 싶어서', '막 울지는 않니', '난 네게 모든 걸 줬는데 너는 떠났고', '난 너 없이도 살아가는 법을 배웠어', '난 네게 전화 했었는데 너는 꺼놨고', '나 혼자 기억들을 데웠어', 'Oo I’m alright', 'Just live your life', 'Or be my wife', 'Just what u wanna be', 'Oo I’m alright', 'Just live your life', 'Or be my wife', 'Just what u wanna be', '네가 떠난 그날 밤', '하늘을 보며 많은 생각을 했어', '우리가 다시 만나도', '사랑을 하게 될까', '너무 아픈 사랑은', '사랑이 아니었음을', '널 보내주는 것', '그것 말고는 답이 없음을', '널 보내지만 널 보내지만', '내 마음은', '보내지마 보내지마', '내 말은', '내 마음이 마음 같지 않아', '많이 망가졌어', '아직 너를 못 잊었어', 'Oo I’m alright', 'Just live your life', 'Or be my Valentine', 'Just what u wanna be', 'Oo I’m alright', 'Just live your life', 'Or be my Valentine', 'Just what u wanna be', 'You’re a lot for me girl', '너는 내게 너무 멋진', '사랑이었던 거 같아', '아마 그랬던 거 같아', 'You’re a lot for me girl', '너는 내게 너무 멋진', '사람이었던 거 같아', '아마 그랬던 거 같아']\n"
          ]
        },
        {
          "metadata": {
            "tags": null
          },
          "name": "stderr",
          "output_type": "stream",
          "text": [
            "\r 42%|████▏     | 88/211 [39:35<41:51, 20.42s/it]"
          ]
        },
        {
          "metadata": {
            "tags": null
          },
          "name": "stdout",
          "output_type": "stream",
          "text": [
            "44\n",
            "['Once upon a time, there was a villain', 'Who is a villain?', '혀 안에 가득 찬 사탕 Strawberry', '이게 내 마지막 만찬인지 따갑게 달콤해', '멍청해 흙투성이 쟨 멀쩡해', '몇 발을 쏴도 내 총엔 맞지 않아 It’s okay', 'Why don’t you love me 이것 봐', '이리 아름다운데', '이 미친 소설의 끝은 대체 언제쯤', 'If the villain dies', '(Okay, Bullet, Love, Die)', 'Heroine is mine', 'I’ll never die', 'Even if it’s your sad ending', 'Heroine is mine', 'I’ll never die', 'Even if it’s your sad ending', 'You put me down and want me dead', 'In fact, you don’t even know me that well', 'I never cry, but I was in pain yesterday as well cuz of her', 'Who is the villain 그 악당이 나였네', '모든 걸 망치는 그녀를 미워했는데', '이 소설 속 악당은 나였네', 'Hey yo god or author', 'I’m goin’ to hell but not alone', '뵈는 게 없어진 나의 Play는 바꿔버릴 거야 이 결론', 'Hey yo god or author', 'I’m goin’ to hell but not alone no no no', 'Why do you love her 이것 봐', '늘 날 아프게 하는데', '이 미친 소설의 끝은 대체 언제쯤', 'If the villain dies', '(Okay, Bullet, Love, Die)', 'Heroine is mine', 'I’ll never die', 'Even if it’s your sad ending', 'Heroine is mine', 'I’ll never die', 'Even if it’s your sad ending', '멍청하게 흘러가게 두지 않아 난', '재밌는 Ending을 다 잘 봐', '악역의 웃음에 우울한 마지막 장', 'Oh right oh right, write', 'Never die']\n"
          ]
        },
        {
          "metadata": {
            "tags": null
          },
          "name": "stderr",
          "output_type": "stream",
          "text": [
            "\r 42%|████▏     | 89/211 [39:58<43:28, 21.38s/it]"
          ]
        },
        {
          "metadata": {
            "tags": null
          },
          "name": "stdout",
          "output_type": "stream",
          "text": [
            "30\n",
            "['Can you hear the crystal melody', 'with a small hint of misery', 'Life sometimes promises', 'warmth tomorrow', 'Just like a dusky sunset', 'in splendor', 'I remember the humming sound', 'is passing by', 'The tears we have held back', 'all the dreams that I have lost', 'in the Precious days', 'Just keep on dreaming and dreaming', 'alone in the faded paradise', 'your heart that is lighting up', 'the world', 'Takes me to the beautiful dawn', 'Can you see the place', 'I used to stay', 'waiting for you to call me', 'Life sometimes becomes', 'a shining starlight', 'gazing at you make', 'my heart more flutter', 'Just keep on dreaming and dreaming', 'don’t you fold your wings', 'in doubt', 'Each piece of precious memory', 'They will make you fly away', 'I will be there in your memory', 'sweet sweet dreams my dear']\n"
          ]
        },
        {
          "metadata": {
            "tags": null
          },
          "name": "stderr",
          "output_type": "stream",
          "text": [
            "\r 43%|████▎     | 90/211 [40:14<39:32, 19.60s/it]"
          ]
        },
        {
          "metadata": {
            "tags": null
          },
          "name": "stdout",
          "output_type": "stream",
          "text": [
            "37\n",
            "['밤이 깊었네 방황하며', '춤을 추는 불빛들', '이 밤에 취해 술에 취해', '흔들리고 있네요', '벌써 새벽인데 아직도 혼자네요', '이 기분이 나쁘지는 않네요', '항상 당신 곁에 머물고 싶지만', '이 밤에 취해 술에 취해', '떠나고만 싶네요', '이 슬픔을 알랑가 모르겄어요', '나의 구두여 너만은 떠나지 마오', '하나 둘 피어오는 어린 시절', '동화 같은 별을 보면서', '오늘 밤 술에 취한 마차 타고', '지친 달을 따러 가야지', '딱 한 번만이라도', '가지 마라 가지 마라', '날 위해 웃어준다면', '나를 두고 떠나 가지 마라', '거짓말이었대도', '가지 마라 가지 마라', '저 별을 따다 줄 텐데', '나를 두고 떠나 가지 마라', '아침이 밝아오면', '가지 마라 가지 마라', '저 별이 사라질 텐데', '나를 두고 떠나 가지 마라', '나는 나는 어쩌나 가지 마라', '차라리 떠나가주오 워어오', '하나 둘 피어오는 어린 시절', '동화 같은 별을 보면서', '오늘 밤 술에 취한 마차 타고', '지친 달을 따러 가야지', '가지 마라 가지 마라', '나를 두고 떠나지 마라', '오늘 밤 새빨간 꽃잎처럼', '그대 발에 머물고 싶어']\n"
          ]
        },
        {
          "metadata": {
            "tags": null
          },
          "name": "stderr",
          "output_type": "stream",
          "text": [
            "\r 43%|████▎     | 91/211 [40:33<38:49, 19.41s/it]"
          ]
        },
        {
          "metadata": {
            "tags": null
          },
          "name": "stdout",
          "output_type": "stream",
          "text": [
            "31\n",
            "['곱고 희던 그 손으로', '넥타이를 매어주던때', '어렴풋이 생각나오', '여보 그때를 기억하오', '막내아들 대학 시험', '뜬 눈으로 지내던 밤들', '어렴풋이 생각나오', '여보 그때를 기억하오', '세월은 그렇게 흘러', '여기까지 왔는데', '인생은 그렇게 흘러', '황혼에 기우는데', '큰 딸아이 결혼식날', '흘리던 눈물 방울이', '이제는 모두 말라', '여보 그 눈물을 기억하오', '세월이 흘러가네', '흰 머리가 늘어가네', '모두가 떠난다고', '여보 내 손을 꼭 잡았소', '세월은 그렇게 흘러', '여기까지 왔는데', '인생은 그렇게 흘러', '황혼에 기우는데', '다시못올 그 먼길을', '어찌 혼자가려하오', '여기 날 홀로 두고', '여보 왜 한마디 말이없소', '여보 안녕히 잘 가시게', '여보 안녕히 잘 가시게', '여보 안녕히 잘 가시게']\n"
          ]
        },
        {
          "metadata": {
            "tags": null
          },
          "name": "stderr",
          "output_type": "stream",
          "text": [
            "\r 44%|████▎     | 92/211 [40:49<36:25, 18.36s/it]"
          ]
        },
        {
          "metadata": {
            "tags": null
          },
          "name": "stdout",
          "output_type": "stream",
          "text": [
            "31\n",
            "['우리 함께 듣던 그 노랠 듣고 싶을까', '듣고 나서 잠시 날 생각은 할까', '아주 혹시라도 넌 내가 보고 싶을까', '난 왜 니 목소리가 듣고 싶을까', '뻔하디 뻔한 노랫말 여서 미안해', '미안해도 부디 넌 꼭 들어줬음 해', '후회도 미련도 없는 척 떠났지만', '이게 내 진심인 걸 꼭 알아줬음 해', '우리 함께 듣던 그 노랠 듣고 싶을까', '듣고 나서 잠시 날 생각은 할까', '아주 혹시라도 넌 내가 보고 싶을까', '못난 내 목소리가 듣고 싶을까', '말없이 다 전해지는 건 없지 난 말해 지금', '몇 년째 나의 favorite one', 'You the only one yeah', 'Yes I know 무엇도 달라질 건 없지만', '이게 내 진심인 걸 꼭 알아줬음 해', '우리 함께 듣던 그 노랠 듣고 싶을까', '듣고 나서 잠시 날 생각은 할까', '아주 혹시라도 넌 내가 보고 싶을까', '난 왜 니 목소리가 듣고 싶을까', 'Are you okay not today', '천천히 대답해도 돼 i just stay', '넌 내 목소리가 듣고 싶을까', '누굴 만나 봐도 다시는 못할 것 같아', '그립고 또 그립다 우리 그 사랑', 'Woo', 'I’m missing U', 'Never forget U', 'Never forget U', 'Oh no baby']\n"
          ]
        },
        {
          "metadata": {
            "tags": null
          },
          "name": "stderr",
          "output_type": "stream",
          "text": [
            "\r 44%|████▍     | 93/211 [41:04<34:34, 17.58s/it]"
          ]
        },
        {
          "metadata": {
            "tags": null
          },
          "name": "stdout",
          "output_type": "stream",
          "text": [
            "30\n",
            "['여보세요 거기 누구 없소 ', '어둠은 늘 그렇게 ', '벌써 깔려 있어 ', '창문을 두드리는  ', '달빛에 대답하듯  ', '검어진 골목길에  ', '그냥 한번 불러봤소 ', '날 기억하는  ', '사람들은 지금 모두  ', '오늘 밤도 편안히들  ', '주무시고 계시는지 ', '밤이 너무  ', '긴 것 같은 생각에 ', '아침을 보려  ', '아침을 보려 하네  ', '아침을 보려 하네 ', '여보세요 거기 누구 없소  ', '여보세요 ', '날 기억 날 기억하는  ', '사람들은 지금 모두  ', '오늘 밤도 편안히들  ', '주무시고 계시는지 ', '밤이 너무  ', '긴 것 같은 생각에 ', '아침을 보려  ', '아침을 보려 하네 ', '나와 같이 누구  ', '아침을 볼 사람 거기 없소 ', '누군가 깨었다면  ', '내게 대답해줘 ']\n"
          ]
        },
        {
          "metadata": {
            "tags": null
          },
          "name": "stderr",
          "output_type": "stream",
          "text": [
            "\r 45%|████▍     | 94/211 [41:20<32:57, 16.90s/it]"
          ]
        },
        {
          "metadata": {
            "tags": null
          },
          "name": "stdout",
          "output_type": "stream",
          "text": [
            "60\n",
            "['T R Y Do it now ', 'Can you follow me Yes Uh ha ', 'T R Y Pick it up ', \"You'll never catch me Oh No \", '눈부시게 빛나는 나를 따라 Oh Oh Oh ', '가식적인 말들은 비웃어버려 Ha Ha Ha ', '예쁘기만 한 너는 더 이상은 No No No ', '짜릿한 음악 속에 던져버려 ', 'Bang Bang Bang ', '우리는 Oh After School Up ', '너흰 모두 비켜라 ', 'Check it out 다 가져봐 ', 'A ha A ha A ha Right now ', 'Oh After School Up 모두 미쳐라 ', '외쳐라 또 이렇게 A ha A ha A ha ', 'T R Y Do it now ', 'Can you follow me Yes Uh ha ', 'T R Y Pick it up ', \"You'll never catch me Oh No \", '가슴 뛰는 이 밤을 내 맘은 Oh Oh Oh ', '불타는 네 눈길은 내 몸을 타고 Ha Ha Ha ', '거칠어진 숨소리 멈추진 마 No No No ', '심장이 이 리듬을 따라가게 쿵 쿵 쿵 ', '우리는 Oh After School Up ', '너흰 모두 비켜라 ', 'Check it out 다 가져봐 ', 'A ha A ha A ha ', 'Right now Oh After School Up ', '모두 미쳐라', '외쳐라 또 이렇게', 'A ha A ha A ha', \"Bringin' it to you daily\", \"It's only from the best\", 'After School Playgirlz', 'know how to get fresh', 'So cool So right just so tasty', 'We bring it fast forward', 'the fellows go crazy', '좀더 과감하게 보여 주는 거야 더', 'To be raised for my life', '좀더 특별하게 춤을 추는 거야 더', 'To be raised for my life', 'One Two Three', '음악에 널 맡겨 주문을 걸어봐 Yeah', 'To be raised for my life', '조금 더 다가와 이순간을 Catch Up', '우리는 Oh After School Up', '너흰 모두 비켜라 Check it out', '다 가져봐 A ha A ha A ha', 'Right now Oh After School Up', '모두 미쳐라 외쳐라 또 이렇게', 'A ha A ha A ha', 'T R Y Do it now', 'Can you follow me Yes Uh ha', 'T R Y Pick it up', \"You'll never catch me Oh No\", 'A ha A ha A ha', 'T R Y Do it now A ha A ha A ha', 'Can you follow me Yes Uh ha', 'A ha A ha A ha A ha A ha A ha']\n"
          ]
        },
        {
          "metadata": {
            "tags": null
          },
          "name": "stderr",
          "output_type": "stream",
          "text": [
            "\r 45%|████▌     | 95/211 [41:51<40:46, 21.09s/it]"
          ]
        },
        {
          "metadata": {
            "tags": null
          },
          "name": "stdout",
          "output_type": "stream",
          "text": [
            "21\n",
            "['어느 날 갑자기 운명처럼 만난 그대', '사랑의 아픔을 딛고 다시 일어나', '나를 바라보아요 나를 바라보아요', '당신의 힘이 되어 줄게요', '나를 바라보아요 나를 바라보아요', '사랑의 버팀목 되어 줄게요', '그러니 다시 한번 나를 보아요', '당신 곁에 내가 있어요', '그러니 다시 한번 나를 보아요', '사랑의 아픔 딛고', '어느 날 갑자기 운명처럼 만난 그대', '사랑의 아픔을 딛고 다시 일어나', '나를 바라보아요 나를 바라보아요', '당신의 힘이 되어 줄게요', '나를 바라보아요 나를 바라보아요', '사랑의 버팀목 되어 줄게요', '그러니 다시 한번 나를 보아요', '당신 곁에 내가 있어요', '그러니 다시 한번 나를 보아요', '사랑의 아픔 딛고', '사랑의 아픔 딛고']\n"
          ]
        },
        {
          "metadata": {
            "tags": null
          },
          "name": "stderr",
          "output_type": "stream",
          "text": [
            "\r 45%|████▌     | 96/211 [42:02<34:39, 18.08s/it]"
          ]
        },
        {
          "metadata": {
            "tags": null
          },
          "name": "stdout",
          "output_type": "stream",
          "text": [
            "47\n",
            "['이젠 머리가 어지러워', '어느새 해는 져 있고', '난 오늘이 무슨 요일인지도', '모르고 사나 봐', '어질러진 방은', '치울 엄두조차 나질 않고', '침대 위에 누워', '얼마나 잘 수 있나 생각해', '내일이 오길 기다리던 난', '이리저리 부딪히며', '마음대로 무엇 하나 되지 않는 하룰', '견뎌내고 있잖아', '다시 하루는 시작되고', '숨 쉴 틈 없이 세상은 돌아만 가', '하루 종일 모두 떼굴떼굴 굴러', '이대론 안 될 것만 같아', '내일을 그리던 그때로 뒤로 Back', '눈만 깜빡였을 뿐인데', '온데간데없어진 달', '기지갤 피고 하품할 시간', '조차 부족한데', '부대낀 사람들', '어딜 봐도 여유는 하나 없고', '시곗바늘에 쫓겨', '뭔가에 홀린 듯한 발걸음', '내일이 오길 기대하던 넌', '이리저리 부딪히며', '마음대로 무엇 하나 되지 않는 하룰', '견뎌내고 있잖아', '다시 하루는 시작되고', '숨 쉴 틈 없이 세상은 돌아만 가', '하루 종일 모두 떼굴떼굴 굴러', '이대론 안 될 것만 같아', '내일을 그리던 그때로 뒤로 Back', '뒤돌아봐 생각보다', '날이 좋았는데', '얼마나 많이 놓쳤을까', '무감각함에 잠긴 것 같아', '여행 가고 싶어', '꿈을 꾸고 싶어', '하늘을 보고 싶어', '닫힌 내 마음을 움직이게 해준 바람', '아침 햇살에 눈이 부셔', '포근한 구름 위를 뒹구는 기분', '너도 나도 이젠 하루하루 달라', '내일은 어떤 날이 올까', '우릴 위해 있는 거야 이 모든 게']\n"
          ]
        },
        {
          "metadata": {
            "tags": null
          },
          "name": "stderr",
          "output_type": "stream",
          "text": [
            "\r 46%|████▌     | 97/211 [42:26<38:00, 20.01s/it]"
          ]
        },
        {
          "metadata": {
            "tags": null
          },
          "name": "stdout",
          "output_type": "stream",
          "text": [
            "21\n",
            "['비가 오면 빛이 나는 내사랑', '이런 밤에 뒤척이면', '내 맘은 지쳐', '빗속으로 빗속으로', '사랑은 점점 더 빗속으로', '별빛속으로 별빛속으로', '사랑은 점점 더 빛속으로', '비가 오면 빛이 나는 내 사랑', '이런 밤에 뒤척이면 내 맘은 미쳐', '빗속으로 빗속으로', '사랑은 점점 더 빗속으로', '별빛속으로 별빛속으로', '사랑은 점점 더 빛속으로', '라랄라 이 생각으론', '그대를 잊어 봐아아', '내 맘은 늘 비가 내려', '내 맘은 이제 점점 더 빗속으로', '빗속으로 빗속으로', '이 사랑이 점점 더 빗속으로', '별빛속으로 별빛속으로', '이사랑은 점점 더 빛속으로']\n"
          ]
        },
        {
          "metadata": {
            "tags": null
          },
          "name": "stderr",
          "output_type": "stream",
          "text": [
            "\r 46%|████▋     | 98/211 [42:37<32:26, 17.22s/it]"
          ]
        },
        {
          "metadata": {
            "tags": null
          },
          "name": "stdout",
          "output_type": "stream",
          "text": [
            "35\n",
            "['그렇게 대단한 운명까진', '바란적 없다 생각했는데', '그대 하나 떠나간 내 하룬 이제', '운명이 아님 채울 수 없소', '별처럼 수 많은 사람들', '그 중에 그대를 만나', '꿈을 꾸듯 서롤 알아보고', '주는 것 만으로 벅찼던', '내가 또 사랑을 받고', '그 모든 건 기적이었음을', '그렇게 어른이 되었다고', '자신한 내가 어제같은데', '그대라는 인연을 놓지 못하는', '내 모습 어린아이가 됐소', '별처럼 수 많은 사람들', '그 중에 그대를 만나', '꿈을 꾸듯 서롤 알아보고', '주는 것 만으로 벅찼던', '내가 또 사랑을 받고', '그 모든건 기적이었음을', '나를 꽃처럼 불러주던', '그대 입술에 핀 내 이름', '이제 수많은 이름들', '그 중에 하나되고', '오 그대의 이유였던', '나의 모든 것도 그저 그렇게', '별처럼 수 많은 사람들', '그 중에 서로를 만나', '사랑하고 다시 멀어지고', '억겁의 시간이 지나도', '어쩌면 또다시 만나', '우리 사랑 운명이었다면', '내가 너의', '별처럼 수 많은 사람 중에', '내가 너의 기적이었다면']\n"
          ]
        },
        {
          "metadata": {
            "tags": null
          },
          "name": "stderr",
          "output_type": "stream",
          "text": [
            "\r 47%|████▋     | 99/211 [42:55<32:52, 17.61s/it]"
          ]
        },
        {
          "metadata": {
            "tags": null
          },
          "name": "stdout",
          "output_type": "stream",
          "text": [
            "32\n",
            "['난 숨길 수 없죠', '그대 눈 속에 난 많이도 웃네요', '내 맘을 말해줄게요', '떨리는 이 순간 빛나는 오늘밤', '많이 기다려온 그 말을 참아왔죠', '그대에게 모자란 나라서', '늘 내 곁에만 그렇게 있어줘요', '처음 같지 않아도 괜찮아요', '그보다 더 그대를 아낄게요', '눈물도 없을 만큼 상처도 지울 만큼', '셀 수도 없을 만큼 사랑할게요', '내 마음 언제부턴지 알지도 못해요', '누가 알겠어요 자꾸만 또 나도 모르게', '그대로 내 맘은 물들었나 봐요', '외롭던 어느 날에 그대의 목소리는', '나를 불러 봄을 선물했죠', '늘 내 곁에만 그렇게 있어줘요', '처음 같지 않아도 괜찮아요', '그보다 더 그대를 아낄게요', '눈물도 없을 만큼 상처도 지울 만큼', '셀 수도 없을 만큼 사랑할게요', '가끔은 지쳐가겠죠', '때로는 무뎌지겠죠', '오늘 이 밤 우리 tonight', \"기억해요 It's all right\", '그 날의 소중한 우리들을', '늘 내 곁에만 그렇게 있어줘요', '처음 같지 않아도 괜찮아요', '그보다 더 그대를 아낄게요', '눈물도 없을 만큼 상처도 지울 만큼', '셀 수도 없을 만큼 사랑할게요', ' ']\n"
          ]
        },
        {
          "metadata": {
            "tags": null
          },
          "name": "stderr",
          "output_type": "stream",
          "text": [
            "\r 47%|████▋     | 100/211 [43:11<31:42, 17.14s/it]"
          ]
        },
        {
          "metadata": {
            "tags": null
          },
          "name": "stdout",
          "output_type": "stream",
          "text": [
            "61\n",
            "['너에게 눈을 뗄 수 없는 이유가', '뭔지 내게 말해줘', '사랑일까 이런 게 사랑일까', '바로 너야', '이쁜 이 장미 닮은 너야 ', '입술이 딸기같은 거야', '내 맘을 1초만에 다 뺏겨 버렸어', '그래 나야', '널 아껴주는 사람 나야', '널 지켜주는 사람 나야', '니 사랑 송두리째 다 뺏어 주겠어', '어느 때보다 확실해', '다른 애보다 위험해', '자꾸만 눈길이 가 이상하지 나', '소란해 내 심장이 ', '쿵 쾅 뛰는 소리 커져 가', '니가 다가와 주면', '사랑일까 사랑이야 ', '이런 게 사랑일까', '어떡해 얼굴이 ', '금방 새빨개진 이유가', '뭔지 내게 말해줘', '사랑일까 사랑이야 ', '이런 게 사랑일까', '나나나 촌스럽지만', '다다다 유치하지만', '애애애 애 타는 내 맘 속에 너 있어', '오직 너야', '수 십 번 생각해도 너야', '두리번 둘러봐도 너야', '내 사랑 너의 품에 다 던져 주겠어', '그 누구 보다 짜릿해', '너를 보면 나 아찔해', '자꾸만 눈길이 와 떨려오잖아', '소란해 내 심장이 ', '쿵 쾅 뛰는 소리 커져 가', '니가 다가와 주면', '사랑일까 사랑이야 ', '이런 게 사랑일까', '어떡해 얼굴이 ', '금방 새빨개진 이유가', '뭔지 내게 말해줘', '사랑일까 사랑이야', '이런 게 사랑일까', '널 바라 볼 때 설레어 올 때', \"내 머린 하늘까지 닿을 듯이 ol'e\", '우연이 운명이 된 ', '이 순간에 말하자면', '시간이 멈춘 것 같아', \"I'm ready for love\", '내 심장이 쿵 쾅 뛰는 소리 커져 가', '니가 다가와 주면', '사랑일까 이런 게 사랑일까', '어떡해 얼굴이 금방', '새빨게진 이유가', '뭔지 내게 말해줘', '사랑일까 사랑이야 ', '이런 게 사랑일까', '나나나 촌스럽지만', '다다다 유치하지만', '애애애 애 타는 내 맘 속에 너 있어']\n"
          ]
        },
        {
          "metadata": {
            "tags": null
          },
          "name": "stderr",
          "output_type": "stream",
          "text": [
            "\r 48%|████▊     | 101/211 [43:43<39:10, 21.37s/it]"
          ]
        },
        {
          "metadata": {
            "tags": null
          },
          "name": "stdout",
          "output_type": "stream",
          "text": [
            "85\n",
            "['월화수목금토일 주말에야 ', '눈 떠 간 곳은 mad holic ', '습관처럼 난 춤춰', '감은 니 허리 조명이 ', '우릴 붉혔고 ', '너도 내 twenty ', \"I don't wanna be looser\", '눈을 맞추고 넌 물어봐 ', '스무살이 왜이리 능그러워', '화장실로 도망가지마 ', '난 아직도 널 원하니까', '햇빛이 유독 뜨거운 ', '아홉시가 난 무서워', '새침히 물어보던 ', '니 질문이 부끄러워', '다음주가 되면 만나 ', '그때 니 허릴 다시 감아 ', '마감시간이 돼도 가지 말자', '우리 집엔 다들 자고 계시지 ', '너희 집엔 내가 ', '너의 처음이길 바라', '넌 아는 오빠가 많고 ', '계속 달아나 스토커 같다고 ', '널 쫓아가다가 이제', '놓쳐버린 니가 끝인줄 알았는데 ', '웃기지 과일의 주인공이 됐다는게', '이제 처음부터 다시 해 ', '스무살의 nerd now 오반이 됐고', '그 때 놀던 클럽은 ', '재미 없기 까지 해 ', '너가 떠난 공항에서 널 기다릴게', 'I just wanna be with you', 'I just wanna be with you', 'Baby 살짝 멀리 돌아 왔나봐 ', '결국 나는 항상 너란걸', 'Baby 이런 못난 나라도 제발', '내게 마지막은 너란걸', '월화수목금토일 ', '니가 보고 싶어졌고 ', '이제 니가 없는게', '무엇보다도 슬퍼 ', '한번 돌아봐줄걸 ', '넌 그런애가 아니었는데', '클럽에서 내가 노는걸 ', '좋아하는 너를 위해 ', '음악을 만들어줄게', '2년후에야 muse가 돼준 ', '내 사랑 이제 다시 돌아와', '꿈을 꾸는것 같다면 너는 ', '나를 여러번 더 안아도 돼', '니가 사준 베갠 ', '아무도 베지 않아 ', '너 없이 어떻게 ', '내가 더 사랑을 해', '과일부터 그 영화의 주인공이 ', '너라는걸 알게 되고서야 ', '하네 후회', '너 없는 클럽은 ', '나를 채워주지 않아 ', '매일 밤을 이제 ', \"I don't wanna be sad\", '내겐 나도 없이 너만 가득해 ', '다신 너를 잃고 후회않을게', '니가 나를 잊은줄 알았는데 ', '너도 내게 날 보고싶다고 해', \"I don't lie to you no more \", \"won't you love me too\", \"I don't lie to you \", 'I just wanna be with you', 'I just wanna be with you', 'I just wanna be with you', 'Baby 살짝 멀리 돌아 왔나봐 ', '결국 나는 항상 너란걸', 'Baby 이런 못난 나라도 제발', '내게 마지막은 너란걸', 'You and me 조금씩', '그리웠었잖어 이제는 더 ', '그럴 필요가', 'You and me 조금씩', '자연스레 나를 받아줘 ', '너도 기다렸다며', 'Baby 살짝 멀리 돌아 왔나봐 ', '결국 나는 항상 너란걸', 'Baby 이런 못난 나라도 제발', '내게 마지막은 너란걸']\n"
          ]
        },
        {
          "metadata": {
            "tags": null
          },
          "name": "stderr",
          "output_type": "stream",
          "text": [
            "\r 48%|████▊     | 102/211 [44:26<50:58, 28.06s/it]"
          ]
        },
        {
          "metadata": {
            "tags": null
          },
          "name": "stdout",
          "output_type": "stream",
          "text": [
            "60\n",
            "['하루가 지나고 한달이 지나도', '너에게 연락은 오지를 않았어', '눈물이 흘러 가슴이 아파', '아니야 잠시뿐야', '아닐꺼야 아닐꺼야', '아닐꺼야 나를 달래지만', '니가 떠난 빈자리만 커져가', '너를 다시봐도 넌 넌 내사랑', '수백번봐도 난 난 니사랑', '하늘이 맺어준 넌 내사랑', '니가 잠시 길을 잃은것뿐이야', '다시 태어나도 너만 바래', '다시 사랑해도 너만 바래', '돌아올꺼야 돌아올꺼야', '니가없는 나는 없으니까', '날사랑 한다해놓고', '도대체 어디로 떠난거야', '나를 버리고 잡은 내두손까지도', '우리 약속까지도', '나버리고 깨버리고 어떻게 떠나', '꿈일꺼야 꿈일꺼야', '꿈일꺼야 나를 속이지만', '나만 혼자 남겨진게 서러워', '너를 다시봐도 넌 넌 내사랑', '수백번봐도 난 난 니사랑', '하늘이 맺어준 넌 내사랑', '니가 잠시 길을 잃은것뿐이야', '다시 태어나도 너만 바래', '다시 사랑해도 너만 바래', '돌아올꺼야 돌아올꺼야', '니가없는 나는 없으니까', '이 모든게 악몽일꺼라', '나 생각했어', '제발 이꿈에서 깨기만 바래', '오늘이지나고 내일 눈을뜨면', '모든게 현실이 아닌', '꿈이길 바래 oh', '모든게 현실보다도', '미워했던 꿈이였길', '나는바래 널바래', '아직도 너를 원해', '다시 돌아봐도 넌 넌 내사랑', '수천번봐도 난 난 니사랑', '하늘이 허락한 넌 내사랑', '우린 잠시 멀어졌던것 뿐이야', '다른 여잘봐도 너만바래', '다른 사랑해도 너만바래', '돌아올꺼야 돌아올꺼야', '내가없는 너는 없으니까', '난 매일밤 기도해', '내 행복아닌 불행을 위해', '넌 내가아닌 다른사랑 못하게', '난 너아니면 안돼', '내심장이 널 말해', '나는 변함없어', '다시 태어나도 너만바래', '다시 태어나도 너만바래', '다시 사랑해도 너만바래', '돌아올꺼야 돌아올꺼야', '니가없는 나는 없으니까']\n"
          ]
        },
        {
          "metadata": {
            "tags": null
          },
          "name": "stderr",
          "output_type": "stream",
          "text": [
            "\r 49%|████▉     | 103/211 [44:57<51:54, 28.83s/it]"
          ]
        },
        {
          "metadata": {
            "tags": null
          },
          "name": "stdout",
          "output_type": "stream",
          "text": [
            "43\n",
            "['아 괜찮다구요', '행복하다구요', '어쩌면 날 걱정하는 너보다', '뭘 기대하나요', '울었음 싶나요', '그러기엔 난 좀 기분이 좋아요', '세상엔 재미있는 게', '이렇게 많이 있는데', '좋은 노래와 이쁜 옷', '그리고 맛있는 것들이 넘치는데 ', '사랑 말고도 난 좀 할 일이 많아', '이만 가 볼게요', \"she's fine she's fine she's fine\", \"she's fine she's fine she's fine\", \"she's fine she's fine she's fine\", \"she's fine\", \"she's fine she's fine she's fine\", '안 하는 쪽에 가까운 연애', '난 지금이 편해 뭘 해도', '밤에도 잘 자고', '커피를 그렇게 마셔대도', '하는 일도 다 잘 됐고', '효도는 실천 중이고', '아쉬운 건 미세먼지와', '너의 오지랖뿐', \"she's fine she's fine she's fine\", \"she's fine she's fine she's fine\", \"she's fine she's fine she's fine\", \"she's fine\", \"she's fine she's fine she's fine\", '그 사람의 소식을 내게', '전하지 마세요', '궁금하면 내가 직접', '전화해볼게요', \"don't need your help\", '부탁할게', '방해만 말아주시면', '진심으로 감사드리겠습니다', \"she's fine she's fine she's fine\", \"she's fine she's fine she's fine\", \"she's fine she's fine she's fine\", \"she's fine\", \"she's fine she's fine she's fine\"]\n"
          ]
        },
        {
          "metadata": {
            "tags": null
          },
          "name": "stderr",
          "output_type": "stream",
          "text": [
            "\r 49%|████▉     | 104/211 [45:19<47:49, 26.82s/it]"
          ]
        },
        {
          "metadata": {
            "tags": null
          },
          "name": "stdout",
          "output_type": "stream",
          "text": [
            "41\n",
            "['저녁 노을을 바라보며', '널 만나 다행이라고 하던 날이', '벌써 꽤나 오래 전 이야기야', '이제는 노을은 밤의 시작일 뿐이야', '모든 게 아름다웠어', '우울한 날들은 없었어', '지금 돌이켜보면', '우습기도 하지만', '후회는 남기지 않았어', '사랑했으니까 뭐 됐어', '첫째 날부터', '마지막 날까지', '아 행복했던 날들이었다', '꿈만 같았었지', '이제 더는 없겠지만', '지난 날로 남겨야지', '말하다 생기는 정적은', '전엔 아무렇지 않았는데 이젠 달라', '너무도 길게 느껴지고', '가슴이 쓰리고 답답해서 힘들어', '매 순간이 아까웠어', '가는 시간이 참 미웠어', '지금 돌이켜 보면', '바보 같긴 하지만', '후회는 남기지 않았어', '사랑했으니까 뭐 됐어', '첫째 날부터', '마지막 날까지', '아 행복했던 날들이었다', '꿈만 같았었지', '이제 더는 없겠지만', '지난 날로 남겨야지', '아주 가끔은 그리워할 거야 널', '사실 가끔은 아니고 자주겠지', '아주 가끔은 눈물이 흐를 거야', '그 때도 괜찮다고', '되뇌일 거야', '아 행복했던 날들이었다', '꿈만 같았었지', '이제 더는 없겠지만', '지난 날로 남겨야지']\n"
          ]
        },
        {
          "metadata": {
            "tags": null
          },
          "name": "stderr",
          "output_type": "stream",
          "text": [
            "\r 50%|████▉     | 105/211 [45:40<44:01, 24.92s/it]"
          ]
        },
        {
          "metadata": {
            "tags": null
          },
          "name": "stdout",
          "output_type": "stream",
          "text": [
            "98\n",
            "['Hey hey hey hey hey hey (hoo hoo)', 'Hey hey hey hey hey hey (hoo hoo)', '1990’s (how we do it)', '영원한 것들이 있대 (they say)', '우린 쿨한 걸 좋아해 (our way)', '자 누가누가 핫 하대? (boy)', '너도 느껴지지 (how we do it)', '이 분위기는 올드 스쿨 vibe', '(that vibe)', '따라 부르는 kids on the block', '(on the block)', '골목을 흔든 boombox', '소리 질러', '본 적 없는 시간의 의미', '오렌지빛 압구정을 걸어', '너도 느낀다면', 'come and find me', '이 세계는 또 움직이고 있어', '꺼내 꺼내 봐', '꺼내 봐 꺼내 봐 it’s fun', '여기 너와 나', '너와 나만의 스타일로', '(맘껏 으스대 보자 like the 90’s)', 'This is how we do it 다 여기에', 'Woo what you waitin’ for', '새로운 낭만을 불러내', 'Woo we about to go', '우린 원해', 'Here we go here we go here we go ay', '(우린 원해)', '우린 원해', 'Here we go here we go here we go oh', 'That 90’s love', 'That 90’s love', 'Don’t this hit', '진짜 느낌 오는 jump jump', 'Don’t this hit', '이건 우리만의 mood', 'Don’t this hit', '진짜 느낌 오는 jump jump', \"Don't this\", '길을 쓸고 다닌 스트릿', '이젠 그냥 클래식 (blow that)', '주머니는 헐렁했지 (I show that)', '자 찍어 cheese (clack)    ', '필름 속의 친구 다들 make V', '(you know that)', 'Let’s go mob 너의 움직임이', '그대로 여기로 yeah', 'Fresh off 다시 뜨거워진', 'New decades', '내 친구 같은 ‘Friends’ 보며 밤 새', '어쩌면 우린 같은 평행선 위에 ', '들어 봐 DJ drops it (drop)', '느낌 느낄 수밖에', '(feel a way feel a way what)', '이 밤은 짧기에', 'So let me see you do your thang (come on)', '간 적 없는 공간의 의미', '서로의 존재를 느껴 90’s love', '힘이 커져가면 come and find me', '광야를 넘어 더욱 가까이 와', '꺼내 꺼내 봐 꺼내 봐 꺼내 봐 It’s fun', '여기 너와 나 너와 나만의 스타일로', '그게 바로 우리야 put it down like that', '(맘껏 으스대 보자 like the 90’s)', 'This is how we do it 다 여기에', 'Woo what you waitin’ for', '새로운 낭만을 불러내', 'Woo we about to go', '우린 원해', 'Here we go here we go here we go ay', '(우린 원해)', '우린 원해', 'Here we go here we go here we go oh', 'That 90’s love', 'That 90’s love', \"Don't this hit\", '진짜 느낌 오는', 'Tonight 새로운 그 충돌', '파장은 번져가고 있어', '(커져가고 있어 yeah)', '어쩌면 닿을 듯한', '코스모를 느낀 거야 난', 'Let me show you 90’s love', '그게 바로 우리야', 'Let me show you 90’s love', 'This is how we do it 다 여기에', 'Woo what you waitin’ for', '새로운 낭만을 불러내', 'Woo we about to go', '우린 원해', 'Here we go here we go here we go ay', '(우린 원해)', '우린 원해', 'Here we go here we go here we go oh', 'That 90’s love', 'That 90’s love']\n"
          ]
        },
        {
          "metadata": {
            "tags": null
          },
          "name": "stderr",
          "output_type": "stream",
          "text": [
            "\r 50%|█████     | 106/211 [46:29<56:38, 32.36s/it]"
          ]
        },
        {
          "metadata": {
            "tags": null
          },
          "name": "stdout",
          "output_type": "stream",
          "text": [
            "84\n",
            "['You', '도대체 문제가 뭐야 말 좀 해봐', 'Hey you', '질투하는 거야 자격지심인 거야', 'boy', '몇 번이나 말했잖아', '나에겐 한 사람밖에 없다고', '귀여워 너답지 않은 너가', '빠라바빠빠', '빠라바빠빠', '빠라바빠빠', '넌 모를 거야 내 맘을', '너 지금 어딜 보는 건지', '지나가는 쟤 쳐다봤지', '쇼윈도를 보는 척하면서', '눈은 왜 그리 돌아가니', '그래 나보다 키 크고', '어깨도 넓은 거 나도 보이는데', '너가 그래버리면 더 비참해지잖아', '왜 그리 자신 없어', '어딜 보긴 뭘 어딜 봐', '어느 누구와도', '너를 비교한 적 없어', '소심하게 굴지 마', '어제 카페 그 알바생', '앞에서 왜 그리 웃는데', '내가 이상한 건지', '너가 이상한 건지', '몰라 궁금해 머릿속이', 'You', '도대체 문제가 뭐야 말 좀 해봐', 'Hey you', '질투하는 거야 자격지심인 거야', 'boy', '몇 번이나 말했잖아', '나에겐 한 사람밖에 없다고', '귀여워 너답지 않은 너가', '빠라바빠빠', '빠라바빠빠', '빠라바빠빠', '넌 모를 거야 내 맘을', '하나만 물어볼게 차 있단', '그 오빠 얘긴 왜 자꾸 해', '뚜벅이가 뭐 어때서', '어디든 가줄게', '너 친구들 남자 친구 놈들', '딱 들어보니 가식덩어리들 ', 'I told ya', '남잔 늑대 순하디', '순한 너에겐 위험해 yo', '숨어 있어 내 울타리 안에', '우리 사진으로 메신졀 프사해 ', '왜 그리 자신 없어', '아무것도 필요 없어', '내겐 누구보다', '큰 너 나도 알고 있어', '남자는 다 똑같애 ', '그걸 아는 사람이 그래', '밀고 당길 땐 벌써 지났는데', '내가 이상한 건지', '너가 이상한 건지', '몰라 궁금해 머릿속이', 'You', '도대체 문제가 뭐야 말 좀 해봐', 'Hey you', '질투하는 거야 자격지심인 거야', 'boy', '몇 번이나 말했잖아', '나에겐 한 사람밖에 없다고', '귀여워 너답지 않은 너가', '빠라바빠빠', '빠라바빠빠', '빠라바빠빠', '넌 모를 거야 내 맘을', '빠라바빠빠', '빠라바빠빠', '빠라바빠빠', '넌 모를 거야 내 맘을', '혹시나 해서 말인데', '오해할까 걱정인데', '이거 절대 자격지심 아냐 아냐', '혹시나 해서 말인데', '난 아무 상관없는데', '그러는 거 자격지심 맞아 맞아']\n"
          ]
        },
        {
          "metadata": {
            "tags": null
          },
          "name": "stderr",
          "output_type": "stream",
          "text": [
            "\r 51%|█████     | 107/211 [47:12<1:01:25, 35.44s/it]"
          ]
        },
        {
          "metadata": {
            "tags": null
          },
          "name": "stdout",
          "output_type": "stream",
          "text": [
            "119\n",
            "[\"woh I'm on air\", '구름 위 걸어 다녀 매일', 'hunnit dolla bills in my pocket', '허나 발걸음만은 가볍게', '5년 전과는 다른 위치', '다른 state of mind', '잃을 게 많아 보이긴 하지만 ', \"사실 i don't care\", 'aye say hello to my little ', 'friend like woh', \"시간이 지나도 I'm on it on it\", '굴린 적 없지 내 잔머린 머리', '꽤 오래 자리를 비웠었지만', '너도 알잖아 나의 랩은 iconic', '그레이 형의 BEAT ', '이건 family business', '불을 더 지피지 we gotta keep it real', '다시 뭉쳤지 Team AOMG', '커져버린 덩치 think this is the one', '어느새 여기까지 이제야 보여 멀리까지', '정확히 기억하지', '끝나고 집에 돌아가던 날이', '오늘은 점을 찍고', '제대로 돌아가려 하지', 'same team same squad ', 'but different day', '바뀐 게 있다면 직접 보길 원해', '새로운 역사를 난 이뤄내지', 'so come see me live now', 'We on air', \"You're bout to watch me dance\", '올라가지 We go way up', '구름 위에서 난 헤엄', '시간이 들었지만 ', '어차피 우승은 내 말마따나 음', '위험해 위험해 생방 ', '불구덩이 내 자리 맡아놔', '5년 전에 그린 TV 속의 팀', '돌아왔다 각 풀어진 채로 ', '막 수경으로 만기 ', '다시 I can be your party band ', 'In everywhere 난 groovy ', '아직도 걔네들은 멍청하더라 ', '꼭 이래 보여줘야 불식 ', '재빨리 사격 중지 괜찮아 ', '맘 편하게 먹어 지긋이 ', 'AOMG 박재범이 ', '아직까지도 의리로 대하듯이 ', '나의 수입 I don’t know I don’t know ', '이제서야 다음 단계로 건강 걱정 ', '눈에 들어오지도 않는 마름모 ', '가벼움이 목적이 됐지 ', '산뜻하게 머리카락 한 번 더 자르고 ', '다시 또 쇼미더머니 ', '릴보이 전화 한 통에 ', '빨간 불빛 켜지면서 ', \"Let's go\", 'We on air', \"You're bout to watch me dance\", '올라가지 We go way up', '구름 위에서 난 헤엄', 'I’m on air', '니네가 탑 클라스면 I’m God Tier', '2010년부터 매해 It’s my year', 'classic like Illmatic like I’m Nasir', '아옴그 하이어 없이 못 돌아가는 건 쇼미', '난 그 두 레이블의 CEO지', '완벽한 story', '혁우가 날 보고 의리를 배웠지', '그게 큰형님', '여전히 yeah I’m still ', 'on that boss shit huh', '하이어 컴필 들어봐 mob shit huh', '밑바닥 허슬 존나 빡세 huh', '뭐든 처리해 알아 쨔샤 huh', '미래 회장님 난 entrepreneur', '원 소주 내년 출시 예정 pour up', '떠날 때 경례를 보내 no hatin', '전설이 돼가 나는 노란 Jay-Z', 'Jay-Z never change', 'Grind grind on the daily', '몇십억을 거절해 그게 FLEX', '나의 그림 계속 커가', '성공이 나의 개인기', 'Entertainment &amp; Sports Worldwide', '누가 우리를 제대로 대표해', \"doin' that part\", 'let me tell you', 'BTS 봉준호 손흥민 Jay Park', \"Let's go\", \"yeah walkin' on air\", '구름 위를 걷는 기분 ', \"goin' up already there\", 'yeah focus on me', '모든 카메라가 나를 향하네 ', 'oh where they at', 'magic carpet ride', '멀리 날아가', 'hocus pocus now ', 'yeah yeah yeah yeah', '현실에 부딪혀도', '꿈이 있었기에 가능', 'when i was a little boy', '인생은 짧지만 예술은 길어', '오늘 밤에 모든 기를 부어', 'Zion.T와 기리보이', '아옴그와 릴보이', 'Jay Park GRAY 로꼬', '우승은 릴보이', '승리의 세리머니', '손가락 반지에 뽀뽀', 'We on air', \"You're bout to watch me dance\", '올라가지 We go way up', '구름 위에서 난 헤엄', 'We on air', \"You're bout to watch me dance\", '올라가지 We go way up', '구름 위에서 난 헤엄']\n"
          ]
        },
        {
          "metadata": {
            "tags": null
          },
          "name": "stderr",
          "output_type": "stream",
          "text": [
            "\r 51%|█████     | 108/211 [48:12<1:13:30, 42.82s/it]"
          ]
        },
        {
          "metadata": {
            "tags": null
          },
          "name": "stdout",
          "output_type": "stream",
          "text": [
            "86\n",
            "['A yo finally', \"Is this what you been waitin' for\", 'brand new G D', \"I'm all by myself\", \"But it's all good\", 'Yo ma Heartbreaker', 'DJ and YG', 'Let me take this song here', '나도 어디서 꿀리진 않어', '아직 쓸만한 걸 죽지 않었어', '너 하나 때문에 망가진 몸', '사라진 꿈 불 타는 맘 ', '널 위해서라면 내 한 몸 날려', '니가 있는 곳이면 달려', '하지만 그댄 내게 안녕 또 안녕', '넌 내가 싫다고 이유가 뭐냐고', '짜증난 네 표정이', '모든 걸 말해줘 슬프게 해', '그래도 좋다고 기회를 달래도', '한번 돌아선 니 모습', '차가운 그 눈빛이 싫어요', 'No No', 'Yo ma heart heart heart heart', 'Heart breaker', '내가 뭘 잘못했는지', 'Yo ma heart heart heart heart', 'Heart breaker', 'No way No way', '니가 날 떠나간다고', '난 인정 못한다고', '잘 사나보자고', 'Lovers and Haters', '지긋지긋지긋 해', '삐끗삐끗삐끗 해', '내 사랑이 비굴해', 'No way', '매일 똑같은 문제', '넌 내가 변했다해', '가증스런 입 다물래', '상대가 누군지 알고 말해', '난 이제 Out of control', '혼자서 계속 밑으로', '그 자리 그 곳에서 안녕 또 안녕', '넌 내가 싫다고 이유가 뭐냐고', '화가 난 니 목소리', '모든 걸 보여줘 슬프게 해', '그래도 좋다고 기회를 달래도', '한번 돌아선 니 모습', '차가운 그 미소가 미워요', 'No No', 'Yo ma heart heart heart heart', 'Heart breaker', '내가 뭘 잘못했는지', 'Yo ma heart heart heart heart', 'Heart breaker', 'No way No way', '니가 날 떠나간대도', '난 인정 못한다고', '잘 사나보자고', 'Lovers and Haters', '지긋지긋지긋 해', '삐끗삐끗삐끗 해', '내 사랑이 비굴해', \"I'll still still be there\", '꺼진 니 전화기에', \"I'll still still be there\", '네 집 앞 편지함에', '난 아직도 그댈', '이젠 남이라 해도', \"I'll will still be there\", '영원히 함께하잔 그 말들', '잠깐의 달콤한 뿐이라고', '그댄 왜 아무렇지 않냐고', '헤이 난 이렇게 아픈데', 'Yo ma heart heart heart heart', 'Heart breaker', '내가 뭘 잘못했는지', 'Yo ma heart heart heart heart', 'Heart breaker', 'No way No way', 'Yo ma heart heart heart heart breaker', 'Yo ma heart heart heart heart', 'breaker breaker', 'H E A R T baby ', 'No way', \"I'm out\"]\n"
          ]
        },
        {
          "metadata": {
            "tags": null
          },
          "name": "stderr",
          "output_type": "stream",
          "text": [
            "\r 52%|█████▏    | 109/211 [48:56<1:13:23, 43.18s/it]"
          ]
        },
        {
          "metadata": {
            "tags": null
          },
          "name": "stdout",
          "output_type": "stream",
          "text": [
            "27\n",
            "['아직은 사랑을 몰라 몰라', '그래도 우리는 좋아 좋아', '알 수 없는 너의 고백이', '내 가슴을 뛰게 하지만', '그런 말은 너무 어려워', '싫어 싫어', '남들이 나에게 말하기를', '귀여운 웃음이 좋다나요', '그러나 이제는 안그래요', '나만의 비밀이 생겼어요', '하지만 나는 너 좋아', '사랑일지도 몰라', '하지만 나는 너 좋아', '사랑일지도 몰라', '그런 말은 이제 싫어 싫어', '남들이 나에게 말하기를', '귀여운 웃음이 좋다나요', '그러나 이제는 안그래요', '나만의 비밀이 생겼어요', '하지만 나는 너 좋아', '사랑일지도 몰라', '하지만 나는 너 좋아', '사랑일지도 몰라', '하지만 나는 너 좋아', '사랑일지도 몰라', '하지만 나는 너 좋아', '사랑일지도 몰라']\n"
          ]
        },
        {
          "metadata": {
            "tags": null
          },
          "name": "stderr",
          "output_type": "stream",
          "text": [
            "\r 52%|█████▏    | 110/211 [49:10<58:04, 34.50s/it]  "
          ]
        },
        {
          "metadata": {
            "tags": null
          },
          "name": "stdout",
          "output_type": "stream",
          "text": [
            "147\n",
            "['Step into the zone', '모두 우릴 봐', \"These porches' &amp; bentley's\", 'yea you know who they are', 'Party people in the house', 'get yo drinks up now', '1lly bition time one more shot', 'I wanna vibe', 'but she wanna rock 워', 'Wait check plz', '어디야 난 이쪽', '간단하게 한잔할 건데 생각 있어', '우리는 알람이 필요해 계산기보단', '망가질게 똑같이', 'We ain’t Babi doll', 'Wings with the beer', 'Wine with quesadilla', '아냐 괜찮아 너 되는 만큼만 비워', '저기 빈 병은 치워', '사실 2차도 쉬워', '걱정 마 우린', '발음 꼬이는 것도 컨텐츠인 기업', '음 Bition 피리 부는 소년', '나도 가끔씩 어제의 숙취에 속아', '필요해 숙취해소가', '그럴 때마다 또 전화', '우리 인생 비디오로 보면', '처음 장면은 쇼박스', 'Yeah 캔을 따고 헤엄', '비워줘 너의 잔 띄워 카페베네 배너', '혹시 괜찮다면', '우리 볼 수 있을까 내일도', '술은 오늘 까지란 말은', '오늘까지만 해줘', 'Babe 그 걱정은 미뤄둬', '우리한테 맡겨 그대 날 믿어줘', '손을 들어 right', 'hey 총 모양을 만들래', '그리고 갖다 쏴', '향해 여섯 명의 squad', '우리 다 같이 비워', '어서 마셔봐', '그저 영원하길 빌어', '우리들의 젊음이', '우리 돈들은 길어', '우리 모두 같이 비워', '우리 모두 같이 비워', '끊었던 술을 마셔', 'bition boys 함께라면', '다시 모여 이 노래가 틀릴 때쯤', 'in this club bition boys', '창모 전화 줘 릴러 혼자 텐션 쩔어', '해쉰 눈이 풀렸고', '애쉬는 어디 나갔어', '설마', 'Way ched 보내야지 한 방에', '한잔해', '헤네시는 여기 내가 다 살게', '콰 형도 아마 그 이미지 때문에', '먼저 말을 못 하는 것만 같은데', '나는 봤지 LA 클럽에서', '그러니 총 일곱 잔을 세', '우리 모두 같이 비워', '총을 들어', 'u already know that', 'shoot', '이 도신 아무래도 너무 좁네', '아 좁아', '내 돈은 조연 이놈은 주인공', 'pull a trigger lets shoot a movie', 'Poppin bottle the', 'Champagne or thing', '같이 비워내 잔이랑 고민', 'uh uh', 'Island of Ash', '여기로 Come here', '어 어서 와', '잔을 비워내', 'Brrrt', 'Movie star shoot it up', 'up up', 'Party in this club', 'Baby I know u want it', '잔을 비워 너와 내 생각이 같다면', 'Okay', '같이 되자고 주인공', '우린 마치 Movie star', 'Babe 그 걱정은 미뤄둬', '우리한테 맡겨 그대 날 믿어줘', '손을 들어 right hey', '총 모양을 만들래', '그리고 갖다 쏴', '향해 여섯 명의 squad', '우리 다 같이 비워', '어서 마셔봐', '그저 영원하길 빌어', '우리들의 젊음이', '우리 돈들은 길어', '우리 모두 같이 비워', '우리 모두 같이 비워', 'Ash hash 어디야 불러', '효은이형 창모형도', 'Way ched 빨랑 call', '술을 못해도 오늘은 one', 'Shot shot shot shot', '술이 올랐으면 stage 로 go', 'flex on the floor', 'Bish u never know', '해장으로 사루카메 무타히로', '이런 삶을 사랑해', '난 돌아가지 않아', '거지 같던 땐', '기억도 하고 싶지 않아', '비우고 비우고 비워내지', '부정적인 mind', '나도 믿지 않았었지 전혀', '그놈의 positive vibe', '이제는 빨대 꽂아봐라', 'dingo', '릴러는 던지지 새로운 신곡', '오늘도 날아올라 조던 신고', 'God bless 받아버리지', 'ambition', '함부로 꺼내지마 우리 이름', '저기 저 dummy 는', '너무나 지루해', 'Boy I never fuxx with em', '내 시간은 금 설명하기도 피곤해', 'Babe 그 걱정은 미뤄둬', '우리한테 맡겨 그대 날 믿어줘', '손을 들어 right', 'hey 총 모양을 만들래', '그리고 갖다 쏴', '향해 여섯 명의 squad', '우리 다 같이 비워', '어서 마셔봐', '그저 영원하길 빌어', '우리들의 젊음이', '우리 돈들은 길어', '우리 모두 같이 비워', '우리 모두 같이 비워', 'Step into the zone', '모두 우릴 봐', \"These porches' &amp; bentley's\", 'yea you know who they are', 'Party people in the house yea', 'Party people in the house']\n"
          ]
        },
        {
          "metadata": {
            "tags": null
          },
          "name": "stderr",
          "output_type": "stream",
          "text": [
            "\r 53%|█████▎    | 111/211 [50:25<1:17:53, 46.73s/it]"
          ]
        },
        {
          "metadata": {
            "tags": null
          },
          "name": "stdout",
          "output_type": "stream",
          "text": [
            "64\n",
            "['나나나 나나나 나나나 ', '나나나나나나 나나나나 ', '나나나 나나나 나나나 ', '나나나나나나 나 ', '나나나 나나나 나나나 ', '나나나나나나 나나나나 ', '나나나 나나나 나나나 ', '나나나나나나 나 ', '어서 와요 ', '곧 떠나겠지만 ', '잠시나마 즐거웠어요 ', '잘 가세요 ', '하지만 다음엔 ', '좀 오래오래 머물다 가요 ', '난 매일 손꼽아 기다려 ', '한 달에 한번 그댈 보는 날 ', '가난한 내 마음을 ', '가득히 채워 줘 ', '눈 깜짝하면 사라지지만 ', '나나나 나나나 나나나 ', '나나나나나나 나나나나 ', '나나나 나나나 나나나 ', '나나나나나나 나 ', '반가워요 ', '오랜만이지만 ', '볼 때마다 아름답네요 ', '가지 마요 ', '난 그대 없으면 ', '말 그대로 거지란 말예요 ', '난 매일 손꼽아 기다려 ', '한 달에 한번 그댈 보는 날 ', '가난한 내 마음을 ', '가득히 채워 줘 ', '눈 깜짝하면 사라지지만 ', '난 그대 없인 살 수 없어 ', '왜 자꾸 나를 두고 멀리 가 ', '가난한 내 마음을 ', '가득히 채워 줘 ', '눈 깜짝하면 사라지지만 ', '스쳐 가지만 ', '잊을 수 없는 이 맛 ', '메마른 내 통장에 ', '단비 같은 너 ', '언제쯤에야 ', '자유로울 수 있나 ', '무한한 이 속박으로부터 ', '난 매일 손꼽아 기다려 ', '한 달에 한번 그댈 보는 날 ', '가난한 내 마음을 ', '가득히 채워 줘 ', '눈 깜짝하면 사라지지만 ', '난 그대 없인 살 수 없어 ', '왜 자꾸 나를 두고 멀리 가 ', '가난한 내 마음을 ', '가득히 채워 줘 ', '눈 깜짝하면 사라지지만 ', '나나나 나나나 나나나', '나나나나나나 나나나나', '나나나 나나나 나나나', '나나나나나나 나', '나나나 나나나 나나나', '나나나나나나 나나나나', '나나나 나나나 나나나', '나나나나나나 나']\n"
          ]
        },
        {
          "metadata": {
            "tags": null
          },
          "name": "stderr",
          "output_type": "stream",
          "text": [
            "\r 53%|█████▎    | 112/211 [50:58<1:09:54, 42.37s/it]"
          ]
        },
        {
          "metadata": {
            "tags": null
          },
          "name": "stdout",
          "output_type": "stream",
          "text": [
            "37\n",
            "['Man In Love (남자가 사랑할때)', '관심없던 사랑 노랠 흥얼거리고', '세상 멜로 드라마는 모두 내 얘기 같고', '전에 없던 멋을 내며 외모에 신경 쓰고', '커피의 쓴 맛을 알아가', '시간은 참 빠르게 가 마음만 조급해져 가고', '내 곁에 너를 상상해 혼자만의 영활 찍어', '남자가 사랑할 때엔 꼭 항상', '곁에 머물면서 늘 해주고 싶은게 참 많아 ', '사랑에 빠질 땐 내 삶의 모든걸 다 주고서', '단 하나 그 맘만 바래 사랑에 빠질 땐', '남자가 사랑할 때엔 남자가 사랑할 때엔', '점점 붉어지는 볼에 천천히 떨어지는 내 고개', '너만을 바라본 채 I`m On My Way', '미친 듯 달려온 내 고백 ', '남자가 사랑할 땐 하나를 위해 열을 잃어도', '후회로 끝나지 않게', '오늘이 끝인것처럼줘 All I Have', '철없는 어린애처럼 괜시리 웃음이 나고', '남들과 다른 나라고 스스로 컨트롤을 하지', '남자가 사랑할 때엔 꼭 항상', '곁에 머물면서 늘 해주고 싶은게 참 많아 ', '사랑에 빠질 땐 내 삶의 모든걸 다 주고서', '단 하나 그 맘만 바래 사랑에 빠질 땐', '헤어나지 못하게 깊이 빠진 채 책 속 글자가 춤춰', '니 이름으로 영화 속 배우와 하늘 속 달마저', '니 모습으로 보여 매일 널 그려 니가 내 품으로 ', '와야 맘이 놓여 널 위한 안식처 절대 안 식어', '잘봐봐 이런 기분을 느낀다면 네게 빠진거야 ', '누군가 네게 신호를 주면', '알아달란 말이야 지금 나처럼', '남자가 사랑할 때엔 꼭 항상', '곁에 머물면서 늘 해주고 싶은게 참 많아 ', '사랑에 빠질 땐 내 삶의 모든걸 다 주고서', '단 하나 그 맘만 바래 사랑에 빠질 땐', '남자가 사랑할 때엔 남자가 사랑할 때엔', '내가 사랑을 할 때엔 내가 너에게 빠질 땐']\n"
          ]
        },
        {
          "metadata": {
            "tags": null
          },
          "name": "stderr",
          "output_type": "stream",
          "text": [
            "\r 54%|█████▎    | 113/211 [51:17<57:41, 35.32s/it]  "
          ]
        },
        {
          "metadata": {
            "tags": null
          },
          "name": "stdout",
          "output_type": "stream",
          "text": [
            "72\n",
            "['A AAA A AAA A AAA ', \"just U'r collection line \", 'ez acess line ', '스스로 매인 A A A A ', '그렇게 갇혀서 쌓인 ', '니 깊숙히 패인 ', 'NA NA NA ', '그저 감출 뿐이야 ', '허술한 포장에 ', '훌쩍 숨겨버린 ', '너의 현란한 스타일 ', '허울좋은 허상 일뿐 ', '진실이 될 수 없어 ', '널 내리 누르고 또 조르고 ', '뭘 모르고 또 바라고 있어 ', 'A oh oh oh oh oh oh oh woo ', 'just A A oh oh oh oh oh  ', 'oh oh woo ', '그게 흔하니 사랑이 흔하니 ', '쉽게 다 change a love ', '갈아타 갈아타 oh ', '적어도 너만은 세상에 너만은 ', '소중히 여길 수 있길 있길 ', \"just U'r collection line \", 'ez acess line ', '스스로 매인 A A A A ', '그렇게 갇혀서 쌓인 ', '니 깊숙히 패인 ', 'NA NA NA Oh ', 'Oh woo ', 'A oh oh oh oh oh oh oh woo ', 'just A A oh oh oh oh oh  ', 'oh oh woo ', '그저 서툴 뿐이야 ', '두꺼운 화장에 ', '한껏 묻혀버린 ', '너의 진실된 맘 ', '매일 같은 위선일뿐 ', '영원히 갈 수 없어 ', '널 내리 누르고 또 조르고 ', '뭘 모르고 또 바라고 있어 ', 'love 그게 흔하니 ', '그게 흔하니 사랑이 흔하니 ', '쉽게 다 change a love ', '갈아타 갈아타 oh ', '적어도 너만은 세상에 너만은 ', '소중히 여길 수 있길 있길 ', \"just U'r collection line \", 'ez acess line ', '스스로 매인 A A A A ', '그렇게 갇혀서 쌓인 ', '니 깊숙히 패인 ', 'NA NA NA Oh ', '똑바로 나를 바라보라고 ', '가면은 버려 가라가라고 ', '네가 원하는걸 말해보라고 ', '난 달라 좀 달라 넌 몰라 ', '내 색깔은 레인보우 ', '진실에 목 메인 girl ', 'love is pain 지금 넌 부족해 ', '가식이 진실을 진실이 가식을 ', '수백번 덮어서 눈을 멀게 하잖아 ', '적어도 너만은 그래도 너만은 ', '똑바로 날 바라 보길 보길 ', '적어도 너만은 세상에 너만은 ', '소중히 여길 수 있길 있길 ', \"just U'r collection line \", 'ez acess line ', '스스로 매인 A A A A ', '그렇게 갇혀서 쌓인 ', '니 깊숙히 패인 ', 'NA NA NA Oh ']\n"
          ]
        },
        {
          "metadata": {
            "tags": null
          },
          "name": "stderr",
          "output_type": "stream",
          "text": [
            "\r 54%|█████▍    | 114/211 [51:54<57:57, 35.85s/it]"
          ]
        },
        {
          "metadata": {
            "tags": null
          },
          "name": "stdout",
          "output_type": "stream",
          "text": [
            "51\n",
            "['Dear All your things you’ve done', 'We are here to wreck it up', 'Who knows how will it go', 'Hiding in black and white', 'We are here to find the truth', 'Give up I warn you so', 'Who would ever find out', 'who you really are Hm', 'You’ll never know that', 'I will throw off your disguise', 'Oh let me show you how to start', 'Wait Till the end', 'I don’t care what they say', 'At the end They’ll know', 'there’s no where to hide', 'Oh I’ll wait for now', 'Let them get what they want', 'At the end', 'I’ll get that chance to beat them', 'There’s nowhere you could hide', 'We are here to find you out', 'At last nothing will change', 'Who would ever find out', 'who you really are Hm', 'You’ll never know that', 'I will throw off your disguise', 'Oh let me show you how to start', 'Wait Till the end', 'I don’t care what they say', 'At the end', 'They’ll know', 'there’s no where to hide', 'Oh I’ll wait for now', 'Let them get what they want', 'At the end', 'I’ll get that chance to beat them', 'When you blink Out of sight', 'All the things', 'you built will collapse', 'Hold it tight Light it up', 'I’ll Take this chance', 'Oh let me show you how to start', 'Wait Till the end', 'I don’t care what they say', 'At the end', 'They’ll know', 'there’s no where to hide', 'Oh I’ll wait for now', 'Let them get what they want', 'At the end', 'I’ll get that chance to beat them']\n"
          ]
        },
        {
          "metadata": {
            "tags": null
          },
          "name": "stderr",
          "output_type": "stream",
          "text": [
            "\r 55%|█████▍    | 115/211 [52:20<52:48, 33.01s/it]"
          ]
        },
        {
          "metadata": {
            "tags": null
          },
          "name": "stdout",
          "output_type": "stream",
          "text": [
            "28\n",
            "['한참 동안을 찾아가지 않은', '저 언덕 넘어 거리엔', '오래 전 그 모습', '그대로 넌 서 있을 것 같아', '내 기억보단', '오래 되버린 얘기지', '널 보던 나의 그 모습', '이제는 내가 널 피하려고 하나', '언젠가의 너처럼', '이제 너에게 난 아픔이란 걸', '너를 사랑하면 할수록', '멀리 떠나가도록', '스치듯 시간의 흐름 속에', '내 기억보단', '오래 되버린 얘기지', '널 보던 나의 그 모습', '이제는 내가 널 피하려고 하나', '언젠가의 너처럼', '이제 너에게 난 아픔이란걸', '너를 사랑하면 할수록', '멀리 떠나가도록', '스치듯 시간의 흐름속에', '이제 지나간 기억이라고', '떠나며 말하던 너에게', '시간이 흘러 지날수록', '너를 사랑하면 할수록', '너에게 난 아픔이었다는 걸', '너를 사랑하면 할수록_x000D_\\n\\t\\t\\t\\t\\t</div>']\n"
          ]
        },
        {
          "metadata": {
            "tags": null
          },
          "name": "stderr",
          "output_type": "stream",
          "text": [
            "\r 55%|█████▍    | 116/211 [52:34<43:25, 27.43s/it]"
          ]
        },
        {
          "metadata": {
            "tags": null
          },
          "name": "stdout",
          "output_type": "stream",
          "text": [
            "55\n",
            "['또 왜 그러는데 뭐가 ', '못마땅한데 ', '할 말 있으면 터놓고 말해봐 ', '너 많이 변했어 내가 ', '뭘 어쨌는데 ', '첨엔 안 그랬는데 첨에 ', '어땠었는데 ', '요새는 내가 하는 말투랑 ', '화장과 머리 옷 입는 것까지 ', '다 짜증나나봐 그건 네 생각이야 ', '우리 서로 사랑한지도 ', '어느덧 10개월 ', '매일 보는 얼굴 싫증도 나겠지 ', '나도 너처럼 나 좋다는 ', '사람 많이 줄 섰어 ', '간다는 사람 잡지 않아 ', '어디 한 번 잘해봐 ', '근데 그놈의 정이 뭔지 ', '내 뜻대로 안돼 ', '맘은 끝인데 몸이 따르질 않아 ', '아마 이런 게 사랑인가봐 ', '널 사랑하나봐 ', '지금부터 내 말을 들어봐', '넌 집착이 심해 그건 집착이 아냐 ', '나를 너무너무 구속해', '그럼 너도 나를 구속해', '우리 결혼한 사이도 아닌데 ', '마치 와이프처럼 모든 걸 간섭해 ', '너의 관심 끌고 싶어서 ', '내 정든 긴 머리 ', '짧게 치고서 웨이브 줬더니 ', '한심스러운 너의 목소리 ', '나이 들어 보여 ', '난 너의 긴 머리 때문에 ', '너를 좋아했는데 ', '네가 너무 보고 싶어서 ', '전화를 걸어 ', '날 사랑하냐고 물어봤더니 ', '귀찮은 듯한 너의 목소리 ', '나 지금 바빠', '듣고 보니 내가 너무 미안해 ', '대화가 필요해 이럴 바엔 ', '우리 헤어져 ', '내가 너를 너무 몰랐어 ', '그런 말로 넘어가지마 ', '항상 내 곁에 있어서 너의 ', '소중함과 고마움까지도 ', '다 잊고 살았어 ', '대화가 필요해 우린 ', '대화가 부족해 ', '서로 사랑하면서도 사소한 ', '오해 맘에 없는 말들로 ', '서로 힘들게 해 너를 ', '너무 사랑해 ', '대화가 필요해']\n"
          ]
        },
        {
          "metadata": {
            "tags": null
          },
          "name": "stderr",
          "output_type": "stream",
          "text": [
            "\r 55%|█████▌    | 117/211 [53:02<43:13, 27.59s/it]"
          ]
        },
        {
          "metadata": {
            "tags": null
          },
          "name": "stdout",
          "output_type": "stream",
          "text": [
            "36\n",
            "['그립고 그립고 그립다', '가슴이 찢어질 것 같아서', '어깨도 못펴고 또 하루를 보냈어', '눈물이 그냥 왈칵 쏟아질 것 같아서', '미친 척 웃었어', '그래 나는 바보야', '너 한사람만 보는 바보', '떠나는 널 잡지도 못해', '그래놓고 잊지도 못해', '널 사랑한다', '널 사랑한다', '나에겐 하나뿐인 사람이여', '그립고 그립고 그립다', '그립고 그립고 그립다', '네 추억 세어보다 잠들어', '혹시나 꿈에선 너를 볼 수 있을까', '네 물건 하나도 난 버릴 수가 없잖아', '다 너만 같아서', '내 심장은 바보야', '너 한사람만 사는 바보', '죽을 것처럼 아파도 좋아', '이러다가 죽어도 좋아', '널 사랑한다', '널 사랑한다', '나에겐 하나뿐인 사람이여', '그립고 그립고 그립다', '그립고 그립고 그립다', '날 다 줬으니까 나 후회는 없지만', '더 해줄 수 없어 가슴 치고만 있잖아', '널 사랑한다', '널 사랑한다', '더이상 니가 곁에 없다는게', '아프고 아프고 아프다', '아프고 아프고 아파도', '그립고 그립고 그립다', ' ']\n"
          ]
        },
        {
          "metadata": {
            "tags": null
          },
          "name": "stderr",
          "output_type": "stream",
          "text": [
            "\r 56%|█████▌    | 118/211 [53:21<38:26, 24.80s/it]"
          ]
        },
        {
          "metadata": {
            "tags": null
          },
          "name": "stdout",
          "output_type": "stream",
          "text": [
            "45\n",
            "['오늘도 난 술을 마셔 우울하니까', '네가 또 생각나니까', '침대 위에 놓인 전활 꺼 둬야만 해', '내일 후회할 것 같아서', '찬 바람이 불어 오면', '왠지 술 한 잔이 생각나', '너도 옆에 있으면 좋겠어', '파도처럼 내게 밀려와', '나를 어지럽게 만드는', '네가 오늘따라 더 생각이 나 alright', '오늘도 난 술을 마셔 밤이 되니까', '네가 또 생각나니까', '침대 위에 놓인 전활 꺼 둬야만 해', '내일 후회할 것 같아서', '나에게 읽어 주던 시', '너와 살던 집', '모든 게 다 생각이 나', '파란 지붕 밑 강이 보이는 곳', '한강 위에 비친 달빛이', '네가 있는 곳을 안다면', '그곳을 비춰준다면 좋겠어 alright', '시간은 저녁을 지나 긴 새벽인데', '왜 자꾸 네가 생각나', '쓸쓸한 네 빈자리가 날 외롭게 해', '아직 많이 사랑하나 봐', '아직은 힘들 것 같아', '너의 번호를 지운단 건', '너를 모두 지우는 것 같아서', '오늘 밤은 너를 찾아가', '이 말을 전하고 싶어', '너를 정말 많이 사랑했다고', '오늘도 난 술을 마셔 비가 오니까', '네가 또 생각나니까', '침대 위에 놓인 전활 꺼 둬야만 해', '내일 후회할 것 같아서', '이 밤에 술을 한 잔 하는 건', '모두 그렇지만 나 결국 너를 잊을 걸', '알면서도 헤어지려는', '마음이 이렇게 슬프기', '때문일까 내 탓일까', '지금은 너도 혹시', '내 생각 하다 잠 못 들지 않는지', '너무나 보고 싶어 1분이라도', '네가 또 보고 싶어', '보고 싶어']\n"
          ]
        },
        {
          "metadata": {
            "tags": null
          },
          "name": "stderr",
          "output_type": "stream",
          "text": [
            "\r 56%|█████▋    | 119/211 [53:43<37:00, 24.14s/it]"
          ]
        },
        {
          "metadata": {
            "tags": null
          },
          "name": "stdout",
          "output_type": "stream",
          "text": [
            "45\n",
            "['교수님 죄송합니다', '죄송합니다 교수님 죄송합니다', '예 교수님 과제는 5개군요 네', '아뇨 불만 없어요 다 해올게요 네', '심지어 창작 과제가 2개라구요 아', '잠을 줄여서라도 해야죠 암요 암요', '어 궁금하진 않지만', '질문은 없냐 시기에 여쭤보자면', '학생들에게 다', '이런 과제를 내주시나요', '이 노래는 교수님이 쓰라 해서', '쓰는 노래 솔직히 대충 만들었네', '다음 주엔 인간적인 양의 과제를', '받았음 해 그랬음 해 어', '교수님 죄송합니다', '이런 가사를 썼기에', '교수님 죄송합니다', '기타야 사과드려', '과제를 받았지만 또 다른 할 일이', '산처럼 쌓여 있었기에', '미루고 미루다', '하루 전 날에 애써 만든', '이 노래는 교수님이 쓰라 해서', '쓰는 노래 솔직히 대충 만들었네', '다음 주엔 인간적인 양의 과제를', '받았음 해 그랬음 해 어', '교수님 죄송합니다', '이런 가사를 썼기에', '교수님 죄송합니다', '진짜 진짜', '아 진짜 죄송합니다', '아 진짜 죄송합니다', '죄송합니다', '그렇게 잠도 안 자고', '밤 새가며 다 하고', '박카스 빈 병은 늘어나기만 하고', '원래 피곤한 얼굴에', '더해진 다크서클은', '고장이 났나', '이른 아침 1교시 기타를 메고 등교해', '강의실 문을 똑똑똑 안녕하세요', '과제 몇 개 해왔냐는', '교수님의 질문에', '다 해왔어요', '그걸 진짜 다 해왔어요']\n"
          ]
        },
        {
          "metadata": {
            "tags": null
          },
          "name": "stderr",
          "output_type": "stream",
          "text": [
            "\r 57%|█████▋    | 120/211 [54:06<36:04, 23.78s/it]"
          ]
        },
        {
          "metadata": {
            "tags": null
          },
          "name": "stdout",
          "output_type": "stream",
          "text": [
            "21\n",
            "['당신이 얼마나 내게 소중한 사람인지', '세월이 흐르고 보니', '이제 알 것 같아요', '당신이 얼마나 내게 필요한 사람인지', '세월이 지나고 보니', '이제 알 것 같아요', '밤하늘에 빛나는', '별빛 같은 나의 사랑아', '당신은 나의 영원한 사랑', '사랑해요 사랑해요', '날 믿고 따라준 사람', '고마워요 행복합니다', '왜 이리 눈물이 나요', '밤하늘에 빛나는', '별빛 같은 나의 사랑아', '당신은 나의 영원한 사랑', '사랑해요 사랑해요', '날 믿고 따라준 사람', '고마워요 행복합니다', '왜 이리 눈물이 나요', '왜 이리 눈물이 나요']\n"
          ]
        },
        {
          "metadata": {
            "tags": null
          },
          "name": "stderr",
          "output_type": "stream",
          "text": [
            "\r 57%|█████▋    | 121/211 [54:17<29:49, 19.89s/it]"
          ]
        },
        {
          "metadata": {
            "tags": null
          },
          "name": "stdout",
          "output_type": "stream",
          "text": [
            "40\n",
            "['내가 필요할 때 나를 불러줘 ', '언제든지 달려갈게 ', '낮에도 좋아 밤에도 좋아 ', '언제든지 달려갈게 ', '다른 사람들이 나를 부르면 ', '한참을 생각해 보겠지만 ', '당신이 나를 불러준다면 ', '무조건 달려갈 거야 ', '당신을 향한 나의 사랑은 ', '무조건 무조건이야 ', '당신을 향한 나의 사랑은 ', '특급 사랑이야 ', '태평양을 건너 대서양을 건너 ', '인도양을 건너서라도 ', '당신이 부르면 달려갈 거야 ', '무조건 달려갈 거야 ', '내가 필요할 때 나를 불러줘 ', '언제든지 달려갈게 ', '낮에도 좋아 밤에도 좋아 ', '언제든지 달려갈게 ', '다른 사람들이 나를 부르면 ', '한참을 생각해 보겠지만 ', '당신이 나를 불러준다면 ', '무조건 달려갈 거야 ', '당신을 향한 나의 사랑은 ', '무조건 무조건이야 ', '당신을 향한 나의 사랑은 ', '특급 사랑이야 ', '태평양을 건너 대서양을 건너 ', '인도양을 건너서라도 ', '당신이 부르면 달려갈 거야 ', '무조건 달려갈 거야 ', '당신을 향한 나의 사랑은 ', '무조건 무조건이야 ', '당신을 향한 나의 사랑은 ', '특급 사랑이야 ', '태평양을 건너 대서양을 건너 ', '인도양을 건너서라도 ', '당신이 부르면 달려갈 거야 ', '무조건 달려갈 거야 ']\n"
          ]
        },
        {
          "metadata": {
            "tags": null
          },
          "name": "stderr",
          "output_type": "stream",
          "text": [
            "\r 58%|█████▊    | 122/211 [54:37<29:41, 20.02s/it]"
          ]
        },
        {
          "metadata": {
            "tags": null
          },
          "name": "stdout",
          "output_type": "stream",
          "text": [
            "27\n",
            "['고래야 적어도 바다는', '네가 가졌으면 좋겠어', '고래야 헤엄하던 대로', '계속 헤엄했으면 좋겠어', '부러워 난 고래야 네가', '아마도 다들 그럴 거야', '아마도 다들 그래서', '바다를 빼앗으려는지 몰라', '오 거대한 너의 그림자를 동경해', '이 넓은 바다를 누비는 너의 여유', '고래야 적어도 바다는', '네가 가졌으면 좋겠어', '고래야 마른하늘 위로', '물을 뿌려줬으면 좋겠어', '두려워 마 굉음 소리가', '아무리 크다 한들 해도', '천둥에 미치지는 못하니까', '오 거대한 너의 그림자를 동경해', '이 넓은 바다를 누비는 너의 여유', '하늘의 거울 바다', '땅의 세숫대야 바다', '이슬의 고향 바다 고래의 집 바다', '기억의 저편 바다', '어머니의 눈물 바다', '지구의 호흡 바다 고래의 심장', '오 거대한 너의 그림자를 동경해', '이 넓은 바다를 누비는 너의 여유']\n"
          ]
        },
        {
          "metadata": {
            "tags": null
          },
          "name": "stderr",
          "output_type": "stream",
          "text": [
            "\r 58%|█████▊    | 123/211 [54:51<26:40, 18.19s/it]"
          ]
        },
        {
          "metadata": {
            "tags": null
          },
          "name": "stdout",
          "output_type": "stream",
          "text": [
            "29\n",
            "['바람이 불어 텅빈 이 마음에', '그대도 나처럼 외로운지', '내 몸 어느 한구석', '시작된 바람 시절을', '지나 불어가네', '학교 앞 버스정류장을', '지날 때면 보이던 그녀가 ', '지금은 어디서 어떤 삶을', '살고 있는지 아이는 몇 인지', '그 시절 때 묻은 책 한권에', '인생을 말하고 철학을 논하고', '사랑과 정의와 고독과', '외로운 술한잔에 취해버리던', '그때 우리 안에', '불어오던 그 바람은', '이젠 어디에 어디에', '어디에 어디에', '학교앞 버스 정류장을', '지날 때면 보이던 그 애가 ', '이제는 어디서 어떤 삶을', '살고 있는지 아이는 몇 인지', '그 시절 때 묻은 책 한권에', '인생을 말하고 철학을 논하고', '사랑과 정의와 고독과 외로운', '술한잔에 취해버리던', '그때우리 안에', '불어오던 그 바람은', '이젠 어디에 어디에', '어디에 어디에']\n"
          ]
        },
        {
          "metadata": {
            "tags": null
          },
          "name": "stderr",
          "output_type": "stream",
          "text": [
            "\r 59%|█████▉    | 124/211 [55:06<24:46, 17.08s/it]"
          ]
        },
        {
          "metadata": {
            "tags": null
          },
          "name": "stdout",
          "output_type": "stream",
          "text": [
            "40\n",
            "['나의 여자친구가 되어주겠니', '이런 내 마음을 넌 받아주겠니', '넌 누구보다 예뻐', '넌 뭘 해도 다 예뻐', '세상 하나뿐인 넌 정말 예뻐', '꿈꿔온 여자친구 너', 'My love is only you', '기다린 여자친구 너', 'My love is only you', '지금 고백할까 말까 이런 내 맘 알까', '점점 더 빠져드는 날 어떻게 해', 'Love is only you', '꿈꿔온 내 사랑은 너', \"It's only you\", '내가 너의 맘에 들진 모르지만', '이런 나의 진심을 알아주겠니', '화장 안 해도 예뻐', '넌 뭘 입어도 예뻐', '세상 그 누구보다 넌 정말 예뻐', '꿈꿔온 여자친구 너', 'My love is only you', '기다린 여자친구 너', 'My love is only you', '지금 고백할까 말까 이런 내 맘 알까', '점점 더 빠져드는 날 어떻게 해', '알고 있니 지금 내가 하고 싶은 말', '더 예뻐지는 너 너만 보는 나', '잘 어울려 우린', '점점 더 빠져드는', '점점 더 커져가는 Love', 'My love is only you', '내 눈을 보고 있는 너', '말해야 할 것 같아', '지금 사랑한다 할까 같은 마음일까', '미칠 것만 같아 이런 내 맘 알까', '이젠 나 고백할게', 'My love is only you', \"It's only you\", '꿈꿔온 여자친구 너', \"It's only you\"]\n"
          ]
        },
        {
          "metadata": {
            "tags": null
          },
          "name": "stderr",
          "output_type": "stream",
          "text": [
            "\r 59%|█████▉    | 125/211 [55:26<25:54, 18.07s/it]"
          ]
        },
        {
          "metadata": {
            "tags": null
          },
          "name": "stdout",
          "output_type": "stream",
          "text": [
            "27\n",
            "['헝클어진 머리 쓸어 올리고', '춤을 춰 춤을 춰', '바라보는 그대의 눈빛 만이', '말을 해 말을 해', '사랑하나봐 ah ah ah', '그대 그대 그대', '떨리는가봐 ah ah ah 그대 때문에', '흔들리는 저 불빛 사이로', 'uh 어느새 나는 불나비', '너무 좋아 타는 줄도 모르고', '뱅뱅뱅 자꾸 뱅뱅뱅 에에에에에에', '외로움은 먼지를 털어내듯이', '툭툭 툭툭툭', '빨강 파란 노란빛 조명불 아래', '유혹해 유혹해', '사랑하나봐 ah ah ah', '그대 그대 그대', '떨리는가봐 ah ah ah 그대 때문에', '흔들리는 저 불빛 사이로', 'uh 어느새 나는 불나비', '너무 좋아 타는 줄도 모르고', '뱅뱅뱅 자꾸 뱅뱅뱅 에에에에에에', '흔들리는 네온빛 속으로', 'uh 어느새 나는 불나비', '이 음악을 멈추지 말아 DJ', '이번엔 뜨거운 밤에', ' ']\n"
          ]
        },
        {
          "metadata": {
            "tags": null
          },
          "name": "stderr",
          "output_type": "stream",
          "text": [
            "\r 60%|█████▉    | 126/211 [55:40<23:38, 16.69s/it]"
          ]
        },
        {
          "metadata": {
            "tags": null
          },
          "name": "stdout",
          "output_type": "stream",
          "text": [
            "46\n",
            "['Hey T-ARA', '새빨간 장미처럼 ', '가시같은 말로 날 찌른 너 ', 'Uh Uh Uh', '넌 마치 문신처럼 ', '지우려 할수록 깊게 패여 Uh Uh', \"Cry Cry Can't you see the music\", \"불꽃처럼 뜨겁게 You're ma boy\", 'Baby can`t you see ', 'that look at my eyes', '슬픔에 빠진 내 두눈을 봐 Uh Uh', '붉은 태양보다 더 뜨겁게', '사랑했던 나를 울리지마 ', \"Ah Ah Let's go\", 'Break it Come on Come on Yo', 'Make it Come on Come on Yo', 'Take it Come on Come on Come on', '난 중독된것처럼 ', '그리워하고 또 그리워해', '넌 마치 감옥처럼 ', '니안에 날 가둬버렸나봐 Uh Uh', \"Cry Cry Can't you see the music\", \"불꽃처럼 뜨겁게 You're ma boy\", 'Baby can`t you see ', 'that look at my eyes', '슬픔에 빠진 내 두눈을 봐 Uh Uh', '붉은 태양보다 더 뜨겁게', '사랑했던 나를 울리지마 ', \"Uh Uh Yeah Let's go\", \"Uh Uh Yeah Let's dance \", \"Deep in you're eyes\", 'Baby can`t you see ', 'that look at my eyes', '슬픔에 빠진 내 두눈을 봐 Uh Uh', '붉은 태양보다 더 뜨겁게', '사랑했던 나를 울리지마 ', 'Ah Ah ', '제발 나를 떠나가지 말아', '돌아온단 니 말 믿지 않아 Uh Uh', '붉은 태양보다 더 뜨겁게', '사랑했던 나를 울리지마 Ah Ah ', \"Let's go\", 'Break it Come on Come on Yo', 'Make it Come on Come on Yo', 'Take it Come on Come on Come on', 'T-ARA Time to love 쉿']\n"
          ]
        },
        {
          "metadata": {
            "tags": null
          },
          "name": "stderr",
          "output_type": "stream",
          "text": [
            "\r 60%|██████    | 127/211 [56:04<26:25, 18.88s/it]"
          ]
        },
        {
          "metadata": {
            "tags": null
          },
          "name": "stdout",
          "output_type": "stream",
          "text": [
            "94\n",
            "['Yeah 누가 내 수저 더럽대', 'I don’t care 마이크 잡음', '금수저 여럿 패', '버럭해 잘 못 익은 것들', '스테끼 여러 개', '거듭해서 씹어줄게 스타의 저녁에', 'World Business 핵심', '섭외 1순위 매진', '많지 않지 이 class 가칠 만끽', '좋은 향기에 악췬 반칙', 'Mic mic bungee', 'Mic mic bungee', 'Bright light 전진', \"망할 거 같았겠지만 I'm fine sorry\", '미안해 Billboard', '미안해 worldwide', '아들이 넘 잘나가서 미안해 엄마', '대신해줘 니가 못한 효도', '우리 콘서트 절대 없어 포도', 'I do it I do it 넌 맛없는 라따뚜이', '혹 배가 아프다면 고소해', 'Sue it', 'Did you see my bag', 'Did you see my bag', '트로피들로 백이 가득해', 'How you think bout that', 'How you think bout that', 'Hater들은 벌써 학을 떼', '이미 황금빛 황금빛 나의 성공', \"I'm so firin' firin' 성화봉송\", '너는 황급히 황급히 도망 숑숑', 'How you dare', 'How you dare', 'How you dare', '내 손에 트로피 아 너무 많아', '너무 heavy 내 두 손이 모잘라', 'MIC Drop', 'MIC Drop', '발 발 조심', '너네 말 말 조심', 'Lodi dodi 아 너무 바빠', '너무 busy 내 온몸이 모잘라', 'MIC Drop', 'MIC Drop', '발 발 조심', '너네 말 말 조심', '이거 완전 네 글자', '사필귀정 ah', 'Once upon a time', '이솝우화 fly', '니 현실을 봐라 쌔 쌤통', '지금 죽어도 난 개행복', '이번엔 어느 나라 가', '비행기 몇 시간을 타', \"Yeah I'm on the mountain\", \"Yeah I'm on the bay\", '무대에서 탈진', 'MIC Drop baam', 'Did you see my bag', 'Did you see my bag', '트로피들로 백이 가득해', 'How you think bout that', 'How you think bout that', 'Hater들은 벌써 학을 떼', '이미 황금빛 황금빛 나의 성공', \"I'm so firin' firin' 성화봉송\", '너는 황급히 황급히 도망 숑숑', 'How you dare', 'How you dare', 'How you dare', '내 손에 트로피 아 너무 많아', '너무 heavy 내 두 손이 모잘라', 'MIC Drop', 'MIC Drop', '발 발 조심', '너네 말 말 조심', 'Lodi dodi 아 너무 바빠', '너무 busy 내 온몸이 모잘라', 'MIC Drop', 'MIC Drop', '발 발 조심', '너네 말 말 조심', \"Haters gon' hate\", \"Players gon' play\", 'Live a life man', 'Good luck', '더 볼 일 없어 마지막 인사야', '할 말도 없어 사과도 하지 마', '더 볼 일 없어 마지막 인사야', '할 말도 없어 사과도 하지 마', '잘 봐 넌 그 꼴 나지', '우린 탁 쏴 마치 콜라지', '너의 각막 깜짝 놀라지', '꽤 꽤 폼나지 포 포 폼나지']\n"
          ]
        },
        {
          "metadata": {
            "tags": null
          },
          "name": "stderr",
          "output_type": "stream",
          "text": [
            "\r 61%|██████    | 128/211 [56:52<38:15, 27.66s/it]"
          ]
        },
        {
          "metadata": {
            "tags": null
          },
          "name": "stdout",
          "output_type": "stream",
          "text": [
            "25\n",
            "['그런 날이 있어', '그런 밤이 있어', '말하지 않아도 말하지 않아도', '조금은 이해할 수 있을 것 같다고', '넌 말이 없었지만', '그런 말이 있어', '그런 마음이 있어', '말하진 않았지 위로가 되기를', '이런 말은 왠지 너를', '그냥 지나쳐 버릴 것 같아서', '정작 힘겨운 날엔', '우린 전혀 상관없는 얘기만을 하지', '정말 하고 싶었던 말도', '난 할 수 없지만', '사랑한다는 말로도 위로가 되지 않는', '깊은 어둠에 빠져있어', '사랑한다는 말로도 위로가 되지 않는', '정작 힘겨운 날엔', '우린 전혀 상관없는 얘기만을 하지', '정말 하고 싶었던 말도', '난 할 수 없지만', '사랑한다는 말로도 위로가 되지 않는', '깊은 어둠에 빠져있어', '사랑한다는 말로도 위로가 되지 않는', '사랑한다는 말로도 위로가 되지 않는']\n"
          ]
        },
        {
          "metadata": {
            "tags": null
          },
          "name": "stderr",
          "output_type": "stream",
          "text": [
            "\r 61%|██████    | 129/211 [57:05<31:43, 23.21s/it]"
          ]
        },
        {
          "metadata": {
            "tags": null
          },
          "name": "stdout",
          "output_type": "stream",
          "text": [
            "96\n",
            "['You are so beautiful', 'Girl 너는 특별해', '세상의 모든 걸 다 준다 해도', '난 너 뿐인데', 'Girl 너무 고마워', '내 곁에 있어서', '혹시 모를까 봐 말할게 말할게', '너는 얼굴 몸매 그리고 성격까지', '10점 만점에 10점 이어서', '내가 열 나지', '너무 핫해 girl god dang', '내 맘에 너무 들어서', '흥분이 못 가라앉지', '여자가 너무 많았지 난', '나한텐 모두 다 너무나', '좋은 추억이지만', '모델 아이돌 연기자 oh my god', '디스패치한테 안 걸린 게', '다행이야 oh no', '너랑 과거는 싹 잊게 돼', '불금에 나가지 않고', '니 옆에 있게 돼', 'Want you now in my bed', 'everyday 안 질리네', 'Girl with you every day', 'I feel like a billionaire', '명품 가방을 굳이 안 메도 돼서', '명품 가방만 사주고 싶은 여자', '쇼미더머니 생기기 한참 전부터', '원래 힙합을 좋아하던 여자', 'You are so beautiful', 'Girl 너는 특별해', '세상의 모든 걸 다 준다 해도', '난 너 뿐인데', 'Girl 너무 고마워', '내 곁에 있어서', '혹시 모를까 봐 말할게 말할게', '첫 번째는 아니어도', '마지막이 돼 줘 돼 줘', '첫 번째는 아니어도', '마지막이 돼 줘 돼 줘', '눈이 자꾸 가는 빛나는 이마', '나를 쳐다보며', '위로 올라가는 입과', '긴 다리 위에 두른', '짧지 않은 치마', '어딜 가든 손 잡고 걸어', '난 괜찮으니까', '아침에 눈꺼풀보다 무거운', '내 엉덩이가 벌떡 들어지는 이유', '다른 여자 앞에선', '보기보다 많이 두꺼운', '내 얼굴이 쉽게 풀어지는 이유', '아직도 신기해 이런 상황이', '첫 번째는 아니지만', '진짜 마지막이', '될 수 있을 것 같아', '이건 내 가사지', '무슨 말이냐면 나의 진짜 이야기', '의심하지 마 내 과거는', '다 신경쓰지 마', '지금 내일을 같이 준비하기에도', '시간은 충분히 부족하니까', '더는 신경 안 쓰여', '너의 아는 오빠도', 'You are so beautiful', 'Girl 너는 특별해', '세상의 모든 걸 다 준다 해도', '난 너 뿐인데', 'Girl 너무 고마워', '내 곁에 있어서', '혹시 모를까 봐 말할게 말할게', '첫 번째는 아니어도', '마지막이 돼 줘 돼 줘', '첫 번째는 아니어도', '마지막이 돼 줘 돼 줘', '어디 있든지 간에', '너를 느낄 수 있는 걸', 'I feel you you feel me', '언제까지나 내 마음의 1위', 'Baby you are so beautiful', '그냥 일단 날 믿어 봐 눈을 감아', '너를 갖고 싶어 하고 싶어', '나의 마지막이 돼 줘', '승리의 여신 just do it now', 'You are so beautiful', 'Girl 너는 특별해', '세상의 모든 걸 다 준다 해도', '난 너 뿐인데', 'Girl 너무 고마워', '내 곁에 있어서', '혹시 모를까 봐 말할게 말할게', '첫 번째는 아니어도', '마지막이 돼 줘 돼 줘', '첫 번째는 아니어도', '마지막이 돼 줘 돼 줘']\n"
          ]
        },
        {
          "metadata": {
            "tags": null
          },
          "name": "stderr",
          "output_type": "stream",
          "text": [
            "\r 62%|██████▏   | 130/211 [57:54<42:00, 31.11s/it]"
          ]
        },
        {
          "metadata": {
            "tags": null
          },
          "name": "stdout",
          "output_type": "stream",
          "text": [
            "49\n",
            "['우리 이제 헤어지기로 해', '너도 알잖아', '우린 충분했다는 걸', '이별이 무서워', '자꾸 피해 보지만', '이젠 정말 끝인 걸', '우리 사랑이 우리 추억이', '이젠 끝나가지만', '함께한 기억은', '내가 다 가져갈게', '끝이란 걸 알지만', '끝이라고 안 할게', '내 눈에 비친 네 모습이', '날 나쁘게 만들어', '나 이제 너와 서툰 이별을 하려 해', '많이 아프겠지만', '이제 정말 헤어지려 해', '가끔 혼자 견디기 힘들어', '나도 몰래 널 부르게 되면', '그냥 지나쳐줘', '서툰 이별이라서 그래', '혹시 그때의 서로를', '조금 더 이해했더라면', '우린 조금은 달라졌을까', '이제 와서 이러는 내가', '너무 이기적인가 봐', '내 눈에 비친 네 모습이', '날 나쁘게 만들어', '나 이제 너와 서툰 이별을 하려 해', '많이 아프겠지만', '이제 정말 헤어지려 해', '가끔 혼자 견디기 힘들어', '나도 몰래 널 부르게 되면', '그냥 지나쳐줘', '서툰 이별이라서 그래', '우리의 최선은 여기까지인 거 같아', '수고 많았어', '이젠 널 보낼게', '같은 추억 속에 우리를', '이젠 보내줘야 해', '애써 그냥 웃으며', '아무렇지 않게 널 보낼게', '우리 이제 정말 이별을 하려 해', '많이 아프겠지만', '많이 힘들겠지만', '혹시 우리가 다시 만나게', '되는 날이 다가오면', '그땐 꼭 안아줘', '많이 보고 싶었다고 말해줘']\n"
          ]
        },
        {
          "metadata": {
            "tags": null
          },
          "name": "stderr",
          "output_type": "stream",
          "text": [
            "\r 62%|██████▏   | 131/211 [58:20<39:22, 29.53s/it]"
          ]
        },
        {
          "metadata": {
            "tags": null
          },
          "name": "stdout",
          "output_type": "stream",
          "text": [
            "36\n",
            "['전복 먹으러 갈래', '서해안 고속도로 타고', '완도 앞 바다로', '나랑 같이 가볼래', '슬쩍 기대도 돼', '내 팔을 어깨 위에 두르고', '저 구름 따라', '지금 떠나볼래', '어느새 바닷바람 시원하게 불어 오잖아', '좋아', '걱정은 마 오늘은 내가 책임진다', '진짜야', '너에게 좋은 것만 주고픈 마음 알까', '전복 먹으러 갈래', '할 일은 내일로 다 미루고', '이 기분 따라', '훌쩍 떠나볼래', '가자', '조개구이 먹으러 갈래', '가까운 오이도도 좋아', '까먹기 번거로우면', '뭐 찜도 괜찮아', '아님 뭐든 어때', '랍스타 장어 새우 대게', '둘이서 간다면', '난 어디든 좋아', '어느새 바닷바람 시원하게 불어 오잖아', '좋아', '걱정은 마 오늘은 내가 책임진다', '진짜야', '너에게 좋은 것만 주고픈 마음 알까', '진짜로 좋은 것만 주고픈 마음 알까', '소주도 한잔 할래', '안주가 끝내주잖아', '이거 마시면 우리', '사귀는 거다']\n"
          ]
        },
        {
          "metadata": {
            "tags": null
          },
          "name": "stderr",
          "output_type": "stream",
          "text": [
            "\r 63%|██████▎   | 132/211 [58:39<34:34, 26.26s/it]"
          ]
        },
        {
          "metadata": {
            "tags": null
          },
          "name": "stdout",
          "output_type": "stream",
          "text": [
            "61\n",
            "['I remember very first time in love ', 'I remember oh oh ', 'I remember oh oh ', \"너도 같은 기분일까 so I'm in love \", 'I remember oh oh ', 'I remember oh ', '어머 이래도 되는지 싶어 aha ', '그래 너 때문에 매일 즐거워 ', '조금 서두르는 것 같아도 baby ', 'I need your love oh oh ', 'I need your love oh oh oh ', '심장이 훅 내려앉게 달콤해 ', '가끔은 상처받을까 걱정돼 ', '처음부터 모든 걸 알 순 없겠지 ', '하지만 난 다 던져볼래 ', '자꾸 아찔한 이 느낌 ', '위험한 이 느낌 ', '내 손을 꼭 잡아줘 I want you ', '흔들리지 않게 조금 더 뜨겁게 ', '나를 꼭 더 안아줘 ', '넌 롤러코스터 ooh ahh ', '롤러코스터 uh woh ahh', 'I need your love ooh ahh', 'baby your love uh woh ahh', '빤히 바라볼 때 가슴이 떨려', '아닌 척 해봐도 뻔히 다 걸려', '내가 먼저 말하지 않아도', '이미 다 알아', '넌 내 맘과 같아 aha', '너무 빠른 건 아닐까 싶어 aha', '근데 너 때문에 매일 새로워', '조금 서툴러도 눈 감아줘 baby', 'I need your love oh oh', 'I need your love oh oh oh', '시간이 멈춘 것처럼 달콤해', '갑자기 날 떠날까 봐 걱정돼', '처음부터 모든 걸 알 순 없겠지', '하지만 난 다 던져볼래', '자꾸 아찔한 이 느낌', '위험한 이 느낌', '내 손을 꼭 잡아줘 I want you', '흔들리지 않게 조금 더 뜨겁게', '나를 꼭 더 안아줘', '넌 롤러코스터 ooh ahh', '롤러코스터 uh woh ahh', 'I need your love ooh ahh', 'Baby your love uh woh ahh', '어쩌다 찾아온 내 사랑', 'I love you I love you', '모든 게 꿈이 아니기를', 'I love you I love you', 'Look', '넌 롤러코스터 ooh ahh', '넌 롤러코스터 baby', '롤러코스터 uh woh ahh', '롤러코스터 baby', 'I need your love ooh ahh', 'baby I need you love', 'baby your love uh woh ahh', '롤러코스터', '롤러코스터']\n"
          ]
        },
        {
          "metadata": {
            "tags": null
          },
          "name": "stderr",
          "output_type": "stream",
          "text": [
            "\r 63%|██████▎   | 133/211 [59:11<36:27, 28.04s/it]"
          ]
        },
        {
          "metadata": {
            "tags": null
          },
          "name": "stdout",
          "output_type": "stream",
          "text": [
            "41\n",
            "['잠깐만요 살다보면 ', '작은 비밀 하나쯤은 있어요', '남들 몰래 이루는 사랑 ', '생각만 해도 찌릿찌릿해요 ', '지나갈 때 나에게만 ', '그대 짙은 향기를 흘려줘요', '내 귓가에 우리만이 알고 있는 ', '휘파람을 불어요', '집에 가는 척 몰래 전화해', '안되긴 뭐가 안돼 다 돼요', '우리는 오늘부터 아찔한 사이', '좀 비밀스런 은밀한 관계', '친구들이 못 보게 두 눈을 찡긋 ', '그저 들키지만 말구요', '이제 우리는 아찔한 사이', '누구보다도 불타는 관계', '친구들이 안 볼 때 허리를 슬쩍', '근데 걸리지만 말구요 ', '좀 있다 봐요', '사람들과 어울릴 땐 ', '적당한 거리를 유지해줘요', '낯 뜨거운 애정표현은 ', '약속해둔 비밀장소에서만', '잠깐만요 내가 먼저 도착하면 ', '있다 들어와줘요', '아무 일도 없던 것처럼 ', '태연하게 나를 지나쳐줘요', '화장실 가는 척 잠깐 나와봐', '비상계단 암호는', '우리는 오늘부터 아찔한 사이', '좀 비밀스런 은밀한 관계', '친구들이 못 보게 두 눈을 찡긋 ', '그저 들키지만 말구요', '이제 우리는 아찔한 사이', '누구보다도 불타는 관계', '친구들이 안 볼 때 허리를 슬쩍', '근데 걸리면 또 어때요 ', '좀 있다 봐요', '좀 있다 봐요', '좀 있다 봐요', '어디서 봐요']\n"
          ]
        },
        {
          "metadata": {
            "tags": null
          },
          "name": "stderr",
          "output_type": "stream",
          "text": [
            "\r 64%|██████▎   | 134/211 [59:32<33:21, 25.99s/it]"
          ]
        },
        {
          "metadata": {
            "tags": null
          },
          "name": "stdout",
          "output_type": "stream",
          "text": [
            "76\n",
            "['이제 익숙해지는 것 같아', '키가 작을 때부터 해왔던 상상', '마음껏 펼치고는 꿀 같은 단잠', '자고 일어났어 어딜 가든 ', '나는 항상', '자신감 넘치게 행동해야 하지', '아직 많이 부족하긴 해도 끝까지', '이뤄낼 거야 내 꿈 너도 알지', '그래도 네가 있어 난 힘이 나지', '너의 하루는 어땠어', '느껴져 딱 목소리에서', '누가 또 네 심기에 손 댔어', '맞아 전부 그 사람이 잘못했어', '쓰다듬어주고 싶어 네 머리를', '오늘도 고생 많이 했어', '이번 주말에는 떠나자 어디든', '일단 눈 감아 내 팔에 기대서', 'Baby 난 너만 담아', '오늘은 편하게 내게 안겨도 돼', '겁먹지마', '이 밤이 우릴 환하게 반겨주네', '눈을 감아', '두 눈을 감아', '허리에 팔을 감아', '나만 믿고 따라와', '쉬는 동안에도 주말마다 일이 ', '생기지', '가끔은 너무 정신 없어서 내 몸도 ', '못 챙기지', '내 나름대로의 욕심 때문에 압박이 ', '머리를 조여도', '다 풀어냈을 때 그 시원함이 나를 ', '무대위로 또 올려줘', '나도 오늘 일을 끝냈으니 편안하게 ', '와서 안겨도 돼', '현실이 꼬리를 물기 전에 더 이상은 ', '아무것도 생각하지 않기로 해', '괜찮아 괜찮아 우리 둘 밖에 없어', '네가 하고 싶은 대로 해 준비 ', '안된 건 없어', 'Baby 난 너만 담아', '오늘은 편하게 내게 안겨도 돼', '겁먹지마', '이 밤이 우릴 환하게 반겨주네', '눈을 감아', '두 눈을 감아', '허리에 팔을 감아', '나만 믿고 따라와', '미리 맞춰놨어 적당한 온도', '너 때문에 오늘 아침부터 뎁혀 놔서 ', '따듯해 내 몸도', '이리 와서 누워도 돼 내 옆에 눈감고 ', '기대봐 내 옆에', '잡은 손 놓지 않아 절대 네가 눈을 떠도 ', '어디 가지 않아 절대', '걱정하지 마 우리가 만날 시간은 많아', '오늘 따라 밤이 차갑지만 곁에 있어 ', '괜찮아', '편하게 눈감아 내 곁에 누워도 돼', '두 손을 꼭 잡고 Ma Baby', 'Baby 난 너만 담아', '오늘은 편하게 내게 안겨도 돼', '겁먹지마', '이 밤이 우릴 환하게 반겨주네', '눈을 감아', '두 눈을 감아', '허리에 팔을 감아', '나만 믿고 따라와', '내 노래의 모든 주제가', '니 이야기가 아니지만', '니가 있었기 때문에', '가능한 둘의 이야기야', '나 때문에 너의 하루가', '더 즐거웠으면 좋겠어', '난 하지 않아 절대 말로만', '거짓은 하나도 안 보탰어']\n"
          ]
        },
        {
          "metadata": {
            "tags": null
          },
          "name": "stderr",
          "output_type": "stream",
          "text": [
            "\r 64%|██████▍   | 135/211 [1:00:11<37:57, 29.97s/it]"
          ]
        },
        {
          "metadata": {
            "tags": null
          },
          "name": "stdout",
          "output_type": "stream",
          "text": [
            "16\n",
            "['봄이 오는 아리랑 고개', '제비 오는 아리랑 고개', '가는 님은 밉상이요', '오는 님은 곱상이라네', '아리 아리랑 아리랑 고개는', '님 오는 고개', '넘어 넘어도', '우리 님만은 안 넘어요', '달이 뜨는 아리랑 고개', '꽃도 뜯는 아리랑 고개', '우는 님은 건달이요', '웃는 님은 도련님이지', '아리 아리랑 아리랑 고개는', '도련님 고개', '울어 울어도', '우리 님만은 안 울어요']\n"
          ]
        },
        {
          "metadata": {
            "tags": null
          },
          "name": "stderr",
          "output_type": "stream",
          "text": [
            "\r 64%|██████▍   | 136/211 [1:00:19<29:16, 23.42s/it]"
          ]
        },
        {
          "metadata": {
            "tags": null
          },
          "name": "stdout",
          "output_type": "stream",
          "text": [
            "23\n",
            "['아무리 우겨봐도 어쩔 수 없네', '저기 개똥무덤이 내 집인걸', '가슴을 내밀어도 친구가 없네', '노래하던 새들도 멀리 날아가네', '가지마라 가지마라 가지말아라', '나를 위해 한번만 노래를 해주렴', '난나 나나나나 쓰라린 가슴 앉고', '오늘밤도 그렇게 울다 잠이든다', '마음을 다주어도 친구가 없네', '사랑하고 싶지만 마음뿐인 걸', '나는 개똥벌레 어쩔수없네', '손을 잡고 싶지만 모두 떠나가네', '가지마라 가지마라 가지말아라', '나를 위해 한번만 손을 잡아주렴', '아아 외로운 밤 쓰라린 가슴앉고', '오늘밤도 그렇게 울다 잠이든다', '가지마라 가지마라 가지말아라', '나를 위해 한번만 손을 잡아주렴', '아아 외로운밤 쓰라린 가슴앉고', '오늘밤도 그렇게 울다 잠이든다', '울다 잠이든다', '오늘밤도 그렇게', '울다 잠이든다']\n"
          ]
        },
        {
          "metadata": {
            "tags": null
          },
          "name": "stderr",
          "output_type": "stream",
          "text": [
            "\r 65%|██████▍   | 137/211 [1:00:31<24:32, 19.90s/it]"
          ]
        },
        {
          "metadata": {
            "tags": null
          },
          "name": "stdout",
          "output_type": "stream",
          "text": [
            "65\n",
            "['널 기다리던 밤처럼', '길고 어둡던 우리 사이 공백', '이게 끝이 아니길 바래', 'I wanna go back', '너가 원하던 거 다 고친 지금에야 ', '넌 어디로 갔는지', '난 홀로 남아 Lonely ', '오늘 따라 부는 바람도', '참 시린 것 같은데', '넌 왜이리 멀쩡해보이는 건지', '눈치도 없는 너지만', '예전처럼만 웃어주면 돼', '나에겐 너 하나뿐인 걸', '너 때매 아파 하는걸', '널 잊으려고 노력해봐도 잘 안돼', '널 미워하는 건', '추억 속 너에겐 못된 일이라', '난 할수가 없어', '이렇게 널 그리워', '하는 날 알고있는지', '나에겐 너 하나뿐인 걸', '너 때매 아파 하는걸', '널 잊으려고 노력해봐도 잘 안돼', '널 미워하는 건', 'too hard 너무 어려워', '날 몰라주는 너도 서러워', \"I'm officialy missing you\", 'Officialy missing you', 'Ye Im officially missing you ', \"You know how I've been through \", '이젠 너와 내가 친구 사이로 남아', '내 삶이 전부 진부 하게만 느껴져', '마치 실이 빠진 진주', '혹은 가벼운 티슈', '우리둘 간에 issue makin은 이젠 없을거야', '넌 아무 느낌두 안나겠지만서도', '나 없는 밤이 긴듯 혼란스럽겠지', '나 역시 옆구리 시린 just sandle', '지루한 스캔들', '내 안티팬들이 되버린', '니 주위사람과 불리한 Game을 ', '하기도 전에 Over를 쳤지만 ', 'Just painful Ye I just can do it ', \"But can't be single \", '사랑 노랠 들어도', 'Where the melodies at  ', '행동 하나 하나 모두 다 외로움이 돼', 'So Im officially missing you ', '날 떠난 너지만 아직 날 괴롭히네', '나에겐 너 하나뿐인 걸', '너 때매 아파 하는걸', '널 잊으려고 노력해봐도 잘 안돼', '널 미워하는 건', '추억 속 너에겐 못된 일이라', '난 할 수가 없어', '이렇게 널 그리워', '하는 날 알고있는지', '나에겐 너 하나뿐인 걸', '너때매 아파 하는걸', '널 잊으려고 노력해봐도 잘안돼', '널 미워하는 건', 'Too hard 너무 어려워 ', '날 몰라주는 너도 서러워', \"I'm officialy missing you\", 'Officialy missing you ']\n"
          ]
        },
        {
          "metadata": {
            "tags": null
          },
          "name": "stderr",
          "output_type": "stream",
          "text": [
            "\r 65%|██████▌   | 138/211 [1:01:05<29:21, 24.13s/it]"
          ]
        },
        {
          "metadata": {
            "tags": null
          },
          "name": "stdout",
          "output_type": "stream",
          "text": [
            "65\n",
            "['Yes Turtles Forth album', 'New mind New song ', '철없을 적 내 기억속에', '비행기 타고가요 ', \"Yeah Let's go \", '파란 하늘위로 훨훨 날아가겠죠 ', '어려서 꿈꾸었던 비행기 타고 ', '기다리는 동안 아무말도 못해요 ', '내 생각 말할순 없어요 ', '모든 준비 다 끝났어 ', '곱게 차려 입고 나선 ', '바깥 풍경마저 들뜬 기분 ', '때가 왔어 하늘위로', '날으는 순간이야 ', '조금은 두려워도 ', '애써 내색 할 순 없어', '이번이 처음이지만 ', '전에 자주 비행했었잖아 ', '친구들과 말썽장이', '거북이 비행기로 올라타 ', '준비됐나 ', '수많은 사람들 속을 지나쳐', '마지막 게이트야 ', '나도 모르게 안절부절하고 있어 ', '이럴 땐 침착해 좀 자연스럽게 ', '파란 하늘위로 훨훨 날아가겠죠 ', '어려서 꿈꾸었던 비행기 타고 ', '기다리는 동안 아무말도 못해요 ', '내 생각 말할순 없어요', 'Yes Remember', '비행기를 타고 가던 너', '따라가고 싶어 울었던 ', '철없을 적 내 기억속에', '비행기 타고가요 ', 'Yes Fly 다들 아무 일도 없는 듯 ', '하늘을 나르는데 아무걱정 없는 듯 ', '왠지 철닥서니 없었나 문득', '이런 내 모습 촌스러 입 다문듯 ', '쳐다보지 말아요 ', '다들 처음 탈 때 이러지 않았나요 ', '딴 데 봐요 ', '신경 쓰지 마요 ', '나 혼자 이런게 나 좋아요 ', '어떤 느낌일까 정말', '새들처럼 나는 기분 ', '세상 모든 것이 점처럼', '보 여 지겠지 ', '개구쟁이 거북이', '비행기로 드디어 출발한다 ', '수많은 사람들 속을 지나쳐', '마지막 게이트야 ', '나도 모르게 안절부절하고 있어 ', '이럴 땐 침착해 좀 자연스럽게 ', '파란 하늘위로 훨훨 날아가겠죠 ', '어려서 꿈꾸었던 비행기 타고 ', '기다리는 동안 아무말도 못해요 ', '내 생각 말할순 없어요 ', '파란 하늘위로 훨훨 날아가겠죠 ', '어려서 꿈꾸었던 비행기 타고 ', '기다리는 동안 아무말도 못해요 ', '내 생각 말할순 없어요 Yes Remember', '비행기를 타고 가던 너', '따라가고 싶어 울었던 ', '철없을 적 내 기억속에', '비행기 타고가요 ']\n"
          ]
        },
        {
          "metadata": {
            "tags": null
          },
          "name": "stderr",
          "output_type": "stream",
          "text": [
            "\r 66%|██████▌   | 139/211 [1:01:38<32:14, 26.87s/it]"
          ]
        },
        {
          "metadata": {
            "tags": null
          },
          "name": "stdout",
          "output_type": "stream",
          "text": [
            "61\n",
            "['You know what it is', 'B. girls are back, Brave Sound', 'We\\'re gonna be \"Summer Queens\"', 'You ready? We are \"BRAVE GIRLS\"     ', 'Oh Oh Oh Oh Oh Oh ', 'Oh Oh Oh Oh Oh Oh Oh', 'Oh Oh Oh Oh Oh Oh ', 'Oh Oh Oh Oh Oh  ', 'Just wanna give ur love', '날 보는 눈빛에 분명 적혀있어', \"내게 Rollin' in the deep (Rollin' Rollin')\", 'I don\\'t want \"지루함\" or \"따분함\" ', 'Oh get away ', '난 더 특별함을 원해 너에게', '푸른 바람 불어와', '두 볼을 스칠 때 (Hey)', '또 괜히 나 왜 두근거려 왜 (왜)', 'Call me \"Desperado\"', '뭐래도 몰라도 돼', '오늘만은 내 멋대로', 'Go far away', '치맛바람이 불어와 (불어와)', '내게도 사랑이 찾아와 Yeah', '뜨거운 햇살이 비춰와 (비춰와)', '아름다운 여름밤이라구요', '살랑 살랑 살랑 불어 기분 좋은 날에', '바람 바람 바람 이 시원한 바람', '찰랑 찰랑 찰랑 이 푸른 바닷가에', '바람 바람 바람 치 맛 바 람', '눈치 따위는 안 보여 Babe', '(널 향한 내 맘에)', '내숭 따위는 Get nah Joy Babe', '(This is my way)', 'Your eyes on my body', '눈 떼지 못해 넌', \"부디 오늘 밤은 I don't let you go\", 'Ooh baby I mean You know', '푸른 바람 불어와', '두 볼을 스칠 때 (Hey)', '또 괜히 나 왜 두근거려 왜 (왜)', 'Call me \"Desperado\"', '뭐래도 몰라도 돼', '오늘만은 내 멋대로', 'Go far away', '치맛바람이 불어와 (불어와)', '내게도 사랑이 찾아와 Yeah', '뜨거운 햇살이 비춰와 (비춰와)', '아름다운 여름밤이라구요', '살랑 살랑 살랑 불어 기분 좋은 날에', '바람 바람 바람 이 시원한 바람', '찰랑 찰랑 찰랑 이 푸른 바닷가에', '바람 바람 바람 치 맛 바 람', '너와 함께 있고 이 밤은 빛나는데', \"Now I'm Fearless 난 없어 무서울게\", 'I know 너도 내 맘과 같은 걸', \"We're just falling in love\", \"Let's Go!\", 'Oh Oh Oh Oh Oh Oh (Oh Babe)', 'Oh Oh Oh Oh Oh Oh Oh (시원한 이 바람)', 'Oh Oh Oh Oh Oh Oh (Oh Babe Babe)', '치 맛 바 람']\n"
          ]
        },
        {
          "metadata": {
            "tags": null
          },
          "name": "stderr",
          "output_type": "stream",
          "text": [
            "\r 66%|██████▋   | 140/211 [1:02:10<33:31, 28.33s/it]"
          ]
        },
        {
          "metadata": {
            "tags": null
          },
          "name": "stdout",
          "output_type": "stream",
          "text": [
            "57\n",
            "['꽃 향기나는 4월에', '봄 바람 불어 내 마음은', '겨울을 지나 피어난', '꽃처럼 어느새', '내 마음 속 널 피우네', '널 보며 노래하던 나', '날 보며 웃고있던 너', '그 모습 잊을 수 없어', '그렇게 내 곁에', '널 두고싶어졌어', '어쩌나 나도', '네 마음 알아버린 걸', '오늘은 우리', '조금 더 가까워질까', '달달해 달달해 달달한', '아이스크림같은 우리 사이', '너의 한 마디에', '내 온 몸이 녹아내리네', '달콤해 달콤해 달콤한', '마카롱같은 우리 사이', '네 손짓 하나에', '내 심장은 바닥을 치네', '현재 스코어 2대0', '네 눈을 마주칠때면', '자꾸 실책을 범하게 돼', '나답지 않아 이대론', '하지만 절대 쉽게 널', '생각하거나 분위기에 취해서', '내 마음을', '전하고 싶지않아 준비했어', '초콜릿처럼 달달한 이 노래와', '지나가며 네가', '몇일 전 얘기했던', '여기 작은 선물을 받아줘', '소중한 널 더 웃게 하기 위해서', '네가 만났던 다른 남자들을', '내가 이기겠어', '너도 다른 여자 신경 꺼', '난 너에게만 지겠어', '어쩌나 너도 내 마음', '알아버린 걸', '오늘은 내가', '조금 더 다가가볼까', '달달해 달달해 달달한', '아이스크림같은 우리 사이', '너의 한 마디에', '내 온 몸이 녹아내리네', '달콤해 달콤해 달콤한', '마카롱같은 우리 사이', '네 손짓 하나에', '내 심장은 바닥을 치네', '달달해 달달해 달달해', '달콤해 달콤해 달콤해', '달달해 달달해 달달한', '아이스크림같은 우리 사이', '네 손짓 하나에', '내 심장은 바닥을 치네']\n"
          ]
        },
        {
          "metadata": {
            "tags": null
          },
          "name": "stderr",
          "output_type": "stream",
          "text": [
            "\r 67%|██████▋   | 141/211 [1:02:39<33:21, 28.60s/it]"
          ]
        },
        {
          "metadata": {
            "tags": null
          },
          "name": "stdout",
          "output_type": "stream",
          "text": [
            "30\n",
            "['나는 늘 내가', '참 바보 같았고', '언제부턴가 음', '나 어지러운 듯해', '나는 늘 내가', '참 불안했었고', '헤엄치는 건 음', '아직도 어려워', '내 맘대로 춤을 추고픈 게 아니에요', '난 그저 취하고 싶었을 뿐이에요', '그런 날카로운 눈으로 바라보진 말아요', '난 그저 잘하고 싶었을 뿐이에요', 'Baby 날 안아줘요', '가면은 벗어둬요', 'Baby 날 알아줘요', '내 관객이 되어줘요', 'Baby 날 만져줘요', '긁히지 않게 조심히', 'Baby 날 반겨줘요', '눈물은 조금만 흘리도록', '내 맘대로 춤을 추고픈 게 아니에요', '난 그저 사랑받고 싶을 뿐이에요', 'Baby 날 안아줘요', '가면은 벗어둬요', 'Baby 날 알아줘요', '내 관객이 되어줘요', 'Baby 날 만져줘요', '긁히지 않게 조심히', 'Baby 날 반겨줘요', '눈물은 조금만 흘리도록']\n"
          ]
        },
        {
          "metadata": {
            "tags": null
          },
          "name": "stderr",
          "output_type": "stream",
          "text": [
            "\r 67%|██████▋   | 142/211 [1:02:55<28:17, 24.60s/it]"
          ]
        },
        {
          "metadata": {
            "tags": null
          },
          "name": "stdout",
          "output_type": "stream",
          "text": [
            "50\n",
            "['니 생각에 꽤 즐겁고 ', '니 생각에 퍽 외로워 ', '이상한 일이야  ', '누굴 좋아한단 건 ', '아무 일도 없는 저녁 ', '집 앞을 걷다  ', '밤 공기가 좋아서 ', '뜬금없이 이렇게  ', '니가 보고 싶어', '참 묘한 일이야 사랑은 ', '좋아서 그립고  ', '그리워서 외로워져 ', '이게 다 무슨 일일까 ', '내 맘이 내 맘이 아닌걸 ', '이제와 어떡해  ', '모든 시간 모든 공간 ', '내 주위엔 온통  ', '너뿐인 것 같아 묘해 ', '보고 싶어 신기하고 ', '신기해서 보고 싶고 ', '그러다 한 순간  ', '미친 듯 불안하고 ', '아무렇지도 않은데 ', '햇살에 울컥  ', '눈물이 날 것 같고 ', '그러다가 니 전화  ', '한 통에 다 낫고 ', '참 묘한 일이야 사랑은 ', '아파서 고맙고  ', '고마워서 대견해져 ', '이게 다 무슨 일일까 ', '이 길이 그 길이 아닌걸 ', '모르고 떠나온  ', '여행처럼 낯설지만 ', '그래서 한번 더  ', '가보고 싶어져 너와 ', '이렇게 너를 바라볼 때 ', '뭐랄까 나는  ', '행복한 채로 두려워져  ', '참 묘한 일이야 사랑은', '좋아서 그립고 ', '그리워서 외로워져', '이게 다 무슨 일일까', '내 맘이 내 맘이 아닌걸', '이제와 어떡해 ', '모든 시간 모든 공간', '내 주위엔 온통 ', '너뿐인 것 같아 묘해', '그래서 한번 더 ', '가보고 싶어져 너와']\n"
          ]
        },
        {
          "metadata": {
            "tags": null
          },
          "name": "stderr",
          "output_type": "stream",
          "text": [
            "\r 68%|██████▊   | 143/211 [1:03:21<28:32, 25.19s/it]"
          ]
        },
        {
          "metadata": {
            "tags": null
          },
          "name": "stdout",
          "output_type": "stream",
          "text": [
            "26\n",
            "['엄마아리랑 아리랑 ', '아리아리랑 아라리요 ', '아들딸아 잘되거라 ', '밤낮으로 기도한다 ', '엄마 아리랑 ', '사랑하는 내 아가야 ', '보고 싶다 우리 아가 ', '천년만년 지지 않는 꽃이 피는구나 ', '아 리 랑 아 리 랑 ', '사랑 음 사랑 음 엄마 아리랑 ', '엄마아리랑 아리랑 ', '아리아리랑 아라리요 ', '우리 엄마 무병장수 ', '정성으로 기원하오 ', '엄마 아리랑 ', '사랑하는 내 어머니 ', '보고싶소 울 어머니 ', '서산마루 해가 지고 달이 뜨는구나 ', '아 리 랑 아 리 랑 ', '사랑 음 사랑 음 엄마아리랑 ', '아리아리랑 아라리요 ', '쓰리쓰리랑 아라리요 ', '우리 엄마 사랑은 아리랑 ', '엄마 엄마 ', '우리 어머니', '아리랑']\n"
          ]
        },
        {
          "metadata": {
            "tags": null
          },
          "name": "stderr",
          "output_type": "stream",
          "text": [
            "\r 68%|██████▊   | 144/211 [1:03:34<24:09, 21.63s/it]"
          ]
        },
        {
          "metadata": {
            "tags": null
          },
          "name": "stdout",
          "output_type": "stream",
          "text": [
            "91\n",
            "['Baby 우리 둘 관계는', '꿈나라에서도 찾을 수는 없어', 'Who can love you like I do', 'Nobody oh baby', '그 아무도 없어', 'U know I be grinding all day', 'all day', '온종일 난 니 생각해', '각해', '꼭 있어 줘 girl 내 곁에', '곁에', 'Bonnie and Clyde', \"it's you and me\", 'and me', '우린 가깝지만 좀 멀어', '평일에 보고 싶을 땐', 'FaceTime 걸어', '오늘도 어떤 놈이', '물어봤대 니 번호', '다음부턴 알려주라 했어 내 걸로', '불안하지만 불안하지 않아', '널 믿기도 하지만 그것 말고', '진짜 나 만한 남자는 나밖에 없어', '지구를 통째로 뒤져 봐도', '넌 삐져도 금방 풀어져서 좋아', '뒤끝 좀 있지만 그 정돈 애교야', '엄청 먹어 재끼는 데 몸매는 좋아', '마치 유리병으로 돼 있는 콜라', '넌 장난 삼아 말해', '남자들이 줄 섰으니까 잘 해', '아니면 딴 데로 날아간대', '그럼 나는 웃으면서 말해', 'Baby 우리 둘 관계는', '꿈나라에서도 찾을 수는 없어', 'Who can love you like I do', 'Nobody oh baby', '그 아무도 없어', 'U know I be grinding all day', 'all day', '온종일 난 니 생각해', '각해', '꼭 있어 줘 girl 내 곁에', '곁에', 'Bonnie and Clyde', \"it's you and me\", 'and me', '가고 싶은 곳으로 데려갈게', '거기가 우주라도 나한테 다 말해', '어디를 가도 난 니 손 잡고 갈게', '어디를 가도 난 니 손 잡고 갈게', '사실 되게 미안해 매일 걷게 해서', '비 오는 날마다 널 젖게 해서', '니가 옆에서 편하게 앉아', '내가 운전하는 날이', '빨리 오면 좋겠어', '작은 차는 아닐 거야', '너랑 안 어울려', '난 밤새 노력해 내 몸값을 올려', '널 챙피하게 만들지는 않을 거야', '너의 자랑스러운 남잔', '평생 나일 거야', 'Eh oh eh eh oh', '딴 놈들은 계속 침만 흘려', '난 질투할 시간에 성공을 노려', '니 남자의 미래가 눈부신 게 보여', 'Eh oh eh eh oh', '난 많은 돈을 벌어야 하거든', '니가 원하는 건 다 해줄 거라서', '뭐든 성형수술 빼곤', '진짜 다 해줄 거거든', '온종일 난 니 생각해', 'Love you like I do', '꼭 있어 줘 girl 내 곁에', 'Baby 우리 둘 관계는', '꿈나라에서도 찾을 수는 없어', 'Who can love you like I do', 'Nobody oh baby', '그 아무도 없어', 'U know I be grinding all day', 'all day', '온종일 난 니 생각해', '각해', '꼭 있어 줘 girl 내 곁에', '곁에', 'Bonnie and Clyde', \"it's you and me\", 'and me', 'You and me you and me', 'You and me', 'You and me you and me', 'You and me']\n"
          ]
        },
        {
          "metadata": {
            "tags": null
          },
          "name": "stderr",
          "output_type": "stream",
          "text": [
            "\r 69%|██████▊   | 145/211 [1:04:21<32:01, 29.12s/it]"
          ]
        },
        {
          "metadata": {
            "tags": null
          },
          "name": "stdout",
          "output_type": "stream",
          "text": [
            "33\n",
            "['저물어가는 태양이 어딘가', '떠밀려가던 내 뒷모습 같아', '태워버리고', '태워버리다가', '남김없이 사라져버릴까', '돌아가자', '벌써 모두 가버렸으니까', '아쉬운 것 투성이지만', '아름다운 건 끝이 있다는 것 아닐까', '그리운 맘', '서러워지는 맘', '가는 길에 두고 내릴까', '저 멀리 저 멀리 말이야', '저물어가는 태양이 어딘가', '떠밀려가던 내 뒷모습 같아', '태워버리고', '태워버리다가', '남김없이 사라져버릴까', '차가운 말', '시려워지는 맘', '가는 길에 다 두고 내릴까', '더 멀리 더 멀리 말이야', '저물어가는 태양이 어딘가', '떠밀려가던 내 뒷모습 같아', '태워버리고', '태워버리다가', '남김없이 사라져버릴까', '조금만 더 곁에 머물러있다', '짧은 순간 부서지면 안 될까', '울어버리고', '웃어버리다가', '아직 까지 남은 건', '어디를 보게 될까']\n"
          ]
        },
        {
          "metadata": {
            "tags": null
          },
          "name": "stderr",
          "output_type": "stream",
          "text": [
            "\r 69%|██████▉   | 146/211 [1:04:38<27:33, 25.44s/it]"
          ]
        },
        {
          "metadata": {
            "tags": null
          },
          "name": "stdout",
          "output_type": "stream",
          "text": [
            "98\n",
            "['Blue skies, sun rise ', '푸른 하늘에 태양이 떠오르고', 'The sounds of waves are crashing', '파도 소리가 귓가에 와 부딪히네요', 'They’re whispering to us', '우리에게 속삭여요', 'The city lights', '도시의 불빛들을', 'I fall asleep to sunsets with you', '그대와 함께 석양 속에 잠들고 싶어', 'Oh my', '오 나의 그대여', 'I’m stopping the time for', '시간을 멈추고 싶어요', 'This moment with you   ', '당신과 함께 하는 이 순간을 위해', 'Oh I’ve been waiting ', '나 기다려왔어요', 'I’m waiting for you to stay ', '그대가 머물러주기를', 'Feels like I’m holding my breath under water babe ', '물 속에서 숨을 참듯 마음을 참아왔어요', 'Let’s run away ', '함께 떠나요', 'Somewhere far', '어딘가 먼 곳으로 ', 'Where we could be stay', '그저 가만히 있어도 괜찮은 곳으로', 'It’s about time about time babe ', '이제 떠날 시간이 된 것 같아요', 'You call I’ll oblige', '그대가 부르면 난 어디든 달려갈게', 'Don’t know how I could’ve helped it', '내가 도움이 될 수만 있었다면 좋을텐데', 'How you never came in my life', '어떻게 그대가 내 삶에 들어오지 않았는지', 'You arms wrapping mine', '그대가 내 팔을 안으며', 'With your head placed on my shoulder', '어깨에 살포시 머리를 기대네', 'Never going nowhere', '그대를 떠나지 않을 게요', 'I’m stopping the time for', '시간을 멈추고 싶어요', 'This moment with you   ', '당신과 함께 하는 이 순간을 위해', 'Oh I’ve been waiting ', '나 기다려왔어요', 'I’m waiting for you to stay ', '그대가 머물러주기를', 'Feels like I’m holding my breath under water babe ', '물 속에서 숨을 참듯 마음을 참아왔어요', 'Let’s run away ', '함께 떠나요', 'Somewhere far', '어딘가 먼 곳으로 ', 'Where we could be stay', '그저 가만히 있어도 괜찮은 곳으로', 'It’s about time about time babe ', '이제 떠날 시간이 된 것 같아요', \"My best when I'm listening\", '온 마음을 다해 귀 기울이고 있어요', 'Wish I could see the world in your vision', '그대 시야 속의 세상을 볼 수 있다면 좋을 텐데', \"I'll run when you call me\", '그대가 찾으면 달려갈게요', 'Be your home on the days when you miss me', '내가 그리운 날 그대의 안식처가 될게', 'Traveling through time and space to you again ', '그대를 향해 또 다시 시공간을 여행해', 'To find our resting place', '우리가 쉴 수 있는 곳을 찾아서', \"Because nothing's gonna make me go away\", '절대 떠나지 않을 테니까', 'Til I find my time with you', '그대와 함께 하기 전까지는', 'Oh I’ve been waiting ', '나 기다려왔어요', 'I’m waiting for you to stay ', '그대가 머물러주기를', 'Feels like I’m holding my breath under water babe ', '물 속에서 숨을 참듯 마음을 참아왔어요', 'Let’s run away ', '함께 떠나요', 'Somewhere far', '어딘가 먼 곳으로 ', 'Where we could be stay', '그저 가만히 있어도 괜찮은 곳으로', 'It’s about time about time babe ', '이제 떠날 시간이 된 것 같아요', \"My best when I'm listening\", '온 마음을 다해 귀 기울이고 있어요', 'Wish I could see the world in your vision', '그대 시야 속의 세상을 볼 수 있다면 좋을 텐데', \"I'll run when you call me\", '그대가 찾으면 달려갈게요', 'Be your home on the days when you miss me', '내가 그리운 날 그대의 안식처가 될게_x000D_\\n\\t\\t\\t\\t\\t</div>']\n"
          ]
        },
        {
          "metadata": {
            "tags": null
          },
          "name": "stderr",
          "output_type": "stream",
          "text": [
            "\r 70%|██████▉   | 147/211 [1:05:28<34:57, 32.78s/it]"
          ]
        },
        {
          "metadata": {
            "tags": null
          },
          "name": "stdout",
          "output_type": "stream",
          "text": [
            "40\n",
            "['지금부터 뛰어', '앞만 보고 뛰어', '어떻게 살았냐고 묻지를 마라', '이리 저리 살았을꺼라', '착각도 마라', '그래 한때 삶에 무게', '견디지 못해', '긴 세월 방황 속에', '청춘을 묻었다', '어허허 어허허', '속절 없는 세월', '탓해서 무얼해', '되돌릴 수 없는 인생인 것을', '지금부터 뛰어', '앞만 보고 뛰어', '내 인생에 태클을 걸지마', '지금부터 뛰어', '앞만 보고뛰어', '어떻게 살았냐고 묻지를 마라', '이리 저리 살았을꺼라', '착각도 마라', '그래 한때 삶에 무게', '견디지 못해', '긴 세월 방황 속에', '청춘을 묻었다', '어허허 어허허', '속절 없는 세월', '탓해서 무얼해', '되돌릴 수 없는 인생인 것을', '지금부터 뛰어', '앞만 보고뛰어', '내 인생에 태클을 걸지마', '속절 없는 세월', '탓해서 무얼해', '되돌릴 수 없는 인생인 것을', '지금부터 뛰어', '앞만 보고뛰어', '내 인생에 태클을 걸지마', '내 인생에 태클을 걸지마', ' ']\n"
          ]
        },
        {
          "metadata": {
            "tags": null
          },
          "name": "stderr",
          "output_type": "stream",
          "text": [
            "\r 70%|███████   | 148/211 [1:05:49<30:38, 29.19s/it]"
          ]
        },
        {
          "metadata": {
            "tags": null
          },
          "name": "stdout",
          "output_type": "stream",
          "text": [
            "82\n",
            "['I like you babe', '어디가 그렇게 좋으냐고 묻네', 'Baby wait a sec', '손가락 열 개를 다 접어도', '이유를 다 세지 못할 만큼', 'Just like you babe', '이걸론 부족해', '말해 뭐 해 거 아가씨', '넌 조물주의 마스터피스', '어제 마젤란이 말하길', '너 찾아다닌 거래 지구 한 바퀴', '반대로 반대로 넌 내가 왜 좋아', '마 뜨면 혼나 야', 'Milli는 뭔 Milli 넌 Billi um', 'Trillion', '말해줘 일일이 어', '겉으로만 수백 가지', '그 속엔 백만 가지', '이유들로 네가 좋아 Baby', '해가 두 번 뜰 때까지', '옆에 있어 줄래 같이', '다 말해주고 싶어', '네가 좋은 이유', 'Got millions millions millions', 'The reason I like you', 'Oh yeah yeah yeah', '네가 좋은 이유', 'Got millions millions millions', 'The reason I like you', 'Oh yeah yeah yeah yeah yeah', 'I like you babe', '어디가 그렇게 좋으냐고 묻네', 'Baby wait a sec', '이틀을 쉬지 않고 말해도', '끝없이 말할 수 있을 만큼', 'Just like you babe', '이걸론 부족해', '네가 얼마큼 좋냐고', '이 세상 컬러에 숫자를 매길게', '어려운 수학은 몰라도', '사랑은 더하고 제곱에 Babe', '코끝을 간지럽히는', '봄이 찾아온 듯이 꽃 피는', '내 맘에 나비가 돼 날아와', '날갯짓에 난 또 설레잖아', '겉으로만 수백 가지', '그 속엔 백만 가지', '이유들로 네가 좋아 Baby', '해가 두 번 뜰 때까지', '옆에 있어 줄래 같이', '다 말해주고 싶어', '네가 좋은 이유', 'Got millions millions millions', 'The reason I like you', 'Oh yeah yeah yeah', '네가 좋은 이유', 'Got millions millions millions', 'The reason I like you', 'Oh yeah yeah yeah yeah yeah', 'One 원해 내 마음이 너를 원해', 'Two 투정 부려도 예쁘네', 'Three 스릴러 영화는 싫은데', '너와 함께면 열 번을 봐도 Ok', 'Four For me 나를 위해주네', 'Five Five star S라인 몸매', 'Six Sixth sense 반전 매력에', '음', '네가 좋은 이유', 'Got millions millions millions', 'The reason I like you', 'Oh yeah yeah yeah', '네가 좋은 이유', 'Got millions millions millions', 'The reason I like you', 'Oh yeah yeah yeah', '네가 좋은 이유 Got millions', '듣고 싶을 때 언제든지 말만 해', '이 노랠 불러줄게', '네가 좋은 이유 Got millions', '알고 싶을 때 언제든지 말만 해', '내가 다 말해줄게', '네가 좋은 이유 Got millions<br <=\"\" div=\"\"/>\\n<button class=\"button_more arrow_d\" data-control=\"expose\" data-expose-target=\"#d_video_summary\" data-expose-type=\"more\" title=\"MILLIONS 가사 더보기\" type=\"button\">\\n<span class=\"text\">펼치기</span>\\n<i class=\"button_icons etc arrow_d\"></i>\\n</button>']\n"
          ]
        },
        {
          "metadata": {
            "tags": null
          },
          "name": "stderr",
          "output_type": "stream",
          "text": [
            "\r 71%|███████   | 149/211 [1:06:31<34:12, 33.10s/it]"
          ]
        },
        {
          "metadata": {
            "tags": null
          },
          "name": "stdout",
          "output_type": "stream",
          "text": [
            "32\n",
            "['힘내라 인생 웃어라 인생 ', '내일향해 달려간다 ', '힘내라 인생 비켜라 운명 ', '꿈을 향해 나는간다 ', '한번은 웃고 한번은 울고 ', '돌아보니 멀리도 왔다 ', '잘나도 보고 못나도 보고 ', '사랑해서 울어도 봤다 ', '운명앞에 지지말고 ', '내갈길을 찾아야지 ', '넘지못할 산은없다 ', '마음먹기 달린거야 ', '힘내라 인생 웃어라 인생 ', '내일향해 달려간다 ', '힘내라 인생 비켜라 운명 ', '꿈을 향해 나는간다 ', '한번은 웃고 한번은 울고 ', '돌아보니 멀리도 왔다 ', '잘나도 보고 못나도 보고 ', '사랑해서 울어도 봤다 ', '운명앞에 지지말고 ', '내갈길을 찾아야지 ', '넘지못할 산은없다 ', '마음먹기 달린거야 ', '힘내라 인생 웃어라 인생 ', '내일향해 달려간다 ', '힘내라 인생 비켜라 운명 ', '꿈을 향해 나는간다 ', '힘내라 인생 웃어라 인생', '내일향해 달려간다', '힘내라 인생 비켜라 운명', '꿈을 향해 나는간다']\n"
          ]
        },
        {
          "metadata": {
            "tags": null
          },
          "name": "stderr",
          "output_type": "stream",
          "text": [
            "\r 71%|███████   | 150/211 [1:06:47<28:30, 28.05s/it]"
          ]
        },
        {
          "metadata": {
            "tags": null
          },
          "name": "stdout",
          "output_type": "stream",
          "text": [
            "36\n",
            "['안녕이라 그 말은 하지 마세요', '우리는 다시 만날 테니', '그냥 웃으며 걸어가요', '그만하자 그 말도 하지 말구요', '언젠간 다시 만날 텐데', '그냥 웃으며 걸어봐요', '넌 어떤 맘으로 또 생각에 잠겨', '이 길을 걷나요', '니가 원한다면 흐린 날엔 비가 될래요', '추적이는 여름 비가 되어', '당신이 원하면 어떤 계절이라도', '추적이는 여름 비가 되어', '당신이 좋다면 어떤 모습이라도', '안녕이라 그 말은 하지 마세요', '우리는 다시 만날 테니', '그냥 웃으며 걸어봐요', '넌 어떤 맘으로 또 생각에', '잠겨 이 길을 걷나요', '니가 원한다면 흐린 날엔 비가 될래요', '추적이는 여름 비가 되어', '당신이 원하면 어떤 계절이라도', '추적이는 여름 비가 되어', '당신이 좋다면 어떤 모습이라도', '워워워 흐린 마음이', '거리를 지나 세어갈 때', '그녀 말했어 너무나 짧았던', '너와 나는 이 길이 끝날 때', '주루루루 여름 비가 되어', '당신이 원하면 어떤 계절이라도', '추적이는 여름 비가 되어', '당신이 좋다면 항상', '당신이 바랬던 환상', '니가 내게 줬던 그 어떤 맘이라도', '니가 내게 줬던 그 어떤 맘이라도', '주루루루 여름 비가 되어', '당신이 좋다면 어떤 모습이라도']\n"
          ]
        },
        {
          "metadata": {
            "tags": null
          },
          "name": "stderr",
          "output_type": "stream",
          "text": [
            "\r 72%|███████▏  | 151/211 [1:07:06<25:19, 25.33s/it]"
          ]
        },
        {
          "metadata": {
            "tags": null
          },
          "name": "stdout",
          "output_type": "stream",
          "text": [
            "69\n",
            "['Why do you love me I’m monster', \"I know that love doesn't fit me\", 'I can’t can’t stop loving you', 'can’t stop loving you', 'can’t stop loving you', 'Why do you love me I’m monster', 'I know that love', \"don't walk besides me\", 'I can’t can’t stop loving you', 'can’t stop loving you', 'can’t stop loving you', 'You mustn’t love me I’m monster', 'Somebody said that', 'You look so down in the dumps', 'Your creepy pale face', 'will make others feel blue', 'But you always stood by my side', 'Being my only light in the dark', 'Just tell me and', 'i can be anyone even a killer', 'Don’t you know', 'I can do the baddest thing', 'if you need', 'I can be your shield from things', 'that hurt you', 'Just go ahead and use me', \"if i'm useful\", 'That makes me', 'I can’t can’t stop loving you', 'Just for you', \"I swear i'll do anything at all indeed\", \"I'll be there whenever you want me\", \"Just say 'i love you even at your worst'\", 'That makes me', 'can’t stop loving you', 'I’m wondering now', 'I’m wondering why', \"Why aren't you scared of me\", 'Do you feel comfy around me', 'I want to change', 'It takes a little time', 'Like the ‘beauty and the beast’', 'Oh that’s a fairytale', \"I know love doesn't last forever\", 'But singing love forever', 'I never felt that ever', 'Before you showed up', 'Don’t you know', 'I can do the baddest thing', 'if you need', 'I can be your shield from things', 'that hurt you', 'Just go ahead and use me', \"if i'm useful\", 'That makes me', 'I can’t can’t stop loving you', 'Just for you', \"I swear i'll do anything at all indeed\", \"I'll be there whenever you want me\", \"Just say 'i love you even at your worst'\", 'That makes me', 'can’t stop loving you', 'Why do you love me I’m monster', 'I know that love', \"don't walk besides me\", 'I can’t can’t stop loving you', 'can’t stop loving you', 'can’t stop loving you', 'You mustn’t love me I’m monster']\n"
          ]
        },
        {
          "metadata": {
            "tags": null
          },
          "name": "stderr",
          "output_type": "stream",
          "text": [
            "\r 72%|███████▏  | 152/211 [1:07:41<27:51, 28.33s/it]"
          ]
        },
        {
          "metadata": {
            "tags": null
          },
          "name": "stdout",
          "output_type": "stream",
          "text": [
            "62\n",
            "['멋대로 날 찾아와서', '모든 걸 다 적시고', '내 마음도 짙어져 널 원할 때쯤에', '이내 떠나 가버렸던', '네가 아직 그리워', '그 때 조금 더 젖게 내버려 둘 걸', '어디서부터 어떻게 시작해야 할까', '너의 흔적들을 지우는 일', '우리 함께였던 시간이 길지 않은데', '넌 참 많은 걸 남기고 갔네', '아직 하지 못한 말들이 너무 많아', '네게 주지 못한', '맘들 갈 곳을 잃었나 봐', '조금만 조금만 내게 머물러서', '모두 가져가 줄 순 없을까', '후회에 젖은 추억은', '한껏 무게를 더해가', '혼자 짊어지기엔 버거워', '나약해진 내가', '억지로 삼켜냈던', '너를 토해내듯 부르다', '네 기억위로 지쳐 잠이 들죠', '멋대로 날 찾아와서', '모든 걸 다 적시고', '내 마음도 짙어져 널 원할 때쯤에', '이내 떠나 가버렸던', '네가 아직 그리워', '그 때 조금 더 젖게 내버려 둘 걸', '너가 빠져버린 하루에 채워진 공허함', '또 숨 막힐 듯 날 몰아세우는 고요가', '익숙해질 수도 있을까 무뎌진다는 건', '괜찮은 게 아니라 참는다는 거', '널 그리워할수록 더 잃어가는 기분', '모래를 움켜쥔 듯 흘러내리는 맘을', '추스릴 방법이 떠오르지 않아', '너에게 잠겨 난 떠오르지 않아', '엉망으로 흐트러져 취해 또 쓰러져', '사랑은 흩어진 주제에 날 무너뜨려', '언제까지 너를 견뎌낼 수 있을까', '어두워진 맘엔 빛이 들 수 있을까', '모두 묻어내고 싶다며', '더욱 더 파고 들어가', '다 잊어낼 거라며 더 선명히 새겨가', '피해 숨고 싶다며 도망치고 싶다며', '오늘도 이별 그 주위를 서성이잖아', '멋대로 날 찾아와서', '모든 걸 다 적시고', '내 마음도 짙어져 널 원할 때쯤에', '이내 떠나가 버렸던', '네가 아직 그리워', '그 때 조금 더 젖게 내버려 둘 걸', '널 그리워하는 만큼 쉽게', '닫히지 않는 보랏빛 새벽', '고요해서 더 크게 들리는', '마음 속 말들 보고 싶다', '멋대로 날 찾아와서', '모든 걸 다 적시고', '내 마음도 짙어져 널 원할 때쯤에', '이내 떠나 가버렸던', '네가 아직 그리워', '그 때 조금 더 젖게 내버려 둘 걸', '갑작스레 내리는 소나기에']\n"
          ]
        },
        {
          "metadata": {
            "tags": null
          },
          "name": "stderr",
          "output_type": "stream",
          "text": [
            "\r 73%|███████▎  | 153/211 [1:08:13<28:19, 29.30s/it]"
          ]
        },
        {
          "metadata": {
            "tags": null
          },
          "name": "stdout",
          "output_type": "stream",
          "text": [
            "60\n",
            "['떠나지 못하고 오랜 시간 지나도', '넌 내게 남아있지', '달콤하지만 차가운', '우리 추억 속 perfume', '진하고 지독한 너와의 이야기', '눈물 비에 흠뻑 shower', '내 마음에 잔뜩 내려', '진했었던 너는 flower', '절대 잊지 못해 my girl', '꼭 너를 알아보겠어', '단번에 너를 느꼈어', 'Honeybee 난 너를 찾아', '운명이란 걸 믿어봐', '다시 내게 나타나 줘 babe', '너에게로 돌아가는 비행', '빙빙 돌아보니 너무 위험해', '이제 와서 너에게 또 미안해 ya', '나 모르게 놓친 우리 둘 관계', '나의 실수 변명 말투 모든 게', '너를 시들게 해 향기만 남긴 채', '사그라들었지만 선명한 name tag ya', '떠나지 못하고 오랜 시간 지나도', '넌 내게 남아있지', '달콤하지만 차가운', '우리 추억 속 perfume', '진하고 지독한 너와의 이야기', 'per per per perfume', '네가 남긴 love love love love', '자꾸 어버버버 하다 다시 취해 Perfume', 'per per per perfume', '네가 남긴 love love love love', '자꾸 어버버버 하다 다시 취해 Perfume', '하루종일 멍때렸고 yeah', '아무것도 못 했지 no way', '다시 일어나서 정리해', '그래봤자 벗어나지 못해', '어둠이 드리워 방을 못 벗어나', '기댈 곳이 없어 네가 그리워', '날 봐 Everyone 진짜 힘들어', '밤이 지나면 다 꿈이었으면 해', '진짜', '아주 위험해 내 자존감 바닥이고', '난 아직도 널 찾아', '하루도 다 버티지 못하잖아', '네 생각 안 하려 해', '이젠 몰라 나도 어떻게 해야 할지', '매몰돼 무너진 그깟 자존심 때문에', '떠나지 못하고 오랜 시간 지나도', '넌 내게 남아있지', '달콤하지만 차가운 우리 추억 속 perfume', '진하고 지독한 너와의 이야기', 'per per per perfume', '네가 남긴 love love love love', '자꾸 어버버버 하다 다시 취해 Perfume', 'per per per perfume', '네가 남긴 love love love love', '자꾸 어버버버 하다 다시 취해 Perfume', '떠나지 못하고', '오랜 시간 지나도', '넌 내게 남아있지']\n"
          ]
        },
        {
          "metadata": {
            "tags": null
          },
          "name": "stderr",
          "output_type": "stream",
          "text": [
            "\r 73%|███████▎  | 154/211 [1:08:43<28:07, 29.60s/it]"
          ]
        },
        {
          "metadata": {
            "tags": null
          },
          "name": "stdout",
          "output_type": "stream",
          "text": [
            "43\n",
            "['오랫동안 내 마음엔', '구름 가득 비가 내려', '따스한 햇살 비추길', '간절히 바랬죠', '어깨를 적신 빗방울도', '마르면 나만 홀로', '남겨질까 너무나도 두려웠죠', '그댄 빛처럼 비 갠 뒤처럼', '내 마음에 떠오르죠 이렇게', 'Cause you are', '내게 내린 빛과', 'You are 너무 고운 꿈과', '일곱 빛으로 온 세상을', '더 아름답게 물들여', '언제나 Yeah U R', '텅 빈 푸른 언덕 위에', '무지개는 지붕이 돼', '그 아래 가만히 누워', '하늘을 보아요', '세상 가장 평온함과', '처음 느낀 설렘', '누구보다 사랑스러워', '고갤 돌리면 그대 미소에', '나도 몰래 손을 뻗죠 이렇게', 'Cause you are', '내게 내린 빛과', 'You are 너무 고운 꿈과', '일곱 빛으로 온 세상을', '더 아름답게 물들여', '언제나 Yeah U R', '내 창을 적신 비가 그치면', 'Under the Rainbow', '그대 기다리겠죠', '차마 난 하지 못했던', '얘기 못했던 그 모든 비밀', '오늘은 전하고 싶어', 'You are 항상 나의 곁에', 'You are 여린 내 맘 속에', '더 눈부시게 아름답게', '온 밤하늘을 채우는', \"You're my star\", 'Yeah U R', 'Oh U R U R Oh U R']\n"
          ]
        },
        {
          "metadata": {
            "tags": null
          },
          "name": "stderr",
          "output_type": "stream",
          "text": [
            "\r 73%|███████▎  | 155/211 [1:09:06<25:39, 27.48s/it]"
          ]
        },
        {
          "metadata": {
            "tags": null
          },
          "name": "stdout",
          "output_type": "stream",
          "text": [
            "25\n",
            "['어리석은 세상은 너를 몰라', '누에 속에 감춰진 너를 못 봐', '나는 알아 내겐 보여', '그토록 찬란한 너의 날개', '겁내지마 할 수 있어', '뜨겁게 꿈틀거리는', '날개를 펴 날아올라 세상 위로', '태양처럼 빛을 내는 그대여', '이 세상이 거칠게 막아서도', '빛나는 사람아 난 너를 사랑해', '널 세상이 볼 수 있게 날아 저 멀리', '꺾여 버린 꽃처럼 아플 때도', '쓰러진 나무처럼 초라해도', '너를 믿어 나를 믿어', '우리는 서로를 믿고 있어', '심장의 소릴 느껴봐', '힘겹게 접어 놓았던', '날개를 펴 날아올라 세상 위로', '벅차도록 아름다운 그대여', '이 세상이 차갑게 등을 보여도', '눈부신 사람아 난 너를 사랑해', '널 세상이 볼 수 있게 날아 저 멀리', '이 세상이 거칠게 막아서도', '빛나는 사람아 난 너를 사랑해', '널 세상이 볼 수 있게 날아 저 멀리']\n"
          ]
        },
        {
          "output_type": "stream",
          "name": "stderr",
          "text": [
            "\r 74%|███████▍  | 156/211 [1:09:19<21:07, 23.04s/it]"
          ]
        },
        {
          "output_type": "stream",
          "name": "stdout",
          "text": [
            "52\n",
            "['난 알아', '너와 나의 시작이 어땠었는지', '난 알아 우리의 첫 만남이', '얼마나 소중했는지', '시간이 지나가면서', '우린 남들이 모르게', '좋은 추억들을 쌓아갔던 거야', '있지 알지는 모르겠지만', '나 네 편지를 찾아', '알고 있었겠지만', '네게서 내 이야길 찾아', '가끔씩 너의 모습이', '눈에 띌 때면 네게', '말을 걸고 싶어지는', '날 넌 알고 있을까', '난 이제 좋은 사람이', '될 수 있을 것 같은데', '떠나지 않을 자신이', '정말 너무 있는데', '그때 난 사랑이', '필요한지도 몰랐었는데', '넌 지금 X X X oh', '우우우우 네가 없어', '우우우 목소리도 없어', '우우우 널 기다려봐도', '없어 없어 X oh', '있지 알지는 모르겠지만', '나 네 편지를 찾아', '알고 있었겠지만', '네게서 내 이야길 찾아', '가끔씩 너의 모습이', '눈에 띌 때면 네게', '말을 걸고 싶어지는 날', '넌 알고 있을까', '난 이제 좋은 사람이', '될 수 있을 것 같은데', '떠나지 않을 자신이', '정말 너무 있는데', '그때 난 사랑이', '필요한지도 몰랐었는데', '넌 지금 X X X oh', '난 이제 좋은 사람이', '될 수 있을 것 같은데', '떠나지 않을 자신이', '정말 너무 있는데', '그때 난 사랑이', '필요한지도 몰랐었는데', '넌 지금 X X X oh', '우우우우 네가 없어', '우우우 목소리도 없어', '우우우 널 기다려봐도', '없어 없어 X oh']\n"
          ]
        },
        {
          "output_type": "stream",
          "name": "stderr",
          "text": [
            "\r 74%|███████▍  | 157/211 [1:09:45<21:41, 24.09s/it]"
          ]
        },
        {
          "output_type": "stream",
          "name": "stdout",
          "text": [
            "23\n",
            "['당신이 얼마나 내게', '소중한 사람인지', '세월이 흐르고 보니', '이제 알 것 같아요', '당신이 얼마나 내게', '필요한 사람인지', '세월이 지나고 보니', '이제 알 것 같아요', '밤하늘에 빛나는', '별빛 같은 나의 사랑아', '당신은 나의 영원한 사랑', '사랑해요 사랑해요', '날 믿고 따라준 사람', '고마워요 행복합니다', '왜 이리 눈물이 나요', '밤하늘에 빛나는', '별빛 같은 나의 사랑아', '당신은 나의 영원한 사랑', '사랑해요 사랑해요', '날 믿고 따라준 사람', '고마워요 행복합니다', '왜 이리 눈물이 나요', '왜 이리 눈물이 나요']\n"
          ]
        },
        {
          "output_type": "stream",
          "name": "stderr",
          "text": [
            "\r 75%|███████▍  | 158/211 [1:09:57<18:00, 20.39s/it]"
          ]
        },
        {
          "output_type": "stream",
          "name": "stdout",
          "text": [
            "61\n",
            "['길거리를 걷다 보면', '사랑 노래만 흘러나와', '나는 왜 저런 게 낯설까', '난 한국말까지 서툴러', '번역기도 전혀 도움 안 돼', '네 맘엔 어떨까 걱정만', '어떤 단어를 쓸지 I don’t know', '어떤 말을 할지 I don’t know', '나는 왜 이런지 I don’t know', 'You’re on my mind', '어떤 단어를 쓸지 I don’t know', '어떤 말을 할지 I don’t know', '나는 왜 이런지 I don’t know', 'You’re on my mind', 'Baby 정말 생각 안 나', 'Body language로 자신 있어', '보여줄게', 'girl just give me some your time', '너를 보면 손에 땀 나', '긴장 풀게 한 번 웃어줘', 'Let me take u on a magic carpet ride', '손을 잡아 따라와', '맑은 날씨 보름달', '가르쳐줘 오늘 밤', '가나다라마바사', '손을 잡아 따라와', '맑은 날씨 보름달', '가르쳐줘 오늘 밤', '가나다라마바사', '너무 완벽하지 않아도', '걱정 마 네 맘을 조금 알 것 같아', '네게 좀 더 다가서 볼까', '고민해 매일 밤', '길거리를 걷다 보면', '계속 계속 네 생각이 나', '이런 내 모습이 왜 낯설까', '번역기 위에서', '헤매는 네 손가락까지', '자꾸만 생각이 나는 걸', 'Body language도 나는 괜찮아', 'But 생각 안 나면 그냥 웃어줘', '모든 것을 알려줄게 오늘 밤', '내가 나쁜 남자처럼 보여도', '너를 볼 때면 맘이 여려져', 'I wouldn’t mind if I died in your arms', '손을 잡아 따라와', '맑은 날씨 보름달', '가르쳐줘 오늘 밤', '가나다라마바사', '손을 잡아 따라와', '맑은 날씨 보름달', '가르쳐줘 오늘 밤', '가나다라마바사', '손을 잡아 따라와', '맑은 날씨 보름달', '가르쳐줘 오늘 밤', '가나다라마바사', '손을 잡아 따라와', '맑은 날씨 보름달', '가르쳐줘 오늘 밤', '가나다라마바사']\n"
          ]
        },
        {
          "output_type": "stream",
          "name": "stderr",
          "text": [
            "\r 75%|███████▌  | 159/211 [1:10:28<20:32, 23.69s/it]"
          ]
        },
        {
          "output_type": "stream",
          "name": "stdout",
          "text": [
            "30\n",
            "['내 마음 한 켠에 놓아둔', '빛바랜 사진첩을 펼쳐보아요', '서툴기만 했었던 우리 모습은', '돌아보니 사랑이었죠', '저 먼 밤에는 그대와', '속삭인 말들 향기처럼 남아서', '작은 창문 틈 사이로 스며들어와', '까만 방 안을 밝혀주네요', '우리 이별을 마주하던 그 밤 아래', '내 발자국을 새겨놓아요', '언젠가 그대도 들르려나', '곁에 두는 말', '보고싶어 보고싶어 그대', '가는 시간에 멀어진', '우리 추억은 옅어져 가겠지만', '잠들 수 없는 밤이면 다시금 찾아와', '까만 밤 위에 수놓이네요', '우리 이별을 마주하던 그 밤 아래', '내 발자국을 새겨놓아요', '언젠가 그대도 들르려나', '곁에 두는 말', '보고싶어 보고싶어 그대', '혹시 마음 시린 계절이 온다면', '그대 한 번쯤 이 밤을 찾을까요', '우리 서로를 마주했던 그 밤 아래', '나의 마음을 새겨놓아요', '언젠가 그대에게 닿을까 전하고픈 말', '보고싶어 보고싶어 그대', '우리 마주하면 웃을 수 있을까', '보고싶고 보고싶은 그대']\n"
          ]
        },
        {
          "output_type": "stream",
          "name": "stderr",
          "text": [
            "\r 76%|███████▌  | 160/211 [1:10:43<17:55, 21.10s/it]"
          ]
        },
        {
          "output_type": "stream",
          "name": "stdout",
          "text": [
            "36\n",
            "['떠나거든 내 소식이 들려오면', '이제는 모른다고 해줘 ', '언제나 내 맘속에서 ', '커져만 갔던 너를 ', '조금씩 나도 지우려 해 ', '사랑해 라고 말하고 싶었지만', '늘 미안하다고만 했던 나', '잊고 잊혀지고 지우고', '처음 만난 그때가 그리워진 사람', '다시 못 올 몇 번의 그 계절', '떠나버린 너의 모습을 ', '지우고 버리고 비워도', '어느 새 가득 차버린 내사랑', '안 된다고 사랑하면 안 된다고 ', '하지만 우린 함께했지 ', '언제나 내 마음이라 ', '사랑하던 맘이라 ', '그리 아파할 줄 몰랐어', '미안해 라고 안아주고 싶지만', '점이 돼버린 그 뒷모습', '잊고 잊혀지고 지우고', '처음 만난 그때가 그리워진 사람', '다시 못 올 몇 번의 그 계절', '떠나버린 너의 모습을 ', '지우고 버리고 비워도', '어느 새 가득 차버린 내사랑', '모든 게 나 때문인데 ', '왜 네가 더 힘들어', '네가 왜 내 맘을 위로해 ', '왜 ', '잊고 잊혀지고 지우고', '처음 만난 그때가 그리워진 사람', '다시 못 올 몇 번의 그 계절', '떠나버린 너의 모습을 ', '지우고 버리고 비워도', '어느 새 가득 차버린 내사랑']\n"
          ]
        },
        {
          "output_type": "stream",
          "name": "stderr",
          "text": [
            "\r 76%|███████▋  | 161/211 [1:11:02<16:55, 20.32s/it]"
          ]
        },
        {
          "output_type": "stream",
          "name": "stdout",
          "text": [
            "73\n",
            "['분위기 살려 어머 사람 살려', \"Let's give it up\", 'live it up baby', '나팔바지', '세상이 나를 뭐라 판단해도', '그냥 사는 거야 생긴 대로', '나팔바지를 입고서', '짝다리를 짚고서', '한쪽 다리를 떨면서', '건들건들 거리면서', '멋있진 않지만 가끔 멋지지 나', '웃긴 놈이지만 우습진 않지 나', '맛이 안 가지', '나 원래 맛 간 놈이니까', '얼굴 두껍지만 지갑도 두껍지 나', '내 신발은 광이 나지', '내 여자는 쌈빡하지', '내 어깨 뽕 들어가지', '내 바지는 나팔바지', '나팔바지 에헤라디야', '나팔나팔나팔', '나팔바지 에헤라디야', '나팔나팔나팔', '밤새고 달려 아무도 못 말려', 'everybody 날라리들의 파티', '분위기 살려 어머 사람 살려', \"Let's give it up\", 'live it up baby', '나팔바지', '애쓴다고 안될 게 되지 않아', '걱정은 옆집 개나 줘버려', '에너지 모아 모아서', '파도 한잔 돌리고', '신나면 허리 돌리고', 'would u shut up and let it go', '틀린 게 아니야 다른 것뿐이야', '판단을 하지마 그냥 느끼라니까', '다르다고 틀리다고', '하지말란 말씀이야', '인마 인마 하지마 ', '듣는 인마 기분 나빠 인마 ', '내 신발은 광이 나지', '내 여자는 쌈빡하지', '내 어깨 뽕 들어가지', '내 바지는 나팔바지', '나팔바지 에헤라디야', '나팔나팔나팔', '나팔바지 에헤라디야', '나팔나팔나팔', '밤새고 달려 아무도 못 말려', 'everybody 날라리들의 파티', '분위기 살려 어머 사람 살려', \"Let's give it up\", 'live it up baby', '나팔바지', '나팔바지', '이팔청춘 이판사판 도개걸윷모 중에', \"모 아니면 도 Let's go\", '이팔청춘 이판사판 도개걸윷모 중에', \"모 아니면 도 Let's go\", '도개걸윷모 중에', \"모 아니면 도 Let's go\", '내 바지는 나팔바지', '나팔바지 에헤라디야', '나팔나팔나팔', '나팔바지 에헤라디야', '나팔나팔나팔', '밤새고 달려 아무도 못 말려', 'everybody 날라리들의 파티', '분위기 살려 어머 사람 살려', \"Let's give it up\", 'live it up baby', '나팔바지']\n"
          ]
        },
        {
          "output_type": "stream",
          "name": "stderr",
          "text": [
            "\r 77%|███████▋  | 162/211 [1:11:39<20:38, 25.28s/it]"
          ]
        },
        {
          "output_type": "stream",
          "name": "stdout",
          "text": [
            "81\n",
            "['난 너를 사랑해', \"Let's go\", 'Yes sir', \"We're back again with 이문세\", \"That's right\", 'Fresh celebration 2008', \"It's bigbang\", 'ye ye bust it', '그댄 아시나요 있잖아요', '지금 그대가 너무 그리워요', '고개 숙여 눈물 훔쳐요', '당신의 이름을 불러요', '꼭 이렇게 날 남겨두고', '떠나가야만 했는지', '너만 생각하면 머리 아퍼', '독하디 독한 술 같어', '술 뿐이겠어 병이지', '매일 앓아누워 몇 번인지', '내일이면 또 잠깐 잊었다가 또', '모레쯤이면 생각나겠지만', '그래도 어떡해', '아직 내 사랑 유효한데', '돌아올 거라고 믿는데', '난 너만 기다리는데', '난 너를 사랑해', 'Oh I love you girl', '이 세상은 너 뿐이야', '소리쳐 부르지만', '저 대답 없는 노을만 붉게 타는데', '혹시 그대가 미안해한다면', '내 얼굴 보기 두렵다면', 'Girl 그런 걱정 하덜덜덜 마', '너라면 힘이 펄펄펄 나', '보고 싶은 그대 얼굴', '저 붉은 노을을 닮아', '더 슬퍼지는 걸', 'Oh baby baby', '다 지나간 시간', '우리가 함께한 추억', '잊진 말아줘요 눈을 감아', '소리 없이 날 불러준다면', '언제라도 달려 갈께요', 'Everyday everynight', 'I need you', '난 너를 사랑해', 'Oh I love you girl', '이 세상은 너 뿐이야', '소리쳐 부르지만', '저 대답 없는 노을만 붉게 타는데', '아름다웠던 그대 모습을', '이젠 볼 순 없겠지만', '후횐 없어 그저 바라볼 수 있게', '붉게 타주오', 'Ah Ah Ah Ah Ah Ah Ah Ah', \"Let's go\", 'Ah Ah Ah Ah Ah Ah Ah Ah', '해가 뜨고 해가 지네', '노을 빛에 슬퍼지네', '달이 뜨고 달이 지네', '세월 속에 나 또한 무뎌지네', '해가 뜨고 해가 지네', '노을 빛에 슬퍼지네', '달이 뜨고 달이 지네', '그대 기억 또한 무뎌지네', '난 너를 사랑해', 'Oh I love you girl', '이 세상은 너 뿐이야', '소리쳐 부르지만', '저 대답 없는 노을만 붉게 타는데', '난 너를 사랑해', 'I love you girl', '이 세상은 너 뿐이야', '소리쳐 부르지만', '저 대답 없는 노을만 붉게 타는데', 'Once again', 'Ah Ah Ah Ah Ah Ah Ah Ah', \"Let's go\", 'Ah Ah Ah Ah Ah Ah Ah Ah', 'big bang', ' ', ' ']\n"
          ]
        },
        {
          "output_type": "stream",
          "name": "stderr",
          "text": [
            "\r 77%|███████▋  | 163/211 [1:12:21<24:14, 30.31s/it]"
          ]
        },
        {
          "output_type": "stream",
          "name": "stdout",
          "text": [
            "32\n",
            "['천천히 숫자를 거꾸로 세고', '난 이제 떠나보려 해', '아득히 네게서 멀어질 거야', '그럼 난 이 별과 이별을 할래', '너는 어느새 작은 점이 돼', '창백한 저 야광별처럼', '한껏 설렜고 흠뻑 울었던', '시간들을 스쳐가는 길', 'Good bye bye', '이제는 안녕', '저기 멀리 내가 사랑한 곳', '만약 다시 너의 이름을 듣게 된다면', '웃어볼게 어렴풋하게', '멀리서 외치는 작별 인사가', '언젠가 닿기를 바래', '좋았던 날들을 두고 갈 테니', '너는 늘 그렇게 예쁘길 바래', '너의 눈 속엔 내가 없는데', '너무 오래 머물러왔어', '들뜬 마음과 우울까지 다', '내려두고 돌아가야지', 'Good bye bye', '이제는 안녕', '저기 멀리 내가 사랑한 곳', '만약 다시 너의 이름을 듣게 된다면', '웃어볼게 어렴풋하게', '세상 끝에서 난 다시 뛰어올라', '언덕 너머 저편으로 fly', '나의 멋진 우주여 안녕', '비록 끝이 여기까지라도', '진짜 안녕 너를 향한 내 마지막 인사', '사랑했던 나의 너에게']\n"
          ]
        },
        {
          "output_type": "stream",
          "name": "stderr",
          "text": [
            "\r 78%|███████▊  | 164/211 [1:12:37<20:24, 26.05s/it]"
          ]
        },
        {
          "output_type": "stream",
          "name": "stdout",
          "text": [
            "47\n",
            "[\"I'm gonna miss this moment uh\", 'Remember us 먼 훗날이 오면 ', \"I'm gonna miss this moment uh\", 'Remember us 먼 훗날이 오면', '지금은 나 행복한데 ', '그래서 나 걱정이 돼 ', '너무 많이 행복해서 걱정이 돼 ', '죽을 때까지 그리울까 봐 그리울까 봐 Oh', '우리 헤어지기 위해 ', '만난 건 아닌데 ', '헤어지겠지 Oh', '우리 운명 같은 만남', '분명한 건 하나', '잊혀지겠지 Yeah', '영원히 추억하고 싶어 ', '영원히 추억하고 싶어 ', '오늘 우리의 기억들을 오래 기억하고 싶어 Yeah ', 'Nothing is forever ever', 'Used to say never never', '지금 이 함성마저 ', '서서히 기억 속 희미한 속삭임이 될 거야 ', '메아리가 되어 ', '언젠가 돌아와도 낯선 인기척 정도가 될까 봐', '이 순간을 부둥켜 ', 'Let me hear you scream a little longer', '그래 난 이 조명을 벗는 그 순간 벌거벗은 느낌', 'Don’t say it’s over', '영원해 지금 영원해', 'This moment is the moment', '완벽해 뭘 더 원해', '달이 해를 뱉어낼 때까지 밤새 Follow me', 'Ain’t nothin’ higher ', 'No king no queen and no government ', 'So come what may', 'Baby make some noise', 'Make some noise', 'For me for me for me', '영원히 추억하고 싶어', '영원히 추억하고 싶어 ', '오늘 우리의 기억들을 오래 기억하고 싶어 Yeah ', '영원히 추억하고 싶어', '영원히 추억하고 싶어 ', '오늘 우리의 기억들을 오래 기억하고 싶어 Yeah ', \"I'm gonna miss this moment uh\", 'Remember us 먼 훗날이 오면 ', \"I'm gonna miss this moment uh\", 'Remember us 먼 훗날이 오면']\n"
          ]
        },
        {
          "output_type": "stream",
          "name": "stderr",
          "text": [
            "\r 78%|███████▊  | 165/211 [1:13:00<19:25, 25.34s/it]"
          ]
        },
        {
          "output_type": "stream",
          "name": "stdout",
          "text": [
            "35\n",
            "[' ', '나도 몰래 사랑했나봐 ', '아프도록 사랑했나봐 ', '시간 흐르고 흐르고 흘러도 ', '그대라는 사람 못 잊을것 같아요 ', '나도 몰래 사랑했나봐 ', '가슴아픈 사연을 담고 ', '눈물 흐르고 흐르고 흘러도 ', '나를 위로 해줄 그대라는 사람을 ', '아~ 두번 다시 ', '아~ 못할 사랑 ', '가슴 찢어지는 아픔이 와도 ', '그대만 사랑할래요 ', '내 평생에 단 하나 소원 ', '그대 사랑하다 죽는 일 ', '다음 세상 외면 말아요 ', '그때 꼭 다시 만나요 ', ' ', '나도 몰래 사랑했나봐 ', '아프도록 사랑했나봐 ', '시간 흐르고 흐르고 흘러도 ', '그대라는 사람 못 잊을것 같아요 ', '나도 몰래 사랑했나봐 ', '가슴아픈 사연을 담고 ', '눈물 흐르고 흐르고 흘러도 ', '나를 위로 해 줄 그대라는 사람을 ', '아~ 두번 다시 ', '아~ 못할 사랑 ', '가슴 찢어지는 아픔이 와도 ', '그대만 사랑할래요 ', '내 평생에 단 하나 소원 ', '그대 사랑하다 죽는 일 ', '다음 세상 외면 말아요 ', '그때 꼭 다시 만나요 ', '그때 꼭 다시 만나요 ']\n"
          ]
        },
        {
          "output_type": "stream",
          "name": "stderr",
          "text": [
            "\r 79%|███████▊  | 166/211 [1:13:19<17:26, 23.25s/it]"
          ]
        },
        {
          "output_type": "stream",
          "name": "stdout",
          "text": [
            "59\n",
            "['Yeah ', '아무 생각 없이 평소와 같이 ', '보통 사람들과 만나 웃고 말하지', '밤이 되면 TV가 내 유일한 친구고', '아침해가 떠오르면은 ', '그제서야 잠이 들죠', '너무 초라해 나 널 많이 좋아했나봐', '네가 떠난 후 파란 하늘 내 눈엔 ', '노랗게만 보여', '그댄 어디서 아파해요 나 여기 있어', '아님 혹시 다른 사람과 다른 ', '사랑하니 보고싶어 my baby', '내 맘은 이리 울적한데 말할 ', '사람이 없다', '나도 가끔 활짝 웃고 싶은데 ', '곁엔 아무도 없다', \"Maybe i'm missing you oh oh\", \"Maybe i'm missing you oh oh\", \"Maybe i'm missing you oh oh\", \"Maybe i'm missing you\", '그땐 그랬지 ', '우리사인 투명하고 깨끗했지', '처음에는 애틋했지 ', '다들 그래 알면서 왜 그랬지', 'why 갈수록 유리 깨지듯 ', '손에 낀 반지가 빛 바래지듯', '날카로운 칼에 베이듯 ', '속박이란 사슬에 목이 죄이듯', '늘 좋을 줄 만 알았던 ', '너와의 기억도', '풀리지 않던 오해 및 상처만 남아 ', '싫어도 헤어져란 말은 ', '끝까지 참았어야만 했는데', '그래도 싸우고 다투던 ', '그때가 지금보단 나았을텐데', '내 맘은 이리 울적한데 말할 ', '사람이 없다', '나도 가끔 활짝 웃고 싶은데 ', '곁엔 아무도 없다', \"Maybe i'm missing you oh oh\", \"Maybe i'm missing you oh oh\", \"Maybe i'm missing you oh oh\", \"Maybe i'm missing you\", '나는 아직도 매일 눈을 뜨면 ', '네가 옆에 있는 것만 같아', '우리 함께했던 많은 시간들 ', '되돌릴 순 없나 아 아 아', '내 맘은 이리 울적한데 말할 ', '사람이 없다', '나도 가끔 활짝 웃고 싶은데 곁엔 ', '아무도 없다 아 아 아 아', '내 맘은 이리 울적한데 말할 ', '사람이 없다', '나도 가끔 활짝 웃고 싶은데 ', '곁엔 아무도 없다', \"Maybe i'm missing you oh oh\", \"Maybe i'm missing you oh oh\", \"Maybe i'm missing you oh oh\", \"Maybe i'm missing you\"]\n"
          ]
        },
        {
          "output_type": "stream",
          "name": "stderr",
          "text": [
            "\r 79%|███████▉  | 167/211 [1:13:49<18:32, 25.27s/it]"
          ]
        },
        {
          "output_type": "stream",
          "name": "stdout",
          "text": [
            "41\n",
            "['아침에 눈을 떴을때 너를', '길을 걷다 멍하니 너를', '지금은 내곁에 없는 너를', '그리워하네 바보처럼', '나보다 행복하기를 바래', '워 내 생각하지 않기를 바래', '더 좋은 사람 만나길 바래', '다시는 내게 올 수 없게', '안개처럼 사라져 간', '다시 못 올 지난 날', '함께한 추억 모두 흘려 보낼게', '널 잊어야해 힘들어도', '널 지워야해 기억속에서', '니가 떠난 후에 난', '죽을 것 같이 아파도', '두번 다시 울지 않을게', '잊을게', '잊을게', '아직도 휴대폰에 네 이름', '지우지도 못하고 있어', '전화기 들고 한참을 서서', '널 생각하네 바보처럼', '안개처럼 사라져간', '다시 못 올 그 지난 날', '함께한 추억 모두 흘려 보낼게', '널 잊어야해 힘들어도', '널 지워야해 기억속에서', '니가 떠난 후에 난', '죽을 것 같이 아파도', '다시는 너를 찾지 않아', '아침에 눈을 떴을 때 너를', '길을 걷다 멍하니 너를', '지금은 내 곁에 없는 너를', '그리워하네 바보처럼', '잊을게 잊을게', '잊을게 잊을게', '잊을게 잊을게', '잊을게', '잊을게', '잊을게', ' ']\n"
          ]
        },
        {
          "output_type": "stream",
          "name": "stderr",
          "text": [
            "\r 80%|███████▉  | 168/211 [1:14:10<17:08, 23.92s/it]"
          ]
        },
        {
          "output_type": "stream",
          "name": "stdout",
          "text": [
            "59\n",
            "['내 몸이 확', '머리가 휙', '돌아가 어때', '지금 기분이', '우리는 마치', '자석 같아', '서로를 안고', '또 밀쳐내니까', '너는 날 미치게 하고', '정신 못 차리게 해', '그래 알겠지 넌 참', '날 기가 막히게 해', '너는 날 춤추게 하고', '술 없이 취하게 해', '그래 알겠지 넌 참', '착한 날 독하게 해', '우리 둘만의', '이 영화에', '진짜 주인공은 너였어 baby', '그래 넌 오늘도 너답게', '화려한 주인공처럼', '그저 하던 대로 해', '그게 악역이라도', '나를 슬프게 해도', '넌 너여야만 해', '내가 아플지라도', '슬픈 엔딩이라도', 'the show must go on', 'the show must go on', '너는 늘 끝장을 보고', '모든 걸 덮으려 해', '왜 날개를 달아주고', '추락하자 해', '너는 늘 착하지 라며', '날 눈물 삼키게 하잖아', '그래 알겠지 알겠지', '넌 날 혹하게 해', '우리 둘만의', '이 드라마에', '진짜 주인공은 너였어 baby', '그래 넌 오늘도 너답게', '화려한 주인공처럼', '그저 하던 대로 해', '그게 악역이라도', '나를 슬프게 해도', '넌 너여야만 해', '내가 아플지라도', '슬픈 엔딩이라도', 'the show must go on', 'the show must go on', '그저 하던 대로 해', '그게 악역이라도', '나를 슬프게 해도', '넌 너여야만 해', '내가 아플지라도', '슬픈 엔딩이라도', 'the show must go on', 'the show must go on', 'you must go on']\n"
          ]
        },
        {
          "output_type": "stream",
          "name": "stderr",
          "text": [
            "\r 80%|████████  | 169/211 [1:14:39<17:57, 25.64s/it]"
          ]
        },
        {
          "output_type": "stream",
          "name": "stdout",
          "text": [
            "49\n",
            "['술 한잔해요 날씨가 쌀쌀하니까', '따끈따끈 국물에', '소주 한잔 어때요', '잘 지내니 지친 하루에 끝에', '위로가 돼주던 한 사람', '사실 가끔씩 네 소식을', '찾아보곤 해 먹먹해진 기분', '술잔 속에 너를 가득 채워', '그리움을 넘기네', '보이지 않던 것들 보여', '여전히 아쉬움 들만', '달콤했던 말 행복 섞인 표정까지도', '괜찮다면 나와요', '우리의 사랑이 뜨겁던 우리의 사랑을', '키웠던 그 집에서 먼저 한잔했어요', '조금 취했나 봐요', '그대가 내 앞에 있는 것 같아', '바보처럼 자꾸 눈물이 나요', '그대 마음이 차갑게 식어 갔듯이', '따뜻했던 국물도 점점 식어가네요', '가볍던 주머니 날 감싸주던 손 길', '하필 이제서야 생각이 나', '우리 함께 자주 가던', '사거리 앞 작은 술집', '마주 앉은 애틋한 밤', '술잔 속에 너를 가득 채워', '그리움을 넘기네', '비틀거리는 하루 매섭게', '더 차가운 날씨', '전화라도 해볼까', '보고 싶어 누르지 못했지만', '괜찮다면 나와요', '우리의 사랑이 뜨겁던 우리의 사랑을', '키웠던 그 집에서 먼저 한잔했어요', '조금 취했나 봐요', '그대가 내 앞에 있는 것 같아', '바보처럼 자꾸 눈물이 나요', '술잔 속에 눈물이 마음속에', '그대가 흘러넘치잖아', '몇 잔을 마셔도', '너를 너를 잊지 못할 걸 알아', '쓰디쓴 술잔에 기대면 네가 보였어', '이 한 잔에도 금세 붉어 지던 두 볼', '따스함이었어 너라는 계절은', '늦게라도 와줘요', '나 혼자 이렇게 울게 하지 마', '우린 항상 같이 있었으니까', '사랑해요 사랑해요', '사랑하기 싫어서 미치겠어']\n"
          ]
        },
        {
          "output_type": "stream",
          "name": "stderr",
          "text": [
            "\r 81%|████████  | 170/211 [1:15:05<17:26, 25.53s/it]"
          ]
        },
        {
          "output_type": "stream",
          "name": "stdout",
          "text": [
            "40\n",
            "['이 세상엔 오직 절망뿐이라', '한탄하는 이들', '들리나요 이 작은 외침이', '귀 기울여 들어줘요', '절망 속에 흘린 눈물이', '아름답게 반짝일 때', '실수로 밟은 작은 꽃이', '아랑곳 않고 다시 일어설 때', '조각조각 찢어진 꿈들을', '하나하나 모아서 희망이라 불러요', '이 세상엔 오직 어둠뿐이라', '한숨 쉬는 이들', '틀렸나요 내 작은 외침이', '다시 들어봐줘요', '녹슬어버린 기타 줄이', '아름다운 노랠 할 때', '실수로 밟은 작은 꽃이', '아랑곳 않고 다시 일어설 때', '조각조각 찢어진 꿈들을', '하나하나 모아서 희망이라 불러요', '조각조각 찢어진 꿈들을', '하나하나 모아서 희망이라 불러요', '흩어진 꿈을 모아서 외쳐요', '희망이라고', '흩어진 꿈을 모아서 외쳐요', '희망이라고', '흩어진 꿈을 모아서 외쳐요', '희망이라고', '흩어진 꿈을 모아서 외쳐요', '희망이라고', '희망이라고', '희망이라고', '흩어진 꿈을 모아서', '흩어진 꿈을 모아서', '흩어진 꿈을 모아서', '흩어진 꿈을 모아서', '흩어진 꿈을 모아서', '흩어진 꿈을 모아서', '흩어진 꿈을 모아서', '흩어진 꿈을 모아서']\n"
          ]
        },
        {
          "output_type": "stream",
          "name": "stderr",
          "text": [
            "\r 81%|████████  | 171/211 [1:15:24<15:54, 23.86s/it]"
          ]
        },
        {
          "output_type": "stream",
          "name": "stdout",
          "text": [
            "21\n",
            "['가야 한대요 ', '가야 한대요 ', '이 한 잔 커피를 마시고 나면', '처음으로 돌아가야 한대요 ', '자기 밖에 모르도록', '모르도록 만들어 놓고', '남의 사람 되려고 간대요 글쎄 ', '남의 사람 되려고 간대요 글쎄 ', '싸늘한 커피 잔에 이별을 남기고', '돌아가야 한대요 ', '글쎄 간대요 ', '글쎄 간대요 ', '이 한 잔 커피를 마시고 나면', '타인으로 돌아가야 한대요 ', '자기 밖에 모르도록', '모르도록 만들어 놓고', '남의 사람 되려고 간대요 글쎄 ', '남의 사람 되려고 간대요 글쎄 ', '텅 빈 커피잔에 눈물을 남기고', '글쎄 가야 한대요 ', '글쎄 가야 한대요 ']\n"
          ]
        },
        {
          "output_type": "stream",
          "name": "stderr",
          "text": [
            "\r 82%|████████▏ | 172/211 [1:15:35<12:57, 19.94s/it]"
          ]
        },
        {
          "output_type": "stream",
          "name": "stdout",
          "text": [
            "42\n",
            "['Listen to my favorite song', '같이 듣고 싶어서', '널 생각하며 담았어', '우리 둘의 이야기', '익숙함에 수줍어', '네게 하지 못한 말', '노랫말에 가득 담아', '너에게 전부 들려주고파', 'Play this song for me', '내 맘이 들리니', '우릴 닮은 멜로디', '가만, 귓가에 울리지', '너도 느끼니', '그때의 그 날의 feeling', 'Oh I love, Oh I love,', 'Oh I love the way we flow', 'La da da la da di', 'Oh I love, Oh I love,', 'Oh I love the way we flow', 'La da da la da di', 'Oh I love, Oh I love,', 'Oh I love the way we flow', '나의 모든 계절과', '너의 모든 순간이', '노래에 담겨 그대로 남아', '바람처럼 포근히 불어와', '깨지 않을 꿈이 되어 with you', '변치 않을 노랠 불러 주고파', 'Play this song for me', '내 맘이 들리니', '우릴 닮은 멜로디', '가만, 귓가에 울리지', '너도 느끼니', '그때의 그 날의 feeling', 'Oh I love, Oh I love,', 'Oh I love the way we flow', 'La da da la da di', 'Oh I love, Oh I love,', 'Oh I love the way we flow', 'La da da la da di', 'Oh I love, Oh I love,', 'Oh I love the way we flow']\n"
          ]
        },
        {
          "output_type": "stream",
          "name": "stderr",
          "text": [
            "\r 82%|████████▏ | 173/211 [1:15:57<12:54, 20.38s/it]"
          ]
        },
        {
          "output_type": "stream",
          "name": "stdout",
          "text": [
            "48\n",
            "['날 그리워했다고 하다니', '넌 참 이기적이네', '차라리 욕을 하고 말을 말지', '왜 또 나를 울게 해', '우리 이제 보지 말자고 다신', '맘에 못이 박힐 때', '난 너에게 기댄 소망을', '모두 지워버렸네', '아침에 속삭이고', '어쩌다 울먹이고', '그럼 니가 안아주던', '포근한 그런 기억들', '나 세상이 너무 싫어', '그런 투정을 부리면', '그래도 살아보자 하던 너', '널 지워버렸어', '내 세상이 무너지는 기분을 넌 아니', '아름다운 기억은 악몽이 돼 날 찾지 ', '서로 그리워해도 안녕 ', '우린 변하지 않아', '우린 다른 세상을 살고 ', '누구도 원망할 수 없다고 ', '니 맘은 여리다고 할지', '독기가 없었지', '그래서 넌 날 이해할 수 없지', '널 다시 울리게 해', '사실 나는 널 그리워하지', '하지만 어떡해', '우린 이미 결말을 봤지', '우리는 이렇게 ', '같이 뒹굴거리고', '니 머리칼을 넘기며', '좋은 사람이라 말하던', '포근한 그런 기억들', '나 세상이 너무 싫어', '그런 투정을 부리면', '그래도 살아보자 하던 너', '널 지워버렸어', '내 세상이 무너지는 기분을 넌 아니', '아름다운 기억은 악몽이 돼 날 찾지', '서로 그리워해도 안녕 ', '우린 변하지 않아', '우린 다른 세상을 살고 ', '누구도 원망할 수 없다고', '나 세상이 너무 싫어', '그런 투정을 부리면', '그래도 살아보자 하던 너', '이젠 안녕']\n"
          ]
        },
        {
          "output_type": "stream",
          "name": "stderr",
          "text": [
            "\r 82%|████████▏ | 174/211 [1:16:21<13:17, 21.56s/it]"
          ]
        },
        {
          "output_type": "stream",
          "name": "stdout",
          "text": [
            "86\n",
            "['어항 속에 갇힌', '고기들보다', '어쩌면 내가 좀 더', '멍청할지 몰라', '너가 먹이처럼 던진', '문자 몇 통과', '너의 부재중 전화는', '날 헷갈리게 하지', '너의 미모와', '옷 입는 스타일로', '미루어 보았을 때 ', '너의 어장의 크기는 수족관의', 'scale ', '단지 너 하나 때문에 ', '경쟁은 무척 험하고도 아득해', 'I wanna be your boy friend', 'not one of your', '생선', '허나 너에겐 늘 누군가가 옆에 있어', '이럴 때일수록 내 이미지를 위해선 ', '그저 쏘 쿨한 척 하는 게 최선', '임을 알기에', 'I said have a good time', '그날 밤 업데이트 된', '너의 페북의 담벼락엔', '여전히 물고기들이 하악 하악', '당연히 나도 그 중 하나 ', '하루 종일', '너란 바닷속을 항해하는', '나는 아쿠아맨 ', '헤엄 헤엄 헤엄 ', \"I'm rolling in the deep\", 'inside of you', '너의 어장은 너무 캄캄해', '헤엄 헤엄 헤엄', '손에 꼽을 정도로 아주 가끔씩', '엉뚱한 시간에 넌 내가 어딘지 묻지', '어디긴 니 마음이지라는 본심을', '속이며 차분하게 말했지 지금 집', '심상치 않은 징조', '심장은 보다 신속', '혹시 모를 급만남이', '꿈처럼 이루어', '질 수도 있을 것 같은', '느낌이 들어', '지금 너의 위치가 어디든', \"let's bring it on girl\", '통장 잔고는 가까스로 위기모면', '입을 옷도 이미 정했어 목걸이는', 'chrome hearts', 'but you said', '그런 거 아니고', \"please don't call me no more\", 'oh no', '하루 종일', '너란 바닷속을 항해하는', '나는 아쿠아맨 ', '헤엄 헤엄 헤엄 ', \"I'm rolling in the deep inside of you\", '너의 어장은 너무 캄캄해', '헤엄 헤엄 헤엄', '내 가슴은 회처럼 조각이 났지', \"u don't give a shit\", 'about my broken heart', '헤엄 헤엄 헤엄', '넌 딱 잘라 말했지 손톱깎이 같이', \"boy I don't give a shit\", 'about your stupid heart', '헤엄 헤엄 헤엄', '하루 종일', '너란 바닷속을 항해하는', '나는 아쿠아맨 ', '헤엄 헤엄 헤엄 ', \"I'm rolling in the deep\", 'inside of you', '너의 어장은 너무 캄캄해', '헤엄 헤엄 헤엄', 'bitch you gotta get yo mind right', '너의 얼굴과 몸이 영원할까', 'bitch you gotta get yo mind right', '너의 얼굴과 몸이 영원할까', 'bitch you gotta get yo mind right', '너의 얼굴과 몸이 영원할까', 'bitch you gotta get yo mind right', '너의 얼굴과 몸이 영원할까', 'nah']\n"
          ]
        },
        {
          "output_type": "stream",
          "name": "stderr",
          "text": [
            "\r 83%|████████▎ | 175/211 [1:17:06<17:05, 28.48s/it]"
          ]
        },
        {
          "output_type": "stream",
          "name": "stdout",
          "text": [
            "68\n",
            "['I hate my days ', '이유도 없이 답이 없는데 ', '지금 뭐할까 내 생각 할까 ', '텐션이 올라가질 않네 ', '오늘은 또 뭐라고 보낼까 ', 'I don’t know what’s on your mind ', '너도 날 좋아할까 ', '오늘도 내일도 나아지지가 않네 ', '만나서 같이 있음 분명 좋은 것 같애 ', 'I said no ', 'no more ', 'what should I do now ', '하루 종일 연락이 안돼 ', 'everything I do ', 'everything I do ', '네가 뭘 원하는지 모르겠어 ', '표현을 해도 대답은 모호해 ', '네 마음은 불안한 노란색 같애 ', 'it seems like ', 'yellow yellow yellow ', 'yellow yellow yellow ', 'yellow yellow yellow ', 'ya’ color is like that ', \"I dont know what to do it's like \", \"I dont know what to do it's like \", 'yellow yellow yellow ', 'ya’ color is like that ', 'I hate my days ', '또 하루 종일 헷갈리는데 ', '둘이 만나서 커피를 마셔도 ', '텐션이 올라가질 않네 ', '오늘도 왜 고백은 안할까 ', 'I don’t know what’s on your mind ', '너도 날 좋아할까 ', '오늘도 내일도 나아지지가 않네 ', '만나서 같이 있음 분명 좋은 것 같애 ', 'I said no ', 'no more ', 'what should I do now ', '하루 종일 연락이 안돼 ', 'everything I do ', 'everything I do ', '네가 뭘 원하는지 모르겠어 ', '표현을 해도 대답은 모호해 ', '네 마음은 불안한 노란색 같애 ', 'it seems like ', 'yellow yellow yellow ', 'yellow yellow yellow ', 'yellow yellow yellow ', 'ya’ color is like that ', \"I dont know what to do it's like \", \"I dont know what to do it's like \", 'yellow yellow yellow ', 'ya’ color is like that ', 'everything I do', 'everything I do', '네가 뭘 원하는지 모르겠어', '표현을 해도 대답은 모호해', '네 마음은 불안한 노란색 같애', 'it seems like', 'yellow yellow yellow', 'yellow yellow yellow', 'yellow yellow yellow', 'ya’ color is like that', \"I dont know what to do it's like\", \"I dont know what to do it's like\", 'yellow yellow yellow', 'ya’ color is like that']\n"
          ]
        },
        {
          "output_type": "stream",
          "name": "stderr",
          "text": [
            "\r 83%|████████▎ | 176/211 [1:17:40<17:40, 30.31s/it]"
          ]
        },
        {
          "output_type": "stream",
          "name": "stdout",
          "text": [
            "63\n",
            "['왜 이리 시끄러운 것이냐 ', '왜 이리 시끄러운 것일까 ', '왜 이리 시끄러운 것이냐 ', '왜 이리 시끄러운 것인가 ', '왜 이리 시끄러운 것이냐 ', '왜 이리 시끄러운 것일까 ', '왜 이리 시끄러운 것이냐 ', '왜 이리 시끄러운 것인가 ', '앞뒤 안 보이냐 존 시나 ', '그럼 까라고 거기나 ', '이게 내 마지막 mercy 야 ', '아니 나는 그냥 mush야 ', '누나야 지금이 몇 시야 ', '그럼 한 번 더 하는 것이야 ', '래퍼들 왜 이리 거지야 ', '아니 네 오빠만 거지야 ', '군대를 뺄려니 머리 아 프지만 ', '응 나는 아니야 ', '응 나는 갔다 왔으니깐 ', '까라면 까라면 까임 마 ', '난 한국 힙합의 싸이 야 ', '넌 파밍 하다 뜬 사이가 ', '약을 또 빨아야 합니까 ', '정신을 차려 이 자식아 ', '힙합 왜 이리 겉멋이야 ', '찐따 보다는 일진이야 ', '일 끝나면 가지 마사지 방 ', '오해 마 건전 마사지 야 ', '싸지마 싸지마 싸지마 ', '아가리로 똥 좀 싸지마 ', '넌 1호선 같은 이야 ', '그러고 보니 인천역이야 ', '여긴 많다면 양아치가 ', '걔네 만날 건 동현이야 ', 'Mc 말고 ufc 김 동 현 이야 ', '난 아주 현실적 사고야 ', '너 랩 오져도 면상 사고야 ', '뭔 만함 가사에 반지하 ', '용쓴다 힘내라 자식아 ', '세상 어려운 건 정치야 ', '네가 제일 잘하고 있는데도 ', '담배 한 대 피우고 보니깐 ', '충청도 가끔은 그리워요 ', '근데 우물 안 개구리가 ', '된 친구를 보고 있으니깐 ', '어쩌면 내 욕심인가 봐 ', '쟤 공무원 또 떨어지잖아 ', '왜 이리 시끄러운 것이냐 ', '왜 이리 시끄러운 것일까 ', '왜 이리 시끄러운 것이냐 ', '왜 이리 시끄러운 것인가 ', '왜 이리 시끄러운 것이냐 ', '왜 이리 시끄러운 것일까 ', '왜 이리 시끄러운 것이냐 ', '왜 이리 시끄러운 것인가 ', '왜 이리 시끄러운 것이냐', '왜 이리 시끄러운 것일까', '왜 이리 시끄러운 것이냐', '왜 이리 시끄러운 것인가', '왜 이리 시끄러운 것이냐', '왜 이리 시끄러운 것일까', '왜 이리 시끄러운 것이냐', '왜 이리 시끄러운 것인가']\n"
          ]
        },
        {
          "output_type": "stream",
          "name": "stderr",
          "text": [
            "\r 84%|████████▍ | 177/211 [1:18:12<17:30, 30.90s/it]"
          ]
        },
        {
          "output_type": "stream",
          "name": "stdout",
          "text": [
            "40\n",
            "['날 봐 날 봐 귀순 날 봐 날 봐 귀순_x000D_', '날 봐 날 봐 지금 당장 날 봐요_x000D_', '날 봐 날 봐 귀순 날 봐 날 봐 귀순_x000D_', '날 봐 날 봐 날 봐요_x000D_', '여보 당신 애기 뭐라 불러드릴까_x000D_', '내 님은 지금 무얼 하고 있을까_x000D_', '밥은 먹었을까 잠은 잘 잤을까_x000D_', '하루 왠 종일 우리 공주님 생각 뿐_x000D_', '가슴이 콩닥콩닥콩닥_x000D_', '사랑을 속닥속닥속닥_x000D_', '자기야 날 봐 어딜 봐 날 봐_x000D_', '내 정열을 그대에게 다 바치리_x000D_', '날 봐 날 봐 귀순 날 봐 날 봐 귀순_x000D_', '날 봐 날 봐 지금 당장 날 봐요_x000D_', '날 봐 날 봐 귀순 날 봐 날 봐 귀순_x000D_', '날 봐 날 봐 날 봐요_x000D_', ' ', '그대도 나를 떠올리고 있을까_x000D_', '하늘같은 서방님 기다렸을까_x000D_', '이런저런 행복한 고민 속에_x000D_', '하루가 또 흐르지요_x000D_', '눈물이 주루루루루루루룩_x000D_', '콧물이 후루루루루루루룩_x000D_', '배가 또 살랑살랑 간질간질_x000D_', '아 설레이는 그대 만의 향기여_x000D_', '날 봐 날 봐 귀순 날 봐 날 봐 귀순_x000D_', '날 봐 날 봐 지금 당장 날 봐요_x000D_', '날 봐 날 봐 귀순 날 봐 날 봐 귀순_x000D_', '날 봐 날 봐 날 봐요_x000D_', '너무 예뻐 정말 귀여워_x000D_', 'yo so sexy 앙 깨물어 주고 싶어_x000D_', '한 평생 다가도록 당신과 살고 싶어_x000D_', '내 청춘을 oh baby_x000D_', '날 봐 잘 봐 이 몸 짓을_x000D_', '날 봐 날 봐 귀순 날 봐 날 봐 귀순_x000D_', '날 봐 날 봐 지금 당장 날 봐요_x000D_', '날 봐 날 봐 귀순 날 봐 날 봐 귀순_x000D_', '날 봐 날 봐 날 봐요_x000D_', '귀순아_x000D_', ' ']\n"
          ]
        },
        {
          "output_type": "stream",
          "name": "stderr",
          "text": [
            "\r 84%|████████▍ | 178/211 [1:18:33<15:14, 27.71s/it]"
          ]
        },
        {
          "output_type": "stream",
          "name": "stdout",
          "text": [
            "115\n",
            "['See I just wanna', 'share the vibe with ya', '우리가 10년 뒤에도', '음악을 하고 있다면', '과연 없어질까 너와 내 Problems', '난 모두가 잘 되길 빌어', '이 말이 거짓말 같다 해도', '확실한 건 더 이상 상처를 주기 싫어', 'For real', \"Cuz nobody's perfect I know it\", '이제 와서 보니', '세상이 우릴 만들었다는 생각이 들어', '물론 I hurt you bad', '얻은 것보다도 잃은 게', '많은 것 같아', '사실 너도 알잖아', \"that we can't go back\", '당장엔 바꿀 수 없다는 것도 알아', '시간이 모든 것을', '해결해 주지는 않아', '그래도 말이야 더는 걱정하지 말아', '모든 게 지나면 웃으면서 보자', 'Meet me in Montauk', 'Good night', '내일이 오면', '사라져 버릴 것들에게 더 이상은', '정을 주지 말자', '내일이 오면', '아무 일 없던 것처럼 다 사라질 거야', '너무 걱정 말자', '여기 지하 방은 너무 어두워', 'For every night', \"there's a brighter day\", \"It'll be ok\", '여기 바퀴벌레 좀 잡아줘', 'For every night', \"there's a brighter day\", \"It'll be ok\", '살려줘 여기 사람 살아요', '추운 겨울이 지나야 봄이 오겠지', '그때 난 손목으로 시계를 보겠지', '난 시계를 보겠지', '우리 다시 만나기를 원했듯이', '이 또한 지나가지 내 열두시가', 'And I just wanna', 'share the vibe with ya', '친구는 떠나고', '나 혼자 남아', \"I don't wanna be alone but\", '다들 살아 남기도 바빠', '닮아 가지 모두가 like', 'Boi you better pay me proper', '그래 나도 알아', '영원한 건 없잖아', '당연하다고 믿어왔지만', '생각보다도 외로웠지', '이걸 어른이라고 부른다지만', '절대로 익숙해질 리 없지', '너와도 연락이 뜸해졌지', '서로 가는 길이 멀어져', 'I’ve been on the low', '가끔은 아무라도', '괜찮으니 내게 걸어줬으면 하지', '안부 전화라도', '시간을 돌린다면', '후회할 순간이 많아', '내 생각과 달라진 하루하루가', '숨 막히지만 어제가', '오늘이 될 순 없으니까', '내일이 온다면 예전과는 달라지길', '언젠가 너와 만나서 옛날 얘기하듯이', '쉽게 꺼냈으면 해 난 말했으면 해', '오늘이 무사히 지나가기를', '나는 기도해', '형들이 안 싸우기를', '내가 너무 동경했던', '그 자리에는 가시방석이 날 맞이했어', '나는 앉는 법을 배워', '어른이 되는 과정', '얘랑 친하면 걔랑은', '절대 친할 수 없다고 난', '내일 아침처럼 아무 생각이 없다', '두 팔을 크게 벌려 기지개를 켰다', '정신을 차려보니 아무도 없었던', '나의 어제는 빠르게 지나', '내일이 됐으면', '해 뜨고 해지고 해지는 나의 신발', '난 가진 것이 없이 여기 왔고', '많이 해쳐먹어도', '내 친구들은 아직 아파', '해 뜨고 해지고 해지는 나의 신발', '난 그만하고 나가고 싶어', '여기 지하방은 너무 어두워', '내일이 오면', '사라져 버릴 것들에게 더 이상은', '정을 주지 말자', '내일이 오면', '아무 일 없던 것처럼 다 사라질 거야', '너무 걱정 말자', '여기 지하 방은 너무 어두워', 'For every night', \"there's a brighter day\", \"It'll be ok\", '여기 바퀴벌레 좀 잡아줘', 'For every night', \"there's a brighter day\", \"It'll be ok\", '살려줘 여기 사람 살아요', 'Tomorrow Tomorrow', '눈을 감고 노랠 부르면', '몰랐던 답들이 내게 다가와', '손을 건네고', '보지 못했던 감동을', '너는 보게 될 거야', 'It’s alright']\n"
          ]
        },
        {
          "output_type": "stream",
          "name": "stderr",
          "text": [
            "\r 85%|████████▍ | 179/211 [1:19:32<19:47, 37.10s/it]"
          ]
        },
        {
          "output_type": "stream",
          "name": "stdout",
          "text": [
            "45\n",
            "['어제 잠을 너무 못 자', '예민해져버렸어', '커피 한잔이 너무나 필요해', '저기 벤치에 앉아서', '햇살을 맞을래요', '아무생각없이 멍때리게', 'Say 랄랄랄랄라', 'with a coffee in my heart', 'Say 랄랄랄랄라', 'with a coffee on the way', \"Don't touch me plz\", '아무 생각 말고 잠시 멈출래', '휴대폰 꺼놓고 잠시 잊을래', '아무 생각 말자', '생각 말자 잠시 멈출래', '바보처럼 잠시 멈출래', '어딘가로 떠나고파', '아무도 없는 곳으로', '따분한 일상이 너무 갑갑해', '나는 충전이 필요해', '위로가 필요해요', '답답함에 지쳐가고 있어', 'Say 랄랄랄랄라', 'with a coffee in my heart', 'Say 랄랄랄랄라', 'with a coffee on the way', \"Don't hold me plz\", '아무 생각 말고 잠시 멈출래', '휴대폰 꺼놓고 잠시 잊을래', '아무 생각 말자', '생각 말자 잠시 멈출래', '바보처럼 잠시 멈출래', '그냥 이대로 그냥 이대로', '잠시 내 맘을 내버려둬', '그냥 그대로 그냥 그대로', '잠시 내 맘을 내버려둬', '그냥 이대로 그냥 이대로', '잠시 내 맘을 내버려둬', '우우우우우우우', '우우우우우우우', '아무 생각 말고 잠시 멈출래', '휴대폰 꺼놓고 잠시 잊을래', '아무 생각 말자', '생각 말자 잠시 멈출래', '바보처럼 잠시 멈출래']\n"
          ]
        },
        {
          "output_type": "stream",
          "name": "stderr",
          "text": [
            "\r 85%|████████▌ | 180/211 [1:19:54<16:54, 32.74s/it]"
          ]
        },
        {
          "output_type": "stream",
          "name": "stdout",
          "text": [
            "25\n",
            "['우린 아직 흑백영화처럼 사랑하고', '언제라도 쉽고 빠르게 표현하고', '맘에 없는 말은 절대 고민하지 않고', '뭔가 아쉬울 땐 밤 지새우고', '남들이 아니라는 것도 상관없지', '우린 같은 템포 다른 노래인 거야', '아직 더 서투르고', '솔직해야 하지만', '반복에 기계처럼', '계산하고 준비된 사람들', '하지만', '자기야 나는 너를 매일 다른', '이유로 더 사랑했었고', '이젠 한시 오분 멈춰있는', '시계처럼 너 하나만 봐', '네가 없는 날은 어떻게든', '흘러가기만 기다려 ', '투명해진 날 누가 볼 수 있을까', '자기야 나는 너를 매일 다른', '이유로 더 사랑했었고', '이젠 한시 오분 멈춰있는', '시계처럼 너 하나만 봐', '네가 없는 날은 어떻게든', '흘러가기만 기다려 ', '투명해진 날 누가 볼 수 있을까']\n"
          ]
        },
        {
          "output_type": "stream",
          "name": "stderr",
          "text": [
            "\r 86%|████████▌ | 181/211 [1:20:07<13:24, 26.82s/it]"
          ]
        },
        {
          "output_type": "stream",
          "name": "stdout",
          "text": [
            "96\n",
            "['상처를 치료해줄 사람 어디 없나', '가만히 놔두다간 끊임 없이 덧나', '사랑도 사람도 너무나도 겁나', '혼자인 게 무서워', '난 잊혀 질까 두려워', '상처를 치료해줄 사람 어디 없나', '가만히 놔두다간 끊임 없이 덧나', '사랑도 사람도 너무나도 겁나', '혼자인 게 무서워', '난 잊혀 질까 두려워', '언제나 외톨이 맘의 문을 닫고', '슬픔을 등에 지고 살아가는 바보', '두 눈을 감고 두 귀를 막고', '캄캄한 어둠 속에 내 자신을 가둬', '365일 일년 내내', '방황하는 내 영혼을 쫓아', '키를 잡은 Jack Sparrow', '몰아치는 Hurricane', '졸라매는 허리끈에 ', '방향감을 상실하고', '길을 잃은 소리꾼', '내 안에 숨어있는 또 ', '다른 나와 싸워', '그녀가 떠나갈 때 내게 말했었지', '너는 곁에 있어도', '있는 게 아닌 것 같다고', '만지면 베어버리는 칼날 ', '같은 사람', '심장이 얼어붙은 차가웠던 사랑', '그래 1분 1초가 사는게 ', '사는게 아냐', '매일 매일이 너무나 두려워', \"M'aider 누가 날 좀 꺼내줘\", '언제나 외톨이 맘의 문을 닫고', '슬픔을 등에 지고 살아가는 바보', '두 눈을 감고 두 귀를 막고', '캄캄한 어둠 속에 내 자신을 가둬', '언제나 외톨이 맘의 문을 닫고', '슬픔을 등에 지고 살아가는 바보', '두 눈을 감고 두 귀를 막고', '캄캄한 어둠 속에 내 자신을 가둬', '아무도 모르게 다가온', '이별에 대면했을 때', '또 다시 혼자가 되는 게 두려워', '외면했었네', '꿈에도 그리던 지나간 시간이', '다시금 내게로 되돌아오기를', '바라는 간절한 맘으로', '밤마다 기도했었네', '시위를 당기고 내 손을 떠나간', '추억의 화살이 머나먼 ', '과녁을 향해서', '한없이 빠르게 날아가', '내게로 돌아와 달라고', '내 손을 붙잡아 달라고', '부르고 불러도 한없이 ', '소리쳐 대봐도', '아무런 대답이 없는 널', '내 기억 속에서', '너라는 사람의 존재를 ', '완전히 지우려', '끝없이 몸부림 쳐봐도', '매일밤 꿈에서 그대가 나타나', '흐르는 눈물을 닦아주는걸', '나 어떡하라고 다 끄떡없다고', '거짓말하라고 더는 못 참겠다고', '나도 아플 땐 아프다고', '슬플 땐 슬프다고', '얼어붙은 심장이', '자꾸만 내게로 고자질해', '정말로 끝이라고 정말로 ', '괜찮다고', '꾹 참고 참았던 눈물이', '자꾸만 내게로 쏟아지네', '상처를 치료해줄 사람 어디 없나', '가만히 놔두다간 끊임 없이 덧나', '사랑도 사람도 너무나도 겁나', '혼자인 게 무서워', '난 잊혀 질까 두려워', '상처를 치료해줄 사람 어디 없나', '가만히 놔두다간 끊임 없이 덧나', '사랑도 사람도 너무나도 겁나', '혼자인 게 무서워', '난 잊혀 질까 두려워', '언제나 외톨이 맘의 문을 닫고', '슬픔을 등에 지고 ', '살아가는 바보', '두 눈을 감고 두 귀를 막고', '캄캄한 어둠 속에 ', '내 자신을 가둬', '언제나 외톨이 맘의 문을 닫고', '슬픔을 등에 지고 ', '살아가는 바보', '두 눈을 감고 두 귀를 막고', '캄캄한 어둠 속에 ', '내 자신을 가둬']\n"
          ]
        },
        {
          "output_type": "stream",
          "name": "stderr",
          "text": [
            "\r 86%|████████▋ | 182/211 [1:20:57<16:18, 33.75s/it]"
          ]
        },
        {
          "output_type": "stream",
          "name": "stdout",
          "text": [
            "23\n",
            "['그 이불솜 베게 다 버리고', '우리 이제 서울 가서 살자', '그대야가 말한 천 번에 약속은', '괜찮으니 서울 가 살자', '저 달이 건너가 먼저 비춘다니', '우리 무슨 어떤 걱정 있을까요', '그댈 원망하진 않아요 이젠', '그래서 또 살아보는 세월일껀데', '미련 없이 버리고서울 가 살자', '그 다짐과 처음 약속 들고', '우리 이제 서울 가서 살자', '그대야가 흘린 미안한 눈물은', '괜찮으니 서울 가 살자', '별빛이 뜨고도 해가 있다는', '그곳에서 어떤 행복 기다릴까요', '그댈 원망하진 않아요 아마', '내가 더 원했었던 사랑일테니', '그대도 놓지 말아요오', '저 달이 건너가 먼저 비춘다니', '우리 무슨 어떤 걱정 있을까요', '그댈 원망하진 않아요 이젠', '그래서 또 살아보는 세월일껀데', '미련없이 버리고서울가 살자']\n"
          ]
        },
        {
          "output_type": "stream",
          "name": "stderr",
          "text": [
            "\r 87%|████████▋ | 183/211 [1:21:09<12:40, 27.15s/it]"
          ]
        },
        {
          "output_type": "stream",
          "name": "stdout",
          "text": [
            "106\n",
            "['아마 난 이번 겨울이 끝나도', '살아남을 거야 인마', '너는 말했지', '여자 래퍼 수명 2년이라고', '근데 이미 5년째 꼭 붙어있지', '이젠 이 바닥 밑바닥도 아닌', '꼭대기 넌 신경 써봐 니 안위', '허무하지 될년된 shit', '봐 내 지금 개런티', '니들 다 환장하는 돈', 'hunnit bandz on me', 'hunnit racks on me', '난 못 세어 더는 못 세어', 'I got some things drippin’', 'make’em rain on me', '내 목에서 흘러내려', '올해도 내년도 우리 거', '복면 안 쓰고 다 물리쳐', '한여름 태양보다 더 뜨거워', '차가운 것들은 내 목에', '머리가 띵', '머리가 띵하게 차가워', '머리가 띵하게 차가워', '불도저같이 쓸어 담어', '우리는 띵', '우리는 띵곡을 팔아', '너넬 또 미치게 만들어', '불러 어디든지 달려가', '띵띵', '훅 땜에 머리 freeze freeze', '짜여지지 여기 팀이', '수험생들 맞어 빔', '힙스터도 맞어 빔', '우린 돌아 버려 빙빙', '빙빙 빙빙', '다 star 됐지 연락해', 'IM이 올랐네', 'JM이 몰랐댔지만', '가졌지 18년 god damn', '춤춰 춰 춰 춰 뛰지 무대 위 열나게', '추워 추워 추워 추워', '이번 track이 폴라텍', 'We on chart 재미로 밖에 닌 몰라 왜', 'Bet 영비 오션 재키 요한에', '겨울에 이 노래가 불같애', '너넬 녹이지 얼음 같게', '더워 바지 벗어 영비 같게', '더워 바지 벗어 영비 같게', '올해도 내년도 우리 거', '복면 안 쓰고 다 물리쳐', '한여름 태양보다 더 뜨거워', '차가운 것들은 내 목에', '머리가 띵', '머리가 띵하게 차가워', '머리가 띵하게 차가워', '불도저같이 쓸어 담어', '우리는 띵', '우리는 띵곡을 팔아', '너넬 또 미치게 만들어', '불러 어디든지 달려가', '날씨 머릴 깨', '다시 가릴 때지', '한여름 내 눈 바빴고', '이젠 미련 버릴 때', 'wait 얼음 wait', '왜 너는 왜', '이불을 두르고도 불이 났니', '내 눈알에 무리가 가', '남자는 뇌가 두 개', '난 하날 껐네', '난 말을 걸고 너는 매를 벌어', '이 밤이 가기 전 눈앞이 번져', '널 안기 전엔 머리 위에 쟤를 털어', '눈물을 닦을 때 우린 불이 꺼져', '우린 불이 꺼져 이젠 얼음 땡', '별일 없듯 넌 발걸음 떼', '우리끼리 놀 땐 개 민폐', '딩고 띵곡 벌어 새 지폐', '머리가 띵 얼음 같지', '눈 몰리면 머리가 띵', '얼어붙지 내리막길', '해버리게 머리 마취', '걔네 거 들으면 머리에 침 아야', '걔네 거 들으면 감기 에취 아파', '우리 거 들으면 머리에 띵 아싸', '우리 건 들으면 머리에 빔 발사', 'IMJM 떡상 배팅', '천재노창 복귀에 배팅', '딩고 우리 덕에 매출 갱신', '띵곡 우리 덕에 탄생했지', '난 힙합씬의 초 희귀종 락스타 예', '난 미안 진심 우리 뺌 하극상 예', '난 움직이는 초고가 암막 커튼', '2019년도 다 해 먹거든', '올해도 내년도 우리 거', '복면 안 쓰고 다 물리쳐', '한여름 태양보다 더 뜨거워', '차가운 것들은 내 목에', '머리가 띵', '머리가 띵하게 차가워', '머리가 띵하게 차가워', '불도저같이 쓸어 담어', '우리는 띵', '우리는 띵곡을 팔아', '너넬 또 미치게 만들어', '불러 어디든지 달려가']\n"
          ]
        },
        {
          "output_type": "stream",
          "name": "stderr",
          "text": [
            "\r 87%|████████▋ | 184/211 [1:22:04<15:59, 35.53s/it]"
          ]
        },
        {
          "output_type": "stream",
          "name": "stdout",
          "text": [
            "124\n",
            "['난 작년에 2차 광탈한 SINCE', '죽지도 않고 돌아와 각성해 TOP4', '내가 때려치운 게 뭐겠어 You see  ', '닥치고 요샌 이것만 해 하루 종일 Time for', '갈 데까지 가봐야 풀리는 직성', '직접 느껴봐야겠어 살 거야 Top floor', '평생 오르기를 반복 ', '엄홍길 선생님도 바로 내 앞에선 항복', '왜 이렇게 받지 못해 인정 세상에게 상해버린 빈정', '이걸 놓기엔 억울해서 뒤져 눈 부릅뜨고 쏟아냈더니 튀어', '뒤틀린 속 편하게 비워 빈속으로 뛰어도 걱정 없어 위염', '몇십만 원 Dinner 서툴지만 씹어 ', '거지였던 기억에 건배해 Cheers', '여전히 못 쉬어 내 목표는 띄워 전세기', '야망이 가늠이 가니 감당 안 돼 더 커져 Big', '말한 대로 I believe it ', '가진 거 없어도 지켜냈어 의지 ', 'I got no limit ', '차지해 윗집 올라가는 내 모습 Litty', 'SINCE go up 이젠 사람들 입에서', '날 알아주는 기분 덕에 갈증을 해소', '올라왔고 내려가는 법 몰라 Tension', '난 끝까지 땡겨 죽을 때까지 뱉어', 'SINCE go up 이젠 사람들 입에서', '날 알아주는 기분 덕에 갈증을 해소', '올라왔고 내려가는 법 몰라 Tension', '난 끝까지 땡겨 죽을 때까지 뱉어', 'Pedal to the metal', 'Up 해', 'Pedal to the metal', 'Up 해', 'Pedal to the metal', 'Up 해', 'Pedal to the metal', 'Up 해', '집돌이 데뷔 나이 스물둘', '김포 공항엔 그레이 형이 부릉부릉', '처음 본 댓글 창은 다 묵음', '뜬눈으로 난 음음', '바보들아 안 궁금', '바보들아 안 궁금', '바보들아 안 궁금하다니까', '바보들아 난 큰 듯해', '이젠 아무것도 아닌 쇼미더머니 무대', '의리로만 출근해 ', '누구에겐 빈털터린 주머니지만 ', '나는 충분해 ', '폼 잡고 다 해봤어 인마 나도', '목에 힘 빼 이건 숙제 ', '빈 수레 거 Too much talker', '음소거 ', 'Ay Do Act', 'Jay park', 'Namedrop', 'I got your back 도장이 지워져도', '신스 Go up 여기 모두', '잘되기를 바라 내 친구의 적이어도', '부러워하던 패배자는 갔지 음 ', '큰 그릇 나는 다음 세대 Rocky 음', 'SINCE go up 이젠 사람들 입에서', '날 알아주는 기분 덕에 갈증을 해소', '올라왔고 내려가는 법 몰라 Tension', '난 끝까지 땡겨 죽을 때까지 뱉어', 'SINCE go up 이젠 사람들 입에서', '날 알아주는 기분 덕에 갈증을 해소', '올라왔고 내려가는 법 몰라 Tension', '난 끝까지 땡겨 죽을 때까지 뱉어', 'Pedal to the metal ', 'Up 해', 'Pedal to the metal', 'Up 해', 'Pedal to the metal', 'Up 해', 'Pedal to the metal', 'Up 해', 'I get the bag', '호미들이랑 또 나눠 먹지', '노래 발매하면 Yeah I’mma post it', '내 다음 행보 궁금해 I’ll keep you posted', '여러모로 bulk up 됐어 달라진 내 옷 태', '위기를 기회로 바꿔 난', 'Grind through wire like Chaka Khan', '다 안전한 길로만 계속 가려고 하니까', '어쩔 수 없이 내가 또 앞서가', '다들 왕 대접은 받고 싶지만', '딸려온 책임들 지고 싶지 않지', '매년 올라가는 나의 입지와 위치', '그래도 나는 하지 않아 갑질', 'In my DNA 누가 여전히 자랑스럽게', '우릴 대표해 doing their part', 'It goes Korean Zombie, BLACKPINK, Squid Game, Jay park', 'Let‘s go', 'SINCE go up 이젠 사람들 입에서', '날 알아주는 기분 덕에 갈증을 해소', '올라왔고 내려가는 법 몰라 Tension', '난 끝까지 땡겨 죽을 때까지 뱉어', 'SINCE go up 이젠 사람들 입에서', '날 알아주는 기분 덕에 갈증을 해소', '올라왔고 내려가는 법 몰라 Tension', '난 끝까지 땡겨 죽을 때까지 뱉어', 'Pedal to the metal', 'Up 해', 'Pedal to the metal', 'Up 해', 'Pedal to the metal', 'Up 해', 'Pedal to the metal', 'Up 해', '내 버티는 버릇 스무 살부터 여든', '굶주렸던 시절이 항상 밑거름', '땡처리 취급당했어도 태도 like 얼음 ', 'Rhythm is life Life is rhythm', '딥플로우의 믿음에 낄 수 없는 버블', '지키고 있어 보여주고 증명하는 법을 ', 'Parachute 맨 것처럼 겁이 없는 걸음', 'SINCE GO UP 내 평생을 걸음', 'SINCE go up 이젠 사람들 입에서', '날 알아주는 기분 덕에 갈증을 해소', '올라왔고 내려가지 않아 절대로', '내 목이 쉬어도 끝까지 계속 뱉어', 'SINCE go up 이젠 사람들 입에서', '날 알아주는 기분 덕에 갈증을 해소', '올라왔고 내려가지 않아 절대로', '내 목이 쉬어도 끝까지 계속 뱉어']\n"
          ]
        },
        {
          "output_type": "stream",
          "name": "stderr",
          "text": [
            "\r 88%|████████▊ | 185/211 [1:23:08<19:03, 43.96s/it]"
          ]
        },
        {
          "output_type": "stream",
          "name": "stdout",
          "text": [
            "48\n",
            "['언제쯤 사랑을 다 알까요 ', '언제쯤 세상을 다 알까요  ', '얼마나 살아봐야 알까요  ', '정말 그런 날이 올까요  ', '시간을 되돌릴 순 없나요 ', '조금만 늦춰줄 순 없나요  ', '눈부신 그 시절 나의 지난날이  ', '그리워요  ', '오늘도 그저 그런 날이네요  ', '하루가 왜 이리도 빠르죠  ', '나 가끔은 거울 속에 비친  ', '내가 무척 어색하죠  ', '정말 몰라보게 변했네요  ', '한때는 달콤한 꿈을꿨죠  ', '가슴도 설레었죠  ', '괜시리 하얀 밤을 지새곤 했죠  ', '언제쯤 사랑을 다 알까요  ', '언제쯤 세상을 다 알까요  ', '얼마나 살아봐야 알까요  ', '정말 그런 날이 올까요  ', '시간을 되돌릴 순 없나요  ', '조금만 늦춰줄 순 없나요  ', '눈부신 그 시절 나의 지난날이  ', '그리워요  ', '어쩐지 옛 사랑이 생각났죠  ', '당신도 나만큼은 변했겠죠  ', '그래요 가끔 나 이렇게 당신  ', '땜에 웃곤 해요  ', '그땐 정말 우리 좋았었죠  ', '하지만 이대로 괜찮아요 충분히  ', '사랑했죠  ', '추억은 추억일 때 아름답겠죠  ', '언제쯤 사랑을 다 알까요  ', '언제쯤 세상을 다 알까요  ', '얼마나 살아봐야 알까요  ', '정말 그런 날이 올까요  ', '아직도 많은 날이 남았죠  ', '난 다시 누군가를 사랑 할테죠  ', '알수없는 인생이라 더욱 ', '아름답죠 ', '언젠가 내 사랑을 찾겠죠 ', '언젠가 내 인생도 웃겠죠 ', '그렇게 기대하며 살겠죠 ', '그런대로 괜찮아요 ', '아직도 많은 날이 남았죠 ', '난 다시 누군가를 사랑 할테죠 ', '알 수 없는 인생이라 더욱 ', '아름답죠 ']\n"
          ]
        },
        {
          "output_type": "stream",
          "name": "stderr",
          "text": [
            "\r 88%|████████▊ | 186/211 [1:23:32<15:54, 38.20s/it]"
          ]
        },
        {
          "output_type": "stream",
          "name": "stdout",
          "text": [
            "44\n",
            "['우린 6년 전에 만났지', '널 사랑하게 됐어', '내 마음을 숨긴 채', '널 따라 다녔었지', '내 친구는 나를 위해', '애썼고 마침내 내 사랑을', '3년만에 고백하게 됐어', '처음 만났을때 첫눈에 반한다는', '그 말을 그때야 알게 되었어', '눈이 부시도록 아름다워', '너의 눈빛조차 쳐다볼 수 없었지', '너를 만나면 아무 말 못하고서', '애매한 담배만 피워댔고', '너와 헤어지고 나서야', '못 다한 말들을 후회 했어', '세월 흘러가서 3년 되던 날', '나 얼마나 너를 사랑 하는지', '그때서야 힘겨운 고백을 했어', '아무 대답 없이 앉아만 있던 너', '무슨 얘기라도 해주길 바랬어', '한참 지난 후에 어렵게 꺼낸 말', '너도 나를 좋아한다는 그 말', '나를 친구로써 좋아는 하지만', '사랑 느낀적은 없다고', '영원히 좋은 친구로만 남아', '사랑은 하지 말자고', '그 말 듣자 마자', '군대를 가 버렸던 거야', '친구에게 널 맡기고', '내 자릴 비웠지', '둘은 면회 왔었고 믿었지', '그러나 내 친구와 약혼했고', '나만 이제 혼자야', '다행일지 몰라 이런 일들이', '널 맡겨논 가장 친한 친구가', '네게 생긴 새로운 사랑 이란게', '혹시 다른 남자 사랑을 했다면', '다신 너를 볼 수가 없을 테니까', '가장 친한 친구 애인이 됐으니', '니가 행복한 걸 볼 수 있잖아', '친군 내 앞에서 미안해 하지만', '나는 아무렇지 않은 걸', '어차피 너의 곁에 남은 채로', '너만을 사랑 할테니']\n"
          ]
        },
        {
          "output_type": "stream",
          "name": "stderr",
          "text": [
            "\r 89%|████████▊ | 187/211 [1:23:55<13:24, 33.53s/it]"
          ]
        },
        {
          "output_type": "stream",
          "name": "stdout",
          "text": [
            "104\n",
            "['Million 내 몸값을 더 올려', 'Billion 내 몸값을 더 올려', 'Trillion 내 몸값을 더 올려', '-illion 내 몸값을 더 올려', '위로 ', 'Brrrr 한 통 끊자마자 두통', '알지 너 계속 뛰어 아니면 버려져', 'I know 그래서 나', '떼고 있어 눈곱 ', '알아 나도 어릴 때는', '즐거웠지 다른 애들', '과는 다른 날의 삶을', '꿈꿨지만 ', 'Counting stars', '난 세야 해 별', '내 가족의 love', '더 들어가 철 ', 'Daddy 출퇴근 car', '부터 family up', '캐리어 쌓아놔 mom', '엄마 드디어 사람들이', '날 쳐다봐 우리가 바란 듯이', '걱정 마 지금껏 했어 준빈', '통통한 우리 가족 살은 온통', '땀이 아닌 기름기로 가득 보호', '또 내 속도는 마하 정도', '촌놈이 알고 보니 like 앤디 워홀 ', '난 안 변해  달동네 살았던', '그놈은 여전히  여기에', \"I'm still the same\", 'My fam 계속 똑같아', 'Million 내 몸값을 더 올려', 'Billion 내 몸값을 더 올려', 'Trillion 내 몸값을 더 올려', '-illion 내 몸값을 더 올려', '위로 (yeah we go up)', 'we up (yeah we go up)', '위로 (yeah we go up)', 'we up', 'Counting star 1 2 3', '눈물은 별이 돼 빛이 나네 on the floor', '내 몸값 바닥을 칠 뻔했지만 다시 위로 soar', '배는 고팠지만 눈은 안 깔았으', '외줄을 타고 혼자 살아남아', '핑계는 안대 난 결과로 말해', '엄마의 눈물을 고야드로 닦아줬네 대전 to  Seoul city 살아 성실히', '한 번 없었네 쉼이  ', '여긴 흠 잡히면 물어뜯지 여태 해온 모든 걸 다 후려치지 너무 어지러', '순간 방심하면 길 잃어', '난 여기에 왔어 이기러', '이대론 돌아갈 수 없네 집으로 ', '안 돼 난 이대론', '똑같다 내가 질린다 떠났지만 돌고 돌아 다시 나를 찾네', '다시 돌아와도 아무렇지 않게 받아줄 수 있어 그 누구도 밉지 않네', '푼돈도 못 벌어 ', '없다면 근본', '모든 거에 감사', '볼품도 없던 날 품어줬던', 'Shout out to ATM &amp; Million', 'Million 내 몸값을 더 올려', 'Billion 내 몸값을 더 올려', 'Trillion 내 몸값을 더 올려', '-illion 내 몸값을 더 올려', '위로 (yeah we go up)', 'We up (yeah we go up)', '위로 (yeah we go up)', 'We up', '벌어가 너 모르게 마니또 look, 난 진짜로 ball', '10년, 변해 강산도 뚝 우리 엄마 눈물도', '1등 해봤자 거품이라는 말에 곧바로 끄덕끄덕 ', '바빠 이쯤 함 됐다 해도 내 fan들이 말해 더더', 'Ok go 갈 군대 없어 걱정 마', 'Ok go 발 떼고 no break 내걸 타', '속돈 상관없어 난 들소를 몰아도 ', '스트라다 편하게 지그시 밟아 I gotta I gotta I gotta', 'Make my mind up 다음은 Maybach', '내 가족 어깨 지고 벌어', '덩치 커질수록 더 무게 안 느껴져 버려', '쌍문동 반지하 싱크대 밑 침대였지', '올려드렸지 한강이 보이는 20층 위', '여기서 별을 counting', '누구나 목적은 티 나지', '겸손은 내가 알아서', \"하니까 don't say that \", '그러니 오늘은', 'Feel like I’m rocky', 'Wild for the night, screw being polite ', '다 필요 없어 다 너네 걸음 봐봐', '각자 내게 지 입맛들을 맞춰', '닥치고 뛰어가', '모르잖아 날', '내가 사용하는 용도와 다른 너의 voice야', 'Million 내 몸값을 더 올려', 'Billion 내 몸값을 더 올려', 'Trillion 내 몸값을 더 올려', '-illion 내 몸값을 더 올려', 'Million 내 몸값을 더 올려', 'Billion 내 몸값을 더 올려', 'Trillion 내 몸값을 더 올려', '-illion 내 몸값을 더 올려', '위로 (yeah we go up)', 'We up (yeah we go up)', '위로 (yeah we go up)', 'Yeah we up']\n"
          ]
        },
        {
          "output_type": "stream",
          "name": "stderr",
          "text": [
            "\r 89%|████████▉ | 188/211 [1:24:49<15:08, 39.52s/it]"
          ]
        },
        {
          "output_type": "stream",
          "name": "stdout",
          "text": [
            "84\n",
            "['옛날 옛날에', '남양주시 와부읍', '덕소리에서', '자란 한 소년이 있었어요', '아이는 주머니에', '아무것도 없었지만', '어머니의 사랑은 가득해', '항상 웃음 짓던 소년이였죠', '어느 날 그 소년 앞에', '금을 두른 부자가 나타났답니다', '부자는 그에게 물었어요', '너에게 미래를 줄 테니', '지금 이 순간을 나와 바꾸지 않겠니', '나 평생 꿈만을 꿨죠', '알잖아요 꿈은 안 들잖아 돈', '나 이 순간을 나 평생 떠올렸죠', '친구들이 대학을 갈 때', '난 한강에 가서 술을 마셨네', '되뇌이면서 세상은 날 싫어해', '그렇지 그렇지 그럴만했어', '그때는 몰라 그리고 애써', '알려고 하지도 않잖아', '눈물을 흘렸지 내 방 속에서', '눈물 흘려 여의도에서', '두 눈물 맛이 달라 아', '빌었어', '빌었어 밤마다', '이럴 땐 술김에', '오그라들게', '두 손을 모으고 말야', '빌었어', '빌었어 밤마다', '나 무교잖아', '근데 하늘에다가', '비는 걸 보면 있나 봐', '내 소원을 들어줄 어떤 이', '쌈마이 삶에도 볕들 날', '오긴 하네 젠장 오늘 밤', '제게 말이 안 되는 일이', '일어났어요 엄마', '지금 시간은 열두시 반', '작업 실행 막차 끊길 시간', '지금 The Quiett', '그분 집 밑에 있어요 엄마', '걸어가도 괜찮을 만한 기분이에요', '여친한테도 전화했네요', '걔 또한 활짝 웃더라구요', '저는 울었네요', '표현 안돼요 제 기분이', '엄마 보내줄게 저 먼 italy', '유유 걱정하지마', '이제 너는 공부만 하면은 돼', '형이 계약금도 준대', '이건 줄래 엄마께', '일단 비밀 아빠껜', '아빠가 시장 사람들에게', '말씀할 수도 있으니까', '일단은 비밀로 햇 쉿', '밥은 잘 챙기니', '걱정 마 조만간 덕소 갈게', 'Bye mom', '나 평생 꿈만을 꿨죠', '알잖아요 꿈은 안 들잖아 돈', '나 이 순간을 나 평생 떠올렸죠', '친구들이 대학을 갈 때', '난 한강에 가서 술을 마셨네', '되뇌이면서 세상은 날 싫어해', '그렇지 그렇지 그럴만했어', '그때는 몰라 그리고 애써', '알려고 하지도 않잖아', '눈물을 흘렸지 내 방 속에서', '눈물 흘려 여의도에서', '두 눈물 맛이 달라 아', '빌었어', '빌었어 밤마다', '이럴 땐 술김에', '오그라들게', '두 손을 모으고 말야', '빌었어', '빌었어 밤마다', '나 무교잖아', '근데 하늘에다가', '비는 걸 보면 있나 봐', '내 소원을 들어줄 하느님']\n"
          ]
        },
        {
          "output_type": "stream",
          "name": "stderr",
          "text": [
            "\r 90%|████████▉ | 189/211 [1:25:32<14:54, 40.65s/it]"
          ]
        },
        {
          "output_type": "stream",
          "name": "stdout",
          "text": [
            "23\n",
            "['누구나 눈뜨면 떠나야만 하네', '두손에 노를 쥐고서', '가기 싫어도 멈추고 싶어도', '운명의 배는 띄워 졌다오', '저어라 노를 저어라', '청춘의 울 지나서', '저어라 노를 저어라', '욕심의 돌을 던지며', '눈뜨니 다다른 천계의 바다', '깊어진 마음만이 남았구나', '산새의 울음도 품어야만 하네', '꽃잎의 웃음소리도', '한번 인생길 추억을 실고서', '취한 듯 그리 살아가세', '저어라 노를 저어라', '세월의 물 따라서', '저어라 노를 저어라', '욕심의 돌을 던지며', '눈뜨니 다다른 천계의 바다', '깊어진 마음만이 남았구나', '깊어진 마음만이 남았구나', '아아', '운명은 배는 띄워졌다오']\n"
          ]
        },
        {
          "output_type": "stream",
          "name": "stderr",
          "text": [
            "\r 90%|█████████ | 190/211 [1:25:44<11:13, 32.08s/it]"
          ]
        },
        {
          "output_type": "stream",
          "name": "stdout",
          "text": [
            "26\n",
            "['그녀의 웃는 모습은', '활짝핀 목련꽃 같아 ', '그녀만 바라보면 언제나', '따뜻한 봄날이었지', '그녀가 처음 울던날', '난 너무 깜짝 놀랐네', '그녀의 고운 얼굴 가득히', '눈물로 얼룩이 졌네', '아무리 괴로워도 웃던 그녀가', '처음으로 눈물 흘리던 날', '온세상 한꺼번에 무너지는 듯', '내 가슴 답답했는데 ', '이젠 더 볼 수가 없네', '그녀의 웃는 모습을 ', '그녀가 처음으로 울던날', '내곁을 떠나갔다네', '아무리 괴로워도 웃던 그녀가', '처음으로 눈물 흘리던 날', '온세상 한꺼번에 무너지는 듯', '내 가슴 답답했는데 ', '이젠 더 볼 수가 없네', '그녀의 웃는 모습을 ', '그녀가 처음으로 울던날', '내곁을 떠나갔다네', '그녀가 처음으로 울던날', '내곁을 떠나갔다네']\n"
          ]
        },
        {
          "output_type": "stream",
          "name": "stderr",
          "text": [
            "\r 91%|█████████ | 191/211 [1:25:57<08:47, 26.40s/it]"
          ]
        },
        {
          "output_type": "stream",
          "name": "stdout",
          "text": [
            "39\n",
            "['말해야 하는데 네 앞에 서면', '아무 말 못하는 내가 미워져', '용기를 내야해 후회하지 않게', '조금씩 너에게 다가가', '날 고백해야해', '내 오래된 친구인 널', '좋아하게 됐나 봐', '아무렇지 않은 듯 널 대해도', '마음은 늘 떨렸어', '미소 짓는 너를 보면', '우리 사이가 어색할까 두려워', '아무런 말 하지 못한 채', '돌아서면 눈물만 흘렸어', '말해야 하는데 네 앞에 서면', '아무 말 못하는 내가 미워져', '용기를 내야해 후회하지 않게', '조금씩 너에게 다가가', '날 고백해야해', '처음 너를 만났던 날', '기억할 순 없지만', '그저 그런 친구로 생각했고', '지금과는 달랐어', '미소 짓는 너를 보면', '우리 사이가 어색할까 두려워', '하루 종일 망설이다', '헤어지면 눈물만 흘렸어', '말하고 싶은데 사랑한다고', '아무 말 못하는 내가 너무 미워', '용기를 내야해 후회하지 않게', '조금씩 너에게 다가가', '날 고백할 거야', '용기를 내야 해 후회하지 않게', '조금씩 너에게 다가가', '날 고백할 거야', '사랑한다고 아무 말 못하는', '내가 너무 미워', '용기를 내야 해 후회하지 않게', '조금씩 너에게 다가가', '날 고백할 거야_x000D_\\n\\t\\t\\t\\t\\t</div>']\n"
          ]
        },
        {
          "output_type": "stream",
          "name": "stderr",
          "text": [
            "\r 91%|█████████ | 192/211 [1:26:17<07:44, 24.46s/it]"
          ]
        },
        {
          "output_type": "stream",
          "name": "stdout",
          "text": [
            "49\n",
            "['그날의 우리는 어디 있을까', '아무 흔적 없이 멀어진 기억들', '함께 느꼈던 그때 향기를', '아직도 기억해', '우린 이제 마지막인 걸까', '밤새 나누던 하루의 일상이', '이제는 더 멀게만 느껴져', '보고 싶단 말이 사랑한단 말이', '이젠 의미 없어 나를 울리고 있어', '외로운 밤', '난 너를 지워내려 해', '이별의 순간 깨지 못할 꿈처럼', '가까이 갈 수가 없어', '한 걸음씩 멀어지는 너에게', '더는 할 말이 없어', '널 보내고', '우리 사랑했던 시간이', '생각이 나면', '그때 한 번쯤은 너 날 떠올려주면 돼', '이 빈자리 너의 온기가', '그리울 거야', '이제는 널 지울게', '그토록 바랬던 너였었는데', '하고픈 말 아직 남았는데', '이미 늦어버린 걸', '돌이킬 수 없단 걸 알아', '바보처럼 울고 있는 너와 나', '외로운 밤', '난 너를 지워내려 해', '이별의 순간 깨지 못할 꿈처럼', '가까이 갈 수가 없어', '한 걸음씩 멀어지는 너에게', '더는 할 말이 없어', '널 떠나보낼게', '마지막 미소가', '계속 떠올라 네가 보고파', '언젠가', '우리 다시 만나면', '그땐 이렇게 아프지 말자고', '이렇게 약속할게', '한 걸음씩 멀어지는 너에게', '행복하길 바래 ', '널 보내고', '우리 사랑했던 시간이', '생각이 나면', '그때 한 번쯤은 날 떠올려 줄래', '이 빈자리 너의 온기가', '그리울 거야', '이제는 널 지울게']\n"
          ]
        },
        {
          "output_type": "stream",
          "name": "stderr",
          "text": [
            "\r 91%|█████████▏| 193/211 [1:26:43<07:26, 24.81s/it]"
          ]
        },
        {
          "output_type": "stream",
          "name": "stdout",
          "text": [
            "84\n",
            "['입안에서', '바람 맛이', '달콤한 아침', '새하얀', '이불위로 닿는', '햇살이 좋아', '설레는', '전화 벨소리', '그대 인가요', '설탕 한 스푼 담긴 소리', 'hello hello', '봄이 와', '이 거리 위에', '봄이 와', '나의 가슴속에', '왜 이리 나', '들뜨나 몰라', 'oh', '팝콘 같은 꽃잎이', '저 높이 날아요', '사랑한다 말하면', '난 정말 녹아요', '오늘 같은 바람이 불면', '하루 종일 미치겠어', '그대가', '아른아른 거려서', '향기로운', '봄 바람이', '나풀거리고', '두 볼에 앉은', '햇살마저', '완벽한걸요', '새하얗게 춤을 추는', '꽃잎을 보며', '그대와 둘이', '걷다 보면', 'uh huh', 'ah ha', '봄이 와', '이 거리 위에', '봄이 와', '우리 둘 사이에', '설레임이', '피어 올라요', 'oh', '팝콘 같은 꽃잎이', '저 높이 날아요', '사랑한다 말하면', '난 정말 녹아요', '오늘 같은 바람이 불면', '하루 종일 미치겠어', '그대가', '아른아른 거려서', '꿈에서 봤던', '거리가 여기인가요', '그대와 나란히', '걷는 모든 곳이', '아름다워', '난 있잖아요', '그대를 볼 때마다 놀라', '더 아름다울 수 없는', '그대여', '따사로운 봄빛에', '사랑이', '녹아요', '살랑대는 바람에', '사랑이', '불어요', '오늘 같은 바람이 불면', '제일 먼저', '떠올라요', '그대만', '팝콘 같은', '꽃잎이', '저 높이 날아요', '사랑한다', '말하면', '난 정말 녹아요', '오늘 같은 바람이 불면', '하루 종일 미치겠어', '그대가', '아른아른 거려서', '그대가', '나의 봄이죠']\n"
          ]
        },
        {
          "output_type": "stream",
          "name": "stderr",
          "text": [
            "\r 92%|█████████▏| 194/211 [1:27:26<08:35, 30.33s/it]"
          ]
        },
        {
          "output_type": "stream",
          "name": "stdout",
          "text": [
            "51\n",
            "['우리 삶은 둘 중 하나야', '결국 짓는 게 웃음일까 죄일까', '많은 사람들이 물어봐', '우리가 어디까지냬', '그땐 너만 보고 웃고 있었지만', '방송 출연 한 번 커졌지 머리가', '이제 와서 생각해 보면', '우린 참 순식간이었네', '그때는 철이', '없어서', '뻔한 핑계를 대며', '도망가기 바뻤지', '때늦은', '후회를 해', '눈을 뜨고 나면', '전부 다 엉망진창이야', '나는 가끔 그 지하방을 지나가', '그때의 우린 지금 거기 없겠지만', '오래전에 외웠던', '너의 번호도 잊어버렸네', '삶이란 게 원래 이런 건가', '뻔한 이별 노래 아닌 현실이야', '근데 어떻게 좁아터진 곳에서', '둘이 살았나 싶어', '다 엉망이야', '정리 안 된 우리 추억을 대책 없이 꺼내', '여길 어지럽히고 난 다시 망가져버려', '눈을 뜨고 나면 전부 다 엉망진창이야', '엉망이었던 우리의 사랑의 기억', '우린 엉망이었어도 잘 살았지', '미워했던 너의 친구 남자들도', '10분에 한 번씩 뒤척이던 너의 잠소리', '보일러가 안 된 날에 했던 찬물 샤워', '중고 tv 침대가 없어 둘이 덮었던 담요', '그때 너는 왜 그렇게 행복해했어', '보잘 거 없는 내게', '대체 왜 행복하다 했어', '그땐 너무 어렸었다', '우리 추억은 싫증 난', '인형처럼 쉽게 버려지고', '가끔 꺼내 보는 낡은 2G폰 같아', '창피한 기억들에 우린 너무 예쁜 한 쌍', '마치 어제 같은 그때 우린 웃고 있었고', '내가 지운 기억 속에 너는 울고 있었다', '내일이 오면 달라질 것 같던', '막연했던 하루', '내가 할 수 있던 말은 시간 정말 빠르다', '다 엉망이야', '정리 안 된 우리 추억을 대책 없이 꺼내', '여길 어지럽히고 난 다시 망가져버려', '눈을 뜨고 나면 전부 다 엉망진창이야']\n"
          ]
        },
        {
          "output_type": "stream",
          "name": "stderr",
          "text": [
            "\r 92%|█████████▏| 195/211 [1:27:52<07:45, 29.10s/it]"
          ]
        },
        {
          "output_type": "stream",
          "name": "stdout",
          "text": [
            "16\n",
            "['한 많은 대동강아', '변함없이 잘 있느냐', '모란봉아 을밀대야', '네 모양이 그립구나', '철조망이 가로막혀', '다시 만날 그때까지', '아 소식을 물어본다', '한 많은 대동강아', '대동강 부벽루야', '뱃노래가 그립구나', '귀에 익은 수심가를', '다시 한 번 불러본다', '편지 한 장 전할 길이', '이다지도 없을소냐', '아 썼다가 찢어버린', '한 많은 대동강아']\n"
          ]
        },
        {
          "output_type": "stream",
          "name": "stderr",
          "text": [
            "\r 93%|█████████▎| 196/211 [1:28:00<05:41, 22.79s/it]"
          ]
        },
        {
          "output_type": "stream",
          "name": "stdout",
          "text": [
            "38\n",
            "['좀 이상한 기분이야', '멈춰있는 순간에도', '이상하게 숨이 차올라', '막연했던 이상을 향해서 난', '얼마나 달려온 걸까', '끝이 없이 달려온 뒤에', '남아있는 공허함들에', '아무것도 채우지 못하고 지나친', '내 아쉬운 순간들이', 'Away Away 잠시도 머물지 않아', 'Away Away 하루의 끝에서야', '지친 맘을 달래', '다시 일어날 수 있는 힘이', '더 필요한 걸 난', '낯선 길을 걷더라도', '나 가는 곳이 어디든', '그곳이 길이 되어줄까', '떠나보면 초록의 그곳에서', '또 다른 날 볼 수 있을까', '하루하루 달라지는', '내 모습에 낯설어져 난', '아무것도 채우지 못하고 지나친', '내 아쉬운 순간들이', 'Away Away 잠시도 머물지 않아', 'Away Away 하루의 끝에서야', '지친 맘을 달래', '다시 일어날 수 있는', '힘이 더 필요한 걸 난', '이제서야', '굳어가던 마음을', '깨어버릴 시간을 찾아', 'Runaway Runaway 잠시도 머물지 않고', 'Runaway Runaway 숨 가쁜 날이었던', '잠시 이곳을 떠나', '다시 일어날 수 있는', '힘이 더 생길 때까지', 'I wanna runaway', 'Away Away']\n"
          ]
        },
        {
          "output_type": "stream",
          "name": "stderr",
          "text": [
            "\r 93%|█████████▎| 197/211 [1:28:20<05:06, 21.90s/it]"
          ]
        },
        {
          "output_type": "stream",
          "name": "stdout",
          "text": [
            "42\n",
            "['넌 한숨만 또 한숨만', '긴 침묵이 흐르고', '차가워진 이 바람엔', '우리가 써있어', '먼 계절을 견뎌낸 사랑이 ', '이젠 지쳐 멈추나봐', '네 마음도 결국엔 지나 봐', '이렇게 우린 끝인가 봐', 'Bad Love Bad Love Bad Love', '날 바라보던 그 눈에 살았는데', '날 안아주던 그 맘에 살았는데', '우리가 왜 우리가 어떻게 왜 ', '헤어지니 No Way', '너의 고백 둘만의 작은 약속 먼지처럼', '찬 바람에 흩어져가', 'Bad Love', '얼어붙은 네 눈빛은', '아프게 날 부수고', '차가워진 이 바람은', '널 데려가는데', '먼 계절을 견뎌낸 사랑이 ', '이젠 지쳐 멈추나봐', '네 마음도 결국엔 지나 봐', '이렇게 우린 끝인가 봐', 'Bad Love Bad Love Bad Love', '날 바라보던 그 눈에 살았는데', '날 안아주던 그 맘에 살았는데', '우리가 왜 우리가 어떻게 왜 ', '헤어지니 No Way', '너의 고백 둘만의 작은 약속 먼지처럼', '찬 바람에 흩어져가', '멀어지는 니 모습 흐려져', '나 지금 우나봐 ', '우리 남이 되나봐 끝인가봐', 'No No No No', 'No No No No Bad Love', '나는 다르다며 내가 사랑이라며', '아니잖아 사랑이 아니잖아 ', '떠나잖아 넌 왜', '너의 기억 너의 향기 두고서 넌 가잖아 ', '결국 여기까진가 봐', 'Bad Love']\n"
          ]
        },
        {
          "output_type": "stream",
          "name": "stderr",
          "text": [
            "\r 94%|█████████▍| 198/211 [1:28:42<04:44, 21.85s/it]"
          ]
        },
        {
          "output_type": "stream",
          "name": "stdout",
          "text": [
            "43\n",
            "['생각도 못했던 말', '내게 니 모습은 항상 웃는 얼굴', '변함없는', '저 햇살같이 나를', '따뜻하게 비춰주는', '그런 존재였는데', '날 떠나야 한다고', '이해해 달라고', '갑자기 뭐라고 말을 해', '너무 슬퍼서 눈물이 안 났어', '그냥 그 자리에 서서', '알겠다고 했어', '시간이 멈추고 심장도 멈췄어', '모든 게 내겐', '그냥 꿈만 같은 일이라서', '항상 영원히 나를', '사랑할 거라고', '그 말 그대로 믿고 있었어', '날 너무 사랑해서', '다른 사람은 상상도', '할 수 없단 말 믿었어', '넌 어저께 까지도', '내게 그 따뜻한', '눈빛으로 얘길 했는데', '너무 슬퍼서 눈물이 안 났어', '그냥 그 자리에 서서', '알겠다고 했어', '시간이 멈추고 심장도 멈췄어', '모든 게 내겐', '그냥 꿈만 같은 일이라서', '혼자 돌아서서 한참을 걷고 나서', '그제서야 다 실감이 났어', '눈물이 한 방울씩', '나기 시작하더니', '숨을 쉴 수가 없이', '끝없이 쏟아졌어', '너무 슬퍼서 눈물이 안 났어', '그냥 그 자리에 서서', '알겠다고 했어', '시간이 멈추고 심장도 멈췄어', '모든 게 내겐', '그냥 꿈만 같은 일이라서', '꿈만 같은 일이라서']\n"
          ]
        },
        {
          "output_type": "stream",
          "name": "stderr",
          "text": [
            "\r 94%|█████████▍| 199/211 [1:29:04<04:25, 22.11s/it]"
          ]
        },
        {
          "output_type": "stream",
          "name": "stdout",
          "text": [
            "31\n",
            "['빛이 들어오면 자연스레 뜨던 눈', '그렇게 너의 눈빛을 보곤', '사랑에 눈을 떴어', '항상 알고 있던 것들도 어딘가', '새롭게 바뀐 것 같아', '남의 얘기 같던 설레는 일들이', '내게 일어나고 있어', '나에게만 준비된 선물 같아', '자그마한 모든 게 커져만 가', '항상 평범했던 일상도', '특별해지는 이 순간', '별생각 없이 지나치던 것들이', '이제는 마냥 내겐 예뻐 보이고', '내 맘을 설레게 해', '항상 어두웠던 것들도 어딘가', '빛나고 있는 것 같아', '남의 얘기 같던 설레는 일들이', '내게 일어나고 있어', '나에게만 준비된 선물 같아', '자그마한 모든 게 커져만 가', '항상 평범했던 일상도', '특별해지는 이 순간', '너를 알게 된 뒤 보이는', '모든 것들이 너무 예뻐 보여', '그렇게 신난 아이처럼', '순수한 사람이 된 것 같아', '나에게만 준비된 선물 같아', '자그마한 모든 게 커져만 가', '항상 평범했던 일상도', '특별해지는 이 순간', '깊은 사랑에 빠진 순간']\n"
          ]
        },
        {
          "output_type": "stream",
          "name": "stderr",
          "text": [
            "\r 95%|█████████▍| 200/211 [1:29:21<03:44, 20.40s/it]"
          ]
        },
        {
          "output_type": "stream",
          "name": "stdout",
          "text": [
            "27\n",
            "['있잖아 우린 서로', '너무도 다를 줄 알았지만', '이렇게 우린 같은 순간을', '추억할 걸 잘 알아', '우리가 보는 세상은', '이제는 많이 달라질 거야', '밤하늘에 별이 이렇게', '많았었나 하면서 말야', '있잖아 우린 서로', '평범한 사랑을 하겠지만', '유성을 보면서', '내가 빌었던 소원 중 하나야', '우리가 보는 세상은', '이제는 많이 달라질 거야', '밤하늘에 별이 이렇게', '많았었나 하면서 말야', 'I won’t stop', 'cause you’re my paradise', 'oh baby la la la', 'oh baby la la la and', 'I won’t stop', 'cause you’re my paradise', 'oh baby la la la', 'oh baby la la la', 'go anywhere', 'go anywhere', 'go anywhere']\n"
          ]
        },
        {
          "output_type": "stream",
          "name": "stderr",
          "text": [
            "\r 95%|█████████▌| 201/211 [1:29:35<03:04, 18.46s/it]"
          ]
        },
        {
          "output_type": "stream",
          "name": "stdout",
          "text": [
            "43\n",
            "['쉴 새 없이 울려 대던 ', '내 전화기는 잠잠해져 가', '할 말을 잃은 것 같아', '정신없이 쏟아내던 그 모진 말들 ', '주워 담지는 못해', '아마 날 떠날 것 같아', '난 너를 지울 수 있을까', '그저 한 순간에 ', '우린 남이 될 수 있을까', '쉽지 않을 걸 알지만 ', '좋았던 날도 많았지만', '되돌리기엔 멀리 와 버린 걸까', '난 너를 지울 수 있을까', '우린 남이 될 수 있을까', '눈물조차 흐르지 않아 ', '홧김에 던져 망가진 내 폰', '마치 날 보는 것 같아', '예전과 달리 잦아진 ', '끝이 없는 듯한 감정싸움에', '이제 난 지친 것 같아', '난 너를 지울 수 있을까', '그저 한 순간에 ', '우린 남이 될 수 있을까', '쉽지 않을 걸 알지만 ', '좋았던 날도 많았겠지만', '되돌리기엔 멀리 와 버린 걸까', '괜찮은 척해도 먹먹해진 기분은', '진해져만 가 떨쳐내려 ', '괜히 웃어보아도', '숨길 수 없는 걸 이별이 오는 걸', '우리의 시간은 멈춰버린걸', '난 너를 지울 수 있을까', '우린 남이 될 수 있을까', '난 너를 지울 수 있을까', '그저 한 순간에 ', '우린 남이 될 수 있을까', '쉽지 않을 걸 알지만 ', '좋았던 날도 많았지만', '되돌리기엔 멀리 와 버린 걸까', '난 너를 지울 수 있을까', '우린 남이 될 수 있을까', 'We loved We loved We loved', 'We loved We loved We loved']\n"
          ]
        },
        {
          "output_type": "stream",
          "name": "stderr",
          "text": [
            "\r 96%|█████████▌| 202/211 [1:29:57<02:56, 19.63s/it]"
          ]
        },
        {
          "output_type": "stream",
          "name": "stdout",
          "text": [
            "74\n",
            "['난 괜찮아', '내일 아침에 소파 위에 시체가', '되어 이름 모르는 너와 어색한', '사이가 되어도', \"I don't care at all\", \"let's smoke drink boogie on and on\", 'boogie on and on', '오늘은 생각도 긴 말도', '필요하지 않아 풀어 긴장 좀', '잃어가는 시간이 너무 아까워', '꽉 매 너의 신발끈', '지각생 엎드려 뻗쳐', '너에게 줄 성적은 없어', '여선생들은 열정이 넘치는', '날 가르치느라 엎드려줬어', '입김이 서린 잔을 건넨 뒤', '괜히 물어봐 지금이 몇 신지', '그 다음엔', \"why don't u and yo friends\", 'get with me and my friends', '일행이 몇 명이니', \"LET'S BOOGIE ON AND ON\", '내일 우리가 서로 기억 못 해도', '지금 이 무르익은 분위기는', '멈추지 말고 가만히 내비둬 고대로', '난 괜찮아', '내일 아침에 소파 위에 시체가', '되어 이름 모르는 너와 어색한', '사이가 되어도', \"I don't care at all\", \"let's smoke drink boogie on and on\", 'boogie on and on', '내일 걱정은 뒤에 해', '일단 이 느낌을 이해해', '언제 또 올지 모르는 놀 기회에', '초집중을 해', 'girl swing that ass', '몇 번의', 'eye contact', 'I saw you you saw me', '그럼 ', '내가 먼저 말 걸게', '난 너를 알고 싶어', '지금 우리 둘 주위를 둘러봐', '왕따들은 바쁘게 눈이 굴러가', '걔네들은 죽어도', '우리 둘을 못 봐', '지금이야', '지금 내 목에 팔을 둘러봐 ', '너만 괜찮다면 너의 허리에', '내 손을 올릴게 넌 어때', '난 괜찮아', '내일 아침에 소파 위에 시체가', '되어 이름 모르는 너와 어색한', '사이가 되어도', \"I don't care at all\", \"let's smoke drink boogie on and on\", 'boogie on and on', '너도 내일 아침에', '날 기억 못해도 돼', '물이든 술이든', 'u can sip and smoke it away', \"I don't give a F about tommorow\", \"cuz it's sunday\", 'bring up all ya cool kids', 'and just hop on to this music ', '너도 내일 아침에', '날 기억 못해도 돼', '물이든 술이든', 'u can sip and smoke it away', \"I don't give a F about tommorow\", \"cuz it's sunday\", 'bring up all ya cool kids', 'and just hop on to this music ']\n"
          ]
        },
        {
          "output_type": "stream",
          "name": "stderr",
          "text": [
            "\r 96%|█████████▌| 203/211 [1:30:35<03:21, 25.21s/it]"
          ]
        },
        {
          "output_type": "stream",
          "name": "stdout",
          "text": [
            "41\n",
            "['Don’t be afraid yeah I’ll stay', 'Kick our blanket make it balloon', 'Hiding inside', 'I’ll blow all of my love to your lips', 'Love this quiet moment', 'Who would you save', 'If your best mate', 'and me are drowning', 'I’ll save my friend', 'Cause you’re like a monk seal', 'And you asked', 'I love you', 'how much can you love me', 'Emm just', 'without thousand words', 'And then i’ll say', 'I love ya I love ya', 'I love ya I love ya', 'Don’t be afraid yeah I’ll stay', 'Hide your little spot', 'with my ring finger', 'Let’s put a name', 'On each of your', 'every single hair', 'Love this quiet moment', 'Who would you save', 'if your best mate', 'and me are drowning', 'I’ll save my friend', 'cause you’re like a monk seal', 'You’re like me', 'And I’m like you', 'What you’re thinking right now', 'It’s always the same as me', 'That’s why I’m so in love', 'I love ya I love ya', 'I love ya I love ya', 'I love ya I love ya', 'I love ya I love ya', 'I love ya I love ya', 'I love ya']\n"
          ]
        },
        {
          "output_type": "stream",
          "name": "stderr",
          "text": [
            "\r 97%|█████████▋| 204/211 [1:30:57<02:47, 24.00s/it]"
          ]
        },
        {
          "output_type": "stream",
          "name": "stdout",
          "text": [
            "54\n",
            "['그때 꿈만 같았던 그 도시에서 나', '어쩌면 난 널', '잊어버려야 할지도 몰라', '널 두고 떠나온 지금에', '그 도시에서 나', '자꾸만 찾고 있어 you', '네 목소릴 듣고 싶어', '나도 그렇다 말하고 싶어', 'We were dancing through the night', 'We were walking through the night', '아무도 없던', '그 거리에서 노랠 부르고', '빛나던 네가 그 옆엔 내가', '두 손을 잡고', '이 거리를 다시 돌아보면', \"I'm in a city alone\", \"I'm in a city alone\", \"I'm in a city alone\", \"I'm in a city alone\", 'Take me back to Seattle', '그때 두렵지 않았다면', '그 어떤 말이라도', '내게 해 준다면', 'wanna hear you', '네 목소릴 듣고 싶어', '나도 그렇다 말하고 싶어', 'We were dancing through the night', 'We were walking through the night', '아무도 없던', '그 거리에서 노랠 부르고', '빛나던 네가 그 옆엔 내가', '두 손을 잡고', '이 거리를 다시 돌아보면', \"I'm in a city alone\", \"I'm in a city alone\", \"I'm in a city alone\", \"I'm in a city alone\", '네가 떠난 그 도시에 여전히 나', 'Alone alone alone alone', 'Back in through the night', 'walking through the night', '돌아가고 싶어 널 찾고 싶어', \"I'm in a city alone\", 'We were dancing through the night', 'We were walking through the night', '아무도 없던', '그 거리에서 노랠 부르고', '빛나던 네가 그 옆엔 내가', '두 손을 잡고', '이 거리를 다시 돌아보면', \"I'm in a city alone\", \"I'm in a city alone\", \"I'm in a city alone\", \"I'm in a city alone\"]\n"
          ]
        },
        {
          "output_type": "stream",
          "name": "stderr",
          "text": [
            "\r 97%|█████████▋| 205/211 [1:31:25<02:31, 25.28s/it]"
          ]
        },
        {
          "output_type": "stream",
          "name": "stdout",
          "text": [
            "239\n",
            "['은행 털어 Ay ', 'We the robbers ay', '지갑 헐어 버리고 다시 벌어 Ay', '은행 털어', 'Ay we the robbers ', '지갑 헐어 버리고 다시 벌어 ', '은행 털어 Ay ', 'We the robbers ay', '지갑 헐어 버리고 다시 벌어 Ay', '은행 털어 ', 'Ay we the robbers ', '지갑 헐어 버리고 다시 벌어 ', '(M1NU)', '은행 털어 Ok', 'I’m back', 'I’m bill stackin’ ', '넘 많아 Villains', 'We’re greatest rappers', '19 시발점은 이곳에 ', 'Let the beat 16마디 Verse', '난 돈 세느라 바빠 Mercedes', 'I’m Benz I mean 난 돈 되는 놈이라는 거지', 'Man I was livin’ in awful days ', 'Rappin’ no cap ', '이제는 웃을 일만 남았다고 ', 'Listen, new kids in your area', 'Ye ma verse kill it fire', 'Workin’ we go higher', 'Be legendary? Die young ', 'Perk it we go up ', '난 될 거야 돈을 버는 Man ', 'Twerkin’ 내 앞에서 Drop it down', '난 돈을 버는 사람 Never had a job for real', 'F*** yo mind I do for real ', '넌 말이 너무 많아 ', '생각부터 바꿔 ', 'B**** for real', 'Ye I get the bucks 전부 담아 내 가방에', 'We stole it 절대 못해 ', '너넨 나를 누가 방해해', 'Ye stay focus on me ', '시간이 됐어 다음 CHANEL BAG', 'I’m in love with the Coco', '(Veinyfl)', 'Ay I finna rob that’s my couple mission', '돈 다 박아 놔 ', 'I gotta keep a composition', 'Salf stack 허나 지켜 내 Style ', '겉 멋 빼고 보여주길 ', '1분도 못해 랩', '걸어 2 Chainz 느낌이 나 ', '머리엔 듀렉', '붐뱁 안 해도 돼 ', '이게 My new wave', '바로 찍고 달려 ', 'When I burn so I never nerve', '도망 다녀 ', '어릴 때부터 오늘까지 Sir', 'Ninja know how we comin comin', 'We slammin like ', 'We drummin', '빨리 당겨 ', 'We dummy dummy like 어리버리', '돈을 쥐고 달려가 ', '더 멀리 멀리 잡으려면 ', 'Go to the bank 하거든 ', 'Feel like I’m walk it talk it', '돈다발 필요해 ', 'My bag 샤넬 몽클레어', '생각없이 놀아 매일 ', '이것도 어렵네', 'Go besty 담어 Go besty', '한 눈 팔다 놓쳐 걔넨 f***** bad shit', '(Swervy)', 'Stop', 'I on the beat like (Ya, ya)', 'This boy sick to death 알다마다', 'Stop', 'Bro, acting like something when you not', 'Something 불쌍하잖아 ', '네 맘은 알아도', 'Don’t talk to me like I haven’t done what I did', '말이 짧을 거면 여백 비용을 ', 'Pay me ', 'I mean it', '지폐 위 청색에 뺏겨버린 양기 ', '난 미쳐버린 듯 살기 ', '내뿜고 지쳐버린 듯 하의를 ', '바꾸고 Mic를 살인', '바이크 탄 설인처럼 ', '눈 위로 Sliding', 'Put all my budget in a bag then 도망쳐 Like whee', '네가 뭔 생각하는지 알아 But jeez, child', '내가 재껴 온 시체를 봐, It’s a mile of piles', 'Yeah, it’s a mile of piles', 'Banging on they head like wow', '네 노랜 안 들어', '귀에 지폐를 꽉꽉 ', '채우고 길을 나선 다음 사냥해 돌아와', 'Rappers 가죽 갖다 팔아, 막', '아이고 좋아라', '(래원)', '친구들아', '나만 땅굴을 파고', '들어가는걸 부탁', '습도 Like 가습기 ', '가스 Like 부탄', '나만 믿어 붐뱁 Kid ', '담아 빚 다 갚아', '풀 패키지', '파란 선 Cut 금고 문이 열렸거든', '빨간 선 Cut 어머니 연락과 동시에', '타곤산 대포 실패', '발각될 찰나에 금고 문이', 'BIG Naughty는 와리가리 좌삼삼 우삼삼', '오만원짜리를 가득 담아서 후다닥', '저잣거리 은행나무를 밟아', '저작권협회 은행은 Bye Bye', '티클의 편견 깬 내 크레파스', '댓글을 봐 경계해 내가 랩 할 땐', '대가리 박아 혹은 대가리 박아', '내가 왜 먹어 데리버거', '(이영지)', '은행을 털어 ', 'Ayy we the robbers', 'Call the cops ASAP if u want huh?', 'WE LOVE NASTY, NAUGHTY BEHAVIOR', 'Join us 준비가 다 되면 담아 네 Credit ', '도덕적 관념은 다 던져버리고 ', 'Ooh I’m in love with that', 'Don’t even try to copy them', 'But always on my ground', '미필적 고의 You can’t block me', 'When we have to go?', 'Just go 다 퍼 다 나르고 ', '터지는 FLASH는 덤으로  ', '우린 그냥 해 악으로 깡으로 ', '느껴라 희열 내 랩에', '제패한 다음 또 재배', '재수없게 한 탕 크게 해먹고 ', '난 다음 바로 내 빼', '물어 봐 너는 Where you at? ', '어째 아무 소식이 없네', 'Oops I think I might be the one', '대놓고 이렇게', '온 세간의 중심이 되어도 ', 'Born to be 언제나 ', 'Villain의 태도 ', '허리 더 세우고선 굳센 투쟁', 'Cash rules everything around me', 'Cash rules everything around us', '(Lil Nekh)', '발을 굴러 맘을 훔쳐 ', '또 출동하지 경찰', '영혼까지 털어가 닉값하지 ', '네크로맨 서가', '안 해 판단 내려놔 돈', '차로 날 데려다 줘', '아 도망가 내가 널 버려놔도', '정 없는 네 맘까지 털어 더', '길바닥에 벌러덩', '적지 않게 나는 또 벌어둬', '철퍼덕 시퍼런 멍', '전화해 오늘밤 누가 일 끝나고 볼까', '걱정 마 난 패배 패배 패배 따윈 없잖아', '(D.Ark)', '일단 손에 장갑을 끼고 방탄복을 챙겨', 'AK47 쥐고 방아쇠를 당겨', '마미손처럼 복면을 쓰고 털고 재껴', '은행에 기대 현금 좀 쥐게', '삐뚤어질래 사고 좀 치게', '자란 우리 집은 종이의 집', '중국 위안 코리안 원 미국 달러', '닥치고 Run', 'Sorry police', '경찰 아저씨 누나들 미안해', '작전 수행 중이니', 'Don’t 방해 예민한 시간에', '걱정 마 Bae ', 'This is no cap', '내 랩으로 네 귀에 때려 박아 쏠게', '다른 래퍼들은 전부 내가 쫄게 ', '만들었지 돈 벌어 ', '은행 머니로 한턱 쏠게', '사 줄게 소고기 ', '네 눈엔 Cash only', '풀어줘 내 돈이 ', '만들어버린 멜로디', 'I don’t know what u see', 'See my money or it’s me?', '아 다 꺼져 몰라 ', '나는 돈만 챙기고', '재껴 Run', '(BIG Naughty)', '01 001 000011 01001', 'My name is Naughty ', 'IQ는 180 정도 아니', '뭐 어쨌든 반가워 ', '기다렸지 많이', '저 저번 달쯤 ', '나 혼자 딴짓 중', '에 갑자기 머리를 쿵 ', '하고 지나간 꿈', 'Yo 유남쌩 ', '그냥 뭐 그럴 때 있잖아', '못할게 뭐야 그냥 가면 좀 쓰고', '은행이나 털어볼까', '하다가 그러다 빡!', '내 친구들 봐 Ay ay', '너무 나빠 Ouu! Bad!', '해킹을 빡 빡!', '했더니 화면이 빡 Bling!', '뒤를 봐 조심해 네 뒤에', '인질이 탈출을 할랑 말랑해 Roger that ok', '굴려 바퀴 Ay ay 그래 왔기에', '바로 파킹 내 팀 벌어 화기애애', '틀에 박힌 생각들은 전부 쓰레받기에 ', '빠르게 랩하는 게 다가 아니지만 ', '못하는 게 아니란 걸 보여줘 악!', '은행 털어 Ay ', 'We the robbers ay', '지갑 헐어 버리고 다시 벌어 Ay', '은행 털어', 'Ay we the robbers ', '지갑 헐어 버리고 다시 벌어 ', '은행 털어 Ay ', 'We the robbers ay', '지갑 헐어 버리고 다시 벌어 Ay', '은행 털어', 'Ay we the robbers ', '지갑 헐어 버리고 다시 벌어 ', 'Oh yeah we getting guap baby', 'Oh yeah we getting cheese baby', 'Oh yeah we getting paid baby', 'Oh yeah we stacking mills baby', 'Oh yeah we getting dough baby', 'Oh yeah we getting DON baby', 'Oh yeah we getting rich baby', 'Oh yeah we stacking bills baby']\n"
          ]
        },
        {
          "output_type": "stream",
          "name": "stderr",
          "text": [
            "\r 98%|█████████▊| 206/211 [1:33:29<04:34, 54.95s/it]"
          ]
        },
        {
          "output_type": "stream",
          "name": "stdout",
          "text": [
            "62\n",
            "['너는 너무너무 예뻐', '더할 나위가 없는걸', '내가 바보 같고 부족해도', '넌 내 옆에 있어', '네가 뭘 원하는지 다 말해', '내가 해줄게', '더 시간이 지나가면 끼워 줄게', '네 왼손에 반지 YEAH', '묻지마 묻지마 묻지마', '누가 더 예쁘냐고', '알잖아 알잖아 알잖아', '알잖아 그건 그건 너', '대충 입고 나와', '넌 뭘 입어도 예쁘니까', '집 앞이야 나와', '난 이미 준비 다 했어', '우리 잘 어울린다잖아', '다들 쳐다보잖아', '같이 걸어 봐 너의 옆에', '있을 준비가 됐어', '요즘 나의 하루가 전부 너', '낮과 밤 새벽도 기다리고 있어', '잠을 자도 꿈속에 너와 있어', '넌 웃는 게 예뻐', '자꾸 너도 나를 이뻐 하네', '너 나 이미 우리', 'FALL IN LOVE YE', '혼자 였던 주말도', '이제 어디 갈지 고르고', '혼자 잠들 던 새벽도', '이제 너와 함께 잠들 수 있어', '지금 이게 들린다면', '내게 바로 전화해줄래 GIRL', '어디든 가자 내일은 쉬는 날이니', '시동 걸었어 AY 지금 바로', '대충 입고 나와', '넌 뭘 입어도 예쁘니까', '집 앞이야 나와', '난 이미 준비 다 했어', '우리 잘 어울린다잖아', '다들 쳐다보잖아', '같이 걸어 봐', '너의 옆에 있을 준비가 됐어', '천천히 나와도 돼', '보고 싶지만 재촉안해', '너를 기다리는 것 조차', '내 노래가 돼', '네가 하고 싶은 게 먹고 싶은 게', '뭔지 말해 줄래 MA BABE', '너네 집 앞이야', '나는 널 기다리고 있어 빨리', '대충 입고 나와', '넌 뭘 입어도 예쁘니까', '집 앞이야 나와', '난 이미 준비 다 했어', '우리 잘 어울린다잖아', '다들 쳐다보잖아', '같이 걸어 봐', '너의 옆에 있을 준비가 됐어', '대충 입고 나와', '대충 입고 나와', '대충 입고 나와 같이 걸어 가줄게']\n"
          ]
        },
        {
          "output_type": "stream",
          "name": "stderr",
          "text": [
            "\r 98%|█████████▊| 207/211 [1:34:01<03:11, 47.99s/it]"
          ]
        },
        {
          "output_type": "stream",
          "name": "stdout",
          "text": [
            "28\n",
            "['얼굴이 잘생긴 사람은', '늙어 가는 게 슬프겠지', '아무리 화려한 옷을 입어도', '저녁이면 벗게 되니까', '내 손에 주름이 있는 건', '길고 긴 내 인생에 훈장이고', '마음에 주름이 있는 건', '버리지 못한 욕심에 흔적', '청춘은 붉은 색도 아니고', '사랑은 핑크 빛도 아니더라', '마음에 따라서 변하는', '욕심 속 물감의 장난이지', '그게 인생인거야', '전화기 충전은 잘 하면서', '내 삶은 충전하지 못하고 사네', '마음에 여백이 없어서', '인생을 쫓기듯 그렸네', '청춘은 붉은 색도 아니고', '사랑은 핑크빛도 아니더라', '마음에 따라서 변하는', '욕심 속 물감의 장난이지', '그게 인생인거야', '전화기 충전은 잘 하면서', '내 삶은 충전하지 못하고 사네', '마음에 여백이 없어서', '인생을 쫓기듯 그렸네', '마지막 남은 나의 인생은', '아름답게 피우리라']\n"
          ]
        },
        {
          "output_type": "stream",
          "name": "stderr",
          "text": [
            "\r 99%|█████████▊| 208/211 [1:34:16<01:54, 38.04s/it]"
          ]
        },
        {
          "output_type": "stream",
          "name": "stdout",
          "text": [
            "109\n",
            "['그래서 어떻게 됐긴 어디도 안 가고', '내가 차린 회사랑 도장 찍었지', '빠른 페이스로', '개체 수 불려나가 우린', '치타보다 몇 배나 민첩한 코끼리', '헛바람 든 것처럼 보여도', '가만 내비 둬 그건 열풍을', '만들겠단 소리', '거드름 피우던 힙스터의 꿈은', '아이돌 출신이 주는 합격 목걸이', '자신감에는 근거가 넘쳐', '과다 분비되고 있어 세로토닌', '계산 잘 하고 테이크 다운 걸어', '내게 손 뻗치면 결국 KOZ', 'Z 세대 이제 내 시대로', '엔터 몇 군데는 셔터 내려', '유명세는 삽시간에 fade out', '스냅 댄스 테크토닉이 가까운 예야', '사실 이번 트랙 좀 가볍게', '풀어갈 생각이었는데', '계획이 바뀌었네', '한 음절도 허투루 쓸 수 없지', '스윽스윽 지우고 고쳐쓰기를 반복해', '아예 아예', 'Stop being a doormat', '법인 대표답게 영리해야만 해', 'Saucin saucin', 'Remaking history', '벌써 사무실로 성지순례 오지', '먹구름 깔아놔 저 무지개 위에', '가랑비로 너희들 가랑이를 적실게', '난 돈벼락 맞고', '바짝 정신 차린 케이스', '우르르 쾅쾅 마른하늘이 무너져 yeah', 'They call me 천둥벌거숭이', 'They call me 천둥벌거숭이', '겁대가리 상실한 젊은이', '절대 못 고쳐 내 버르장머리', 'They call me 천둥벌거숭이', 'They call me 천둥벌거숭이', '잘 가라 어중이떠중이', '어떤 무리에 있든 난 우두머리', 'Tupac 만큼 누가 리얼하든 감흥 없어', 'GG 치고 이제 난 이 게임을 던져', '그러니까 제발 나를 좀 내버려 둬', '통장 잔고 보며 잠시 행복해져', 'Ali처럼 날아서 나비 효과', '수퍼비처럼 맞았어 돈벼락', '이제 나는 뭣도', '신경 쓸 필요가 없다는 걸', '너네 왜 아직도 몰라', '돈 낳는 말이야 돈을 낳는 말이야', '대체 그게 무슨 말이냐 하면', '랩만 해서 잉태', '내 뱃속 안에 새 지폐', '아들은 세종대왕 딸내미는 사임당', '도대체가 그게 뭔 개소리냐고 하면', '뱃속 안에 새 지폐 내 손안으로 직행', 'I mean', 'I mean I’m way too blessed', 'I mean I’m way too blessed', 'I dk why but I’m too blessed', 'I dk why but I’m too blessed', 'I mean I’m way too blessed', 'I mean I’m way too blessed', 'I dk why but I’m too blessed', 'I dk why but I go ahead', '먹구름 깔아놔 저 무지개 위에', '가랑비로 너희들 가랑이를 적실게', '난 돈벼락 맞고', '바짝 정신 차린 케이스', '우르르 쾅쾅 마른하늘이 무너져 yeah', 'They call me 천둥벌거숭이', 'They call me 천둥벌거숭이', '겁대가리 상실한 젊은이', '절대 못 고쳐 내 버르장머리', 'They call me 천둥벌거숭이', 'They call me 천둥벌거숭이', '잘 가라 어중이떠중이', '어떤 무리에 있든 난 우두머리', '염따는 토르', '성공의 망치를 얻네', '칙칙한 내 지갑에도 쾅', '노력의 번개를 내렸네', '난 이제 위대한 사랑이 빨리', '필요해 마치 재키 재키', '사주고 싶어 오천만 원짜리', '머리통만한 반지', '그치 그치 시간은 온다고', '괜찮아 아프면 더 울어', '따거는 정답을 알어', '재키는 blessed', '재키는 blessed', '안 소중한 사람 없네', '우리는 살아야 돼', \"I'm way too flex\", '먹구름 깔아놔 저 무지개 위에', '가랑비로 너희들 가랑이를 적실게', '난 돈벼락 맞고', '바짝 정신 차린 케이스', '우르르 쾅쾅 마른하늘이 무너져 yeah', 'They call me 천둥벌거숭이', 'They call me 천둥벌거숭이', '겁대가리 상실한 젊은이', '절대 못 고쳐 내 버르장머리', 'They call me 천둥벌거숭이', 'They call me 천둥벌거숭이', '잘 가라 어중이떠중이', '어떤 무리에 있든 난 우두머리']\n"
          ]
        },
        {
          "output_type": "stream",
          "name": "stderr",
          "text": [
            "\r 99%|█████████▉| 209/211 [1:35:13<01:27, 43.77s/it]"
          ]
        },
        {
          "output_type": "stream",
          "name": "stdout",
          "text": [
            "88\n",
            "['밤이 되면 어김없이 ', '찾아오는 이 느낌이 ', '왠지 원망스러워 ', '괜히 또 전화 걸어 봐 ', '너도 나와 같은 마음일까 봐 ', '나 지금 센치해 ', '천장만 바라봐 ', '아무것도 없는 바탕에 ', '그림 그려봤자 ', '나 조금 센치해 ', '좁은 내 방 한 칸 ', '오늘따라 너무 넓어 ', '혼자 누워있기엔 ', 'Bed time story ', '불러줘 자장가 ', '잠들고 싶어도 ', '양들이 멀리 도망가 ', '창문 부딪히는 소리가', '천둥인 듯이', '무서워 오늘 밤', '종이 울려 밤 열두시', '달은 내게 인사해도', '오늘은 별로 반갑지 않아', '머릴 흔들면 어지러워', '내 곁에 아무도 없잖아', '감정은 low한데', '난 우주까지 가고파', '이 맘 누가 알아줄까', '죽고 싶어 말로만', '밤이 되면 어김없이', '찾아오는 이 느낌이', '왠지 원망스러워', '괜히 또 전화 걸어 봐', '너도 나와 같은 마음일까 봐', '나 지금 센치해', '천장만 바라봐', '아무것도 없는 바탕에', '그림 그려봤자', '나 조금 센치해', '좁은 내 방 한 칸', '오늘따라 너무 넓어', '혼자 누워있기엔', '그냥 하늘에 떠 있는 별이 되고파', '아무것도 안 해도', '스스로 빛을 내잖아', '어두워진 밤과 같이', '어두워진 마음', '외로워 위태로워', '누가 날 알아줄까', '괜히 어울리지 않는 재즈', '음악을 틀어요 레이찰스같이', '비가 나를 적시듯 ', '음악 소린 울려 퍼져', '귀에서 발끝까지', '조심해 조심해 SNS', '감성에 취해 헛소리 적지 않기', '혈기 왕성한 마음에', '전 여자친구한테 전화 않기', '밤이 되면 어김없이', '찾아오는 이 느낌이', '왠지 원망스러워', '괜히 또 전화 걸어 봐', '너도 나와 같은 마음일까 봐', '나 지금 센치해', '천장만 바라봐', '아무것도 없는 바탕에', '그림 그려봤자', '나 조금 센치해', '좁은 내 방 한 칸', '오늘따라 너무 넓어', '혼자 누워있기엔', '잡히지 않아', '이제 와 후회해도', '눈에 보이지 않아', '아무리 애를 써도', '우리는 영원히', '행복할 순 없겠지', '나 지금 센치해', '천장만 바라봐', '아무것도 없는 바탕에', '그림 그려봤자', '나 조금 센치해', '좁은 내 방 한 칸', '오늘따라 너무 넓어', '혼자 누워있기엔', '밤이 되면 어김없이', '찾아오는 이 느낌이', '왠지 원망스러워']\n"
          ]
        },
        {
          "output_type": "stream",
          "name": "stderr",
          "text": [
            "\r100%|█████████▉| 210/211 [1:36:00<00:44, 44.88s/it]"
          ]
        },
        {
          "output_type": "stream",
          "name": "stdout",
          "text": [
            "16\n",
            "['기억하나요 가슴 아픈 사연을', '내 님 오실 날을 저울질 하나요', '한참 후에야 그 마음을 알았죠', '내가 아닌 곳에 머물러 있다는 걸', '내게 올 순 없나요 사랑할 순 없었나요', '그대 헤일 수 없는 맘 나였던가요', '잊지 말아요 가슴 아픈 사랑이', '슬퍼하는 날엔 내가 서 있을게요', '내게 올 순 없나요 사랑할 순 없었나요', '그대 헤일 수 없는 맘 나였던가요', '이대로 안되나요 돌아올 길 잊었나요', '그대 헤일 수 없는 맘 나였던가요', '잊지 말아요 가슴 아픈 사랑이', '슬퍼하는 날엔 내가 서 있을게요', '잊지 말아요 가슴 아픈 사랑이', '슬퍼하는 날엔 내가 서 있을게요']\n"
          ]
        },
        {
          "output_type": "stream",
          "name": "stderr",
          "text": [
            "100%|██████████| 211/211 [1:36:09<00:00, 27.34s/it]\n"
          ]
        }
      ],
      "source": [
        "df_allsongs['Emotion'] = \" \"\n",
        "df_allsongs['Probability'] = \" \"\n",
        "df_allsongs['분노혐오'] = \" \"\n",
        "df_allsongs['놀람공포'] = \" \"\n",
        "df_allsongs['슬픔'] = \" \"\n",
        "df_allsongs['행복'] = \" \"\n",
        "\n",
        "for i in tqdm(df_allsongs.index):\n",
        "    lyrics = df_allsongs['preprocess_Lyric_ver3'].iloc[i]\n",
        "    total_array, top_pred_class, top_pred_prob = predict_sentiment_lyrics(lyrics)\n",
        "    df_allsongs['Emotion'].iloc[i] = top_pred_class \n",
        "    df_allsongs['Probability'].iloc[i] = top_pred_prob\n",
        "    df_allsongs['분노혐오'].iloc[i] = total_array[0][0]\n",
        "    df_allsongs['놀람공포'].iloc[i] = total_array[0][1]\n",
        "    df_allsongs['슬픔'].iloc[i] = total_array[0][2]\n",
        "    df_allsongs['행복'].iloc[i] = total_array[0][3]\n",
        "\n",
        "    df_allsongs.to_csv('songtagged_may29_left.csv')\n",
        "\n",
        "clear_output()"
      ]
    }
  ],
  "metadata": {
    "accelerator": "TPU",
    "colab": {
      "background_execution": "on",
      "collapsed_sections": [],
      "machine_shape": "hm",
      "name": "Lyrics_03_SentimentTagging.ipynb",
      "provenance": [],
      "mount_file_id": "1jCp4ul4t1aM0jmbl4X6kauP7yt8HBIu8",
      "authorship_tag": "ABX9TyOAJsQ+cpgUAihhbU/EmFtM",
      "include_colab_link": true
    },
    "kernelspec": {
      "display_name": "Python 3",
      "name": "python3"
    },
    "language_info": {
      "name": "python"
    },
    "widgets": {
      "application/vnd.jupyter.widget-state+json": {
        "59a7358467004c188204f4c0778a5821": {
          "model_module": "@jupyter-widgets/controls",
          "model_name": "HBoxModel",
          "model_module_version": "1.5.0",
          "state": {
            "_dom_classes": [],
            "_model_module": "@jupyter-widgets/controls",
            "_model_module_version": "1.5.0",
            "_model_name": "HBoxModel",
            "_view_count": null,
            "_view_module": "@jupyter-widgets/controls",
            "_view_module_version": "1.5.0",
            "_view_name": "HBoxView",
            "box_style": "",
            "children": [
              "IPY_MODEL_c66669e2ec3b4bb7b137b8a78e2ed38f",
              "IPY_MODEL_a5d25261a0ca46ce851a6f69e6d19cb7",
              "IPY_MODEL_58b0dda4072a4391b7b3980fef6a1b9d"
            ],
            "layout": "IPY_MODEL_57ad1d37bf984cd0b07f93c0f1397697"
          }
        },
        "c66669e2ec3b4bb7b137b8a78e2ed38f": {
          "model_module": "@jupyter-widgets/controls",
          "model_name": "HTMLModel",
          "model_module_version": "1.5.0",
          "state": {
            "_dom_classes": [],
            "_model_module": "@jupyter-widgets/controls",
            "_model_module_version": "1.5.0",
            "_model_name": "HTMLModel",
            "_view_count": null,
            "_view_module": "@jupyter-widgets/controls",
            "_view_module_version": "1.5.0",
            "_view_name": "HTMLView",
            "description": "",
            "description_tooltip": null,
            "layout": "IPY_MODEL_e00d013b478741b0a081fb38661cc2ec",
            "placeholder": "​",
            "style": "IPY_MODEL_6f51253b27d7423d97e7b534921508ca",
            "value": "Downloading: 100%"
          }
        },
        "a5d25261a0ca46ce851a6f69e6d19cb7": {
          "model_module": "@jupyter-widgets/controls",
          "model_name": "FloatProgressModel",
          "model_module_version": "1.5.0",
          "state": {
            "_dom_classes": [],
            "_model_module": "@jupyter-widgets/controls",
            "_model_module_version": "1.5.0",
            "_model_name": "FloatProgressModel",
            "_view_count": null,
            "_view_module": "@jupyter-widgets/controls",
            "_view_module_version": "1.5.0",
            "_view_name": "ProgressView",
            "bar_style": "success",
            "description": "",
            "description_tooltip": null,
            "layout": "IPY_MODEL_61e79fa6cbe34819be25fb7c56784c53",
            "max": 426,
            "min": 0,
            "orientation": "horizontal",
            "style": "IPY_MODEL_e53cd4b892e44ecf97073def7f389277",
            "value": 426
          }
        },
        "58b0dda4072a4391b7b3980fef6a1b9d": {
          "model_module": "@jupyter-widgets/controls",
          "model_name": "HTMLModel",
          "model_module_version": "1.5.0",
          "state": {
            "_dom_classes": [],
            "_model_module": "@jupyter-widgets/controls",
            "_model_module_version": "1.5.0",
            "_model_name": "HTMLModel",
            "_view_count": null,
            "_view_module": "@jupyter-widgets/controls",
            "_view_module_version": "1.5.0",
            "_view_name": "HTMLView",
            "description": "",
            "description_tooltip": null,
            "layout": "IPY_MODEL_dfcea375f6164fb38d9a271ddfe7d356",
            "placeholder": "​",
            "style": "IPY_MODEL_2d46e0c334394fb485769b8dafe2d4da",
            "value": " 426/426 [00:00&lt;00:00, 14.2kB/s]"
          }
        },
        "57ad1d37bf984cd0b07f93c0f1397697": {
          "model_module": "@jupyter-widgets/base",
          "model_name": "LayoutModel",
          "model_module_version": "1.2.0",
          "state": {
            "_model_module": "@jupyter-widgets/base",
            "_model_module_version": "1.2.0",
            "_model_name": "LayoutModel",
            "_view_count": null,
            "_view_module": "@jupyter-widgets/base",
            "_view_module_version": "1.2.0",
            "_view_name": "LayoutView",
            "align_content": null,
            "align_items": null,
            "align_self": null,
            "border": null,
            "bottom": null,
            "display": null,
            "flex": null,
            "flex_flow": null,
            "grid_area": null,
            "grid_auto_columns": null,
            "grid_auto_flow": null,
            "grid_auto_rows": null,
            "grid_column": null,
            "grid_gap": null,
            "grid_row": null,
            "grid_template_areas": null,
            "grid_template_columns": null,
            "grid_template_rows": null,
            "height": null,
            "justify_content": null,
            "justify_items": null,
            "left": null,
            "margin": null,
            "max_height": null,
            "max_width": null,
            "min_height": null,
            "min_width": null,
            "object_fit": null,
            "object_position": null,
            "order": null,
            "overflow": null,
            "overflow_x": null,
            "overflow_y": null,
            "padding": null,
            "right": null,
            "top": null,
            "visibility": null,
            "width": null
          }
        },
        "e00d013b478741b0a081fb38661cc2ec": {
          "model_module": "@jupyter-widgets/base",
          "model_name": "LayoutModel",
          "model_module_version": "1.2.0",
          "state": {
            "_model_module": "@jupyter-widgets/base",
            "_model_module_version": "1.2.0",
            "_model_name": "LayoutModel",
            "_view_count": null,
            "_view_module": "@jupyter-widgets/base",
            "_view_module_version": "1.2.0",
            "_view_name": "LayoutView",
            "align_content": null,
            "align_items": null,
            "align_self": null,
            "border": null,
            "bottom": null,
            "display": null,
            "flex": null,
            "flex_flow": null,
            "grid_area": null,
            "grid_auto_columns": null,
            "grid_auto_flow": null,
            "grid_auto_rows": null,
            "grid_column": null,
            "grid_gap": null,
            "grid_row": null,
            "grid_template_areas": null,
            "grid_template_columns": null,
            "grid_template_rows": null,
            "height": null,
            "justify_content": null,
            "justify_items": null,
            "left": null,
            "margin": null,
            "max_height": null,
            "max_width": null,
            "min_height": null,
            "min_width": null,
            "object_fit": null,
            "object_position": null,
            "order": null,
            "overflow": null,
            "overflow_x": null,
            "overflow_y": null,
            "padding": null,
            "right": null,
            "top": null,
            "visibility": null,
            "width": null
          }
        },
        "6f51253b27d7423d97e7b534921508ca": {
          "model_module": "@jupyter-widgets/controls",
          "model_name": "DescriptionStyleModel",
          "model_module_version": "1.5.0",
          "state": {
            "_model_module": "@jupyter-widgets/controls",
            "_model_module_version": "1.5.0",
            "_model_name": "DescriptionStyleModel",
            "_view_count": null,
            "_view_module": "@jupyter-widgets/base",
            "_view_module_version": "1.2.0",
            "_view_name": "StyleView",
            "description_width": ""
          }
        },
        "61e79fa6cbe34819be25fb7c56784c53": {
          "model_module": "@jupyter-widgets/base",
          "model_name": "LayoutModel",
          "model_module_version": "1.2.0",
          "state": {
            "_model_module": "@jupyter-widgets/base",
            "_model_module_version": "1.2.0",
            "_model_name": "LayoutModel",
            "_view_count": null,
            "_view_module": "@jupyter-widgets/base",
            "_view_module_version": "1.2.0",
            "_view_name": "LayoutView",
            "align_content": null,
            "align_items": null,
            "align_self": null,
            "border": null,
            "bottom": null,
            "display": null,
            "flex": null,
            "flex_flow": null,
            "grid_area": null,
            "grid_auto_columns": null,
            "grid_auto_flow": null,
            "grid_auto_rows": null,
            "grid_column": null,
            "grid_gap": null,
            "grid_row": null,
            "grid_template_areas": null,
            "grid_template_columns": null,
            "grid_template_rows": null,
            "height": null,
            "justify_content": null,
            "justify_items": null,
            "left": null,
            "margin": null,
            "max_height": null,
            "max_width": null,
            "min_height": null,
            "min_width": null,
            "object_fit": null,
            "object_position": null,
            "order": null,
            "overflow": null,
            "overflow_x": null,
            "overflow_y": null,
            "padding": null,
            "right": null,
            "top": null,
            "visibility": null,
            "width": null
          }
        },
        "e53cd4b892e44ecf97073def7f389277": {
          "model_module": "@jupyter-widgets/controls",
          "model_name": "ProgressStyleModel",
          "model_module_version": "1.5.0",
          "state": {
            "_model_module": "@jupyter-widgets/controls",
            "_model_module_version": "1.5.0",
            "_model_name": "ProgressStyleModel",
            "_view_count": null,
            "_view_module": "@jupyter-widgets/base",
            "_view_module_version": "1.2.0",
            "_view_name": "StyleView",
            "bar_color": null,
            "description_width": ""
          }
        },
        "dfcea375f6164fb38d9a271ddfe7d356": {
          "model_module": "@jupyter-widgets/base",
          "model_name": "LayoutModel",
          "model_module_version": "1.2.0",
          "state": {
            "_model_module": "@jupyter-widgets/base",
            "_model_module_version": "1.2.0",
            "_model_name": "LayoutModel",
            "_view_count": null,
            "_view_module": "@jupyter-widgets/base",
            "_view_module_version": "1.2.0",
            "_view_name": "LayoutView",
            "align_content": null,
            "align_items": null,
            "align_self": null,
            "border": null,
            "bottom": null,
            "display": null,
            "flex": null,
            "flex_flow": null,
            "grid_area": null,
            "grid_auto_columns": null,
            "grid_auto_flow": null,
            "grid_auto_rows": null,
            "grid_column": null,
            "grid_gap": null,
            "grid_row": null,
            "grid_template_areas": null,
            "grid_template_columns": null,
            "grid_template_rows": null,
            "height": null,
            "justify_content": null,
            "justify_items": null,
            "left": null,
            "margin": null,
            "max_height": null,
            "max_width": null,
            "min_height": null,
            "min_width": null,
            "object_fit": null,
            "object_position": null,
            "order": null,
            "overflow": null,
            "overflow_x": null,
            "overflow_y": null,
            "padding": null,
            "right": null,
            "top": null,
            "visibility": null,
            "width": null
          }
        },
        "2d46e0c334394fb485769b8dafe2d4da": {
          "model_module": "@jupyter-widgets/controls",
          "model_name": "DescriptionStyleModel",
          "model_module_version": "1.5.0",
          "state": {
            "_model_module": "@jupyter-widgets/controls",
            "_model_module_version": "1.5.0",
            "_model_name": "DescriptionStyleModel",
            "_view_count": null,
            "_view_module": "@jupyter-widgets/base",
            "_view_module_version": "1.2.0",
            "_view_name": "StyleView",
            "description_width": ""
          }
        },
        "96535268cad64f96a1d3c37d88907c67": {
          "model_module": "@jupyter-widgets/controls",
          "model_name": "HBoxModel",
          "model_module_version": "1.5.0",
          "state": {
            "_dom_classes": [],
            "_model_module": "@jupyter-widgets/controls",
            "_model_module_version": "1.5.0",
            "_model_name": "HBoxModel",
            "_view_count": null,
            "_view_module": "@jupyter-widgets/controls",
            "_view_module_version": "1.5.0",
            "_view_name": "HBoxView",
            "box_style": "",
            "children": [
              "IPY_MODEL_f05554d9219d413c947cf3d5dafb6194",
              "IPY_MODEL_69206d5902ba45fcbbb63043c4d40e40",
              "IPY_MODEL_b8bbcbae794b49a8b9f1a2bb7074a1d3"
            ],
            "layout": "IPY_MODEL_f58251df690f4ea8b8d545c66de26a1d"
          }
        },
        "f05554d9219d413c947cf3d5dafb6194": {
          "model_module": "@jupyter-widgets/controls",
          "model_name": "HTMLModel",
          "model_module_version": "1.5.0",
          "state": {
            "_dom_classes": [],
            "_model_module": "@jupyter-widgets/controls",
            "_model_module_version": "1.5.0",
            "_model_name": "HTMLModel",
            "_view_count": null,
            "_view_module": "@jupyter-widgets/controls",
            "_view_module_version": "1.5.0",
            "_view_name": "HTMLView",
            "description": "",
            "description_tooltip": null,
            "layout": "IPY_MODEL_655a4253a27642d5b1da73d6b07cc636",
            "placeholder": "​",
            "style": "IPY_MODEL_ac7d0b3d1b60435b9e924d6019ed3ffe",
            "value": "Downloading: 100%"
          }
        },
        "69206d5902ba45fcbbb63043c4d40e40": {
          "model_module": "@jupyter-widgets/controls",
          "model_name": "FloatProgressModel",
          "model_module_version": "1.5.0",
          "state": {
            "_dom_classes": [],
            "_model_module": "@jupyter-widgets/controls",
            "_model_module_version": "1.5.0",
            "_model_name": "FloatProgressModel",
            "_view_count": null,
            "_view_module": "@jupyter-widgets/controls",
            "_view_module_version": "1.5.0",
            "_view_name": "ProgressView",
            "bar_style": "success",
            "description": "",
            "description_tooltip": null,
            "layout": "IPY_MODEL_09ba2430c80d4f348a2f829b7065a026",
            "max": 368792146,
            "min": 0,
            "orientation": "horizontal",
            "style": "IPY_MODEL_e5b7156f64c349ba9a28238f987accf5",
            "value": 368792146
          }
        },
        "b8bbcbae794b49a8b9f1a2bb7074a1d3": {
          "model_module": "@jupyter-widgets/controls",
          "model_name": "HTMLModel",
          "model_module_version": "1.5.0",
          "state": {
            "_dom_classes": [],
            "_model_module": "@jupyter-widgets/controls",
            "_model_module_version": "1.5.0",
            "_model_name": "HTMLModel",
            "_view_count": null,
            "_view_module": "@jupyter-widgets/controls",
            "_view_module_version": "1.5.0",
            "_view_name": "HTMLView",
            "description": "",
            "description_tooltip": null,
            "layout": "IPY_MODEL_cc239b5bc0774ecea912f2fb8c645f02",
            "placeholder": "​",
            "style": "IPY_MODEL_52dc6213194a494c8d29d7b6e99c9c88",
            "value": " 369M/369M [00:06&lt;00:00, 61.0MB/s]"
          }
        },
        "f58251df690f4ea8b8d545c66de26a1d": {
          "model_module": "@jupyter-widgets/base",
          "model_name": "LayoutModel",
          "model_module_version": "1.2.0",
          "state": {
            "_model_module": "@jupyter-widgets/base",
            "_model_module_version": "1.2.0",
            "_model_name": "LayoutModel",
            "_view_count": null,
            "_view_module": "@jupyter-widgets/base",
            "_view_module_version": "1.2.0",
            "_view_name": "LayoutView",
            "align_content": null,
            "align_items": null,
            "align_self": null,
            "border": null,
            "bottom": null,
            "display": null,
            "flex": null,
            "flex_flow": null,
            "grid_area": null,
            "grid_auto_columns": null,
            "grid_auto_flow": null,
            "grid_auto_rows": null,
            "grid_column": null,
            "grid_gap": null,
            "grid_row": null,
            "grid_template_areas": null,
            "grid_template_columns": null,
            "grid_template_rows": null,
            "height": null,
            "justify_content": null,
            "justify_items": null,
            "left": null,
            "margin": null,
            "max_height": null,
            "max_width": null,
            "min_height": null,
            "min_width": null,
            "object_fit": null,
            "object_position": null,
            "order": null,
            "overflow": null,
            "overflow_x": null,
            "overflow_y": null,
            "padding": null,
            "right": null,
            "top": null,
            "visibility": null,
            "width": null
          }
        },
        "655a4253a27642d5b1da73d6b07cc636": {
          "model_module": "@jupyter-widgets/base",
          "model_name": "LayoutModel",
          "model_module_version": "1.2.0",
          "state": {
            "_model_module": "@jupyter-widgets/base",
            "_model_module_version": "1.2.0",
            "_model_name": "LayoutModel",
            "_view_count": null,
            "_view_module": "@jupyter-widgets/base",
            "_view_module_version": "1.2.0",
            "_view_name": "LayoutView",
            "align_content": null,
            "align_items": null,
            "align_self": null,
            "border": null,
            "bottom": null,
            "display": null,
            "flex": null,
            "flex_flow": null,
            "grid_area": null,
            "grid_auto_columns": null,
            "grid_auto_flow": null,
            "grid_auto_rows": null,
            "grid_column": null,
            "grid_gap": null,
            "grid_row": null,
            "grid_template_areas": null,
            "grid_template_columns": null,
            "grid_template_rows": null,
            "height": null,
            "justify_content": null,
            "justify_items": null,
            "left": null,
            "margin": null,
            "max_height": null,
            "max_width": null,
            "min_height": null,
            "min_width": null,
            "object_fit": null,
            "object_position": null,
            "order": null,
            "overflow": null,
            "overflow_x": null,
            "overflow_y": null,
            "padding": null,
            "right": null,
            "top": null,
            "visibility": null,
            "width": null
          }
        },
        "ac7d0b3d1b60435b9e924d6019ed3ffe": {
          "model_module": "@jupyter-widgets/controls",
          "model_name": "DescriptionStyleModel",
          "model_module_version": "1.5.0",
          "state": {
            "_model_module": "@jupyter-widgets/controls",
            "_model_module_version": "1.5.0",
            "_model_name": "DescriptionStyleModel",
            "_view_count": null,
            "_view_module": "@jupyter-widgets/base",
            "_view_module_version": "1.2.0",
            "_view_name": "StyleView",
            "description_width": ""
          }
        },
        "09ba2430c80d4f348a2f829b7065a026": {
          "model_module": "@jupyter-widgets/base",
          "model_name": "LayoutModel",
          "model_module_version": "1.2.0",
          "state": {
            "_model_module": "@jupyter-widgets/base",
            "_model_module_version": "1.2.0",
            "_model_name": "LayoutModel",
            "_view_count": null,
            "_view_module": "@jupyter-widgets/base",
            "_view_module_version": "1.2.0",
            "_view_name": "LayoutView",
            "align_content": null,
            "align_items": null,
            "align_self": null,
            "border": null,
            "bottom": null,
            "display": null,
            "flex": null,
            "flex_flow": null,
            "grid_area": null,
            "grid_auto_columns": null,
            "grid_auto_flow": null,
            "grid_auto_rows": null,
            "grid_column": null,
            "grid_gap": null,
            "grid_row": null,
            "grid_template_areas": null,
            "grid_template_columns": null,
            "grid_template_rows": null,
            "height": null,
            "justify_content": null,
            "justify_items": null,
            "left": null,
            "margin": null,
            "max_height": null,
            "max_width": null,
            "min_height": null,
            "min_width": null,
            "object_fit": null,
            "object_position": null,
            "order": null,
            "overflow": null,
            "overflow_x": null,
            "overflow_y": null,
            "padding": null,
            "right": null,
            "top": null,
            "visibility": null,
            "width": null
          }
        },
        "e5b7156f64c349ba9a28238f987accf5": {
          "model_module": "@jupyter-widgets/controls",
          "model_name": "ProgressStyleModel",
          "model_module_version": "1.5.0",
          "state": {
            "_model_module": "@jupyter-widgets/controls",
            "_model_module_version": "1.5.0",
            "_model_name": "ProgressStyleModel",
            "_view_count": null,
            "_view_module": "@jupyter-widgets/base",
            "_view_module_version": "1.2.0",
            "_view_name": "StyleView",
            "bar_color": null,
            "description_width": ""
          }
        },
        "cc239b5bc0774ecea912f2fb8c645f02": {
          "model_module": "@jupyter-widgets/base",
          "model_name": "LayoutModel",
          "model_module_version": "1.2.0",
          "state": {
            "_model_module": "@jupyter-widgets/base",
            "_model_module_version": "1.2.0",
            "_model_name": "LayoutModel",
            "_view_count": null,
            "_view_module": "@jupyter-widgets/base",
            "_view_module_version": "1.2.0",
            "_view_name": "LayoutView",
            "align_content": null,
            "align_items": null,
            "align_self": null,
            "border": null,
            "bottom": null,
            "display": null,
            "flex": null,
            "flex_flow": null,
            "grid_area": null,
            "grid_auto_columns": null,
            "grid_auto_flow": null,
            "grid_auto_rows": null,
            "grid_column": null,
            "grid_gap": null,
            "grid_row": null,
            "grid_template_areas": null,
            "grid_template_columns": null,
            "grid_template_rows": null,
            "height": null,
            "justify_content": null,
            "justify_items": null,
            "left": null,
            "margin": null,
            "max_height": null,
            "max_width": null,
            "min_height": null,
            "min_width": null,
            "object_fit": null,
            "object_position": null,
            "order": null,
            "overflow": null,
            "overflow_x": null,
            "overflow_y": null,
            "padding": null,
            "right": null,
            "top": null,
            "visibility": null,
            "width": null
          }
        },
        "52dc6213194a494c8d29d7b6e99c9c88": {
          "model_module": "@jupyter-widgets/controls",
          "model_name": "DescriptionStyleModel",
          "model_module_version": "1.5.0",
          "state": {
            "_model_module": "@jupyter-widgets/controls",
            "_model_module_version": "1.5.0",
            "_model_name": "DescriptionStyleModel",
            "_view_count": null,
            "_view_module": "@jupyter-widgets/base",
            "_view_module_version": "1.2.0",
            "_view_name": "StyleView",
            "description_width": ""
          }
        }
      }
    }
  },
  "nbformat": 4,
  "nbformat_minor": 0
}
