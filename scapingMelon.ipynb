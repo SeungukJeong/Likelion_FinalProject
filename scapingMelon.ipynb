{
  "cells": [
    {
      "cell_type": "markdown",
      "metadata": {
        "id": "view-in-github",
        "colab_type": "text"
      },
      "source": [
        "<a href=\"https://colab.research.google.com/github/sihyeon3523/Six_of_cells/blob/scraping/scapingMelon.ipynb\" target=\"_parent\"><img src=\"https://colab.research.google.com/assets/colab-badge.svg\" alt=\"Open In Colab\"/></a>"
      ]
    },
    {
      "cell_type": "code",
      "execution_count": null,
      "metadata": {
        "id": "ZW4xK_tn00sq"
      },
      "outputs": [],
      "source": [
        "from bs4 import BeautifulSoup \n",
        "\n",
        "from webdriver_manager.chrome import ChromeDriverManager  # 자동으로 크롬드라이버 (가상드라이버) 파일 다운로드 \n",
        "from selenium.webdriver.chrome.service import Service  # 다운로드된 크롬드라이버 파일 연결하기 위해 사용 \n",
        "\n",
        "from selenium import webdriver\n",
        "from selenium.webdriver.common.by import By\n",
        "from selenium.webdriver.common.keys import Keys\n",
        "\n",
        "import requests\n",
        "\n",
        "import numpy as np\n",
        "import pandas as pd\n",
        "import time\n",
        "import re \n",
        "\n",
        "from IPython.display import Image \n",
        "\n",
        "#Word cloud\n",
        "# from wordcloud import WordCloud\n",
        "import matplotlib.pyplot as plt\n",
        "from PIL import Image # 만약 \"No module named 'PIL'\" 에러가 발생하면 [ pip install Pillow==5.4.1 ] 로 라이브러리를 설치해줍니다.\n",
        "from nltk.corpus import stopwords \n",
        "\n",
        "import warnings\n",
        "warnings.filterwarnings(\"ignore\") # 불필요한 Warning 메시지를 꺼줍니다."
      ]
    },
    {
      "cell_type": "markdown",
      "metadata": {
        "id": "kmmW3RgH00su"
      },
      "source": [
        "하나만 테스트로 뽑아보기"
      ]
    },
    {
      "cell_type": "code",
      "execution_count": null,
      "metadata": {
        "id": "CTJCTjw300sw"
      },
      "outputs": [],
      "source": [
        "# songid = 7896508\n",
        "# url = \"https://www.melon.com/song/detail.htm?songId=\"+ str(songid)\n",
        "\n",
        "# headers = {'User-Agent':'Mozilla/5.0 (Windows NT 6.3; Win64; x64) AppleWebKit/537.36 (KHTML, like Gecko) Chrome/63.0.3239.132 Safari/537.36'}\n",
        "\n",
        "# web = requests.get(url,headers=headers).content\n",
        "# web_page = BeautifulSoup(web, 'html.parser')"
      ]
    },
    {
      "cell_type": "code",
      "execution_count": null,
      "metadata": {
        "id": "dBtvxl8i00sx"
      },
      "outputs": [],
      "source": [
        "# # 제목\n",
        "# title = web_page.find('div',{'class':'song_name'}).get_text().strip() \n",
        "# title = title.split('\\t')[-1] \n",
        "# # 가수명\n",
        "# artist = web_page.find('a',{'class':'artist_name'})['title'] \n",
        "# # 발매일, 장르\n",
        "# date_genre = web_page.find('dl',{'class':'list'}).get_text() \n",
        "# date = date_genre.split('\\n')[4] \n",
        "# genre = date_genre.split('\\n')[6] \n",
        "# #가사\n",
        "# lyric = web_page.find('div',{'class':'lyric'}).get_text().strip() \n",
        "# # get_text() 제거하면 br태그 같이 나옴\n",
        "# lyric_2 = web_page.find('div',{'class':'lyric'}) #.get_text()#.strip() \n",
        "# # get_text() 제거하면 br태그 같이 나옴\n",
        "\n",
        "# print(title, artist, date, genre)\n",
        "# print()\n",
        "# print(lyric) \n",
        "# print(type(lyric))\n",
        "# print()\n",
        "# print(lyric_2) \n",
        "# print(type(lyric_2))\n"
      ]
    },
    {
      "cell_type": "markdown",
      "metadata": {
        "id": "OCzYGUQr00sz"
      },
      "source": [
        "1-1) SongID 크롤링\n"
      ]
    },
    {
      "cell_type": "code",
      "execution_count": null,
      "metadata": {
        "id": "AmMfFnUL00sz"
      },
      "outputs": [],
      "source": [
        "# 노래 고유 번호(song id) 가져오기 \n",
        "def get_songid(gnrcode):\n",
        "    service = Service(executable_path=ChromeDriverManager().install()) \n",
        "    driver = webdriver.Chrome(service = service) \n",
        "    \n",
        "    # 노래 고유번호\n",
        "    song_id = []\n",
        "    \n",
        "    # url의 startindex 변경 -> Page 변경 (10페이지, 장르당 500곡)\n",
        "    for start_idx in range(1, 202,50): # 1,452,50\n",
        "        songlist_url = 'https://www.melon.com/genre/song_list.htm?gnrCode=' + gnrcode \\\n",
        "        + '&dtlGnrCode=#params%5BgnrCode%5D=' + gnrcode \\\n",
        "        + '&params%5BdtlGnrCode%5D=&params%5BorderBy%5D=POP&params%5BsteadyYn%5D=N&po=pageObj' \\\n",
        "        + '&startIndex=' + str(start_idx)\n",
        "\n",
        "        print(songlist_url)\n",
        "\n",
        "        driver.get(songlist_url)\n",
        "        time.sleep(3)\n",
        "        web = driver.page_source\n",
        "        source = BeautifulSoup(web,'html.parser')\n",
        "\n",
        "        # 노래 고유번호인 Songid를 추출\n",
        "        for song_info in source.find_all('div',{'class':'ellipsis rank01'}):\n",
        "            # print('크롤링 중입니다 : ', song_info.find('a')['title'][:-2])\n",
        "            id = song_info.find('a')['href']\n",
        "            id = re.findall(\"\\d+\", id)[-1]  \n",
        "            song_id.append(id)\n",
        "        print('****다음 페이지로 넘어갑니다****')\n",
        "\n",
        "    # 하나의 장르 크롤링 완료\n",
        "    print(\"---------------------------------------------------\")\n",
        "    print(\"장르 랩 크롤링 완료되었습니다\")\n",
        "\n",
        "    driver.close()\n",
        "    driver.quit()\n",
        "    \n",
        "    return song_id"
      ]
    },
    {
      "cell_type": "markdown",
      "metadata": {
        "id": "C4zmRPnE00s0"
      },
      "source": [
        "SongID로 곡 정보 가져오기"
      ]
    },
    {
      "cell_type": "code",
      "execution_count": null,
      "metadata": {
        "id": "IotqbfTO00s1"
      },
      "outputs": [],
      "source": [
        "def songid_to_info(songlist):\n",
        "    #변수 담을 리스트들 생성\n",
        "    titles = []\n",
        "    songID = []\n",
        "    artists = []\n",
        "    dates = []\n",
        "    genres = []\n",
        "    lyrics = []\n",
        "    lyrics_ver2 = [] \n",
        "\n",
        "    #곡 정보 받아오기\n",
        "    idx=0\n",
        "    for songid in songlist:\n",
        "        url = \"https://www.melon.com/song/detail.htm?songId=\"+ songid\n",
        "\n",
        "        # songID\n",
        "        songID.append(songid)\n",
        "\n",
        "\n",
        "        # print(url)\n",
        "\n",
        "        headers = {'User-Agent':'Mozilla/5.0 (Windows NT 6.3; Win64; x64) AppleWebKit/537.36 (KHTML, like Gecko) Chrome/63.0.3239.132 Safari/537.36'}\n",
        "        web = requests.get(url,headers=headers).content\n",
        "        web_page = BeautifulSoup(web, 'html.parser')\n",
        "        \n",
        "        # print(web_page)\n",
        "\n",
        "        #노래 제목 줄바꿈 제거\n",
        "        title = web_page.find('div',{'class':'song_name'}).get_text().strip().split('\\t')[-1]\n",
        "        if title:\n",
        "            #title = title.split('(')[0].strip() # (feat.) 등 제거\n",
        "            titles.append(title)\n",
        "        else:\n",
        "            titles.append(' ')\n",
        "        \n",
        "        #가수명\n",
        "        artist = web_page.find('a',{'class':'artist_name'})['title']\n",
        "        if artist:\n",
        "            artists.append(artist)\n",
        "        else:\n",
        "            artists.append(' ')\n",
        "            \n",
        "        #곡 발매일, 장르\n",
        "        date_genre = web_page.find('dl',{'class':'list'}).get_text()\n",
        "        if date_genre:\n",
        "            date = date_genre.split('\\n')[4]\n",
        "            genre = date_genre.split('\\n')[6]\n",
        "            dates.append(date)\n",
        "            genres.append(genre)\n",
        "        else:\n",
        "            dates.append(' ')\n",
        "            genres.append(' ')\n",
        "\n",
        "        #가사\n",
        "        try: \n",
        "            lyric = web_page.find('div',{'class':'lyric'}).get_text().strip()\n",
        "            if lyrics:\n",
        "                lyrics.append(lyric)\n",
        "            else:\n",
        "                lyrics.append(' ')\n",
        "        except: # 성인인증이 필요한 경우 스크래핑 불가 -> 가사 생략\n",
        "            print('----{} : 성인인증이 필요한 가사입니다----'.format(title))\n",
        "            lyrics.append(' ')\n",
        "\n",
        "        #가사 ver2\n",
        "        try: \n",
        "            lyric_2 = web_page.find('div',{'class':'lyric'}) #.get_text().strip()\n",
        "            if lyrics_ver2:\n",
        "                lyrics_ver2.append(lyric_2)\n",
        "            else:\n",
        "                lyrics_ver2.append(' ')\n",
        "        except: # 성인인증이 필요한 경우 스크래핑 불가 -> 가사 생략\n",
        "            print('----{} : 성인인증이 필요한 가사입니다----'.format(title))\n",
        "            lyrics_ver2.append(' ')\n",
        "             \n",
        "\n",
        "        idx += 1 #다음곡으로 넘어가기\n",
        "        if idx%100 ==0:\n",
        "            print(idx, '번째곡 크롤링 완료 :', title)\n",
        "\n",
        "    info_dict = {'Title':titles, \n",
        "                 'SongID': songID,\n",
        "                 'Artist':artists, \n",
        "                 'Date':dates, \n",
        "                 'Genre':genres, \n",
        "                 'Lyric':lyrics,\n",
        "                 'Lyric_ver2': lyrics_ver2}\n",
        "    print(len(titles), len(artists), len(dates), len(genres), len(lyrics), len(lyrics_ver2))\n",
        "    df_song_info = pd.DataFrame(info_dict)\n",
        "    return df_song_info"
      ]
    },
    {
      "cell_type": "markdown",
      "metadata": {
        "id": "_uWEJ0Gb00s2"
      },
      "source": [
        "# genre_name 장르명 만 변경하면 됩니다!!"
      ]
    },
    {
      "cell_type": "code",
      "execution_count": null,
      "metadata": {
        "id": "Fq2W14bM00s2"
      },
      "outputs": [],
      "source": [
        "# # 개인 크롬 path 삽입 -> 로컬 chrome driver 이용했을 경우\n",
        "# chrome_path = '/opt/homebrew/bin/chromedriver'\n",
        "\n",
        "# 맡은 장르 적어주세요 \n",
        "genre_name = '포크_블루스'"
      ]
    },
    {
      "cell_type": "code",
      "execution_count": null,
      "metadata": {
        "id": "hp83cXhZ00s2",
        "outputId": "eff1f715-5106-4ee6-914d-f05774373541"
      },
      "outputs": [
        {
          "name": "stdout",
          "output_type": "stream",
          "text": [
            "\n"
          ]
        },
        {
          "name": "stderr",
          "output_type": "stream",
          "text": [
            "[WDM] - ====== WebDriver manager ======\n",
            "[WDM] - Current google-chrome version is 102.0.5005\n",
            "[WDM] - Get LATEST chromedriver version for 102.0.5005 google-chrome\n",
            "[WDM] - Driver [/Users/seunguk/.wdm/drivers/chromedriver/mac64_m1/102.0.5005.61/chromedriver] found in cache\n"
          ]
        },
        {
          "name": "stdout",
          "output_type": "stream",
          "text": [
            "https://www.melon.com/genre/song_list.htm?gnrCode=GN0800&dtlGnrCode=#params%5BgnrCode%5D=GN0800&params%5BdtlGnrCode%5D=&params%5BorderBy%5D=POP&params%5BsteadyYn%5D=N&po=pageObj&startIndex=1\n",
            "****다음 페이지로 넘어갑니다****\n",
            "https://www.melon.com/genre/song_list.htm?gnrCode=GN0800&dtlGnrCode=#params%5BgnrCode%5D=GN0800&params%5BdtlGnrCode%5D=&params%5BorderBy%5D=POP&params%5BsteadyYn%5D=N&po=pageObj&startIndex=51\n",
            "****다음 페이지로 넘어갑니다****\n",
            "https://www.melon.com/genre/song_list.htm?gnrCode=GN0800&dtlGnrCode=#params%5BgnrCode%5D=GN0800&params%5BdtlGnrCode%5D=&params%5BorderBy%5D=POP&params%5BsteadyYn%5D=N&po=pageObj&startIndex=101\n",
            "****다음 페이지로 넘어갑니다****\n",
            "https://www.melon.com/genre/song_list.htm?gnrCode=GN0800&dtlGnrCode=#params%5BgnrCode%5D=GN0800&params%5BdtlGnrCode%5D=&params%5BorderBy%5D=POP&params%5BsteadyYn%5D=N&po=pageObj&startIndex=151\n",
            "****다음 페이지로 넘어갑니다****\n",
            "https://www.melon.com/genre/song_list.htm?gnrCode=GN0800&dtlGnrCode=#params%5BgnrCode%5D=GN0800&params%5BdtlGnrCode%5D=&params%5BorderBy%5D=POP&params%5BsteadyYn%5D=N&po=pageObj&startIndex=201\n",
            "****다음 페이지로 넘어갑니다****\n",
            "---------------------------------------------------\n",
            "장르 랩 크롤링 완료되었습니다\n"
          ]
        },
        {
          "ename": "AttributeError",
          "evalue": "'NoneType' object has no attribute 'get_text'",
          "output_type": "error",
          "traceback": [
            "\u001b[0;31m---------------------------------------------------------------------------\u001b[0m",
            "\u001b[0;31mAttributeError\u001b[0m                            Traceback (most recent call last)",
            "\u001b[1;32m/Volumes/GoogleDrive/My Drive/likelion/proj_fin_seunguk/Seunguk_(1)_scapingMelon.ipynb Cell 11'\u001b[0m in \u001b[0;36m<cell line: 9>\u001b[0;34m()\u001b[0m\n\u001b[1;32m      <a href='vscode-notebook-cell:/Volumes/GoogleDrive/My%20Drive/likelion/proj_fin_seunguk/Seunguk_%281%29_scapingMelon.ipynb#ch0000010?line=5'>6</a>\u001b[0m song_id \u001b[39m=\u001b[39m get_songid(gnr_info[genre_name])\n\u001b[1;32m      <a href='vscode-notebook-cell:/Volumes/GoogleDrive/My%20Drive/likelion/proj_fin_seunguk/Seunguk_%281%29_scapingMelon.ipynb#ch0000010?line=7'>8</a>\u001b[0m \u001b[39m# 노래 정보 가져오기 \u001b[39;00m\n\u001b[0;32m----> <a href='vscode-notebook-cell:/Volumes/GoogleDrive/My%20Drive/likelion/proj_fin_seunguk/Seunguk_%281%29_scapingMelon.ipynb#ch0000010?line=8'>9</a>\u001b[0m df_genre_songid_to_info \u001b[39m=\u001b[39m songid_to_info(song_id) \n\u001b[1;32m     <a href='vscode-notebook-cell:/Volumes/GoogleDrive/My%20Drive/likelion/proj_fin_seunguk/Seunguk_%281%29_scapingMelon.ipynb#ch0000010?line=10'>11</a>\u001b[0m \u001b[39m# 엑셀 반환 \u001b[39;00m\n\u001b[1;32m     <a href='vscode-notebook-cell:/Volumes/GoogleDrive/My%20Drive/likelion/proj_fin_seunguk/Seunguk_%281%29_scapingMelon.ipynb#ch0000010?line=11'>12</a>\u001b[0m filename \u001b[39m=\u001b[39m \u001b[39m\"\u001b[39m\u001b[39m{0}\u001b[39;00m\u001b[39m_250songs.xlsx\u001b[39m\u001b[39m\"\u001b[39m\u001b[39m.\u001b[39mformat(genre_name) \u001b[39m# 250songs\u001b[39;00m\n",
            "\u001b[1;32m/Volumes/GoogleDrive/My Drive/likelion/proj_fin_seunguk/Seunguk_(1)_scapingMelon.ipynb Cell 8'\u001b[0m in \u001b[0;36msongid_to_info\u001b[0;34m(songlist)\u001b[0m\n\u001b[1;32m     <a href='vscode-notebook-cell:/Volumes/GoogleDrive/My%20Drive/likelion/proj_fin_seunguk/Seunguk_%281%29_scapingMelon.ipynb#ch0000007?line=23'>24</a>\u001b[0m web_page \u001b[39m=\u001b[39m BeautifulSoup(web, \u001b[39m'\u001b[39m\u001b[39mhtml.parser\u001b[39m\u001b[39m'\u001b[39m)\n\u001b[1;32m     <a href='vscode-notebook-cell:/Volumes/GoogleDrive/My%20Drive/likelion/proj_fin_seunguk/Seunguk_%281%29_scapingMelon.ipynb#ch0000007?line=25'>26</a>\u001b[0m \u001b[39m# print(web_page)\u001b[39;00m\n\u001b[1;32m     <a href='vscode-notebook-cell:/Volumes/GoogleDrive/My%20Drive/likelion/proj_fin_seunguk/Seunguk_%281%29_scapingMelon.ipynb#ch0000007?line=26'>27</a>\u001b[0m \n\u001b[1;32m     <a href='vscode-notebook-cell:/Volumes/GoogleDrive/My%20Drive/likelion/proj_fin_seunguk/Seunguk_%281%29_scapingMelon.ipynb#ch0000007?line=27'>28</a>\u001b[0m \u001b[39m#노래 제목 줄바꿈 제거\u001b[39;00m\n\u001b[0;32m---> <a href='vscode-notebook-cell:/Volumes/GoogleDrive/My%20Drive/likelion/proj_fin_seunguk/Seunguk_%281%29_scapingMelon.ipynb#ch0000007?line=28'>29</a>\u001b[0m title \u001b[39m=\u001b[39m web_page\u001b[39m.\u001b[39;49mfind(\u001b[39m'\u001b[39;49m\u001b[39mdiv\u001b[39;49m\u001b[39m'\u001b[39;49m,{\u001b[39m'\u001b[39;49m\u001b[39mclass\u001b[39;49m\u001b[39m'\u001b[39;49m:\u001b[39m'\u001b[39;49m\u001b[39msong_name\u001b[39;49m\u001b[39m'\u001b[39;49m})\u001b[39m.\u001b[39;49mget_text()\u001b[39m.\u001b[39mstrip()\u001b[39m.\u001b[39msplit(\u001b[39m'\u001b[39m\u001b[39m\\t\u001b[39;00m\u001b[39m'\u001b[39m)[\u001b[39m-\u001b[39m\u001b[39m1\u001b[39m]\n\u001b[1;32m     <a href='vscode-notebook-cell:/Volumes/GoogleDrive/My%20Drive/likelion/proj_fin_seunguk/Seunguk_%281%29_scapingMelon.ipynb#ch0000007?line=29'>30</a>\u001b[0m \u001b[39mif\u001b[39;00m title:\n\u001b[1;32m     <a href='vscode-notebook-cell:/Volumes/GoogleDrive/My%20Drive/likelion/proj_fin_seunguk/Seunguk_%281%29_scapingMelon.ipynb#ch0000007?line=30'>31</a>\u001b[0m     \u001b[39m#title = title.split('(')[0].strip() # (feat.) 등 제거\u001b[39;00m\n\u001b[1;32m     <a href='vscode-notebook-cell:/Volumes/GoogleDrive/My%20Drive/likelion/proj_fin_seunguk/Seunguk_%281%29_scapingMelon.ipynb#ch0000007?line=31'>32</a>\u001b[0m     titles\u001b[39m.\u001b[39mappend(title)\n",
            "\u001b[0;31mAttributeError\u001b[0m: 'NoneType' object has no attribute 'get_text'"
          ]
        }
      ],
      "source": [
        "# 장르와 장르 id 매칭 \n",
        "gnr_info = {'발라드':'GN0100', '댄스':'GN0200', '랩_힙합':'GN0300', '알앤비_소울':'GN0400',\n",
        "           '인디음악':'GN0500', '록_메탈':'GN0600', '트로트':'GN0700','포크_블루스':'GN0800'}\n",
        "\n",
        "# song_id 가져오기 \n",
        "song_id = get_songid(gnr_info[genre_name])\n",
        "\n",
        "# 노래 정보 가져오기 \n",
        "df_genre_songid_to_info = songid_to_info(song_id) \n",
        "\n",
        "# 엑셀 반환 \n",
        "filename = \"{0}_500songs.xlsx\".format(genre_name) # 250songs\n",
        "df_genre_songid_to_info.to_excel(filename, index=False, encoding='utf-8')"
      ]
    },
    {
      "cell_type": "markdown",
      "metadata": {
        "id": "DTnG53Nw00s3"
      },
      "source": [
        "#### 엑셀 반환 \n",
        "유의점: '랩/힙합' 같이 "
      ]
    },
    {
      "cell_type": "code",
      "execution_count": null,
      "metadata": {
        "id": "7-yBORo200s3"
      },
      "outputs": [],
      "source": [
        "df_genre_songid_to_info"
      ]
    },
    {
      "cell_type": "code",
      "execution_count": null,
      "metadata": {
        "id": "4vVGR6Yu00s3"
      },
      "outputs": [],
      "source": [
        "df_genre_songid_to_info.Lyric.iloc[1]"
      ]
    },
    {
      "cell_type": "code",
      "execution_count": null,
      "metadata": {
        "id": "OPut6Ee_00s3"
      },
      "outputs": [],
      "source": [
        "df_genre_songid_to_info.Lyric_ver2.iloc[1]"
      ]
    },
    {
      "cell_type": "markdown",
      "metadata": {
        "id": "Sqrv4_0400s3"
      },
      "source": [
        "---"
      ]
    }
  ],
  "metadata": {
    "colab": {
      "name": "Seunguk_(1)_scapingMelon.ipynb",
      "provenance": [],
      "include_colab_link": true
    },
    "interpreter": {
      "hash": "766ec0f0f499bb43cc89274c2b0098b93484f36b6fb087dcfa295499c8fc9698"
    },
    "kernelspec": {
      "display_name": "Python 3.8.13 ('likelion')",
      "language": "python",
      "name": "python3"
    },
    "language_info": {
      "codemirror_mode": {
        "name": "ipython",
        "version": 3
      },
      "file_extension": ".py",
      "mimetype": "text/x-python",
      "name": "python",
      "nbconvert_exporter": "python",
      "pygments_lexer": "ipython3",
      "version": "3.8.13"
    },
    "orig_nbformat": 4
  },
  "nbformat": 4,
  "nbformat_minor": 0
}